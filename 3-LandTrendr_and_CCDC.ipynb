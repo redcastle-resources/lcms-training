{
 "cells": [
  {
   "cell_type": "code",
   "execution_count": 1,
   "id": "4414d1b0",
   "metadata": {},
   "outputs": [],
   "source": [
    "# Copyright 2023 Google LLC\n",
    "#\n",
    "# Licensed under the Apache License, Version 2.0 (the \"License\");\n",
    "# you may not use this file except in compliance with the License.\n",
    "# You may obtain a copy of the License at\n",
    "#\n",
    "#     https://www.apache.org/licenses/LICENSE-2.0\n",
    "#\n",
    "# Unless required by applicable law or agreed to in writing, software\n",
    "# distributed under the License is distributed on an \"AS IS\" BASIS,\n",
    "# WITHOUT WARRANTIES OR CONDITIONS OF ANY KIND, either express or implied.\n",
    "# See the License for the specific language governing permissions and\n",
    "# limitations under the License.\n",
    "#\n",
    "# Developed for Google LLC by RedCastle Resources Inc\n",
    "# https://www.redcastleresources.com/"
   ]
  },
  {
   "cell_type": "markdown",
   "id": "67925170",
   "metadata": {
    "id": "title:generic,gcp"
   },
   "source": [
    "# <img width=50px  src = 'https://apps.fs.usda.gov/lcms-viewer/images/lcms-icon.png'>  Lab 3: LandTrendr and CCDC \n",
    "\n",
    "<table align=\"left\">\n",
    "  <td>\n",
    "    <a href=\"https://colab.research.google.com/github/redcastle-resources/lcms-training/blob/main/3-LandTrendr_and_CCDC.ipynb\">\n",
    "      <img src=\"https://cloud.google.com/ml-engine/images/colab-logo-32px.png\" alt=\"Colab logo\"> Run in Colab\n",
    "    </a>\n",
    "  </td>\n",
    "  <td>\n",
    "    <a href=\"https://github.com/redcastle-resources/lcms-training/blob/main/3-LandTrendr_and_CCDC.ipynb\">\n",
    "      <img src=\"https://cloud.google.com/ml-engine/images/github-logo-32px.png\" alt=\"GitHub logo\">\n",
    "      View on GitHub\n",
    "    </a>\n",
    "  </td>\n",
    "  <td>\n",
    "    <a href=\"https://console.cloud.google.com/vertex-ai/workbench/deploy-notebook?download_url=https://github.com/redcastle-resources/lcms-training/blob/main/3-LandTrendr_and_CCDC.ipynb\">\n",
    "      <img src=\"https://lh3.googleusercontent.com/UiNooY4LUgW_oTvpsNhPpQzsstV5W8F7rYgxgGBD85cWJoLmrOzhVs_ksK_vgx40SHs7jCqkTkCk=e14-rj-sc0xffffff-h130-w32\" alt=\"Vertex AI logo\">\n",
    "      Open in Vertex AI Workbench\n",
    "    </a>\n",
    "  </td>\n",
    "</table>\n",
    "<br/><br/><br/>"
   ]
  },
  {
   "cell_type": "markdown",
   "id": "68117a6d",
   "metadata": {
    "id": "overview:mlops"
   },
   "source": [
    "## 3.0: Overview and Introduction\n",
    "\n",
    "### LandTrendr\n",
    "LandTrendr, short for Landsat-based detection of Trends in Disturbance and Recovery, is a temporal segmentation algorithm used for change detection as well as time-series smoothing (temporal segmentation). You can use LandTrendr outputs for stand-alone change detection or as inputs to modeling models such as the ones used by LCMS. \n",
    "\n",
    "#### Learn more about LandTrendr:\n",
    "- [LandTrendr Guide](https://emapr.github.io/LT-GEE/)\n",
    "- [LandTrendr Original Publication](https://www.sciencedirect.com/science/article/abs/pii/S0034425710002245)\n",
    "- [LandTrendr GEE Publication](https://www.mdpi.com/2072-4292/10/5/691)\n",
    "\n",
    "### CCDC\n",
    "CCDC stands for Continuous Change Detection and Classification. CCDC has a fundamentally different definition of what \"change\" is from LandTrendr. LandTrendr defines change as a change in the linear direction of the time series as depicted with a linear regression model, while CCDC defines change as a change in the seasonlity (phenology) as depicted using harmonic regression (linear regression over many different wave forms). \n",
    "\n",
    "As a result, in general, LandTrendr's depiction of change aligns with many forest-related change types such as fire, insects and disease, etc. While these types of changes often change the direction of the trajectory abruptly, they do not always change the seasonlity patterns in an abrupt manner. \n",
    "\n",
    "CCDC can be better at detecting changes that impact the phenology that LandTrendr can miss. This can be useful in urban, agricultural, and rangeland applications.\n",
    "\n",
    "#### Learn more about CCDC:\n",
    "- [Zhu and Woodock 2014: Original CCDC Publication](https://www.sciencedirect.com/science/article/abs/pii/S0034425714000248)\n",
    "- [GEE CCDC Documentation](https://developers.google.com/earth-engine/apidocs/ee-algorithms-temporalsegmentation-ccdc)\n",
    "- [Arevalo et al. 2020: A Suite of Tools for Continuous Land Change Monitoring in Google Earth Engine](https://www.frontiersin.org/articles/10.3389/fclim.2020.576740/full)\n",
    "- [Cloud-Based Remote Sensing with Google Earth Engine](https://www.eefabook.org/) Chapter 4.6: [Interpreting Time Series with CCDC](https://docs.google.com/document/d/11oo1TuvXyEvReoYLDeTcoh16rEN90I8Bf5qp0KxVu7U/edit#heading=h.s893qtc8bydw)\n",
    "\n",
    "**This notebook uses Landsat and Sentinel-2 composites, like the ones you created in the previous notebook, as inputs to the LandTrendr spectral smoothing operation.**\n",
    "\n",
    "### 3.0.1: Objective\n",
    "\n",
    "In this tutorial, you learn how to create and manipulate LandTrendr outputs.\n",
    "\n",
    "**This tutorial uses the following Google Cloud services:**\n",
    "\n",
    "- Google Earth Engine\n",
    "\n",
    "**The steps performed include:**\n",
    "\n",
    "- Create LandTrendr outputs\n",
    "- Manipulate EE array image objects to get meaningful data out of LandTrendr outputs for change detection and classification\n",
    "- Create tile mesh grid over a study area\n",
    "- Create CCDC outputs over the mesh grid\n",
    "- Manipulate EE array image objects to get meaningful data out of CCDC outputs for change detection and classification\n",
    "\n",
    "**Learning objectives include:**\n",
    "- Users will understand the purpose of temporal segmentation as implemented in LandTrendr.\n",
    "- Users will understand key parameters in LandTrendr algorithm. \n",
    "- Users will be able to generate and manipulate array outputs from LandTrendr. \n",
    "- Users will understand the purpose of temporal segmentation as implemented in CCDC.\n",
    "- Users will understand key parameters in CCDC algorithm. \n",
    "- Users will be able to generate and manipulate array outputs from CCDC. \n"
   ]
  },
  {
   "cell_type": "markdown",
   "id": "3604c17e",
   "metadata": {},
   "source": [
    "### 3.0.2: Before you begin\n",
    "\n",
    "#### If you are working in Workbench: Set your current URL under `workbench_url`\n",
    "This gives the Map Viewer a url in which to host the viewer we will be generating. \n",
    "* This will be in your URL/search bar at the top of the browser window you are currently in\n",
    "* It will look something like `https://1234567890122-dot-us-west3.notebooks.googleusercontent.com/` (See the image below)\n",
    "\n",
    "![workspace url](img/workspace-url.png)\n",
    "\n",
    "#### Optional: Set a folder to use for all exports under `export_path_root` \n",
    "**If you accessed this lab through Google Qwiklabs, do not change `export_path_root`.**\n",
    "* This folder should be an assets folder in an existing GEE project.\n",
    "* By default, this folder is the same as the 'pre-baked folder'-- a directory where the outputs have already been created. \n",
    "* If you would like to create your own outputs, specify a different path for `export_path_root`, but leave the `pre_baked_path_root` as it was. This way, the pre-baked outputs can be shown at the end, instead of waiting for all exports to finish.\n",
    "* It will be something like `projects/projectID/assets/someFolder`\n",
    "* This folder does not have to already exist. If it does not exist, it will be created"
   ]
  },
  {
   "cell_type": "code",
   "execution_count": 3,
   "id": "f53acc26",
   "metadata": {},
   "outputs": [
    {
     "name": "stdout",
     "output_type": "stream",
     "text": [
      "Done\n"
     ]
    }
   ],
   "source": [
    "workbench_url = 'https://1307eb830a12e633-dot-us-central1.notebooks.googleusercontent.com/lab/tree/lcms-training/3-LandTrendr_and_CCDC.ipynb'\n",
    "pre_baked_path_root  = 'projects/rcr-gee/assets/lcms-training'\n",
    "export_path_root = pre_baked_path_root\n",
    "print('Done')"
   ]
  },
  {
   "cell_type": "markdown",
   "id": "816ff294",
   "metadata": {},
   "source": [
    "#### Installation\n",
    "First, install necessary Python packages. Uncomment the first line to upgrade geeViz if necessary.\n",
    "\n",
    "Note that for this module, we're also importing the `geeViz.changeDetectionLib as changeDetectionLib`. We will use this library later to deploy the LandTrendr functions."
   ]
  },
  {
   "cell_type": "code",
   "execution_count": 4,
   "id": "9c90207e",
   "metadata": {},
   "outputs": [
    {
     "name": "stdout",
     "output_type": "stream",
     "text": [
      "Initializing GEE\n",
      "Not signed up for Earth Engine or project is not registered. Visit https://developers.google.com/earth-engine/guides/access\n",
      "Cached project id file path: C:\\Users\\ianho\\.config\\earthengine\\credentials.proj_id\n",
      "Cached project id: rcr-gee\n",
      "Successfully initialized\n",
      "geeViz package folder: c:\\Python311\\Lib\\site-packages\\geeViz\n",
      "SQLalchemy is not installed. No support for SQL output.\n",
      "Done\n"
     ]
    }
   ],
   "source": [
    "#Module imports\n",
    "#!python -m pip install geeViz --upgrade\n",
    "try:\n",
    "    import geeViz.getImagesLib as getImagesLib\n",
    "except:\n",
    "    !python -m pip install geeViz\n",
    "    import geeViz.getImagesLib as getImagesLib\n",
    "\n",
    "import geeViz.changeDetectionLib as changeDetectionLib\n",
    "import geeViz.assetManagerLib as aml\n",
    "import geeViz.taskManagerLib as tml\n",
    "import geeViz.gee2Pandas as g2p\n",
    "\n",
    "import inspect,os\n",
    "\n",
    "ee = getImagesLib.ee\n",
    "Map = getImagesLib.Map\n",
    "\n",
    "print('Done')"
   ]
  },
  {
   "cell_type": "markdown",
   "id": "a45d5134",
   "metadata": {
    "tags": []
   },
   "source": [
    "#### Set up your work environment\n",
    "\n",
    "Specify an image collection path where composites were exported to. In addition, create a blank image collection where your LandTrendr outputs will be exported to.\n",
    "\n",
    "Currently, when running within Colab or Workbench, geeView uses a different project to authenticate through, so you may need to make your asset public to view from within Colab.\n",
    "\n",
    "**Warning!!**\n",
    "\n",
    "* **Read-only access is provided for all authenticated GEE users for pre-baked outputs**\n",
    "* **If you are using the pre-baked output location (`export_path_root = pre_baked_path_root`), you will see errors for any operation that tries to write, delete, or change access permissions to any asset in the pre-baked output location.**\n",
    "* **This is expected and will not stop you from successfully running this notebook - ignore these error messages should they appear.**\n"
   ]
  },
  {
   "cell_type": "code",
   "execution_count": 5,
   "id": "b52a4f00",
   "metadata": {},
   "outputs": [
    {
     "name": "stdout",
     "output_type": "stream",
     "text": [
      "Found the following sub directories:  ['lcms-training', 'lcms-training_module-3_landTrendr']\n",
      "Will attempt to create them if they do not exist\n",
      "Asset projects/rcr-gee/assets/lcms-training already exists\n",
      "Asset projects/rcr-gee/assets/lcms-training/lcms-training_module-3_landTrendr already exists\n",
      "Found the following sub directories:  ['lcms-training', 'lcms-training_module-3_CCDC']\n",
      "Will attempt to create them if they do not exist\n",
      "Asset projects/rcr-gee/assets/lcms-training already exists\n",
      "Asset projects/rcr-gee/assets/lcms-training/lcms-training_module-3_CCDC already exists\n",
      "Updating permissions for:  projects/rcr-gee/assets/lcms-training/lcms-training_module-3_landTrendr\n",
      "Done\n"
     ]
    }
   ],
   "source": [
    "# Create folder and a collection and make public\n",
    "\n",
    "export_composite_collection = f'{export_path_root}/lcms-training_module-2_composites'\n",
    "export_landTrendr_collection = f'{export_path_root}/lcms-training_module-3_landTrendr'\n",
    "export_ccdc_collection = f'{export_path_root}/lcms-training_module-3_CCDC'\n",
    "\n",
    "aml.create_asset(export_landTrendr_collection,asset_type = ee.data.ASSET_TYPE_IMAGE_COLL)\n",
    "aml.create_asset(export_ccdc_collection,asset_type = ee.data.ASSET_TYPE_IMAGE_COLL)\n",
    "\n",
    "# Currently geeView within Colab uses a different project to authenticate through, so you may need to make your asset public to view from within Colab\n",
    "aml.updateACL(export_landTrendr_collection,writers = [],all_users_can_read = True,readers = [])\n",
    "\n",
    "print('Done')"
   ]
  },
  {
   "cell_type": "markdown",
   "id": "459f3db0",
   "metadata": {},
   "source": [
    "#### Set up the map \n",
    "\n",
    "Run the code block below to set up the map. If, you notice that the map is still displaying outputs from a previous lab, you may need to re-run this code block to reset the port used for the proxy URL. "
   ]
  },
  {
   "cell_type": "code",
   "execution_count": 6,
   "id": "29bbc5c1",
   "metadata": {},
   "outputs": [],
   "source": [
    "# Set up the map\n",
    "\n",
    "Map.clearMap()\n",
    "Map.port = 1233 # reset port if necessary\n",
    "Map.proxy_url = workbench_url"
   ]
  },
  {
   "cell_type": "markdown",
   "id": "ae923bf5",
   "metadata": {},
   "source": [
    "## 3.2: Change detection with LandTrendr\n",
    "\n",
    "LandTrendr is a temporal segmentation algorithm. LandTrendr works by taking a time series of annual values and fitting multiple linear regression models to recursively break the time series into segments that represent time periods with similar linear trends. The resulting segments can be used to describe change processes on the landscape. \n",
    "\n",
    "![landtrendr1](https://emapr.github.io/LT-GEE/imgs/segmentation.png)\n",
    "\n",
    "By having the duration, magnitude, slope, etc of each segment, you can more easily detect change with simple rulesets.\n",
    "\n",
    "![landtrendr2](https://emapr.github.io/LT-GEE/imgs/segment_attributes.png)\n",
    "\n",
    "For example, a short, steep decline is likely to be a fast change, like harvest or fire. A long, shallow decline is likely to be a slower change, due to insects, disease, or drought. LandTrendr can also track periods of recovery, like a long shallow incline following a harvest or fire event. \n",
    "\n",
    "**For more information on LandTrendr, read [Chapter 4.5: Interpreting Annual Time Series with LandTrendr](https://docs.google.com/document/d/11oo1TuvXyEvReoYLDeTcoh16rEN90I8Bf5qp0KxVu7U/edit#heading=h.a480u2bjy8ur) in the [Cloud-Based Remote Sensing with Google Earth Engine ebook](https://www.eefabook.org/).**\n"
   ]
  },
  {
   "cell_type": "markdown",
   "id": "76152040",
   "metadata": {},
   "source": [
    "### 3.2.1: LandTrendr bands and parameters\n",
    "\n",
    "Look at the bands included in the **actual** collection that LCMS uses for LandTrendr in Puerto Rico. Note that the path to the asset refers to the LCMS Google Cloud Project. Load the image collection and print the names of the bands. "
   ]
  },
  {
   "cell_type": "code",
   "execution_count": 5,
   "id": "8d05d98a",
   "metadata": {
    "colab": {
     "base_uri": "https://localhost:8080/"
    },
    "executionInfo": {
     "elapsed": 2097,
     "status": "ok",
     "timestamp": 1690298738442,
     "user": {
      "displayName": "Ian Housman",
      "userId": "00382093583884444463"
     },
     "user_tz": 360
    },
    "id": "0YdSMqjxuuAr",
    "outputId": "5bb7abe2-577e-4be4-8849-9e79cdf5ff94"
   },
   "outputs": [
    {
     "name": "stdout",
     "output_type": "stream",
     "text": [
      "All bands LCMS uses for LandTrendr: ['NBR', 'NDMI', 'NDSI', 'NDVI', 'blue', 'brightness', 'green', 'greenness', 'nir', 'red', 'swir1', 'swir2', 'tcAngleBG', 'wetness']\n"
     ]
    }
   ],
   "source": [
    "lcms_actual_lt_collection = ee.ImageCollection('projects/lcms-292214/assets/R8/PR_USVI/Base-Learners/LandTrendr-Collection-1984-2020')\n",
    "print('All bands LCMS uses for LandTrendr:',lcms_actual_lt_collection.aggregate_histogram('band').keys().getInfo())"
   ]
  },
  {
   "cell_type": "markdown",
   "id": "54cc90af",
   "metadata": {},
   "source": [
    "#### Composites\n",
    "For this lab, you'll \n",
    "    a) load the composites that were computed in the previous lab to \n",
    "    b) calculate fitted LandTrendr outputs that indicate the timing, duration, and magnitude of change-- among other outputs. \n",
    "\n",
    "Run the code block below. This code block will: \n",
    "* inspect the composites that you're bringing in\n",
    "* get parameters from the composites that you will use as inputs to the LandTrendr algorithm\n",
    "* calculate additional indices that you will use in LandTrendr"
   ]
  },
  {
   "cell_type": "code",
   "execution_count": 6,
   "id": "d2beffa9",
   "metadata": {
    "colab": {
     "base_uri": "https://localhost:8080/"
    },
    "executionInfo": {
     "elapsed": 2097,
     "status": "ok",
     "timestamp": 1690298738442,
     "user": {
      "displayName": "Ian Housman",
      "userId": "00382093583884444463"
     },
     "user_tz": 360
    },
    "id": "0YdSMqjxuuAr",
    "outputId": "5bb7abe2-577e-4be4-8849-9e79cdf5ff94"
   },
   "outputs": [
    {
     "name": "stdout",
     "output_type": "stream",
     "text": [
      "Done\n"
     ]
    }
   ],
   "source": [
    "# Bring in composites and pull info from them\n",
    "composites = ee.ImageCollection(export_composite_collection)\n",
    "\n",
    "props = composites.first().toDictionary().getInfo()\n",
    "\n",
    "startYear = props['startYear']\n",
    "endYear = props['endYear']\n",
    "\n",
    "startJulian = props['startJulian']\n",
    "endJulian = props['endJulian']\n",
    "\n",
    "proj = composites.first().projection().getInfo()\n",
    "\n",
    "# Pull out the crs\n",
    "# Depending on if a wkt or epsg format is used, it will be stored under a different key\n",
    "if 'crs' not in proj.keys():\n",
    "    crs = proj['wkt']\n",
    "else:\n",
    "    crs = proj['crs']\n",
    "    \n",
    "transform = proj['transform']\n",
    "scale = None\n",
    "\n",
    "studyArea = composites.first().geometry()\n",
    "\n",
    "# Decompress composites by dividing by 10000 for optical bands and add indices\n",
    "composites = composites.select(['blue','green','red','nir','swir1','swir2']).map(lambda img: img.divide(10000).float().copyProperties(img,['system:time_start']))\n",
    "composites = composites.map(getImagesLib.simpleAddIndices)\\\n",
    "                      .map(getImagesLib.getTasseledCap)\\\n",
    "                      .map(getImagesLib.simpleAddTCAngles)\n",
    "\n",
    "\n",
    "print('Done')"
   ]
  },
  {
   "cell_type": "markdown",
   "id": "d4ed422a",
   "metadata": {},
   "source": [
    "#### Inspect\n",
    "Now, inspect the composites. Run the code block below to add the composites to the map. You may need to click the button next to 'Composites' to view the layers on the map. Double-click the map to query the outputs. You should see a time series of values for each of the indices. "
   ]
  },
  {
   "cell_type": "code",
   "execution_count": 7,
   "id": "b4400155",
   "metadata": {
    "colab": {
     "base_uri": "https://localhost:8080/",
     "height": 685
    },
    "executionInfo": {
     "elapsed": 845,
     "status": "ok",
     "timestamp": 1690298747821,
     "user": {
      "displayName": "Ian Housman",
      "userId": "00382093583884444463"
     },
     "user_tz": 360
    },
    "id": "Wj7OzvDy0KKG",
    "outputId": "437170bc-1a74-4b57-9b51-956076d48b29"
   },
   "outputs": [
    {
     "name": "stdout",
     "output_type": "stream",
     "text": [
      "Adding layer: Composites\n",
      "Starting webmap\n",
      "Using default refresh token for geeView: /home/jupyter/.config/earthengine/credentials\n",
      "Local web server at: http://localhost:1234/geeView/ already serving.\n",
      "cwd /home/jupyter/lcms-training\n",
      "Workbench Proxy URL: https://1307eb830a12e633-dot-us-central1.notebooks.googleusercontent.com/proxy/1234/geeView/?accessToken=None\n"
     ]
    },
    {
     "data": {
      "text/html": [
       "\n",
       "        <iframe\n",
       "            width=\"100%\"\n",
       "            height=\"525px\"\n",
       "            src=\"https://1307eb830a12e633-dot-us-central1.notebooks.googleusercontent.com/proxy/1234/geeView/?accessToken=None\"\n",
       "            frameborder=\"0\"\n",
       "            allowfullscreen\n",
       "            \n",
       "        ></iframe>\n",
       "        "
      ],
      "text/plain": [
       "<IPython.lib.display.IFrame at 0x7f91d4c201c0>"
      ]
     },
     "metadata": {},
     "output_type": "display_data"
    }
   ],
   "source": [
    "# Run map\n",
    "Map.clearMap()\n",
    "Map.addTimeLapse(composites,getImagesLib.vizParamsFalse,'Composites')\n",
    "\n",
    "Map.centerObject(studyArea,9)\n",
    "Map.turnOnInspector()\n",
    "Map.view()"
   ]
  },
  {
   "cell_type": "markdown",
   "id": "fbfc2ed7",
   "metadata": {
    "tags": []
   },
   "source": [
    "### 3.2.3: Input bands and band indices\n",
    "\n",
    "We can use any or all of the bands in the composites for LandTrendr, but generally bands or band indices that use the NIR and SWIR portions of the electromagnetic spectrum (sensitive to moisture and photosynthetic chlorophyll) are the most useful. To start, we will be running LandTrendr on only band index: NBR.\n",
    "\n",
    "#### LandTrendr parameters\n",
    "The input parameters for the LandTrendr algorithm are described below. \n",
    "\n",
    "| Argument               | Type                    | Details                                                                                                                                                           |\n",
    "|------------------------|-------------------------|-------------------------------------------------------------------------------------------------------------------------------------------------------------------|\n",
    "| timeSeries             | ImageCollection         | Yearly time-series from which to extract breakpoints. The first band is usedto find breakpoints, and all subsequent bands are fitted using those breakpoints.     |\n",
    "| maxSegments            | Integer                 | Maximum number of segments to be fitted on the time series.                                                                                                       |\n",
    "| spikeThreshold         | Float, default: 0.9     | Threshold for dampening the spikes (1.0 means no dampening).                                                                                                      |\n",
    "| vertexCountOvershoot   | Integer, default: 3     | The initial model can overshoot the maxSegments + 1 vertices by this amount. Later, it will be pruned down to maxSegments + 1.                                    |\n",
    "| preventOneYearRecovery | Boolean, default: False | Prevent segments that represent one year recoveries.                                                                                                              |\n",
    "| recoveryThreshold      | Float, default: 0.25    | If a segment has a recovery rate faster than 1/recoveryThreshold (in years), then the segment is disallowed.                                                      |\n",
    "| pvalThreshold          | Float, default: 0.1     | If the p-value of the fitted model exceeds this threshold, then the current model is discarded and another one is fitted using the Levenberg-Marquardt optimizer. |\n",
    "| bestModelProportion    | Float, default: 0.75    | Allows models with more vertices to be chosen if their p-value is no more than (2 - bestModelProportion) times the p-value of the best model.                     |\n",
    "| minObservationsNeeded  | Integer, default: 6     | Min observations needed to perform output fitting.                                                                                                                |\n",
    "\n",
    "##### Parameter values\n",
    "LCMS generally uses the default parameters for the GEE implementation of LandTrendr. Refer to the parameter values in the **GEE** column below. The table below is reproduced from [Kennedy et al. 2018](https://www.mdpi.com/2072-4292/10/5/691), which developed the GEE implementation of LandTrendr from the original IDL version. \n",
    "\n",
    "|       Parameter       |  IDL |   GEE   |                                                                                                        Comments                                                                                                       |\n",
    "|:---------------------:|:----:|:-------:|:---------------------------------------------------------------------------------------------------------------------------------------------------------------------------------------------------------------------:|\n",
    "|      maxSegments      |   6  |    6    |                                                                                                                                                                                                                       |\n",
    "|     spikeThreshold    |  0.9 |   0.9   | Renamed from “desawtooth val”                                                                                                                                                                                         |\n",
    "|  vertexCountOvershoot |   3  |    3    |                                                                                                                                                                                                                       |\n",
    "|   recoveryThreshold   | 0.25 |   0.25  |                                                                                                                                                                                                                       |\n",
    "|     pvalThreshold     | 0.05 |   0.05  |                                                                                                                                                                                                                       |\n",
    "|  bestModelProportion  | 0.75 |   0.75  |                                                                                                                                                                                                                       |\n",
    "| minObservationsNeeded |   6  |    6    | Renamed from “minneeded”                                                                                                                                                                                              |\n",
    "|     Background_val    |   0  |    NA   | GEE uses a mask logic to avoid missing values caused by clouds, shadows, and missing imagery.                                                                                                                         |\n",
    "|        Divisor        |  −1  |    NA   | Ensures that vegetation loss disturbance results in negative change in value when NBR is used as a spectral metric. In GEE, this must be handled outside of the segmentation algorithm.                               |\n",
    "|       Kernelsize      |   1  | Dropped | Originally used together with skipfactor to save computational burden; no longer necessary.                                                                                                                           |\n",
    "|       Skipfactor      |   1  | Dropped |                                                                                                                                                                                                                       |\n",
    "|    Distweightfactor   |   2  | Dropped | Inadvertently hardwired in the IDL code, this parameter was hardwired in the GEE code to the value of 2.                                                                                                              |\n",
    "|     Fix_doy_effect    |   1  | Dropped | Although correcting day-of-year trends was considered theoretically useful in the original LT implementation, in practice it has been found to distort time series values when change occurs and thus was eliminated. |"
   ]
  },
  {
   "cell_type": "markdown",
   "id": "0b6b2acc",
   "metadata": {
    "tags": []
   },
   "source": [
    "**Run the code block below to set the parameters.**"
   ]
  },
  {
   "cell_type": "code",
   "execution_count": 8,
   "id": "942342f3",
   "metadata": {
    "colab": {
     "base_uri": "https://localhost:8080/"
    },
    "executionInfo": {
     "elapsed": 2097,
     "status": "ok",
     "timestamp": 1690298738442,
     "user": {
      "displayName": "Ian Housman",
      "userId": "00382093583884444463"
     },
     "user_tz": 360
    },
    "id": "0YdSMqjxuuAr",
    "outputId": "5bb7abe2-577e-4be4-8849-9e79cdf5ff94"
   },
   "outputs": [
    {
     "name": "stdout",
     "output_type": "stream",
     "text": [
      "Done\n"
     ]
    }
   ],
   "source": [
    "#Define landtrendr params\n",
    "run_params = { \n",
    "  'maxSegments':            6,\n",
    "  'spikeThreshold':         0.9,\n",
    "  'vertexCountOvershoot':   3,\n",
    "  'preventOneYearRecovery': False,\n",
    "  'recoveryThreshold':      0.25,\n",
    "  'pvalThreshold':          0.05,\n",
    "  'bestModelProportion':    0.75,\n",
    "  'minObservationsNeeded':  6\n",
    "}\n",
    "\n",
    "print('Done')"
   ]
  },
  {
   "cell_type": "markdown",
   "id": "36eef76c",
   "metadata": {},
   "source": [
    "### 3.2.4: Run LandTrendr - single index\n",
    "You will start by running LandTrendr on a single index in order to familiarize yourself with the process and the outputs. \n",
    "\n",
    "You will run LandTrendr using [Normalized Burn Ratio](https://www.usgs.gov/landsat-missions/landsat-normalized-burn-ratio) (NBR).  NBR is a normalized ratio between the NIR and SWIR bands, and is sensitive to changes in moisture and vegetation cover. This will allow you to inspect changes on the landscape without requiring the computation time necessary for all of the bands and band indices in our composite.\n",
    "\n"
   ]
  },
  {
   "cell_type": "code",
   "execution_count": 24,
   "id": "a5e31a92",
   "metadata": {},
   "outputs": [
    {
     "name": "stdout",
     "output_type": "stream",
     "text": [
      "Adding layer: LT Raw NBR\n",
      "Starting webmap\n",
      "Using default refresh token for geeView: /home/jupyter/.config/earthengine/credentials\n",
      "Local web server at: http://localhost:1234/geeView/ already serving.\n",
      "cwd /home/jupyter/lcms-training\n",
      "Workbench Proxy URL: https://1307eb830a12e633-dot-us-central1.notebooks.googleusercontent.com/proxy/1234/geeView/?accessToken=None\n"
     ]
    },
    {
     "data": {
      "text/html": [
       "\n",
       "        <iframe\n",
       "            width=\"100%\"\n",
       "            height=\"525px\"\n",
       "            src=\"https://1307eb830a12e633-dot-us-central1.notebooks.googleusercontent.com/proxy/1234/geeView/?accessToken=None\"\n",
       "            frameborder=\"0\"\n",
       "            allowfullscreen\n",
       "            \n",
       "        ></iframe>\n",
       "        "
      ],
      "text/plain": [
       "<IPython.lib.display.IFrame at 0x7f91d4c0dcc0>"
      ]
     },
     "metadata": {},
     "output_type": "display_data"
    }
   ],
   "source": [
    "# clear map\n",
    "Map.clearMap()\n",
    "\n",
    "# set up LandTrendr\n",
    "test_band = 'NBR'\n",
    "run_params['timeSeries'] = composites.select([test_band])\n",
    "raw_LT = ee.Algorithms.TemporalSegmentation.LandTrendr(**run_params)\n",
    "\n",
    "# Add to Map\n",
    "Map.addLayer(raw_LT,{},'LT Raw {}'.format(test_band),True)\n",
    "\n",
    "Map.turnOnInspector()\n",
    "Map.view()"
   ]
  },
  {
   "cell_type": "markdown",
   "id": "c4d8b340",
   "metadata": {},
   "source": [
    "Double click on the output on the map to query it. \n",
    "\n",
    "Notice that this output is not immediately useful for change detection, or smoothing out a time series of composites. The default output is in array format, and has to be processed more in order for us to apply meaningful symbology on the map.\n"
   ]
  },
  {
   "cell_type": "markdown",
   "id": "ffe8767d",
   "metadata": {},
   "source": [
    "#### Use LandTrendr for Change Detection\n",
    "Using the outputs you just generated, you will now go through each step to take the raw LandTrendr output and create a basic change detection output.\n",
    "\n",
    "At each step, you will view the results at a single pixel in order to inspect the changes on the array of outputs that you are manipulating. \n",
    "\n",
    "#### Inspect raw LandTrendr outputs\n",
    "\n",
    "Run the code block below to inspect the raw LandTrendr outputs."
   ]
  },
  {
   "cell_type": "code",
   "execution_count": 25,
   "id": "f97b26db",
   "metadata": {},
   "outputs": [
    {
     "data": {
      "text/html": [
       "<style type=\"text/css\">\n",
       "#T_38cc2 caption {\n",
       "  text-align: left;\n",
       "  font-size: 150%;\n",
       "  font-weight: bold;\n",
       "}\n",
       "</style>\n",
       "<table id=\"T_38cc2\">\n",
       "  <caption>Raw LandTrendr Output - Single Pixel</caption>\n",
       "  <thead>\n",
       "    <tr>\n",
       "      <th class=\"blank level0\" >&nbsp;</th>\n",
       "      <th id=\"T_38cc2_level0_col0\" class=\"col_heading level0 col0\" >0</th>\n",
       "      <th id=\"T_38cc2_level0_col1\" class=\"col_heading level0 col1\" >1</th>\n",
       "      <th id=\"T_38cc2_level0_col2\" class=\"col_heading level0 col2\" >2</th>\n",
       "      <th id=\"T_38cc2_level0_col3\" class=\"col_heading level0 col3\" >3</th>\n",
       "      <th id=\"T_38cc2_level0_col4\" class=\"col_heading level0 col4\" >4</th>\n",
       "      <th id=\"T_38cc2_level0_col5\" class=\"col_heading level0 col5\" >5</th>\n",
       "      <th id=\"T_38cc2_level0_col6\" class=\"col_heading level0 col6\" >6</th>\n",
       "      <th id=\"T_38cc2_level0_col7\" class=\"col_heading level0 col7\" >7</th>\n",
       "      <th id=\"T_38cc2_level0_col8\" class=\"col_heading level0 col8\" >8</th>\n",
       "      <th id=\"T_38cc2_level0_col9\" class=\"col_heading level0 col9\" >9</th>\n",
       "      <th id=\"T_38cc2_level0_col10\" class=\"col_heading level0 col10\" >10</th>\n",
       "      <th id=\"T_38cc2_level0_col11\" class=\"col_heading level0 col11\" >11</th>\n",
       "      <th id=\"T_38cc2_level0_col12\" class=\"col_heading level0 col12\" >12</th>\n",
       "      <th id=\"T_38cc2_level0_col13\" class=\"col_heading level0 col13\" >13</th>\n",
       "      <th id=\"T_38cc2_level0_col14\" class=\"col_heading level0 col14\" >14</th>\n",
       "      <th id=\"T_38cc2_level0_col15\" class=\"col_heading level0 col15\" >15</th>\n",
       "      <th id=\"T_38cc2_level0_col16\" class=\"col_heading level0 col16\" >16</th>\n",
       "      <th id=\"T_38cc2_level0_col17\" class=\"col_heading level0 col17\" >17</th>\n",
       "      <th id=\"T_38cc2_level0_col18\" class=\"col_heading level0 col18\" >18</th>\n",
       "      <th id=\"T_38cc2_level0_col19\" class=\"col_heading level0 col19\" >19</th>\n",
       "      <th id=\"T_38cc2_level0_col20\" class=\"col_heading level0 col20\" >20</th>\n",
       "      <th id=\"T_38cc2_level0_col21\" class=\"col_heading level0 col21\" >21</th>\n",
       "      <th id=\"T_38cc2_level0_col22\" class=\"col_heading level0 col22\" >22</th>\n",
       "      <th id=\"T_38cc2_level0_col23\" class=\"col_heading level0 col23\" >23</th>\n",
       "      <th id=\"T_38cc2_level0_col24\" class=\"col_heading level0 col24\" >24</th>\n",
       "      <th id=\"T_38cc2_level0_col25\" class=\"col_heading level0 col25\" >25</th>\n",
       "    </tr>\n",
       "  </thead>\n",
       "  <tbody>\n",
       "    <tr>\n",
       "      <th id=\"T_38cc2_level0_row0\" class=\"row_heading level0 row0\" >Years</th>\n",
       "      <td id=\"T_38cc2_row0_col0\" class=\"data row0 col0\" >1984.000000</td>\n",
       "      <td id=\"T_38cc2_row0_col1\" class=\"data row0 col1\" >1985.000000</td>\n",
       "      <td id=\"T_38cc2_row0_col2\" class=\"data row0 col2\" >1986.000000</td>\n",
       "      <td id=\"T_38cc2_row0_col3\" class=\"data row0 col3\" >1987.000000</td>\n",
       "      <td id=\"T_38cc2_row0_col4\" class=\"data row0 col4\" >1988.000000</td>\n",
       "      <td id=\"T_38cc2_row0_col5\" class=\"data row0 col5\" >1989.000000</td>\n",
       "      <td id=\"T_38cc2_row0_col6\" class=\"data row0 col6\" >1990.000000</td>\n",
       "      <td id=\"T_38cc2_row0_col7\" class=\"data row0 col7\" >1992.000000</td>\n",
       "      <td id=\"T_38cc2_row0_col8\" class=\"data row0 col8\" >1999.000000</td>\n",
       "      <td id=\"T_38cc2_row0_col9\" class=\"data row0 col9\" >2000.000000</td>\n",
       "      <td id=\"T_38cc2_row0_col10\" class=\"data row0 col10\" >2002.000000</td>\n",
       "      <td id=\"T_38cc2_row0_col11\" class=\"data row0 col11\" >2003.000000</td>\n",
       "      <td id=\"T_38cc2_row0_col12\" class=\"data row0 col12\" >2006.000000</td>\n",
       "      <td id=\"T_38cc2_row0_col13\" class=\"data row0 col13\" >2009.000000</td>\n",
       "      <td id=\"T_38cc2_row0_col14\" class=\"data row0 col14\" >2010.000000</td>\n",
       "      <td id=\"T_38cc2_row0_col15\" class=\"data row0 col15\" >2012.000000</td>\n",
       "      <td id=\"T_38cc2_row0_col16\" class=\"data row0 col16\" >2013.000000</td>\n",
       "      <td id=\"T_38cc2_row0_col17\" class=\"data row0 col17\" >2014.000000</td>\n",
       "      <td id=\"T_38cc2_row0_col18\" class=\"data row0 col18\" >2015.000000</td>\n",
       "      <td id=\"T_38cc2_row0_col19\" class=\"data row0 col19\" >2016.000000</td>\n",
       "      <td id=\"T_38cc2_row0_col20\" class=\"data row0 col20\" >2017.000000</td>\n",
       "      <td id=\"T_38cc2_row0_col21\" class=\"data row0 col21\" >2018.000000</td>\n",
       "      <td id=\"T_38cc2_row0_col22\" class=\"data row0 col22\" >2019.000000</td>\n",
       "      <td id=\"T_38cc2_row0_col23\" class=\"data row0 col23\" >2020.000000</td>\n",
       "      <td id=\"T_38cc2_row0_col24\" class=\"data row0 col24\" >2021.000000</td>\n",
       "      <td id=\"T_38cc2_row0_col25\" class=\"data row0 col25\" >2022.000000</td>\n",
       "    </tr>\n",
       "    <tr>\n",
       "      <th id=\"T_38cc2_level0_row1\" class=\"row_heading level0 row1\" >Raw Input Values</th>\n",
       "      <td id=\"T_38cc2_row1_col0\" class=\"data row1 col0\" >0.732861</td>\n",
       "      <td id=\"T_38cc2_row1_col1\" class=\"data row1 col1\" >0.567021</td>\n",
       "      <td id=\"T_38cc2_row1_col2\" class=\"data row1 col2\" >0.772094</td>\n",
       "      <td id=\"T_38cc2_row1_col3\" class=\"data row1 col3\" >0.716129</td>\n",
       "      <td id=\"T_38cc2_row1_col4\" class=\"data row1 col4\" >0.765138</td>\n",
       "      <td id=\"T_38cc2_row1_col5\" class=\"data row1 col5\" >0.656260</td>\n",
       "      <td id=\"T_38cc2_row1_col6\" class=\"data row1 col6\" >0.674274</td>\n",
       "      <td id=\"T_38cc2_row1_col7\" class=\"data row1 col7\" >0.714593</td>\n",
       "      <td id=\"T_38cc2_row1_col8\" class=\"data row1 col8\" >0.100228</td>\n",
       "      <td id=\"T_38cc2_row1_col9\" class=\"data row1 col9\" >0.086324</td>\n",
       "      <td id=\"T_38cc2_row1_col10\" class=\"data row1 col10\" >0.098278</td>\n",
       "      <td id=\"T_38cc2_row1_col11\" class=\"data row1 col11\" >0.035483</td>\n",
       "      <td id=\"T_38cc2_row1_col12\" class=\"data row1 col12\" >0.148884</td>\n",
       "      <td id=\"T_38cc2_row1_col13\" class=\"data row1 col13\" >0.076102</td>\n",
       "      <td id=\"T_38cc2_row1_col14\" class=\"data row1 col14\" >0.068394</td>\n",
       "      <td id=\"T_38cc2_row1_col15\" class=\"data row1 col15\" >0.125019</td>\n",
       "      <td id=\"T_38cc2_row1_col16\" class=\"data row1 col16\" >0.277041</td>\n",
       "      <td id=\"T_38cc2_row1_col17\" class=\"data row1 col17\" >0.380944</td>\n",
       "      <td id=\"T_38cc2_row1_col18\" class=\"data row1 col18\" >0.452543</td>\n",
       "      <td id=\"T_38cc2_row1_col19\" class=\"data row1 col19\" >0.547757</td>\n",
       "      <td id=\"T_38cc2_row1_col20\" class=\"data row1 col20\" >0.615267</td>\n",
       "      <td id=\"T_38cc2_row1_col21\" class=\"data row1 col21\" >0.552308</td>\n",
       "      <td id=\"T_38cc2_row1_col22\" class=\"data row1 col22\" >0.558119</td>\n",
       "      <td id=\"T_38cc2_row1_col23\" class=\"data row1 col23\" >0.336950</td>\n",
       "      <td id=\"T_38cc2_row1_col24\" class=\"data row1 col24\" >0.426205</td>\n",
       "      <td id=\"T_38cc2_row1_col25\" class=\"data row1 col25\" >0.430944</td>\n",
       "    </tr>\n",
       "    <tr>\n",
       "      <th id=\"T_38cc2_level0_row2\" class=\"row_heading level0 row2\" >Fitted Output Values</th>\n",
       "      <td id=\"T_38cc2_row2_col0\" class=\"data row2 col0\" >0.759414</td>\n",
       "      <td id=\"T_38cc2_row2_col1\" class=\"data row2 col1\" >0.730053</td>\n",
       "      <td id=\"T_38cc2_row2_col2\" class=\"data row2 col2\" >0.700691</td>\n",
       "      <td id=\"T_38cc2_row2_col3\" class=\"data row2 col3\" >0.671330</td>\n",
       "      <td id=\"T_38cc2_row2_col4\" class=\"data row2 col4\" >0.641969</td>\n",
       "      <td id=\"T_38cc2_row2_col5\" class=\"data row2 col5\" >0.612607</td>\n",
       "      <td id=\"T_38cc2_row2_col6\" class=\"data row2 col6\" >0.583246</td>\n",
       "      <td id=\"T_38cc2_row2_col7\" class=\"data row2 col7\" >0.524523</td>\n",
       "      <td id=\"T_38cc2_row2_col8\" class=\"data row2 col8\" >0.318994</td>\n",
       "      <td id=\"T_38cc2_row2_col9\" class=\"data row2 col9\" >0.289633</td>\n",
       "      <td id=\"T_38cc2_row2_col10\" class=\"data row2 col10\" >0.230910</td>\n",
       "      <td id=\"T_38cc2_row2_col11\" class=\"data row2 col11\" >0.201549</td>\n",
       "      <td id=\"T_38cc2_row2_col12\" class=\"data row2 col12\" >0.113465</td>\n",
       "      <td id=\"T_38cc2_row2_col13\" class=\"data row2 col13\" >0.025381</td>\n",
       "      <td id=\"T_38cc2_row2_col14\" class=\"data row2 col14\" >-0.003980</td>\n",
       "      <td id=\"T_38cc2_row2_col15\" class=\"data row2 col15\" >-0.062703</td>\n",
       "      <td id=\"T_38cc2_row2_col16\" class=\"data row2 col16\" >0.111118</td>\n",
       "      <td id=\"T_38cc2_row2_col17\" class=\"data row2 col17\" >0.284938</td>\n",
       "      <td id=\"T_38cc2_row2_col18\" class=\"data row2 col18\" >0.458759</td>\n",
       "      <td id=\"T_38cc2_row2_col19\" class=\"data row2 col19\" >0.632580</td>\n",
       "      <td id=\"T_38cc2_row2_col20\" class=\"data row2 col20\" >0.589873</td>\n",
       "      <td id=\"T_38cc2_row2_col21\" class=\"data row2 col21\" >0.547167</td>\n",
       "      <td id=\"T_38cc2_row2_col22\" class=\"data row2 col22\" >0.504460</td>\n",
       "      <td id=\"T_38cc2_row2_col23\" class=\"data row2 col23\" >0.461754</td>\n",
       "      <td id=\"T_38cc2_row2_col24\" class=\"data row2 col24\" >0.419048</td>\n",
       "      <td id=\"T_38cc2_row2_col25\" class=\"data row2 col25\" >0.376341</td>\n",
       "    </tr>\n",
       "    <tr>\n",
       "      <th id=\"T_38cc2_level0_row3\" class=\"row_heading level0 row3\" >Vertex/non-vertex</th>\n",
       "      <td id=\"T_38cc2_row3_col0\" class=\"data row3 col0\" >1.000000</td>\n",
       "      <td id=\"T_38cc2_row3_col1\" class=\"data row3 col1\" >0.000000</td>\n",
       "      <td id=\"T_38cc2_row3_col2\" class=\"data row3 col2\" >0.000000</td>\n",
       "      <td id=\"T_38cc2_row3_col3\" class=\"data row3 col3\" >0.000000</td>\n",
       "      <td id=\"T_38cc2_row3_col4\" class=\"data row3 col4\" >0.000000</td>\n",
       "      <td id=\"T_38cc2_row3_col5\" class=\"data row3 col5\" >0.000000</td>\n",
       "      <td id=\"T_38cc2_row3_col6\" class=\"data row3 col6\" >0.000000</td>\n",
       "      <td id=\"T_38cc2_row3_col7\" class=\"data row3 col7\" >0.000000</td>\n",
       "      <td id=\"T_38cc2_row3_col8\" class=\"data row3 col8\" >0.000000</td>\n",
       "      <td id=\"T_38cc2_row3_col9\" class=\"data row3 col9\" >0.000000</td>\n",
       "      <td id=\"T_38cc2_row3_col10\" class=\"data row3 col10\" >0.000000</td>\n",
       "      <td id=\"T_38cc2_row3_col11\" class=\"data row3 col11\" >0.000000</td>\n",
       "      <td id=\"T_38cc2_row3_col12\" class=\"data row3 col12\" >0.000000</td>\n",
       "      <td id=\"T_38cc2_row3_col13\" class=\"data row3 col13\" >0.000000</td>\n",
       "      <td id=\"T_38cc2_row3_col14\" class=\"data row3 col14\" >0.000000</td>\n",
       "      <td id=\"T_38cc2_row3_col15\" class=\"data row3 col15\" >1.000000</td>\n",
       "      <td id=\"T_38cc2_row3_col16\" class=\"data row3 col16\" >0.000000</td>\n",
       "      <td id=\"T_38cc2_row3_col17\" class=\"data row3 col17\" >0.000000</td>\n",
       "      <td id=\"T_38cc2_row3_col18\" class=\"data row3 col18\" >0.000000</td>\n",
       "      <td id=\"T_38cc2_row3_col19\" class=\"data row3 col19\" >1.000000</td>\n",
       "      <td id=\"T_38cc2_row3_col20\" class=\"data row3 col20\" >0.000000</td>\n",
       "      <td id=\"T_38cc2_row3_col21\" class=\"data row3 col21\" >0.000000</td>\n",
       "      <td id=\"T_38cc2_row3_col22\" class=\"data row3 col22\" >0.000000</td>\n",
       "      <td id=\"T_38cc2_row3_col23\" class=\"data row3 col23\" >0.000000</td>\n",
       "      <td id=\"T_38cc2_row3_col24\" class=\"data row3 col24\" >0.000000</td>\n",
       "      <td id=\"T_38cc2_row3_col25\" class=\"data row3 col25\" >1.000000</td>\n",
       "    </tr>\n",
       "  </tbody>\n",
       "</table>\n"
      ],
      "text/plain": [
       "<pandas.io.formats.style.Styler at 0x7f91d4957ee0>"
      ]
     },
     "metadata": {},
     "output_type": "display_data"
    }
   ],
   "source": [
    "# Provide an example location \n",
    "pt = ee.Geometry.Point([ -65.944 , 18.404])\n",
    "\n",
    "# First, select the LandTrendr image array output band\n",
    "lt_array = raw_LT.select(['LandTrendr'])\n",
    "\n",
    "# Display output\n",
    "display(g2p.imageArrayPixelToDataFrame(lt_array, pt,None,crs,transform, 'Raw LandTrendr Output - Single Pixel',\\\n",
    "                                       ['Years','Raw Input Values','Fitted Output Values','Vertex/non-vertex']))"
   ]
  },
  {
   "cell_type": "markdown",
   "id": "7fb52fee",
   "metadata": {},
   "source": [
    "This is the raw output from the LandTrendr algorithm. The array has 2 dimensions per pixel.\n",
    "\n",
    "The rows correspond to:\n",
    "- Years\n",
    "- Raw input spectral values\n",
    "- LandTrendr fitted output values\n",
    "- Whether or not that year represents a vertex\n",
    "\n",
    "From this output, you can begin to understand the format of the outputs, why they aren't immediately interpretable on a map, and how you might begin to manipulate them into more meaningulf formats. \n",
    "\n",
    "## 3.3: Process LandTrendr outputs and Run on all bands\n",
    "\n",
    "### 3.3.1: Array manipulation: Extract the vertices\n",
    "\n",
    "The first step is to extract the vertices from the array. We only need the vertices at a pixel in order to track change-- we don't need the values for the interceding years.\n",
    "\n",
    "Run the code block below to extract the vertices. You slice the array to extract the row indicating the vertices and use them as a mask to mask out non vertex values in the entire array."
   ]
  },
  {
   "cell_type": "code",
   "execution_count": 26,
   "id": "0768debd",
   "metadata": {},
   "outputs": [
    {
     "data": {
      "text/html": [
       "<style type=\"text/css\">\n",
       "#T_500d5 caption {\n",
       "  text-align: left;\n",
       "  font-size: 150%;\n",
       "  font-weight: bold;\n",
       "}\n",
       "</style>\n",
       "<table id=\"T_500d5\">\n",
       "  <caption>Vertex mask row</caption>\n",
       "  <thead>\n",
       "    <tr>\n",
       "      <th class=\"blank level0\" >&nbsp;</th>\n",
       "      <th id=\"T_500d5_level0_col0\" class=\"col_heading level0 col0\" >0</th>\n",
       "      <th id=\"T_500d5_level0_col1\" class=\"col_heading level0 col1\" >1</th>\n",
       "      <th id=\"T_500d5_level0_col2\" class=\"col_heading level0 col2\" >2</th>\n",
       "      <th id=\"T_500d5_level0_col3\" class=\"col_heading level0 col3\" >3</th>\n",
       "      <th id=\"T_500d5_level0_col4\" class=\"col_heading level0 col4\" >4</th>\n",
       "      <th id=\"T_500d5_level0_col5\" class=\"col_heading level0 col5\" >5</th>\n",
       "      <th id=\"T_500d5_level0_col6\" class=\"col_heading level0 col6\" >6</th>\n",
       "      <th id=\"T_500d5_level0_col7\" class=\"col_heading level0 col7\" >7</th>\n",
       "      <th id=\"T_500d5_level0_col8\" class=\"col_heading level0 col8\" >8</th>\n",
       "      <th id=\"T_500d5_level0_col9\" class=\"col_heading level0 col9\" >9</th>\n",
       "      <th id=\"T_500d5_level0_col10\" class=\"col_heading level0 col10\" >10</th>\n",
       "      <th id=\"T_500d5_level0_col11\" class=\"col_heading level0 col11\" >11</th>\n",
       "      <th id=\"T_500d5_level0_col12\" class=\"col_heading level0 col12\" >12</th>\n",
       "      <th id=\"T_500d5_level0_col13\" class=\"col_heading level0 col13\" >13</th>\n",
       "      <th id=\"T_500d5_level0_col14\" class=\"col_heading level0 col14\" >14</th>\n",
       "      <th id=\"T_500d5_level0_col15\" class=\"col_heading level0 col15\" >15</th>\n",
       "      <th id=\"T_500d5_level0_col16\" class=\"col_heading level0 col16\" >16</th>\n",
       "      <th id=\"T_500d5_level0_col17\" class=\"col_heading level0 col17\" >17</th>\n",
       "      <th id=\"T_500d5_level0_col18\" class=\"col_heading level0 col18\" >18</th>\n",
       "      <th id=\"T_500d5_level0_col19\" class=\"col_heading level0 col19\" >19</th>\n",
       "      <th id=\"T_500d5_level0_col20\" class=\"col_heading level0 col20\" >20</th>\n",
       "      <th id=\"T_500d5_level0_col21\" class=\"col_heading level0 col21\" >21</th>\n",
       "      <th id=\"T_500d5_level0_col22\" class=\"col_heading level0 col22\" >22</th>\n",
       "      <th id=\"T_500d5_level0_col23\" class=\"col_heading level0 col23\" >23</th>\n",
       "      <th id=\"T_500d5_level0_col24\" class=\"col_heading level0 col24\" >24</th>\n",
       "      <th id=\"T_500d5_level0_col25\" class=\"col_heading level0 col25\" >25</th>\n",
       "    </tr>\n",
       "  </thead>\n",
       "  <tbody>\n",
       "    <tr>\n",
       "      <th id=\"T_500d5_level0_row0\" class=\"row_heading level0 row0\" >0</th>\n",
       "      <td id=\"T_500d5_row0_col0\" class=\"data row0 col0\" >1</td>\n",
       "      <td id=\"T_500d5_row0_col1\" class=\"data row0 col1\" >0</td>\n",
       "      <td id=\"T_500d5_row0_col2\" class=\"data row0 col2\" >0</td>\n",
       "      <td id=\"T_500d5_row0_col3\" class=\"data row0 col3\" >0</td>\n",
       "      <td id=\"T_500d5_row0_col4\" class=\"data row0 col4\" >0</td>\n",
       "      <td id=\"T_500d5_row0_col5\" class=\"data row0 col5\" >0</td>\n",
       "      <td id=\"T_500d5_row0_col6\" class=\"data row0 col6\" >0</td>\n",
       "      <td id=\"T_500d5_row0_col7\" class=\"data row0 col7\" >0</td>\n",
       "      <td id=\"T_500d5_row0_col8\" class=\"data row0 col8\" >0</td>\n",
       "      <td id=\"T_500d5_row0_col9\" class=\"data row0 col9\" >0</td>\n",
       "      <td id=\"T_500d5_row0_col10\" class=\"data row0 col10\" >0</td>\n",
       "      <td id=\"T_500d5_row0_col11\" class=\"data row0 col11\" >0</td>\n",
       "      <td id=\"T_500d5_row0_col12\" class=\"data row0 col12\" >0</td>\n",
       "      <td id=\"T_500d5_row0_col13\" class=\"data row0 col13\" >0</td>\n",
       "      <td id=\"T_500d5_row0_col14\" class=\"data row0 col14\" >0</td>\n",
       "      <td id=\"T_500d5_row0_col15\" class=\"data row0 col15\" >1</td>\n",
       "      <td id=\"T_500d5_row0_col16\" class=\"data row0 col16\" >0</td>\n",
       "      <td id=\"T_500d5_row0_col17\" class=\"data row0 col17\" >0</td>\n",
       "      <td id=\"T_500d5_row0_col18\" class=\"data row0 col18\" >0</td>\n",
       "      <td id=\"T_500d5_row0_col19\" class=\"data row0 col19\" >1</td>\n",
       "      <td id=\"T_500d5_row0_col20\" class=\"data row0 col20\" >0</td>\n",
       "      <td id=\"T_500d5_row0_col21\" class=\"data row0 col21\" >0</td>\n",
       "      <td id=\"T_500d5_row0_col22\" class=\"data row0 col22\" >0</td>\n",
       "      <td id=\"T_500d5_row0_col23\" class=\"data row0 col23\" >0</td>\n",
       "      <td id=\"T_500d5_row0_col24\" class=\"data row0 col24\" >0</td>\n",
       "      <td id=\"T_500d5_row0_col25\" class=\"data row0 col25\" >1</td>\n",
       "    </tr>\n",
       "  </tbody>\n",
       "</table>\n"
      ],
      "text/plain": [
       "<pandas.io.formats.style.Styler at 0x7f91d5c83e80>"
      ]
     },
     "metadata": {},
     "output_type": "display_data"
    },
    {
     "data": {
      "text/html": [
       "<style type=\"text/css\">\n",
       "#T_cad8f caption {\n",
       "  text-align: left;\n",
       "  font-size: 150%;\n",
       "  font-weight: bold;\n",
       "}\n",
       "</style>\n",
       "<table id=\"T_cad8f\">\n",
       "  <caption>Raw LandTrendr - Only Vertex Columns</caption>\n",
       "  <thead>\n",
       "    <tr>\n",
       "      <th class=\"blank level0\" >&nbsp;</th>\n",
       "      <th id=\"T_cad8f_level0_col0\" class=\"col_heading level0 col0\" >0</th>\n",
       "      <th id=\"T_cad8f_level0_col1\" class=\"col_heading level0 col1\" >1</th>\n",
       "      <th id=\"T_cad8f_level0_col2\" class=\"col_heading level0 col2\" >2</th>\n",
       "      <th id=\"T_cad8f_level0_col3\" class=\"col_heading level0 col3\" >3</th>\n",
       "    </tr>\n",
       "  </thead>\n",
       "  <tbody>\n",
       "    <tr>\n",
       "      <th id=\"T_cad8f_level0_row0\" class=\"row_heading level0 row0\" >Years</th>\n",
       "      <td id=\"T_cad8f_row0_col0\" class=\"data row0 col0\" >1984.000000</td>\n",
       "      <td id=\"T_cad8f_row0_col1\" class=\"data row0 col1\" >2012.000000</td>\n",
       "      <td id=\"T_cad8f_row0_col2\" class=\"data row0 col2\" >2016.000000</td>\n",
       "      <td id=\"T_cad8f_row0_col3\" class=\"data row0 col3\" >2022.000000</td>\n",
       "    </tr>\n",
       "    <tr>\n",
       "      <th id=\"T_cad8f_level0_row1\" class=\"row_heading level0 row1\" >Raw Input Values</th>\n",
       "      <td id=\"T_cad8f_row1_col0\" class=\"data row1 col0\" >0.732861</td>\n",
       "      <td id=\"T_cad8f_row1_col1\" class=\"data row1 col1\" >0.125019</td>\n",
       "      <td id=\"T_cad8f_row1_col2\" class=\"data row1 col2\" >0.547757</td>\n",
       "      <td id=\"T_cad8f_row1_col3\" class=\"data row1 col3\" >0.430944</td>\n",
       "    </tr>\n",
       "    <tr>\n",
       "      <th id=\"T_cad8f_level0_row2\" class=\"row_heading level0 row2\" >Fitted Output Values</th>\n",
       "      <td id=\"T_cad8f_row2_col0\" class=\"data row2 col0\" >0.759414</td>\n",
       "      <td id=\"T_cad8f_row2_col1\" class=\"data row2 col1\" >-0.062703</td>\n",
       "      <td id=\"T_cad8f_row2_col2\" class=\"data row2 col2\" >0.632580</td>\n",
       "      <td id=\"T_cad8f_row2_col3\" class=\"data row2 col3\" >0.376341</td>\n",
       "    </tr>\n",
       "    <tr>\n",
       "      <th id=\"T_cad8f_level0_row3\" class=\"row_heading level0 row3\" >Vertex/non-vertex</th>\n",
       "      <td id=\"T_cad8f_row3_col0\" class=\"data row3 col0\" >1.000000</td>\n",
       "      <td id=\"T_cad8f_row3_col1\" class=\"data row3 col1\" >1.000000</td>\n",
       "      <td id=\"T_cad8f_row3_col2\" class=\"data row3 col2\" >1.000000</td>\n",
       "      <td id=\"T_cad8f_row3_col3\" class=\"data row3 col3\" >1.000000</td>\n",
       "    </tr>\n",
       "  </tbody>\n",
       "</table>\n"
      ],
      "text/plain": [
       "<pandas.io.formats.style.Styler at 0x7f91d4bc8ee0>"
      ]
     },
     "metadata": {},
     "output_type": "display_data"
    }
   ],
   "source": [
    "# Slice the array to extract the row indicating the vertices\n",
    "vertices = lt_array.arraySlice(0,3,4)\n",
    "display(g2p.imageArrayPixelToDataFrame(vertices, pt, None,crs,transform,'Vertex mask row'))\n",
    "\n",
    "# Use the vertex row as a mask to extract the values at the vertices\n",
    "lt_array = lt_array.arrayMask(vertices)\n",
    "display(g2p.imageArrayPixelToDataFrame(lt_array, pt, None,crs,transform,'Raw LandTrendr - Only Vertex Columns',\\\n",
    "                                                 ['Years','Raw Input Values','Fitted Output Values','Vertex/non-vertex']))"
   ]
  },
  {
   "cell_type": "markdown",
   "id": "70f5043e",
   "metadata": {},
   "source": [
    "#### Calculate the difference between fitted vertex values\n",
    "In order to perform change detection, you'll need to get the difference between fitted vertex values. \n",
    "\n",
    "You do this by slicing the array on an offset-- so that you can subtract adjacent values. \n",
    "\n",
    "Run the code block below to calculate the difference between the fitted vertex values. "
   ]
  },
  {
   "cell_type": "code",
   "execution_count": 33,
   "id": "948ceba6",
   "metadata": {},
   "outputs": [
    {
     "data": {
      "text/html": [
       "<style type=\"text/css\">\n",
       "#T_3fd10 caption {\n",
       "  text-align: left;\n",
       "  font-size: 150%;\n",
       "  font-weight: bold;\n",
       "}\n",
       "</style>\n",
       "<table id=\"T_3fd10\">\n",
       "  <caption>Left Slice</caption>\n",
       "  <thead>\n",
       "    <tr>\n",
       "      <th class=\"blank level0\" >&nbsp;</th>\n",
       "      <th id=\"T_3fd10_level0_col0\" class=\"col_heading level0 col0\" >0</th>\n",
       "      <th id=\"T_3fd10_level0_col1\" class=\"col_heading level0 col1\" >1</th>\n",
       "    </tr>\n",
       "  </thead>\n",
       "  <tbody>\n",
       "    <tr>\n",
       "      <th id=\"T_3fd10_level0_row0\" class=\"row_heading level0 row0\" >Years</th>\n",
       "      <td id=\"T_3fd10_row0_col0\" class=\"data row0 col0\" >1984.000000</td>\n",
       "      <td id=\"T_3fd10_row0_col1\" class=\"data row0 col1\" >2004.000000</td>\n",
       "    </tr>\n",
       "    <tr>\n",
       "      <th id=\"T_3fd10_level0_row1\" class=\"row_heading level0 row1\" >Raw Input Values</th>\n",
       "      <td id=\"T_3fd10_row1_col0\" class=\"data row1 col0\" >0.617757</td>\n",
       "      <td id=\"T_3fd10_row1_col1\" class=\"data row1 col1\" >0.010710</td>\n",
       "    </tr>\n",
       "    <tr>\n",
       "      <th id=\"T_3fd10_level0_row2\" class=\"row_heading level0 row2\" >Fitted Output Values</th>\n",
       "      <td id=\"T_3fd10_row2_col0\" class=\"data row2 col0\" >0.707420</td>\n",
       "      <td id=\"T_3fd10_row2_col1\" class=\"data row2 col1\" >0.020307</td>\n",
       "    </tr>\n",
       "    <tr>\n",
       "      <th id=\"T_3fd10_level0_row3\" class=\"row_heading level0 row3\" >Vertex/non-vertex</th>\n",
       "      <td id=\"T_3fd10_row3_col0\" class=\"data row3 col0\" >1.000000</td>\n",
       "      <td id=\"T_3fd10_row3_col1\" class=\"data row3 col1\" >1.000000</td>\n",
       "    </tr>\n",
       "  </tbody>\n",
       "</table>\n"
      ],
      "text/plain": [
       "<pandas.io.formats.style.Styler at 0x7f91d4bc8d30>"
      ]
     },
     "metadata": {},
     "output_type": "display_data"
    },
    {
     "data": {
      "text/html": [
       "<style type=\"text/css\">\n",
       "#T_11278 caption {\n",
       "  text-align: left;\n",
       "  font-size: 150%;\n",
       "  font-weight: bold;\n",
       "}\n",
       "</style>\n",
       "<table id=\"T_11278\">\n",
       "  <caption>Right Slice</caption>\n",
       "  <thead>\n",
       "    <tr>\n",
       "      <th class=\"blank level0\" >&nbsp;</th>\n",
       "      <th id=\"T_11278_level0_col0\" class=\"col_heading level0 col0\" >0</th>\n",
       "      <th id=\"T_11278_level0_col1\" class=\"col_heading level0 col1\" >1</th>\n",
       "    </tr>\n",
       "  </thead>\n",
       "  <tbody>\n",
       "    <tr>\n",
       "      <th id=\"T_11278_level0_row0\" class=\"row_heading level0 row0\" >Years</th>\n",
       "      <td id=\"T_11278_row0_col0\" class=\"data row0 col0\" >2004.000000</td>\n",
       "      <td id=\"T_11278_row0_col1\" class=\"data row0 col1\" >2022.000000</td>\n",
       "    </tr>\n",
       "    <tr>\n",
       "      <th id=\"T_11278_level0_row1\" class=\"row_heading level0 row1\" >Raw Input Values</th>\n",
       "      <td id=\"T_11278_row1_col0\" class=\"data row1 col0\" >0.010710</td>\n",
       "      <td id=\"T_11278_row1_col1\" class=\"data row1 col1\" >-0.027723</td>\n",
       "    </tr>\n",
       "    <tr>\n",
       "      <th id=\"T_11278_level0_row2\" class=\"row_heading level0 row2\" >Fitted Output Values</th>\n",
       "      <td id=\"T_11278_row2_col0\" class=\"data row2 col0\" >0.020307</td>\n",
       "      <td id=\"T_11278_row2_col1\" class=\"data row2 col1\" >0.067411</td>\n",
       "    </tr>\n",
       "    <tr>\n",
       "      <th id=\"T_11278_level0_row3\" class=\"row_heading level0 row3\" >Vertex/non-vertex</th>\n",
       "      <td id=\"T_11278_row3_col0\" class=\"data row3 col0\" >1.000000</td>\n",
       "      <td id=\"T_11278_row3_col1\" class=\"data row3 col1\" >1.000000</td>\n",
       "    </tr>\n",
       "  </tbody>\n",
       "</table>\n"
      ],
      "text/plain": [
       "<pandas.io.formats.style.Styler at 0x7f91d5c83280>"
      ]
     },
     "metadata": {},
     "output_type": "display_data"
    },
    {
     "data": {
      "text/html": [
       "<style type=\"text/css\">\n",
       "#T_8e7c2 caption {\n",
       "  text-align: left;\n",
       "  font-size: 150%;\n",
       "  font-weight: bold;\n",
       "}\n",
       "</style>\n",
       "<table id=\"T_8e7c2\">\n",
       "  <caption>Left Minus Right</caption>\n",
       "  <thead>\n",
       "    <tr>\n",
       "      <th class=\"blank level0\" >&nbsp;</th>\n",
       "      <th id=\"T_8e7c2_level0_col0\" class=\"col_heading level0 col0\" >0</th>\n",
       "      <th id=\"T_8e7c2_level0_col1\" class=\"col_heading level0 col1\" >1</th>\n",
       "    </tr>\n",
       "  </thead>\n",
       "  <tbody>\n",
       "    <tr>\n",
       "      <th id=\"T_8e7c2_level0_row0\" class=\"row_heading level0 row0\" >Years</th>\n",
       "      <td id=\"T_8e7c2_row0_col0\" class=\"data row0 col0\" >20.000000</td>\n",
       "      <td id=\"T_8e7c2_row0_col1\" class=\"data row0 col1\" >18.000000</td>\n",
       "    </tr>\n",
       "    <tr>\n",
       "      <th id=\"T_8e7c2_level0_row1\" class=\"row_heading level0 row1\" >Raw Input Values</th>\n",
       "      <td id=\"T_8e7c2_row1_col0\" class=\"data row1 col0\" >-0.607046</td>\n",
       "      <td id=\"T_8e7c2_row1_col1\" class=\"data row1 col1\" >-0.038433</td>\n",
       "    </tr>\n",
       "    <tr>\n",
       "      <th id=\"T_8e7c2_level0_row2\" class=\"row_heading level0 row2\" >Fitted Output Values</th>\n",
       "      <td id=\"T_8e7c2_row2_col0\" class=\"data row2 col0\" >-0.687113</td>\n",
       "      <td id=\"T_8e7c2_row2_col1\" class=\"data row2 col1\" >0.047104</td>\n",
       "    </tr>\n",
       "    <tr>\n",
       "      <th id=\"T_8e7c2_level0_row3\" class=\"row_heading level0 row3\" >Vertex/non-vertex</th>\n",
       "      <td id=\"T_8e7c2_row3_col0\" class=\"data row3 col0\" >0.000000</td>\n",
       "      <td id=\"T_8e7c2_row3_col1\" class=\"data row3 col1\" >0.000000</td>\n",
       "    </tr>\n",
       "  </tbody>\n",
       "</table>\n"
      ],
      "text/plain": [
       "<pandas.io.formats.style.Styler at 0x7f91d4987310>"
      ]
     },
     "metadata": {},
     "output_type": "display_data"
    }
   ],
   "source": [
    "# In order to perform change detection, we'll need to get the difference between fitted vertex values\n",
    "# We do this by slicing the first to the next to the last and then the second to the last and subtracting them\n",
    "left = lt_array.arraySlice(1,0,-1)\n",
    "right = lt_array.arraySlice(1,1,None)\n",
    "diff  = right.subtract(left)\n",
    "\n",
    "display(g2p.imageArrayPixelToDataFrame(left, pt, None,crs,transform,'Left Slice',\\\n",
    "                                       ['Years','Raw Input Values','Fitted Output Values','Vertex/non-vertex']))\n",
    "display(g2p.imageArrayPixelToDataFrame(right, pt,None,crs,transform, \\\n",
    "                                       'Right Slice',['Years','Raw Input Values','Fitted Output Values','Vertex/non-vertex']))\n",
    "display(g2p.imageArrayPixelToDataFrame(diff, pt, None,crs,transform,\\\n",
    "                                       'Left Minus Right',['Years','Raw Input Values','Fitted Output Values','Vertex/non-vertex']))"
   ]
  },
  {
   "cell_type": "markdown",
   "id": "22bfd14f",
   "metadata": {},
   "source": [
    "#### Combine difference values with years\n",
    "You then slice the right-hand years and the fitted vertex values difference and combine them.\n",
    "\n",
    "Run the code block below to create an array that has a value for each vertex year and magnitude of difference. "
   ]
  },
  {
   "cell_type": "code",
   "execution_count": 13,
   "id": "00143476",
   "metadata": {},
   "outputs": [
    {
     "data": {
      "text/html": [
       "<style type=\"text/css\">\n",
       "#T_dfaf2 caption {\n",
       "  text-align: left;\n",
       "  font-size: 150%;\n",
       "  font-weight: bold;\n",
       "}\n",
       "</style>\n",
       "<table id=\"T_dfaf2\">\n",
       "  <caption>Years</caption>\n",
       "  <thead>\n",
       "    <tr>\n",
       "      <th class=\"blank level0\" >&nbsp;</th>\n",
       "      <th id=\"T_dfaf2_level0_col0\" class=\"col_heading level0 col0\" >0</th>\n",
       "      <th id=\"T_dfaf2_level0_col1\" class=\"col_heading level0 col1\" >1</th>\n",
       "      <th id=\"T_dfaf2_level0_col2\" class=\"col_heading level0 col2\" >2</th>\n",
       "    </tr>\n",
       "  </thead>\n",
       "  <tbody>\n",
       "    <tr>\n",
       "      <th id=\"T_dfaf2_level0_row0\" class=\"row_heading level0 row0\" >0</th>\n",
       "      <td id=\"T_dfaf2_row0_col0\" class=\"data row0 col0\" >2012</td>\n",
       "      <td id=\"T_dfaf2_row0_col1\" class=\"data row0 col1\" >2016</td>\n",
       "      <td id=\"T_dfaf2_row0_col2\" class=\"data row0 col2\" >2022</td>\n",
       "    </tr>\n",
       "  </tbody>\n",
       "</table>\n"
      ],
      "text/plain": [
       "<pandas.io.formats.style.Styler at 0x7f91d4c0d3c0>"
      ]
     },
     "metadata": {},
     "output_type": "display_data"
    },
    {
     "data": {
      "text/html": [
       "<style type=\"text/css\">\n",
       "#T_084d7 caption {\n",
       "  text-align: left;\n",
       "  font-size: 150%;\n",
       "  font-weight: bold;\n",
       "}\n",
       "</style>\n",
       "<table id=\"T_084d7\">\n",
       "  <caption>Magnitude</caption>\n",
       "  <thead>\n",
       "    <tr>\n",
       "      <th class=\"blank level0\" >&nbsp;</th>\n",
       "      <th id=\"T_084d7_level0_col0\" class=\"col_heading level0 col0\" >0</th>\n",
       "      <th id=\"T_084d7_level0_col1\" class=\"col_heading level0 col1\" >1</th>\n",
       "      <th id=\"T_084d7_level0_col2\" class=\"col_heading level0 col2\" >2</th>\n",
       "    </tr>\n",
       "  </thead>\n",
       "  <tbody>\n",
       "    <tr>\n",
       "      <th id=\"T_084d7_level0_row0\" class=\"row_heading level0 row0\" >0</th>\n",
       "      <td id=\"T_084d7_row0_col0\" class=\"data row0 col0\" >-0.822117</td>\n",
       "      <td id=\"T_084d7_row0_col1\" class=\"data row0 col1\" >0.695283</td>\n",
       "      <td id=\"T_084d7_row0_col2\" class=\"data row0 col2\" >-0.256238</td>\n",
       "    </tr>\n",
       "  </tbody>\n",
       "</table>\n"
      ],
      "text/plain": [
       "<pandas.io.formats.style.Styler at 0x7f91d49e86a0>"
      ]
     },
     "metadata": {},
     "output_type": "display_data"
    },
    {
     "data": {
      "text/html": [
       "<style type=\"text/css\">\n",
       "#T_748a8 caption {\n",
       "  text-align: left;\n",
       "  font-size: 150%;\n",
       "  font-weight: bold;\n",
       "}\n",
       "</style>\n",
       "<table id=\"T_748a8\">\n",
       "  <caption>Year + Magnitude Array</caption>\n",
       "  <thead>\n",
       "    <tr>\n",
       "      <th class=\"blank level0\" >&nbsp;</th>\n",
       "      <th id=\"T_748a8_level0_col0\" class=\"col_heading level0 col0\" >0</th>\n",
       "      <th id=\"T_748a8_level0_col1\" class=\"col_heading level0 col1\" >1</th>\n",
       "      <th id=\"T_748a8_level0_col2\" class=\"col_heading level0 col2\" >2</th>\n",
       "    </tr>\n",
       "  </thead>\n",
       "  <tbody>\n",
       "    <tr>\n",
       "      <th id=\"T_748a8_level0_row0\" class=\"row_heading level0 row0\" >0</th>\n",
       "      <td id=\"T_748a8_row0_col0\" class=\"data row0 col0\" >2012.000000</td>\n",
       "      <td id=\"T_748a8_row0_col1\" class=\"data row0 col1\" >2016.000000</td>\n",
       "      <td id=\"T_748a8_row0_col2\" class=\"data row0 col2\" >2022.000000</td>\n",
       "    </tr>\n",
       "    <tr>\n",
       "      <th id=\"T_748a8_level0_row1\" class=\"row_heading level0 row1\" >1</th>\n",
       "      <td id=\"T_748a8_row1_col0\" class=\"data row1 col0\" >-0.822117</td>\n",
       "      <td id=\"T_748a8_row1_col1\" class=\"data row1 col1\" >0.695283</td>\n",
       "      <td id=\"T_748a8_row1_col2\" class=\"data row1 col2\" >-0.256238</td>\n",
       "    </tr>\n",
       "  </tbody>\n",
       "</table>\n"
      ],
      "text/plain": [
       "<pandas.io.formats.style.Styler at 0x7f91d496be50>"
      ]
     },
     "metadata": {},
     "output_type": "display_data"
    }
   ],
   "source": [
    "# Slice right-hand years and difference values\n",
    "years = right.arraySlice(0,0,1)\n",
    "mag = diff.arraySlice(0,2,3)\n",
    "display(g2p.imageArrayPixelToDataFrame(years, pt, None,crs,transform,'Years'))\n",
    "display(g2p.imageArrayPixelToDataFrame(mag, pt, None,crs,transform,'Magnitude'))\n",
    "\n",
    "# Combine\n",
    "forSorting = years.arrayCat(mag,0)\n",
    "display(g2p.imageArrayPixelToDataFrame(forSorting, pt, None,crs,transform,'Year + Magnitude Array'))"
   ]
  },
  {
   "cell_type": "markdown",
   "id": "7878678f",
   "metadata": {},
   "source": [
    "#### Sort array based on change of interest\n",
    "\n",
    "We can then sort this array to display the change we are most interested in. For example, we can extract the highest magnitude change, the most recent change, etc. \n",
    "\n",
    "In the example below, the sort row will be the magnitude. Thus, the output will be the highest severity change.\n"
   ]
  },
  {
   "cell_type": "code",
   "execution_count": 14,
   "id": "665cfc9f",
   "metadata": {},
   "outputs": [
    {
     "data": {
      "text/html": [
       "<style type=\"text/css\">\n",
       "#T_f8703 caption {\n",
       "  text-align: left;\n",
       "  font-size: 150%;\n",
       "  font-weight: bold;\n",
       "}\n",
       "</style>\n",
       "<table id=\"T_f8703\">\n",
       "  <caption>Array Sorted by the Second Row (magnitude of change)</caption>\n",
       "  <thead>\n",
       "    <tr>\n",
       "      <th class=\"blank level0\" >&nbsp;</th>\n",
       "      <th id=\"T_f8703_level0_col0\" class=\"col_heading level0 col0\" >0</th>\n",
       "      <th id=\"T_f8703_level0_col1\" class=\"col_heading level0 col1\" >1</th>\n",
       "      <th id=\"T_f8703_level0_col2\" class=\"col_heading level0 col2\" >2</th>\n",
       "    </tr>\n",
       "  </thead>\n",
       "  <tbody>\n",
       "    <tr>\n",
       "      <th id=\"T_f8703_level0_row0\" class=\"row_heading level0 row0\" >0</th>\n",
       "      <td id=\"T_f8703_row0_col0\" class=\"data row0 col0\" >2012.000000</td>\n",
       "      <td id=\"T_f8703_row0_col1\" class=\"data row0 col1\" >2022.000000</td>\n",
       "      <td id=\"T_f8703_row0_col2\" class=\"data row0 col2\" >2016.000000</td>\n",
       "    </tr>\n",
       "    <tr>\n",
       "      <th id=\"T_f8703_level0_row1\" class=\"row_heading level0 row1\" >1</th>\n",
       "      <td id=\"T_f8703_row1_col0\" class=\"data row1 col0\" >-0.822117</td>\n",
       "      <td id=\"T_f8703_row1_col1\" class=\"data row1 col1\" >-0.256238</td>\n",
       "      <td id=\"T_f8703_row1_col2\" class=\"data row1 col2\" >0.695283</td>\n",
       "    </tr>\n",
       "  </tbody>\n",
       "</table>\n"
      ],
      "text/plain": [
       "<pandas.io.formats.style.Styler at 0x7f91d4abb4f0>"
      ]
     },
     "metadata": {},
     "output_type": "display_data"
    },
    {
     "data": {
      "text/html": [
       "<style type=\"text/css\">\n",
       "#T_1aad4 caption {\n",
       "  text-align: left;\n",
       "  font-size: 150%;\n",
       "  font-weight: bold;\n",
       "}\n",
       "</style>\n",
       "<table id=\"T_1aad4\">\n",
       "  <caption>Highest Mag Change (year and magnitude)</caption>\n",
       "  <thead>\n",
       "    <tr>\n",
       "      <th class=\"blank level0\" >&nbsp;</th>\n",
       "      <th id=\"T_1aad4_level0_col0\" class=\"col_heading level0 col0\" >0</th>\n",
       "    </tr>\n",
       "  </thead>\n",
       "  <tbody>\n",
       "    <tr>\n",
       "      <th id=\"T_1aad4_level0_row0\" class=\"row_heading level0 row0\" >0</th>\n",
       "      <td id=\"T_1aad4_row0_col0\" class=\"data row0 col0\" >2012.000000</td>\n",
       "    </tr>\n",
       "    <tr>\n",
       "      <th id=\"T_1aad4_level0_row1\" class=\"row_heading level0 row1\" >1</th>\n",
       "      <td id=\"T_1aad4_row1_col0\" class=\"data row1 col0\" >-0.822117</td>\n",
       "    </tr>\n",
       "  </tbody>\n",
       "</table>\n"
      ],
      "text/plain": [
       "<pandas.io.formats.style.Styler at 0x7f91d49e9720>"
      ]
     },
     "metadata": {},
     "output_type": "display_data"
    }
   ],
   "source": [
    "# Sort on magnitude\n",
    "sorted = forSorting.arraySort(forSorting.arraySlice(0,1,2))\n",
    "display(g2p.imageArrayPixelToDataFrame(sorted, pt, None,crs,transform,'Array Sorted by the Second Row (magnitude of change)'))\n",
    "\n",
    "# Slice off the year and magnitude of the highest magnitude change\n",
    "highest_mag_change_array = sorted.arraySlice(1,0,1)\n",
    "display(g2p.imageArrayPixelToDataFrame(highest_mag_change_array, pt, None,crs,transform,'Highest Mag Change (year and magnitude)'))"
   ]
  },
  {
   "cell_type": "markdown",
   "id": "423c972e",
   "metadata": {},
   "source": [
    "#### Convert arrays into images\n",
    "\n",
    "The final step is to convert the array output into an image. You've seen how array manipulation works on one pixel. You can now \"flatten\" the two-dimensional array into a one-dimensional image. \n",
    "\n",
    "Applying a change threshold allows you to determine what severity of change is flagged as loss. All change that is lower than this magnitude will be masked from the map. \n",
    "\n",
    "Run the code block below to flatten the array into an image and add it to the map. "
   ]
  },
  {
   "cell_type": "code",
   "execution_count": 1,
   "id": "ad7f5ecc",
   "metadata": {},
   "outputs": [
    {
     "ename": "NameError",
     "evalue": "name 'highest_mag_change_array' is not defined",
     "output_type": "error",
     "traceback": [
      "\u001b[1;31m---------------------------------------------------------------------------\u001b[0m",
      "\u001b[1;31mNameError\u001b[0m                                 Traceback (most recent call last)",
      "\u001b[1;32mc:\\RCR\\quickLabsTrainingMaterials\\lcms-training\\3-LandTrendr_and_CCDC.ipynb Cell 36\u001b[0m line \u001b[0;36m6\n\u001b[0;32m      <a href='vscode-notebook-cell:/c%3A/RCR/quickLabsTrainingMaterials/lcms-training/3-LandTrendr_and_CCDC.ipynb#X50sZmlsZQ%3D%3D?line=2'>3</a>\u001b[0m change_threshold \u001b[39m=\u001b[39m \u001b[39m-\u001b[39m\u001b[39m0.15\u001b[39m\n\u001b[0;32m      <a href='vscode-notebook-cell:/c%3A/RCR/quickLabsTrainingMaterials/lcms-training/3-LandTrendr_and_CCDC.ipynb#X50sZmlsZQ%3D%3D?line=4'>5</a>\u001b[0m \u001b[39m# Convert the sorted array image into a 2-band image\u001b[39;00m\n\u001b[1;32m----> <a href='vscode-notebook-cell:/c%3A/RCR/quickLabsTrainingMaterials/lcms-training/3-LandTrendr_and_CCDC.ipynb#X50sZmlsZQ%3D%3D?line=5'>6</a>\u001b[0m highest_mag_change \u001b[39m=\u001b[39m highest_mag_change_array\u001b[39m.\u001b[39marrayProject([\u001b[39m0\u001b[39m])\u001b[39m.\u001b[39marrayFlatten([[\u001b[39m'\u001b[39m\u001b[39myr\u001b[39m\u001b[39m'\u001b[39m,\u001b[39m'\u001b[39m\u001b[39mmag\u001b[39m\u001b[39m'\u001b[39m]])\n\u001b[0;32m      <a href='vscode-notebook-cell:/c%3A/RCR/quickLabsTrainingMaterials/lcms-training/3-LandTrendr_and_CCDC.ipynb#X50sZmlsZQ%3D%3D?line=7'>8</a>\u001b[0m \u001b[39m# Mask out any change \u001b[39;00m\n\u001b[0;32m      <a href='vscode-notebook-cell:/c%3A/RCR/quickLabsTrainingMaterials/lcms-training/3-LandTrendr_and_CCDC.ipynb#X50sZmlsZQ%3D%3D?line=8'>9</a>\u001b[0m highest_mag_change \u001b[39m=\u001b[39m highest_mag_change\u001b[39m.\u001b[39mupdateMask(highest_mag_change\u001b[39m.\u001b[39mselect([\u001b[39m'\u001b[39m\u001b[39mmag\u001b[39m\u001b[39m'\u001b[39m])\u001b[39m.\u001b[39mlte(change_threshold))\n",
      "\u001b[1;31mNameError\u001b[0m: name 'highest_mag_change_array' is not defined"
     ]
    }
   ],
   "source": [
    "# First, choose a change threshold\n",
    "# Any changes more negative than this value will be flagged as loss\n",
    "change_threshold = -0.15\n",
    "\n",
    "# Convert the sorted array image into a 2-band image\n",
    "highest_mag_change = highest_mag_change_array.arrayProject([0]).arrayFlatten([['yr','mag']])\n",
    "\n",
    "# Mask out any change \n",
    "highest_mag_change = highest_mag_change.updateMask(highest_mag_change.select(['mag']).lte(change_threshold))\n",
    "\n",
    "# Pull the loss magnitude palette and flip the color order\n",
    "lossMagPalette = changeDetectionLib.lossMagPalette.split(',')\n",
    "lossMagPalette.reverse()\n",
    "\n",
    "# Set up map\n",
    "Map.clearMap()\n",
    "Map.addLayer(forSorting,{},'Array for Sorting',False)\n",
    "Map.addLayer(sorted,{},'Sorted Array',False)\n",
    "Map.addLayer(highest_mag_change.select(['mag']),{'min':-0.8,'max':-0.15,'palette':lossMagPalette},'Loss Magnitude')\n",
    "Map.addLayer(highest_mag_change.select(['yr']),{'min':startYear,'max':endYear,'palette':changeDetectionLib.lossYearPalette},'Loss Year')\n",
    "Map.turnOnInspector()\n",
    "Map.view()"
   ]
  },
  {
   "cell_type": "markdown",
   "id": "5d2e05a2",
   "metadata": {},
   "source": [
    "#### Inspect the output\n",
    "View the output on the map. Turn the layers off and on to view the Loss Year and Loss Magnitude rasters. Double click on a pixel to query it, and see the original array values to understand how they correspond to the end output. "
   ]
  },
  {
   "cell_type": "markdown",
   "id": "28b01e7e",
   "metadata": {},
   "source": [
    "### 3.3.2: Run LandTrendr - on all bands\n",
    "\n",
    "Now that you understand LandTrendr parameters and outputs, the next step is to run LandTrendr on all bands. This is a more realistic output. After some additional processing, you will use this output with the LCMS model in Modules 4 and 5. \n",
    "\n",
    "Note that the code below is the same as the code you used to run LandTrendr over a single band. But here, you are applying LandTrendr over each band, and you are not displaying the outputs of the array manipulation at each step. \n",
    "\n",
    "Run the code block below to compute and export LandTrendr output arrays for each of the bands listed in `bandNames`. "
   ]
  },
  {
   "cell_type": "code",
   "execution_count": 16,
   "id": "23a03c53",
   "metadata": {
    "colab": {
     "base_uri": "https://localhost:8080/",
     "height": 1000
    },
    "executionInfo": {
     "elapsed": 15779,
     "status": "ok",
     "timestamp": 1690298816811,
     "user": {
      "displayName": "Ian Housman",
      "userId": "00382093583884444463"
     },
     "user_tz": 360
    },
    "id": "149fca54",
    "outputId": "d0da08a8-2959-4ff0-db00-5290580dabef"
   },
   "outputs": [
    {
     "name": "stdout",
     "output_type": "stream",
     "text": [
      "Adding layer: LT Raw red\n",
      "Adding layer: LT Vertex Values Only red\n",
      "Adding layer: Decompressed LT Output red\n",
      "Adding layer: Raw and LT Fitted red\n",
      "LT_Raw_red_yrs1984-2022_jds152-151 currently exists or is being exported and overwrite = False. Set overwite = True if you would like to overwite any existing asset or asset exporting task\n",
      "Adding layer: LT Raw nir\n",
      "Adding layer: LT Vertex Values Only nir\n",
      "Adding layer: Decompressed LT Output nir\n",
      "Adding layer: Raw and LT Fitted nir\n",
      "LT_Raw_nir_yrs1984-2022_jds152-151 currently exists or is being exported and overwrite = False. Set overwite = True if you would like to overwite any existing asset or asset exporting task\n",
      "Adding layer: LT Raw swir1\n",
      "Adding layer: LT Vertex Values Only swir1\n",
      "Adding layer: Decompressed LT Output swir1\n",
      "Adding layer: Raw and LT Fitted swir1\n",
      "LT_Raw_swir1_yrs1984-2022_jds152-151 currently exists or is being exported and overwrite = False. Set overwite = True if you would like to overwite any existing asset or asset exporting task\n",
      "Adding layer: LT Raw swir2\n",
      "Adding layer: LT Vertex Values Only swir2\n",
      "Adding layer: Decompressed LT Output swir2\n",
      "Adding layer: Raw and LT Fitted swir2\n",
      "LT_Raw_swir2_yrs1984-2022_jds152-151 currently exists or is being exported and overwrite = False. Set overwite = True if you would like to overwite any existing asset or asset exporting task\n",
      "Adding layer: LT Raw NBR\n",
      "Adding layer: LT Vertex Values Only NBR\n",
      "Adding layer: Decompressed LT Output NBR\n",
      "Adding layer: Raw and LT Fitted NBR\n",
      "LT_Raw_NBR_yrs1984-2022_jds152-151 currently exists or is being exported and overwrite = False. Set overwite = True if you would like to overwite any existing asset or asset exporting task\n",
      "Adding layer: LT Raw NDVI\n",
      "Adding layer: LT Vertex Values Only NDVI\n",
      "Adding layer: Decompressed LT Output NDVI\n",
      "Adding layer: Raw and LT Fitted NDVI\n",
      "LT_Raw_NDVI_yrs1984-2022_jds152-151 currently exists or is being exported and overwrite = False. Set overwite = True if you would like to overwite any existing asset or asset exporting task\n",
      "Adding layer: LT Raw brightness\n",
      "Adding layer: LT Vertex Values Only brightness\n",
      "Adding layer: Decompressed LT Output brightness\n",
      "Adding layer: Raw and LT Fitted brightness\n",
      "LT_Raw_brightness_yrs1984-2022_jds152-151 currently exists or is being exported and overwrite = False. Set overwite = True if you would like to overwite any existing asset or asset exporting task\n",
      "Adding layer: LT Raw greenness\n",
      "Adding layer: LT Vertex Values Only greenness\n",
      "Adding layer: Decompressed LT Output greenness\n",
      "Adding layer: Raw and LT Fitted greenness\n",
      "LT_Raw_greenness_yrs1984-2022_jds152-151 currently exists or is being exported and overwrite = False. Set overwite = True if you would like to overwite any existing asset or asset exporting task\n",
      "Adding layer: LT Raw wetness\n",
      "Adding layer: LT Vertex Values Only wetness\n",
      "Adding layer: Decompressed LT Output wetness\n",
      "Adding layer: Raw and LT Fitted wetness\n",
      "LT_Raw_wetness_yrs1984-2022_jds152-151 currently exists or is being exported and overwrite = False. Set overwite = True if you would like to overwite any existing asset or asset exporting task\n",
      "Adding layer: Study Area\n",
      "Starting webmap\n",
      "Using default refresh token for geeView: /home/jupyter/.config/earthengine/credentials\n",
      "Local web server at: http://localhost:1234/geeView/ already serving.\n",
      "cwd /home/jupyter/lcms-training\n",
      "Workbench Proxy URL: https://1307eb830a12e633-dot-us-central1.notebooks.googleusercontent.com/proxy/1234/geeView/?accessToken=None\n"
     ]
    },
    {
     "data": {
      "text/html": [
       "\n",
       "        <iframe\n",
       "            width=\"100%\"\n",
       "            height=\"525px\"\n",
       "            src=\"https://1307eb830a12e633-dot-us-central1.notebooks.googleusercontent.com/proxy/1234/geeView/?accessToken=None\"\n",
       "            frameborder=\"0\"\n",
       "            allowfullscreen\n",
       "            \n",
       "        ></iframe>\n",
       "        "
      ],
      "text/plain": [
       "<IPython.lib.display.IFrame at 0x7f91d4aad930>"
      ]
     },
     "metadata": {},
     "output_type": "display_data"
    }
   ],
   "source": [
    "# We will run LandTrendr for each band\n",
    "#Clear the map in case it has been populated with layers/commands earlier\n",
    "Map.clearMap()\n",
    "\n",
    "# We can use any/all of the bands, but generally bands that use nir and swir are most useful\n",
    "bandNames = ['red','nir','swir1','swir2','NBR','NDVI','brightness','greenness','wetness']\n",
    "\n",
    "#Run LANDTRENDR\n",
    "for bandName in bandNames:\n",
    "\n",
    "    # Select the band and run LandTrendr\n",
    "    run_params['timeSeries'] = composites.select([bandName])\n",
    "    rawLT = ee.Algorithms.TemporalSegmentation.LandTrendr(**run_params)\n",
    "\n",
    "    Map.addLayer(rawLT,{},'LT Raw {}'.format(bandName),False)\n",
    "\n",
    "    # Notice the raw LandTrendr output is in GEE's image array format\n",
    "    # We'll need to manipulate the raw output a bit to save on storage space\n",
    "\n",
    "    # Mask out non vertex values to use less storage space\n",
    "    ltArray = rawLT.select(['LandTrendr'])\n",
    "    rmse = rawLT.select(['rmse'])\n",
    "    vertices = ltArray.arraySlice(0,3,4)\n",
    "    ltArray = ltArray.arrayMask(vertices)\n",
    "\n",
    "    # Mask out all but the year and vertex fited values (get rid of the raw and vertex rows)\n",
    "    ltArray = ltArray.arrayMask(ee.Image(ee.Array([[1],[0],[1],[0]])))\n",
    "    rawLTForExport=ltArray.addBands(rmse)\n",
    "    Map.addLayer(rawLTForExport,{},'LT Vertex Values Only {}'.format(bandName),False)\n",
    "\n",
    "    # Show how the compressed vertex-only values can be decompressed later\n",
    "    decompressedC = changeDetectionLib.simpleLTFit(ltArray,startYear,endYear,bandName,True,run_params['maxSegments'])\n",
    "    Map.addLayer(decompressedC,{'bands':'{}_LT_fitted'.format(bandName),'min':0.2,'max':0.8},'Decompressed LT Output {}'.format(bandName),False)\n",
    "\n",
    "    # Join the raw and fitted values\n",
    "    fitted = decompressedC.select(['{}_LT_fitted'.format(bandName)])\n",
    "    ltJoined = getImagesLib.joinCollections(composites.select([bandName]),fitted)\n",
    "    Map.addLayer(ltJoined,{'bands':'{}_LT_fitted'.format(bandName),'min':0.2,'max':1,'palette':'D80,080'},'Raw and LT Fitted {}'.format(bandName),True)\n",
    "\n",
    "    # Export LT array image\n",
    "    # Set some properties that will be uses later\n",
    "    rawLTForExport = rawLTForExport.set({'startYear':startYear,\n",
    "                                          'endYear':endYear,\n",
    "                                          'startJulian':startJulian,\n",
    "                                          'endJulian':endJulian,\n",
    "                                          'band':bandName})\n",
    "    rawLTForExport =rawLTForExport.set(run_params)\n",
    "    exportName = 'LT_Raw_{}_yrs{}-{}_jds{}-{}'.format(bandName,startYear,endYear,startJulian,endJulian)\n",
    "    exportPath = export_landTrendr_collection + '/'+ exportName\n",
    "    # Export output\n",
    "    getImagesLib.exportToAssetWrapper(rawLTForExport,exportName,exportPath,{'.default':'sample'},studyArea,scale,crs,transform,overwrite=False)\n",
    "\n",
    "Map.turnOnInspector()\n",
    "Map.addLayer(studyArea, {'strokeColor': '0000FF'}, \"Study Area\", False)\n",
    "Map.view()"
   ]
  },
  {
   "cell_type": "markdown",
   "id": "c0279745",
   "metadata": {},
   "source": [
    "If you'd like to track the status of export tasks, use the code below. "
   ]
  },
  {
   "cell_type": "code",
   "execution_count": 20,
   "id": "7b778a7b",
   "metadata": {
    "colab": {
     "base_uri": "https://localhost:8080/"
    },
    "executionInfo": {
     "elapsed": 6005,
     "status": "ok",
     "timestamp": 1690211462841,
     "user": {
      "displayName": "Ian Housman",
      "userId": "00382093583884444463"
     },
     "user_tz": 360
    },
    "id": "qBkYgUm3JIRM",
    "outputId": "410ab298-a91c-4d34-ad21-3effc4990065"
   },
   "outputs": [
    {
     "name": "stdout",
     "output_type": "stream",
     "text": [
      "done\n"
     ]
    }
   ],
   "source": [
    "# Can track tasks here or at https://code.earthengine.google.com/tasks\n",
    "# If you'd like to track the tasks, use this:\n",
    "# tml.trackTasks2()\n",
    "\n",
    "# If you want to cancel all running tasks, you can use this function\n",
    "# tml.batchCancel()\n",
    "\n",
    "# If you want to empty the collection of all images\n",
    "# aml.batchDelete(export_landTrendr_collection, type = 'imageCollection')\n",
    "\n",
    "print('done')"
   ]
  },
  {
   "cell_type": "markdown",
   "id": "b3ff007c",
   "metadata": {},
   "source": [
    "> Note: The geeViz library also provides wrapper functions for array processing and running LandTrendr. You can use the [`changeDetectionLib.convertToLossGain()`](https://github.com/gee-community/geeViz/blob/fdd8f0080301f8d915214b6e2d50af03a0915777/changeDetectionLib.py#L778C5-L778C22) function in the geeViz library to perform array processing. You can also use the [`changeDetectionLib.simpleLANDTRENDR`](https://github.com/gee-community/geeViz/blob/27a0c5d8a0a9c9623e67599bf06448d64b481c56/changeDetectionLib.py#L344) to run LandTrendr. Check out examples and documentation in the [geeViz/examples](https://github.com/gee-community/geeViz/blob/master/examples/LANDTRENDRViz.py) repository.\n",
    "\n",
    "\n",
    "\n"
   ]
  },
  {
   "cell_type": "markdown",
   "id": "b527a4de",
   "metadata": {},
   "source": [
    "#### Convert LandTrendr array into time series - for input into LCMS\n",
    "\n",
    "While we can use the LandTrendr output for threshold-based change detection, LCMS uses it as inputs to supervised change, land cover, and land use classification models. Next, you will convert the raw LandTrendr array image asset into a time series of annual fitted, segment duration, segment magnitude of change, and slope values.\n",
    "\n",
    "This processing relies on the [`changeDetectionLib.batchSimpleLTFit`](https://github.com/gee-community/geeViz/blob/fdd8f0080301f8d915214b6e2d50af03a0915777/changeDetectionLib.py#L565) function. This function converts array (the format we are using) or stacked (an older format needed prior to being able to export EE Image arrays) outputs into a collection of fitted, annual outputs: e.g., magnitude of change, slope of change, duration of change for each year.\n",
    "\n",
    "While the fitted LandTrendr value is generally of most importance to our models, LandTrendr segment duration, slope, and magnitude of change can also help our models.\n",
    "\n",
    "Run the code block below to extract the fitted annual outputs and view them on the map."
   ]
  },
  {
   "cell_type": "code",
   "execution_count": 89,
   "id": "385f8768",
   "metadata": {},
   "outputs": [
    {
     "name": "stdout",
     "output_type": "stream",
     "text": [
      "Adding layer: LandTrendr All Predictors Time Series\n",
      "Adding layer: Study Area\n",
      "Starting webmap\n",
      "Using default refresh token for geeView: /home/jupyter/.config/earthengine/credentials\n",
      "Local web server at: http://localhost:1234/geeView/ already serving.\n",
      "cwd /home/jupyter/lcms-training\n",
      "Workbench Proxy URL: https://1307eb830a12e633-dot-us-central1.notebooks.googleusercontent.com/proxy/1234/geeView/?accessToken=None\n"
     ]
    },
    {
     "data": {
      "text/html": [
       "\n",
       "        <iframe\n",
       "            width=\"100%\"\n",
       "            height=\"525px\"\n",
       "            src=\"https://1307eb830a12e633-dot-us-central1.notebooks.googleusercontent.com/proxy/1234/geeView/?accessToken=None\"\n",
       "            frameborder=\"0\"\n",
       "            allowfullscreen\n",
       "            \n",
       "        ></iframe>\n",
       "        "
      ],
      "text/plain": [
       "<IPython.lib.display.IFrame at 0x7f91d40581f0>"
      ]
     },
     "metadata": {},
     "output_type": "display_data"
    }
   ],
   "source": [
    "# Load raw LandTrendr outputs\n",
    "lt_asset = ee.ImageCollection(f'{pre_baked_path_root}/lcms-training_module-3_landTrendr')\n",
    "\n",
    "# Convert into fitted, annual outputs: e.g., magnitude of change, slope of change, duration of change for each year\n",
    "lt_fit = changeDetectionLib.batchSimpleLTFit(lt_asset,startYear,endYear,None,bandPropertyName='band',arrayMode=True)\n",
    "\n",
    "#Add to the map\n",
    "Map.clearMap()\n",
    "Map.addLayer(lt_fit,{'bands':'swir2_LT_fitted,nir_LT_fitted,red_LT_fitted','min':0.15,'max':0.6},'LandTrendr All Predictors Time Series')\n",
    "\n",
    "\n",
    "Map.turnOnInspector()\n",
    "Map.addLayer(studyArea, {'strokeColor': '0000FF'}, \"Study Area\", False)\n",
    "Map.view()"
   ]
  },
  {
   "cell_type": "markdown",
   "id": "177b6375",
   "metadata": {},
   "source": [
    "#### Inspect\n",
    "Double-click the map to query values and see actual and fitted values for indices over time. Vizualize image collection that is used as predictors in LCMS models. When you double-click the output on the map, notice the different values available to the models\n",
    "\n",
    "#### Example: LandTrendr reduces noise in original composite time series \n",
    "\n",
    "The best way of understanding how LandTrendr contributes to reducing noise in the original composite time series is to visualize the LandTrendr outputs and the composite side-by-side. \n",
    "\n",
    "The example below takes the fitted values from LandTrendr and shows them along with the original composites. Notice many holes are now filled by LandTrendr. In general, LandTrendr reduces the amount of noise in the time series. There is a risk, however, of fitting too much and omitting changes such as those seen in 2017 for Hurricane Maria.\n",
    "\n",
    "Run the code block below to compare the fitted time series against the input composites. \n",
    "\n",
    "Click on the map, inspect the fitted time series, and watch the composite timelapse and the Landtrendr timelapse."
   ]
  },
  {
   "cell_type": "code",
   "execution_count": 90,
   "id": "94372372",
   "metadata": {},
   "outputs": [
    {
     "name": "stdout",
     "output_type": "stream",
     "text": [
      "Adding layer: Raw Composite Timelapse\n",
      "Adding layer: Fitted LandTrendr Composite Timelapse\n",
      "Adding layer: Raw and LT Fitted\n",
      "Adding layer: Study Area\n",
      "Starting webmap\n",
      "Using default refresh token for geeView: /home/jupyter/.config/earthengine/credentials\n",
      "Local web server at: http://localhost:1234/geeView/ already serving.\n",
      "cwd /home/jupyter/lcms-training\n",
      "Workbench Proxy URL: https://1307eb830a12e633-dot-us-central1.notebooks.googleusercontent.com/proxy/1234/geeView/?accessToken=None\n"
     ]
    },
    {
     "data": {
      "text/html": [
       "\n",
       "        <iframe\n",
       "            width=\"100%\"\n",
       "            height=\"525px\"\n",
       "            src=\"https://1307eb830a12e633-dot-us-central1.notebooks.googleusercontent.com/proxy/1234/geeView/?accessToken=None\"\n",
       "            frameborder=\"0\"\n",
       "            allowfullscreen\n",
       "            \n",
       "        ></iframe>\n",
       "        "
      ],
      "text/plain": [
       "<IPython.lib.display.IFrame at 0x7f91d4bc8e80>"
      ]
     },
     "metadata": {},
     "output_type": "display_data"
    }
   ],
   "source": [
    "# Visualize fitted landTrendr composites\n",
    "fitted_bns = lt_fit.select(['.*_fitted']).first().bandNames()\n",
    "out_bns = fitted_bns.map(lambda bn: ee.String(bn).split('_').get(0))\n",
    "\n",
    "# Give same names as composites\n",
    "lt_synth = lt_fit.select(fitted_bns,out_bns)\n",
    "\n",
    "# Clear Map\n",
    "Map.clearMap()\n",
    "\n",
    "# Visualize raw and LandTrendr fitted composites\n",
    "Map.addTimeLapse(composites,getImagesLib.vizParamsFalse,'Raw Composite Timelapse')\n",
    "Map.addTimeLapse(lt_synth,getImagesLib.vizParamsFalse,'Fitted LandTrendr Composite Timelapse')\n",
    "\n",
    "# Join the raw and fitted values\n",
    "ltJoined = getImagesLib.joinCollections(composites.select(bandNames),lt_fit.select(['.*_fitted']))\n",
    "\n",
    "# Add to Map\n",
    "Map.addLayer(ltJoined,{'min':0.2,'max':1},'Raw and LT Fitted',True)\n",
    "\n",
    "Map.turnOnInspector()\n",
    "Map.addLayer(studyArea, {'strokeColor': '0000FF'}, \"Study Area\", False)\n",
    "Map.view()"
   ]
  },
  {
   "cell_type": "markdown",
   "id": "b5a44f3a",
   "metadata": {},
   "source": [
    "## Lab 3 Challenge 1: \n",
    "\n",
    "Calculate LandTrendr stats for NDVI and process arrays into most recent change year. Add the layer to a map and view it. Title your layer \"LandTrendr NDVI Most Recent Change Year\".\n",
    "\n",
    "**For Qwiklabs users**, this will be assessed for completion in the Activity Tracking portion of Lab 3.\n",
    "\n",
    "\n",
    "1. Calculate the LandTrendr raw output for NDVI from the composites\n",
    "\n",
    "\n",
    "2.  Convert array output into most recent change year\n",
    "    * Use the following function: `changeDetectionLib.convertToLossGain`\n",
    "        <br>\n",
    "        \n",
    "        Example:\n",
    "        ```python\n",
    "                loss_stack = changeDetectionLib.convertToLossGain(\n",
    "                lt_array, \n",
    "                format = 'rawLandTrendr', \n",
    "                lossMagThresh = -0.15, \n",
    "                lossSlopeThresh = -0.1, \n",
    "                gainMagThresh = 0.1, \n",
    "                gainSlopeThresh = 0.1, \n",
    "                slowLossDurationThresh = 3, \n",
    "                chooseWhichLoss = 'newest', \n",
    "                chooseWhichGain = 'newest', \n",
    "                howManyToPull = 2)['lossStack'].select(['loss_yr_1'])\n",
    "                \n",
    "        ```\n",
    "        <br> \n",
    "\n",
    "\n",
    "3.  Extract the most recent change year for the following location. \n",
    "\n",
    "    * Use a point with these coordinates: `([-65.658,18.294])`\n",
    "\n",
    "    * Use the following function: `g2p.extractPointValuesToDataFrame`\n",
    "        <br>\n",
    "        \n",
    "        Example:\n",
    "        ```python\n",
    "                extracted_values = g2p.extractPointValuesToDataFrame(\n",
    "                loss_stack,\n",
    "                ee.Geometry.Point([-65.658,18.294]),\n",
    "                scale=30,\n",
    "                crs = \"EPSG:5070\", \n",
    "                transform = None,\n",
    "                reducer = ee.Reducer.first(),\n",
    "                includeNonSystemProperties = False,\n",
    "                includeSystemProperties=True\n",
    "                )\n",
    "        ```\n",
    "        <br> \n",
    "4. Save extracted values to a csv file.\n",
    "\n",
    "   * Save csv to this path: `\"/tmp/challenge/module_3_challenge1_answer.csv\"`\n",
    "     * **Note: The path to the csv must exactly match the path above.** \n",
    "    <br>\n",
    "    \n",
    "    * Create the `\"/tmp/challenge\"` folder if it does not already exist.\n",
    "      \n",
    "        Example:\n",
    "    ```python\n",
    "        out_csv = \"/tmp/challenge/module_3_challenge1_answer.csv\"\n",
    "        if not os.path.exists(os.path.dirname(out_csv)):os.makedirs(os.path.dirname(out_csv))\n",
    "    ```\n",
    "<br>\n",
    "\n",
    "5.  Check that the output csv exists.\n",
    "    \n",
    "    * Example: \n",
    "    ```python\n",
    "        print(os.path.exists(out_csv))\n",
    "    ```\n",
    "<br>"
   ]
  },
  {
   "cell_type": "code",
   "execution_count": 59,
   "id": "f064405f",
   "metadata": {},
   "outputs": [
    {
     "name": "stdout",
     "output_type": "stream",
     "text": [
      "Adding layer: LT Raw NDVI\n",
      "Converting LandTrendr from raw output to Gain & Loss\n",
      "Adding layer: Loss Magnitude\n",
      "Adding layer: Loss Year\n",
      "Starting webmap\n",
      "Using default refresh token for geeView: /home/jupyter/.config/earthengine/credentials\n",
      "Local web server at: http://localhost:1234/geeView/ already serving.\n",
      "cwd /home/jupyter/lcms-training\n",
      "Workbench Proxy URL: https://1307eb830a12e633-dot-us-central1.notebooks.googleusercontent.com/proxy/1234/geeView/?accessToken=None\n"
     ]
    },
    {
     "data": {
      "text/html": [
       "\n",
       "        <iframe\n",
       "            width=\"100%\"\n",
       "            height=\"525px\"\n",
       "            src=\"https://1307eb830a12e633-dot-us-central1.notebooks.googleusercontent.com/proxy/1234/geeView/?accessToken=None\"\n",
       "            frameborder=\"0\"\n",
       "            allowfullscreen\n",
       "            \n",
       "        ></iframe>\n",
       "        "
      ],
      "text/plain": [
       "<IPython.lib.display.IFrame at 0x7f91d4079f90>"
      ]
     },
     "metadata": {},
     "output_type": "display_data"
    },
    {
     "data": {
      "text/html": [
       "<div>\n",
       "<style scoped>\n",
       "    .dataframe tbody tr th:only-of-type {\n",
       "        vertical-align: middle;\n",
       "    }\n",
       "\n",
       "    .dataframe tbody tr th {\n",
       "        vertical-align: top;\n",
       "    }\n",
       "\n",
       "    .dataframe thead th {\n",
       "        text-align: right;\n",
       "    }\n",
       "</style>\n",
       "<table border=\"1\" class=\"dataframe\">\n",
       "  <thead>\n",
       "    <tr style=\"text-align: right;\">\n",
       "      <th></th>\n",
       "      <th>loss_yr_1</th>\n",
       "    </tr>\n",
       "  </thead>\n",
       "  <tbody>\n",
       "    <tr>\n",
       "      <th>0</th>\n",
       "      <td>2012</td>\n",
       "    </tr>\n",
       "  </tbody>\n",
       "</table>\n",
       "</div>"
      ],
      "text/plain": [
       "   loss_yr_1\n",
       "0       2012"
      ]
     },
     "metadata": {},
     "output_type": "display_data"
    },
    {
     "name": "stdout",
     "output_type": "stream",
     "text": [
      "True\n",
      "['loss_yr_1', 'loss_yr_2', 'loss_dur_1', 'loss_dur_2', 'loss_mag_1', 'loss_mag_2', 'loss_slope_1', 'loss_slope_2']\n",
      "done\n"
     ]
    }
   ],
   "source": [
    "# Insert challenge code here\n",
    "\n",
    "Map.clearMap()\n",
    "\n",
    "# set up LandTrendr\n",
    "test_band = 'NDVI'\n",
    "run_params['timeSeries'] = composites.select([test_band])\n",
    "raw_LT = ee.Algorithms.TemporalSegmentation.LandTrendr(**run_params)\n",
    "\n",
    "# Add to Map\n",
    "Map.addLayer(raw_LT,{'opacity':0},'LT Raw {}'.format(test_band),True)\n",
    "\n",
    "\n",
    "# Provide an example location \n",
    "pt = ee.Geometry.Point([-65.658,18.294])\n",
    "\n",
    "# Select the LandTrendr image array output band\n",
    "lt_array = raw_LT.select(['LandTrendr'])\n",
    "\n",
    "\n",
    "# Convert to change stack and select the first newest (most recent) loss year\n",
    "change_stack = changeDetectionLib.convertToLossGain(lt_array, \n",
    "                                                    format = 'rawLandTrendr', \n",
    "                                                    lossMagThresh = -0.15, \n",
    "                                                    lossSlopeThresh = -0.1, \n",
    "                                                    gainMagThresh = 0.1, \n",
    "                                                    gainSlopeThresh = 0.1, \n",
    "                                                    slowLossDurationThresh = 3, \n",
    "                                                    chooseWhichLoss = 'newest', \n",
    "                                                    chooseWhichGain = 'newest', \n",
    "                                                    howManyToPull = 2)['lossStack']\n",
    "\n",
    "Map.addLayer(change_stack.select(['loss_mag_1']),{'min':-0.8,'max':-0.15,'palette':lossMagPalette},'Loss Magnitude')\n",
    "Map.addLayer(change_stack.select(['loss_yr_1']),{'min':startYear,'max':endYear,'palette':changeDetectionLib.lossYearPalette},'Loss Year')\n",
    "\n",
    "Map.turnOnInspector()\n",
    "Map.view()\n",
    "\n",
    "\n",
    "# Extract values\n",
    "values = g2p.extractPointValuesToDataFrame(\n",
    "          change_stack.select(['loss_yr_1']),\n",
    "          ee.Geometry.Point([-65.658,18.294]),\n",
    "          scale=30,\n",
    "          crs = \"EPSG:5070\", \n",
    "          transform = None,\n",
    "          reducer = ee.Reducer.first(),\n",
    "          includeNonSystemProperties = False,\n",
    "          includeSystemProperties=True\n",
    "          )\n",
    "# Save csv\n",
    "out_csv = \"/tmp/challenge/module_3_challenge1_answer.csv\"\n",
    "if not os.path.exists(os.path.dirname(out_csv)):os.makedirs(os.path.dirname(out_csv))\n",
    "values.to_csv(out_csv)\n",
    "display(values)\n",
    "\n",
    "# Check to ensure csv exists\n",
    "print(os.path.exists(out_csv))\n",
    "print(change_stack.bandNames().getInfo())\n",
    "print('done')"
   ]
  },
  {
   "cell_type": "markdown",
   "id": "39d0fec4",
   "metadata": {},
   "source": [
    "### Congratulations! You're done with the LandTrendr portion of Lab 3\n",
    "\n",
    "Other GeeViz LandTrendr examples: \n",
    "- https://github.com/gee-community/geeViz/blob/master/examples/LANDTRENDRViz.py\n",
    "- https://github.com/gee-community/geeViz/blob/master/examples/LANDTRENDRWrapper.py\n",
    "- https://github.com/gee-community/geeViz/blob/master/examples/LANDTRENDRWrapperNotebook.ipynb\n",
    "\n",
    "\n",
    "LandTrendr fitted data will be used as inputs to LCMS in subsequent modules."
   ]
  },
  {
   "cell_type": "markdown",
   "id": "786b872c",
   "metadata": {},
   "source": [
    "## 3.4: Scale over large areas using tiles\n",
    "\n",
    "CCDC is the most memory intensive algorithm used in LCMS. As a result, you are the most likely to need tobreak up your study area into smaller areas (tiles) or another memory management approach when running CCDC, particularly over large study areas.\n",
    "\n",
    "You will generally only use tiles when a process fails due to memory or internal errors. Then, you will divide the study area up into tiles. You should choose roughly the maximum tile size that allows your process to complete with no errors.\n",
    "\n",
    "### 3.4.1: View tiles used in current CONUS LCMS workflow\n",
    "\n",
    "Currently, we run LCMS for the Conterminous US (CONUS), Coastal Alaska, Hawaii, and Puerto Rico / the US Virgin Islands. For CONUS, we have to divide all processing up in order to avoid running out of memory.\n",
    "\n",
    "Note that the tiles below are much larger than Puerto Rico and the US Virgin Islands. You do not strictly need to create tiles to run CCDC in Puerto Rico, but we provide this example of scaling so that you can apply it if you work on other study areas. \n",
    "\n",
    "This next block of code will show the tiles that the LCMS composites use for exporting to asset."
   ]
  },
  {
   "cell_type": "code",
   "execution_count": 60,
   "id": "fc742c93",
   "metadata": {
    "colab": {
     "base_uri": "https://localhost:8080/",
     "height": 668
    },
    "executionInfo": {
     "elapsed": 654,
     "status": "ok",
     "timestamp": 1690239679889,
     "user": {
      "displayName": "Ian Housman",
      "userId": "00382093583884444463"
     },
     "user_tz": 360
    },
    "id": "NjZBHBs3C1Uy",
    "outputId": "fce5e58c-2ef8-4dd1-8bff-6d94dd48558e"
   },
   "outputs": [
    {
     "name": "stdout",
     "output_type": "stream",
     "text": [
      "Adding layer: Example CONUS 2022 LCMS Composite\n",
      "Adding layer: LCMS Composite Tile Geometry\n",
      "Starting webmap\n",
      "Using default refresh token for geeView: /home/jupyter/.config/earthengine/credentials\n",
      "Local web server at: http://localhost:1234/geeView/ already serving.\n",
      "cwd /home/jupyter/lcms-training\n",
      "Workbench Proxy URL: https://1307eb830a12e633-dot-us-central1.notebooks.googleusercontent.com/proxy/1234/geeView/?accessToken=None\n"
     ]
    },
    {
     "data": {
      "text/html": [
       "\n",
       "        <iframe\n",
       "            width=\"100%\"\n",
       "            height=\"525px\"\n",
       "            src=\"https://1307eb830a12e633-dot-us-central1.notebooks.googleusercontent.com/proxy/1234/geeView/?accessToken=None\"\n",
       "            frameborder=\"0\"\n",
       "            allowfullscreen\n",
       "            \n",
       "        ></iframe>\n",
       "        "
      ],
      "text/plain": [
       "<IPython.lib.display.IFrame at 0x7f91d407ae60>"
      ]
     },
     "metadata": {},
     "output_type": "display_data"
    }
   ],
   "source": [
    "# First, view the tiles used in the current CONUS LCMS workflow\n",
    "lcms_CONUS_composites = ee.ImageCollection('projects/lcms-tcc-shared/assets/Composites/Composite-Collection-yesL7-1984-2020')\\\n",
    "                                                .filter(ee.Filter.calendarRange(2022,2022,'year'))\n",
    "\n",
    "# Pull the geometry of each tile in the composites\n",
    "lcms_composites_tile_geo = lcms_CONUS_composites.map(lambda f:ee.Feature(f.geometry()).copyProperties(f,['studyAreaName']))\n",
    "\n",
    "# Add the tiles and a composite for reference\n",
    "Map.clearMap()\n",
    "Map.addLayer(lcms_CONUS_composites.mosaic(),getImagesLib.vizParamsTrue10k,'Example CONUS 2022 LCMS Composite')\n",
    "Map.addLayer(lcms_composites_tile_geo,{},'LCMS Composite Tile Geometry')\n",
    "\n",
    "Map.centerObject(lcms_composites_tile_geo)\n",
    "Map.turnOnInspector()\n",
    "Map.view()"
   ]
  },
  {
   "cell_type": "markdown",
   "id": "1e3a69ff",
   "metadata": {},
   "source": [
    "### 3.4.2: Create tiles of various sizes\n",
    "\n",
    "**To determine what size tile you would use:** Generally, you would start with the biggest tile possible and work your way down till you stop having memory issues. Currently, in CONUS LCMS uses 480km tiles (with a 900m buffer) for most processing (everything but CCDC)\n",
    "\n",
    "To determine what size tile to use for your project, you can create and inspect tiles of various sizes. Below is an example of how to create a pyramid of tiles at various scales.\n",
    "\n",
    "Run the code block below to generate a set of tile grids of various sizes across the Conterminous US. Turn the layers on and off to compare the size of the grids. "
   ]
  },
  {
   "cell_type": "code",
   "execution_count": 61,
   "id": "f742e33b",
   "metadata": {
    "colab": {
     "base_uri": "https://localhost:8080/",
     "height": 720
    },
    "executionInfo": {
     "elapsed": 405,
     "status": "ok",
     "timestamp": 1690241047808,
     "user": {
      "displayName": "Ian Housman",
      "userId": "00382093583884444463"
     },
     "user_tz": 360
    },
    "id": "wstpK3iCGOck",
    "outputId": "de19ecd8-e75d-4038-d57b-314e1012efe1"
   },
   "outputs": [
    {
     "name": "stdout",
     "output_type": "stream",
     "text": [
      "Adding layer: Tile Grid 480000m\n",
      "Adding layer: Tile Grid 240000m\n",
      "Adding layer: Tile Grid 120000m\n",
      "Adding layer: Tile Grid 60000m\n",
      "Adding layer: LCMS CONUS Study Area\n",
      "Starting webmap\n",
      "Using default refresh token for geeView: /home/jupyter/.config/earthengine/credentials\n",
      "Local web server at: http://localhost:1234/geeView/ already serving.\n",
      "cwd /home/jupyter/lcms-training\n",
      "Workbench Proxy URL: https://1307eb830a12e633-dot-us-central1.notebooks.googleusercontent.com/proxy/1234/geeView/?accessToken=None\n"
     ]
    },
    {
     "data": {
      "text/html": [
       "\n",
       "        <iframe\n",
       "            width=\"100%\"\n",
       "            height=\"525px\"\n",
       "            src=\"https://1307eb830a12e633-dot-us-central1.notebooks.googleusercontent.com/proxy/1234/geeView/?accessToken=None\"\n",
       "            frameborder=\"0\"\n",
       "            allowfullscreen\n",
       "            \n",
       "        ></iframe>\n",
       "        "
      ],
      "text/plain": [
       "<IPython.lib.display.IFrame at 0x7f91d44bd690>"
      ]
     },
     "metadata": {},
     "output_type": "display_data"
    }
   ],
   "source": [
    "Map.clearMap()\n",
    "\n",
    "# set study area and projection\n",
    "lcms_CONUS_studyArea = ee.FeatureCollection('projects/lcms-292214/assets/CONUS-Ancillary-Data/conus')\n",
    "lcms_CONUS_projection = lcms_CONUS_composites.first().projection()\n",
    "\n",
    "# get grid and add to map\n",
    "def getGrid(studyArea,projection,size):\n",
    "  grid = studyArea.geometry().coveringGrid(projection.atScale(size))\n",
    "  return grid\n",
    "\n",
    "# get grids\n",
    "grid480= getGrid(lcms_CONUS_studyArea,lcms_CONUS_projection,480000)\n",
    "getGrid(lcms_CONUS_studyArea,lcms_CONUS_projection,240000)\n",
    "getGrid(lcms_CONUS_studyArea,lcms_CONUS_projection,120000)\n",
    "getGrid(lcms_CONUS_studyArea,lcms_CONUS_projection,60000)\n",
    "\n",
    "# add to Map\n",
    "Map.addLayer(lcms_CONUS_studyArea,{},'LCMS CONUS Study Area')\n",
    "\n",
    "Map.turnOnInspector()\n",
    "Map.view()\n"
   ]
  },
  {
   "cell_type": "markdown",
   "id": "d8333689",
   "metadata": {},
   "source": [
    "#### Takeaway from this map\n",
    "You can scale in all different sizes, but best practice to explore different tile sizes is to pyramid the tiles by dividing the size by 2 for each smaller size. The scale of tile you choose for your operation will depend on your study area and the process you want to perform. Tiles might be too large or too small for your area of interest depending on the size of the area and the complexity of the process being performed.\n",
    "\n",
    "### How to use tiles to scale over large areas\n",
    "To use tiles in practice, you first need to create a list of each available tile. Then, you will iterate your function of interest across each tile, clip it to the study area, buffer it, get the data, and export.\n",
    "\n",
    "Run the code below to examine the first two tiles used for LCMS in the Conterminous US. The CCDC script would run over each of these tiles one at a time and then mosaic the results together to create the output over the large geographic area of the US. "
   ]
  },
  {
   "cell_type": "code",
   "execution_count": 62,
   "id": "6351e909",
   "metadata": {
    "colab": {
     "base_uri": "https://localhost:8080/",
     "height": 703
    },
    "executionInfo": {
     "elapsed": 2095,
     "status": "ok",
     "timestamp": 1690241366219,
     "user": {
      "displayName": "Ian Housman",
      "userId": "00382093583884444463"
     },
     "user_tz": 360
    },
    "id": "vDCOJ6KrLtHv",
    "outputId": "004f960e-91e1-4919-ad16-be462fd2978f"
   },
   "outputs": [
    {
     "name": "stdout",
     "output_type": "stream",
     "text": [
      "Adding layer: Tile -3,-6\n",
      "Adding layer: Tile -4,-6\n",
      "Starting webmap\n",
      "Using default refresh token for geeView: /home/jupyter/.config/earthengine/credentials\n",
      "Local web server at: http://localhost:1234/geeView/ already serving.\n",
      "cwd /home/jupyter/lcms-training\n",
      "Workbench Proxy URL: https://1307eb830a12e633-dot-us-central1.notebooks.googleusercontent.com/proxy/1234/geeView/?accessToken=None\n"
     ]
    },
    {
     "data": {
      "text/html": [
       "\n",
       "        <iframe\n",
       "            width=\"100%\"\n",
       "            height=\"525px\"\n",
       "            src=\"https://1307eb830a12e633-dot-us-central1.notebooks.googleusercontent.com/proxy/1234/geeView/?accessToken=None\"\n",
       "            frameborder=\"0\"\n",
       "            allowfullscreen\n",
       "            \n",
       "        ></iframe>\n",
       "        "
      ],
      "text/plain": [
       "<IPython.lib.display.IFrame at 0x7f91d44bd690>"
      ]
     },
     "metadata": {},
     "output_type": "display_data"
    }
   ],
   "source": [
    "Map.clearMap()\n",
    "\n",
    "ids = grid480.limit(2).aggregate_histogram('system:index').keys().getInfo()\n",
    "for id in ids:\n",
    "  # Get the tile and clip it to the study area and then buffer\n",
    "  tile = grid480.filter(ee.Filter.eq('system:index',id)).geometry().intersection(lcms_CONUS_studyArea,240,lcms_CONUS_projection).buffer(900)\n",
    "  Map.addLayer(tile,{},'Tile {}'.format(id))\n",
    "\n",
    "Map.centerObject(tile)\n",
    "Map.view()"
   ]
  },
  {
   "cell_type": "markdown",
   "id": "843f6650",
   "metadata": {},
   "source": [
    "## 3.5: Change Detection with CCDC\n",
    "\n",
    "CCDC has a fundamentally different definition of what \"change\" is from LandTrendr. LandTrendr defines change as a change in the linear direction of the time series as depicted with a linear regression model, while CCDC defines change as a change in the seasonlity (phenology) as depicted using harmonic regression (linear regression over many different wave forms). \n",
    "\n",
    "As a result, in general, LandTrendr's depiction of change aligns with many forest-related change types such as fire, insects and disease, etc. While these types of changes often change the direction of the trajectory abruptly, they do not always change the seasonlity patterns in an abrupt manner. \n",
    "\n",
    "CCDC can be better at detection detecting changes that impact the phenology that LandTrendr can miss. This can be useful in urban, agricultural, and rangeland applications.\n",
    "\n",
    "\n",
    "### 3.5.1: Running CCDC - one tile\n",
    "\n",
    "#### Set up tiles \n",
    "\n",
    "We'll use the full Puerto Rico and US Virgin Islands LCMS study area, and will run our analysis from 1984-2023.\n",
    "\n",
    "Run the code block below to set up the scale of tiles, study area, projection, and tile grid. You will add the tile grid and the study area to the map"
   ]
  },
  {
   "cell_type": "code",
   "execution_count": 63,
   "id": "34b5e3cb",
   "metadata": {},
   "outputs": [
    {
     "name": "stdout",
     "output_type": "stream",
     "text": [
      "Adding layer: Tile Grid 60000m\n",
      "Adding layer: Study Area\n",
      "Starting webmap\n",
      "Using default refresh token for geeView: /home/jupyter/.config/earthengine/credentials\n",
      "Local web server at: http://localhost:1234/geeView/ already serving.\n",
      "cwd /home/jupyter/lcms-training\n",
      "Workbench Proxy URL: https://1307eb830a12e633-dot-us-central1.notebooks.googleusercontent.com/proxy/1234/geeView/?accessToken=None\n"
     ]
    },
    {
     "data": {
      "text/html": [
       "\n",
       "        <iframe\n",
       "            width=\"100%\"\n",
       "            height=\"525px\"\n",
       "            src=\"https://1307eb830a12e633-dot-us-central1.notebooks.googleusercontent.com/proxy/1234/geeView/?accessToken=None\"\n",
       "            frameborder=\"0\"\n",
       "            allowfullscreen\n",
       "            \n",
       "        ></iframe>\n",
       "        "
      ],
      "text/plain": [
       "<IPython.lib.display.IFrame at 0x7f91d407b9a0>"
      ]
     },
     "metadata": {},
     "output_type": "display_data"
    }
   ],
   "source": [
    "# Set the size (in meters) of the tiles\n",
    "tileSize = 60000\n",
    "\n",
    "# Specify study area\n",
    "studyArea = ee.FeatureCollection('projects/lcms-292214/assets/R8/PR_USVI/Ancillary/prusvi_boundary')\n",
    "\n",
    "# Set the projection\n",
    "crs = getImagesLib.common_projections['NLCD_CONUS']['crs']\n",
    "transform  = getImagesLib.common_projections['NLCD_CONUS']['transform']\n",
    "scale = None\n",
    "projection = ee.Projection(crs,transform)\n",
    "\n",
    "\n",
    "# Get the grid\n",
    "grid = studyArea.geometry().coveringGrid(projection.atScale(tileSize))\n",
    "\n",
    "# clear the map\n",
    "Map.clearMap()\n",
    "\n",
    "# Add to map\n",
    "Map.addLayer(grid,{},'Tile Grid {}m'.format(tileSize))\n",
    "Map.addLayer(studyArea,{},'Study Area')\n",
    "\n",
    "Map.turnOnInspector()\n",
    "Map.centerObject(studyArea)\n",
    "Map.view()"
   ]
  },
  {
   "cell_type": "markdown",
   "id": "cc85df9a",
   "metadata": {},
   "source": [
    "### 3.5.2: Get Landsat imagery \n",
    "\n",
    "Next, set some preliminary parameters that describe the Landsat imagery you'll bring in to the CCDC Analysis. \n",
    "\n",
    "The parameters below you should seem familiar from module 2. However, for this module, we'll be pulling in a continuous series of imagery to which you'll apply a cloud mask-- rather than creating annual composites. This is because CCDC needs all available clear observations, as opposed to LandTrendr, which needs annual composites. \n",
    "\n",
    "Refer to the documentation for [`getImagesLib.getProcessedLandsatScenes`](https://github.com/gee-community/geeViz/blob/27a0c5d8a0a9c9623e67599bf06448d64b481c56/getImagesLib.py#L2563) for more details.\n",
    "\n",
    "#### Select study area\n",
    "\n",
    "We'll start with one tile in the Puerto Rico and US Virgin Islands LCMS study area. We'll use the tile that falls over El Yunque National Forest, but any smaller subset should work. \n",
    "\n",
    "#### Select date range\n",
    "\n",
    "More than a 3 year span should be provided for time series methods to work well. If providing pre-computed stats for cloudScore and TDOM, this does not matter. Here, you will run your analysis from 1984-2023.\n",
    "\n",
    "You will update the startJulian and endJulian variables to indicate your seasonal constraints. This supports wrapping for tropics and southern hemisphere. If using wrapping and the majority of the days occur in the second year, the system:time_start will default to June 1 of the second year. Otherwise, all system:time_starts will default to June 1 of the first year (e.g. if the compositing period is from Dec 1, 2020 to Feb 28, 2021, the system:time_start will be set to June 1, 2021).\n",
    "\n",
    "#### Select bands and indices to obtain\n",
    "\n",
    "You will also determine which bands/indices to obtain to run the CCDC analysis. These will not always be used to find breaks - that is specified below in the `breakpointBands` parameter for CCDC. \n",
    "\n",
    "Be sure that any bands in `ccdcParams.breakpointBands` parameter, which we'll set next, are in this list.\n",
    "\n",
    "Options for bands are: \"blue\",\"green\",\"red\",\"nir\",\"swir1\",\"swir2\",\"NDVI\",\"NBR\",\"NDMI\",\"NDSI\",\"brightness\",\"greenness\",\"wetness\",\"fourth\",\"fifth\",\"sixth\",\"tcAngleBG\"\n",
    "\n",
    "#### Remove high values for bands and indices\n",
    "You will also write a function to remove any high value for bands or indices. These high values might be artifacts and result in errors, so we'll remove them from the time series. You'll apply the function to the image.\n",
    "\n",
    "* Run the code block below to obtain and process Landsat imagery.\n"
   ]
  },
  {
   "cell_type": "code",
   "execution_count": 64,
   "id": "bb8f71ae",
   "metadata": {},
   "outputs": [
    {
     "name": "stdout",
     "output_type": "stream",
     "text": [
      "Get Processed Landsat: \n",
      "Start date: Jan 01 1984 , End date: Dec 31 2023\n",
      "Applying scale factors for C2 L4 data\n",
      "Applying scale factors for C2 L5 data\n",
      "Applying scale factors for C2 L8 data\n",
      "Including All Landsat 7\n",
      "Applying scale factors for C2 L7 data\n",
      "Applying scale factors for C2 L9 data\n",
      "Applying Fmask Cloud Mask\n",
      "Applying Fmask Shadow Mask\n",
      "Done\n",
      "Adding layer: Tile -4,-6\n",
      "Adding layer: Processed Landsat Input\n",
      "Starting webmap\n",
      "Using default refresh token for geeView: /home/jupyter/.config/earthengine/credentials\n",
      "Local web server at: http://localhost:1234/geeView/ already serving.\n",
      "cwd /home/jupyter/lcms-training\n",
      "Workbench Proxy URL: https://1307eb830a12e633-dot-us-central1.notebooks.googleusercontent.com/proxy/1234/geeView/?accessToken=None\n"
     ]
    },
    {
     "data": {
      "text/html": [
       "\n",
       "        <iframe\n",
       "            width=\"100%\"\n",
       "            height=\"525px\"\n",
       "            src=\"https://1307eb830a12e633-dot-us-central1.notebooks.googleusercontent.com/proxy/1234/geeView/?accessToken=None\"\n",
       "            frameborder=\"0\"\n",
       "            allowfullscreen\n",
       "            \n",
       "        ></iframe>\n",
       "        "
      ],
      "text/plain": [
       "<IPython.lib.display.IFrame at 0x7f91d405af20>"
      ]
     },
     "metadata": {},
     "output_type": "display_data"
    }
   ],
   "source": [
    "# list tile ids\n",
    "ids = grid.aggregate_histogram('system:index').keys().getInfo()\n",
    "\n",
    "# Get the tile and buffer it so there are no missing pixels at tile edges\n",
    "tile = grid.filter(ee.Filter.eq('system:index',ids[6]))\n",
    "\n",
    "#Specify start and end years for all analyses\n",
    "startYear = 1984\n",
    "endYear = 2023\n",
    "\n",
    "#startJulian: Starting Julian date\n",
    "#endJulian: Ending Julian date\n",
    "startJulian = 1\n",
    "endJulian = 365\n",
    "\n",
    "#Choose whether to include Landat 7\n",
    "#Generally only included when data are limited\n",
    "includeSLCOffL7 = True\n",
    "\n",
    "# set export bands\n",
    "exportBands = [\"blue\",\"green\",\"red\",\"nir\",\"swir1\",\"swir2\",\"NDVI\"]\n",
    "\n",
    "# Write function to Remove any extremely high band/index values\n",
    "def removeGT1(img):\n",
    "  lte1 = img.select(['blue','green','nir','swir1','swir2']).lte(1).reduce(ee.Reducer.min());\n",
    "  return img.updateMask(lte1);\n",
    "\n",
    "# set viz params\n",
    "getImagesLib.vizParamsFalse['min']=0.15\n",
    "getImagesLib.vizParamsFalse['max']=0.8\n",
    "\n",
    "# get processed scenes\n",
    "processedScenes = getImagesLib.getProcessedLandsatScenes(studyArea = tile, startYear = startYear, endYear = endYear,\n",
    "                                                    startJulian = startJulian,endJulian = endJulian,\n",
    "                                                   includeSLCOffL7 = includeSLCOffL7).select(exportBands)\n",
    "\n",
    "# apply function to remove high band/index values\n",
    "processedScenes = processedScenes.map(removeGT1)\n",
    "# print(processedScenes.size().getInfo())\n",
    "\n",
    "print('Done')\n",
    "\n",
    "# add to map\n",
    "Map.clearMap()\n",
    "Map.addLayer(tile,{},'Tile {}'.format(id))\n",
    "Map.centerObject(tile)\n",
    "\n",
    "#Map.addLayer(processedScenes,getImagesLib.vizParamsFalse,'Raw Processed Landsat Input')\n",
    "Map.addLayer(processedScenes,{}, 'Processed Landsat Input')\n",
    "\n",
    "\n",
    "Map.turnOnInspector()\n",
    "Map.view()"
   ]
  },
  {
   "cell_type": "markdown",
   "id": "c820fe0c",
   "metadata": {},
   "source": [
    "### 3.5.3: Set CCDC parameters\n",
    "\n",
    "Next, you'll set the parameters that will be used in the CCDC algorithm. The parameters are described below. For more information, refer to the [GEE CCDC Documentation](https://developers.google.com/earth-engine/apidocs/ee-algorithms-temporalsegmentation-ccdc).\n",
    "\n",
    "#### CCDC parameters\n",
    "\n",
    "**CCDC Parameters include:**\n",
    "| Argument             | Type                    | Details                                                                                                                                                                                                                                |\n",
    "|----------------------|-------------------------|----------------------------------------------------------------------------------------------------------------------------------------------------------------------------------------------------------------------------------------|\n",
    "| collection           | ImageCollection         | Collection of images on which to run CCDC.                                                                                                                                                                                             |\n",
    "| breakpointBands      | List, default: None     | The name or index of the bands to use for change detection. If unspecified, all bands are used.                                                                                                                                        |\n",
    "| tmaskBands           | List, default: None     | The name or index of the bands to use for iterative TMask cloud detection. These are typically the green band and the SWIR1 band. If unspecified, TMask is not used. If specified, 'tmaskBands' must be included in 'breakpointBands'. |\n",
    "| minObservations      | Integer, default: 6     | The number of observations required to flag a change.                                                                                                                                                                                  |\n",
    "| chiSquareProbability | Float, default: 0.99    | The chi-square probability threshold for change detection in the range of [0, 1]                                                                                                                                                       |\n",
    "| minNumOfYearsScaler  | Float, default: 1.33    | Factors of minimum number of years to apply new fitting.                                                                                                                                                                               |\n",
    "| dateFormat           | Integer, default: 0     | The time representation to use during fitting: 0 = jDays, 1 = fractional years, 2 = unix time in milliseconds. The start, end and break times for each temporal segment will be encoded this way.                                      |\n",
    "| lambda               | Float, default: 20      | Lambda for LASSO regression fitting. If set to 0, regular OLS is used instead of LASSO. 20 would be if input data was scaled 0-10000. If 0-1 reflectance, 20 would become 0.002                                                                                                                                                |\n",
    "| maxIterations        | Integer, default: 25000 | Maximum number of runs for LASSO regression convergence. If set to 0, regular OLS is used instead of LASSO.                                                                                                                            |\n",
    "* Run the code chunk below to set the parameters that you'll use in the CCDC model.\n"
   ]
  },
  {
   "cell_type": "code",
   "execution_count": 65,
   "id": "44b0026a",
   "metadata": {},
   "outputs": [
    {
     "name": "stdout",
     "output_type": "stream",
     "text": [
      "Done\n"
     ]
    }
   ],
   "source": [
    "# Set CCDC parameters\n",
    "ccdcParams ={\n",
    "  'breakpointBands':['green','red','nir','swir1','swir2','NDVI'],\n",
    "  'tmaskBands' : None,\n",
    "  'minObservations': 6,\n",
    "  'chiSquareProbability': 0.99,\n",
    "  'minNumOfYearsScaler': 1.33,\n",
    "  'lambda': 0.002, # Since our reflectance data is 0-1 and not 0-10000, we divide 20 by 10000\n",
    "  'maxIterations' : 25000,\n",
    "  'dateFormat' : 1\n",
    "}\n",
    "\n",
    "print('Done')"
   ]
  },
  {
   "cell_type": "markdown",
   "id": "c2c14a8b",
   "metadata": {},
   "source": [
    "### 3.5.4 - Run CCDC algorithm\n",
    "\n",
    "* Now, we'll iterate across one tile and run CCDC.\n",
    "* You'll add the CCDC output to the map, with the Landsat data.\n",
    "* Double-click on the outputs to see the values of the Landsat data and how they relate to the CCDC raw output. \n",
    "* You'll notice the raw CCDC output is even more complex than the LandTrendr output."
   ]
  },
  {
   "cell_type": "code",
   "execution_count": 66,
   "id": "9959a94f",
   "metadata": {},
   "outputs": [
    {
     "name": "stdout",
     "output_type": "stream",
     "text": [
      "Adding layer: CCDC Output\n",
      "Starting webmap\n",
      "Using default refresh token for geeView: /home/jupyter/.config/earthengine/credentials\n",
      "Local web server at: http://localhost:1234/geeView/ already serving.\n",
      "cwd /home/jupyter/lcms-training\n",
      "Workbench Proxy URL: https://1307eb830a12e633-dot-us-central1.notebooks.googleusercontent.com/proxy/1234/geeView/?accessToken=None\n"
     ]
    },
    {
     "data": {
      "text/html": [
       "\n",
       "        <iframe\n",
       "            width=\"100%\"\n",
       "            height=\"525px\"\n",
       "            src=\"https://1307eb830a12e633-dot-us-central1.notebooks.googleusercontent.com/proxy/1234/geeView/?accessToken=None\"\n",
       "            frameborder=\"0\"\n",
       "            allowfullscreen\n",
       "            \n",
       "        ></iframe>\n",
       "        "
      ],
      "text/plain": [
       "<IPython.lib.display.IFrame at 0x7f91d4058970>"
      ]
     },
     "metadata": {},
     "output_type": "display_data"
    }
   ],
   "source": [
    "#Set the scene collection in the ccdcParams\n",
    "ccdcParams['collection'] = processedScenes\n",
    "\n",
    "#Run CCDC\n",
    "ccdc = ee.Image(ee.Algorithms.TemporalSegmentation.Ccdc(**ccdcParams))\n",
    "\n",
    "# add to Map\n",
    "Map.addLayer(ccdc,{},'CCDC Output')\n",
    "\n",
    "Map.turnOnInspector()\n",
    "Map.view()"
   ]
  },
  {
   "cell_type": "markdown",
   "id": "2efa4241",
   "metadata": {},
   "source": [
    "#### Interpret CCDC outputs\n",
    "\n",
    "In order to understand how CCDC outputs relate to the original input data, we will join the raw input NDVI values to the predicted NDVI values from CCDC.  \n",
    "\n",
    "**Extracting the data can take some time, and querying this map will often yield errors as this process is quite computationally intensive. Please be patient.**"
   ]
  },
  {
   "cell_type": "code",
   "execution_count": 67,
   "id": "c645eecd",
   "metadata": {},
   "outputs": [
    {
     "name": "stdout",
     "output_type": "stream",
     "text": [
      "Adding layer: Raw Landsat and CCDC Fitted\n",
      "Starting webmap\n",
      "Using default refresh token for geeView: /home/jupyter/.config/earthengine/credentials\n",
      "Local web server at: http://localhost:1234/geeView/ already serving.\n",
      "cwd /home/jupyter/lcms-training\n",
      "Workbench Proxy URL: https://1307eb830a12e633-dot-us-central1.notebooks.googleusercontent.com/proxy/1234/geeView/?accessToken=None\n"
     ]
    },
    {
     "data": {
      "text/html": [
       "\n",
       "        <iframe\n",
       "            width=\"100%\"\n",
       "            height=\"525px\"\n",
       "            src=\"https://1307eb830a12e633-dot-us-central1.notebooks.googleusercontent.com/proxy/1234/geeView/?accessToken=None\"\n",
       "            frameborder=\"0\"\n",
       "            allowfullscreen\n",
       "            \n",
       "        ></iframe>\n",
       "        "
      ],
      "text/plain": [
       "<IPython.lib.display.IFrame at 0x7f91d4092290>"
      ]
     },
     "metadata": {},
     "output_type": "display_data"
    }
   ],
   "source": [
    "# Specify which bands to show in the example\n",
    "exampleBandNames = ['NDVI']\n",
    "\n",
    "# Now let's join the raw and predicted CCDC for a subset of time \n",
    "processedScenes = processedScenes\\\n",
    "                    .filter(ee.Filter.calendarRange(2010,2023,'year'))\\\n",
    "                    .map(getImagesLib.addYearYearFractionBand)\n",
    "\n",
    "#Whether to fill gaps between segments' end year and the subsequent start year to the break date\n",
    "fillGaps = False\n",
    "\n",
    "fitted = changeDetectionLib.predictCCDC(ccdc,processedScenes.select(['year']),fillGaps=fillGaps,whichHarmonics=[1,2,3])\n",
    "\n",
    "exampleFittedBandNames = [f'{bn}_CCDC_fitted' for bn in exampleBandNames]\n",
    "\n",
    "ccdcJoined = getImagesLib.joinCollections(processedScenes.select(exampleBandNames),fitted.select(exampleFittedBandNames))\n",
    "ccdcJoinedBns = ccdcJoined.first().bandNames().getInfo()\n",
    "\n",
    "# View the map\n",
    "Map.clearMap()\n",
    "Map.addLayer(ccdcJoined,{'min':0.2,'max':0.8},'Raw Landsat and CCDC Fitted')\n",
    "Map.turnOnInspector()\n",
    "Map.view()\n",
    "\n"
   ]
  },
  {
   "cell_type": "markdown",
   "id": "eddbf16d",
   "metadata": {},
   "source": [
    "#### View CCDC outputs at a single point\n",
    "\n",
    "We'll extract a single pixel of the output to illustrate how the raw inputs relate to the fitted CCDC output. This can take some time."
   ]
  },
  {
   "cell_type": "code",
   "execution_count": 68,
   "id": "7e3e1d31",
   "metadata": {},
   "outputs": [
    {
     "name": "stdout",
     "output_type": "stream",
     "text": [
      "Extracting raw Landsat and fitted CCDC values\n",
      "Done\n"
     ]
    },
    {
     "data": {
      "image/png": "[encoded data removed]",
      "text/plain": [
       "<Figure size 640x480 with 1 Axes>"
      ]
     },
     "metadata": {},
     "output_type": "display_data"
    }
   ],
   "source": [
    "# # Provide an example location \n",
    "pt = ee.Geometry.Point([ -65.944 , 18.404])\n",
    "\n",
    "# Extract the values and plot them\n",
    "print('Extracting raw Landsat and fitted CCDC values')\n",
    "timSeries = g2p.extractPointValuesToDataFrame(ccdcJoined,pt,scale=None,crs = crs, transform = transform)\n",
    "timSeries['system:time_start']= g2p.pandas.to_datetime(timSeries['system:time_start'], unit='ms')\n",
    "\n",
    "timSeriesT = timSeries[ccdcJoinedBns]\n",
    "timSeriesT.index = timSeries['system:time_start']\n",
    "timSeriesT.plot.line(title='Raw Landsat and CCDC Fitted',xlabel='Date',ylabel='Value')\n",
    "\n",
    "print('Done')"
   ]
  },
  {
   "cell_type": "markdown",
   "id": "94a343b9",
   "metadata": {},
   "source": [
    "#### Inspect\n",
    "\n",
    "What do you notice about the raw NDVI values and the CCDC values? How many segments are fitted? Remember that a similarly formatted output is fitted for every single pixel in the image, for each of the bands you selected to include in the algorithm. \n",
    "\n",
    "### 3.5.5 - Run CCDC over all tiles\n",
    "**Iterate across all tiles and export CCDC outputs**\n",
    "\n",
    "Now that you understand how to run CCDC over Landsat data, you will run the same process over all of the tiles, and export the data as an asset. \n",
    "\n",
    "Run the code block below to iterate over the tile ids to obtain imagery, run the CCDC algorithm, and export the output.\n"
   ]
  },
  {
   "cell_type": "code",
   "execution_count": 69,
   "id": "410d3368",
   "metadata": {},
   "outputs": [
    {
     "name": "stdout",
     "output_type": "stream",
     "text": [
      "90,54\n",
      "Get Processed Landsat: \n",
      "Start date: Jan 01 1984 , End date: Dec 31 2023\n",
      "Applying scale factors for C2 L4 data\n",
      "Applying scale factors for C2 L5 data\n",
      "Applying scale factors for C2 L8 data\n",
      "Including All Landsat 7\n",
      "Applying scale factors for C2 L7 data\n",
      "Applying scale factors for C2 L9 data\n",
      "Applying Fmask Cloud Mask\n",
      "Applying Fmask Shadow Mask\n",
      "projects/rcr-gee/assets/lcms-training/lcms-training_module-3_CCDC/CCDC_Tile-60000m_ID90-54_yrs1984-2023_jds1-365\n",
      "CCDC_Tile-60000m_ID90-54_yrs1984-2023_jds1-365 currently exists or is being exported and overwrite = False. Set overwite = True if you would like to overwite any existing asset or asset exporting task\n",
      "91,52\n",
      "Get Processed Landsat: \n",
      "Start date: Jan 01 1984 , End date: Dec 31 2023\n",
      "Applying scale factors for C2 L4 data\n",
      "Applying scale factors for C2 L5 data\n",
      "Applying scale factors for C2 L8 data\n",
      "Including All Landsat 7\n",
      "Applying scale factors for C2 L7 data\n",
      "Applying scale factors for C2 L9 data\n",
      "Applying Fmask Cloud Mask\n",
      "Applying Fmask Shadow Mask\n",
      "projects/rcr-gee/assets/lcms-training/lcms-training_module-3_CCDC/CCDC_Tile-60000m_ID91-52_yrs1984-2023_jds1-365\n",
      "CCDC_Tile-60000m_ID91-52_yrs1984-2023_jds1-365 currently exists or is being exported and overwrite = False. Set overwite = True if you would like to overwite any existing asset or asset exporting task\n",
      "91,53\n",
      "Get Processed Landsat: \n",
      "Start date: Jan 01 1984 , End date: Dec 31 2023\n",
      "Applying scale factors for C2 L4 data\n",
      "Applying scale factors for C2 L5 data\n",
      "Applying scale factors for C2 L8 data\n",
      "Including All Landsat 7\n",
      "Applying scale factors for C2 L7 data\n",
      "Applying scale factors for C2 L9 data\n",
      "Applying Fmask Cloud Mask\n",
      "Applying Fmask Shadow Mask\n",
      "projects/rcr-gee/assets/lcms-training/lcms-training_module-3_CCDC/CCDC_Tile-60000m_ID91-53_yrs1984-2023_jds1-365\n",
      "CCDC_Tile-60000m_ID91-53_yrs1984-2023_jds1-365 currently exists or is being exported and overwrite = False. Set overwite = True if you would like to overwite any existing asset or asset exporting task\n",
      "91,54\n",
      "Get Processed Landsat: \n",
      "Start date: Jan 01 1984 , End date: Dec 31 2023\n",
      "Applying scale factors for C2 L4 data\n",
      "Applying scale factors for C2 L5 data\n",
      "Applying scale factors for C2 L8 data\n",
      "Including All Landsat 7\n",
      "Applying scale factors for C2 L7 data\n",
      "Applying scale factors for C2 L9 data\n",
      "Applying Fmask Cloud Mask\n",
      "Applying Fmask Shadow Mask\n",
      "projects/rcr-gee/assets/lcms-training/lcms-training_module-3_CCDC/CCDC_Tile-60000m_ID91-54_yrs1984-2023_jds1-365\n",
      "CCDC_Tile-60000m_ID91-54_yrs1984-2023_jds1-365 currently exists or is being exported and overwrite = False. Set overwite = True if you would like to overwite any existing asset or asset exporting task\n",
      "92,52\n",
      "Get Processed Landsat: \n",
      "Start date: Jan 01 1984 , End date: Dec 31 2023\n",
      "Applying scale factors for C2 L4 data\n",
      "Applying scale factors for C2 L5 data\n",
      "Applying scale factors for C2 L8 data\n",
      "Including All Landsat 7\n",
      "Applying scale factors for C2 L7 data\n",
      "Applying scale factors for C2 L9 data\n",
      "Applying Fmask Cloud Mask\n",
      "Applying Fmask Shadow Mask\n",
      "projects/rcr-gee/assets/lcms-training/lcms-training_module-3_CCDC/CCDC_Tile-60000m_ID92-52_yrs1984-2023_jds1-365\n",
      "CCDC_Tile-60000m_ID92-52_yrs1984-2023_jds1-365 currently exists or is being exported and overwrite = False. Set overwite = True if you would like to overwite any existing asset or asset exporting task\n",
      "92,53\n",
      "Get Processed Landsat: \n",
      "Start date: Jan 01 1984 , End date: Dec 31 2023\n",
      "Applying scale factors for C2 L4 data\n",
      "Applying scale factors for C2 L5 data\n",
      "Applying scale factors for C2 L8 data\n",
      "Including All Landsat 7\n",
      "Applying scale factors for C2 L7 data\n",
      "Applying scale factors for C2 L9 data\n",
      "Applying Fmask Cloud Mask\n",
      "Applying Fmask Shadow Mask\n",
      "projects/rcr-gee/assets/lcms-training/lcms-training_module-3_CCDC/CCDC_Tile-60000m_ID92-53_yrs1984-2023_jds1-365\n",
      "CCDC_Tile-60000m_ID92-53_yrs1984-2023_jds1-365 currently exists or is being exported and overwrite = False. Set overwite = True if you would like to overwite any existing asset or asset exporting task\n",
      "93,52\n",
      "Get Processed Landsat: \n",
      "Start date: Jan 01 1984 , End date: Dec 31 2023\n",
      "Applying scale factors for C2 L4 data\n",
      "Applying scale factors for C2 L5 data\n",
      "Applying scale factors for C2 L8 data\n",
      "Including All Landsat 7\n",
      "Applying scale factors for C2 L7 data\n",
      "Applying scale factors for C2 L9 data\n",
      "Applying Fmask Cloud Mask\n",
      "Applying Fmask Shadow Mask\n",
      "projects/rcr-gee/assets/lcms-training/lcms-training_module-3_CCDC/CCDC_Tile-60000m_ID93-52_yrs1984-2023_jds1-365\n",
      "CCDC_Tile-60000m_ID93-52_yrs1984-2023_jds1-365 currently exists or is being exported and overwrite = False. Set overwite = True if you would like to overwite any existing asset or asset exporting task\n",
      "93,53\n",
      "Get Processed Landsat: \n",
      "Start date: Jan 01 1984 , End date: Dec 31 2023\n",
      "Applying scale factors for C2 L4 data\n",
      "Applying scale factors for C2 L5 data\n",
      "Applying scale factors for C2 L8 data\n",
      "Including All Landsat 7\n",
      "Applying scale factors for C2 L7 data\n",
      "Applying scale factors for C2 L9 data\n",
      "Applying Fmask Cloud Mask\n",
      "Applying Fmask Shadow Mask\n",
      "projects/rcr-gee/assets/lcms-training/lcms-training_module-3_CCDC/CCDC_Tile-60000m_ID93-53_yrs1984-2023_jds1-365\n",
      "CCDC_Tile-60000m_ID93-53_yrs1984-2023_jds1-365 currently exists or is being exported and overwrite = False. Set overwite = True if you would like to overwite any existing asset or asset exporting task\n",
      "94,52\n",
      "Get Processed Landsat: \n",
      "Start date: Jan 01 1984 , End date: Dec 31 2023\n",
      "Applying scale factors for C2 L4 data\n",
      "Applying scale factors for C2 L5 data\n",
      "Applying scale factors for C2 L8 data\n",
      "Including All Landsat 7\n",
      "Applying scale factors for C2 L7 data\n",
      "Applying scale factors for C2 L9 data\n",
      "Applying Fmask Cloud Mask\n",
      "Applying Fmask Shadow Mask\n",
      "projects/rcr-gee/assets/lcms-training/lcms-training_module-3_CCDC/CCDC_Tile-60000m_ID94-52_yrs1984-2023_jds1-365\n",
      "CCDC_Tile-60000m_ID94-52_yrs1984-2023_jds1-365 currently exists or is being exported and overwrite = False. Set overwite = True if you would like to overwite any existing asset or asset exporting task\n",
      "95,51\n",
      "Get Processed Landsat: \n",
      "Start date: Jan 01 1984 , End date: Dec 31 2023\n",
      "Applying scale factors for C2 L4 data\n",
      "Applying scale factors for C2 L5 data\n",
      "Applying scale factors for C2 L8 data\n",
      "Including All Landsat 7\n",
      "Applying scale factors for C2 L7 data\n",
      "Applying scale factors for C2 L9 data\n",
      "Applying Fmask Cloud Mask\n",
      "Applying Fmask Shadow Mask\n",
      "projects/rcr-gee/assets/lcms-training/lcms-training_module-3_CCDC/CCDC_Tile-60000m_ID95-51_yrs1984-2023_jds1-365\n",
      "CCDC_Tile-60000m_ID95-51_yrs1984-2023_jds1-365 currently exists or is being exported and overwrite = False. Set overwite = True if you would like to overwite any existing asset or asset exporting task\n",
      "95,52\n",
      "Get Processed Landsat: \n",
      "Start date: Jan 01 1984 , End date: Dec 31 2023\n",
      "Applying scale factors for C2 L4 data\n",
      "Applying scale factors for C2 L5 data\n",
      "Applying scale factors for C2 L8 data\n",
      "Including All Landsat 7\n",
      "Applying scale factors for C2 L7 data\n",
      "Applying scale factors for C2 L9 data\n",
      "Applying Fmask Cloud Mask\n",
      "Applying Fmask Shadow Mask\n",
      "projects/rcr-gee/assets/lcms-training/lcms-training_module-3_CCDC/CCDC_Tile-60000m_ID95-52_yrs1984-2023_jds1-365\n",
      "CCDC_Tile-60000m_ID95-52_yrs1984-2023_jds1-365 currently exists or is being exported and overwrite = False. Set overwite = True if you would like to overwite any existing asset or asset exporting task\n",
      "95,53\n",
      "Get Processed Landsat: \n",
      "Start date: Jan 01 1984 , End date: Dec 31 2023\n",
      "Applying scale factors for C2 L4 data\n",
      "Applying scale factors for C2 L5 data\n",
      "Applying scale factors for C2 L8 data\n",
      "Including All Landsat 7\n",
      "Applying scale factors for C2 L7 data\n",
      "Applying scale factors for C2 L9 data\n",
      "Applying Fmask Cloud Mask\n",
      "Applying Fmask Shadow Mask\n",
      "projects/rcr-gee/assets/lcms-training/lcms-training_module-3_CCDC/CCDC_Tile-60000m_ID95-53_yrs1984-2023_jds1-365\n",
      "CCDC_Tile-60000m_ID95-53_yrs1984-2023_jds1-365 currently exists or is being exported and overwrite = False. Set overwite = True if you would like to overwite any existing asset or asset exporting task\n",
      "96,52\n",
      "Get Processed Landsat: \n",
      "Start date: Jan 01 1984 , End date: Dec 31 2023\n",
      "Applying scale factors for C2 L4 data\n",
      "Applying scale factors for C2 L5 data\n",
      "Applying scale factors for C2 L8 data\n",
      "Including All Landsat 7\n",
      "Applying scale factors for C2 L7 data\n",
      "Applying scale factors for C2 L9 data\n",
      "Applying Fmask Cloud Mask\n",
      "Applying Fmask Shadow Mask\n",
      "projects/rcr-gee/assets/lcms-training/lcms-training_module-3_CCDC/CCDC_Tile-60000m_ID96-52_yrs1984-2023_jds1-365\n",
      "CCDC_Tile-60000m_ID96-52_yrs1984-2023_jds1-365 currently exists or is being exported and overwrite = False. Set overwite = True if you would like to overwite any existing asset or asset exporting task\n",
      "96,53\n",
      "Get Processed Landsat: \n",
      "Start date: Jan 01 1984 , End date: Dec 31 2023\n",
      "Applying scale factors for C2 L4 data\n",
      "Applying scale factors for C2 L5 data\n",
      "Applying scale factors for C2 L8 data\n",
      "Including All Landsat 7\n",
      "Applying scale factors for C2 L7 data\n",
      "Applying scale factors for C2 L9 data\n",
      "Applying Fmask Cloud Mask\n",
      "Applying Fmask Shadow Mask\n",
      "projects/rcr-gee/assets/lcms-training/lcms-training_module-3_CCDC/CCDC_Tile-60000m_ID96-53_yrs1984-2023_jds1-365\n",
      "CCDC_Tile-60000m_ID96-53_yrs1984-2023_jds1-365 currently exists or is being exported and overwrite = False. Set overwite = True if you would like to overwite any existing asset or asset exporting task\n",
      "Done\n"
     ]
    }
   ],
   "source": [
    "#iterate over ids\n",
    "for id in ids:\n",
    "    print(id)\n",
    "    # Get the tile and buffer it so there are no missing pixels at tile edges\n",
    "    tile = grid.filter(ee.Filter.eq('system:index',id)).geometry().intersection(studyArea,240,projection).buffer(900)\n",
    "    \n",
    "    # Map.addLayer(tile,{},'Tile {}'.format(id))\n",
    "    \n",
    "    processedScenes = getImagesLib.getProcessedLandsatScenes(studyArea = tile,startYear = startYear, endYear = endYear,\n",
    "                                                        startJulian = startJulian,endJulian = endJulian,\n",
    "                                                        includeSLCOffL7 = includeSLCOffL7).select(exportBands)\n",
    "    processedScenes = processedScenes.map(removeGT1)\n",
    "    # print(processedScenes.size().getInfo())\n",
    "    \n",
    "    #Set the scene collection in the ccdcParams\n",
    "    ccdcParams['collection'] = processedScenes\n",
    "\n",
    "    #Run CCDC\n",
    "    ccdc = ee.Image(ee.Algorithms.TemporalSegmentation.Ccdc(**ccdcParams))\n",
    "    ccdc = ccdc.set({'startYear':startYear,\n",
    "                     'endYear':endYear,\n",
    "                     'startJulian':startJulian,\n",
    "                     'endJulian':endJulian,\n",
    "                     'TileSize':tileSize,\n",
    "                     'TileID':id})\n",
    "    \n",
    "    # Export the output\n",
    "    exportName = 'CCDC_Tile-{}m_ID{}_yrs{}-{}_jds{}-{}'.format(tileSize,id.replace(',','-'),startYear,endYear,startJulian,endJulian)\n",
    "    exportPath = f'{export_ccdc_collection}/{exportName}'\n",
    "    print(exportPath)\n",
    "\n",
    "    getImagesLib.exportToAssetWrapper(ccdc,exportName,exportPath,{'.default':'sample'},tile,scale,crs,transform,overwrite=False)\n",
    "    \n",
    "print('Done')"
   ]
  },
  {
   "cell_type": "markdown",
   "id": "9c5e01a5",
   "metadata": {},
   "source": [
    "#### Task tracking and file management\n",
    "\n",
    "You can track tasks in the code block below, or by visiting https://code.earthengine.google.com/tasks . \n",
    "\n",
    "Uncomment the commands below to track the tasks, if desired. This will report which tasks are in process, and their export status. \n"
   ]
  },
  {
   "cell_type": "code",
   "execution_count": 67,
   "id": "b2ab159e",
   "metadata": {},
   "outputs": [
    {
     "name": "stdout",
     "output_type": "stream",
     "text": [
      "done\n"
     ]
    }
   ],
   "source": [
    "# Can track tasks here or at https://code.earthengine.google.com/tasks\n",
    "# If you'd like to track the tasks, use this:\n",
    "# tml.trackTasks2()\n",
    "\n",
    "# If you want to cancel all running tasks, you can use this function\n",
    "# tml.batchCancel()\n",
    "\n",
    "# If you want to empty the collection of all images\n",
    "# aml.batchDelete(exportPathRoot, type = 'imageCollection')\n",
    "\n",
    "print('done')"
   ]
  },
  {
   "cell_type": "markdown",
   "id": "9c422e82",
   "metadata": {},
   "source": [
    "#### Inspect outputs\n",
    "\n",
    "Bring in the outputs and mosaic them into a single image. We will use this image in later modules. \n"
   ]
  },
  {
   "cell_type": "code",
   "execution_count": 70,
   "id": "0cb3e21f",
   "metadata": {},
   "outputs": [
    {
     "name": "stdout",
     "output_type": "stream",
     "text": [
      "Adding layer: CCDC Raw Image\n",
      "Starting webmap\n",
      "Using default refresh token for geeView: /home/jupyter/.config/earthengine/credentials\n",
      "Local web server at: http://localhost:1234/geeView/ already serving.\n",
      "cwd /home/jupyter/lcms-training\n",
      "Workbench Proxy URL: https://1307eb830a12e633-dot-us-central1.notebooks.googleusercontent.com/proxy/1234/geeView/?accessToken=None\n"
     ]
    },
    {
     "data": {
      "text/html": [
       "\n",
       "        <iframe\n",
       "            width=\"100%\"\n",
       "            height=\"525px\"\n",
       "            src=\"https://1307eb830a12e633-dot-us-central1.notebooks.googleusercontent.com/proxy/1234/geeView/?accessToken=None\"\n",
       "            frameborder=\"0\"\n",
       "            allowfullscreen\n",
       "            \n",
       "        ></iframe>\n",
       "        "
      ],
      "text/plain": [
       "<IPython.lib.display.IFrame at 0x7f91d41f4700>"
      ]
     },
     "metadata": {},
     "output_type": "display_data"
    }
   ],
   "source": [
    "Map.clearMap()\n",
    "\n",
    "# Bring in the outputs and mosaic them into a single image\n",
    "ccdcImg = ee.ImageCollection(f'{pre_baked_path_root}/lcms-training_module-3_CCDC').mosaic()\n",
    "Map.addLayer(ccdcImg,{'addToLegend':False},'CCDC Raw Image')\n",
    "Map.centerObject(studyArea,10)\n",
    "Map.turnOnInspector()\n",
    "Map.view()"
   ]
  },
  {
   "cell_type": "markdown",
   "id": "f7085ea8",
   "metadata": {},
   "source": [
    "Click on the map to query the outputs. You'll see that there are multi-band outputs that include coefficients, magnitude, and RMSE for all bands. Like the LandTrendr outputs, the array outputs are challenging to parse! We'll visualize the outputs in more detail a little later. \n",
    "\n"
   ]
  },
  {
   "cell_type": "markdown",
   "id": "601419ba",
   "metadata": {},
   "source": [
    "### 3.5.6: Using CCDC to detect change\n",
    "\n",
    "You can use the breaks from CCDC as a tool to detect significant changes in seasonlity (phenology). \n",
    "\n"
   ]
  },
  {
   "cell_type": "code",
   "execution_count": 85,
   "id": "4a168bea",
   "metadata": {},
   "outputs": [
    {
     "name": "stdout",
     "output_type": "stream",
     "text": [
      "['tStart', 'tEnd', 'tBreak', 'numObs', 'changeProb', 'blue_coefs', 'green_coefs', 'red_coefs', 'nir_coefs', 'swir1_coefs', 'swir2_coefs', 'NDVI_coefs', 'blue_rmse', 'green_rmse', 'red_rmse', 'nir_rmse', 'swir1_rmse', 'swir2_rmse', 'NDVI_rmse', 'blue_magnitude', 'green_magnitude', 'red_magnitude', 'nir_magnitude', 'swir1_magnitude', 'swir2_magnitude', 'NDVI_magnitude']\n"
     ]
    }
   ],
   "source": [
    "## INSPECT PROPERTIES OF CCDCIMG \n",
    "print(ccdcImg.bandNames().getInfo())"
   ]
  },
  {
   "cell_type": "markdown",
   "id": "64bec109",
   "metadata": {},
   "source": [
    "#### Inspect ccdcChange Detection function\n",
    "\n",
    "Below, inspect the `ccdcChangeDetection` function in the `changeDetectionLib` to see what kind of parameters and inputs we'll need. \n",
    "\n",
    "Pay attention to:\n",
    "- a) the objects / parameters that are input to the function and \n",
    "- b) what the function returns"
   ]
  },
  {
   "cell_type": "code",
   "execution_count": 89,
   "id": "07af7d12",
   "metadata": {},
   "outputs": [
    {
     "name": "stdout",
     "output_type": "stream",
     "text": [
      "def ccdcChangeDetection(ccdcImg,bandName):\n",
      "  magKeys = ['.*_magnitude']\n",
      "  tBreakKeys = ['tBreak']\n",
      "  changeProbKeys = ['changeProb']\n",
      "  changeProbThresh = 1\n",
      "\n",
      "  #Pull out pieces from CCDC output\n",
      "  magnitudes = ccdcImg.select(magKeys)\n",
      "  breaks = ccdcImg.select(tBreakKeys)\n",
      "  \n",
      "  #Map.addLayer(breaks.arrayLength(0),{'min':1,'max':10});\n",
      "  changeProbs = ccdcImg.select(changeProbKeys)\n",
      "  changeMask = changeProbs.gte(changeProbThresh)\n",
      "  magnitudes = magnitudes.select(bandName + '.*')\n",
      "\n",
      "  \n",
      "  #Sort by magnitude and years\n",
      "  breaksSortedByMag = breaks.arraySort(magnitudes)\n",
      "  magnitudesSortedByMag = magnitudes.arraySort()\n",
      "  changeMaskSortedByMag = changeMask.arraySort(magnitudes)\n",
      "  \n",
      "  breaksSortedByYear = breaks.arraySort()\n",
      "  magnitudesSortedByYear = magnitudes.arraySort(breaks)\n",
      "  changeMaskSortedByYear = changeMask.arraySort(breaks)\n",
      "  \n",
      "  #Get the loss and gain years and magnitudes for each sorting method\n",
      "  highestMagLossYear = breaksSortedByMag.arraySlice(0,0,1).arrayFlatten([['loss_year']])\n",
      "  highestMagLossMag = magnitudesSortedByMag.arraySlice(0,0,1).arrayFlatten([['loss_mag']])\n",
      "  highestMagLossMask = changeMaskSortedByMag.arraySlice(0,0,1).arrayFlatten([['loss_mask']])\n",
      "  \n",
      "  highestMagLossYear = highestMagLossYear.updateMask(highestMagLossMag.lt(0).And(highestMagLossMask))\n",
      "  highestMagLossMag = highestMagLossMag.updateMask(highestMagLossMag.lt(0).And(highestMagLossMask))\n",
      "  \n",
      "  highestMagGainYear = breaksSortedByMag.arraySlice(0,-1,None).arrayFlatten([['gain_year']])\n",
      "  highestMagGainMag = magnitudesSortedByMag.arraySlice(0,-1,None).arrayFlatten([['gain_mag']])\n",
      "  highestMagGainMask = changeMaskSortedByMag.arraySlice(0,-1,None).arrayFlatten([['gain_mask']]);\n",
      "  \n",
      "  highestMagGainYear = highestMagGainYear.updateMask(highestMagGainMag.gt(0).And(highestMagGainMask));\n",
      "  highestMagGainMag = highestMagGainMag.updateMask(highestMagGainMag.gt(0).And(highestMagGainMask));\n",
      "  \n",
      "\n",
      "\n",
      "\n",
      "  mostRecentLossYear = breaksSortedByYear.arrayMask(magnitudesSortedByYear.lt(0)).arrayPad([1]).arraySlice(0,-1,None).arrayFlatten([['loss_year']]);\n",
      "  mostRecentLossMag = magnitudesSortedByYear.arrayMask(magnitudesSortedByYear.lt(0)).arrayPad([1]).arraySlice(0,-1,None).arrayFlatten([['loss_mag']]);\n",
      "  mostRecentLossMask = changeMaskSortedByYear.arrayMask(magnitudesSortedByYear.lt(0)).arrayPad([1]).arraySlice(0,-1,None).arrayFlatten([['loss_mask']]);\n",
      "  \n",
      "  mostRecentLossYear = mostRecentLossYear.updateMask(mostRecentLossMag.lt(0).And(mostRecentLossMask));\n",
      "  mostRecentLossMag = mostRecentLossMag.updateMask(mostRecentLossMag.lt(0).And(mostRecentLossMask));\n",
      " \n",
      "  mostRecentGainYear = breaksSortedByYear.arrayMask(magnitudesSortedByYear.gt(0)).arrayPad([1]).arraySlice(0,-1,None).arrayFlatten([['gain_year']]);\n",
      "  mostRecentGainMag = magnitudesSortedByYear.arrayMask(magnitudesSortedByYear.gt(0)).arrayPad([1]).arraySlice(0,-1,None).arrayFlatten([['gain_mag']]);\n",
      "  mostRecentGainMask = changeMaskSortedByYear.arrayMask(magnitudesSortedByYear.gt(0)).arrayPad([1]).arraySlice(0,-1,None).arrayFlatten([['gain_mask']]);\n",
      "  \n",
      "  mostRecentGainYear = mostRecentGainYear.updateMask(mostRecentGainMag.gt(0).And(mostRecentGainMask))\n",
      "  mostRecentGainMag = mostRecentGainMag.updateMask(mostRecentGainMag.gt(0).And(mostRecentGainMask))\n",
      "  \n",
      "  return {'mostRecent':{\n",
      "    'loss':{'year':mostRecentLossYear,\n",
      "          'mag': mostRecentLossMag\n",
      "        },\n",
      "    'gain':{'year':mostRecentGainYear,\n",
      "          'mag': mostRecentGainMag\n",
      "        }\n",
      "    },\n",
      "    'highestMag':{\n",
      "    'loss':{'year':highestMagLossYear,\n",
      "          'mag': highestMagLossMag\n",
      "        },\n",
      "    'gain':{'year':highestMagGainYear,\n",
      "          'mag': highestMagGainMag\n",
      "        }\n",
      "    }    \n",
      "  }\n",
      "\n"
     ]
    }
   ],
   "source": [
    "# print option\n",
    "print(inspect.getsource(changeDetectionLib.ccdcChangeDetection))"
   ]
  },
  {
   "cell_type": "markdown",
   "id": "e26a26da",
   "metadata": {},
   "source": [
    "#### Takeaways from the ccdcChangeDetection function\n",
    "Note that the function returns an object that contains a dictionary with objects titled `mostRecent` and `highestMag`. These outputs are different methods of sorting the CCDC change information-- by most recent (`'mostRecent'`) or highest magnitude (`'highestMag'`) CCDC break.\n",
    "\n",
    "### 3.5.7: Set change detection parameters for CCDC algorithm\n",
    "This function allows us to manipulate CCDC outputs in array format in order to get meaningful information -- that is, information that's more directly useful than a modeled spectral trajectory. \n",
    "\n",
    "#### Specify band used for change detection\n",
    "\n",
    "This is most important for the loss and gain magnitude since the year of change will be the same for all years\n",
    "\n",
    "`changeDetectionBandName = 'NDVI'`\n",
    "\n",
    "#### Specify sorting method for displaying change\n",
    "\n",
    "Choose whether to show the most recent (`'mostRecent'`) or highest magnitude (`'highestMag'`) CCDC break"
   ]
  },
  {
   "cell_type": "code",
   "execution_count": 71,
   "id": "e0eef991",
   "metadata": {},
   "outputs": [],
   "source": [
    "#Specify which band to use for loss and gain.\n",
    "#This is most important for the loss and gain magnitude since the year of change will be the same for all years\n",
    "changeDetectionBandName = 'NDVI'\n",
    "\n",
    "# Choose whether to show the most recent ('mostRecent') or highest magnitude ('highestMag') CCDC break\n",
    "sortingMethod = 'mostRecent'"
   ]
  },
  {
   "cell_type": "markdown",
   "id": "18ddc912",
   "metadata": {},
   "source": [
    "### 3.5.8: Run CCDC change detection and inspect outputs\n",
    "\n",
    "We will now look at more useful ways of visualizing CCDC outputs.\n",
    "\n",
    "First, we will extract the change years and magnitude, based on the sorting method you just selected-- the default in this notebook is the `mostRecent` change. \n",
    "\n",
    "This will create four layers to add to the map: \n",
    "- Most recent loss year\n",
    "- Most recent loss magnitude\n",
    "- Most recent gain year\n",
    "- Most recent gain magnitude\n",
    "\n",
    "Double click on map to see raw years of loss and gain breaks. Turn on the magnitude layers as well to see the magnitude of change that occurred in those years. \n",
    "\n",
    "Notice that as you zoom in the layers change:  GEE is processing outputs at a set zoom level, and recalculates as you zoom in or out. "
   ]
  },
  {
   "cell_type": "code",
   "execution_count": 72,
   "id": "a73b586f",
   "metadata": {},
   "outputs": [
    {
     "name": "stdout",
     "output_type": "stream",
     "text": [
      "Adding layer: mostRecent Loss Year\n",
      "Adding layer: mostRecent Loss Magnitude\n",
      "Adding layer: mostRecent Gain Year\n",
      "Adding layer: mostRecent Gain Magnitude\n",
      "Starting webmap\n",
      "Using default refresh token for geeView: /home/jupyter/.config/earthengine/credentials\n",
      "Local web server at: http://localhost:1234/geeView/ already serving.\n",
      "cwd /home/jupyter/lcms-training\n",
      "Workbench Proxy URL: https://1307eb830a12e633-dot-us-central1.notebooks.googleusercontent.com/proxy/1234/geeView/?accessToken=None\n"
     ]
    },
    {
     "data": {
      "text/html": [
       "\n",
       "        <iframe\n",
       "            width=\"100%\"\n",
       "            height=\"525px\"\n",
       "            src=\"https://1307eb830a12e633-dot-us-central1.notebooks.googleusercontent.com/proxy/1234/geeView/?accessToken=None\"\n",
       "            frameborder=\"0\"\n",
       "            allowfullscreen\n",
       "            \n",
       "        ></iframe>\n",
       "        "
      ],
      "text/plain": [
       "<IPython.lib.display.IFrame at 0x7f91cdddbe20>"
      ]
     },
     "metadata": {},
     "output_type": "display_data"
    }
   ],
   "source": [
    "# extract change detection outputs from CCDC outputs for selected band\n",
    "changeObj = changeDetectionLib.ccdcChangeDetection(ccdcImg,changeDetectionBandName);\n",
    "\n",
    "# clear map\n",
    "Map.clearMap()\n",
    "\n",
    "# add new layers to map\n",
    "Map.addLayer(changeObj[sortingMethod]['loss']['year'],{'min':startYear,'max':endYear,'palette':changeDetectionLib.lossYearPalette},sortingMethod + ' Loss Year')\n",
    "Map.addLayer(changeObj[sortingMethod]['loss']['mag'],{'min':-0.5,'max':-0.1,'palette':changeDetectionLib.lossMagPalette},sortingMethod + ' Loss Magnitude',False);\n",
    "Map.addLayer(changeObj[sortingMethod]['gain']['year'],{'min':startYear,'max':endYear,'palette':changeDetectionLib.gainYearPalette},sortingMethod + ' Gain Year');\n",
    "Map.addLayer(changeObj[sortingMethod]['gain']['mag'],{'min':0.05,'max':0.2,'palette':changeDetectionLib.gainMagPalette},sortingMethod + ' Gain Magnitude',False);\n",
    "\n",
    "Map.centerObject(studyArea,10)\n",
    "Map.turnOnInspector()\n",
    "Map.view()\n"
   ]
  },
  {
   "cell_type": "markdown",
   "id": "4eab1967",
   "metadata": {},
   "source": [
    "### 3.5.9: Get synthetic composites and harmonic coefficients\n",
    "\n",
    "For using CCDC for classification, will need to manipulate the array image to get meaningful data such as synthetic composites and harmonic coefficients. The `changeDetectionLib.getCCDCSegCoeffs` function performs this array manipulation to extract the composites and coefficients. Inspect the function below.\n",
    "\n",
    "#### Inspect coefficients function\n",
    "\n",
    "Pay attention to: \n",
    "- a) the input parameters to the function\n",
    "- b) what happens if fillGaps = True vs if fillGaps = False\n",
    "- c) where the coefficients are stored in the input ccdc image\n",
    "- d) how the coefficients are processed from their input format into single image bands"
   ]
  },
  {
   "cell_type": "code",
   "execution_count": 54,
   "id": "88079d72",
   "metadata": {},
   "outputs": [
    {
     "name": "stdout",
     "output_type": "stream",
     "text": [
      "def getCCDCSegCoeffs(timeImg,ccdcImg,fillGaps):\n",
      "  coeffKeys = ['.*_coefs']\n",
      "  tStartKeys = ['tStart']\n",
      "  tEndKeys = ['tEnd']\n",
      "  tBreakKeys = ['tBreak']\n",
      "  \n",
      "  #Get coeffs and find how many bands have coeffs\n",
      "  coeffs = ccdcImg.select(coeffKeys)\n",
      "  bns = coeffs.bandNames()\n",
      "  nBns = bns.length()\n",
      "  harmonicTag = ee.List(['INTP','SLP','COS1','SIN1','COS2','SIN2','COS3','SIN3'])\n",
      "\n",
      "   \n",
      "  #Get coeffs, start and end times\n",
      "  coeffs = coeffs.toArray(2)\n",
      "  tStarts = ccdcImg.select(tStartKeys)\n",
      "  tEnds = ccdcImg.select(tEndKeys)\n",
      "  tBreaks = ccdcImg.select(tBreakKeys)\n",
      "  \n",
      "  #If filling to the tBreak, use this\n",
      "  tStarts = ee.Image(ee.Algorithms.If(fillGaps,tStarts.arraySlice(0,0,1).arrayCat(tBreaks.arraySlice(0,0,-1),0),tStarts))\n",
      "  tEnds = ee.Image(ee.Algorithms.If(fillGaps,tBreaks.arraySlice(0,0,-1).arrayCat(tEnds.arraySlice(0,-1,None),0),tEnds))\n",
      "  \n",
      "  \n",
      "  #Set up a mask for segments that the time band intersects\n",
      "  tMask = tStarts.lt(timeImg).And(tEnds.gte(timeImg)).arrayRepeat(1,1).arrayRepeat(2,1)\n",
      "  coeffs = coeffs.arrayMask(tMask).arrayProject([2,1]).arrayTranspose(1,0).arrayFlatten([bns,harmonicTag])\n",
      "  \n",
      "  #If time band doesn't intersect any segments, set it to null\n",
      "  coeffs = coeffs.updateMask(coeffs.reduce(ee.Reducer.max()).neq(0))\n",
      "  \n",
      "  return timeImg.addBands(coeffs)\n",
      "\n"
     ]
    }
   ],
   "source": [
    "# inspect segment coefficients function\n",
    "print(inspect.getsource(changeDetectionLib.getCCDCSegCoeffs) )\n"
   ]
  },
  {
   "cell_type": "markdown",
   "id": "aeb12a38",
   "metadata": {},
   "source": [
    "#### Run coefficients function\n",
    "\n",
    "Next, you'll set the parameters for the `changeDetectionLib.getCCDCSegCoeffs` function to extract the coefficients. \n",
    "\n",
    "Here, you'll just run the code to extract the coefficients for a single time. The `ee.Image()` function below creates an image where every pixel has the same value: 2015.5. This image is used as an input to the function to extract the coefficients at that particular time values. \n",
    "\n",
    "Run the code block below to get the coefficients and add them to the map. You can click on the map to query the outputs. Next, we'll inspect the outputs in array format to understand how we manipulate the outputs from array into images that we can visualize and use for classification. "
   ]
  },
  {
   "cell_type": "code",
   "execution_count": 73,
   "id": "1aa73eed",
   "metadata": {},
   "outputs": [
    {
     "name": "stdout",
     "output_type": "stream",
     "text": [
      "['constant', 'blue_coefs_INTP', 'blue_coefs_SLP', 'blue_coefs_COS1', 'blue_coefs_SIN1', 'blue_coefs_COS2', 'blue_coefs_SIN2', 'blue_coefs_COS3', 'blue_coefs_SIN3', 'green_coefs_INTP', 'green_coefs_SLP', 'green_coefs_COS1', 'green_coefs_SIN1', 'green_coefs_COS2', 'green_coefs_SIN2', 'green_coefs_COS3', 'green_coefs_SIN3', 'red_coefs_INTP', 'red_coefs_SLP', 'red_coefs_COS1', 'red_coefs_SIN1', 'red_coefs_COS2', 'red_coefs_SIN2', 'red_coefs_COS3', 'red_coefs_SIN3', 'nir_coefs_INTP', 'nir_coefs_SLP', 'nir_coefs_COS1', 'nir_coefs_SIN1', 'nir_coefs_COS2', 'nir_coefs_SIN2', 'nir_coefs_COS3', 'nir_coefs_SIN3', 'swir1_coefs_INTP', 'swir1_coefs_SLP', 'swir1_coefs_COS1', 'swir1_coefs_SIN1', 'swir1_coefs_COS2', 'swir1_coefs_SIN2', 'swir1_coefs_COS3', 'swir1_coefs_SIN3', 'swir2_coefs_INTP', 'swir2_coefs_SLP', 'swir2_coefs_COS1', 'swir2_coefs_SIN1', 'swir2_coefs_COS2', 'swir2_coefs_SIN2', 'swir2_coefs_COS3', 'swir2_coefs_SIN3', 'NDVI_coefs_INTP', 'NDVI_coefs_SLP', 'NDVI_coefs_COS1', 'NDVI_coefs_SIN1', 'NDVI_coefs_COS2', 'NDVI_coefs_SIN2', 'NDVI_coefs_COS3', 'NDVI_coefs_SIN3']\n",
      "Adding layer: Seg Coeffs\n",
      "Adding layer: Raw Img\n",
      "Starting webmap\n",
      "Using default refresh token for geeView: /home/jupyter/.config/earthengine/credentials\n",
      "Local web server at: http://localhost:1234/geeView/ already serving.\n",
      "cwd /home/jupyter/lcms-training\n",
      "Workbench Proxy URL: https://1307eb830a12e633-dot-us-central1.notebooks.googleusercontent.com/proxy/1234/geeView/?accessToken=None\n"
     ]
    },
    {
     "data": {
      "text/html": [
       "\n",
       "        <iframe\n",
       "            width=\"100%\"\n",
       "            height=\"525px\"\n",
       "            src=\"https://1307eb830a12e633-dot-us-central1.notebooks.googleusercontent.com/proxy/1234/geeView/?accessToken=None\"\n",
       "            frameborder=\"0\"\n",
       "            allowfullscreen\n",
       "            \n",
       "        ></iframe>\n",
       "        "
      ],
      "text/plain": [
       "<IPython.lib.display.IFrame at 0x7f91cddda080>"
      ]
     },
     "metadata": {},
     "output_type": "display_data"
    }
   ],
   "source": [
    "# set parameters and get segment coefficients\n",
    "fillGaps = False\n",
    "segCoeffs = changeDetectionLib.getCCDCSegCoeffs(ee.Image(2015.5), ccdcImg, fillGaps)\n",
    "\n",
    "#inspect new output\n",
    "print(segCoeffs.bandNames().getInfo())\n",
    "\n",
    "# add to map \n",
    "Map.clearMap()\n",
    "Map.addLayer(segCoeffs, {}, 'Seg Coeffs')\n",
    "Map.addLayer(ccdcImg, {}, 'Raw Img')\n",
    "\n",
    "Map.turnOnInspector()\n",
    "Map.view()"
   ]
  },
  {
   "cell_type": "markdown",
   "id": "e8dc1f84",
   "metadata": {},
   "source": [
    "### 3.5.10: Manipulate array into usable image outputs\n",
    "\n",
    "Next, you'll manipulate the massive arrays into usable image outputs. As an example, we'll inspect what the array looks like at a single point. \n",
    "\n",
    "Your first step is to set the example point and extract the coefficients, band names, and harmonics from the CCDC output. \n",
    "\n",
    "Run the code block below to extract the data from the CCDC image. Then, you'll visualize the output for one segment at the input point."
   ]
  },
  {
   "cell_type": "code",
   "execution_count": 74,
   "id": "5bb76b0d",
   "metadata": {},
   "outputs": [
    {
     "name": "stdout",
     "output_type": "stream",
     "text": [
      "Done\n"
     ]
    },
    {
     "data": {
      "text/html": [
       "<style type=\"text/css\">\n",
       "#T_045b6 caption {\n",
       "  text-align: left;\n",
       "  font-size: 150%;\n",
       "  font-weight: bold;\n",
       "}\n",
       "</style>\n",
       "<table id=\"T_045b6\">\n",
       "  <caption>Intercept</caption>\n",
       "  <thead>\n",
       "    <tr>\n",
       "      <th class=\"blank level0\" >&nbsp;</th>\n",
       "      <th id=\"T_045b6_level0_col0\" class=\"col_heading level0 col0\" >blue</th>\n",
       "      <th id=\"T_045b6_level0_col1\" class=\"col_heading level0 col1\" >green</th>\n",
       "      <th id=\"T_045b6_level0_col2\" class=\"col_heading level0 col2\" >red</th>\n",
       "      <th id=\"T_045b6_level0_col3\" class=\"col_heading level0 col3\" >nir</th>\n",
       "      <th id=\"T_045b6_level0_col4\" class=\"col_heading level0 col4\" >swir1</th>\n",
       "      <th id=\"T_045b6_level0_col5\" class=\"col_heading level0 col5\" >swir2</th>\n",
       "      <th id=\"T_045b6_level0_col6\" class=\"col_heading level0 col6\" >NDVI</th>\n",
       "    </tr>\n",
       "  </thead>\n",
       "  <tbody>\n",
       "    <tr>\n",
       "      <th id=\"T_045b6_level0_row0\" class=\"row_heading level0 row0\" >Segment 1</th>\n",
       "      <td id=\"T_045b6_row0_col0\" class=\"data row0 col0\" >2.883502</td>\n",
       "      <td id=\"T_045b6_row0_col1\" class=\"data row0 col1\" >3.282841</td>\n",
       "      <td id=\"T_045b6_row0_col2\" class=\"data row0 col2\" >1.889072</td>\n",
       "      <td id=\"T_045b6_row0_col3\" class=\"data row0 col3\" >19.140961</td>\n",
       "      <td id=\"T_045b6_row0_col4\" class=\"data row0 col4\" >5.329586</td>\n",
       "      <td id=\"T_045b6_row0_col5\" class=\"data row0 col5\" >1.267390</td>\n",
       "      <td id=\"T_045b6_row0_col6\" class=\"data row0 col6\" >0.760559</td>\n",
       "    </tr>\n",
       "  </tbody>\n",
       "</table>\n"
      ],
      "text/plain": [
       "<pandas.io.formats.style.Styler at 0x7f91cfeb95d0>"
      ]
     },
     "metadata": {},
     "output_type": "display_data"
    }
   ],
   "source": [
    "# Provide an example location \n",
    "pt = ee.Geometry.Point([ -65.944 , 18.404])\n",
    "\n",
    "# names of attributes\n",
    "coeffKeys = ['.*_coefs']\n",
    "tStartKeys = ['tStart']\n",
    "tEndKeys = ['tEnd']\n",
    "tBreakKeys = ['tBreak']\n",
    "\n",
    "#Get coeffs and find how many bands have coeffs\n",
    "coeffs = ccdcImg.select(coeffKeys)\n",
    "bns = coeffs.bandNames().getInfo()\n",
    "input_bns = [bn.split('_')[0] for bn in bns]\n",
    "harmonicTag = ['INTP','SLP','COS1','SIN1','COS2','SIN2','COS3','SIN3']\n",
    "\n",
    "\n",
    "#Get coeffs, start and end times\n",
    "coeffs = coeffs.toArray(2)\n",
    "tStarts = ccdcImg.select(tStartKeys)\n",
    "tEnds = ccdcImg.select(tEndKeys)\n",
    "tBreaks = ccdcImg.select(tBreakKeys)\n",
    "\n",
    "index = [f'Segment {i}' for i in list(range(1,6))]\n",
    "\n",
    "print(\"Done\")\n",
    "\n",
    "# visualize example output\n",
    "display(g2p.imageArrayPixelToDataFrame(coeffs.arraySlice(1,0,1).arraySlice(0,0,1).arrayProject([2,1]), pt,None,crs,transform, 'Intercept',index = ['Segment 1'],columns =input_bns ))"
   ]
  },
  {
   "cell_type": "markdown",
   "id": "0a52b692",
   "metadata": {},
   "source": [
    "#### Inspect array outputs\n",
    "\n",
    "Each pixel has any number of segments. For each segment, there is a model for each band.\n",
    "For example, the intercepts for the equation for each band for first segment are displayed above.\n",
    "\n",
    "Next, run the code block below to look at all coefficients for a given pixel for all bands and all segments.\n"
   ]
  },
  {
   "cell_type": "code",
   "execution_count": 75,
   "id": "05325897",
   "metadata": {},
   "outputs": [
    {
     "data": {
      "text/html": [
       "<style type=\"text/css\">\n",
       "#T_bb873 caption {\n",
       "  text-align: left;\n",
       "  font-size: 150%;\n",
       "  font-weight: bold;\n",
       "}\n",
       "</style>\n",
       "<table id=\"T_bb873\">\n",
       "  <caption>Coeffs</caption>\n",
       "  <thead>\n",
       "    <tr>\n",
       "      <th class=\"blank level0\" >&nbsp;</th>\n",
       "      <th id=\"T_bb873_level0_col0\" class=\"col_heading level0 col0\" >INTP</th>\n",
       "      <th id=\"T_bb873_level0_col1\" class=\"col_heading level0 col1\" >SLP</th>\n",
       "      <th id=\"T_bb873_level0_col2\" class=\"col_heading level0 col2\" >COS1</th>\n",
       "      <th id=\"T_bb873_level0_col3\" class=\"col_heading level0 col3\" >SIN1</th>\n",
       "      <th id=\"T_bb873_level0_col4\" class=\"col_heading level0 col4\" >COS2</th>\n",
       "      <th id=\"T_bb873_level0_col5\" class=\"col_heading level0 col5\" >SIN2</th>\n",
       "      <th id=\"T_bb873_level0_col6\" class=\"col_heading level0 col6\" >COS3</th>\n",
       "      <th id=\"T_bb873_level0_col7\" class=\"col_heading level0 col7\" >SIN3</th>\n",
       "    </tr>\n",
       "  </thead>\n",
       "  <tbody>\n",
       "    <tr>\n",
       "      <th id=\"T_bb873_level0_row0\" class=\"row_heading level0 row0\" >Segment 1</th>\n",
       "      <td id=\"T_bb873_row0_col0\" class=\"data row0 col0\" >[2.8835019637837616, 3.2828407883810056, 1.8890716245408166, 19.14096117316336, 5.32958581685124, 1.2673900698228309, 0.7605586342114968]</td>\n",
       "      <td id=\"T_bb873_row0_col1\" class=\"data row0 col1\" >[-0.0014289784894894713, -0.0016160401283955837, -0.000923589550535398, -0.009436630923169133, -0.0025919058730427776, -0.0006002759631661662, 0]</td>\n",
       "      <td id=\"T_bb873_row0_col2\" class=\"data row0 col2\" >[-0.01186843936476042, -0.02098628819978426, -0.01571539305900891, -0.056630206538701544, -0.020291496499357173, -0.008427349310669975, 0.04611739888770422]</td>\n",
       "      <td id=\"T_bb873_row0_col3\" class=\"data row0 col3\" >[0, 0, 0, -0.004567996992550899, 0.003230075007047745, 0, 0.009124222149743245]</td>\n",
       "      <td id=\"T_bb873_row0_col4\" class=\"data row0 col4\" >[0, -0.0016317531211471504, -0.001774852987395223, -0.005093326960209953, -0.02064884629845176, -0.011918990964258388, 0.00213493267705074]</td>\n",
       "      <td id=\"T_bb873_row0_col5\" class=\"data row0 col5\" >[0, 0, 0, 0, 0, 0, 0.01964705696807787]</td>\n",
       "      <td id=\"T_bb873_row0_col6\" class=\"data row0 col6\" >[0.002384153070020832, 0.003457602225186136, 0.0025340059036947633, 0, 0, 0.0009508011613858051, -0.025616353056236732]</td>\n",
       "      <td id=\"T_bb873_row0_col7\" class=\"data row0 col7\" >[0.002910448220751587, 0.005529002494703668, 0.004594814712743522, 0.00042706699447165783, 0.009437693570915878, 0.0030991824168144955, -0.03118448910164181]</td>\n",
       "    </tr>\n",
       "    <tr>\n",
       "      <th id=\"T_bb873_level0_row1\" class=\"row_heading level0 row1\" >Segment 2</th>\n",
       "      <td id=\"T_bb873_row1_col0\" class=\"data row1 col0\" >[-8.178675304391675, -8.567455788409305, -8.585631842168647, -10.887516806370494, 0.42282078696136705, 0.28414772604338856, 0.1243622199456729]</td>\n",
       "      <td id=\"T_bb873_row1_col1\" class=\"data row1 col1\" >[0.004146312252314901, 0.004394562620758038, 0.004441637236630287, 0.00563385399970798, 0, 0, 0]</td>\n",
       "      <td id=\"T_bb873_row1_col2\" class=\"data row1 col2\" >[-0.015031742753393139, -0.018733700849538595, -0.015736692525579243, -0.017957310568418212, -0.013183662346069571, -0.014953523384902585, 0]</td>\n",
       "      <td id=\"T_bb873_row1_col3\" class=\"data row1 col3\" >[0.01045798256411022, 0.018567807032632097, 0.021002172225181297, 0.015381522615022576, 0.04884627085686614, 0.05317092519847767, -0.009940719367876655]</td>\n",
       "      <td id=\"T_bb873_row1_col4\" class=\"data row1 col4\" >[-9.026335174490329e-05, 0, 0, 0, -0.011864347346887232, -0.008475299950807794, 0]</td>\n",
       "      <td id=\"T_bb873_row1_col5\" class=\"data row1 col5\" >[0.0001973748731300362, 0.00020375191168091125, 0, 0.007281413879694335, 0.033224318510948876, 0.03621641435912726, 0.005348317025927302]</td>\n",
       "      <td id=\"T_bb873_row1_col6\" class=\"data row1 col6\" >[-0.010136155719827131, -0.017678294046348877, -0.023494124785338872, -0.010202604645432222, -0.028253406666658296, -0.03274715185488118, 0.020911638035406462]</td>\n",
       "      <td id=\"T_bb873_row1_col7\" class=\"data row1 col7\" >[0.007635588989686705, 0.008221749753545272, 0.007934732692333683, 0.011885234801459157, 0, 0, 0]</td>\n",
       "    </tr>\n",
       "    <tr>\n",
       "      <th id=\"T_bb873_level0_row2\" class=\"row_heading level0 row2\" >Segment 3</th>\n",
       "      <td id=\"T_bb873_row2_col0\" class=\"data row2 col0\" >[40.921006545882534, 50.895096297031586, 69.48867809045338, 0.8834294022409347, 76.92873468727524, 59.97626481008383, -183.77273951155982]</td>\n",
       "      <td id=\"T_bb873_row2_col1\" class=\"data row2 col1\" >[-0.020259890824980097, -0.02518305107288108, -0.03440506306050126, -0.00023969860291634586, -0.03800332636106635, -0.02966235885704887, 0.09142888258873613]</td>\n",
       "      <td id=\"T_bb873_row2_col2\" class=\"data row2 col2\" >[0, 0, -0.0024225947032943487, -0.0016084047433077091, -0.016494180170297905, -0.013406892788657997, 0.02902326656997849]</td>\n",
       "      <td id=\"T_bb873_row2_col3\" class=\"data row2 col3\" >[0.005854176136300245, 0.00397697856325619, 0.007443825668502859, -0.0076462463157694425, 0.0021441131566921037, 0.002351250810332423, -0.012174527610339603]</td>\n",
       "      <td id=\"T_bb873_row2_col4\" class=\"data row2 col4\" >[-0.014370010048930525, -0.013268489602268415, -0.01680896003632936, -0.0036527915819201755, -0.019796965920781923, -0.013964558531023071, 0.03579450237639679]</td>\n",
       "      <td id=\"T_bb873_row2_col5\" class=\"data row2 col5\" >[0.008811111586499342, 0.012618469843064676, 0.01361870695976215, 0.024766213847678697, 0.021772726540925325, 0.014124435464744166, -0.0065829842625007]</td>\n",
       "      <td id=\"T_bb873_row2_col6\" class=\"data row2 col6\" >[-0.020052238813802078, -0.015932060670294356, -0.01707310212186034, 0, -0.004396921947604966, -0.0042026664281565864, 0.026255827857797617]</td>\n",
       "      <td id=\"T_bb873_row2_col7\" class=\"data row2 col7\" >[0, 5.383251312164806e-06, 0, 0, 0, 0, -0.005891841365245101]</td>\n",
       "    </tr>\n",
       "    <tr>\n",
       "      <th id=\"T_bb873_level0_row3\" class=\"row_heading level0 row3\" >Segment 4</th>\n",
       "      <td id=\"T_bb873_row3_col0\" class=\"data row3 col0\" >[-81.05418526482875, -118.01267002729952, -158.2880580670942, -30.30693193427896, -196.03929233869582, -162.25359177311236, 315.4606911372531]</td>\n",
       "      <td id=\"T_bb873_row3_col1\" class=\"data row3 col1\" >[0.040157854624715446, 0.058484343822889764, 0.07842674538386808, 0.015224468791355944, 0.09720045762482044, 0.08041071502669586, -0.15590816344669936]</td>\n",
       "      <td id=\"T_bb873_row3_col2\" class=\"data row3 col2\" >[0.007472415860416005, 0.014965945315045614, 0.028236782931977088, 0, 0.0456677755800225, 0.04424488962356279, -0.08085708479463748]</td>\n",
       "      <td id=\"T_bb873_row3_col3\" class=\"data row3 col3\" >[0.0005224995743545358, 0, 0.0019928640089984374, -0.0047594782098874374, 0, 0, -0.005990266176790861]</td>\n",
       "      <td id=\"T_bb873_row3_col4\" class=\"data row3 col4\" >[-0.007480593138068563, -0.014385875825021191, -0.019532340820599563, -0.02110208150576144, -0.05293998042020171, -0.037081218150552306, 0.00983054564983115]</td>\n",
       "      <td id=\"T_bb873_row3_col5\" class=\"data row3 col5\" >[-0.0047991985520175195, -0.008273657115843325, -0.013458547981285734, 0.009891817020358322, -0.030958716267587172, -0.026201025320273658, 0.04959555040204003]</td>\n",
       "      <td id=\"T_bb873_row3_col6\" class=\"data row3 col6\" >[0, -0.0056423797227600535, -0.008934870993549608, 0, -0.016627155899269466, -0.010798922316788476, 0.02686801739118362]</td>\n",
       "      <td id=\"T_bb873_row3_col7\" class=\"data row3 col7\" >[0.003079286646315475, 0, 0.0007511494489842995, -0.017042479234643342, 0, 0, -0.012503893801963768]</td>\n",
       "    </tr>\n",
       "    <tr>\n",
       "      <th id=\"T_bb873_level0_row4\" class=\"row_heading level0 row4\" >Segment 5</th>\n",
       "      <td id=\"T_bb873_row4_col0\" class=\"data row4 col0\" >[41.885228141335816, 57.43865383358764, 65.54305278330101, 59.64304969811471, 54.73021288260908, 30.02758257863741, -112.13243895268677]</td>\n",
       "      <td id=\"T_bb873_row4_col1\" class=\"data row4 col1\" >[-0.020678688978219652, -0.02834496343482197, -0.03235356893884844, -0.029294008793056853, -0.026917266181773973, -0.014769204854360818, 0.05572799985824385]</td>\n",
       "      <td id=\"T_bb873_row4_col2\" class=\"data row4 col2\" >[0.0014568721748797065, 0, -0.000910040875040379, 0.00396794467387629, -0.01706631505746973, -0.010674978281224302, 0.03227158638432605]</td>\n",
       "      <td id=\"T_bb873_row4_col3\" class=\"data row4 col3\" >[0.01539678108322463, 0.014476786766660242, 0.020522206916824024, -0.0020138515483163013, 0.021500981618253596, 0.022670600201643548, -0.06182474293589202]</td>\n",
       "      <td id=\"T_bb873_row4_col4\" class=\"data row4 col4\" >[0, -0.00043619660784276177, 0, -0.03123203946284454, 0.008954637506860147, 0.004846282570021946, -0.028112712969623973]</td>\n",
       "      <td id=\"T_bb873_row4_col5\" class=\"data row4 col5\" >[0.01298950492416974, 0.013749896929551416, 0.0108458280080692, 0.021218195129112848, 0, 0, -0.003963876084670455]</td>\n",
       "      <td id=\"T_bb873_row4_col6\" class=\"data row4 col6\" >[-0.009436322565622709, -0.007888866194235296, -0.008890189927610094, 0.004211367702772063, 0, -0.003320159682206331, 0.033098091683629996]</td>\n",
       "      <td id=\"T_bb873_row4_col7\" class=\"data row4 col7\" >[0.007869961708377718, 0.0078881638579178, 0.008979925815693755, 0.010855060580760658, 0.018524862469830157, 0.01263173786693248, -0.012032828985316775]</td>\n",
       "    </tr>\n",
       "  </tbody>\n",
       "</table>\n"
      ],
      "text/plain": [
       "<pandas.io.formats.style.Styler at 0x7f91d4119db0>"
      ]
     },
     "metadata": {},
     "output_type": "display_data"
    }
   ],
   "source": [
    "# display all coefficients for a single pixel\n",
    "display(g2p.imageArrayPixelToDataFrame(coeffs, pt,None,crs,transform, 'Coeffs',columns = harmonicTag,index=index))"
   ]
  },
  {
   "cell_type": "markdown",
   "id": "e9eb13f8",
   "metadata": {},
   "source": [
    "#### How to use these outputs\n",
    "\n",
    "So, there's a LOT of data even for a single pixel! You can see why the CCDC modeling algorithm is so memory intensive. Now, how do you make these oututs useful? \n",
    "\n",
    "One of the most common uses of CCDC is to choose a specific date, and find the model that date intersects. From the model for that date, you can get the coefficients and predicted values from the model. \n",
    "\n",
    "#### Inspect segment date information\n",
    "\n",
    "In order to do this, the first step is to find determine which segment a specified date falls within.\n",
    "\n",
    "Run the code block below to look at the structure of the date information for each segment."
   ]
  },
  {
   "cell_type": "code",
   "execution_count": 76,
   "id": "b30e9453",
   "metadata": {},
   "outputs": [
    {
     "data": {
      "text/html": [
       "<style type=\"text/css\">\n",
       "#T_8866e caption {\n",
       "  text-align: left;\n",
       "  font-size: 150%;\n",
       "  font-weight: bold;\n",
       "}\n",
       "</style>\n",
       "<table id=\"T_8866e\">\n",
       "  <caption>Segment Start and End Dates</caption>\n",
       "  <thead>\n",
       "    <tr>\n",
       "      <th class=\"blank level0\" >&nbsp;</th>\n",
       "      <th id=\"T_8866e_level0_col0\" class=\"col_heading level0 col0\" >tStart</th>\n",
       "      <th id=\"T_8866e_level0_col1\" class=\"col_heading level0 col1\" >tEnd</th>\n",
       "    </tr>\n",
       "  </thead>\n",
       "  <tbody>\n",
       "    <tr>\n",
       "      <th id=\"T_8866e_level0_row0\" class=\"row_heading level0 row0\" >Segment 1</th>\n",
       "      <td id=\"T_8866e_row0_col0\" class=\"data row0 col0\" >1984.813408</td>\n",
       "      <td id=\"T_8866e_row0_col1\" class=\"data row0 col1\" >1992.632670</td>\n",
       "    </tr>\n",
       "    <tr>\n",
       "      <th id=\"T_8866e_level0_row1\" class=\"row_heading level0 row1\" >Segment 2</th>\n",
       "      <td id=\"T_8866e_row1_col0\" class=\"data row1 col0\" >1999.729263</td>\n",
       "      <td id=\"T_8866e_row1_col1\" class=\"data row1 col1\" >2013.309009</td>\n",
       "    </tr>\n",
       "    <tr>\n",
       "      <th id=\"T_8866e_level0_row2\" class=\"row_heading level0 row2\" >Segment 3</th>\n",
       "      <td id=\"T_8866e_row2_col0\" class=\"data row2 col0\" >2013.330923</td>\n",
       "      <td id=\"T_8866e_row2_col1\" class=\"data row2 col1\" >2020.145418</td>\n",
       "    </tr>\n",
       "    <tr>\n",
       "      <th id=\"T_8866e_level0_row3\" class=\"row_heading level0 row3\" >Segment 4</th>\n",
       "      <td id=\"T_8866e_row3_col0\" class=\"data row3 col0\" >2020.164595</td>\n",
       "      <td id=\"T_8866e_row3_col1\" class=\"data row3 col1\" >2021.653986</td>\n",
       "    </tr>\n",
       "    <tr>\n",
       "      <th id=\"T_8866e_level0_row4\" class=\"row_heading level0 row4\" >Segment 5</th>\n",
       "      <td id=\"T_8866e_row4_col0\" class=\"data row4 col0\" >2021.766226</td>\n",
       "      <td id=\"T_8866e_row4_col1\" class=\"data row4 col1\" >2023.471917</td>\n",
       "    </tr>\n",
       "  </tbody>\n",
       "</table>\n"
      ],
      "text/plain": [
       "<pandas.io.formats.style.Styler at 0x7f91cdddb100>"
      ]
     },
     "metadata": {},
     "output_type": "display_data"
    },
    {
     "name": "stdout",
     "output_type": "stream",
     "text": [
      "\n"
     ]
    }
   ],
   "source": [
    "display(g2p.imageArrayPixelToDataFrame(tStarts.arrayCat(tEnds,1),\\\n",
    "                                       pt,None,crs,transform, 'Segment Start and End Dates',index=index,columns = ['tStart','tEnd']))\n",
    "print()"
   ]
  },
  {
   "cell_type": "markdown",
   "id": "c4842e22",
   "metadata": {},
   "source": [
    "`tStart` and `tEnd` are the start and end date of each segment. Notice that the dates are displayed in fractional years. Notice also that the tEnd of segment 1 is several years before the tStart of segment 2. This is because CCDC needs several observations to get the next harmonic model (segment) started.\n",
    "\n",
    "#### Inspect breaks\n",
    "\n",
    "Next, inspect the breaks. The tBreaks are the date there was a significant departure and the harmonic model stopped.\n",
    "\n",
    "Run the code block below to look at the breaks for this particular pixel. \n"
   ]
  },
  {
   "cell_type": "code",
   "execution_count": 77,
   "id": "6c6a9dba",
   "metadata": {},
   "outputs": [
    {
     "data": {
      "text/html": [
       "<style type=\"text/css\">\n",
       "#T_4e3f5 caption {\n",
       "  text-align: left;\n",
       "  font-size: 150%;\n",
       "  font-weight: bold;\n",
       "}\n",
       "</style>\n",
       "<table id=\"T_4e3f5\">\n",
       "  <caption>tBreaks</caption>\n",
       "  <thead>\n",
       "    <tr>\n",
       "      <th class=\"blank level0\" >&nbsp;</th>\n",
       "      <th id=\"T_4e3f5_level0_col0\" class=\"col_heading level0 col0\" >tBreaks</th>\n",
       "    </tr>\n",
       "  </thead>\n",
       "  <tbody>\n",
       "    <tr>\n",
       "      <th id=\"T_4e3f5_level0_row0\" class=\"row_heading level0 row0\" >Segment 1</th>\n",
       "      <td id=\"T_4e3f5_row0_col0\" class=\"data row0 col0\" >1999.729263</td>\n",
       "    </tr>\n",
       "    <tr>\n",
       "      <th id=\"T_4e3f5_level0_row1\" class=\"row_heading level0 row1\" >Segment 2</th>\n",
       "      <td id=\"T_4e3f5_row1_col0\" class=\"data row1 col0\" >2013.330923</td>\n",
       "    </tr>\n",
       "    <tr>\n",
       "      <th id=\"T_4e3f5_level0_row2\" class=\"row_heading level0 row2\" >Segment 3</th>\n",
       "      <td id=\"T_4e3f5_row2_col0\" class=\"data row2 col0\" >2020.164595</td>\n",
       "    </tr>\n",
       "    <tr>\n",
       "      <th id=\"T_4e3f5_level0_row3\" class=\"row_heading level0 row3\" >Segment 4</th>\n",
       "      <td id=\"T_4e3f5_row3_col0\" class=\"data row3 col0\" >2021.766226</td>\n",
       "    </tr>\n",
       "    <tr>\n",
       "      <th id=\"T_4e3f5_level0_row4\" class=\"row_heading level0 row4\" >Segment 5</th>\n",
       "      <td id=\"T_4e3f5_row4_col0\" class=\"data row4 col0\" >0.000000</td>\n",
       "    </tr>\n",
       "  </tbody>\n",
       "</table>\n"
      ],
      "text/plain": [
       "<pandas.io.formats.style.Styler at 0x7f91cddb2f20>"
      ]
     },
     "metadata": {},
     "output_type": "display_data"
    }
   ],
   "source": [
    "# inspect breaks\n",
    "display(g2p.imageArrayPixelToDataFrame(tBreaks, pt,None,crs,transform, 'tBreaks',index=index,columns = ['tBreaks']))"
   ]
  },
  {
   "cell_type": "markdown",
   "id": "52bc1256",
   "metadata": {},
   "source": [
    "Notice that there is no break for the last segment, since it is ongoing.\n",
    "This is not always the case though. Sometimes there is a break toward the end of the time series and there are not enough observations to start a new segment before the end.\n",
    "\n",
    "#### Find segment that a given date intersects\n",
    "\n",
    "Now, we will find the segment a given date intersects. You will choose a date of interest and return an arry with a 1 for the segments that the date intersects, and a 0 for the segments that the date doesn't intersect.\n"
   ]
  },
  {
   "cell_type": "code",
   "execution_count": 78,
   "id": "53951c3e",
   "metadata": {},
   "outputs": [
    {
     "data": {
      "text/html": [
       "<style type=\"text/css\">\n",
       "#T_e36b6 caption {\n",
       "  text-align: left;\n",
       "  font-size: 150%;\n",
       "  font-weight: bold;\n",
       "}\n",
       "</style>\n",
       "<table id=\"T_e36b6\">\n",
       "  <caption>Segment date intersects</caption>\n",
       "  <thead>\n",
       "    <tr>\n",
       "      <th class=\"blank level0\" >&nbsp;</th>\n",
       "      <th id=\"T_e36b6_level0_col0\" class=\"col_heading level0 col0\" >0</th>\n",
       "    </tr>\n",
       "  </thead>\n",
       "  <tbody>\n",
       "    <tr>\n",
       "      <th id=\"T_e36b6_level0_row0\" class=\"row_heading level0 row0\" >Segment 1</th>\n",
       "      <td id=\"T_e36b6_row0_col0\" class=\"data row0 col0\" >0</td>\n",
       "    </tr>\n",
       "    <tr>\n",
       "      <th id=\"T_e36b6_level0_row1\" class=\"row_heading level0 row1\" >Segment 2</th>\n",
       "      <td id=\"T_e36b6_row1_col0\" class=\"data row1 col0\" >0</td>\n",
       "    </tr>\n",
       "    <tr>\n",
       "      <th id=\"T_e36b6_level0_row2\" class=\"row_heading level0 row2\" >Segment 3</th>\n",
       "      <td id=\"T_e36b6_row2_col0\" class=\"data row2 col0\" >1</td>\n",
       "    </tr>\n",
       "    <tr>\n",
       "      <th id=\"T_e36b6_level0_row3\" class=\"row_heading level0 row3\" >Segment 4</th>\n",
       "      <td id=\"T_e36b6_row3_col0\" class=\"data row3 col0\" >0</td>\n",
       "    </tr>\n",
       "    <tr>\n",
       "      <th id=\"T_e36b6_level0_row4\" class=\"row_heading level0 row4\" >Segment 5</th>\n",
       "      <td id=\"T_e36b6_row4_col0\" class=\"data row4 col0\" >0</td>\n",
       "    </tr>\n",
       "  </tbody>\n",
       "</table>\n"
      ],
      "text/plain": [
       "<pandas.io.formats.style.Styler at 0x7f91d4119db0>"
      ]
     },
     "metadata": {},
     "output_type": "display_data"
    }
   ],
   "source": [
    "# Now, we will find the segment a given date intersects\n",
    "date = 2017.9\n",
    "timeBandName = 'year'\n",
    "timeImg = ee.Image(date).rename([timeBandName])\n",
    "\n",
    "# Find which segment it intersects\n",
    "tMask = tStarts.lt(timeImg).And(tEnds.gte(timeImg))\n",
    "\n",
    "# display results\n",
    "display(g2p.imageArrayPixelToDataFrame(tMask,\\\n",
    "                                       pt,None,crs,transform, 'Segment date intersects',index = index))"
   ]
  },
  {
   "cell_type": "markdown",
   "id": "67f4c937",
   "metadata": {},
   "source": [
    "Next, reformat the mask so it can be applied across multiple-band models."
   ]
  },
  {
   "cell_type": "code",
   "execution_count": 79,
   "id": "2017146b",
   "metadata": {},
   "outputs": [
    {
     "data": {
      "text/html": [
       "<style type=\"text/css\">\n",
       "#T_2a1b4 caption {\n",
       "  text-align: left;\n",
       "  font-size: 150%;\n",
       "  font-weight: bold;\n",
       "}\n",
       "</style>\n",
       "<table id=\"T_2a1b4\">\n",
       "  <caption>Segment date intersects reformatted</caption>\n",
       "  <thead>\n",
       "    <tr>\n",
       "      <th class=\"blank level0\" >&nbsp;</th>\n",
       "      <th id=\"T_2a1b4_level0_col0\" class=\"col_heading level0 col0\" >0</th>\n",
       "    </tr>\n",
       "  </thead>\n",
       "  <tbody>\n",
       "    <tr>\n",
       "      <th id=\"T_2a1b4_level0_row0\" class=\"row_heading level0 row0\" >Segment 1</th>\n",
       "      <td id=\"T_2a1b4_row0_col0\" class=\"data row0 col0\" >[0]</td>\n",
       "    </tr>\n",
       "    <tr>\n",
       "      <th id=\"T_2a1b4_level0_row1\" class=\"row_heading level0 row1\" >Segment 2</th>\n",
       "      <td id=\"T_2a1b4_row1_col0\" class=\"data row1 col0\" >[0]</td>\n",
       "    </tr>\n",
       "    <tr>\n",
       "      <th id=\"T_2a1b4_level0_row2\" class=\"row_heading level0 row2\" >Segment 3</th>\n",
       "      <td id=\"T_2a1b4_row2_col0\" class=\"data row2 col0\" >[1]</td>\n",
       "    </tr>\n",
       "    <tr>\n",
       "      <th id=\"T_2a1b4_level0_row3\" class=\"row_heading level0 row3\" >Segment 4</th>\n",
       "      <td id=\"T_2a1b4_row3_col0\" class=\"data row3 col0\" >[0]</td>\n",
       "    </tr>\n",
       "    <tr>\n",
       "      <th id=\"T_2a1b4_level0_row4\" class=\"row_heading level0 row4\" >Segment 5</th>\n",
       "      <td id=\"T_2a1b4_row4_col0\" class=\"data row4 col0\" >[0]</td>\n",
       "    </tr>\n",
       "  </tbody>\n",
       "</table>\n"
      ],
      "text/plain": [
       "<pandas.io.formats.style.Styler at 0x7f91cddda2f0>"
      ]
     },
     "metadata": {},
     "output_type": "display_data"
    }
   ],
   "source": [
    "# Reformat the mask so it can be applied across multiple band models\n",
    "tMask = tMask.arrayRepeat(1,1).arrayRepeat(2,1)\n",
    "\n",
    "# display\n",
    "display(g2p.imageArrayPixelToDataFrame(tMask,\\\n",
    "                                     pt,None,crs,transform, 'Segment date intersects reformatted',index=index))"
   ]
  },
  {
   "cell_type": "markdown",
   "id": "894caf1c",
   "metadata": {},
   "source": [
    "Mask out coeffs for the segment the time intersects. Finally, mask so only the segment of interest is left."
   ]
  },
  {
   "cell_type": "code",
   "execution_count": 80,
   "id": "a94c5476",
   "metadata": {},
   "outputs": [
    {
     "data": {
      "text/html": [
       "<style type=\"text/css\">\n",
       "#T_ce66d caption {\n",
       "  text-align: left;\n",
       "  font-size: 150%;\n",
       "  font-weight: bold;\n",
       "}\n",
       "</style>\n",
       "<table id=\"T_ce66d\">\n",
       "  <caption>Coeffs Masked</caption>\n",
       "  <thead>\n",
       "    <tr>\n",
       "      <th class=\"blank level0\" >&nbsp;</th>\n",
       "      <th id=\"T_ce66d_level0_col0\" class=\"col_heading level0 col0\" >INTP</th>\n",
       "      <th id=\"T_ce66d_level0_col1\" class=\"col_heading level0 col1\" >SLP</th>\n",
       "      <th id=\"T_ce66d_level0_col2\" class=\"col_heading level0 col2\" >COS1</th>\n",
       "      <th id=\"T_ce66d_level0_col3\" class=\"col_heading level0 col3\" >SIN1</th>\n",
       "      <th id=\"T_ce66d_level0_col4\" class=\"col_heading level0 col4\" >COS2</th>\n",
       "      <th id=\"T_ce66d_level0_col5\" class=\"col_heading level0 col5\" >SIN2</th>\n",
       "      <th id=\"T_ce66d_level0_col6\" class=\"col_heading level0 col6\" >COS3</th>\n",
       "      <th id=\"T_ce66d_level0_col7\" class=\"col_heading level0 col7\" >SIN3</th>\n",
       "    </tr>\n",
       "  </thead>\n",
       "  <tbody>\n",
       "    <tr>\n",
       "      <th id=\"T_ce66d_level0_row0\" class=\"row_heading level0 row0\" >Segment 2017.9</th>\n",
       "      <td id=\"T_ce66d_row0_col0\" class=\"data row0 col0\" >[40.921006545882534, 50.895096297031586, 69.48867809045338, 0.8834294022409347, 76.92873468727524, 59.97626481008383, -183.77273951155982]</td>\n",
       "      <td id=\"T_ce66d_row0_col1\" class=\"data row0 col1\" >[-0.020259890824980097, -0.02518305107288108, -0.03440506306050126, -0.00023969860291634586, -0.03800332636106635, -0.02966235885704887, 0.09142888258873613]</td>\n",
       "      <td id=\"T_ce66d_row0_col2\" class=\"data row0 col2\" >[0, 0, -0.0024225947032943487, -0.0016084047433077091, -0.016494180170297905, -0.013406892788657997, 0.02902326656997849]</td>\n",
       "      <td id=\"T_ce66d_row0_col3\" class=\"data row0 col3\" >[0.005854176136300245, 0.00397697856325619, 0.007443825668502859, -0.0076462463157694425, 0.0021441131566921037, 0.002351250810332423, -0.012174527610339603]</td>\n",
       "      <td id=\"T_ce66d_row0_col4\" class=\"data row0 col4\" >[-0.014370010048930525, -0.013268489602268415, -0.01680896003632936, -0.0036527915819201755, -0.019796965920781923, -0.013964558531023071, 0.03579450237639679]</td>\n",
       "      <td id=\"T_ce66d_row0_col5\" class=\"data row0 col5\" >[0.008811111586499342, 0.012618469843064676, 0.01361870695976215, 0.024766213847678697, 0.021772726540925325, 0.014124435464744166, -0.0065829842625007]</td>\n",
       "      <td id=\"T_ce66d_row0_col6\" class=\"data row0 col6\" >[-0.020052238813802078, -0.015932060670294356, -0.01707310212186034, 0, -0.004396921947604966, -0.0042026664281565864, 0.026255827857797617]</td>\n",
       "      <td id=\"T_ce66d_row0_col7\" class=\"data row0 col7\" >[0, 5.383251312164806e-06, 0, 0, 0, 0, -0.005891841365245101]</td>\n",
       "    </tr>\n",
       "  </tbody>\n",
       "</table>\n"
      ],
      "text/plain": [
       "<pandas.io.formats.style.Styler at 0x7f91cddda950>"
      ]
     },
     "metadata": {},
     "output_type": "display_data"
    }
   ],
   "source": [
    "# Mask out coeffs for the segment the time intersects\n",
    "coeffsSeg = coeffs.arrayMask(tMask)\n",
    "\n",
    "# display\n",
    "display(g2p.imageArrayPixelToDataFrame(coeffsSeg,\\\n",
    "                                       pt,None,crs,transform, 'Coeffs Masked',index=[f'Segment {date}'],columns = harmonicTag ))\n"
   ]
  },
  {
   "cell_type": "markdown",
   "id": "485fa624",
   "metadata": {},
   "source": [
    "The array above lists all the coefficients for all of the bands. So, our next step is to convert this array into a multi-band image. \n",
    "\n",
    "#### Convert to multi-band image\n",
    "\n",
    "Now that we found which segment the date intersects, we need to reformat the output into a more user-friendly multi-band image.\n",
    "\n",
    "First, we will project the axes so there are only 2 dimensions for a given pixel instead of 3. That is, we are removing the time dimension so that the remaining dimensions are: coefficient and band. \n",
    "\n"
   ]
  },
  {
   "cell_type": "code",
   "execution_count": 81,
   "id": "69943bb7",
   "metadata": {},
   "outputs": [
    {
     "data": {
      "text/html": [
       "<style type=\"text/css\">\n",
       "#T_23741 caption {\n",
       "  text-align: left;\n",
       "  font-size: 150%;\n",
       "  font-weight: bold;\n",
       "}\n",
       "</style>\n",
       "<table id=\"T_23741\">\n",
       "  <caption>Coeffs Masked Reformatted</caption>\n",
       "  <thead>\n",
       "    <tr>\n",
       "      <th class=\"blank level0\" >&nbsp;</th>\n",
       "      <th id=\"T_23741_level0_col0\" class=\"col_heading level0 col0\" >blue_coefs</th>\n",
       "      <th id=\"T_23741_level0_col1\" class=\"col_heading level0 col1\" >green_coefs</th>\n",
       "      <th id=\"T_23741_level0_col2\" class=\"col_heading level0 col2\" >red_coefs</th>\n",
       "      <th id=\"T_23741_level0_col3\" class=\"col_heading level0 col3\" >nir_coefs</th>\n",
       "      <th id=\"T_23741_level0_col4\" class=\"col_heading level0 col4\" >swir1_coefs</th>\n",
       "      <th id=\"T_23741_level0_col5\" class=\"col_heading level0 col5\" >swir2_coefs</th>\n",
       "      <th id=\"T_23741_level0_col6\" class=\"col_heading level0 col6\" >NDVI_coefs</th>\n",
       "    </tr>\n",
       "  </thead>\n",
       "  <tbody>\n",
       "    <tr>\n",
       "      <th id=\"T_23741_level0_row0\" class=\"row_heading level0 row0\" >INTP</th>\n",
       "      <td id=\"T_23741_row0_col0\" class=\"data row0 col0\" >40.921007</td>\n",
       "      <td id=\"T_23741_row0_col1\" class=\"data row0 col1\" >50.895096</td>\n",
       "      <td id=\"T_23741_row0_col2\" class=\"data row0 col2\" >69.488678</td>\n",
       "      <td id=\"T_23741_row0_col3\" class=\"data row0 col3\" >0.883429</td>\n",
       "      <td id=\"T_23741_row0_col4\" class=\"data row0 col4\" >76.928735</td>\n",
       "      <td id=\"T_23741_row0_col5\" class=\"data row0 col5\" >59.976265</td>\n",
       "      <td id=\"T_23741_row0_col6\" class=\"data row0 col6\" >-183.772740</td>\n",
       "    </tr>\n",
       "    <tr>\n",
       "      <th id=\"T_23741_level0_row1\" class=\"row_heading level0 row1\" >SLP</th>\n",
       "      <td id=\"T_23741_row1_col0\" class=\"data row1 col0\" >-0.020260</td>\n",
       "      <td id=\"T_23741_row1_col1\" class=\"data row1 col1\" >-0.025183</td>\n",
       "      <td id=\"T_23741_row1_col2\" class=\"data row1 col2\" >-0.034405</td>\n",
       "      <td id=\"T_23741_row1_col3\" class=\"data row1 col3\" >-0.000240</td>\n",
       "      <td id=\"T_23741_row1_col4\" class=\"data row1 col4\" >-0.038003</td>\n",
       "      <td id=\"T_23741_row1_col5\" class=\"data row1 col5\" >-0.029662</td>\n",
       "      <td id=\"T_23741_row1_col6\" class=\"data row1 col6\" >0.091429</td>\n",
       "    </tr>\n",
       "    <tr>\n",
       "      <th id=\"T_23741_level0_row2\" class=\"row_heading level0 row2\" >COS1</th>\n",
       "      <td id=\"T_23741_row2_col0\" class=\"data row2 col0\" >0.000000</td>\n",
       "      <td id=\"T_23741_row2_col1\" class=\"data row2 col1\" >0.000000</td>\n",
       "      <td id=\"T_23741_row2_col2\" class=\"data row2 col2\" >-0.002423</td>\n",
       "      <td id=\"T_23741_row2_col3\" class=\"data row2 col3\" >-0.001608</td>\n",
       "      <td id=\"T_23741_row2_col4\" class=\"data row2 col4\" >-0.016494</td>\n",
       "      <td id=\"T_23741_row2_col5\" class=\"data row2 col5\" >-0.013407</td>\n",
       "      <td id=\"T_23741_row2_col6\" class=\"data row2 col6\" >0.029023</td>\n",
       "    </tr>\n",
       "    <tr>\n",
       "      <th id=\"T_23741_level0_row3\" class=\"row_heading level0 row3\" >SIN1</th>\n",
       "      <td id=\"T_23741_row3_col0\" class=\"data row3 col0\" >0.005854</td>\n",
       "      <td id=\"T_23741_row3_col1\" class=\"data row3 col1\" >0.003977</td>\n",
       "      <td id=\"T_23741_row3_col2\" class=\"data row3 col2\" >0.007444</td>\n",
       "      <td id=\"T_23741_row3_col3\" class=\"data row3 col3\" >-0.007646</td>\n",
       "      <td id=\"T_23741_row3_col4\" class=\"data row3 col4\" >0.002144</td>\n",
       "      <td id=\"T_23741_row3_col5\" class=\"data row3 col5\" >0.002351</td>\n",
       "      <td id=\"T_23741_row3_col6\" class=\"data row3 col6\" >-0.012175</td>\n",
       "    </tr>\n",
       "    <tr>\n",
       "      <th id=\"T_23741_level0_row4\" class=\"row_heading level0 row4\" >COS2</th>\n",
       "      <td id=\"T_23741_row4_col0\" class=\"data row4 col0\" >-0.014370</td>\n",
       "      <td id=\"T_23741_row4_col1\" class=\"data row4 col1\" >-0.013268</td>\n",
       "      <td id=\"T_23741_row4_col2\" class=\"data row4 col2\" >-0.016809</td>\n",
       "      <td id=\"T_23741_row4_col3\" class=\"data row4 col3\" >-0.003653</td>\n",
       "      <td id=\"T_23741_row4_col4\" class=\"data row4 col4\" >-0.019797</td>\n",
       "      <td id=\"T_23741_row4_col5\" class=\"data row4 col5\" >-0.013965</td>\n",
       "      <td id=\"T_23741_row4_col6\" class=\"data row4 col6\" >0.035795</td>\n",
       "    </tr>\n",
       "    <tr>\n",
       "      <th id=\"T_23741_level0_row5\" class=\"row_heading level0 row5\" >SIN2</th>\n",
       "      <td id=\"T_23741_row5_col0\" class=\"data row5 col0\" >0.008811</td>\n",
       "      <td id=\"T_23741_row5_col1\" class=\"data row5 col1\" >0.012618</td>\n",
       "      <td id=\"T_23741_row5_col2\" class=\"data row5 col2\" >0.013619</td>\n",
       "      <td id=\"T_23741_row5_col3\" class=\"data row5 col3\" >0.024766</td>\n",
       "      <td id=\"T_23741_row5_col4\" class=\"data row5 col4\" >0.021773</td>\n",
       "      <td id=\"T_23741_row5_col5\" class=\"data row5 col5\" >0.014124</td>\n",
       "      <td id=\"T_23741_row5_col6\" class=\"data row5 col6\" >-0.006583</td>\n",
       "    </tr>\n",
       "    <tr>\n",
       "      <th id=\"T_23741_level0_row6\" class=\"row_heading level0 row6\" >COS3</th>\n",
       "      <td id=\"T_23741_row6_col0\" class=\"data row6 col0\" >-0.020052</td>\n",
       "      <td id=\"T_23741_row6_col1\" class=\"data row6 col1\" >-0.015932</td>\n",
       "      <td id=\"T_23741_row6_col2\" class=\"data row6 col2\" >-0.017073</td>\n",
       "      <td id=\"T_23741_row6_col3\" class=\"data row6 col3\" >0.000000</td>\n",
       "      <td id=\"T_23741_row6_col4\" class=\"data row6 col4\" >-0.004397</td>\n",
       "      <td id=\"T_23741_row6_col5\" class=\"data row6 col5\" >-0.004203</td>\n",
       "      <td id=\"T_23741_row6_col6\" class=\"data row6 col6\" >0.026256</td>\n",
       "    </tr>\n",
       "    <tr>\n",
       "      <th id=\"T_23741_level0_row7\" class=\"row_heading level0 row7\" >SIN3</th>\n",
       "      <td id=\"T_23741_row7_col0\" class=\"data row7 col0\" >0.000000</td>\n",
       "      <td id=\"T_23741_row7_col1\" class=\"data row7 col1\" >0.000005</td>\n",
       "      <td id=\"T_23741_row7_col2\" class=\"data row7 col2\" >0.000000</td>\n",
       "      <td id=\"T_23741_row7_col3\" class=\"data row7 col3\" >0.000000</td>\n",
       "      <td id=\"T_23741_row7_col4\" class=\"data row7 col4\" >0.000000</td>\n",
       "      <td id=\"T_23741_row7_col5\" class=\"data row7 col5\" >0.000000</td>\n",
       "      <td id=\"T_23741_row7_col6\" class=\"data row7 col6\" >-0.005892</td>\n",
       "    </tr>\n",
       "  </tbody>\n",
       "</table>\n"
      ],
      "text/plain": [
       "<pandas.io.formats.style.Styler at 0x7f91cfeb9f90>"
      ]
     },
     "metadata": {},
     "output_type": "display_data"
    }
   ],
   "source": [
    "coeffsSeg = coeffs.arrayMask(tMask)\n",
    "\n",
    "# Use arrayProject to take the third dimension and make it the first\n",
    "coeffsSeg = coeffsSeg.arrayProject([2,1])\n",
    "\n",
    "# display\n",
    "display(g2p.imageArrayPixelToDataFrame(coeffsSeg,\\\n",
    "                                       pt,None,crs,transform, 'Coeffs Masked Reformatted',index = harmonicTag ,columns = bns))"
   ]
  },
  {
   "cell_type": "markdown",
   "id": "c037c535",
   "metadata": {},
   "source": [
    "#### Transpose the array\n",
    "This is done so the final order of the bands is grouped by band and not model coeff name"
   ]
  },
  {
   "cell_type": "code",
   "execution_count": 82,
   "id": "6c20fe7a",
   "metadata": {},
   "outputs": [
    {
     "data": {
      "text/html": [
       "<style type=\"text/css\">\n",
       "#T_e49f5 caption {\n",
       "  text-align: left;\n",
       "  font-size: 150%;\n",
       "  font-weight: bold;\n",
       "}\n",
       "</style>\n",
       "<table id=\"T_e49f5\">\n",
       "  <caption>Coeffs Masked Reformatted Transposed</caption>\n",
       "  <thead>\n",
       "    <tr>\n",
       "      <th class=\"blank level0\" >&nbsp;</th>\n",
       "      <th id=\"T_e49f5_level0_col0\" class=\"col_heading level0 col0\" >INTP</th>\n",
       "      <th id=\"T_e49f5_level0_col1\" class=\"col_heading level0 col1\" >SLP</th>\n",
       "      <th id=\"T_e49f5_level0_col2\" class=\"col_heading level0 col2\" >COS1</th>\n",
       "      <th id=\"T_e49f5_level0_col3\" class=\"col_heading level0 col3\" >SIN1</th>\n",
       "      <th id=\"T_e49f5_level0_col4\" class=\"col_heading level0 col4\" >COS2</th>\n",
       "      <th id=\"T_e49f5_level0_col5\" class=\"col_heading level0 col5\" >SIN2</th>\n",
       "      <th id=\"T_e49f5_level0_col6\" class=\"col_heading level0 col6\" >COS3</th>\n",
       "      <th id=\"T_e49f5_level0_col7\" class=\"col_heading level0 col7\" >SIN3</th>\n",
       "    </tr>\n",
       "  </thead>\n",
       "  <tbody>\n",
       "    <tr>\n",
       "      <th id=\"T_e49f5_level0_row0\" class=\"row_heading level0 row0\" >blue_coefs</th>\n",
       "      <td id=\"T_e49f5_row0_col0\" class=\"data row0 col0\" >40.921007</td>\n",
       "      <td id=\"T_e49f5_row0_col1\" class=\"data row0 col1\" >-0.020260</td>\n",
       "      <td id=\"T_e49f5_row0_col2\" class=\"data row0 col2\" >0.000000</td>\n",
       "      <td id=\"T_e49f5_row0_col3\" class=\"data row0 col3\" >0.005854</td>\n",
       "      <td id=\"T_e49f5_row0_col4\" class=\"data row0 col4\" >-0.014370</td>\n",
       "      <td id=\"T_e49f5_row0_col5\" class=\"data row0 col5\" >0.008811</td>\n",
       "      <td id=\"T_e49f5_row0_col6\" class=\"data row0 col6\" >-0.020052</td>\n",
       "      <td id=\"T_e49f5_row0_col7\" class=\"data row0 col7\" >0.000000</td>\n",
       "    </tr>\n",
       "    <tr>\n",
       "      <th id=\"T_e49f5_level0_row1\" class=\"row_heading level0 row1\" >green_coefs</th>\n",
       "      <td id=\"T_e49f5_row1_col0\" class=\"data row1 col0\" >50.895096</td>\n",
       "      <td id=\"T_e49f5_row1_col1\" class=\"data row1 col1\" >-0.025183</td>\n",
       "      <td id=\"T_e49f5_row1_col2\" class=\"data row1 col2\" >0.000000</td>\n",
       "      <td id=\"T_e49f5_row1_col3\" class=\"data row1 col3\" >0.003977</td>\n",
       "      <td id=\"T_e49f5_row1_col4\" class=\"data row1 col4\" >-0.013268</td>\n",
       "      <td id=\"T_e49f5_row1_col5\" class=\"data row1 col5\" >0.012618</td>\n",
       "      <td id=\"T_e49f5_row1_col6\" class=\"data row1 col6\" >-0.015932</td>\n",
       "      <td id=\"T_e49f5_row1_col7\" class=\"data row1 col7\" >0.000005</td>\n",
       "    </tr>\n",
       "    <tr>\n",
       "      <th id=\"T_e49f5_level0_row2\" class=\"row_heading level0 row2\" >red_coefs</th>\n",
       "      <td id=\"T_e49f5_row2_col0\" class=\"data row2 col0\" >69.488678</td>\n",
       "      <td id=\"T_e49f5_row2_col1\" class=\"data row2 col1\" >-0.034405</td>\n",
       "      <td id=\"T_e49f5_row2_col2\" class=\"data row2 col2\" >-0.002423</td>\n",
       "      <td id=\"T_e49f5_row2_col3\" class=\"data row2 col3\" >0.007444</td>\n",
       "      <td id=\"T_e49f5_row2_col4\" class=\"data row2 col4\" >-0.016809</td>\n",
       "      <td id=\"T_e49f5_row2_col5\" class=\"data row2 col5\" >0.013619</td>\n",
       "      <td id=\"T_e49f5_row2_col6\" class=\"data row2 col6\" >-0.017073</td>\n",
       "      <td id=\"T_e49f5_row2_col7\" class=\"data row2 col7\" >0.000000</td>\n",
       "    </tr>\n",
       "    <tr>\n",
       "      <th id=\"T_e49f5_level0_row3\" class=\"row_heading level0 row3\" >nir_coefs</th>\n",
       "      <td id=\"T_e49f5_row3_col0\" class=\"data row3 col0\" >0.883429</td>\n",
       "      <td id=\"T_e49f5_row3_col1\" class=\"data row3 col1\" >-0.000240</td>\n",
       "      <td id=\"T_e49f5_row3_col2\" class=\"data row3 col2\" >-0.001608</td>\n",
       "      <td id=\"T_e49f5_row3_col3\" class=\"data row3 col3\" >-0.007646</td>\n",
       "      <td id=\"T_e49f5_row3_col4\" class=\"data row3 col4\" >-0.003653</td>\n",
       "      <td id=\"T_e49f5_row3_col5\" class=\"data row3 col5\" >0.024766</td>\n",
       "      <td id=\"T_e49f5_row3_col6\" class=\"data row3 col6\" >0.000000</td>\n",
       "      <td id=\"T_e49f5_row3_col7\" class=\"data row3 col7\" >0.000000</td>\n",
       "    </tr>\n",
       "    <tr>\n",
       "      <th id=\"T_e49f5_level0_row4\" class=\"row_heading level0 row4\" >swir1_coefs</th>\n",
       "      <td id=\"T_e49f5_row4_col0\" class=\"data row4 col0\" >76.928735</td>\n",
       "      <td id=\"T_e49f5_row4_col1\" class=\"data row4 col1\" >-0.038003</td>\n",
       "      <td id=\"T_e49f5_row4_col2\" class=\"data row4 col2\" >-0.016494</td>\n",
       "      <td id=\"T_e49f5_row4_col3\" class=\"data row4 col3\" >0.002144</td>\n",
       "      <td id=\"T_e49f5_row4_col4\" class=\"data row4 col4\" >-0.019797</td>\n",
       "      <td id=\"T_e49f5_row4_col5\" class=\"data row4 col5\" >0.021773</td>\n",
       "      <td id=\"T_e49f5_row4_col6\" class=\"data row4 col6\" >-0.004397</td>\n",
       "      <td id=\"T_e49f5_row4_col7\" class=\"data row4 col7\" >0.000000</td>\n",
       "    </tr>\n",
       "    <tr>\n",
       "      <th id=\"T_e49f5_level0_row5\" class=\"row_heading level0 row5\" >swir2_coefs</th>\n",
       "      <td id=\"T_e49f5_row5_col0\" class=\"data row5 col0\" >59.976265</td>\n",
       "      <td id=\"T_e49f5_row5_col1\" class=\"data row5 col1\" >-0.029662</td>\n",
       "      <td id=\"T_e49f5_row5_col2\" class=\"data row5 col2\" >-0.013407</td>\n",
       "      <td id=\"T_e49f5_row5_col3\" class=\"data row5 col3\" >0.002351</td>\n",
       "      <td id=\"T_e49f5_row5_col4\" class=\"data row5 col4\" >-0.013965</td>\n",
       "      <td id=\"T_e49f5_row5_col5\" class=\"data row5 col5\" >0.014124</td>\n",
       "      <td id=\"T_e49f5_row5_col6\" class=\"data row5 col6\" >-0.004203</td>\n",
       "      <td id=\"T_e49f5_row5_col7\" class=\"data row5 col7\" >0.000000</td>\n",
       "    </tr>\n",
       "    <tr>\n",
       "      <th id=\"T_e49f5_level0_row6\" class=\"row_heading level0 row6\" >NDVI_coefs</th>\n",
       "      <td id=\"T_e49f5_row6_col0\" class=\"data row6 col0\" >-183.772740</td>\n",
       "      <td id=\"T_e49f5_row6_col1\" class=\"data row6 col1\" >0.091429</td>\n",
       "      <td id=\"T_e49f5_row6_col2\" class=\"data row6 col2\" >0.029023</td>\n",
       "      <td id=\"T_e49f5_row6_col3\" class=\"data row6 col3\" >-0.012175</td>\n",
       "      <td id=\"T_e49f5_row6_col4\" class=\"data row6 col4\" >0.035795</td>\n",
       "      <td id=\"T_e49f5_row6_col5\" class=\"data row6 col5\" >-0.006583</td>\n",
       "      <td id=\"T_e49f5_row6_col6\" class=\"data row6 col6\" >0.026256</td>\n",
       "      <td id=\"T_e49f5_row6_col7\" class=\"data row6 col7\" >-0.005892</td>\n",
       "    </tr>\n",
       "  </tbody>\n",
       "</table>\n"
      ],
      "text/plain": [
       "<pandas.io.formats.style.Styler at 0x7f91cfeb9300>"
      ]
     },
     "metadata": {},
     "output_type": "display_data"
    }
   ],
   "source": [
    "# transpose the array\n",
    "coeffsSeg = coeffsSeg.arrayTranspose(1,0)\n",
    "\n",
    "# display\n",
    "display(g2p.imageArrayPixelToDataFrame(coeffsSeg,\\\n",
    "                                       pt,None,crs,transform, 'Coeffs Masked Reformatted Transposed',index = bns,columns = harmonicTag))"
   ]
  },
  {
   "cell_type": "markdown",
   "id": "a672ce6b",
   "metadata": {},
   "source": [
    "#### Convert array into multi-band image \n",
    "\n",
    "The arrayFlatten method allows for converting an array image into a multi-band image for easy use. We will condense the two-dimensional array above into a one-dimensional list that will be attached to each pixel. \n",
    "\n",
    "Run the code below to print the array and to see the final image format on the map. "
   ]
  },
  {
   "cell_type": "code",
   "execution_count": 83,
   "id": "c8f3dbdc",
   "metadata": {},
   "outputs": [
    {
     "data": {
      "text/html": [
       "<div>\n",
       "<style scoped>\n",
       "    .dataframe tbody tr th:only-of-type {\n",
       "        vertical-align: middle;\n",
       "    }\n",
       "\n",
       "    .dataframe tbody tr th {\n",
       "        vertical-align: top;\n",
       "    }\n",
       "\n",
       "    .dataframe thead th {\n",
       "        text-align: right;\n",
       "    }\n",
       "</style>\n",
       "<table border=\"1\" class=\"dataframe\">\n",
       "  <thead>\n",
       "    <tr style=\"text-align: right;\">\n",
       "      <th></th>\n",
       "      <th>Value</th>\n",
       "    </tr>\n",
       "  </thead>\n",
       "  <tbody>\n",
       "    <tr>\n",
       "      <th>NDVI_coefs_COS1</th>\n",
       "      <td>0.029023</td>\n",
       "    </tr>\n",
       "    <tr>\n",
       "      <th>NDVI_coefs_COS2</th>\n",
       "      <td>0.035795</td>\n",
       "    </tr>\n",
       "    <tr>\n",
       "      <th>NDVI_coefs_COS3</th>\n",
       "      <td>0.026256</td>\n",
       "    </tr>\n",
       "    <tr>\n",
       "      <th>NDVI_coefs_INTP</th>\n",
       "      <td>-183.772740</td>\n",
       "    </tr>\n",
       "    <tr>\n",
       "      <th>NDVI_coefs_SIN1</th>\n",
       "      <td>-0.012175</td>\n",
       "    </tr>\n",
       "    <tr>\n",
       "      <th>NDVI_coefs_SIN2</th>\n",
       "      <td>-0.006583</td>\n",
       "    </tr>\n",
       "    <tr>\n",
       "      <th>NDVI_coefs_SIN3</th>\n",
       "      <td>-0.005892</td>\n",
       "    </tr>\n",
       "    <tr>\n",
       "      <th>NDVI_coefs_SLP</th>\n",
       "      <td>0.091429</td>\n",
       "    </tr>\n",
       "    <tr>\n",
       "      <th>blue_coefs_COS1</th>\n",
       "      <td>0.000000</td>\n",
       "    </tr>\n",
       "    <tr>\n",
       "      <th>blue_coefs_COS2</th>\n",
       "      <td>-0.014370</td>\n",
       "    </tr>\n",
       "    <tr>\n",
       "      <th>blue_coefs_COS3</th>\n",
       "      <td>-0.020052</td>\n",
       "    </tr>\n",
       "    <tr>\n",
       "      <th>blue_coefs_INTP</th>\n",
       "      <td>40.921007</td>\n",
       "    </tr>\n",
       "    <tr>\n",
       "      <th>blue_coefs_SIN1</th>\n",
       "      <td>0.005854</td>\n",
       "    </tr>\n",
       "    <tr>\n",
       "      <th>blue_coefs_SIN2</th>\n",
       "      <td>0.008811</td>\n",
       "    </tr>\n",
       "    <tr>\n",
       "      <th>blue_coefs_SIN3</th>\n",
       "      <td>0.000000</td>\n",
       "    </tr>\n",
       "    <tr>\n",
       "      <th>blue_coefs_SLP</th>\n",
       "      <td>-0.020260</td>\n",
       "    </tr>\n",
       "    <tr>\n",
       "      <th>green_coefs_COS1</th>\n",
       "      <td>0.000000</td>\n",
       "    </tr>\n",
       "    <tr>\n",
       "      <th>green_coefs_COS2</th>\n",
       "      <td>-0.013268</td>\n",
       "    </tr>\n",
       "    <tr>\n",
       "      <th>green_coefs_COS3</th>\n",
       "      <td>-0.015932</td>\n",
       "    </tr>\n",
       "    <tr>\n",
       "      <th>green_coefs_INTP</th>\n",
       "      <td>50.895096</td>\n",
       "    </tr>\n",
       "    <tr>\n",
       "      <th>green_coefs_SIN1</th>\n",
       "      <td>0.003977</td>\n",
       "    </tr>\n",
       "    <tr>\n",
       "      <th>green_coefs_SIN2</th>\n",
       "      <td>0.012618</td>\n",
       "    </tr>\n",
       "    <tr>\n",
       "      <th>green_coefs_SIN3</th>\n",
       "      <td>0.000005</td>\n",
       "    </tr>\n",
       "    <tr>\n",
       "      <th>green_coefs_SLP</th>\n",
       "      <td>-0.025183</td>\n",
       "    </tr>\n",
       "    <tr>\n",
       "      <th>nir_coefs_COS1</th>\n",
       "      <td>-0.001608</td>\n",
       "    </tr>\n",
       "    <tr>\n",
       "      <th>nir_coefs_COS2</th>\n",
       "      <td>-0.003653</td>\n",
       "    </tr>\n",
       "    <tr>\n",
       "      <th>nir_coefs_COS3</th>\n",
       "      <td>0.000000</td>\n",
       "    </tr>\n",
       "    <tr>\n",
       "      <th>nir_coefs_INTP</th>\n",
       "      <td>0.883429</td>\n",
       "    </tr>\n",
       "    <tr>\n",
       "      <th>nir_coefs_SIN1</th>\n",
       "      <td>-0.007646</td>\n",
       "    </tr>\n",
       "    <tr>\n",
       "      <th>nir_coefs_SIN2</th>\n",
       "      <td>0.024766</td>\n",
       "    </tr>\n",
       "    <tr>\n",
       "      <th>nir_coefs_SIN3</th>\n",
       "      <td>0.000000</td>\n",
       "    </tr>\n",
       "    <tr>\n",
       "      <th>nir_coefs_SLP</th>\n",
       "      <td>-0.000240</td>\n",
       "    </tr>\n",
       "    <tr>\n",
       "      <th>red_coefs_COS1</th>\n",
       "      <td>-0.002423</td>\n",
       "    </tr>\n",
       "    <tr>\n",
       "      <th>red_coefs_COS2</th>\n",
       "      <td>-0.016809</td>\n",
       "    </tr>\n",
       "    <tr>\n",
       "      <th>red_coefs_COS3</th>\n",
       "      <td>-0.017073</td>\n",
       "    </tr>\n",
       "    <tr>\n",
       "      <th>red_coefs_INTP</th>\n",
       "      <td>69.488678</td>\n",
       "    </tr>\n",
       "    <tr>\n",
       "      <th>red_coefs_SIN1</th>\n",
       "      <td>0.007444</td>\n",
       "    </tr>\n",
       "    <tr>\n",
       "      <th>red_coefs_SIN2</th>\n",
       "      <td>0.013619</td>\n",
       "    </tr>\n",
       "    <tr>\n",
       "      <th>red_coefs_SIN3</th>\n",
       "      <td>0.000000</td>\n",
       "    </tr>\n",
       "    <tr>\n",
       "      <th>red_coefs_SLP</th>\n",
       "      <td>-0.034405</td>\n",
       "    </tr>\n",
       "    <tr>\n",
       "      <th>swir1_coefs_COS1</th>\n",
       "      <td>-0.016494</td>\n",
       "    </tr>\n",
       "    <tr>\n",
       "      <th>swir1_coefs_COS2</th>\n",
       "      <td>-0.019797</td>\n",
       "    </tr>\n",
       "    <tr>\n",
       "      <th>swir1_coefs_COS3</th>\n",
       "      <td>-0.004397</td>\n",
       "    </tr>\n",
       "    <tr>\n",
       "      <th>swir1_coefs_INTP</th>\n",
       "      <td>76.928735</td>\n",
       "    </tr>\n",
       "    <tr>\n",
       "      <th>swir1_coefs_SIN1</th>\n",
       "      <td>0.002144</td>\n",
       "    </tr>\n",
       "    <tr>\n",
       "      <th>swir1_coefs_SIN2</th>\n",
       "      <td>0.021773</td>\n",
       "    </tr>\n",
       "    <tr>\n",
       "      <th>swir1_coefs_SIN3</th>\n",
       "      <td>0.000000</td>\n",
       "    </tr>\n",
       "    <tr>\n",
       "      <th>swir1_coefs_SLP</th>\n",
       "      <td>-0.038003</td>\n",
       "    </tr>\n",
       "    <tr>\n",
       "      <th>swir2_coefs_COS1</th>\n",
       "      <td>-0.013407</td>\n",
       "    </tr>\n",
       "    <tr>\n",
       "      <th>swir2_coefs_COS2</th>\n",
       "      <td>-0.013965</td>\n",
       "    </tr>\n",
       "    <tr>\n",
       "      <th>swir2_coefs_COS3</th>\n",
       "      <td>-0.004203</td>\n",
       "    </tr>\n",
       "    <tr>\n",
       "      <th>swir2_coefs_INTP</th>\n",
       "      <td>59.976265</td>\n",
       "    </tr>\n",
       "    <tr>\n",
       "      <th>swir2_coefs_SIN1</th>\n",
       "      <td>0.002351</td>\n",
       "    </tr>\n",
       "    <tr>\n",
       "      <th>swir2_coefs_SIN2</th>\n",
       "      <td>0.014124</td>\n",
       "    </tr>\n",
       "    <tr>\n",
       "      <th>swir2_coefs_SIN3</th>\n",
       "      <td>0.000000</td>\n",
       "    </tr>\n",
       "    <tr>\n",
       "      <th>swir2_coefs_SLP</th>\n",
       "      <td>-0.029662</td>\n",
       "    </tr>\n",
       "    <tr>\n",
       "      <th>year</th>\n",
       "      <td>2017.900000</td>\n",
       "    </tr>\n",
       "  </tbody>\n",
       "</table>\n",
       "</div>"
      ],
      "text/plain": [
       "                        Value\n",
       "NDVI_coefs_COS1      0.029023\n",
       "NDVI_coefs_COS2      0.035795\n",
       "NDVI_coefs_COS3      0.026256\n",
       "NDVI_coefs_INTP   -183.772740\n",
       "NDVI_coefs_SIN1     -0.012175\n",
       "NDVI_coefs_SIN2     -0.006583\n",
       "NDVI_coefs_SIN3     -0.005892\n",
       "NDVI_coefs_SLP       0.091429\n",
       "blue_coefs_COS1      0.000000\n",
       "blue_coefs_COS2     -0.014370\n",
       "blue_coefs_COS3     -0.020052\n",
       "blue_coefs_INTP     40.921007\n",
       "blue_coefs_SIN1      0.005854\n",
       "blue_coefs_SIN2      0.008811\n",
       "blue_coefs_SIN3      0.000000\n",
       "blue_coefs_SLP      -0.020260\n",
       "green_coefs_COS1     0.000000\n",
       "green_coefs_COS2    -0.013268\n",
       "green_coefs_COS3    -0.015932\n",
       "green_coefs_INTP    50.895096\n",
       "green_coefs_SIN1     0.003977\n",
       "green_coefs_SIN2     0.012618\n",
       "green_coefs_SIN3     0.000005\n",
       "green_coefs_SLP     -0.025183\n",
       "nir_coefs_COS1      -0.001608\n",
       "nir_coefs_COS2      -0.003653\n",
       "nir_coefs_COS3       0.000000\n",
       "nir_coefs_INTP       0.883429\n",
       "nir_coefs_SIN1      -0.007646\n",
       "nir_coefs_SIN2       0.024766\n",
       "nir_coefs_SIN3       0.000000\n",
       "nir_coefs_SLP       -0.000240\n",
       "red_coefs_COS1      -0.002423\n",
       "red_coefs_COS2      -0.016809\n",
       "red_coefs_COS3      -0.017073\n",
       "red_coefs_INTP      69.488678\n",
       "red_coefs_SIN1       0.007444\n",
       "red_coefs_SIN2       0.013619\n",
       "red_coefs_SIN3       0.000000\n",
       "red_coefs_SLP       -0.034405\n",
       "swir1_coefs_COS1    -0.016494\n",
       "swir1_coefs_COS2    -0.019797\n",
       "swir1_coefs_COS3    -0.004397\n",
       "swir1_coefs_INTP    76.928735\n",
       "swir1_coefs_SIN1     0.002144\n",
       "swir1_coefs_SIN2     0.021773\n",
       "swir1_coefs_SIN3     0.000000\n",
       "swir1_coefs_SLP     -0.038003\n",
       "swir2_coefs_COS1    -0.013407\n",
       "swir2_coefs_COS2    -0.013965\n",
       "swir2_coefs_COS3    -0.004203\n",
       "swir2_coefs_INTP    59.976265\n",
       "swir2_coefs_SIN1     0.002351\n",
       "swir2_coefs_SIN2     0.014124\n",
       "swir2_coefs_SIN3     0.000000\n",
       "swir2_coefs_SLP     -0.029662\n",
       "year              2017.900000"
      ]
     },
     "metadata": {},
     "output_type": "display_data"
    },
    {
     "name": "stdout",
     "output_type": "stream",
     "text": [
      "Adding layer: coeffsSeg\n",
      "Starting webmap\n",
      "Using default refresh token for geeView: /home/jupyter/.config/earthengine/credentials\n",
      "Local web server at: http://localhost:1234/geeView/ already serving.\n",
      "cwd /home/jupyter/lcms-training\n",
      "Workbench Proxy URL: https://1307eb830a12e633-dot-us-central1.notebooks.googleusercontent.com/proxy/1234/geeView/?accessToken=None\n"
     ]
    },
    {
     "data": {
      "text/html": [
       "\n",
       "        <iframe\n",
       "            width=\"100%\"\n",
       "            height=\"525px\"\n",
       "            src=\"https://1307eb830a12e633-dot-us-central1.notebooks.googleusercontent.com/proxy/1234/geeView/?accessToken=None\"\n",
       "            frameborder=\"0\"\n",
       "            allowfullscreen\n",
       "            \n",
       "        ></iframe>\n",
       "        "
      ],
      "text/plain": [
       "<IPython.lib.display.IFrame at 0x7f91cfeb86a0>"
      ]
     },
     "metadata": {},
     "output_type": "display_data"
    }
   ],
   "source": [
    "# format into multiband image\n",
    "coeffsSeg = coeffsSeg.arrayFlatten([ee.List(bns),ee.List(harmonicTag)])\n",
    "coeffsSeg = timeImg.addBands(coeffsSeg)\n",
    "\n",
    "# Format into a dataframe to view at a point\n",
    "df = g2p.extractPointValuesToDataFrame(coeffsSeg,pt,scale=None,crs = crs, transform = transform).transpose()\n",
    "df.columns = ['Value']\n",
    "\n",
    "# display\n",
    "display(df)\n",
    "\n",
    "# add to map \n",
    "Map.clearMap()\n",
    "Map.addLayer(coeffsSeg, {}, \"coeffsSeg\")\n",
    "\n",
    "Map.turnOnInspector()\n",
    "Map.view()\n"
   ]
  },
  {
   "cell_type": "markdown",
   "id": "229e0dc5",
   "metadata": {},
   "source": [
    "### 3.5.11: Predict model values for a given date\n",
    "\n",
    "* We have now learned how to extract the harmonic model for a given date. \n",
    "* Next, we will learn how to predict values for the model for that given date.\n",
    "\n",
    "The `changeDetectionLib.simpleCCDCPrediction` function is used to get the **predicted values** for a given date.\n",
    "\n",
    "Inspect the structure of the function below. Pay attention to: \n",
    "- a) input variables\n",
    "- b) preprocessing of the image and coefficients\n",
    "- c) output objects"
   ]
  },
  {
   "cell_type": "code",
   "execution_count": 84,
   "id": "888f3cd5",
   "metadata": {},
   "outputs": [
    {
     "name": "stdout",
     "output_type": "stream",
     "text": [
      "def simpleCCDCPrediction(img,timeBandName,whichHarmonics,whichBands):\n",
      "  #Unit of each harmonic (1 cycle)\n",
      "  omega = ee.Number(2.0).multiply(math.pi)\n",
      "\n",
      "  #Pull out the time band in the yyyy.ff format\n",
      "  tBand = img.select([timeBandName])\n",
      "  \n",
      "  #Pull out the intercepts and slopes\n",
      "  intercepts = img.select(['.*_INTP'])\n",
      "  slopes = img.select(['.*_SLP']).multiply(tBand)\n",
      "  \n",
      "  #Set up the omega for each harmonic for the given time band\n",
      "  tOmega = ee.Image(whichHarmonics).multiply(omega).multiply(tBand)\n",
      "  cosHarm = tOmega.cos()\n",
      "  sinHarm = tOmega.sin()\n",
      "  \n",
      "  #Set up which harmonics to select\n",
      "\n",
      "  harmSelect = ee.List(whichHarmonics).map(lambda n: ee.String('.*').cat(ee.Number(n).format()))\n",
      "  \n",
      "  #Select the harmonics specified\n",
      "  sins = img.select(['.*_SIN.*'])\n",
      "  sins = sins.select(harmSelect)\n",
      "  coss = img.select(['.*_COS.*'])\n",
      "  coss = coss.select(harmSelect)\n",
      "  \n",
      "  #Set up final output band names\n",
      "  outBns = ee.List(whichBands).map(lambda bn: ee.String(bn).cat('_CCDC_fitted'))\n",
      "  \n",
      "  #Iterate across each band and predict value\n",
      "  def predHelper(bn):\n",
      "    bn = ee.String(bn);\n",
      "    return ee.Image([intercepts.select(bn.cat('_.*')),\n",
      "                    slopes.select(bn.cat('_.*')),\n",
      "                    sins.select(bn.cat('_.*')).multiply(sinHarm),\n",
      "                    coss.select(bn.cat('_.*')).multiply(cosHarm)\n",
      "                    ]).reduce(ee.Reducer.sum());\n",
      "  predicted = ee.ImageCollection(list(map(predHelper,whichBands))).toBands().rename(outBns)\n",
      "  return img.addBands(predicted)\n",
      "\n"
     ]
    }
   ],
   "source": [
    "# inspect function\n",
    "print(inspect.getsource(changeDetectionLib.simpleCCDCPrediction) )"
   ]
  },
  {
   "cell_type": "markdown",
   "id": "700d9f4a",
   "metadata": {},
   "source": [
    "#### Apply and predict harmonic model\n",
    "We will now walk through applying and predicting the harmonic model for a single date, based on the coefficients that we previously extracted. \n",
    "\n",
    "Note that the process below is identical to the `simpleCCDCPrediction` function. You will walk through the `simpleCCDCPrediction` function one step at a time. "
   ]
  },
  {
   "cell_type": "code",
   "execution_count": 85,
   "id": "b78284c1",
   "metadata": {},
   "outputs": [
    {
     "name": "stdout",
     "output_type": "stream",
     "text": [
      "Adding layer: Predicted CCDC 2017.9\n",
      "Starting webmap\n",
      "Using default refresh token for geeView: /home/jupyter/.config/earthengine/credentials\n",
      "Local web server at: http://localhost:1234/geeView/ already serving.\n",
      "cwd /home/jupyter/lcms-training\n",
      "Workbench Proxy URL: https://1307eb830a12e633-dot-us-central1.notebooks.googleusercontent.com/proxy/1234/geeView/?accessToken=None\n"
     ]
    },
    {
     "data": {
      "text/html": [
       "\n",
       "        <iframe\n",
       "            width=\"100%\"\n",
       "            height=\"525px\"\n",
       "            src=\"https://1307eb830a12e633-dot-us-central1.notebooks.googleusercontent.com/proxy/1234/geeView/?accessToken=None\"\n",
       "            frameborder=\"0\"\n",
       "            allowfullscreen\n",
       "            \n",
       "        ></iframe>\n",
       "        "
      ],
      "text/plain": [
       "<IPython.lib.display.IFrame at 0x7f91cfff3220>"
      ]
     },
     "metadata": {},
     "output_type": "display_data"
    }
   ],
   "source": [
    "# set input image\n",
    "img = coeffsSeg\n",
    "\n",
    "# Specify which harmonics to apply (1,2,3 are available)\n",
    "whichHarmonics = [1,2,3]\n",
    "\n",
    "# Find which bands are available to predict\n",
    "whichBands = coeffsSeg.select(['.*_INTP']).bandNames().map(lambda bn: ee.String(bn).split('_').get(0))\n",
    "whichBands = ee.Dictionary(whichBands.reduce(ee.Reducer.frequencyHistogram())).keys().getInfo()\n",
    "\n",
    "#Unit of each harmonic (1 cycle)\n",
    "omega = ee.Number(2.0).multiply(changeDetectionLib.math.pi)\n",
    "\n",
    "#Pull out the time band in the yyyy.ff format\n",
    "tBand = img.select([timeBandName])\n",
    "\n",
    "#Pull out the intercepts and slopes\n",
    "intercepts = img.select(['.*_INTP'])\n",
    "slopes = img.select(['.*_SLP']).multiply(tBand)\n",
    "\n",
    "#Set up the omega for each harmonic for the given time band\n",
    "tOmega = ee.Image(whichHarmonics).multiply(omega).multiply(tBand)\n",
    "cosHarm = tOmega.cos()\n",
    "sinHarm = tOmega.sin()\n",
    "\n",
    "#Set up which harmonics to select\n",
    "harmSelect = ee.List(whichHarmonics).map(lambda n: ee.String('.*').cat(ee.Number(n).format()))\n",
    "\n",
    "#Select the harmonics specified\n",
    "sins = img.select(['.*_SIN.*'])\n",
    "sins = sins.select(harmSelect)\n",
    "coss = img.select(['.*_COS.*'])\n",
    "coss = coss.select(harmSelect)\n",
    "\n",
    "#Set up final output band names\n",
    "outBns = ee.List(whichBands).map(lambda bn: ee.String(bn).cat('_CCDC_fitted'))\n",
    "\n",
    "#Iterate across each band and predict value\n",
    "def predHelper(bn):\n",
    "    bn = ee.String(bn);\n",
    "    return ee.Image([intercepts.select(bn.cat('_.*')),\n",
    "                    slopes.select(bn.cat('_.*')),\n",
    "                    sins.select(bn.cat('_.*')).multiply(sinHarm),\n",
    "                    coss.select(bn.cat('_.*')).multiply(cosHarm)\n",
    "                    ]).reduce(ee.Reducer.sum());\n",
    "predicted = ee.ImageCollection(list(map(predHelper,whichBands))).toBands().rename(outBns)\n",
    "\n",
    "\n",
    "# View predicted values on the map\n",
    "Map.clearMap()\n",
    "Map.addLayer(predicted,{'bands':'swir1_CCDC_fitted,nir_CCDC_fitted,red_CCDC_fitted','min':0.05,'max':[0.5,0.8,0.4]},f'Predicted CCDC {date}')\n",
    "Map.turnOnInspector()\n",
    "Map.view()"
   ]
  },
  {
   "cell_type": "markdown",
   "id": "499d15cf",
   "metadata": {},
   "source": [
    "#### Inspect outputs\n",
    "Click on the map to query the values at a point. You can also run the code block below to see the output, fitted values at the point you queried previously. \n",
    "\n",
    "The outputs here represent the fitted band values of the CCDC model at a single time point. "
   ]
  },
  {
   "cell_type": "code",
   "execution_count": 86,
   "id": "8cc563ed",
   "metadata": {},
   "outputs": [
    {
     "data": {
      "text/html": [
       "<div>\n",
       "<style scoped>\n",
       "    .dataframe tbody tr th:only-of-type {\n",
       "        vertical-align: middle;\n",
       "    }\n",
       "\n",
       "    .dataframe tbody tr th {\n",
       "        vertical-align: top;\n",
       "    }\n",
       "\n",
       "    .dataframe thead th {\n",
       "        text-align: right;\n",
       "    }\n",
       "</style>\n",
       "<table border=\"1\" class=\"dataframe\">\n",
       "  <thead>\n",
       "    <tr style=\"text-align: right;\">\n",
       "      <th></th>\n",
       "      <th>Value</th>\n",
       "    </tr>\n",
       "  </thead>\n",
       "  <tbody>\n",
       "    <tr>\n",
       "      <th>NDVI_CCDC_fitted</th>\n",
       "      <td>0.767051</td>\n",
       "    </tr>\n",
       "    <tr>\n",
       "      <th>blue_CCDC_fitted</th>\n",
       "      <td>0.028508</td>\n",
       "    </tr>\n",
       "    <tr>\n",
       "      <th>green_CCDC_fitted</th>\n",
       "      <td>0.064697</td>\n",
       "    </tr>\n",
       "    <tr>\n",
       "      <th>nir_CCDC_fitted</th>\n",
       "      <td>0.378252</td>\n",
       "    </tr>\n",
       "    <tr>\n",
       "      <th>red_CCDC_fitted</th>\n",
       "      <td>0.043496</td>\n",
       "    </tr>\n",
       "    <tr>\n",
       "      <th>swir1_CCDC_fitted</th>\n",
       "      <td>0.201752</td>\n",
       "    </tr>\n",
       "    <tr>\n",
       "      <th>swir2_CCDC_fitted</th>\n",
       "      <td>0.091913</td>\n",
       "    </tr>\n",
       "  </tbody>\n",
       "</table>\n",
       "</div>"
      ],
      "text/plain": [
       "                      Value\n",
       "NDVI_CCDC_fitted   0.767051\n",
       "blue_CCDC_fitted   0.028508\n",
       "green_CCDC_fitted  0.064697\n",
       "nir_CCDC_fitted    0.378252\n",
       "red_CCDC_fitted    0.043496\n",
       "swir1_CCDC_fitted  0.201752\n",
       "swir2_CCDC_fitted  0.091913"
      ]
     },
     "metadata": {},
     "output_type": "display_data"
    }
   ],
   "source": [
    "# Format into a dataframe to view at a point\n",
    "df = g2p.extractPointValuesToDataFrame(predicted,pt,scale=None,crs = crs, transform = transform).transpose()\n",
    "df.columns = ['Value']\n",
    "\n",
    "# display\n",
    "display(df)"
   ]
  },
  {
   "cell_type": "markdown",
   "id": "0809f8a0",
   "metadata": {},
   "source": [
    "### 3.5.12: Put it all together: Run CCDC Over a Time Series\n",
    "\n",
    "* We will now predict the CCDC output over a full time series of date images from the start to the end every tenth of a year\n",
    "* This will allow us to click on the map and see the seasonlity as depicted by CCDC for several bands/indices\n"
   ]
  },
  {
   "cell_type": "code",
   "execution_count": 91,
   "id": "d4257fb2",
   "metadata": {},
   "outputs": [
    {
     "name": "stdout",
     "output_type": "stream",
     "text": [
      "Adding layer: Fitted CCDC\n",
      "Adding layer: Synthetic Composite\n",
      "Adding layer: year images\n",
      "Starting webmap\n",
      "Using default refresh token for geeView: /home/jupyter/.config/earthengine/credentials\n",
      "Local web server at: http://localhost:1234/geeView/ already serving.\n",
      "cwd /home/jupyter/lcms-training\n",
      "Workbench Proxy URL: https://1307eb830a12e633-dot-us-central1.notebooks.googleusercontent.com/proxy/1234/geeView/?accessToken=None\n"
     ]
    },
    {
     "data": {
      "text/html": [
       "\n",
       "        <iframe\n",
       "            width=\"100%\"\n",
       "            height=\"525px\"\n",
       "            src=\"https://1307eb830a12e633-dot-us-central1.notebooks.googleusercontent.com/proxy/1234/geeView/?accessToken=None\"\n",
       "            frameborder=\"0\"\n",
       "            allowfullscreen\n",
       "            \n",
       "        ></iframe>\n",
       "        "
      ],
      "text/plain": [
       "<IPython.lib.display.IFrame at 0x7f91d4119db0>"
      ]
     },
     "metadata": {},
     "output_type": "display_data"
    }
   ],
   "source": [
    "# Same workflow follows as with an untiled CCDC output\n",
    "Map.clearMap()\n",
    "\n",
    "#Specify which harmonics to use when predicting the CCDC model\n",
    "#CCDC exports the first 3 harmonics (1 cycle/yr, 2 cycles/yr, and 3 cycles/yr)\n",
    "#If you only want to see yearly patterns, specify [1]\n",
    "#If you would like a tighter fit in the predicted value, include the second or third harmonic as well [1,2,3]\n",
    "whichHarmonics = [1,2,3]\n",
    "\n",
    "#Whether to fill gaps between segments' end year and the subsequent start year to the break date\n",
    "fillGaps = False\n",
    "\n",
    "#Apply the CCDC harmonic model across a time series\n",
    "#First get a time series of time images with a time step of 0.1 of a year\n",
    "yearImages = changeDetectionLib.getTimeImageCollection(startYear,endYear,startJulian,endJulian,0.1);\n",
    "\n",
    "#Then predict the CCDC models\n",
    "fitted = changeDetectionLib.predictCCDC(ccdcImg,yearImages,fillGaps,whichHarmonics)\n",
    "Map.addLayer(fitted.select(['.*_fitted']),{'bands':'swir1_CCDC_fitted,nir_CCDC_fitted,red_CCDC_fitted','min':0.05,'max':0.6},'Fitted CCDC',True);\n",
    "\n",
    "\n",
    "# Synthetic composites visualizing\n",
    "# Take common false color composite bands and visualize them for the next to the last year\n",
    "\n",
    "# First get the bands of predicted bands and then split off the name\n",
    "fittedBns = fitted.select(['.*_fitted']).first().bandNames()\n",
    "bns = fittedBns.map(lambda bn: ee.String(bn).split('_').get(0))\n",
    "\n",
    "# Filter down to the next to the last year and a summer date range\n",
    "syntheticComposites = fitted.select(fittedBns,bns)\\\n",
    "    .filter(ee.Filter.calendarRange(endYear-1,endYear-1,'year'))\\\n",
    "    .filter(ee.Filter.calendarRange(60,80)).first()\n",
    "\n",
    "# Visualize output as you would a composite\n",
    "Map.addLayer(syntheticComposites,getImagesLib.vizParamsFalse,'Synthetic Composite')\n",
    "\n",
    "\n",
    "#visualize time images\n",
    "Map.addLayer(yearImages, {'opacity':0}, \"year images\")\n",
    "Map.turnOnInspector()\n",
    "Map.view()\n",
    "\n"
   ]
  },
  {
   "cell_type": "markdown",
   "id": "f831cb9a",
   "metadata": {},
   "source": [
    "## Lab 3 Challenge 2:\n",
    "\n",
    "**For Qwiklabs users**, this will be assessed for completion in the \"Check My Progress\" portion at the end of Lab 2.\n",
    "\n",
    "1. Use the pre-baked CCDC output to predict CCDC NDVI from 2015.9 and 2017.9\n",
    "\n",
    "    * Use the following CCDC image collection:\n",
    "\n",
    "    ```python\n",
    "          ccdcImg = ee.ImageCollection(f'{pre_baked_path_root}/lcms-training_module-3_CCDC').mosaic()\n",
    "      ```\n",
    "      <br>\n",
    "\n",
    "    * Create a time images collection for the specified dates\n",
    "\n",
    "    \n",
    "    <br>\n",
    "      \n",
    "    * Use the following function to predict CCDC values:\n",
    "\n",
    "    ```python\n",
    "          changeDetectionLib.predictCCDC(ccdcImg,timeImgs,fillGaps=True,whichHarmonics=[1,2,3])\n",
    "      ```\n",
    "      <br>\n",
    "   \n",
    "   \n",
    "\n",
    "<br>\n",
    "\n",
    "2.  Subtract the 2015.9 predicted NDVI values from 2017.9 predicted NDVI values to show change (`bandName = 'NDVI_CCDC_fitted'`). Optionally, you can add this layer to the map to view the change between 2015 and 2017 when Hurricane Maria hit the study area.\n",
    "\n",
    "\n",
    "3.  Extract the difference value for the following location. \n",
    "\n",
    "* Use a point with these coordinates: `([-65.844, 18.261])`\n",
    "        \n",
    "* Use the following function: `g2p.extractPointValuesToDataFrame`\n",
    "    <br>\n",
    "    Example:\n",
    "    ```python\n",
    "            extracted_values = g2p.extractPointValuesToDataFrame(\n",
    "            difference,\n",
    "            ee.Geometry.Point([-65.844, 18.261]),\n",
    "            scale=30,\n",
    "            crs = \"EPSG:5070\", \n",
    "            transform = None,\n",
    "            reducer = ee.Reducer.first(),\n",
    "            includeNonSystemProperties = False,\n",
    "            includeSystemProperties=True\n",
    "            )\n",
    "    ```\n",
    "    <br> \n",
    "4. Save extracted values to a csv file.\n",
    "\n",
    "   * Save csv to this path: `\"/tmp/challenge/module_3_challenge2_answer.csv\"`\n",
    "     * **Note: The path to the csv must exactly match the path above.** \n",
    "    <br>\n",
    "    \n",
    "    * Create the `\"/tmp/challenge\"` folder if it does not already exist.\n",
    "      \n",
    "        Example:\n",
    "    ```python\n",
    "        out_csv = \"/tmp/challenge/module_3_challenge2_answer.csv\"\n",
    "        if not os.path.exists(os.path.dirname(out_csv)):os.makedirs(os.path.dirname(out_csv))\n",
    "    ```\n",
    "<br>\n",
    "\n",
    "5.  Check that the output csv exists.\n",
    "    \n",
    "    * Example: \n",
    "    ```python\n",
    "        print(os.path.exists(out_csv))\n",
    "    ```\n",
    "<br>\n"
   ]
  },
  {
   "cell_type": "code",
   "execution_count": 8,
   "id": "67566611",
   "metadata": {},
   "outputs": [],
   "source": [
    "# Put challenge code solution here\n"
   ]
  },
  {
   "cell_type": "markdown",
   "id": "7c9da6c7",
   "metadata": {},
   "source": [
    "## Done with Module 3\n",
    "\n",
    "The CCDC and LandTrendr predictions will be used as inputs in subsequent modules."
   ]
  }
 ],
 "metadata": {
  "colab": {
   "provenance": []
  },
  "environment": {
   "kernel": "python3",
   "name": "tf2-cpu.2-11.m112",
   "type": "gcloud",
   "uri": "gcr.io/deeplearning-platform-release/tf2-cpu.2-11:m112"
  },
  "kernelspec": {
   "display_name": "Python 3",
   "language": "python",
   "name": "python3"
  },
  "language_info": {
   "codemirror_mode": {
    "name": "ipython",
    "version": 3
   },
   "file_extension": ".py",
   "mimetype": "text/x-python",
   "name": "python",
   "nbconvert_exporter": "python",
   "pygments_lexer": "ipython3",
   "version": "3.10.12"
  }
 },
 "nbformat": 4,
 "nbformat_minor": 5
}
