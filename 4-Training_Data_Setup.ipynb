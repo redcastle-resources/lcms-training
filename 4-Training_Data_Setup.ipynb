{
 "cells": [
  {
   "cell_type": "code",
   "execution_count": 85,
   "id": "2eb2fc88-25b8-4d5a-8a2c-b8e40cbe6178",
   "metadata": {},
   "outputs": [],
   "source": [
    "# Copyright 2023 Google LLC\n",
    "#\n",
    "# Licensed under the Apache License, Version 2.0 (the \"License\");\n",
    "# you may not use this file except in compliance with the License.\n",
    "# You may obtain a copy of the License at\n",
    "#\n",
    "#     https://www.apache.org/licenses/LICENSE-2.0\n",
    "#\n",
    "# Unless required by applicable law or agreed to in writing, software\n",
    "# distributed under the License is distributed on an \"AS IS\" BASIS,\n",
    "# WITHOUT WARRANTIES OR CONDITIONS OF ANY KIND, either express or implied.\n",
    "# See the License for the specific language governing permissions and\n",
    "# limitations under the License."
   ]
  },
  {
   "cell_type": "markdown",
   "id": "ae243bdf-1298-4668-a561-3709d7a26995",
   "metadata": {
    "id": "title:generic,gcp"
   },
   "source": [
    "# LCMS Model Training Data Setup\n",
    "\n",
    "<table align=\"left\">\n",
    "  <td>\n",
    "    <a href=\"https://colab.research.google.com/github/redcastle-resources/lcms-training/blob/main/4-Training_Data_Setup.ipynb\">\n",
    "      <img src=\"https://cloud.google.com/ml-engine/images/colab-logo-32px.png\" alt=\"Colab logo\"> Run in Colab\n",
    "    </a>\n",
    "  </td>\n",
    "  <td>\n",
    "    <a href=\"https://github.com/redcastle-resources/lcms-training/blob/main/4-Training_Data_Setup.ipynb\">\n",
    "      <img src=\"https://cloud.google.com/ml-engine/images/github-logo-32px.png\" alt=\"GitHub logo\">\n",
    "      View on GitHub\n",
    "    </a>\n",
    "  </td>\n",
    "  <td>\n",
    "    <a href=\"https://console.cloud.google.com/vertex-ai/workbench/deploy-notebook?download_url=https://github.com/redcastle-resources/lcms-training/blob/main/4-Training_Data_Setup.ipynb\">\n",
    "      <img src=\"https://lh3.googleusercontent.com/UiNooY4LUgW_oTvpsNhPpQzsstV5W8F7rYgxgGBD85cWJoLmrOzhVs_ksK_vgx40SHs7jCqkTkCk=e14-rj-sc0xffffff-h130-w32\" alt=\"Vertex AI logo\">\n",
    "      Open in Vertex AI Workbench\n",
    "    </a>\n",
    "  </td>\n",
    "</table>\n",
    "<br/><br/><br/>"
   ]
  },
  {
   "cell_type": "markdown",
   "id": "4603c77e-11e2-45bc-9ddd-b75c4a170d8b",
   "metadata": {
    "id": "overview:mlops"
   },
   "source": [
    "## Overview\n",
    "\n",
    "\n",
    "This notebook takes reference data from the TimeSync image interpretation tool and extracts the values from the LandTrendr and CCDC outputs from the previous notebooks as well as elevation data to create the training data tables needed for LCMS model calibration\n",
    "\n",
    "\n",
    "### Objective\n",
    "\n",
    "In this tutorial, you learn how to create model training featureCollections in GEE using methods that are unlikely to run out of memory\n",
    "\n",
    "This tutorial uses the following Google Cloud services:\n",
    "\n",
    "- `Google Earth Engine`\n",
    "\n",
    "The steps performed include:\n",
    "\n",
    "- Bringing in TimeSync data\n",
    "- Creating terrain predictors\n",
    "- Extracting LandTrendr, CCDC, and terrain values for TimeSync plot locations as assets"
   ]
  },
  {
   "cell_type": "code",
   "execution_count": 1,
   "id": "4fae6857-1dfc-448b-b92f-85ec010f8460",
   "metadata": {},
   "outputs": [
    {
     "name": "stdout",
     "output_type": "stream",
     "text": [
      "Collecting geeViz\n",
      "  Obtaining dependency information for geeViz from https://files.pythonhosted.org/packages/3e/6b/b7eb40bfc276c6dbe7718fead624c52c1f0b4b0617e141f02236b21df278/geeViz-2023.8.4-py3-none-any.whl.metadata\n",
      "  Downloading geeViz-2023.8.4-py3-none-any.whl.metadata (4.1 kB)\n",
      "Collecting earthengine-api (from geeViz)\n",
      "  Downloading earthengine-api-0.1.363.tar.gz (245 kB)\n",
      "\u001b[2K     \u001b[90m━━━━━━━━━━━━━━━━━━━━━━━━━━━━━━━━━━━━━━━\u001b[0m \u001b[32m246.0/246.0 kB\u001b[0m \u001b[31m5.7 MB/s\u001b[0m eta \u001b[36m0:00:00\u001b[0ma \u001b[36m0:00:01\u001b[0m\n",
      "\u001b[?25h  Preparing metadata (setup.py) ... \u001b[?25ldone\n",
      "\u001b[?25hRequirement already satisfied: oauth2client in /opt/conda/lib/python3.10/site-packages (from geeViz) (4.1.3)\n",
      "Requirement already satisfied: pandas in /opt/conda/lib/python3.10/site-packages (from geeViz) (2.0.3)\n",
      "Requirement already satisfied: matplotlib in /opt/conda/lib/python3.10/site-packages (from geeViz) (3.7.2)\n",
      "Requirement already satisfied: IPython in /opt/conda/lib/python3.10/site-packages (from geeViz) (8.14.0)\n",
      "Requirement already satisfied: requests in /opt/conda/lib/python3.10/site-packages (from geeViz) (2.31.0)\n",
      "Collecting folium (from geeViz)\n",
      "  Downloading folium-0.14.0-py2.py3-none-any.whl (102 kB)\n",
      "\u001b[2K     \u001b[90m━━━━━━━━━━━━━━━━━━━━━━━━━━━━━━━━━━━━━━\u001b[0m \u001b[32m102.3/102.3 kB\u001b[0m \u001b[31m17.5 MB/s\u001b[0m eta \u001b[36m0:00:00\u001b[0m\n",
      "\u001b[?25hCollecting simpledbf (from geeViz)\n",
      "  Downloading simpledbf-0.2.6.tar.gz (17 kB)\n",
      "  Preparing metadata (setup.py) ... \u001b[?25ldone\n",
      "\u001b[?25hRequirement already satisfied: google-cloud-storage in /opt/conda/lib/python3.10/site-packages (from earthengine-api->geeViz) (2.10.0)\n",
      "Collecting google-api-python-client>=1.12.1 (from earthengine-api->geeViz)\n",
      "  Obtaining dependency information for google-api-python-client>=1.12.1 from https://files.pythonhosted.org/packages/49/b1/a1364b88787702a308db814742b81fd3b57e4a616c0bbb50a9a3ad97184b/google_api_python_client-2.97.0-py2.py3-none-any.whl.metadata\n",
      "  Downloading google_api_python_client-2.97.0-py2.py3-none-any.whl.metadata (6.6 kB)\n",
      "Requirement already satisfied: google-auth>=1.4.1 in /opt/conda/lib/python3.10/site-packages (from earthengine-api->geeViz) (2.22.0)\n",
      "Requirement already satisfied: google-auth-httplib2>=0.0.3 in /opt/conda/lib/python3.10/site-packages (from earthengine-api->geeViz) (0.1.0)\n",
      "Requirement already satisfied: httplib2<1dev,>=0.9.2 in /opt/conda/lib/python3.10/site-packages (from earthengine-api->geeViz) (0.22.0)\n",
      "Collecting branca>=0.6.0 (from folium->geeViz)\n",
      "  Downloading branca-0.6.0-py3-none-any.whl (24 kB)\n",
      "Requirement already satisfied: jinja2>=2.9 in /opt/conda/lib/python3.10/site-packages (from folium->geeViz) (3.1.2)\n",
      "Requirement already satisfied: numpy in /opt/conda/lib/python3.10/site-packages (from folium->geeViz) (1.23.5)\n",
      "Requirement already satisfied: backcall in /opt/conda/lib/python3.10/site-packages (from IPython->geeViz) (0.2.0)\n",
      "Requirement already satisfied: decorator in /opt/conda/lib/python3.10/site-packages (from IPython->geeViz) (5.1.1)\n",
      "Requirement already satisfied: jedi>=0.16 in /opt/conda/lib/python3.10/site-packages (from IPython->geeViz) (0.19.0)\n",
      "Requirement already satisfied: matplotlib-inline in /opt/conda/lib/python3.10/site-packages (from IPython->geeViz) (0.1.6)\n",
      "Requirement already satisfied: pickleshare in /opt/conda/lib/python3.10/site-packages (from IPython->geeViz) (0.7.5)\n",
      "Requirement already satisfied: prompt-toolkit!=3.0.37,<3.1.0,>=3.0.30 in /opt/conda/lib/python3.10/site-packages (from IPython->geeViz) (3.0.39)\n",
      "Requirement already satisfied: pygments>=2.4.0 in /opt/conda/lib/python3.10/site-packages (from IPython->geeViz) (2.16.1)\n",
      "Requirement already satisfied: stack-data in /opt/conda/lib/python3.10/site-packages (from IPython->geeViz) (0.6.2)\n",
      "Requirement already satisfied: traitlets>=5 in /opt/conda/lib/python3.10/site-packages (from IPython->geeViz) (5.9.0)\n",
      "Requirement already satisfied: pexpect>4.3 in /opt/conda/lib/python3.10/site-packages (from IPython->geeViz) (4.8.0)\n",
      "Requirement already satisfied: contourpy>=1.0.1 in /opt/conda/lib/python3.10/site-packages (from matplotlib->geeViz) (1.1.0)\n",
      "Requirement already satisfied: cycler>=0.10 in /opt/conda/lib/python3.10/site-packages (from matplotlib->geeViz) (0.11.0)\n",
      "Requirement already satisfied: fonttools>=4.22.0 in /opt/conda/lib/python3.10/site-packages (from matplotlib->geeViz) (4.42.0)\n",
      "Requirement already satisfied: kiwisolver>=1.0.1 in /opt/conda/lib/python3.10/site-packages (from matplotlib->geeViz) (1.4.4)\n",
      "Requirement already satisfied: packaging>=20.0 in /opt/conda/lib/python3.10/site-packages (from matplotlib->geeViz) (23.1)\n",
      "Requirement already satisfied: pillow>=6.2.0 in /opt/conda/lib/python3.10/site-packages (from matplotlib->geeViz) (10.0.0)\n",
      "Requirement already satisfied: pyparsing<3.1,>=2.3.1 in /opt/conda/lib/python3.10/site-packages (from matplotlib->geeViz) (3.0.9)\n",
      "Requirement already satisfied: python-dateutil>=2.7 in /opt/conda/lib/python3.10/site-packages (from matplotlib->geeViz) (2.8.2)\n",
      "Requirement already satisfied: pyasn1>=0.1.7 in /opt/conda/lib/python3.10/site-packages (from oauth2client->geeViz) (0.5.0)\n",
      "Requirement already satisfied: pyasn1-modules>=0.0.5 in /opt/conda/lib/python3.10/site-packages (from oauth2client->geeViz) (0.3.0)\n",
      "Requirement already satisfied: rsa>=3.1.4 in /opt/conda/lib/python3.10/site-packages (from oauth2client->geeViz) (4.9)\n",
      "Requirement already satisfied: six>=1.6.1 in /opt/conda/lib/python3.10/site-packages (from oauth2client->geeViz) (1.16.0)\n",
      "Requirement already satisfied: pytz>=2020.1 in /opt/conda/lib/python3.10/site-packages (from pandas->geeViz) (2023.3)\n",
      "Requirement already satisfied: tzdata>=2022.1 in /opt/conda/lib/python3.10/site-packages (from pandas->geeViz) (2023.3)\n",
      "Requirement already satisfied: charset-normalizer<4,>=2 in /opt/conda/lib/python3.10/site-packages (from requests->geeViz) (3.2.0)\n",
      "Requirement already satisfied: idna<4,>=2.5 in /opt/conda/lib/python3.10/site-packages (from requests->geeViz) (3.4)\n",
      "Requirement already satisfied: urllib3<3,>=1.21.1 in /opt/conda/lib/python3.10/site-packages (from requests->geeViz) (1.26.16)\n",
      "Requirement already satisfied: certifi>=2017.4.17 in /opt/conda/lib/python3.10/site-packages (from requests->geeViz) (2023.7.22)\n",
      "Requirement already satisfied: google-api-core!=2.0.*,!=2.1.*,!=2.2.*,!=2.3.0,<3.0.0.dev0,>=1.31.5 in /opt/conda/lib/python3.10/site-packages (from google-api-python-client>=1.12.1->earthengine-api->geeViz) (1.34.0)\n",
      "Requirement already satisfied: uritemplate<5,>=3.0.1 in /opt/conda/lib/python3.10/site-packages (from google-api-python-client>=1.12.1->earthengine-api->geeViz) (3.0.1)\n",
      "Requirement already satisfied: cachetools<6.0,>=2.0.0 in /opt/conda/lib/python3.10/site-packages (from google-auth>=1.4.1->earthengine-api->geeViz) (5.3.1)\n",
      "Requirement already satisfied: parso<0.9.0,>=0.8.3 in /opt/conda/lib/python3.10/site-packages (from jedi>=0.16->IPython->geeViz) (0.8.3)\n",
      "Requirement already satisfied: MarkupSafe>=2.0 in /opt/conda/lib/python3.10/site-packages (from jinja2>=2.9->folium->geeViz) (2.1.3)\n",
      "Requirement already satisfied: ptyprocess>=0.5 in /opt/conda/lib/python3.10/site-packages (from pexpect>4.3->IPython->geeViz) (0.7.0)\n",
      "Requirement already satisfied: wcwidth in /opt/conda/lib/python3.10/site-packages (from prompt-toolkit!=3.0.37,<3.1.0,>=3.0.30->IPython->geeViz) (0.2.6)\n",
      "Requirement already satisfied: google-cloud-core<3.0dev,>=2.3.0 in /opt/conda/lib/python3.10/site-packages (from google-cloud-storage->earthengine-api->geeViz) (2.3.3)\n",
      "Requirement already satisfied: google-resumable-media>=2.3.2 in /opt/conda/lib/python3.10/site-packages (from google-cloud-storage->earthengine-api->geeViz) (2.5.0)\n",
      "Requirement already satisfied: executing>=1.2.0 in /opt/conda/lib/python3.10/site-packages (from stack-data->IPython->geeViz) (1.2.0)\n",
      "Requirement already satisfied: asttokens>=2.1.0 in /opt/conda/lib/python3.10/site-packages (from stack-data->IPython->geeViz) (2.2.1)\n",
      "Requirement already satisfied: pure-eval in /opt/conda/lib/python3.10/site-packages (from stack-data->IPython->geeViz) (0.2.2)\n",
      "Requirement already satisfied: googleapis-common-protos<2.0dev,>=1.56.2 in /opt/conda/lib/python3.10/site-packages (from google-api-core!=2.0.*,!=2.1.*,!=2.2.*,!=2.3.0,<3.0.0.dev0,>=1.31.5->google-api-python-client>=1.12.1->earthengine-api->geeViz) (1.60.0)\n",
      "Requirement already satisfied: protobuf!=3.20.0,!=3.20.1,!=4.21.0,!=4.21.1,!=4.21.2,!=4.21.3,!=4.21.4,!=4.21.5,<4.0.0dev,>=3.19.5 in /opt/conda/lib/python3.10/site-packages (from google-api-core!=2.0.*,!=2.1.*,!=2.2.*,!=2.3.0,<3.0.0.dev0,>=1.31.5->google-api-python-client>=1.12.1->earthengine-api->geeViz) (3.20.3)\n",
      "Requirement already satisfied: google-crc32c<2.0dev,>=1.0 in /opt/conda/lib/python3.10/site-packages (from google-resumable-media>=2.3.2->google-cloud-storage->earthengine-api->geeViz) (1.5.0)\n",
      "Downloading geeViz-2023.8.4-py3-none-any.whl (681 kB)\n",
      "\u001b[2K   \u001b[90m━━━━━━━━━━━━━━━━━━━━━━━━━━━━━━━━━━━━━━━━\u001b[0m \u001b[32m681.6/681.6 kB\u001b[0m \u001b[31m24.5 MB/s\u001b[0m eta \u001b[36m0:00:00\u001b[0m\n",
      "\u001b[?25hDownloading google_api_python_client-2.97.0-py2.py3-none-any.whl (12.0 MB)\n",
      "\u001b[2K   \u001b[90m━━━━━━━━━━━━━━━━━━━━━━━━━━━━━━━━━━━━━━━━\u001b[0m \u001b[32m12.0/12.0 MB\u001b[0m \u001b[31m79.0 MB/s\u001b[0m eta \u001b[36m0:00:00\u001b[0m:00:01\u001b[0m00:01\u001b[0m\n",
      "\u001b[?25hBuilding wheels for collected packages: earthengine-api, simpledbf\n",
      "  Building wheel for earthengine-api (setup.py) ... \u001b[?25ldone\n",
      "\u001b[?25h  Created wheel for earthengine-api: filename=earthengine_api-0.1.363-py3-none-any.whl size=275891 sha256=58c6e4a83c9f817f72fea3741dda3d37810b402af5aa52cc1b03c44e8fbd7fd8\n",
      "  Stored in directory: /home/jupyter/.cache/pip/wheels/e9/2c/ac/ec0905de0267dcdac5f25d3d6d2d25d9e3302156145827c4ee\n",
      "  Building wheel for simpledbf (setup.py) ... \u001b[?25ldone\n",
      "\u001b[?25h  Created wheel for simpledbf: filename=simpledbf-0.2.6-py3-none-any.whl size=13785 sha256=49b72c043ad46ef1288063dc72ad64b31a1f7c88dd067daa93837f35f8ab9df8\n",
      "  Stored in directory: /home/jupyter/.cache/pip/wheels/e5/41/13/ebdef29165b9309ec4e235dbff19eca8b6759125b0924ad430\n",
      "Successfully built earthengine-api simpledbf\n",
      "Installing collected packages: simpledbf, branca, folium, google-api-python-client, earthengine-api, geeViz\n",
      "  Attempting uninstall: google-api-python-client\n",
      "    Found existing installation: google-api-python-client 1.8.0\n",
      "    Uninstalling google-api-python-client-1.8.0:\n",
      "      Successfully uninstalled google-api-python-client-1.8.0\n",
      "\u001b[31mERROR: pip's dependency resolver does not currently take into account all the packages that are installed. This behaviour is the source of the following dependency conflicts.\n",
      "cloud-tpu-client 0.10 requires google-api-python-client==1.8.0, but you have google-api-python-client 2.97.0 which is incompatible.\u001b[0m\u001b[31m\n",
      "\u001b[0mSuccessfully installed branca-0.6.0 earthengine-api-0.1.363 folium-0.14.0 geeViz-2023.8.4 google-api-python-client-2.97.0 simpledbf-0.2.6\n",
      "Initializing GEE\n",
      "No credentials found\n",
      "Will attempt ee.Authenticate\n"
     ]
    },
    {
     "data": {
      "text/html": [
       "<p>To authorize access needed by Earth Engine, open the following\n",
       "        URL in a web browser and follow the instructions:</p>\n",
       "        <p><a href=https://code.earthengine.google.com/client-auth?scopes=https%3A//www.googleapis.com/auth/earthengine%20https%3A//www.googleapis.com/auth/devstorage.full_control&request_id=U8JKdO-08x4LWFZfSdItsmnoIBmug79KL70EGw2iimM&tc=xC4p-_cr57swXggo1L75j_F0sLID3Pl6_YXZujEF38g&cc=wtC-CVmFGhImSDrWJXhQEYD6HZ39GiZ4jkxlPxM7VX0>https://code.earthengine.google.com/client-auth?scopes=https%3A//www.googleapis.com/auth/earthengine%20https%3A//www.googleapis.com/auth/devstorage.full_control&request_id=U8JKdO-08x4LWFZfSdItsmnoIBmug79KL70EGw2iimM&tc=xC4p-_cr57swXggo1L75j_F0sLID3Pl6_YXZujEF38g&cc=wtC-CVmFGhImSDrWJXhQEYD6HZ39GiZ4jkxlPxM7VX0</a></p>\n",
       "        <p>The authorization workflow will generate a code, which you should paste in the box below.</p>\n",
       "        "
      ],
      "text/plain": [
       "<IPython.core.display.HTML object>"
      ]
     },
     "metadata": {},
     "output_type": "display_data"
    },
    {
     "name": "stdin",
     "output_type": "stream",
     "text": [
      "Enter verification code:  4/1Adeu5BVmnvzH2wFrmkZ6qVmV137dkQygAmGbePsqedvXSICFThSadA0NsTw\n"
     ]
    },
    {
     "name": "stdout",
     "output_type": "stream",
     "text": [
      "\n",
      "Successfully saved authorization token.\n",
      "Successfully initialized\n",
      "geeViz package folder: /opt/conda/lib/python3.10/site-packages/geeViz\n",
      "PyTables is not installed. No support for HDF output.\n",
      "Done\n"
     ]
    }
   ],
   "source": [
    "#Module imports\n",
    "#!python -m pip install geeViz --upgrade\n",
    "try:\n",
    "    import geeViz.getImagesLib as getImagesLib\n",
    "except:\n",
    "    !python -m pip install geeViz\n",
    "    import geeViz.getImagesLib as getImagesLib\n",
    "\n",
    "import geeViz.changeDetectionLib as changeDetectionLib\n",
    "import geeViz.assetManagerLib as aml\n",
    "import geeViz.taskManagerLib as tml\n",
    "import geeViz.gee2Pandas as g2p\n",
    "\n",
    "# from IPython.display import IFrame,display, HTML\n",
    "ee = getImagesLib.ee\n",
    "Map = getImagesLib.Map\n",
    "\n",
    "# Can set the port used for viewing map outputs\n",
    "Map.port = 1234\n",
    "print('Done')\n"
   ]
  },
  {
   "cell_type": "markdown",
   "id": "cd4a573f-29c3-483d-9e35-f96910089b67",
   "metadata": {},
   "source": [
    "## Before you begin\n",
    "\n",
    "### Set your current URL under `workbench_url`\n",
    "* This will be in your URL/search bar at the top of the browser window you are currently in\n",
    "* It will look something like `https://1234567890122-dot-us-west3.notebooks.googleusercontent.com/`\n",
    "\n",
    "### Set a folder to use for all exports under `export_path_root` \n",
    "* It will be something like `projects/projectID/assets/someFolder`\n",
    "* This folder does not have to already exist. If it does not exist, it will be created"
   ]
  },
  {
   "cell_type": "code",
   "execution_count": 6,
   "id": "cdb3a04b-c869-411d-a552-d624575ffcad",
   "metadata": {},
   "outputs": [
    {
     "name": "stdout",
     "output_type": "stream",
     "text": [
      "Done\n"
     ]
    }
   ],
   "source": [
    "workbench_url = 'https://53c21733d8125e22-dot-us-west3.notebooks.googleusercontent.com/'\n",
    "export_path_root  = 'projects/rcr-gee/assets/lcms-training'\n",
    "\n",
    "print('Done')"
   ]
  },
  {
   "cell_type": "code",
   "execution_count": 7,
   "id": "ed03b3ae-31ec-4caf-9add-5d9d1eb1bec7",
   "metadata": {},
   "outputs": [
    {
     "name": "stdout",
     "output_type": "stream",
     "text": [
      "Found the following sub directories:  ['lcms-training', 'lcms-training_module-4_timeSync']\n",
      "Will attempt to create them if they do not exist\n",
      "Asset projects/rcr-gee/assets/lcms-training already exists\n",
      "Asset projects/rcr-gee/assets/lcms-training/lcms-training_module-4_timeSync already exists\n",
      "Updating permissions for:  projects/rcr-gee/assets/lcms-training/lcms-training_module-4_timeSync\n",
      "Done\n"
     ]
    }
   ],
   "source": [
    "# Bring in all folders/collections that are needed\n",
    "# These must already exist as they are created in previous notebooks\n",
    "export_composite_collection = f'{export_path_root}/lcms-training_module-2_composites'\n",
    "export_landTrendr_collection = f'{export_path_root}/lcms-training_module-3_landTrendr'\n",
    "export_ccdc_collection = f'{export_path_root}/lcms-training_module-3_CCDC'\n",
    "\n",
    "export_timeSync_folder = f'{export_path_root}/lcms-training_module-4_timeSync'\n",
    "\n",
    "# This is the pre-made TimeSync data\n",
    "# Creating this dataset is not covered in this set of notebooks\n",
    "timeSync_featureCollection = 'projects/lcms-292214/assets/R8/PR_USVI/TimeSync/18_PRVI_AllPlots_TimeSync_Annualized_Table_secLC'\n",
    "\n",
    "\n",
    "aml.create_asset(export_timeSync_folder)\n",
    "\n",
    "# Currently geeView within Colab uses a different project to authenticate through, so you may need to make your asset public to view from within Colab\n",
    "aml.updateACL(export_timeSync_folder,writers = [],all_users_can_read = True,readers = [])\n",
    "\n",
    "print('Done')"
   ]
  },
  {
   "cell_type": "code",
   "execution_count": 11,
   "id": "e5d6f281-1c62-44ca-a56e-00769912a05f",
   "metadata": {},
   "outputs": [
    {
     "name": "stdout",
     "output_type": "stream",
     "text": [
      "Training years: [2000, 2001, 2002, 2003, 2004, 2005, 2006, 2007, 2008, 2009, 2010, 2011, 2012, 2013, 2014, 2015, 2016, 2017, 2018, 2019, 2020]\n",
      "Unique Plot ID Count: 1000\n",
      "Total Training Plots: 20992\n",
      "TimeSync Attributes: ['DOM_LU', 'GRASS-TS', 'latitude', 'JULIANDAY', 'COMMENTS', 'BARREN-IMP', 'SEC_LC', 'SHRUBS-TRE', 'INTERP', 'YEAR', 'SHRUBS', 'X', 'GRASS', 'Y', 'SEC_LU', 'SEC_LU_EL', 'DOM_SEC_LC', 'BARREN-GRA', 'DOM_LU_EL', 'IMPERVIOUS', 'WATER', 'longitude', 'CP_NOTES', 'SNOW', 'BARREN-TS', 'GRASS-TREE', 'PLOTID', 'CP', 'LAST_MODIF', 'BARREN-TRE', 'GRASS-SHRU', 'PACKET_ID', 'BARREN', 'DOM_LC', 'TREES', 'BARREN-SHR', 'CHANGE_DUR', 'SHRUBS-TS', 'system:index', 'TS-TREES', 'TS']\n",
      "Done\n"
     ]
    }
   ],
   "source": [
    "Map.proxy_url = workbench_url\n",
    "# First, let's bring in TimeSync and set up some parameters\n",
    "# Set the projection\n",
    "# Even though we're working outside the Conterminous United States, Puerto Rico and the US Virgin Islands\n",
    "# uses the same USGS Albers projection\n",
    "crs = getImagesLib.common_projections['NLCD_CONUS']['crs']\n",
    "transform  = getImagesLib.common_projections['NLCD_CONUS']['transform']\n",
    "scale = None\n",
    "\n",
    "# Bring in annualized TimeSync data\n",
    "# Each plot has one feature for each year from 2000 to 2020\n",
    "# This results in over 20k plots\n",
    "timeSyncData = ee.FeatureCollection(timeSync_featureCollection)\n",
    "training_years = [int(yr) for yr in timeSyncData.aggregate_histogram('YEAR').keys().getInfo()]\n",
    "plot_ids = timeSyncData.aggregate_histogram('PLOTID').keys().getInfo()\n",
    "print('Training years:',training_years)\n",
    "print('Unique Plot ID Count:',len(plot_ids))\n",
    "print('Total Training Plots:', timeSyncData.size().getInfo())\n",
    "print('TimeSync Attributes:',timeSyncData.first().propertyNames().getInfo())\n",
    "\n",
    "print('Done')"
   ]
  },
  {
   "cell_type": "code",
   "execution_count": 9,
   "id": "c0a7eb3f-8178-4efe-8014-3c14178e57d8",
   "metadata": {},
   "outputs": [
    {
     "name": "stdout",
     "output_type": "stream",
     "text": [
      "Adding layer: LCMS PRUSVI TimeSync Training Data\n",
      "Starting webmap\n",
      "Using default refresh token for geeView: /home/jupyter/.config/earthengine/credentials\n",
      "Local web server at: http://localhost:1234/geeView/ already serving.\n",
      "cwd /home/jupyter/lcms-training\n",
      "Workbench Proxy URL: https://53c21733d8125e22-dot-us-west3.notebooks.googleusercontent.com/proxy/1234/geeView/?accessToken=None\n"
     ]
    },
    {
     "data": {
      "text/html": [
       "\n",
       "        <iframe\n",
       "            width=\"100%\"\n",
       "            height=\"525px\"\n",
       "            src=\"https://53c21733d8125e22-dot-us-west3.notebooks.googleusercontent.com/proxy/1234/geeView/?accessToken=None\"\n",
       "            frameborder=\"0\"\n",
       "            allowfullscreen\n",
       "            \n",
       "        ></iframe>\n",
       "        "
      ],
      "text/plain": [
       "<IPython.lib.display.IFrame at 0x7f8da9d0a5c0>"
      ]
     },
     "metadata": {},
     "output_type": "display_data"
    },
    {
     "name": "stderr",
     "output_type": "stream",
     "text": [
      "127.0.0.1 - - [16/Aug/2023 17:36:32] \"GET /geeView/?accessToken=None HTTP/1.1\" 200 -\n",
      "127.0.0.1 - - [16/Aug/2023 17:36:32] \"GET /geeView/css/style.min.css HTTP/1.1\" 200 -\n",
      "127.0.0.1 - - [16/Aug/2023 17:36:32] \"GET /geeView/js/gena-gee-palettes.js HTTP/1.1\" 200 -\n",
      "127.0.0.1 - - [16/Aug/2023 17:36:32] \"GET /geeView/js/load.min.js HTTP/1.1\" 200 -\n",
      "127.0.0.1 - - [16/Aug/2023 17:36:32] \"GET /geeView/js/lcms-viewer.min.js HTTP/1.1\" 200 -\n",
      "127.0.0.1 - - [16/Aug/2023 17:36:32] \"GET /geeView/js/runGeeViz.js HTTP/1.1\" 200 -\n",
      "127.0.0.1 - - [16/Aug/2023 17:36:33] \"GET /geeView/images/GEE_logo_transparent.png HTTP/1.1\" 200 -\n",
      "127.0.0.1 - - [16/Aug/2023 17:36:33] \"GET /geeView/images/menu-hamburger_ffffff.svg HTTP/1.1\" 200 -\n",
      "127.0.0.1 - - [16/Aug/2023 17:36:33] \"GET /geeView/images/usdalogo.png HTTP/1.1\" 200 -\n",
      "127.0.0.1 - - [16/Aug/2023 17:36:33] \"GET /geeView/images/layer_icon.png HTTP/1.1\" 200 -\n",
      "127.0.0.1 - - [16/Aug/2023 17:36:33] \"GET /geeView/images/GEE.png HTTP/1.1\" 200 -\n",
      "127.0.0.1 - - [16/Aug/2023 17:36:33] \"GET /geeView/images/logos_usda-fs.svg HTTP/1.1\" 200 -\n",
      "127.0.0.1 - - [16/Aug/2023 17:36:33] \"GET /geeView/images/usfslogo.png HTTP/1.1\" 200 -\n"
     ]
    }
   ],
   "source": [
    "Map.clearMap()\n",
    "\n",
    "# Let's view the TimeSync data\n",
    "# This will zoom to the first plot in the featureCollection\n",
    "# Find a plot (they're 30m x 30m - small), and double-click on it to see \n",
    "# that there are actually multiple plots at that location - 1 for each year\n",
    "Map.addLayer(timeSyncData.map(lambda f:f.buffer(15).bounds(5,crs)),{'layerType':'geeVectorImage'},'LCMS PRUSVI TimeSync Training Data')\n",
    "Map.turnOnInspector()\n",
    "Map.centerObject(timeSyncData.first())\n",
    "Map.view()"
   ]
  },
  {
   "cell_type": "markdown",
   "id": "4ef36ca0-b503-4384-a19b-0cb328ca4ba2",
   "metadata": {},
   "source": [
    "* The challenge is we have to pull all relevant predictor variables for each year from LandTrendr and CCDC without running out of memory\n",
    "* If we pulled the predictors, trained a model, and applied it all at once, chances are very high we would run out of memory and it would fail\n",
    "* In order to reduce the possibility of memory errors, we will extract predictors from our TimeSync plot locations for each year and export them individually as a featureCollection asset\n"
   ]
  },
  {
   "cell_type": "code",
   "execution_count": 10,
   "id": "280d0df3-f357-43d5-9983-f738e7e95ce7",
   "metadata": {},
   "outputs": [
    {
     "name": "stdout",
     "output_type": "stream",
     "text": [
      "Adding layer: LandTrendr All Predictors Time Series\n",
      "Adding layer: Fitted LandTrendr Composite Timelapse\n",
      "Starting webmap\n",
      "Using default refresh token for geeView: /home/jupyter/.config/earthengine/credentials\n",
      "Local web server at: http://localhost:1234/geeView/ already serving.\n",
      "cwd /home/jupyter/lcms-training\n",
      "Workbench Proxy URL: https://53c21733d8125e22-dot-us-west3.notebooks.googleusercontent.com/proxy/1234/geeView/?accessToken=None\n"
     ]
    },
    {
     "data": {
      "text/html": [
       "\n",
       "        <iframe\n",
       "            width=\"100%\"\n",
       "            height=\"525px\"\n",
       "            src=\"https://53c21733d8125e22-dot-us-west3.notebooks.googleusercontent.com/proxy/1234/geeView/?accessToken=None\"\n",
       "            frameborder=\"0\"\n",
       "            allowfullscreen\n",
       "            \n",
       "        ></iframe>\n",
       "        "
      ],
      "text/plain": [
       "<IPython.lib.display.IFrame at 0x7f8da9bb5060>"
      ]
     },
     "metadata": {},
     "output_type": "display_data"
    },
    {
     "name": "stderr",
     "output_type": "stream",
     "text": [
      "127.0.0.1 - - [16/Aug/2023 17:37:21] \"GET /geeView/?accessToken=None HTTP/1.1\" 200 -\n",
      "127.0.0.1 - - [16/Aug/2023 17:37:21] \"GET /geeView/js/runGeeViz.js HTTP/1.1\" 200 -\n",
      "127.0.0.1 - - [16/Aug/2023 17:37:21] \"GET /geeView/js/lcms-viewer.min.js HTTP/1.1\" 200 -\n",
      "127.0.0.1 - - [16/Aug/2023 17:37:21] \"GET /geeView/js/gena-gee-palettes.js HTTP/1.1\" 200 -\n",
      "127.0.0.1 - - [16/Aug/2023 17:37:21] \"GET /geeView/js/load.min.js HTTP/1.1\" 200 -\n",
      "127.0.0.1 - - [16/Aug/2023 17:37:21] \"GET /geeView/css/style.min.css HTTP/1.1\" 200 -\n",
      "127.0.0.1 - - [16/Aug/2023 17:37:21] \"GET /geeView/images/menu-hamburger_ffffff.svg HTTP/1.1\" 200 -\n",
      "127.0.0.1 - - [16/Aug/2023 17:37:21] \"GET /geeView/images/layer_icon.png HTTP/1.1\" 200 -\n",
      "127.0.0.1 - - [16/Aug/2023 17:37:21] \"GET /geeView/images/GEE.png HTTP/1.1\" 200 -\n",
      "127.0.0.1 - - [16/Aug/2023 17:37:21] \"GET /geeView/images/usfslogo.png HTTP/1.1\" 200 -\n",
      "127.0.0.1 - - [16/Aug/2023 17:37:21] \"GET /geeView/images/GEE_logo_transparent.png HTTP/1.1\" 200 -\n",
      "127.0.0.1 - - [16/Aug/2023 17:37:21] \"GET /geeView/images/usdalogo.png HTTP/1.1\" 200 -\n",
      "127.0.0.1 - - [16/Aug/2023 17:37:21] \"GET /geeView/images/logos_usda-fs.svg HTTP/1.1\" 200 -\n",
      "127.0.0.1 - - [16/Aug/2023 17:37:28] \"GET /geeView/images/cumulative_icon.png HTTP/1.1\" 200 -\n"
     ]
    }
   ],
   "source": [
    " # The TimeSync data has the reference classes, but lacks the predictor variables\n",
    "# We will now set up annual LandTrendr and CCDC outputs from our raw exported assets\n",
    "\n",
    "\n",
    "# First, we will bring in LandTrendr data for each year\n",
    "\n",
    "landTrendrCollection = ee.ImageCollection(export_landTrendr_collection)\n",
    "\n",
    "landTrendrCollectionInfo = landTrendrCollection.first().toDictionary().getInfo()\n",
    "\n",
    "Map.clearMap()\n",
    "\n",
    "# View exported LT output\n",
    "# Convert stacked outputs into collection of fitted, magnitude, slope, duration, etc values for each year\n",
    "# While the fitted LandTrendr value is generally of most importance to our models, \n",
    "# LandTrendr segment duration, slope, and magnitude of change can also help our models\n",
    "lt_fit = changeDetectionLib.batchSimpleLTFit(landTrendrCollection,landTrendrCollectionInfo['startYear'],landTrendrCollectionInfo['endYear'],None,bandPropertyName='band',arrayMode=True)\n",
    "\n",
    "# Vizualize image collection for charting (opacity set to 0 so it will chart but not be visible)\n",
    "Map.addLayer(lt_fit,{'bands':'swir2_LT_fitted,nir_LT_fitted,red_LT_fitted','min':0.15,'max':0.6},'LandTrendr All Predictors Time Series')\n",
    "\n",
    "# Visualize fitted landTrendr composites\n",
    "fitted_bns = lt_fit.select(['.*_fitted']).first().bandNames()\n",
    "out_bns = fitted_bns.map(lambda bn: ee.String(bn).split('_').get(0))\n",
    "\n",
    "# Give same names as composites\n",
    "lt_synth = lt_fit.select(fitted_bns,out_bns)\n",
    "\n",
    "# Visualize LandTrendr fitted \n",
    "Map.addTimeLapse(lt_synth,getImagesLib.vizParamsFalse,'Fitted LandTrendr Composite Timelapse')\n",
    "\n",
    "\n",
    "Map.centerObject(landTrendrCollection.first())\n",
    "Map.turnOnInspector()\n",
    "Map.view()"
   ]
  },
  {
   "cell_type": "code",
   "execution_count": 16,
   "id": "1d9b99c1-e2dc-4a08-b5cf-9ffcec728b53",
   "metadata": {},
   "outputs": [
    {
     "name": "stdout",
     "output_type": "stream",
     "text": [
      "{'TileID': '90,54', 'TileSize': 60000}\n",
      "Available CCDC Predictor Variables: ['blue_CCDC_INTP', 'blue_CCDC_SLP', 'blue_CCDC_COS1', 'blue_CCDC_SIN1', 'blue_CCDC_COS2', 'blue_CCDC_SIN2', 'blue_CCDC_COS3', 'blue_CCDC_SIN3', 'green_CCDC_INTP', 'green_CCDC_SLP', 'green_CCDC_COS1', 'green_CCDC_SIN1', 'green_CCDC_COS2', 'green_CCDC_SIN2', 'green_CCDC_COS3', 'green_CCDC_SIN3', 'red_CCDC_INTP', 'red_CCDC_SLP', 'red_CCDC_COS1', 'red_CCDC_SIN1', 'red_CCDC_COS2', 'red_CCDC_SIN2', 'red_CCDC_COS3', 'red_CCDC_SIN3', 'nir_CCDC_INTP', 'nir_CCDC_SLP', 'nir_CCDC_COS1', 'nir_CCDC_SIN1', 'nir_CCDC_COS2', 'nir_CCDC_SIN2', 'nir_CCDC_COS3', 'nir_CCDC_SIN3', 'swir1_CCDC_INTP', 'swir1_CCDC_SLP', 'swir1_CCDC_COS1', 'swir1_CCDC_SIN1', 'swir1_CCDC_COS2', 'swir1_CCDC_SIN2', 'swir1_CCDC_COS3', 'swir1_CCDC_SIN3', 'swir2_CCDC_INTP', 'swir2_CCDC_SLP', 'swir2_CCDC_COS1', 'swir2_CCDC_SIN1', 'swir2_CCDC_COS2', 'swir2_CCDC_SIN2', 'swir2_CCDC_COS3', 'swir2_CCDC_SIN3', 'NDVI_CCDC_INTP', 'NDVI_CCDC_SLP', 'NDVI_CCDC_COS1', 'NDVI_CCDC_SIN1', 'NDVI_CCDC_COS2', 'NDVI_CCDC_SIN2', 'NDVI_CCDC_COS3', 'NDVI_CCDC_SIN3', 'NDVI_CCDC_fitted', 'blue_CCDC_fitted', 'green_CCDC_fitted', 'nir_CCDC_fitted', 'red_CCDC_fitted', 'swir1_CCDC_fitted', 'swir2_CCDC_fitted', 'NDVI_CCDC_fitSlope', 'blue_CCDC_fitSlope', 'green_CCDC_fitSlope', 'nir_CCDC_fitSlope', 'red_CCDC_fitSlope', 'swir1_CCDC_fitSlope', 'swir2_CCDC_fitSlope']\n",
      "Adding layer: Annual CCDC Output\n",
      "Adding layer: CCDC Annualizing Time Input\n",
      "Starting webmap\n",
      "Using default refresh token for geeView: /home/jupyter/.config/earthengine/credentials\n",
      "Local web server at: http://localhost:1234/geeView/ already serving.\n",
      "cwd /home/jupyter/lcms-training\n",
      "Workbench Proxy URL: https://53c21733d8125e22-dot-us-west3.notebooks.googleusercontent.com/proxy/1234/geeView/?accessToken=None\n"
     ]
    },
    {
     "data": {
      "text/html": [
       "\n",
       "        <iframe\n",
       "            width=\"100%\"\n",
       "            height=\"525px\"\n",
       "            src=\"https://53c21733d8125e22-dot-us-west3.notebooks.googleusercontent.com/proxy/1234/geeView/?accessToken=None\"\n",
       "            frameborder=\"0\"\n",
       "            allowfullscreen\n",
       "            \n",
       "        ></iframe>\n",
       "        "
      ],
      "text/plain": [
       "<IPython.lib.display.IFrame at 0x7f8da9bc1f00>"
      ]
     },
     "metadata": {},
     "output_type": "display_data"
    },
    {
     "name": "stderr",
     "output_type": "stream",
     "text": [
      "127.0.0.1 - - [16/Aug/2023 17:53:17] \"GET /geeView/?accessToken=None HTTP/1.1\" 200 -\n",
      "127.0.0.1 - - [16/Aug/2023 17:53:18] \"GET /geeView/css/style.min.css HTTP/1.1\" 200 -\n",
      "127.0.0.1 - - [16/Aug/2023 17:53:18] \"GET /geeView/js/load.min.js HTTP/1.1\" 200 -\n",
      "127.0.0.1 - - [16/Aug/2023 17:53:18] \"GET /geeView/js/gena-gee-palettes.js HTTP/1.1\" 200 -\n",
      "127.0.0.1 - - [16/Aug/2023 17:53:18] \"GET /geeView/js/runGeeViz.js HTTP/1.1\" 200 -\n",
      "127.0.0.1 - - [16/Aug/2023 17:53:18] \"GET /geeView/js/lcms-viewer.min.js HTTP/1.1\" 200 -\n",
      "127.0.0.1 - - [16/Aug/2023 17:53:18] \"GET /geeView/images/GEE_logo_transparent.png HTTP/1.1\" 200 -\n",
      "127.0.0.1 - - [16/Aug/2023 17:53:18] \"GET /geeView/images/usfslogo.png HTTP/1.1\" 200 -\n",
      "127.0.0.1 - - [16/Aug/2023 17:53:18] \"GET /geeView/images/layer_icon.png HTTP/1.1\" 200 -\n",
      "127.0.0.1 - - [16/Aug/2023 17:53:18] \"GET /geeView/images/menu-hamburger_ffffff.svg HTTP/1.1\" 200 -\n",
      "127.0.0.1 - - [16/Aug/2023 17:53:18] \"GET /geeView/images/logos_usda-fs.svg HTTP/1.1\" 200 -\n",
      "127.0.0.1 - - [16/Aug/2023 17:53:18] \"GET /geeView/images/usdalogo.png HTTP/1.1\" 200 -\n",
      "127.0.0.1 - - [16/Aug/2023 17:53:18] \"GET /geeView/images/GEE.png HTTP/1.1\" 200 -\n"
     ]
    }
   ],
   "source": [
    "# And then bring in CCDC data for each year\n",
    "Map.clearMap()\n",
    "\n",
    "ccdcTiles = ee.ImageCollection(export_ccdc_collection)\n",
    "composites = ee.ImageCollection(export_composite_collection)\n",
    "ccdcInfo = ccdcTiles.first().toDictionary().getInfo()\n",
    "print(ccdcInfo)\n",
    "startYear = 1984\n",
    "endYear = 2023\n",
    "startJulian = 1\n",
    "endJulian = 365\n",
    "\n",
    "ccdcImg = ccdcTiles.mosaic()\n",
    "#Specify which harmonics to use when predicting the CCDC model\n",
    "#CCDC exports the first 3 harmonics (1 cycle/yr, 2 cycles/yr, and 3 cycles/yr)\n",
    "#If you only want to see yearly patterns, specify [1]\n",
    "#If you would like a tighter fit in the predicted value, include the second or third harmonic as well [1,2,3]\n",
    "whichHarmonics = [1,2,3]\n",
    "\n",
    "#Whether to fill gaps between segments' end year and the subsequent start year to the break date\n",
    "fillGaps = False\n",
    "\n",
    "# Proportion of a year segment can be extrapolated\n",
    "# This can be important if the CCDC run had a break toward the end of the available raw data, but has not fit a \n",
    "# new model. This would introduce a null value past that break date if set to 0\n",
    "# By setting to e.g. 0.3, a segment at the end can be extended by 0.3 of a year before it will result in a null value\n",
    "tEndExtrapolationPeriod = 0.3\n",
    "\n",
    "\n",
    "# If annualizeWithCompositeDates = False, this month and day will be used as the time to pull CCDC values\n",
    "yearStartMonth = 4\n",
    "yearStartDay = 1\n",
    "\n",
    "\n",
    "# When annualizing CCDC outputs, we can pull the CCDC fitted, harmonic model coefficients, \n",
    "# and fitted difference from the previous year using a set date (e.g. April 1) or we can use the date from within our annual\n",
    "# composites to increase the chance the CCDC output matches the timing of the composite values used within\n",
    "# LandTrendr. In this example, we can bring in the annual composites and pull the dates for annualizing CCDC \n",
    "# by setting annualizeWithCompositeDates = True\n",
    "# This will slow down computing, so you can set it to False for testing runs\n",
    "annualizeWithCompositeDates = True\n",
    "compositeCollection = composites\n",
    "\n",
    "annualSegCoeffs = changeDetectionLib.annualizeCCDC(ccdcImg, startYear, endYear, startJulian, endJulian, tEndExtrapolationPeriod, \n",
    "  yearStartMonth, yearStartDay, annualizeWithCompositeDates, compositeCollection)\n",
    "annualCCDC = changeDetectionLib.getFitSlopeCCDC(annualSegCoeffs, startYear, endYear)\n",
    "ccdc_bandNames = annualCCDC.first().bandNames()\n",
    "ccdc_bandNames = ccdc_bandNames.removeAll(['year'])\n",
    "print('Available CCDC Predictor Variables:',ccdc_bandNames.getInfo())\n",
    "\n",
    "# Visualize output as you would a composite\n",
    "Map.addLayer(annualCCDC.select(ccdc_bandNames),{'bands':'swir1_CCDC_fitted,nir_CCDC_fitted,red_CCDC_fitted','min':0.05,'max':0.6},'Annual CCDC Output')\n",
    "Map.addLayer(annualCCDC.select(['year']),{},'CCDC Annualizing Time Input',False)\n",
    "Map.turnOnInspector()\n",
    "Map.view()\n"
   ]
  },
  {
   "cell_type": "code",
   "execution_count": 20,
   "id": "771b2fab-929f-4282-8c80-da588311d429",
   "metadata": {},
   "outputs": [
    {
     "name": "stdout",
     "output_type": "stream",
     "text": [
      "Adding layer: Elevation\n",
      "Adding layer: TPI 11\n",
      "Adding layer: TPI 21\n",
      "Adding layer: TPI 41\n",
      "Available terrain bands: ['elevation', 'slope', 'sinAspect', 'cosAspect', 'TPI_11', 'TPI_21', 'TPI_41']\n",
      "Starting webmap\n",
      "Using default refresh token for geeView: /home/jupyter/.config/earthengine/credentials\n",
      "Local web server at: http://localhost:1234/geeView/ already serving.\n",
      "cwd /home/jupyter/lcms-training\n",
      "Workbench Proxy URL: https://53c21733d8125e22-dot-us-west3.notebooks.googleusercontent.com/proxy/1234/geeView/?accessToken=None\n"
     ]
    },
    {
     "data": {
      "text/html": [
       "\n",
       "        <iframe\n",
       "            width=\"100%\"\n",
       "            height=\"525px\"\n",
       "            src=\"https://53c21733d8125e22-dot-us-west3.notebooks.googleusercontent.com/proxy/1234/geeView/?accessToken=None\"\n",
       "            frameborder=\"0\"\n",
       "            allowfullscreen\n",
       "            \n",
       "        ></iframe>\n",
       "        "
      ],
      "text/plain": [
       "<IPython.lib.display.IFrame at 0x7f8da9bbc250>"
      ]
     },
     "metadata": {},
     "output_type": "display_data"
    },
    {
     "name": "stderr",
     "output_type": "stream",
     "text": [
      "127.0.0.1 - - [16/Aug/2023 17:56:12] \"GET /geeView/js/runGeeViz.js HTTP/1.1\" 200 -\n"
     ]
    }
   ],
   "source": [
    "# LCMS also uses various elevation/terrain variables to help our models\n",
    "Map.clearMap()\n",
    "terrainStack = []\n",
    "\n",
    "# Can use any elevation data\n",
    "# Will use SRTM for this example\n",
    "# Resampling must be set to bicubic or bilinear or there will be artifacts in terrain derivatives\n",
    "# Can use 'USGS/SRTMGL1_003' image for global applications\n",
    "elevation = ee.Image('USGS/3DEP/10m').resample('bicubic')\n",
    "slope = ee.Terrain.slope(elevation)\n",
    "aspect = ee.Terrain.aspect(elevation)\n",
    "sinAspect = aspect.sin().rename('sinAspect')\n",
    "cosAspect = aspect.cos().rename('cosAspect')\n",
    "\n",
    "terrainStack.extend([elevation,slope,sinAspect,cosAspect])\n",
    "\n",
    "# A very simple algorithm for elevation position\n",
    "# Good at finding ridges and depressions\n",
    "def tpi(elevation,n):\n",
    "    return elevation.subtract(elevation.focalMean(n)).rename([f'TPI_{int(n*2)}'])\n",
    "\n",
    "# A nice palette from: https://github.com/gee-community/ee-palettes\n",
    "# Use cmocean.speed[7]\n",
    "palette = ['fffdcd', 'e1cd73', 'aaac20', '5f920c', '187328', '144b2a', '172313']\n",
    "\n",
    "Map.addLayer(elevation.reproject(crs,transform),{'min':0,'max':250,'palette':palette},'Elevation')\n",
    "\n",
    "# Get TPI for 11 and 21 pixel diameter circular kernels\n",
    "for r in [5.5,10.5,20.5]:\n",
    "    tpiR = tpi(elevation,r)\n",
    "    terrainStack.append(tpiR)\n",
    "    Map.addLayer(tpiR.reproject(crs,transform),{'min':-10,'max':10,'palette':palette},f'TPI {int(r*2)}')\n",
    "\n",
    "# Stack all terrain data\n",
    "terrainStack = ee.Image.cat(terrainStack)\n",
    "print('Available terrain bands:',terrainStack.bandNames().getInfo())\n",
    "Map.centerObject(timeSyncData.limit(2))\n",
    "Map.turnOnInspector()\n",
    "Map.view()"
   ]
  },
  {
   "cell_type": "code",
   "execution_count": 21,
   "id": "5c135dd2-b85d-4e76-895f-a47ceb033c7d",
   "metadata": {},
   "outputs": [
    {
     "name": "stdout",
     "output_type": "stream",
     "text": [
      "Exporting: LCMS_Training_TimeSync_yr2000_LandTrendr_CCDC_Terrain_Extraction\n",
      "<Task EXPORT_FEATURES: LCMS_Training_TimeSync_yr2000_LandTrendr_CCDC_Terrain_Extraction (UNSUBMITTED)>\n",
      "Exporting: LCMS_Training_TimeSync_yr2001_LandTrendr_CCDC_Terrain_Extraction\n",
      "<Task EXPORT_FEATURES: LCMS_Training_TimeSync_yr2001_LandTrendr_CCDC_Terrain_Extraction (UNSUBMITTED)>\n",
      "Exporting: LCMS_Training_TimeSync_yr2002_LandTrendr_CCDC_Terrain_Extraction\n",
      "<Task EXPORT_FEATURES: LCMS_Training_TimeSync_yr2002_LandTrendr_CCDC_Terrain_Extraction (UNSUBMITTED)>\n",
      "Exporting: LCMS_Training_TimeSync_yr2003_LandTrendr_CCDC_Terrain_Extraction\n",
      "<Task EXPORT_FEATURES: LCMS_Training_TimeSync_yr2003_LandTrendr_CCDC_Terrain_Extraction (UNSUBMITTED)>\n",
      "Exporting: LCMS_Training_TimeSync_yr2004_LandTrendr_CCDC_Terrain_Extraction\n",
      "<Task EXPORT_FEATURES: LCMS_Training_TimeSync_yr2004_LandTrendr_CCDC_Terrain_Extraction (UNSUBMITTED)>\n",
      "Exporting: LCMS_Training_TimeSync_yr2005_LandTrendr_CCDC_Terrain_Extraction\n",
      "<Task EXPORT_FEATURES: LCMS_Training_TimeSync_yr2005_LandTrendr_CCDC_Terrain_Extraction (UNSUBMITTED)>\n",
      "Exporting: LCMS_Training_TimeSync_yr2006_LandTrendr_CCDC_Terrain_Extraction\n",
      "<Task EXPORT_FEATURES: LCMS_Training_TimeSync_yr2006_LandTrendr_CCDC_Terrain_Extraction (UNSUBMITTED)>\n",
      "Exporting: LCMS_Training_TimeSync_yr2007_LandTrendr_CCDC_Terrain_Extraction\n",
      "<Task EXPORT_FEATURES: LCMS_Training_TimeSync_yr2007_LandTrendr_CCDC_Terrain_Extraction (UNSUBMITTED)>\n",
      "Exporting: LCMS_Training_TimeSync_yr2008_LandTrendr_CCDC_Terrain_Extraction\n",
      "<Task EXPORT_FEATURES: LCMS_Training_TimeSync_yr2008_LandTrendr_CCDC_Terrain_Extraction (UNSUBMITTED)>\n",
      "Exporting: LCMS_Training_TimeSync_yr2009_LandTrendr_CCDC_Terrain_Extraction\n",
      "<Task EXPORT_FEATURES: LCMS_Training_TimeSync_yr2009_LandTrendr_CCDC_Terrain_Extraction (UNSUBMITTED)>\n",
      "Exporting: LCMS_Training_TimeSync_yr2010_LandTrendr_CCDC_Terrain_Extraction\n",
      "<Task EXPORT_FEATURES: LCMS_Training_TimeSync_yr2010_LandTrendr_CCDC_Terrain_Extraction (UNSUBMITTED)>\n",
      "Exporting: LCMS_Training_TimeSync_yr2011_LandTrendr_CCDC_Terrain_Extraction\n",
      "<Task EXPORT_FEATURES: LCMS_Training_TimeSync_yr2011_LandTrendr_CCDC_Terrain_Extraction (UNSUBMITTED)>\n",
      "Exporting: LCMS_Training_TimeSync_yr2012_LandTrendr_CCDC_Terrain_Extraction\n",
      "<Task EXPORT_FEATURES: LCMS_Training_TimeSync_yr2012_LandTrendr_CCDC_Terrain_Extraction (UNSUBMITTED)>\n",
      "Exporting: LCMS_Training_TimeSync_yr2013_LandTrendr_CCDC_Terrain_Extraction\n",
      "<Task EXPORT_FEATURES: LCMS_Training_TimeSync_yr2013_LandTrendr_CCDC_Terrain_Extraction (UNSUBMITTED)>\n",
      "Exporting: LCMS_Training_TimeSync_yr2014_LandTrendr_CCDC_Terrain_Extraction\n",
      "<Task EXPORT_FEATURES: LCMS_Training_TimeSync_yr2014_LandTrendr_CCDC_Terrain_Extraction (UNSUBMITTED)>\n",
      "Exporting: LCMS_Training_TimeSync_yr2015_LandTrendr_CCDC_Terrain_Extraction\n",
      "<Task EXPORT_FEATURES: LCMS_Training_TimeSync_yr2015_LandTrendr_CCDC_Terrain_Extraction (UNSUBMITTED)>\n",
      "Exporting: LCMS_Training_TimeSync_yr2016_LandTrendr_CCDC_Terrain_Extraction\n",
      "<Task EXPORT_FEATURES: LCMS_Training_TimeSync_yr2016_LandTrendr_CCDC_Terrain_Extraction (UNSUBMITTED)>\n",
      "Exporting: LCMS_Training_TimeSync_yr2017_LandTrendr_CCDC_Terrain_Extraction\n",
      "<Task EXPORT_FEATURES: LCMS_Training_TimeSync_yr2017_LandTrendr_CCDC_Terrain_Extraction (UNSUBMITTED)>\n",
      "Exporting: LCMS_Training_TimeSync_yr2018_LandTrendr_CCDC_Terrain_Extraction\n",
      "<Task EXPORT_FEATURES: LCMS_Training_TimeSync_yr2018_LandTrendr_CCDC_Terrain_Extraction (UNSUBMITTED)>\n",
      "Exporting: LCMS_Training_TimeSync_yr2019_LandTrendr_CCDC_Terrain_Extraction\n",
      "<Task EXPORT_FEATURES: LCMS_Training_TimeSync_yr2019_LandTrendr_CCDC_Terrain_Extraction (UNSUBMITTED)>\n",
      "Exporting: LCMS_Training_TimeSync_yr2020_LandTrendr_CCDC_Terrain_Extraction\n",
      "<Task EXPORT_FEATURES: LCMS_Training_TimeSync_yr2020_LandTrendr_CCDC_Terrain_Extraction (UNSUBMITTED)>\n",
      "Done\n"
     ]
    }
   ],
   "source": [
    "# Now extract LandTrendr, CCDC, and terrain values for each TimeSync plot from its respective year\n",
    "\n",
    "# First, set up a function that will get all predictors for a given year\n",
    "def getPredictorStack(yr):\n",
    "     # Filter the LandTrendr and CCDC data for the given year\n",
    "    lt_yr = lt_fit.filter(ee.Filter.calendarRange(yr,yr,'year')).first()\n",
    "    ccdc_yr = annualCCDC.filter(ee.Filter.calendarRange(yr,yr,'year')).first()\n",
    "\n",
    "    # Get a stack of all predictor bands\n",
    "    extractionStack = ee.Image.cat([lt_yr,ccdc_yr,terrainStack])\n",
    "    return extractionStack.set('system:time_start',ee.Date.fromYMD(yr,6,1).millis())\n",
    "\n",
    "# Find the currently running tasks so we can check to see if something is already running or ready to run\n",
    "currently_running_tasks =  tml.getTasks()\n",
    "\n",
    "# Whether to overwrite existing tables\n",
    "overwrite = False\n",
    "\n",
    "# Extract for each year\n",
    "for training_year in training_years:\n",
    "    \n",
    "    # Filter TimeSync data for the given year\n",
    "    timeSyncData_yr = timeSyncData.filter(ee.Filter.eq('YEAR',training_year))\n",
    "   \n",
    "    # Get the predictor variables for the year\n",
    "    extractionStack = getPredictorStack(training_year)\n",
    "    \n",
    "    # Extract the values\n",
    "    extracted_values = extractionStack.reduceRegions(collection=timeSyncData_yr, reducer = ee.Reducer.first(), scale = None, crs = crs, crsTransform = transform, tileScale = 4)\n",
    "    \n",
    "    # Export them as an asset\n",
    "    assetName = f'LCMS_Training_TimeSync_yr{training_year}_LandTrendr_CCDC_Terrain_Extraction'\n",
    "    assetPath = f'{export_timeSync_folder}/{assetName}'\n",
    "    \n",
    "    currently_exporting = assetName in tml.getTasks()['running'] or assetName in tml.getTasks()['ready'] \n",
    "    currently_exists = aml.ee_asset_exists(assetPath)\n",
    "\n",
    "    if overwrite and currently_exists:\n",
    "        ee.data.deleteAsset(assetPath)\n",
    "    if overwrite and currently_exporting:\n",
    "        tml.cancelByName(assetName)\n",
    "        \n",
    "    # Export if it doesn't exist or isn't being run already\n",
    "    if overwrite or (not currently_exists and not currently_exporting):\n",
    "        t = ee.batch.Export.table.toAsset(collection = extracted_values,\n",
    "                          description = assetName,\n",
    "                          assetId = assetPath)\n",
    "        print('Exporting:',assetName)\n",
    "        print(t)\n",
    "        t.start()\n",
    "    else:\n",
    "        print(f'{assetName} already exists or is currently being exported')\n",
    "\n",
    "print('Done')"
   ]
  },
  {
   "cell_type": "code",
   "execution_count": 26,
   "id": "b878d0ea-c63e-49d3-8687-d8ce401d1a6f",
   "metadata": {},
   "outputs": [
    {
     "name": "stdout",
     "output_type": "stream",
     "text": [
      "done\n"
     ]
    }
   ],
   "source": [
    "# Can track tasks here or at https://code.earthengine.google.com/tasks\n",
    "# If you'd like to track the tasks, use this:\n",
    "# tml.trackTasks2()\n",
    "\n",
    "# If you want to cancel all running tasks, you can use this function\n",
    "# tml.batchCancel()\n",
    "\n",
    "# If you want to empty the collection of all images\n",
    "# aml.batchDelete(export_timeSync_folder, type = 'tables')\n",
    "\n",
    "print('done')\n"
   ]
  }
 ],
 "metadata": {
  "environment": {
   "kernel": "python3",
   "name": "common-cpu.m110",
   "type": "gcloud",
   "uri": "gcr.io/deeplearning-platform-release/base-cpu:m110"
  },
  "kernelspec": {
   "display_name": "Python 3",
   "language": "python",
   "name": "python3"
  },
  "language_info": {
   "codemirror_mode": {
    "name": "ipython",
    "version": 3
   },
   "file_extension": ".py",
   "mimetype": "text/x-python",
   "name": "python",
   "nbconvert_exporter": "python",
   "pygments_lexer": "ipython3",
   "version": "3.10.12"
  }
 },
 "nbformat": 4,
 "nbformat_minor": 5
}
