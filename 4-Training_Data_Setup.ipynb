{
 "cells": [
  {
   "cell_type": "code",
   "execution_count": 85,
   "id": "2eb2fc88-25b8-4d5a-8a2c-b8e40cbe6178",
   "metadata": {},
   "outputs": [],
   "source": [
    "# Copyright 2023 Google LLC\n",
    "#\n",
    "# Licensed under the Apache License, Version 2.0 (the \"License\");\n",
    "# you may not use this file except in compliance with the License.\n",
    "# You may obtain a copy of the License at\n",
    "#\n",
    "#     https://www.apache.org/licenses/LICENSE-2.0\n",
    "#\n",
    "# Unless required by applicable law or agreed to in writing, software\n",
    "# distributed under the License is distributed on an \"AS IS\" BASIS,\n",
    "# WITHOUT WARRANTIES OR CONDITIONS OF ANY KIND, either express or implied.\n",
    "# See the License for the specific language governing permissions and\n",
    "# limitations under the License.\n",
    "#\n",
    "# Developed for Google LLC by RedCastle Resources Inc\n",
    "# https://www.redcastleresources.com/"
   ]
  },
  {
   "cell_type": "markdown",
   "id": "ae243bdf-1298-4668-a561-3709d7a26995",
   "metadata": {
    "id": "title:generic,gcp"
   },
   "source": [
    "# <img width=50px  src = 'https://apps.fs.usda.gov/lcms-viewer/images/lcms-icon.png'>  Lab 4: LCMS Model Training Data Setup\n",
    "\n",
    "<table align=\"left\">\n",
    "  <td>\n",
    "    <a href=\"https://colab.research.google.com/github/redcastle-resources/lcms-training/blob/main/4-Training_Data_Setup.ipynb\">\n",
    "      <img src=\"https://cloud.google.com/ml-engine/images/colab-logo-32px.png\" alt=\"Colab logo\"> Run in Colab\n",
    "    </a>\n",
    "  </td>\n",
    "  <td>\n",
    "    <a href=\"https://github.com/redcastle-resources/lcms-training/blob/main/4-Training_Data_Setup.ipynb\">\n",
    "      <img src=\"https://cloud.google.com/ml-engine/images/github-logo-32px.png\" alt=\"GitHub logo\">\n",
    "      View on GitHub\n",
    "    </a>\n",
    "  </td>\n",
    "  <td>\n",
    "    <a href=\"https://console.cloud.google.com/vertex-ai/workbench/deploy-notebook?download_url=https://github.com/redcastle-resources/lcms-training/blob/main/4-Training_Data_Setup.ipynb\">\n",
    "      <img src=\"https://lh3.googleusercontent.com/UiNooY4LUgW_oTvpsNhPpQzsstV5W8F7rYgxgGBD85cWJoLmrOzhVs_ksK_vgx40SHs7jCqkTkCk=e14-rj-sc0xffffff-h130-w32\" alt=\"Vertex AI logo\">\n",
    "      Open in Vertex AI Workbench\n",
    "    </a>\n",
    "  </td>\n",
    "</table>\n",
    "<br/><br/><br/>"
   ]
  },
  {
   "cell_type": "markdown",
   "id": "4603c77e-11e2-45bc-9ddd-b75c4a170d8b",
   "metadata": {
    "id": "overview:mlops"
   },
   "source": [
    "## 4.0: Overview and Introduction\n",
    "\n",
    "\n",
    "This notebook takes reference data from the TimeSync image interpretation tool and extracts the values from the LandTrendr and CCDC outputs from the previous notebooks as well as terrain data to create the training data tables needed for LCMS model calibration and validation.\n",
    "\n",
    "\n",
    "### 4.0.1: Objective\n",
    "\n",
    "In this tutorial, you learn how to create model training featureCollections in GEE using methods that are unlikely to run out of memory\n",
    "\n",
    "This tutorial uses the following Google Cloud services:\n",
    "\n",
    "- `Google Earth Engine`\n",
    "\n",
    "The steps performed include:\n",
    "\n",
    "- Bringing in TimeSync data\n",
    "- Creating terrain predictors\n",
    "- Extracting LandTrendr, CCDC, and terrain values for TimeSync plot locations as assets"
   ]
  },
  {
   "cell_type": "markdown",
   "id": "cd4a573f-29c3-483d-9e35-f96910089b67",
   "metadata": {},
   "source": [
    "### 4.0.2 Before you begin\n",
    "\n",
    "#### If you are working in Workbench: Set your current URL under `workbench_url`\n",
    "This gives the Map Viewer a url in which to host the viewer we will be generating. \n",
    "* This will be in your URL/search bar at the top of the browser window you are currently in\n",
    "* It will look something like `https://1234567890122-dot-us-west3.notebooks.googleusercontent.com/` (See the image below)\n",
    "\n",
    "![workspace url](img/workspace-url.png)\n",
    "\n",
    "#### Set a folder to use for all exports under `export_path_root` \n",
    "* This folder should be an assets folder in an existing GEE project.\n",
    "* By default, this folder is the same as the pre-baked folder (where outputs have already been created). \n",
    "* If you would like to create your own outputs, specify a different path for `export_path_root`, but leave the `pre_baked_path_root` as it was. This way, the pre-baked outputs can be shown at the end, instead of waiting for all exports to finish.\n",
    "* It will be something like `projects/projectID/assets/newFolder`\n",
    "* This folder does not have to already exist. If it does not exist, it will be created\n",
    "\n",
    "**If you are working in Qwiklabs and wish to export:** Copy the project ID from the 'Start Lab' screen into the `projectID` field in `export_path_root`."
   ]
  },
  {
   "cell_type": "code",
   "execution_count": 1,
   "id": "cdb3a04b-c869-411d-a552-d624575ffcad",
   "metadata": {},
   "outputs": [
    {
     "name": "stdout",
     "output_type": "stream",
     "text": [
      "Done\n"
     ]
    }
   ],
   "source": [
    "workbench_url = 'https://1307eb830a12e633-dot-us-central1.notebooks.googleusercontent.com/lab/tree/lcms-training/4-Training_Data_Setup.ipynb'\n",
    "pre_baked_path_root  = 'projects/rcr-gee/assets/lcms-training'\n",
    "export_path_root = pre_baked_path_root\n",
    "#export_path_root = 'projects/projectID/assets/newFolder'\n",
    "print('Done')\n"
   ]
  },
  {
   "cell_type": "markdown",
   "id": "d9ba404e-51a2-45e8-bd70-bcaac827fd55",
   "metadata": {},
   "source": [
    "#### Installation\n",
    "First, install necessary Python packages. Uncomment the first line to upgrade geeViz if necessary.\n"
   ]
  },
  {
   "cell_type": "code",
   "execution_count": 2,
   "id": "4fae6857-1dfc-448b-b92f-85ec010f8460",
   "metadata": {},
   "outputs": [
    {
     "name": "stdout",
     "output_type": "stream",
     "text": [
      "Initializing GEE\n",
      "Not signed up for Earth Engine or project is not registered. Visit https://developers.google.com/earth-engine/guides/access\n",
      "Cached project id file path: C:\\Users\\ihousman\\.config\\earthengine\\credentials.proj_id\n",
      "Cached project id: rcr-gee\n",
      "Successfully initialized\n",
      "geeViz package folder: c:\\Users\\ihousman\\AppData\\Local\\Programs\\Python\\Python311\\Lib\\site-packages\\geeViz\n",
      "SQLalchemy is not installed. No support for SQL output.\n",
      "Done\n"
     ]
    }
   ],
   "source": [
    "#Module imports\n",
    "#!python -m pip install geeViz --upgrade\n",
    "try:\n",
    "    import geeViz.getImagesLib as getImagesLib\n",
    "except:\n",
    "    !python -m pip install geeViz\n",
    "    import geeViz.getImagesLib as getImagesLib\n",
    "\n",
    "import geeViz.changeDetectionLib as changeDetectionLib\n",
    "import geeViz.assetManagerLib as aml\n",
    "import geeViz.taskManagerLib as tml\n",
    "import geeViz.gee2Pandas as g2p\n",
    "\n",
    "import os\n",
    "ee = getImagesLib.ee\n",
    "Map = getImagesLib.Map\n",
    "\n",
    "\n",
    "print('Done')\n"
   ]
  },
  {
   "cell_type": "markdown",
   "id": "7d896214-eae6-421d-9237-9a3bc5a1c3b4",
   "metadata": {
    "tags": []
   },
   "source": [
    "#### Set up your work environment\n",
    "\n",
    "Create a folder in your export path where you will export the composites. In addition, create a blank image collection where your composites will live.\n",
    "\n",
    "Currently, when running within Colab or Workbench, geeView uses a different project to authenticate through, so you may need to make your asset public to view from within Colab.\n",
    "\n",
    "**Warning!!**\n",
    "\n",
    "* **Read-only access is provided for all authenticated GEE users for pre-baked outputs**\n",
    "* **If you are using the pre-baked output location (`export_path_root = pre_baked_path_root`), you will see errors for any operation that tries to write, delete, or change access permissions to any asset in the pre-baked output location.**\n",
    "* **This is expected and will not stop you from successfully running this notebook - ignore these error messages should they appear.**\n"
   ]
  },
  {
   "cell_type": "code",
   "execution_count": 3,
   "id": "ed03b3ae-31ec-4caf-9add-5d9d1eb1bec7",
   "metadata": {},
   "outputs": [
    {
     "name": "stdout",
     "output_type": "stream",
     "text": [
      "Found the following sub directories:  ['lcms-training', 'lcms-training_module-4_timeSync']\n",
      "Will attempt to create them if they do not exist\n",
      "Asset projects/rcr-gee/assets/lcms-training already exists\n",
      "Asset projects/rcr-gee/assets/lcms-training/lcms-training_module-4_timeSync already exists\n",
      "Updating permissions for:  projects/rcr-gee/assets/lcms-training/lcms-training_module-4_timeSync\n",
      "Done\n"
     ]
    }
   ],
   "source": [
    "# Bring in all folders/collections that are needed\n",
    "# These must already exist as they are created in previous notebooks\n",
    "export_composite_collection = f'{export_path_root}/lcms-training_module-2_composites'\n",
    "export_landTrendr_collection = f'{export_path_root}/lcms-training_module-3_landTrendr'\n",
    "export_ccdc_collection = f'{export_path_root}/lcms-training_module-3_CCDC'\n",
    "\n",
    "# This is a new folder for this module\n",
    "export_timeSync_folder = f'{export_path_root}/lcms-training_module-4_timeSync'\n",
    "\n",
    "# This is the pre-made TimeSync data\n",
    "# Creating this dataset is not covered in this set of notebooks\n",
    "timeSync_featureCollection = 'projects/rcr-gee/assets/training-materials/18_PRVI_AllPlots_TimeSync_Annualized_Table_secLC_wStrata2'\n",
    "\n",
    "\n",
    "aml.create_asset(export_timeSync_folder)\n",
    "\n",
    "# Currently geeView within Colab uses a different project to authenticate through, so you may need to make your asset public to view from within Colab\n",
    "aml.updateACL(export_timeSync_folder,writers = [],all_users_can_read = True,readers = [])\n",
    "\n",
    "print('Done')"
   ]
  },
  {
   "cell_type": "code",
   "execution_count": 5,
   "id": "cece27b8-aa2d-4507-8041-cf5e445d232b",
   "metadata": {},
   "outputs": [
    {
     "name": "stdout",
     "output_type": "stream",
     "text": [
      "Done\n"
     ]
    }
   ],
   "source": [
    "# set up map\n",
    "Map.clearMap()\n",
    "\n",
    "# reset port if necessary\n",
    "Map.port = 1234\n",
    "Map.proxy_url = workbench_url\n",
    "\n",
    "print('Done')"
   ]
  },
  {
   "cell_type": "markdown",
   "id": "bf0dd73f-40d6-48ea-82a5-7ad85cbaf2ea",
   "metadata": {},
   "source": [
    "## 4.1 Prepare Terrain Variables\n",
    "\n",
    "### Terrain Variables\n",
    "\n",
    "* LCMS also uses various elevation/terrain variables to help our models\n",
    "* Terrain generally provides models an excellent proxy for climate variables at a higher spatial resolution\n",
    "* Our variables are by no means exhaustive, and many additional variables could be included\n",
    "\n",
    "* Topographic position indices (TPI) are used to indicate relative elevation. This is important for identifying areas that are likely relatively higher or lower than their surroundings. This is useful for wetland and water classification.\n",
    "\n",
    "**!!IMPORTANT!!**\n",
    "* We will use cubic convolution ('bicubic') as our resampling technique\n",
    "* You cannot use nearest neighbor resamping for terrain variables as it will introduce a hatching artifact for any derivative such as slope and aspect.\n",
    "* We will reproject any output that is added to the map to ensure we are showing the final output in its true form\n",
    "    * This will slow down map rendering and may introduce errors if you zoom way out (low zoom number/ large area)"
   ]
  },
  {
   "cell_type": "code",
   "execution_count": 4,
   "id": "0ff38b13-476f-4c60-abbd-a086f6d33a0d",
   "metadata": {},
   "outputs": [
    {
     "name": "stdout",
     "output_type": "stream",
     "text": [
      "Adding layer: Elevation\n",
      "Adding layer: TPI 11\n",
      "Adding layer: TPI 21\n",
      "Adding layer: TPI 41\n",
      "Available terrain bands: ['elevation', 'slope', 'sinAspect', 'cosAspect', 'TPI_11', 'TPI_21', 'TPI_41']\n",
      "Starting webmap\n",
      "Using default refresh token for geeView: C:\\Users\\ihousman/.config/earthengine/credentials\n",
      "Local web server at: http://localhost:8001/geeView/ already serving.\n",
      "cwd z:\\Projects\\06_LCMS_4_NFS\\Scripts\\lcms-training\n"
     ]
    },
    {
     "data": {
      "text/html": [
       "\n",
       "        <iframe\n",
       "            width=\"100%\"\n",
       "            height=\"525px\"\n",
       "            src=\"http://localhost:8001/geeView/?accessToken=ya29.a0AfB_byBMo8j90mM6-5viyXVM9Sn01EYd-Zx4142YNHDp5NuzRoueWxLwXfl4O3YqXHN3xmVsrBEVV4Eg25A-RSDghjOfJXS-oxLXVaZEvbUO_LuaZa3ginLv0EHZjVfTpR6WMXidcOBnKQZDgk9j32VPnJ2p23rHmJ2ms6iGTjzJaCgYKAW0SARASFQHGX2Mirs4knOXDH2zRwLg_m1Gijw0179\"\n",
       "            frameborder=\"0\"\n",
       "            allowfullscreen\n",
       "            \n",
       "        ></iframe>\n",
       "        "
      ],
      "text/plain": [
       "<IPython.lib.display.IFrame at 0x24dd91d0d90>"
      ]
     },
     "metadata": {},
     "output_type": "display_data"
    }
   ],
   "source": [
    "# First, lets set some parameters you'll use for all of the training data\n",
    "# Set the projection\n",
    "# Even though we're working outside the Conterminous United States, Puerto Rico and the US Virgin Islands\n",
    "# uses the same USGS Albers projection\n",
    "crs = getImagesLib.common_projections['NLCD_CONUS']['crs']\n",
    "transform  = getImagesLib.common_projections['NLCD_CONUS']['transform']\n",
    "scale = None\n",
    "\n",
    "\n",
    "Map.clearMap()\n",
    "terrainStack = []\n",
    "\n",
    "# Can use any elevation data\n",
    "# Will use 3DEP for this example\n",
    "# Resampling must be set to bicubic or bilinear or there will be artifacts in terrain derivatives\n",
    "# Can use 'USGS/SRTMGL1_003' image for global applications\n",
    "elevation = ee.Image('USGS/3DEP/10m').resample('bicubic')\n",
    "slope = ee.Terrain.slope(elevation)\n",
    "aspect = ee.Terrain.aspect(elevation)\n",
    "sinAspect = aspect.sin().rename('sinAspect')\n",
    "cosAspect = aspect.cos().rename('cosAspect')\n",
    "\n",
    "terrainStack.extend([elevation,slope,sinAspect,cosAspect])\n",
    "\n",
    "# A very simple algorithm for elevation position\n",
    "# Good at finding ridges and depressions\n",
    "def tpi(elevation,n):\n",
    "    return elevation.subtract(elevation.focalMean(n)).rename([f'TPI_{int(n*2)}'])\n",
    "\n",
    "# A nice palette from: https://github.com/gee-community/ee-palettes\n",
    "# Use cmocean.speed[7]\n",
    "palette = ['fffdcd', 'e1cd73', 'aaac20', '5f920c', '187328', '144b2a', '172313']\n",
    "\n",
    "Map.addLayer(elevation.reproject(crs,transform),{'min':0,'max':500,'palette':palette},'Elevation')\n",
    "\n",
    "# Get TPI for 11 and 21 pixel diameter circular kernels\n",
    "for r in [5.5,10.5,20.5]:\n",
    "    tpiR = tpi(elevation,r)\n",
    "    terrainStack.append(tpiR)\n",
    "    Map.addLayer(tpiR.reproject(crs,transform),{'min':-10,'max':10,'palette':palette},f'TPI {int(r*2)}')\n",
    "\n",
    "# Stack all terrain data\n",
    "terrainStack = ee.Image.cat(terrainStack)\n",
    "print('Available terrain bands:',terrainStack.bandNames().getInfo())\n",
    "Map.turnOnInspector()\n",
    "Map.view()"
   ]
  },
  {
   "cell_type": "markdown",
   "id": "31bb1634-100e-46c9-898f-e9d9d6f63de3",
   "metadata": {},
   "source": [
    "## 4.2 Load TimeSync Training Data\n",
    "\n",
    "### Introduction to TimeSync\n",
    "\n",
    "TimeSync is a manual image interpretation tool used to create reference datasets for model calibration/validation, map validation, and estimation. It allows analysts to see the entire Landsat and Sentinel-2 data record along with other ancillary geospatial information in order to depict what happened at a plot (30m x 30m pixel footprint for LCMS) over multiple decades (1984-2019 for CONUS LCMS and 2000-2020 for PRUSVI LCMS). \n",
    "\n",
    "TimeSync Resources:\n",
    "\n",
    "[TimeSync Homepage](https://timesync.forestry.oregonstate.edu)\n",
    "\n",
    "[Cohen et al 2010](./lit/Cohen_et_al_2010_TimeSync.pdf)\n",
    "\n",
    "\n",
    "PRUSVI has 1000 unique plot locations collected. Each contains a land cover, land use, and change process class attributed by an analyst for each year. We will use these data for model calibration (in Modules 4, 5, and 6) and map validation (in Module 7).\n",
    "\n",
    "### Prepare TimeSync training data\n",
    "\n",
    "* We will first:\n",
    "    * Set some projection info\n",
    "    * Bring in the TimeSync training data for our study area \n",
    "    * And take a look at some info about the TimeSync data"
   ]
  },
  {
   "cell_type": "code",
   "execution_count": 5,
   "id": "e5d6f281-1c62-44ca-a56e-00769912a05f",
   "metadata": {},
   "outputs": [
    {
     "name": "stdout",
     "output_type": "stream",
     "text": [
      "Training years: [2000, 2001, 2002, 2003, 2004, 2005, 2006, 2007, 2008, 2009, 2010, 2011, 2012, 2013, 2014, 2015, 2016, 2017, 2018, 2019, 2020]\n",
      "Unique Plot ID Count: 1000\n",
      "Total Training Plots: 20991\n",
      "TimeSync Attributes: ['STRATUM_PIXEL_COUNT', 'DOM_LU', 'STRATUM', 'GRASS-TS', 'STRATUM_WEIGHT', 'latitude', 'JULIANDAY', 'COMMENTS', 'BARREN-IMP', 'SEC_LC', 'SHRUBS-TRE', 'STRATUM_AREA', 'INTERP', 'YEAR', 'SHRUBS', 'STRATUM_SAMPLE_COUNT', 'X', 'GRASS', 'Y', 'SEC_LU', 'SEC_LU_EL', 'DOM_SEC_LC', 'BARREN-GRA', 'DOM_LU_EL', 'IMPERVIOUS', 'WATER', 'longitude', 'CP_NOTES', 'SNOW', 'STRATUM_PIXEL_PCT', 'BARREN-TS', 'GRASS-TREE', 'PLOTID', 'CP', 'LAST_MODIF', 'BARREN-TRE', 'GRASS-SHRU', 'PACKET_ID', 'BARREN', 'DOM_LC', 'TREES', 'BARREN-SHR', 'CHANGE_DUR', 'SHRUBS-TS', 'STRATUM_SAMPLE_PCT', 'system:index', 'TS-TREES', 'TS']\n",
      "Done\n"
     ]
    }
   ],
   "source": [
    "# First, let's bring in TimeSync and set up some parameters\n",
    "\n",
    "# Bring in annualized TimeSync data\n",
    "# Each plot has one feature for each year from 2000 to 2020\n",
    "# This results in over 20k plots\n",
    "timeSyncData = ee.FeatureCollection(timeSync_featureCollection)\n",
    "training_year_hist = timeSyncData.aggregate_histogram('YEAR').getInfo()\n",
    "training_years = [int(yr) for yr in list(training_year_hist.keys())]\n",
    "plot_ids = timeSyncData.aggregate_histogram('PLOTID').keys().getInfo()\n",
    "print('Training years:',training_years)\n",
    "print('Unique Plot ID Count:',len(plot_ids))\n",
    "print('Total Training Plots:', timeSyncData.size().getInfo())\n",
    "print('TimeSync Attributes:',timeSyncData.first().propertyNames().getInfo())\n",
    "\n",
    "print('Done')"
   ]
  },
  {
   "cell_type": "markdown",
   "id": "91210c7e",
   "metadata": {},
   "source": [
    "\n",
    "* Now we will look at the number of plots collected per year"
   ]
  },
  {
   "cell_type": "code",
   "execution_count": 6,
   "id": "3ef9fc97-8931-4e90-8d74-79d2ae575b72",
   "metadata": {},
   "outputs": [
    {
     "data": {
      "text/plain": [
       "<Axes: title={'center': 'PRUSVI Training Data Counts Per Year'}, xlabel='Year', ylabel='Plot Count'>"
      ]
     },
     "execution_count": 6,
     "metadata": {},
     "output_type": "execute_result"
    },
    {
     "data": {
      "image/png": "[encoded data removed]",
      "text/plain": [
       "<Figure size 640x480 with 1 Axes>"
      ]
     },
     "metadata": {},
     "output_type": "display_data"
    }
   ],
   "source": [
    "# Look at the number of plots per year\n",
    "training_year_hist_df = g2p.pandas.DataFrame(training_year_hist.values(),columns = ['Plot Counts Per Year'],index =training_year_hist.keys() )\n",
    "training_year_hist_df.plot.bar(ylim = (990,1005),xlabel='Year',ylabel='Plot Count', title = 'PRUSVI Training Data Counts Per Year')"
   ]
  },
  {
   "cell_type": "markdown",
   "id": "0c3a32fd-8df8-4e77-a38d-b4608268f570",
   "metadata": {},
   "source": [
    "* Notice the early and late years do not quite have the full 1000 plots\n",
    "* This is becuase analysts need sufficient imagery to make a solid call at the beginning and end of the time series above all else\n",
    "* They must only provide a response when there are sufficient data to do so\n",
    "\n",
    "* Next, we will look at a single plot location on the map"
   ]
  },
  {
   "cell_type": "code",
   "execution_count": 7,
   "id": "c0a7eb3f-8178-4efe-8014-3c14178e57d8",
   "metadata": {},
   "outputs": [
    {
     "name": "stdout",
     "output_type": "stream",
     "text": [
      "Adding layer: LCMS PRUSVI TimeSync Training Data\n",
      "Starting webmap\n",
      "Using default refresh token for geeView: C:\\Users\\ihousman/.config/earthengine/credentials\n",
      "Local web server at: http://localhost:8001/geeView/ already serving.\n",
      "cwd z:\\Projects\\06_LCMS_4_NFS\\Scripts\\lcms-training\n"
     ]
    },
    {
     "data": {
      "text/html": [
       "\n",
       "        <iframe\n",
       "            width=\"100%\"\n",
       "            height=\"525px\"\n",
       "            src=\"http://localhost:8001/geeView/?accessToken=ya29.a0AfB_byCaMV6HIx7hd1eqqis5NHxnzv9PY34kxVyr6TBS52A6F8byBDbCV_85YgzD_7Xl_Y5snu4L6gYSViSULbUTQmhFatWkNuJz005m_URejbH6QAz__SNSPdjwHNPYDNSROvK9778tC3chfm_JuRgkuqY7O7mmvMIu4lOd_iueaCgYKAbkSARASFQHGX2Mi-JaAJeRTEuGNBu6LyakUAQ0179\"\n",
       "            frameborder=\"0\"\n",
       "            allowfullscreen\n",
       "            \n",
       "        ></iframe>\n",
       "        "
      ],
      "text/plain": [
       "<IPython.lib.display.IFrame at 0x24dd9dbfe90>"
      ]
     },
     "metadata": {},
     "output_type": "display_data"
    }
   ],
   "source": [
    "Map.clearMap()\n",
    "\n",
    "# Let's view the TimeSync data\n",
    "# This will zoom to the first plot in the featureCollection\n",
    "# Find a plot (they're 30m x 30m - small), and double-click on it to see \n",
    "# that there are actually multiple plots at that location - 1 for each year\n",
    "Map.addLayer(timeSyncData.map(lambda f:f.buffer(15).bounds(5,crs)),{'layerType':'geeVectorImage'},'LCMS PRUSVI TimeSync Training Data')\n",
    "Map.turnOnInspector()\n",
    "Map.centerObject(timeSyncData.first())\n",
    "Map.view()"
   ]
  },
  {
   "cell_type": "markdown",
   "id": "79b588a6-1f78-476b-a092-bda87226b80a",
   "metadata": {},
   "source": [
    "* Notice that there are many individual plots (1 for each year) within this single plot location\n",
    "* This is how the time series of training data are represented - 1 plot for each year for a given plot location"
   ]
  },
  {
   "cell_type": "markdown",
   "id": "89fe6a7f",
   "metadata": {},
   "source": [
    "* Since all modeled variables must be numeric, we will need to crosswalk the named values to numbers\n",
    "* Note that while land cover and land use have a number for each name, change crosswalks into 4 categories\n",
    "\n",
    "### Crosswalk training fields and Inspect"
   ]
  },
  {
   "cell_type": "code",
   "execution_count": 8,
   "id": "63220116",
   "metadata": {},
   "outputs": [
    {
     "name": "stdout",
     "output_type": "stream",
     "text": [
      "Crosswalking: Land_Cover\n",
      "Crosswalking: Land_Use\n",
      "Crosswalking: Change\n",
      "Converted codes first plot: {'CP': 'Stable', 'CP_Code': 1, 'DOM_LU': 'Forest', 'DOM_LU_Code': 3, 'DOM_SEC_LC': 'TREES', 'DOM_SEC_LC_Code': 1}\n"
     ]
    },
    {
     "data": {
      "image/png": "[encoded data removed]",
      "text/plain": [
       "<Figure size 640x480 with 1 Axes>"
      ]
     },
     "metadata": {},
     "output_type": "display_data"
    },
    {
     "data": {
      "image/png": "[encoded data removed]",
      "text/plain": [
       "<Figure size 640x480 with 1 Axes>"
      ]
     },
     "metadata": {},
     "output_type": "display_data"
    },
    {
     "data": {
      "image/png": "[encoded data removed]",
      "text/plain": [
       "<Figure size 640x480 with 1 Axes>"
      ]
     },
     "metadata": {},
     "output_type": "display_data"
    }
   ],
   "source": [
    "# Now, we'll crosswalk the training fields to numeric codes\n",
    "# The TimeSync fields are a string by default\n",
    "# They must be a number for modeling\n",
    "# Set up lookup dictionaries to convert the names to numeric codes\n",
    "land_cover_name_code_dict = ee.Dictionary({'TREES':1,\n",
    "                             'TSHRUBS-TRE':2,\n",
    "                             'SHRUBS-TRE':3,\n",
    "                             'GRASS-TREE':4,\n",
    "                             'BARREN-TRE':5,\n",
    "                             'TSHRUBS':6,\n",
    "                             'SHRUBS':7,\n",
    "                             'GRASS-SHRU':8,\n",
    "                             'BARREN-SHR':9,\n",
    "                             'GRASS':10,\n",
    "                             'BARREN-GRA':11,\n",
    "                             'BARREN-IMP':12,\n",
    "                             'SNOW-ICE':13,\n",
    "                             'WATER':14\n",
    "                            })\n",
    "land_use_name_code_dict = ee.Dictionary({'Agriculture':1,\n",
    "                           'Developed':2,\n",
    "                           'Forest':3,\n",
    "                           'Non-forest Wetland':4,\n",
    "                           'Other':5,\n",
    "                           'Rangeland':6\n",
    "                          })\n",
    "\n",
    "change_code_dict = ee.Dictionary({'Debris': 3, \n",
    "                                  'Fire': 3, \n",
    "                                  'Growth/Recovery': 4, \n",
    "                                  'Harvest': 3, 'Hydrology': 3, \n",
    "                                  'Mechanical': 3, \n",
    "                                  'Other': 3, \n",
    "                                  'Spectral Decline': 2, \n",
    "                                  'Stable': 1, \n",
    "                                  'Structural Decline': 2, \n",
    "                                  'Wind/Ice': 3})\n",
    "\n",
    "reference_field_dict = {'Land_Cover':{'field':'DOM_SEC_LC','name_code_dict':land_cover_name_code_dict},\n",
    "                        'Land_Use':{'field':'DOM_LU','name_code_dict':land_use_name_code_dict},\n",
    "                        'Change':{'field':'CP','name_code_dict':change_code_dict,\n",
    "                                  'fields':['Slow Loss', 'Fast Loss', 'Gain']}\n",
    "                       }\n",
    "# Make a function that will get the code for a given name and set it\n",
    "# We could also use the remap function to accomplish this\n",
    "def set_class_code(plot,product):\n",
    "    name_fieldName = reference_field_dict[product]['field']\n",
    "    code_fieldName = ee.String(name_fieldName).cat('_Code')\n",
    "    name = ee.String(plot.get(name_fieldName))\n",
    "    code = reference_field_dict[product]['name_code_dict'].get(name)\n",
    "    plot = plot.set(code_fieldName,code)\n",
    "    return plot\n",
    "                    \n",
    "                    \n",
    "# Crosswalk each product and visualize the frequency of each class\n",
    "for product in list(reference_field_dict.keys()):\n",
    "    print('Crosswalking:',product)\n",
    "    product_title = product.replace('_',' ')\n",
    "    \n",
    "    # Crosswalk class names to numbers\n",
    "    timeSyncData = timeSyncData.map(lambda f:set_class_code(f,product))\n",
    "    \n",
    "    # Get the counts\n",
    "    counts = timeSyncData.aggregate_histogram(reference_field_dict[product]['field']).getInfo()\n",
    "    \n",
    "    # Plot the counts by class\n",
    "    counts_df = g2p.pandas.DataFrame(counts.values(),columns = ['Plot Counts Per Class'],index =counts.keys() )\n",
    "    counts_df.plot.bar(legend=False,xlabel='Class Name',ylabel='Plot Count', title = f'PRUSVI Training Data Counts Per Class - {product_title}')\n",
    "    \n",
    "# Take a look at the resulting cross-walked table for a plot\n",
    "print('Converted codes first plot:',ee.Feature(timeSyncData.first()).select(['CP','DOM_SEC_LC','DOM_LU','.*_Code']).toDictionary().getInfo())\n"
   ]
  },
  {
   "cell_type": "markdown",
   "id": "83d892f4",
   "metadata": {},
   "source": [
    "* Notice the samples are imbalanced\n",
    "* We will have to keep this in mind when evaluating our models\n"
   ]
  },
  {
   "cell_type": "markdown",
   "id": "4ef36ca0-b503-4384-a19b-0cb328ca4ba2",
   "metadata": {},
   "source": [
    "* The challenge is we have to pull all relevant predictor variables for each year from LandTrendr and CCDC without running out of memory\n",
    "* If we pulled the predictors, trained a model, and applied it all at once, chances are very high we would run out of memory and it would fail\n",
    "* In order to reduce the possibility of memory errors, we will extract predictors from our TimeSync plot locations for each year and export them individually as a featureCollection asset\n"
   ]
  },
  {
   "cell_type": "markdown",
   "id": "cbcc0926-a104-44ce-9594-7491596e64c5",
   "metadata": {},
   "source": [
    "## 4.3: Prepare LandTrendr Data\n",
    "**We will now set up annual LandTrendr and CCDC outputs from our raw exported assets**\n",
    "\n",
    "### Annualize LandTrendr Data\n",
    "* First, we will annualize our LandTrendr outputs\n",
    "* While the fitted LandTrendr values are the most important, recall from module 3.1 that there are additional pieces of information we can take from LandTrendr:\n",
    "![workspace url](https://emapr.github.io/LT-GEE/imgs/segment_attributes.png)\n",
    "* Double-clicking on the map after running the code below, you'll notice there are band names that end with mag, slope, diff, dur, and fitted for each index/band\n"
   ]
  },
  {
   "cell_type": "code",
   "execution_count": 10,
   "id": "280d0df3-f357-43d5-9983-f738e7e95ce7",
   "metadata": {},
   "outputs": [
    {
     "name": "stdout",
     "output_type": "stream",
     "text": [
      "Adding layer: LandTrendr All Predictors Time Series\n",
      "Adding layer: Fitted LandTrendr Composite Timelapse\n",
      "Adding layer: LCMS PRUSVI TimeSync Training Data\n",
      "Setting default query date format to: YYYY\n",
      "Starting webmap\n",
      "Using default refresh token for geeView: C:\\Users\\ihousman/.config/earthengine/credentials\n",
      "Local web server at: http://localhost:8001/geeView/ already serving.\n",
      "cwd z:\\Projects\\06_LCMS_4_NFS\\Scripts\\lcms-training\n"
     ]
    },
    {
     "data": {
      "text/html": [
       "\n",
       "        <iframe\n",
       "            width=\"100%\"\n",
       "            height=\"525px\"\n",
       "            src=\"http://localhost:8001/geeView/?accessToken=ya29.a0AfB_byAHtRs4bAjr_hw-pTp8AbOADG1sVs0T6QqbIUMoSz8RugyF3JcNSWIm4ftkeUa9wtL1Uf-_HzB7Ks3fszEQEWpPcPSpfA57-h0HpF4w-SZll0soFkdpsBhUrLsZIKOdbKSmFQxWkb3TiH0W-SekYSuw_SVDhTwWqtkZAESRaCgYKAQsSARASFQHGX2MiN8e0nVrVde_hwe7A9I607Q0179\"\n",
       "            frameborder=\"0\"\n",
       "            allowfullscreen\n",
       "            \n",
       "        ></iframe>\n",
       "        "
      ],
      "text/plain": [
       "<IPython.lib.display.IFrame at 0x24ddc03f850>"
      ]
     },
     "metadata": {},
     "output_type": "display_data"
    }
   ],
   "source": [
    "\n",
    "# First, we will bring in LandTrendr data for each year\n",
    "landTrendrCollection = ee.ImageCollection(export_landTrendr_collection)\n",
    "\n",
    "landTrendrCollectionInfo = landTrendrCollection.first().toDictionary().getInfo()\n",
    "\n",
    "Map.clearMap()\n",
    "\n",
    "# View exported LT output\n",
    "# Convert stacked outputs into collection of fitted, magnitude, slope, duration, etc values for each year\n",
    "# While the fitted LandTrendr value is generally of most importance to our models, \n",
    "# LandTrendr segment duration, slope, and magnitude of change can also help our models\n",
    "lt_fit = changeDetectionLib.batchSimpleLTFit(landTrendrCollection,landTrendrCollectionInfo['startYear'],landTrendrCollectionInfo['endYear'],None,bandPropertyName='band',arrayMode=True,multBy=0.0001)\n",
    "\n",
    "# Vizualize image collection for charting (opacity set to 0 so it will chart but not be visible)\n",
    "Map.addLayer(lt_fit,{'bands':'swir2_LT_fitted,nir_LT_fitted,red_LT_fitted','min':0.15,'max':0.6},'LandTrendr All Predictors Time Series')\n",
    "\n",
    "# Visualize fitted landTrendr composites\n",
    "fitted_bns = lt_fit.select(['.*_fitted']).first().bandNames()\n",
    "out_bns = fitted_bns.map(lambda bn: ee.String(bn).split('_').get(0))\n",
    "\n",
    "# Give same names as composites\n",
    "lt_synth = lt_fit.select(fitted_bns,out_bns)\n",
    "\n",
    "# Visualize LandTrendr fitted \n",
    "Map.addTimeLapse(lt_synth,getImagesLib.vizParamsFalse,'Fitted LandTrendr Composite Timelapse')\n",
    "\n",
    "# add timesync data \n",
    "Map.addLayer(timeSyncData.map(lambda f:f.buffer(15).bounds(5,crs)),{'layerType':'geeVectorImage'},'LCMS PRUSVI TimeSync Training Data')\n",
    "Map.centerObject(timeSyncData.first(), 14)\n",
    "Map.setQueryDateFormat('YYYY')\n",
    "Map.turnOnInspector()\n",
    "\n",
    "Map.view()"
   ]
  },
  {
   "cell_type": "markdown",
   "id": "ea863022-77ee-449b-b0f3-f9f68aba590b",
   "metadata": {},
   "source": [
    "## 4.4 Prepare CCDC Outputs\n",
    "### Annualize CCDC Outputs\n",
    "* Next, we will annualize our raw CCDC output\n",
    "* We allow the date of each pixel for each year from the composite collection to be used for annualizing CCDC\n",
    "* This helps ensure both LandTrendr and CCDC values reflect data from a similar date within each year\n",
    "* We also use a method to annualize that not only finds the harmonic model for each year, and the fitted values, but also computes the difference of fitted values from a given year and the previous year (e.g. year 2000 would have the difference between the year 2000 and 1999 fitted values) included as well with the band name ending \"fitSlope\""
   ]
  },
  {
   "cell_type": "code",
   "execution_count": 11,
   "id": "1d9b99c1-e2dc-4a08-b5cf-9ffcec728b53",
   "metadata": {},
   "outputs": [
    {
     "name": "stdout",
     "output_type": "stream",
     "text": [
      "Available CCDC Predictor Variables: ['blue_CCDC_INTP', 'blue_CCDC_SLP', 'blue_CCDC_COS1', 'blue_CCDC_SIN1', 'blue_CCDC_COS2', 'blue_CCDC_SIN2', 'blue_CCDC_COS3', 'blue_CCDC_SIN3', 'green_CCDC_INTP', 'green_CCDC_SLP', 'green_CCDC_COS1', 'green_CCDC_SIN1', 'green_CCDC_COS2', 'green_CCDC_SIN2', 'green_CCDC_COS3', 'green_CCDC_SIN3', 'red_CCDC_INTP', 'red_CCDC_SLP', 'red_CCDC_COS1', 'red_CCDC_SIN1', 'red_CCDC_COS2', 'red_CCDC_SIN2', 'red_CCDC_COS3', 'red_CCDC_SIN3', 'nir_CCDC_INTP', 'nir_CCDC_SLP', 'nir_CCDC_COS1', 'nir_CCDC_SIN1', 'nir_CCDC_COS2', 'nir_CCDC_SIN2', 'nir_CCDC_COS3', 'nir_CCDC_SIN3', 'swir1_CCDC_INTP', 'swir1_CCDC_SLP', 'swir1_CCDC_COS1', 'swir1_CCDC_SIN1', 'swir1_CCDC_COS2', 'swir1_CCDC_SIN2', 'swir1_CCDC_COS3', 'swir1_CCDC_SIN3', 'swir2_CCDC_INTP', 'swir2_CCDC_SLP', 'swir2_CCDC_COS1', 'swir2_CCDC_SIN1', 'swir2_CCDC_COS2', 'swir2_CCDC_SIN2', 'swir2_CCDC_COS3', 'swir2_CCDC_SIN3', 'NDVI_CCDC_INTP', 'NDVI_CCDC_SLP', 'NDVI_CCDC_COS1', 'NDVI_CCDC_SIN1', 'NDVI_CCDC_COS2', 'NDVI_CCDC_SIN2', 'NDVI_CCDC_COS3', 'NDVI_CCDC_SIN3', 'NDVI_CCDC_fitted', 'blue_CCDC_fitted', 'green_CCDC_fitted', 'nir_CCDC_fitted', 'red_CCDC_fitted', 'swir1_CCDC_fitted', 'swir2_CCDC_fitted', 'NDVI_CCDC_fitSlope', 'blue_CCDC_fitSlope', 'green_CCDC_fitSlope', 'nir_CCDC_fitSlope', 'red_CCDC_fitSlope', 'swir1_CCDC_fitSlope', 'swir2_CCDC_fitSlope']\n",
      "Adding layer: Annual CCDC Output\n",
      "Adding layer: CCDC Annualizing Time Input\n",
      "Adding layer: LCMS PRUSVI TimeSync Training Data\n",
      "Starting webmap\n",
      "Using default refresh token for geeView: C:\\Users\\ihousman/.config/earthengine/credentials\n",
      "Local web server at: http://localhost:8001/geeView/ already serving.\n",
      "cwd z:\\Projects\\06_LCMS_4_NFS\\Scripts\\lcms-training\n"
     ]
    },
    {
     "data": {
      "text/html": [
       "\n",
       "        <iframe\n",
       "            width=\"100%\"\n",
       "            height=\"525px\"\n",
       "            src=\"http://localhost:8001/geeView/?accessToken=ya29.a0AfB_byB6hm_ho624KDE-eKQJfJtaJ3NJU-CLZkibOmXt9LIqYqXCmB7gNucffWWoz6Vu4pivhRaOvIvAb8Kidt92yGf_suG3jpd2q_XN3Rg1yjqFAXnTegj0sR-UV6Bh1MzQWAcf39m1n2RlAli507HjV2CGmn83qIjr0A9qUSPeaCgYKAYwSARASFQHGX2MiIfTO-gbTNx1YStG4EGw1Ag0179\"\n",
       "            frameborder=\"0\"\n",
       "            allowfullscreen\n",
       "            \n",
       "        ></iframe>\n",
       "        "
      ],
      "text/plain": [
       "<IPython.lib.display.IFrame at 0x24ddbf01cd0>"
      ]
     },
     "metadata": {},
     "output_type": "display_data"
    }
   ],
   "source": [
    "# And then bring in CCDC data for each year\n",
    "Map.clearMap()\n",
    "\n",
    "# Bring in the tiled CCDC asset\n",
    "ccdcTiles = ee.ImageCollection(export_ccdc_collection)\n",
    "ccdcImg = ccdcTiles.mosaic()\n",
    "\n",
    "# Bring in the composites to pull the composite observation date for annualizing CCDC\n",
    "composites = ee.ImageCollection(export_composite_collection)\n",
    "\n",
    "# Set up some date parameters\n",
    "startYear = 1984\n",
    "endYear = 2023\n",
    "startJulian = 1\n",
    "endJulian = 365\n",
    "\n",
    "\n",
    "#Specify which harmonics to use when predicting the CCDC model\n",
    "#CCDC exports the first 3 harmonics (1 cycle/yr, 2 cycles/yr, and 3 cycles/yr)\n",
    "#If you only want to see yearly patterns, specify [1]\n",
    "#If you would like a tighter fit in the predicted value, include the second or third harmonic as well [1,2,3]\n",
    "whichHarmonics = [1,2,3]\n",
    "\n",
    "#Whether to fill gaps between segments' end year and the subsequent start year to the break date\n",
    "fillGaps = False\n",
    "\n",
    "# Proportion of a year segment can be extrapolated\n",
    "# This can be important if the CCDC run had a break toward the end of the available raw data, but has not fit a \n",
    "# new model. This would introduce a null value past that break date if set to 0\n",
    "# By setting to e.g. 0.3, a segment at the end can be extended by 0.3 of a year before it will result in a null value\n",
    "tEndExtrapolationPeriod = 0.3\n",
    "\n",
    "\n",
    "# If annualizeWithCompositeDates = False, this month and day will be used as the time to pull CCDC values\n",
    "yearStartMonth = 4\n",
    "yearStartDay = 1\n",
    "\n",
    "\n",
    "# When annualizing CCDC outputs, we can pull the CCDC fitted, harmonic model coefficients, \n",
    "# and fitted difference from the previous year using a set date (e.g. April 1) or we can use the date from within our annual\n",
    "# composites to increase the chance the CCDC output matches the timing of the composite values used within\n",
    "# LandTrendr. In this example, we can bring in the annual composites and pull the dates for annualizing CCDC \n",
    "# by setting annualizeWithCompositeDates = True\n",
    "# When there are missing dates for composites, we can linearly interpolate/extrapolate dates so we can get \n",
    "# a value from CCDC for that year.\n",
    "# set interpolateCompositeDates = True to do so. This will slow down computing, so you can set it to False for testing runs\n",
    "# For model training data extraction, we generally do not want to include interpolated values, so leaving \n",
    "# interpolateCompositeDates = False is best\n",
    "annualizeWithCompositeDates = True\n",
    "compositeCollection = composites\n",
    "interpolateCompositeDates = False\n",
    "\n",
    "annualSegCoeffs = changeDetectionLib.annualizeCCDC(ccdcImg, startYear, endYear, startJulian, endJulian, tEndExtrapolationPeriod, \n",
    "  yearStartMonth, yearStartDay, annualizeWithCompositeDates, compositeCollection,interpolateCompositeDates)\n",
    "annualCCDC = changeDetectionLib.getFitSlopeCCDC(annualSegCoeffs, startYear, endYear)\n",
    "ccdc_bandNames = annualCCDC.first().bandNames()\n",
    "ccdc_bandNames = ccdc_bandNames.removeAll(['year'])\n",
    "print('Available CCDC Predictor Variables:',ccdc_bandNames.getInfo())\n",
    "\n",
    "# Visualize output as you would a composite\n",
    "Map.addLayer(annualCCDC.select(ccdc_bandNames),{'bands':'swir1_CCDC_fitted,nir_CCDC_fitted,red_CCDC_fitted','min':0.05,'max':0.6},'Annual CCDC Output')\n",
    "Map.addLayer(annualCCDC.select(['year']),{},'CCDC Annualizing Time Input',False)\n",
    "# add timesync data \n",
    "Map.addLayer(timeSyncData.map(lambda f:f.buffer(15).bounds(5,crs)),{'layerType':'geeVectorImage'},'LCMS PRUSVI TimeSync Training Data')\n",
    "#Map.centerObject(timeSyncData.first(), 14)\n",
    "\n",
    "Map.turnOnInspector()\n",
    "Map.view()\n"
   ]
  },
  {
   "cell_type": "markdown",
   "id": "bf7f6540-8a46-427f-bde3-c4a23745414b",
   "metadata": {},
   "source": [
    "## 4.5: Combine predictor variables and extract\n",
    "**Put it all together**\n",
    "\n",
    "* Now we'll make a function that will get the full stack of LandTrendr, CCDC, and terrain variables for a given year\n",
    "* And then extract those values for each year of TimeSync data"
   ]
  },
  {
   "cell_type": "code",
   "execution_count": 19,
   "id": "5c135dd2-b85d-4e76-895f-a47ceb033c7d",
   "metadata": {},
   "outputs": [
    {
     "name": "stdout",
     "output_type": "stream",
     "text": [
      "LCMS_Training_TimeSync_yr2000_LandTrendr_CCDC_Terrain_Extraction already exists or is currently being exported\n",
      "LCMS_Training_TimeSync_yr2001_LandTrendr_CCDC_Terrain_Extraction already exists or is currently being exported\n",
      "LCMS_Training_TimeSync_yr2002_LandTrendr_CCDC_Terrain_Extraction already exists or is currently being exported\n",
      "LCMS_Training_TimeSync_yr2003_LandTrendr_CCDC_Terrain_Extraction already exists or is currently being exported\n",
      "LCMS_Training_TimeSync_yr2004_LandTrendr_CCDC_Terrain_Extraction already exists or is currently being exported\n",
      "LCMS_Training_TimeSync_yr2005_LandTrendr_CCDC_Terrain_Extraction already exists or is currently being exported\n",
      "LCMS_Training_TimeSync_yr2006_LandTrendr_CCDC_Terrain_Extraction already exists or is currently being exported\n",
      "LCMS_Training_TimeSync_yr2007_LandTrendr_CCDC_Terrain_Extraction already exists or is currently being exported\n",
      "LCMS_Training_TimeSync_yr2008_LandTrendr_CCDC_Terrain_Extraction already exists or is currently being exported\n",
      "LCMS_Training_TimeSync_yr2009_LandTrendr_CCDC_Terrain_Extraction already exists or is currently being exported\n",
      "LCMS_Training_TimeSync_yr2010_LandTrendr_CCDC_Terrain_Extraction already exists or is currently being exported\n",
      "LCMS_Training_TimeSync_yr2011_LandTrendr_CCDC_Terrain_Extraction already exists or is currently being exported\n",
      "LCMS_Training_TimeSync_yr2012_LandTrendr_CCDC_Terrain_Extraction already exists or is currently being exported\n",
      "LCMS_Training_TimeSync_yr2013_LandTrendr_CCDC_Terrain_Extraction already exists or is currently being exported\n",
      "LCMS_Training_TimeSync_yr2014_LandTrendr_CCDC_Terrain_Extraction already exists or is currently being exported\n",
      "LCMS_Training_TimeSync_yr2015_LandTrendr_CCDC_Terrain_Extraction already exists or is currently being exported\n",
      "LCMS_Training_TimeSync_yr2016_LandTrendr_CCDC_Terrain_Extraction already exists or is currently being exported\n",
      "LCMS_Training_TimeSync_yr2017_LandTrendr_CCDC_Terrain_Extraction already exists or is currently being exported\n",
      "LCMS_Training_TimeSync_yr2018_LandTrendr_CCDC_Terrain_Extraction already exists or is currently being exported\n",
      "LCMS_Training_TimeSync_yr2019_LandTrendr_CCDC_Terrain_Extraction already exists or is currently being exported\n",
      "LCMS_Training_TimeSync_yr2020_LandTrendr_CCDC_Terrain_Extraction already exists or is currently being exported\n",
      "Done\n"
     ]
    }
   ],
   "source": [
    "\n",
    "# First, set up a function that will get all predictors for a given year\n",
    "def getPredictorStack(yr):\n",
    "     # Filter the LandTrendr and CCDC data for the given year\n",
    "    lt_yr = lt_fit.filter(ee.Filter.calendarRange(yr,yr,'year')).first()\n",
    "    ccdc_yr = annualCCDC.filter(ee.Filter.calendarRange(yr,yr,'year')).first()\n",
    "\n",
    "    # Get a stack of all predictor bands\n",
    "    extractionStack = ee.Image.cat([lt_yr,ccdc_yr,terrainStack])\n",
    "    return extractionStack.set('system:time_start',ee.Date.fromYMD(yr,6,1).millis())\n",
    "\n",
    "# Find the currently running tasks so we can check to see if something is already running or ready to run\n",
    "currently_running_tasks =  tml.getTasks()\n",
    "\n",
    "# Whether to overwrite existing tables\n",
    "overwrite = False\n",
    "\n",
    "# Extract for each year\n",
    "for training_year in training_years:\n",
    "    \n",
    "    # Filter TimeSync data for the given year\n",
    "    timeSyncData_yr = timeSyncData.filter(ee.Filter.eq('YEAR',training_year))\n",
    "   \n",
    "    # Get the predictor variables for the year\n",
    "    extractionStack = getPredictorStack(training_year)\n",
    "    \n",
    "    # Extract the values\n",
    "    extracted_values = extractionStack.reduceRegions(collection=timeSyncData_yr, reducer = ee.Reducer.first(), scale = None, crs = crs, crsTransform = transform, tileScale = 4)\n",
    "    \n",
    "    # Export them as an asset\n",
    "    assetName = f'LCMS_Training_TimeSync_yr{training_year}_LandTrendr_CCDC_Terrain_Extraction'\n",
    "    assetPath = f'{export_timeSync_folder}/{assetName}'\n",
    "    \n",
    "    currently_exporting = assetName in tml.getTasks()['running'] or assetName in tml.getTasks()['ready'] \n",
    "    currently_exists = aml.ee_asset_exists(assetPath)\n",
    "\n",
    "    if overwrite and currently_exists:\n",
    "        ee.data.deleteAsset(assetPath)\n",
    "    if overwrite and currently_exporting:\n",
    "        tml.cancelByName(assetName)\n",
    "        \n",
    "    # Export if it doesn't exist or isn't being run already\n",
    "    if overwrite or (not currently_exists and not currently_exporting):\n",
    "        t = ee.batch.Export.table.toAsset(collection = extracted_values,\n",
    "                          description = assetName,\n",
    "                          assetId = assetPath)\n",
    "        print('Exporting:',assetName)\n",
    "        print(t)\n",
    "        t.start()\n",
    "    else:\n",
    "        print(f'{assetName} already exists or is currently being exported')\n",
    "\n",
    "print('Done')"
   ]
  },
  {
   "cell_type": "code",
   "execution_count": 18,
   "id": "b878d0ea-c63e-49d3-8687-d8ce401d1a6f",
   "metadata": {},
   "outputs": [
    {
     "name": "stdout",
     "output_type": "stream",
     "text": [
      "done\n"
     ]
    }
   ],
   "source": [
    "# Can track tasks here or at https://code.earthengine.google.com/tasks\n",
    "# If you'd like to track the tasks, use this:\n",
    "# tml.trackTasks2()\n",
    "\n",
    "# If you want to cancel all running tasks, you can use this function\n",
    "# tml.batchCancel()\n",
    "\n",
    "# If you want to empty the collection of all images\n",
    "# aml.batchDelete(export_timeSync_folder, type = 'tables')\n",
    "\n",
    "print('done')\n"
   ]
  },
  {
   "cell_type": "markdown",
   "id": "6e2fde15-672f-4179-95bc-49e4cecfa94f",
   "metadata": {},
   "source": [
    "### Inspect training data assets\n",
    "\n",
    "* We will now see what assets have been exported and how many total plots we have exported\n",
    "* Notice the total plots exported match the number of input plots from the original TimeSync data"
   ]
  },
  {
   "cell_type": "code",
   "execution_count": 21,
   "id": "eb63b6e3-61a4-4d43-ae9c-65ea32cc4fca",
   "metadata": {},
   "outputs": [
    {
     "name": "stdout",
     "output_type": "stream",
     "text": [
      "projects/rcr-gee/assets/lcms-training/lcms-training_module-4_timeSync/LCMS_Training_TimeSync_yr2000_LandTrendr_CCDC_Terrain_Extraction\n",
      "projects/rcr-gee/assets/lcms-training/lcms-training_module-4_timeSync/LCMS_Training_TimeSync_yr2001_LandTrendr_CCDC_Terrain_Extraction\n",
      "projects/rcr-gee/assets/lcms-training/lcms-training_module-4_timeSync/LCMS_Training_TimeSync_yr2002_LandTrendr_CCDC_Terrain_Extraction\n",
      "projects/rcr-gee/assets/lcms-training/lcms-training_module-4_timeSync/LCMS_Training_TimeSync_yr2003_LandTrendr_CCDC_Terrain_Extraction\n",
      "projects/rcr-gee/assets/lcms-training/lcms-training_module-4_timeSync/LCMS_Training_TimeSync_yr2004_LandTrendr_CCDC_Terrain_Extraction\n",
      "projects/rcr-gee/assets/lcms-training/lcms-training_module-4_timeSync/LCMS_Training_TimeSync_yr2005_LandTrendr_CCDC_Terrain_Extraction\n",
      "projects/rcr-gee/assets/lcms-training/lcms-training_module-4_timeSync/LCMS_Training_TimeSync_yr2006_LandTrendr_CCDC_Terrain_Extraction\n",
      "projects/rcr-gee/assets/lcms-training/lcms-training_module-4_timeSync/LCMS_Training_TimeSync_yr2007_LandTrendr_CCDC_Terrain_Extraction\n",
      "projects/rcr-gee/assets/lcms-training/lcms-training_module-4_timeSync/LCMS_Training_TimeSync_yr2008_LandTrendr_CCDC_Terrain_Extraction\n",
      "projects/rcr-gee/assets/lcms-training/lcms-training_module-4_timeSync/LCMS_Training_TimeSync_yr2009_LandTrendr_CCDC_Terrain_Extraction\n",
      "projects/rcr-gee/assets/lcms-training/lcms-training_module-4_timeSync/LCMS_Training_TimeSync_yr2010_LandTrendr_CCDC_Terrain_Extraction\n",
      "projects/rcr-gee/assets/lcms-training/lcms-training_module-4_timeSync/LCMS_Training_TimeSync_yr2011_LandTrendr_CCDC_Terrain_Extraction\n",
      "projects/rcr-gee/assets/lcms-training/lcms-training_module-4_timeSync/LCMS_Training_TimeSync_yr2012_LandTrendr_CCDC_Terrain_Extraction\n",
      "projects/rcr-gee/assets/lcms-training/lcms-training_module-4_timeSync/LCMS_Training_TimeSync_yr2013_LandTrendr_CCDC_Terrain_Extraction\n",
      "projects/rcr-gee/assets/lcms-training/lcms-training_module-4_timeSync/LCMS_Training_TimeSync_yr2014_LandTrendr_CCDC_Terrain_Extraction\n",
      "projects/rcr-gee/assets/lcms-training/lcms-training_module-4_timeSync/LCMS_Training_TimeSync_yr2015_LandTrendr_CCDC_Terrain_Extraction\n",
      "projects/rcr-gee/assets/lcms-training/lcms-training_module-4_timeSync/LCMS_Training_TimeSync_yr2016_LandTrendr_CCDC_Terrain_Extraction\n",
      "projects/rcr-gee/assets/lcms-training/lcms-training_module-4_timeSync/LCMS_Training_TimeSync_yr2017_LandTrendr_CCDC_Terrain_Extraction\n",
      "projects/rcr-gee/assets/lcms-training/lcms-training_module-4_timeSync/LCMS_Training_TimeSync_yr2018_LandTrendr_CCDC_Terrain_Extraction\n",
      "projects/rcr-gee/assets/lcms-training/lcms-training_module-4_timeSync/LCMS_Training_TimeSync_yr2019_LandTrendr_CCDC_Terrain_Extraction\n",
      "projects/rcr-gee/assets/lcms-training/lcms-training_module-4_timeSync/LCMS_Training_TimeSync_yr2020_LandTrendr_CCDC_Terrain_Extraction\n",
      "Total training plots: 20991\n"
     ]
    }
   ],
   "source": [
    "# Now lets see what assets are available\n",
    "assets = ee.data.listAssets({'parent': f'{pre_baked_path_root}/lcms-training_module-4_timeSync'})['assets']\n",
    "\n",
    "for asset in assets:\n",
    "    print(asset['id'])\n",
    "\n",
    "# Read in each year of extracted TimeSync data\n",
    "training_data = ee.FeatureCollection([ee.FeatureCollection(asset['name']) for asset in assets]).flatten()\n",
    "print('Total training plots:',training_data.size().getInfo())"
   ]
  },
  {
   "cell_type": "markdown",
   "id": "8b5104ea-68fc-472b-b886-67d02775ee1d",
   "metadata": {},
   "source": [
    "## Lab 4 challenge:\n",
    "\n",
    "**If you are accessing this lab through Qwiklabs, this challenge will be assessed for completion in Lab 4.**\n",
    "1. Calculate a hillshade terrain variable using the default parameters using the same elevation image and resampling technique we used earlier in this lab\n",
    "\n",
    "\n",
    "2.  Extract the value of your hillshade using the geometry of the first TimeSync plot location (use TimeSync data from earlier in the module). \n",
    "    \n",
    "    * Use the following function: `g2p.extractPointValuesToDataFrame`\n",
    "    <br><br>\n",
    "    Example:\n",
    "    ```python\n",
    "          extracted_values = g2p.extractPointValuesToDataFrame(\n",
    "          terrain_variable,\n",
    "          timeSyncData.first().geometry(),\n",
    "          scale=30,\n",
    "          crs = \"EPSG:5070\", \n",
    "          transform = None,\n",
    "          reducer = ee.Reducer.first(),\n",
    "          includeNonSystemProperties = False,\n",
    "          includeSystemProperties=True\n",
    "          )\n",
    "    ```\n",
    "    <br> \n",
    "3. Save extracted values to a csv file.\n",
    "\n",
    "   * Save csv to this path: `\"/tmp/challenge/module_4_challenge_answer.csv\"`\n",
    "     * **Note: The path to the csv must exactly match the path above.** \n",
    "    <br>\n",
    "    \n",
    "    * Create the `\"/tmp/challenge\"` folder if it does not already exist.\n",
    "      \n",
    "        Example:\n",
    "    ```python\n",
    "        out_csv = \"/tmp/challenge/module_4_challenge_answer.csv\"\n",
    "        if not os.path.exists(os.path.dirname(out_csv)):os.makedirs(os.path.dirname(out_csv))\n",
    "        values.to_csv(out_csv)\n",
    "    ```\n",
    "<br>\n",
    "\n",
    "4.  Check that the output csv exists.\n",
    "    \n",
    "    * Example: \n",
    "    ```python\n",
    "        print(os.path.exists(out_csv))\n",
    "    ```\n",
    "<br>\n"
   ]
  },
  {
   "cell_type": "code",
   "execution_count": 6,
   "id": "c5d1829d-8035-4f9f-9d12-d7d33631dd42",
   "metadata": {},
   "outputs": [],
   "source": [
    "#  insert challenge question solution here\n",
    "\n"
   ]
  },
  {
   "cell_type": "markdown",
   "id": "8b21733e-c841-439f-8cef-81eeff85386a",
   "metadata": {},
   "source": [
    "## Done with Module 4\n"
   ]
  }
 ],
 "metadata": {
  "environment": {
   "kernel": "python3",
   "name": "tf2-gpu.2-11.m111",
   "type": "gcloud",
   "uri": "gcr.io/deeplearning-platform-release/tf2-gpu.2-11:m111"
  },
  "kernelspec": {
   "display_name": "Python 3",
   "language": "python",
   "name": "python3"
  },
  "language_info": {
   "codemirror_mode": {
    "name": "ipython",
    "version": 3
   },
   "file_extension": ".py",
   "mimetype": "text/x-python",
   "name": "python",
   "nbconvert_exporter": "python",
   "pygments_lexer": "ipython3",
   "version": "3.11.4"
  }
 },
 "nbformat": 4,
 "nbformat_minor": 5
}
