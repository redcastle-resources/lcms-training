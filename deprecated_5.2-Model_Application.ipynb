{
 "cells": [
  {
   "cell_type": "code",
   "execution_count": 85,
   "id": "2eb2fc88-25b8-4d5a-8a2c-b8e40cbe6178",
   "metadata": {},
   "outputs": [],
   "source": [
    "# Copyright 2023 Google LLC\n",
    "#\n",
    "# Licensed under the Apache License, Version 2.0 (the \"License\");\n",
    "# you may not use this file except in compliance with the License.\n",
    "# You may obtain a copy of the License at\n",
    "#\n",
    "#     https://www.apache.org/licenses/LICENSE-2.0\n",
    "#\n",
    "# Unless required by applicable law or agreed to in writing, software\n",
    "# distributed under the License is distributed on an \"AS IS\" BASIS,\n",
    "# WITHOUT WARRANTIES OR CONDITIONS OF ANY KIND, either express or implied.\n",
    "# See the License for the specific language governing permissions and\n",
    "# limitations under the License."
   ]
  },
  {
   "cell_type": "markdown",
   "id": "ae243bdf-1298-4668-a561-3709d7a26995",
   "metadata": {
    "id": "title:generic,gcp"
   },
   "source": [
    "# Lab 5.2: LCMS Model Application\n",
    "\n",
    "<table align=\"left\">\n",
    "  <td>\n",
    "    <a href=\"https://colab.research.google.com/github/redcastle-resources/lcms-training/blob/main/5.2-Model_Application.ipynb\">\n",
    "      <img src=\"https://cloud.google.com/ml-engine/images/colab-logo-32px.png\" alt=\"Colab logo\"> Run in Colab\n",
    "    </a>\n",
    "  </td>\n",
    "  <td>\n",
    "    <a href=\"https://github.com/redcastle-resources/lcms-training/blob/main/5.2-Model_Application.ipynb\">\n",
    "      <img src=\"https://cloud.google.com/ml-engine/images/github-logo-32px.png\" alt=\"GitHub logo\">\n",
    "      View on GitHub\n",
    "    </a>\n",
    "  </td>\n",
    "  <td>\n",
    "    <a href=\"https://console.cloud.google.com/vertex-ai/workbench/deploy-notebook?download_url=https://github.com/redcastle-resources/lcms-training/blob/main/5.2-Model_Application.ipynb\">\n",
    "      <img src=\"https://lh3.googleusercontent.com/UiNooY4LUgW_oTvpsNhPpQzsstV5W8F7rYgxgGBD85cWJoLmrOzhVs_ksK_vgx40SHs7jCqkTkCk=e14-rj-sc0xffffff-h130-w32\" alt=\"Vertex AI logo\">\n",
    "      Open in Vertex AI Workbench\n",
    "    </a>\n",
    "  </td>\n",
    "</table>\n",
    "<br/><br/><br/>"
   ]
  },
  {
   "cell_type": "markdown",
   "id": "4603c77e-11e2-45bc-9ddd-b75c4a170d8b",
   "metadata": {
    "id": "overview:mlops"
   },
   "source": [
    "TEST COMMIT\n",
    "\n",
    "## Overview\n",
    "\n",
    "\n",
    "This notebook builds and applies the models for creating LCMS outputs\n",
    "\n",
    "\n",
    "### Objective\n",
    "\n",
    "In this tutorial, you learn how to apply LCMS models over large areas\n",
    "\n",
    "This tutorial uses the following Google Cloud services:\n",
    "\n",
    "- `Google Earth Engine`\n",
    "\n",
    "The steps performed include:\n",
    "\n",
    "- Training LCMS models and looking at outputs\n",
    "- Learning about different model modes in GEE\n",
    "- Applying LCMS models and exporting outputs\n"
   ]
  },
  {
   "cell_type": "markdown",
   "id": "cd4a573f-29c3-483d-9e35-f96910089b67",
   "metadata": {},
   "source": [
    "## Before you begin\n",
    "\n",
    "### If you are working in Workbench: Set your current URL under `workbench_url`\n",
    "This gives the Map Viewer a url in which to host the viewer we will be generating. \n",
    "* This will be in your URL/search bar at the top of the browser window you are currently in\n",
    "* It will look something like `https://1234567890122-dot-us-west3.notebooks.googleusercontent.com/` (See the image below)\n",
    "\n",
    "![workspace url](img/workspace-url.png)\n",
    "\n",
    "### Set a folder to use for all exports under `export_path_root` \n",
    "* This folder should be an assets folder in an existing GEE project.\n",
    "* By default, this folder is the same as the pre-baked folder (where outputs have already been created). \n",
    "* If you would like to create your own outputs, specify a different path for `export_path_root`, but leave the `pre_baked_path_root` as it was. This way, the pre-baked outputs can be shown at the end, instead of waiting for all exports to finish.\n",
    "* It will be something like `projects/projectID/assets/someFolder`\n",
    "* This folder does not have to already exist. If it does not exist, it will be created"
   ]
  },
  {
   "cell_type": "code",
<<<<<<< HEAD:5.2-Model_Application.ipynb
   "execution_count": 51,
=======
   "execution_count": 1,
>>>>>>> 7b44e4d3bdd03ae031e4cf4d616a9e6b49428beb:deprecated_5.2-Model_Application.ipynb
   "id": "cdb3a04b-c869-411d-a552-d624575ffcad",
   "metadata": {},
   "outputs": [
    {
     "name": "stdout",
     "output_type": "stream",
     "text": [
      "Done\n"
     ]
    }
   ],
   "source": [
    "workbench_url = 'https://559cdf0b5fe9790f-dot-us-central1.notebooks.googleusercontent.com'\n",
    "pre_baked_path_root  = 'projects/rcr-gee/assets/lcms-training'\n",
    "export_path_root = pre_baked_path_root\n",
    "\n",
    "print('Done')"
   ]
  },
  {
   "cell_type": "markdown",
   "id": "859ca834-776f-4618-a031-b6827e3c9e0b",
   "metadata": {},
   "source": [
<<<<<<< HEAD:5.2-Model_Application.ipynb
    "# Installation\n",
=======
    "## Installation\n",
    "\n",
>>>>>>> 7b44e4d3bdd03ae031e4cf4d616a9e6b49428beb:deprecated_5.2-Model_Application.ipynb
    "First, install necessary Python packages. Uncomment the first line to upgrade geeViz if necessary.\n",
    "\n",
    "Note that for this module, we're also importing many data science packages such as pandas. "
   ]
  },
  {
   "cell_type": "code",
<<<<<<< HEAD:5.2-Model_Application.ipynb
   "execution_count": 52,
=======
   "execution_count": 2,
>>>>>>> 7b44e4d3bdd03ae031e4cf4d616a9e6b49428beb:deprecated_5.2-Model_Application.ipynb
   "id": "4fae6857-1dfc-448b-b92f-85ec010f8460",
   "metadata": {},
   "outputs": [
    {
     "name": "stdout",
     "output_type": "stream",
     "text": [
      "Done\n"
     ]
    }
   ],
   "source": [
    "#Module imports\n",
    "#!python -m pip install geeViz --upgrade\n",
    "try:\n",
    "    import geeViz.getImagesLib as getImagesLib\n",
    "except:\n",
    "    !python -m pip install geeViz\n",
    "    import geeViz.getImagesLib as getImagesLib\n",
    "\n",
    "import geeViz.changeDetectionLib as changeDetectionLib\n",
    "import geeViz.assetManagerLib as aml\n",
    "import geeViz.taskManagerLib as tml\n",
    "import geeViz.gee2Pandas as g2p\n",
    "import inspect,operator,os\n",
    "import matplotlib.pyplot as plt\n",
    "import pandas as pd  \n",
    "\n",
    "ee = getImagesLib.ee\n",
    "Map = getImagesLib.Map\n",
    "\n",
    "# Can set the port used for viewing map outputs\n",
    "Map.port = 1235\n",
    "print('Done')\n"
   ]
  },
  {
   "cell_type": "markdown",
   "id": "687055b2-c605-4ed4-ac44-c7dec9ea09d7",
   "metadata": {},
   "source": [
    "## Model Application"
   ]
  },
  {
   "cell_type": "code",
<<<<<<< HEAD:5.2-Model_Application.ipynb
   "execution_count": 53,
=======
   "execution_count": 3,
>>>>>>> 7b44e4d3bdd03ae031e4cf4d616a9e6b49428beb:deprecated_5.2-Model_Application.ipynb
   "id": "ed03b3ae-31ec-4caf-9add-5d9d1eb1bec7",
   "metadata": {},
   "outputs": [
    {
     "name": "stdout",
     "output_type": "stream",
     "text": [
      "Found the following sub directories:  ['lcms-training', 'lcms-training_module-5_rawLCMSOutputs']\n",
      "Will attempt to create them if they do not exist\n",
      "projects/rcr-gee/assets/lcms-training\n",
      "Could not create:  projects/rcr-gee/assets/lcms-training\n",
      "Permission 'earthengine.assets.create' denied on resource 'projects/rcr-gee' (or it may not exist).\n",
      "Asset projects/rcr-gee/assets/lcms-training/lcms-training_module-5_rawLCMSOutputs already exists\n",
      "Updating permissions for:  projects/rcr-gee/assets/lcms-training/lcms-training_module-5_rawLCMSOutputs\n",
      "Could not update permissions for:  projects/rcr-gee/assets/lcms-training/lcms-training_module-5_rawLCMSOutputs\n",
      "Asset 'projects/rcr-gee/assets/lcms-training/lcms-training_module-5_rawLCMSOutputs' does not exist or doesn't allow this operation.\n",
      "Done\n"
     ]
    }
   ],
   "source": [
    "# Bring in all folders/collections that are needed\n",
    "# These must already exist as they are created in previous notebooks\n",
    "export_composite_collection = f'{export_path_root}/lcms-training_module-2_composites'\n",
    "export_landTrendr_collection = f'{export_path_root}/lcms-training_module-3_landTrendr'\n",
    "export_ccdc_collection = f'{export_path_root}/lcms-training_module-3_CCDC'\n",
    "export_timeSync_folder = f'{export_path_root}/lcms-training_module-4_timeSync'\n",
    "local_model_data_folder = '/tmp/lcms-training/local_modeling'\n",
    "local_training_csv = os.path.join(local_model_data_folder,'timeSync_training_table.csv')\n",
    "model_options_csv_filename = os.path.join(local_model_data_folder,'LCMS_model_options_table.csv')\n",
    "new_csv = './tables/LCMS_model_options_table.csv'\n",
    "!cp {model_options_csv_filename} {new_csv}\n",
    "\n",
    "# This is the pre-made TimeSync data\n",
    "# Creating this dataset is not covered in this set of notebooks\n",
    "timeSync_featureCollection = 'projects/rcr-gee/assets/training-materials/18_PRVI_AllPlots_TimeSync_Annualized_Table_secLC_wStrata'\n",
    "\n",
    "\n",
    "# Specify location to export raw LCMS modeled outputs to\n",
    "export_rawLCMSOutputs_collection = f'{export_path_root}/lcms-training_module-5_rawLCMSOutputs'\n",
    "\n",
    "\n",
    "\n",
    "aml.create_asset(export_rawLCMSOutputs_collection, asset_type = ee.data.ASSET_TYPE_IMAGE_COLL)\n",
    "\n",
    "# Currently geeView within Colab uses a different project to authenticate through, so you may need to make your asset public to view from within Colab\n",
    "aml.updateACL(export_rawLCMSOutputs_collection,writers = [],all_users_can_read = True,readers = [])\n",
    "\n",
    "print('Done')"
   ]
  },
  {
   "cell_type": "code",
<<<<<<< HEAD:5.2-Model_Application.ipynb
   "execution_count": 55,
=======
   "execution_count": 4,
>>>>>>> 7b44e4d3bdd03ae031e4cf4d616a9e6b49428beb:deprecated_5.2-Model_Application.ipynb
   "id": "87a83c08-dc9f-4acf-a382-10c874e5ba8e",
   "metadata": {},
   "outputs": [
    {
     "name": "stdout",
     "output_type": "stream",
     "text": [
      "Done\n"
     ]
    }
   ],
   "source": [
    "# set up map\n",
    "Map.clearMap()\n",
    "\n",
    "# reset port if necessary\n",
    "Map.port = 1235\n",
    "Map.proxy_url = workbench_url\n",
    "\n",
    "print('Done')"
   ]
  },
  {
   "cell_type": "markdown",
   "id": "33d6ae30-9d11-4929-8bdd-767c8918001c",
   "metadata": {},
   "source": [
    "## Setup\n",
    "\n",
    "* First, we will need to set up all the training data and model predictor info from previous modules"
   ]
  },
  {
   "cell_type": "code",
<<<<<<< HEAD:5.2-Model_Application.ipynb
   "execution_count": 54,
=======
   "execution_count": 5,
>>>>>>> 7b44e4d3bdd03ae031e4cf4d616a9e6b49428beb:deprecated_5.2-Model_Application.ipynb
   "id": "e5d6f281-1c62-44ca-a56e-00769912a05f",
   "metadata": {},
   "outputs": [
    {
     "name": "stdout",
     "output_type": "stream",
     "text": [
      "LCMS class code, names, and colors: {'Change_class_names': ['Stable', 'Slow Loss', 'Fast Loss', 'Gain', 'Non-Processing Area Mask'], 'Change_class_palette': ['3d4551', 'f39268', 'd54309', '00a398', '1b1716'], 'Change_class_values': [1, 2, 3, 4, 5], 'Land_Cover_class_names': ['Trees', 'Tall Shrubs & Trees Mix (SEAK Only)', 'Shrubs & Trees Mix', 'Grass/Forb/Herb & Trees Mix', 'Barren & Trees Mix', 'Tall Shrubs (SEAK Only)', 'Shrubs', 'Grass/Forb/Herb & Shrubs Mix', 'Barren & Shrubs Mix', 'Grass/Forb/Herb', 'Barren & Grass/Forb/Herb Mix', 'Barren or Impervious', 'Snow or Ice', 'Water', 'Non-Processing Area Mask'], 'Land_Cover_class_palette': ['005e00', '008000', '00cc00', 'b3ff1a', '99ff99', 'b30088', 'e68a00', 'ffad33', 'ffe0b3', 'ffff00', 'aa7700', 'd3bf9b', 'ffffff', '4780f3', '1b1716'], 'Land_Cover_class_values': [1, 2, 3, 4, 5, 6, 7, 8, 9, 10, 11, 12, 13, 14, 15], 'Land_Use_class_names': ['Agriculture', 'Developed', 'Forest', 'Non-Forest Wetland', 'Other', 'Rangeland or Pasture', 'Non-Processing Area Mask'], 'Land_Use_class_palette': ['efff6b', 'ff2ff8', '1b9d0c', '97ffff', 'a1a1a1', 'c2b34a', '1b1716'], 'Land_Use_class_values': [1, 2, 3, 4, 5, 6, 7], 'study_area': 'PRUSVI'}\n",
      "{'type': 'Feature', 'geometry': {'type': 'Point', 'coordinates': [-66.1090893694241, 18.33875316116157]}, 'id': '0_00000000000000000000', 'properties': {'BARREN': 0, 'BARREN-GRA': 0, 'BARREN-IMP': 0, 'BARREN-SHR': 0, 'BARREN-TRE': 0, 'BARREN-TS': 0, 'CHANGE_DUR': 9, 'COMMENTS': '', 'CP': 'Stable', 'CP_NOTES': '', 'DOM_LC': 'Grass/forb/herb', 'DOM_LU': 'Developed', 'DOM_LU_EL': '', 'DOM_SEC_LC': 'GRASS', 'GRASS': 1, 'GRASS-SHRU': 0, 'GRASS-TREE': 0, 'GRASS-TS': 0, 'IMPERVIOUS': 0, 'INTERP': 8, 'JULIANDAY': 318, 'LAST_MODIF': '5/26/2021 13:28', 'NBR_LT_diff': -0.07559827411027861, 'NBR_LT_dur': 38, 'NBR_LT_fitted': 0.44105430871664986, 'NBR_LT_mag': -0.1795459010119117, 'NBR_LT_slope': -0.004724892131892413, 'NDVI_CCDC_COS1': 0.03313603947679997, 'NDVI_CCDC_COS2': 0.023924575106993435, 'NDVI_CCDC_COS3': 0.001767768581406497, 'NDVI_CCDC_INTP': 0.9581580333610438, 'NDVI_CCDC_SIN1': -0.03169830940048376, 'NDVI_CCDC_SIN2': 0.003491175050484112, 'NDVI_CCDC_SIN3': -0.014621683482958498, 'NDVI_CCDC_SLP': -0.00021653490375578006, 'NDVI_CCDC_fitSlope': -0.00024204225020652004, 'NDVI_CCDC_fitted': 0.5248663515840875, 'NDVI_LT_diff': -0.06505336575040296, 'NDVI_LT_dur': 38, 'NDVI_LT_fitted': 0.4786169373014051, 'NDVI_LT_mag': -0.15450174365720704, 'NDVI_LT_slope': -0.004065835359400185, 'PACKET_ID': 1, 'PLOTID': 6000033, 'SEC_LC': 'impervious', 'SEC_LU': '', 'SEC_LU_EL': '', 'SHRUBS': 0, 'SHRUBS-TRE': 0, 'SHRUBS-TS': 0, 'SNOW': 0, 'STRATUM': 1, 'STRATUM_AREA': 14.2, 'STRATUM_PIXEL_COUNT': 1450331, 'STRATUM_PIXEL_PCT': 14.143584890609223, 'STRATUM_SAMPLE_COUNT': 156, 'STRATUM_SAMPLE_PCT': 14.143245693563012, 'STRATUM_WEIGHT': 0.9999760176045299, 'TPI_11': 19.222366333007812, 'TPI_21': 35.072898864746094, 'TPI_41': 42.75202941894531, 'TREES': 0, 'TS': 0, 'TS-TREES': 0, 'WATER': 0, 'X': 0, 'Y': 0, 'YEAR': 2000, 'blue_CCDC_COS1': -0.010214653625597684, 'blue_CCDC_COS2': -0.0054749912008074985, 'blue_CCDC_COS3': 0.0023808609250554917, 'blue_CCDC_INTP': 0.40043118114517073, 'blue_CCDC_SIN1': 0, 'blue_CCDC_SIN2': 0, 'blue_CCDC_SIN3': 0.005721939036996464, 'blue_CCDC_SLP': -0.00016535597917991408, 'blue_CCDC_fitSlope': -0.00018483455827028594, 'blue_CCDC_fitted': 0.06954978942484014, 'brightness_LT_diff': 0.07929316205953267, 'brightness_LT_dur': 38, 'brightness_LT_fitted': 0.36938782078378163, 'brightness_LT_mag': 0.1883212598913901, 'brightness_LT_slope': 0.004955822628720792, 'cosAspect': 0.47708618514808787, 'elevation': 111.5030517578125, 'green_CCDC_COS1': -0.01759023572783219, 'green_CCDC_COS2': -0.006904397601665573, 'green_CCDC_COS3': 0.0029076113660831886, 'green_CCDC_INTP': 0.6849746108628372, 'green_CCDC_SIN1': 0, 'green_CCDC_SIN2': 0, 'green_CCDC_SIN3': 0.008484114498366406, 'green_CCDC_SLP': -0.00028738058960790786, 'green_CCDC_fitSlope': -0.0003212334056444943, 'green_CCDC_fitted': 0.10991896476846086, 'greenness_LT_diff': -0.036770868437373094, 'greenness_LT_dur': 17, 'greenness_LT_fitted': 0.07666488661607689, 'greenness_LT_mag': -0.03906904771470891, 'greenness_LT_slope': -0.0022981792773358184, 'latitude': 18.33875499, 'longitude': -66.10908884, 'nir_CCDC_COS1': -0.024958377165167776, 'nir_CCDC_COS2': -0.010201127035964288, 'nir_CCDC_COS3': 0.011764515373607926, 'nir_CCDC_INTP': 1.3206279527366922, 'nir_CCDC_SIN1': -0.01115303936752027, 'nir_CCDC_SIN2': 0.004195738930669948, 'nir_CCDC_SIN3': 0.004432025668511544, 'nir_CCDC_SLP': -0.0004977813481447807, 'nir_CCDC_fitSlope': -0.0005564189215041537, 'nir_CCDC_fitted': 0.3245552007053917, 'nir_LT_diff': 0.035361809073610084, 'nir_LT_dur': 38, 'nir_LT_fitted': 0.2768330514050731, 'nir_LT_mag': 0.08398429654982395, 'nir_LT_slope': 0.0022101130671006303, 'red_CCDC_COS1': -0.017686873001478757, 'red_CCDC_COS2': -0.009228760029235727, 'red_CCDC_COS3': 0.0021891342326471326, 'red_CCDC_INTP': 0.6499935440941387, 'red_CCDC_SIN1': 0, 'red_CCDC_SIN2': 0, 'red_CCDC_SIN3': 0.0075308854174646125, 'red_CCDC_SLP': -0.0002711900654344616, 'red_CCDC_fitSlope': -0.0003031356725077261, 'red_CCDC_fitted': 0.10733553610006208, 'red_LT_diff': 0.03220789750907151, 'red_LT_dur': 38, 'red_LT_fitted': 0.09918175459643366, 'red_LT_mag': 0.07649375658404485, 'red_LT_slope': 0.0020129935943169696, 'sinAspect': 0.8788565138524288, 'slope': 12.041433636067454, 'swir1_CCDC_COS1': -0.02042365977769924, 'swir1_CCDC_COS2': -0.01726813149323618, 'swir1_CCDC_COS3': 0.006106392840114464, 'swir1_CCDC_INTP': -0.043056684006064744, 'swir1_CCDC_SIN1': 0.005234225313389113, 'swir1_CCDC_SIN2': 0, 'swir1_CCDC_SIN3': 0.0001827798667910799, 'swir1_CCDC_SLP': 0.0001413183292815583, 'swir1_CCDC_fitSlope': 0.00015796532485728987, 'swir1_CCDC_fitted': 0.2397247775424021, 'swir1_LT_diff': 0.04550832457955084, 'swir1_LT_dur': 38, 'swir1_LT_fitted': 0.20528305791695745, 'swir1_LT_mag': 0.10808227087643324, 'swir1_LT_slope': 0.0028442702862219275, 'swir2_CCDC_COS1': -0.014010054785270424, 'swir2_CCDC_COS2': -0.012052709923132447, 'swir2_CCDC_COS3': 0.0010937765668526164, 'swir2_CCDC_INTP': -0.3429118378561953, 'swir2_CCDC_SIN1': 0.00524296953722785, 'swir2_CCDC_SIN2': 0, 'swir2_CCDC_SIN3': 0, 'swir2_CCDC_SLP': 0.000242157789185296, 'swir2_CCDC_fitSlope': 0.00027068345649045034, 'swir2_CCDC_fitted': 0.14165186947953606, 'swir2_LT_diff': 0.03309886145872704, 'swir2_LT_dur': 38, 'swir2_LT_fitted': 0.10838224009787148, 'swir2_LT_mag': 0.07860979596447673, 'swir2_LT_slope': 0.00206867884117044, 'wetness_LT_diff': -0.030305840886648193, 'wetness_LT_dur': 38, 'wetness_LT_fitted': -0.1043473640390945, 'wetness_LT_mag': -0.07197637210578946, 'wetness_LT_slope': -0.001894115055415512, 'year': 2001.024658203125}}\n",
      "Done\n"
     ]
    }
   ],
   "source": [
    "# First we have to set up many of the same pieces as Module 4 (and 5.1)\n",
    "\n",
    "# Bring in raw TS data\n",
    "timeSyncData = ee.FeatureCollection(timeSync_featureCollection)\n",
    "timeSync_fields = timeSyncData.first().toDictionary().keys().getInfo()\n",
    "# Now lets bring in all training data and prep it for modeling\n",
    "assets = ee.data.listAssets({'parent': export_timeSync_folder})['assets']\n",
    "\n",
    "# You may need to change the permissions for viewing model outputs in geeViz\n",
    "# Uncomment this if needed\n",
    "# for asset in assets:aml.updateACL(asset['name'],writers = [],all_users_can_read = True,readers = [])\n",
    "\n",
    "# Read in each year of extracted TimeSync data\n",
    "training_data = ee.FeatureCollection([ee.FeatureCollection(asset['name']) for asset in assets]).flatten()\n",
    "\n",
    "# Bring in existing LCMS data for the class names, numbers, and colors\n",
    "lcms_viz_dict = ee.ImageCollection(\"USFS/GTAC/LCMS/v2020-6\").first().toDictionary().getInfo()\n",
    "                                             \n",
    "print('LCMS class code, names, and colors:',lcms_viz_dict)\n",
    "print(training_data.first().getInfo())\n",
    "\n",
    "# Get the field names for prediction\n",
    "# Find any field that was not in the original TimeSync data and assume that is a predictor variable\n",
    "all_fields = training_data.first().toDictionary().keys().getInfo()\n",
    "predictor_field_names = [field for field in all_fields if field not in timeSync_fields]\n",
    "\n",
    "# Filter out any non null values (any training plot with missing predictor data will cause the model to fail entirely)\n",
    "training_data = training_data.filter(ee.Filter.notNull(predictor_field_names))\n",
    "\n",
    "\n",
    "print('Done')"
   ]
  },
  {
   "cell_type": "markdown",
   "id": "d3ea0a0e-0ba2-4173-a105-0dbf8b6e3a37",
   "metadata": {},
   "source": [
    "* This next code block combines many steps from Module 4\n",
    "* For a more detailed look at these steps, refer to module 4\n"
   ]
  },
  {
   "cell_type": "code",
<<<<<<< HEAD:5.2-Model_Application.ipynb
   "execution_count": 40,
=======
   "execution_count": 6,
>>>>>>> 7b44e4d3bdd03ae031e4cf4d616a9e6b49428beb:deprecated_5.2-Model_Application.ipynb
   "id": "280d0df3-f357-43d5-9983-f738e7e95ce7",
   "metadata": {},
   "outputs": [
    {
     "name": "stdout",
     "output_type": "stream",
     "text": [
      "Interpolating composite time images\n",
      "Available terrain bands: ['elevation', 'slope', 'sinAspect', 'cosAspect', 'TPI_11', 'TPI_21', 'TPI_41']\n",
      "Available LandTrendr Predictor Variables: ['NBR_LT_dur', 'NBR_LT_fitted', 'NBR_LT_mag', 'NBR_LT_slope', 'NBR_LT_diff', 'NDVI_LT_dur', 'NDVI_LT_fitted', 'NDVI_LT_mag', 'NDVI_LT_slope', 'NDVI_LT_diff', 'brightness_LT_dur', 'brightness_LT_fitted', 'brightness_LT_mag', 'brightness_LT_slope', 'brightness_LT_diff', 'greenness_LT_dur', 'greenness_LT_fitted', 'greenness_LT_mag', 'greenness_LT_slope', 'greenness_LT_diff', 'nir_LT_dur', 'nir_LT_fitted', 'nir_LT_mag', 'nir_LT_slope', 'nir_LT_diff', 'red_LT_dur', 'red_LT_fitted', 'red_LT_mag', 'red_LT_slope', 'red_LT_diff', 'swir1_LT_dur', 'swir1_LT_fitted', 'swir1_LT_mag', 'swir1_LT_slope', 'swir1_LT_diff', 'swir2_LT_dur', 'swir2_LT_fitted', 'swir2_LT_mag', 'swir2_LT_slope', 'swir2_LT_diff', 'wetness_LT_dur', 'wetness_LT_fitted', 'wetness_LT_mag', 'wetness_LT_slope', 'wetness_LT_diff']\n",
      "Available CCDC Predictor Variables: ['year', 'blue_CCDC_INTP', 'blue_CCDC_SLP', 'blue_CCDC_COS1', 'blue_CCDC_SIN1', 'blue_CCDC_COS2', 'blue_CCDC_SIN2', 'blue_CCDC_COS3', 'blue_CCDC_SIN3', 'green_CCDC_INTP', 'green_CCDC_SLP', 'green_CCDC_COS1', 'green_CCDC_SIN1', 'green_CCDC_COS2', 'green_CCDC_SIN2', 'green_CCDC_COS3', 'green_CCDC_SIN3', 'red_CCDC_INTP', 'red_CCDC_SLP', 'red_CCDC_COS1', 'red_CCDC_SIN1', 'red_CCDC_COS2', 'red_CCDC_SIN2', 'red_CCDC_COS3', 'red_CCDC_SIN3', 'nir_CCDC_INTP', 'nir_CCDC_SLP', 'nir_CCDC_COS1', 'nir_CCDC_SIN1', 'nir_CCDC_COS2', 'nir_CCDC_SIN2', 'nir_CCDC_COS3', 'nir_CCDC_SIN3', 'swir1_CCDC_INTP', 'swir1_CCDC_SLP', 'swir1_CCDC_COS1', 'swir1_CCDC_SIN1', 'swir1_CCDC_COS2', 'swir1_CCDC_SIN2', 'swir1_CCDC_COS3', 'swir1_CCDC_SIN3', 'swir2_CCDC_INTP', 'swir2_CCDC_SLP', 'swir2_CCDC_COS1', 'swir2_CCDC_SIN1', 'swir2_CCDC_COS2', 'swir2_CCDC_SIN2', 'swir2_CCDC_COS3', 'swir2_CCDC_SIN3', 'NDVI_CCDC_INTP', 'NDVI_CCDC_SLP', 'NDVI_CCDC_COS1', 'NDVI_CCDC_SIN1', 'NDVI_CCDC_COS2', 'NDVI_CCDC_SIN2', 'NDVI_CCDC_COS3', 'NDVI_CCDC_SIN3', 'NDVI_CCDC_fitted', 'blue_CCDC_fitted', 'green_CCDC_fitted', 'nir_CCDC_fitted', 'red_CCDC_fitted', 'swir1_CCDC_fitted', 'swir2_CCDC_fitted', 'NDVI_CCDC_fitSlope', 'blue_CCDC_fitSlope', 'green_CCDC_fitSlope', 'nir_CCDC_fitSlope', 'red_CCDC_fitSlope', 'swir1_CCDC_fitSlope', 'swir2_CCDC_fitSlope']\n",
      "Done\n"
     ]
    }
   ],
   "source": [
    "# First, we will bring in LandTrendr data for each year\n",
    "\n",
    "landTrendrCollection = ee.ImageCollection(export_landTrendr_collection)\n",
    "\n",
    "landTrendrCollectionInfo = landTrendrCollection.first().toDictionary().getInfo()\n",
    "\n",
    "# View exported LT output\n",
    "# Convert stacked outputs into collection of fitted, magnitude, slope, duration, etc values for each year\n",
    "# While the fitted LandTrendr value is generally of most importance to our models, \n",
    "# LandTrendr segment duration, slope, and magnitude of change can also help our models\n",
    "lt_fit = changeDetectionLib.batchSimpleLTFit(landTrendrCollection,landTrendrCollectionInfo['startYear'],landTrendrCollectionInfo['endYear'],None,bandPropertyName='band',arrayMode=True)\n",
    "\n",
    "\n",
    "# Bring in raw CCDC assets\n",
    "ccdcTiles = ee.ImageCollection(export_ccdc_collection)\n",
    "composites = ee.ImageCollection(export_composite_collection)\n",
    "\n",
    "# CCDC date props\n",
    "startYear = 1984\n",
    "endYear = 2023\n",
    "startJulian = 1\n",
    "endJulian = 365\n",
    "\n",
    "ccdcImg = ccdcTiles.mosaic()\n",
    "#Specify which harmonics to use when predicting the CCDC model\n",
    "#CCDC exports the first 3 harmonics (1 cycle/yr, 2 cycles/yr, and 3 cycles/yr)\n",
    "#If you only want to see yearly patterns, specify [1]\n",
    "#If you would like a tighter fit in the predicted value, include the second or third harmonic as well [1,2,3]\n",
    "whichHarmonics = [1,2,3]\n",
    "\n",
    "#Whether to fill gaps between segments' end year and the subsequent start year to the break date\n",
    "fillGaps = False\n",
    "\n",
    "# Proportion of a year segment can be extrapolated\n",
    "# This can be important if the CCDC run had a break toward the end of the available raw data, but has not fit a \n",
    "# new model. This would introduce a null value past that break date if set to 0\n",
    "# By setting to e.g. 0.3, a segment at the end can be extended by 0.3 of a year before it will result in a null value\n",
    "tEndExtrapolationPeriod = 0.3\n",
    "\n",
    "\n",
    "# If annualizeWithCompositeDates = False, this month and day will be used as the time to pull CCDC values\n",
    "yearStartMonth = 4\n",
    "yearStartDay = 1\n",
    "\n",
    "\n",
    "# When annualizing CCDC outputs, we can pull the CCDC fitted, harmonic model coefficients, \n",
    "# and fitted difference from the previous year using a set date (e.g. April 1) or we can use the date from within our annual\n",
    "# composites to increase the chance the CCDC output matches the timing of the composite values used within\n",
    "# LandTrendr. In this example, we can bring in the annual composites and pull the dates for annualizing CCDC \n",
    "# by setting annualizeWithCompositeDates = True\n",
    "# When there are missing dates for composites, we can linearly interpolate/extrapolate dates so we can get \n",
    "# a value from CCDC for that year.\n",
    "# set interpolateCompositeDates = True to do so. This will slow down computing, so you can set it to False for testing runs\n",
    "# For model training data extraction, we generally do not want to include interpolated values, so leaving \n",
    "# interpolateCompositeDates = False is best\n",
    "# Since we are now applying the model, we will want mapped values over interpolated values, so we will set interpolateCompositeDates = True\n",
    "# We will provide a separate CCDC predictor stack without interpolation for on-the-fly map output viewing so outputs can successfully \n",
    "# render in a semi-timely manner\n",
    "annualizeWithCompositeDates = True\n",
    "compositeCollection = composites\n",
    "interpolateCompositeDates = True\n",
    "\n",
    "# Use interpolated for exporting\n",
    "annualSegCoeffs_forExport = changeDetectionLib.annualizeCCDC(ccdcImg, startYear, endYear, startJulian, endJulian, tEndExtrapolationPeriod, \n",
    "  yearStartMonth, yearStartDay, annualizeWithCompositeDates, compositeCollection,interpolateCompositeDates)\n",
    "annualCCDC_forExport = changeDetectionLib.getFitSlopeCCDC(annualSegCoeffs_forExport, startYear, endYear)\n",
    "\n",
    "annualSegCoeffs_forViewing = changeDetectionLib.annualizeCCDC(ccdcImg, startYear, endYear, startJulian, endJulian, tEndExtrapolationPeriod, \n",
    "  yearStartMonth, yearStartDay, annualizeWithCompositeDates, compositeCollection,False)\n",
    "annualCCDC_forViewing = changeDetectionLib.getFitSlopeCCDC(annualSegCoeffs_forViewing, startYear, endYear)\n",
    "\n",
    "\n",
    "\n",
    "# Bring in terrain data\n",
    "terrainStack = []\n",
    "\n",
    "# Can use any elevation data\n",
    "# Will use SRTM for this example\n",
    "# Resampling must be set to bicubic or bilinear or there will be artifacts in terrain derivatives\n",
    "# Can use 'USGS/SRTMGL1_003' image for global applications\n",
    "elevation = ee.Image('USGS/3DEP/10m').resample('bicubic')\n",
    "slope = ee.Terrain.slope(elevation)\n",
    "aspect = ee.Terrain.aspect(elevation)\n",
    "sinAspect = aspect.sin().rename('sinAspect')\n",
    "cosAspect = aspect.cos().rename('cosAspect')\n",
    "\n",
    "terrainStack.extend([elevation,slope,sinAspect,cosAspect])\n",
    "\n",
    "# A very simple algorithm for elevation position\n",
    "# Good at finding ridges and depressions\n",
    "def tpi(elevation,n):\n",
    "    return elevation.subtract(elevation.focalMean(n)).rename([f'TPI_{int(n*2)}'])\n",
    "\n",
    "# Get TPI for 11 and 21 pixel diameter circular kernels\n",
    "for r in [5.5,10.5,20.5]:\n",
    "    tpiR = tpi(elevation,r)\n",
    "    terrainStack.append(tpiR)\n",
    "\n",
    "# Stack all terrain data\n",
    "terrainStack = ee.Image.cat(terrainStack)\n",
    "print('Available terrain bands:',terrainStack.bandNames().getInfo())\n",
    "print('Available LandTrendr Predictor Variables:',lt_fit.first().bandNames().getInfo())\n",
    "print('Available CCDC Predictor Variables:',annualCCDC_forViewing.first().bandNames().getInfo())\n",
    "\n",
    "# Set up function to get predictor stack for a given year\n",
    "def getPredictorStack(yr,interpolateCCDCDates = True):\n",
    "     # Filter the LandTrendr and CCDC data for the given year\n",
    "    lt_yr = lt_fit.filter(ee.Filter.calendarRange(yr,yr,'year')).first()\n",
    "    \n",
    "    if interpolateCCDCDates:\n",
    "        ccdc_yr = annualCCDC_forExport.filter(ee.Filter.calendarRange(yr,yr,'year')).first()\n",
    "    \n",
    "    else:\n",
    "        ccdc_yr = annualCCDC_forViewing.filter(ee.Filter.calendarRange(yr,yr,'year')).first()\n",
    "\n",
    "    # Get a stack of all predictor bands\n",
    "    extractionStack = ee.Image.cat([lt_yr,ccdc_yr,terrainStack])\n",
    "    return extractionStack.set('system:time_start',ee.Date.fromYMD(yr,6,1).millis())\n",
    "\n",
    "\n",
    "\n",
    "\n",
    "print('Done')"
   ]
  },
  {
   "cell_type": "markdown",
   "id": "91edc81d-5926-4649-a22f-b42bf12a56e3",
   "metadata": {},
   "source": [
    "* Repeated step from Module 4\n",
    "* Now, we'll crosswalk the training fields to numeric codes\n",
    "* The TimeSync fields are a string by default\n",
    "* They must be a number for modeling"
   ]
  },
  {
   "cell_type": "code",
<<<<<<< HEAD:5.2-Model_Application.ipynb
   "execution_count": 41,
=======
   "execution_count": 10,
>>>>>>> 7b44e4d3bdd03ae031e4cf4d616a9e6b49428beb:deprecated_5.2-Model_Application.ipynb
   "id": "b7a0cacc-72f5-4171-b1ba-eb977b04dbdb",
   "metadata": {},
   "outputs": [
    {
     "name": "stdout",
     "output_type": "stream",
     "text": [
      "Crosswalking: Land_Cover\n",
      "Crosswalking: Land_Use\n",
      "Crosswalking: Change\n",
      "Done\n"
     ]
    }
   ],
   "source": [
    "# Set up lookup dictionaries to convert the names to numeric codes\n",
    "land_cover_name_code_dict = ee.Dictionary({'TREES':1,\n",
    "                             'TSHRUBS-TRE':2,\n",
    "                             'SHRUBS-TRE':3,\n",
    "                             'GRASS-TREE':4,\n",
    "                             'BARREN-TRE':5,\n",
    "                             'TSHRUBS':6,\n",
    "                             'SHRUBS':7,\n",
    "                             'GRASS-SHRU':8,\n",
    "                             'BARREN-SHR':9,\n",
    "                             'GRASS':10,\n",
    "                             'BARREN-GRA':11,\n",
    "                             'BARREN-IMP':12,\n",
    "                             'BARREN-IMP':12,\n",
    "                             'WATER':14\n",
    "                            })\n",
    "land_use_name_code_dict = ee.Dictionary({'Agriculture':1,\n",
    "                           'Developed':2,\n",
    "                           'Forest':3,\n",
    "                           'Non-forest Wetland':4,\n",
    "                           'Other':5,\n",
    "                           'Rangeland':6\n",
    "                          })\n",
    "\n",
    "change_code_dict = ee.Dictionary({'Debris': 3, \n",
    "                                  'Fire': 3, \n",
    "                                  'Growth/Recovery': 4, \n",
    "                                  'Harvest': 3, 'Hydrology': 3, \n",
    "                                  'Mechanical': 3, \n",
    "                                  'Other': 3, \n",
    "                                  'Spectral Decline': 2, \n",
    "                                  'Stable': 1, \n",
    "                                  'Structural Decline': 2, \n",
    "                                  'Wind/Ice': 3})\n",
    "\n",
    "reference_field_dict = {'Land_Cover':{'field':'DOM_SEC_LC','name_code_dict':land_cover_name_code_dict},\n",
    "                        'Land_Use':{'field':'DOM_LU','name_code_dict':land_use_name_code_dict},\n",
    "                        'Change':{'field':'CP','name_code_dict':change_code_dict,\n",
    "                                  'fields':['Slow Loss', 'Fast Loss', 'Gain']}\n",
    "                       }\n",
    "# Make a function that will get the code for a given name and set it\n",
    "# We could also use the remap function to accomplish this\n",
    "def set_class_code(plot,product):\n",
    "    name_fieldName = reference_field_dict[product]['field']\n",
    "    code_fieldName = ee.String(name_fieldName).cat('_Code')\n",
    "    name = ee.String(plot.get(name_fieldName))\n",
    "    code = reference_field_dict[product]['name_code_dict'].get(name)\n",
    "    plot = plot.set(code_fieldName,code)\n",
    "    return plot\n",
    "                    \n",
    "                    \n",
    "    # print(name_fieldName,code_fieldName.getInfo(),name.getInfo(),code.getInfo())\n",
    "            \n",
    "# set_class_code(training_data.first(),'Land_Cover')\n",
    "for product in list(reference_field_dict.keys()):\n",
    "    print('Crosswalking:',product)\n",
    "    training_data = training_data.map(lambda f:set_class_code(f,product))\n",
    "\n",
    "print('Done')"
   ]
  },
  {
   "cell_type": "markdown",
   "id": "064fafc1-33a8-49e8-aceb-5c978c2a531f",
   "metadata": {},
   "source": [
    "* We will now bring in the model options table from 5.1\n",
    "* We will be using the non-correlated top 30 "
   ]
  },
  {
   "cell_type": "code",
<<<<<<< HEAD:5.2-Model_Application.ipynb
   "execution_count": 42,
=======
   "execution_count": 12,
>>>>>>> 7b44e4d3bdd03ae031e4cf4d616a9e6b49428beb:deprecated_5.2-Model_Application.ipynb
   "id": "edbd8f4c-b85c-4f36-b839-8da5f469818c",
   "metadata": {},
   "outputs": [
    {
     "data": {
      "text/html": [
       "<div>\n",
       "<style scoped>\n",
       "    .dataframe tbody tr th:only-of-type {\n",
       "        vertical-align: middle;\n",
       "    }\n",
       "\n",
       "    .dataframe tbody tr th {\n",
       "        vertical-align: top;\n",
       "    }\n",
       "\n",
       "    .dataframe thead th {\n",
       "        text-align: right;\n",
       "    }\n",
       "</style>\n",
       "<table border=\"1\" class=\"dataframe\">\n",
       "  <thead>\n",
       "    <tr style=\"text-align: right;\">\n",
       "      <th></th>\n",
       "      <th>Product Name</th>\n",
       "      <th>Model Name</th>\n",
       "      <th>OOB Acc</th>\n",
       "      <th>Overall Acc</th>\n",
       "      <th>Balanced Acc</th>\n",
       "      <th>Kappa</th>\n",
       "      <th>Var Imp</th>\n",
       "    </tr>\n",
       "  </thead>\n",
       "  <tbody>\n",
       "    <tr>\n",
       "      <th>3</th>\n",
       "      <td>Change</td>\n",
       "      <td>Non-correlated Predictors Top 30</td>\n",
<<<<<<< HEAD:5.2-Model_Application.ipynb
       "      <td>0.892001</td>\n",
       "      <td>0.833756</td>\n",
       "      <td>0.286863</td>\n",
       "      <td>0.099097</td>\n",
       "      <td>['swir2_LT_slope', 'swir2_LT_fitted', 'NDVI_LT...</td>\n",
=======
       "      <td>0.894764</td>\n",
       "      <td>0.818680</td>\n",
       "      <td>0.271469</td>\n",
       "      <td>0.048109</td>\n",
       "      <td>['swir2_LT_fitted', 'swir2_LT_slope', 'NDVI_LT...</td>\n",
>>>>>>> 7b44e4d3bdd03ae031e4cf4d616a9e6b49428beb:deprecated_5.2-Model_Application.ipynb
       "    </tr>\n",
       "    <tr>\n",
       "      <th>7</th>\n",
       "      <td>Land_Cover</td>\n",
       "      <td>Non-correlated Predictors Top 30</td>\n",
<<<<<<< HEAD:5.2-Model_Application.ipynb
       "      <td>0.973405</td>\n",
       "      <td>0.707922</td>\n",
       "      <td>0.290145</td>\n",
       "      <td>0.512691</td>\n",
       "      <td>['red_LT_fitted', 'green_CCDC_fitted', 'slope'...</td>\n",
=======
       "      <td>0.976466</td>\n",
       "      <td>0.735112</td>\n",
       "      <td>0.327662</td>\n",
       "      <td>0.503380</td>\n",
       "      <td>['red_LT_fitted', 'swir2_CCDC_fitted', 'NBR_LT...</td>\n",
>>>>>>> 7b44e4d3bdd03ae031e4cf4d616a9e6b49428beb:deprecated_5.2-Model_Application.ipynb
       "    </tr>\n",
       "    <tr>\n",
       "      <th>11</th>\n",
       "      <td>Land_Use</td>\n",
       "      <td>Non-correlated Predictors Top 30</td>\n",
<<<<<<< HEAD:5.2-Model_Application.ipynb
       "      <td>0.994287</td>\n",
       "      <td>0.815904</td>\n",
       "      <td>0.627273</td>\n",
       "      <td>0.697383</td>\n",
       "      <td>['red_LT_fitted', 'red_CCDC_fitted', 'NDVI_CCD...</td>\n",
=======
       "      <td>0.994760</td>\n",
       "      <td>0.764888</td>\n",
       "      <td>0.545592</td>\n",
       "      <td>0.625888</td>\n",
       "      <td>['red_LT_fitted', 'blue_CCDC_fitted', 'swir2_C...</td>\n",
>>>>>>> 7b44e4d3bdd03ae031e4cf4d616a9e6b49428beb:deprecated_5.2-Model_Application.ipynb
       "    </tr>\n",
       "  </tbody>\n",
       "</table>\n",
       "</div>"
      ],
      "text/plain": [
       "   Product Name                        Model Name   OOB Acc  Overall Acc  \\\n",
<<<<<<< HEAD:5.2-Model_Application.ipynb
       "3        Change  Non-correlated Predictors Top 30  0.892001     0.833756   \n",
       "7    Land_Cover  Non-correlated Predictors Top 30  0.973405     0.707922   \n",
       "11     Land_Use  Non-correlated Predictors Top 30  0.994287     0.815904   \n",
       "\n",
       "    Balanced Acc     Kappa                                            Var Imp  \n",
       "3       0.286863  0.099097  ['swir2_LT_slope', 'swir2_LT_fitted', 'NDVI_LT...  \n",
       "7       0.290145  0.512691  ['red_LT_fitted', 'green_CCDC_fitted', 'slope'...  \n",
       "11      0.627273  0.697383  ['red_LT_fitted', 'red_CCDC_fitted', 'NDVI_CCD...  "
=======
       "3        Change  Non-correlated Predictors Top 30  0.894764     0.818680   \n",
       "7    Land_Cover  Non-correlated Predictors Top 30  0.976466     0.735112   \n",
       "11     Land_Use  Non-correlated Predictors Top 30  0.994760     0.764888   \n",
       "\n",
       "    Balanced Acc     Kappa                                            Var Imp  \n",
       "3       0.271469  0.048109  ['swir2_LT_fitted', 'swir2_LT_slope', 'NDVI_LT...  \n",
       "7       0.327662  0.503380  ['red_LT_fitted', 'swir2_CCDC_fitted', 'NBR_LT...  \n",
       "11      0.545592  0.625888  ['red_LT_fitted', 'blue_CCDC_fitted', 'swir2_C...  "
>>>>>>> 7b44e4d3bdd03ae031e4cf4d616a9e6b49428beb:deprecated_5.2-Model_Application.ipynb
      ]
     },
     "metadata": {},
     "output_type": "display_data"
    },
    {
     "name": "stdout",
     "output_type": "stream",
     "text": [
      "Done\n"
     ]
    }
   ],
   "source": [
    "model_options = pd.read_csv(model_options_csv_filename)\n",
    "\n",
    "# Filter out to only have rows from the non correlated top 30 predictors\n",
    "# Any subset of predictors could be used here, but this one should work well\n",
    "model_options = model_options[model_options['Model Name'] == 'Non-correlated Predictors Top 30']\n",
    "\n",
    "display(model_options)\n",
    "\n",
    "print('Done')"
   ]
  },
  {
   "cell_type": "markdown",
   "id": "093ec002-b93f-4ae7-bce3-369b549b9f02",
   "metadata": {},
   "source": [
<<<<<<< HEAD:5.2-Model_Application.ipynb
    "**Apply Model and Look at Map**\n",
=======
    "## Apply Model and Look at Map\n",
>>>>>>> 7b44e4d3bdd03ae031e4cf4d616a9e6b49428beb:deprecated_5.2-Model_Application.ipynb
    "* We will finally apply the model and look at a map output for a single year\n",
    "* This is being performed on-the-fly, so creating the map and rendering the outputs can be quite slow"
   ]
  },
  {
   "cell_type": "code",
<<<<<<< HEAD:5.2-Model_Application.ipynb
   "execution_count": 43,
=======
   "execution_count": 13,
>>>>>>> 7b44e4d3bdd03ae031e4cf4d616a9e6b49428beb:deprecated_5.2-Model_Application.ipynb
   "id": "59e7e34c-c663-4c73-a59e-4a389154bad7",
   "metadata": {},
   "outputs": [
    {
     "name": "stdout",
     "output_type": "stream",
     "text": [
      "['Land_Cover']\n",
      "Adding layer: Land Cover 2017\n",
      "['Land_Use']\n",
      "Adding layer: Land Use 2017\n",
      "['Change']\n",
      "Adding layer: Change 2017\n",
      "Starting webmap\n",
<<<<<<< HEAD:5.2-Model_Application.ipynb
      "Using default refresh token for geeView: /home/jupyter/.config/earthengine/credentials\n",
      "Local web server at: http://localhost:1235/geeView/ already serving.\n",
      "cwd /home/jupyter/lcms-training\n",
      "Workbench Proxy URL: https://559cdf0b5fe9790f-dot-us-central1.notebooks.googleusercontent.com/proxy/1235/geeView/?accessToken=None\n"
=======
      "Using default refresh token for geeView: C:\\Users\\ianho/.config/earthengine/credentials\n",
      "Starting local web server at: http://localhost:1235/geeView/\n",
      "HTTP server command: \"c:\\Python311\\python.exe\" -m http.server  1235\n",
      "Done\n",
      "cwd c:\\RCR\\quickLabsTrainingMaterials\\lcms-training\n"
>>>>>>> 7b44e4d3bdd03ae031e4cf4d616a9e6b49428beb:deprecated_5.2-Model_Application.ipynb
     ]
    },
    {
     "data": {
      "text/html": [
       "\n",
       "        <iframe\n",
       "            width=\"100%\"\n",
       "            height=\"525px\"\n",
<<<<<<< HEAD:5.2-Model_Application.ipynb
       "            src=\"https://559cdf0b5fe9790f-dot-us-central1.notebooks.googleusercontent.com/proxy/1235/geeView/?accessToken=None\"\n",
=======
       "            src=\"http://localhost:1235/geeView/?accessToken=ya29.a0AfB_byAdKN17DpnjCUhwBuxt4RKOBVCn2FZrkh2EY2iafGeK36KMbGz-99h2p3vu14VVy8YqOM-XF_1tPbLOh72oVoJMqSfpSeqHc8fqi3Pe1dNNqCjeEPLLK5t4DuFkds0UwbSuwCXPGrqHhQj6FsTZiAhmiq8DcwqxHq5-ez2caCgYKAY0SARISFQGOcNnCo7AF6L8YwpR4KOzlf7GqbA0179\"\n",
>>>>>>> 7b44e4d3bdd03ae031e4cf4d616a9e6b49428beb:deprecated_5.2-Model_Application.ipynb
       "            frameborder=\"0\"\n",
       "            allowfullscreen\n",
       "            \n",
       "        ></iframe>\n",
       "        "
      ],
      "text/plain": [
<<<<<<< HEAD:5.2-Model_Application.ipynb
       "<IPython.lib.display.IFrame at 0x7faeb5158df0>"
=======
       "<IPython.lib.display.IFrame at 0x2364d8fd790>"
>>>>>>> 7b44e4d3bdd03ae031e4cf4d616a9e6b49428beb:deprecated_5.2-Model_Application.ipynb
      ]
     },
     "metadata": {},
     "output_type": "display_data"
    },
    {
     "name": "stdout",
     "output_type": "stream",
     "text": [
      "Done\n"
     ]
<<<<<<< HEAD:5.2-Model_Application.ipynb
    },
    {
     "name": "stderr",
     "output_type": "stream",
     "text": [
      "127.0.0.1 - - [07/Sep/2023 19:09:59] \"GET /geeView/js/runGeeViz.js HTTP/1.1\" 200 -\n"
     ]
=======
>>>>>>> 7b44e4d3bdd03ae031e4cf4d616a9e6b49428beb:deprecated_5.2-Model_Application.ipynb
    }
   ],
   "source": [
    "Map.clearMap()\n",
    "# Not let's train and apply a RandomForest model\n",
    "\n",
    "# Set some parameters\n",
    "nTrees = 50 # Number of trees to use in the Random Forest model. > 50 can result in memory errors and generally doesn't help the model much\n",
    "seed = 999 # Set a seed to ensure the same model is recreated with each run. Change this if a new one is needed\n",
    "apply_year = 2017 # Year to apply model to\n",
    "\n",
    "# Get predictor stack for apply year\n",
    "predictor_stack = getPredictorStack(apply_year,interpolateCCDCDates = False)\n",
    "\n",
    "rf_models = {}\n",
    "def fit_rf(product_name):\n",
    "    product_title = product_name.replace('_',' ')\n",
    "    \n",
    "    # Set up RF model \n",
    "    rf = ee.Classifier.smileRandomForest(numberOfTrees = nTrees, variablesPerSplit = None, minLeafPopulation = 1, bagFraction = 0.5, maxNodes = None, seed = seed)\n",
    "    \n",
    "    # Pull predictors from table from 5.1\n",
    "    # Some parsing is needed to read it in properly\n",
    "    predictor_variable_names = model_options[model_options['Product Name'] == product_name]['Var Imp'].values[0]\n",
    "    predictor_variable_names = predictor_variable_names[1:-1]\n",
    "    predictor_variable_names=predictor_variable_names.replace(\"'\",\"\").split(', ')\n",
    "   \n",
    "    \n",
    "    # Fit the RF model using all predictors\n",
    "    rf = rf.train(training_data, reference_field_dict[product_name]['field']+'_Code', predictor_variable_names)\n",
    "    rf_models[product_name] = rf\n",
    "    \n",
    "    # Apply Model and set the same properties as the LCMS official GEE asset for easy viewing\n",
    "    predicted = predictor_stack.classify(rf,product_name).set(lcms_viz_dict)\n",
    "  \n",
    "    # Visualize the output\n",
    "    Map.addLayer(predicted,{'autoViz':True},f'{product_title} {apply_year}')\n",
    "\n",
    "for product in ['Land_Cover','Land_Use','Change']:\n",
    "    fit_rf(product)\n",
    "\n",
    "Map.turnOnInspector()\n",
    "Map.view()\n",
    "\n",
    "\n",
    "print('Done')"
   ]
  },
  {
   "cell_type": "markdown",
   "id": "c14ca83c-a3a2-410c-80c3-a3f0c469235c",
   "metadata": {},
   "source": [
<<<<<<< HEAD:5.2-Model_Application.ipynb
    "**Set Model Output Mode**\n",
=======
    "### Set Model Output Mode\n",
>>>>>>> 7b44e4d3bdd03ae031e4cf4d616a9e6b49428beb:deprecated_5.2-Model_Application.ipynb
    "* Now we will explore the different output modes available for GEE classifiers\n",
    "* Random Forests supports many output modes\n",
    "* From the GEE docs:\n",
    "* CLASSIFICATION (default): The output is the class number.\n",
    "\n",
    "* REGRESSION: The output is the result of standard regression.\n",
    "\n",
    "* PROBABILITY: The output is the probability that the classification is correct.\n",
    "\n",
    "* MULTIPROBABILITY: The output is an array of probabilities that each class is correct ordered by classes seen.\n",
    "\n",
    "* RAW: The output is an array of the internal representation of the classification process. For example, the raw votes in multi-decision tree models.\n",
    "\n",
    "* RAW_REGRESSION: The output is an array of the internal representation of the regression process. For example, the raw predictions of multiple regression trees.\n",
    "\n",
    "* Not all classifiers support modes other than CLASSIFICATION. Refer to the image below from [Noel Gorelick's intro to machine learning in gee](https://docs.google.com/presentation/d/1zha7dCuy7Rq43OFDQOXbwWbDP2fAv5aOpgdzhno7IhU/edit#slide=id.gff707151b9_21_352) slides for what modes work with which models.\n",
    "![GEE classifier output modes](img/GEE_Classifier_Output_Modes.png)\n",
    "\n",
    "\n",
    "* We will now apply the Land Cover model we fit earlier using CLASSIFICATION (which chooses the class with the most votes in RF)\n",
    "* and then we will look at MULTIPROBABILITY (which stores the vote proportion for each class)\n",
    "\n",
    "* Query the map to see how the two relate\n",
    "* The MULTIPROBABILITY layer will yield a list\n"
   ]
  },
  {
   "cell_type": "code",
<<<<<<< HEAD:5.2-Model_Application.ipynb
   "execution_count": 44,
=======
   "execution_count": 14,
>>>>>>> 7b44e4d3bdd03ae031e4cf4d616a9e6b49428beb:deprecated_5.2-Model_Application.ipynb
   "id": "36e3258e-27ae-455e-86af-8bf97de55cba",
   "metadata": {},
   "outputs": [
    {
     "name": "stdout",
     "output_type": "stream",
     "text": [
      "Current mode: CLASSIFICATION\n",
      "Adding layer: CLASSIFICATION Land Cover 2017\n",
      "Reset mode: MULTIPROBABILITY\n",
      "Adding layer: MULTIPROBABILITY Land Cover 2017\n",
      "Starting webmap\n",
      "Using default refresh token for geeView: /home/jupyter/.config/earthengine/credentials\n",
      "Local web server at: http://localhost:1235/geeView/ already serving.\n",
<<<<<<< HEAD:5.2-Model_Application.ipynb
      "cwd /home/jupyter/lcms-training\n",
      "Workbench Proxy URL: https://559cdf0b5fe9790f-dot-us-central1.notebooks.googleusercontent.com/proxy/1235/geeView/?accessToken=None\n"
=======
      "cwd c:\\RCR\\quickLabsTrainingMaterials\\lcms-training\n"
>>>>>>> 7b44e4d3bdd03ae031e4cf4d616a9e6b49428beb:deprecated_5.2-Model_Application.ipynb
     ]
    },
    {
     "data": {
      "text/html": [
       "\n",
       "        <iframe\n",
       "            width=\"100%\"\n",
       "            height=\"525px\"\n",
<<<<<<< HEAD:5.2-Model_Application.ipynb
       "            src=\"https://559cdf0b5fe9790f-dot-us-central1.notebooks.googleusercontent.com/proxy/1235/geeView/?accessToken=None\"\n",
=======
       "            src=\"http://localhost:1235/geeView/?accessToken=ya29.a0AfB_byASdRFgemu160f7Iu1ttk8x7oYoZTti7ySfY4FqzNE0158MIvxIYLDDA2n6yExaCMsfc-fqgEW7AQh3y4IL6Mf3A46PtYM3RIpTJ7G9Y56zOkzpK3y0sEPw_Lfid9Lb-RYAFYqXFXnSmrRKJoRnHqX2XzYTP85T7JSbk52TaCgYKAagSARISFQGOcNnCcHIsYgs4Iv12Hji9A4P8Jg0179\"\n",
>>>>>>> 7b44e4d3bdd03ae031e4cf4d616a9e6b49428beb:deprecated_5.2-Model_Application.ipynb
       "            frameborder=\"0\"\n",
       "            allowfullscreen\n",
       "            \n",
       "        ></iframe>\n",
       "        "
      ],
      "text/plain": [
<<<<<<< HEAD:5.2-Model_Application.ipynb
       "<IPython.lib.display.IFrame at 0x7faeb5237ca0>"
=======
       "<IPython.lib.display.IFrame at 0x2364f5ac150>"
>>>>>>> 7b44e4d3bdd03ae031e4cf4d616a9e6b49428beb:deprecated_5.2-Model_Application.ipynb
      ]
     },
     "metadata": {},
     "output_type": "display_data"
<<<<<<< HEAD:5.2-Model_Application.ipynb
    },
    {
     "name": "stderr",
     "output_type": "stream",
     "text": [
      "127.0.0.1 - - [07/Sep/2023 19:13:37] \"GET /geeView/js/runGeeViz.js HTTP/1.1\" 200 -\n"
     ]
=======
>>>>>>> 7b44e4d3bdd03ae031e4cf4d616a9e6b49428beb:deprecated_5.2-Model_Application.ipynb
    }
   ],
   "source": [
    "Map.clearMap()\n",
    "\n",
    "\n",
    "product_name = 'Land_Cover'\n",
    "product_title = product_name.replace('_',' ')\n",
    "rf = rf_models[product_name]\n",
    "print('Current mode:',rf.mode().getInfo())\n",
    "predicted = predictor_stack.classify(rf,product_name).set(lcms_viz_dict)\n",
    "\n",
    "Map.addLayer(predicted,{'autoViz':True},f'CLASSIFICATION {product_title} {apply_year}')\n",
    "\n",
    "rf = rf.setOutputMode('MULTIPROBABILITY')\n",
    "print('Reset mode:',rf.mode().getInfo())\n",
    "predicted = predictor_stack.classify(rf,product_name)\n",
    "\n",
    "Map.addLayer(predicted,{},f'MULTIPROBABILITY {product_title} {apply_year}')\n",
    "\n",
    "Map.turnOnInspector()\n",
    "Map.view()"
   ]
  },
  {
   "cell_type": "markdown",
   "id": "2f345456-e76e-411e-bf5d-439a479dfecc",
   "metadata": {},
   "source": [
<<<<<<< HEAD:5.2-Model_Application.ipynb
    "**Export Parameters Setup**\n",
=======
    "### Export Parameters Setup\n",
>>>>>>> 7b44e4d3bdd03ae031e4cf4d616a9e6b49428beb:deprecated_5.2-Model_Application.ipynb
    "* We will now set up the parameters to use for the model output exports\n",
    "* We will optionally provide a tile grid to apply across"
   ]
  },
  {
   "cell_type": "code",
<<<<<<< HEAD:5.2-Model_Application.ipynb
   "execution_count": 47,
=======
   "execution_count": 15,
>>>>>>> 7b44e4d3bdd03ae031e4cf4d616a9e6b49428beb:deprecated_5.2-Model_Application.ipynb
   "id": "156202d0-7676-4d07-b37e-20c80362bea8",
   "metadata": {},
   "outputs": [
    {
     "name": "stdout",
     "output_type": "stream",
     "text": [
      "Adding layer: Tile Grid 240000m\n",
      "Starting webmap\n",
      "Using default refresh token for geeView: /home/jupyter/.config/earthengine/credentials\n",
      "Local web server at: http://localhost:1235/geeView/ already serving.\n",
<<<<<<< HEAD:5.2-Model_Application.ipynb
      "cwd /home/jupyter/lcms-training\n",
      "Workbench Proxy URL: https://559cdf0b5fe9790f-dot-us-central1.notebooks.googleusercontent.com/proxy/1235/geeView/?accessToken=None\n"
=======
      "cwd c:\\RCR\\quickLabsTrainingMaterials\\lcms-training\n"
>>>>>>> 7b44e4d3bdd03ae031e4cf4d616a9e6b49428beb:deprecated_5.2-Model_Application.ipynb
     ]
    },
    {
     "data": {
      "text/html": [
       "\n",
       "        <iframe\n",
       "            width=\"100%\"\n",
       "            height=\"525px\"\n",
<<<<<<< HEAD:5.2-Model_Application.ipynb
       "            src=\"https://559cdf0b5fe9790f-dot-us-central1.notebooks.googleusercontent.com/proxy/1235/geeView/?accessToken=None\"\n",
=======
       "            src=\"http://localhost:1235/geeView/?accessToken=ya29.a0AfB_byBnQezdAdTJr9PQk7BtOixnbxsPEVp2rxwTB-_OsTQeawAUAFWdBD7IzPQeEMg4qHI8eWabbfox1hvhdXVwH_avrXkojamKbcoq10XFjbaBDr6DykfzcDrqeWOpOJ0uWp-XixU5tX6XYjD4iEmNsggGsevU3Egns_lUdq90aCgYKAZESARISFQGOcNnC-A6CHHn_UPFBl7qhRIsr_g0179\"\n",
>>>>>>> 7b44e4d3bdd03ae031e4cf4d616a9e6b49428beb:deprecated_5.2-Model_Application.ipynb
       "            frameborder=\"0\"\n",
       "            allowfullscreen\n",
       "            \n",
       "        ></iframe>\n",
       "        "
      ],
      "text/plain": [
<<<<<<< HEAD:5.2-Model_Application.ipynb
       "<IPython.lib.display.IFrame at 0x7faeb5382dd0>"
=======
       "<IPython.lib.display.IFrame at 0x2364f7676d0>"
>>>>>>> 7b44e4d3bdd03ae031e4cf4d616a9e6b49428beb:deprecated_5.2-Model_Application.ipynb
      ]
     },
     "metadata": {},
     "output_type": "display_data"
<<<<<<< HEAD:5.2-Model_Application.ipynb
    },
    {
     "name": "stderr",
     "output_type": "stream",
     "text": [
      "127.0.0.1 - - [07/Sep/2023 19:16:48] \"GET /geeView/js/runGeeViz.js HTTP/1.1\" 200 -\n"
     ]
=======
>>>>>>> 7b44e4d3bdd03ae031e4cf4d616a9e6b49428beb:deprecated_5.2-Model_Application.ipynb
    }
   ],
   "source": [
    "Map.clearMap()\n",
    "# Now lets export predicted assets\n",
    "# Optionally, we can export using the tile grid approach\n",
    "# For PRUSVI, LCMS does not need to export using this approach, but this is how you would set it up\n",
    "# First, we'll set up the study area and a tile to export across\n",
    "\n",
    "studyArea = ee.FeatureCollection('projects/lcms-292214/assets/R8/PR_USVI/Ancillary/prusvi_boundary')\n",
    "\n",
    "# Set the size (in meters) of the tiles\n",
    "# We can likely use a large tile for this step\n",
    "# If exports fail, reducing the tileSize is likely to help\n",
    "tileSize = 240000\n",
    "\n",
    "\n",
    "# Set the projection\n",
    "crs = getImagesLib.common_projections['NLCD_CONUS']['crs']\n",
    "transform  = getImagesLib.common_projections['NLCD_CONUS']['transform']\n",
    "scale = None\n",
    "projection = ee.Projection(crs,transform)\n",
    "\n",
    "# Set up years to apply models across\n",
    "apply_years = list(range(1985,2022+1))\n",
    "\n",
    "# Get the grid\n",
    "grid = studyArea.geometry().coveringGrid(projection.atScale(tileSize))\n",
    "Map.addLayer(grid,{},'Tile Grid {}m'.format(tileSize))\n",
    "\n",
    "Map.centerObject(grid)\n",
    "Map.view()"
   ]
  },
  {
   "cell_type": "markdown",
   "id": "55eb0e13-0da6-44cb-935c-6fe5228813b4",
   "metadata": {},
   "source": [
<<<<<<< HEAD:5.2-Model_Application.ipynb
    "**Export Raw Model Outputs**\n",
=======
    "### Export Raw Model Outputs\n",
>>>>>>> 7b44e4d3bdd03ae031e4cf4d616a9e6b49428beb:deprecated_5.2-Model_Application.ipynb
    "* We will now export the model outputs\n",
    "* We can choose whether to use tiles or not\n",
    "* For PRUSVI, we can export the entire area at once without breaking it into tiles"
   ]
  },
  {
   "cell_type": "code",
<<<<<<< HEAD:5.2-Model_Application.ipynb
   "execution_count": 50,
=======
   "execution_count": 16,
>>>>>>> 7b44e4d3bdd03ae031e4cf4d616a9e6b49428beb:deprecated_5.2-Model_Application.ipynb
   "id": "26818746-d4ba-40cd-b17f-ffae33c01582",
   "metadata": {},
   "outputs": [
    {
     "name": "stdout",
     "output_type": "stream",
     "text": [
      "projects/rcr-gee/assets/lcms-training/lcms-training_module-5_rawLCMSOutputs/LCMS_Land_Cover_Raw_yr1985\n",
      "LCMS_Land_Cover_Raw_yr1985 currently exists or is being exported and overwrite = False. Set overwite = True if you would like to overwite any existing asset or asset exporting task\n",
      "projects/rcr-gee/assets/lcms-training/lcms-training_module-5_rawLCMSOutputs/LCMS_Land_Cover_Raw_yr1986\n",
      "LCMS_Land_Cover_Raw_yr1986 currently exists or is being exported and overwrite = False. Set overwite = True if you would like to overwite any existing asset or asset exporting task\n",
      "projects/rcr-gee/assets/lcms-training/lcms-training_module-5_rawLCMSOutputs/LCMS_Land_Cover_Raw_yr1987\n",
      "LCMS_Land_Cover_Raw_yr1987 currently exists or is being exported and overwrite = False. Set overwite = True if you would like to overwite any existing asset or asset exporting task\n",
      "projects/rcr-gee/assets/lcms-training/lcms-training_module-5_rawLCMSOutputs/LCMS_Land_Cover_Raw_yr1988\n",
      "LCMS_Land_Cover_Raw_yr1988 currently exists or is being exported and overwrite = False. Set overwite = True if you would like to overwite any existing asset or asset exporting task\n",
      "projects/rcr-gee/assets/lcms-training/lcms-training_module-5_rawLCMSOutputs/LCMS_Land_Cover_Raw_yr1989\n",
      "LCMS_Land_Cover_Raw_yr1989 currently exists or is being exported and overwrite = False. Set overwite = True if you would like to overwite any existing asset or asset exporting task\n",
      "projects/rcr-gee/assets/lcms-training/lcms-training_module-5_rawLCMSOutputs/LCMS_Land_Cover_Raw_yr1990\n",
      "LCMS_Land_Cover_Raw_yr1990 currently exists or is being exported and overwrite = False. Set overwite = True if you would like to overwite any existing asset or asset exporting task\n",
      "projects/rcr-gee/assets/lcms-training/lcms-training_module-5_rawLCMSOutputs/LCMS_Land_Cover_Raw_yr1991\n",
      "LCMS_Land_Cover_Raw_yr1991 currently exists or is being exported and overwrite = False. Set overwite = True if you would like to overwite any existing asset or asset exporting task\n",
      "projects/rcr-gee/assets/lcms-training/lcms-training_module-5_rawLCMSOutputs/LCMS_Land_Cover_Raw_yr1992\n",
      "LCMS_Land_Cover_Raw_yr1992 currently exists or is being exported and overwrite = False. Set overwite = True if you would like to overwite any existing asset or asset exporting task\n",
      "projects/rcr-gee/assets/lcms-training/lcms-training_module-5_rawLCMSOutputs/LCMS_Land_Cover_Raw_yr1993\n",
      "LCMS_Land_Cover_Raw_yr1993 currently exists or is being exported and overwrite = False. Set overwite = True if you would like to overwite any existing asset or asset exporting task\n",
      "projects/rcr-gee/assets/lcms-training/lcms-training_module-5_rawLCMSOutputs/LCMS_Land_Cover_Raw_yr1994\n",
      "LCMS_Land_Cover_Raw_yr1994 currently exists or is being exported and overwrite = False. Set overwite = True if you would like to overwite any existing asset or asset exporting task\n",
      "projects/rcr-gee/assets/lcms-training/lcms-training_module-5_rawLCMSOutputs/LCMS_Land_Cover_Raw_yr1995\n",
      "LCMS_Land_Cover_Raw_yr1995 currently exists or is being exported and overwrite = False. Set overwite = True if you would like to overwite any existing asset or asset exporting task\n",
      "projects/rcr-gee/assets/lcms-training/lcms-training_module-5_rawLCMSOutputs/LCMS_Land_Cover_Raw_yr1996\n",
      "LCMS_Land_Cover_Raw_yr1996 currently exists or is being exported and overwrite = False. Set overwite = True if you would like to overwite any existing asset or asset exporting task\n",
      "projects/rcr-gee/assets/lcms-training/lcms-training_module-5_rawLCMSOutputs/LCMS_Land_Cover_Raw_yr1997\n",
      "LCMS_Land_Cover_Raw_yr1997 currently exists or is being exported and overwrite = False. Set overwite = True if you would like to overwite any existing asset or asset exporting task\n",
      "projects/rcr-gee/assets/lcms-training/lcms-training_module-5_rawLCMSOutputs/LCMS_Land_Cover_Raw_yr1998\n",
      "LCMS_Land_Cover_Raw_yr1998 currently exists or is being exported and overwrite = False. Set overwite = True if you would like to overwite any existing asset or asset exporting task\n",
      "projects/rcr-gee/assets/lcms-training/lcms-training_module-5_rawLCMSOutputs/LCMS_Land_Cover_Raw_yr1999\n",
      "LCMS_Land_Cover_Raw_yr1999 currently exists or is being exported and overwrite = False. Set overwite = True if you would like to overwite any existing asset or asset exporting task\n",
      "projects/rcr-gee/assets/lcms-training/lcms-training_module-5_rawLCMSOutputs/LCMS_Land_Cover_Raw_yr2000\n",
      "LCMS_Land_Cover_Raw_yr2000 currently exists or is being exported and overwrite = False. Set overwite = True if you would like to overwite any existing asset or asset exporting task\n",
      "projects/rcr-gee/assets/lcms-training/lcms-training_module-5_rawLCMSOutputs/LCMS_Land_Cover_Raw_yr2001\n",
      "LCMS_Land_Cover_Raw_yr2001 currently exists or is being exported and overwrite = False. Set overwite = True if you would like to overwite any existing asset or asset exporting task\n",
      "projects/rcr-gee/assets/lcms-training/lcms-training_module-5_rawLCMSOutputs/LCMS_Land_Cover_Raw_yr2002\n",
      "LCMS_Land_Cover_Raw_yr2002 currently exists or is being exported and overwrite = False. Set overwite = True if you would like to overwite any existing asset or asset exporting task\n",
      "projects/rcr-gee/assets/lcms-training/lcms-training_module-5_rawLCMSOutputs/LCMS_Land_Cover_Raw_yr2003\n",
      "LCMS_Land_Cover_Raw_yr2003 currently exists or is being exported and overwrite = False. Set overwite = True if you would like to overwite any existing asset or asset exporting task\n",
      "projects/rcr-gee/assets/lcms-training/lcms-training_module-5_rawLCMSOutputs/LCMS_Land_Cover_Raw_yr2004\n",
      "LCMS_Land_Cover_Raw_yr2004 currently exists or is being exported and overwrite = False. Set overwite = True if you would like to overwite any existing asset or asset exporting task\n",
      "projects/rcr-gee/assets/lcms-training/lcms-training_module-5_rawLCMSOutputs/LCMS_Land_Cover_Raw_yr2005\n",
      "LCMS_Land_Cover_Raw_yr2005 currently exists or is being exported and overwrite = False. Set overwite = True if you would like to overwite any existing asset or asset exporting task\n",
      "projects/rcr-gee/assets/lcms-training/lcms-training_module-5_rawLCMSOutputs/LCMS_Land_Cover_Raw_yr2006\n",
      "LCMS_Land_Cover_Raw_yr2006 currently exists or is being exported and overwrite = False. Set overwite = True if you would like to overwite any existing asset or asset exporting task\n",
      "projects/rcr-gee/assets/lcms-training/lcms-training_module-5_rawLCMSOutputs/LCMS_Land_Cover_Raw_yr2007\n",
      "LCMS_Land_Cover_Raw_yr2007 currently exists or is being exported and overwrite = False. Set overwite = True if you would like to overwite any existing asset or asset exporting task\n",
      "projects/rcr-gee/assets/lcms-training/lcms-training_module-5_rawLCMSOutputs/LCMS_Land_Cover_Raw_yr2008\n",
      "LCMS_Land_Cover_Raw_yr2008 currently exists or is being exported and overwrite = False. Set overwite = True if you would like to overwite any existing asset or asset exporting task\n",
      "projects/rcr-gee/assets/lcms-training/lcms-training_module-5_rawLCMSOutputs/LCMS_Land_Cover_Raw_yr2009\n",
      "LCMS_Land_Cover_Raw_yr2009 currently exists or is being exported and overwrite = False. Set overwite = True if you would like to overwite any existing asset or asset exporting task\n",
      "projects/rcr-gee/assets/lcms-training/lcms-training_module-5_rawLCMSOutputs/LCMS_Land_Cover_Raw_yr2010\n",
      "LCMS_Land_Cover_Raw_yr2010 currently exists or is being exported and overwrite = False. Set overwite = True if you would like to overwite any existing asset or asset exporting task\n",
      "projects/rcr-gee/assets/lcms-training/lcms-training_module-5_rawLCMSOutputs/LCMS_Land_Cover_Raw_yr2011\n",
      "LCMS_Land_Cover_Raw_yr2011 currently exists or is being exported and overwrite = False. Set overwite = True if you would like to overwite any existing asset or asset exporting task\n",
      "projects/rcr-gee/assets/lcms-training/lcms-training_module-5_rawLCMSOutputs/LCMS_Land_Cover_Raw_yr2012\n",
      "LCMS_Land_Cover_Raw_yr2012 currently exists or is being exported and overwrite = False. Set overwite = True if you would like to overwite any existing asset or asset exporting task\n",
      "projects/rcr-gee/assets/lcms-training/lcms-training_module-5_rawLCMSOutputs/LCMS_Land_Cover_Raw_yr2013\n",
      "LCMS_Land_Cover_Raw_yr2013 currently exists or is being exported and overwrite = False. Set overwite = True if you would like to overwite any existing asset or asset exporting task\n",
      "projects/rcr-gee/assets/lcms-training/lcms-training_module-5_rawLCMSOutputs/LCMS_Land_Cover_Raw_yr2014\n",
      "LCMS_Land_Cover_Raw_yr2014 currently exists or is being exported and overwrite = False. Set overwite = True if you would like to overwite any existing asset or asset exporting task\n",
      "projects/rcr-gee/assets/lcms-training/lcms-training_module-5_rawLCMSOutputs/LCMS_Land_Cover_Raw_yr2015\n",
      "LCMS_Land_Cover_Raw_yr2015 currently exists or is being exported and overwrite = False. Set overwite = True if you would like to overwite any existing asset or asset exporting task\n",
      "projects/rcr-gee/assets/lcms-training/lcms-training_module-5_rawLCMSOutputs/LCMS_Land_Cover_Raw_yr2016\n",
      "LCMS_Land_Cover_Raw_yr2016 currently exists or is being exported and overwrite = False. Set overwite = True if you would like to overwite any existing asset or asset exporting task\n",
      "projects/rcr-gee/assets/lcms-training/lcms-training_module-5_rawLCMSOutputs/LCMS_Land_Cover_Raw_yr2017\n",
      "LCMS_Land_Cover_Raw_yr2017 currently exists or is being exported and overwrite = False. Set overwite = True if you would like to overwite any existing asset or asset exporting task\n",
      "projects/rcr-gee/assets/lcms-training/lcms-training_module-5_rawLCMSOutputs/LCMS_Land_Cover_Raw_yr2018\n",
      "LCMS_Land_Cover_Raw_yr2018 currently exists or is being exported and overwrite = False. Set overwite = True if you would like to overwite any existing asset or asset exporting task\n",
      "projects/rcr-gee/assets/lcms-training/lcms-training_module-5_rawLCMSOutputs/LCMS_Land_Cover_Raw_yr2019\n",
      "LCMS_Land_Cover_Raw_yr2019 currently exists or is being exported and overwrite = False. Set overwite = True if you would like to overwite any existing asset or asset exporting task\n",
      "projects/rcr-gee/assets/lcms-training/lcms-training_module-5_rawLCMSOutputs/LCMS_Land_Cover_Raw_yr2020\n",
      "LCMS_Land_Cover_Raw_yr2020 currently exists or is being exported and overwrite = False. Set overwite = True if you would like to overwite any existing asset or asset exporting task\n",
      "projects/rcr-gee/assets/lcms-training/lcms-training_module-5_rawLCMSOutputs/LCMS_Land_Cover_Raw_yr2021\n",
      "LCMS_Land_Cover_Raw_yr2021 currently exists or is being exported and overwrite = False. Set overwite = True if you would like to overwite any existing asset or asset exporting task\n",
      "projects/rcr-gee/assets/lcms-training/lcms-training_module-5_rawLCMSOutputs/LCMS_Land_Cover_Raw_yr2022\n",
      "LCMS_Land_Cover_Raw_yr2022 currently exists or is being exported and overwrite = False. Set overwite = True if you would like to overwite any existing asset or asset exporting task\n",
      "projects/rcr-gee/assets/lcms-training/lcms-training_module-5_rawLCMSOutputs/LCMS_Land_Use_Raw_yr1985\n",
      "LCMS_Land_Use_Raw_yr1985 currently exists or is being exported and overwrite = False. Set overwite = True if you would like to overwite any existing asset or asset exporting task\n",
      "projects/rcr-gee/assets/lcms-training/lcms-training_module-5_rawLCMSOutputs/LCMS_Land_Use_Raw_yr1986\n",
      "LCMS_Land_Use_Raw_yr1986 currently exists or is being exported and overwrite = False. Set overwite = True if you would like to overwite any existing asset or asset exporting task\n",
      "projects/rcr-gee/assets/lcms-training/lcms-training_module-5_rawLCMSOutputs/LCMS_Land_Use_Raw_yr1987\n",
      "LCMS_Land_Use_Raw_yr1987 currently exists or is being exported and overwrite = False. Set overwite = True if you would like to overwite any existing asset or asset exporting task\n",
      "projects/rcr-gee/assets/lcms-training/lcms-training_module-5_rawLCMSOutputs/LCMS_Land_Use_Raw_yr1988\n",
      "LCMS_Land_Use_Raw_yr1988 currently exists or is being exported and overwrite = False. Set overwite = True if you would like to overwite any existing asset or asset exporting task\n",
      "projects/rcr-gee/assets/lcms-training/lcms-training_module-5_rawLCMSOutputs/LCMS_Land_Use_Raw_yr1989\n",
      "LCMS_Land_Use_Raw_yr1989 currently exists or is being exported and overwrite = False. Set overwite = True if you would like to overwite any existing asset or asset exporting task\n",
      "projects/rcr-gee/assets/lcms-training/lcms-training_module-5_rawLCMSOutputs/LCMS_Land_Use_Raw_yr1990\n",
      "LCMS_Land_Use_Raw_yr1990 currently exists or is being exported and overwrite = False. Set overwite = True if you would like to overwite any existing asset or asset exporting task\n",
      "projects/rcr-gee/assets/lcms-training/lcms-training_module-5_rawLCMSOutputs/LCMS_Land_Use_Raw_yr1991\n",
      "LCMS_Land_Use_Raw_yr1991 currently exists or is being exported and overwrite = False. Set overwite = True if you would like to overwite any existing asset or asset exporting task\n",
      "projects/rcr-gee/assets/lcms-training/lcms-training_module-5_rawLCMSOutputs/LCMS_Land_Use_Raw_yr1992\n",
      "LCMS_Land_Use_Raw_yr1992 currently exists or is being exported and overwrite = False. Set overwite = True if you would like to overwite any existing asset or asset exporting task\n",
      "projects/rcr-gee/assets/lcms-training/lcms-training_module-5_rawLCMSOutputs/LCMS_Land_Use_Raw_yr1993\n",
      "LCMS_Land_Use_Raw_yr1993 currently exists or is being exported and overwrite = False. Set overwite = True if you would like to overwite any existing asset or asset exporting task\n",
      "projects/rcr-gee/assets/lcms-training/lcms-training_module-5_rawLCMSOutputs/LCMS_Land_Use_Raw_yr1994\n",
      "LCMS_Land_Use_Raw_yr1994 currently exists or is being exported and overwrite = False. Set overwite = True if you would like to overwite any existing asset or asset exporting task\n",
      "projects/rcr-gee/assets/lcms-training/lcms-training_module-5_rawLCMSOutputs/LCMS_Land_Use_Raw_yr1995\n",
      "LCMS_Land_Use_Raw_yr1995 currently exists or is being exported and overwrite = False. Set overwite = True if you would like to overwite any existing asset or asset exporting task\n",
      "projects/rcr-gee/assets/lcms-training/lcms-training_module-5_rawLCMSOutputs/LCMS_Land_Use_Raw_yr1996\n",
      "LCMS_Land_Use_Raw_yr1996 currently exists or is being exported and overwrite = False. Set overwite = True if you would like to overwite any existing asset or asset exporting task\n",
      "projects/rcr-gee/assets/lcms-training/lcms-training_module-5_rawLCMSOutputs/LCMS_Land_Use_Raw_yr1997\n",
      "LCMS_Land_Use_Raw_yr1997 currently exists or is being exported and overwrite = False. Set overwite = True if you would like to overwite any existing asset or asset exporting task\n",
      "projects/rcr-gee/assets/lcms-training/lcms-training_module-5_rawLCMSOutputs/LCMS_Land_Use_Raw_yr1998\n",
      "LCMS_Land_Use_Raw_yr1998 currently exists or is being exported and overwrite = False. Set overwite = True if you would like to overwite any existing asset or asset exporting task\n",
      "projects/rcr-gee/assets/lcms-training/lcms-training_module-5_rawLCMSOutputs/LCMS_Land_Use_Raw_yr1999\n",
      "LCMS_Land_Use_Raw_yr1999 currently exists or is being exported and overwrite = False. Set overwite = True if you would like to overwite any existing asset or asset exporting task\n",
      "projects/rcr-gee/assets/lcms-training/lcms-training_module-5_rawLCMSOutputs/LCMS_Land_Use_Raw_yr2000\n",
      "LCMS_Land_Use_Raw_yr2000 currently exists or is being exported and overwrite = False. Set overwite = True if you would like to overwite any existing asset or asset exporting task\n",
      "projects/rcr-gee/assets/lcms-training/lcms-training_module-5_rawLCMSOutputs/LCMS_Land_Use_Raw_yr2001\n",
      "LCMS_Land_Use_Raw_yr2001 currently exists or is being exported and overwrite = False. Set overwite = True if you would like to overwite any existing asset or asset exporting task\n",
      "projects/rcr-gee/assets/lcms-training/lcms-training_module-5_rawLCMSOutputs/LCMS_Land_Use_Raw_yr2002\n",
      "LCMS_Land_Use_Raw_yr2002 currently exists or is being exported and overwrite = False. Set overwite = True if you would like to overwite any existing asset or asset exporting task\n",
      "projects/rcr-gee/assets/lcms-training/lcms-training_module-5_rawLCMSOutputs/LCMS_Land_Use_Raw_yr2003\n",
      "LCMS_Land_Use_Raw_yr2003 currently exists or is being exported and overwrite = False. Set overwite = True if you would like to overwite any existing asset or asset exporting task\n",
      "projects/rcr-gee/assets/lcms-training/lcms-training_module-5_rawLCMSOutputs/LCMS_Land_Use_Raw_yr2004\n",
      "LCMS_Land_Use_Raw_yr2004 currently exists or is being exported and overwrite = False. Set overwite = True if you would like to overwite any existing asset or asset exporting task\n",
      "projects/rcr-gee/assets/lcms-training/lcms-training_module-5_rawLCMSOutputs/LCMS_Land_Use_Raw_yr2005\n",
      "LCMS_Land_Use_Raw_yr2005 currently exists or is being exported and overwrite = False. Set overwite = True if you would like to overwite any existing asset or asset exporting task\n",
      "projects/rcr-gee/assets/lcms-training/lcms-training_module-5_rawLCMSOutputs/LCMS_Land_Use_Raw_yr2006\n",
      "LCMS_Land_Use_Raw_yr2006 currently exists or is being exported and overwrite = False. Set overwite = True if you would like to overwite any existing asset or asset exporting task\n",
      "projects/rcr-gee/assets/lcms-training/lcms-training_module-5_rawLCMSOutputs/LCMS_Land_Use_Raw_yr2007\n",
      "LCMS_Land_Use_Raw_yr2007 currently exists or is being exported and overwrite = False. Set overwite = True if you would like to overwite any existing asset or asset exporting task\n",
      "projects/rcr-gee/assets/lcms-training/lcms-training_module-5_rawLCMSOutputs/LCMS_Land_Use_Raw_yr2008\n",
      "LCMS_Land_Use_Raw_yr2008 currently exists or is being exported and overwrite = False. Set overwite = True if you would like to overwite any existing asset or asset exporting task\n",
      "projects/rcr-gee/assets/lcms-training/lcms-training_module-5_rawLCMSOutputs/LCMS_Land_Use_Raw_yr2009\n",
      "LCMS_Land_Use_Raw_yr2009 currently exists or is being exported and overwrite = False. Set overwite = True if you would like to overwite any existing asset or asset exporting task\n",
      "projects/rcr-gee/assets/lcms-training/lcms-training_module-5_rawLCMSOutputs/LCMS_Land_Use_Raw_yr2010\n",
      "LCMS_Land_Use_Raw_yr2010 currently exists or is being exported and overwrite = False. Set overwite = True if you would like to overwite any existing asset or asset exporting task\n",
      "projects/rcr-gee/assets/lcms-training/lcms-training_module-5_rawLCMSOutputs/LCMS_Land_Use_Raw_yr2011\n",
      "LCMS_Land_Use_Raw_yr2011 currently exists or is being exported and overwrite = False. Set overwite = True if you would like to overwite any existing asset or asset exporting task\n",
      "projects/rcr-gee/assets/lcms-training/lcms-training_module-5_rawLCMSOutputs/LCMS_Land_Use_Raw_yr2012\n",
      "LCMS_Land_Use_Raw_yr2012 currently exists or is being exported and overwrite = False. Set overwite = True if you would like to overwite any existing asset or asset exporting task\n",
      "projects/rcr-gee/assets/lcms-training/lcms-training_module-5_rawLCMSOutputs/LCMS_Land_Use_Raw_yr2013\n",
      "LCMS_Land_Use_Raw_yr2013 currently exists or is being exported and overwrite = False. Set overwite = True if you would like to overwite any existing asset or asset exporting task\n",
      "projects/rcr-gee/assets/lcms-training/lcms-training_module-5_rawLCMSOutputs/LCMS_Land_Use_Raw_yr2014\n",
      "LCMS_Land_Use_Raw_yr2014 currently exists or is being exported and overwrite = False. Set overwite = True if you would like to overwite any existing asset or asset exporting task\n",
      "projects/rcr-gee/assets/lcms-training/lcms-training_module-5_rawLCMSOutputs/LCMS_Land_Use_Raw_yr2015\n",
      "LCMS_Land_Use_Raw_yr2015 currently exists or is being exported and overwrite = False. Set overwite = True if you would like to overwite any existing asset or asset exporting task\n",
      "projects/rcr-gee/assets/lcms-training/lcms-training_module-5_rawLCMSOutputs/LCMS_Land_Use_Raw_yr2016\n",
      "LCMS_Land_Use_Raw_yr2016 currently exists or is being exported and overwrite = False. Set overwite = True if you would like to overwite any existing asset or asset exporting task\n",
      "projects/rcr-gee/assets/lcms-training/lcms-training_module-5_rawLCMSOutputs/LCMS_Land_Use_Raw_yr2017\n",
      "LCMS_Land_Use_Raw_yr2017 currently exists or is being exported and overwrite = False. Set overwite = True if you would like to overwite any existing asset or asset exporting task\n",
      "projects/rcr-gee/assets/lcms-training/lcms-training_module-5_rawLCMSOutputs/LCMS_Land_Use_Raw_yr2018\n",
      "LCMS_Land_Use_Raw_yr2018 currently exists or is being exported and overwrite = False. Set overwite = True if you would like to overwite any existing asset or asset exporting task\n",
      "projects/rcr-gee/assets/lcms-training/lcms-training_module-5_rawLCMSOutputs/LCMS_Land_Use_Raw_yr2019\n",
      "LCMS_Land_Use_Raw_yr2019 currently exists or is being exported and overwrite = False. Set overwite = True if you would like to overwite any existing asset or asset exporting task\n",
      "projects/rcr-gee/assets/lcms-training/lcms-training_module-5_rawLCMSOutputs/LCMS_Land_Use_Raw_yr2020\n",
      "LCMS_Land_Use_Raw_yr2020 currently exists or is being exported and overwrite = False. Set overwite = True if you would like to overwite any existing asset or asset exporting task\n",
      "projects/rcr-gee/assets/lcms-training/lcms-training_module-5_rawLCMSOutputs/LCMS_Land_Use_Raw_yr2021\n",
      "LCMS_Land_Use_Raw_yr2021 currently exists or is being exported and overwrite = False. Set overwite = True if you would like to overwite any existing asset or asset exporting task\n",
      "projects/rcr-gee/assets/lcms-training/lcms-training_module-5_rawLCMSOutputs/LCMS_Land_Use_Raw_yr2022\n",
      "LCMS_Land_Use_Raw_yr2022 currently exists or is being exported and overwrite = False. Set overwite = True if you would like to overwite any existing asset or asset exporting task\n",
      "projects/rcr-gee/assets/lcms-training/lcms-training_module-5_rawLCMSOutputs/LCMS_Change_Raw_yr1985\n",
      "LCMS_Change_Raw_yr1985 currently exists or is being exported and overwrite = False. Set overwite = True if you would like to overwite any existing asset or asset exporting task\n",
      "projects/rcr-gee/assets/lcms-training/lcms-training_module-5_rawLCMSOutputs/LCMS_Change_Raw_yr1986\n",
      "LCMS_Change_Raw_yr1986 currently exists or is being exported and overwrite = False. Set overwite = True if you would like to overwite any existing asset or asset exporting task\n",
      "projects/rcr-gee/assets/lcms-training/lcms-training_module-5_rawLCMSOutputs/LCMS_Change_Raw_yr1987\n",
      "LCMS_Change_Raw_yr1987 currently exists or is being exported and overwrite = False. Set overwite = True if you would like to overwite any existing asset or asset exporting task\n",
      "projects/rcr-gee/assets/lcms-training/lcms-training_module-5_rawLCMSOutputs/LCMS_Change_Raw_yr1988\n",
      "LCMS_Change_Raw_yr1988 currently exists or is being exported and overwrite = False. Set overwite = True if you would like to overwite any existing asset or asset exporting task\n",
      "projects/rcr-gee/assets/lcms-training/lcms-training_module-5_rawLCMSOutputs/LCMS_Change_Raw_yr1989\n",
      "LCMS_Change_Raw_yr1989 currently exists or is being exported and overwrite = False. Set overwite = True if you would like to overwite any existing asset or asset exporting task\n",
      "projects/rcr-gee/assets/lcms-training/lcms-training_module-5_rawLCMSOutputs/LCMS_Change_Raw_yr1990\n",
      "LCMS_Change_Raw_yr1990 currently exists or is being exported and overwrite = False. Set overwite = True if you would like to overwite any existing asset or asset exporting task\n",
      "projects/rcr-gee/assets/lcms-training/lcms-training_module-5_rawLCMSOutputs/LCMS_Change_Raw_yr1991\n",
      "LCMS_Change_Raw_yr1991 currently exists or is being exported and overwrite = False. Set overwite = True if you would like to overwite any existing asset or asset exporting task\n",
      "projects/rcr-gee/assets/lcms-training/lcms-training_module-5_rawLCMSOutputs/LCMS_Change_Raw_yr1992\n",
      "LCMS_Change_Raw_yr1992 currently exists or is being exported and overwrite = False. Set overwite = True if you would like to overwite any existing asset or asset exporting task\n",
      "projects/rcr-gee/assets/lcms-training/lcms-training_module-5_rawLCMSOutputs/LCMS_Change_Raw_yr1993\n",
      "LCMS_Change_Raw_yr1993 currently exists or is being exported and overwrite = False. Set overwite = True if you would like to overwite any existing asset or asset exporting task\n",
      "projects/rcr-gee/assets/lcms-training/lcms-training_module-5_rawLCMSOutputs/LCMS_Change_Raw_yr1994\n",
      "LCMS_Change_Raw_yr1994 currently exists or is being exported and overwrite = False. Set overwite = True if you would like to overwite any existing asset or asset exporting task\n",
      "projects/rcr-gee/assets/lcms-training/lcms-training_module-5_rawLCMSOutputs/LCMS_Change_Raw_yr1995\n",
      "LCMS_Change_Raw_yr1995 currently exists or is being exported and overwrite = False. Set overwite = True if you would like to overwite any existing asset or asset exporting task\n",
      "projects/rcr-gee/assets/lcms-training/lcms-training_module-5_rawLCMSOutputs/LCMS_Change_Raw_yr1996\n",
      "LCMS_Change_Raw_yr1996 currently exists or is being exported and overwrite = False. Set overwite = True if you would like to overwite any existing asset or asset exporting task\n",
      "projects/rcr-gee/assets/lcms-training/lcms-training_module-5_rawLCMSOutputs/LCMS_Change_Raw_yr1997\n",
      "LCMS_Change_Raw_yr1997 currently exists or is being exported and overwrite = False. Set overwite = True if you would like to overwite any existing asset or asset exporting task\n",
      "projects/rcr-gee/assets/lcms-training/lcms-training_module-5_rawLCMSOutputs/LCMS_Change_Raw_yr1998\n",
      "LCMS_Change_Raw_yr1998 currently exists or is being exported and overwrite = False. Set overwite = True if you would like to overwite any existing asset or asset exporting task\n",
      "projects/rcr-gee/assets/lcms-training/lcms-training_module-5_rawLCMSOutputs/LCMS_Change_Raw_yr1999\n",
      "LCMS_Change_Raw_yr1999 currently exists or is being exported and overwrite = False. Set overwite = True if you would like to overwite any existing asset or asset exporting task\n",
      "projects/rcr-gee/assets/lcms-training/lcms-training_module-5_rawLCMSOutputs/LCMS_Change_Raw_yr2000\n",
      "LCMS_Change_Raw_yr2000 currently exists or is being exported and overwrite = False. Set overwite = True if you would like to overwite any existing asset or asset exporting task\n",
      "projects/rcr-gee/assets/lcms-training/lcms-training_module-5_rawLCMSOutputs/LCMS_Change_Raw_yr2001\n",
      "LCMS_Change_Raw_yr2001 currently exists or is being exported and overwrite = False. Set overwite = True if you would like to overwite any existing asset or asset exporting task\n",
      "projects/rcr-gee/assets/lcms-training/lcms-training_module-5_rawLCMSOutputs/LCMS_Change_Raw_yr2002\n",
      "LCMS_Change_Raw_yr2002 currently exists or is being exported and overwrite = False. Set overwite = True if you would like to overwite any existing asset or asset exporting task\n",
      "projects/rcr-gee/assets/lcms-training/lcms-training_module-5_rawLCMSOutputs/LCMS_Change_Raw_yr2003\n",
      "LCMS_Change_Raw_yr2003 currently exists or is being exported and overwrite = False. Set overwite = True if you would like to overwite any existing asset or asset exporting task\n",
      "projects/rcr-gee/assets/lcms-training/lcms-training_module-5_rawLCMSOutputs/LCMS_Change_Raw_yr2004\n",
      "LCMS_Change_Raw_yr2004 currently exists or is being exported and overwrite = False. Set overwite = True if you would like to overwite any existing asset or asset exporting task\n",
      "projects/rcr-gee/assets/lcms-training/lcms-training_module-5_rawLCMSOutputs/LCMS_Change_Raw_yr2005\n",
      "LCMS_Change_Raw_yr2005 currently exists or is being exported and overwrite = False. Set overwite = True if you would like to overwite any existing asset or asset exporting task\n",
      "projects/rcr-gee/assets/lcms-training/lcms-training_module-5_rawLCMSOutputs/LCMS_Change_Raw_yr2006\n",
      "LCMS_Change_Raw_yr2006 currently exists or is being exported and overwrite = False. Set overwite = True if you would like to overwite any existing asset or asset exporting task\n",
      "projects/rcr-gee/assets/lcms-training/lcms-training_module-5_rawLCMSOutputs/LCMS_Change_Raw_yr2007\n",
      "LCMS_Change_Raw_yr2007 currently exists or is being exported and overwrite = False. Set overwite = True if you would like to overwite any existing asset or asset exporting task\n",
      "projects/rcr-gee/assets/lcms-training/lcms-training_module-5_rawLCMSOutputs/LCMS_Change_Raw_yr2008\n",
      "LCMS_Change_Raw_yr2008 currently exists or is being exported and overwrite = False. Set overwite = True if you would like to overwite any existing asset or asset exporting task\n",
      "projects/rcr-gee/assets/lcms-training/lcms-training_module-5_rawLCMSOutputs/LCMS_Change_Raw_yr2009\n",
      "LCMS_Change_Raw_yr2009 currently exists or is being exported and overwrite = False. Set overwite = True if you would like to overwite any existing asset or asset exporting task\n",
      "projects/rcr-gee/assets/lcms-training/lcms-training_module-5_rawLCMSOutputs/LCMS_Change_Raw_yr2010\n",
      "LCMS_Change_Raw_yr2010 currently exists or is being exported and overwrite = False. Set overwite = True if you would like to overwite any existing asset or asset exporting task\n",
      "projects/rcr-gee/assets/lcms-training/lcms-training_module-5_rawLCMSOutputs/LCMS_Change_Raw_yr2011\n",
      "LCMS_Change_Raw_yr2011 currently exists or is being exported and overwrite = False. Set overwite = True if you would like to overwite any existing asset or asset exporting task\n",
      "projects/rcr-gee/assets/lcms-training/lcms-training_module-5_rawLCMSOutputs/LCMS_Change_Raw_yr2012\n",
      "LCMS_Change_Raw_yr2012 currently exists or is being exported and overwrite = False. Set overwite = True if you would like to overwite any existing asset or asset exporting task\n",
      "projects/rcr-gee/assets/lcms-training/lcms-training_module-5_rawLCMSOutputs/LCMS_Change_Raw_yr2013\n",
      "LCMS_Change_Raw_yr2013 currently exists or is being exported and overwrite = False. Set overwite = True if you would like to overwite any existing asset or asset exporting task\n",
      "projects/rcr-gee/assets/lcms-training/lcms-training_module-5_rawLCMSOutputs/LCMS_Change_Raw_yr2014\n",
      "LCMS_Change_Raw_yr2014 currently exists or is being exported and overwrite = False. Set overwite = True if you would like to overwite any existing asset or asset exporting task\n",
      "projects/rcr-gee/assets/lcms-training/lcms-training_module-5_rawLCMSOutputs/LCMS_Change_Raw_yr2015\n",
      "LCMS_Change_Raw_yr2015 currently exists or is being exported and overwrite = False. Set overwite = True if you would like to overwite any existing asset or asset exporting task\n",
      "projects/rcr-gee/assets/lcms-training/lcms-training_module-5_rawLCMSOutputs/LCMS_Change_Raw_yr2016\n",
      "LCMS_Change_Raw_yr2016 currently exists or is being exported and overwrite = False. Set overwite = True if you would like to overwite any existing asset or asset exporting task\n",
      "projects/rcr-gee/assets/lcms-training/lcms-training_module-5_rawLCMSOutputs/LCMS_Change_Raw_yr2017\n",
      "LCMS_Change_Raw_yr2017 currently exists or is being exported and overwrite = False. Set overwite = True if you would like to overwite any existing asset or asset exporting task\n",
      "projects/rcr-gee/assets/lcms-training/lcms-training_module-5_rawLCMSOutputs/LCMS_Change_Raw_yr2018\n",
      "LCMS_Change_Raw_yr2018 currently exists or is being exported and overwrite = False. Set overwite = True if you would like to overwite any existing asset or asset exporting task\n",
      "projects/rcr-gee/assets/lcms-training/lcms-training_module-5_rawLCMSOutputs/LCMS_Change_Raw_yr2019\n",
      "LCMS_Change_Raw_yr2019 currently exists or is being exported and overwrite = False. Set overwite = True if you would like to overwite any existing asset or asset exporting task\n",
      "projects/rcr-gee/assets/lcms-training/lcms-training_module-5_rawLCMSOutputs/LCMS_Change_Raw_yr2020\n",
      "LCMS_Change_Raw_yr2020 currently exists or is being exported and overwrite = False. Set overwite = True if you would like to overwite any existing asset or asset exporting task\n",
      "projects/rcr-gee/assets/lcms-training/lcms-training_module-5_rawLCMSOutputs/LCMS_Change_Raw_yr2021\n",
      "LCMS_Change_Raw_yr2021 currently exists or is being exported and overwrite = False. Set overwite = True if you would like to overwite any existing asset or asset exporting task\n",
      "projects/rcr-gee/assets/lcms-training/lcms-training_module-5_rawLCMSOutputs/LCMS_Change_Raw_yr2022\n",
      "LCMS_Change_Raw_yr2022 currently exists or is being exported and overwrite = False. Set overwite = True if you would like to overwite any existing asset or asset exporting task\n"
     ]
    }
   ],
   "source": [
    "# Adapted from Module 3\n",
    "# Get individual tiles and apply models over apply years and tiles\n",
    "# We will make this optional\n",
    "\n",
    "use_tile_grid = False\n",
    "\n",
    "ids = grid.aggregate_histogram('system:index').keys().getInfo()\n",
    "for product_name in list(rf_models.keys()):\n",
    "    rf = rf_models[product_name]\n",
    "    rf = rf.setOutputMode('MULTIPROBABILITY')\n",
    "    for apply_year in apply_years:\n",
    "        predictor_stack = getPredictorStack(apply_year)\n",
    "        predicted = predictor_stack.classify(rf,product_name)\n",
    "        predicted = predicted.set({'product':product_name,\n",
    "                                   'year':apply_year,\n",
    "                                   'study_area':'PRUSVI',\n",
    "                                   'system:time_start':ee.Date.fromYMD(apply_year,6,1).millis()\n",
    "                                  })\n",
    "        if use_tile_grid:\n",
    "            for id in ids:\n",
    "                id_title = id.replace(',','-')\n",
    "\n",
    "                # Get the tile and buffer it so there are no missing pixels at tile edges\n",
    "                tile = grid.filter(ee.Filter.eq('system:index',id)).geometry().intersection(studyArea,240,projection).buffer(900)\n",
    "                predicted = predicted.set({'TileSize':tileSize,\n",
    "                         'TileID':id_title})\n",
    "\n",
    "\n",
    "                exportName = f'LCMS_{product_name}_Raw_Tile-{tileSize}m_ID{id_title}_yr{apply_year}'\n",
    "                exportPath = f'{export_rawLCMSOutputs_collection}/{exportName}'\n",
    "\n",
    "                print(exportPath)\n",
    "\n",
    "                getImagesLib.exportToAssetWrapper(predicted,exportName,exportPath,{'.default':'sample'},tile,scale,crs,transform,overwrite=False)\n",
    "        else:\n",
    "            exportName = f'LCMS_{product_name}_Raw_yr{apply_year}'\n",
    "            exportPath = f'{export_rawLCMSOutputs_collection}/{exportName}'\n",
    "\n",
    "            print(exportPath)\n",
    "\n",
    "            getImagesLib.exportToAssetWrapper(predicted,exportName,exportPath,{'.default':'sample'},studyArea,scale,crs,transform,overwrite=False)\n",
    "\n"
   ]
  },
  {
   "cell_type": "code",
   "execution_count": 38,
   "id": "a34d3be9-ad5f-452c-ad0a-30bb6fbead40",
   "metadata": {},
   "outputs": [
    {
     "name": "stdout",
     "output_type": "stream",
     "text": [
      "done\n"
     ]
    }
   ],
   "source": [
    "# Can track tasks here or at https://code.earthengine.google.com/tasks\n",
    "# If you'd like to track the tasks, use this:\n",
    "# tml.trackTasks2()\n",
    "\n",
    "# If you want to cancel all running tasks, you can use this function\n",
    "# tml.batchCancel()\n",
    "\n",
    "# If you want to empty the collection of all images\n",
    "# aml.batchDelete(export_rawLCMSOutputs_collection, type = 'imageCollection')\n",
    "\n",
    "print('done')"
   ]
  }
 ],
 "metadata": {
  "environment": {
   "kernel": "python3",
   "name": "tf2-gpu.2-11.m110",
   "type": "gcloud",
   "uri": "gcr.io/deeplearning-platform-release/tf2-gpu.2-11:m110"
  },
  "kernelspec": {
   "display_name": "Python 3",
   "language": "python",
   "name": "python3"
  },
  "language_info": {
   "codemirror_mode": {
    "name": "ipython",
    "version": 3
   },
   "file_extension": ".py",
   "mimetype": "text/x-python",
   "name": "python",
   "nbconvert_exporter": "python",
   "pygments_lexer": "ipython3",
   "version": "3.10.12"
  }
 },
 "nbformat": 4,
 "nbformat_minor": 5
}
