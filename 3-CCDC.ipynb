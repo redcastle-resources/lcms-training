{
 "cells": [
  {
   "cell_type": "code",
   "execution_count": 1,
   "id": "26c53654",
   "metadata": {
    "colab": {
     "base_uri": "https://localhost:8080/",
     "height": 1000
    },
    "executionInfo": {
     "elapsed": 34592,
     "status": "ok",
     "timestamp": 1690511908858,
     "user": {
      "displayName": "Ian Housman",
      "userId": "00382093583884444463"
     },
     "user_tz": 360
    },
    "id": "26c53654",
    "outputId": "e5fb78e3-72c9-4e89-c8f7-c975bbc36b73",
    "scrolled": true
   },
   "outputs": [
    {
     "name": "stdout",
     "output_type": "stream",
     "text": [
      "Initializing GEE\n",
      "No credentials found\n",
      "Will attempt ee.Authenticate\n"
     ]
    },
    {
     "data": {
      "text/html": [
       "<p>To authorize access needed by Earth Engine, open the following\n",
       "        URL in a web browser and follow the instructions:</p>\n",
       "        <p><a href=https://code.earthengine.google.com/client-auth?scopes=https%3A//www.googleapis.com/auth/earthengine%20https%3A//www.googleapis.com/auth/devstorage.full_control&request_id=QDctVUkiJVRhIWpQnyWkRKDWZUD4mdBS1-ZrD6G0_tQ&tc=_FqGKYUqgivNU1S3Bq8Ad8FPnwHNhxaMdFeKL7JIpKU&cc=fENCbBNv8BvZSIF_M8sS0CJ0ZWk97FAORSeiK7yiNtI>https://code.earthengine.google.com/client-auth?scopes=https%3A//www.googleapis.com/auth/earthengine%20https%3A//www.googleapis.com/auth/devstorage.full_control&request_id=QDctVUkiJVRhIWpQnyWkRKDWZUD4mdBS1-ZrD6G0_tQ&tc=_FqGKYUqgivNU1S3Bq8Ad8FPnwHNhxaMdFeKL7JIpKU&cc=fENCbBNv8BvZSIF_M8sS0CJ0ZWk97FAORSeiK7yiNtI</a></p>\n",
       "        <p>The authorization workflow will generate a code, which you should paste in the box below.</p>\n",
       "        "
      ],
      "text/plain": [
       "<IPython.core.display.HTML object>"
      ]
     },
     "metadata": {},
     "output_type": "display_data"
    },
    {
     "name": "stdin",
     "output_type": "stream",
     "text": [
      "Enter verification code:  4/1Adeu5BVqAFbWuNqQhn_CY9V3sbQiqTFnnv5EPEFJGroQ00cwYtj7QIoS2m0\n"
     ]
    },
    {
     "name": "stdout",
     "output_type": "stream",
     "text": [
      "\n",
      "Successfully saved authorization token.\n",
      "Successfully initialized\n",
      "geeViz package folder: /opt/conda/lib/python3.10/site-packages/geeViz\n",
      "done\n"
     ]
    }
   ],
   "source": [
    "#Example of how to get Landsat data using the getImagesLib, create median composites, run LandTrendr and then filter\n",
    "#LandTrendr output into usable data depicting where, when, and the magnitude of loss and gain\n",
    "####################################################################################################\n",
    "\n",
    "try:\n",
    "  import geeViz.getImagesLib as getImagesLib\n",
    "except:\n",
    "  !python -m pip install geeViz\n",
    "  import geeViz.getImagesLib as getImagesLib\n",
    "\n",
    "\n",
    "#Module imports\n",
    "import geeViz.changeDetectionLib as changeDetectionLib\n",
    "import geeViz.assetManagerLib as aml\n",
    "import geeViz.taskManagerLib as tml\n",
    "ee = getImagesLib.ee\n",
    "\n",
    "import inspect\n",
    "\n",
    "#Set up to mapper objects to use\n",
    "#Can use the default one first\n",
    "Map = getImagesLib.Map\n",
    "\n",
    "# Enter proxy url (see in url bar- e.g. https://someCode-dot-someRegion.notebooks.googleusercontent.com/)\n",
    "# If left as None, will prompt user at first Map.view() call \n",
    "Map.proxy_url = 'https://3a96040caeb4cbe7-dot-us-west3.notebooks.googleusercontent.com/'\n",
    "print('done')"
   ]
  },
  {
   "cell_type": "code",
   "execution_count": 2,
   "id": "62534162",
   "metadata": {
    "colab": {
     "base_uri": "https://localhost:8080/",
     "height": 911
    },
    "executionInfo": {
     "elapsed": 2092,
     "status": "ok",
     "timestamp": 1690511920699,
     "user": {
      "displayName": "Ian Housman",
      "userId": "00382093583884444463"
     },
     "user_tz": 360
    },
    "id": "62534162",
    "outputId": "02f6d657-8725-4791-ffd6-ac97bd88d91d",
    "scrolled": true
   },
   "outputs": [
    {
     "name": "stdout",
     "output_type": "stream",
     "text": [
      "Collection projects/rcr-gee/assets/ccdc-lcms-training-module-3 already exists\n",
      "Updating permissions for:  projects/rcr-gee/assets/ccdc-lcms-training-module-3\n",
      "Get Processed Landsat: \n",
      "Applying scale factors for C2 L4 data\n",
      "Applying scale factors for C2 L5 data\n",
      "Applying scale factors for C2 L8 data\n",
      "Including All Landsat 7\n",
      "Applying scale factors for C2 L7 data\n",
      "Applying scale factors for C2 L9 data\n",
      "Applying Fmask Cloud Mask\n",
      "Applying Fmask Shadow Mask\n",
      "Adding layer: Processed Input Data\n",
      "Adding layer: CCDC Output\n",
      "Adding layer: Study Area\n",
      "Starting webmap\n",
      "Using default refresh token for geeView: /home/jupyter/.config/earthengine/credentials\n",
      "Starting local web server at: http://localhost:8001/geeView/\n",
      "HTTP server command: \"/opt/conda/bin/python\" -m http.server  8001\n",
      "Done\n",
      "cwd /home/jupyter/lcms-training\n",
      "Workbench Proxy URL: https://3a96040caeb4cbe7-dot-us-west3.notebooks.googleusercontent.com/proxy/8001/geeView/?accessToken=None\n"
     ]
    },
    {
     "data": {
      "text/html": [
       "\n",
       "        <iframe\n",
       "            width=\"100%\"\n",
       "            height=\"525px\"\n",
       "            src=\"https://3a96040caeb4cbe7-dot-us-west3.notebooks.googleusercontent.com/proxy/8001/geeView/?accessToken=None\"\n",
       "            frameborder=\"0\"\n",
       "            allowfullscreen\n",
       "            \n",
       "        ></iframe>\n",
       "        "
      ],
      "text/plain": [
       "<IPython.lib.display.IFrame at 0x7f5264f9d7b0>"
      ]
     },
     "metadata": {},
     "output_type": "display_data"
    }
   ],
   "source": [
    "#Example of how to run CCDC and view outputs using the Python visualization tools\n",
    "#Acquires Landsat data, runs CCDC, and tries to add them to the viewer\n",
    "#Original CCDC paper: https://www.sciencedirect.com/science/article/pii/S0034425714000248\n",
    "#Since CCDC doesn't work well on-the-fly, see the CCCDCViz.py example to view outputs created with this script\n",
    "#The general workflow for CCDC is to run this script, and then either utilize the harmonic model for a given date\n",
    "#or to use the breaks for change detection. All of this is demonstrated in the CCDCViz.py example\n",
    "####################################################################################################\n",
    "import os,sys\n",
    "sys.path.append(os.getcwd())\n",
    "\n",
    "#Module imports\n",
    "\n",
    "ee = getImagesLib.ee\n",
    "Map = getImagesLib.Map\n",
    "Map.clearMap()\n",
    "####################################################################################################\n",
    "#Define user parameters:\n",
    "# Define user parameters:\n",
    "\n",
    "# Specify study area: Study area\n",
    "# Can be a featureCollection, feature, or geometry\n",
    "studyArea = getImagesLib.testAreas['CA']\n",
    "studyArea = ee.FeatureCollection('projects/lcms-292214/assets/R8/PR_USVI/Ancillary/prusvi_boundary_buff2mile')#.geometry().bounds(500,proj='EPSG:5070')\n",
    "# studyArea = ee.Geometry.Polygon(\n",
    "#         [[[-66.29465453845745, 18.491553939984392],\n",
    "#           [-66.29465453845745, 18.144770192006572],\n",
    "#           [-65.58054321033245, 18.144770192006572],\n",
    "#           [-65.58054321033245, 18.491553939984392]]], None, False);\n",
    "#Update the startJulian and endJulian variables to indicate your seasonal\n",
    "#constraints. This supports wrapping for tropics and southern hemisphere.\n",
    "#If using wrapping and the majority of the days occur in the second year, the system:time_start will default\n",
    "#to June 1 of that year.Otherwise, all system:time_starts will default to June 1 of the given year\n",
    "#startJulian: Starting Julian date\n",
    "#endJulian: Ending Julian date\n",
    "startJulian = 1\n",
    "endJulian = 365\n",
    "\n",
    "#Specify start and end years for all analyses\n",
    "#More than a 3 year span should be provided for time series methods to work\n",
    "#well. If providing pre-computed stats for cloudScore and TDOM, this does not\n",
    "#matter\n",
    "startYear = 2010\n",
    "endYear = 2023\n",
    "\n",
    "#Choose whether to include Landat 7\n",
    "#Generally only included when data are limited\n",
    "includeSLCOffL7 = True\n",
    "\n",
    "\n",
    "#Which bands/indices to export\n",
    "#These will not always be used to find breaks - that is specified below in the ccdcParams\n",
    "#Options are: [\"blue\",\"green\",\"red\",\"nir\",\"swir1\",\"swir2\",\"NDVI\",\"NBR\",\"NDMI\",\"NDSI\",\"brightness\",\"greenness\",\"wetness\",\"fourth\",\"fifth\",\"sixth\",\"tcAngleBG\"]\n",
    "#Be sure that any bands in ccdcParams.breakpointBands are in this list\n",
    "exportBands = [\"blue\",\"green\",\"red\",\"nir\",\"swir1\",\"swir2\",\"NDVI\"]\n",
    "\n",
    "\n",
    "#Set up Names for the export\n",
    "outputName = 'CCDC-Test'\n",
    "\n",
    "#Provide location composites will be exported to\n",
    "#This should be an asset folder, or more ideally, an asset imageCollection\n",
    "exportPathRoot = 'projects/rcr-gee/assets/ccdc-lcms-training-module-3'\n",
    "# Make sure collection exists\n",
    "aml.create_image_collection(exportPathRoot)\n",
    "\n",
    "# Currently geeView within Colab uses a different project to authenticate through, so you may need to make your asset public to view from within Colab\n",
    "aml.updateACL(exportPathRoot,writers = [],all_users_can_read = True,readers = [])\n",
    "\n",
    "#CRS- must be provided.\n",
    "#Common crs codes: Web mercator is EPSG:4326, USGS Albers is EPSG:5070,\n",
    "#WGS84 UTM N hemisphere is EPSG:326+ zone number (zone 12 N would be EPSG:32612) and S hemisphere is EPSG:327+ zone number\n",
    "crs = getImagesLib.common_projections['NLCD_CONUS']['crs']\n",
    "\n",
    "#Specify transform if scale is None and snapping to known grid is needed\n",
    "transform = getImagesLib.common_projections['NLCD_CONUS']['transform']\n",
    "\n",
    "#Specify scale if transform is None\n",
    "scale = None\n",
    "\n",
    "\n",
    "###############################################################\n",
    "#CCDC Params\n",
    "# ccdcParams ={\n",
    "#   breakpointBands:['green','red','nir','swir1','swir2','NDVI'],//The name or index of the bands to use for change detection. If unspecified, all bands are used.//Can include: 'blue','green','red','nir','swir1','swir2'\n",
    "#                                                               //'NBR','NDVI','wetness','greenness','brightness','tcAngleBG'\n",
    "#   tmaskBands : None,//['green','swir2'],//The name or index of the bands to use for iterative TMask cloud detection. These are typically the green band and the SWIR2 band. If unspecified, TMask is not used. If specified, 'tmaskBands' must be included in 'breakpointBands'.,\n",
    "#   minObservations: 6,//Factors of minimum number of years to apply new fitting.\n",
    "#   chiSquareProbability: 0.99,//The chi-square probability threshold for change detection in the range of [0, 1],\n",
    "#   minNumOfYearsScaler: 1.33,//Factors of minimum number of years to apply new fitting.,\\\n",
    "#   lambda: 0.002,//Lambda for LASSO regression fitting. If set to 0, regular OLS is used instead of LASSO\n",
    "#   maxIterations : 25000, //Maximum number of runs for LASSO regression convergence. If set to 0, regular OLS is used instead of LASSO.\n",
    "#   dateFormat : 1 //'fractional' (1) is the easiest to work with. It is the time representation to use during fitting: 0 = jDays, 1 = fractional years, 2 = unix time in milliseconds. The start, end and break times for each temporal segment will be encoded this way.\n",
    "\n",
    "# };\n",
    "ccdcParams ={\n",
    "  'breakpointBands':['green','red','nir','swir1','swir2','NDVI'],\n",
    "  'tmaskBands' : None,\n",
    "  'minObservations': 6,\n",
    "  'chiSquareProbability': 0.99,\n",
    "  'minNumOfYearsScaler': 1.33,\n",
    "  'lambda': 0.002,\n",
    "  'maxIterations' : 25000,\n",
    "  'dateFormat' : 1\n",
    "};\n",
    "\n",
    "###############################################################\n",
    "#End user parameters\n",
    "###############################################################\n",
    "###############################################################\n",
    "###############################################################\n",
    "#Start function calls\n",
    "###############################################################\n",
    "#Get cloud and cloud shadow masked Landsat scenes\n",
    "processedScenes = getImagesLib.getProcessedLandsatScenes(studyArea = studyArea,startYear = startYear, endYear = endYear,\n",
    "                                                        startJulian = startJulian,endJulian = endJulian,\n",
    "                                                        includeSLCOffL7 = includeSLCOffL7).select(exportBands)\n",
    "\n",
    "\n",
    "#Remove any extremely high band/index values\n",
    "def removeGT1(img):\n",
    "  lte1 = img.select(['blue','green','nir','swir1','swir2']).lte(1).reduce(ee.Reducer.min());\n",
    "  return img.updateMask(lte1);\n",
    "processedScenes = processedScenes.map(removeGT1)\n",
    "getImagesLib.vizParamsFalse['min']=0.15\n",
    "getImagesLib.vizParamsFalse['max']=0.8\n",
    "Map.addLayer(processedScenes,getImagesLib.vizParamsFalse,'Processed Input Data',True);\n",
    "\n",
    "#Set the scene collection in the ccdcParams\n",
    "ccdcParams['collection'] = processedScenes\n",
    "\n",
    "#Run CCDC\n",
    "ccdc = ee.Image(ee.Algorithms.TemporalSegmentation.Ccdc(**ccdcParams))\n",
    "\n",
    "#Set properties for asset\n",
    "# ccdc = ccdc.copyProperties(processedScenes)\n",
    "# ccdc = ccdc.setMulti(ccdcParams)\n",
    "# ccdc = ee.Image(ccdc)\n",
    "\n",
    "Map.addLayer(ccdc,{},'CCDC Output',False);\n",
    "\n",
    "\n",
    "####################################################################################################\n",
    "#Load the study region\n",
    "Map.addLayer(studyArea, {'strokeColor': '0000FF'}, \"Study Area\", True)\n",
    "Map.centerObject(studyArea)\n",
    "####################################################################################################\n",
    "# View map\n",
    "Map.turnOnInspector()\n",
    "Map.view()\n",
    "####################################################################################################\n"
   ]
  },
  {
   "cell_type": "code",
   "execution_count": 14,
   "id": "6H6L8CeaxfCB",
   "metadata": {
    "colab": {
     "base_uri": "https://localhost:8080/"
    },
    "executionInfo": {
     "elapsed": 7104,
     "status": "ok",
     "timestamp": 1690303294032,
     "user": {
      "displayName": "Ian Housman",
      "userId": "00382093583884444463"
     },
     "user_tz": 360
    },
    "id": "6H6L8CeaxfCB",
    "outputId": "c54fbc31-3601-4021-de99-c630777f3716"
   },
   "outputs": [
    {
     "name": "stdout",
     "output_type": "stream",
     "text": [
      "pyramiding object: {'.default': 'sample'}\n",
      "Asset currently exists or is being exported and overwrite = False. Export not started. Set overwite = True if you would like to overwite any existing asset or asset exporting task\n"
     ]
    }
   ],
   "source": [
    "#Export output\n",
    "exportName = '{}_yrs{}-{}_jds{}-{}'.format(outputName,startYear,endYear,startJulian,endJulian)\n",
    "exportPath = exportPathRoot + '/'+ exportName\n",
    "\n",
    "\n",
    "getImagesLib.exportToAssetWrapper(ccdc,exportName,exportPath,{'.default':'sample'},studyArea,scale,crs,transform,overwrite=False)\n"
   ]
  },
  {
   "cell_type": "code",
   "execution_count": 13,
   "id": "6c0fb505-293d-4364-a595-dfa7b04a466c",
   "metadata": {},
   "outputs": [
    {
     "name": "stdout",
     "output_type": "stream",
     "text": [
      "done\n"
     ]
    }
   ],
   "source": [
    "# Can track tasks here or at https://code.earthengine.google.com/tasks\n",
    "# If you'd like to track the tasks, use this:\n",
    "# tml.trackTasks2()\n",
    "\n",
    "# If you want to cancel all running tasks, you can use this function\n",
    "# tml.batchCancel()\n",
    "\n",
    "# If you want to empty the collection of all images\n",
    "# aml.batchDelete(exportPathRoot, type = 'imageCollection')\n",
    "\n",
    "print('done')"
   ]
  },
  {
   "cell_type": "code",
   "execution_count": 15,
   "id": "V7-gAc2LAIwG",
   "metadata": {
    "colab": {
     "base_uri": "https://localhost:8080/",
     "height": 651
    },
    "executionInfo": {
     "elapsed": 761,
     "status": "ok",
     "timestamp": 1690303357875,
     "user": {
      "displayName": "Ian Housman",
      "userId": "00382093583884444463"
     },
     "user_tz": 360
    },
    "id": "V7-gAc2LAIwG",
    "outputId": "e40209c9-17e1-408d-8d70-b45dd6b46440"
   },
   "outputs": [
    {
     "name": "stdout",
     "output_type": "stream",
     "text": [
      "Adding layer: Raw CCDC Output\n",
      "Starting webmap\n",
      "Using default refresh token for geeView: /home/jupyter/.config/earthengine/credentials\n",
      "Starting local web server at: http://localhost:8001/geeView/\n",
      "HTTP server command: \"/opt/conda/bin/python\" -m http.server  8001\n",
      "Done\n",
      "cwd /home/jupyter/lcms-training\n",
      "Workbench Proxy URL: https://3a96040caeb4cbe7-dot-us-west3.notebooks.googleusercontent.com/proxy/8001/geeView/?accessToken=None\n"
     ]
    },
    {
     "data": {
      "text/html": [
       "\n",
       "        <iframe\n",
       "            width=\"100%\"\n",
       "            height=\"525px\"\n",
       "            src=\"https://3a96040caeb4cbe7-dot-us-west3.notebooks.googleusercontent.com/proxy/8001/geeView/?accessToken=None\"\n",
       "            frameborder=\"0\"\n",
       "            allowfullscreen\n",
       "            \n",
       "        ></iframe>\n",
       "        "
      ],
      "text/plain": [
       "<IPython.lib.display.IFrame at 0x7f5f5eebf250>"
      ]
     },
     "metadata": {},
     "output_type": "display_data"
    },
    {
     "name": "stderr",
     "output_type": "stream",
     "text": [
      "127.0.0.1 - - [02/Aug/2023 15:23:16] \"GET /geeView/js/runGeeViz.js HTTP/1.1\" 200 -\n"
     ]
    }
   ],
   "source": [
    "Map.clearMap()\n",
    "#Add the raw array image\n",
    "ccdcImg = ee.Image(exportPath)\n",
    "\n",
    "Map.addLayer(ccdcImg,{},'Raw CCDC Output',True)\n",
    "Map.centerObject(ccdcImg)\n",
    "Map.turnOnInspector()\n",
    "Map.view()\n",
    "#Double click on map to see raw CCDC output image array values\n",
    "#Notice it is difficult to interpret these values as a time series since only breaks and their respective harmonic models are stored"
   ]
  },
  {
   "cell_type": "code",
   "execution_count": 6,
   "id": "BasIAeFLAmsm",
   "metadata": {
    "colab": {
     "base_uri": "https://localhost:8080/"
    },
    "executionInfo": {
     "elapsed": 144,
     "status": "ok",
     "timestamp": 1690304795149,
     "user": {
      "displayName": "Ian Housman",
      "userId": "00382093583884444463"
     },
     "user_tz": 360
    },
    "id": "BasIAeFLAmsm",
    "outputId": "947d6e2f-584e-4bea-88b2-4db8728c5d38"
   },
   "outputs": [
    {
     "name": "stdout",
     "output_type": "stream",
     "text": [
      "def ccdcChangeDetection(ccdcImg,bandName):\n",
      "  magKeys = ['.*_magnitude']\n",
      "  tBreakKeys = ['tBreak']\n",
      "  changeProbKeys = ['changeProb']\n",
      "  changeProbThresh = 1\n",
      "\n",
      "  #Pull out pieces from CCDC output\n",
      "  magnitudes = ccdcImg.select(magKeys)\n",
      "  breaks = ccdcImg.select(tBreakKeys)\n",
      "  \n",
      "  #Map.addLayer(breaks.arrayLength(0),{'min':1,'max':10});\n",
      "  changeProbs = ccdcImg.select(changeProbKeys)\n",
      "  changeMask = changeProbs.gte(changeProbThresh)\n",
      "  magnitudes = magnitudes.select(bandName + '.*')\n",
      "\n",
      "  \n",
      "  #Sort by magnitude and years\n",
      "  breaksSortedByMag = breaks.arraySort(magnitudes)\n",
      "  magnitudesSortedByMag = magnitudes.arraySort()\n",
      "  changeMaskSortedByMag = changeMask.arraySort(magnitudes)\n",
      "  \n",
      "  breaksSortedByYear = breaks.arraySort()\n",
      "  magnitudesSortedByYear = magnitudes.arraySort(breaks)\n",
      "  changeMaskSortedByYear = changeMask.arraySort(breaks)\n",
      "  \n",
      "  #Get the loss and gain years and magnitudes for each sorting method\n",
      "  highestMagLossYear = breaksSortedByMag.arraySlice(0,0,1).arrayFlatten([['loss_year']])\n",
      "  highestMagLossMag = magnitudesSortedByMag.arraySlice(0,0,1).arrayFlatten([['loss_mag']])\n",
      "  highestMagLossMask = changeMaskSortedByMag.arraySlice(0,0,1).arrayFlatten([['loss_mask']])\n",
      "  \n",
      "  highestMagLossYear = highestMagLossYear.updateMask(highestMagLossMag.lt(0).And(highestMagLossMask))\n",
      "  highestMagLossMag = highestMagLossMag.updateMask(highestMagLossMag.lt(0).And(highestMagLossMask))\n",
      "  \n",
      "  highestMagGainYear = breaksSortedByMag.arraySlice(0,-1,None).arrayFlatten([['gain_year']])\n",
      "  highestMagGainMag = magnitudesSortedByMag.arraySlice(0,-1,None).arrayFlatten([['gain_mag']])\n",
      "  highestMagGainMask = changeMaskSortedByMag.arraySlice(0,-1,None).arrayFlatten([['gain_mask']]);\n",
      "  \n",
      "  highestMagGainYear = highestMagGainYear.updateMask(highestMagGainMag.gt(0).And(highestMagGainMask));\n",
      "  highestMagGainMag = highestMagGainMag.updateMask(highestMagGainMag.gt(0).And(highestMagGainMask));\n",
      "  \n",
      "\n",
      "\n",
      "\n",
      "  mostRecentLossYear = breaksSortedByYear.arrayMask(magnitudesSortedByYear.lt(0)).arrayPad([1]).arraySlice(0,-1,None).arrayFlatten([['loss_year']]);\n",
      "  mostRecentLossMag = magnitudesSortedByYear.arrayMask(magnitudesSortedByYear.lt(0)).arrayPad([1]).arraySlice(0,-1,None).arrayFlatten([['loss_mag']]);\n",
      "  mostRecentLossMask = changeMaskSortedByYear.arrayMask(magnitudesSortedByYear.lt(0)).arrayPad([1]).arraySlice(0,-1,None).arrayFlatten([['loss_mask']]);\n",
      "  \n",
      "  mostRecentLossYear = mostRecentLossYear.updateMask(mostRecentLossMag.lt(0).And(mostRecentLossMask));\n",
      "  mostRecentLossMag = mostRecentLossMag.updateMask(mostRecentLossMag.lt(0).And(mostRecentLossMask));\n",
      " \n",
      "  mostRecentGainYear = breaksSortedByYear.arrayMask(magnitudesSortedByYear.gt(0)).arrayPad([1]).arraySlice(0,-1,None).arrayFlatten([['gain_year']]);\n",
      "  mostRecentGainMag = magnitudesSortedByYear.arrayMask(magnitudesSortedByYear.gt(0)).arrayPad([1]).arraySlice(0,-1,None).arrayFlatten([['gain_mag']]);\n",
      "  mostRecentGainMask = changeMaskSortedByYear.arrayMask(magnitudesSortedByYear.gt(0)).arrayPad([1]).arraySlice(0,-1,None).arrayFlatten([['gain_mask']]);\n",
      "  \n",
      "  mostRecentGainYear = mostRecentGainYear.updateMask(mostRecentGainMag.gt(0).And(mostRecentGainMask))\n",
      "  mostRecentGainMag = mostRecentGainMag.updateMask(mostRecentGainMag.gt(0).And(mostRecentGainMask))\n",
      "  \n",
      "  return {'mostRecent':{\n",
      "    'loss':{'year':mostRecentLossYear,\n",
      "          'mag': mostRecentLossMag\n",
      "        },\n",
      "    'gain':{'year':mostRecentGainYear,\n",
      "          'mag': mostRecentGainMag\n",
      "        }\n",
      "    },\n",
      "    'highestMag':{\n",
      "    'loss':{'year':highestMagLossYear,\n",
      "          'mag': highestMagLossMag\n",
      "        },\n",
      "    'gain':{'year':highestMagGainYear,\n",
      "          'mag': highestMagGainMag\n",
      "        }\n",
      "    }    \n",
      "  }\n",
      "\n"
     ]
    }
   ],
   "source": [
    "# We will need to manipulate the array image to get meaningful data such as synthetic composites and harmonic coefficients\n",
    "# While CCDC is not as good at change detection as LandTrendr, the breaks can be used for detecting changes in phenology\n",
    "print(inspect.getsource(changeDetectionLib.ccdcChangeDetection))"
   ]
  },
  {
   "cell_type": "code",
   "execution_count": 16,
   "id": "b652ec18",
   "metadata": {
    "colab": {
     "base_uri": "https://localhost:8080/",
     "height": 703
    },
    "executionInfo": {
     "elapsed": 757,
     "status": "ok",
     "timestamp": 1690304850101,
     "user": {
      "displayName": "Ian Housman",
      "userId": "00382093583884444463"
     },
     "user_tz": 360
    },
    "id": "b652ec18",
    "outputId": "2b0b8944-294d-4d49-8d86-2a4e242470ea",
    "scrolled": true
   },
   "outputs": [
    {
     "name": "stdout",
     "output_type": "stream",
     "text": [
      "Adding layer: Loss Year\n",
      "Adding layer: Loss Mag\n",
      "Adding layer: Gain Year\n",
      "Adding layer: Gain Mag\n",
      "Starting webmap\n",
      "Using default refresh token for geeView: /home/jupyter/.config/earthengine/credentials\n",
      "Local web server at: http://localhost:8001/geeView/ already serving.\n",
      "cwd /home/jupyter/lcms-training\n",
      "Workbench Proxy URL: https://3a96040caeb4cbe7-dot-us-west3.notebooks.googleusercontent.com/proxy/8001/geeView/?accessToken=None\n"
     ]
    },
    {
     "data": {
      "text/html": [
       "\n",
       "        <iframe\n",
       "            width=\"100%\"\n",
       "            height=\"525px\"\n",
       "            src=\"https://3a96040caeb4cbe7-dot-us-west3.notebooks.googleusercontent.com/proxy/8001/geeView/?accessToken=None\"\n",
       "            frameborder=\"0\"\n",
       "            allowfullscreen\n",
       "            \n",
       "        ></iframe>\n",
       "        "
      ],
      "text/plain": [
       "<IPython.lib.display.IFrame at 0x7f5f5ee59c60>"
      ]
     },
     "metadata": {},
     "output_type": "display_data"
    },
    {
     "name": "stderr",
     "output_type": "stream",
     "text": [
      "127.0.0.1 - - [02/Aug/2023 15:23:36] \"GET /geeView/js/runGeeViz.js HTTP/1.1\" 200 -\n"
     ]
    }
   ],
   "source": [
    "\n",
    "\n",
    "\n",
    "#Specify which band to use for loss and gain.\n",
    "#This is most important for the loss and gain magnitude since the year of change will be the same for all years\n",
    "changeDetectionBandName = 'NDVI'\n",
    "\n",
    "# Choose whether to show the most recent ('mostRecent') or highest magnitude ('highestMag') CCDC break\n",
    "sortingMethod = 'mostRecent'\n",
    "####################################################################################################\n",
    "Map.clearMap()\n",
    "#We will not look at more useful ways of visualizing CCDC outputs\n",
    "#First, we will extract the change years and magnitude\n",
    "changeObj = changeDetectionLib.ccdcChangeDetection(ccdcImg,changeDetectionBandName);\n",
    "Map.addLayer(changeObj[sortingMethod]['loss']['year'],{'min':startYear,'max':endYear,'palette':changeDetectionLib.lossYearPalette},'Loss Year')\n",
    "Map.addLayer(changeObj[sortingMethod]['loss']['mag'],{'min':-0.5,'max':-0.1,'palette':changeDetectionLib.lossMagPalette},'Loss Mag',False);\n",
    "Map.addLayer(changeObj[sortingMethod]['gain']['year'],{'min':startYear,'max':endYear,'palette':changeDetectionLib.gainYearPalette},'Gain Year');\n",
    "Map.addLayer(changeObj[sortingMethod]['gain']['mag'],{'min':0.05,'max':0.2,'palette':changeDetectionLib.gainMagPalette},'Gain Mag',False);\n",
    "\n",
    "Map.turnOnInspector()\n",
    "Map.view()\n",
    "#Double click on map to see raw years of loss and gain breaks\n",
    "#Notice as you zoom in the layers change since GEE is processing outputs at a given pyramid level"
   ]
  },
  {
   "cell_type": "code",
   "execution_count": 17,
   "id": "85k24SKzBVMA",
   "metadata": {
    "colab": {
     "base_uri": "https://localhost:8080/"
    },
    "executionInfo": {
     "elapsed": 8,
     "status": "ok",
     "timestamp": 1690304917726,
     "user": {
      "displayName": "Ian Housman",
      "userId": "00382093583884444463"
     },
     "user_tz": 360
    },
    "id": "85k24SKzBVMA",
    "outputId": "3f7fef2f-455f-411a-deac-58cea7ffe952"
   },
   "outputs": [
    {
     "name": "stdout",
     "output_type": "stream",
     "text": [
      "def simpleCCDCPrediction(img,timeBandName,whichHarmonics,whichBands):\n",
      "  #Unit of each harmonic (1 cycle)\n",
      "  omega = ee.Number(2.0).multiply(math.pi)\n",
      "\n",
      "  #Pull out the time band in the yyyy.ff format\n",
      "  tBand = img.select([timeBandName])\n",
      "  \n",
      "  #Pull out the intercepts and slopes\n",
      "  intercepts = img.select(['.*_INTP'])\n",
      "  slopes = img.select(['.*_SLP']).multiply(tBand)\n",
      "  \n",
      "  #Set up the omega for each harmonic for the given time band\n",
      "  tOmega = ee.Image(whichHarmonics).multiply(omega).multiply(tBand)\n",
      "  cosHarm = tOmega.cos()\n",
      "  sinHarm = tOmega.sin()\n",
      "  \n",
      "  #Set up which harmonics to select\n",
      "\n",
      "  harmSelect = ee.List(whichHarmonics).map(lambda n: ee.String('.*').cat(ee.Number(n).format()))\n",
      "  \n",
      "  #Select the harmonics specified\n",
      "  sins = img.select(['.*_SIN.*'])\n",
      "  sins = sins.select(harmSelect)\n",
      "  coss = img.select(['.*_COS.*'])\n",
      "  coss = coss.select(harmSelect)\n",
      "  \n",
      "  #Set up final output band names\n",
      "  outBns = ee.List(whichBands).map(lambda bn: ee.String(bn).cat('_predicted'))\n",
      "  \n",
      "  #Iterate across each band and predict value\n",
      "  def predHelper(bn):\n",
      "    bn = ee.String(bn);\n",
      "    return ee.Image([intercepts.select(bn.cat('_.*')),\n",
      "                    slopes.select(bn.cat('_.*')),\n",
      "                    sins.select(bn.cat('_.*')).multiply(sinHarm),\n",
      "                    coss.select(bn.cat('_.*')).multiply(cosHarm)\n",
      "                    ]).reduce(ee.Reducer.sum());\n",
      "  predicted = ee.ImageCollection(list(map(predHelper,whichBands))).toBands().rename(outBns)\n",
      "  return img.addBands(predicted)\n",
      "\n"
     ]
    }
   ],
   "source": [
    "# We will need to manipulate the array image to get meaningful data such as synthetic composites and harmonic coefficients\n",
    "# This function is useful to get the predicted values for a given date\n",
    "print(inspect.getsource(changeDetectionLib.simpleCCDCPrediction) )"
   ]
  },
  {
   "cell_type": "code",
   "execution_count": 19,
   "id": "8TBboSxqAOi0",
   "metadata": {
    "colab": {
     "base_uri": "https://localhost:8080/",
     "height": 668
    },
    "executionInfo": {
     "elapsed": 843,
     "status": "ok",
     "timestamp": 1690304985774,
     "user": {
      "displayName": "Ian Housman",
      "userId": "00382093583884444463"
     },
     "user_tz": 360
    },
    "id": "8TBboSxqAOi0",
    "outputId": "59506f86-1ccf-486a-b629-5d5ba56afbb7"
   },
   "outputs": [
    {
     "name": "stdout",
     "output_type": "stream",
     "text": [
      "Adding layer: Fitted CCDC\n",
      "Adding layer: Synthetic Composite\n",
      "Starting webmap\n",
      "Using default refresh token for geeView: /home/jupyter/.config/earthengine/credentials\n",
      "Local web server at: http://localhost:8001/geeView/ already serving.\n",
      "cwd /home/jupyter/lcms-training\n",
      "Workbench Proxy URL: https://3a96040caeb4cbe7-dot-us-west3.notebooks.googleusercontent.com/proxy/8001/geeView/?accessToken=None\n"
     ]
    },
    {
     "data": {
      "text/html": [
       "\n",
       "        <iframe\n",
       "            width=\"100%\"\n",
       "            height=\"525px\"\n",
       "            src=\"https://3a96040caeb4cbe7-dot-us-west3.notebooks.googleusercontent.com/proxy/8001/geeView/?accessToken=None\"\n",
       "            frameborder=\"0\"\n",
       "            allowfullscreen\n",
       "            \n",
       "        ></iframe>\n",
       "        "
      ],
      "text/plain": [
       "<IPython.lib.display.IFrame at 0x7f5f5ea4fd90>"
      ]
     },
     "metadata": {},
     "output_type": "display_data"
    },
    {
     "name": "stderr",
     "output_type": "stream",
     "text": [
      "127.0.0.1 - - [02/Aug/2023 15:24:09] \"GET /geeView/js/runGeeViz.js HTTP/1.1\" 200 -\n"
     ]
    }
   ],
   "source": [
    "Map.clearMap()\n",
    "\n",
    "#Specify which harmonics to use when predicting the CCDC model\n",
    "#CCDC exports the first 3 harmonics (1 cycle/yr, 2 cycles/yr, and 3 cycles/yr)\n",
    "#If you only want to see yearly patterns, specify [1]\n",
    "#If you would like a tighter fit in the predicted value, include the second or third harmonic as well [1,2,3]\n",
    "whichHarmonics = [1,2,3]\n",
    "\n",
    "#Whether to fill gaps between segments' end year and the subsequent start year to the break date\n",
    "fillGaps = False\n",
    "\n",
    "#Apply the CCDC harmonic model across a time series\n",
    "#First get a time series of time images with a time step of 0.1 of a year\n",
    "yearImages = changeDetectionLib.getTimeImageCollection(startYear,endYear,startJulian,endJulian,0.1);\n",
    "\n",
    "#Then predict the CCDC models\n",
    "fitted = changeDetectionLib.predictCCDC(ccdcImg,yearImages,fillGaps,whichHarmonics)\n",
    "Map.addLayer(fitted.select(['.*_predicted']),{'bands':'swir1_predicted,nir_predicted,red_predicted','min':0.05,'max':0.6},'Fitted CCDC',True);\n",
    "\n",
    "\n",
    "# Synthetic composites visualizing\n",
    "# Take common false color composite bands and visualize them for the next to the last year\n",
    "\n",
    "# First get the bands of predicted bands and then split off the name\n",
    "fittedBns = fitted.select(['.*_predicted']).first().bandNames()\n",
    "bns = fittedBns.map(lambda bn: ee.String(bn).split('_').get(0))\n",
    "\n",
    "# Filter down to the next to the last year and a summer date range\n",
    "syntheticComposites = fitted.select(fittedBns,bns)\\\n",
    "    .filter(ee.Filter.calendarRange(endYear-1,endYear-1,'year'))\\\n",
    "    .filter(ee.Filter.calendarRange(60,80)).first()\n",
    "\n",
    "# Visualize output as you would a composite\n",
    "Map.addLayer(syntheticComposites,getImagesLib.vizParamsFalse,'Synthetic Composite')\n",
    "\n",
    "Map.turnOnInspector()\n",
    "Map.view()\n",
    "\n",
    "#No layers will draw, but you can double click on map to see the fitted CCDC time series"
   ]
  }
 ],
 "metadata": {
  "colab": {
   "provenance": []
  },
  "environment": {
   "kernel": "python3",
   "name": "common-cpu.m109",
   "type": "gcloud",
   "uri": "gcr.io/deeplearning-platform-release/base-cpu:m109"
  },
  "kernelspec": {
   "display_name": "Python 3",
   "language": "python",
   "name": "python3"
  },
  "language_info": {
   "codemirror_mode": {
    "name": "ipython",
    "version": 3
   },
   "file_extension": ".py",
   "mimetype": "text/x-python",
   "name": "python",
   "nbconvert_exporter": "python",
   "pygments_lexer": "ipython3",
   "version": "3.10.11"
  }
 },
 "nbformat": 4,
 "nbformat_minor": 5
}
