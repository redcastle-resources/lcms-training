{
 "cells": [
  {
   "cell_type": "code",
   "execution_count": 7,
   "id": "26c53654",
   "metadata": {
    "colab": {
     "base_uri": "https://localhost:8080/"
    },
    "executionInfo": {
     "elapsed": 30034,
     "status": "ok",
     "timestamp": 1690298722287,
     "user": {
      "displayName": "Ian Housman",
      "userId": "00382093583884444463"
     },
     "user_tz": 360
    },
    "id": "26c53654",
    "outputId": "8a1ce0e2-b0f2-498f-ebab-7d27ec8c808d",
    "scrolled": true
   },
   "outputs": [
    {
     "name": "stdout",
     "output_type": "stream",
     "text": [
      "done\n"
     ]
    }
   ],
   "source": [
    "#Example of how to get Landsat data using the getImagesLib, create median composites, run LandTrendr and then filter\n",
    "#LandTrendr output into usable data depicting where, when, and the magnitude of loss and gain\n",
    "####################################################################################################\n",
    "\n",
    "try:\n",
    "  import geeViz.getImagesLib as getImagesLib\n",
    "except:\n",
    "  !python -m pip install geeViz\n",
    "  import geeViz.getImagesLib as getImagesLib\n",
    "\n",
    "\n",
    "#Module imports\n",
    "# import geeViz.getImagesLib as getImagesLib\n",
    "import geeViz.changeDetectionLib as changeDetectionLib\n",
    "import geeViz.assetManagerLib as aml\n",
    "import geeViz.taskManagerLib as tml\n",
    "ee = getImagesLib.ee\n",
    "\n",
    "#Set up to mapper object\n",
    "Map = getImagesLib.Map\n",
    "\n",
    "# Enter proxy url (see in url bar- e.g. https://someCode-dot-someRegion.notebooks.googleusercontent.com/)\n",
    "# If left as None, will prompt user at first Map.view() call \n",
    "Map.proxy_url = 'https://3a96040caeb4cbe7-dot-us-west3.notebooks.googleusercontent.com/'\n",
    "print('done')"
   ]
  },
  {
   "cell_type": "code",
   "execution_count": 18,
   "id": "0YdSMqjxuuAr",
   "metadata": {
    "colab": {
     "base_uri": "https://localhost:8080/"
    },
    "executionInfo": {
     "elapsed": 2097,
     "status": "ok",
     "timestamp": 1690298738442,
     "user": {
      "displayName": "Ian Housman",
      "userId": "00382093583884444463"
     },
     "user_tz": 360
    },
    "id": "0YdSMqjxuuAr",
    "outputId": "5bb7abe2-577e-4be4-8849-9e79cdf5ff94"
   },
   "outputs": [
    {
     "name": "stdout",
     "output_type": "stream",
     "text": [
      "All bands LCMS uses for LandTrendr: ['NBR', 'NDMI', 'NDSI', 'NDVI', 'blue', 'brightness', 'green', 'greenness', 'nir', 'red', 'swir1', 'swir2', 'tcAngleBG', 'wetness']\n",
      "Collection projects/rcr-gee/assets/landTrendr-lcms-training-module-2 already exists\n",
      "Updating permissions for:  projects/rcr-gee/assets/landTrendr-lcms-training-module-2\n",
      "done\n"
     ]
    }
   ],
   "source": [
    "Map.clearMap()\n",
    "# Pick up from module 1 by bringing in composite asset\n",
    "compositesPath = 'projects/rcr-gee/assets/composites-lcms-training-module-1'\n",
    "\n",
    "# Index to use to demonstrate change detection capabilities of LandTrendr\n",
    "#Choose band or index\n",
    "#NBR, NDMI, and NDVI tend to work best\n",
    "#Other good options are wetness and tcAngleBG\n",
    "# Must include 'red','nir','swir1' in order to visualize as false color composites in next code block\n",
    "lcms_actual_lt_collection = ee.ImageCollection('projects/lcms-292214/assets/R8/PR_USVI/Base-Learners/LandTrendr-Collection-1984-2020')\n",
    "print('All bands LCMS uses for LandTrendr:',lcms_actual_lt_collection.aggregate_histogram('band').keys().getInfo())\n",
    "\n",
    "# We can use any/all of the bands, but generally bands that use nir and swir are most useful\n",
    "bandNames = ['red','nir','swir1','swir2','NBR','NDVI','brightness','greenness','wetness']\n",
    "\n",
    "#Define landtrendr params\n",
    "run_params = { \\\n",
    "  'maxSegments':            6,\\\n",
    "  'spikeThreshold':         0.9,\\\n",
    "  'vertexCountOvershoot':   3,\\\n",
    "  'preventOneYearRecovery': False,\\\n",
    "  'recoveryThreshold':      0.25,\\\n",
    "  'pvalThreshold':          0.05,\\\n",
    "  'bestModelProportion':    0.75,\\\n",
    "  'minObservationsNeeded':  6\\\n",
    "}\n",
    "\n",
    "\n",
    "#Set up Names for the export\n",
    "outputName = 'LT_Test'\n",
    "\n",
    "#Provide location composites will be exported to\n",
    "#This should be an asset folder, or more ideally, an asset imageCollection\n",
    "exportPathRoot = 'projects/rcr-gee/assets/landTrendr-lcms-training-module-2'\n",
    "# Make sure collection exists\n",
    "aml.create_image_collection(exportPathRoot)\n",
    "\n",
    "# Currently geeView within Colab uses a different project to authenticate through, so you may need to make your asset public to view from within Colab\n",
    "aml.updateACL(exportPathRoot,writers = [],all_users_can_read = True,readers = [])\n",
    "\n",
    "# Bring in composites and pull info from them\n",
    "composites = ee.ImageCollection(compositesPath)\n",
    "\n",
    "props = composites.first().toDictionary().getInfo()\n",
    "\n",
    "startYear = props['startYear']\n",
    "endYear = props['endYear']\n",
    "\n",
    "startJulian = props['startJulian']\n",
    "endJulian = props['endJulian']\n",
    "\n",
    "\n",
    "proj = composites.first().projection().getInfo()\n",
    "\n",
    "# Pull out the crs\n",
    "# Depending on if a wkt or epsg format is used, it will be stored under a different key\n",
    "if 'crs' not in proj.keys():\n",
    "    crs = proj['wkt']\n",
    "else:\n",
    "    crs = proj['crs']\n",
    "    \n",
    "transform = proj['transform']\n",
    "scale = None\n",
    "\n",
    "studyArea = composites.first().geometry()\n",
    "\n",
    "# Decompress composites by dividing by 10000 for optical bands and add indices\n",
    "composites = composites.select(['blue','green','red','nir','swir1','swir2']).map(lambda img: img.divide(10000).float().copyProperties(img,['system:time_start']))\n",
    "composites = composites.map(getImagesLib.simpleAddIndices)\\\n",
    "                      .map(getImagesLib.getTasseledCap)\\\n",
    "                      .map(getImagesLib.simpleAddTCAngles)\n",
    "\n",
    "print('done')"
   ]
  },
  {
   "cell_type": "code",
   "execution_count": 12,
   "id": "Wj7OzvDy0KKG",
   "metadata": {
    "colab": {
     "base_uri": "https://localhost:8080/",
     "height": 685
    },
    "executionInfo": {
     "elapsed": 845,
     "status": "ok",
     "timestamp": 1690298747821,
     "user": {
      "displayName": "Ian Housman",
      "userId": "00382093583884444463"
     },
     "user_tz": 360
    },
    "id": "Wj7OzvDy0KKG",
    "outputId": "437170bc-1a74-4b57-9b51-956076d48b29"
   },
   "outputs": [
    {
     "name": "stdout",
     "output_type": "stream",
     "text": [
      "Adding layer: Composites\n",
      "Starting webmap\n",
      "Using default refresh token for geeView: /home/jupyter/.config/earthengine/credentials\n",
      "Local web server at: http://localhost:8001/geeView/ already serving.\n",
      "cwd /home/jupyter/lcms-training\n",
      "Workbench Proxy URL: https://3a96040caeb4cbe7-dot-us-west3.notebooks.googleusercontent.com/proxy/8001/geeView/?accessToken=None\n"
     ]
    },
    {
     "data": {
      "text/html": [
       "\n",
       "        <iframe\n",
       "            width=\"100%\"\n",
       "            height=\"525px\"\n",
       "            src=\"https://3a96040caeb4cbe7-dot-us-west3.notebooks.googleusercontent.com/proxy/8001/geeView/?accessToken=None\"\n",
       "            frameborder=\"0\"\n",
       "            allowfullscreen\n",
       "            \n",
       "        ></iframe>\n",
       "        "
      ],
      "text/plain": [
       "<IPython.lib.display.IFrame at 0x7f362a7195d0>"
      ]
     },
     "metadata": {},
     "output_type": "display_data"
    }
   ],
   "source": [
    "# First let's explore the composites and some attributes that can help understand how well the composites turned out\n",
    "Map.clearMap()\n",
    "Map.addTimeLapse(composites,getImagesLib.vizParamsFalse,'Composites')\n",
    "\n",
    "Map.turnOnInspector()\n",
    "Map.view()"
   ]
  },
  {
   "cell_type": "code",
   "execution_count": 19,
   "id": "149fca54",
   "metadata": {
    "colab": {
     "base_uri": "https://localhost:8080/",
     "height": 1000
    },
    "executionInfo": {
     "elapsed": 15779,
     "status": "ok",
     "timestamp": 1690298816811,
     "user": {
      "displayName": "Ian Housman",
      "userId": "00382093583884444463"
     },
     "user_tz": 360
    },
    "id": "149fca54",
    "outputId": "d0da08a8-2959-4ff0-db00-5290580dabef"
   },
   "outputs": [
    {
     "name": "stdout",
     "output_type": "stream",
     "text": [
      "Adding layer: LT Raw red\n",
      "Adding layer: LT Vertex Values Only red\n",
      "Adding layer: Decompressed LT Output red\n",
      "Adding layer: Raw and LT Fitted red\n",
      "pyramiding object: {'.default': 'sample'}\n",
      "Asset currently exists or is being exported and overwrite = False. Export not started. Set overwite = True if you would like to overwite any existing asset or asset exporting task\n",
      "Adding layer: LT Raw nir\n",
      "Adding layer: LT Vertex Values Only nir\n",
      "Adding layer: Decompressed LT Output nir\n",
      "Adding layer: Raw and LT Fitted nir\n",
      "pyramiding object: {'.default': 'sample'}\n",
      "Asset currently exists or is being exported and overwrite = False. Export not started. Set overwite = True if you would like to overwite any existing asset or asset exporting task\n",
      "Adding layer: LT Raw swir1\n",
      "Adding layer: LT Vertex Values Only swir1\n",
      "Adding layer: Decompressed LT Output swir1\n",
      "Adding layer: Raw and LT Fitted swir1\n",
      "pyramiding object: {'.default': 'sample'}\n",
      "Asset currently exists or is being exported and overwrite = False. Export not started. Set overwite = True if you would like to overwite any existing asset or asset exporting task\n",
      "Adding layer: LT Raw swir2\n",
      "Adding layer: LT Vertex Values Only swir2\n",
      "Adding layer: Decompressed LT Output swir2\n",
      "Adding layer: Raw and LT Fitted swir2\n",
      "pyramiding object: {'.default': 'sample'}\n",
      "Asset currently exists or is being exported and overwrite = False. Export not started. Set overwite = True if you would like to overwite any existing asset or asset exporting task\n",
      "Adding layer: LT Raw NBR\n",
      "Adding layer: LT Vertex Values Only NBR\n",
      "Adding layer: Decompressed LT Output NBR\n",
      "Adding layer: Raw and LT Fitted NBR\n",
      "pyramiding object: {'.default': 'sample'}\n",
      "Asset currently exists or is being exported and overwrite = False. Export not started. Set overwite = True if you would like to overwite any existing asset or asset exporting task\n",
      "Adding layer: LT Raw NDVI\n",
      "Adding layer: LT Vertex Values Only NDVI\n",
      "Adding layer: Decompressed LT Output NDVI\n",
      "Adding layer: Raw and LT Fitted NDVI\n",
      "pyramiding object: {'.default': 'sample'}\n",
      "Exporting: LT_Raw_NDVI_yrs1983-2023_jds152-151\n",
      "<Task EXPORT_IMAGE: LT_Raw_NDVI_yrs1983-2023_jds152-151 (UNSUBMITTED)>\n",
      "Adding layer: LT Raw brightness\n",
      "Adding layer: LT Vertex Values Only brightness\n",
      "Adding layer: Decompressed LT Output brightness\n",
      "Adding layer: Raw and LT Fitted brightness\n",
      "pyramiding object: {'.default': 'sample'}\n",
      "Exporting: LT_Raw_brightness_yrs1983-2023_jds152-151\n",
      "<Task EXPORT_IMAGE: LT_Raw_brightness_yrs1983-2023_jds152-151 (UNSUBMITTED)>\n",
      "Adding layer: LT Raw greenness\n",
      "Adding layer: LT Vertex Values Only greenness\n",
      "Adding layer: Decompressed LT Output greenness\n",
      "Adding layer: Raw and LT Fitted greenness\n",
      "pyramiding object: {'.default': 'sample'}\n",
      "Exporting: LT_Raw_greenness_yrs1983-2023_jds152-151\n",
      "<Task EXPORT_IMAGE: LT_Raw_greenness_yrs1983-2023_jds152-151 (UNSUBMITTED)>\n",
      "Adding layer: LT Raw wetness\n",
      "Adding layer: LT Vertex Values Only wetness\n",
      "Adding layer: Decompressed LT Output wetness\n",
      "Adding layer: Raw and LT Fitted wetness\n",
      "pyramiding object: {'.default': 'sample'}\n",
      "Exporting: LT_Raw_wetness_yrs1983-2023_jds152-151\n",
      "<Task EXPORT_IMAGE: LT_Raw_wetness_yrs1983-2023_jds152-151 (UNSUBMITTED)>\n",
      "Adding layer: Study Area\n",
      "Starting webmap\n",
      "Using default refresh token for geeView: /home/jupyter/.config/earthengine/credentials\n",
      "Local web server at: http://localhost:8001/geeView/ already serving.\n",
      "cwd /home/jupyter/lcms-training\n",
      "Workbench Proxy URL: https://3a96040caeb4cbe7-dot-us-west3.notebooks.googleusercontent.com/proxy/8001/geeView/?accessToken=None\n"
     ]
    },
    {
     "data": {
      "text/html": [
       "\n",
       "        <iframe\n",
       "            width=\"100%\"\n",
       "            height=\"525px\"\n",
       "            src=\"https://3a96040caeb4cbe7-dot-us-west3.notebooks.googleusercontent.com/proxy/8001/geeView/?accessToken=None\"\n",
       "            frameborder=\"0\"\n",
       "            allowfullscreen\n",
       "            \n",
       "        ></iframe>\n",
       "        "
      ],
      "text/plain": [
       "<IPython.lib.display.IFrame at 0x7f362a52d5d0>"
      ]
     },
     "metadata": {},
     "output_type": "display_data"
    }
   ],
   "source": [
    "# We will run LandTrendr for each band\n",
    "#Clear the map in case it has been populated with layers/commands earlier\n",
    "Map.clearMap()\n",
    "\n",
    "#Run LANDTRENDR\n",
    "for bandName in bandNames:\n",
    "\n",
    "  # Select the band and run LandTrendr\n",
    "  run_params['timeSeries'] = composites.select([bandName])\n",
    "  rawLT = ee.Algorithms.TemporalSegmentation.LandTrendr(**run_params)\n",
    "\n",
    "  Map.addLayer(rawLT,{},'LT Raw {}'.format(bandName),False)\n",
    "\n",
    "  # Notice the raw LandTrendr output is in GEE's image array format\n",
    "  # We'll need to manipulate the raw output a bit to save on storage space\n",
    "  # Mask out non vertex values to use less storage space\n",
    "  ltArray = rawLT.select(['LandTrendr'])\n",
    "  rmse = rawLT.select(['rmse'])\n",
    "  vertices = ltArray.arraySlice(0,3,4)\n",
    "  ltArray = ltArray.arrayMask(vertices)\n",
    "\n",
    "  # Mask out all but the year and vertex fited values (get rid of the raw and vertex rows)\n",
    "  ltArray = ltArray.arrayMask(ee.Image(ee.Array([[1],[0],[1],[0]])))\n",
    "  rawLTForExport=ltArray.addBands(rmse)\n",
    "  Map.addLayer(rawLTForExport,{},'LT Vertex Values Only {}'.format(bandName),False)\n",
    "\n",
    "  # Show how the compressed vertex-only values can be decompressed later\n",
    "  decompressedC = changeDetectionLib.simpleLTFit(ltArray,startYear,endYear,bandName,True,run_params['maxSegments'])\n",
    "  Map.addLayer(decompressedC,{'bands':'{}_LT_fitted'.format(bandName),'min':0.2,'max':0.8},'Decompressed LT Output {}'.format(bandName),False)\n",
    "\n",
    "  # Join the raw and fited values\n",
    "  fitted = decompressedC.select(['{}_LT_fitted'.format(bandName)])\n",
    "  ltJoined = getImagesLib.joinCollections(composites.select([bandName]),fitted)\n",
    "  Map.addLayer(ltJoined,{'bands':'{}_LT_fitted'.format(bandName),'min':0.2,'max':1,'palette':'D80,080'},'Raw and LT Fitted {}'.format(bandName),True)\n",
    "\n",
    "  # Export LT array image\n",
    "  # Set some properties that will be uses later\n",
    "  rawLTForExport = rawLTForExport.set({'startYear':startYear,\n",
    "                                          'endYear':endYear,\n",
    "                                          'startJulian':startJulian,\n",
    "                                          'endJulian':endJulian,\n",
    "                                          'band':bandName})\n",
    "  rawLTForExport =rawLTForExport.set(run_params)\n",
    "  exportName = 'LT_Raw_{}_yrs{}-{}_jds{}-{}'.format(bandName,startYear,endYear,startJulian,endJulian)\n",
    "  exportPath = exportPathRoot + '/'+ exportName\n",
    "  # Export output\n",
    "  getImagesLib.exportToAssetWrapper(rawLTForExport,exportName,exportPath,{'.default':'sample'},studyArea,scale,crs,transform,overwrite=False)\n",
    "\n",
    "Map.turnOnInspector()\n",
    "Map.addLayer(studyArea, {'strokeColor': '0000FF'}, \"Study Area\", False)\n",
    "Map.view()"
   ]
  },
  {
   "cell_type": "code",
   "execution_count": 14,
   "id": "qBkYgUm3JIRM",
   "metadata": {
    "colab": {
     "base_uri": "https://localhost:8080/"
    },
    "executionInfo": {
     "elapsed": 6005,
     "status": "ok",
     "timestamp": 1690211462841,
     "user": {
      "displayName": "Ian Housman",
      "userId": "00382093583884444463"
     },
     "user_tz": 360
    },
    "id": "qBkYgUm3JIRM",
    "outputId": "410ab298-a91c-4d34-ad21-3effc4990065"
   },
   "outputs": [
    {
     "name": "stdout",
     "output_type": "stream",
     "text": [
      "['projects/rcr-gee/assets/landTrendr-lcms-training-module-2/LT_Raw_NBR_yrs2010-2022_jds273-272', 'projects/rcr-gee/assets/landTrendr-lcms-training-module-2/LT_Raw_NDVI_yrs2010-2022_jds273-272', 'projects/rcr-gee/assets/landTrendr-lcms-training-module-2/LT_Raw_nir_yrs2010-2022_jds273-272', 'projects/rcr-gee/assets/landTrendr-lcms-training-module-2/LT_Raw_red_yrs2010-2022_jds273-272', 'projects/rcr-gee/assets/landTrendr-lcms-training-module-2/LT_Raw_swir1_yrs2010-2022_jds273-272', 'projects/rcr-gee/assets/landTrendr-lcms-training-module-2/LT_Raw_swir2_yrs2010-2022_jds273-272']\n",
      "Deleting: projects/rcr-gee/assets/landTrendr-lcms-training-module-2/LT_Raw_NBR_yrs2010-2022_jds273-272\n",
      "Deleting: projects/rcr-gee/assets/landTrendr-lcms-training-module-2/LT_Raw_NDVI_yrs2010-2022_jds273-272\n",
      "Deleting: projects/rcr-gee/assets/landTrendr-lcms-training-module-2/LT_Raw_nir_yrs2010-2022_jds273-272\n",
      "Deleting: projects/rcr-gee/assets/landTrendr-lcms-training-module-2/LT_Raw_red_yrs2010-2022_jds273-272\n",
      "Deleting: projects/rcr-gee/assets/landTrendr-lcms-training-module-2/LT_Raw_swir1_yrs2010-2022_jds273-272\n",
      "Deleting: projects/rcr-gee/assets/landTrendr-lcms-training-module-2/LT_Raw_swir2_yrs2010-2022_jds273-272\n",
      "done\n"
     ]
    }
   ],
   "source": [
    "# Can track tasks here or at https://code.earthengine.google.com/tasks\n",
    "# If you'd like to track the tasks, use this:\n",
    "# tml.trackTasks2()\n",
    "\n",
    "# If you want to cancel all running tasks, you can use this function\n",
    "# tml.batchCancel()\n",
    "\n",
    "# If you want to empty the collection of all images\n",
    "# aml.batchDelete(exportPathRoot, type = 'imageCollection')\n",
    "\n",
    "print('done')"
   ]
  },
  {
   "cell_type": "code",
   "execution_count": 16,
   "id": "NZHbh8gJJTPB",
   "metadata": {
    "colab": {
     "base_uri": "https://localhost:8080/",
     "height": 737
    },
    "executionInfo": {
     "elapsed": 1950,
     "status": "ok",
     "timestamp": 1690298873230,
     "user": {
      "displayName": "Ian Housman",
      "userId": "00382093583884444463"
     },
     "user_tz": 360
    },
    "id": "NZHbh8gJJTPB",
    "outputId": "218ecd0a-3000-47b1-9258-83a33ea7b6c2"
   },
   "outputs": [
    {
     "name": "stdout",
     "output_type": "stream",
     "text": [
      "Adding layer: LT Fit TS\n"
     ]
    },
    {
     "ename": "AttributeError",
     "evalue": "'NoneType' object has no attribute 'serialize'",
     "output_type": "error",
     "traceback": [
      "\u001b[0;31m---------------------------------------------------------------------------\u001b[0m",
      "\u001b[0;31mAttributeError\u001b[0m                            Traceback (most recent call last)",
      "Cell \u001b[0;32mIn[16], line 9\u001b[0m\n\u001b[1;32m      6\u001b[0m lt_fit \u001b[38;5;241m=\u001b[39m changeDetectionLib\u001b[38;5;241m.\u001b[39mbatchSimpleLTFit(lt,startYear,endYear,\u001b[38;5;28;01mNone\u001b[39;00m,bandPropertyName\u001b[38;5;241m=\u001b[39m\u001b[38;5;124m'\u001b[39m\u001b[38;5;124mband\u001b[39m\u001b[38;5;124m'\u001b[39m,arrayMode\u001b[38;5;241m=\u001b[39m\u001b[38;5;28;01mTrue\u001b[39;00m)\n\u001b[1;32m      8\u001b[0m \u001b[38;5;66;03m# Vizualize image collection for charting (opacity set to 0 so it will chart but not be visible)\u001b[39;00m\n\u001b[0;32m----> 9\u001b[0m \u001b[43mMap\u001b[49m\u001b[38;5;241;43m.\u001b[39;49m\u001b[43maddLayer\u001b[49m\u001b[43m(\u001b[49m\u001b[43mlt_fit\u001b[49m\u001b[43m,\u001b[49m\u001b[43m{\u001b[49m\u001b[38;5;124;43m'\u001b[39;49m\u001b[38;5;124;43mopacity\u001b[39;49m\u001b[38;5;124;43m'\u001b[39;49m\u001b[43m:\u001b[49m\u001b[38;5;241;43m0\u001b[39;49m\u001b[43m}\u001b[49m\u001b[43m,\u001b[49m\u001b[38;5;124;43m'\u001b[39;49m\u001b[38;5;124;43mLT Fit TS\u001b[39;49m\u001b[38;5;124;43m'\u001b[39;49m\u001b[43m)\u001b[49m\n\u001b[1;32m     11\u001b[0m \u001b[38;5;66;03m# Visualize fitted landTrendr composites\u001b[39;00m\n\u001b[1;32m     12\u001b[0m fitted_bns \u001b[38;5;241m=\u001b[39m lt_fit\u001b[38;5;241m.\u001b[39mselect([\u001b[38;5;124m'\u001b[39m\u001b[38;5;124m.*_fitted\u001b[39m\u001b[38;5;124m'\u001b[39m])\u001b[38;5;241m.\u001b[39mfirst()\u001b[38;5;241m.\u001b[39mbandNames()\n",
      "File \u001b[0;32m/opt/conda/lib/python3.10/site-packages/geeViz/geeView.py:224\u001b[0m, in \u001b[0;36mmapper.addLayer\u001b[0;34m(self, image, viz, name, visible)\u001b[0m\n\u001b[1;32m    222\u001b[0m \u001b[38;5;66;03m#Get the id and populate dictionary\u001b[39;00m\n\u001b[1;32m    223\u001b[0m idDict \u001b[38;5;241m=\u001b[39m {}\u001b[38;5;66;03m#image.getMapId()\u001b[39;00m\n\u001b[0;32m--> 224\u001b[0m idDict[\u001b[38;5;124m'\u001b[39m\u001b[38;5;124mitem\u001b[39m\u001b[38;5;124m'\u001b[39m] \u001b[38;5;241m=\u001b[39m \u001b[43mimage\u001b[49m\u001b[38;5;241;43m.\u001b[39;49m\u001b[43mserialize\u001b[49m()\n\u001b[1;32m    225\u001b[0m idDict[\u001b[38;5;124m'\u001b[39m\u001b[38;5;124mname\u001b[39m\u001b[38;5;124m'\u001b[39m] \u001b[38;5;241m=\u001b[39m name \n\u001b[1;32m    226\u001b[0m idDict[\u001b[38;5;124m'\u001b[39m\u001b[38;5;124mvisible\u001b[39m\u001b[38;5;124m'\u001b[39m] \u001b[38;5;241m=\u001b[39m \u001b[38;5;28mstr\u001b[39m(visible)\u001b[38;5;241m.\u001b[39mlower()\n",
      "\u001b[0;31mAttributeError\u001b[0m: 'NoneType' object has no attribute 'serialize'"
     ]
    }
   ],
   "source": [
    "Map.clearMap()\n",
    "\n",
    "# View exported LT output\n",
    "lt = ee.ImageCollection(exportPathRoot)\n",
    "# Convert stacked outputs into collection of fitted, magnitude, slope, duration, etc values for each year\n",
    "lt_fit = changeDetectionLib.batchSimpleLTFit(lt,startYear,endYear,None,bandPropertyName='band',arrayMode=True)\n",
    "\n",
    "# Vizualize image collection for charting (opacity set to 0 so it will chart but not be visible)\n",
    "Map.addLayer(lt_fit,{'opacity':0},'LT Fit TS')\n",
    "\n",
    "# Visualize fitted landTrendr composites\n",
    "fitted_bns = lt_fit.select(['.*_fitted']).first().bandNames()\n",
    "out_bns = fitted_bns.map(lambda bn: ee.String(bn).split('_').get(0))\n",
    "\n",
    "# Give same names as composites\n",
    "lt_synth = lt_fit.select(fitted_bns,out_bns)\n",
    "\n",
    "# Visualize raw and LandTrendr fitted composites\n",
    "Map.addTimeLapse(composites,getImagesLib.vizParamsFalse,'Raw Composite Timelapse')\n",
    "\n",
    "Map.addTimeLapse(lt_synth,getImagesLib.vizParamsFalse,'Synthetic Composite Timelapse')\n",
    "\n",
    "\n",
    "# Join the raw and fited values\n",
    "ltJoined = getImagesLib.joinCollections(composites.select(bandNames),lt_fit.select(['.*_fitted']))\n",
    "print(ltJoined.first().bandNames().getInfo())\n",
    "Map.addLayer(ltJoined,{'min':0.2,'max':1},'Raw and LT Fitted',True)\n",
    "\n",
    "\n",
    "Map.turnOnInspector()\n",
    "Map.addLayer(studyArea, {'strokeColor': '0000FF'}, \"Study Area\", False)\n",
    "Map.view()"
   ]
  }
 ],
 "metadata": {
  "colab": {
   "provenance": []
  },
  "environment": {
   "kernel": "python3",
   "name": "tf2-gpu.2-11.m109",
   "type": "gcloud",
   "uri": "gcr.io/deeplearning-platform-release/tf2-gpu.2-11:m109"
  },
  "kernelspec": {
   "display_name": "Python 3",
   "language": "python",
   "name": "python3"
  },
  "language_info": {
   "codemirror_mode": {
    "name": "ipython",
    "version": 3
   },
   "file_extension": ".py",
   "mimetype": "text/x-python",
   "name": "python",
   "nbconvert_exporter": "python",
   "pygments_lexer": "ipython3",
   "version": "3.10.11"
  }
 },
 "nbformat": 4,
 "nbformat_minor": 5
}
