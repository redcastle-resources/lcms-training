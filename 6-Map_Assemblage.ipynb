{
 "cells": [
  {
   "cell_type": "code",
   "execution_count": 85,
   "id": "2eb2fc88-25b8-4d5a-8a2c-b8e40cbe6178",
   "metadata": {},
   "outputs": [],
   "source": [
    "# Copyright 2023 Google LLC\n",
    "#\n",
    "# Licensed under the Apache License, Version 2.0 (the \"License\");\n",
    "# you may not use this file except in compliance with the License.\n",
    "# You may obtain a copy of the License at\n",
    "#\n",
    "#     https://www.apache.org/licenses/LICENSE-2.0\n",
    "#\n",
    "# Unless required by applicable law or agreed to in writing, software\n",
    "# distributed under the License is distributed on an \"AS IS\" BASIS,\n",
    "# WITHOUT WARRANTIES OR CONDITIONS OF ANY KIND, either express or implied.\n",
    "# See the License for the specific language governing permissions and\n",
    "# limitations under the License."
   ]
  },
  {
   "cell_type": "markdown",
   "id": "ae243bdf-1298-4668-a561-3709d7a26995",
   "metadata": {
    "id": "title:generic,gcp"
   },
   "source": [
    "<img width=50px  src = 'https://apps.fs.usda.gov/lcms-viewer/images/lcms-icon.png'>\n",
    "\n",
    "# LCMS Map Assemblage\n",
    "\n",
    "<table align=\"left\">\n",
    "  <td>\n",
    "    <a href=\"https://colab.research.google.com/github/redcastle-resources/lcms-training/blob/main/6-Map_Assemblage.ipynb\">\n",
    "      <img src=\"https://cloud.google.com/ml-engine/images/colab-logo-32px.png\" alt=\"Colab logo\"> Run in Colab\n",
    "    </a>\n",
    "  </td>\n",
    "  <td>\n",
    "    <a href=\"https://github.com/redcastle-resources/lcms-training/blob/main/6-Map_Assemblage.ipynb\">\n",
    "      <img src=\"https://cloud.google.com/ml-engine/images/github-logo-32px.png\" alt=\"GitHub logo\">\n",
    "      View on GitHub\n",
    "    </a>\n",
    "  </td>\n",
    "  <td>\n",
    "    <a href=\"https://console.cloud.google.com/vertex-ai/workbench/deploy-notebook?download_url=https://github.com/redcastle-resources/lcms-training/blob/main/6-Map_Assemblage.ipynb\">\n",
    "      <img src=\"https://lh3.googleusercontent.com/UiNooY4LUgW_oTvpsNhPpQzsstV5W8F7rYgxgGBD85cWJoLmrOzhVs_ksK_vgx40SHs7jCqkTkCk=e14-rj-sc0xffffff-h130-w32\" alt=\"Vertex AI logo\">\n",
    "      Open in Vertex AI Workbench\n",
    "    </a>\n",
    "  </td>\n",
    "</table>\n",
    "<br/><br/><br/>"
   ]
  },
  {
   "cell_type": "markdown",
   "id": "4603c77e-11e2-45bc-9ddd-b75c4a170d8b",
   "metadata": {
    "id": "overview:mlops"
   },
   "source": [
    "\n",
    "## Overview\n",
    "\n",
    "\n",
    "This notebook teaches how to take raw model outputs and assemble final map classes\n",
    "\n",
    "\n",
    "### Objective\n",
    "\n",
    "In this tutorial, you learn how to manipulate raw model output GEE image arrays to create map outputs of a single class.\n",
    "\n",
    "This tutorial uses the following Google Cloud services:\n",
    "\n",
    "- `Google Earth Engine`\n",
    "\n",
    "The steps performed include:\n",
    "\n",
    "- Looking at raw GEE image array model output assets\n",
    "- Manipulating the image arrays for a basic map assemblage\n",
    "- Performing a more complicated map assemblage that balances omission and commission for Change"
   ]
  },
  {
   "cell_type": "code",
   "execution_count": 2,
   "id": "4fae6857-1dfc-448b-b92f-85ec010f8460",
   "metadata": {},
   "outputs": [
    {
     "name": "stdout",
     "output_type": "stream",
     "text": [
      "Initializing GEE\n",
      "Successfully initialized\n",
      "geeViz package folder: /opt/conda/lib/python3.10/site-packages/geeViz\n",
      "PyTables is not installed. No support for HDF output.\n",
      "Done\n"
     ]
    }
   ],
   "source": [
    "#Module imports\n",
    "#!python -m pip install geeViz --upgrade\n",
    "try:\n",
    "    import geeViz.getImagesLib as getImagesLib\n",
    "except:\n",
    "    !python -m pip install geeViz\n",
    "    import geeViz.getImagesLib as getImagesLib\n",
    "\n",
    "import geeViz.changeDetectionLib as changeDetectionLib\n",
    "import geeViz.assetManagerLib as aml\n",
    "import geeViz.taskManagerLib as tml\n",
    "import geeViz.gee2Pandas as g2p\n",
    "import inspect,operator\n",
    "import matplotlib.pyplot as plt\n",
    "import pandas as pd  \n",
    "# from IPython.display import IFrame,display, HTML\n",
    "ee = getImagesLib.ee\n",
    "Map = getImagesLib.Map\n",
    "\n",
    "# Can set the port used for viewing map outputs\n",
    "Map.port = 1235\n",
    "print('Done')\n"
   ]
  },
  {
   "cell_type": "markdown",
   "id": "cd4a573f-29c3-483d-9e35-f96910089b67",
   "metadata": {},
   "source": [
    "## Before you begin\n",
    "\n",
    "### Set your current URL under `workbench_url`\n",
    "* This will be in your URL/search bar at the top of the browser window you are currently in\n",
    "* It will look something like `https://1234567890122-dot-us-west3.notebooks.googleusercontent.com/`\n",
    "\n",
    "### Set a folder to use for all exports under `export_path_root` \n",
    "* It will be something like `projects/projectID/assets/someFolder`\n",
    "* This folder does not have to already exist. If it does not exist, it will be created"
   ]
  },
  {
   "cell_type": "code",
   "execution_count": 3,
   "id": "cdb3a04b-c869-411d-a552-d624575ffcad",
   "metadata": {},
   "outputs": [
    {
     "name": "stdout",
     "output_type": "stream",
     "text": [
      "Done\n"
     ]
    }
   ],
   "source": [
    "workbench_url = 'https://53c21733d8125e22-dot-us-west3.notebooks.googleusercontent.com'\n",
    "export_path_root  = 'projects/rcr-gee/assets/lcms-training'\n",
    "\n",
    "print('Done')"
   ]
  },
  {
   "cell_type": "code",
   "execution_count": 4,
   "id": "ed03b3ae-31ec-4caf-9add-5d9d1eb1bec7",
   "metadata": {},
   "outputs": [
    {
     "name": "stdout",
     "output_type": "stream",
     "text": [
      "Found the following sub directories:  ['lcms-training', 'lcms-training_module-6_assembledLCMSOutputs']\n",
      "Will attempt to create them if they do not exist\n",
      "Asset projects/rcr-gee/assets/lcms-training already exists\n",
      "Asset projects/rcr-gee/assets/lcms-training/lcms-training_module-6_assembledLCMSOutputs already exists\n",
      "Updating permissions for:  projects/rcr-gee/assets/lcms-training/lcms-training_module-6_assembledLCMSOutputs\n",
      "Done\n"
     ]
    }
   ],
   "source": [
    "# Bring in all folders/collections that are needed\n",
    "# These must already exist as they are created in previous notebooks\n",
    "export_rawLCMSOutputs_collection = f'{export_path_root}/lcms-training_module-5_rawLCMSOutputs'\n",
    "\n",
    "export_assembledLCMSOutputs_collection = f'{export_path_root}/lcms-training_module-6_assembledLCMSOutputs'\n",
    "\n",
    "\n",
    "aml.create_asset(export_assembledLCMSOutputs_collection, asset_type = ee.data.ASSET_TYPE_IMAGE_COLL)\n",
    "\n",
    "# Currently geeView within Colab uses a different project to authenticate through, so you may need to make your asset public to view from within Colab\n",
    "aml.updateACL(export_assembledLCMSOutputs_collection,writers = [],all_users_can_read = True,readers = [])\n",
    "\n",
    "print('Done')"
   ]
  },
  {
   "cell_type": "code",
   "execution_count": 6,
   "id": "e5d6f281-1c62-44ca-a56e-00769912a05f",
   "metadata": {},
   "outputs": [
    {
     "name": "stdout",
     "output_type": "stream",
     "text": [
      "Adding layer: Raw LCMS Change\n",
      "Adding layer: Most Probable LCMS Change\n",
      "Adding layer: Raw LCMS Land Cover\n",
      "Adding layer: Most Probable LCMS Land Cover\n",
      "Adding layer: Raw LCMS Land Use\n",
      "Adding layer: Most Probable LCMS Land Use\n",
      "Starting webmap\n",
      "Using default refresh token for geeView: /home/jupyter/.config/earthengine/credentials\n",
      "Starting local web server at: http://localhost:1235/geeView/\n",
      "HTTP server command: \"/opt/conda/bin/python\" -m http.server  1235\n",
      "Done\n",
      "cwd /home/jupyter/lcms-training\n",
      "Workbench Proxy URL: https://53c21733d8125e22-dot-us-west3.notebooks.googleusercontent.com/proxy/1235/geeView/?accessToken=None\n"
     ]
    },
    {
     "data": {
      "text/html": [
       "\n",
       "        <iframe\n",
       "            width=\"100%\"\n",
       "            height=\"525px\"\n",
       "            src=\"https://53c21733d8125e22-dot-us-west3.notebooks.googleusercontent.com/proxy/1235/geeView/?accessToken=None\"\n",
       "            frameborder=\"0\"\n",
       "            allowfullscreen\n",
       "            \n",
       "        ></iframe>\n",
       "        "
      ],
      "text/plain": [
       "<IPython.lib.display.IFrame at 0x7f049052e770>"
      ]
     },
     "metadata": {},
     "output_type": "display_data"
    },
    {
     "name": "stderr",
     "output_type": "stream",
     "text": [
      "127.0.0.1 - - [22/Aug/2023 03:18:54] \"GET /geeView/js/runGeeViz.js HTTP/1.1\" 200 -\n"
     ]
    }
   ],
   "source": [
    "Map.proxy_url = workbench_url\n",
    "Map.clearMap()\n",
    "# Bring in raw LCMS model outputs\n",
    "raw_lcms = ee.ImageCollection(export_rawLCMSOutputs_collection)\n",
    "\n",
    "# Bring in existing LCMS data for the class names, numbers, and colors\n",
    "lcms_viz_dict = ee.ImageCollection(\"USFS/GTAC/LCMS/v2020-6\").first().toDictionary().getInfo()\n",
    "# print(lcms_viz_dict)\n",
    "    \n",
    "# Get some info\n",
    "products = raw_lcms.aggregate_histogram('product').keys().getInfo()\n",
    "\n",
    "\n",
    "# Specify missing classes in PRUSVI\n",
    "# Talls Shrubs (2 and 6)  and snow/ice (13) are not present and need filled back in\n",
    "# Change and Land_Use have all values\n",
    "missing_names = {'Change':[],\n",
    "                  'Land_Cover':['Tall Shrubs & Trees Mix (SEAK Only)',\n",
    "                                'Tall Shrubs (SEAK Only)',\n",
    "                                'Snow or Ice'],\n",
    "                  'Land_Use':[]\n",
    "                 }\n",
    "def arrayToImage(img,bandNames):\n",
    "    return img.arrayProject([0])\\\n",
    "            .arrayFlatten([bandNames])\\\n",
    "            .copyProperties(img,['system:time_start'])\n",
    "\n",
    "# var c = ee.ImageCollection('projects/rcr-gee/assets/lcms-training/lcms-training_module-5_rawLCMSOutputs')\n",
    "        # .filter(ee.Filter.eq('product','Land_Cover'))\n",
    "\n",
    "# Function to add in a fill value in a 1-d image array of a given index and value\n",
    "def fillArray(img,index,fillValue=0):\n",
    "    imgLeft = img.arraySlice(0,0,index)\n",
    "    imgRight = img.arraySlice(0,index,None)\n",
    "    imgLeft = imgLeft.arrayCat(ee.Image(fillValue).toArray(),0)\n",
    "    out = imgLeft.arrayCat(imgRight,0)\n",
    "    return ee.Image(out.copyProperties(img).copyProperties(img,['system:time_start']))\n",
    "\n",
    "# Function to handle filling multiple values\n",
    "def fillArrayMulti(img,indices,fillValue):\n",
    "    for index in indices:\n",
    "        img = fillArray(img,index,fillValue)\n",
    "    return img\n",
    "\n",
    "# Get the class code of the most confident class\n",
    "# This is the most basic assemblage method and most commonly used\n",
    "# We will start with this approach and then illustrate when this simple approach may not \n",
    "# create the best map in some instances\n",
    "def getMostProbableClass(raw_lcms_product_yr,product):\n",
    "    # Pull the index of the most probable value\n",
    "    # Since 0 is not used for LCMS outputs, add 1\n",
    "    max_prob_class = raw_lcms_product_yr.arrayArgmax().arrayGet(0).add(1).byte().rename([product])\n",
    "    max_prob_class = ee.Image(max_prob_class)\n",
    "\n",
    "    null_code = lcms_viz_dict[f'{product}_class_values'][-1]\n",
    "    max_prob_class = max_prob_class.unmask(null_code)\n",
    "    return max_prob_class.copyProperties(raw_lcms_product_yr,['system:time_start'])\n",
    "\n",
    "# Iterate across each product and assemble the most probable class collection from the raw\n",
    "for product in products:\n",
    "    # Pull the class names\n",
    "    class_names = lcms_viz_dict[f'{product}_class_names'][:-1]\n",
    "   \n",
    "    product_title = product.replace('_',' ')\n",
    "    \n",
    "    # Filter to only include the product of interest\n",
    "    raw_lcms_product = raw_lcms.filter(ee.Filter.eq('product',product))\n",
    "    \n",
    "    # Fill in any missing values\n",
    "    missing_names_product = missing_names[product]\n",
    "    missing_indices_product = [lcms_viz_dict[f'{product}_class_names'].index(missing_name_product) for missing_name_product in missing_names_product]\n",
    "    \n",
    "    if len(missing_names_product) > 0:\n",
    "        raw_lcms_product = raw_lcms_product.map(lambda img: fillArrayMulti(img,missing_indices_product,0))\n",
    "    \n",
    "    # Find the max probability class\n",
    "    maxProb_lcms_product = raw_lcms_product.map(lambda raw_lcms_product_yr:getMostProbableClass(raw_lcms_product_yr,product).set(lcms_viz_dict))\n",
    "    \n",
    "    # Convert raw model probabilities to bands for exploration\n",
    "    raw_lcms_product = raw_lcms_product.map(lambda img:arrayToImage(img,class_names))\n",
    "    \n",
    "    # Add the raw model probabilities to query\n",
    "    Map.addTimeLapse(raw_lcms_product,{},f'Raw LCMS {product_title}')\n",
    "    \n",
    "    # Add the assembed final class maps\n",
    "    Map.addTimeLapse(maxProb_lcms_product,{'autoViz':True},f'Most Probable LCMS {product_title}')\n",
    "Map.turnOnInspector()\n",
    "Map.view()\n",
    "# Take note that the Raw LCMS Change probabilities generally have stable as the most probable\n",
    "# We will need a different assemblage method for change\n",
    "# print('Done')"
   ]
  },
  {
   "cell_type": "code",
   "execution_count": 37,
   "id": "931d1cd7-afba-42a8-8579-7e9611a94c73",
   "metadata": {},
   "outputs": [
    {
     "name": "stdout",
     "output_type": "stream",
     "text": [
      "Adding layer: Assembled LCMS Change\n",
      "Starting webmap\n",
      "Using default refresh token for geeView: /home/jupyter/.config/earthengine/credentials\n",
      "Local web server at: http://localhost:1235/geeView/ already serving.\n",
      "cwd /home/jupyter/lcms-training\n",
      "Workbench Proxy URL: https://53c21733d8125e22-dot-us-west3.notebooks.googleusercontent.com/proxy/1235/geeView/?accessToken=None\n"
     ]
    },
    {
     "data": {
      "text/html": [
       "\n",
       "        <iframe\n",
       "            width=\"100%\"\n",
       "            height=\"525px\"\n",
       "            src=\"https://53c21733d8125e22-dot-us-west3.notebooks.googleusercontent.com/proxy/1235/geeView/?accessToken=None\"\n",
       "            frameborder=\"0\"\n",
       "            allowfullscreen\n",
       "            \n",
       "        ></iframe>\n",
       "        "
      ],
      "text/plain": [
       "<IPython.lib.display.IFrame at 0x7f04904f7460>"
      ]
     },
     "metadata": {},
     "output_type": "display_data"
    },
    {
     "name": "stderr",
     "output_type": "stream",
     "text": [
      "127.0.0.1 - - [23/Aug/2023 02:06:53] \"GET /geeView/js/runGeeViz.js HTTP/1.1\" 200 -\n"
     ]
    }
   ],
   "source": [
    "Map.clearMap()\n",
    "# While this assemblage method works well, you can introduce various rules to talor the final \n",
    "# map product to different audiences\n",
    "# In the case of LCMS, there is a focus on forest applications\n",
    "# We know that our models are generally not very confident about classifying change largely\n",
    "# due to the limited number of training samples that experience change\n",
    "# We also know our land use classes are not mutually exclusive (e.g. non-forest wetlands can potentially occur in any land use)\n",
    "# Therefore we have a lot of confusion in our land use outputs\n",
    "\n",
    "# For assembling change, we choose thresholds that balance omission and commission\n",
    "# These were computed in module 5.1\n",
    "change_thresholds = { 'Slow Loss': 0.29, 'Fast Loss': 0.28, 'Gain': 0.36}\n",
    "\n",
    "# Since a pixel may have probabilities above the threshold of more than one class, we choose the class\n",
    "# with the model confidence that is the highest probability that is also above its respective threshold. \n",
    "# e.g. if the fast loss probability is 0.5 and the slow loss probability is 0.35, the pixel will be assigned fast loss\n",
    "# We will not include stable since stable will be any pixel that is not already assigned to one of the 3 change classes\n",
    "\n",
    "product = 'Change'\n",
    "\n",
    "# Pull the class names\n",
    "class_names = lcms_viz_dict[f'{product}_class_names']\n",
    "class_codes = lcms_viz_dict[f'{product}_class_values']\n",
    "class_dict = dict(zip(class_names,class_codes))\n",
    "\n",
    "# Pull the codes in the correct order\n",
    "class_order_codes = [class_dict[cl] for cl in list(change_thresholds.keys())]\n",
    "\n",
    "# Filter to only include the product of interest\n",
    "raw_lcms_product = raw_lcms.filter(ee.Filter.eq('product',product))\n",
    "    \n",
    "# Function to assemble change for a given year\n",
    "# Uses a specified set of bands and thresholds in order to find the highest probability class above its threshold\n",
    "# It then fills in the stable value as any remaining non null value\n",
    "# Nulls are then recoded to the non processing code\n",
    "def assembleChange(img,product):\n",
    "    # Convert array to multi-band image\n",
    "    img = ee.Image(arrayToImage(img,lcms_viz_dict[f'{product}_class_names'][:-1]))\n",
    "    \n",
    "    # Select only the bands we'd like to assemble\n",
    "    img = img.select(list(change_thresholds.keys()))\n",
    "    \n",
    "    # Find the most confident class\n",
    "    maxConf = img.reduce(ee.Reducer.max())\n",
    "    \n",
    "    # Find pixels that are the most confident and above the threshold\n",
    "    maxConfMask = img.eq(maxConf).And(img.gte(list(change_thresholds.values()))).selfMask()\n",
    "    \n",
    "    # Get class code for any pixel that is above its threshold for the most confident class\n",
    "    maxClass = ee.Image(class_order_codes).updateMask(maxConfMask).reduce(ee.Reducer.first())\n",
    "    \n",
    "    # Fill stable back in\n",
    "    maxClass = maxClass.unmask(1)\n",
    "    \n",
    "    # Burn in non processing where the input was null\n",
    "    maxClass = maxClass.where(img.mask().reduce(ee.Reducer.min()).Not(),class_codes[-1])\n",
    "    \n",
    "    return maxClass.rename([product]).copyProperties(img).copyProperties(img,['system:time_start'])\n",
    "\n",
    "# Iterate across the change probabilities and assemble final change class\n",
    "assembledChange = raw_lcms_product.map(lambda img:assembleChange(img,product).set(lcms_viz_dict))\n",
    "\n",
    "# Explore it on the map\n",
    "Map.addTimeLapse(assembledChange,{'autoViz':True},'Assembled LCMS Change')\n",
    "\n",
    "Map.turnOnInspector()\n",
    "Map.view()"
   ]
  },
  {
   "cell_type": "code",
   "execution_count": 36,
   "id": "51740632-06c2-4acc-ace4-9c36542efee5",
   "metadata": {},
   "outputs": [
    {
     "name": "stdout",
     "output_type": "stream",
     "text": [
      "Adding layer: Most Recent Year of Fast Loss\n",
      "Starting webmap\n",
      "Using default refresh token for geeView: /home/jupyter/.config/earthengine/credentials\n",
      "Local web server at: http://localhost:1235/geeView/ already serving.\n",
      "cwd /home/jupyter/lcms-training\n",
      "Workbench Proxy URL: https://53c21733d8125e22-dot-us-west3.notebooks.googleusercontent.com/proxy/1235/geeView/?accessToken=None\n"
     ]
    },
    {
     "data": {
      "text/html": [
       "\n",
       "        <iframe\n",
       "            width=\"100%\"\n",
       "            height=\"525px\"\n",
       "            src=\"https://53c21733d8125e22-dot-us-west3.notebooks.googleusercontent.com/proxy/1235/geeView/?accessToken=None\"\n",
       "            frameborder=\"0\"\n",
       "            allowfullscreen\n",
       "            \n",
       "        ></iframe>\n",
       "        "
      ],
      "text/plain": [
       "<IPython.lib.display.IFrame at 0x7f04904f77f0>"
      ]
     },
     "metadata": {},
     "output_type": "display_data"
    },
    {
     "name": "stdout",
     "output_type": "stream",
     "text": [
      "['Change', 'year', 'year_1']\n"
     ]
    },
    {
     "name": "stderr",
     "output_type": "stream",
     "text": [
      "127.0.0.1 - - [23/Aug/2023 02:01:17] \"GET /geeView/js/runGeeViz.js HTTP/1.1\" 200 -\n"
     ]
    }
   ],
   "source": [
    "Map.clearMap()\n",
    "# Viewing change outputs can be easier as a composite that shows the most recent year of a single change type\n",
    "# This example will show the most recent year of fast loss\n",
    "\n",
    "# First, add a year constant band\n",
    "assembledChange = assembledChange.map(getImagesLib.addYearBand)\n",
    "\n",
    "# Then mask where change equals fast loss (3)\n",
    "fastLoss = assembledChange.map(lambda img: img.updateMask(img.select([0]).eq(3)))\n",
    "\n",
    "# Find the most recent year\n",
    "mostRecentFastLoss = fastLoss.max().select(['year'])\n",
    "Map.addLayer(mostRecentFastLoss,{'min':1985,'max':2022,'palette':changeDetectionLib.lossYearPalette},'Most Recent Year of Fast Loss')\n",
    "\n",
    "Map.turnOnInspector()\n",
    "Map.view()\n",
    "print(assembledChange.first().bandNames().getInfo())"
   ]
  },
  {
   "cell_type": "code",
   "execution_count": 40,
   "id": "6e65ba06-c1a4-46a3-ab48-c6d6659ea692",
   "metadata": {},
   "outputs": [
    {
     "name": "stdout",
     "output_type": "stream",
     "text": [
      "Adding layer: Tile Grid 240000m\n",
      "Starting webmap\n",
      "Using default refresh token for geeView: /home/jupyter/.config/earthengine/credentials\n",
      "Local web server at: http://localhost:1235/geeView/ already serving.\n",
      "cwd /home/jupyter/lcms-training\n",
      "Workbench Proxy URL: https://53c21733d8125e22-dot-us-west3.notebooks.googleusercontent.com/proxy/1235/geeView/?accessToken=None\n"
     ]
    },
    {
     "data": {
      "text/html": [
       "\n",
       "        <iframe\n",
       "            width=\"100%\"\n",
       "            height=\"525px\"\n",
       "            src=\"https://53c21733d8125e22-dot-us-west3.notebooks.googleusercontent.com/proxy/1235/geeView/?accessToken=None\"\n",
       "            frameborder=\"0\"\n",
       "            allowfullscreen\n",
       "            \n",
       "        ></iframe>\n",
       "        "
      ],
      "text/plain": [
       "<IPython.lib.display.IFrame at 0x7f049016dcf0>"
      ]
     },
     "metadata": {},
     "output_type": "display_data"
    },
    {
     "name": "stderr",
     "output_type": "stream",
     "text": [
      "127.0.0.1 - - [23/Aug/2023 02:08:35] \"GET /geeView/js/runGeeViz.js HTTP/1.1\" 200 -\n"
     ]
    }
   ],
   "source": [
    "Map.clearMap()\n",
    "# Now lets export assembled assets\n",
    "\n",
    "# OPTIONAL!!!!\n",
    "# Optionally, we can export using the tile grid approach\n",
    "# For PRUSVI, LCMS does not need to export using this approach, but this is how you would set it up\n",
    "# First, we'll set up the study area and a tile to export across\n",
    "\n",
    "studyArea = ee.FeatureCollection('projects/lcms-292214/assets/R8/PR_USVI/Ancillary/prusvi_boundary')\n",
    "\n",
    "# Set the size (in meters) of the tiles\n",
    "# We can likely use a large tile for this step\n",
    "# If exports fail, reducing the tileSize is likely to help\n",
    "tileSize = 240000\n",
    "\n",
    "\n",
    "# Set the projection\n",
    "crs = getImagesLib.common_projections['NLCD_CONUS']['crs']\n",
    "transform  = getImagesLib.common_projections['NLCD_CONUS']['transform']\n",
    "scale = None\n",
    "projection = ee.Projection(crs,transform)\n",
    "\n",
    "\n",
    "# Get the grid\n",
    "grid = studyArea.geometry().coveringGrid(projection.atScale(tileSize))\n",
    "Map.addLayer(grid,{},'Tile Grid {}m'.format(tileSize))\n",
    "\n",
    "Map.centerObject(grid)\n",
    "Map.view()"
   ]
  },
  {
   "cell_type": "markdown",
   "id": "51edfcba-8f75-4521-9c90-3834aa7a9bab",
   "metadata": {},
   "source": [
    "* Iterate across each year and assemble full stack output\n",
    "* [Example of fully assembed bands](https://developers.google.com/earth-engine/datasets/catalog/USFS_GTAC_LCMS_v2022-8#bands)\n",
    "* We will not be producing the qa-bits bands"
   ]
  },
  {
   "cell_type": "code",
   "execution_count": null,
   "id": "6782ae1f-f343-4629-be94-2ddca20dd75e",
   "metadata": {},
   "outputs": [
    {
     "name": "stdout",
     "output_type": "stream",
     "text": [
      "Exporting: LCMS_PRUSVI_v2022-Training_1985\n",
      "Exporting: LCMS_PRUSVI_v2022-Training_1986\n",
      "Exporting: LCMS_PRUSVI_v2022-Training_1987\n",
      "Exporting: LCMS_PRUSVI_v2022-Training_1988\n",
      "Exporting: LCMS_PRUSVI_v2022-Training_1989\n",
      "Exporting: LCMS_PRUSVI_v2022-Training_1990\n",
      "Exporting: LCMS_PRUSVI_v2022-Training_1991\n",
      "Exporting: LCMS_PRUSVI_v2022-Training_1992\n",
      "Exporting: LCMS_PRUSVI_v2022-Training_1993\n",
      "Exporting: LCMS_PRUSVI_v2022-Training_1994\n",
      "Exporting: LCMS_PRUSVI_v2022-Training_1995\n",
      "Exporting: LCMS_PRUSVI_v2022-Training_1996\n",
      "Exporting: LCMS_PRUSVI_v2022-Training_1997\n",
      "Exporting: LCMS_PRUSVI_v2022-Training_1998\n",
      "Exporting: LCMS_PRUSVI_v2022-Training_1999\n",
      "Exporting: LCMS_PRUSVI_v2022-Training_2000\n",
      "Exporting: LCMS_PRUSVI_v2022-Training_2001\n",
      "Exporting: LCMS_PRUSVI_v2022-Training_2002\n",
      "Exporting: LCMS_PRUSVI_v2022-Training_2003\n",
      "Exporting: LCMS_PRUSVI_v2022-Training_2004\n",
      "Exporting: LCMS_PRUSVI_v2022-Training_2005\n",
      "Exporting: LCMS_PRUSVI_v2022-Training_2006\n",
      "Exporting: LCMS_PRUSVI_v2022-Training_2007\n",
      "Exporting: LCMS_PRUSVI_v2022-Training_2008\n",
      "Exporting: LCMS_PRUSVI_v2022-Training_2009\n",
      "Exporting: LCMS_PRUSVI_v2022-Training_2010\n",
      "Exporting: LCMS_PRUSVI_v2022-Training_2011\n",
      "Exporting: LCMS_PRUSVI_v2022-Training_2012\n",
      "Exporting: LCMS_PRUSVI_v2022-Training_2013\n",
      "Exporting: LCMS_PRUSVI_v2022-Training_2014\n",
      "Exporting: LCMS_PRUSVI_v2022-Training_2015\n"
     ]
    }
   ],
   "source": [
    "# Iterate across each year, assemble full stack output \n",
    "# products = ['Land_Cover','Land_Use']\n",
    "Map.clearMap()\n",
    "\n",
    "# Provide a study area name and version\n",
    "study_area_name = 'PRUSVI'\n",
    "version = '2022-Training'\n",
    "\n",
    "# Set up years to apply models across\n",
    "apply_years = list(range(1985,2022+1))\n",
    "\n",
    "\n",
    "# This will be populated on the first iteration\n",
    "pyramidingPolicy = None\n",
    "\n",
    "\n",
    "for apply_year in apply_years:\n",
    "    assembled_list = []\n",
    "    probability_list = []\n",
    "    for product in products:\n",
    "        # Pull the class names\n",
    "        class_names = lcms_viz_dict[f'{product}_class_names'][:-1]\n",
    "        \n",
    "        # Get rid of missing class names\n",
    "        class_names = [nm for nm in class_names if nm not in missing_names[product]]\n",
    "        \n",
    "        # Get rid of any characters that aren't allowed\n",
    "        class_names = [nm.replace(' ','-').replace('/','-').replace('&','and') for nm in class_names]\n",
    "        \n",
    "        probability_names = [f'{product}_Raw_Probability_{class_name}' for class_name in class_names]\n",
    "        \n",
    "        product_title = product.replace('_',' ')\n",
    "\n",
    "        # Filter to only include the product of interest\n",
    "        raw_lcms_product_yr = raw_lcms\\\n",
    "                            .filter(ee.Filter.calendarRange(apply_year,apply_year,'year'))\\\n",
    "                            .filter(ee.Filter.eq('product',product)).first()\n",
    "        \n",
    "        if product in ['Land_Cover','Land_Use']:\n",
    "            # Find the max probability class\n",
    "            maxProb_lcms_product_yr = getMostProbableClass(raw_lcms_product_yr,product)\n",
    "            assembled_list.append(maxProb_lcms_product_yr)\n",
    "        \n",
    "        elif product == 'Change':\n",
    "            change_lcms_product_yr = assembleChange(raw_lcms_product_yr,product)\n",
    "            assembled_list.append(change_lcms_product_yr)\n",
    "            \n",
    "        # Convert raw model probabilities to bands for exploration\n",
    "        prob_lcms_product_yr = arrayToImage(raw_lcms_product_yr,probability_names)\n",
    "        probability_list.append(prob_lcms_product_yr)\n",
    "        \n",
    "    final_stack = ee.Image(ee.Image.cat([ee.Image.cat(assembled_list).byte(),ee.Image.cat(probability_list).multiply(100)]).byte()\\\n",
    "                    .copyProperties(raw_lcms_product_yr,['study_area','year']))\n",
    "\n",
    "    exportName = f'LCMS_{study_area_name}_v{version}_{apply_year}'\n",
    "    exportPath = f'{export_assembledLCMSOutputs_collection}/{exportName}'\n",
    "\n",
    "    # Set up a pyramiding object for each band\n",
    "    # Final output bands are thematic and need a mode resampling method\n",
    "    # Probability bands are continuous, so mean is appropriate\n",
    "    if pyramidingPolicy == None:\n",
    "        bns = final_stack.bandNames().getInfo()\n",
    "        pyramidingPolicy = {}\n",
    "        for bn in bns:\n",
    "            if bn.find('_Probability_') == -1:\n",
    "                pyramidingPolicy[bn] = 'mode'\n",
    "            else:\n",
    "                pyramidingPolicy[bn] = 'mean'\n",
    "   \n",
    "    getImagesLib.exportToAssetWrapper(final_stack,exportName,exportPath,pyramidingPolicy,studyArea,scale,crs,transform,overwrite=True)\n",
    "\n",
    "print('Done')"
   ]
  },
  {
   "cell_type": "code",
   "execution_count": null,
   "id": "a34d3be9-ad5f-452c-ad0a-30bb6fbead40",
   "metadata": {},
   "outputs": [
    {
     "name": "stdout",
     "output_type": "stream",
     "text": [
      "21 tasks ready 2023-08-22 02:57:57\n",
      "4 tasks running 2023-08-22 02:57:57\n",
      "Running names:\n",
      "['LCMS_PRUSVI_v2022-Training_2001', '0:00:44']\n",
      "['LCMS_PRUSVI_v2022-Training_2000', '0:05:39']\n",
      "['LCMS_PRUSVI_v2022-Training_1999', '0:09:12']\n",
      "['LCMS_PRUSVI_v2022-Training_1997', '0:12:41']\n",
      "\n",
      "\n",
      "21 tasks ready 2023-08-22 02:58:02\n",
      "4 tasks running 2023-08-22 02:58:02\n",
      "Running names:\n",
      "['LCMS_PRUSVI_v2022-Training_2001', '0:00:49']\n",
      "['LCMS_PRUSVI_v2022-Training_2000', '0:05:44']\n",
      "['LCMS_PRUSVI_v2022-Training_1999', '0:09:17']\n",
      "['LCMS_PRUSVI_v2022-Training_1997', '0:12:47']\n",
      "\n",
      "\n",
      "Serving HTTP on 0.0.0.0 port 4321 (http://0.0.0.0:4321/) ...\n",
      "\n",
      "Keyboard interrupt received, exiting.\n"
     ]
    }
   ],
   "source": [
    "# Can track tasks here or at https://code.earthengine.google.com/tasks\n",
    "# If you'd like to track the tasks, use this:\n",
    "tml.trackTasks2()\n",
    "\n",
    "# If you want to cancel all running tasks, you can use this function\n",
    "# tml.batchCancel()\n",
    "\n",
    "# If you want to empty the collection of all images\n",
    "# aml.batchDelete(export_rawLCMSOutputs_collection, type = 'imageCollection')\n",
    "\n",
    "print('done')"
   ]
  },
  {
   "cell_type": "code",
   "execution_count": 10,
   "id": "dc243533-d2b8-41cd-b85e-6271aa3779c3",
   "metadata": {},
   "outputs": [
    {
     "name": "stdout",
     "output_type": "stream",
     "text": [
      "Adding layer: Full Stack Output\n",
      "Adding layer: LCMS Change\n",
      "Adding layer: LCMS Land_Cover\n",
      "Adding layer: LCMS Land_Use\n",
      "Starting webmap\n",
      "Using default refresh token for geeView: /home/jupyter/.config/earthengine/credentials\n",
      "Local web server at: http://localhost:1235/geeView/ already serving.\n",
      "cwd /home/jupyter/lcms-training\n",
      "Workbench Proxy URL: https://53c21733d8125e22-dot-us-west3.notebooks.googleusercontent.com/proxy/1235/geeView/?accessToken=None\n"
     ]
    },
    {
     "data": {
      "text/html": [
       "\n",
       "        <iframe\n",
       "            width=\"100%\"\n",
       "            height=\"525px\"\n",
       "            src=\"https://53c21733d8125e22-dot-us-west3.notebooks.googleusercontent.com/proxy/1235/geeView/?accessToken=None\"\n",
       "            frameborder=\"0\"\n",
       "            allowfullscreen\n",
       "            \n",
       "        ></iframe>\n",
       "        "
      ],
      "text/plain": [
       "<IPython.lib.display.IFrame at 0x7f04910ff1c0>"
      ]
     },
     "metadata": {},
     "output_type": "display_data"
    },
    {
     "name": "stderr",
     "output_type": "stream",
     "text": [
      "127.0.0.1 - - [22/Aug/2023 03:48:56] \"GET /geeView/js/runGeeViz.js HTTP/1.1\" 200 -\n"
     ]
    }
   ],
   "source": [
    "# View final outputs\n",
    "Map.clearMap()\n",
    "lcms = ee.ImageCollection(export_assembledLCMSOutputs_collection)\n",
    "\n",
    "Map.addLayer(lcms,{'opacity':0},'Full Stack Output')\n",
    "lcms = lcms.map(lambda img:img.set(lcms_viz_dict))\n",
    "for product in products:Map.addTimeLapse(lcms.select([product]),{'autoViz':True},f'LCMS {product}')\n",
    "\n",
    "Map.turnOnInspector()\n",
    "Map.view()"
   ]
  }
 ],
 "metadata": {
  "environment": {
   "kernel": "python3",
   "name": "common-cpu.m110",
   "type": "gcloud",
   "uri": "gcr.io/deeplearning-platform-release/base-cpu:m110"
  },
  "kernelspec": {
   "display_name": "Python 3",
   "language": "python",
   "name": "python3"
  },
  "language_info": {
   "codemirror_mode": {
    "name": "ipython",
    "version": 3
   },
   "file_extension": ".py",
   "mimetype": "text/x-python",
   "name": "python",
   "nbconvert_exporter": "python",
   "pygments_lexer": "ipython3",
   "version": "3.10.12"
  }
 },
 "nbformat": 4,
 "nbformat_minor": 5
}
