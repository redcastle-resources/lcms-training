{
 "cells": [
  {
   "cell_type": "code",
   "execution_count": 85,
   "id": "2eb2fc88-25b8-4d5a-8a2c-b8e40cbe6178",
   "metadata": {},
   "outputs": [],
   "source": [
    "# Copyright 2023 Google LLC\n",
    "#\n",
    "# Licensed under the Apache License, Version 2.0 (the \"License\");\n",
    "# you may not use this file except in compliance with the License.\n",
    "# You may obtain a copy of the License at\n",
    "#\n",
    "#     https://www.apache.org/licenses/LICENSE-2.0\n",
    "#\n",
    "# Unless required by applicable law or agreed to in writing, software\n",
    "# distributed under the License is distributed on an \"AS IS\" BASIS,\n",
    "# WITHOUT WARRANTIES OR CONDITIONS OF ANY KIND, either express or implied.\n",
    "# See the License for the specific language governing permissions and\n",
    "# limitations under the License."
   ]
  },
  {
   "cell_type": "markdown",
   "id": "ae243bdf-1298-4668-a561-3709d7a26995",
   "metadata": {
    "id": "title:generic,gcp"
   },
   "source": [
    "# LCMS Map Assemblage\n",
    "\n",
    "<table align=\"left\">\n",
    "  <td>\n",
    "    <a href=\"https://colab.research.google.com/github/redcastle-resources/lcms-training/blob/main/6-Map_Assemblage.ipynb\">\n",
    "      <img src=\"https://cloud.google.com/ml-engine/images/colab-logo-32px.png\" alt=\"Colab logo\"> Run in Colab\n",
    "    </a>\n",
    "  </td>\n",
    "  <td>\n",
    "    <a href=\"https://github.com/redcastle-resources/lcms-training/blob/main/6-Map_Assemblage.ipynb\">\n",
    "      <img src=\"https://cloud.google.com/ml-engine/images/github-logo-32px.png\" alt=\"GitHub logo\">\n",
    "      View on GitHub\n",
    "    </a>\n",
    "  </td>\n",
    "  <td>\n",
    "    <a href=\"https://console.cloud.google.com/vertex-ai/workbench/deploy-notebook?download_url=https://github.com/redcastle-resources/lcms-training/blob/main/6-Map_Assemblage.ipynb\">\n",
    "      <img src=\"https://lh3.googleusercontent.com/UiNooY4LUgW_oTvpsNhPpQzsstV5W8F7rYgxgGBD85cWJoLmrOzhVs_ksK_vgx40SHs7jCqkTkCk=e14-rj-sc0xffffff-h130-w32\" alt=\"Vertex AI logo\">\n",
    "      Open in Vertex AI Workbench\n",
    "    </a>\n",
    "  </td>\n",
    "</table>\n",
    "<br/><br/><br/>"
   ]
  },
  {
   "cell_type": "markdown",
   "id": "4603c77e-11e2-45bc-9ddd-b75c4a170d8b",
   "metadata": {
    "id": "overview:mlops"
   },
   "source": [
    "\n",
    "## Overview\n",
    "\n",
    "\n",
    "This notebook teaches how to take raw model outputs and assemble final map classes\n",
    "\n",
    "\n",
    "### Objective\n",
    "\n",
    "In this tutorial, you learn how to manipulate raw model output GEE image arrays to create map outputs of a single class.\n",
    "\n",
    "This tutorial uses the following Google Cloud services:\n",
    "\n",
    "- `Google Earth Engine`\n",
    "\n",
    "The steps performed include:\n",
    "\n",
    "- Looking at raw GEE image array model output assets\n",
    "- Manipulating the image arrays for a basic map assemblage\n",
    "- Performing a more complicated map assemblage that balances omission and commission for Change"
   ]
  },
  {
   "cell_type": "code",
   "execution_count": 1,
   "id": "4fae6857-1dfc-448b-b92f-85ec010f8460",
   "metadata": {},
   "outputs": [
    {
     "name": "stdout",
     "output_type": "stream",
     "text": [
      "Initializing GEE\n",
      "Successfully initialized\n",
      "geeViz package folder: /opt/conda/lib/python3.10/site-packages/geeViz\n",
      "PyTables is not installed. No support for HDF output.\n",
      "Done\n"
     ]
    }
   ],
   "source": [
    "#Module imports\n",
    "#!python -m pip install geeViz --upgrade\n",
    "try:\n",
    "    import geeViz.getImagesLib as getImagesLib\n",
    "except:\n",
    "    !python -m pip install geeViz\n",
    "    import geeViz.getImagesLib as getImagesLib\n",
    "\n",
    "import geeViz.changeDetectionLib as changeDetectionLib\n",
    "import geeViz.assetManagerLib as aml\n",
    "import geeViz.taskManagerLib as tml\n",
    "import geeViz.gee2Pandas as g2p\n",
    "import inspect,operator\n",
    "import matplotlib.pyplot as plt\n",
    "import pandas as pd  \n",
    "# from IPython.display import IFrame,display, HTML\n",
    "ee = getImagesLib.ee\n",
    "Map = getImagesLib.Map\n",
    "\n",
    "# Can set the port used for viewing map outputs\n",
    "Map.port = 1235\n",
    "print('Done')\n"
   ]
  },
  {
   "cell_type": "markdown",
   "id": "cd4a573f-29c3-483d-9e35-f96910089b67",
   "metadata": {},
   "source": [
    "## Before you begin\n",
    "\n",
    "### Set your current URL under `workbench_url`\n",
    "* This will be in your URL/search bar at the top of the browser window you are currently in\n",
    "* It will look something like `https://1234567890122-dot-us-west3.notebooks.googleusercontent.com/`\n",
    "\n",
    "### Set a folder to use for all exports under `export_path_root` \n",
    "* It will be something like `projects/projectID/assets/someFolder`\n",
    "* This folder does not have to already exist. If it does not exist, it will be created"
   ]
  },
  {
   "cell_type": "code",
   "execution_count": 2,
   "id": "cdb3a04b-c869-411d-a552-d624575ffcad",
   "metadata": {},
   "outputs": [
    {
     "name": "stdout",
     "output_type": "stream",
     "text": [
      "Done\n"
     ]
    }
   ],
   "source": [
    "workbench_url = 'https://23dcc4ff89e513fb-dot-us-west3.notebooks.googleusercontent.com/'\n",
    "export_path_root  = 'projects/rcr-gee/assets/lcms-training'\n",
    "\n",
    "print('Done')"
   ]
  },
  {
   "cell_type": "code",
   "execution_count": 3,
   "id": "ed03b3ae-31ec-4caf-9add-5d9d1eb1bec7",
   "metadata": {},
   "outputs": [
    {
     "name": "stdout",
     "output_type": "stream",
     "text": [
      "Found the following sub directories:  ['lcms-training', 'lcms-training_module-6_assembledLCMSOutputs']\n",
      "Will attempt to create them if they do not exist\n",
      "Asset projects/rcr-gee/assets/lcms-training already exists\n",
      "projects/rcr-gee/assets/lcms-training/lcms-training_module-6_assembledLCMSOutputs\n",
      "New asset projects/rcr-gee/assets/lcms-training/lcms-training_module-6_assembledLCMSOutputs created\n",
      "Updating permissions for:  projects/rcr-gee/assets/lcms-training/lcms-training_module-6_assembledLCMSOutputs\n",
      "Done\n"
     ]
    }
   ],
   "source": [
    "# Bring in all folders/collections that are needed\n",
    "# These must already exist as they are created in previous notebooks\n",
    "export_rawLCMSOutputs_collection = f'{export_path_root}/lcms-training_module-5_rawLCMSOutputs'\n",
    "\n",
    "export_assembledLCMSOutputs_collection = f'{export_path_root}/lcms-training_module-6_assembledLCMSOutputs'\n",
    "\n",
    "\n",
    "aml.create_asset(export_assembledLCMSOutputs_collection, asset_type = ee.data.ASSET_TYPE_IMAGE_COLL)\n",
    "\n",
    "# Currently geeView within Colab uses a different project to authenticate through, so you may need to make your asset public to view from within Colab\n",
    "aml.updateACL(export_assembledLCMSOutputs_collection,writers = [],all_users_can_read = True,readers = [])\n",
    "\n",
    "print('Done')"
   ]
  },
  {
   "cell_type": "code",
   "execution_count": 59,
   "id": "e5d6f281-1c62-44ca-a56e-00769912a05f",
   "metadata": {},
   "outputs": [
    {
     "name": "stdout",
     "output_type": "stream",
     "text": [
      "{'1.0228896E12': 28, '1.0544256E12': 28, '1.086048E12': 28, '1.117584E12': 28, '1.14912E12': 28, '1.180656E12': 28, '1.2122784E12': 28, '1.2438144E12': 28, '1.2753504E12': 28, '1.3068864E12': 28, '1.3385088E12': 28, '1.3700448E12': 28, '1.4015808E12': 28, '1.4331168E12': 28, '1.4647392E12': 28, '1.4962752E12': 28, '1.5278112E12': 28, '1.5593472E12': 28, '1.5909696E12': 28, '1.6225056E12': 28, '1.6540416E12': 28, '4.86432E11': 42, '5.17968E11': 42, '5.49504E11': 42, '5.811264E11': 42, '6.126624E11': 42, '6.441984E11': 42, '6.757344E11': 42, '7.073568E11': 42, '7.388928E11': 42, '7.704288E11': 42, '8.019648E11': 30, '8.335872E11': 28, '8.651232E11': 28, '8.966592E11': 28, '9.281952E11': 28, '9.598176E11': 28, '9.913536E11': 28}\n",
      "{'1985.0': 42, '1986.0': 42, '1987.0': 42, '1988.0': 42, '1989.0': 42, '1990.0': 42, '1991.0': 42, '1992.0': 42, '1993.0': 42, '1994.0': 42, '1995.0': 30, '1996.0': 28, '1997.0': 28, '1998.0': 28, '1999.0': 28, '2000.0': 28, '2001.0': 28, '2002.0': 28, '2003.0': 28, '2004.0': 28, '2005.0': 28, '2006.0': 28, '2007.0': 28, '2008.0': 28, '2009.0': 28, '2010.0': 28, '2011.0': 28, '2012.0': 28, '2013.0': 28, '2014.0': 28, '2015.0': 28, '2016.0': 28, '2017.0': 28, '2018.0': 28, '2019.0': 28, '2020.0': 28, '2021.0': 28, '2022.0': 28}\n",
      "Adding layer: Most Probable LCMS Land Cover\n",
      "Adding layer: Most Probable LCMS Land Use\n",
      "Adding layer: Most Probable LCMS Change\n",
      "Starting webmap\n",
      "Using default refresh token for geeView: /home/jupyter/.config/earthengine/credentials\n",
      "Local web server at: http://localhost:1235/geeView/ already serving.\n",
      "cwd /home/jupyter/lcms-training\n",
      "Workbench Proxy URL: https://23dcc4ff89e513fb-dot-us-west3.notebooks.googleusercontent.com/proxy/1235/geeView/?accessToken=None\n"
     ]
    },
    {
     "data": {
      "text/html": [
       "\n",
       "        <iframe\n",
       "            width=\"100%\"\n",
       "            height=\"525px\"\n",
       "            src=\"https://23dcc4ff89e513fb-dot-us-west3.notebooks.googleusercontent.com/proxy/1235/geeView/?accessToken=None\"\n",
       "            frameborder=\"0\"\n",
       "            allowfullscreen\n",
       "            \n",
       "        ></iframe>\n",
       "        "
      ],
      "text/plain": [
       "<IPython.lib.display.IFrame at 0x7fd9ce140310>"
      ]
     },
     "metadata": {},
     "output_type": "display_data"
    },
    {
     "name": "stdout",
     "output_type": "stream",
     "text": [
      "Done\n"
     ]
    }
   ],
   "source": [
    "Map.proxy_url = workbench_url\n",
    "Map.clearMap()\n",
    "# Bring in raw LCMS model outputs\n",
    "raw_lcms = ee.ImageCollection(export_rawLCMSOutputs_collection)\n",
    "\n",
    "# Bring in existing LCMS data for the class names, numbers, and colors\n",
    "lcms_viz_dict = ee.ImageCollection(\"USFS/GTAC/LCMS/v2020-6\").first().toDictionary().getInfo()\n",
    "  \n",
    "    \n",
    "# Get some info\n",
    "raw_lcms = raw_lcms.map(lambda img:img.set('product',img.bandNames().get(0)))\n",
    "products = raw_lcms.aggregate_histogram('product').keys().getInfo()\n",
    "products = ['Land_Cover','Land_Use','Change']\n",
    "\n",
    "# Specify missing land cover codes in PRUSVI\n",
    "# Talls Shrubs (2 and 6)  and snow/ice (13) are not present and need filled back in\n",
    "# Change and Land_Use have all values, so just putting a very large number will cause it to skip it\n",
    "missing_values = {'Change':[9999],\n",
    "                  'Land_Cover':[2,6,13],\n",
    "                  'Land_Use':[9999]\n",
    "                 }\n",
    "print(raw_lcms.aggregate_histogram('system:time_start').getInfo())\n",
    "print(raw_lcms.aggregate_histogram('year').getInfo())\n",
    "for product in products:\n",
    "    product_title = product.replace('_',' ')\n",
    "    raw_lcms_product = raw_lcms.filter(ee.Filter.eq('product',product))\n",
    "    years = raw_lcms_product.aggregate_histogram('year').keys().getInfo()\n",
    "    c = []\n",
    "    for year in years:\n",
    "        year = int(float(year))\n",
    "        raw_lcms_product_yr = raw_lcms_product.filter(ee.Filter.eq('year',year)).mosaic()\n",
    "        # Map.addLayer(raw_lcms_product_yr,{},f'Raw LCMS {product_title} {year}')\n",
    "        \n",
    "        max_prob_class = raw_lcms_product_yr.arrayArgmax().arrayGet(0).add(1).byte().rename([product])\n",
    "        max_prob_class = ee.Image(max_prob_class.set(lcms_viz_dict))\n",
    "        \n",
    "        # Handle missing land cover types\n",
    "        for missing_value in missing_values[product]:\n",
    "            max_prob_class = max_prob_class.where(max_prob_class.gte(missing_value),max_prob_class.add(1))\n",
    "        # print(max_prob_class.visualize().getInfo())\n",
    "        # print(max_prob_class.getInfo())\n",
    "        # Map.addLayer(max_prob_class,{'autoViz':True},f'Most Probable LCMS {product_title} {year}')\n",
    "        c.append(max_prob_class.set('system:time_start',ee.Date.fromYMD(year,6,1).millis()))\n",
    "        # print(product,year)\n",
    "    c = ee.ImageCollection(c)\n",
    "    Map.addTimeLapse(c,{'autoViz':True},f'Most Probable LCMS {product_title}')\n",
    "Map.turnOnInspector()\n",
    "Map.view()\n",
    "print('Done')"
   ]
  },
  {
   "cell_type": "code",
   "execution_count": 31,
   "id": "156202d0-7676-4d07-b37e-20c80362bea8",
   "metadata": {},
   "outputs": [
    {
     "name": "stdout",
     "output_type": "stream",
     "text": [
      "Adding layer: Tile Grid 60000m\n"
     ]
    }
   ],
   "source": [
    "Map.clearMap()\n",
    "# Now lets export predicted assets\n",
    "# First, we'll set up the study area and a tile to export across\n",
    "\n",
    "studyArea = ee.FeatureCollection('projects/lcms-292214/assets/R8/PR_USVI/Ancillary/prusvi_boundary_buff2mile')\n",
    "\n",
    "# Set the size (in meters) of the tiles\n",
    "tileSize = 60000\n",
    "\n",
    "# Set the projection\n",
    "crs = getImagesLib.common_projections['NLCD_CONUS']['crs']\n",
    "transform  = getImagesLib.common_projections['NLCD_CONUS']['transform']\n",
    "scale = None\n",
    "projection = ee.Projection(crs,transform)\n",
    "\n",
    "# Set up years to apply models across\n",
    "apply_years = list(range(1985,2022+1))\n",
    "\n",
    "# Get the grid\n",
    "grid = studyArea.geometry().coveringGrid(projection.atScale(tileSize))\n",
    "Map.addLayer(grid,{},'Tile Grid {}m'.format(tileSize))\n",
    "\n",
    "Map.centerObject(studyArea)\n",
    "# Map.view()"
   ]
  },
  {
   "cell_type": "code",
   "execution_count": null,
   "id": "a34d3be9-ad5f-452c-ad0a-30bb6fbead40",
   "metadata": {},
   "outputs": [],
   "source": [
    "# Can track tasks here or at https://code.earthengine.google.com/tasks\n",
    "# If you'd like to track the tasks, use this:\n",
    "# tml.trackTasks2()\n",
    "\n",
    "# If you want to cancel all running tasks, you can use this function\n",
    "# tml.batchCancel()\n",
    "\n",
    "# If you want to empty the collection of all images\n",
    "# aml.batchDelete(export_rawLCMSOutputs_collection, type = 'imageCollection')\n",
    "\n",
    "print('done')"
   ]
  }
 ],
 "metadata": {
  "environment": {
   "kernel": "python3",
   "name": "common-cpu.m109",
   "type": "gcloud",
   "uri": "gcr.io/deeplearning-platform-release/base-cpu:m109"
  },
  "kernelspec": {
   "display_name": "Python 3",
   "language": "python",
   "name": "python3"
  },
  "language_info": {
   "codemirror_mode": {
    "name": "ipython",
    "version": 3
   },
   "file_extension": ".py",
   "mimetype": "text/x-python",
   "name": "python",
   "nbconvert_exporter": "python",
   "pygments_lexer": "ipython3",
   "version": "3.10.11"
  }
 },
 "nbformat": 4,
 "nbformat_minor": 5
}
