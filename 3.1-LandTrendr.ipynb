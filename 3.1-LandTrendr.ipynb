{
 "cells": [
  {
   "cell_type": "code",
   "execution_count": 1,
   "id": "a0b634cb",
   "metadata": {},
   "outputs": [],
   "source": [
    "# Copyright 2023 Google LLC\n",
    "#\n",
    "# Licensed under the Apache License, Version 2.0 (the \"License\");\n",
    "# you may not use this file except in compliance with the License.\n",
    "# You may obtain a copy of the License at\n",
    "#\n",
    "#     https://www.apache.org/licenses/LICENSE-2.0\n",
    "#\n",
    "# Unless required by applicable law or agreed to in writing, software\n",
    "# distributed under the License is distributed on an \"AS IS\" BASIS,\n",
    "# WITHOUT WARRANTIES OR CONDITIONS OF ANY KIND, either express or implied.\n",
    "# See the License for the specific language governing permissions and\n",
    "# limitations under the License."
   ]
  },
  {
   "cell_type": "markdown",
   "id": "30d9a747",
   "metadata": {
    "id": "title:generic,gcp"
   },
   "source": [
    "# Lab 3.1- Run LandTrendr over Composites\n",
    "\n",
    "<table align=\"left\">\n",
    "  <td>\n",
    "    <a href=\"https://colab.research.google.com/github/redcastle-resources/lcms-training/blob/main/3.1-LandTrendr.ipynb\">\n",
    "      <img src=\"https://cloud.google.com/ml-engine/images/colab-logo-32px.png\" alt=\"Colab logo\"> Run in Colab\n",
    "    </a>\n",
    "  </td>\n",
    "  <td>\n",
    "    <a href=\"https://github.com/redcastle-resources/lcms-training/blob/main/3.1-LandTrendr.ipynb\">\n",
    "      <img src=\"https://cloud.google.com/ml-engine/images/github-logo-32px.png\" alt=\"GitHub logo\">\n",
    "      View on GitHub\n",
    "    </a>\n",
    "  </td>\n",
    "  <td>\n",
    "    <a href=\"https://console.cloud.google.com/vertex-ai/workbench/deploy-notebook?download_url=https://github.com/redcastle-resources/lcms-training/blob/main/3.1-LandTrendr.ipynb\">\n",
    "      <img src=\"https://lh3.googleusercontent.com/UiNooY4LUgW_oTvpsNhPpQzsstV5W8F7rYgxgGBD85cWJoLmrOzhVs_ksK_vgx40SHs7jCqkTkCk=e14-rj-sc0xffffff-h130-w32\" alt=\"Vertex AI logo\">\n",
    "      Open in Vertex AI Workbench\n",
    "    </a>\n",
    "  </td>\n",
    "</table>\n",
    "<br/><br/><br/>"
   ]
  },
  {
   "cell_type": "markdown",
   "id": "53a80709",
   "metadata": {
    "id": "overview:mlops"
   },
   "source": [
    "## Overview\n",
    "\n",
    "LandTrendr, short for Landsat-based detection of Trends in Disturbance and Recovery, is a temporal segmentation algorithm used for change detection as well as time-series smoothing. You can use LandTrendr outputs for stand-alone change detection or as inputs to modeling models such as the ones used by LCMS. \n",
    "\n",
    "**This notebook uses Landsat and Sentinel-2 composites, like the ones you created in the previous notebook, as inputs to the LandTrendr temporal segmentation and spectral smoothing operations.**\n",
    "\n",
    "##### To learn more about LandTrendr:\n",
    "- [LandTrendr Guide](https://emapr.github.io/LT-GEE/)\n",
    "- [LandTrendr Original Publication](https://www.sciencedirect.com/science/article/abs/pii/S0034425710002245)\n",
    "- [LandTrendr GEE Publication](https://www.mdpi.com/2072-4292/10/5/691)\n",
    "\n",
    "\n",
    "### Objective\n",
    "\n",
    "In this tutorial, you learn how to create and manipulate LandTrendr outputs.\n",
    "\n",
    "**This tutorial uses the following Google Cloud services:**\n",
    "\n",
    "- Google Earth Engine\n",
    "\n",
    "**The steps performed include:**\n",
    "\n",
    "- Create LandTrendr outputs\n",
    "- Manipulate EE array image objects to get meaningful data out of LandTrendr outputs\n",
    "\n",
    "**Learning objectives include:**\n",
    "- Users will understand the purpose of temporal segmentation as implemented in LandTrendr.\n",
    "- Users will understand key parameters in LandTrendr algorithm. \n",
    "- Users will be able to generate and manipulate array outputs from LandTrendr. \n"
   ]
  },
  {
   "cell_type": "markdown",
   "id": "f8098072",
   "metadata": {},
   "source": [
    "## Before you begin\n",
    "\n",
    "### If you are working in Workbench: Set your current URL under `workbench_url`\n",
    "This gives the Map Viewer a url in which to host the viewer we will be generating. \n",
    "* This will be in your URL/search bar at the top of the browser window you are currently in\n",
    "* It will look something like `https://1234567890122-dot-us-west3.notebooks.googleusercontent.com/` (See the image below)\n",
    "\n",
    "![workspace url](img/workspace-url.png)\n",
    "\n",
    "### Optional: Set a folder to use for all exports under `export_path_root` \n",
    "**If you accessed this lab through Google Qwiklabs, do not change `export_path_root`.**\n",
    "* This folder should be an assets folder in an existing GEE project.\n",
    "* By default, this folder is the same as the 'pre-baked folder'-- a directory where the outputs have already been created. \n",
    "* If you would like to create your own outputs, specify a different path for `export_path_root`, but leave the `pre_baked_path_root` as it was. This way, the pre-baked outputs can be shown at the end, instead of waiting for all exports to finish.\n",
    "* It will be something like `projects/projectID/assets/someFolder`\n",
    "* This folder does not have to already exist. If it does not exist, it will be created"
   ]
  },
  {
   "cell_type": "code",
   "execution_count": 26,
   "id": "a3cd1d78",
   "metadata": {},
   "outputs": [
    {
     "name": "stdout",
     "output_type": "stream",
     "text": [
      "Done\n"
     ]
    }
   ],
   "source": [
    "workbench_url = 'https://3b40cb8a2076f1b6-dot-us-west3.notebooks.googleusercontent.com/'\n",
    "pre_baked_path_root  = 'projects/rcr-gee/assets/lcms-training'\n",
    "export_path_root = pre_baked_path_root\n",
    "print('Done')"
   ]
  },
  {
   "cell_type": "markdown",
   "id": "64488680",
   "metadata": {},
   "source": [
    "### Installation\n",
    "First, install necessary Python packages. Uncomment the first line to upgrade geeViz if necessary.\n",
    "\n",
    "Note that for this module, we're also importing the `geeViz.changeDetectionLib as changeDetectionLib`. We will use this library later to deploy the LandTrendr functions."
   ]
  },
  {
   "cell_type": "code",
   "execution_count": 27,
   "id": "815e35f2",
   "metadata": {},
   "outputs": [
    {
     "name": "stdout",
     "output_type": "stream",
     "text": [
      "Done\n"
     ]
    }
   ],
   "source": [
    "#Module imports\n",
    "#!python -m pip install geeViz --upgrade\n",
    "try:\n",
    "    import geeViz.getImagesLib as getImagesLib\n",
    "except:\n",
    "    !python -m pip install geeViz\n",
    "    import geeViz.getImagesLib as getImagesLib\n",
    "\n",
    "import geeViz.changeDetectionLib as changeDetectionLib\n",
    "import geeViz.assetManagerLib as aml\n",
    "import geeViz.taskManagerLib as tml\n",
    "import geeViz.gee2Pandas as g2p\n",
    "\n",
    "import inspect\n",
    "\n",
    "ee = getImagesLib.ee\n",
    "Map = getImagesLib.Map\n",
    "\n",
    "print('Done')"
   ]
  },
  {
   "cell_type": "markdown",
   "id": "5a6a869d",
   "metadata": {
    "tags": []
   },
   "source": [
    "### Set up your work environment\n",
    "\n",
    "Specify an image collection path where composites were exported to. In addition, create a blank image collection where your LandTrendr outputs will be exported to.\n",
    "\n",
    "Currently, when running within Colab or Workbench, geeView uses a different project to authenticate through, so you may need to make your asset public to view from within Colab."
   ]
  },
  {
   "cell_type": "code",
   "execution_count": 28,
   "id": "ebd740c1",
   "metadata": {},
   "outputs": [
    {
     "name": "stdout",
     "output_type": "stream",
     "text": [
      "Found the following sub directories:  ['lcms-training', 'lcms-training_module-3_landTrendr']\n",
      "Will attempt to create them if they do not exist\n",
      "Asset projects/rcr-gee/assets/lcms-training already exists\n",
      "Asset projects/rcr-gee/assets/lcms-training/lcms-training_module-3_landTrendr already exists\n",
      "Updating permissions for:  projects/rcr-gee/assets/lcms-training/lcms-training_module-3_landTrendr\n",
      "Done\n"
     ]
    }
   ],
   "source": [
    "# Create folder and a collection and make public\n",
    "\n",
    "export_composite_collection = f'{export_path_root}/lcms-training_module-2_composites'\n",
    "export_landTrendr_collection = f'{export_path_root}/lcms-training_module-3_landTrendr'\n",
    "\n",
    "aml.create_asset(export_landTrendr_collection,asset_type = ee.data.ASSET_TYPE_IMAGE_COLL)\n",
    "\n",
    "# Currently geeView within Colab uses a different project to authenticate through, so you may need to make your asset public to view from within Colab\n",
    "aml.updateACL(export_landTrendr_collection,writers = [],all_users_can_read = True,readers = [])\n",
    "\n",
    "print('Done')"
   ]
  },
  {
   "cell_type": "markdown",
   "id": "32b492fe-9741-4208-8a59-a4374371b605",
   "metadata": {},
   "source": [
    "### Set up the map \n",
    "\n",
    "Run the code block below to set up the map. If, you notice that the map is still displaying outputs from a previous lab, you may need to re-run this code block to reset the port used for the proxy URL. "
   ]
  },
  {
   "cell_type": "code",
   "execution_count": 48,
   "id": "c8372a6b-accf-457f-9926-c83940addccb",
   "metadata": {},
   "outputs": [],
   "source": [
    "# Set up the map\n",
    "\n",
    "Map.clearMap()\n",
    "Map.port = 1235 # reset port if necessary\n",
    "Map.proxy_url = workbench_url"
   ]
  },
  {
   "cell_type": "markdown",
   "id": "ce3826bf",
   "metadata": {},
   "source": [
    "## Change detection with LandTrendr\n",
    "\n",
    "LandTrendr is a temporal segmentation algorithm. LandTrendr works by taking a time series of annual values and fitting multiple linear regression models to recursively break the time series into segments that represent time periods with similar linear trends. The resulting segments can be used to describe change processes on the landscape. \n",
    "\n",
    "![workspace url](https://emapr.github.io/LT-GEE/imgs/segmentation.png)\n",
    "\n",
    "By having the duration, magnitude, slope, etc of each segment, you can more easily detect change with simple rulesets.\n",
    "\n",
    "![workspace url](https://emapr.github.io/LT-GEE/imgs/segment_attributes.png)\n",
    "\n",
    "For example, a short, steep decline is likely to be a fast change, like harvest or fire. A long, shallow decline is likely to be a slower change, due to insects, disease, or drought. LandTrendr can also track periods of recovery, like a long shallow incline following a harvest or fire event. \n",
    "\n",
    "**For more information on LandTrendr, read [Chapter 4.5: Interpreting Annual Time Series with LandTrendr](https://docs.google.com/document/d/11oo1TuvXyEvReoYLDeTcoh16rEN90I8Bf5qp0KxVu7U/edit#heading=h.a480u2bjy8ur) in the [Cloud-Based Remote Sensing with Google Earth Engine ebook](https://www.eefabook.org/).**\n"
   ]
  },
  {
   "cell_type": "markdown",
   "id": "563d0bf1",
   "metadata": {},
   "source": [
    "### Example \n",
    "Below, see an example of data input to LandTrendr.\n",
    "\n",
    "#### LandTrendr bands and parameters\n",
    "\n",
    "Look at the bands included in the **actual** collection that LCMS uses for LandTrendr in Puerto Rico. Note that the path to the asset refers to the LCMS Google Cloud Project. Load the image collection and print the names of the bands. "
   ]
  },
  {
   "cell_type": "code",
   "execution_count": 49,
   "id": "4ee2b0a6",
   "metadata": {
    "colab": {
     "base_uri": "https://localhost:8080/"
    },
    "executionInfo": {
     "elapsed": 2097,
     "status": "ok",
     "timestamp": 1690298738442,
     "user": {
      "displayName": "Ian Housman",
      "userId": "00382093583884444463"
     },
     "user_tz": 360
    },
    "id": "0YdSMqjxuuAr",
    "outputId": "5bb7abe2-577e-4be4-8849-9e79cdf5ff94"
   },
   "outputs": [
    {
     "name": "stdout",
     "output_type": "stream",
     "text": [
      "All bands LCMS uses for LandTrendr: ['NBR', 'NDMI', 'NDSI', 'NDVI', 'blue', 'brightness', 'green', 'greenness', 'nir', 'red', 'swir1', 'swir2', 'tcAngleBG', 'wetness']\n"
     ]
    }
   ],
   "source": [
    "lcms_actual_lt_collection = ee.ImageCollection('projects/lcms-292214/assets/R8/PR_USVI/Base-Learners/LandTrendr-Collection-1984-2020')\n",
    "print('All bands LCMS uses for LandTrendr:',lcms_actual_lt_collection.aggregate_histogram('band').keys().getInfo())"
   ]
  },
  {
   "cell_type": "markdown",
   "id": "6ba23d80",
   "metadata": {},
   "source": [
    "#### Composites\n",
    "For this lab, you'll \n",
    "    a) load the composites that were computed in the previous lab to \n",
    "    b) calculate fitted LandTrendr outputs that indicate the timing, duration, and magnitude of change-- among other outputs. \n",
    "\n",
    "Run the code block below. This code block will: \n",
    "* inspect the composites that you're bringing in\n",
    "* get parameters from the composites that you will use as inputs to the LandTrendr algorithm\n",
    "* calculate additional indices that you will use in LandTrendr"
   ]
  },
  {
   "cell_type": "code",
   "execution_count": 50,
   "id": "2898ee63",
   "metadata": {
    "colab": {
     "base_uri": "https://localhost:8080/"
    },
    "executionInfo": {
     "elapsed": 2097,
     "status": "ok",
     "timestamp": 1690298738442,
     "user": {
      "displayName": "Ian Housman",
      "userId": "00382093583884444463"
     },
     "user_tz": 360
    },
    "id": "0YdSMqjxuuAr",
    "outputId": "5bb7abe2-577e-4be4-8849-9e79cdf5ff94"
   },
   "outputs": [
    {
     "name": "stdout",
     "output_type": "stream",
     "text": [
      "Done\n"
     ]
    }
   ],
   "source": [
    "# Bring in composites and pull info from them\n",
    "composites = ee.ImageCollection(export_composite_collection)\n",
    "\n",
    "props = composites.first().toDictionary().getInfo()\n",
    "\n",
    "startYear = props['startYear']\n",
    "endYear = props['endYear']\n",
    "\n",
    "startJulian = props['startJulian']\n",
    "endJulian = props['endJulian']\n",
    "\n",
    "proj = composites.first().projection().getInfo()\n",
    "\n",
    "# Pull out the crs\n",
    "# Depending on if a wkt or epsg format is used, it will be stored under a different key\n",
    "if 'crs' not in proj.keys():\n",
    "    crs = proj['wkt']\n",
    "else:\n",
    "    crs = proj['crs']\n",
    "    \n",
    "transform = proj['transform']\n",
    "scale = None\n",
    "\n",
    "studyArea = composites.first().geometry()\n",
    "\n",
    "# Decompress composites by dividing by 10000 for optical bands and add indices\n",
    "composites = composites.select(['blue','green','red','nir','swir1','swir2']).map(lambda img: img.divide(10000).float().copyProperties(img,['system:time_start']))\n",
    "composites = composites.map(getImagesLib.simpleAddIndices)\\\n",
    "                      .map(getImagesLib.getTasseledCap)\\\n",
    "                      .map(getImagesLib.simpleAddTCAngles)\n",
    "\n",
    "\n",
    "print('Done')"
   ]
  },
  {
   "cell_type": "markdown",
   "id": "57fdea3c-6656-4eaf-b7a8-50120c6d63a3",
   "metadata": {},
   "source": [
    "#### Inspect\n",
    "Now, inspect the composites. Run the code block below to add the composites to the map. You may need to click the button next to 'Composites' to view the layers on the map. Double-click the map to query the outputs. You should see a time series of values for each of the indices. "
   ]
  },
  {
   "cell_type": "code",
   "execution_count": 53,
   "id": "ec2d198b",
   "metadata": {
    "colab": {
     "base_uri": "https://localhost:8080/",
     "height": 685
    },
    "executionInfo": {
     "elapsed": 845,
     "status": "ok",
     "timestamp": 1690298747821,
     "user": {
      "displayName": "Ian Housman",
      "userId": "00382093583884444463"
     },
     "user_tz": 360
    },
    "id": "Wj7OzvDy0KKG",
    "outputId": "437170bc-1a74-4b57-9b51-956076d48b29"
   },
   "outputs": [
    {
     "name": "stdout",
     "output_type": "stream",
     "text": [
      "Adding layer: Composites\n",
      "Starting webmap\n",
      "Using default refresh token for geeView: /home/jupyter/.config/earthengine/credentials\n",
      "Local web server at: http://localhost:1235/geeView/ already serving.\n",
      "cwd /home/jupyter/lcms-training\n",
      "Workbench Proxy URL: https://3b40cb8a2076f1b6-dot-us-west3.notebooks.googleusercontent.com/proxy/1235/geeView/?accessToken=None\n"
     ]
    },
    {
     "data": {
      "text/html": [
       "\n",
       "        <iframe\n",
       "            width=\"100%\"\n",
       "            height=\"525px\"\n",
       "            src=\"https://3b40cb8a2076f1b6-dot-us-west3.notebooks.googleusercontent.com/proxy/1235/geeView/?accessToken=None\"\n",
       "            frameborder=\"0\"\n",
       "            allowfullscreen\n",
       "            \n",
       "        ></iframe>\n",
       "        "
      ],
      "text/plain": [
       "<IPython.lib.display.IFrame at 0x7f93da5c3b50>"
      ]
     },
     "metadata": {},
     "output_type": "display_data"
    },
    {
     "name": "stderr",
     "output_type": "stream",
     "text": [
      "127.0.0.1 - - [31/Aug/2023 17:04:46] \"GET /geeView/js/runGeeViz.js HTTP/1.1\" 200 -\n"
     ]
    }
   ],
   "source": [
    "# Run map\n",
    "Map.clearMap()\n",
    "Map.addTimeLapse(composites,getImagesLib.vizParamsFalse,'Composites')\n",
    "\n",
    "Map.centerObject(studyArea,9)\n",
    "Map.turnOnInspector()\n",
    "Map.view()"
   ]
  },
  {
   "cell_type": "markdown",
   "id": "9548ac07-e831-4515-9363-192a3c271bd0",
   "metadata": {
    "tags": []
   },
   "source": [
    "## LandTrendr Inputs\n",
    "\n",
    "### Input bands and band indices\n",
    "\n",
    "We can use any or all of the bands in the composites for LandTrendr, but generally bands or band indices that use the NIR and SWIR portions of the electromagnetic spectrum are the most useful. To start, we will be running LandTrendr on only band index: NBR.\n",
    "\n",
    "### LandTrendr parameters\n",
    "The input parameters for the LandTrendr algorithm are described below. \n",
    "\n",
    "| Argument               | Type                    | Details                                                                                                                                                           |\n",
    "|------------------------|-------------------------|-------------------------------------------------------------------------------------------------------------------------------------------------------------------|\n",
    "| timeSeries             | ImageCollection         | Yearly time-series from which to extract breakpoints. The first band is usedto find breakpoints, and all subsequent bands are fitted using those breakpoints.     |\n",
    "| maxSegments            | Integer                 | Maximum number of segments to be fitted on the time series.                                                                                                       |\n",
    "| spikeThreshold         | Float, default: 0.9     | Threshold for dampening the spikes (1.0 means no dampening).                                                                                                      |\n",
    "| vertexCountOvershoot   | Integer, default: 3     | The initial model can overshoot the maxSegments + 1 vertices by this amount. Later, it will be pruned down to maxSegments + 1.                                    |\n",
    "| preventOneYearRecovery | Boolean, default: False | Prevent segments that represent one year recoveries.                                                                                                              |\n",
    "| recoveryThreshold      | Float, default: 0.25    | If a segment has a recovery rate faster than 1/recoveryThreshold (in years), then the segment is disallowed.                                                      |\n",
    "| pvalThreshold          | Float, default: 0.1     | If the p-value of the fitted model exceeds this threshold, then the current model is discarded and another one is fitted using the Levenberg-Marquardt optimizer. |\n",
    "| bestModelProportion    | Float, default: 0.75    | Allows models with more vertices to be chosen if their p-value is no more than (2 - bestModelProportion) times the p-value of the best model.                     |\n",
    "| minObservationsNeeded  | Integer, default: 6     | Min observations needed to perform output fitting.                                                                                                                |\n",
    "\n",
    "#### Parameter values\n",
    "LCMS generally uses the default parameters for the GEE implementation of LandTrendr. Refer to the parameter values in the **GEE** column below. The table below is reproduced from [Kennedy et al. 2018](https://www.mdpi.com/2072-4292/10/5/691), which developed the GEE implementation of LandTrendr from the original IDL version. \n",
    "\n",
    "|       Parameter       |  IDL |   GEE   |                                                                                                        Comments                                                                                                       |\n",
    "|:---------------------:|:----:|:-------:|:---------------------------------------------------------------------------------------------------------------------------------------------------------------------------------------------------------------------:|\n",
    "|      maxSegments      |   6  |    6    |                                                                                                                                                                                                                       |\n",
    "|     spikeThreshold    |  0.9 |   0.9   | Renamed from “desawtooth val”                                                                                                                                                                                         |\n",
    "|  vertexCountOvershoot |   3  |    3    |                                                                                                                                                                                                                       |\n",
    "|   recoveryThreshold   | 0.25 |   0.25  |                                                                                                                                                                                                                       |\n",
    "|     pvalThreshold     | 0.05 |   0.05  |                                                                                                                                                                                                                       |\n",
    "|  bestModelProportion  | 0.75 |   0.75  |                                                                                                                                                                                                                       |\n",
    "| minObservationsNeeded |   6  |    6    | Renamed from “minneeded”                                                                                                                                                                                              |\n",
    "|     Background_val    |   0  |    NA   | GEE uses a mask logic to avoid missing values caused by clouds, shadows, and missing imagery.                                                                                                                         |\n",
    "|        Divisor        |  −1  |    NA   | Ensures that vegetation loss disturbance results in negative change in value when NBR is used as a spectral metric. In GEE, this must be handled outside of the segmentation algorithm.                               |\n",
    "|       Kernelsize      |   1  | Dropped | Originally used together with skipfactor to save computational burden; no longer necessary.                                                                                                                           |\n",
    "|       Skipfactor      |   1  | Dropped |                                                                                                                                                                                                                       |\n",
    "|    Distweightfactor   |   2  | Dropped | Inadvertently hardwired in the IDL code, this parameter was hardwired in the GEE code to the value of 2.                                                                                                              |\n",
    "|     Fix_doy_effect    |   1  | Dropped | Although correcting day-of-year trends was considered theoretically useful in the original LT implementation, in practice it has been found to distort time series values when change occurs and thus was eliminated. |"
   ]
  },
  {
   "cell_type": "markdown",
   "id": "c2db314a-0c44-472d-bb4d-f1aa157903be",
   "metadata": {
    "tags": []
   },
   "source": [
    "**Run the code block below to set the parameters.**"
   ]
  },
  {
   "cell_type": "code",
   "execution_count": 54,
   "id": "38e4824b",
   "metadata": {
    "colab": {
     "base_uri": "https://localhost:8080/"
    },
    "executionInfo": {
     "elapsed": 2097,
     "status": "ok",
     "timestamp": 1690298738442,
     "user": {
      "displayName": "Ian Housman",
      "userId": "00382093583884444463"
     },
     "user_tz": 360
    },
    "id": "0YdSMqjxuuAr",
    "outputId": "5bb7abe2-577e-4be4-8849-9e79cdf5ff94"
   },
   "outputs": [
    {
     "name": "stdout",
     "output_type": "stream",
     "text": [
      "Done\n"
     ]
    }
   ],
   "source": [
    "#Define landtrendr params\n",
    "run_params = { \n",
    "  'maxSegments':            6,\n",
    "  'spikeThreshold':         0.9,\n",
    "  'vertexCountOvershoot':   3,\n",
    "  'preventOneYearRecovery': False,\n",
    "  'recoveryThreshold':      0.25,\n",
    "  'pvalThreshold':          0.05,\n",
    "  'bestModelProportion':    0.75,\n",
    "  'minObservationsNeeded':  6\n",
    "}\n",
    "\n",
    "print('Done')"
   ]
  },
  {
   "cell_type": "markdown",
   "id": "8df8e01c",
   "metadata": {},
   "source": [
    "## Run LandTrendr - single index\n",
    "You will start by running LandTrendr on a single index in order to familiarize yourself with the process and the outputs. \n",
    "\n",
    "You will run LandTrendr using [Normalized Burn Ratio](https://www.usgs.gov/landsat-missions/landsat-normalized-burn-ratio) (NBR).  NBR is a ratio between the NIR and SWIR bands, and is sensitive to changes in moisture and vegetation cover. This will allow you to inspect changes on the landscape without requiring the computation time necessary for all of the bands and band indices in our composite.\n",
    "\n"
   ]
  },
  {
   "cell_type": "code",
   "execution_count": 55,
   "id": "147fa86c",
   "metadata": {},
   "outputs": [
    {
     "name": "stdout",
     "output_type": "stream",
     "text": [
      "Adding layer: LT Raw NBR\n",
      "Starting webmap\n",
      "Using default refresh token for geeView: /home/jupyter/.config/earthengine/credentials\n",
      "Local web server at: http://localhost:1235/geeView/ already serving.\n",
      "cwd /home/jupyter/lcms-training\n",
      "Workbench Proxy URL: https://3b40cb8a2076f1b6-dot-us-west3.notebooks.googleusercontent.com/proxy/1235/geeView/?accessToken=None\n"
     ]
    },
    {
     "data": {
      "text/html": [
       "\n",
       "        <iframe\n",
       "            width=\"100%\"\n",
       "            height=\"525px\"\n",
       "            src=\"https://3b40cb8a2076f1b6-dot-us-west3.notebooks.googleusercontent.com/proxy/1235/geeView/?accessToken=None\"\n",
       "            frameborder=\"0\"\n",
       "            allowfullscreen\n",
       "            \n",
       "        ></iframe>\n",
       "        "
      ],
      "text/plain": [
       "<IPython.lib.display.IFrame at 0x7f93da121ea0>"
      ]
     },
     "metadata": {},
     "output_type": "display_data"
    },
    {
     "name": "stderr",
     "output_type": "stream",
     "text": [
      "127.0.0.1 - - [31/Aug/2023 17:21:22] \"GET /geeView/js/runGeeViz.js HTTP/1.1\" 200 -\n"
     ]
    }
   ],
   "source": [
    "# clear map\n",
    "Map.clearMap()\n",
    "\n",
    "# set up LandTrendr\n",
    "test_band = 'NBR'\n",
    "run_params['timeSeries'] = composites.select([test_band])\n",
    "raw_LT = ee.Algorithms.TemporalSegmentation.LandTrendr(**run_params)\n",
    "\n",
    "# Add to Map\n",
    "Map.addLayer(raw_LT,{},'LT Raw {}'.format(test_band),True)\n",
    "\n",
    "Map.turnOnInspector()\n",
    "Map.view()"
   ]
  },
  {
   "cell_type": "markdown",
   "id": "603b745a",
   "metadata": {},
   "source": [
    "Double click on the output on the map to query it. \n",
    "\n",
    "Notice that this output is not immediately useful for change detection, or smoothing out a time series of composites. The default output is in array format, and has to be processed more in order for us to apply meaningful symbology on the map.\n"
   ]
  },
  {
   "cell_type": "markdown",
   "id": "a60fef27",
   "metadata": {},
   "source": [
    "## Use LandTrendr for Change Detection\n",
    "Using the outputs you just generated, you will now go through each step to take the raw LandTrendr output and create a basic change detection output.\n",
    "\n",
    "At each step, you will view the results at a single pixel in order to inspect the changes on the array of outputs that you are manipulating. \n",
    "\n",
    "### Inspect raw LandTrendr outputs\n",
    "\n",
    "Run the code block below to inspect the raw LandTrendr outputs."
   ]
  },
  {
   "cell_type": "code",
   "execution_count": 62,
   "id": "c1cb8f76-7146-40c0-a039-e8dc15841da8",
   "metadata": {},
   "outputs": [
    {
     "data": {
      "text/html": [
       "<style type=\"text/css\">\n",
       "#T_0dab9 caption {\n",
       "  text-align: left;\n",
       "  font-size: 150%;\n",
       "  font-weight: bold;\n",
       "}\n",
       "</style>\n",
       "<table id=\"T_0dab9\">\n",
       "  <caption>Raw LandTrendr Output - Single Pixel</caption>\n",
       "  <thead>\n",
       "    <tr>\n",
       "      <th class=\"blank level0\" >&nbsp;</th>\n",
       "      <th id=\"T_0dab9_level0_col0\" class=\"col_heading level0 col0\" >0</th>\n",
       "      <th id=\"T_0dab9_level0_col1\" class=\"col_heading level0 col1\" >1</th>\n",
       "      <th id=\"T_0dab9_level0_col2\" class=\"col_heading level0 col2\" >2</th>\n",
       "      <th id=\"T_0dab9_level0_col3\" class=\"col_heading level0 col3\" >3</th>\n",
       "      <th id=\"T_0dab9_level0_col4\" class=\"col_heading level0 col4\" >4</th>\n",
       "      <th id=\"T_0dab9_level0_col5\" class=\"col_heading level0 col5\" >5</th>\n",
       "      <th id=\"T_0dab9_level0_col6\" class=\"col_heading level0 col6\" >6</th>\n",
       "      <th id=\"T_0dab9_level0_col7\" class=\"col_heading level0 col7\" >7</th>\n",
       "      <th id=\"T_0dab9_level0_col8\" class=\"col_heading level0 col8\" >8</th>\n",
       "      <th id=\"T_0dab9_level0_col9\" class=\"col_heading level0 col9\" >9</th>\n",
       "      <th id=\"T_0dab9_level0_col10\" class=\"col_heading level0 col10\" >10</th>\n",
       "      <th id=\"T_0dab9_level0_col11\" class=\"col_heading level0 col11\" >11</th>\n",
       "      <th id=\"T_0dab9_level0_col12\" class=\"col_heading level0 col12\" >12</th>\n",
       "      <th id=\"T_0dab9_level0_col13\" class=\"col_heading level0 col13\" >13</th>\n",
       "      <th id=\"T_0dab9_level0_col14\" class=\"col_heading level0 col14\" >14</th>\n",
       "      <th id=\"T_0dab9_level0_col15\" class=\"col_heading level0 col15\" >15</th>\n",
       "      <th id=\"T_0dab9_level0_col16\" class=\"col_heading level0 col16\" >16</th>\n",
       "      <th id=\"T_0dab9_level0_col17\" class=\"col_heading level0 col17\" >17</th>\n",
       "      <th id=\"T_0dab9_level0_col18\" class=\"col_heading level0 col18\" >18</th>\n",
       "      <th id=\"T_0dab9_level0_col19\" class=\"col_heading level0 col19\" >19</th>\n",
       "      <th id=\"T_0dab9_level0_col20\" class=\"col_heading level0 col20\" >20</th>\n",
       "      <th id=\"T_0dab9_level0_col21\" class=\"col_heading level0 col21\" >21</th>\n",
       "      <th id=\"T_0dab9_level0_col22\" class=\"col_heading level0 col22\" >22</th>\n",
       "      <th id=\"T_0dab9_level0_col23\" class=\"col_heading level0 col23\" >23</th>\n",
       "      <th id=\"T_0dab9_level0_col24\" class=\"col_heading level0 col24\" >24</th>\n",
       "      <th id=\"T_0dab9_level0_col25\" class=\"col_heading level0 col25\" >25</th>\n",
       "    </tr>\n",
       "  </thead>\n",
       "  <tbody>\n",
       "    <tr>\n",
       "      <th id=\"T_0dab9_level0_row0\" class=\"row_heading level0 row0\" >Years</th>\n",
       "      <td id=\"T_0dab9_row0_col0\" class=\"data row0 col0\" >1984.000000</td>\n",
       "      <td id=\"T_0dab9_row0_col1\" class=\"data row0 col1\" >1985.000000</td>\n",
       "      <td id=\"T_0dab9_row0_col2\" class=\"data row0 col2\" >1986.000000</td>\n",
       "      <td id=\"T_0dab9_row0_col3\" class=\"data row0 col3\" >1987.000000</td>\n",
       "      <td id=\"T_0dab9_row0_col4\" class=\"data row0 col4\" >1988.000000</td>\n",
       "      <td id=\"T_0dab9_row0_col5\" class=\"data row0 col5\" >1989.000000</td>\n",
       "      <td id=\"T_0dab9_row0_col6\" class=\"data row0 col6\" >1990.000000</td>\n",
       "      <td id=\"T_0dab9_row0_col7\" class=\"data row0 col7\" >1992.000000</td>\n",
       "      <td id=\"T_0dab9_row0_col8\" class=\"data row0 col8\" >1999.000000</td>\n",
       "      <td id=\"T_0dab9_row0_col9\" class=\"data row0 col9\" >2000.000000</td>\n",
       "      <td id=\"T_0dab9_row0_col10\" class=\"data row0 col10\" >2002.000000</td>\n",
       "      <td id=\"T_0dab9_row0_col11\" class=\"data row0 col11\" >2003.000000</td>\n",
       "      <td id=\"T_0dab9_row0_col12\" class=\"data row0 col12\" >2006.000000</td>\n",
       "      <td id=\"T_0dab9_row0_col13\" class=\"data row0 col13\" >2009.000000</td>\n",
       "      <td id=\"T_0dab9_row0_col14\" class=\"data row0 col14\" >2010.000000</td>\n",
       "      <td id=\"T_0dab9_row0_col15\" class=\"data row0 col15\" >2012.000000</td>\n",
       "      <td id=\"T_0dab9_row0_col16\" class=\"data row0 col16\" >2013.000000</td>\n",
       "      <td id=\"T_0dab9_row0_col17\" class=\"data row0 col17\" >2014.000000</td>\n",
       "      <td id=\"T_0dab9_row0_col18\" class=\"data row0 col18\" >2015.000000</td>\n",
       "      <td id=\"T_0dab9_row0_col19\" class=\"data row0 col19\" >2016.000000</td>\n",
       "      <td id=\"T_0dab9_row0_col20\" class=\"data row0 col20\" >2017.000000</td>\n",
       "      <td id=\"T_0dab9_row0_col21\" class=\"data row0 col21\" >2018.000000</td>\n",
       "      <td id=\"T_0dab9_row0_col22\" class=\"data row0 col22\" >2019.000000</td>\n",
       "      <td id=\"T_0dab9_row0_col23\" class=\"data row0 col23\" >2020.000000</td>\n",
       "      <td id=\"T_0dab9_row0_col24\" class=\"data row0 col24\" >2021.000000</td>\n",
       "      <td id=\"T_0dab9_row0_col25\" class=\"data row0 col25\" >2022.000000</td>\n",
       "    </tr>\n",
       "    <tr>\n",
       "      <th id=\"T_0dab9_level0_row1\" class=\"row_heading level0 row1\" >Raw Input Values</th>\n",
       "      <td id=\"T_0dab9_row1_col0\" class=\"data row1 col0\" >0.732861</td>\n",
       "      <td id=\"T_0dab9_row1_col1\" class=\"data row1 col1\" >0.567021</td>\n",
       "      <td id=\"T_0dab9_row1_col2\" class=\"data row1 col2\" >0.772094</td>\n",
       "      <td id=\"T_0dab9_row1_col3\" class=\"data row1 col3\" >0.716129</td>\n",
       "      <td id=\"T_0dab9_row1_col4\" class=\"data row1 col4\" >0.765138</td>\n",
       "      <td id=\"T_0dab9_row1_col5\" class=\"data row1 col5\" >0.656260</td>\n",
       "      <td id=\"T_0dab9_row1_col6\" class=\"data row1 col6\" >0.674274</td>\n",
       "      <td id=\"T_0dab9_row1_col7\" class=\"data row1 col7\" >0.714593</td>\n",
       "      <td id=\"T_0dab9_row1_col8\" class=\"data row1 col8\" >0.100228</td>\n",
       "      <td id=\"T_0dab9_row1_col9\" class=\"data row1 col9\" >0.086324</td>\n",
       "      <td id=\"T_0dab9_row1_col10\" class=\"data row1 col10\" >0.098278</td>\n",
       "      <td id=\"T_0dab9_row1_col11\" class=\"data row1 col11\" >0.035483</td>\n",
       "      <td id=\"T_0dab9_row1_col12\" class=\"data row1 col12\" >0.148884</td>\n",
       "      <td id=\"T_0dab9_row1_col13\" class=\"data row1 col13\" >0.076102</td>\n",
       "      <td id=\"T_0dab9_row1_col14\" class=\"data row1 col14\" >0.068394</td>\n",
       "      <td id=\"T_0dab9_row1_col15\" class=\"data row1 col15\" >0.125019</td>\n",
       "      <td id=\"T_0dab9_row1_col16\" class=\"data row1 col16\" >0.277041</td>\n",
       "      <td id=\"T_0dab9_row1_col17\" class=\"data row1 col17\" >0.380944</td>\n",
       "      <td id=\"T_0dab9_row1_col18\" class=\"data row1 col18\" >0.452543</td>\n",
       "      <td id=\"T_0dab9_row1_col19\" class=\"data row1 col19\" >0.547757</td>\n",
       "      <td id=\"T_0dab9_row1_col20\" class=\"data row1 col20\" >0.615267</td>\n",
       "      <td id=\"T_0dab9_row1_col21\" class=\"data row1 col21\" >0.552308</td>\n",
       "      <td id=\"T_0dab9_row1_col22\" class=\"data row1 col22\" >0.558119</td>\n",
       "      <td id=\"T_0dab9_row1_col23\" class=\"data row1 col23\" >0.336950</td>\n",
       "      <td id=\"T_0dab9_row1_col24\" class=\"data row1 col24\" >0.426205</td>\n",
       "      <td id=\"T_0dab9_row1_col25\" class=\"data row1 col25\" >0.430944</td>\n",
       "    </tr>\n",
       "    <tr>\n",
       "      <th id=\"T_0dab9_level0_row2\" class=\"row_heading level0 row2\" >Fitted Output Values</th>\n",
       "      <td id=\"T_0dab9_row2_col0\" class=\"data row2 col0\" >0.759414</td>\n",
       "      <td id=\"T_0dab9_row2_col1\" class=\"data row2 col1\" >0.730053</td>\n",
       "      <td id=\"T_0dab9_row2_col2\" class=\"data row2 col2\" >0.700691</td>\n",
       "      <td id=\"T_0dab9_row2_col3\" class=\"data row2 col3\" >0.671330</td>\n",
       "      <td id=\"T_0dab9_row2_col4\" class=\"data row2 col4\" >0.641969</td>\n",
       "      <td id=\"T_0dab9_row2_col5\" class=\"data row2 col5\" >0.612607</td>\n",
       "      <td id=\"T_0dab9_row2_col6\" class=\"data row2 col6\" >0.583246</td>\n",
       "      <td id=\"T_0dab9_row2_col7\" class=\"data row2 col7\" >0.524523</td>\n",
       "      <td id=\"T_0dab9_row2_col8\" class=\"data row2 col8\" >0.318994</td>\n",
       "      <td id=\"T_0dab9_row2_col9\" class=\"data row2 col9\" >0.289633</td>\n",
       "      <td id=\"T_0dab9_row2_col10\" class=\"data row2 col10\" >0.230910</td>\n",
       "      <td id=\"T_0dab9_row2_col11\" class=\"data row2 col11\" >0.201549</td>\n",
       "      <td id=\"T_0dab9_row2_col12\" class=\"data row2 col12\" >0.113465</td>\n",
       "      <td id=\"T_0dab9_row2_col13\" class=\"data row2 col13\" >0.025381</td>\n",
       "      <td id=\"T_0dab9_row2_col14\" class=\"data row2 col14\" >-0.003980</td>\n",
       "      <td id=\"T_0dab9_row2_col15\" class=\"data row2 col15\" >-0.062703</td>\n",
       "      <td id=\"T_0dab9_row2_col16\" class=\"data row2 col16\" >0.111118</td>\n",
       "      <td id=\"T_0dab9_row2_col17\" class=\"data row2 col17\" >0.284938</td>\n",
       "      <td id=\"T_0dab9_row2_col18\" class=\"data row2 col18\" >0.458759</td>\n",
       "      <td id=\"T_0dab9_row2_col19\" class=\"data row2 col19\" >0.632580</td>\n",
       "      <td id=\"T_0dab9_row2_col20\" class=\"data row2 col20\" >0.589873</td>\n",
       "      <td id=\"T_0dab9_row2_col21\" class=\"data row2 col21\" >0.547167</td>\n",
       "      <td id=\"T_0dab9_row2_col22\" class=\"data row2 col22\" >0.504460</td>\n",
       "      <td id=\"T_0dab9_row2_col23\" class=\"data row2 col23\" >0.461754</td>\n",
       "      <td id=\"T_0dab9_row2_col24\" class=\"data row2 col24\" >0.419048</td>\n",
       "      <td id=\"T_0dab9_row2_col25\" class=\"data row2 col25\" >0.376341</td>\n",
       "    </tr>\n",
       "    <tr>\n",
       "      <th id=\"T_0dab9_level0_row3\" class=\"row_heading level0 row3\" >Vertex/non-vertex</th>\n",
       "      <td id=\"T_0dab9_row3_col0\" class=\"data row3 col0\" >1.000000</td>\n",
       "      <td id=\"T_0dab9_row3_col1\" class=\"data row3 col1\" >0.000000</td>\n",
       "      <td id=\"T_0dab9_row3_col2\" class=\"data row3 col2\" >0.000000</td>\n",
       "      <td id=\"T_0dab9_row3_col3\" class=\"data row3 col3\" >0.000000</td>\n",
       "      <td id=\"T_0dab9_row3_col4\" class=\"data row3 col4\" >0.000000</td>\n",
       "      <td id=\"T_0dab9_row3_col5\" class=\"data row3 col5\" >0.000000</td>\n",
       "      <td id=\"T_0dab9_row3_col6\" class=\"data row3 col6\" >0.000000</td>\n",
       "      <td id=\"T_0dab9_row3_col7\" class=\"data row3 col7\" >0.000000</td>\n",
       "      <td id=\"T_0dab9_row3_col8\" class=\"data row3 col8\" >0.000000</td>\n",
       "      <td id=\"T_0dab9_row3_col9\" class=\"data row3 col9\" >0.000000</td>\n",
       "      <td id=\"T_0dab9_row3_col10\" class=\"data row3 col10\" >0.000000</td>\n",
       "      <td id=\"T_0dab9_row3_col11\" class=\"data row3 col11\" >0.000000</td>\n",
       "      <td id=\"T_0dab9_row3_col12\" class=\"data row3 col12\" >0.000000</td>\n",
       "      <td id=\"T_0dab9_row3_col13\" class=\"data row3 col13\" >0.000000</td>\n",
       "      <td id=\"T_0dab9_row3_col14\" class=\"data row3 col14\" >0.000000</td>\n",
       "      <td id=\"T_0dab9_row3_col15\" class=\"data row3 col15\" >1.000000</td>\n",
       "      <td id=\"T_0dab9_row3_col16\" class=\"data row3 col16\" >0.000000</td>\n",
       "      <td id=\"T_0dab9_row3_col17\" class=\"data row3 col17\" >0.000000</td>\n",
       "      <td id=\"T_0dab9_row3_col18\" class=\"data row3 col18\" >0.000000</td>\n",
       "      <td id=\"T_0dab9_row3_col19\" class=\"data row3 col19\" >1.000000</td>\n",
       "      <td id=\"T_0dab9_row3_col20\" class=\"data row3 col20\" >0.000000</td>\n",
       "      <td id=\"T_0dab9_row3_col21\" class=\"data row3 col21\" >0.000000</td>\n",
       "      <td id=\"T_0dab9_row3_col22\" class=\"data row3 col22\" >0.000000</td>\n",
       "      <td id=\"T_0dab9_row3_col23\" class=\"data row3 col23\" >0.000000</td>\n",
       "      <td id=\"T_0dab9_row3_col24\" class=\"data row3 col24\" >0.000000</td>\n",
       "      <td id=\"T_0dab9_row3_col25\" class=\"data row3 col25\" >1.000000</td>\n",
       "    </tr>\n",
       "  </tbody>\n",
       "</table>\n"
      ],
      "text/plain": [
       "<pandas.io.formats.style.Styler at 0x7f93da2c2c50>"
      ]
     },
     "metadata": {},
     "output_type": "display_data"
    }
   ],
   "source": [
    "# Provide an example location \n",
    "pt = ee.Geometry.Point([ -65.944 , 18.404])\n",
    "\n",
    "# First, select the LandTrendr image array output band\n",
    "lt_array = raw_LT.select(['LandTrendr'])\n",
    "\n",
    "# Display output\n",
    "display(g2p.imageArrayPixelToDataFrame(lt_array, pt,None,crs,transform, 'Raw LandTrendr Output - Single Pixel',\\\n",
    "                                       ['Years','Raw Input Values','Fitted Output Values','Vertex/non-vertex']))"
   ]
  },
  {
   "cell_type": "markdown",
   "id": "3c72658c-4a5d-4698-8c6f-bec108ae7dea",
   "metadata": {},
   "source": [
    "This is the raw output from the LandTrendr algorithm. The array has 2 dimensions per pixel.\n",
    "\n",
    "The rows correspond to:\n",
    "- Years\n",
    "- Raw input spectral values\n",
    "- LandTrendr fitted output values\n",
    "- Whether or not that year represents a vertex\n",
    "\n",
    "From this output, you can begin to understand the format of the outputs, why they aren't immediately interpretable on a map, and how you might begin to manipulate them into more meaningulf formats. \n",
    "\n",
    "### Extract the vertices\n",
    "\n",
    "The first step is to extract the vertices from the array. We only need the vertices at a pixel in order to track change-- we don't need the values for the interceding years.\n",
    "\n",
    "Run the code block below to extract the vertices. You slice the array to extract the row indicating the vertices and use them as a mask to mask out non vertex values in the entire array."
   ]
  },
  {
   "cell_type": "code",
   "execution_count": 63,
   "id": "740dfd15-1a48-4c2d-b332-167340276b43",
   "metadata": {},
   "outputs": [
    {
     "data": {
      "text/html": [
       "<style type=\"text/css\">\n",
       "#T_f5ea9 caption {\n",
       "  text-align: left;\n",
       "  font-size: 150%;\n",
       "  font-weight: bold;\n",
       "}\n",
       "</style>\n",
       "<table id=\"T_f5ea9\">\n",
       "  <caption>Vertex mask row</caption>\n",
       "  <thead>\n",
       "    <tr>\n",
       "      <th class=\"blank level0\" >&nbsp;</th>\n",
       "      <th id=\"T_f5ea9_level0_col0\" class=\"col_heading level0 col0\" >0</th>\n",
       "      <th id=\"T_f5ea9_level0_col1\" class=\"col_heading level0 col1\" >1</th>\n",
       "      <th id=\"T_f5ea9_level0_col2\" class=\"col_heading level0 col2\" >2</th>\n",
       "      <th id=\"T_f5ea9_level0_col3\" class=\"col_heading level0 col3\" >3</th>\n",
       "      <th id=\"T_f5ea9_level0_col4\" class=\"col_heading level0 col4\" >4</th>\n",
       "      <th id=\"T_f5ea9_level0_col5\" class=\"col_heading level0 col5\" >5</th>\n",
       "      <th id=\"T_f5ea9_level0_col6\" class=\"col_heading level0 col6\" >6</th>\n",
       "      <th id=\"T_f5ea9_level0_col7\" class=\"col_heading level0 col7\" >7</th>\n",
       "      <th id=\"T_f5ea9_level0_col8\" class=\"col_heading level0 col8\" >8</th>\n",
       "      <th id=\"T_f5ea9_level0_col9\" class=\"col_heading level0 col9\" >9</th>\n",
       "      <th id=\"T_f5ea9_level0_col10\" class=\"col_heading level0 col10\" >10</th>\n",
       "      <th id=\"T_f5ea9_level0_col11\" class=\"col_heading level0 col11\" >11</th>\n",
       "      <th id=\"T_f5ea9_level0_col12\" class=\"col_heading level0 col12\" >12</th>\n",
       "      <th id=\"T_f5ea9_level0_col13\" class=\"col_heading level0 col13\" >13</th>\n",
       "      <th id=\"T_f5ea9_level0_col14\" class=\"col_heading level0 col14\" >14</th>\n",
       "      <th id=\"T_f5ea9_level0_col15\" class=\"col_heading level0 col15\" >15</th>\n",
       "      <th id=\"T_f5ea9_level0_col16\" class=\"col_heading level0 col16\" >16</th>\n",
       "      <th id=\"T_f5ea9_level0_col17\" class=\"col_heading level0 col17\" >17</th>\n",
       "      <th id=\"T_f5ea9_level0_col18\" class=\"col_heading level0 col18\" >18</th>\n",
       "      <th id=\"T_f5ea9_level0_col19\" class=\"col_heading level0 col19\" >19</th>\n",
       "      <th id=\"T_f5ea9_level0_col20\" class=\"col_heading level0 col20\" >20</th>\n",
       "      <th id=\"T_f5ea9_level0_col21\" class=\"col_heading level0 col21\" >21</th>\n",
       "      <th id=\"T_f5ea9_level0_col22\" class=\"col_heading level0 col22\" >22</th>\n",
       "      <th id=\"T_f5ea9_level0_col23\" class=\"col_heading level0 col23\" >23</th>\n",
       "      <th id=\"T_f5ea9_level0_col24\" class=\"col_heading level0 col24\" >24</th>\n",
       "      <th id=\"T_f5ea9_level0_col25\" class=\"col_heading level0 col25\" >25</th>\n",
       "    </tr>\n",
       "  </thead>\n",
       "  <tbody>\n",
       "    <tr>\n",
       "      <th id=\"T_f5ea9_level0_row0\" class=\"row_heading level0 row0\" >0</th>\n",
       "      <td id=\"T_f5ea9_row0_col0\" class=\"data row0 col0\" >1</td>\n",
       "      <td id=\"T_f5ea9_row0_col1\" class=\"data row0 col1\" >0</td>\n",
       "      <td id=\"T_f5ea9_row0_col2\" class=\"data row0 col2\" >0</td>\n",
       "      <td id=\"T_f5ea9_row0_col3\" class=\"data row0 col3\" >0</td>\n",
       "      <td id=\"T_f5ea9_row0_col4\" class=\"data row0 col4\" >0</td>\n",
       "      <td id=\"T_f5ea9_row0_col5\" class=\"data row0 col5\" >0</td>\n",
       "      <td id=\"T_f5ea9_row0_col6\" class=\"data row0 col6\" >0</td>\n",
       "      <td id=\"T_f5ea9_row0_col7\" class=\"data row0 col7\" >0</td>\n",
       "      <td id=\"T_f5ea9_row0_col8\" class=\"data row0 col8\" >0</td>\n",
       "      <td id=\"T_f5ea9_row0_col9\" class=\"data row0 col9\" >0</td>\n",
       "      <td id=\"T_f5ea9_row0_col10\" class=\"data row0 col10\" >0</td>\n",
       "      <td id=\"T_f5ea9_row0_col11\" class=\"data row0 col11\" >0</td>\n",
       "      <td id=\"T_f5ea9_row0_col12\" class=\"data row0 col12\" >0</td>\n",
       "      <td id=\"T_f5ea9_row0_col13\" class=\"data row0 col13\" >0</td>\n",
       "      <td id=\"T_f5ea9_row0_col14\" class=\"data row0 col14\" >0</td>\n",
       "      <td id=\"T_f5ea9_row0_col15\" class=\"data row0 col15\" >1</td>\n",
       "      <td id=\"T_f5ea9_row0_col16\" class=\"data row0 col16\" >0</td>\n",
       "      <td id=\"T_f5ea9_row0_col17\" class=\"data row0 col17\" >0</td>\n",
       "      <td id=\"T_f5ea9_row0_col18\" class=\"data row0 col18\" >0</td>\n",
       "      <td id=\"T_f5ea9_row0_col19\" class=\"data row0 col19\" >1</td>\n",
       "      <td id=\"T_f5ea9_row0_col20\" class=\"data row0 col20\" >0</td>\n",
       "      <td id=\"T_f5ea9_row0_col21\" class=\"data row0 col21\" >0</td>\n",
       "      <td id=\"T_f5ea9_row0_col22\" class=\"data row0 col22\" >0</td>\n",
       "      <td id=\"T_f5ea9_row0_col23\" class=\"data row0 col23\" >0</td>\n",
       "      <td id=\"T_f5ea9_row0_col24\" class=\"data row0 col24\" >0</td>\n",
       "      <td id=\"T_f5ea9_row0_col25\" class=\"data row0 col25\" >1</td>\n",
       "    </tr>\n",
       "  </tbody>\n",
       "</table>\n"
      ],
      "text/plain": [
       "<pandas.io.formats.style.Styler at 0x7f93da0de2f0>"
      ]
     },
     "metadata": {},
     "output_type": "display_data"
    },
    {
     "data": {
      "text/html": [
       "<style type=\"text/css\">\n",
       "#T_0df7a caption {\n",
       "  text-align: left;\n",
       "  font-size: 150%;\n",
       "  font-weight: bold;\n",
       "}\n",
       "</style>\n",
       "<table id=\"T_0df7a\">\n",
       "  <caption>Raw LandTrendr - Only Vertex Columns</caption>\n",
       "  <thead>\n",
       "    <tr>\n",
       "      <th class=\"blank level0\" >&nbsp;</th>\n",
       "      <th id=\"T_0df7a_level0_col0\" class=\"col_heading level0 col0\" >0</th>\n",
       "      <th id=\"T_0df7a_level0_col1\" class=\"col_heading level0 col1\" >1</th>\n",
       "      <th id=\"T_0df7a_level0_col2\" class=\"col_heading level0 col2\" >2</th>\n",
       "      <th id=\"T_0df7a_level0_col3\" class=\"col_heading level0 col3\" >3</th>\n",
       "    </tr>\n",
       "  </thead>\n",
       "  <tbody>\n",
       "    <tr>\n",
       "      <th id=\"T_0df7a_level0_row0\" class=\"row_heading level0 row0\" >Years</th>\n",
       "      <td id=\"T_0df7a_row0_col0\" class=\"data row0 col0\" >1984.000000</td>\n",
       "      <td id=\"T_0df7a_row0_col1\" class=\"data row0 col1\" >2012.000000</td>\n",
       "      <td id=\"T_0df7a_row0_col2\" class=\"data row0 col2\" >2016.000000</td>\n",
       "      <td id=\"T_0df7a_row0_col3\" class=\"data row0 col3\" >2022.000000</td>\n",
       "    </tr>\n",
       "    <tr>\n",
       "      <th id=\"T_0df7a_level0_row1\" class=\"row_heading level0 row1\" >Raw Input Values</th>\n",
       "      <td id=\"T_0df7a_row1_col0\" class=\"data row1 col0\" >0.732861</td>\n",
       "      <td id=\"T_0df7a_row1_col1\" class=\"data row1 col1\" >0.125019</td>\n",
       "      <td id=\"T_0df7a_row1_col2\" class=\"data row1 col2\" >0.547757</td>\n",
       "      <td id=\"T_0df7a_row1_col3\" class=\"data row1 col3\" >0.430944</td>\n",
       "    </tr>\n",
       "    <tr>\n",
       "      <th id=\"T_0df7a_level0_row2\" class=\"row_heading level0 row2\" >Fitted Output Values</th>\n",
       "      <td id=\"T_0df7a_row2_col0\" class=\"data row2 col0\" >0.759414</td>\n",
       "      <td id=\"T_0df7a_row2_col1\" class=\"data row2 col1\" >-0.062703</td>\n",
       "      <td id=\"T_0df7a_row2_col2\" class=\"data row2 col2\" >0.632580</td>\n",
       "      <td id=\"T_0df7a_row2_col3\" class=\"data row2 col3\" >0.376341</td>\n",
       "    </tr>\n",
       "    <tr>\n",
       "      <th id=\"T_0df7a_level0_row3\" class=\"row_heading level0 row3\" >Vertex/non-vertex</th>\n",
       "      <td id=\"T_0df7a_row3_col0\" class=\"data row3 col0\" >1.000000</td>\n",
       "      <td id=\"T_0df7a_row3_col1\" class=\"data row3 col1\" >1.000000</td>\n",
       "      <td id=\"T_0df7a_row3_col2\" class=\"data row3 col2\" >1.000000</td>\n",
       "      <td id=\"T_0df7a_row3_col3\" class=\"data row3 col3\" >1.000000</td>\n",
       "    </tr>\n",
       "  </tbody>\n",
       "</table>\n"
      ],
      "text/plain": [
       "<pandas.io.formats.style.Styler at 0x7f93da190a90>"
      ]
     },
     "metadata": {},
     "output_type": "display_data"
    }
   ],
   "source": [
    "# Slice the array to extract the row indicating the vertices\n",
    "vertices = lt_array.arraySlice(0,3,4)\n",
    "display(g2p.imageArrayPixelToDataFrame(vertices, pt, None,crs,transform,'Vertex mask row'))\n",
    "\n",
    "# Use the vertex row as a mask to extract the values at the vertices\n",
    "lt_array = lt_array.arrayMask(vertices)\n",
    "display(g2p.imageArrayPixelToDataFrame(lt_array, pt, None,crs,transform,'Raw LandTrendr - Only Vertex Columns',\\\n",
    "                                                 ['Years','Raw Input Values','Fitted Output Values','Vertex/non-vertex']))"
   ]
  },
  {
   "cell_type": "markdown",
   "id": "dbe9ed10-1045-4aa4-b9a1-b906403a913a",
   "metadata": {},
   "source": [
    "### Calculate the difference between fitted vertex values\n",
    "In order to perform change detection, you'll need to get the difference between fitted vertex values. \n",
    "\n",
    "You do this by slicing the array on an offset-- so that you can subtract adjacent values. \n",
    "\n",
    "Run the code block below to calculate the difference between the fitted vertex values. "
   ]
  },
  {
   "cell_type": "code",
   "execution_count": 64,
   "id": "72fdc11e-d085-4a35-b691-3b7220a54323",
   "metadata": {},
   "outputs": [
    {
     "data": {
      "text/html": [
       "<style type=\"text/css\">\n",
       "#T_48fd7 caption {\n",
       "  text-align: left;\n",
       "  font-size: 150%;\n",
       "  font-weight: bold;\n",
       "}\n",
       "</style>\n",
       "<table id=\"T_48fd7\">\n",
       "  <caption>Left Slice</caption>\n",
       "  <thead>\n",
       "    <tr>\n",
       "      <th class=\"blank level0\" >&nbsp;</th>\n",
       "      <th id=\"T_48fd7_level0_col0\" class=\"col_heading level0 col0\" >0</th>\n",
       "      <th id=\"T_48fd7_level0_col1\" class=\"col_heading level0 col1\" >1</th>\n",
       "      <th id=\"T_48fd7_level0_col2\" class=\"col_heading level0 col2\" >2</th>\n",
       "    </tr>\n",
       "  </thead>\n",
       "  <tbody>\n",
       "    <tr>\n",
       "      <th id=\"T_48fd7_level0_row0\" class=\"row_heading level0 row0\" >Years</th>\n",
       "      <td id=\"T_48fd7_row0_col0\" class=\"data row0 col0\" >1984.000000</td>\n",
       "      <td id=\"T_48fd7_row0_col1\" class=\"data row0 col1\" >2012.000000</td>\n",
       "      <td id=\"T_48fd7_row0_col2\" class=\"data row0 col2\" >2016.000000</td>\n",
       "    </tr>\n",
       "    <tr>\n",
       "      <th id=\"T_48fd7_level0_row1\" class=\"row_heading level0 row1\" >Raw Input Values</th>\n",
       "      <td id=\"T_48fd7_row1_col0\" class=\"data row1 col0\" >0.732861</td>\n",
       "      <td id=\"T_48fd7_row1_col1\" class=\"data row1 col1\" >0.125019</td>\n",
       "      <td id=\"T_48fd7_row1_col2\" class=\"data row1 col2\" >0.547757</td>\n",
       "    </tr>\n",
       "    <tr>\n",
       "      <th id=\"T_48fd7_level0_row2\" class=\"row_heading level0 row2\" >Fitted Output Values</th>\n",
       "      <td id=\"T_48fd7_row2_col0\" class=\"data row2 col0\" >0.759414</td>\n",
       "      <td id=\"T_48fd7_row2_col1\" class=\"data row2 col1\" >-0.062703</td>\n",
       "      <td id=\"T_48fd7_row2_col2\" class=\"data row2 col2\" >0.632580</td>\n",
       "    </tr>\n",
       "    <tr>\n",
       "      <th id=\"T_48fd7_level0_row3\" class=\"row_heading level0 row3\" >Vertex/non-vertex</th>\n",
       "      <td id=\"T_48fd7_row3_col0\" class=\"data row3 col0\" >1.000000</td>\n",
       "      <td id=\"T_48fd7_row3_col1\" class=\"data row3 col1\" >1.000000</td>\n",
       "      <td id=\"T_48fd7_row3_col2\" class=\"data row3 col2\" >1.000000</td>\n",
       "    </tr>\n",
       "  </tbody>\n",
       "</table>\n"
      ],
      "text/plain": [
       "<pandas.io.formats.style.Styler at 0x7f93da2af4c0>"
      ]
     },
     "metadata": {},
     "output_type": "display_data"
    },
    {
     "data": {
      "text/html": [
       "<style type=\"text/css\">\n",
       "#T_b1178 caption {\n",
       "  text-align: left;\n",
       "  font-size: 150%;\n",
       "  font-weight: bold;\n",
       "}\n",
       "</style>\n",
       "<table id=\"T_b1178\">\n",
       "  <caption>Right Slice</caption>\n",
       "  <thead>\n",
       "    <tr>\n",
       "      <th class=\"blank level0\" >&nbsp;</th>\n",
       "      <th id=\"T_b1178_level0_col0\" class=\"col_heading level0 col0\" >0</th>\n",
       "      <th id=\"T_b1178_level0_col1\" class=\"col_heading level0 col1\" >1</th>\n",
       "      <th id=\"T_b1178_level0_col2\" class=\"col_heading level0 col2\" >2</th>\n",
       "    </tr>\n",
       "  </thead>\n",
       "  <tbody>\n",
       "    <tr>\n",
       "      <th id=\"T_b1178_level0_row0\" class=\"row_heading level0 row0\" >Years</th>\n",
       "      <td id=\"T_b1178_row0_col0\" class=\"data row0 col0\" >2012.000000</td>\n",
       "      <td id=\"T_b1178_row0_col1\" class=\"data row0 col1\" >2016.000000</td>\n",
       "      <td id=\"T_b1178_row0_col2\" class=\"data row0 col2\" >2022.000000</td>\n",
       "    </tr>\n",
       "    <tr>\n",
       "      <th id=\"T_b1178_level0_row1\" class=\"row_heading level0 row1\" >Raw Input Values</th>\n",
       "      <td id=\"T_b1178_row1_col0\" class=\"data row1 col0\" >0.125019</td>\n",
       "      <td id=\"T_b1178_row1_col1\" class=\"data row1 col1\" >0.547757</td>\n",
       "      <td id=\"T_b1178_row1_col2\" class=\"data row1 col2\" >0.430944</td>\n",
       "    </tr>\n",
       "    <tr>\n",
       "      <th id=\"T_b1178_level0_row2\" class=\"row_heading level0 row2\" >Fitted Output Values</th>\n",
       "      <td id=\"T_b1178_row2_col0\" class=\"data row2 col0\" >-0.062703</td>\n",
       "      <td id=\"T_b1178_row2_col1\" class=\"data row2 col1\" >0.632580</td>\n",
       "      <td id=\"T_b1178_row2_col2\" class=\"data row2 col2\" >0.376341</td>\n",
       "    </tr>\n",
       "    <tr>\n",
       "      <th id=\"T_b1178_level0_row3\" class=\"row_heading level0 row3\" >Vertex/non-vertex</th>\n",
       "      <td id=\"T_b1178_row3_col0\" class=\"data row3 col0\" >1.000000</td>\n",
       "      <td id=\"T_b1178_row3_col1\" class=\"data row3 col1\" >1.000000</td>\n",
       "      <td id=\"T_b1178_row3_col2\" class=\"data row3 col2\" >1.000000</td>\n",
       "    </tr>\n",
       "  </tbody>\n",
       "</table>\n"
      ],
      "text/plain": [
       "<pandas.io.formats.style.Styler at 0x7f93da283fd0>"
      ]
     },
     "metadata": {},
     "output_type": "display_data"
    },
    {
     "data": {
      "text/html": [
       "<style type=\"text/css\">\n",
       "#T_9c470 caption {\n",
       "  text-align: left;\n",
       "  font-size: 150%;\n",
       "  font-weight: bold;\n",
       "}\n",
       "</style>\n",
       "<table id=\"T_9c470\">\n",
       "  <caption>Left Minus Right</caption>\n",
       "  <thead>\n",
       "    <tr>\n",
       "      <th class=\"blank level0\" >&nbsp;</th>\n",
       "      <th id=\"T_9c470_level0_col0\" class=\"col_heading level0 col0\" >0</th>\n",
       "      <th id=\"T_9c470_level0_col1\" class=\"col_heading level0 col1\" >1</th>\n",
       "      <th id=\"T_9c470_level0_col2\" class=\"col_heading level0 col2\" >2</th>\n",
       "    </tr>\n",
       "  </thead>\n",
       "  <tbody>\n",
       "    <tr>\n",
       "      <th id=\"T_9c470_level0_row0\" class=\"row_heading level0 row0\" >Years</th>\n",
       "      <td id=\"T_9c470_row0_col0\" class=\"data row0 col0\" >-28.000000</td>\n",
       "      <td id=\"T_9c470_row0_col1\" class=\"data row0 col1\" >-4.000000</td>\n",
       "      <td id=\"T_9c470_row0_col2\" class=\"data row0 col2\" >-6.000000</td>\n",
       "    </tr>\n",
       "    <tr>\n",
       "      <th id=\"T_9c470_level0_row1\" class=\"row_heading level0 row1\" >Raw Input Values</th>\n",
       "      <td id=\"T_9c470_row1_col0\" class=\"data row1 col0\" >0.607841</td>\n",
       "      <td id=\"T_9c470_row1_col1\" class=\"data row1 col1\" >-0.422738</td>\n",
       "      <td id=\"T_9c470_row1_col2\" class=\"data row1 col2\" >0.116814</td>\n",
       "    </tr>\n",
       "    <tr>\n",
       "      <th id=\"T_9c470_level0_row2\" class=\"row_heading level0 row2\" >Fitted Output Values</th>\n",
       "      <td id=\"T_9c470_row2_col0\" class=\"data row2 col0\" >0.822117</td>\n",
       "      <td id=\"T_9c470_row2_col1\" class=\"data row2 col1\" >-0.695283</td>\n",
       "      <td id=\"T_9c470_row2_col2\" class=\"data row2 col2\" >0.256238</td>\n",
       "    </tr>\n",
       "    <tr>\n",
       "      <th id=\"T_9c470_level0_row3\" class=\"row_heading level0 row3\" >Vertex/non-vertex</th>\n",
       "      <td id=\"T_9c470_row3_col0\" class=\"data row3 col0\" >0.000000</td>\n",
       "      <td id=\"T_9c470_row3_col1\" class=\"data row3 col1\" >0.000000</td>\n",
       "      <td id=\"T_9c470_row3_col2\" class=\"data row3 col2\" >0.000000</td>\n",
       "    </tr>\n",
       "  </tbody>\n",
       "</table>\n"
      ],
      "text/plain": [
       "<pandas.io.formats.style.Styler at 0x7f93da6f3fd0>"
      ]
     },
     "metadata": {},
     "output_type": "display_data"
    }
   ],
   "source": [
    "# In order to perform change detection, we'll need to get the difference between fitted vertex values\n",
    "# We do this by slicing the first to the next to the last and then the second to the last and subtracting them\n",
    "left = lt_array.arraySlice(1,0,-1)\n",
    "right = lt_array.arraySlice(1,1,None)\n",
    "diff  = left.subtract(right)\n",
    "\n",
    "display(g2p.imageArrayPixelToDataFrame(left, pt, None,crs,transform,'Left Slice',\\\n",
    "                                       ['Years','Raw Input Values','Fitted Output Values','Vertex/non-vertex']))\n",
    "display(g2p.imageArrayPixelToDataFrame(right, pt,None,crs,transform, \\\n",
    "                                       'Right Slice',['Years','Raw Input Values','Fitted Output Values','Vertex/non-vertex']))\n",
    "display(g2p.imageArrayPixelToDataFrame(diff, pt, None,crs,transform,\\\n",
    "                                       'Left Minus Right',['Years','Raw Input Values','Fitted Output Values','Vertex/non-vertex']))"
   ]
  },
  {
   "cell_type": "markdown",
   "id": "0f2f90b9-0bf7-4c25-9759-16e6ec212ae0",
   "metadata": {},
   "source": [
    "### Combine difference values with years\n",
    "You then slice the right-hand years and the fitted vertex values difference and combine them.\n",
    "\n",
    "Run the code block below to create an array that has a value for each vertex year and magnitude of difference. "
   ]
  },
  {
   "cell_type": "code",
   "execution_count": 68,
   "id": "1622dcdf-3c85-48ec-96ea-ba6be2a4cfef",
   "metadata": {},
   "outputs": [
    {
     "data": {
      "text/html": [
       "<style type=\"text/css\">\n",
       "#T_061f1 caption {\n",
       "  text-align: left;\n",
       "  font-size: 150%;\n",
       "  font-weight: bold;\n",
       "}\n",
       "</style>\n",
       "<table id=\"T_061f1\">\n",
       "  <caption>Years</caption>\n",
       "  <thead>\n",
       "    <tr>\n",
       "      <th class=\"blank level0\" >&nbsp;</th>\n",
       "      <th id=\"T_061f1_level0_col0\" class=\"col_heading level0 col0\" >0</th>\n",
       "      <th id=\"T_061f1_level0_col1\" class=\"col_heading level0 col1\" >1</th>\n",
       "      <th id=\"T_061f1_level0_col2\" class=\"col_heading level0 col2\" >2</th>\n",
       "    </tr>\n",
       "  </thead>\n",
       "  <tbody>\n",
       "    <tr>\n",
       "      <th id=\"T_061f1_level0_row0\" class=\"row_heading level0 row0\" >0</th>\n",
       "      <td id=\"T_061f1_row0_col0\" class=\"data row0 col0\" >2012</td>\n",
       "      <td id=\"T_061f1_row0_col1\" class=\"data row0 col1\" >2016</td>\n",
       "      <td id=\"T_061f1_row0_col2\" class=\"data row0 col2\" >2022</td>\n",
       "    </tr>\n",
       "  </tbody>\n",
       "</table>\n"
      ],
      "text/plain": [
       "<pandas.io.formats.style.Styler at 0x7f93da623af0>"
      ]
     },
     "metadata": {},
     "output_type": "display_data"
    },
    {
     "data": {
      "text/html": [
       "<style type=\"text/css\">\n",
       "#T_46ff4 caption {\n",
       "  text-align: left;\n",
       "  font-size: 150%;\n",
       "  font-weight: bold;\n",
       "}\n",
       "</style>\n",
       "<table id=\"T_46ff4\">\n",
       "  <caption>Magnitude</caption>\n",
       "  <thead>\n",
       "    <tr>\n",
       "      <th class=\"blank level0\" >&nbsp;</th>\n",
       "      <th id=\"T_46ff4_level0_col0\" class=\"col_heading level0 col0\" >0</th>\n",
       "      <th id=\"T_46ff4_level0_col1\" class=\"col_heading level0 col1\" >1</th>\n",
       "      <th id=\"T_46ff4_level0_col2\" class=\"col_heading level0 col2\" >2</th>\n",
       "    </tr>\n",
       "  </thead>\n",
       "  <tbody>\n",
       "    <tr>\n",
       "      <th id=\"T_46ff4_level0_row0\" class=\"row_heading level0 row0\" >0</th>\n",
       "      <td id=\"T_46ff4_row0_col0\" class=\"data row0 col0\" >0.822117</td>\n",
       "      <td id=\"T_46ff4_row0_col1\" class=\"data row0 col1\" >-0.695283</td>\n",
       "      <td id=\"T_46ff4_row0_col2\" class=\"data row0 col2\" >0.256238</td>\n",
       "    </tr>\n",
       "  </tbody>\n",
       "</table>\n"
      ],
      "text/plain": [
       "<pandas.io.formats.style.Styler at 0x7f93da531930>"
      ]
     },
     "metadata": {},
     "output_type": "display_data"
    },
    {
     "data": {
      "text/html": [
       "<style type=\"text/css\">\n",
       "#T_bcbce caption {\n",
       "  text-align: left;\n",
       "  font-size: 150%;\n",
       "  font-weight: bold;\n",
       "}\n",
       "</style>\n",
       "<table id=\"T_bcbce\">\n",
       "  <caption>Year + Magnitude Array</caption>\n",
       "  <thead>\n",
       "    <tr>\n",
       "      <th class=\"blank level0\" >&nbsp;</th>\n",
       "      <th id=\"T_bcbce_level0_col0\" class=\"col_heading level0 col0\" >0</th>\n",
       "      <th id=\"T_bcbce_level0_col1\" class=\"col_heading level0 col1\" >1</th>\n",
       "      <th id=\"T_bcbce_level0_col2\" class=\"col_heading level0 col2\" >2</th>\n",
       "    </tr>\n",
       "  </thead>\n",
       "  <tbody>\n",
       "    <tr>\n",
       "      <th id=\"T_bcbce_level0_row0\" class=\"row_heading level0 row0\" >0</th>\n",
       "      <td id=\"T_bcbce_row0_col0\" class=\"data row0 col0\" >2012.000000</td>\n",
       "      <td id=\"T_bcbce_row0_col1\" class=\"data row0 col1\" >2016.000000</td>\n",
       "      <td id=\"T_bcbce_row0_col2\" class=\"data row0 col2\" >2022.000000</td>\n",
       "    </tr>\n",
       "    <tr>\n",
       "      <th id=\"T_bcbce_level0_row1\" class=\"row_heading level0 row1\" >1</th>\n",
       "      <td id=\"T_bcbce_row1_col0\" class=\"data row1 col0\" >0.822117</td>\n",
       "      <td id=\"T_bcbce_row1_col1\" class=\"data row1 col1\" >-0.695283</td>\n",
       "      <td id=\"T_bcbce_row1_col2\" class=\"data row1 col2\" >0.256238</td>\n",
       "    </tr>\n",
       "  </tbody>\n",
       "</table>\n"
      ],
      "text/plain": [
       "<pandas.io.formats.style.Styler at 0x7f93da2169e0>"
      ]
     },
     "metadata": {},
     "output_type": "display_data"
    }
   ],
   "source": [
    "# Slice right-hand years and difference values\n",
    "years = right.arraySlice(0,0,1)\n",
    "mag = diff.arraySlice(0,2,3)\n",
    "display(g2p.imageArrayPixelToDataFrame(years, pt, None,crs,transform,'Years'))\n",
    "display(g2p.imageArrayPixelToDataFrame(mag, pt, None,crs,transform,'Magnitude'))\n",
    "\n",
    "# Combine\n",
    "forSorting = years.arrayCat(mag,0)\n",
    "display(g2p.imageArrayPixelToDataFrame(forSorting, pt, None,crs,transform,'Year + Magnitude Array'))"
   ]
  },
  {
   "cell_type": "markdown",
   "id": "389c1ca6-6166-4339-bfe0-0fe5bacc3093",
   "metadata": {},
   "source": [
    "### Sort array based on change of interest\n",
    "\n",
    "We can then sort this array to display the change we are most interested in. For example, we can extract the highest magnitude change, the most recent change, etc. \n",
    "\n",
    "In the example below, the sort row will be the magnitude. Thus, the output will be the highest severity change.\n"
   ]
  },
  {
   "cell_type": "code",
   "execution_count": 69,
   "id": "6fa54ea2-6859-4d16-84b8-5198548c2a9a",
   "metadata": {},
   "outputs": [
    {
     "data": {
      "text/html": [
       "<style type=\"text/css\">\n",
       "#T_7a6fc caption {\n",
       "  text-align: left;\n",
       "  font-size: 150%;\n",
       "  font-weight: bold;\n",
       "}\n",
       "</style>\n",
       "<table id=\"T_7a6fc\">\n",
       "  <caption>Array Sorted by the Second Row (magnitude of change)</caption>\n",
       "  <thead>\n",
       "    <tr>\n",
       "      <th class=\"blank level0\" >&nbsp;</th>\n",
       "      <th id=\"T_7a6fc_level0_col0\" class=\"col_heading level0 col0\" >0</th>\n",
       "      <th id=\"T_7a6fc_level0_col1\" class=\"col_heading level0 col1\" >1</th>\n",
       "      <th id=\"T_7a6fc_level0_col2\" class=\"col_heading level0 col2\" >2</th>\n",
       "    </tr>\n",
       "  </thead>\n",
       "  <tbody>\n",
       "    <tr>\n",
       "      <th id=\"T_7a6fc_level0_row0\" class=\"row_heading level0 row0\" >0</th>\n",
       "      <td id=\"T_7a6fc_row0_col0\" class=\"data row0 col0\" >2016.000000</td>\n",
       "      <td id=\"T_7a6fc_row0_col1\" class=\"data row0 col1\" >2022.000000</td>\n",
       "      <td id=\"T_7a6fc_row0_col2\" class=\"data row0 col2\" >2012.000000</td>\n",
       "    </tr>\n",
       "    <tr>\n",
       "      <th id=\"T_7a6fc_level0_row1\" class=\"row_heading level0 row1\" >1</th>\n",
       "      <td id=\"T_7a6fc_row1_col0\" class=\"data row1 col0\" >-0.695283</td>\n",
       "      <td id=\"T_7a6fc_row1_col1\" class=\"data row1 col1\" >0.256238</td>\n",
       "      <td id=\"T_7a6fc_row1_col2\" class=\"data row1 col2\" >0.822117</td>\n",
       "    </tr>\n",
       "  </tbody>\n",
       "</table>\n"
      ],
      "text/plain": [
       "<pandas.io.formats.style.Styler at 0x7f93da268250>"
      ]
     },
     "metadata": {},
     "output_type": "display_data"
    },
    {
     "data": {
      "text/html": [
       "<style type=\"text/css\">\n",
       "#T_49754 caption {\n",
       "  text-align: left;\n",
       "  font-size: 150%;\n",
       "  font-weight: bold;\n",
       "}\n",
       "</style>\n",
       "<table id=\"T_49754\">\n",
       "  <caption>Highest Mag Change (year and magnitude)</caption>\n",
       "  <thead>\n",
       "    <tr>\n",
       "      <th class=\"blank level0\" >&nbsp;</th>\n",
       "      <th id=\"T_49754_level0_col0\" class=\"col_heading level0 col0\" >0</th>\n",
       "    </tr>\n",
       "  </thead>\n",
       "  <tbody>\n",
       "    <tr>\n",
       "      <th id=\"T_49754_level0_row0\" class=\"row_heading level0 row0\" >0</th>\n",
       "      <td id=\"T_49754_row0_col0\" class=\"data row0 col0\" >2016.000000</td>\n",
       "    </tr>\n",
       "    <tr>\n",
       "      <th id=\"T_49754_level0_row1\" class=\"row_heading level0 row1\" >1</th>\n",
       "      <td id=\"T_49754_row1_col0\" class=\"data row1 col0\" >-0.695283</td>\n",
       "    </tr>\n",
       "  </tbody>\n",
       "</table>\n"
      ],
      "text/plain": [
       "<pandas.io.formats.style.Styler at 0x7f93dba508b0>"
      ]
     },
     "metadata": {},
     "output_type": "display_data"
    }
   ],
   "source": [
    "# Sort on magnitude\n",
    "sorted = forSorting.arraySort(forSorting.arraySlice(0,1,2))\n",
    "display(g2p.imageArrayPixelToDataFrame(sorted, pt, None,crs,transform,'Array Sorted by the Second Row (magnitude of change)'))\n",
    "\n",
    "# Slice off the year and magnitude of the highest magnitude change\n",
    "highest_mag_change_array = sorted.arraySlice(1,0,1)\n",
    "display(g2p.imageArrayPixelToDataFrame(highest_mag_change_array, pt, None,crs,transform,'Highest Mag Change (year and magnitude)'))"
   ]
  },
  {
   "cell_type": "markdown",
   "id": "029c1c4b",
   "metadata": {},
   "source": [
    "### Convert arrays into images\n",
    "\n",
    "The final step is to convert the array output into an image. You've seen how array manipulation works on one pixel. You can now \"flatten\" the two-dimensional array into a one-dimensional image. \n",
    "\n",
    "Applying a change threshold allows you to determine what severity of change is flagged as loss. All change that is lower than this magnitude will be masked from the map. \n",
    "\n",
    "Run the code block below to flatten the array into an image and add it to the map. "
   ]
  },
  {
   "cell_type": "code",
   "execution_count": 70,
   "id": "170ded53",
   "metadata": {},
   "outputs": [
    {
     "name": "stdout",
     "output_type": "stream",
     "text": [
      "Adding layer: Array for Sorting\n",
      "Adding layer: Sorted Array\n",
      "Adding layer: Loss Magnitude\n",
      "Adding layer: Loss Year\n",
      "Starting webmap\n",
      "Using default refresh token for geeView: /home/jupyter/.config/earthengine/credentials\n",
      "Local web server at: http://localhost:1235/geeView/ already serving.\n",
      "cwd /home/jupyter/lcms-training\n",
      "Workbench Proxy URL: https://3b40cb8a2076f1b6-dot-us-west3.notebooks.googleusercontent.com/proxy/1235/geeView/?accessToken=None\n"
     ]
    },
    {
     "data": {
      "text/html": [
       "\n",
       "        <iframe\n",
       "            width=\"100%\"\n",
       "            height=\"525px\"\n",
       "            src=\"https://3b40cb8a2076f1b6-dot-us-west3.notebooks.googleusercontent.com/proxy/1235/geeView/?accessToken=None\"\n",
       "            frameborder=\"0\"\n",
       "            allowfullscreen\n",
       "            \n",
       "        ></iframe>\n",
       "        "
      ],
      "text/plain": [
       "<IPython.lib.display.IFrame at 0x7f93da6f3fd0>"
      ]
     },
     "metadata": {},
     "output_type": "display_data"
    },
    {
     "name": "stderr",
     "output_type": "stream",
     "text": [
      "127.0.0.1 - - [31/Aug/2023 17:47:28] \"GET /geeView/js/runGeeViz.js HTTP/1.1\" 200 -\n"
     ]
    }
   ],
   "source": [
    "# First, choose a change threshold\n",
    "# Any changes more negative than this value will be flagged as loss\n",
    "change_threshold = -0.15\n",
    "\n",
    "# Convert the sorted array image into a 2-band image\n",
    "highest_mag_change = highest_mag_change_array.arrayProject([0]).arrayFlatten([['yr','mag']])\n",
    "\n",
    "# Mask out any change \n",
    "highest_mag_change = highest_mag_change.updateMask(highest_mag_change.select(['mag']).lte(change_threshold))\n",
    "\n",
    "# Pull the loss magnitude palette and flip the color order\n",
    "lossMagPalette = changeDetectionLib.lossMagPalette.split(',')\n",
    "lossMagPalette.reverse()\n",
    "\n",
    "# Set up map\n",
    "Map.clearMap()\n",
    "Map.addLayer(forSorting,{},'Array for Sorting',False)\n",
    "Map.addLayer(sorted,{},'Sorted Array',False)\n",
    "Map.addLayer(highest_mag_change.select(['mag']),{'min':-0.8,'max':-0.15,'palette':lossMagPalette},'Loss Magnitude')\n",
    "Map.addLayer(highest_mag_change.select(['yr']),{'min':startYear,'max':endYear,'palette':changeDetectionLib.lossYearPalette},'Loss Year')\n",
    "Map.turnOnInspector()\n",
    "Map.view()"
   ]
  },
  {
   "cell_type": "markdown",
   "id": "aba453f7-0740-4fac-a605-80fe7a729da2",
   "metadata": {},
   "source": [
    "### Inspect the output\n",
    "View the output on the map. Turn the layers off and on to view the Loss Year and Loss Magnitude rasters. Double click on a pixel to query it, and see the original array values to understand how they correspond to the end output. "
   ]
  },
  {
   "cell_type": "markdown",
   "id": "b69245ab",
   "metadata": {},
   "source": [
    "## Run LandTrendr - on all bands\n",
    "\n",
    "Now that you understand LandTrendr parameters and outputs, the next step is to run LandTrendr on all bands. This is a more realistic output. After some additional processing, you will use this output with the LCMS model in Modules 4 and 5. \n",
    "\n",
    "Note that the code below is the same as the code you used to run LandTrendr over a single band. But here, you are applying LandTrendr over each band, and you are not displaying the outputs of the array manipulation at each step. \n",
    "\n",
    "Run the code block below to compute and export LandTrendr output arrays for each of the bands listed in `bandNames`. "
   ]
  },
  {
   "cell_type": "code",
   "execution_count": null,
   "id": "0556bd57",
   "metadata": {
    "colab": {
     "base_uri": "https://localhost:8080/",
     "height": 1000
    },
    "executionInfo": {
     "elapsed": 15779,
     "status": "ok",
     "timestamp": 1690298816811,
     "user": {
      "displayName": "Ian Housman",
      "userId": "00382093583884444463"
     },
     "user_tz": 360
    },
    "id": "149fca54",
    "outputId": "d0da08a8-2959-4ff0-db00-5290580dabef"
   },
   "outputs": [],
   "source": [
    "# We will run LandTrendr for each band\n",
    "#Clear the map in case it has been populated with layers/commands earlier\n",
    "Map.clearMap()\n",
    "\n",
    "# We can use any/all of the bands, but generally bands that use nir and swir are most useful\n",
    "bandNames = ['red','nir','swir1','swir2','NBR','NDVI','brightness','greenness','wetness']\n",
    "\n",
    "#Run LANDTRENDR\n",
    "for bandName in bandNames:\n",
    "\n",
    "    # Select the band and run LandTrendr\n",
    "    run_params['timeSeries'] = composites.select([bandName])\n",
    "    rawLT = ee.Algorithms.TemporalSegmentation.LandTrendr(**run_params)\n",
    "\n",
    "    Map.addLayer(rawLT,{},'LT Raw {}'.format(bandName),False)\n",
    "\n",
    "    # Notice the raw LandTrendr output is in GEE's image array format\n",
    "    # We'll need to manipulate the raw output a bit to save on storage space\n",
    "\n",
    "    # Mask out non vertex values to use less storage space\n",
    "    ltArray = rawLT.select(['LandTrendr'])\n",
    "    rmse = rawLT.select(['rmse'])\n",
    "    vertices = ltArray.arraySlice(0,3,4)\n",
    "    ltArray = ltArray.arrayMask(vertices)\n",
    "\n",
    "    # Mask out all but the year and vertex fited values (get rid of the raw and vertex rows)\n",
    "    ltArray = ltArray.arrayMask(ee.Image(ee.Array([[1],[0],[1],[0]])))\n",
    "    rawLTForExport=ltArray.addBands(rmse)\n",
    "    Map.addLayer(rawLTForExport,{},'LT Vertex Values Only {}'.format(bandName),False)\n",
    "\n",
    "    # Show how the compressed vertex-only values can be decompressed later\n",
    "    decompressedC = changeDetectionLib.simpleLTFit(ltArray,startYear,endYear,bandName,True,run_params['maxSegments'])\n",
    "    Map.addLayer(decompressedC,{'bands':'{}_LT_fitted'.format(bandName),'min':0.2,'max':0.8},'Decompressed LT Output {}'.format(bandName),False)\n",
    "\n",
    "    # Join the raw and fitted values\n",
    "    fitted = decompressedC.select(['{}_LT_fitted'.format(bandName)])\n",
    "    ltJoined = getImagesLib.joinCollections(composites.select([bandName]),fitted)\n",
    "    Map.addLayer(ltJoined,{'bands':'{}_LT_fitted'.format(bandName),'min':0.2,'max':1,'palette':'D80,080'},'Raw and LT Fitted {}'.format(bandName),True)\n",
    "\n",
    "    # Export LT array image\n",
    "    # Set some properties that will be uses later\n",
    "    rawLTForExport = rawLTForExport.set({'startYear':startYear,\n",
    "                                          'endYear':endYear,\n",
    "                                          'startJulian':startJulian,\n",
    "                                          'endJulian':endJulian,\n",
    "                                          'band':bandName})\n",
    "    rawLTForExport =rawLTForExport.set(run_params)\n",
    "    exportName = 'LT_Raw_{}_yrs{}-{}_jds{}-{}'.format(bandName,startYear,endYear,startJulian,endJulian)\n",
    "    exportPath = export_landTrendr_collection + '/'+ exportName\n",
    "    # Export output\n",
    "    getImagesLib.exportToAssetWrapper(rawLTForExport,exportName,exportPath,{'.default':'sample'},studyArea,scale,crs,transform,overwrite=False)\n",
    "\n",
    "Map.turnOnInspector()\n",
    "Map.addLayer(studyArea, {'strokeColor': '0000FF'}, \"Study Area\", False)\n",
    "Map.view()"
   ]
  },
  {
   "cell_type": "markdown",
   "id": "19c10420-1a56-4fdf-9bb6-e5ac7ca2ef0b",
   "metadata": {},
   "source": [
    "If you'd like to track the status of export tasks, use the code below. "
   ]
  },
  {
   "cell_type": "code",
   "execution_count": null,
   "id": "3b35b81a",
   "metadata": {
    "colab": {
     "base_uri": "https://localhost:8080/"
    },
    "executionInfo": {
     "elapsed": 6005,
     "status": "ok",
     "timestamp": 1690211462841,
     "user": {
      "displayName": "Ian Housman",
      "userId": "00382093583884444463"
     },
     "user_tz": 360
    },
    "id": "qBkYgUm3JIRM",
    "outputId": "410ab298-a91c-4d34-ad21-3effc4990065"
   },
   "outputs": [],
   "source": [
    "# Can track tasks here or at https://code.earthengine.google.com/tasks\n",
    "# If you'd like to track the tasks, use this:\n",
    "# tml.trackTasks2()\n",
    "\n",
    "# If you want to cancel all running tasks, you can use this function\n",
    "# tml.batchCancel()\n",
    "\n",
    "# If you want to empty the collection of all images\n",
    "# aml.batchDelete(export_landTrendr_collection, type = 'imageCollection')\n",
    "\n",
    "print('done')"
   ]
  },
  {
   "cell_type": "markdown",
   "id": "8bbe0a25",
   "metadata": {},
   "source": [
    "> Note: The geeViz library also provides wrapper functions for array processing and running LandTrendr. You can use the [`changeDetectionLib.convertToLossGain()`](https://github.com/gee-community/geeViz/blob/fdd8f0080301f8d915214b6e2d50af03a0915777/changeDetectionLib.py#L778C5-L778C22) function in the geeViz library to perform array processing. You can also use the [`changeDetectionLib.simpleLANDTRENDR`](https://github.com/gee-community/geeViz/blob/27a0c5d8a0a9c9623e67599bf06448d64b481c56/changeDetectionLib.py#L344) to run LandTrendr. Check out examples and documentation in the [geeViz/examples](https://github.com/gee-community/geeViz/blob/master/examples/LANDTRENDRViz.py) repository.\n",
    "\n",
    "\n",
    "\n"
   ]
  },
  {
   "cell_type": "markdown",
   "id": "a1b7fbe4",
   "metadata": {},
   "source": [
    "### Convert LandTrendr array into time series - for input into LCMS\n",
    "\n",
    "While we can use the LandTrendr output for change detection, LCMS uses it as inputs to change detection, land cover, and land use models. Next, you will conver the raw LandTrendr array image asset into a time series of annual fitted, segment duration, segment magnitude of change, and slope values.\n",
    "\n",
    "This processing relies on the [`changeDetectionLib.batchSimpleLTFit`](https://github.com/gee-community/geeViz/blob/fdd8f0080301f8d915214b6e2d50af03a0915777/changeDetectionLib.py#L565) function. This function converts stacked outputs into a collection of fitted, annual outputs: e.g., magnitude of change, slope of change, duration of change for each year.\n",
    "\n",
    "While the fitted LandTrendr value is generally of most importance to our models, LandTrendr segment duration, slope, and magnitude of change can also help our models.\n",
    "\n",
    "Run the code block below to extract the fitted annual outputs and view them on the map."
   ]
  },
  {
   "cell_type": "code",
   "execution_count": 46,
   "id": "23c4a549",
   "metadata": {},
   "outputs": [
    {
     "name": "stdout",
     "output_type": "stream",
     "text": [
      "Adding layer: LandTrendr All Predictors Time Series\n",
      "Adding layer: Study Area\n",
      "Starting webmap\n",
      "Using default refresh token for geeView: /home/jupyter/.config/earthengine/credentials\n",
      "Local web server at: http://localhost:1234/geeView/ already serving.\n",
      "cwd /home/jupyter/lcms-training\n",
      "Workbench Proxy URL: https://3b40cb8a2076f1b6-dot-us-west3.notebooks.googleusercontent.com/proxy/1234/geeView/?accessToken=None\n"
     ]
    },
    {
     "data": {
      "text/html": [
       "\n",
       "        <iframe\n",
       "            width=\"100%\"\n",
       "            height=\"525px\"\n",
       "            src=\"https://3b40cb8a2076f1b6-dot-us-west3.notebooks.googleusercontent.com/proxy/1234/geeView/?accessToken=None\"\n",
       "            frameborder=\"0\"\n",
       "            allowfullscreen\n",
       "            \n",
       "        ></iframe>\n",
       "        "
      ],
      "text/plain": [
       "<IPython.lib.display.IFrame at 0x7f93dba51930>"
      ]
     },
     "metadata": {},
     "output_type": "display_data"
    },
    {
     "name": "stderr",
     "output_type": "stream",
     "text": [
      "127.0.0.1 - - [31/Aug/2023 15:10:38] \"GET /geeView/js/runGeeViz.js HTTP/1.1\" 200 -\n"
     ]
    }
   ],
   "source": [
    "# Load raw LandTrendr outputs\n",
    "lt_asset = ee.ImageCollection(f'{pre_baked_path_root}/lcms-training_module-3_landTrendr')\n",
    "\n",
    "# Convert into fitted, annual outputs: e.g., magnitude of change, slope of change, duration of change for each year\n",
    "lt_fit = changeDetectionLib.batchSimpleLTFit(lt_asset,startYear,endYear,None,bandPropertyName='band',arrayMode=True)\n",
    "\n",
    "#Add to the map\n",
    "Map.clearMap()\n",
    "Map.addLayer(lt_fit,{'bands':'swir2_LT_fitted,nir_LT_fitted,red_LT_fitted','min':0.15,'max':0.6},'LandTrendr All Predictors Time Series')\n",
    "\n",
    "\n",
    "Map.turnOnInspector()\n",
    "Map.addLayer(studyArea, {'strokeColor': '0000FF'}, \"Study Area\", False)\n",
    "Map.view()"
   ]
  },
  {
   "cell_type": "markdown",
   "id": "a27557c0",
   "metadata": {},
   "source": [
    "### Inspect\n",
    "Double-click the map to query values and see actual and fitted values for indices over time. Vizualize image collection that is used as predictors in LCMS models. When you double-click the output on the map, notice the different values available to the models\n",
    "\n",
    "## Example: LandTrendr reduces noise in original composite time series \n",
    "\n",
    "The best way of understanding how LandTrendr contributes to reducing noise in the original composite time series is to visualize the LandTrendr outputs and the composite side-by-side. \n",
    "\n",
    "The below example takes the fitted values from LandTrendr and shows them along with the original composites. Notice many holes are now filled in by LandTrendr. In general, LandTrendr reduces the amount of noise in the time series. There is a risk, however, of fitting too much and omitting changes such as those seen in 2017 for Hurricane Maria.\n",
    "\n",
    "Run the code block below to compare the fitted time series against the input composites. \n",
    "\n",
    "Click on the map, inspect the fitted time series, and watch the composite timelapse and the Landtrendr timelapse."
   ]
  },
  {
   "cell_type": "code",
   "execution_count": 71,
   "id": "f558e1bd",
   "metadata": {},
   "outputs": [
    {
     "name": "stdout",
     "output_type": "stream",
     "text": [
      "Adding layer: Raw Composite Timelapse\n",
      "Adding layer: Fitted LandTrendr Composite Timelapse\n",
      "Adding layer: Raw and LT Fitted\n",
      "Adding layer: Study Area\n",
      "Starting webmap\n",
      "Using default refresh token for geeView: /home/jupyter/.config/earthengine/credentials\n",
      "Local web server at: http://localhost:1235/geeView/ already serving.\n",
      "cwd /home/jupyter/lcms-training\n",
      "Workbench Proxy URL: https://3b40cb8a2076f1b6-dot-us-west3.notebooks.googleusercontent.com/proxy/1235/geeView/?accessToken=None\n"
     ]
    },
    {
     "data": {
      "text/html": [
       "\n",
       "        <iframe\n",
       "            width=\"100%\"\n",
       "            height=\"525px\"\n",
       "            src=\"https://3b40cb8a2076f1b6-dot-us-west3.notebooks.googleusercontent.com/proxy/1235/geeView/?accessToken=None\"\n",
       "            frameborder=\"0\"\n",
       "            allowfullscreen\n",
       "            \n",
       "        ></iframe>\n",
       "        "
      ],
      "text/plain": [
       "<IPython.lib.display.IFrame at 0x7f93dba51780>"
      ]
     },
     "metadata": {},
     "output_type": "display_data"
    },
    {
     "name": "stderr",
     "output_type": "stream",
     "text": [
      "127.0.0.1 - - [31/Aug/2023 18:10:56] \"GET /geeView/js/runGeeViz.js HTTP/1.1\" 200 -\n"
     ]
    }
   ],
   "source": [
    "# Visualize fitted landTrendr composites\n",
    "fitted_bns = lt_fit.select(['.*_fitted']).first().bandNames()\n",
    "out_bns = fitted_bns.map(lambda bn: ee.String(bn).split('_').get(0))\n",
    "\n",
    "# Give same names as composites\n",
    "lt_synth = lt_fit.select(fitted_bns,out_bns)\n",
    "\n",
    "# Clear Map\n",
    "Map.clearMap()\n",
    "\n",
    "# Visualize raw and LandTrendr fitted composites\n",
    "Map.addTimeLapse(composites,getImagesLib.vizParamsFalse,'Raw Composite Timelapse')\n",
    "Map.addTimeLapse(lt_synth,getImagesLib.vizParamsFalse,'Fitted LandTrendr Composite Timelapse')\n",
    "\n",
    "# Join the raw and fitted values\n",
    "ltJoined = getImagesLib.joinCollections(composites.select(bandNames),lt_fit.select(['.*_fitted']))\n",
    "\n",
    "# Add to Map\n",
    "Map.addLayer(ltJoined,{'min':0.2,'max':1},'Raw and LT Fitted',True)\n",
    "\n",
    "Map.turnOnInspector()\n",
    "Map.addLayer(studyArea, {'strokeColor': '0000FF'}, \"Study Area\", False)\n",
    "Map.view()"
   ]
  },
  {
   "cell_type": "markdown",
   "id": "b4d57d47",
   "metadata": {},
   "source": [
    "### Challenge: \n",
    "\n",
    "Calculate LandTrendr stats for NDVI and process arrays into most recent change year.\n",
    "\n",
    "**For Qwiklabs users**, this will be assessed for completion in the Activity Tracking portion of Module 3."
   ]
  },
  {
   "cell_type": "code",
   "execution_count": null,
   "id": "40e73f2e-75f8-4673-bc0e-4994b5758879",
   "metadata": {},
   "outputs": [],
   "source": [
    "# Insert challenge code here"
   ]
  },
  {
   "cell_type": "markdown",
   "id": "84154c2e",
   "metadata": {},
   "source": [
    "### Congratulations! You're done with module 3.1.\n",
    "\n",
    "Other GeeViz LandTrendr examples: \n",
    "- https://github.com/redcastle-resources/geeViz/blob/master/examples/LANDTRENDRViz.py\n",
    "- https://github.com/redcastle-resources/geeViz/blob/master/examples/LANDTRENDRWrapper.py\n",
    "- https://github.com/redcastle-resources/geeViz/blob/master/examples/LANDTRENDRWrapperNotebook.ipynb\n",
    "\n",
    "\n",
    "LandTrendr fitted data will be used as inputs to LCMS in subsequent modules."
   ]
  }
 ],
 "metadata": {
  "colab": {
   "provenance": []
  },
  "environment": {
   "kernel": "python3",
   "name": "tf2-gpu.2-11.m110",
   "type": "gcloud",
   "uri": "gcr.io/deeplearning-platform-release/tf2-gpu.2-11:m110"
  },
  "kernelspec": {
   "display_name": "Python 3",
   "language": "python",
   "name": "python3"
  },
  "language_info": {
   "codemirror_mode": {
    "name": "ipython",
    "version": 3
   },
   "file_extension": ".py",
   "mimetype": "text/x-python",
   "name": "python",
   "nbconvert_exporter": "python",
   "pygments_lexer": "ipython3",
   "version": "3.10.12"
  }
 },
 "nbformat": 4,
 "nbformat_minor": 5
}
