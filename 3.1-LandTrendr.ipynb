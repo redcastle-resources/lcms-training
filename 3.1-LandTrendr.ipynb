{
 "cells": [
  {
   "cell_type": "code",
   "execution_count": null,
   "id": "66ec78bc-6061-477e-87c4-9ab0a770e94f",
   "metadata": {},
   "outputs": [],
   "source": [
    "# Copyright 2023 Google LLC\n",
    "#\n",
    "# Licensed under the Apache License, Version 2.0 (the \"License\");\n",
    "# you may not use this file except in compliance with the License.\n",
    "# You may obtain a copy of the License at\n",
    "#\n",
    "#     https://www.apache.org/licenses/LICENSE-2.0\n",
    "#\n",
    "# Unless required by applicable law or agreed to in writing, software\n",
    "# distributed under the License is distributed on an \"AS IS\" BASIS,\n",
    "# WITHOUT WARRANTIES OR CONDITIONS OF ANY KIND, either express or implied.\n",
    "# See the License for the specific language governing permissions and\n",
    "# limitations under the License."
   ]
  },
  {
   "cell_type": "markdown",
   "id": "602a65fb-529d-4f89-b619-5098af79aca2",
   "metadata": {
    "id": "title:generic,gcp"
   },
   "source": [
    "# Module 3.1- Run LandTrendr over Composites\n",
    "\n",
    "<table align=\"left\">\n",
    "  <td>\n",
    "    <a href=\"https://colab.research.google.com/github/redcastle-resources/lcms-training/blob/main/2-LandTrendr.ipynb\">\n",
    "      <img src=\"https://cloud.google.com/ml-engine/images/colab-logo-32px.png\" alt=\"Colab logo\"> Run in Colab\n",
    "    </a>\n",
    "  </td>\n",
    "  <td>\n",
    "    <a href=\"https://github.com/redcastle-resources/lcms-training/blob/main/3-LandTrendr.ipynb\">\n",
    "      <img src=\"https://cloud.google.com/ml-engine/images/github-logo-32px.png\" alt=\"GitHub logo\">\n",
    "      View on GitHub\n",
    "    </a>\n",
    "  </td>\n",
    "  <td>\n",
    "    <a href=\"https://console.cloud.google.com/vertex-ai/workbench/deploy-notebook?download_url=https://github.com/redcastle-resources/lcms-training/blob/main/3-LandTrendr.ipynb\">\n",
    "      <img src=\"https://lh3.googleusercontent.com/UiNooY4LUgW_oTvpsNhPpQzsstV5W8F7rYgxgGBD85cWJoLmrOzhVs_ksK_vgx40SHs7jCqkTkCk=e14-rj-sc0xffffff-h130-w32\" alt=\"Vertex AI logo\">\n",
    "      Open in Vertex AI Workbench\n",
    "    </a>\n",
    "  </td>\n",
    "</table>\n",
    "<br/><br/><br/>"
   ]
  },
  {
   "cell_type": "markdown",
   "id": "bc4f3e6f-cffb-456a-a450-a0eebde8bbc2",
   "metadata": {
    "id": "overview:mlops"
   },
   "source": [
    "## Overview\n",
    "\n",
    "LandTrendr, short for Landsat-based detection of Trends in Disturbance and Recovery, is a set of temporal segmentation algorithms that that are used in change detection. LandTrendr also removes noise from interannual spectral data. You can use the change detection outputs and the smoothed spectral data that LandTrendr produces as inputs to modeling software, like LCMS. \n",
    "\n",
    "**This notebook uses Landsat and Sentinel-2 composites, like the ones you created in the previous notebook, as inputs to the LandTrendr temporal segmentation and spectral smoothing operations.**\n",
    "\n",
    "##### To learn more about LandTrendr:\n",
    "- [LandTrendr Guide](https://emapr.github.io/LT-GEE/)`\n",
    "- [LandTrendr GEE Publication](https://www.mdpi.com/2072-4292/10/5/691)\n",
    "\n",
    "\n",
    "### Objective\n",
    "\n",
    "In this tutorial, you learn how to create and manipulate LandTrendr outputs.\n",
    "\n",
    "**This tutorial uses the following Google Cloud services:**\n",
    "\n",
    "- Google Earth Engine\n",
    "- Google Cloud Platform\n",
    "\n",
    "**The steps performed include:**\n",
    "\n",
    "- Create LandTrendr outputs\n",
    "- Manipulate EE array image objects to get meaningful data out of LandTrendr outputs\n",
    "\n",
    "**Learning objectives include:**\n",
    "- Users will understand the purpose of temporal segmentation as implemented in LandTrendr.\n",
    "- Users will understand key parameters in LandTrendr algorithm. \n",
    "- Users will be able to generate and manipulate array outputs from LandTrendr. \n"
   ]
  },
  {
   "cell_type": "markdown",
   "id": "ad7d8257-f465-4d11-b56b-a0ba212ec06f",
   "metadata": {},
   "source": [
    "## Before you begin\n",
    "\n",
    "### Set your current URL under `workbench_url`\n",
    "This gives the Map Viewer a url in which to host the viewer we will be generating. \n",
    "* This will be in your URL/search bar at the top of the browser window you are currently in\n",
    "* It will look something like `https://1234567890122-dot-us-west3.notebooks.googleusercontent.com/` (See the image below)\n",
    "\n",
    "![workspace url](img/workspace-url.png)\n",
    "\n",
    "### Set a folder to use for all exports under `export_path_root` \n",
    "This folder should be an assets folder in an existing GEE project. \n",
    "* It will be something like `projects/projectID/assets/someFolder`\n",
    "* This folder does not have to already exist. If it does not exist, it will be created"
   ]
  },
  {
   "cell_type": "code",
   "execution_count": 6,
   "id": "71d8fa94-eba4-4a8e-93c4-4a2ed65880db",
   "metadata": {},
   "outputs": [
    {
     "name": "stdout",
     "output_type": "stream",
     "text": [
      "Done\n"
     ]
    }
   ],
   "source": [
    "workbench_url = 'https://3b40cb8a2076f1b6-dot-us-west3.notebooks.googleusercontent.com/'\n",
    "export_path_root  = 'projects/rcr-gee/assets/lcms-training'\n",
    "\n",
    "print('Done')"
   ]
  },
  {
   "cell_type": "markdown",
   "id": "24bdb3e7-a939-43f4-8e3b-abc2ad7b2442",
   "metadata": {},
   "source": [
    "### Installation\n",
    "First, install necessary Python packages. Uncomment the first line to upgrade geeViz if necessary."
   ]
  },
  {
   "cell_type": "code",
   "execution_count": 2,
   "id": "4eaad445-9df9-4130-9c86-2394a8be4638",
   "metadata": {},
   "outputs": [
    {
     "name": "stdout",
     "output_type": "stream",
     "text": [
      "Initializing GEE\n",
      "Successfully initialized\n",
      "geeViz package folder: /opt/conda/lib/python3.10/site-packages/geeViz\n",
      "Done\n"
     ]
    }
   ],
   "source": [
    "#Module imports\n",
    "#!python -m pip install geeViz --upgrade\n",
    "try:\n",
    "    import geeViz.getImagesLib as getImagesLib\n",
    "except:\n",
    "    !python -m pip install geeViz\n",
    "    import geeViz.getImagesLib as getImagesLib\n",
    "\n",
    "import geeViz.changeDetectionLib as changeDetectionLib\n",
    "import geeViz.assetManagerLib as aml\n",
    "import geeViz.taskManagerLib as tml\n",
    "\n",
    "import inspect\n",
    "\n",
    "ee = getImagesLib.ee\n",
    "Map = getImagesLib.Map\n",
    "\n",
    "print('Done')"
   ]
  },
  {
   "cell_type": "markdown",
   "id": "481f78db-08e7-4336-be21-a35c8b016599",
   "metadata": {
    "tags": []
   },
   "source": [
    "### Set up your work environment\n",
    "\n",
    "Create a folder in your export path where you will export the composites. In addition, create a blank image collection where your composites will live.\n",
    "\n",
    "Currently, when running within Colab, geeView uses a different project to authenticate through, so you may need to make your asset public to view from within Colab."
   ]
  },
  {
   "cell_type": "code",
   "execution_count": 3,
   "id": "5c32ac02-69f6-46d7-9f47-4def487f9f84",
   "metadata": {},
   "outputs": [
    {
     "name": "stdout",
     "output_type": "stream",
     "text": [
      "Found the following sub directories:  ['lcms-training', 'lcms-training_module-3_landTrendr']\n",
      "Will attempt to create them if they do not exist\n",
      "Asset projects/rcr-gee/assets/lcms-training already exists\n",
      "Asset projects/rcr-gee/assets/lcms-training/lcms-training_module-3_landTrendr already exists\n",
      "Updating permissions for:  projects/rcr-gee/assets/lcms-training/lcms-training_module-3_landTrendr\n",
      "Done\n"
     ]
    }
   ],
   "source": [
    "# Create folder and a collection and make public\n",
    "\n",
    "export_composite_collection = f'{export_path_root}/lcms-training_module-2_composites'\n",
    "export_landTrendr_collection = f'{export_path_root}/lcms-training_module-3_landTrendr'\n",
    "\n",
    "aml.create_asset(export_landTrendr_collection,asset_type = ee.data.ASSET_TYPE_IMAGE_COLL)\n",
    "\n",
    "# Currently geeView within Colab uses a different project to authenticate through, so you may need to make your asset public to view from within Colab\n",
    "aml.updateACL(export_landTrendr_collection,writers = [],all_users_can_read = True,readers = [])\n",
    "\n",
    "# aml.batchCopy('projects/rcr-gee/assets/landTrendr-lcms-training-module-2',export_landTrendr_collection,outType = 'imageCollection')\n",
    "# aml.batchDelete(export_landTrendr_collection)\n",
    "print('Done')"
   ]
  },
  {
   "cell_type": "markdown",
   "id": "24aa8e21-b5b8-4897-9718-8303648b5a80",
   "metadata": {},
   "source": [
    "## Change detection with LandTrendr - intro\n",
    "\n",
    "LandTrendr is a suite of temporal segmentation algorithm developed by the eMapr Lab at Oregon State University. \n",
    "\n",
    "LandTrendr works by taking a time series of annual composite images and fitting multiple linear segments that describe the spectral trajectory. The resulting segments can be used to describe change processes on the landscape. \n",
    "\n",
    "For example, a short, steep decline is likely to be a fast change, like harvest or fire. A long, shallow decline is likely to be a slower change, due to insects, disease, or drought. LandTrendr can also track periods of recovery, like a long shallow incline following a harvest or fire event. \n",
    "\n",
    "\n",
    "\n",
    "### Example \n",
    "View an example of data input to LandTrendr data -- don't worry about the params too much yet. "
   ]
  },
  {
   "cell_type": "code",
   "execution_count": 20,
   "id": "456bab0e-f35e-40a0-8292-b695a471c1de",
   "metadata": {
    "colab": {
     "base_uri": "https://localhost:8080/"
    },
    "executionInfo": {
     "elapsed": 2097,
     "status": "ok",
     "timestamp": 1690298738442,
     "user": {
      "displayName": "Ian Housman",
      "userId": "00382093583884444463"
     },
     "user_tz": 360
    },
    "id": "0YdSMqjxuuAr",
    "outputId": "5bb7abe2-577e-4be4-8849-9e79cdf5ff94"
   },
   "outputs": [],
   "source": [
    "# set up map\n",
    "Map.clearMap()\n",
    "# reset port if necessary\n",
    "#Map.port = 1235\n",
    "Map.proxy_url = workbench_url"
   ]
  },
  {
   "cell_type": "markdown",
   "id": "60eac306-aac4-4a9b-9395-d5bcac712002",
   "metadata": {},
   "source": [
    "#### LandTrendr bands and parameters\n",
    "\n",
    "Lets look at the bands included in the **actual** collection that LCMS uses for LandTrendr in PuertoRico"
   ]
  },
  {
   "cell_type": "code",
   "execution_count": 21,
   "id": "eb213d9f-6c86-47d1-9dd3-bda82c9ccb12",
   "metadata": {
    "colab": {
     "base_uri": "https://localhost:8080/"
    },
    "executionInfo": {
     "elapsed": 2097,
     "status": "ok",
     "timestamp": 1690298738442,
     "user": {
      "displayName": "Ian Housman",
      "userId": "00382093583884444463"
     },
     "user_tz": 360
    },
    "id": "0YdSMqjxuuAr",
    "outputId": "5bb7abe2-577e-4be4-8849-9e79cdf5ff94"
   },
   "outputs": [
    {
     "name": "stdout",
     "output_type": "stream",
     "text": [
      "All bands LCMS uses for LandTrendr: ['NBR', 'NDMI', 'NDSI', 'NDVI', 'blue', 'brightness', 'green', 'greenness', 'nir', 'red', 'swir1', 'swir2', 'tcAngleBG', 'wetness']\n"
     ]
    }
   ],
   "source": [
    "# Index to use to demonstrate change detection capabilities of LandTrendr\n",
    "#Choose band or index\n",
    "#NBR, NDMI, and NDVI tend to work best\n",
    "#Other good options are wetness and tcAngleBG\n",
    "# Must include 'red','nir','swir1' in order to visualize as false color composites in next code block\n",
    "lcms_actual_lt_collection = ee.ImageCollection('projects/lcms-292214/assets/R8/PR_USVI/Base-Learners/LandTrendr-Collection-1984-2020')\n",
    "print('All bands LCMS uses for LandTrendr:',lcms_actual_lt_collection.aggregate_histogram('band').keys().getInfo())"
   ]
  },
  {
   "cell_type": "markdown",
   "id": "57e250e4-918f-4a7e-9b46-2de5b0ee5a41",
   "metadata": {},
   "source": [
    "#### Composites\n",
    "Inspect composites that we're bringing in, get info, calculate additional indices to use for LandTrendr"
   ]
  },
  {
   "cell_type": "code",
   "execution_count": 22,
   "id": "69603256-d816-4fe2-9778-e5b8d1b71a1d",
   "metadata": {
    "colab": {
     "base_uri": "https://localhost:8080/"
    },
    "executionInfo": {
     "elapsed": 2097,
     "status": "ok",
     "timestamp": 1690298738442,
     "user": {
      "displayName": "Ian Housman",
      "userId": "00382093583884444463"
     },
     "user_tz": 360
    },
    "id": "0YdSMqjxuuAr",
    "outputId": "5bb7abe2-577e-4be4-8849-9e79cdf5ff94"
   },
   "outputs": [
    {
     "name": "stdout",
     "output_type": "stream",
     "text": [
      "Done\n"
     ]
    }
   ],
   "source": [
    "# Bring in composites and pull info from them\n",
    "composites = ee.ImageCollection(export_composite_collection)\n",
    "\n",
    "props = composites.first().toDictionary().getInfo()\n",
    "\n",
    "startYear = props['startYear']\n",
    "endYear = props['endYear']\n",
    "\n",
    "startJulian = props['startJulian']\n",
    "endJulian = props['endJulian']\n",
    "\n",
    "proj = composites.first().projection().getInfo()\n",
    "\n",
    "# Pull out the crs\n",
    "# Depending on if a wkt or epsg format is used, it will be stored under a different key\n",
    "if 'crs' not in proj.keys():\n",
    "    crs = proj['wkt']\n",
    "else:\n",
    "    crs = proj['crs']\n",
    "    \n",
    "transform = proj['transform']\n",
    "scale = None\n",
    "\n",
    "studyArea = composites.first().geometry()\n",
    "\n",
    "# Decompress composites by dividing by 10000 for optical bands and add indices\n",
    "composites = composites.select(['blue','green','red','nir','swir1','swir2']).map(lambda img: img.divide(10000).float().copyProperties(img,['system:time_start']))\n",
    "composites = composites.map(getImagesLib.simpleAddIndices)\\\n",
    "                      .map(getImagesLib.getTasseledCap)\\\n",
    "                      .map(getImagesLib.simpleAddTCAngles)\n",
    "\n",
    "\n",
    "print('Done')"
   ]
  },
  {
   "cell_type": "code",
   "execution_count": 23,
   "id": "Wj7OzvDy0KKG",
   "metadata": {
    "colab": {
     "base_uri": "https://localhost:8080/",
     "height": 685
    },
    "executionInfo": {
     "elapsed": 845,
     "status": "ok",
     "timestamp": 1690298747821,
     "user": {
      "displayName": "Ian Housman",
      "userId": "00382093583884444463"
     },
     "user_tz": 360
    },
    "id": "Wj7OzvDy0KKG",
    "outputId": "437170bc-1a74-4b57-9b51-956076d48b29"
   },
   "outputs": [
    {
     "name": "stdout",
     "output_type": "stream",
     "text": [
      "Adding layer: Composites\n",
      "Starting webmap\n",
      "Using default refresh token for geeView: /home/jupyter/.config/earthengine/credentials\n",
      "Starting local web server at: http://localhost:1235/geeView/\n",
      "HTTP server command: \"/opt/conda/bin/python\" -m http.server  1235\n",
      "Done\n",
      "cwd /home/jupyter/lcms-training\n",
      "Workbench Proxy URL: https://3b40cb8a2076f1b6-dot-us-west3.notebooks.googleusercontent.com/proxy/1235/geeView/?accessToken=None\n"
     ]
    },
    {
     "data": {
      "text/html": [
       "\n",
       "        <iframe\n",
       "            width=\"100%\"\n",
       "            height=\"525px\"\n",
       "            src=\"https://3b40cb8a2076f1b6-dot-us-west3.notebooks.googleusercontent.com/proxy/1235/geeView/?accessToken=None\"\n",
       "            frameborder=\"0\"\n",
       "            allowfullscreen\n",
       "            \n",
       "        ></iframe>\n",
       "        "
      ],
      "text/plain": [
       "<IPython.lib.display.IFrame at 0x7f6726afef80>"
      ]
     },
     "metadata": {},
     "output_type": "display_data"
    },
    {
     "name": "stderr",
     "output_type": "stream",
     "text": [
      "127.0.0.1 - - [16/Aug/2023 16:39:13] \"GET /geeView/?accessToken=None HTTP/1.1\" 200 -\n",
      "127.0.0.1 - - [16/Aug/2023 16:39:14] \"GET /geeView/css/style.min.css HTTP/1.1\" 200 -\n",
      "127.0.0.1 - - [16/Aug/2023 16:39:14] \"GET /geeView/js/lcms-viewer.min.js HTTP/1.1\" 200 -\n",
      "127.0.0.1 - - [16/Aug/2023 16:39:14] \"GET /geeView/js/gena-gee-palettes.js HTTP/1.1\" 200 -\n",
      "127.0.0.1 - - [16/Aug/2023 16:39:14] \"GET /geeView/js/load.min.js HTTP/1.1\" 200 -\n",
      "127.0.0.1 - - [16/Aug/2023 16:39:14] \"GET /geeView/js/runGeeViz.js HTTP/1.1\" 200 -\n",
      "127.0.0.1 - - [16/Aug/2023 16:39:16] \"GET /geeView/images/usfslogo.png HTTP/1.1\" 200 -\n",
      "127.0.0.1 - - [16/Aug/2023 16:39:16] \"GET /geeView/images/GEE.png HTTP/1.1\" 200 -\n",
      "127.0.0.1 - - [16/Aug/2023 16:39:16] \"GET /geeView/images/layer_icon.png HTTP/1.1\" 200 -\n",
      "127.0.0.1 - - [16/Aug/2023 16:39:16] \"GET /geeView/images/logos_usda-fs.svg HTTP/1.1\" 200 -\n",
      "127.0.0.1 - - [16/Aug/2023 16:39:16] \"GET /geeView/images/GEE_logo_transparent.png HTTP/1.1\" 200 -\n",
      "127.0.0.1 - - [16/Aug/2023 16:39:16] \"GET /geeView/images/usdalogo.png HTTP/1.1\" 200 -\n",
      "127.0.0.1 - - [16/Aug/2023 16:39:17] \"GET /geeView/images/menu-hamburger_ffffff.svg HTTP/1.1\" 200 -\n",
      "127.0.0.1 - - [16/Aug/2023 16:39:21] \"GET /geeView/images/cumulative_icon.png HTTP/1.1\" 200 -\n"
     ]
    }
   ],
   "source": [
    "# First let's explore the composites and some attributes that can help understand how well the composites turned out\n",
    "Map.clearMap()\n",
    "Map.addTimeLapse(composites,getImagesLib.vizParamsFalse,'Composites')\n",
    "\n",
    "Map.turnOnInspector()\n",
    "Map.view()"
   ]
  },
  {
   "cell_type": "markdown",
   "id": "e766ae5b-21d1-4dd1-921f-f67a3c3d0318",
   "metadata": {},
   "source": [
    "### Set parameters for LandTrendr\n",
    "\n",
    "We can use any/all of the bands, but generally bands that use nir and swir are most useful\n",
    "\n",
    "```\n",
    "#LandTrendr Params\n",
    "# run_params ={\n",
    "#   'timeSeries': (ImageCollection) Yearly time-series from which to extract breakpoints. The first band is used to find breakpoints, and all subsequent bands are fitted using those breakpoints.\n",
    "#   'maxSegments':            6,\\ (Integer) Maximum number of segments to be fitted on the time series.\n",
    "#   'spikeThreshold':         0.9,\\ (Float, default: 0.9) Threshold for damping the spikes (1.0 means no damping).\n",
    "#   'vertexCountOvershoot':   3,\\(Integer, default: 3) The initial model can overshoot the maxSegments + 1 vertices by this amount. Later, it will be pruned down to maxSegments + 1.\n",
    "#   'preventOneYearRecovery': False,\\(Boolean, default: False): Prevent segments that represent one year recoveries.\n",
    "#   'recoveryThreshold':      0.25,\\(Float, default: 0.25) If a segment has a recovery rate faster than 1/recoveryThreshold (in years), then the segment is disallowed.\n",
    "#   'pvalThreshold':          0.05,\\(Float, default: 0.1) If the p-value of the fitted model exceeds this threshold, then the current model is discarded and another one is fitted using the Levenberg-Marquardt optimizer.\n",
    "#   'bestModelProportion':    0.75,\\(Float, default: 0.75) Allows models with more vertices to be chosen if their p-value is no more than (2 - bestModelProportion) times the p-value of the best model.\n",
    "#   'minObservationsNeeded':  6\\(Integer, default: 6) Min observations needed to perform output fitting.\n",
    "# };\n",
    "```\n",
    "\n",
    "Run the code block below to set params"
   ]
  },
  {
   "cell_type": "code",
   "execution_count": 7,
   "id": "061164ac-f4ff-47eb-b106-a65d4942718f",
   "metadata": {
    "colab": {
     "base_uri": "https://localhost:8080/"
    },
    "executionInfo": {
     "elapsed": 2097,
     "status": "ok",
     "timestamp": 1690298738442,
     "user": {
      "displayName": "Ian Housman",
      "userId": "00382093583884444463"
     },
     "user_tz": 360
    },
    "id": "0YdSMqjxuuAr",
    "outputId": "5bb7abe2-577e-4be4-8849-9e79cdf5ff94"
   },
   "outputs": [],
   "source": [
    "# We can use any/all of the bands, but generally bands that use nir and swir are most useful\n",
    "bandNames = ['red','nir','swir1','swir2','NBR','NDVI','brightness','greenness','wetness']\n",
    "\n",
    "#Define landtrendr params\n",
    "run_params = { \\\n",
    "  'maxSegments':            6,\\\n",
    "  'spikeThreshold':         0.9,\\\n",
    "  'vertexCountOvershoot':   3,\\\n",
    "  'preventOneYearRecovery': False,\\\n",
    "  'recoveryThreshold':      0.25,\\\n",
    "  'pvalThreshold':          0.05,\\\n",
    "  'bestModelProportion':    0.75,\\\n",
    "  'minObservationsNeeded':  6\\\n",
    "}"
   ]
  },
  {
   "cell_type": "markdown",
   "id": "e7c7696b-1332-461b-91ea-72ed3faa7205",
   "metadata": {},
   "source": [
    "### Run LandTrendr - on NBR only \n",
    "\n",
    "Now let's run LandTrendr over NBR only, as a test example that will allow us to look at the outputs\n",
    "NBR is the Normmalized Burn Ratio\n",
    "It is sensitive to the presence/absence of moisture\n"
   ]
  },
  {
   "cell_type": "code",
   "execution_count": 24,
   "id": "8704d9bb-89dd-454a-bbff-63f9937f6e6d",
   "metadata": {},
   "outputs": [
    {
     "name": "stdout",
     "output_type": "stream",
     "text": [
      "Adding layer: LT Raw NBR\n",
      "Starting webmap\n",
      "Using default refresh token for geeView: /home/jupyter/.config/earthengine/credentials\n",
      "Local web server at: http://localhost:1235/geeView/ already serving.\n",
      "cwd /home/jupyter/lcms-training\n",
      "Workbench Proxy URL: https://3b40cb8a2076f1b6-dot-us-west3.notebooks.googleusercontent.com/proxy/1235/geeView/?accessToken=None\n"
     ]
    },
    {
     "data": {
      "text/html": [
       "\n",
       "        <iframe\n",
       "            width=\"100%\"\n",
       "            height=\"525px\"\n",
       "            src=\"https://3b40cb8a2076f1b6-dot-us-west3.notebooks.googleusercontent.com/proxy/1235/geeView/?accessToken=None\"\n",
       "            frameborder=\"0\"\n",
       "            allowfullscreen\n",
       "            \n",
       "        ></iframe>\n",
       "        "
      ],
      "text/plain": [
       "<IPython.lib.display.IFrame at 0x7f6725503f10>"
      ]
     },
     "metadata": {},
     "output_type": "display_data"
    },
    {
     "name": "stderr",
     "output_type": "stream",
     "text": [
      "127.0.0.1 - - [16/Aug/2023 16:43:05] \"GET /geeView/js/runGeeViz.js HTTP/1.1\" 200 -\n"
     ]
    }
   ],
   "source": [
    "# Now let's run LandTrendr over NBR\n",
    "# NBR is the Normmalized Burn Ratio\n",
    "# It is sensitive to the presence/absence of moisture\n",
    "# Double click on the output on the map to query it. Notice this output is not immediately useful for change detection or smoothing out a time series of composites\n",
    "Map.clearMap()\n",
    "\n",
    "test_band = 'NBR'\n",
    "run_params['timeSeries'] = composites.select([test_band])\n",
    "raw_LT = ee.Algorithms.TemporalSegmentation.LandTrendr(**run_params)\n",
    "\n",
    "Map.addLayer(raw_LT,{},'LT Raw {}'.format(test_band),True)\n",
    "\n",
    "Map.turnOnInspector()\n",
    "Map.view()"
   ]
  },
  {
   "cell_type": "markdown",
   "id": "e337deba-5054-4482-852e-4dfc87fa1075",
   "metadata": {},
   "source": [
    "Double click on the output on the map to query it. \n",
    "\n",
    "Notice this output is not immediately useful for change detection or smoothing out a time series of composites\n"
   ]
  },
  {
   "cell_type": "markdown",
   "id": "fb32a606-64e7-4ca9-94c8-cf3188171f84",
   "metadata": {},
   "source": [
    "### Using LandTrendr for Change Detection\n",
    "\n",
    "Break up workflow below to show intermediate outputs a little better\n",
    "\n",
    "#### Set up parameters"
   ]
  },
  {
   "cell_type": "code",
   "execution_count": 25,
   "id": "ba34364f-7c2a-427a-b535-c2381625a3d6",
   "metadata": {},
   "outputs": [],
   "source": [
    "# We will now see how LandTrendr can be used on its own for change detection"
   ]
  },
  {
   "cell_type": "markdown",
   "id": "d3f894cd-ed41-47bf-b98a-8f4ad16775a4",
   "metadata": {},
   "source": [
    "#### Process LandTrendr array outputs\n",
    "\n",
    "Make this so you see what processing is being done for a single pixel, at each step "
   ]
  },
  {
   "cell_type": "code",
   "execution_count": null,
   "id": "013e2d00-f5de-40bf-a626-55b26b43ff16",
   "metadata": {},
   "outputs": [],
   "source": [
    "# create object representing pixel to query - any px within study area\n",
    "\n",
    "# extract values to px for products \n",
    "\n",
    "# plot array outputs to visualize "
   ]
  },
  {
   "cell_type": "code",
   "execution_count": 27,
   "id": "b4fdc2f1-6feb-4f43-92c3-ce53f4687a7d",
   "metadata": {},
   "outputs": [],
   "source": [
    "# First, we will select the LandTrendr image array output band\n",
    "lt_array = raw_LT.select(['LandTrendr'])\n",
    "\n",
    "# This output has 2 dimensions per pixel\n",
    "# The rows correspond to 0-years, 1-raw input values, 2-LandTrendr fitted output values, and 3-vertex/non vertex\n",
    "\n",
    "# First, slice the vertices  and use them as a mask to mask out non vertex values\n",
    "vertices = lt_array.arraySlice(0,3,4)\n",
    "lt_array = lt_array.arrayMask(vertices)\n",
    "\n",
    "# In order to perform change detection, we'll need to get the difference between fitted vertex values\n",
    "# We do this by slicing the first to the next to the last and then the second to the last and subtracting them\n",
    "left = lt_array.arraySlice(1,0,-1)\n",
    "right = lt_array.arraySlice(1,1,None)\n",
    "diff  = left.subtract(right)\n",
    "\n",
    "# We then slice the right-hand years and the fitted vertex values difference and combine them\n",
    "years = right.arraySlice(0,0,1)\n",
    "mag = diff.arraySlice(0,2,3)\n",
    "forSorting = years.arrayCat(mag,0)\n",
    "\n",
    "# We can then sort using various rows depending on whether we want the highest magnitude change, most recent, etc\n",
    "# In this example, the sort row will be the magnitude, thus giving us the highest severity change\n",
    "sorted = forSorting.arraySort(forSorting.arraySlice(0,1,2))"
   ]
  },
  {
   "cell_type": "markdown",
   "id": "e1473c53-d332-4333-8f05-9f4400ae363d",
   "metadata": {},
   "source": [
    "#### Inspect array outputs\n",
    "\n",
    "Run the code below to add the layers to map to inspect them \n",
    "\n",
    "Double click to inpsect values"
   ]
  },
  {
   "cell_type": "code",
   "execution_count": 29,
   "id": "93f96457-c118-40dd-ad69-e1842e54d665",
   "metadata": {},
   "outputs": [
    {
     "name": "stdout",
     "output_type": "stream",
     "text": [
      "Adding layer: Array for Sorting\n",
      "Adding layer: Sorted Array\n",
      "Starting webmap\n",
      "Using default refresh token for geeView: /home/jupyter/.config/earthengine/credentials\n",
      "Local web server at: http://localhost:1235/geeView/ already serving.\n",
      "cwd /home/jupyter/lcms-training\n",
      "Workbench Proxy URL: https://3b40cb8a2076f1b6-dot-us-west3.notebooks.googleusercontent.com/proxy/1235/geeView/?accessToken=None\n"
     ]
    },
    {
     "data": {
      "text/html": [
       "\n",
       "        <iframe\n",
       "            width=\"100%\"\n",
       "            height=\"525px\"\n",
       "            src=\"https://3b40cb8a2076f1b6-dot-us-west3.notebooks.googleusercontent.com/proxy/1235/geeView/?accessToken=None\"\n",
       "            frameborder=\"0\"\n",
       "            allowfullscreen\n",
       "            \n",
       "        ></iframe>\n",
       "        "
      ],
      "text/plain": [
       "<IPython.lib.display.IFrame at 0x7f6726afee30>"
      ]
     },
     "metadata": {},
     "output_type": "display_data"
    },
    {
     "name": "stderr",
     "output_type": "stream",
     "text": [
      "127.0.0.1 - - [16/Aug/2023 17:39:48] \"GET /geeView/js/runGeeViz.js HTTP/1.1\" 200 -\n"
     ]
    }
   ],
   "source": [
    "# Set up map\n",
    "Map.clearMap()\n",
    "Map.addLayer(forSorting,{},'Array for Sorting')\n",
    "Map.addLayer(sorted,{},'Sorted Array')\n",
    "Map.turnOnInspector()\n",
    "Map.view()"
   ]
  },
  {
   "cell_type": "markdown",
   "id": "39f1e636-cb85-4b10-b3d6-da7fee43a77b",
   "metadata": {},
   "source": [
    "### Convert arrays into images\n",
    "But those arrays still aren't immediately usable\n",
    "\n",
    "Arrays will be converted into images representing loss magnitude and loss year"
   ]
  },
  {
   "cell_type": "code",
   "execution_count": 25,
   "id": "71509de2-41b0-4ced-96e0-96c3ffcc2ae1",
   "metadata": {},
   "outputs": [],
   "source": [
    "# First, choose a change threshold\n",
    "# Any changes more negative than this value will be flagged as loss\n",
    "change_threshold = -0.15"
   ]
  },
  {
   "cell_type": "code",
   "execution_count": 25,
   "id": "ac0b5abf-11d0-40e2-aa36-cdbb1b58aa4c",
   "metadata": {},
   "outputs": [
    {
     "name": "stdout",
     "output_type": "stream",
     "text": [
      "Adding layer: Array for Sorting\n",
      "Adding layer: Sorted Array\n",
      "Adding layer: Loss Magnitude\n",
      "Adding layer: Loss Year\n",
      "Starting webmap\n",
      "Using default refresh token for geeView: /home/jupyter/.config/earthengine/credentials\n",
      "Local web server at: http://localhost:1235/geeView/ already serving.\n",
      "cwd /home/jupyter/lcms-training\n",
      "Workbench Proxy URL: https://3b40cb8a2076f1b6-dot-us-west3.notebooks.googleusercontent.com/proxy/1235/geeView/?accessToken=None\n"
     ]
    },
    {
     "data": {
      "text/html": [
       "\n",
       "        <iframe\n",
       "            width=\"100%\"\n",
       "            height=\"525px\"\n",
       "            src=\"https://3b40cb8a2076f1b6-dot-us-west3.notebooks.googleusercontent.com/proxy/1235/geeView/?accessToken=None\"\n",
       "            frameborder=\"0\"\n",
       "            allowfullscreen\n",
       "            \n",
       "        ></iframe>\n",
       "        "
      ],
      "text/plain": [
       "<IPython.lib.display.IFrame at 0x7f67257b49d0>"
      ]
     },
     "metadata": {},
     "output_type": "display_data"
    },
    {
     "name": "stderr",
     "output_type": "stream",
     "text": [
      "127.0.0.1 - - [16/Aug/2023 16:44:45] \"GET /geeView/js/runGeeViz.js HTTP/1.1\" 200 -\n"
     ]
    }
   ],
   "source": [
    "# Convert the sorted array image into a 2-band image\n",
    "highest_mag_change = sorted.arraySlice(1,0,1).arrayProject([0]).arrayFlatten([['yr','mag']])\n",
    "\n",
    "# Mask out any change \n",
    "highest_mag_change = highest_mag_change.updateMask(highest_mag_change.select(['mag']).lte(change_threshold))\n",
    "\n",
    "# Pull the los magnitude palette and flip the color order\n",
    "lossMagPalette = changeDetectionLib.lossMagPalette.split(',')\n",
    "lossMagPalette.reverse()\n",
    "\n",
    "# Set up map\n",
    "Map.clearMap()\n",
    "Map.addLayer(forSorting,{},'Array for Sorting',False)\n",
    "Map.addLayer(sorted,{},'Sorted Array',False)\n",
    "Map.addLayer(highest_mag_change.select(['mag']),{'min':-0.8,'max':-0.15,'palette':lossMagPalette},'Loss Magnitude')\n",
    "Map.addLayer(highest_mag_change.select(['yr']),{'min':startYear,'max':endYear,'palette':changeDetectionLib.lossYearPalette},'Loss Year')\n",
    "Map.turnOnInspector()\n",
    "Map.view()"
   ]
  },
  {
   "cell_type": "markdown",
   "id": "a302eccb-6f0c-4300-b4f6-dc706df58378",
   "metadata": {},
   "source": [
    "## Run full LandTrendr - on all bands\n",
    "\n",
    "Explain what each section of the code below is doing \n",
    "i.e., running LandTrendr for all bands and processing the outut into images that represent changes of interest"
   ]
  },
  {
   "cell_type": "code",
   "execution_count": 26,
   "id": "149fca54",
   "metadata": {
    "colab": {
     "base_uri": "https://localhost:8080/",
     "height": 1000
    },
    "executionInfo": {
     "elapsed": 15779,
     "status": "ok",
     "timestamp": 1690298816811,
     "user": {
      "displayName": "Ian Housman",
      "userId": "00382093583884444463"
     },
     "user_tz": 360
    },
    "id": "149fca54",
    "outputId": "d0da08a8-2959-4ff0-db00-5290580dabef"
   },
   "outputs": [
    {
     "name": "stdout",
     "output_type": "stream",
     "text": [
      "Adding layer: LT Raw red\n",
      "Adding layer: LT Vertex Values Only red\n",
      "Adding layer: Decompressed LT Output red\n",
      "Adding layer: Raw and LT Fitted red\n",
      "pyramiding object: {'.default': 'sample'}\n",
      "LT_Raw_red_yrs1984-2022_jds152-151 currently exists or is being exported and overwrite = False. Export not started. Set overwite = True if you would like to overwite any existing asset or asset exporting task\n",
      "Adding layer: LT Raw nir\n",
      "Adding layer: LT Vertex Values Only nir\n",
      "Adding layer: Decompressed LT Output nir\n",
      "Adding layer: Raw and LT Fitted nir\n",
      "pyramiding object: {'.default': 'sample'}\n",
      "LT_Raw_nir_yrs1984-2022_jds152-151 currently exists or is being exported and overwrite = False. Export not started. Set overwite = True if you would like to overwite any existing asset or asset exporting task\n",
      "Adding layer: LT Raw swir1\n",
      "Adding layer: LT Vertex Values Only swir1\n",
      "Adding layer: Decompressed LT Output swir1\n",
      "Adding layer: Raw and LT Fitted swir1\n",
      "pyramiding object: {'.default': 'sample'}\n",
      "LT_Raw_swir1_yrs1984-2022_jds152-151 currently exists or is being exported and overwrite = False. Export not started. Set overwite = True if you would like to overwite any existing asset or asset exporting task\n",
      "Adding layer: LT Raw swir2\n",
      "Adding layer: LT Vertex Values Only swir2\n",
      "Adding layer: Decompressed LT Output swir2\n",
      "Adding layer: Raw and LT Fitted swir2\n",
      "pyramiding object: {'.default': 'sample'}\n",
      "LT_Raw_swir2_yrs1984-2022_jds152-151 currently exists or is being exported and overwrite = False. Export not started. Set overwite = True if you would like to overwite any existing asset or asset exporting task\n",
      "Adding layer: LT Raw NBR\n",
      "Adding layer: LT Vertex Values Only NBR\n",
      "Adding layer: Decompressed LT Output NBR\n",
      "Adding layer: Raw and LT Fitted NBR\n",
      "pyramiding object: {'.default': 'sample'}\n",
      "LT_Raw_NBR_yrs1984-2022_jds152-151 currently exists or is being exported and overwrite = False. Export not started. Set overwite = True if you would like to overwite any existing asset or asset exporting task\n",
      "Adding layer: LT Raw NDVI\n",
      "Adding layer: LT Vertex Values Only NDVI\n",
      "Adding layer: Decompressed LT Output NDVI\n",
      "Adding layer: Raw and LT Fitted NDVI\n",
      "pyramiding object: {'.default': 'sample'}\n",
      "LT_Raw_NDVI_yrs1984-2022_jds152-151 currently exists or is being exported and overwrite = False. Export not started. Set overwite = True if you would like to overwite any existing asset or asset exporting task\n",
      "Adding layer: LT Raw brightness\n",
      "Adding layer: LT Vertex Values Only brightness\n",
      "Adding layer: Decompressed LT Output brightness\n",
      "Adding layer: Raw and LT Fitted brightness\n",
      "pyramiding object: {'.default': 'sample'}\n",
      "LT_Raw_brightness_yrs1984-2022_jds152-151 currently exists or is being exported and overwrite = False. Export not started. Set overwite = True if you would like to overwite any existing asset or asset exporting task\n",
      "Adding layer: LT Raw greenness\n",
      "Adding layer: LT Vertex Values Only greenness\n",
      "Adding layer: Decompressed LT Output greenness\n",
      "Adding layer: Raw and LT Fitted greenness\n",
      "pyramiding object: {'.default': 'sample'}\n",
      "LT_Raw_greenness_yrs1984-2022_jds152-151 currently exists or is being exported and overwrite = False. Export not started. Set overwite = True if you would like to overwite any existing asset or asset exporting task\n",
      "Adding layer: LT Raw wetness\n",
      "Adding layer: LT Vertex Values Only wetness\n",
      "Adding layer: Decompressed LT Output wetness\n",
      "Adding layer: Raw and LT Fitted wetness\n",
      "pyramiding object: {'.default': 'sample'}\n",
      "LT_Raw_wetness_yrs1984-2022_jds152-151 currently exists or is being exported and overwrite = False. Export not started. Set overwite = True if you would like to overwite any existing asset or asset exporting task\n",
      "Adding layer: Study Area\n",
      "Starting webmap\n",
      "Using default refresh token for geeView: /home/jupyter/.config/earthengine/credentials\n",
      "Local web server at: http://localhost:1235/geeView/ already serving.\n",
      "cwd /home/jupyter/lcms-training\n",
      "Workbench Proxy URL: https://3b40cb8a2076f1b6-dot-us-west3.notebooks.googleusercontent.com/proxy/1235/geeView/?accessToken=None\n"
     ]
    },
    {
     "data": {
      "text/html": [
       "\n",
       "        <iframe\n",
       "            width=\"100%\"\n",
       "            height=\"525px\"\n",
       "            src=\"https://3b40cb8a2076f1b6-dot-us-west3.notebooks.googleusercontent.com/proxy/1235/geeView/?accessToken=None\"\n",
       "            frameborder=\"0\"\n",
       "            allowfullscreen\n",
       "            \n",
       "        ></iframe>\n",
       "        "
      ],
      "text/plain": [
       "<IPython.lib.display.IFrame at 0x7f67257d66e0>"
      ]
     },
     "metadata": {},
     "output_type": "display_data"
    },
    {
     "name": "stderr",
     "output_type": "stream",
     "text": [
      "127.0.0.1 - - [16/Aug/2023 16:49:44] \"GET /geeView/js/runGeeViz.js HTTP/1.1\" 200 -\n"
     ]
    }
   ],
   "source": [
    "# We will run LandTrendr for each band\n",
    "#Clear the map in case it has been populated with layers/commands earlier\n",
    "Map.clearMap()\n",
    "\n",
    "# We can use any/all of the bands, but generally bands that use nir and swir are most useful\n",
    "bandNames = ['red','nir','swir1','swir2','NBR','NDVI','brightness','greenness','wetness']\n",
    "\n",
    "#Run LANDTRENDR\n",
    "for bandName in bandNames:\n",
    "\n",
    "  # Select the band and run LandTrendr\n",
    "  run_params['timeSeries'] = composites.select([bandName])\n",
    "  rawLT = ee.Algorithms.TemporalSegmentation.LandTrendr(**run_params)\n",
    "\n",
    "  Map.addLayer(rawLT,{},'LT Raw {}'.format(bandName),False)\n",
    "\n",
    "  # Notice the raw LandTrendr output is in GEE's image array format\n",
    "  # We'll need to manipulate the raw output a bit to save on storage space\n",
    "  \n",
    "    # Mask out non vertex values to use less storage space\n",
    "  ltArray = rawLT.select(['LandTrendr'])\n",
    "  rmse = rawLT.select(['rmse'])\n",
    "  vertices = ltArray.arraySlice(0,3,4)\n",
    "  ltArray = ltArray.arrayMask(vertices)\n",
    "\n",
    "  # Mask out all but the year and vertex fited values (get rid of the raw and vertex rows)\n",
    "  ltArray = ltArray.arrayMask(ee.Image(ee.Array([[1],[0],[1],[0]])))\n",
    "  rawLTForExport=ltArray.addBands(rmse)\n",
    "  Map.addLayer(rawLTForExport,{},'LT Vertex Values Only {}'.format(bandName),False)\n",
    "\n",
    "  # Show how the compressed vertex-only values can be decompressed later\n",
    "  decompressedC = changeDetectionLib.simpleLTFit(ltArray,startYear,endYear,bandName,True,run_params['maxSegments'])\n",
    "  Map.addLayer(decompressedC,{'bands':'{}_LT_fitted'.format(bandName),'min':0.2,'max':0.8},'Decompressed LT Output {}'.format(bandName),False)\n",
    "\n",
    "  # Join the raw and fitted values\n",
    "  fitted = decompressedC.select(['{}_LT_fitted'.format(bandName)])\n",
    "  ltJoined = getImagesLib.joinCollections(composites.select([bandName]),fitted)\n",
    "  Map.addLayer(ltJoined,{'bands':'{}_LT_fitted'.format(bandName),'min':0.2,'max':1,'palette':'D80,080'},'Raw and LT Fitted {}'.format(bandName),True)\n",
    "\n",
    "  # Export LT array image\n",
    "  # Set some properties that will be uses later\n",
    "  rawLTForExport = rawLTForExport.set({'startYear':startYear,\n",
    "                                          'endYear':endYear,\n",
    "                                          'startJulian':startJulian,\n",
    "                                          'endJulian':endJulian,\n",
    "                                          'band':bandName})\n",
    "  rawLTForExport =rawLTForExport.set(run_params)\n",
    "  exportName = 'LT_Raw_{}_yrs{}-{}_jds{}-{}'.format(bandName,startYear,endYear,startJulian,endJulian)\n",
    "  exportPath = export_landTrendr_collection + '/'+ exportName\n",
    "  # Export output\n",
    "  getImagesLib.exportToAssetWrapper(rawLTForExport,exportName,exportPath,{'.default':'sample'},studyArea,scale,crs,transform,overwrite=False)\n",
    "\n",
    "Map.turnOnInspector()\n",
    "Map.addLayer(studyArea, {'strokeColor': '0000FF'}, \"Study Area\", False)\n",
    "Map.view()"
   ]
  },
  {
   "cell_type": "code",
   "execution_count": 25,
   "id": "qBkYgUm3JIRM",
   "metadata": {
    "colab": {
     "base_uri": "https://localhost:8080/"
    },
    "executionInfo": {
     "elapsed": 6005,
     "status": "ok",
     "timestamp": 1690211462841,
     "user": {
      "displayName": "Ian Housman",
      "userId": "00382093583884444463"
     },
     "user_tz": 360
    },
    "id": "qBkYgUm3JIRM",
    "outputId": "410ab298-a91c-4d34-ad21-3effc4990065"
   },
   "outputs": [
    {
     "name": "stdout",
     "output_type": "stream",
     "text": [
      "done\n"
     ]
    }
   ],
   "source": [
    "# Can track tasks here or at https://code.earthengine.google.com/tasks\n",
    "# If you'd like to track the tasks, use this:\n",
    "# tml.trackTasks2()\n",
    "\n",
    "# If you want to cancel all running tasks, you can use this function\n",
    "# tml.batchCancel()\n",
    "\n",
    "# If you want to empty the collection of all images\n",
    "# aml.batchDelete(export_landTrendr_collection, type = 'imageCollection')\n",
    "\n",
    "print('done')"
   ]
  },
  {
   "cell_type": "markdown",
   "id": "7d01383c-741e-42fa-8936-06d80e658e98",
   "metadata": {},
   "source": [
    "Array processing also happens within functions \n",
    "\n",
    "`changeDetectionLib.convertToLossGain()` - https://github.com/redcastle-resources/geeViz/blob/fdd8f0080301f8d915214b6e2d50af03a0915777/changeDetectionLib.py#L778C5-L778C22\n",
    "\n"
   ]
  },
  {
   "cell_type": "markdown",
   "id": "46ede96c-72af-47f5-9d96-8e470907a144",
   "metadata": {},
   "source": [
    "### Convert LandTrendr array into time series - for input into LCMS\n",
    "\n",
    "https://github.com/redcastle-resources/geeViz/blob/fdd8f0080301f8d915214b6e2d50af03a0915777/changeDetectionLib.py#L565\n",
    "\n",
    "\n"
   ]
  },
  {
   "cell_type": "code",
   "execution_count": 15,
   "id": "46b9055f-a683-4bf7-b04f-b076259f39bd",
   "metadata": {},
   "outputs": [
    {
     "name": "stdout",
     "output_type": "stream",
     "text": [
      "Adding layer: LandTrendr All Predictors Time Series\n",
      "Adding layer: Study Area\n",
      "Starting webmap\n",
      "Using default refresh token for geeView: /home/jupyter/.config/earthengine/credentials\n",
      "Local web server at: http://localhost:8001/geeView/ already serving.\n",
      "cwd /home/jupyter/lcms-training\n",
      "Workbench Proxy URL: https://3b40cb8a2076f1b6-dot-us-west3.notebooks.googleusercontent.com/proxy/8001/geeView/?accessToken=None\n"
     ]
    },
    {
     "data": {
      "text/html": [
       "\n",
       "        <iframe\n",
       "            width=\"100%\"\n",
       "            height=\"525px\"\n",
       "            src=\"https://3b40cb8a2076f1b6-dot-us-west3.notebooks.googleusercontent.com/proxy/8001/geeView/?accessToken=None\"\n",
       "            frameborder=\"0\"\n",
       "            allowfullscreen\n",
       "            \n",
       "        ></iframe>\n",
       "        "
      ],
      "text/plain": [
       "<IPython.lib.display.IFrame at 0x7f67255e9de0>"
      ]
     },
     "metadata": {},
     "output_type": "display_data"
    }
   ],
   "source": [
    "`# While we can use the LandTrendr output for change detection, LCMS uses it as inputs to change detection, land cover, and land use models\n",
    "# This will show how the raw LandTrendr array image asset is converted into a time series \n",
    "# of annual fitted, segment duration, segment magnitude of change, and slope values\n",
    "Map.clearMap()\n",
    "\n",
    "lt_asset = ee.ImageCollection(export_landTrendr_collection)\n",
    "# Convert stacked outputs into collection of fitted, magnitude, slope, duration, etc values for each year\n",
    "# While the fitted LandTrendr value is generally of most importance to our models, \n",
    "# LandTrendr segment duration, slope, and magnitude of change can also help our models\n",
    "lt_fit = changeDetectionLib.batchSimpleLTFit(lt_asset,startYear,endYear,None,bandPropertyName='band',arrayMode=True)\n",
    "\n",
    "# Vizualize image collection that is used as predictors in LCMS models\n",
    "# When you double-click the output on the map, notice the different values available to the models\n",
    "Map.addLayer(lt_fit,{'bands':'swir2_LT_fitted,nir_LT_fitted,red_LT_fitted','min':0.15,'max':0.6},'LandTrendr All Predictors Time Series')\n",
    "\n",
    "\n",
    "Map.turnOnInspector()\n",
    "Map.addLayer(studyArea, {'strokeColor': '0000FF'}, \"Study Area\", False)\n",
    "Map.view()"
   ]
  },
  {
   "cell_type": "markdown",
   "id": "38d7e85f-d76f-4688-8e78-6f2b44538055",
   "metadata": {},
   "source": [
    "#### Inspect\n",
    "double click the map to query values and see actual and fitted values for indices over time\n",
    "\n",
    "#### LandTrendr reduces noise in original composite tiem series \n",
    "\n",
    "The best way of understanding how LandTrendr contributes to reducing noise in the original composite time series is to visualize them side-by-side\n",
    "This example takes the fitted values from LandTrendr and shows them along with the original\n",
    "Notice many holes are now filled in by LandTrendr\n",
    "In general the amount of noise is reduced. There is a risk however of fitting too much and omitting changes such as those seen in 2017 for Hurricane Maria\n",
    "\n",
    "INCLUDE A SCREENSHOT OF HURRICANE MARIA\n",
    "\n",
    "Click on the map, inspect the fitted time series, watch the composite timelapse and the Landtrendr timelapse"
   ]
  },
  {
   "cell_type": "code",
   "execution_count": 16,
   "id": "68eca558-e073-4b5f-bd26-2c53ddc0f56d",
   "metadata": {},
   "outputs": [
    {
     "name": "stdout",
     "output_type": "stream",
     "text": [
      "Adding layer: Raw Composite Timelapse\n",
      "Adding layer: Fitted LandTrendr Composite Timelapse\n",
      "Adding layer: Raw and LT Fitted\n",
      "Adding layer: Study Area\n",
      "Starting webmap\n",
      "Using default refresh token for geeView: /home/jupyter/.config/earthengine/credentials\n",
      "Local web server at: http://localhost:8001/geeView/ already serving.\n",
      "cwd /home/jupyter/lcms-training\n",
      "Workbench Proxy URL: https://3b40cb8a2076f1b6-dot-us-west3.notebooks.googleusercontent.com/proxy/8001/geeView/?accessToken=None\n"
     ]
    },
    {
     "data": {
      "text/html": [
       "\n",
       "        <iframe\n",
       "            width=\"100%\"\n",
       "            height=\"525px\"\n",
       "            src=\"https://3b40cb8a2076f1b6-dot-us-west3.notebooks.googleusercontent.com/proxy/8001/geeView/?accessToken=None\"\n",
       "            frameborder=\"0\"\n",
       "            allowfullscreen\n",
       "            \n",
       "        ></iframe>\n",
       "        "
      ],
      "text/plain": [
       "<IPython.lib.display.IFrame at 0x7f67255f11e0>"
      ]
     },
     "metadata": {},
     "output_type": "display_data"
    }
   ],
   "source": [
    "Map.clearMap()\n",
    "\n",
    "# The best way of understanding how LandTrendr contributes to reducing noise in the original composite time series\n",
    "# is to visualize them side-by-side\n",
    "# This example takes the fitted values from LandTrendr and shows them along with the original\n",
    "# Notice many holes are now filled in by LandTrendr\n",
    "# In general the amount of noise is reduced. There is a risk however of \n",
    "# fitting too much and omitting changes such as those seen in 2017 for Hurricane Maria\n",
    "\n",
    "# Visualize fitted landTrendr composites\n",
    "fitted_bns = lt_fit.select(['.*_fitted']).first().bandNames()\n",
    "out_bns = fitted_bns.map(lambda bn: ee.String(bn).split('_').get(0))\n",
    "\n",
    "# Give same names as composites\n",
    "lt_synth = lt_fit.select(fitted_bns,out_bns)\n",
    "\n",
    "# Visualize raw and LandTrendr fitted composites\n",
    "Map.addTimeLapse(composites,getImagesLib.vizParamsFalse,'Raw Composite Timelapse')\n",
    "\n",
    "Map.addTimeLapse(lt_synth,getImagesLib.vizParamsFalse,'Fitted LandTrendr Composite Timelapse')\n",
    "\n",
    "\n",
    "# Join the raw and fited values\n",
    "ltJoined = getImagesLib.joinCollections(composites.select(bandNames),lt_fit.select(['.*_fitted']))\n",
    "\n",
    "Map.addLayer(ltJoined,{'min':0.2,'max':1},'Raw and LT Fitted',True)\n",
    "\n",
    "\n",
    "Map.turnOnInspector()\n",
    "Map.addLayer(studyArea, {'strokeColor': '0000FF'}, \"Study Area\", False)\n",
    "Map.view()"
   ]
  },
  {
   "cell_type": "markdown",
   "id": "cfe5d556-9dff-411a-b8f7-cd5d6586acb5",
   "metadata": {},
   "source": [
    "### Vizualize other LandTrendr data\n",
    "\n",
    "-- pull in example from https://github.com/redcastle-resources/geeViz/blob/master/examples/LANDTRENDRViz.py -- to show all LandTrendr outputs at the same time "
   ]
  },
  {
   "cell_type": "markdown",
   "id": "75cdb754-50e9-4c48-b5e9-07641aa3dea6",
   "metadata": {},
   "source": [
    "### Challenge: \n",
    "\n",
    "Calculate LandTrendr stats for NDVI and process arrays into most recent change year "
   ]
  },
  {
   "cell_type": "markdown",
   "id": "5de5e65b-8630-469c-ba1d-ac6d39d358a8",
   "metadata": {},
   "source": [
    "### Congratulations! You're done with module 3.1 \n",
    "\n",
    "Other GeeViz LandTrendr examples: \n",
    "- https://github.com/redcastle-resources/geeViz/blob/master/examples/LANDTRENDRViz.py\n",
    "- https://github.com/redcastle-resources/geeViz/blob/master/examples/LANDTRENDRWrapper.py\n",
    "- https://github.com/redcastle-resources/geeViz/blob/master/examples/LANDTRENDRWrapperNotebook.ipynb\n",
    "\n",
    "\n",
    "LandTrendr fitted data will be used as inputs to LCMS "
   ]
  }
 ],
 "metadata": {
  "colab": {
   "provenance": []
  },
  "environment": {
   "kernel": "python3",
   "name": "common-cpu.m110",
   "type": "gcloud",
   "uri": "gcr.io/deeplearning-platform-release/base-cpu:m110"
  },
  "kernelspec": {
   "display_name": "Python 3",
   "language": "python",
   "name": "python3"
  },
  "language_info": {
   "codemirror_mode": {
    "name": "ipython",
    "version": 3
   },
   "file_extension": ".py",
   "mimetype": "text/x-python",
   "name": "python",
   "nbconvert_exporter": "python",
   "pygments_lexer": "ipython3",
   "version": "3.10.12"
  }
 },
 "nbformat": 4,
 "nbformat_minor": 5
}
