{
 "cells": [
  {
   "cell_type": "code",
   "execution_count": 1,
   "id": "a0b634cb",
   "metadata": {},
   "outputs": [],
   "source": [
    "# Copyright 2023 Google LLC\n",
    "#\n",
    "# Licensed under the Apache License, Version 2.0 (the \"License\");\n",
    "# you may not use this file except in compliance with the License.\n",
    "# You may obtain a copy of the License at\n",
    "#\n",
    "#     https://www.apache.org/licenses/LICENSE-2.0\n",
    "#\n",
    "# Unless required by applicable law or agreed to in writing, software\n",
    "# distributed under the License is distributed on an \"AS IS\" BASIS,\n",
    "# WITHOUT WARRANTIES OR CONDITIONS OF ANY KIND, either express or implied.\n",
    "# See the License for the specific language governing permissions and\n",
    "# limitations under the License."
   ]
  },
  {
   "cell_type": "markdown",
   "id": "30d9a747",
   "metadata": {
    "id": "title:generic,gcp"
   },
   "source": [
    "# Module 3.1- Run LandTrendr over Composites\n",
    "\n",
    "<table align=\"left\">\n",
    "  <td>\n",
    "    <a href=\"https://colab.research.google.com/github/redcastle-resources/lcms-training/blob/main/3.1-LandTrendr.ipynb\">\n",
    "      <img src=\"https://cloud.google.com/ml-engine/images/colab-logo-32px.png\" alt=\"Colab logo\"> Run in Colab\n",
    "    </a>\n",
    "  </td>\n",
    "  <td>\n",
    "    <a href=\"https://github.com/redcastle-resources/lcms-training/blob/main/3.1-LandTrendr.ipynb\">\n",
    "      <img src=\"https://cloud.google.com/ml-engine/images/github-logo-32px.png\" alt=\"GitHub logo\">\n",
    "      View on GitHub\n",
    "    </a>\n",
    "  </td>\n",
    "  <td>\n",
    "    <a href=\"https://console.cloud.google.com/vertex-ai/workbench/deploy-notebook?download_url=https://github.com/redcastle-resources/lcms-training/blob/main/3.1-LandTrendr.ipynb\">\n",
    "      <img src=\"https://lh3.googleusercontent.com/UiNooY4LUgW_oTvpsNhPpQzsstV5W8F7rYgxgGBD85cWJoLmrOzhVs_ksK_vgx40SHs7jCqkTkCk=e14-rj-sc0xffffff-h130-w32\" alt=\"Vertex AI logo\">\n",
    "      Open in Vertex AI Workbench\n",
    "    </a>\n",
    "  </td>\n",
    "</table>\n",
    "<br/><br/><br/>"
   ]
  },
  {
   "cell_type": "markdown",
   "id": "53a80709",
   "metadata": {
    "id": "overview:mlops"
   },
   "source": [
    "## Overview\n",
    "\n",
    "LandTrendr, short for Landsat-based detection of Trends in Disturbance and Recovery, is a temporal segmentation algorithm used for change detection as well as time-series smoothing. You can use LandTrendr outputs for stand-alone change detection or as inputs to modeling models such as the ones used by LCMS. \n",
    "\n",
    "**This notebook uses Landsat and Sentinel-2 composites, like the ones you created in the previous notebook, as inputs to the LandTrendr temporal segmentation and spectral smoothing operations.**\n",
    "\n",
    "##### To learn more about LandTrendr:\n",
    "- [LandTrendr Guide](https://emapr.github.io/LT-GEE/)\n",
    "- [LandTrendr Original Publication](https://www.sciencedirect.com/science/article/abs/pii/S0034425710002245)\n",
    "- [LandTrendr GEE Publication](https://www.mdpi.com/2072-4292/10/5/691)\n",
    "\n",
    "\n",
    "### Objective\n",
    "\n",
    "In this tutorial, you learn how to create and manipulate LandTrendr outputs.\n",
    "\n",
    "**This tutorial uses the following Google Cloud services:**\n",
    "\n",
    "- Google Earth Engine\n",
    "\n",
    "**The steps performed include:**\n",
    "\n",
    "- Create LandTrendr outputs\n",
    "- Manipulate EE array image objects to get meaningful data out of LandTrendr outputs\n",
    "\n",
    "**Learning objectives include:**\n",
    "- Users will understand the purpose of temporal segmentation as implemented in LandTrendr.\n",
    "- Users will understand key parameters in LandTrendr algorithm. \n",
    "- Users will be able to generate and manipulate array outputs from LandTrendr. \n"
   ]
  },
  {
   "cell_type": "markdown",
   "id": "f8098072",
   "metadata": {},
   "source": [
    "## Before you begin\n",
    "\n",
    "### If you are working in Workbench: Set your current URL under `workbench_url`\n",
    "This gives the Map Viewer a url in which to host the viewer we will be generating. \n",
    "* This will be in your URL/search bar at the top of the browser window you are currently in\n",
    "* It will look something like `https://1234567890122-dot-us-west3.notebooks.googleusercontent.com/` (See the image below)\n",
    "\n",
    "![workspace url](img/workspace-url.png)\n",
    "\n",
    "### Set a folder to use for all exports under `export_path_root` \n",
    "* This folder should be an assets folder in an existing GEE project.\n",
    "* By default, this folder is the same as the pre-baked folder (where outputs have already been created). \n",
    "* If you would like to create your own outputs, specify a different path for `export_path_root`, but leave the `pre_baked_path_root` as it was. This way, the pre-baked outputs can be shown at the end, instead of waiting for all exports to finish.\n",
    "* It will be something like `projects/projectID/assets/someFolder`\n",
    "* This folder does not have to already exist. If it does not exist, it will be created"
   ]
  },
  {
   "cell_type": "code",
   "execution_count": 2,
   "id": "a3cd1d78",
   "metadata": {},
   "outputs": [
    {
     "name": "stdout",
     "output_type": "stream",
     "text": [
      "Done\n"
     ]
    }
   ],
   "source": [
    "workbench_url = 'https://3b40cb8a2076f1b6-dot-us-west3.notebooks.googleusercontent.com/'\n",
    "pre_baked_path_root  = 'projects/rcr-gee/assets/lcms-training'\n",
    "export_path_root = pre_baked_path_root\n",
    "print('Done')"
   ]
  },
  {
   "cell_type": "markdown",
   "id": "64488680",
   "metadata": {},
   "source": [
    "### Installation\n",
    "First, install necessary Python packages. Uncomment the first line to upgrade geeViz if necessary."
   ]
  },
  {
   "cell_type": "code",
   "execution_count": 3,
   "id": "815e35f2",
   "metadata": {},
   "outputs": [
    {
     "name": "stdout",
     "output_type": "stream",
     "text": [
      "Initializing GEE\n",
      "Successfully initialized\n",
      "geeViz package folder: /opt/conda/lib/python3.10/site-packages/geeViz\n",
      "Done\n"
     ]
    }
   ],
   "source": [
    "#Module imports\n",
    "#!python -m pip install geeViz --upgrade\n",
    "try:\n",
    "    import geeViz.getImagesLib as getImagesLib\n",
    "except:\n",
    "    !python -m pip install geeViz\n",
    "    import geeViz.getImagesLib as getImagesLib\n",
    "\n",
    "import geeViz.changeDetectionLib as changeDetectionLib\n",
    "import geeViz.assetManagerLib as aml\n",
    "import geeViz.taskManagerLib as tml\n",
    "import geeViz.gee2Pandas as g2p\n",
    "\n",
    "import inspect\n",
    "\n",
    "ee = getImagesLib.ee\n",
    "Map = getImagesLib.Map\n",
    "\n",
    "print('Done')"
   ]
  },
  {
   "cell_type": "markdown",
   "id": "5a6a869d",
   "metadata": {
    "tags": []
   },
   "source": [
    "### Set up your work environment\n",
    "\n",
    "Specify an image collection path where composites were exported to. In addition, create a blank image collection where your LandTrendr outputs will be exported to.\n",
    "\n",
    "Currently, when running within Colab or Workbench, geeView uses a different project to authenticate through, so you may need to make your asset public to view from within Colab."
   ]
  },
  {
   "cell_type": "code",
   "execution_count": 4,
   "id": "ebd740c1",
   "metadata": {},
   "outputs": [
    {
     "name": "stdout",
     "output_type": "stream",
     "text": [
      "Found the following sub directories:  ['lcms-training', 'lcms-training_module-3_landTrendr']\n",
      "Will attempt to create them if they do not exist\n",
      "Asset projects/rcr-gee/assets/lcms-training already exists\n",
      "Asset projects/rcr-gee/assets/lcms-training/lcms-training_module-3_landTrendr already exists\n",
      "Updating permissions for:  projects/rcr-gee/assets/lcms-training/lcms-training_module-3_landTrendr\n",
      "Done\n"
     ]
    }
   ],
   "source": [
    "# Create folder and a collection and make public\n",
    "\n",
    "export_composite_collection = f'{export_path_root}/lcms-training_module-2_composites'\n",
    "export_landTrendr_collection = f'{export_path_root}/lcms-training_module-3_landTrendr'\n",
    "\n",
    "aml.create_asset(export_landTrendr_collection,asset_type = ee.data.ASSET_TYPE_IMAGE_COLL)\n",
    "\n",
    "# Currently geeView within Colab uses a different project to authenticate through, so you may need to make your asset public to view from within Colab\n",
    "aml.updateACL(export_landTrendr_collection,writers = [],all_users_can_read = True,readers = [])\n",
    "\n",
    "print('Done')"
   ]
  },
  {
   "cell_type": "markdown",
   "id": "ce3826bf",
   "metadata": {},
   "source": [
    "## Change detection with LandTrendr - intro\n",
    "\n",
    "LandTrendr is a temporal segmentation algorithm developed at Oregon State University. \n",
    "\n",
    "LandTrendr works by taking a time series of annual values and fitting multiple linear regression models to recursively break the time series into segments that represent time periods with similar linear trends. The resulting segments can be used to describe change processes on the landscape. \n",
    "\n",
    "![workspace url](https://emapr.github.io/LT-GEE/imgs/segmentation.png)\n",
    "\n",
    "By having the duration, magnitude, slope, etc of each segment, you can more easily detect change with simple rulesets.\n",
    "\n",
    "![workspace url](https://emapr.github.io/LT-GEE/imgs/segment_attributes.png)\n",
    "For example, a short, steep decline is likely to be a fast change, like harvest or fire. A long, shallow decline is likely to be a slower change, due to insects, disease, or drought. LandTrendr can also track periods of recovery, like a long shallow incline following a harvest or fire event. \n",
    "\n",
    "\n",
    "\n",
    "### Example \n",
    "View an example of data input to LandTrendr data -- don't worry about the params too much yet. "
   ]
  },
  {
   "cell_type": "code",
   "execution_count": 5,
   "id": "ebe4cbc6",
   "metadata": {
    "colab": {
     "base_uri": "https://localhost:8080/"
    },
    "executionInfo": {
     "elapsed": 2097,
     "status": "ok",
     "timestamp": 1690298738442,
     "user": {
      "displayName": "Ian Housman",
      "userId": "00382093583884444463"
     },
     "user_tz": 360
    },
    "id": "0YdSMqjxuuAr",
    "outputId": "5bb7abe2-577e-4be4-8849-9e79cdf5ff94"
   },
   "outputs": [],
   "source": [
    "# set up map\n",
    "Map.clearMap()\n",
    "\n",
    "# reset port if necessary\n",
    "Map.port = 1235\n",
    "Map.proxy_url = workbench_url"
   ]
  },
  {
   "cell_type": "markdown",
   "id": "563d0bf1",
   "metadata": {},
   "source": [
    "#### LandTrendr bands and parameters\n",
    "\n",
    "Lets look at the bands included in the **actual** collection that LCMS uses for LandTrendr in PuertoRico"
   ]
  },
  {
   "cell_type": "code",
   "execution_count": 6,
   "id": "4ee2b0a6",
   "metadata": {
    "colab": {
     "base_uri": "https://localhost:8080/"
    },
    "executionInfo": {
     "elapsed": 2097,
     "status": "ok",
     "timestamp": 1690298738442,
     "user": {
      "displayName": "Ian Housman",
      "userId": "00382093583884444463"
     },
     "user_tz": 360
    },
    "id": "0YdSMqjxuuAr",
    "outputId": "5bb7abe2-577e-4be4-8849-9e79cdf5ff94"
   },
   "outputs": [
    {
     "name": "stdout",
     "output_type": "stream",
     "text": [
      "All bands LCMS uses for LandTrendr: ['NBR', 'NDMI', 'NDSI', 'NDVI', 'blue', 'brightness', 'green', 'greenness', 'nir', 'red', 'swir1', 'swir2', 'tcAngleBG', 'wetness']\n"
     ]
    }
   ],
   "source": [
    "lcms_actual_lt_collection = ee.ImageCollection('projects/lcms-292214/assets/R8/PR_USVI/Base-Learners/LandTrendr-Collection-1984-2020')\n",
    "print('All bands LCMS uses for LandTrendr:',lcms_actual_lt_collection.aggregate_histogram('band').keys().getInfo())"
   ]
  },
  {
   "cell_type": "markdown",
   "id": "6ba23d80",
   "metadata": {},
   "source": [
    "#### Composites\n",
    "Inspect composites that we're bringing in, get info, calculate additional indices to use for LandTrendr"
   ]
  },
  {
   "cell_type": "code",
   "execution_count": 7,
   "id": "2898ee63",
   "metadata": {
    "colab": {
     "base_uri": "https://localhost:8080/"
    },
    "executionInfo": {
     "elapsed": 2097,
     "status": "ok",
     "timestamp": 1690298738442,
     "user": {
      "displayName": "Ian Housman",
      "userId": "00382093583884444463"
     },
     "user_tz": 360
    },
    "id": "0YdSMqjxuuAr",
    "outputId": "5bb7abe2-577e-4be4-8849-9e79cdf5ff94"
   },
   "outputs": [
    {
     "name": "stdout",
     "output_type": "stream",
     "text": [
      "Done\n"
     ]
    }
   ],
   "source": [
    "# Bring in composites and pull info from them\n",
    "composites = ee.ImageCollection(export_composite_collection)\n",
    "\n",
    "props = composites.first().toDictionary().getInfo()\n",
    "\n",
    "startYear = props['startYear']\n",
    "endYear = props['endYear']\n",
    "\n",
    "startJulian = props['startJulian']\n",
    "endJulian = props['endJulian']\n",
    "\n",
    "proj = composites.first().projection().getInfo()\n",
    "\n",
    "# Pull out the crs\n",
    "# Depending on if a wkt or epsg format is used, it will be stored under a different key\n",
    "if 'crs' not in proj.keys():\n",
    "    crs = proj['wkt']\n",
    "else:\n",
    "    crs = proj['crs']\n",
    "    \n",
    "transform = proj['transform']\n",
    "scale = None\n",
    "\n",
    "studyArea = composites.first().geometry()\n",
    "\n",
    "# Decompress composites by dividing by 10000 for optical bands and add indices\n",
    "composites = composites.select(['blue','green','red','nir','swir1','swir2']).map(lambda img: img.divide(10000).float().copyProperties(img,['system:time_start']))\n",
    "composites = composites.map(getImagesLib.simpleAddIndices)\\\n",
    "                      .map(getImagesLib.getTasseledCap)\\\n",
    "                      .map(getImagesLib.simpleAddTCAngles)\n",
    "\n",
    "\n",
    "print('Done')"
   ]
  },
  {
   "cell_type": "code",
   "execution_count": 8,
   "id": "ec2d198b",
   "metadata": {
    "colab": {
     "base_uri": "https://localhost:8080/",
     "height": 685
    },
    "executionInfo": {
     "elapsed": 845,
     "status": "ok",
     "timestamp": 1690298747821,
     "user": {
      "displayName": "Ian Housman",
      "userId": "00382093583884444463"
     },
     "user_tz": 360
    },
    "id": "Wj7OzvDy0KKG",
    "outputId": "437170bc-1a74-4b57-9b51-956076d48b29"
   },
   "outputs": [
    {
     "name": "stdout",
     "output_type": "stream",
     "text": [
      "Adding layer: Composites\n",
      "Starting webmap\n",
      "Using default refresh token for geeView: /home/jupyter/.config/earthengine/credentials\n",
      "Starting local web server at: http://localhost:1235/geeView/\n",
      "HTTP server command: \"/opt/conda/bin/python\" -m http.server  1235\n",
      "Done\n",
      "cwd /home/jupyter/lcms-training\n",
      "Workbench Proxy URL: https://3b40cb8a2076f1b6-dot-us-west3.notebooks.googleusercontent.com/proxy/1235/geeView/?accessToken=None\n"
     ]
    },
    {
     "data": {
      "text/html": [
       "\n",
       "        <iframe\n",
       "            width=\"100%\"\n",
       "            height=\"525px\"\n",
       "            src=\"https://3b40cb8a2076f1b6-dot-us-west3.notebooks.googleusercontent.com/proxy/1235/geeView/?accessToken=None\"\n",
       "            frameborder=\"0\"\n",
       "            allowfullscreen\n",
       "            \n",
       "        ></iframe>\n",
       "        "
      ],
      "text/plain": [
       "<IPython.lib.display.IFrame at 0x7f93da6f3e20>"
      ]
     },
     "metadata": {},
     "output_type": "display_data"
    },
    {
     "name": "stderr",
     "output_type": "stream",
     "text": [
      "127.0.0.1 - - [23/Aug/2023 23:31:47] \"GET /geeView/js/runGeeViz.js HTTP/1.1\" 200 -\n",
      "127.0.0.1 - - [23/Aug/2023 23:31:52] \"GET /geeView/images/cumulative_icon.png HTTP/1.1\" 200 -\n"
     ]
    }
   ],
   "source": [
    "# First let's explore the composites and some attributes that can help understand how well the composites turned out\n",
    "Map.clearMap()\n",
    "Map.addTimeLapse(composites,getImagesLib.vizParamsFalse,'Composites')\n",
    "\n",
    "Map.centerObject(studyArea,9)\n",
    "Map.turnOnInspector()\n",
    "Map.view()"
   ]
  },
  {
   "cell_type": "markdown",
   "id": "184f0a1e",
   "metadata": {},
   "source": [
    "### Set parameters for LandTrendr\n",
    "\n",
    "We can use any/all of the bands in the composites for LandTrendr, but generally bands or band indices that use the NIR and SWIR portions of the electromagnetic spectrum are most useful.\n",
    "\n",
    "\n",
    "## LandTrendr Params\n",
    "| Argument               | Type                    | Details                                                                                                                                                           |\n",
    "|------------------------|-------------------------|-------------------------------------------------------------------------------------------------------------------------------------------------------------------|\n",
    "| timeSeries             | ImageCollection         | Yearly time-series from which to extract breakpoints. The first band is usedto find breakpoints, and all subsequent bands are fitted using those breakpoints.     |\n",
    "| maxSegments            | Integer                 | Maximum number of segments to be fitted on the time series.                                                                                                       |\n",
    "| spikeThreshold         | Float, default: 0.9     | Threshold for dampening the spikes (1.0 means no dampening).                                                                                                      |\n",
    "| vertexCountOvershoot   | Integer, default: 3     | The initial model can overshoot the maxSegments + 1 vertices by this amount. Later, it will be pruned down to maxSegments + 1.                                    |\n",
    "| preventOneYearRecovery | Boolean, default: False | Prevent segments that represent one year recoveries.                                                                                                              |\n",
    "| recoveryThreshold      | Float, default: 0.25    | If a segment has a recovery rate faster than 1/recoveryThreshold (in years), then the segment is disallowed.                                                      |\n",
    "| pvalThreshold          | Float, default: 0.1     | If the p-value of the fitted model exceeds this threshold, then the current model is discarded and another one is fitted using the Levenberg-Marquardt optimizer. |\n",
    "| bestModelProportion    | Float, default: 0.75    | Allows models with more vertices to be chosen if their p-value is no more than (2 - bestModelProportion) times the p-value of the best model.                     |\n",
    "| minObservationsNeeded  | Integer, default: 6     | Min observations needed to perform output fitting.                                                                                                                |\n",
    "\n",
    "\n",
    "We generally use the default parameters from the Kennedy et al. 2018 paper (Table 1 below) \n",
    "\n",
    "|       Parameter       |  IDL |   GEE   |                                                                                                        Comments                                                                                                       |\n",
    "|:---------------------:|:----:|:-------:|:---------------------------------------------------------------------------------------------------------------------------------------------------------------------------------------------------------------------:|\n",
    "|      maxSegments      |   6  |    6    |                                                                                                                                                                                                                       |\n",
    "|     spikeThreshold    |  0.9 |   0.9   | Renamed from “desawtooth val”                                                                                                                                                                                         |\n",
    "|  vertexCountOvershoot |   3  |    3    |                                                                                                                                                                                                                       |\n",
    "|   recoveryThreshold   | 0.25 |   0.25  |                                                                                                                                                                                                                       |\n",
    "|     pvalThreshold     | 0.05 |   0.05  |                                                                                                                                                                                                                       |\n",
    "|  bestModelProportion  | 0.75 |   0.75  |                                                                                                                                                                                                                       |\n",
    "| minObservationsNeeded |   6  |    6    | Renamed from “minneeded”                                                                                                                                                                                              |\n",
    "|     Background_val    |   0  |    NA   | GEE uses a mask logic to avoid missing values caused by clouds, shadows, and missing imagery.                                                                                                                         |\n",
    "|        Divisor        |  −1  |    NA   | Ensures that vegetation loss disturbance results in negative change in value when NBR is used as a spectral metric. In GEE, this must be handled outside of the segmentation algorithm.                               |\n",
    "|       Kernelsize      |   1  | Dropped | Originally used together with skipfactor to save computational burden; no longer necessary.                                                                                                                           |\n",
    "|       Skipfactor      |   1  | Dropped |                                                                                                                                                                                                                       |\n",
    "|    Distweightfactor   |   2  | Dropped | Inadvertently hardwired in the IDL code, this parameter was hardwired in the GEE code to the value of 2.                                                                                                              |\n",
    "|     Fix_doy_effect    |   1  | Dropped | Although correcting day-of-year trends was considered theoretically useful in the original LT implementation, in practice it has been found to distort time series values when change occurs and thus was eliminated. |\n",
    "\n",
    "\n",
    "**Run the code block below to set the parameters.**"
   ]
  },
  {
   "cell_type": "code",
   "execution_count": 9,
   "id": "38e4824b",
   "metadata": {
    "colab": {
     "base_uri": "https://localhost:8080/"
    },
    "executionInfo": {
     "elapsed": 2097,
     "status": "ok",
     "timestamp": 1690298738442,
     "user": {
      "displayName": "Ian Housman",
      "userId": "00382093583884444463"
     },
     "user_tz": 360
    },
    "id": "0YdSMqjxuuAr",
    "outputId": "5bb7abe2-577e-4be4-8849-9e79cdf5ff94"
   },
   "outputs": [
    {
     "name": "stdout",
     "output_type": "stream",
     "text": [
      "Done\n"
     ]
    }
   ],
   "source": [
    "# We can use any/all of the bands, but generally bands that use nir and swir are most useful\n",
    "bandNames = ['red','nir','swir1','swir2','NBR','NDVI','brightness','greenness','wetness']\n",
    "\n",
    "#Define landtrendr params\n",
    "run_params = { \n",
    "  'maxSegments':            6,\n",
    "  'spikeThreshold':         0.9,\n",
    "  'vertexCountOvershoot':   3,\n",
    "  'preventOneYearRecovery': False,\n",
    "  'recoveryThreshold':      0.25,\n",
    "  'pvalThreshold':          0.05,\n",
    "  'bestModelProportion':    0.75,\n",
    "  'minObservationsNeeded':  6\n",
    "}\n",
    "\n",
    "print('Done')"
   ]
  },
  {
   "cell_type": "markdown",
   "id": "8df8e01c",
   "metadata": {},
   "source": [
    "### Run LandTrendr - on NBR only \n",
    "NBR is the Normmalized Burn Ratio. It is sensitive to changes in moisture and/or vegetation cover\n",
    "\n",
    "Now let's run LandTrendr over NBR only, as a test example that will allow us to look at the outputs\n"
   ]
  },
  {
   "cell_type": "code",
   "execution_count": 10,
   "id": "147fa86c",
   "metadata": {},
   "outputs": [
    {
     "name": "stdout",
     "output_type": "stream",
     "text": [
      "Adding layer: LT Raw NBR\n",
      "Starting webmap\n",
      "Using default refresh token for geeView: /home/jupyter/.config/earthengine/credentials\n",
      "Local web server at: http://localhost:1235/geeView/ already serving.\n",
      "cwd /home/jupyter/lcms-training\n",
      "Workbench Proxy URL: https://3b40cb8a2076f1b6-dot-us-west3.notebooks.googleusercontent.com/proxy/1235/geeView/?accessToken=None\n"
     ]
    },
    {
     "data": {
      "text/html": [
       "\n",
       "        <iframe\n",
       "            width=\"100%\"\n",
       "            height=\"525px\"\n",
       "            src=\"https://3b40cb8a2076f1b6-dot-us-west3.notebooks.googleusercontent.com/proxy/1235/geeView/?accessToken=None\"\n",
       "            frameborder=\"0\"\n",
       "            allowfullscreen\n",
       "            \n",
       "        ></iframe>\n",
       "        "
      ],
      "text/plain": [
       "<IPython.lib.display.IFrame at 0x7f93db9eee30>"
      ]
     },
     "metadata": {},
     "output_type": "display_data"
    },
    {
     "name": "stderr",
     "output_type": "stream",
     "text": [
      "127.0.0.1 - - [23/Aug/2023 23:32:26] \"GET /geeView/js/runGeeViz.js HTTP/1.1\" 200 -\n"
     ]
    }
   ],
   "source": [
    "Map.clearMap()\n",
    "\n",
    "test_band = 'NBR'\n",
    "run_params['timeSeries'] = composites.select([test_band])\n",
    "raw_LT = ee.Algorithms.TemporalSegmentation.LandTrendr(**run_params)\n",
    "\n",
    "Map.addLayer(raw_LT,{},'LT Raw {}'.format(test_band),True)\n",
    "\n",
    "Map.turnOnInspector()\n",
    "Map.view()"
   ]
  },
  {
   "cell_type": "markdown",
   "id": "603b745a",
   "metadata": {},
   "source": [
    "Double click on the output on the map to query it. \n",
    "\n",
    "Notice this output is not immediately useful for change detection or smoothing out a time series of composites\n"
   ]
  },
  {
   "cell_type": "markdown",
   "id": "a60fef27",
   "metadata": {},
   "source": [
    "### Using LandTrendr for Change Detection\n",
    "\n",
    "* We will now go through each step to take the raw LandTrendr output and create a basic change detection output\n",
    "* A single pixel will be used to show the impact each step has on the array that is being manipulated\n"
   ]
  },
  {
   "cell_type": "code",
   "execution_count": 11,
   "id": "4ac44e32",
   "metadata": {},
   "outputs": [
    {
     "data": {
      "text/html": [
       "<style type=\"text/css\">\n",
       "#T_4dd0c caption {\n",
       "  text-align: left;\n",
       "  font-size: 150%;\n",
       "  font-weight: bold;\n",
       "}\n",
       "</style>\n",
       "<table id=\"T_4dd0c\">\n",
       "  <caption>Complete Raw LandTrendr Output</caption>\n",
       "  <thead>\n",
       "    <tr>\n",
       "      <th class=\"blank level0\" >&nbsp;</th>\n",
       "      <th id=\"T_4dd0c_level0_col0\" class=\"col_heading level0 col0\" >0</th>\n",
       "      <th id=\"T_4dd0c_level0_col1\" class=\"col_heading level0 col1\" >1</th>\n",
       "      <th id=\"T_4dd0c_level0_col2\" class=\"col_heading level0 col2\" >2</th>\n",
       "      <th id=\"T_4dd0c_level0_col3\" class=\"col_heading level0 col3\" >3</th>\n",
       "      <th id=\"T_4dd0c_level0_col4\" class=\"col_heading level0 col4\" >4</th>\n",
       "      <th id=\"T_4dd0c_level0_col5\" class=\"col_heading level0 col5\" >5</th>\n",
       "      <th id=\"T_4dd0c_level0_col6\" class=\"col_heading level0 col6\" >6</th>\n",
       "      <th id=\"T_4dd0c_level0_col7\" class=\"col_heading level0 col7\" >7</th>\n",
       "    </tr>\n",
       "  </thead>\n",
       "  <tbody>\n",
       "    <tr>\n",
       "      <th id=\"T_4dd0c_level0_row0\" class=\"row_heading level0 row0\" >Years</th>\n",
       "      <td id=\"T_4dd0c_row0_col0\" class=\"data row0 col0\" >1984.000000</td>\n",
       "      <td id=\"T_4dd0c_row0_col1\" class=\"data row0 col1\" >1985.000000</td>\n",
       "      <td id=\"T_4dd0c_row0_col2\" class=\"data row0 col2\" >1986.000000</td>\n",
       "      <td id=\"T_4dd0c_row0_col3\" class=\"data row0 col3\" >1987.000000</td>\n",
       "      <td id=\"T_4dd0c_row0_col4\" class=\"data row0 col4\" >1988.000000</td>\n",
       "      <td id=\"T_4dd0c_row0_col5\" class=\"data row0 col5\" >1989.000000</td>\n",
       "      <td id=\"T_4dd0c_row0_col6\" class=\"data row0 col6\" >1990.000000</td>\n",
       "      <td id=\"T_4dd0c_row0_col7\" class=\"data row0 col7\" >1992.000000</td>\n",
       "    </tr>\n",
       "    <tr>\n",
       "      <th id=\"T_4dd0c_level0_row1\" class=\"row_heading level0 row1\" >Raw Input Values</th>\n",
       "      <td id=\"T_4dd0c_row1_col0\" class=\"data row1 col0\" >0.732861</td>\n",
       "      <td id=\"T_4dd0c_row1_col1\" class=\"data row1 col1\" >0.567021</td>\n",
       "      <td id=\"T_4dd0c_row1_col2\" class=\"data row1 col2\" >0.772094</td>\n",
       "      <td id=\"T_4dd0c_row1_col3\" class=\"data row1 col3\" >0.716129</td>\n",
       "      <td id=\"T_4dd0c_row1_col4\" class=\"data row1 col4\" >0.765138</td>\n",
       "      <td id=\"T_4dd0c_row1_col5\" class=\"data row1 col5\" >0.656260</td>\n",
       "      <td id=\"T_4dd0c_row1_col6\" class=\"data row1 col6\" >0.674274</td>\n",
       "      <td id=\"T_4dd0c_row1_col7\" class=\"data row1 col7\" >0.714593</td>\n",
       "    </tr>\n",
       "    <tr>\n",
       "      <th id=\"T_4dd0c_level0_row2\" class=\"row_heading level0 row2\" >Fitted Output Values</th>\n",
       "      <td id=\"T_4dd0c_row2_col0\" class=\"data row2 col0\" >0.699796</td>\n",
       "      <td id=\"T_4dd0c_row2_col1\" class=\"data row2 col1\" >0.699796</td>\n",
       "      <td id=\"T_4dd0c_row2_col2\" class=\"data row2 col2\" >0.699796</td>\n",
       "      <td id=\"T_4dd0c_row2_col3\" class=\"data row2 col3\" >0.699796</td>\n",
       "      <td id=\"T_4dd0c_row2_col4\" class=\"data row2 col4\" >0.699796</td>\n",
       "      <td id=\"T_4dd0c_row2_col5\" class=\"data row2 col5\" >0.699796</td>\n",
       "      <td id=\"T_4dd0c_row2_col6\" class=\"data row2 col6\" >0.699796</td>\n",
       "      <td id=\"T_4dd0c_row2_col7\" class=\"data row2 col7\" >0.699796</td>\n",
       "    </tr>\n",
       "    <tr>\n",
       "      <th id=\"T_4dd0c_level0_row3\" class=\"row_heading level0 row3\" >Vertex/non-vertex</th>\n",
       "      <td id=\"T_4dd0c_row3_col0\" class=\"data row3 col0\" >1.000000</td>\n",
       "      <td id=\"T_4dd0c_row3_col1\" class=\"data row3 col1\" >0.000000</td>\n",
       "      <td id=\"T_4dd0c_row3_col2\" class=\"data row3 col2\" >0.000000</td>\n",
       "      <td id=\"T_4dd0c_row3_col3\" class=\"data row3 col3\" >0.000000</td>\n",
       "      <td id=\"T_4dd0c_row3_col4\" class=\"data row3 col4\" >0.000000</td>\n",
       "      <td id=\"T_4dd0c_row3_col5\" class=\"data row3 col5\" >0.000000</td>\n",
       "      <td id=\"T_4dd0c_row3_col6\" class=\"data row3 col6\" >0.000000</td>\n",
       "      <td id=\"T_4dd0c_row3_col7\" class=\"data row3 col7\" >1.000000</td>\n",
       "    </tr>\n",
       "  </tbody>\n",
       "</table>\n"
      ],
      "text/plain": [
       "<pandas.io.formats.style.Styler at 0x7f93da623760>"
      ]
     },
     "metadata": {},
     "output_type": "display_data"
    },
    {
     "data": {
      "text/html": [
       "<style type=\"text/css\">\n",
       "#T_fb0c2 caption {\n",
       "  text-align: left;\n",
       "  font-size: 150%;\n",
       "  font-weight: bold;\n",
       "}\n",
       "</style>\n",
       "<table id=\"T_fb0c2\">\n",
       "  <caption>Only the vertex mask row</caption>\n",
       "  <thead>\n",
       "    <tr>\n",
       "      <th class=\"blank level0\" >&nbsp;</th>\n",
       "      <th id=\"T_fb0c2_level0_col0\" class=\"col_heading level0 col0\" >0</th>\n",
       "      <th id=\"T_fb0c2_level0_col1\" class=\"col_heading level0 col1\" >1</th>\n",
       "      <th id=\"T_fb0c2_level0_col2\" class=\"col_heading level0 col2\" >2</th>\n",
       "      <th id=\"T_fb0c2_level0_col3\" class=\"col_heading level0 col3\" >3</th>\n",
       "      <th id=\"T_fb0c2_level0_col4\" class=\"col_heading level0 col4\" >4</th>\n",
       "      <th id=\"T_fb0c2_level0_col5\" class=\"col_heading level0 col5\" >5</th>\n",
       "      <th id=\"T_fb0c2_level0_col6\" class=\"col_heading level0 col6\" >6</th>\n",
       "      <th id=\"T_fb0c2_level0_col7\" class=\"col_heading level0 col7\" >7</th>\n",
       "    </tr>\n",
       "  </thead>\n",
       "  <tbody>\n",
       "    <tr>\n",
       "      <th id=\"T_fb0c2_level0_row0\" class=\"row_heading level0 row0\" >0</th>\n",
       "      <td id=\"T_fb0c2_row0_col0\" class=\"data row0 col0\" >1</td>\n",
       "      <td id=\"T_fb0c2_row0_col1\" class=\"data row0 col1\" >0</td>\n",
       "      <td id=\"T_fb0c2_row0_col2\" class=\"data row0 col2\" >0</td>\n",
       "      <td id=\"T_fb0c2_row0_col3\" class=\"data row0 col3\" >0</td>\n",
       "      <td id=\"T_fb0c2_row0_col4\" class=\"data row0 col4\" >0</td>\n",
       "      <td id=\"T_fb0c2_row0_col5\" class=\"data row0 col5\" >0</td>\n",
       "      <td id=\"T_fb0c2_row0_col6\" class=\"data row0 col6\" >0</td>\n",
       "      <td id=\"T_fb0c2_row0_col7\" class=\"data row0 col7\" >1</td>\n",
       "    </tr>\n",
       "  </tbody>\n",
       "</table>\n"
      ],
      "text/plain": [
       "<pandas.io.formats.style.Styler at 0x7f93da6aa5c0>"
      ]
     },
     "metadata": {},
     "output_type": "display_data"
    },
    {
     "data": {
      "text/html": [
       "<style type=\"text/css\">\n",
       "#T_c0d95 caption {\n",
       "  text-align: left;\n",
       "  font-size: 150%;\n",
       "  font-weight: bold;\n",
       "}\n",
       "</style>\n",
       "<table id=\"T_c0d95\">\n",
       "  <caption>Complete Raw LandTrendr Only Vertex Columns</caption>\n",
       "  <thead>\n",
       "    <tr>\n",
       "      <th class=\"blank level0\" >&nbsp;</th>\n",
       "      <th id=\"T_c0d95_level0_col0\" class=\"col_heading level0 col0\" >0</th>\n",
       "      <th id=\"T_c0d95_level0_col1\" class=\"col_heading level0 col1\" >1</th>\n",
       "    </tr>\n",
       "  </thead>\n",
       "  <tbody>\n",
       "    <tr>\n",
       "      <th id=\"T_c0d95_level0_row0\" class=\"row_heading level0 row0\" >Years</th>\n",
       "      <td id=\"T_c0d95_row0_col0\" class=\"data row0 col0\" >1984.000000</td>\n",
       "      <td id=\"T_c0d95_row0_col1\" class=\"data row0 col1\" >1992.000000</td>\n",
       "    </tr>\n",
       "    <tr>\n",
       "      <th id=\"T_c0d95_level0_row1\" class=\"row_heading level0 row1\" >Raw Input Values</th>\n",
       "      <td id=\"T_c0d95_row1_col0\" class=\"data row1 col0\" >0.732861</td>\n",
       "      <td id=\"T_c0d95_row1_col1\" class=\"data row1 col1\" >0.714593</td>\n",
       "    </tr>\n",
       "    <tr>\n",
       "      <th id=\"T_c0d95_level0_row2\" class=\"row_heading level0 row2\" >Fitted Output Values</th>\n",
       "      <td id=\"T_c0d95_row2_col0\" class=\"data row2 col0\" >0.699796</td>\n",
       "      <td id=\"T_c0d95_row2_col1\" class=\"data row2 col1\" >0.699796</td>\n",
       "    </tr>\n",
       "    <tr>\n",
       "      <th id=\"T_c0d95_level0_row3\" class=\"row_heading level0 row3\" >Vertex/non-vertex</th>\n",
       "      <td id=\"T_c0d95_row3_col0\" class=\"data row3 col0\" >1.000000</td>\n",
       "      <td id=\"T_c0d95_row3_col1\" class=\"data row3 col1\" >1.000000</td>\n",
       "    </tr>\n",
       "  </tbody>\n",
       "</table>\n"
      ],
      "text/plain": [
       "<pandas.io.formats.style.Styler at 0x7f93da6aa7a0>"
      ]
     },
     "metadata": {},
     "output_type": "display_data"
    },
    {
     "data": {
      "text/html": [
       "<style type=\"text/css\">\n",
       "#T_66471 caption {\n",
       "  text-align: left;\n",
       "  font-size: 150%;\n",
       "  font-weight: bold;\n",
       "}\n",
       "</style>\n",
       "<table id=\"T_66471\">\n",
       "  <caption>Left Slice</caption>\n",
       "  <thead>\n",
       "    <tr>\n",
       "      <th class=\"blank level0\" >&nbsp;</th>\n",
       "      <th id=\"T_66471_level0_col0\" class=\"col_heading level0 col0\" >0</th>\n",
       "    </tr>\n",
       "  </thead>\n",
       "  <tbody>\n",
       "    <tr>\n",
       "      <th id=\"T_66471_level0_row0\" class=\"row_heading level0 row0\" >Years</th>\n",
       "      <td id=\"T_66471_row0_col0\" class=\"data row0 col0\" >1984.000000</td>\n",
       "    </tr>\n",
       "    <tr>\n",
       "      <th id=\"T_66471_level0_row1\" class=\"row_heading level0 row1\" >Raw Input Values</th>\n",
       "      <td id=\"T_66471_row1_col0\" class=\"data row1 col0\" >0.732861</td>\n",
       "    </tr>\n",
       "    <tr>\n",
       "      <th id=\"T_66471_level0_row2\" class=\"row_heading level0 row2\" >Fitted Output Values</th>\n",
       "      <td id=\"T_66471_row2_col0\" class=\"data row2 col0\" >0.699796</td>\n",
       "    </tr>\n",
       "    <tr>\n",
       "      <th id=\"T_66471_level0_row3\" class=\"row_heading level0 row3\" >Vertex/non-vertex</th>\n",
       "      <td id=\"T_66471_row3_col0\" class=\"data row3 col0\" >1.000000</td>\n",
       "    </tr>\n",
       "  </tbody>\n",
       "</table>\n"
      ],
      "text/plain": [
       "<pandas.io.formats.style.Styler at 0x7f93da6a9120>"
      ]
     },
     "metadata": {},
     "output_type": "display_data"
    },
    {
     "data": {
      "text/html": [
       "<style type=\"text/css\">\n",
       "#T_8d390 caption {\n",
       "  text-align: left;\n",
       "  font-size: 150%;\n",
       "  font-weight: bold;\n",
       "}\n",
       "</style>\n",
       "<table id=\"T_8d390\">\n",
       "  <caption>Right Slice</caption>\n",
       "  <thead>\n",
       "    <tr>\n",
       "      <th class=\"blank level0\" >&nbsp;</th>\n",
       "      <th id=\"T_8d390_level0_col0\" class=\"col_heading level0 col0\" >0</th>\n",
       "    </tr>\n",
       "  </thead>\n",
       "  <tbody>\n",
       "    <tr>\n",
       "      <th id=\"T_8d390_level0_row0\" class=\"row_heading level0 row0\" >Years</th>\n",
       "      <td id=\"T_8d390_row0_col0\" class=\"data row0 col0\" >1992.000000</td>\n",
       "    </tr>\n",
       "    <tr>\n",
       "      <th id=\"T_8d390_level0_row1\" class=\"row_heading level0 row1\" >Raw Input Values</th>\n",
       "      <td id=\"T_8d390_row1_col0\" class=\"data row1 col0\" >0.714593</td>\n",
       "    </tr>\n",
       "    <tr>\n",
       "      <th id=\"T_8d390_level0_row2\" class=\"row_heading level0 row2\" >Fitted Output Values</th>\n",
       "      <td id=\"T_8d390_row2_col0\" class=\"data row2 col0\" >0.699796</td>\n",
       "    </tr>\n",
       "    <tr>\n",
       "      <th id=\"T_8d390_level0_row3\" class=\"row_heading level0 row3\" >Vertex/non-vertex</th>\n",
       "      <td id=\"T_8d390_row3_col0\" class=\"data row3 col0\" >1.000000</td>\n",
       "    </tr>\n",
       "  </tbody>\n",
       "</table>\n"
      ],
      "text/plain": [
       "<pandas.io.formats.style.Styler at 0x7f93da6a90f0>"
      ]
     },
     "metadata": {},
     "output_type": "display_data"
    },
    {
     "data": {
      "text/html": [
       "<style type=\"text/css\">\n",
       "#T_e78a0 caption {\n",
       "  text-align: left;\n",
       "  font-size: 150%;\n",
       "  font-weight: bold;\n",
       "}\n",
       "</style>\n",
       "<table id=\"T_e78a0\">\n",
       "  <caption>Left Minus Right</caption>\n",
       "  <thead>\n",
       "    <tr>\n",
       "      <th class=\"blank level0\" >&nbsp;</th>\n",
       "      <th id=\"T_e78a0_level0_col0\" class=\"col_heading level0 col0\" >0</th>\n",
       "    </tr>\n",
       "  </thead>\n",
       "  <tbody>\n",
       "    <tr>\n",
       "      <th id=\"T_e78a0_level0_row0\" class=\"row_heading level0 row0\" >Years</th>\n",
       "      <td id=\"T_e78a0_row0_col0\" class=\"data row0 col0\" >-8.000000</td>\n",
       "    </tr>\n",
       "    <tr>\n",
       "      <th id=\"T_e78a0_level0_row1\" class=\"row_heading level0 row1\" >Raw Input Values</th>\n",
       "      <td id=\"T_e78a0_row1_col0\" class=\"data row1 col0\" >0.018267</td>\n",
       "    </tr>\n",
       "    <tr>\n",
       "      <th id=\"T_e78a0_level0_row2\" class=\"row_heading level0 row2\" >Fitted Output Values</th>\n",
       "      <td id=\"T_e78a0_row2_col0\" class=\"data row2 col0\" >0.000000</td>\n",
       "    </tr>\n",
       "    <tr>\n",
       "      <th id=\"T_e78a0_level0_row3\" class=\"row_heading level0 row3\" >Vertex/non-vertex</th>\n",
       "      <td id=\"T_e78a0_row3_col0\" class=\"data row3 col0\" >0.000000</td>\n",
       "    </tr>\n",
       "  </tbody>\n",
       "</table>\n"
      ],
      "text/plain": [
       "<pandas.io.formats.style.Styler at 0x7f93da6a95a0>"
      ]
     },
     "metadata": {},
     "output_type": "display_data"
    },
    {
     "data": {
      "text/html": [
       "<style type=\"text/css\">\n",
       "#T_6455d caption {\n",
       "  text-align: left;\n",
       "  font-size: 150%;\n",
       "  font-weight: bold;\n",
       "}\n",
       "</style>\n",
       "<table id=\"T_6455d\">\n",
       "  <caption>Array Ready For Sorting</caption>\n",
       "  <thead>\n",
       "    <tr>\n",
       "      <th class=\"blank level0\" >&nbsp;</th>\n",
       "      <th id=\"T_6455d_level0_col0\" class=\"col_heading level0 col0\" >0</th>\n",
       "    </tr>\n",
       "  </thead>\n",
       "  <tbody>\n",
       "    <tr>\n",
       "      <th id=\"T_6455d_level0_row0\" class=\"row_heading level0 row0\" >0</th>\n",
       "      <td id=\"T_6455d_row0_col0\" class=\"data row0 col0\" >1992</td>\n",
       "    </tr>\n",
       "    <tr>\n",
       "      <th id=\"T_6455d_level0_row1\" class=\"row_heading level0 row1\" >1</th>\n",
       "      <td id=\"T_6455d_row1_col0\" class=\"data row1 col0\" >0</td>\n",
       "    </tr>\n",
       "  </tbody>\n",
       "</table>\n"
      ],
      "text/plain": [
       "<pandas.io.formats.style.Styler at 0x7f93da6aace0>"
      ]
     },
     "metadata": {},
     "output_type": "display_data"
    },
    {
     "data": {
      "text/html": [
       "<style type=\"text/css\">\n",
       "#T_0bb1c caption {\n",
       "  text-align: left;\n",
       "  font-size: 150%;\n",
       "  font-weight: bold;\n",
       "}\n",
       "</style>\n",
       "<table id=\"T_0bb1c\">\n",
       "  <caption>Array Sorted by the Second Row (magnitude of change)</caption>\n",
       "  <thead>\n",
       "    <tr>\n",
       "      <th class=\"blank level0\" >&nbsp;</th>\n",
       "      <th id=\"T_0bb1c_level0_col0\" class=\"col_heading level0 col0\" >0</th>\n",
       "    </tr>\n",
       "  </thead>\n",
       "  <tbody>\n",
       "    <tr>\n",
       "      <th id=\"T_0bb1c_level0_row0\" class=\"row_heading level0 row0\" >0</th>\n",
       "      <td id=\"T_0bb1c_row0_col0\" class=\"data row0 col0\" >1992</td>\n",
       "    </tr>\n",
       "    <tr>\n",
       "      <th id=\"T_0bb1c_level0_row1\" class=\"row_heading level0 row1\" >1</th>\n",
       "      <td id=\"T_0bb1c_row1_col0\" class=\"data row1 col0\" >0</td>\n",
       "    </tr>\n",
       "  </tbody>\n",
       "</table>\n"
      ],
      "text/plain": [
       "<pandas.io.formats.style.Styler at 0x7f93da6aae00>"
      ]
     },
     "metadata": {},
     "output_type": "display_data"
    },
    {
     "data": {
      "text/html": [
       "<style type=\"text/css\">\n",
       "#T_739cb caption {\n",
       "  text-align: left;\n",
       "  font-size: 150%;\n",
       "  font-weight: bold;\n",
       "}\n",
       "</style>\n",
       "<table id=\"T_739cb\">\n",
       "  <caption>Highest Mag Change (year and magnitude)</caption>\n",
       "  <thead>\n",
       "    <tr>\n",
       "      <th class=\"blank level0\" >&nbsp;</th>\n",
       "      <th id=\"T_739cb_level0_col0\" class=\"col_heading level0 col0\" >0</th>\n",
       "    </tr>\n",
       "  </thead>\n",
       "  <tbody>\n",
       "    <tr>\n",
       "      <th id=\"T_739cb_level0_row0\" class=\"row_heading level0 row0\" >0</th>\n",
       "      <td id=\"T_739cb_row0_col0\" class=\"data row0 col0\" >1992</td>\n",
       "    </tr>\n",
       "    <tr>\n",
       "      <th id=\"T_739cb_level0_row1\" class=\"row_heading level0 row1\" >1</th>\n",
       "      <td id=\"T_739cb_row1_col0\" class=\"data row1 col0\" >0</td>\n",
       "    </tr>\n",
       "  </tbody>\n",
       "</table>\n"
      ],
      "text/plain": [
       "<pandas.io.formats.style.Styler at 0x7f93da6a8430>"
      ]
     },
     "metadata": {},
     "output_type": "display_data"
    }
   ],
   "source": [
    "# Provide an example location \n",
    "pt = ee.Geometry.Point([ -65.944 , 18.404])\n",
    "\n",
    " \n",
    "# First, we will select the LandTrendr image array output band\n",
    "lt_array = raw_LT.select(['LandTrendr'])\n",
    "\n",
    "display(g2p.imageArrayPixelToDataFrame(lt_array, pt,None,crs,transform, 'Complete Raw LandTrendr Output',\\\n",
    "                                       ['Years','Raw Input Values','Fitted Output Values','Vertex/non-vertex']))\n",
    "# This output has 2 dimensions per pixel\n",
    "# The rows correspond to 0-years, 1-raw input values, 2-LandTrendr fitted output values, and 3-vertex/non vertex\n",
    "\n",
    "# First, slice the vertices  and use them as a mask to mask out non vertex values\n",
    "vertices = lt_array.arraySlice(0,3,4)\n",
    "display(g2p.imageArrayPixelToDataFrame(vertices, pt, None,crs,transform,'Only the vertex mask row'))\n",
    "lt_array = lt_array.arrayMask(vertices)\n",
    "display(g2p.imageArrayPixelToDataFrame(lt_array, pt, None,crs,transform,'Complete Raw LandTrendr Only Vertex Columns',\\\n",
    "                                                 ['Years','Raw Input Values','Fitted Output Values','Vertex/non-vertex']))\n",
    "\n",
    "# In order to perform change detection, we'll need to get the difference between fitted vertex values\n",
    "# We do this by slicing the first to the next to the last and then the second to the last and subtracting them\n",
    "left = lt_array.arraySlice(1,0,-1)\n",
    "right = lt_array.arraySlice(1,1,None)\n",
    "diff  = left.subtract(right)\n",
    "\n",
    "display(g2p.imageArrayPixelToDataFrame(left, pt, None,crs,transform,'Left Slice',\\\n",
    "                                       ['Years','Raw Input Values','Fitted Output Values','Vertex/non-vertex']))\n",
    "display(g2p.imageArrayPixelToDataFrame(right, pt,None,crs,transform, \\\n",
    "                                       'Right Slice',['Years','Raw Input Values','Fitted Output Values','Vertex/non-vertex']))\n",
    "display(g2p.imageArrayPixelToDataFrame(diff, pt, None,crs,transform,\\\n",
    "                                       'Left Minus Right',['Years','Raw Input Values','Fitted Output Values','Vertex/non-vertex']))\n",
    "\n",
    "\n",
    "# We then slice the right-hand years and the fitted vertex values difference and combine them\n",
    "years = right.arraySlice(0,0,1)\n",
    "mag = diff.arraySlice(0,2,3)\n",
    "forSorting = years.arrayCat(mag,0)\n",
    "display(g2p.imageArrayPixelToDataFrame(forSorting, pt, None,crs,transform,'Array Ready For Sorting'))\n",
    "\n",
    "# We can then sort using various rows depending on whether we want the highest magnitude change, most recent, etc\n",
    "# In this example, the sort row will be the magnitude, thus giving us the highest severity change\n",
    "sorted = forSorting.arraySort(forSorting.arraySlice(0,1,2))\n",
    "display(g2p.imageArrayPixelToDataFrame(sorted, pt, None,crs,transform,'Array Sorted by the Second Row (magnitude of change)'))\n",
    "\n",
    "\n",
    "# Slice off the year and magnitude of the highest magnitude change\n",
    "highest_mag_change_array = sorted.arraySlice(1,0,1)\n",
    "display(g2p.imageArrayPixelToDataFrame(highest_mag_change_array, pt, None,crs,transform,'Highest Mag Change (year and magnitude)'))\n"
   ]
  },
  {
   "cell_type": "markdown",
   "id": "029c1c4b",
   "metadata": {},
   "source": [
    "### Convert arrays into images\n",
    "\n",
    "But, those arrays are still a little challenging to interpret-- both for yoyou can't put those arrays directly into a \n",
    "\n",
    "Arrays will be converted into images representing loss magnitude and loss year"
   ]
  },
  {
   "cell_type": "code",
   "execution_count": null,
   "id": "a80cc5ac",
   "metadata": {},
   "outputs": [],
   "source": [
    "# First, choose a change threshold\n",
    "# Any changes more negative than this value will be flagged as loss\n",
    "change_threshold = -0.15"
   ]
  },
  {
   "cell_type": "code",
   "execution_count": null,
   "id": "170ded53",
   "metadata": {},
   "outputs": [],
   "source": [
    "# Convert the sorted array image into a 2-band image\n",
    "highest_mag_change = highest_mag_change_array.arrayProject([0]).arrayFlatten([['yr','mag']])\n",
    "\n",
    "# Mask out any change \n",
    "highest_mag_change = highest_mag_change.updateMask(highest_mag_change.select(['mag']).lte(change_threshold))\n",
    "\n",
    "# Pull the los magnitude palette and flip the color order\n",
    "lossMagPalette = changeDetectionLib.lossMagPalette.split(',')\n",
    "lossMagPalette.reverse()\n",
    "\n",
    "# Set up map\n",
    "Map.clearMap()\n",
    "Map.addLayer(forSorting,{},'Array for Sorting',False)\n",
    "Map.addLayer(sorted,{},'Sorted Array',False)\n",
    "Map.addLayer(highest_mag_change.select(['mag']),{'min':-0.8,'max':-0.15,'palette':lossMagPalette},'Loss Magnitude')\n",
    "Map.addLayer(highest_mag_change.select(['yr']),{'min':startYear,'max':endYear,'palette':changeDetectionLib.lossYearPalette},'Loss Year')\n",
    "Map.turnOnInspector()\n",
    "Map.view()"
   ]
  },
  {
   "cell_type": "markdown",
   "id": "b69245ab",
   "metadata": {},
   "source": [
    "## Run full LandTrendr - on all bands\n",
    "\n",
    "Explain what each section of the code below is doing \n",
    "i.e., running LandTrendr for all bands and processing the outut into images that represent changes of interest"
   ]
  },
  {
   "cell_type": "code",
   "execution_count": null,
   "id": "0556bd57",
   "metadata": {
    "colab": {
     "base_uri": "https://localhost:8080/",
     "height": 1000
    },
    "executionInfo": {
     "elapsed": 15779,
     "status": "ok",
     "timestamp": 1690298816811,
     "user": {
      "displayName": "Ian Housman",
      "userId": "00382093583884444463"
     },
     "user_tz": 360
    },
    "id": "149fca54",
    "outputId": "d0da08a8-2959-4ff0-db00-5290580dabef"
   },
   "outputs": [],
   "source": [
    "# We will run LandTrendr for each band\n",
    "#Clear the map in case it has been populated with layers/commands earlier\n",
    "Map.clearMap()\n",
    "\n",
    "# We can use any/all of the bands, but generally bands that use nir and swir are most useful\n",
    "bandNames = ['red','nir','swir1','swir2','NBR','NDVI','brightness','greenness','wetness']\n",
    "\n",
    "#Run LANDTRENDR\n",
    "for bandName in bandNames:\n",
    "\n",
    "    # Select the band and run LandTrendr\n",
    "    run_params['timeSeries'] = composites.select([bandName])\n",
    "    rawLT = ee.Algorithms.TemporalSegmentation.LandTrendr(**run_params)\n",
    "\n",
    "    Map.addLayer(rawLT,{},'LT Raw {}'.format(bandName),False)\n",
    "\n",
    "    # Notice the raw LandTrendr output is in GEE's image array format\n",
    "    # We'll need to manipulate the raw output a bit to save on storage space\n",
    "\n",
    "    # Mask out non vertex values to use less storage space\n",
    "    ltArray = rawLT.select(['LandTrendr'])\n",
    "    rmse = rawLT.select(['rmse'])\n",
    "    vertices = ltArray.arraySlice(0,3,4)\n",
    "    ltArray = ltArray.arrayMask(vertices)\n",
    "\n",
    "    # Mask out all but the year and vertex fited values (get rid of the raw and vertex rows)\n",
    "    ltArray = ltArray.arrayMask(ee.Image(ee.Array([[1],[0],[1],[0]])))\n",
    "    rawLTForExport=ltArray.addBands(rmse)\n",
    "    Map.addLayer(rawLTForExport,{},'LT Vertex Values Only {}'.format(bandName),False)\n",
    "\n",
    "    # Show how the compressed vertex-only values can be decompressed later\n",
    "    decompressedC = changeDetectionLib.simpleLTFit(ltArray,startYear,endYear,bandName,True,run_params['maxSegments'])\n",
    "    Map.addLayer(decompressedC,{'bands':'{}_LT_fitted'.format(bandName),'min':0.2,'max':0.8},'Decompressed LT Output {}'.format(bandName),False)\n",
    "\n",
    "    # Join the raw and fitted values\n",
    "    fitted = decompressedC.select(['{}_LT_fitted'.format(bandName)])\n",
    "    ltJoined = getImagesLib.joinCollections(composites.select([bandName]),fitted)\n",
    "    Map.addLayer(ltJoined,{'bands':'{}_LT_fitted'.format(bandName),'min':0.2,'max':1,'palette':'D80,080'},'Raw and LT Fitted {}'.format(bandName),True)\n",
    "\n",
    "    # Export LT array image\n",
    "    # Set some properties that will be uses later\n",
    "    rawLTForExport = rawLTForExport.set({'startYear':startYear,\n",
    "                                          'endYear':endYear,\n",
    "                                          'startJulian':startJulian,\n",
    "                                          'endJulian':endJulian,\n",
    "                                          'band':bandName})\n",
    "    rawLTForExport =rawLTForExport.set(run_params)\n",
    "    exportName = 'LT_Raw_{}_yrs{}-{}_jds{}-{}'.format(bandName,startYear,endYear,startJulian,endJulian)\n",
    "    exportPath = export_landTrendr_collection + '/'+ exportName\n",
    "    # Export output\n",
    "    getImagesLib.exportToAssetWrapper(rawLTForExport,exportName,exportPath,{'.default':'sample'},studyArea,scale,crs,transform,overwrite=False)\n",
    "\n",
    "Map.turnOnInspector()\n",
    "Map.addLayer(studyArea, {'strokeColor': '0000FF'}, \"Study Area\", False)\n",
    "Map.view()"
   ]
  },
  {
   "cell_type": "code",
   "execution_count": null,
   "id": "3b35b81a",
   "metadata": {
    "colab": {
     "base_uri": "https://localhost:8080/"
    },
    "executionInfo": {
     "elapsed": 6005,
     "status": "ok",
     "timestamp": 1690211462841,
     "user": {
      "displayName": "Ian Housman",
      "userId": "00382093583884444463"
     },
     "user_tz": 360
    },
    "id": "qBkYgUm3JIRM",
    "outputId": "410ab298-a91c-4d34-ad21-3effc4990065"
   },
   "outputs": [],
   "source": [
    "# Can track tasks here or at https://code.earthengine.google.com/tasks\n",
    "# If you'd like to track the tasks, use this:\n",
    "# tml.trackTasks2()\n",
    "\n",
    "# If you want to cancel all running tasks, you can use this function\n",
    "# tml.batchCancel()\n",
    "\n",
    "# If you want to empty the collection of all images\n",
    "# aml.batchDelete(export_landTrendr_collection, type = 'imageCollection')\n",
    "\n",
    "print('done')"
   ]
  },
  {
   "cell_type": "markdown",
   "id": "8bbe0a25",
   "metadata": {},
   "source": [
    "Array processing also happens within functions \n",
    "\n",
    "`changeDetectionLib.convertToLossGain()` - https://github.com/gee-community/geeViz/blob/fdd8f0080301f8d915214b6e2d50af03a0915777/changeDetectionLib.py#L778C5-L778C22\n",
    "\n"
   ]
  },
  {
   "cell_type": "markdown",
   "id": "a1b7fbe4",
   "metadata": {},
   "source": [
    "### Convert LandTrendr array into time series - for input into LCMS\n",
    "\n",
    "https://github.com/gee-community/geeViz/blob/fdd8f0080301f8d915214b6e2d50af03a0915777/changeDetectionLib.py#L565\n",
    "\n",
    "\n"
   ]
  },
  {
   "cell_type": "code",
   "execution_count": null,
   "id": "23c4a549",
   "metadata": {},
   "outputs": [],
   "source": [
    "# While we can use the LandTrendr output for change detection, LCMS uses it as inputs to change detection, land cover, and land use models\n",
    "# This will show how the raw LandTrendr array image asset is converted into a time series \n",
    "# of annual fitted, segment duration, segment magnitude of change, and slope values\n",
    "Map.clearMap()\n",
    "\n",
    "lt_asset = ee.ImageCollection(f'{pre_baked_path_root}/lcms-training_module-3_landTrendr')\n",
    "# Convert stacked outputs into collection of fitted, magnitude, slope, duration, etc values for each year\n",
    "# While the fitted LandTrendr value is generally of most importance to our models, \n",
    "# LandTrendr segment duration, slope, and magnitude of change can also help our models\n",
    "lt_fit = changeDetectionLib.batchSimpleLTFit(lt_asset,startYear,endYear,None,bandPropertyName='band',arrayMode=True)\n",
    "\n",
    "# Vizualize image collection that is used as predictors in LCMS models\n",
    "# When you double-click the output on the map, notice the different values available to the models\n",
    "Map.addLayer(lt_fit,{'bands':'swir2_LT_fitted,nir_LT_fitted,red_LT_fitted','min':0.15,'max':0.6},'LandTrendr All Predictors Time Series')\n",
    "\n",
    "\n",
    "Map.turnOnInspector()\n",
    "Map.addLayer(studyArea, {'strokeColor': '0000FF'}, \"Study Area\", False)\n",
    "Map.view()"
   ]
  },
  {
   "cell_type": "markdown",
   "id": "a27557c0",
   "metadata": {},
   "source": [
    "#### Inspect\n",
    "Double-click the map to query values and see actual and fitted values for indices over time\n",
    "\n",
    "#### LandTrendr reduces noise in original composite tiem series \n",
    "\n",
    "The best way of understanding how LandTrendr contributes to reducing noise in the original composite time series is to visualize them side-by-side\n",
    "This example takes the fitted values from LandTrendr and shows them along with the original\n",
    "Notice many holes are now filled in by LandTrendr\n",
    "In general the amount of noise is reduced. There is a risk however of fitting too much and omitting changes such as those seen in 2017 for Hurricane Maria\n",
    "\n",
    "INCLUDE A SCREENSHOT OF HURRICANE MARIA\n",
    "\n",
    "Click on the map, inspect the fitted time series, watch the composite timelapse and the Landtrendr timelapse"
   ]
  },
  {
   "cell_type": "code",
   "execution_count": null,
   "id": "f558e1bd",
   "metadata": {},
   "outputs": [],
   "source": [
    "Map.clearMap()\n",
    "\n",
    "# The best way of understanding how LandTrendr contributes to reducing noise in the original composite time series\n",
    "# is to visualize them side-by-side\n",
    "# This example takes the fitted values from LandTrendr and shows them along with the original\n",
    "# Notice many holes are now filled in by LandTrendr\n",
    "# In general the amount of noise is reduced. There is a risk however of \n",
    "# fitting too much and omitting changes such as those seen in 2017 for Hurricane Maria\n",
    "\n",
    "# Visualize fitted landTrendr composites\n",
    "fitted_bns = lt_fit.select(['.*_fitted']).first().bandNames()\n",
    "out_bns = fitted_bns.map(lambda bn: ee.String(bn).split('_').get(0))\n",
    "\n",
    "# Give same names as composites\n",
    "lt_synth = lt_fit.select(fitted_bns,out_bns)\n",
    "\n",
    "# Visualize raw and LandTrendr fitted composites\n",
    "Map.addTimeLapse(composites,getImagesLib.vizParamsFalse,'Raw Composite Timelapse')\n",
    "\n",
    "Map.addTimeLapse(lt_synth,getImagesLib.vizParamsFalse,'Fitted LandTrendr Composite Timelapse')\n",
    "\n",
    "\n",
    "# Join the raw and fited values\n",
    "ltJoined = getImagesLib.joinCollections(composites.select(bandNames),lt_fit.select(['.*_fitted']))\n",
    "\n",
    "Map.addLayer(ltJoined,{'min':0.2,'max':1},'Raw and LT Fitted',True)\n",
    "\n",
    "\n",
    "Map.turnOnInspector()\n",
    "Map.addLayer(studyArea, {'strokeColor': '0000FF'}, \"Study Area\", False)\n",
    "Map.view()"
   ]
  },
  {
   "cell_type": "markdown",
   "id": "52bb6abc",
   "metadata": {},
   "source": [
    "### Vizualize other LandTrendr data\n",
    "\n",
    "-- pull in example from https://github.com/redcastle-resources/geeViz/blob/master/examples/LANDTRENDRViz.py -- to show all LandTrendr outputs at the same time "
   ]
  },
  {
   "cell_type": "markdown",
   "id": "b4d57d47",
   "metadata": {},
   "source": [
    "### Challenge: \n",
    "\n",
    "Calculate LandTrendr stats for NDVI and process arrays into most recent change year.\n",
    "\n",
    "**For Qwiklabs users**, this will be assessed for completion in the Activity Tracking portion of Module 2."
   ]
  },
  {
   "cell_type": "markdown",
   "id": "42c77c4c",
   "metadata": {},
   "source": [
    "### Challenge: \n",
    "\n",
    "Calculate LandTrendr for NDVI, process arrays into most recent change year. Add the output to a geeView Map, and view it. "
   ]
  },
  {
   "cell_type": "markdown",
   "id": "84154c2e",
   "metadata": {},
   "source": [
    "### Congratulations! You're done with module 3.1 \n",
    "\n",
    "Other GeeViz LandTrendr examples: \n",
    "- https://github.com/redcastle-resources/geeViz/blob/master/examples/LANDTRENDRViz.py\n",
    "- https://github.com/redcastle-resources/geeViz/blob/master/examples/LANDTRENDRWrapper.py\n",
    "- https://github.com/redcastle-resources/geeViz/blob/master/examples/LANDTRENDRWrapperNotebook.ipynb\n",
    "\n",
    "\n",
    "LandTrendr fitted data will be used as inputs to LCMS in subsequent modules"
   ]
  }
 ],
 "metadata": {
  "colab": {
   "provenance": []
  },
  "environment": {
   "kernel": "python3",
   "name": "common-cpu.m109",
   "type": "gcloud",
   "uri": "gcr.io/deeplearning-platform-release/base-cpu:m109"
  },
  "kernelspec": {
   "display_name": "Python 3",
   "language": "python",
   "name": "python3"
  },
  "language_info": {
   "codemirror_mode": {
    "name": "ipython",
    "version": 3
   },
   "file_extension": ".py",
   "mimetype": "text/x-python",
   "name": "python",
   "nbconvert_exporter": "python",
   "pygments_lexer": "ipython3",
   "version": "3.10.11"
  }
 },
 "nbformat": 4,
 "nbformat_minor": 5
}
