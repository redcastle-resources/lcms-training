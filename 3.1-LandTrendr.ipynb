{
 "cells": [
  {
   "cell_type": "code",
   "execution_count": null,
   "id": "66ec78bc-6061-477e-87c4-9ab0a770e94f",
   "metadata": {},
   "outputs": [],
   "source": [
    "# Copyright 2023 Google LLC\n",
    "#\n",
    "# Licensed under the Apache License, Version 2.0 (the \"License\");\n",
    "# you may not use this file except in compliance with the License.\n",
    "# You may obtain a copy of the License at\n",
    "#\n",
    "#     https://www.apache.org/licenses/LICENSE-2.0\n",
    "#\n",
    "# Unless required by applicable law or agreed to in writing, software\n",
    "# distributed under the License is distributed on an \"AS IS\" BASIS,\n",
    "# WITHOUT WARRANTIES OR CONDITIONS OF ANY KIND, either express or implied.\n",
    "# See the License for the specific language governing permissions and\n",
    "# limitations under the License."
   ]
  },
  {
   "cell_type": "markdown",
   "id": "602a65fb-529d-4f89-b619-5098af79aca2",
   "metadata": {
    "id": "title:generic,gcp"
   },
   "source": [
    "# Module 3.1- Run LandTrendr over Composites\n",
    "\n",
    "<table align=\"left\">\n",
    "  <td>\n",
    "    <a href=\"https://colab.research.google.com/github/redcastle-resources/lcms-training/blob/main/2-LandTrendr.ipynb\">\n",
    "      <img src=\"https://cloud.google.com/ml-engine/images/colab-logo-32px.png\" alt=\"Colab logo\"> Run in Colab\n",
    "    </a>\n",
    "  </td>\n",
    "  <td>\n",
    "    <a href=\"https://github.com/redcastle-resources/lcms-training/blob/main/3-LandTrendr.ipynb\">\n",
    "      <img src=\"https://cloud.google.com/ml-engine/images/github-logo-32px.png\" alt=\"GitHub logo\">\n",
    "      View on GitHub\n",
    "    </a>\n",
    "  </td>\n",
    "  <td>\n",
    "    <a href=\"https://console.cloud.google.com/vertex-ai/workbench/deploy-notebook?download_url=https://github.com/redcastle-resources/lcms-training/blob/main/3-LandTrendr.ipynb\">\n",
    "      <img src=\"https://lh3.googleusercontent.com/UiNooY4LUgW_oTvpsNhPpQzsstV5W8F7rYgxgGBD85cWJoLmrOzhVs_ksK_vgx40SHs7jCqkTkCk=e14-rj-sc0xffffff-h130-w32\" alt=\"Vertex AI logo\">\n",
    "      Open in Vertex AI Workbench\n",
    "    </a>\n",
    "  </td>\n",
    "</table>\n",
    "<br/><br/><br/>"
   ]
  },
  {
   "cell_type": "markdown",
   "id": "bc4f3e6f-cffb-456a-a450-a0eebde8bbc2",
   "metadata": {
    "id": "overview:mlops"
   },
   "source": [
    "## Overview\n",
    "\n",
    "LandTrendr, short for Landsat-based detection of Trends in Disturbance and Recovery, is a set of temporal segmentation algorithms that that are used in change detection. LandTrendr also removes noise from interannual spectral data. You can use the change detection outputs and the smoothed spectral data that LandTrendr produces as inputs to modeling software, like LCMS. \n",
    "\n",
    "**This notebook uses Landsat and Sentinel-2 composites, like the ones you created in the previous notebook, as inputs to the LandTrendr temporal segmentation and spectral smoothing operations.**\n",
    "\n",
    "##### To learn more about LandTrendr:\n",
    "- [LandTrendr Guide](https://emapr.github.io/LT-GEE/)`\n",
    "- [LandTrendr GEE Publication](https://www.mdpi.com/2072-4292/10/5/691)\n",
    "\n",
    "##### To learn more about the LandTrendr implementation in geeViz:\n",
    "- [LandTrendr code in geeViz](https://github.com/gee-community/geeViz/blob/fdd8f0080301f8d915214b6e2d50af03a0915777/changeDetectionLib.py#L183)\n",
    "- Get used to referring back to this documentation throughout this module when you want or need clarification on how a function works, or what it's doing!\n",
    "\n",
    "### Objective\n",
    "\n",
    "In this tutorial, you learn how to create and manipulate LandTrendr outputs.\n",
    "\n",
    "**This tutorial uses the following Google Cloud services:**\n",
    "\n",
    "- Google Earth Engine\n",
    "- Google Cloud Platform\n",
    "\n",
    "**The steps performed include:**\n",
    "\n",
    "- Create LandTrendr outputs\n",
    "- Manipulate EE array image objects to get meaningful data out of LandTrendr outputs\n",
    "\n",
    "**Learning objectives include:**\n",
    "- Users will understand the purpose of temporal segmentation as implemented in LandTrendr.\n",
    "- Users will understand key parameters in LandTrendr algorithm. \n",
    "- Users will be able to generate and manipulate array outputs from LandTrendr. \n"
   ]
  },
  {
   "cell_type": "markdown",
   "id": "ad7d8257-f465-4d11-b56b-a0ba212ec06f",
   "metadata": {},
   "source": [
    "## Before you begin\n",
    "\n",
    "### Set your current URL under `workbench_url`\n",
    "This gives the Map Viewer a url in which to host the viewer we will be generating. \n",
    "* This will be in your URL/search bar at the top of the browser window you are currently in\n",
    "* It will look something like `https://1234567890122-dot-us-west3.notebooks.googleusercontent.com/` (See the image below)\n",
    "\n",
    "![workspace url](img/workspace-url.png)\n",
    "\n",
    "### Set a folder to use for all exports under `export_path_root` \n",
    "This folder should be an assets folder in an existing GEE project. \n",
    "* It will be something like `projects/projectID/assets/someFolder`\n",
    "* This folder does not have to already exist. If it does not exist, it will be created"
   ]
  },
  {
   "cell_type": "code",
   "execution_count": 1,
   "id": "71d8fa94-eba4-4a8e-93c4-4a2ed65880db",
   "metadata": {},
   "outputs": [
    {
     "name": "stdout",
     "output_type": "stream",
     "text": [
      "Done\n"
     ]
    }
   ],
   "source": [
    "workbench_url = 'https://3b40cb8a2076f1b6-dot-us-west3.notebooks.googleusercontent.com/'\n",
    "export_path_root  = 'projects/rcr-gee/assets/lcms-training'\n",
    "\n",
    "# set specific import path  for assets that will need to be loaded / prebaked for each module when this lab is done in Qwiklabs\n",
    "import_path_prebaked = 'projects/rcr-gee/assets/lcms-training'\n",
    "print('Done')"
   ]
  },
  {
   "cell_type": "markdown",
   "id": "24bdb3e7-a939-43f4-8e3b-abc2ad7b2442",
   "metadata": {},
   "source": [
    "### Installation\n",
    "First, install necessary Python packages. Uncomment the first line to upgrade geeViz if necessary."
   ]
  },
  {
   "cell_type": "code",
   "execution_count": 2,
   "id": "4eaad445-9df9-4130-9c86-2394a8be4638",
   "metadata": {},
   "outputs": [
    {
     "name": "stdout",
     "output_type": "stream",
     "text": [
      "Initializing GEE\n",
      "Successfully initialized\n",
      "geeViz package folder: /opt/conda/lib/python3.10/site-packages/geeViz\n",
      "Done\n"
     ]
    }
   ],
   "source": [
    "#Module imports\n",
    "#!python -m pip install geeViz --upgrade\n",
    "try:\n",
    "    import geeViz.getImagesLib as getImagesLib\n",
    "except:\n",
    "    !python -m pip install geeViz\n",
    "    import geeViz.getImagesLib as getImagesLib\n",
    "\n",
    "import geeViz.changeDetectionLib as changeDetectionLib\n",
    "import geeViz.assetManagerLib as aml\n",
    "import geeViz.taskManagerLib as tml\n",
    "\n",
    "import inspect\n",
    "\n",
    "ee = getImagesLib.ee\n",
    "Map = getImagesLib.Map\n",
    "\n",
    "print('Done')"
   ]
  },
  {
   "cell_type": "markdown",
   "id": "481f78db-08e7-4336-be21-a35c8b016599",
   "metadata": {
    "tags": []
   },
   "source": [
    "### Set up your work environment\n",
    "\n",
    "Create a folder in your export path where you will export the composites. In addition, create a blank image collection where your composites will live.\n",
    "\n",
    "Currently, when running within Colab, geeView uses a different project to authenticate through, so you may need to make your asset public to view from within Colab."
   ]
  },
  {
   "cell_type": "code",
   "execution_count": 3,
   "id": "5c32ac02-69f6-46d7-9f47-4def487f9f84",
   "metadata": {},
   "outputs": [
    {
     "name": "stdout",
     "output_type": "stream",
     "text": [
      "Found the following sub directories:  ['lcms-training', 'lcms-training_module-3_landTrendr']\n",
      "Will attempt to create them if they do not exist\n",
      "Asset projects/rcr-gee/assets/lcms-training already exists\n",
      "Asset projects/rcr-gee/assets/lcms-training/lcms-training_module-3_landTrendr already exists\n",
      "Updating permissions for:  projects/rcr-gee/assets/lcms-training/lcms-training_module-3_landTrendr\n",
      "Done\n"
     ]
    }
   ],
   "source": [
    "# Create folder and a collection and make public\n",
    "\n",
    "export_composite_collection = f'{export_path_root}/lcms-training_module-2_composites'\n",
    "export_landTrendr_collection = f'{export_path_root}/lcms-training_module-3_landTrendr'\n",
    "\n",
    "aml.create_asset(export_landTrendr_collection,asset_type = ee.data.ASSET_TYPE_IMAGE_COLL)\n",
    "\n",
    "# Currently geeView within Colab uses a different project to authenticate through, so you may need to make your asset public to view from within Colab\n",
    "aml.updateACL(export_landTrendr_collection,writers = [],all_users_can_read = True,readers = [])\n",
    "\n",
    "# aml.batchCopy('projects/rcr-gee/assets/landTrendr-lcms-training-module-2',export_landTrendr_collection,outType = 'imageCollection')\n",
    "# aml.batchDelete(export_landTrendr_collection)\n",
    "print('Done')"
   ]
  },
  {
   "cell_type": "markdown",
   "id": "24aa8e21-b5b8-4897-9718-8303648b5a80",
   "metadata": {},
   "source": [
    "## Change detection with LandTrendr - intro\n",
    "\n",
    "## Introduction to LandTrendr\n",
    "\n",
    "LandTrendr is a suite of temporal segmentation algorithm developed by the eMapr Lab at Oregon State University. \n",
    "\n",
    "LandTrendr works by taking a time series of annual composite images and fitting multiple linear segments that describe the spectral trajectory. The resulting segments can be used to describe change processes on the landscape. \n",
    "\n",
    "![landtrendr_pixel](img/module-3-1/LandTrendr_pixel_story)*Every pixel tells a story. Landsat provides a historical record of the character of landscapes. By extracting a single pixel from a time series of Landsat imagery, it is possible to recount the state and change of the features composing the 1-hectare area of a pixel through time. In this example, we analyze the history of a conifer forest pixel from an industrial forest region of the Pacific Northwest (USA) that experiences a period of relative stability, a dramatic, rapid loss of vegetation, and subsequent regeneration. Figure and caption from the [LT-GEE Guide](https://emapr.github.io/LT-GEE/landtrendr.html).*\n",
    "\n",
    "For example, a short, steep decline is likely to be a fast change, like harvest or fire. A long, shallow decline is likely to be a slower change, due to insects, disease, or drought. LandTrendr can also track periods of recovery, like a long shallow incline following a harvest or fire event. \n",
    "\n",
    "![landtrendr_segmentation](img/module-3-1/LandTrendr-segmentation.png)*LandTrendr pixel time series segmentation. Image data is reduced to a single band or spectral index and then divided into a series of straight line segments by breakpoint (vertex) identification.Figure and caption from the [LT-GEE Guide](https://emapr.github.io/LT-GEE/landtrendr.html).*\n",
    "\n",
    "### Bands used in LandTrendr\n",
    "\n",
    "LandTrendr relies on a time series of annual composites, one image per year. You prepared this series of annual composites in the previous lab! LandTrendr can take a variety of spectral bands and indices as input. \n",
    "\n",
    "NBR, NDMI, and NDVI tend to work best. Other good options are Tasseled-Cap wetness and tcAngleBG. But, you must include 'red','nir','swir1' in order to visualize as false color composites, like we'll do later on in the lab. \n",
    "\n",
    "Run the code below to view an example of composite data input to LandTrendr data. Look at the bands included in the **actual** collection that LCMS uses for LandTrendr in PuertoRico.\n",
    "\n",
    "\n",
    "\n",
    "### Example \n",
    "View an example of data input to LandTrendr data -- don't worry about the params too much yet. "
   ]
  },
  {
   "cell_type": "code",
   "execution_count": 4,
   "id": "456bab0e-f35e-40a0-8292-b695a471c1de",
   "metadata": {
    "colab": {
     "base_uri": "https://localhost:8080/"
    },
    "executionInfo": {
     "elapsed": 2097,
     "status": "ok",
     "timestamp": 1690298738442,
     "user": {
      "displayName": "Ian Housman",
      "userId": "00382093583884444463"
     },
     "user_tz": 360
    },
    "id": "0YdSMqjxuuAr",
    "outputId": "5bb7abe2-577e-4be4-8849-9e79cdf5ff94"
   },
   "outputs": [],
   "source": [
    "# set up map\n",
    "Map.clearMap()\n",
    "Map.proxy_url = workbench_url"
   ]
  },
  {
   "cell_type": "markdown",
   "id": "60eac306-aac4-4a9b-9395-d5bcac712002",
   "metadata": {},
   "source": [
    "#### LandTrendr bands and parameters\n",
    "\n",
    "Lets look at the bands included in the **actual** collection that LCMS uses for LandTrendr in PuertoRico"
   ]
  },
  {
   "cell_type": "code",
   "execution_count": 5,
   "id": "eb213d9f-6c86-47d1-9dd3-bda82c9ccb12",
   "metadata": {
    "colab": {
     "base_uri": "https://localhost:8080/"
    },
    "executionInfo": {
     "elapsed": 2097,
     "status": "ok",
     "timestamp": 1690298738442,
     "user": {
      "displayName": "Ian Housman",
      "userId": "00382093583884444463"
     },
     "user_tz": 360
    },
    "id": "0YdSMqjxuuAr",
    "outputId": "5bb7abe2-577e-4be4-8849-9e79cdf5ff94"
   },
   "outputs": [
    {
     "name": "stdout",
     "output_type": "stream",
     "text": [
      "All bands LCMS uses for LandTrendr: ['NBR', 'NDMI', 'NDSI', 'NDVI', 'blue', 'brightness', 'green', 'greenness', 'nir', 'red', 'swir1', 'swir2', 'tcAngleBG', 'wetness']\n"
     ]
    }
   ],
   "source": [
    "# Load LCMS data used for Puerto Rico Mapping\n",
    "lcms_actual_lt_collection = ee.ImageCollection('projects/lcms-292214/assets/R8/PR_USVI/Base-Learners/LandTrendr-Collection-1984-2020')\n",
    "print('All bands LCMS uses for LandTrendr:',lcms_actual_lt_collection.aggregate_histogram('band').keys().getInfo())"
   ]
  },
  {
   "cell_type": "markdown",
   "id": "57e250e4-918f-4a7e-9b46-2de5b0ee5a41",
   "metadata": {},
   "source": [
    "### Inspect and prepare composites used in LandTrendr\n",
    "\n",
    "Next, load the composites that you prepared in the previous module and inspect which bands are present in the composites. "
   ]
  },
  {
   "cell_type": "code",
   "execution_count": 6,
   "id": "d267703e-54c6-4754-846b-8041d92bc0e6",
   "metadata": {},
   "outputs": [
    {
     "name": "stdout",
     "output_type": "stream",
     "text": [
      "['blue', 'green', 'red', 'nir', 'swir1', 'swir2', 'compositeObsCount', 'sensor', 'year', 'julianDay']\n"
     ]
    }
   ],
   "source": [
    "# Load composites\n",
    "composites = ee.ImageCollection(export_composite_collection)\n",
    "\n",
    "#Inspect what bands are available by default in composite\n",
    "print(composites.first().bandNames().getInfo())"
   ]
  },
  {
   "cell_type": "markdown",
   "id": "93ecbea1-9fe7-475f-8b4a-8d49c2196c8d",
   "metadata": {},
   "source": [
    "You'll notice that the composite is missing some of the spectral indices that are present in the composite that LCMS uses. \n",
    "\n",
    "In the code block below, you'll perform some image processing on the composites, and you'll also add some additional spectral indices to the composites so that you can use them in the LandTrendr algorithm.\n",
    "\n",
    "The functions you'll use to add composites are: \n",
    "- [`getImagesLib.simpleAddIndices`](https://github.com/gee-community/geeViz/blob/fdd8f0080301f8d915214b6e2d50af03a0915777/getImagesLib.py#L1300)\n",
    "- [`getImagesLib.getTasseledCap`](https://github.com/gee-community/geeViz/blob/fdd8f0080301f8d915214b6e2d50af03a0915777/getImagesLib.py#L1340)\n",
    "[`getImagesLib.simpleAddTCAngles`](https://github.com/gee-community/geeViz/blob/fdd8f0080301f8d915214b6e2d50af03a0915777/getImagesLib.py#L1429)\n",
    "\n",
    "You can click on the name of the function above to view the source code in the geeViz [getImagesLib](https://github.com/gee-community/geeViz/blob/master/getImagesLib.py). "
   ]
  },
  {
   "cell_type": "code",
   "execution_count": 7,
   "id": "66e1784b-33b2-4580-8169-c53aab0348fc",
   "metadata": {},
   "outputs": [
    {
     "name": "stdout",
     "output_type": "stream",
     "text": [
      "{'type': 'Image', 'bands': [{'id': 'blue', 'data_type': {'type': 'PixelType', 'precision': 'float'}, 'dimensions': [12391, 4871], 'crs': 'PROJCS[\"Albers_Conical_Equal_Area\", \\n  GEOGCS[\"WGS 84\", \\n    DATUM[\"WGS_1984\", \\n      SPHEROID[\"WGS 84\", 6378137.0, 298.257223563, AUTHORITY[\"EPSG\",\"7030\"]], \\n      TOWGS84[0.0, 0.0, 0.0, 0.0, 0.0, 0.0, 0.0], \\n      AUTHORITY[\"EPSG\",\"6326\"]], \\n    PRIMEM[\"Greenwich\", 0.0, AUTHORITY[\"EPSG\",\"8901\"]], \\n    UNIT[\"degree\", 0.017453292519943295], \\n    AXIS[\"Longitude\", EAST], \\n    AXIS[\"Latitude\", NORTH], \\n    AUTHORITY[\"EPSG\",\"4326\"]], \\n  PROJECTION[\"Albers_Conic_Equal_Area\"], \\n  PARAMETER[\"central_meridian\", -96.0], \\n  PARAMETER[\"latitude_of_origin\", 23.0], \\n  PARAMETER[\"standard_parallel_1\", 29.5], \\n  PARAMETER[\"false_easting\", 0.0], \\n  PARAMETER[\"false_northing\", 0.0], \\n  PARAMETER[\"standard_parallel_2\", 45.5], \\n  UNIT[\"m\", 1.0], \\n  AXIS[\"Easting\", EAST], \\n  AXIS[\"Northing\", NORTH]]', 'crs_transform': [30, 0, 3039345, 0, -30, 64635]}, {'id': 'green', 'data_type': {'type': 'PixelType', 'precision': 'float'}, 'dimensions': [12391, 4871], 'crs': 'PROJCS[\"Albers_Conical_Equal_Area\", \\n  GEOGCS[\"WGS 84\", \\n    DATUM[\"WGS_1984\", \\n      SPHEROID[\"WGS 84\", 6378137.0, 298.257223563, AUTHORITY[\"EPSG\",\"7030\"]], \\n      TOWGS84[0.0, 0.0, 0.0, 0.0, 0.0, 0.0, 0.0], \\n      AUTHORITY[\"EPSG\",\"6326\"]], \\n    PRIMEM[\"Greenwich\", 0.0, AUTHORITY[\"EPSG\",\"8901\"]], \\n    UNIT[\"degree\", 0.017453292519943295], \\n    AXIS[\"Longitude\", EAST], \\n    AXIS[\"Latitude\", NORTH], \\n    AUTHORITY[\"EPSG\",\"4326\"]], \\n  PROJECTION[\"Albers_Conic_Equal_Area\"], \\n  PARAMETER[\"central_meridian\", -96.0], \\n  PARAMETER[\"latitude_of_origin\", 23.0], \\n  PARAMETER[\"standard_parallel_1\", 29.5], \\n  PARAMETER[\"false_easting\", 0.0], \\n  PARAMETER[\"false_northing\", 0.0], \\n  PARAMETER[\"standard_parallel_2\", 45.5], \\n  UNIT[\"m\", 1.0], \\n  AXIS[\"Easting\", EAST], \\n  AXIS[\"Northing\", NORTH]]', 'crs_transform': [30, 0, 3039345, 0, -30, 64635]}, {'id': 'red', 'data_type': {'type': 'PixelType', 'precision': 'float'}, 'dimensions': [12391, 4871], 'crs': 'PROJCS[\"Albers_Conical_Equal_Area\", \\n  GEOGCS[\"WGS 84\", \\n    DATUM[\"WGS_1984\", \\n      SPHEROID[\"WGS 84\", 6378137.0, 298.257223563, AUTHORITY[\"EPSG\",\"7030\"]], \\n      TOWGS84[0.0, 0.0, 0.0, 0.0, 0.0, 0.0, 0.0], \\n      AUTHORITY[\"EPSG\",\"6326\"]], \\n    PRIMEM[\"Greenwich\", 0.0, AUTHORITY[\"EPSG\",\"8901\"]], \\n    UNIT[\"degree\", 0.017453292519943295], \\n    AXIS[\"Longitude\", EAST], \\n    AXIS[\"Latitude\", NORTH], \\n    AUTHORITY[\"EPSG\",\"4326\"]], \\n  PROJECTION[\"Albers_Conic_Equal_Area\"], \\n  PARAMETER[\"central_meridian\", -96.0], \\n  PARAMETER[\"latitude_of_origin\", 23.0], \\n  PARAMETER[\"standard_parallel_1\", 29.5], \\n  PARAMETER[\"false_easting\", 0.0], \\n  PARAMETER[\"false_northing\", 0.0], \\n  PARAMETER[\"standard_parallel_2\", 45.5], \\n  UNIT[\"m\", 1.0], \\n  AXIS[\"Easting\", EAST], \\n  AXIS[\"Northing\", NORTH]]', 'crs_transform': [30, 0, 3039345, 0, -30, 64635]}, {'id': 'nir', 'data_type': {'type': 'PixelType', 'precision': 'float'}, 'dimensions': [12391, 4871], 'crs': 'PROJCS[\"Albers_Conical_Equal_Area\", \\n  GEOGCS[\"WGS 84\", \\n    DATUM[\"WGS_1984\", \\n      SPHEROID[\"WGS 84\", 6378137.0, 298.257223563, AUTHORITY[\"EPSG\",\"7030\"]], \\n      TOWGS84[0.0, 0.0, 0.0, 0.0, 0.0, 0.0, 0.0], \\n      AUTHORITY[\"EPSG\",\"6326\"]], \\n    PRIMEM[\"Greenwich\", 0.0, AUTHORITY[\"EPSG\",\"8901\"]], \\n    UNIT[\"degree\", 0.017453292519943295], \\n    AXIS[\"Longitude\", EAST], \\n    AXIS[\"Latitude\", NORTH], \\n    AUTHORITY[\"EPSG\",\"4326\"]], \\n  PROJECTION[\"Albers_Conic_Equal_Area\"], \\n  PARAMETER[\"central_meridian\", -96.0], \\n  PARAMETER[\"latitude_of_origin\", 23.0], \\n  PARAMETER[\"standard_parallel_1\", 29.5], \\n  PARAMETER[\"false_easting\", 0.0], \\n  PARAMETER[\"false_northing\", 0.0], \\n  PARAMETER[\"standard_parallel_2\", 45.5], \\n  UNIT[\"m\", 1.0], \\n  AXIS[\"Easting\", EAST], \\n  AXIS[\"Northing\", NORTH]]', 'crs_transform': [30, 0, 3039345, 0, -30, 64635]}, {'id': 'swir1', 'data_type': {'type': 'PixelType', 'precision': 'float'}, 'dimensions': [12391, 4871], 'crs': 'PROJCS[\"Albers_Conical_Equal_Area\", \\n  GEOGCS[\"WGS 84\", \\n    DATUM[\"WGS_1984\", \\n      SPHEROID[\"WGS 84\", 6378137.0, 298.257223563, AUTHORITY[\"EPSG\",\"7030\"]], \\n      TOWGS84[0.0, 0.0, 0.0, 0.0, 0.0, 0.0, 0.0], \\n      AUTHORITY[\"EPSG\",\"6326\"]], \\n    PRIMEM[\"Greenwich\", 0.0, AUTHORITY[\"EPSG\",\"8901\"]], \\n    UNIT[\"degree\", 0.017453292519943295], \\n    AXIS[\"Longitude\", EAST], \\n    AXIS[\"Latitude\", NORTH], \\n    AUTHORITY[\"EPSG\",\"4326\"]], \\n  PROJECTION[\"Albers_Conic_Equal_Area\"], \\n  PARAMETER[\"central_meridian\", -96.0], \\n  PARAMETER[\"latitude_of_origin\", 23.0], \\n  PARAMETER[\"standard_parallel_1\", 29.5], \\n  PARAMETER[\"false_easting\", 0.0], \\n  PARAMETER[\"false_northing\", 0.0], \\n  PARAMETER[\"standard_parallel_2\", 45.5], \\n  UNIT[\"m\", 1.0], \\n  AXIS[\"Easting\", EAST], \\n  AXIS[\"Northing\", NORTH]]', 'crs_transform': [30, 0, 3039345, 0, -30, 64635]}, {'id': 'swir2', 'data_type': {'type': 'PixelType', 'precision': 'float'}, 'dimensions': [12391, 4871], 'crs': 'PROJCS[\"Albers_Conical_Equal_Area\", \\n  GEOGCS[\"WGS 84\", \\n    DATUM[\"WGS_1984\", \\n      SPHEROID[\"WGS 84\", 6378137.0, 298.257223563, AUTHORITY[\"EPSG\",\"7030\"]], \\n      TOWGS84[0.0, 0.0, 0.0, 0.0, 0.0, 0.0, 0.0], \\n      AUTHORITY[\"EPSG\",\"6326\"]], \\n    PRIMEM[\"Greenwich\", 0.0, AUTHORITY[\"EPSG\",\"8901\"]], \\n    UNIT[\"degree\", 0.017453292519943295], \\n    AXIS[\"Longitude\", EAST], \\n    AXIS[\"Latitude\", NORTH], \\n    AUTHORITY[\"EPSG\",\"4326\"]], \\n  PROJECTION[\"Albers_Conic_Equal_Area\"], \\n  PARAMETER[\"central_meridian\", -96.0], \\n  PARAMETER[\"latitude_of_origin\", 23.0], \\n  PARAMETER[\"standard_parallel_1\", 29.5], \\n  PARAMETER[\"false_easting\", 0.0], \\n  PARAMETER[\"false_northing\", 0.0], \\n  PARAMETER[\"standard_parallel_2\", 45.5], \\n  UNIT[\"m\", 1.0], \\n  AXIS[\"Easting\", EAST], \\n  AXIS[\"Northing\", NORTH]]', 'crs_transform': [30, 0, 3039345, 0, -30, 64635]}, {'id': 'NDVI', 'data_type': {'type': 'PixelType', 'precision': 'float', 'min': -1, 'max': 1}, 'dimensions': [12391, 4871], 'crs': 'PROJCS[\"Albers_Conical_Equal_Area\", \\n  GEOGCS[\"WGS 84\", \\n    DATUM[\"WGS_1984\", \\n      SPHEROID[\"WGS 84\", 6378137.0, 298.257223563, AUTHORITY[\"EPSG\",\"7030\"]], \\n      TOWGS84[0.0, 0.0, 0.0, 0.0, 0.0, 0.0, 0.0], \\n      AUTHORITY[\"EPSG\",\"6326\"]], \\n    PRIMEM[\"Greenwich\", 0.0, AUTHORITY[\"EPSG\",\"8901\"]], \\n    UNIT[\"degree\", 0.017453292519943295], \\n    AXIS[\"Longitude\", EAST], \\n    AXIS[\"Latitude\", NORTH], \\n    AUTHORITY[\"EPSG\",\"4326\"]], \\n  PROJECTION[\"Albers_Conic_Equal_Area\"], \\n  PARAMETER[\"central_meridian\", -96.0], \\n  PARAMETER[\"latitude_of_origin\", 23.0], \\n  PARAMETER[\"standard_parallel_1\", 29.5], \\n  PARAMETER[\"false_easting\", 0.0], \\n  PARAMETER[\"false_northing\", 0.0], \\n  PARAMETER[\"standard_parallel_2\", 45.5], \\n  UNIT[\"m\", 1.0], \\n  AXIS[\"Easting\", EAST], \\n  AXIS[\"Northing\", NORTH]]', 'crs_transform': [30, 0, 3039345, 0, -30, 64635]}, {'id': 'NBR', 'data_type': {'type': 'PixelType', 'precision': 'float', 'min': -1, 'max': 1}, 'dimensions': [12391, 4871], 'crs': 'PROJCS[\"Albers_Conical_Equal_Area\", \\n  GEOGCS[\"WGS 84\", \\n    DATUM[\"WGS_1984\", \\n      SPHEROID[\"WGS 84\", 6378137.0, 298.257223563, AUTHORITY[\"EPSG\",\"7030\"]], \\n      TOWGS84[0.0, 0.0, 0.0, 0.0, 0.0, 0.0, 0.0], \\n      AUTHORITY[\"EPSG\",\"6326\"]], \\n    PRIMEM[\"Greenwich\", 0.0, AUTHORITY[\"EPSG\",\"8901\"]], \\n    UNIT[\"degree\", 0.017453292519943295], \\n    AXIS[\"Longitude\", EAST], \\n    AXIS[\"Latitude\", NORTH], \\n    AUTHORITY[\"EPSG\",\"4326\"]], \\n  PROJECTION[\"Albers_Conic_Equal_Area\"], \\n  PARAMETER[\"central_meridian\", -96.0], \\n  PARAMETER[\"latitude_of_origin\", 23.0], \\n  PARAMETER[\"standard_parallel_1\", 29.5], \\n  PARAMETER[\"false_easting\", 0.0], \\n  PARAMETER[\"false_northing\", 0.0], \\n  PARAMETER[\"standard_parallel_2\", 45.5], \\n  UNIT[\"m\", 1.0], \\n  AXIS[\"Easting\", EAST], \\n  AXIS[\"Northing\", NORTH]]', 'crs_transform': [30, 0, 3039345, 0, -30, 64635]}, {'id': 'NDMI', 'data_type': {'type': 'PixelType', 'precision': 'float', 'min': -1, 'max': 1}, 'dimensions': [12391, 4871], 'crs': 'PROJCS[\"Albers_Conical_Equal_Area\", \\n  GEOGCS[\"WGS 84\", \\n    DATUM[\"WGS_1984\", \\n      SPHEROID[\"WGS 84\", 6378137.0, 298.257223563, AUTHORITY[\"EPSG\",\"7030\"]], \\n      TOWGS84[0.0, 0.0, 0.0, 0.0, 0.0, 0.0, 0.0], \\n      AUTHORITY[\"EPSG\",\"6326\"]], \\n    PRIMEM[\"Greenwich\", 0.0, AUTHORITY[\"EPSG\",\"8901\"]], \\n    UNIT[\"degree\", 0.017453292519943295], \\n    AXIS[\"Longitude\", EAST], \\n    AXIS[\"Latitude\", NORTH], \\n    AUTHORITY[\"EPSG\",\"4326\"]], \\n  PROJECTION[\"Albers_Conic_Equal_Area\"], \\n  PARAMETER[\"central_meridian\", -96.0], \\n  PARAMETER[\"latitude_of_origin\", 23.0], \\n  PARAMETER[\"standard_parallel_1\", 29.5], \\n  PARAMETER[\"false_easting\", 0.0], \\n  PARAMETER[\"false_northing\", 0.0], \\n  PARAMETER[\"standard_parallel_2\", 45.5], \\n  UNIT[\"m\", 1.0], \\n  AXIS[\"Easting\", EAST], \\n  AXIS[\"Northing\", NORTH]]', 'crs_transform': [30, 0, 3039345, 0, -30, 64635]}, {'id': 'NDSI', 'data_type': {'type': 'PixelType', 'precision': 'float', 'min': -1, 'max': 1}, 'dimensions': [12391, 4871], 'crs': 'PROJCS[\"Albers_Conical_Equal_Area\", \\n  GEOGCS[\"WGS 84\", \\n    DATUM[\"WGS_1984\", \\n      SPHEROID[\"WGS 84\", 6378137.0, 298.257223563, AUTHORITY[\"EPSG\",\"7030\"]], \\n      TOWGS84[0.0, 0.0, 0.0, 0.0, 0.0, 0.0, 0.0], \\n      AUTHORITY[\"EPSG\",\"6326\"]], \\n    PRIMEM[\"Greenwich\", 0.0, AUTHORITY[\"EPSG\",\"8901\"]], \\n    UNIT[\"degree\", 0.017453292519943295], \\n    AXIS[\"Longitude\", EAST], \\n    AXIS[\"Latitude\", NORTH], \\n    AUTHORITY[\"EPSG\",\"4326\"]], \\n  PROJECTION[\"Albers_Conic_Equal_Area\"], \\n  PARAMETER[\"central_meridian\", -96.0], \\n  PARAMETER[\"latitude_of_origin\", 23.0], \\n  PARAMETER[\"standard_parallel_1\", 29.5], \\n  PARAMETER[\"false_easting\", 0.0], \\n  PARAMETER[\"false_northing\", 0.0], \\n  PARAMETER[\"standard_parallel_2\", 45.5], \\n  UNIT[\"m\", 1.0], \\n  AXIS[\"Easting\", EAST], \\n  AXIS[\"Northing\", NORTH]]', 'crs_transform': [30, 0, 3039345, 0, -30, 64635]}, {'id': 'brightness', 'data_type': {'type': 'PixelType', 'precision': 'float'}, 'dimensions': [12391, 4871], 'crs': 'PROJCS[\"Albers_Conical_Equal_Area\", \\n  GEOGCS[\"WGS 84\", \\n    DATUM[\"WGS_1984\", \\n      SPHEROID[\"WGS 84\", 6378137.0, 298.257223563, AUTHORITY[\"EPSG\",\"7030\"]], \\n      TOWGS84[0.0, 0.0, 0.0, 0.0, 0.0, 0.0, 0.0], \\n      AUTHORITY[\"EPSG\",\"6326\"]], \\n    PRIMEM[\"Greenwich\", 0.0, AUTHORITY[\"EPSG\",\"8901\"]], \\n    UNIT[\"degree\", 0.017453292519943295], \\n    AXIS[\"Longitude\", EAST], \\n    AXIS[\"Latitude\", NORTH], \\n    AUTHORITY[\"EPSG\",\"4326\"]], \\n  PROJECTION[\"Albers_Conic_Equal_Area\"], \\n  PARAMETER[\"central_meridian\", -96.0], \\n  PARAMETER[\"latitude_of_origin\", 23.0], \\n  PARAMETER[\"standard_parallel_1\", 29.5], \\n  PARAMETER[\"false_easting\", 0.0], \\n  PARAMETER[\"false_northing\", 0.0], \\n  PARAMETER[\"standard_parallel_2\", 45.5], \\n  UNIT[\"m\", 1.0], \\n  AXIS[\"Easting\", EAST], \\n  AXIS[\"Northing\", NORTH]]', 'crs_transform': [30, 0, 3039345, 0, -30, 64635]}, {'id': 'greenness', 'data_type': {'type': 'PixelType', 'precision': 'float'}, 'dimensions': [12391, 4871], 'crs': 'PROJCS[\"Albers_Conical_Equal_Area\", \\n  GEOGCS[\"WGS 84\", \\n    DATUM[\"WGS_1984\", \\n      SPHEROID[\"WGS 84\", 6378137.0, 298.257223563, AUTHORITY[\"EPSG\",\"7030\"]], \\n      TOWGS84[0.0, 0.0, 0.0, 0.0, 0.0, 0.0, 0.0], \\n      AUTHORITY[\"EPSG\",\"6326\"]], \\n    PRIMEM[\"Greenwich\", 0.0, AUTHORITY[\"EPSG\",\"8901\"]], \\n    UNIT[\"degree\", 0.017453292519943295], \\n    AXIS[\"Longitude\", EAST], \\n    AXIS[\"Latitude\", NORTH], \\n    AUTHORITY[\"EPSG\",\"4326\"]], \\n  PROJECTION[\"Albers_Conic_Equal_Area\"], \\n  PARAMETER[\"central_meridian\", -96.0], \\n  PARAMETER[\"latitude_of_origin\", 23.0], \\n  PARAMETER[\"standard_parallel_1\", 29.5], \\n  PARAMETER[\"false_easting\", 0.0], \\n  PARAMETER[\"false_northing\", 0.0], \\n  PARAMETER[\"standard_parallel_2\", 45.5], \\n  UNIT[\"m\", 1.0], \\n  AXIS[\"Easting\", EAST], \\n  AXIS[\"Northing\", NORTH]]', 'crs_transform': [30, 0, 3039345, 0, -30, 64635]}, {'id': 'wetness', 'data_type': {'type': 'PixelType', 'precision': 'float'}, 'dimensions': [12391, 4871], 'crs': 'PROJCS[\"Albers_Conical_Equal_Area\", \\n  GEOGCS[\"WGS 84\", \\n    DATUM[\"WGS_1984\", \\n      SPHEROID[\"WGS 84\", 6378137.0, 298.257223563, AUTHORITY[\"EPSG\",\"7030\"]], \\n      TOWGS84[0.0, 0.0, 0.0, 0.0, 0.0, 0.0, 0.0], \\n      AUTHORITY[\"EPSG\",\"6326\"]], \\n    PRIMEM[\"Greenwich\", 0.0, AUTHORITY[\"EPSG\",\"8901\"]], \\n    UNIT[\"degree\", 0.017453292519943295], \\n    AXIS[\"Longitude\", EAST], \\n    AXIS[\"Latitude\", NORTH], \\n    AUTHORITY[\"EPSG\",\"4326\"]], \\n  PROJECTION[\"Albers_Conic_Equal_Area\"], \\n  PARAMETER[\"central_meridian\", -96.0], \\n  PARAMETER[\"latitude_of_origin\", 23.0], \\n  PARAMETER[\"standard_parallel_1\", 29.5], \\n  PARAMETER[\"false_easting\", 0.0], \\n  PARAMETER[\"false_northing\", 0.0], \\n  PARAMETER[\"standard_parallel_2\", 45.5], \\n  UNIT[\"m\", 1.0], \\n  AXIS[\"Easting\", EAST], \\n  AXIS[\"Northing\", NORTH]]', 'crs_transform': [30, 0, 3039345, 0, -30, 64635]}, {'id': 'fourth', 'data_type': {'type': 'PixelType', 'precision': 'float'}, 'dimensions': [12391, 4871], 'crs': 'PROJCS[\"Albers_Conical_Equal_Area\", \\n  GEOGCS[\"WGS 84\", \\n    DATUM[\"WGS_1984\", \\n      SPHEROID[\"WGS 84\", 6378137.0, 298.257223563, AUTHORITY[\"EPSG\",\"7030\"]], \\n      TOWGS84[0.0, 0.0, 0.0, 0.0, 0.0, 0.0, 0.0], \\n      AUTHORITY[\"EPSG\",\"6326\"]], \\n    PRIMEM[\"Greenwich\", 0.0, AUTHORITY[\"EPSG\",\"8901\"]], \\n    UNIT[\"degree\", 0.017453292519943295], \\n    AXIS[\"Longitude\", EAST], \\n    AXIS[\"Latitude\", NORTH], \\n    AUTHORITY[\"EPSG\",\"4326\"]], \\n  PROJECTION[\"Albers_Conic_Equal_Area\"], \\n  PARAMETER[\"central_meridian\", -96.0], \\n  PARAMETER[\"latitude_of_origin\", 23.0], \\n  PARAMETER[\"standard_parallel_1\", 29.5], \\n  PARAMETER[\"false_easting\", 0.0], \\n  PARAMETER[\"false_northing\", 0.0], \\n  PARAMETER[\"standard_parallel_2\", 45.5], \\n  UNIT[\"m\", 1.0], \\n  AXIS[\"Easting\", EAST], \\n  AXIS[\"Northing\", NORTH]]', 'crs_transform': [30, 0, 3039345, 0, -30, 64635]}, {'id': 'fifth', 'data_type': {'type': 'PixelType', 'precision': 'float'}, 'dimensions': [12391, 4871], 'crs': 'PROJCS[\"Albers_Conical_Equal_Area\", \\n  GEOGCS[\"WGS 84\", \\n    DATUM[\"WGS_1984\", \\n      SPHEROID[\"WGS 84\", 6378137.0, 298.257223563, AUTHORITY[\"EPSG\",\"7030\"]], \\n      TOWGS84[0.0, 0.0, 0.0, 0.0, 0.0, 0.0, 0.0], \\n      AUTHORITY[\"EPSG\",\"6326\"]], \\n    PRIMEM[\"Greenwich\", 0.0, AUTHORITY[\"EPSG\",\"8901\"]], \\n    UNIT[\"degree\", 0.017453292519943295], \\n    AXIS[\"Longitude\", EAST], \\n    AXIS[\"Latitude\", NORTH], \\n    AUTHORITY[\"EPSG\",\"4326\"]], \\n  PROJECTION[\"Albers_Conic_Equal_Area\"], \\n  PARAMETER[\"central_meridian\", -96.0], \\n  PARAMETER[\"latitude_of_origin\", 23.0], \\n  PARAMETER[\"standard_parallel_1\", 29.5], \\n  PARAMETER[\"false_easting\", 0.0], \\n  PARAMETER[\"false_northing\", 0.0], \\n  PARAMETER[\"standard_parallel_2\", 45.5], \\n  UNIT[\"m\", 1.0], \\n  AXIS[\"Easting\", EAST], \\n  AXIS[\"Northing\", NORTH]]', 'crs_transform': [30, 0, 3039345, 0, -30, 64635]}, {'id': 'sixth', 'data_type': {'type': 'PixelType', 'precision': 'float'}, 'dimensions': [12391, 4871], 'crs': 'PROJCS[\"Albers_Conical_Equal_Area\", \\n  GEOGCS[\"WGS 84\", \\n    DATUM[\"WGS_1984\", \\n      SPHEROID[\"WGS 84\", 6378137.0, 298.257223563, AUTHORITY[\"EPSG\",\"7030\"]], \\n      TOWGS84[0.0, 0.0, 0.0, 0.0, 0.0, 0.0, 0.0], \\n      AUTHORITY[\"EPSG\",\"6326\"]], \\n    PRIMEM[\"Greenwich\", 0.0, AUTHORITY[\"EPSG\",\"8901\"]], \\n    UNIT[\"degree\", 0.017453292519943295], \\n    AXIS[\"Longitude\", EAST], \\n    AXIS[\"Latitude\", NORTH], \\n    AUTHORITY[\"EPSG\",\"4326\"]], \\n  PROJECTION[\"Albers_Conic_Equal_Area\"], \\n  PARAMETER[\"central_meridian\", -96.0], \\n  PARAMETER[\"latitude_of_origin\", 23.0], \\n  PARAMETER[\"standard_parallel_1\", 29.5], \\n  PARAMETER[\"false_easting\", 0.0], \\n  PARAMETER[\"false_northing\", 0.0], \\n  PARAMETER[\"standard_parallel_2\", 45.5], \\n  UNIT[\"m\", 1.0], \\n  AXIS[\"Easting\", EAST], \\n  AXIS[\"Northing\", NORTH]]', 'crs_transform': [30, 0, 3039345, 0, -30, 64635]}, {'id': 'tcAngleBG', 'data_type': {'type': 'PixelType', 'precision': 'double'}, 'dimensions': [12391, 4871], 'crs': 'PROJCS[\"Albers_Conical_Equal_Area\", \\n  GEOGCS[\"WGS 84\", \\n    DATUM[\"WGS_1984\", \\n      SPHEROID[\"WGS 84\", 6378137.0, 298.257223563, AUTHORITY[\"EPSG\",\"7030\"]], \\n      TOWGS84[0.0, 0.0, 0.0, 0.0, 0.0, 0.0, 0.0], \\n      AUTHORITY[\"EPSG\",\"6326\"]], \\n    PRIMEM[\"Greenwich\", 0.0, AUTHORITY[\"EPSG\",\"8901\"]], \\n    UNIT[\"degree\", 0.017453292519943295], \\n    AXIS[\"Longitude\", EAST], \\n    AXIS[\"Latitude\", NORTH], \\n    AUTHORITY[\"EPSG\",\"4326\"]], \\n  PROJECTION[\"Albers_Conic_Equal_Area\"], \\n  PARAMETER[\"central_meridian\", -96.0], \\n  PARAMETER[\"latitude_of_origin\", 23.0], \\n  PARAMETER[\"standard_parallel_1\", 29.5], \\n  PARAMETER[\"false_easting\", 0.0], \\n  PARAMETER[\"false_northing\", 0.0], \\n  PARAMETER[\"standard_parallel_2\", 45.5], \\n  UNIT[\"m\", 1.0], \\n  AXIS[\"Easting\", EAST], \\n  AXIS[\"Northing\", NORTH]]', 'crs_transform': [30, 0, 3039345, 0, -30, 64635]}], 'properties': {'system:time_start': 454896000000, 'system:index': 'Landsat-Sentinel2-Hybrid_TOA_medoid_1984_1984_152_151'}}\n"
     ]
    }
   ],
   "source": [
    "# Decompress composites by dividing by 10000 for optical bands and add indices\n",
    "composites = composites.select(['blue','green','red','nir','swir1','swir2']).map(lambda img: img.divide(10000).float().copyProperties(img,['system:time_start']))\n",
    "# add indices\n",
    "composites = composites.map(getImagesLib.simpleAddIndices)\\\n",
    "                      .map(getImagesLib.getTasseledCap)\\\n",
    "                      .map(getImagesLib.simpleAddTCAngles)\n",
    "\n",
    "#inspect\n",
    "print(composites.first().getInfo())"
   ]
  },
  {
   "cell_type": "markdown",
   "id": "e3c6c641-a009-4475-8736-4d548fa837ac",
   "metadata": {},
   "source": [
    "### Extract parameters from composites\n",
    "\n",
    "We'll use the parameters from the composites later on in the script. "
   ]
  },
  {
   "cell_type": "code",
   "execution_count": 9,
   "id": "d57cce8a-174d-45e9-a07a-28e32968a1d5",
   "metadata": {},
   "outputs": [
    {
     "ename": "KeyError",
     "evalue": "'startYear'",
     "output_type": "error",
     "traceback": [
      "\u001b[0;31m---------------------------------------------------------------------------\u001b[0m",
      "\u001b[0;31mKeyError\u001b[0m                                  Traceback (most recent call last)",
      "Cell \u001b[0;32mIn[9], line 9\u001b[0m\n\u001b[1;32m      6\u001b[0m \u001b[38;5;66;03m# get properties of composite images\u001b[39;00m\n\u001b[1;32m      7\u001b[0m props \u001b[38;5;241m=\u001b[39m composites\u001b[38;5;241m.\u001b[39mfirst()\u001b[38;5;241m.\u001b[39mtoDictionary()\u001b[38;5;241m.\u001b[39mgetInfo()\n\u001b[0;32m----> 9\u001b[0m startYear \u001b[38;5;241m=\u001b[39m \u001b[43mprops\u001b[49m\u001b[43m[\u001b[49m\u001b[38;5;124;43m'\u001b[39;49m\u001b[38;5;124;43mstartYear\u001b[39;49m\u001b[38;5;124;43m'\u001b[39;49m\u001b[43m]\u001b[49m\n\u001b[1;32m     10\u001b[0m endYear \u001b[38;5;241m=\u001b[39m props[\u001b[38;5;124m'\u001b[39m\u001b[38;5;124mendYear\u001b[39m\u001b[38;5;124m'\u001b[39m]\n\u001b[1;32m     12\u001b[0m startJulian \u001b[38;5;241m=\u001b[39m props[\u001b[38;5;124m'\u001b[39m\u001b[38;5;124mstartJulian\u001b[39m\u001b[38;5;124m'\u001b[39m]\n",
      "\u001b[0;31mKeyError\u001b[0m: 'startYear'"
     ]
    }
   ],
   "source": [
    "#### Load information from composites - this will be used as parameters for LandTrendr and export\n",
    "\n",
    "# get study area from composite\n",
    "studyArea = composites.first().geometry()\n",
    "\n",
    "# get properties of composite images\n",
    "props = composites.first().toDictionary().getInfo()\n",
    "\n",
    "startYear = props['startYear']\n",
    "endYear = props['endYear']\n",
    "\n",
    "startJulian = props['startJulian']\n",
    "endJulian = props['endJulian']\n",
    "\n",
    "proj = composites.first().projection().getInfo()\n",
    "\n",
    "# Pull out the crs\n",
    "# Depending on if a wkt or epsg format is used, it will be stored under a different key\n",
    "if 'crs' not in proj.keys():\n",
    "    crs = proj['wkt']\n",
    "else:\n",
    "    crs = proj['crs']\n",
    "    \n",
    "transform = proj['transform']\n",
    "scale = None\n",
    "\n",
    "\n",
    "\n",
    "print('Done')"
   ]
  },
  {
   "cell_type": "markdown",
   "id": "a4377e27-38e1-453c-be1b-99d9c8ece8cf",
   "metadata": {},
   "source": [
    "### Inspect\n",
    "\n",
    "Run the codeblock below to set up the map and add the composites to the map.\n",
    "\n",
    "Click on the layers on the map to explore the values of the indices that were created. "
   ]
  },
  {
   "cell_type": "code",
   "execution_count": 10,
   "id": "d05f6281-9051-420f-9603-c9462e0588f4",
   "metadata": {},
   "outputs": [
    {
     "name": "stdout",
     "output_type": "stream",
     "text": [
      "Adding layer: Composites\n",
      "Starting webmap\n",
      "Using default refresh token for geeView: /home/jupyter/.config/earthengine/credentials\n",
      "Starting local web server at: http://localhost:1236/geeView/\n",
      "HTTP server command: \"/opt/conda/bin/python\" -m http.server  1236\n",
      "Done\n",
      "cwd /home/jupyter/lcms-training\n",
      "Workbench Proxy URL: https://3b40cb8a2076f1b6-dot-us-west3.notebooks.googleusercontent.com/proxy/1236/geeView/?accessToken=None\n"
     ]
    },
    {
     "data": {
      "text/html": [
       "\n",
       "        <iframe\n",
       "            width=\"100%\"\n",
       "            height=\"525px\"\n",
       "            src=\"https://3b40cb8a2076f1b6-dot-us-west3.notebooks.googleusercontent.com/proxy/1236/geeView/?accessToken=None\"\n",
       "            frameborder=\"0\"\n",
       "            allowfullscreen\n",
       "            \n",
       "        ></iframe>\n",
       "        "
      ],
      "text/plain": [
       "<IPython.lib.display.IFrame at 0x7f1dad9a01c0>"
      ]
     },
     "metadata": {},
     "output_type": "display_data"
    },
    {
     "name": "stderr",
     "output_type": "stream",
     "text": [
      "127.0.0.1 - - [21/Aug/2023 22:01:45] \"GET /geeView/js/runGeeViz.js HTTP/1.1\" 200 -\n"
     ]
    }
   ],
   "source": [
    "# set up map\n",
    "Map.clearMap()\n",
    "# reset port if necessary\n",
    "Map.port = 1236\n",
    "Map.proxy_url = workbench_url\n",
    "\n",
    "# add composites\n",
    "Map.addTimeLapse(composites,getImagesLib.vizParamsFalse,'Composites')\n",
    "\n",
    "#center map\n",
    "Map.centerObject(studyArea )\n",
    "\n",
    "Map.turnOnInspector()\n",
    "Map.view()"
   ]
  },
  {
   "cell_type": "markdown",
   "id": "e766ae5b-21d1-4dd1-921f-f67a3c3d0318",
   "metadata": {},
   "source": [
    "### Set parameters for LandTrendr\n",
    "\n",
    "LandTrendr uses the below parameters. In LCMS, we use the values below and don't adjust the parameters between runs. \n",
    "\n",
    "\n",
    " - `timeSeries`: (ImageCollection) Yearly time-series from which to extract breakpoints. The first band is used to find breakpoints, and all subsequent bands are fitted using those breakpoints.\n",
    " - `maxSegments`: (Integer) Maximum number of segments to be fitted on the time series.\n",
    " - `spikeThreshold`:  (Float, default: 0.9) Threshold for damping the spikes (1.0 means no damping).\n",
    " - `vertexCountOvershoot`: (Integer, default: 3) The initial model can overshoot the maxSegments + 1 vertices by this amount. Later, it will be pruned down to maxSegments + 1.\n",
    " - `preventOneYearRecovery`: (Boolean, default: False): Prevent segments that represent one year recoveries.\n",
    " - `recoveryThreshold`: (Float, default: 0.25) If a segment has a recovery rate faster than 1/recoveryThreshold (in years), then the segment is disallowed.\n",
    " - `pvalThreshold`: (Float, default: 0.1) If the p-value of the fitted model exceeds this threshold, then the current model is discarded and another one is fitted using the Levenberg-Marquardt optimizer.\n",
    " - `bestModelProportion`: (Float, default: 0.75) Allows models with more vertices to be chosen if their p-value is no more than (2 - bestModelProportion) times the p-value of the best model.\n",
    " - `minObservationsNeeded`: (Integer, default: 6) Min observations needed to perform output fitting.\n",
    "\n",
    "\n",
    "You can experiment with using different parameters to see how the output differs. \n",
    "\n",
    "The [LandTrendr Pixel Time Series Plotter UI](https://emapr.github.io/LT-GEE/ui-applications.html#ui-landtrendr-pixel-time-series-plotter) can also be helpful to see how varying these parameters changes the fitted segments in the output. I recommend you test this in an area / on a pixel where you understand the change history, so that you can better evaluate the line segments fit to the spectral trajectory.\n",
    "\n",
    "Run the code block below to set the parameters that the LandTrendr algorithm will use. "
   ]
  },
  {
   "cell_type": "code",
   "execution_count": null,
   "id": "061164ac-f4ff-47eb-b106-a65d4942718f",
   "metadata": {
    "colab": {
     "base_uri": "https://localhost:8080/"
    },
    "executionInfo": {
     "elapsed": 2097,
     "status": "ok",
     "timestamp": 1690298738442,
     "user": {
      "displayName": "Ian Housman",
      "userId": "00382093583884444463"
     },
     "user_tz": 360
    },
    "id": "0YdSMqjxuuAr",
    "outputId": "5bb7abe2-577e-4be4-8849-9e79cdf5ff94"
   },
   "outputs": [],
   "source": [
    "# We can use any/all of the bands, but generally bands that use nir and swir are most useful\n",
    "bandNames = ['red','nir','swir1','swir2','NBR','NDVI','brightness','greenness','wetness']\n",
    "\n",
    "#Define landtrendr params\n",
    "run_params = { \\\n",
    "  'maxSegments':            6,\\\n",
    "  'spikeThreshold':         0.9,\\\n",
    "  'vertexCountOvershoot':   3,\\\n",
    "  'preventOneYearRecovery': False,\\\n",
    "  'recoveryThreshold':      0.25,\\\n",
    "  'pvalThreshold':          0.05,\\\n",
    "  'bestModelProportion':    0.75,\\\n",
    "  'minObservationsNeeded':  6\\\n",
    "}"
   ]
  },
  {
   "cell_type": "markdown",
   "id": "e7c7696b-1332-461b-91ea-72ed3faa7205",
   "metadata": {},
   "source": [
    "## Run LandTrendr - on NBR only \n",
    "\n",
    "Now let's run LandTrendr over NBR only, as a test example that will allow us to look at the outputs\n",
    "NBR is the Normalized Burn Ratio\n",
    "It is sensitive to the presence/absence of moisture\n"
   ]
  },
  {
   "cell_type": "code",
   "execution_count": null,
   "id": "d278f668-f610-4f47-8acd-8f8029fd3fd1",
   "metadata": {},
   "outputs": [],
   "source": [
    "# run LandTrendr over NBR\n",
    "test_band = 'NBR'\n",
    "run_params['timeSeries'] = composites.select([test_band])\n",
    "raw_LT = ee.Algorithms.TemporalSegmentation.LandTrendr(**run_params)"
   ]
  },
  {
   "cell_type": "code",
   "execution_count": null,
   "id": "31c84be1-5e21-4d6a-9302-6c3dab686eb7",
   "metadata": {},
   "outputs": [],
   "source": [
    "### Inspect \n",
    "\n",
    "Run the code block below to add the output to the map. Double click on the output on the map to query it. "
   ]
  },
  {
   "cell_type": "code",
   "execution_count": null,
   "id": "81e28a7e-bb26-45b9-a09d-efbb1d78d868",
   "metadata": {},
   "outputs": [],
   "source": [
    "Map.clearMap()\n",
    "Map.addLayer(raw_LT,{},'LT Raw {}'.format(test_band),True)\n",
    "\n",
    "Map.turnOnInspector()\n",
    "Map.view()"
   ]
  },
  {
   "cell_type": "markdown",
   "id": "e337deba-5054-4482-852e-4dfc87fa1075",
   "metadata": {},
   "source": [
    "Double click on the output on the map to query it. \n",
    "\n",
    "Notice this output is not immediately useful for change detection or smoothing out a time series of composites\n"
   ]
  },
  {
   "cell_type": "markdown",
   "id": "fb32a606-64e7-4ca9-94c8-cf3188171f84",
   "metadata": {},
   "source": [
    "## Using LandTrendr for Change Detection\n",
    "\n",
    "Break up workflow below to show intermediate outputs a little better\n"
   ]
  },
  {
   "cell_type": "markdown",
   "id": "868451ca-3fb3-4458-8f26-53605f02f879",
   "metadata": {},
   "source": [
    "### Process LandTrendr array outputs\n",
    "\n",
    "The immediate output of LandTrendr is an array. You have to manipulate these arrays in order to use the data for change detection. \n",
    "\n",
    "But, doing this manually will help you understand the way the array outputs are constructed, and will help you gain practice in array manipulation.\n",
    "\n",
    "Make this so you see what processing is being done for a single pixel, at each step \n",
    "\n",
    "You'll be using the functions [`array.Slice`](https://developers.google.com/earth-engine/apidocs/ee-array-slice) and [`array.Mask`](https://developers.google.com/earth-engine/apidocs/ee-array-mask) to manipulate arrays"
   ]
  },
  {
   "cell_type": "code",
   "execution_count": null,
   "id": "ba34364f-7c2a-427a-b535-c2381625a3d6",
   "metadata": {},
   "outputs": [],
   "source": [
    "# We will now see how LandTrendr can be used on its own for change detection"
   ]
  },
  {
   "cell_type": "markdown",
   "id": "d3f894cd-ed41-47bf-b98a-8f4ad16775a4",
   "metadata": {},
   "source": [
    "#### Process LandTrendr array outputs\n",
    "\n",
    "Make this so you see what processing is being done for a single pixel, at each step "
   ]
  },
  {
   "cell_type": "code",
   "execution_count": null,
   "id": "013e2d00-f5de-40bf-a626-55b26b43ff16",
   "metadata": {},
   "outputs": [],
   "source": [
    "# create object representing pixel to query - any px within study area\n",
    "queryPoint = ee.Geometry.Point([-66.3, 18.42])\n",
    "geometryBuffer = queryPoint.buffer(1000)\n",
    "\n",
    "#print(queryPoint.getInfo())\n",
    "#print(geometryBuffer)\n",
    "\n",
    "#inspect query point on Map\n",
    "Map.clearMap()\n",
    "Map.addLayer(queryPoint,{},'queryPoint',True)\n",
    "Map.addLayer(geometryBuffer,{},'queryPointBuffer',True)\n",
    "Map.centerObject(queryPoint)\n",
    "Map.mapCommandList.append('map.setZoom(12)')\n",
    "Map.turnOnInspector()\n",
    "Map.view()\n",
    "\n",
    "# extract values to px for products \n",
    "\n",
    "\n",
    "\n",
    "# plot array outputs to visualize "
   ]
  },
  {
   "cell_type": "code",
   "execution_count": null,
   "id": "04c4b7bd-640c-44ff-9c4b-02e2718a52be",
   "metadata": {},
   "outputs": [],
   "source": [
    "# First, we will select the LandTrendr image array output band\n",
    "lt_array = raw_LT.select(['LandTrendr'])\n",
    "\n",
    "# This output has 2 dimensions per pixel\n",
    "# The rows correspond to 0-years, 1-raw input values, 2-LandTrendr fitted output values, and 3-vertex/non vertex\n",
    "\n",
    "# First, slice the vertices  and use them as a mask to mask out non vertex values\n",
    "vertices = lt_array.arraySlice(0,3,4)\n",
    "lt_array = lt_array.arrayMask(vertices)"
   ]
  },
  {
   "cell_type": "code",
   "execution_count": null,
   "id": "7b28ed04-62d8-4800-af34-5ac8aa1862c6",
   "metadata": {},
   "outputs": [],
   "source": [
    "# Look at the outputs\n",
    "#print(vertices.reduceRegions('mean', queryPoint))\n",
    "test_array = ee.Array([[1,1,1]],[[2,2,2]])\n",
    "print(test_array.getInfo())\n",
    "\n",
    "print(ee.Array([3, 4, 5]).first(ee.Array([0, 1, 2])).getInfo())\n",
    "\n",
    "#print(lt_array.first(ee.Array([0, 1, 2])).getInfo())"
   ]
  },
  {
   "cell_type": "code",
   "execution_count": null,
   "id": "b4fdc2f1-6feb-4f43-92c3-ce53f4687a7d",
   "metadata": {},
   "outputs": [],
   "source": [
    "# In order to perform change detection, we'll need to get the difference between fitted vertex values\n",
    "# We do this by slicing the first to the next to the last and then the second to the last and subtracting them\n",
    "left = lt_array.arraySlice(1,0,-1)\n",
    "right = lt_array.arraySlice(1,1,None)\n",
    "diff  = left.subtract(right)\n",
    "\n",
    "# We then slice the right-hand years and the fitted vertex values difference and combine them\n",
    "years = right.arraySlice(0,0,1)\n",
    "mag = diff.arraySlice(0,2,3)\n",
    "forSorting = years.arrayCat(mag,0)\n",
    "\n",
    "# We can then sort using various rows depending on whether we want the highest magnitude change, most recent, etc\n",
    "# In this example, the sort row will be the magnitude, thus giving us the highest severity change\n",
    "sorted = forSorting.arraySort(forSorting.arraySlice(0,1,2))"
   ]
  },
  {
   "cell_type": "markdown",
   "id": "e1473c53-d332-4333-8f05-9f4400ae363d",
   "metadata": {},
   "source": [
    "#### Inspect array outputs\n",
    "\n",
    "Run the code below to add the layers to map to inspect them \n",
    "\n",
    "Double click to inpsect values"
   ]
  },
  {
   "cell_type": "code",
   "execution_count": null,
   "id": "93f96457-c118-40dd-ad69-e1842e54d665",
   "metadata": {},
   "outputs": [],
   "source": [
    "# Set up map\n",
    "Map.clearMap()\n",
    "Map.addLayer(forSorting,{},'Array for Sorting')\n",
    "Map.addLayer(sorted,{},'Sorted Array')\n",
    "Map.turnOnInspector()\n",
    "Map.view()"
   ]
  },
  {
   "cell_type": "markdown",
   "id": "39f1e636-cb85-4b10-b3d6-da7fee43a77b",
   "metadata": {},
   "source": [
    "### Convert arrays into images\n",
    "But those arrays still aren't immediately usable\n",
    "\n",
    "Arrays will be converted into images representing loss magnitude and loss year"
   ]
  },
  {
   "cell_type": "code",
   "execution_count": null,
   "id": "71509de2-41b0-4ced-96e0-96c3ffcc2ae1",
   "metadata": {},
   "outputs": [],
   "source": [
    "# First, choose a change threshold\n",
    "# Any changes more negative than this value will be flagged as loss\n",
    "change_threshold = -0.15"
   ]
  },
  {
   "cell_type": "code",
   "execution_count": null,
   "id": "ac0b5abf-11d0-40e2-aa36-cdbb1b58aa4c",
   "metadata": {},
   "outputs": [],
   "source": [
    "# Convert the sorted array image into a 2-band image\n",
    "highest_mag_change = sorted.arraySlice(1,0,1).arrayProject([0]).arrayFlatten([['yr','mag']])\n",
    "\n",
    "# Mask out any change \n",
    "highest_mag_change = highest_mag_change.updateMask(highest_mag_change.select(['mag']).lte(change_threshold))\n",
    "\n",
    "# Pull the los magnitude palette and flip the color order\n",
    "lossMagPalette = changeDetectionLib.lossMagPalette.split(',')\n",
    "lossMagPalette.reverse()\n",
    "\n",
    "# Set up map\n",
    "Map.clearMap()\n",
    "Map.addLayer(forSorting,{},'Array for Sorting',False)\n",
    "Map.addLayer(sorted,{},'Sorted Array',False)\n",
    "Map.addLayer(highest_mag_change.select(['mag']),{'min':-0.8,'max':-0.15,'palette':lossMagPalette},'Loss Magnitude')\n",
    "Map.addLayer(highest_mag_change.select(['yr']),{'min':startYear,'max':endYear,'palette':changeDetectionLib.lossYearPalette},'Loss Year')\n",
    "Map.turnOnInspector()\n",
    "Map.view()"
   ]
  },
  {
   "cell_type": "markdown",
   "id": "f4927ce6-9023-4c0f-8735-b1f7f62ccbef",
   "metadata": {},
   "source": [
    "#### Using function\n",
    "\n",
    "You can also do the same thing using a function: changeDetectionLib.convertToLossGain()\n",
    "\n",
    "Array processing also happens within function in the geeViz libary, like [`changeDetectionLib.convertToLossGain()`]( https://github.com/redcastle-resources/geeViz/blob/fdd8f0080301f8d915214b6e2d50af03a0915777/changeDetectionLib.py#L778C5-L778C22)\n",
    "\n",
    "You can see an example of how this is implemented in the geeViz [examples/LANDTRENDRViz.py](https://github.com/redcastle-resources/geeViz/blob/fdd8f0080301f8d915214b6e2d50af03a0915777/examples/LANDTRENDRViz.py)"
   ]
  },
  {
   "cell_type": "code",
   "execution_count": null,
   "id": "67f0b3ac-5a1e-4bbb-a3aa-ac9559eb2b29",
   "metadata": {},
   "outputs": [],
   "source": [
    "# use function to parse landtrendr array\n",
    "lossGainDict = changeDetectionLib.convertToLossGain(lt_array, \\\n",
    "                                                      format = 'rawLandTrendr',\\\n",
    "                                                      lossMagThresh = -0.15,\\\n",
    "                                                      lossSlopeThresh = -0.1,\\\n",
    "                                                      gainMagThresh = 0.1,\\\n",
    "                                                      gainSlopeThresh = 0.1,\\\n",
    "                                                      slowLossDurationThresh = 3,\n",
    "                                                      chooseWhichLoss = 'largest', \n",
    "                                                      chooseWhichGain = 'largest', \n",
    "                                                      howManyToPull = 1)\n",
    "\n",
    "lossStack = lossGainDict['lossStack']\n",
    "gainStack = lossGainDict['gainStack']"
   ]
  },
  {
   "cell_type": "code",
   "execution_count": null,
   "id": "9c0fa5f2-794a-4fc5-895d-61f570232ff2",
   "metadata": {},
   "outputs": [],
   "source": [
    "#Set up viz params\n",
    "vizParamsLossYear = {'min':startYear,'max':endYear,'palette':changeDetectionLib.lossYearPalette}\n",
    "vizParamsLossMag = {'min':-0.8 ,'max':-0.15,'palette':list(reversed(changeDetectionLib.lossMagPalette.split(',')))}\n",
    "  \n",
    "vizParamsGainYear = {'min':startYear,'max':endYear,'palette':changeDetectionLib.gainYearPalette}\n",
    "vizParamsGainMag = {'min':0.1,'max':0.8,'palette':changeDetectionLib.gainMagPalette}\n",
    "  \n",
    "vizParamsDuration = {'min':1,'max':5,'palette':changeDetectionLib.changeDurationPalette,'legendLabelLeftAfter':'year','legendLabelRightAfter':'years'}\n",
    "\n",
    "# Select off the first change detected and visualize outputs\n",
    "lossStackI = lossStack.select(['.*_1'])\n",
    "gainStackI = gainStack.select(['.*_1'])\n",
    " \n",
    " # Set up map\n",
    "Map.clearMap()\n",
    "Map.addLayer(lossStackI.select(['loss_yr.*']),vizParamsLossYear,bandName +' Loss Year',True)\n",
    "Map.addLayer(lossStackI.select(['loss_mag.*']),vizParamsLossMag,bandName +' Loss Magnitude',False)\n",
    "Map.addLayer(lossStackI.select(['loss_dur.*']),vizParamsDuration,bandName +' Loss Duration',False)\n",
    "  \n",
    "Map.addLayer(gainStackI.select(['gain_yr.*']),vizParamsGainYear,bandName +' Gain Year',False)\n",
    "Map.addLayer(gainStackI.select(['gain_mag.*']),vizParamsGainMag,bandName +' Gain Magnitude',False)\n",
    "Map.addLayer(gainStackI.select(['gain_dur.*']),vizParamsDuration,bandName +' Gain Duration',False)\n",
    "Map.turnOnInspector()\n",
    "Map.view()\n"
   ]
  },
  {
   "cell_type": "markdown",
   "id": "a302eccb-6f0c-4300-b4f6-dc706df58378",
   "metadata": {},
   "source": [
    "#### Using function## Run full LandTrendr - on all bands\n",
    "\n",
    "Explain what each section of the code below is doing \n",
    "i.e., running LandTrendr for all bands and processing the outut into images that represent changes of interest"
   ]
  },
  {
   "cell_type": "code",
   "execution_count": null,
   "id": "149fca54",
   "metadata": {
    "colab": {
     "base_uri": "https://localhost:8080/",
     "height": 1000
    },
    "executionInfo": {
     "elapsed": 15779,
     "status": "ok",
     "timestamp": 1690298816811,
     "user": {
      "displayName": "Ian Housman",
      "userId": "00382093583884444463"
     },
     "user_tz": 360
    },
    "id": "149fca54",
    "outputId": "d0da08a8-2959-4ff0-db00-5290580dabef"
   },
   "outputs": [],
   "source": [
    "# We will run LandTrendr for each band\n",
    "#Clear the map in case it has been populated with layers/commands earlier\n",
    "Map.clearMap()\n",
    "\n",
    "# We can use any/all of the bands, but generally bands that use nir and swir are most useful\n",
    "bandNames = ['red','nir','swir1','swir2','NBR','NDVI','brightness','greenness','wetness']\n",
    "\n",
    "#Run LANDTRENDR\n",
    "for bandName in bandNames:\n",
    "\n",
    "  # Select the band and run LandTrendr\n",
    "  run_params['timeSeries'] = composites.select([bandName])\n",
    "  rawLT = ee.Algorithms.TemporalSegmentation.LandTrendr(**run_params)\n",
    "\n",
    "  Map.addLayer(rawLT,{},'LT Raw {}'.format(bandName),False)\n",
    "\n",
    "  # Notice the raw LandTrendr output is in GEE's image array format\n",
    "  # We'll need to manipulate the raw output a bit to save on storage space\n",
    "  \n",
    "    # Mask out non vertex values to use less storage space\n",
    "  ltArray = rawLT.select(['LandTrendr'])\n",
    "  rmse = rawLT.select(['rmse'])\n",
    "  vertices = ltArray.arraySlice(0,3,4)\n",
    "  ltArray = ltArray.arrayMask(vertices)\n",
    "\n",
    "  # Mask out all but the year and vertex fited values (get rid of the raw and vertex rows)\n",
    "  ltArray = ltArray.arrayMask(ee.Image(ee.Array([[1],[0],[1],[0]])))\n",
    "  rawLTForExport=ltArray.addBands(rmse)\n",
    "  Map.addLayer(rawLTForExport,{},'LT Vertex Values Only {}'.format(bandName),False)\n",
    "\n",
    "  # Show how the compressed vertex-only values can be decompressed later\n",
    "  decompressedC = changeDetectionLib.simpleLTFit(ltArray,startYear,endYear,bandName,True,run_params['maxSegments'])\n",
    "  Map.addLayer(decompressedC,{'bands':'{}_LT_fitted'.format(bandName),'min':0.2,'max':0.8},'Decompressed LT Output {}'.format(bandName),False)\n",
    "\n",
    "  # Join the raw and fitted values\n",
    "  fitted = decompressedC.select(['{}_LT_fitted'.format(bandName)])\n",
    "  ltJoined = getImagesLib.joinCollections(composites.select([bandName]),fitted)\n",
    "  Map.addLayer(ltJoined,{'bands':'{}_LT_fitted'.format(bandName),'min':0.2,'max':1,'palette':'D80,080'},'Raw and LT Fitted {}'.format(bandName),True)\n",
    "\n",
    "  # Export LT array image\n",
    "  # Set some properties that will be uses later\n",
    "  rawLTForExport = rawLTForExport.set({'startYear':startYear,\n",
    "                                          'endYear':endYear,\n",
    "                                          'startJulian':startJulian,\n",
    "                                          'endJulian':endJulian,\n",
    "                                          'band':bandName})\n",
    "  rawLTForExport =rawLTForExport.set(run_params)\n",
    "  exportName = 'LT_Raw_{}_yrs{}-{}_jds{}-{}'.format(bandName,startYear,endYear,startJulian,endJulian)\n",
    "  exportPath = export_landTrendr_collection + '/'+ exportName\n",
    "  # Export output\n",
    "  getImagesLib.exportToAssetWrapper(rawLTForExport,exportName,exportPath,{'.default':'sample'},studyArea,scale,crs,transform,overwrite=False)\n",
    "\n",
    "Map.turnOnInspector()\n",
    "Map.addLayer(studyArea, {'strokeColor': '0000FF'}, \"Study Area\", False)\n",
    "Map.view()"
   ]
  },
  {
   "cell_type": "code",
   "execution_count": null,
   "id": "qBkYgUm3JIRM",
   "metadata": {
    "colab": {
     "base_uri": "https://localhost:8080/"
    },
    "executionInfo": {
     "elapsed": 6005,
     "status": "ok",
     "timestamp": 1690211462841,
     "user": {
      "displayName": "Ian Housman",
      "userId": "00382093583884444463"
     },
     "user_tz": 360
    },
    "id": "qBkYgUm3JIRM",
    "outputId": "410ab298-a91c-4d34-ad21-3effc4990065"
   },
   "outputs": [],
   "source": [
    "# Can track tasks here or at https://code.earthengine.google.com/tasks\n",
    "# If you'd like to track the tasks, use this:\n",
    "# tml.trackTasks2()\n",
    "\n",
    "# If you want to cancel all running tasks, you can use this function\n",
    "# tml.batchCancel()\n",
    "\n",
    "# If you want to empty the collection of all images\n",
    "# aml.batchDelete(export_landTrendr_collection, type = 'imageCollection')\n",
    "\n",
    "print('done')"
   ]
  },
  {
   "cell_type": "markdown",
   "id": "7d01383c-741e-42fa-8936-06d80e658e98",
   "metadata": {},
   "source": [
    "Array processing also happens within functions \n",
    "\n",
    "`changeDetectionLib.convertToLossGain()` - https://github.com/redcastle-resources/geeViz/blob/fdd8f0080301f8d915214b6e2d50af03a0915777/changeDetectionLib.py#L778C5-L778C22\n",
    "\n"
   ]
  },
  {
   "cell_type": "markdown",
   "id": "46ede96c-72af-47f5-9d96-8e470907a144",
   "metadata": {},
   "source": [
    "### Convert LandTrendr array into time series - for input into LCMS\n",
    "\n",
    "https://github.com/redcastle-resources/geeViz/blob/fdd8f0080301f8d915214b6e2d50af03a0915777/changeDetectionLib.py#L565\n",
    "\n",
    "\n"
   ]
  },
  {
   "cell_type": "code",
   "execution_count": null,
   "id": "46b9055f-a683-4bf7-b04f-b076259f39bd",
   "metadata": {},
   "outputs": [],
   "source": [
    "`# While we can use the LandTrendr output for change detection, LCMS uses it as inputs to change detection, land cover, and land use models\n",
    "# This will show how the raw LandTrendr array image asset is converted into a time series \n",
    "# of annual fitted, segment duration, segment magnitude of change, and slope values\n",
    "Map.clearMap()\n",
    "\n",
    "lt_asset = ee.ImageCollection(export_landTrendr_collection)\n",
    "# Convert stacked outputs into collection of fitted, magnitude, slope, duration, etc values for each year\n",
    "# While the fitted LandTrendr value is generally of most importance to our models, \n",
    "# LandTrendr segment duration, slope, and magnitude of change can also help our models\n",
    "lt_fit = changeDetectionLib.batchSimpleLTFit(lt_asset,startYear,endYear,None,bandPropertyName='band',arrayMode=True)\n",
    "\n",
    "# Vizualize image collection that is used as predictors in LCMS models\n",
    "# When you double-click the output on the map, notice the different values available to the models\n",
    "Map.addLayer(lt_fit,{'bands':'swir2_LT_fitted,nir_LT_fitted,red_LT_fitted','min':0.15,'max':0.6},'LandTrendr All Predictors Time Series')\n",
    "\n",
    "\n",
    "Map.turnOnInspector()\n",
    "Map.addLayer(studyArea, {'strokeColor': '0000FF'}, \"Study Area\", False)\n",
    "Map.view()"
   ]
  },
  {
   "cell_type": "markdown",
   "id": "38d7e85f-d76f-4688-8e78-6f2b44538055",
   "metadata": {},
   "source": [
    "#### Inspect\n",
    "double click the map to query values and see actual and fitted values for indices over time\n",
    "\n",
    "#### LandTrendr reduces noise in original composite tiem series \n",
    "\n",
    "The best way of understanding how LandTrendr contributes to reducing noise in the original composite time series is to visualize them side-by-side\n",
    "This example takes the fitted values from LandTrendr and shows them along with the original\n",
    "Notice many holes are now filled in by LandTrendr\n",
    "In general the amount of noise is reduced. There is a risk however of fitting too much and omitting changes such as those seen in 2017 for Hurricane Maria\n",
    "\n",
    "INCLUDE A SCREENSHOT OF HURRICANE MARIA\n",
    "\n",
    "Click on the map, inspect the fitted time series, watch the composite timelapse and the Landtrendr timelapse"
   ]
  },
  {
   "cell_type": "code",
   "execution_count": null,
   "id": "68eca558-e073-4b5f-bd26-2c53ddc0f56d",
   "metadata": {},
   "outputs": [],
   "source": [
    "Map.clearMap()\n",
    "\n",
    "# The best way of understanding how LandTrendr contributes to reducing noise in the original composite time series\n",
    "# is to visualize them side-by-side\n",
    "# This example takes the fitted values from LandTrendr and shows them along with the original\n",
    "# Notice many holes are now filled in by LandTrendr\n",
    "# In general the amount of noise is reduced. There is a risk however of \n",
    "# fitting too much and omitting changes such as those seen in 2017 for Hurricane Maria\n",
    "\n",
    "# Visualize fitted landTrendr composites\n",
    "fitted_bns = lt_fit.select(['.*_fitted']).first().bandNames()\n",
    "out_bns = fitted_bns.map(lambda bn: ee.String(bn).split('_').get(0))\n",
    "\n",
    "# Give same names as composites\n",
    "lt_synth = lt_fit.select(fitted_bns,out_bns)\n",
    "\n",
    "# Visualize raw and LandTrendr fitted composites\n",
    "Map.addTimeLapse(composites,getImagesLib.vizParamsFalse,'Raw Composite Timelapse')\n",
    "\n",
    "Map.addTimeLapse(lt_synth,getImagesLib.vizParamsFalse,'Fitted LandTrendr Composite Timelapse')\n",
    "\n",
    "\n",
    "# Join the raw and fited values\n",
    "ltJoined = getImagesLib.joinCollections(composites.select(bandNames),lt_fit.select(['.*_fitted']))\n",
    "\n",
    "Map.addLayer(ltJoined,{'min':0.2,'max':1},'Raw and LT Fitted',True)\n",
    "\n",
    "\n",
    "Map.turnOnInspector()\n",
    "Map.addLayer(studyArea, {'strokeColor': '0000FF'}, \"Study Area\", False)\n",
    "Map.view()"
   ]
  },
  {
   "cell_type": "markdown",
   "id": "cfe5d556-9dff-411a-b8f7-cd5d6586acb5",
   "metadata": {},
   "source": [
    "### Vizualize other LandTrendr data\n",
    "\n",
    "-- pull in example from https://github.com/redcastle-resources/geeViz/blob/master/examples/LANDTRENDRViz.py -- to show all LandTrendr outputs at the same time "
   ]
  },
  {
   "cell_type": "markdown",
   "id": "75cdb754-50e9-4c48-b5e9-07641aa3dea6",
   "metadata": {},
   "source": [
    "### Challenge: \n",
    "\n",
    "Calculate LandTrendr stats for NDVI and process arrays into most recent change year "
   ]
  },
  {
   "cell_type": "markdown",
   "id": "5de5e65b-8630-469c-ba1d-ac6d39d358a8",
   "metadata": {},
   "source": [
    "### Congratulations! You're done with module 3.1 \n",
    "\n",
    "Other GeeViz LandTrendr examples: \n",
    "- https://github.com/redcastle-resources/geeViz/blob/master/examples/LANDTRENDRViz.py\n",
    "- https://github.com/redcastle-resources/geeViz/blob/master/examples/LANDTRENDRWrapper.py\n",
    "- https://github.com/redcastle-resources/geeViz/blob/master/examples/LANDTRENDRWrapperNotebook.ipynb\n",
    "\n",
    "\n",
    "LandTrendr fitted data will be used as inputs to LCMS "
   ]
  }
 ],
 "metadata": {
  "colab": {
   "provenance": []
  },
  "environment": {
   "kernel": "python3",
   "name": "common-cpu.m109",
   "type": "gcloud",
   "uri": "gcr.io/deeplearning-platform-release/base-cpu:m109"
  },
  "kernelspec": {
   "display_name": "Python 3",
   "language": "python",
   "name": "python3"
  },
  "language_info": {
   "codemirror_mode": {
    "name": "ipython",
    "version": 3
   },
   "file_extension": ".py",
   "mimetype": "text/x-python",
   "name": "python",
   "nbconvert_exporter": "python",
   "pygments_lexer": "ipython3",
   "version": "3.10.11"
  }
 },
 "nbformat": 4,
 "nbformat_minor": 5
}
