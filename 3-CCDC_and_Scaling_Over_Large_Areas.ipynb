{
 "cells": [
  {
   "cell_type": "code",
   "execution_count": null,
   "id": "28cbf5f4-218f-40d0-bd53-b224bf7a095c",
   "metadata": {},
   "outputs": [],
   "source": [
    "# Copyright 2023 Google LLC\n",
    "#\n",
    "# Licensed under the Apache License, Version 2.0 (the \"License\");\n",
    "# you may not use this file except in compliance with the License.\n",
    "# You may obtain a copy of the License at\n",
    "#\n",
    "#     https://www.apache.org/licenses/LICENSE-2.0\n",
    "#\n",
    "# Unless required by applicable law or agreed to in writing, software\n",
    "# distributed under the License is distributed on an \"AS IS\" BASIS,\n",
    "# WITHOUT WARRANTIES OR CONDITIONS OF ANY KIND, either express or implied.\n",
    "# See the License for the specific language governing permissions and\n",
    "# limitations under the License."
   ]
  },
  {
   "cell_type": "markdown",
   "id": "07b375fb-0b18-47d2-b33d-ca0858cfaf27",
   "metadata": {
    "id": "title:generic,gcp"
   },
   "source": [
    "# Run CCDC over a tiled grid\n",
    "\n",
    "<table align=\"left\">\n",
    "  <td>\n",
    "    <a href=\"https://colab.research.google.com/github/redcastle-resources/lcms-training/blob/main/3-CCDC_and_Scaling_Over_Large_Areas\">\n",
    "      <img src=\"https://cloud.google.com/ml-engine/images/colab-logo-32px.png\" alt=\"Colab logo\"> Run in Colab\n",
    "    </a>\n",
    "  </td>\n",
    "  <td>\n",
    "    <a href=\"https://github.com/redcastle-resources/lcms-training/blob/main/3-CCDC_and_Scaling_Over_Large_Areas\">\n",
    "      <img src=\"https://cloud.google.com/ml-engine/images/github-logo-32px.png\" alt=\"GitHub logo\">\n",
    "      View on GitHub\n",
    "    </a>\n",
    "  </td>\n",
    "  <td>\n",
    "    <a href=\"https://console.cloud.google.com/vertex-ai/workbench/deploy-notebook?download_url=https://github.com/redcastle-resources/lcms-training/blob/main/3-CCDC_and_Scaling_Over_Large_Areas\">\n",
    "      <img src=\"https://lh3.googleusercontent.com/UiNooY4LUgW_oTvpsNhPpQzsstV5W8F7rYgxgGBD85cWJoLmrOzhVs_ksK_vgx40SHs7jCqkTkCk=e14-rj-sc0xffffff-h130-w32\" alt=\"Vertex AI logo\">\n",
    "      Open in Vertex AI Workbench\n",
    "    </a>\n",
    "  </td>\n",
    "</table>\n",
    "<br/><br/><br/>"
   ]
  },
  {
   "cell_type": "markdown",
   "id": "c2767893-1df1-44cb-8964-1e6310f04ada",
   "metadata": {
    "id": "overview:mlops"
   },
   "source": [
    "## Overview\n",
    "\n",
    "\n",
    "This notebook uses Landsat in the Continuous Change Detection and Classification (CCDC) temporal segmentation algorithm over a tiled grid in order to minimize memory errors\n",
    "\n",
    "Learn more about [CCDC](https://www.sciencedirect.com/science/article/abs/pii/S0034425714000248).\n",
    "\n",
    "### Objective\n",
    "\n",
    "In this tutorial, you learn how to create and manipulate CCDC outputs.\n",
    "\n",
    "This tutorial uses the following Google Cloud services:\n",
    "\n",
    "- `Google Earth Engine`\n",
    "\n",
    "The steps performed include:\n",
    "\n",
    "- Create tile mesh grid over a study area\n",
    "- Creating CCDC outputs over the mesh grid\n",
    "- Manipulating EE array image objects to get meaningful data out of CCDC outputs"
   ]
  },
  {
   "cell_type": "code",
   "execution_count": 24,
   "id": "e361ce8d",
   "metadata": {
    "colab": {
     "background_save": true,
     "base_uri": "https://localhost:8080/"
    },
    "id": "26c53654",
    "scrolled": true
   },
   "outputs": [
    {
     "name": "stdout",
     "output_type": "stream",
     "text": [
      "Done\n"
     ]
    }
   ],
   "source": [
    "#Module imports\n",
    "#!python -m pip install geeViz --upgrade\n",
    "try:\n",
    "    import geeViz.getImagesLib as getImagesLib\n",
    "except:\n",
    "    !python -m pip install geeViz\n",
    "    import geeViz.getImagesLib as getImagesLib\n",
    "\n",
    "import geeViz.changeDetectionLib as changeDetectionLib\n",
    "import geeViz.assetManagerLib as aml\n",
    "import geeViz.taskManagerLib as tml\n",
    "import inspect\n",
    "# from IPython.display import IFrame,display, HTML\n",
    "ee = getImagesLib.ee\n",
    "Map = getImagesLib.Map\n",
    "\n",
    "print('Done')"
   ]
  },
  {
   "cell_type": "markdown",
   "id": "f2620476-775a-499e-98c8-084397ba4863",
   "metadata": {},
   "source": [
    "## Before you begin\n",
    "\n",
    "### Set your current URL under `workbench_url`\n",
    "* This will be in your URL/search bar at the top of the browser window you are currently in\n",
    "* It will look something like `https://1234567890122-dot-us-west3.notebooks.googleusercontent.com/`\n",
    "\n",
    "### Set a folder to use for all exports under `export_path_root` \n",
    "* It will be something like `projects/projectID/assets/someFolder`\n",
    "* This folder does not have to already exist. If it does not exist, it will be created"
   ]
  },
  {
   "cell_type": "code",
   "execution_count": 4,
   "id": "1823001d-1f94-452d-a3e4-0967859cf00f",
   "metadata": {},
   "outputs": [
    {
     "name": "stdout",
     "output_type": "stream",
     "text": [
      "Done\n"
     ]
    }
   ],
   "source": [
    "workbench_url = 'https://23dcc4ff89e513fb-dot-us-west3.notebooks.googleusercontent.com/'\n",
    "export_path_root  = 'projects/rcr-gee/assets/lcms-training'\n",
    "\n",
    "print('Done')"
   ]
  },
  {
   "cell_type": "code",
   "execution_count": 6,
   "id": "44215913-56aa-4700-a050-13bf8ca29169",
   "metadata": {},
   "outputs": [
    {
     "name": "stdout",
     "output_type": "stream",
     "text": [
      "Asset projects/rcr-gee/assets/lcms-training/lcms-training_module-3_CCDC already exists\n",
      "Updating permissions for:  projects/rcr-gee/assets/lcms-training/lcms-training_module-3_CCDC\n",
      "['projects/rcr-gee/assets/tiledOutputs-lcms-training-module-4/CCDC_Tile-60000m_ID90-54_yrs1984-2023_jds1-365', 'projects/rcr-gee/assets/tiledOutputs-lcms-training-module-4/CCDC_Tile-60000m_ID91-52_yrs1984-2023_jds1-365', 'projects/rcr-gee/assets/tiledOutputs-lcms-training-module-4/CCDC_Tile-60000m_ID91-53_yrs1984-2023_jds1-365', 'projects/rcr-gee/assets/tiledOutputs-lcms-training-module-4/CCDC_Tile-60000m_ID91-54_yrs1984-2023_jds1-365', 'projects/rcr-gee/assets/tiledOutputs-lcms-training-module-4/CCDC_Tile-60000m_ID92-52_yrs1984-2023_jds1-365', 'projects/rcr-gee/assets/tiledOutputs-lcms-training-module-4/CCDC_Tile-60000m_ID92-53_yrs1984-2023_jds1-365', 'projects/rcr-gee/assets/tiledOutputs-lcms-training-module-4/CCDC_Tile-60000m_ID93-52_yrs1984-2023_jds1-365', 'projects/rcr-gee/assets/tiledOutputs-lcms-training-module-4/CCDC_Tile-60000m_ID93-53_yrs1984-2023_jds1-365', 'projects/rcr-gee/assets/tiledOutputs-lcms-training-module-4/CCDC_Tile-60000m_ID94-52_yrs1984-2023_jds1-365', 'projects/rcr-gee/assets/tiledOutputs-lcms-training-module-4/CCDC_Tile-60000m_ID95-51_yrs1984-2023_jds1-365', 'projects/rcr-gee/assets/tiledOutputs-lcms-training-module-4/CCDC_Tile-60000m_ID95-52_yrs1984-2023_jds1-365', 'projects/rcr-gee/assets/tiledOutputs-lcms-training-module-4/CCDC_Tile-60000m_ID95-53_yrs1984-2023_jds1-365', 'projects/rcr-gee/assets/tiledOutputs-lcms-training-module-4/CCDC_Tile-60000m_ID96-52_yrs1984-2023_jds1-365', 'projects/rcr-gee/assets/tiledOutputs-lcms-training-module-4/CCDC_Tile-60000m_ID96-53_yrs1984-2023_jds1-365']\n",
      "Deleting: projects/rcr-gee/assets/tiledOutputs-lcms-training-module-4/CCDC_Tile-60000m_ID90-54_yrs1984-2023_jds1-365\n",
      "Deleting: projects/rcr-gee/assets/tiledOutputs-lcms-training-module-4/CCDC_Tile-60000m_ID91-52_yrs1984-2023_jds1-365\n",
      "Deleting: projects/rcr-gee/assets/tiledOutputs-lcms-training-module-4/CCDC_Tile-60000m_ID91-53_yrs1984-2023_jds1-365\n",
      "Deleting: projects/rcr-gee/assets/tiledOutputs-lcms-training-module-4/CCDC_Tile-60000m_ID91-54_yrs1984-2023_jds1-365\n",
      "Deleting: projects/rcr-gee/assets/tiledOutputs-lcms-training-module-4/CCDC_Tile-60000m_ID92-52_yrs1984-2023_jds1-365\n",
      "Deleting: projects/rcr-gee/assets/tiledOutputs-lcms-training-module-4/CCDC_Tile-60000m_ID92-53_yrs1984-2023_jds1-365\n",
      "Deleting: projects/rcr-gee/assets/tiledOutputs-lcms-training-module-4/CCDC_Tile-60000m_ID93-52_yrs1984-2023_jds1-365\n",
      "Deleting: projects/rcr-gee/assets/tiledOutputs-lcms-training-module-4/CCDC_Tile-60000m_ID93-53_yrs1984-2023_jds1-365\n",
      "Deleting: projects/rcr-gee/assets/tiledOutputs-lcms-training-module-4/CCDC_Tile-60000m_ID94-52_yrs1984-2023_jds1-365\n",
      "Deleting: projects/rcr-gee/assets/tiledOutputs-lcms-training-module-4/CCDC_Tile-60000m_ID95-51_yrs1984-2023_jds1-365\n",
      "Deleting: projects/rcr-gee/assets/tiledOutputs-lcms-training-module-4/CCDC_Tile-60000m_ID95-52_yrs1984-2023_jds1-365\n",
      "Deleting: projects/rcr-gee/assets/tiledOutputs-lcms-training-module-4/CCDC_Tile-60000m_ID95-53_yrs1984-2023_jds1-365\n",
      "Deleting: projects/rcr-gee/assets/tiledOutputs-lcms-training-module-4/CCDC_Tile-60000m_ID96-52_yrs1984-2023_jds1-365\n",
      "Deleting: projects/rcr-gee/assets/tiledOutputs-lcms-training-module-4/CCDC_Tile-60000m_ID96-53_yrs1984-2023_jds1-365\n"
     ]
    }
   ],
   "source": [
    "# Create folder and a collection and make public\n",
    "\n",
    "export_ccdc_collection = f'{export_path_root}/lcms-training_module-3_CCDC'\n",
    "aml.create_asset(export_ccdc_collection,asset_type = ee.data.ASSET_TYPE_IMAGE_COLL)\n",
    "\n",
    "# Currently geeView within Colab uses a different project to authenticate through, so you may need to make your asset public to view from within Colab\n",
    "aml.updateACL(export_ccdc_collection,writers = [],all_users_can_read = True,readers = [])\n",
    "\n",
    "# aml.batchCopy('projects/rcr-gee/assets/tiledOutputs-lcms-training-module-4',export_ccdc_collection,outType = 'imageCollection')\n",
    "# aml.batchDelete('projects/rcr-gee/assets/tiledOutputs-lcms-training-module-4')\n",
    "# print('Done')"
   ]
  },
  {
   "cell_type": "code",
   "execution_count": 8,
   "id": "774a6527",
   "metadata": {
    "colab": {
     "base_uri": "https://localhost:8080/",
     "height": 668
    },
    "executionInfo": {
     "elapsed": 654,
     "status": "ok",
     "timestamp": 1690239679889,
     "user": {
      "displayName": "Ian Housman",
      "userId": "00382093583884444463"
     },
     "user_tz": 360
    },
    "id": "NjZBHBs3C1Uy",
    "outputId": "fce5e58c-2ef8-4dd1-8bff-6d94dd48558e"
   },
   "outputs": [
    {
     "name": "stdout",
     "output_type": "stream",
     "text": [
      "Adding layer: Example CONUS 2022 LCMS Composite\n",
      "Adding layer: LCMS Composite Tile Geometry\n",
      "Starting webmap\n",
      "Using default refresh token for geeView: /home/jupyter/.config/earthengine/credentials\n",
      "Local web server at: http://localhost:8001/geeView/ already serving.\n",
      "cwd /home/jupyter/lcms-training\n",
      "Workbench Proxy URL: https://23dcc4ff89e513fb-dot-us-west3.notebooks.googleusercontent.com/proxy/8001/geeView/?accessToken=None\n"
     ]
    },
    {
     "data": {
      "text/html": [
       "\n",
       "        <iframe\n",
       "            width=\"100%\"\n",
       "            height=\"525px\"\n",
       "            src=\"https://23dcc4ff89e513fb-dot-us-west3.notebooks.googleusercontent.com/proxy/8001/geeView/?accessToken=None\"\n",
       "            frameborder=\"0\"\n",
       "            allowfullscreen\n",
       "            \n",
       "        ></iframe>\n",
       "        "
      ],
      "text/plain": [
       "<IPython.lib.display.IFrame at 0x7f528e27ebc0>"
      ]
     },
     "metadata": {},
     "output_type": "display_data"
    }
   ],
   "source": [
    "Map.clearMap()\n",
    "Map.proxy_url = workbench_url\n",
    "# First, we'll view the tiles used in the current CONUS LCMS workflow\n",
    "lcms_CONUS_composites = ee.ImageCollection('projects/lcms-tcc-shared/assets/Composites/Composite-Collection-yesL7-1984-2020')\\\n",
    "                                                .filter(ee.Filter.calendarRange(2022,2022,'year'))\n",
    "\n",
    "# Pull the geometry of each tile in the composites\n",
    "lcms_composites_tile_geo = lcms_CONUS_composites.map(lambda f:ee.Feature(f.geometry()).copyProperties(f,['studyAreaName']))\n",
    "\n",
    "# Add the tiles and a composite for reference\n",
    "Map.addLayer(lcms_CONUS_composites.mosaic(),getImagesLib.vizParamsTrue10k,'Example CONUS 2022 LCMS Composite')\n",
    "Map.addLayer(lcms_composites_tile_geo,{},'LCMS Composite Tile Geometry')\n",
    "\n",
    "Map.centerObject(lcms_composites_tile_geo)\n",
    "Map.turnOnInspector()\n",
    "Map.view()"
   ]
  },
  {
   "cell_type": "code",
   "execution_count": 9,
   "id": "8e0d9547",
   "metadata": {
    "colab": {
     "base_uri": "https://localhost:8080/",
     "height": 720
    },
    "executionInfo": {
     "elapsed": 405,
     "status": "ok",
     "timestamp": 1690241047808,
     "user": {
      "displayName": "Ian Housman",
      "userId": "00382093583884444463"
     },
     "user_tz": 360
    },
    "id": "wstpK3iCGOck",
    "outputId": "de19ecd8-e75d-4038-d57b-314e1012efe1"
   },
   "outputs": [
    {
     "name": "stdout",
     "output_type": "stream",
     "text": [
      "Adding layer: Tile Grid 480000m\n",
      "Adding layer: Tile Grid 240000m\n",
      "Adding layer: Tile Grid 120000m\n",
      "Adding layer: Tile Grid 60000m\n",
      "Adding layer: LCMS CONUS Study Area\n",
      "Starting webmap\n",
      "Using default refresh token for geeView: /home/jupyter/.config/earthengine/credentials\n",
      "Local web server at: http://localhost:8001/geeView/ already serving.\n",
      "cwd /home/jupyter/lcms-training\n",
      "Workbench Proxy URL: https://23dcc4ff89e513fb-dot-us-west3.notebooks.googleusercontent.com/proxy/8001/geeView/?accessToken=None\n"
     ]
    },
    {
     "data": {
      "text/html": [
       "\n",
       "        <iframe\n",
       "            width=\"100%\"\n",
       "            height=\"525px\"\n",
       "            src=\"https://23dcc4ff89e513fb-dot-us-west3.notebooks.googleusercontent.com/proxy/8001/geeView/?accessToken=None\"\n",
       "            frameborder=\"0\"\n",
       "            allowfullscreen\n",
       "            \n",
       "        ></iframe>\n",
       "        "
      ],
      "text/plain": [
       "<IPython.lib.display.IFrame at 0x7f528e26a530>"
      ]
     },
     "metadata": {},
     "output_type": "display_data"
    }
   ],
   "source": [
    "Map.clearMap()\n",
    "\n",
    "# Here is an example of how to create a pyramid of tiles at various scales\n",
    "# Generally you would start with the biggest tile possible and work your way down till you stop having memory issues\n",
    "# Currently, LCMS uses 480km tiles (with a 900m buffer) for most processing\n",
    "lcms_CONUS_studyArea = ee.FeatureCollection('projects/lcms-292214/assets/CONUS-Ancillary-Data/conus')\n",
    "lcms_CONUS_projection = lcms_CONUS_composites.first().projection()\n",
    "\n",
    "def getGrid(studyArea,projection,size):\n",
    "  grid = studyArea.geometry().coveringGrid(projection.atScale(size))\n",
    "  Map.addLayer(grid,{},'Tile Grid {}m'.format(size))\n",
    "  return grid\n",
    "\n",
    "grid480= getGrid(lcms_CONUS_studyArea,lcms_CONUS_projection,480000)\n",
    "getGrid(lcms_CONUS_studyArea,lcms_CONUS_projection,240000)\n",
    "getGrid(lcms_CONUS_studyArea,lcms_CONUS_projection,120000)\n",
    "getGrid(lcms_CONUS_studyArea,lcms_CONUS_projection,60000)\n",
    "Map.addLayer(lcms_CONUS_studyArea,{},'LCMS CONUS Study Area')\n",
    "\n",
    "Map.turnOnInspector()\n",
    "Map.view()\n"
   ]
  },
  {
   "cell_type": "code",
   "execution_count": 14,
   "id": "ed0de16c",
   "metadata": {
    "colab": {
     "base_uri": "https://localhost:8080/",
     "height": 703
    },
    "executionInfo": {
     "elapsed": 2095,
     "status": "ok",
     "timestamp": 1690241366219,
     "user": {
      "displayName": "Ian Housman",
      "userId": "00382093583884444463"
     },
     "user_tz": 360
    },
    "id": "vDCOJ6KrLtHv",
    "outputId": "004f960e-91e1-4919-ad16-be462fd2978f"
   },
   "outputs": [
    {
     "name": "stdout",
     "output_type": "stream",
     "text": [
      "Adding layer: Tile -3,-6\n",
      "Adding layer: Tile -4,-6\n",
      "Starting webmap\n",
      "Using default refresh token for geeView: /home/jupyter/.config/earthengine/credentials\n",
      "Local web server at: http://localhost:8001/geeView/ already serving.\n",
      "cwd /home/jupyter/lcms-training\n",
      "Workbench Proxy URL: https://23dcc4ff89e513fb-dot-us-west3.notebooks.googleusercontent.com/proxy/8001/geeView/?accessToken=None\n"
     ]
    },
    {
     "data": {
      "text/html": [
       "\n",
       "        <iframe\n",
       "            width=\"100%\"\n",
       "            height=\"525px\"\n",
       "            src=\"https://23dcc4ff89e513fb-dot-us-west3.notebooks.googleusercontent.com/proxy/8001/geeView/?accessToken=None\"\n",
       "            frameborder=\"0\"\n",
       "            allowfullscreen\n",
       "            \n",
       "        ></iframe>\n",
       "        "
      ],
      "text/plain": [
       "<IPython.lib.display.IFrame at 0x7f528e26a530>"
      ]
     },
     "metadata": {},
     "output_type": "display_data"
    }
   ],
   "source": [
    "Map.clearMap()\n",
    "# As an example of how to use this approach, we first need to get each available tile into a list\n",
    "# Then we would iterate across each tile and get the data and export, etc...\n",
    "ids = grid480.limit(2).aggregate_histogram('system:index').keys().getInfo()\n",
    "for id in ids:\n",
    "  # Get the tile and clip it to the study area and then buffer\n",
    "  tile = grid480.filter(ee.Filter.eq('system:index',id)).geometry().intersection(lcms_CONUS_studyArea,240,lcms_CONUS_projection).buffer(900)\n",
    "  Map.addLayer(tile,{},'Tile {}'.format(id))\n",
    "\n",
    "Map.view()"
   ]
  },
  {
   "cell_type": "code",
   "execution_count": 16,
   "id": "ea941319-6d8a-4505-bd59-52f8934ece2c",
   "metadata": {},
   "outputs": [
    {
     "name": "stdout",
     "output_type": "stream",
     "text": [
      "Adding layer: Tile Grid 60000m\n",
      "Adding layer: Study Area\n",
      "Starting webmap\n",
      "Using default refresh token for geeView: /home/jupyter/.config/earthengine/credentials\n",
      "Local web server at: http://localhost:8001/geeView/ already serving.\n",
      "cwd /home/jupyter/lcms-training\n",
      "Workbench Proxy URL: https://23dcc4ff89e513fb-dot-us-west3.notebooks.googleusercontent.com/proxy/8001/geeView/?accessToken=None\n"
     ]
    },
    {
     "data": {
      "text/html": [
       "\n",
       "        <iframe\n",
       "            width=\"100%\"\n",
       "            height=\"525px\"\n",
       "            src=\"https://23dcc4ff89e513fb-dot-us-west3.notebooks.googleusercontent.com/proxy/8001/geeView/?accessToken=None\"\n",
       "            frameborder=\"0\"\n",
       "            allowfullscreen\n",
       "            \n",
       "        ></iframe>\n",
       "        "
      ],
      "text/plain": [
       "<IPython.lib.display.IFrame at 0x7f528dfa6080>"
      ]
     },
     "metadata": {},
     "output_type": "display_data"
    }
   ],
   "source": [
    "# Since CCDC is the most memory intensive algorith we use, you are the most likely to need to use this approach when running CCDC\n",
    "# The previous CCDC example ran from 2010-2023 and did not run out of memory\n",
    "# If you run it from 1984 to 2023 using just Landsat, you are much more likely to run out of memory\n",
    "\n",
    "Map.clearMap()\n",
    "\n",
    "# First let's set up some Landsat and CCDC parameters\n",
    "\n",
    "#Update the startJulian and endJulian variables to indicate your seasonal\n",
    "#constraints. This supports wrapping for tropics and southern hemisphere.\n",
    "#If using wrapping and the majority of the days occur in the second year, the system:time_start will default\n",
    "#to June 1 of that year.Otherwise, all system:time_starts will default to June 1 of the given year\n",
    "#startJulian: Starting Julian date\n",
    "#endJulian: Ending Julian date\n",
    "startJulian = 1\n",
    "endJulian = 365\n",
    "\n",
    "#Specify start and end years for all analyses\n",
    "#More than a 3 year span should be provided for time series methods to work\n",
    "#well. If providing pre-computed stats for cloudScore and TDOM, this does not\n",
    "#matter\n",
    "startYear = 1984\n",
    "endYear = 2023\n",
    "\n",
    "\n",
    "#Choose whether to include Landat 7\n",
    "#Generally only included when data are limited\n",
    "includeSLCOffL7 = True\n",
    "\n",
    "\n",
    "#Which bands/indices to export\n",
    "#These will not always be used to find breaks - that is specified below in the ccdcParams\n",
    "#Options are: [\"blue\",\"green\",\"red\",\"nir\",\"swir1\",\"swir2\",\"NDVI\",\"NBR\",\"NDMI\",\"NDSI\",\"brightness\",\"greenness\",\"wetness\",\"fourth\",\"fifth\",\"sixth\",\"tcAngleBG\"]\n",
    "#Be sure that any bands in ccdcParams.breakpointBands are in this list\n",
    "exportBands = [\"blue\",\"green\",\"red\",\"nir\",\"swir1\",\"swir2\",\"NDVI\"]\n",
    "\n",
    "###############################################################\n",
    "#CCDC Params\n",
    "# ccdcParams ={\n",
    "#   breakpointBands:['green','red','nir','swir1','swir2','NDVI'],//The name or index of the bands to use for change detection. If unspecified, all bands are used.//Can include: 'blue','green','red','nir','swir1','swir2'\n",
    "#                                                               //'NBR','NDVI','wetness','greenness','brightness','tcAngleBG'\n",
    "#   tmaskBands : None,//['green','swir2'],//The name or index of the bands to use for iterative TMask cloud detection. These are typically the green band and the SWIR2 band. If unspecified, TMask is not used. If specified, 'tmaskBands' must be included in 'breakpointBands'.,\n",
    "#   minObservations: 6,//Factors of minimum number of years to apply new fitting.\n",
    "#   chiSquareProbability: 0.99,//The chi-square probability threshold for change detection in the range of [0, 1],\n",
    "#   minNumOfYearsScaler: 1.33,//Factors of minimum number of years to apply new fitting.,\\\n",
    "#   lambda: 0.002,//Lambda for LASSO regression fitting. If set to 0, regular OLS is used instead of LASSO\n",
    "#   maxIterations : 25000, //Maximum number of runs for LASSO regression convergence. If set to 0, regular OLS is used instead of LASSO.\n",
    "#   dateFormat : 1 //'fractional' (1) is the easiest to work with. It is the time representation to use during fitting: 0 = jDays, 1 = fractional years, 2 = unix time in milliseconds. The start, end and break times for each temporal segment will be encoded this way.\n",
    "\n",
    "# };\n",
    "ccdcParams ={\n",
    "  'breakpointBands':['green','red','nir','swir1','swir2','NDVI'],\n",
    "  'tmaskBands' : None,\n",
    "  'minObservations': 6,\n",
    "  'chiSquareProbability': 0.99,\n",
    "  'minNumOfYearsScaler': 1.33,\n",
    "  'lambda': 0.002,\n",
    "  'maxIterations' : 25000,\n",
    "  'dateFormat' : 1\n",
    "};\n",
    "\n",
    "\n",
    "\n",
    "# We'll use the full Puerto Rico and US Virgin Islands LCMS study area\n",
    "studyArea = ee.FeatureCollection('projects/lcms-292214/assets/R8/PR_USVI/Ancillary/prusvi_boundary_buff2mile')\n",
    "\n",
    "# Set the size (in meters) of the tiles\n",
    "tileSize = 60000\n",
    "\n",
    "# Set the projection\n",
    "crs = getImagesLib.common_projections['NLCD_CONUS']['crs']\n",
    "transform  = getImagesLib.common_projections['NLCD_CONUS']['transform']\n",
    "scale = None\n",
    "projection = ee.Projection(crs,transform)\n",
    "\n",
    "# Get the grid\n",
    "grid = studyArea.geometry().coveringGrid(projection.atScale(tileSize))\n",
    "Map.addLayer(grid,{},'Tile Grid {}m'.format(tileSize))\n",
    "\n",
    "\n",
    "#Remove any extremely high band/index values\n",
    "def removeGT1(img):\n",
    "  lte1 = img.select(['blue','green','nir','swir1','swir2']).lte(1).reduce(ee.Reducer.min());\n",
    "  return img.updateMask(lte1);\n",
    "\n",
    "getImagesLib.vizParamsFalse['min']=0.15\n",
    "getImagesLib.vizParamsFalse['max']=0.8\n",
    "\n",
    "\n",
    "Map.addLayer(studyArea,{},'Study Area')\n",
    "Map.turnOnInspector()\n",
    "Map.centerObject(studyArea)\n",
    "Map.view()"
   ]
  },
  {
   "cell_type": "code",
   "execution_count": 17,
   "id": "42b7cc24-2b12-4144-9d25-e345b2bbb434",
   "metadata": {},
   "outputs": [
    {
     "name": "stdout",
     "output_type": "stream",
     "text": [
      "90,54\n",
      "Get Processed Landsat: \n",
      "Start date: Jan 01 1984 , End date: Dec 31 2023\n",
      "Applying scale factors for C2 L4 data\n",
      "Applying scale factors for C2 L5 data\n",
      "Applying scale factors for C2 L8 data\n",
      "Including All Landsat 7\n",
      "Applying scale factors for C2 L7 data\n",
      "Applying scale factors for C2 L9 data\n",
      "Applying Fmask Cloud Mask\n",
      "Applying Fmask Shadow Mask\n",
      "projects/rcr-gee/assets/lcms-training/lcms-training_module-3_CCDC/CCDC_Tile-60000m_ID90-54_yrs1984-2023_jds1-365\n",
      "pyramiding object: {'.default': 'sample'}\n",
      "CCDC_Tile-60000m_ID90-54_yrs1984-2023_jds1-365 currently exists or is being exported and overwrite = False. Export not started. Set overwite = True if you would like to overwite any existing asset or asset exporting task\n",
      "91,52\n",
      "Get Processed Landsat: \n",
      "Start date: Jan 01 1984 , End date: Dec 31 2023\n",
      "Applying scale factors for C2 L4 data\n",
      "Applying scale factors for C2 L5 data\n",
      "Applying scale factors for C2 L8 data\n",
      "Including All Landsat 7\n",
      "Applying scale factors for C2 L7 data\n",
      "Applying scale factors for C2 L9 data\n",
      "Applying Fmask Cloud Mask\n",
      "Applying Fmask Shadow Mask\n",
      "projects/rcr-gee/assets/lcms-training/lcms-training_module-3_CCDC/CCDC_Tile-60000m_ID91-52_yrs1984-2023_jds1-365\n",
      "pyramiding object: {'.default': 'sample'}\n",
      "CCDC_Tile-60000m_ID91-52_yrs1984-2023_jds1-365 currently exists or is being exported and overwrite = False. Export not started. Set overwite = True if you would like to overwite any existing asset or asset exporting task\n",
      "91,53\n",
      "Get Processed Landsat: \n",
      "Start date: Jan 01 1984 , End date: Dec 31 2023\n",
      "Applying scale factors for C2 L4 data\n",
      "Applying scale factors for C2 L5 data\n",
      "Applying scale factors for C2 L8 data\n",
      "Including All Landsat 7\n",
      "Applying scale factors for C2 L7 data\n",
      "Applying scale factors for C2 L9 data\n",
      "Applying Fmask Cloud Mask\n",
      "Applying Fmask Shadow Mask\n",
      "projects/rcr-gee/assets/lcms-training/lcms-training_module-3_CCDC/CCDC_Tile-60000m_ID91-53_yrs1984-2023_jds1-365\n",
      "pyramiding object: {'.default': 'sample'}\n",
      "CCDC_Tile-60000m_ID91-53_yrs1984-2023_jds1-365 currently exists or is being exported and overwrite = False. Export not started. Set overwite = True if you would like to overwite any existing asset or asset exporting task\n",
      "91,54\n",
      "Get Processed Landsat: \n",
      "Start date: Jan 01 1984 , End date: Dec 31 2023\n",
      "Applying scale factors for C2 L4 data\n",
      "Applying scale factors for C2 L5 data\n",
      "Applying scale factors for C2 L8 data\n",
      "Including All Landsat 7\n",
      "Applying scale factors for C2 L7 data\n",
      "Applying scale factors for C2 L9 data\n",
      "Applying Fmask Cloud Mask\n",
      "Applying Fmask Shadow Mask\n",
      "projects/rcr-gee/assets/lcms-training/lcms-training_module-3_CCDC/CCDC_Tile-60000m_ID91-54_yrs1984-2023_jds1-365\n",
      "pyramiding object: {'.default': 'sample'}\n",
      "CCDC_Tile-60000m_ID91-54_yrs1984-2023_jds1-365 currently exists or is being exported and overwrite = False. Export not started. Set overwite = True if you would like to overwite any existing asset or asset exporting task\n",
      "92,52\n",
      "Get Processed Landsat: \n",
      "Start date: Jan 01 1984 , End date: Dec 31 2023\n",
      "Applying scale factors for C2 L4 data\n",
      "Applying scale factors for C2 L5 data\n",
      "Applying scale factors for C2 L8 data\n",
      "Including All Landsat 7\n",
      "Applying scale factors for C2 L7 data\n",
      "Applying scale factors for C2 L9 data\n",
      "Applying Fmask Cloud Mask\n",
      "Applying Fmask Shadow Mask\n",
      "projects/rcr-gee/assets/lcms-training/lcms-training_module-3_CCDC/CCDC_Tile-60000m_ID92-52_yrs1984-2023_jds1-365\n",
      "pyramiding object: {'.default': 'sample'}\n",
      "CCDC_Tile-60000m_ID92-52_yrs1984-2023_jds1-365 currently exists or is being exported and overwrite = False. Export not started. Set overwite = True if you would like to overwite any existing asset or asset exporting task\n",
      "92,53\n",
      "Get Processed Landsat: \n",
      "Start date: Jan 01 1984 , End date: Dec 31 2023\n",
      "Applying scale factors for C2 L4 data\n",
      "Applying scale factors for C2 L5 data\n",
      "Applying scale factors for C2 L8 data\n",
      "Including All Landsat 7\n",
      "Applying scale factors for C2 L7 data\n",
      "Applying scale factors for C2 L9 data\n",
      "Applying Fmask Cloud Mask\n",
      "Applying Fmask Shadow Mask\n",
      "projects/rcr-gee/assets/lcms-training/lcms-training_module-3_CCDC/CCDC_Tile-60000m_ID92-53_yrs1984-2023_jds1-365\n",
      "pyramiding object: {'.default': 'sample'}\n",
      "CCDC_Tile-60000m_ID92-53_yrs1984-2023_jds1-365 currently exists or is being exported and overwrite = False. Export not started. Set overwite = True if you would like to overwite any existing asset or asset exporting task\n",
      "93,52\n",
      "Get Processed Landsat: \n",
      "Start date: Jan 01 1984 , End date: Dec 31 2023\n",
      "Applying scale factors for C2 L4 data\n",
      "Applying scale factors for C2 L5 data\n",
      "Applying scale factors for C2 L8 data\n",
      "Including All Landsat 7\n",
      "Applying scale factors for C2 L7 data\n",
      "Applying scale factors for C2 L9 data\n",
      "Applying Fmask Cloud Mask\n",
      "Applying Fmask Shadow Mask\n",
      "projects/rcr-gee/assets/lcms-training/lcms-training_module-3_CCDC/CCDC_Tile-60000m_ID93-52_yrs1984-2023_jds1-365\n",
      "pyramiding object: {'.default': 'sample'}\n",
      "CCDC_Tile-60000m_ID93-52_yrs1984-2023_jds1-365 currently exists or is being exported and overwrite = False. Export not started. Set overwite = True if you would like to overwite any existing asset or asset exporting task\n",
      "93,53\n",
      "Get Processed Landsat: \n",
      "Start date: Jan 01 1984 , End date: Dec 31 2023\n",
      "Applying scale factors for C2 L4 data\n",
      "Applying scale factors for C2 L5 data\n",
      "Applying scale factors for C2 L8 data\n",
      "Including All Landsat 7\n",
      "Applying scale factors for C2 L7 data\n",
      "Applying scale factors for C2 L9 data\n",
      "Applying Fmask Cloud Mask\n",
      "Applying Fmask Shadow Mask\n",
      "projects/rcr-gee/assets/lcms-training/lcms-training_module-3_CCDC/CCDC_Tile-60000m_ID93-53_yrs1984-2023_jds1-365\n",
      "pyramiding object: {'.default': 'sample'}\n",
      "CCDC_Tile-60000m_ID93-53_yrs1984-2023_jds1-365 currently exists or is being exported and overwrite = False. Export not started. Set overwite = True if you would like to overwite any existing asset or asset exporting task\n",
      "94,52\n",
      "Get Processed Landsat: \n",
      "Start date: Jan 01 1984 , End date: Dec 31 2023\n",
      "Applying scale factors for C2 L4 data\n",
      "Applying scale factors for C2 L5 data\n",
      "Applying scale factors for C2 L8 data\n",
      "Including All Landsat 7\n",
      "Applying scale factors for C2 L7 data\n",
      "Applying scale factors for C2 L9 data\n",
      "Applying Fmask Cloud Mask\n",
      "Applying Fmask Shadow Mask\n",
      "projects/rcr-gee/assets/lcms-training/lcms-training_module-3_CCDC/CCDC_Tile-60000m_ID94-52_yrs1984-2023_jds1-365\n",
      "pyramiding object: {'.default': 'sample'}\n",
      "CCDC_Tile-60000m_ID94-52_yrs1984-2023_jds1-365 currently exists or is being exported and overwrite = False. Export not started. Set overwite = True if you would like to overwite any existing asset or asset exporting task\n",
      "95,51\n",
      "Get Processed Landsat: \n",
      "Start date: Jan 01 1984 , End date: Dec 31 2023\n",
      "Applying scale factors for C2 L4 data\n",
      "Applying scale factors for C2 L5 data\n",
      "Applying scale factors for C2 L8 data\n",
      "Including All Landsat 7\n",
      "Applying scale factors for C2 L7 data\n",
      "Applying scale factors for C2 L9 data\n",
      "Applying Fmask Cloud Mask\n",
      "Applying Fmask Shadow Mask\n",
      "projects/rcr-gee/assets/lcms-training/lcms-training_module-3_CCDC/CCDC_Tile-60000m_ID95-51_yrs1984-2023_jds1-365\n",
      "pyramiding object: {'.default': 'sample'}\n",
      "CCDC_Tile-60000m_ID95-51_yrs1984-2023_jds1-365 currently exists or is being exported and overwrite = False. Export not started. Set overwite = True if you would like to overwite any existing asset or asset exporting task\n",
      "95,52\n",
      "Get Processed Landsat: \n",
      "Start date: Jan 01 1984 , End date: Dec 31 2023\n",
      "Applying scale factors for C2 L4 data\n",
      "Applying scale factors for C2 L5 data\n",
      "Applying scale factors for C2 L8 data\n",
      "Including All Landsat 7\n",
      "Applying scale factors for C2 L7 data\n",
      "Applying scale factors for C2 L9 data\n",
      "Applying Fmask Cloud Mask\n",
      "Applying Fmask Shadow Mask\n",
      "projects/rcr-gee/assets/lcms-training/lcms-training_module-3_CCDC/CCDC_Tile-60000m_ID95-52_yrs1984-2023_jds1-365\n",
      "pyramiding object: {'.default': 'sample'}\n",
      "CCDC_Tile-60000m_ID95-52_yrs1984-2023_jds1-365 currently exists or is being exported and overwrite = False. Export not started. Set overwite = True if you would like to overwite any existing asset or asset exporting task\n",
      "95,53\n",
      "Get Processed Landsat: \n",
      "Start date: Jan 01 1984 , End date: Dec 31 2023\n",
      "Applying scale factors for C2 L4 data\n",
      "Applying scale factors for C2 L5 data\n",
      "Applying scale factors for C2 L8 data\n",
      "Including All Landsat 7\n",
      "Applying scale factors for C2 L7 data\n",
      "Applying scale factors for C2 L9 data\n",
      "Applying Fmask Cloud Mask\n",
      "Applying Fmask Shadow Mask\n",
      "projects/rcr-gee/assets/lcms-training/lcms-training_module-3_CCDC/CCDC_Tile-60000m_ID95-53_yrs1984-2023_jds1-365\n",
      "pyramiding object: {'.default': 'sample'}\n",
      "CCDC_Tile-60000m_ID95-53_yrs1984-2023_jds1-365 currently exists or is being exported and overwrite = False. Export not started. Set overwite = True if you would like to overwite any existing asset or asset exporting task\n",
      "96,52\n",
      "Get Processed Landsat: \n",
      "Start date: Jan 01 1984 , End date: Dec 31 2023\n",
      "Applying scale factors for C2 L4 data\n",
      "Applying scale factors for C2 L5 data\n",
      "Applying scale factors for C2 L8 data\n",
      "Including All Landsat 7\n",
      "Applying scale factors for C2 L7 data\n",
      "Applying scale factors for C2 L9 data\n",
      "Applying Fmask Cloud Mask\n",
      "Applying Fmask Shadow Mask\n",
      "projects/rcr-gee/assets/lcms-training/lcms-training_module-3_CCDC/CCDC_Tile-60000m_ID96-52_yrs1984-2023_jds1-365\n",
      "pyramiding object: {'.default': 'sample'}\n",
      "CCDC_Tile-60000m_ID96-52_yrs1984-2023_jds1-365 currently exists or is being exported and overwrite = False. Export not started. Set overwite = True if you would like to overwite any existing asset or asset exporting task\n",
      "96,53\n",
      "Get Processed Landsat: \n",
      "Start date: Jan 01 1984 , End date: Dec 31 2023\n",
      "Applying scale factors for C2 L4 data\n",
      "Applying scale factors for C2 L5 data\n",
      "Applying scale factors for C2 L8 data\n",
      "Including All Landsat 7\n",
      "Applying scale factors for C2 L7 data\n",
      "Applying scale factors for C2 L9 data\n",
      "Applying Fmask Cloud Mask\n",
      "Applying Fmask Shadow Mask\n",
      "projects/rcr-gee/assets/lcms-training/lcms-training_module-3_CCDC/CCDC_Tile-60000m_ID96-53_yrs1984-2023_jds1-365\n",
      "pyramiding object: {'.default': 'sample'}\n",
      "CCDC_Tile-60000m_ID96-53_yrs1984-2023_jds1-365 currently exists or is being exported and overwrite = False. Export not started. Set overwite = True if you would like to overwite any existing asset or asset exporting task\n"
     ]
    }
   ],
   "source": [
    "# Now, we'll iterate across each tile and run CCDC\n",
    "\n",
    "\n",
    "# As an example of how to use this approach to create composites\n",
    "ids = grid.aggregate_histogram('system:index').keys().getInfo()\n",
    "for id in ids:\n",
    "    print(id)\n",
    "    # Get the tile and buffer it so there are no missing pixels at tile edges\n",
    "    tile = grid.filter(ee.Filter.eq('system:index',id)).geometry().intersection(studyArea,240,projection).buffer(900)\n",
    "    \n",
    "    \n",
    "    # Map.addLayer(tile,{},'Tile {}'.format(id))\n",
    "    \n",
    "    processedScenes = getImagesLib.getProcessedLandsatScenes(studyArea = tile,startYear = startYear, endYear = endYear,\n",
    "                                                        startJulian = startJulian,endJulian = endJulian,\n",
    "                                                        includeSLCOffL7 = includeSLCOffL7).select(exportBands)\n",
    "    processedScenes = processedScenes.map(removeGT1)\n",
    "    # print(processedScenes.size().getInfo())\n",
    "    \n",
    "    #Set the scene collection in the ccdcParams\n",
    "    ccdcParams['collection'] = processedScenes\n",
    "\n",
    "    #Run CCDC\n",
    "    ccdc = ee.Image(ee.Algorithms.TemporalSegmentation.Ccdc(**ccdcParams))\n",
    "    ccdc = ccdc.set({'startYear':startYear,\n",
    "                     'endYear':endYear,\n",
    "                     'startJulian':startJulian,\n",
    "                     'endJulian':endJulian,\n",
    "                     'TileSize':tileSize,\n",
    "                     'TileID':id})\n",
    "    \n",
    "    \n",
    "    exportName = 'CCDC_Tile-{}m_ID{}_yrs{}-{}_jds{}-{}'.format(tileSize,id.replace(',','-'),startYear,endYear,startJulian,endJulian)\n",
    "    exportPath = f'{export_ccdc_collection}/{exportName}'\n",
    "    print(exportPath)\n",
    "\n",
    "    getImagesLib.exportToAssetWrapper(ccdc,exportName,exportPath,{'.default':'sample'},tile,scale,crs,transform,overwrite=False)\n",
    "\n"
   ]
  },
  {
   "cell_type": "code",
   "execution_count": 67,
   "id": "a514d19b-a902-4858-ae7f-424a346a6306",
   "metadata": {},
   "outputs": [
    {
     "name": "stdout",
     "output_type": "stream",
     "text": [
      "done\n"
     ]
    }
   ],
   "source": [
    "# Can track tasks here or at https://code.earthengine.google.com/tasks\n",
    "# If you'd like to track the tasks, use this:\n",
    "# tml.trackTasks2()\n",
    "\n",
    "# If you want to cancel all running tasks, you can use this function\n",
    "# tml.batchCancel()\n",
    "\n",
    "# If you want to empty the collection of all images\n",
    "# aml.batchDelete(exportPathRoot, type = 'imageCollection')\n",
    "\n",
    "print('done')"
   ]
  },
  {
   "cell_type": "code",
   "execution_count": 25,
   "id": "c5b3d5e1-fb4a-474f-8f77-2db3ca052e2c",
   "metadata": {},
   "outputs": [
    {
     "name": "stdout",
     "output_type": "stream",
     "text": [
      "Adding layer: CCDC Raw Image\n",
      "Starting webmap\n",
      "Using default refresh token for geeView: /home/jupyter/.config/earthengine/credentials\n",
      "Local web server at: http://localhost:8001/geeView/ already serving.\n",
      "cwd /home/jupyter/lcms-training\n",
      "Workbench Proxy URL: https://23dcc4ff89e513fb-dot-us-west3.notebooks.googleusercontent.com/proxy/8001/geeView/?accessToken=None\n"
     ]
    },
    {
     "data": {
      "text/html": [
       "\n",
       "        <iframe\n",
       "            width=\"100%\"\n",
       "            height=\"525px\"\n",
       "            src=\"https://23dcc4ff89e513fb-dot-us-west3.notebooks.googleusercontent.com/proxy/8001/geeView/?accessToken=None\"\n",
       "            frameborder=\"0\"\n",
       "            allowfullscreen\n",
       "            \n",
       "        ></iframe>\n",
       "        "
      ],
      "text/plain": [
       "<IPython.lib.display.IFrame at 0x7f528e0a1600>"
      ]
     },
     "metadata": {},
     "output_type": "display_data"
    }
   ],
   "source": [
    "Map.clearMap()\n",
    "\n",
    "# Bring in the outputs and mosaic them into a single image\n",
    "ccdcImg = ee.ImageCollection(export_ccdc_collection).mosaic()\n",
    "Map.addLayer(ccdcImg,{},'CCDC Raw Image')\n",
    "\n",
    "Map.turnOnInspector()\n",
    "Map.view()"
   ]
  },
  {
   "cell_type": "code",
   "execution_count": 26,
   "id": "437b2ff2-95a9-4bd1-bca0-6748b9b31c59",
   "metadata": {},
   "outputs": [
    {
     "name": "stdout",
     "output_type": "stream",
     "text": [
      "def ccdcChangeDetection(ccdcImg,bandName):\n",
      "  magKeys = ['.*_magnitude']\n",
      "  tBreakKeys = ['tBreak']\n",
      "  changeProbKeys = ['changeProb']\n",
      "  changeProbThresh = 1\n",
      "\n",
      "  #Pull out pieces from CCDC output\n",
      "  magnitudes = ccdcImg.select(magKeys)\n",
      "  breaks = ccdcImg.select(tBreakKeys)\n",
      "  \n",
      "  #Map.addLayer(breaks.arrayLength(0),{'min':1,'max':10});\n",
      "  changeProbs = ccdcImg.select(changeProbKeys)\n",
      "  changeMask = changeProbs.gte(changeProbThresh)\n",
      "  magnitudes = magnitudes.select(bandName + '.*')\n",
      "\n",
      "  \n",
      "  #Sort by magnitude and years\n",
      "  breaksSortedByMag = breaks.arraySort(magnitudes)\n",
      "  magnitudesSortedByMag = magnitudes.arraySort()\n",
      "  changeMaskSortedByMag = changeMask.arraySort(magnitudes)\n",
      "  \n",
      "  breaksSortedByYear = breaks.arraySort()\n",
      "  magnitudesSortedByYear = magnitudes.arraySort(breaks)\n",
      "  changeMaskSortedByYear = changeMask.arraySort(breaks)\n",
      "  \n",
      "  #Get the loss and gain years and magnitudes for each sorting method\n",
      "  highestMagLossYear = breaksSortedByMag.arraySlice(0,0,1).arrayFlatten([['loss_year']])\n",
      "  highestMagLossMag = magnitudesSortedByMag.arraySlice(0,0,1).arrayFlatten([['loss_mag']])\n",
      "  highestMagLossMask = changeMaskSortedByMag.arraySlice(0,0,1).arrayFlatten([['loss_mask']])\n",
      "  \n",
      "  highestMagLossYear = highestMagLossYear.updateMask(highestMagLossMag.lt(0).And(highestMagLossMask))\n",
      "  highestMagLossMag = highestMagLossMag.updateMask(highestMagLossMag.lt(0).And(highestMagLossMask))\n",
      "  \n",
      "  highestMagGainYear = breaksSortedByMag.arraySlice(0,-1,None).arrayFlatten([['gain_year']])\n",
      "  highestMagGainMag = magnitudesSortedByMag.arraySlice(0,-1,None).arrayFlatten([['gain_mag']])\n",
      "  highestMagGainMask = changeMaskSortedByMag.arraySlice(0,-1,None).arrayFlatten([['gain_mask']]);\n",
      "  \n",
      "  highestMagGainYear = highestMagGainYear.updateMask(highestMagGainMag.gt(0).And(highestMagGainMask));\n",
      "  highestMagGainMag = highestMagGainMag.updateMask(highestMagGainMag.gt(0).And(highestMagGainMask));\n",
      "  \n",
      "\n",
      "\n",
      "\n",
      "  mostRecentLossYear = breaksSortedByYear.arrayMask(magnitudesSortedByYear.lt(0)).arrayPad([1]).arraySlice(0,-1,None).arrayFlatten([['loss_year']]);\n",
      "  mostRecentLossMag = magnitudesSortedByYear.arrayMask(magnitudesSortedByYear.lt(0)).arrayPad([1]).arraySlice(0,-1,None).arrayFlatten([['loss_mag']]);\n",
      "  mostRecentLossMask = changeMaskSortedByYear.arrayMask(magnitudesSortedByYear.lt(0)).arrayPad([1]).arraySlice(0,-1,None).arrayFlatten([['loss_mask']]);\n",
      "  \n",
      "  mostRecentLossYear = mostRecentLossYear.updateMask(mostRecentLossMag.lt(0).And(mostRecentLossMask));\n",
      "  mostRecentLossMag = mostRecentLossMag.updateMask(mostRecentLossMag.lt(0).And(mostRecentLossMask));\n",
      " \n",
      "  mostRecentGainYear = breaksSortedByYear.arrayMask(magnitudesSortedByYear.gt(0)).arrayPad([1]).arraySlice(0,-1,None).arrayFlatten([['gain_year']]);\n",
      "  mostRecentGainMag = magnitudesSortedByYear.arrayMask(magnitudesSortedByYear.gt(0)).arrayPad([1]).arraySlice(0,-1,None).arrayFlatten([['gain_mag']]);\n",
      "  mostRecentGainMask = changeMaskSortedByYear.arrayMask(magnitudesSortedByYear.gt(0)).arrayPad([1]).arraySlice(0,-1,None).arrayFlatten([['gain_mask']]);\n",
      "  \n",
      "  mostRecentGainYear = mostRecentGainYear.updateMask(mostRecentGainMag.gt(0).And(mostRecentGainMask))\n",
      "  mostRecentGainMag = mostRecentGainMag.updateMask(mostRecentGainMag.gt(0).And(mostRecentGainMask))\n",
      "  \n",
      "  return {'mostRecent':{\n",
      "    'loss':{'year':mostRecentLossYear,\n",
      "          'mag': mostRecentLossMag\n",
      "        },\n",
      "    'gain':{'year':mostRecentGainYear,\n",
      "          'mag': mostRecentGainMag\n",
      "        }\n",
      "    },\n",
      "    'highestMag':{\n",
      "    'loss':{'year':highestMagLossYear,\n",
      "          'mag': highestMagLossMag\n",
      "        },\n",
      "    'gain':{'year':highestMagGainYear,\n",
      "          'mag': highestMagGainMag\n",
      "        }\n",
      "    }    \n",
      "  }\n",
      "\n"
     ]
    }
   ],
   "source": [
    "# We will need to manipulate the array image to get meaningful data such as synthetic composites and harmonic coefficients\n",
    "# While CCDC is not as good at change detection as LandTrendr, the breaks can be used for detecting changes in phenology\n",
    "print(inspect.getsource(changeDetectionLib.ccdcChangeDetection))"
   ]
  },
  {
   "cell_type": "code",
   "execution_count": 27,
   "id": "2dc6b4ac-97b5-4550-be88-98ade0cb226b",
   "metadata": {},
   "outputs": [
    {
     "name": "stdout",
     "output_type": "stream",
     "text": [
      "Adding layer: Loss Year\n",
      "Adding layer: Loss Mag\n",
      "Adding layer: Gain Year\n",
      "Adding layer: Gain Mag\n",
      "Starting webmap\n",
      "Using default refresh token for geeView: /home/jupyter/.config/earthengine/credentials\n",
      "Local web server at: http://localhost:8001/geeView/ already serving.\n",
      "cwd /home/jupyter/lcms-training\n",
      "Workbench Proxy URL: https://23dcc4ff89e513fb-dot-us-west3.notebooks.googleusercontent.com/proxy/8001/geeView/?accessToken=None\n"
     ]
    },
    {
     "data": {
      "text/html": [
       "\n",
       "        <iframe\n",
       "            width=\"100%\"\n",
       "            height=\"525px\"\n",
       "            src=\"https://23dcc4ff89e513fb-dot-us-west3.notebooks.googleusercontent.com/proxy/8001/geeView/?accessToken=None\"\n",
       "            frameborder=\"0\"\n",
       "            allowfullscreen\n",
       "            \n",
       "        ></iframe>\n",
       "        "
      ],
      "text/plain": [
       "<IPython.lib.display.IFrame at 0x7f528df979a0>"
      ]
     },
     "metadata": {},
     "output_type": "display_data"
    }
   ],
   "source": [
    "\n",
    "\n",
    "\n",
    "#Specify which band to use for loss and gain.\n",
    "#This is most important for the loss and gain magnitude since the year of change will be the same for all years\n",
    "changeDetectionBandName = 'NDVI'\n",
    "\n",
    "# Choose whether to show the most recent ('mostRecent') or highest magnitude ('highestMag') CCDC break\n",
    "sortingMethod = 'mostRecent'\n",
    "####################################################################################################\n",
    "Map.clearMap()\n",
    "#We will not look at more useful ways of visualizing CCDC outputs\n",
    "#First, we will extract the change years and magnitude\n",
    "changeObj = changeDetectionLib.ccdcChangeDetection(ccdcImg,changeDetectionBandName);\n",
    "Map.addLayer(changeObj[sortingMethod]['loss']['year'],{'min':startYear,'max':endYear,'palette':changeDetectionLib.lossYearPalette},'Loss Year')\n",
    "Map.addLayer(changeObj[sortingMethod]['loss']['mag'],{'min':-0.5,'max':-0.1,'palette':changeDetectionLib.lossMagPalette},'Loss Mag',False);\n",
    "Map.addLayer(changeObj[sortingMethod]['gain']['year'],{'min':startYear,'max':endYear,'palette':changeDetectionLib.gainYearPalette},'Gain Year');\n",
    "Map.addLayer(changeObj[sortingMethod]['gain']['mag'],{'min':0.05,'max':0.2,'palette':changeDetectionLib.gainMagPalette},'Gain Mag',False);\n",
    "\n",
    "Map.turnOnInspector()\n",
    "Map.view()\n",
    "#Double click on map to see raw years of loss and gain breaks\n",
    "#Notice as you zoom in the layers change since GEE is processing outputs at a given pyramid level"
   ]
  },
  {
   "cell_type": "code",
   "execution_count": 29,
   "id": "2ed3af68-0b2e-420c-aeea-6abff0cdbbd3",
   "metadata": {},
   "outputs": [
    {
     "name": "stdout",
     "output_type": "stream",
     "text": [
      "def getCCDCSegCoeffs(timeImg,ccdcImg,fillGaps):\n",
      "  coeffKeys = ['.*_coefs']\n",
      "  tStartKeys = ['tStart']\n",
      "  tEndKeys = ['tEnd']\n",
      "  tBreakKeys = ['tBreak']\n",
      "  \n",
      "  #Get coeffs and find how many bands have coeffs\n",
      "  coeffs = ccdcImg.select(coeffKeys)\n",
      "  bns = coeffs.bandNames()\n",
      "  nBns = bns.length()\n",
      "  harmonicTag = ee.List(['INTP','SLP','COS1','SIN1','COS2','SIN2','COS3','SIN3'])\n",
      "\n",
      "   \n",
      "  #Get coeffs, start and end times\n",
      "  coeffs = coeffs.toArray(2)\n",
      "  tStarts = ccdcImg.select(tStartKeys)\n",
      "  tEnds = ccdcImg.select(tEndKeys)\n",
      "  tBreaks = ccdcImg.select(tBreakKeys)\n",
      "  \n",
      "  #If filling to the tBreak, use this\n",
      "  tStarts = ee.Image(ee.Algorithms.If(fillGaps,tStarts.arraySlice(0,0,1).arrayCat(tBreaks.arraySlice(0,0,-1),0),tStarts))\n",
      "  tEnds = ee.Image(ee.Algorithms.If(fillGaps,tBreaks.arraySlice(0,0,-1).arrayCat(tEnds.arraySlice(0,-1,None),0),tEnds))\n",
      "  \n",
      "  \n",
      "  #Set up a mask for segments that the time band intersects\n",
      "  tMask = tStarts.lt(timeImg).And(tEnds.gte(timeImg)).arrayRepeat(1,1).arrayRepeat(2,1)\n",
      "  coeffs = coeffs.arrayMask(tMask).arrayProject([2,1]).arrayTranspose(1,0).arrayFlatten([bns,harmonicTag])\n",
      "  \n",
      "  #If time band doesn't intersect any segments, set it to null\n",
      "  coeffs = coeffs.updateMask(coeffs.reduce(ee.Reducer.max()).neq(0))\n",
      "  \n",
      "  return timeImg.addBands(coeffs)\n",
      "\n"
     ]
    }
   ],
   "source": [
    "# We will need to manipulate the array image to get meaningful data such as synthetic composites and harmonic coefficients\n",
    "# This function is useful to get the harmonic model coefficient values for a given date image \n",
    "print(inspect.getsource(changeDetectionLib.getCCDCSegCoeffs) )"
   ]
  },
  {
   "cell_type": "code",
   "execution_count": 28,
   "id": "9cd245c7-531b-4a22-99d9-819f2c44a798",
   "metadata": {},
   "outputs": [
    {
     "name": "stdout",
     "output_type": "stream",
     "text": [
      "def simpleCCDCPrediction(img,timeBandName,whichHarmonics,whichBands):\n",
      "  #Unit of each harmonic (1 cycle)\n",
      "  omega = ee.Number(2.0).multiply(math.pi)\n",
      "\n",
      "  #Pull out the time band in the yyyy.ff format\n",
      "  tBand = img.select([timeBandName])\n",
      "  \n",
      "  #Pull out the intercepts and slopes\n",
      "  intercepts = img.select(['.*_INTP'])\n",
      "  slopes = img.select(['.*_SLP']).multiply(tBand)\n",
      "  \n",
      "  #Set up the omega for each harmonic for the given time band\n",
      "  tOmega = ee.Image(whichHarmonics).multiply(omega).multiply(tBand)\n",
      "  cosHarm = tOmega.cos()\n",
      "  sinHarm = tOmega.sin()\n",
      "  \n",
      "  #Set up which harmonics to select\n",
      "\n",
      "  harmSelect = ee.List(whichHarmonics).map(lambda n: ee.String('.*').cat(ee.Number(n).format()))\n",
      "  \n",
      "  #Select the harmonics specified\n",
      "  sins = img.select(['.*_SIN.*'])\n",
      "  sins = sins.select(harmSelect)\n",
      "  coss = img.select(['.*_COS.*'])\n",
      "  coss = coss.select(harmSelect)\n",
      "  \n",
      "  #Set up final output band names\n",
      "  outBns = ee.List(whichBands).map(lambda bn: ee.String(bn).cat('_predicted'))\n",
      "  \n",
      "  #Iterate across each band and predict value\n",
      "  def predHelper(bn):\n",
      "    bn = ee.String(bn);\n",
      "    return ee.Image([intercepts.select(bn.cat('_.*')),\n",
      "                    slopes.select(bn.cat('_.*')),\n",
      "                    sins.select(bn.cat('_.*')).multiply(sinHarm),\n",
      "                    coss.select(bn.cat('_.*')).multiply(cosHarm)\n",
      "                    ]).reduce(ee.Reducer.sum());\n",
      "  predicted = ee.ImageCollection(list(map(predHelper,whichBands))).toBands().rename(outBns)\n",
      "  return img.addBands(predicted)\n",
      "\n"
     ]
    }
   ],
   "source": [
    "# We will need to manipulate the array image to get meaningful data such as synthetic composites and harmonic coefficients\n",
    "# This function is useful to get the predicted values for a given date\n",
    "print(inspect.getsource(changeDetectionLib.simpleCCDCPrediction) )"
   ]
  },
  {
   "cell_type": "code",
   "execution_count": 30,
   "id": "5c34542c-bdaa-49d0-a112-b3a492ca4ec4",
   "metadata": {},
   "outputs": [
    {
     "name": "stdout",
     "output_type": "stream",
     "text": [
      "Adding layer: Fitted CCDC\n",
      "Adding layer: Synthetic Composite\n",
      "Starting webmap\n",
      "Using default refresh token for geeView: /home/jupyter/.config/earthengine/credentials\n",
      "Local web server at: http://localhost:8001/geeView/ already serving.\n",
      "cwd /home/jupyter/lcms-training\n",
      "Workbench Proxy URL: https://23dcc4ff89e513fb-dot-us-west3.notebooks.googleusercontent.com/proxy/8001/geeView/?accessToken=None\n"
     ]
    },
    {
     "data": {
      "text/html": [
       "\n",
       "        <iframe\n",
       "            width=\"100%\"\n",
       "            height=\"525px\"\n",
       "            src=\"https://23dcc4ff89e513fb-dot-us-west3.notebooks.googleusercontent.com/proxy/8001/geeView/?accessToken=None\"\n",
       "            frameborder=\"0\"\n",
       "            allowfullscreen\n",
       "            \n",
       "        ></iframe>\n",
       "        "
      ],
      "text/plain": [
       "<IPython.lib.display.IFrame at 0x7f528db04970>"
      ]
     },
     "metadata": {},
     "output_type": "display_data"
    }
   ],
   "source": [
    "# Same workflow follows as with an untiled CCDC output\n",
    "Map.clearMap()\n",
    "#Specify which harmonics to use when predicting the CCDC model\n",
    "#CCDC exports the first 3 harmonics (1 cycle/yr, 2 cycles/yr, and 3 cycles/yr)\n",
    "#If you only want to see yearly patterns, specify [1]\n",
    "#If you would like a tighter fit in the predicted value, include the second or third harmonic as well [1,2,3]\n",
    "whichHarmonics = [1,2,3]\n",
    "\n",
    "#Whether to fill gaps between segments' end year and the subsequent start year to the break date\n",
    "fillGaps = False\n",
    "\n",
    "#Apply the CCDC harmonic model across a time series\n",
    "#First get a time series of time images with a time step of 0.1 of a year\n",
    "yearImages = changeDetectionLib.getTimeImageCollection(startYear,endYear,startJulian,endJulian,0.1);\n",
    "\n",
    "#Then predict the CCDC models\n",
    "fitted = changeDetectionLib.predictCCDC(ccdcImg,yearImages,fillGaps,whichHarmonics)\n",
    "Map.addLayer(fitted.select(['.*_predicted']),{'bands':'swir1_predicted,nir_predicted,red_predicted','min':0.05,'max':0.6},'Fitted CCDC',True);\n",
    "\n",
    "\n",
    "# Synthetic composites visualizing\n",
    "# Take common false color composite bands and visualize them for the next to the last year\n",
    "\n",
    "# First get the bands of predicted bands and then split off the name\n",
    "fittedBns = fitted.select(['.*_predicted']).first().bandNames()\n",
    "bns = fittedBns.map(lambda bn: ee.String(bn).split('_').get(0))\n",
    "\n",
    "# Filter down to the next to the last year and a summer date range\n",
    "syntheticComposites = fitted.select(fittedBns,bns)\\\n",
    "    .filter(ee.Filter.calendarRange(endYear-1,endYear-1,'year'))\\\n",
    "    .filter(ee.Filter.calendarRange(60,80)).first()\n",
    "\n",
    "# Visualize output as you would a composite\n",
    "Map.addLayer(syntheticComposites,getImagesLib.vizParamsFalse,'Synthetic Composite')\n",
    "\n",
    "Map.turnOnInspector()\n",
    "Map.view()\n"
   ]
  },
  {
   "cell_type": "code",
   "execution_count": null,
   "id": "b7abb570-dfbf-44cc-adad-a41d96db1f1b",
   "metadata": {},
   "outputs": [],
   "source": []
  }
 ],
 "metadata": {
  "colab": {
   "name": "",
   "version": ""
  },
  "environment": {
   "kernel": "python3",
   "name": "common-cpu.m109",
   "type": "gcloud",
   "uri": "gcr.io/deeplearning-platform-release/base-cpu:m109"
  },
  "kernelspec": {
   "display_name": "Python 3",
   "language": "python",
   "name": "python3"
  },
  "language_info": {
   "codemirror_mode": {
    "name": "ipython",
    "version": 3
   },
   "file_extension": ".py",
   "mimetype": "text/x-python",
   "name": "python",
   "nbconvert_exporter": "python",
   "pygments_lexer": "ipython3",
   "version": "3.10.11"
  },
  "toc-autonumbering": false,
  "toc-showcode": false,
  "toc-showmarkdowntxt": false
 },
 "nbformat": 4,
 "nbformat_minor": 5
}
