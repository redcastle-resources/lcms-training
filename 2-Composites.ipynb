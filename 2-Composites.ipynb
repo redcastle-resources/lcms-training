{
 "cells": [
  {
   "cell_type": "code",
   "execution_count": 25,
   "id": "e08822ec",
   "metadata": {},
   "outputs": [],
   "source": [
    "# Copyright 2023 Google LLC\n",
    "#\n",
    "# Licensed under the Apache License, Version 2.0 (the \"License\");\n",
    "# you may not use this file except in compliance with the License.\n",
    "# You may obtain a copy of the License at\n",
    "#\n",
    "#     https://www.apache.org/licenses/LICENSE-2.0\n",
    "#\n",
    "# Unless required by applicable law or agreed to in writing, software\n",
    "# distributed under the License is distributed on an \"AS IS\" BASIS,\n",
    "# WITHOUT WARRANTIES OR CONDITIONS OF ANY KIND, either express or implied.\n",
    "# See the License for the specific language governing permissions and\n",
    "# limitations under the License."
   ]
  },
  {
   "cell_type": "markdown",
   "id": "a0352970-bb90-40a7-a090-62a5df7520d6",
   "metadata": {
    "id": "title:generic,gcp"
   },
   "source": [
    "# Module 2: Create Landsat and Sentinel 2 Annual Composites\n",
    "\n",
    "<table align=\"left\">\n",
    "  <td>\n",
    "    <a href=\"https://colab.research.google.com/github/redcastle-resources/lcms-training/blob/main/2-Composites.ipynb\">\n",
    "      <img src=\"https://cloud.google.com/ml-engine/images/colab-logo-32px.png\" alt=\"Colab logo\"> Run in Colab\n",
    "    </a>\n",
    "  </td>\n",
    "  <td>\n",
    "    <a href=\"https://github.com/redcastle-resources/lcms-training/blob/main/2-Composites.ipynb\">\n",
    "      <img src=\"https://cloud.google.com/ml-engine/images/github-logo-32px.png\" alt=\"GitHub logo\">\n",
    "      View on GitHub\n",
    "    </a>\n",
    "  </td>\n",
    "  <td>\n",
    "    <a href=\"https://console.cloud.google.com/vertex-ai/workbench/deploy-notebook?download_url=https://github.com/redcastle-resources/lcms-training/blob/main/2-Composites.ipynb\">\n",
    "      <img src=\"https://lh3.googleusercontent.com/UiNooY4LUgW_oTvpsNhPpQzsstV5W8F7rYgxgGBD85cWJoLmrOzhVs_ksK_vgx40SHs7jCqkTkCk=e14-rj-sc0xffffff-h130-w32\" alt=\"Vertex AI logo\">\n",
    "      Open in Vertex AI Workbench\n",
    "    </a>\n",
    "  </td>\n",
    "</table>\n",
    "<br/><br/><br/>"
   ]
  },
  {
   "cell_type": "markdown",
   "id": "9084f3b4-f1cb-4d16-a63e-e05c07766a44",
   "metadata": {
    "id": "overview:mlops",
    "jp-MarkdownHeadingCollapsed": true,
    "tags": []
   },
   "source": [
    "## Overview\n",
    "\n",
    "\n",
    "This notebook introduces the compositing methods used by the USDA Forest Service Landscape Change Monitoring System (LCMS). It then produces composites for a small LCMS study area. The composites will be used to generate time series of data that the LCMS modeling algorithms will use to predict areas of land use and land cover change, in the following modules. \n",
    "\n",
    "**Learn more about [LCMS](https://apps.fs.usda.gov/lcms-viewer/home.html).**\n",
    "\n",
    "\n",
    "All composites are created and visualized using the `geeViz` Python package. `geeViz` provides command-line tools for processing, analyzing, and visualizing Google Earth Engine (GEE) code. \n",
    "\n",
    "**Learn more about [geeViz](https://github.com/gee-community/geeViz/tree/master).**\n",
    "\n",
    "\n",
    "### Objective\n",
    "\n",
    "##### This tutorial uses the following Google Cloud services:\n",
    "\n",
    "- `Google Earth Engine`\n",
    "- `Google Cloud Storage`\n",
    "\n",
    "##### The steps performed include:\n",
    "\n",
    "- Install necessary packages\n",
    "- Test various parameters to create composites\n",
    "    - Run with default parameters\n",
    "    - Include Landsat 7 in image composites\n",
    "    - Set cloud masking settings\n",
    "    - Set cloud shadow masking settings\n",
    "- Create and export composite to asset"
   ]
  },
  {
   "cell_type": "markdown",
   "id": "74409e62-50f8-42db-a4cf-f6d6af3a7904",
   "metadata": {},
   "source": [
    "# Before you begin\n",
    "\n",
    "### Set your current URL under `workbench_url`\n",
    "This gives the Map Viewer a url in which to host the viewer we will be generating. \n",
    "* This will be in your URL/search bar at the top of the browser window you are currently in\n",
    "* It will look something like `https://1234567890122-dot-us-west3.notebooks.googleusercontent.com/` (See the image below)\n",
    "\n",
    "![workspace url](img/workspace-url.png)\n",
    "\n",
    "### Set a folder to use for all exports under `export_path_root` \n",
    "This folder should be an assets folder in an existing GEE project. \n",
    "* It will be something like `projects/projectID/assets/someFolder`\n",
    "* This folder does not have to already exist. If it does not exist, it will be created"
   ]
  },
  {
   "cell_type": "code",
   "execution_count": 2,
   "id": "88dccdc9-d0e9-4d90-b521-d6f8bd7aad86",
   "metadata": {
    "colab": {
     "base_uri": "https://localhost:8080/"
    },
    "executionInfo": {
     "elapsed": 54452,
     "status": "ok",
     "timestamp": 1690298072312,
     "user": {
      "displayName": "Ian Housman",
      "userId": "00382093583884444463"
     },
     "user_tz": 360
    },
    "id": "ce3c6688",
    "outputId": "060bebcf-6f29-4b32-b739-93ea00af97ff"
   },
   "outputs": [
    {
     "name": "stdout",
     "output_type": "stream",
     "text": [
      "Done\n"
     ]
    }
   ],
   "source": [
    "workbench_url = 'https://3b40cb8a2076f1b6-dot-us-west3.notebooks.googleusercontent.com/'\n",
    "export_path_root  = 'projects/rcr-gee/assets/lcms-training'\n",
    "\n",
    "print('Done')"
   ]
  },
  {
   "cell_type": "markdown",
   "id": "1340aa5d-04ac-4fa1-835a-819123faa24e",
   "metadata": {},
   "source": [
    "# Installation\n",
    "First, install necessary Python packages. Uncomment the first line to upgrade geeViz if necessary."
   ]
  },
  {
   "cell_type": "code",
   "execution_count": 3,
   "id": "26114ee9-f022-4f27-ae49-ca1575dfaadc",
   "metadata": {
    "colab": {
     "base_uri": "https://localhost:8080/"
    },
    "executionInfo": {
     "elapsed": 54452,
     "status": "ok",
     "timestamp": 1690298072312,
     "user": {
      "displayName": "Ian Housman",
      "userId": "00382093583884444463"
     },
     "user_tz": 360
    },
    "id": "ce3c6688",
    "outputId": "060bebcf-6f29-4b32-b739-93ea00af97ff"
   },
   "outputs": [
    {
     "name": "stdout",
     "output_type": "stream",
     "text": [
      "Initializing GEE\n",
      "Successfully initialized\n",
      "geeViz package folder: /opt/conda/lib/python3.10/site-packages/geeViz\n",
      "Done\n"
     ]
    }
   ],
   "source": [
    "#Module imports\n",
    "#!python -m pip install geeViz --upgrade\n",
    "try:\n",
    "    import geeViz.getImagesLib as getImagesLib\n",
    "except:\n",
    "    !python -m pip install geeViz\n",
    "    import geeViz.getImagesLib as getImagesLib\n",
    "\n",
    "import geeViz.assetManagerLib as aml\n",
    "import geeViz.taskManagerLib as tml\n",
    "# from IPython.display import IFrame,display, HTML\n",
    "ee = getImagesLib.ee\n",
    "Map = getImagesLib.Map\n",
    "\n",
    "print('Done')"
   ]
  },
  {
   "cell_type": "markdown",
   "id": "5d215297-e84e-4064-a61f-1366ed2ac869",
   "metadata": {
    "tags": []
   },
   "source": [
    "## Set up your work environment\n",
    "\n",
    "Create a folder in your export path where you will export the composites. In addition, create a blank image collection where your composites will live.\n",
    "\n",
    "Currently, when running within Colab, geeView uses a different project to authenticate through, so you may need to make your asset public to view from within Colab."
   ]
  },
  {
   "cell_type": "code",
   "execution_count": 4,
   "id": "37227a92-be20-4b2e-b962-4788490d32d8",
   "metadata": {
    "tags": []
   },
   "outputs": [
    {
     "name": "stdout",
     "output_type": "stream",
     "text": [
      "Found the following sub directories:  ['lcms-training', 'lcms-training_module-2_composites']\n",
      "Will attempt to create them if they do not exist\n",
      "Asset projects/rcr-gee/assets/lcms-training already exists\n",
      "Asset projects/rcr-gee/assets/lcms-training/lcms-training_module-2_composites already exists\n",
      "Updating permissions for:  projects/rcr-gee/assets/lcms-training/lcms-training_module-2_composites\n"
     ]
    }
   ],
   "source": [
    "# Create folder \n",
    "export_composite_collection = f'{export_path_root}/lcms-training_module-2_composites'\n",
    "\n",
    "# Create a collection\n",
    "aml.create_asset(export_composite_collection,asset_type = ee.data.ASSET_TYPE_IMAGE_COLL)\n",
    "\n",
    "# Make it public\n",
    "aml.updateACL(export_composite_collection,writers = [],all_users_can_read = True,readers = [])\n",
    "\n",
    "\n",
    "# aml.batchCopy('projects/rcr-gee/assets/composites-lcms-training-module-1',export_composite_collection,outType = 'imageCollection')\n",
    "# # aml.batchDelete('projects/rcr-gee/assets/composites-lcms-training-module-1')\n",
    "# print('Done')"
   ]
  },
  {
   "cell_type": "markdown",
   "id": "90c54b52-c719-4a3d-a144-3bc9bc609f1a",
   "metadata": {},
   "source": [
    "## Example 1: Default parameters\n",
    "\n",
    "Over the course of the examples in this module, you'll become more familiar with the parameters used to create image composites. The main function you will use is `getLandsatAndSentinel2HybridWrapper`. \n",
    "\n",
    "For more documentation of the parameters in the function, refer to the [getCombinedLandsatSentinel2Wrapper](https://github.com/gee-community/geeViz/blob/master/examples/getCombinedLandsatSentinel2Wrapper.py) example in the geeViz documentation.\n",
    "\n",
    "You can view the [source code](https://github.com/gee-community/geeViz/blob/bd75d38c2043fc3af795c9c35ae769c71c00f56a/getImagesLib.py#L3280) for this function on the geeViz GitHub.\n",
    "\n",
    "### Set up map\n",
    "The first thing you'll do is set up the map viewer where you'll inspect the outputs you generate. You won't view the map until later. "
   ]
  },
  {
   "cell_type": "code",
   "execution_count": 5,
   "id": "172b29b2-820d-4fac-a37e-2f4a6e457610",
   "metadata": {
    "colab": {
     "base_uri": "https://localhost:8080/",
     "height": 1000
    },
    "executionInfo": {
     "elapsed": 3258,
     "status": "ok",
     "timestamp": 1690298168455,
     "user": {
      "displayName": "Ian Housman",
      "userId": "00382093583884444463"
     },
     "user_tz": 360
    },
    "id": "d4974e71",
    "outputId": "c5b14c5b-c86a-497c-f764-03b8871ef97a"
   },
   "outputs": [],
   "source": [
    "# Set proxy url\n",
    "Map.proxy_url = workbench_url\n",
    "\n",
    "#First clear the map in case it has been populated with layers/commands earlier\n",
    "Map.clearMap()"
   ]
  },
  {
   "cell_type": "markdown",
   "id": "c31bf625-bb89-4800-84d0-9d9884486ae8",
   "metadata": {
    "tags": []
   },
   "source": [
    "### Define parameters\n",
    "\n",
    "#### The first parameters you define will set the **area** and **time range** over which you want to compute annual composites.\n",
    "\n",
    "* ```studyArea``` - a featureCollection, feature or geometry to specify the bounds of our area of interest\n",
    "\n",
    "* ```startJulian``` - the first julian date to include in annual composites, used to specify a particular season if desired\n",
    "* ```endJulian``` - the last julian date to include in annual composites, used to specify a particular season if desired\n",
    "\n",
    "    This supports wrapping for tropics and southern hemisphere. If you are using wrapping and the majority of the days occur in the second year, the system:time_start will default to June 1 of that year. Otherwise, all system:time_starts will default to June 1 of the given year.\n",
    "\n",
    "* ```startYear``` - the first year for which to compute annual composites\n",
    "* ```endYear``` - the last year for which to compute annual composites\n",
    "\n",
    "    You should provide more than a 3 year span should be provided for time series methods to work well. If you are providing pre-computed stats for cloud masking using cloudScore and TDOM, this does not matter. "
   ]
  },
  {
   "cell_type": "code",
   "execution_count": 6,
   "id": "4503f4be-8950-4b52-bd5a-3d1242e1a094",
   "metadata": {
    "colab": {
     "base_uri": "https://localhost:8080/",
     "height": 1000
    },
    "executionInfo": {
     "elapsed": 3258,
     "status": "ok",
     "timestamp": 1690298168455,
     "user": {
      "displayName": "Ian Housman",
      "userId": "00382093583884444463"
     },
     "user_tz": 360
    },
    "id": "d4974e71",
    "outputId": "c5b14c5b-c86a-497c-f764-03b8871ef97a"
   },
   "outputs": [],
   "source": [
    "# Define user parameters:\n",
    "\n",
    "# Specify study area\n",
    "studyArea = ee.FeatureCollection('projects/lcms-292214/assets/R8/PR_USVI/Ancillary/prusvi_boundary_buff2mile')#.geometry().bounds(50,'EPSG:5070')\n",
    "## Raw geometry for polygon provided below\n",
    "# studyArea = ee.Geometry.Polygon(\n",
    "#         [[[-66.29465453845745, 18.491553939984392],\n",
    "#           [-66.29465453845745, 18.144770192006572],\n",
    "#           [-65.58054321033245, 18.144770192006572],\n",
    "#           [-65.58054321033245, 18.491553939984392]]], None, False)\n",
    "\n",
    "# Update the startJulian and endJulian \n",
    "\n",
    "startJulian = 152\n",
    "endJulian = 151\n",
    "\n",
    "# Specify start and end years for all analyses\n",
    "\n",
    "startYear = 2009\n",
    "endYear = 2011"
   ]
  },
  {
   "cell_type": "markdown",
   "id": "04a19ccf-05f6-4989-9d3f-1d3213f0887e",
   "metadata": {},
   "source": [
    "### Build composites \n",
    "Using the parameters you specified above, you will create a series of image composites. By default, the script prints out all parameters that are used in acquiring the Landsat and Sentinel-2 imagery. You will notice that there are many parameters that are set to their defaults! Over the next few examples, we'll adjust a few more of these parameters. \n",
    "\n",
    "You can review all of the parameters, and their defaults, in the [getCombinedLandsatSentinel2Wrapper](https://github.com/gee-community/geeViz/blob/master/examples/getCombinedLandsatSentinel2Wrapper.py).\n",
    "\n",
    "Set verbose = FALSE (or whatever this is!!!) to make it quieter"
   ]
  },
  {
   "cell_type": "code",
   "execution_count": 8,
   "id": "260a019b-6a00-4505-972e-61769b49e7ba",
   "metadata": {
    "colab": {
     "base_uri": "https://localhost:8080/",
     "height": 1000
    },
    "executionInfo": {
     "elapsed": 3258,
     "status": "ok",
     "timestamp": 1690298168455,
     "user": {
      "displayName": "Ian Housman",
      "userId": "00382093583884444463"
     },
     "user_tz": 360
    },
    "id": "d4974e71",
    "outputId": "c5b14c5b-c86a-497c-f764-03b8871ef97a"
   },
   "outputs": [
    {
     "name": "stdout",
     "output_type": "stream",
     "text": [
      "Get Processed Landsat and Sentinel2 Scenes: \n",
      "Start date: Jun 01 2009 , End date: May 30 2012\n",
      "Get Processed Landsat: \n",
      "Start date: Jun 01 2009 , End date: May 30 2012\n",
      "Only including SLC On Landsat 7\n",
      "Applying Fmask Cloud Mask\n",
      "Applying TDOM Shadow Mask\n",
      "Computing irMean for TDOM\n",
      "Computing irStdDev for TDOM\n",
      "Applying Fmask Shadow Mask\n",
      "Get Processed Sentinel2: \n",
      "Start date: Jun 01 2009 , End date: May 30 2012\n",
      "Using S2 Collection: COPERNICUS/S2_HARMONIZED\n",
      "Joining pre-computed cloud probabilities from: COPERNICUS/S2_CLOUD_PROBABILITY\n",
      "Setting to aggregate instead of resample \n",
      "Converting S2 data to daily mosaics\n",
      "Apply Cloud Probability\n",
      "Applying TDOM\n",
      "Computing irMean for TDOM\n",
      "Computing irStdDev for TDOM\n",
      "Running Chastain et al 2019 harmonization\n"
     ]
    }
   ],
   "source": [
    "#Call on master wrapper function to get Landat scenes and composites\n",
    "lsAndTs = getImagesLib.getLandsatAndSentinel2HybridWrapper(studyArea.geometry().bounds(50,'EPSG:5070'),\n",
    "                                                           startYear,\n",
    "                                                           endYear,\n",
    "                                                           startJulian,\n",
    "                                                           endJulian)\n",
    "\n",
    "#Separate into scenes and composites for subsequent analysis\n",
    "processedScenes = lsAndTs['processedScenes']\n",
    "processedComposites = lsAndTs['processedComposites']"
   ]
  },
  {
   "cell_type": "markdown",
   "id": "631adcfc-f888-42e8-b51d-27a38d1e1724",
   "metadata": {},
   "source": [
    "### Add to Map\n",
    "The `geeView` module of the `geeViz` package provides functions for creating an interactive map viewer outside of the Google Earth Engine Code Editor and Playground. Generally, `Map` functions in `geeView` follow the same syntax as javascript Earth Engine commands in the playground. \n",
    "\n",
    "For more information and examples of geeView capabilities, visit the [geeView example](https://github.com/gee-community/geeViz/blob/master/examples/geeViewExample.py) in the geeViz github. \n",
    "\n",
    "The interactive map viewer will appear below."
   ]
  },
  {
   "cell_type": "code",
   "execution_count": 9,
   "id": "f31d65c8-295e-4eb8-9449-6f4c1cbc1811",
   "metadata": {
    "colab": {
     "base_uri": "https://localhost:8080/",
     "height": 1000
    },
    "executionInfo": {
     "elapsed": 3258,
     "status": "ok",
     "timestamp": 1690298168455,
     "user": {
      "displayName": "Ian Housman",
      "userId": "00382093583884444463"
     },
     "user_tz": 360
    },
    "id": "d4974e71",
    "outputId": "c5b14c5b-c86a-497c-f764-03b8871ef97a"
   },
   "outputs": [
    {
     "name": "stdout",
     "output_type": "stream",
     "text": [
      "Adding layer: Default Params 152-151\n",
      "Adding layer: Study Area\n",
      "Starting webmap\n",
      "Using default refresh token for geeView: /home/jupyter/.config/earthengine/credentials\n",
      "Starting local web server at: http://localhost:8001/geeView/\n",
      "HTTP server command: \"/opt/conda/bin/python\" -m http.server  8001\n",
      "Done\n",
      "cwd /home/jupyter/lcms-training\n"
     ]
    },
    {
     "name": "stdin",
     "output_type": "stream",
     "text": [
      "Please enter current URL Workbench Notebook is running from (e.g. https://code-dot-region.notebooks.googleusercontent.com/):  https://3b40cb8a2076f1b6-dot-us-west3.notebooks.googleusercontent.com/\n"
     ]
    },
    {
     "name": "stdout",
     "output_type": "stream",
     "text": [
      "Workbench Proxy URL: https://3b40cb8a2076f1b6-dot-us-west3.notebooks.googleusercontent.com/proxy/8001/geeView/?accessToken=None\n"
     ]
    },
    {
     "data": {
      "text/html": [
       "\n",
       "        <iframe\n",
       "            width=\"100%\"\n",
       "            height=\"525px\"\n",
       "            src=\"https://3b40cb8a2076f1b6-dot-us-west3.notebooks.googleusercontent.com/proxy/8001/geeView/?accessToken=None\"\n",
       "            frameborder=\"0\"\n",
       "            allowfullscreen\n",
       "            \n",
       "        ></iframe>\n",
       "        "
      ],
      "text/plain": [
       "<IPython.lib.display.IFrame at 0x7f186590be50>"
      ]
     },
     "metadata": {},
     "output_type": "display_data"
    },
    {
     "name": "stderr",
     "output_type": "stream",
     "text": [
      "127.0.0.1 - - [09/Aug/2023 20:35:20] \"GET /geeView/?accessToken=None HTTP/1.1\" 200 -\n",
      "127.0.0.1 - - [09/Aug/2023 20:35:20] \"GET /geeView/css/style.min.css HTTP/1.1\" 200 -\n",
      "127.0.0.1 - - [09/Aug/2023 20:35:20] \"GET /geeView/js/runGeeViz.js HTTP/1.1\" 200 -\n",
      "127.0.0.1 - - [09/Aug/2023 20:35:20] \"GET /geeView/js/lcms-viewer.min.js HTTP/1.1\" 200 -\n",
      "127.0.0.1 - - [09/Aug/2023 20:35:20] \"GET /geeView/js/load.min.js HTTP/1.1\" 200 -\n",
      "127.0.0.1 - - [09/Aug/2023 20:35:20] \"GET /geeView/js/gena-gee-palettes.js HTTP/1.1\" 200 -\n",
      "127.0.0.1 - - [09/Aug/2023 20:35:21] \"GET /geeView/images/GEE_logo_transparent.png HTTP/1.1\" 200 -\n",
      "127.0.0.1 - - [09/Aug/2023 20:35:21] \"GET /geeView/images/layer_icon.png HTTP/1.1\" 200 -\n",
      "127.0.0.1 - - [09/Aug/2023 20:35:21] \"GET /geeView/images/logos_usda-fs.svg HTTP/1.1\" 200 -\n",
      "127.0.0.1 - - [09/Aug/2023 20:35:21] \"GET /geeView/images/usfslogo.png HTTP/1.1\" 200 -\n",
      "127.0.0.1 - - [09/Aug/2023 20:35:21] \"GET /geeView/images/GEE.png HTTP/1.1\" 200 -\n",
      "127.0.0.1 - - [09/Aug/2023 20:35:21] \"GET /geeView/images/menu-hamburger_ffffff.svg HTTP/1.1\" 200 -\n",
      "127.0.0.1 - - [09/Aug/2023 20:35:21] \"GET /geeView/images/usdalogo.png HTTP/1.1\" 200 -\n",
      "127.0.0.1 - - [09/Aug/2023 20:35:26] \"GET /geeView/images/cumulative_icon.png HTTP/1.1\" 200 -\n"
     ]
    }
   ],
   "source": [
    "Map.clearMap()\n",
    "\n",
    "Map.addTimeLapse(processedComposites,getImagesLib.vizParamsFalse,'Default Params {}-{}'.format(startJulian,endJulian),'True')\n",
    "Map.addLayer(studyArea,{},'Study Area')\n",
    "Map.centerObject(studyArea)\n",
    "Map.turnOnInspector()\n",
    "Map.view()"
   ]
  },
  {
   "cell_type": "markdown",
   "id": "9a5f3364-58d5-444b-9197-c929d8849a95",
   "metadata": {},
   "source": [
    "#### Inspect the outputs\n",
    "\n",
    "Look at the map that appeared above. You may need to click the button next to the layer titled \"Default Params\" in order to view the layer. Click the play button \n",
    "![play button](img/play-button.png) to show a time lapse of all of the annual composites created.  \n",
    "\n",
    "**It is clear the default parameters do not work very well in this area.**\n",
    "Few, if any of the years displayed have complete images for the annual composite. Data are missing for large swaths of the immage, and there are cloud artifacts clearly visible.\n",
    "\n",
    "Though the results panel above indicates operations that were applied to create the composites, it doesn't tell you the full list of parameters used to create the composite. You can access the parameters that were used through the properties of the returned collection."
   ]
  },
  {
   "cell_type": "code",
   "execution_count": null,
   "id": "48dc6ee9",
   "metadata": {
    "colab": {
     "base_uri": "https://localhost:8080/"
    },
    "executionInfo": {
     "elapsed": 1505,
     "status": "ok",
     "timestamp": 1690298215913,
     "user": {
      "displayName": "Ian Housman",
      "userId": "00382093583884444463"
     },
     "user_tz": 360
    },
    "id": "48dc6ee9",
    "outputId": "4a71a638-a9dd-45c8-b0e5-8d9ddb253bf7"
   },
   "outputs": [],
   "source": [
    "#Print parameters used\n",
    "#Parameters are stored in properties of returnd collection\n",
    "print(processedComposites.toDictionary().getInfo())\n",
    "print(processedScenes.toDictionary().getInfo())\n",
    "\n"
   ]
  },
  {
   "cell_type": "markdown",
   "id": "311d4428-df93-4a3e-b0b4-23860446839b",
   "metadata": {},
   "source": [
    "## Example 2: Include Landsat 7\n",
    "Since there are not that many images available in this area for these years, let's try adding Landsat 7. Our default is to exclude Landsat 7 from image composites because of the [Landsat 7 scan line correction failure](https://www.usgs.gov/landsat-missions/landsat-7?qt-science_support_page_related_con=0#qt-science_support_page_related_con).\n",
    "\n",
    "### Add a new parameter\n",
    "\n",
    "To include Landsat 7, you will add a new parameter to the wrapper function. \n",
    "\n",
    "``` includeSLCoffL7 ``` - default: **False** \n",
    "\n",
    "Run the code block below to add the new parameter."
   ]
  },
  {
   "cell_type": "code",
   "execution_count": 7,
   "id": "6b871c5a-c6f2-42d0-aea1-a3cd39e50209",
   "metadata": {
    "colab": {
     "base_uri": "https://localhost:8080/",
     "height": 1000
    },
    "executionInfo": {
     "elapsed": 4407,
     "status": "ok",
     "timestamp": 1690298237041,
     "user": {
      "displayName": "Ian Housman",
      "userId": "00382093583884444463"
     },
     "user_tz": 360
    },
    "id": "704e7fb1",
    "outputId": "1b0f740a-eb14-4911-e2b4-dd596beccc72"
   },
   "outputs": [],
   "source": [
    "#add LS 7 parameter\n",
    "includeSLCOffL7 = True"
   ]
  },
  {
   "cell_type": "markdown",
   "id": "25c3484e-1535-48e3-8e43-e1bbaa140686",
   "metadata": {},
   "source": [
    "### Call on wrapper function again, including new parameter\n",
    "\n",
    "Now, run the same wrapper function again. Note that all of the parameters are the same, with the addition of your new `includeSLCOffL7` parameter."
   ]
  },
  {
   "cell_type": "code",
   "execution_count": 12,
   "id": "97d67e19-1105-4d53-8604-5a914a60fefa",
   "metadata": {
    "colab": {
     "base_uri": "https://localhost:8080/",
     "height": 1000
    },
    "executionInfo": {
     "elapsed": 4407,
     "status": "ok",
     "timestamp": 1690298237041,
     "user": {
      "displayName": "Ian Housman",
      "userId": "00382093583884444463"
     },
     "user_tz": 360
    },
    "id": "704e7fb1",
    "outputId": "1b0f740a-eb14-4911-e2b4-dd596beccc72"
   },
   "outputs": [
    {
     "name": "stdout",
     "output_type": "stream",
     "text": [
      "Get Processed Landsat and Sentinel2 Scenes: \n",
      "Start date: Jun 01 2009 , End date: May 30 2012\n",
      "Get Processed Landsat: \n",
      "Start date: Jun 01 2009 , End date: May 30 2012\n",
      "Including All Landsat 7\n",
      "Applying Fmask Cloud Mask\n",
      "Applying TDOM Shadow Mask\n",
      "Computing irMean for TDOM\n",
      "Computing irStdDev for TDOM\n",
      "Applying Fmask Shadow Mask\n",
      "Get Processed Sentinel2: \n",
      "Start date: Jun 01 2009 , End date: May 30 2012\n",
      "Using S2 Collection: COPERNICUS/S2_HARMONIZED\n",
      "Joining pre-computed cloud probabilities from: COPERNICUS/S2_CLOUD_PROBABILITY\n",
      "Setting to aggregate instead of resample \n",
      "Converting S2 data to daily mosaics\n",
      "Apply Cloud Probability\n",
      "Applying TDOM\n",
      "Computing irMean for TDOM\n",
      "Computing irStdDev for TDOM\n",
      "Running Chastain et al 2019 harmonization\n"
     ]
    }
   ],
   "source": [
    "#Call on master wrapper function to get Landsat scenes and composites\n",
    "lsAndTs = getImagesLib.getLandsatAndSentinel2HybridWrapper(studyArea.geometry().bounds(50,'EPSG:5070'),\n",
    "                                                           startYear,\n",
    "                                                           endYear,\n",
    "                                                           startJulian,\n",
    "                                                           endJulian,\n",
    "                                                           includeSLCOffL7=includeSLCOffL7)\n",
    "\n",
    "\n",
    "#Separate into scenes and composites for subsequent analysis\n",
    "processedScenes = lsAndTs['processedScenes']\n",
    "processedComposites = lsAndTs['processedComposites']"
   ]
  },
  {
   "cell_type": "markdown",
   "id": "4b932024-e261-4f31-b5d6-17cc6252cc3d",
   "metadata": {},
   "source": [
    "### Add to map\n",
    "\n",
    "Run the codeblock below to add the composites you created to the map again to inspect your results."
   ]
  },
  {
   "cell_type": "code",
   "execution_count": 13,
   "id": "d7871396-0f06-4d2c-84a9-ac5d7c82515c",
   "metadata": {
    "colab": {
     "base_uri": "https://localhost:8080/",
     "height": 1000
    },
    "executionInfo": {
     "elapsed": 4407,
     "status": "ok",
     "timestamp": 1690298237041,
     "user": {
      "displayName": "Ian Housman",
      "userId": "00382093583884444463"
     },
     "user_tz": 360
    },
    "id": "704e7fb1",
    "outputId": "1b0f740a-eb14-4911-e2b4-dd596beccc72"
   },
   "outputs": [
    {
     "name": "stdout",
     "output_type": "stream",
     "text": [
      "Adding layer: L7 added 152-151\n",
      "Starting webmap\n",
      "Using default refresh token for geeView: /home/jupyter/.config/earthengine/credentials\n",
      "Local web server at: http://localhost:8001/geeView/ already serving.\n",
      "cwd /home/jupyter/lcms-training\n",
      "Workbench Proxy URL: https://3b40cb8a2076f1b6-dot-us-west3.notebooks.googleusercontent.com/proxy/8001/geeView/?accessToken=None\n"
     ]
    },
    {
     "data": {
      "text/html": [
       "\n",
       "        <iframe\n",
       "            width=\"100%\"\n",
       "            height=\"525px\"\n",
       "            src=\"https://3b40cb8a2076f1b6-dot-us-west3.notebooks.googleusercontent.com/proxy/8001/geeView/?accessToken=None\"\n",
       "            frameborder=\"0\"\n",
       "            allowfullscreen\n",
       "            \n",
       "        ></iframe>\n",
       "        "
      ],
      "text/plain": [
       "<IPython.lib.display.IFrame at 0x7f1865d32950>"
      ]
     },
     "metadata": {},
     "output_type": "display_data"
    },
    {
     "name": "stderr",
     "output_type": "stream",
     "text": [
      "127.0.0.1 - - [09/Aug/2023 20:53:55] \"GET /geeView/?accessToken=None HTTP/1.1\" 200 -\n",
      "127.0.0.1 - - [09/Aug/2023 20:53:55] \"GET /geeView/js/runGeeViz.js HTTP/1.1\" 200 -\n",
      "127.0.0.1 - - [09/Aug/2023 20:53:55] \"GET /geeView/js/load.min.js HTTP/1.1\" 200 -\n",
      "127.0.0.1 - - [09/Aug/2023 20:53:55] \"GET /geeView/js/gena-gee-palettes.js HTTP/1.1\" 200 -\n",
      "127.0.0.1 - - [09/Aug/2023 20:53:55] \"GET /geeView/js/lcms-viewer.min.js HTTP/1.1\" 200 -\n",
      "127.0.0.1 - - [09/Aug/2023 20:53:55] \"GET /geeView/css/style.min.css HTTP/1.1\" 200 -\n",
      "127.0.0.1 - - [09/Aug/2023 20:53:55] \"GET /geeView/images/GEE_logo_transparent.png HTTP/1.1\" 200 -\n",
      "127.0.0.1 - - [09/Aug/2023 20:53:55] \"GET /geeView/images/layer_icon.png HTTP/1.1\" 200 -\n",
      "127.0.0.1 - - [09/Aug/2023 20:53:55] \"GET /geeView/images/menu-hamburger_ffffff.svg HTTP/1.1\" 200 -\n",
      "127.0.0.1 - - [09/Aug/2023 20:53:55] \"GET /geeView/images/logos_usda-fs.svg HTTP/1.1\" 200 -\n",
      "127.0.0.1 - - [09/Aug/2023 20:53:55] \"GET /geeView/images/usfslogo.png HTTP/1.1\" 200 -\n",
      "127.0.0.1 - - [09/Aug/2023 20:53:55] \"GET /geeView/images/usdalogo.png HTTP/1.1\" 200 -\n",
      "127.0.0.1 - - [09/Aug/2023 20:53:55] \"GET /geeView/images/GEE.png HTTP/1.1\" 200 -\n",
      "127.0.0.1 - - [09/Aug/2023 20:53:59] \"GET /geeView/images/cumulative_icon.png HTTP/1.1\" 200 -\n"
     ]
    }
   ],
   "source": [
    "#Turn off layers from previous iteration\n",
    "Map.turnOffAllLayers()\n",
    "\n",
    "# Map.addLayer(processedComposites.select(['NDVI','NBR']),{'addToLegend':'false'},'Time Series (NBR and NDVI)',False)\n",
    "# for year in range(startYear,endYear + 1 ):\n",
    "    #  t = processedComposites.filter(ee.Filter.calendarRange(year,year,'year')).mosaic()\n",
    "Map.addTimeLapse(processedComposites,getImagesLib.vizParamsFalse,'L7 added {}-{}'.format(startJulian,endJulian),True)\n",
    "\n",
    "\n",
    "Map.view()"
   ]
  },
  {
   "cell_type": "markdown",
   "id": "7bd7030a-5350-4958-b8aa-e98c11b34952",
   "metadata": {
    "colab": {
     "base_uri": "https://localhost:8080/",
     "height": 1000
    },
    "executionInfo": {
     "elapsed": 4407,
     "status": "ok",
     "timestamp": 1690298237041,
     "user": {
      "displayName": "Ian Housman",
      "userId": "00382093583884444463"
     },
     "user_tz": 360
    },
    "id": "704e7fb1",
    "outputId": "1b0f740a-eb14-4911-e2b4-dd596beccc72"
   },
   "source": [
    "### Inspect the outputs\n",
    "Turn on the layers in the map viewer if necessary. \n",
    "\n",
    "Toggle back and forth between the Default Params and the new composites with Landsat 7 added. Zoom in to view the composites in more detail.\n",
    "\n",
    "You'll notice this helps fill in the holes, but introduces many cloud-related artifacts."
   ]
  },
  {
   "cell_type": "markdown",
   "id": "5eebfd3d-5a25-4f8e-a14a-e04e8480429c",
   "metadata": {},
   "source": [
    "## Example 3: Improve Cloud masking \n",
    "Next you'll improve the cloud masking. [Fmask](https://www.sciencedirect.com/science/article/abs/pii/S0034425714005069) is used by default, but this algorithm misses some clouds.\n",
    "\n",
    "We'll try the adding in the [cloudScore](https://developers.google.com/earth-engine/guides/landsat#simple-cloud-score) method to mask clouds in Landsat.\n",
    "\n",
    "We do this by setting the ```applyCloudScoreLandsat``` parameter\n",
    "\n",
    "### Add cloud masking parameter\n",
    "\n",
    "Run the code block below to add the `applyCloudScoreLandsat` parameter."
   ]
  },
  {
   "cell_type": "code",
   "execution_count": 8,
   "id": "a773921a-ccd3-45d9-9b2c-8396a3c9481d",
   "metadata": {
    "colab": {
     "base_uri": "https://localhost:8080/",
     "height": 1000
    },
    "executionInfo": {
     "elapsed": 2691,
     "status": "ok",
     "timestamp": 1690298306083,
     "user": {
      "displayName": "Ian Housman",
      "userId": "00382093583884444463"
     },
     "user_tz": 360
    },
    "id": "6a648400",
    "outputId": "d8befeed-df28-43d3-bffa-24f0e9315887"
   },
   "outputs": [],
   "source": [
    "# set cloudScore\n",
    "applyCloudScoreLandsat = True"
   ]
  },
  {
   "cell_type": "markdown",
   "id": "4a5f279e-5b62-48f7-aa4d-3b5467b18995",
   "metadata": {},
   "source": [
    "### Run master wrapper function\n",
    "\n",
    "Keeping all other parameters the same, run the `getLandsatAndSentinel2HybridWrapper` function again. This time, add in the new parameter."
   ]
  },
  {
   "cell_type": "code",
   "execution_count": 26,
   "id": "d9de8d7c-aaf0-412b-b72b-aa2bce44613c",
   "metadata": {
    "colab": {
     "base_uri": "https://localhost:8080/",
     "height": 1000
    },
    "executionInfo": {
     "elapsed": 2691,
     "status": "ok",
     "timestamp": 1690298306083,
     "user": {
      "displayName": "Ian Housman",
      "userId": "00382093583884444463"
     },
     "user_tz": 360
    },
    "id": "6a648400",
    "outputId": "d8befeed-df28-43d3-bffa-24f0e9315887"
   },
   "outputs": [],
   "source": [
    "#Call on master wrapper function to get Landsat scenes and composites\n",
    "lsAndTs = getImagesLib.getLandsatAndSentinel2HybridWrapper(studyArea.geometry().bounds(50,'EPSG:5070'),\n",
    "                                                           startYear,\n",
    "                                                           endYear,\n",
    "                                                           startJulian,\n",
    "                                                           endJulian,\n",
    "                                                           includeSLCOffL7=includeSLCOffL7,\n",
    "                                                           applyCloudScoreLandsat=applyCloudScoreLandsat)\n",
    "\n",
    "\n",
    "#Separate into scenes and composites for subsequent analysis\n",
    "processedScenes = lsAndTs['processedScenes']\n",
    "processedComposites = lsAndTs['processedComposites']"
   ]
  },
  {
   "cell_type": "markdown",
   "id": "80b0bc39-73a6-4137-8478-46cace59b0a3",
   "metadata": {},
   "source": [
    "### Add to Map\n",
    "\n",
    "Run the code block below to add the new layers to the map."
   ]
  },
  {
   "cell_type": "code",
   "execution_count": 17,
   "id": "eb69905c-c248-438f-b9cd-f20a31f23fbc",
   "metadata": {
    "colab": {
     "base_uri": "https://localhost:8080/",
     "height": 1000
    },
    "executionInfo": {
     "elapsed": 2691,
     "status": "ok",
     "timestamp": 1690298306083,
     "user": {
      "displayName": "Ian Housman",
      "userId": "00382093583884444463"
     },
     "user_tz": 360
    },
    "id": "6a648400",
    "outputId": "d8befeed-df28-43d3-bffa-24f0e9315887"
   },
   "outputs": [
    {
     "name": "stdout",
     "output_type": "stream",
     "text": [
      "Adding layer: L7 and CloudScore added 152-151\n",
      "Starting webmap\n",
      "Using default refresh token for geeView: /home/jupyter/.config/earthengine/credentials\n",
      "Local web server at: http://localhost:8001/geeView/ already serving.\n",
      "cwd /home/jupyter/lcms-training\n",
      "Workbench Proxy URL: https://3b40cb8a2076f1b6-dot-us-west3.notebooks.googleusercontent.com/proxy/8001/geeView/?accessToken=None\n"
     ]
    },
    {
     "data": {
      "text/html": [
       "\n",
       "        <iframe\n",
       "            width=\"100%\"\n",
       "            height=\"525px\"\n",
       "            src=\"https://3b40cb8a2076f1b6-dot-us-west3.notebooks.googleusercontent.com/proxy/8001/geeView/?accessToken=None\"\n",
       "            frameborder=\"0\"\n",
       "            allowfullscreen\n",
       "            \n",
       "        ></iframe>\n",
       "        "
      ],
      "text/plain": [
       "<IPython.lib.display.IFrame at 0x7f1865d35330>"
      ]
     },
     "metadata": {},
     "output_type": "display_data"
    },
    {
     "name": "stderr",
     "output_type": "stream",
     "text": [
      "127.0.0.1 - - [09/Aug/2023 21:52:30] \"GET /geeView/?accessToken=None HTTP/1.1\" 200 -\n",
      "127.0.0.1 - - [09/Aug/2023 21:52:30] \"GET /geeView/js/gena-gee-palettes.js HTTP/1.1\" 200 -\n",
      "127.0.0.1 - - [09/Aug/2023 21:52:30] \"GET /geeView/css/style.min.css HTTP/1.1\" 200 -\n",
      "127.0.0.1 - - [09/Aug/2023 21:52:30] \"GET /geeView/js/lcms-viewer.min.js HTTP/1.1\" 200 -\n",
      "127.0.0.1 - - [09/Aug/2023 21:52:30] \"GET /geeView/js/runGeeViz.js HTTP/1.1\" 200 -\n",
      "127.0.0.1 - - [09/Aug/2023 21:52:30] \"GET /geeView/js/load.min.js HTTP/1.1\" 200 -\n",
      "127.0.0.1 - - [09/Aug/2023 21:52:31] \"GET /geeView/images/GEE_logo_transparent.png HTTP/1.1\" 200 -\n",
      "127.0.0.1 - - [09/Aug/2023 21:52:31] \"GET /geeView/images/GEE.png HTTP/1.1\" 200 -\n",
      "127.0.0.1 - - [09/Aug/2023 21:52:31] \"GET /geeView/images/logos_usda-fs.svg HTTP/1.1\" 200 -\n",
      "127.0.0.1 - - [09/Aug/2023 21:52:31] \"GET /geeView/images/usdalogo.png HTTP/1.1\" 200 -\n",
      "127.0.0.1 - - [09/Aug/2023 21:52:31] \"GET /geeView/images/layer_icon.png HTTP/1.1\" 200 -\n",
      "127.0.0.1 - - [09/Aug/2023 21:52:31] \"GET /geeView/images/usfslogo.png HTTP/1.1\" 200 -\n",
      "127.0.0.1 - - [09/Aug/2023 21:52:31] \"GET /geeView/images/menu-hamburger_ffffff.svg HTTP/1.1\" 200 -\n",
      "127.0.0.1 - - [09/Aug/2023 21:52:36] \"GET /geeView/images/cumulative_icon.png HTTP/1.1\" 200 -\n"
     ]
    }
   ],
   "source": [
    "#Turn off layers from previous iteration\n",
    "Map.turnOffAllLayers()\n",
    "\n",
    "\n",
    "Map.addTimeLapse(processedComposites,getImagesLib.vizParamsFalse,'L7 and CloudScore added {}-{}'.format(startJulian,endJulian),True)\n",
    "\n",
    "\n",
    "Map.view()"
   ]
  },
  {
   "cell_type": "markdown",
   "id": "e969508f-475b-415f-8290-af4314db4d38",
   "metadata": {},
   "source": [
    "### Inspect\n",
    "Toggle on the layers in the viewer above. Inspect the **L7 and cloudScore** output. Notice that these layers look much better and have fewer cloud masking artifacts than the previous layers. \n",
    "\n",
    "However, you can still see some dark ares. These are likely due to cloud shadows that were not masked out-- the Fmask cloud shadow mask typically does not mask out all cloud shadows. \n",
    "\n",
    "To mask cloud shadow, we use a method called the [Temporal Dark Outlier Mask (TDOM)](https://www.sciencedirect.com/science/article/pii/S0034425718305212) that works well to mask cloud shadows. \n",
    "\n"
   ]
  },
  {
   "cell_type": "markdown",
   "id": "c72b22f3-af7e-4ef8-b923-0e42093809bb",
   "metadata": {},
   "source": [
    "## Example 4: Use Temporal Dark Outlier Mask (TDOM) to mask cloud shadows\n",
    "The Temporal Dark Outlier Mask (TDOM) method of masking cloud shadows calculates the median and standard deviation of the NIR and SWIR bands over a pixel in an image stack. The algorithm applies thresholds to determine which pixels are likely to be cloud shadows.\n",
    "\n",
    "Find [details of the TDOM method](https://github.com/gee-community/geeViz/blob/bd75d38c2043fc3af795c9c35ae769c71c00f56a/getImagesLib.py#L1141) in the geeViz library.\n",
    "\n",
    "### Set TDOM parameter\n",
    "\n",
    "``` applyTDOM ``` - default = **False** determines whether or not TDOM will be used to mask cloud shadows.\n",
    "\n",
    "Run the code block below to set the TDOM parameter."
   ]
  },
  {
   "cell_type": "code",
   "execution_count": 9,
   "id": "9d806578-f821-42aa-98ed-1b497f97bf85",
   "metadata": {
    "colab": {
     "base_uri": "https://localhost:8080/",
     "height": 1000
    },
    "executionInfo": {
     "elapsed": 2608,
     "status": "ok",
     "timestamp": 1690298428991,
     "user": {
      "displayName": "Ian Housman",
      "userId": "00382093583884444463"
     },
     "user_tz": 360
    },
    "id": "262c5658",
    "outputId": "862b6a1a-52af-4d2e-e248-f1392bf6008a"
   },
   "outputs": [],
   "source": [
    "#Set TDOM to true\n",
    "applyTDOM = True"
   ]
  },
  {
   "cell_type": "markdown",
   "id": "b5255b75-cbb3-4f5e-83d5-30e1ea851b0a",
   "metadata": {},
   "source": [
    "### Run master wrapper function"
   ]
  },
  {
   "cell_type": "code",
   "execution_count": 13,
   "id": "ee7337b4-3c21-4f5a-84da-1e2856504772",
   "metadata": {
    "colab": {
     "base_uri": "https://localhost:8080/",
     "height": 1000
    },
    "executionInfo": {
     "elapsed": 2608,
     "status": "ok",
     "timestamp": 1690298428991,
     "user": {
      "displayName": "Ian Housman",
      "userId": "00382093583884444463"
     },
     "user_tz": 360
    },
    "id": "262c5658",
    "outputId": "862b6a1a-52af-4d2e-e248-f1392bf6008a"
   },
   "outputs": [
    {
     "name": "stdout",
     "output_type": "stream",
     "text": [
      "Get Processed Landsat and Sentinel2 Scenes: \n",
      "Start date: Jun 01 2009 , End date: May 30 2012\n",
      "Get Processed Landsat: \n",
      "Start date: Jun 01 2009 , End date: May 30 2012\n",
      "Including All Landsat 7\n",
      "Applying Cloud Score\n",
      "Computing cloudScore offset\n",
      "Applying Fmask Cloud Mask\n",
      "Applying TDOM Shadow Mask\n",
      "Computing irMean for TDOM\n",
      "Computing irStdDev for TDOM\n",
      "Applying Fmask Shadow Mask\n",
      "Get Processed Sentinel2: \n",
      "Start date: Jun 01 2009 , End date: May 30 2012\n",
      "Using S2 Collection: COPERNICUS/S2_HARMONIZED\n",
      "Joining pre-computed cloud probabilities from: COPERNICUS/S2_CLOUD_PROBABILITY\n",
      "Setting to aggregate instead of resample \n",
      "Converting S2 data to daily mosaics\n",
      "Apply Cloud Probability\n",
      "Applying TDOM\n",
      "Computing irMean for TDOM\n",
      "Computing irStdDev for TDOM\n",
      "Running Chastain et al 2019 harmonization\n"
     ]
    }
   ],
   "source": [
    "#Call on master wrapper function to get Landat scenes and composites\n",
    "#In order to identify dark outliers, we will extend the dates by 6 years to get a larger sample\n",
    "lsAndTs = getImagesLib.getLandsatAndSentinel2HybridWrapper(studyArea.geometry().bounds(50,'EPSG:5070'),\n",
    "                                                           startYear,\n",
    "                                                           endYear,\n",
    "                                                           startJulian,\n",
    "                                                           endJulian,\n",
    "                                                           includeSLCOffL7=includeSLCOffL7,\n",
    "                                                           applyCloudScoreLandsat=applyCloudScoreLandsat,\n",
    "                                                           applyTDOMLandsat =applyTDOM,\n",
    "                                                           applyTDOMSentinel2 = applyTDOM)\n",
    "\n",
    "\n",
    "#Separate into scenes and composites for subsequent analysis\n",
    "processedScenes = lsAndTs['processedScenes']\n",
    "processedComposites = lsAndTs['processedComposites']"
   ]
  },
  {
   "cell_type": "markdown",
   "id": "094fc850-ec66-4051-a657-3e0d9635c0c3",
   "metadata": {},
   "source": [
    "### Add to map\n",
    "\n",
    "Run the code block below to add the new layers to the map."
   ]
  },
  {
   "cell_type": "code",
   "execution_count": 14,
   "id": "6788a0c7-3e59-48d7-9c61-5b9c9b36e6e9",
   "metadata": {
    "colab": {
     "base_uri": "https://localhost:8080/",
     "height": 1000
    },
    "executionInfo": {
     "elapsed": 2608,
     "status": "ok",
     "timestamp": 1690298428991,
     "user": {
      "displayName": "Ian Housman",
      "userId": "00382093583884444463"
     },
     "user_tz": 360
    },
    "id": "262c5658",
    "outputId": "862b6a1a-52af-4d2e-e248-f1392bf6008a"
   },
   "outputs": [
    {
     "name": "stdout",
     "output_type": "stream",
     "text": [
      "Adding layer: CloudScore and TDOM added 152-151\n",
      "Starting webmap\n",
      "Using default refresh token for geeView: /home/jupyter/.config/earthengine/credentials\n",
      "Starting local web server at: http://localhost:8001/geeView/\n",
      "HTTP server command: \"/opt/conda/bin/python\" -m http.server  8001\n",
      "Done\n",
      "cwd /home/jupyter/lcms-training\n",
      "Workbench Proxy URL: https://3b40cb8a2076f1b6-dot-us-west3.notebooks.googleusercontent.com/proxy/8001/geeView/?accessToken=None\n"
     ]
    },
    {
     "data": {
      "text/html": [
       "\n",
       "        <iframe\n",
       "            width=\"100%\"\n",
       "            height=\"525px\"\n",
       "            src=\"https://3b40cb8a2076f1b6-dot-us-west3.notebooks.googleusercontent.com/proxy/8001/geeView/?accessToken=None\"\n",
       "            frameborder=\"0\"\n",
       "            allowfullscreen\n",
       "            \n",
       "        ></iframe>\n",
       "        "
      ],
      "text/plain": [
       "<IPython.lib.display.IFrame at 0x7f299a2ea470>"
      ]
     },
     "metadata": {},
     "output_type": "display_data"
    },
    {
     "name": "stderr",
     "output_type": "stream",
     "text": [
      "127.0.0.1 - - [09/Aug/2023 22:16:12] \"GET /geeView/js/runGeeViz.js HTTP/1.1\" 200 -\n"
     ]
    }
   ],
   "source": [
    "#Turn off layers from previous iteration\n",
    "Map.turnOffAllLayers()\n",
    "\n",
    "Map.addTimeLapse(processedComposites,getImagesLib.vizParamsFalse,'CloudScore and TDOM added {}-{}'.format(startJulian,endJulian),True)\n",
    "\n",
    "Map.view()"
   ]
  },
  {
   "cell_type": "markdown",
   "id": "b83bb707-8a64-4128-be20-8b6f7c901345",
   "metadata": {
    "colab": {
     "base_uri": "https://localhost:8080/",
     "height": 1000
    },
    "executionInfo": {
     "elapsed": 2608,
     "status": "ok",
     "timestamp": 1690298428991,
     "user": {
      "displayName": "Ian Housman",
      "userId": "00382093583884444463"
     },
     "user_tz": 360
    },
    "id": "262c5658",
    "outputId": "862b6a1a-52af-4d2e-e248-f1392bf6008a"
   },
   "source": [
    "### Inspect\n",
    "Toggle on the new layer. You'll notice this cleans up the cloud masking a lot. \n",
    "\n",
    "### TDOM is computationally intensive\n",
    "However, while TDOM is a great cloud shadow masking method, it is a bit computationally intensive since it computes the mean and standard deviation over a large stack of data.\n",
    "\n",
    "In order to avoid re-computing the stats, we store pre-computed stats. For the LCMS project, we have precomputed stats for CONUS, AK, HI, PuertoRico, and the USVI. \n",
    "- (do we want to point people to these stats? )\n",
    "\n",
    "It is optional that you use pre-computed stats. If none are provided, TDOM stats will be computed on-the-fly. \n",
    "\n",
    "You can create and store precomputed TDOM stats using the following code chunk: \n",
    "\n",
    "```\n",
    "{\n",
    "  this is an example set of code to show people how to compute TDOM stats\n",
    "  we'll fill this in later!!\n",
    "}\n",
    "```\n",
    "### Inspect raw, precomputed TDOM stats\n",
    "\n",
    "Run the chuck of code below to load the precomputed TDOM stats and examine them on the map. "
   ]
  },
  {
   "cell_type": "code",
   "execution_count": 15,
   "id": "8f1089b9-6468-4da3-a9fd-797c89d87e15",
   "metadata": {},
   "outputs": [
    {
     "name": "stdout",
     "output_type": "stream",
     "text": [
      "Adding layer: Landsat TDOM Stats\n",
      "Adding layer: Sentinel 2 TDOM Stats\n",
      "Starting webmap\n",
      "Using default refresh token for geeView: /home/jupyter/.config/earthengine/credentials\n",
      "Local web server at: http://localhost:8001/geeView/ already serving.\n",
      "cwd /home/jupyter/lcms-training\n",
      "Workbench Proxy URL: https://3b40cb8a2076f1b6-dot-us-west3.notebooks.googleusercontent.com/proxy/8001/geeView/?accessToken=None\n"
     ]
    },
    {
     "data": {
      "text/html": [
       "\n",
       "        <iframe\n",
       "            width=\"100%\"\n",
       "            height=\"525px\"\n",
       "            src=\"https://3b40cb8a2076f1b6-dot-us-west3.notebooks.googleusercontent.com/proxy/8001/geeView/?accessToken=None\"\n",
       "            frameborder=\"0\"\n",
       "            allowfullscreen\n",
       "            \n",
       "        ></iframe>\n",
       "        "
      ],
      "text/plain": [
       "<IPython.lib.display.IFrame at 0x7f29a9e298d0>"
      ]
     },
     "metadata": {},
     "output_type": "display_data"
    },
    {
     "name": "stderr",
     "output_type": "stream",
     "text": [
      "127.0.0.1 - - [09/Aug/2023 22:19:14] \"GET /geeView/?accessToken=None HTTP/1.1\" 200 -\n",
      "127.0.0.1 - - [09/Aug/2023 22:19:14] \"GET /geeView/js/gena-gee-palettes.js HTTP/1.1\" 200 -\n",
      "127.0.0.1 - - [09/Aug/2023 22:19:14] \"GET /geeView/js/runGeeViz.js HTTP/1.1\" 200 -\n",
      "127.0.0.1 - - [09/Aug/2023 22:19:14] \"GET /geeView/css/style.min.css HTTP/1.1\" 200 -\n",
      "127.0.0.1 - - [09/Aug/2023 22:19:14] \"GET /geeView/js/load.min.js HTTP/1.1\" 200 -\n",
      "127.0.0.1 - - [09/Aug/2023 22:19:14] \"GET /geeView/js/lcms-viewer.min.js HTTP/1.1\" 200 -\n",
      "127.0.0.1 - - [09/Aug/2023 22:19:14] \"GET /geeView/images/GEE.png HTTP/1.1\" 200 -\n",
      "127.0.0.1 - - [09/Aug/2023 22:19:14] \"GET /geeView/images/GEE_logo_transparent.png HTTP/1.1\" 200 -\n",
      "127.0.0.1 - - [09/Aug/2023 22:19:14] \"GET /geeView/images/menu-hamburger_ffffff.svg HTTP/1.1\" 200 -\n",
      "127.0.0.1 - - [09/Aug/2023 22:19:14] \"GET /geeView/images/usfslogo.png HTTP/1.1\" 200 -\n",
      "127.0.0.1 - - [09/Aug/2023 22:19:14] \"GET /geeView/images/layer_icon.png HTTP/1.1\" 200 -\n",
      "127.0.0.1 - - [09/Aug/2023 22:19:14] \"GET /geeView/images/logos_usda-fs.svg HTTP/1.1\" 200 -\n",
      "127.0.0.1 - - [09/Aug/2023 22:19:14] \"GET /geeView/images/usdalogo.png HTTP/1.1\" 200 -\n"
     ]
    }
   ],
   "source": [
    "# clear map\n",
    "Map.clearMap()\n",
    "\n",
    "# load precomputed tdom stats\n",
    "landsat_tdom_stats = ee.Image('projects/lcms-tcc-shared/assets/CS-TDOM-Stats/PR-USVI/TDOM_stats/Landsat_TDOM_Stats_1984_2021')\\\n",
    "                    .select(['Landsat_nir_.*','Landsat_swir1_.*'])\\\n",
    "                    .divide(10000)\n",
    "s2_tdom_stats = ee.Image('projects/lcms-tcc-shared/assets/CS-TDOM-Stats/PR-USVI/TDOM_stats/Sentinel2_TDOM_Stats_2015_2021')\\\n",
    "                    .select(['Sentinel2_nir_.*','Sentinel2_swir1_.*'])\\\n",
    "                    .divide(10000)\n",
    "Map.addLayer(landsat_tdom_stats,{'min':0.15,'max':0.35,'bands':'Landsat_nir_mean','palette':'222,080'},'Landsat TDOM Stats')\n",
    "Map.addLayer(s2_tdom_stats,{'min':0.15,'max':0.35,'bands':'Sentinel2_nir_mean','palette':'222,080'},'Sentinel 2 TDOM Stats')\n",
    "\n",
    "Map.turnOnInspector()\n",
    "Map.view()\n"
   ]
  },
  {
   "cell_type": "markdown",
   "id": "9e02a34e-978c-4a0a-a298-8f203b4a9fc6",
   "metadata": {},
   "source": [
    "#### Example 4 - Prepare final composites and export\n",
    "Now that you've gone through some of the parameters that can be changed for tge composites, we will use both Landsat and Sentinel2 to get the best possible composites. \n",
    "\n",
    "Here, we're manually setting all parameters for the `getLandatAndSentinel2HybridWrapper`. \n",
    "\n",
    "\n",
    "Review the [documentation](https://github.com/redcastle-resources/geeViz/blob/bd75d38c2043fc3af795c9c35ae769c71c00f56a/getImagesLib.py#L3280) to recall the default values for each of these parameters.\n",
    "\n",
    "Note in the function below where the parameters are different from the defaults. \n",
    "\n",
    "Run the code block below to prepare and export composites. "
   ]
  },
  {
   "cell_type": "code",
   "execution_count": 12,
   "id": "bnuTuFdBaWzw",
   "metadata": {
    "colab": {
     "base_uri": "https://localhost:8080/",
     "height": 1000
    },
    "executionInfo": {
     "elapsed": 21613,
     "status": "ok",
     "timestamp": 1690298478420,
     "user": {
      "displayName": "Ian Housman",
      "userId": "00382093583884444463"
     },
     "user_tz": 360
    },
    "id": "bnuTuFdBaWzw",
    "outputId": "c0605bd6-4f1e-493f-8faf-28c2e65b3efb"
   },
   "outputs": [
    {
     "name": "stdout",
     "output_type": "stream",
     "text": [
      "Get Processed Landsat and Sentinel2 Scenes: \n",
      "Start date: May 31 1984 , End date: May 31 2023\n",
      "Get Processed Landsat: \n",
      "Start date: May 31 1984 , End date: May 31 2023\n",
      "Defringing L4 and L5\n",
      "Including All Landsat 7\n",
      "Setting resample method to  bicubic\n",
      "Applying Cloud Score\n",
      "Not computing cloudScore offset\n",
      "Applying Fmask Cloud Mask\n",
      "Applying TDOM Shadow Mask\n",
      "Using pre-computed irMean for TDOM\n",
      "Using pre-computed irStdDev for TDOM\n",
      "Applying Fmask Shadow Mask\n",
      "Get Processed Sentinel2: \n",
      "Start date: May 31 1984 , End date: May 31 2023\n",
      "Using S2 Collection: COPERNICUS/S2_HARMONIZED\n",
      "Joining pre-computed cloud probabilities from: COPERNICUS/S2_CLOUD_PROBABILITY\n",
      "Setting resample method to  bicubic\n",
      "Converting S2 data to daily mosaics\n",
      "Apply Cloud Probability\n",
      "Applying TDOM\n",
      "Using pre-computed irMean for TDOM\n",
      "Using pre-computed irStdDev for TDOM\n",
      "pyramiding object: {'.default': 'mean'}\n",
      "Exporting: Landsat-Sentinel2-Hybrid_TOA_medoid_1984_1984_152_151\n",
      "<Task EXPORT_IMAGE: Landsat-Sentinel2-Hybrid_TOA_medoid_1984_1984_152_151 (UNSUBMITTED)>\n",
      "pyramiding object: {'.default': 'mean'}\n",
      "Exporting: Landsat-Sentinel2-Hybrid_TOA_medoid_1985_1985_152_151\n",
      "<Task EXPORT_IMAGE: Landsat-Sentinel2-Hybrid_TOA_medoid_1985_1985_152_151 (UNSUBMITTED)>\n",
      "pyramiding object: {'.default': 'mean'}\n",
      "Exporting: Landsat-Sentinel2-Hybrid_TOA_medoid_1986_1986_152_151\n",
      "<Task EXPORT_IMAGE: Landsat-Sentinel2-Hybrid_TOA_medoid_1986_1986_152_151 (UNSUBMITTED)>\n",
      "pyramiding object: {'.default': 'mean'}\n",
      "Exporting: Landsat-Sentinel2-Hybrid_TOA_medoid_1987_1987_152_151\n",
      "<Task EXPORT_IMAGE: Landsat-Sentinel2-Hybrid_TOA_medoid_1987_1987_152_151 (UNSUBMITTED)>\n",
      "pyramiding object: {'.default': 'mean'}\n",
      "Exporting: Landsat-Sentinel2-Hybrid_TOA_medoid_1988_1988_152_151\n",
      "<Task EXPORT_IMAGE: Landsat-Sentinel2-Hybrid_TOA_medoid_1988_1988_152_151 (UNSUBMITTED)>\n",
      "pyramiding object: {'.default': 'mean'}\n",
      "Exporting: Landsat-Sentinel2-Hybrid_TOA_medoid_1989_1989_152_151\n",
      "<Task EXPORT_IMAGE: Landsat-Sentinel2-Hybrid_TOA_medoid_1989_1989_152_151 (UNSUBMITTED)>\n",
      "pyramiding object: {'.default': 'mean'}\n",
      "Exporting: Landsat-Sentinel2-Hybrid_TOA_medoid_1990_1990_152_151\n",
      "<Task EXPORT_IMAGE: Landsat-Sentinel2-Hybrid_TOA_medoid_1990_1990_152_151 (UNSUBMITTED)>\n",
      "pyramiding object: {'.default': 'mean'}\n",
      "Exporting: Landsat-Sentinel2-Hybrid_TOA_medoid_1991_1991_152_151\n",
      "<Task EXPORT_IMAGE: Landsat-Sentinel2-Hybrid_TOA_medoid_1991_1991_152_151 (UNSUBMITTED)>\n",
      "pyramiding object: {'.default': 'mean'}\n",
      "Exporting: Landsat-Sentinel2-Hybrid_TOA_medoid_1992_1992_152_151\n",
      "<Task EXPORT_IMAGE: Landsat-Sentinel2-Hybrid_TOA_medoid_1992_1992_152_151 (UNSUBMITTED)>\n",
      "pyramiding object: {'.default': 'mean'}\n",
      "Exporting: Landsat-Sentinel2-Hybrid_TOA_medoid_1993_1993_152_151\n",
      "<Task EXPORT_IMAGE: Landsat-Sentinel2-Hybrid_TOA_medoid_1993_1993_152_151 (UNSUBMITTED)>\n",
      "pyramiding object: {'.default': 'mean'}\n",
      "Exporting: Landsat-Sentinel2-Hybrid_TOA_medoid_1994_1994_152_151\n",
      "<Task EXPORT_IMAGE: Landsat-Sentinel2-Hybrid_TOA_medoid_1994_1994_152_151 (UNSUBMITTED)>\n",
      "pyramiding object: {'.default': 'mean'}\n",
      "Exporting: Landsat-Sentinel2-Hybrid_TOA_medoid_1995_1995_152_151\n",
      "<Task EXPORT_IMAGE: Landsat-Sentinel2-Hybrid_TOA_medoid_1995_1995_152_151 (UNSUBMITTED)>\n",
      "pyramiding object: {'.default': 'mean'}\n",
      "Exporting: Landsat-Sentinel2-Hybrid_TOA_medoid_1996_1996_152_151\n",
      "<Task EXPORT_IMAGE: Landsat-Sentinel2-Hybrid_TOA_medoid_1996_1996_152_151 (UNSUBMITTED)>\n",
      "pyramiding object: {'.default': 'mean'}\n",
      "Exporting: Landsat-Sentinel2-Hybrid_TOA_medoid_1997_1997_152_151\n",
      "<Task EXPORT_IMAGE: Landsat-Sentinel2-Hybrid_TOA_medoid_1997_1997_152_151 (UNSUBMITTED)>\n",
      "pyramiding object: {'.default': 'mean'}\n",
      "Exporting: Landsat-Sentinel2-Hybrid_TOA_medoid_1998_1998_152_151\n",
      "<Task EXPORT_IMAGE: Landsat-Sentinel2-Hybrid_TOA_medoid_1998_1998_152_151 (UNSUBMITTED)>\n",
      "pyramiding object: {'.default': 'mean'}\n",
      "Exporting: Landsat-Sentinel2-Hybrid_TOA_medoid_1999_1999_152_151\n",
      "<Task EXPORT_IMAGE: Landsat-Sentinel2-Hybrid_TOA_medoid_1999_1999_152_151 (UNSUBMITTED)>\n",
      "pyramiding object: {'.default': 'mean'}\n",
      "Exporting: Landsat-Sentinel2-Hybrid_TOA_medoid_2000_2000_152_151\n",
      "<Task EXPORT_IMAGE: Landsat-Sentinel2-Hybrid_TOA_medoid_2000_2000_152_151 (UNSUBMITTED)>\n",
      "pyramiding object: {'.default': 'mean'}\n",
      "Exporting: Landsat-Sentinel2-Hybrid_TOA_medoid_2001_2001_152_151\n",
      "<Task EXPORT_IMAGE: Landsat-Sentinel2-Hybrid_TOA_medoid_2001_2001_152_151 (UNSUBMITTED)>\n",
      "pyramiding object: {'.default': 'mean'}\n",
      "Exporting: Landsat-Sentinel2-Hybrid_TOA_medoid_2002_2002_152_151\n",
      "<Task EXPORT_IMAGE: Landsat-Sentinel2-Hybrid_TOA_medoid_2002_2002_152_151 (UNSUBMITTED)>\n",
      "pyramiding object: {'.default': 'mean'}\n",
      "Exporting: Landsat-Sentinel2-Hybrid_TOA_medoid_2003_2003_152_151\n",
      "<Task EXPORT_IMAGE: Landsat-Sentinel2-Hybrid_TOA_medoid_2003_2003_152_151 (UNSUBMITTED)>\n",
      "pyramiding object: {'.default': 'mean'}\n",
      "Exporting: Landsat-Sentinel2-Hybrid_TOA_medoid_2004_2004_152_151\n",
      "<Task EXPORT_IMAGE: Landsat-Sentinel2-Hybrid_TOA_medoid_2004_2004_152_151 (UNSUBMITTED)>\n",
      "pyramiding object: {'.default': 'mean'}\n",
      "Exporting: Landsat-Sentinel2-Hybrid_TOA_medoid_2005_2005_152_151\n",
      "<Task EXPORT_IMAGE: Landsat-Sentinel2-Hybrid_TOA_medoid_2005_2005_152_151 (UNSUBMITTED)>\n",
      "pyramiding object: {'.default': 'mean'}\n",
      "Exporting: Landsat-Sentinel2-Hybrid_TOA_medoid_2006_2006_152_151\n",
      "<Task EXPORT_IMAGE: Landsat-Sentinel2-Hybrid_TOA_medoid_2006_2006_152_151 (UNSUBMITTED)>\n",
      "pyramiding object: {'.default': 'mean'}\n",
      "Exporting: Landsat-Sentinel2-Hybrid_TOA_medoid_2007_2007_152_151\n",
      "<Task EXPORT_IMAGE: Landsat-Sentinel2-Hybrid_TOA_medoid_2007_2007_152_151 (UNSUBMITTED)>\n",
      "pyramiding object: {'.default': 'mean'}\n",
      "Exporting: Landsat-Sentinel2-Hybrid_TOA_medoid_2008_2008_152_151\n",
      "<Task EXPORT_IMAGE: Landsat-Sentinel2-Hybrid_TOA_medoid_2008_2008_152_151 (UNSUBMITTED)>\n",
      "pyramiding object: {'.default': 'mean'}\n",
      "Exporting: Landsat-Sentinel2-Hybrid_TOA_medoid_2009_2009_152_151\n",
      "<Task EXPORT_IMAGE: Landsat-Sentinel2-Hybrid_TOA_medoid_2009_2009_152_151 (UNSUBMITTED)>\n",
      "pyramiding object: {'.default': 'mean'}\n",
      "Exporting: Landsat-Sentinel2-Hybrid_TOA_medoid_2010_2010_152_151\n",
      "<Task EXPORT_IMAGE: Landsat-Sentinel2-Hybrid_TOA_medoid_2010_2010_152_151 (UNSUBMITTED)>\n",
      "pyramiding object: {'.default': 'mean'}\n",
      "Exporting: Landsat-Sentinel2-Hybrid_TOA_medoid_2011_2011_152_151\n",
      "<Task EXPORT_IMAGE: Landsat-Sentinel2-Hybrid_TOA_medoid_2011_2011_152_151 (UNSUBMITTED)>\n",
      "pyramiding object: {'.default': 'mean'}\n",
      "Exporting: Landsat-Sentinel2-Hybrid_TOA_medoid_2012_2012_152_151\n",
      "<Task EXPORT_IMAGE: Landsat-Sentinel2-Hybrid_TOA_medoid_2012_2012_152_151 (UNSUBMITTED)>\n",
      "pyramiding object: {'.default': 'mean'}\n",
      "Exporting: Landsat-Sentinel2-Hybrid_TOA_medoid_2013_2013_152_151\n",
      "<Task EXPORT_IMAGE: Landsat-Sentinel2-Hybrid_TOA_medoid_2013_2013_152_151 (UNSUBMITTED)>\n",
      "pyramiding object: {'.default': 'mean'}\n",
      "Exporting: Landsat-Sentinel2-Hybrid_TOA_medoid_2014_2014_152_151\n",
      "<Task EXPORT_IMAGE: Landsat-Sentinel2-Hybrid_TOA_medoid_2014_2014_152_151 (UNSUBMITTED)>\n",
      "pyramiding object: {'.default': 'mean'}\n",
      "Exporting: Landsat-Sentinel2-Hybrid_TOA_medoid_2015_2015_152_151\n",
      "<Task EXPORT_IMAGE: Landsat-Sentinel2-Hybrid_TOA_medoid_2015_2015_152_151 (UNSUBMITTED)>\n",
      "pyramiding object: {'.default': 'mean'}\n",
      "Exporting: Landsat-Sentinel2-Hybrid_TOA_medoid_2016_2016_152_151\n",
      "<Task EXPORT_IMAGE: Landsat-Sentinel2-Hybrid_TOA_medoid_2016_2016_152_151 (UNSUBMITTED)>\n",
      "pyramiding object: {'.default': 'mean'}\n",
      "Exporting: Landsat-Sentinel2-Hybrid_TOA_medoid_2017_2017_152_151\n",
      "<Task EXPORT_IMAGE: Landsat-Sentinel2-Hybrid_TOA_medoid_2017_2017_152_151 (UNSUBMITTED)>\n",
      "pyramiding object: {'.default': 'mean'}\n",
      "Exporting: Landsat-Sentinel2-Hybrid_TOA_medoid_2018_2018_152_151\n",
      "<Task EXPORT_IMAGE: Landsat-Sentinel2-Hybrid_TOA_medoid_2018_2018_152_151 (UNSUBMITTED)>\n",
      "pyramiding object: {'.default': 'mean'}\n",
      "Exporting: Landsat-Sentinel2-Hybrid_TOA_medoid_2019_2019_152_151\n",
      "<Task EXPORT_IMAGE: Landsat-Sentinel2-Hybrid_TOA_medoid_2019_2019_152_151 (UNSUBMITTED)>\n",
      "pyramiding object: {'.default': 'mean'}\n",
      "Exporting: Landsat-Sentinel2-Hybrid_TOA_medoid_2020_2020_152_151\n",
      "<Task EXPORT_IMAGE: Landsat-Sentinel2-Hybrid_TOA_medoid_2020_2020_152_151 (UNSUBMITTED)>\n",
      "pyramiding object: {'.default': 'mean'}\n",
      "Exporting: Landsat-Sentinel2-Hybrid_TOA_medoid_2021_2021_152_151\n",
      "<Task EXPORT_IMAGE: Landsat-Sentinel2-Hybrid_TOA_medoid_2021_2021_152_151 (UNSUBMITTED)>\n",
      "pyramiding object: {'.default': 'mean'}\n",
      "Exporting: Landsat-Sentinel2-Hybrid_TOA_medoid_2022_2022_152_151\n",
      "<Task EXPORT_IMAGE: Landsat-Sentinel2-Hybrid_TOA_medoid_2022_2022_152_151 (UNSUBMITTED)>\n"
     ]
    },
    {
     "name": "stderr",
     "output_type": "stream",
     "text": [
      "127.0.0.1 - - [03/Aug/2023 21:23:36] \"GET /geeView/js/runGeeViz.js HTTP/1.1\" 200 -\n",
      "127.0.0.1 - - [03/Aug/2023 21:23:53] \"GET /geeView/js/runGeeViz.js HTTP/1.1\" 200 -\n",
      "127.0.0.1 - - [03/Aug/2023 21:24:07] \"GET /geeView/js/runGeeViz.js HTTP/1.1\" 200 -\n",
      "127.0.0.1 - - [03/Aug/2023 21:25:21] \"GET /geeView/js/runGeeViz.js HTTP/1.1\" 200 -\n",
      "127.0.0.1 - - [03/Aug/2023 21:25:45] \"GET /geeView/js/runGeeViz.js HTTP/1.1\" 200 -\n",
      "127.0.0.1 - - [03/Aug/2023 21:27:23] \"GET /geeView/js/runGeeViz.js HTTP/1.1\" 200 -\n",
      "127.0.0.1 - - [03/Aug/2023 21:28:00] \"GET /geeView/js/runGeeViz.js HTTP/1.1\" 200 -\n",
      "127.0.0.1 - - [03/Aug/2023 21:28:22] \"GET /geeView/js/runGeeViz.js HTTP/1.1\" 200 -\n",
      "127.0.0.1 - - [03/Aug/2023 21:32:16] \"GET /geeView/?accessToken=None HTTP/1.1\" 200 -\n",
      "127.0.0.1 - - [03/Aug/2023 21:32:16] \"GET /geeView/css/style.min.css HTTP/1.1\" 200 -\n",
      "127.0.0.1 - - [03/Aug/2023 21:32:16] \"GET /geeView/js/lcms-viewer.min.js HTTP/1.1\" 200 -\n",
      "127.0.0.1 - - [03/Aug/2023 21:32:16] \"GET /geeView/js/load.min.js HTTP/1.1\" 200 -\n",
      "127.0.0.1 - - [03/Aug/2023 21:32:16] \"GET /geeView/js/gena-gee-palettes.js HTTP/1.1\" 200 -\n",
      "127.0.0.1 - - [03/Aug/2023 21:32:16] \"GET /geeView/js/runGeeViz.js HTTP/1.1\" 200 -\n",
      "127.0.0.1 - - [03/Aug/2023 21:32:16] \"GET /geeView/images/usfslogo.png HTTP/1.1\" 200 -\n",
      "127.0.0.1 - - [03/Aug/2023 21:32:16] \"GET /geeView/images/menu-hamburger_ffffff.svg HTTP/1.1\" 200 -\n",
      "127.0.0.1 - - [03/Aug/2023 21:32:16] \"GET /geeView/images/layer_icon.png HTTP/1.1\" 200 -\n",
      "127.0.0.1 - - [03/Aug/2023 21:32:16] \"GET /geeView/images/GEE_logo_transparent.png HTTP/1.1\" 200 -\n",
      "127.0.0.1 - - [03/Aug/2023 21:32:16] \"GET /geeView/images/GEE.png HTTP/1.1\" 200 -\n",
      "127.0.0.1 - - [03/Aug/2023 21:32:16] \"GET /geeView/images/logos_usda-fs.svg HTTP/1.1\" 200 -\n",
      "127.0.0.1 - - [03/Aug/2023 21:32:16] \"GET /geeView/images/usdalogo.png HTTP/1.1\" 200 -\n",
      "127.0.0.1 - - [03/Aug/2023 21:34:10] \"GET /geeView/js/runGeeViz.js HTTP/1.1\" 200 -\n",
      "127.0.0.1 - - [03/Aug/2023 21:35:08] \"GET /geeView/js/runGeeViz.js HTTP/1.1\" 200 -\n",
      "127.0.0.1 - - [03/Aug/2023 21:38:44] \"GET /geeView/js/runGeeViz.js HTTP/1.1\" 200 -\n"
     ]
    }
   ],
   "source": [
    "# Run get images, set parameters manually, and export\n",
    "lsAndTs = getImagesLib.getLandsatAndSentinel2HybridWrapper(\\\n",
    "  \n",
    "                                                          # study area and time                                                          \n",
    "                                                          studyArea = studyArea,\n",
    "                                                          startYear = 1984,\n",
    "                                                          endYear = 2022,\n",
    "                                                          startJulian = 152,\n",
    "                                                          endJulian = 151,\n",
    "                                                          timebuffer =  0,\n",
    "                                                          weights =  [1],\n",
    "  \n",
    "                                                           # composite methods and input imagery\n",
    "                                                          compositingMethod = 'medoid',\n",
    "                                                          toaOrSR = 'TOA',\n",
    "                                                          includeSLCOffL7 = True,\n",
    "                                                          defringeL5 = True,\n",
    "                                                          landsatCollectionVersion = 'C2',\n",
    "                                                           \n",
    "                                                           # cloud and shadow masking\n",
    "                                                          applyQABand = False,\n",
    "                                                          applyCloudProbability = True,\n",
    "                                                          applyShadowShift = False,\n",
    "                                                          applyCloudScoreLandsat = True,\n",
    "                                                          applyCloudScoreSentinel2 = False,\n",
    "                                                          applyTDOMLandsat = True,\n",
    "                                                          applyTDOMSentinel2 = True,\n",
    "                                                          applyFmaskCloudMask = True,\n",
    "                                                          applyFmaskCloudShadowMask = True,\n",
    "                                                          applyFmaskSnowMask = False,\n",
    "                                                          cloudHeights = ee.List.sequence(500,10000,500),\n",
    "                                                          cloudScoreThresh = 10,\n",
    "                                                          performCloudScoreOffset = False,\n",
    "                                                          cloudScorePctl = 10,\n",
    "                                                          zScoreThresh = -1,\n",
    "                                                          shadowSumThresh = 0.35,\n",
    "                                                          contractPixels = 1.5,\n",
    "                                                          dilatePixels = 3.5,\n",
    "                                                          shadowSumBands = ['nir','swir1'],\n",
    "                                                          cloudProbThresh = 40,\n",
    "                                                           \n",
    "                                                           #image processing\n",
    "                                                          landsatResampleMethod = 'bicubic',\n",
    "                                                          sentinel2ResampleMethod = 'bicubic',\n",
    "                                                          convertToDailyMosaics = True,\n",
    "                                                          runChastainHarmonization = False, # Set to True in order to perform regression harmonization between Landsat and Sentinel 2\n",
    "                                                          correctIllumination = False,\n",
    "                                                          correctScale = 250,\n",
    "                                                           \n",
    "                                                           # export parameters\n",
    "                                                          exportComposites = True,\n",
    "                                                          outputName = 'Landsat-Sentinel2-Hybrid',\n",
    "                                                          exportPathRoot = export_composite_collection,\n",
    "                                                          crs = getImagesLib.common_projections['NLCD_CONUS']['crs'],\n",
    "                                                          transform = getImagesLib.common_projections['NLCD_CONUS']['transform'],\n",
    "                                                          scale = None,\n",
    "                                                           overwrite = False,\n",
    "                                                           \n",
    "                                                           # precomputed TDOM and cloudscore stats\n",
    "                                                          preComputedLandsatCloudScoreOffset = None,\n",
    "                                                          preComputedLandsatTDOMIRMean = landsat_tdom_stats.select(['.*_mean']),\n",
    "                                                          preComputedLandsatTDOMIRStdDev = landsat_tdom_stats.select(['.*_stdDev']),\n",
    "                                                          preComputedSentinel2CloudScoreOffset = None,\n",
    "                                                          preComputedSentinel2TDOMIRMean = s2_tdom_stats.select(['.*_mean']),\n",
    "                                                          preComputedSentinel2TDOMIRStdDev = s2_tdom_stats.select(['.*_stdDev'])\n",
    "                                                           )"
   ]
  },
  {
   "cell_type": "markdown",
   "id": "69a5fdd6-8e29-4d65-876b-bb577a651733",
   "metadata": {},
   "source": [
    "### Manage export tasks\n",
    "These export tasks can take anywhere from a few hours to a few days to run, depending on the size of your study area. It can be helpful to manage and observe the tasks after you've set them running. \n",
    "\n",
    "Below are some code snippets to use to manage and inspect the export tasks."
   ]
  },
  {
   "cell_type": "code",
   "execution_count": 9,
   "id": "aa71efe1-8e7a-48c7-8579-3d13444eddfc",
   "metadata": {},
   "outputs": [
    {
     "name": "stdout",
     "output_type": "stream",
     "text": [
      "done\n"
     ]
    }
   ],
   "source": [
    "# If you'd like to track the tasks, use this:\n",
    "# tml.trackTasks2()\n",
    "\n",
    "# If you want to cancel all running tasks, you can use this function\n",
    "# tml.batchCancel()\n",
    "\n",
    "# If you want to empty the collection of all images\n",
    "# aml.batchDelete(export_composite_collection, type = 'imageCollection')\n",
    "\n",
    "print('done')"
   ]
  },
  {
   "cell_type": "markdown",
   "id": "f06bcde7-66d5-4ed8-836c-c2eb0c146dd8",
   "metadata": {},
   "source": [
    "### View composites as they are completed\n",
    "After your composites have been exported, you can view the composites in your folder. "
   ]
  },
  {
   "cell_type": "code",
   "execution_count": 17,
   "id": "0043c3a8-45ea-46c1-b449-1d8ba4c93920",
   "metadata": {
    "colab": {
     "base_uri": "https://localhost:8080/",
     "height": 685
    },
    "executionInfo": {
     "elapsed": 614,
     "status": "ok",
     "timestamp": 1690298551890,
     "user": {
      "displayName": "Ian Housman",
      "userId": "00382093583884444463"
     },
     "user_tz": 360
    },
    "id": "9YX8XITxpI4Q",
    "outputId": "61bfa47b-9ec2-4c94-e5ab-978a4eff2c42"
   },
   "outputs": [],
   "source": [
    "# View composites as they are completed\n",
    "composites = ee.ImageCollection(export_composite_collection)\n",
    "\n",
    "# If your composites have not yet exported, you can use the following line of code to inspect pre-computed composites instead\n",
    "# composites = ee.ImageCollection() **update this with a path to our pre-baked composites, wherever they live\n"
   ]
  },
  {
   "cell_type": "markdown",
   "id": "3aa80c36-2497-41e3-a08b-bd7fd53e63db",
   "metadata": {},
   "source": [
    "### Inspect the outputs\n",
    "\n",
    "Explore the composites and some attributes that describe the quality of the composites."
   ]
  },
  {
   "cell_type": "code",
   "execution_count": 18,
   "id": "7545606e-7914-4ddb-991c-0a016a7d6c21",
   "metadata": {
    "colab": {
     "base_uri": "https://localhost:8080/",
     "height": 685
    },
    "executionInfo": {
     "elapsed": 614,
     "status": "ok",
     "timestamp": 1690298551890,
     "user": {
      "displayName": "Ian Housman",
      "userId": "00382093583884444463"
     },
     "user_tz": 360
    },
    "id": "9YX8XITxpI4Q",
    "outputId": "61bfa47b-9ec2-4c94-e5ab-978a4eff2c42"
   },
   "outputs": [
    {
     "name": "stdout",
     "output_type": "stream",
     "text": [
      "Adding layer: Composites\n",
      "Adding layer: Sensor\n",
      "Adding layer: Composite Observation Counts\n",
      "Starting webmap\n",
      "Using default refresh token for geeView: /home/jupyter/.config/earthengine/credentials\n",
      "Local web server at: http://localhost:8001/geeView/ already serving.\n",
      "cwd /home/jupyter/lcms-training\n",
      "Workbench Proxy URL: https://3b40cb8a2076f1b6-dot-us-west3.notebooks.googleusercontent.com/proxy/8001/geeView/?accessToken=None\n"
     ]
    },
    {
     "data": {
      "text/html": [
       "\n",
       "        <iframe\n",
       "            width=\"100%\"\n",
       "            height=\"525px\"\n",
       "            src=\"https://3b40cb8a2076f1b6-dot-us-west3.notebooks.googleusercontent.com/proxy/8001/geeView/?accessToken=None\"\n",
       "            frameborder=\"0\"\n",
       "            allowfullscreen\n",
       "            \n",
       "        ></iframe>\n",
       "        "
      ],
      "text/plain": [
       "<IPython.lib.display.IFrame at 0x7f299a2e8640>"
      ]
     },
     "metadata": {},
     "output_type": "display_data"
    },
    {
     "name": "stderr",
     "output_type": "stream",
     "text": [
      "127.0.0.1 - - [09/Aug/2023 22:37:43] \"GET /geeView/js/runGeeViz.js HTTP/1.1\" 200 -\n",
      "127.0.0.1 - - [09/Aug/2023 22:37:48] \"GET /geeView/images/cumulative_icon.png HTTP/1.1\" 200 -\n"
     ]
    }
   ],
   "source": [
    "# clear the map\n",
    "Map.clearMap()\n",
    "\n",
    "# First let's explore the composites and some attributes that can help understand how well the composites turned out\n",
    "Map.addTimeLapse(composites,getImagesLib.vizParamsFalse10k,'Composites')\n",
    "\n",
    "# By looking at the Sensor that is used, you can see \n",
    "# with the introduction of Landsat 8 in 2013 and then Sentinel 2 in 2016-2017, \n",
    "# composites become much better quality\n",
    "Map.addTimeLapse(composites.select('sensor'),{'min':4,'max':22,'palette':'088,808','classLegendDict':{'Landsat (Landsat 5 = 5, Landsat 7 = 7, etc...)':'088','Sentinel2 (Sentinel 2A = 21, Sentinel 2B = 22, etc....)':'808'}},'Sensor')\n",
    "Map.addTimeLapse(composites.select('compositeObsCount'),{'min':3,'max':10,'palette':'D0D,0D0'},'Composite Observation Counts')\n",
    "Map.turnOnInspector()\n",
    "Map.view()\n",
    "# Now that we have exported composites, we will use them in the LandTrendr temporal segmentation algorithm"
   ]
  },
  {
   "cell_type": "markdown",
   "id": "e213521d-0c1b-412b-8ba7-804aceec6210",
   "metadata": {},
   "source": [
    "#### Done with Module 2\n",
    "\n",
    "Now that we have exported composites, we will use them in the LandTrendr temporal segmentation algorithm in module 3. "
   ]
  }
 ],
 "metadata": {
  "colab": {
   "provenance": []
  },
  "environment": {
   "kernel": "python3",
   "name": "common-cpu.m109",
   "type": "gcloud",
   "uri": "gcr.io/deeplearning-platform-release/base-cpu:m109"
  },
  "kernelspec": {
   "display_name": "Python 3",
   "language": "python",
   "name": "python3"
  },
  "language_info": {
   "codemirror_mode": {
    "name": "ipython",
    "version": 3
   },
   "file_extension": ".py",
   "mimetype": "text/x-python",
   "name": "python",
   "nbconvert_exporter": "python",
   "pygments_lexer": "ipython3",
   "version": "3.10.11"
  }
 },
 "nbformat": 4,
 "nbformat_minor": 5
}
