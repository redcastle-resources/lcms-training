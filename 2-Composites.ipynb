{
 "cells": [
  {
   "cell_type": "code",
   "execution_count": 25,
   "id": "f9a2cd24",
   "metadata": {},
   "outputs": [],
   "source": [
    "# Copyright 2023 Google LLC\n",
    "#\n",
    "# Licensed under the Apache License, Version 2.0 (the \"License\");\n",
    "# you may not use this file except in compliance with the License.\n",
    "# You may obtain a copy of the License at\n",
    "#\n",
    "#     https://www.apache.org/licenses/LICENSE-2.0\n",
    "#\n",
    "# Unless required by applicable law or agreed to in writing, software\n",
    "# distributed under the License is distributed on an \"AS IS\" BASIS,\n",
    "# WITHOUT WARRANTIES OR CONDITIONS OF ANY KIND, either express or implied.\n",
    "# See the License for the specific language governing permissions and\n",
    "# limitations under the License."
   ]
  },
  {
   "cell_type": "markdown",
   "id": "47affb60",
   "metadata": {
    "id": "title:generic,gcp"
   },
   "source": [
    "# Create Landsat and Sentinel 2 Annual Composites\n",
    "\n",
    "<table align=\"left\">\n",
    "  <td>\n",
    "    <a href=\"https://colab.research.google.com/github/redcastle-resources/lcms-training/blob/main/2-Composites.ipynb\">\n",
    "      <img src=\"https://cloud.google.com/ml-engine/images/colab-logo-32px.png\" alt=\"Colab logo\"> Run in Colab\n",
    "    </a>\n",
    "  </td>\n",
    "  <td>\n",
    "    <a href=\"https://github.com/redcastle-resources/lcms-training/blob/main/2-Composites.ipynb\">\n",
    "      <img src=\"https://cloud.google.com/ml-engine/images/github-logo-32px.png\" alt=\"GitHub logo\">\n",
    "      View on GitHub\n",
    "    </a>\n",
    "  </td>\n",
    "  <td>\n",
    "    <a href=\"https://console.cloud.google.com/vertex-ai/workbench/deploy-notebook?download_url=https://github.com/redcastle-resources/lcms-training/blob/main/2-Composites.ipynb\">\n",
    "      <img src=\"https://lh3.googleusercontent.com/UiNooY4LUgW_oTvpsNhPpQzsstV5W8F7rYgxgGBD85cWJoLmrOzhVs_ksK_vgx40SHs7jCqkTkCk=e14-rj-sc0xffffff-h130-w32\" alt=\"Vertex AI logo\">\n",
    "      Open in Vertex AI Workbench\n",
    "    </a>\n",
    "  </td>\n",
    "</table>\n",
    "<br/><br/><br/>"
   ]
  },
  {
   "cell_type": "markdown",
   "id": "4565af03",
   "metadata": {
    "id": "overview:mlops"
   },
   "source": [
    "## Overview\n",
    "\n",
    "\n",
    "This notebook introduces the compositing methods used by the USDA Forest Service Landscape Change Monitoring System (LCMS). It then produces composites for a small LCMS study area. All composites are visualized using the `geeViz` Python package.\n",
    "\n",
    "Learn more about [geeViz](link to geeViz doc!!).\n",
    "\n",
    "The composites will be used to generate time series of data that the LCMS modeling algorithsm will use to predict areas of land use and land cover change, in the following modules. \n",
    "\n",
    "Learn more about [LCMS](https://apps.fs.usda.gov/lcms-viewer/home.html).\n",
    "\n",
    "### Objective\n",
    "\n",
    "This tutorial uses the following Google Cloud services:\n",
    "\n",
    "- `Google Earth Engine`\n",
    "\n",
    "The steps performed include:\n",
    "\n",
    "- Testing various parameters to create composites\n",
    "- Create composite asset"
   ]
  },
  {
   "cell_type": "markdown",
   "id": "d7d4b7b3",
   "metadata": {},
   "source": [
    "## Before you begin\n",
    "\n",
    "### Set your current URL under `workbench_url`\n",
    "* This will be in your URL/search bar at the top of the browser window you are currently in\n",
    "* It will look something like `https://1234567890122-dot-us-west3.notebooks.googleusercontent.com/`\n",
    "\n",
    "### Set a folder to use for all exports under `export_path_root` \n",
    "* It will be something like `projects/projectID/assets/someFolder`\n",
    "* This folder does not have to already exist. If it does not exist, it will be created"
   ]
  },
  {
   "cell_type": "code",
   "execution_count": 27,
   "id": "8d26d366",
   "metadata": {
    "colab": {
     "base_uri": "https://localhost:8080/"
    },
    "executionInfo": {
     "elapsed": 54452,
     "status": "ok",
     "timestamp": 1690298072312,
     "user": {
      "displayName": "Ian Housman",
      "userId": "00382093583884444463"
     },
     "user_tz": 360
    },
    "id": "ce3c6688",
    "outputId": "060bebcf-6f29-4b32-b739-93ea00af97ff"
   },
   "outputs": [
    {
     "name": "stdout",
     "output_type": "stream",
     "text": [
      "Done\n"
     ]
    }
   ],
   "source": [
    "workbench_url = 'https://3b40cb8a2076f1b6-dot-us-west3.notebooks.googleusercontent.com/'\n",
    "export_path_root  = 'projects/rcr-gee/assets/lcms-training'\n",
    "\n",
    "print('Done')"
   ]
  },
  {
   "cell_type": "markdown",
   "id": "2a851aba",
   "metadata": {},
   "source": [
    "# Installation\n",
    "Install necessary python packages. Uncomment the first line to upgrade geeViz if necessary."
   ]
  },
  {
   "cell_type": "code",
   "execution_count": 32,
   "id": "2c898c87",
   "metadata": {
    "colab": {
     "base_uri": "https://localhost:8080/"
    },
    "executionInfo": {
     "elapsed": 54452,
     "status": "ok",
     "timestamp": 1690298072312,
     "user": {
      "displayName": "Ian Housman",
      "userId": "00382093583884444463"
     },
     "user_tz": 360
    },
    "id": "ce3c6688",
    "outputId": "060bebcf-6f29-4b32-b739-93ea00af97ff"
   },
   "outputs": [
    {
     "name": "stdout",
     "output_type": "stream",
     "text": [
      "Requirement already satisfied: geeViz in /opt/conda/lib/python3.10/site-packages (2023.7.5)\n",
      "Collecting geeViz\n",
      "  Downloading geeViz-2023.8.2-py3-none-any.whl (685 kB)\n",
      "\u001b[2K     \u001b[90m━━━━━━━━━━━━━━━━━━━━━━━━━━━━━━━━━━━━━━\u001b[0m \u001b[32m685.7/685.7 kB\u001b[0m \u001b[31m10.7 MB/s\u001b[0m eta \u001b[36m0:00:00\u001b[0ma \u001b[36m0:00:01\u001b[0m\n",
      "\u001b[?25hRequirement already satisfied: earthengine-api in /opt/conda/lib/python3.10/site-packages (from geeViz) (0.1.361)\n",
      "Requirement already satisfied: oauth2client in /opt/conda/lib/python3.10/site-packages (from geeViz) (4.1.3)\n",
      "Requirement already satisfied: pandas in /opt/conda/lib/python3.10/site-packages (from geeViz) (1.5.3)\n",
      "Requirement already satisfied: matplotlib in /opt/conda/lib/python3.10/site-packages (from geeViz) (3.7.1)\n",
      "Requirement already satisfied: IPython in /opt/conda/lib/python3.10/site-packages (from geeViz) (8.14.0)\n",
      "Requirement already satisfied: requests in /opt/conda/lib/python3.10/site-packages (from geeViz) (2.31.0)\n",
      "Requirement already satisfied: folium in /opt/conda/lib/python3.10/site-packages (from geeViz) (0.14.0)\n",
      "Requirement already satisfied: simpledbf in /opt/conda/lib/python3.10/site-packages (from geeViz) (0.2.6)\n",
      "Requirement already satisfied: google-cloud-storage in /opt/conda/lib/python3.10/site-packages (from earthengine-api->geeViz) (2.9.0)\n",
      "Requirement already satisfied: google-api-python-client>=1.12.1 in /opt/conda/lib/python3.10/site-packages (from earthengine-api->geeViz) (2.95.0)\n",
      "Requirement already satisfied: google-auth>=1.4.1 in /opt/conda/lib/python3.10/site-packages (from earthengine-api->geeViz) (2.20.0)\n",
      "Requirement already satisfied: google-auth-httplib2>=0.0.3 in /opt/conda/lib/python3.10/site-packages (from earthengine-api->geeViz) (0.1.0)\n",
      "Requirement already satisfied: httplib2<1dev,>=0.9.2 in /opt/conda/lib/python3.10/site-packages (from earthengine-api->geeViz) (0.22.0)\n",
      "Requirement already satisfied: branca>=0.6.0 in /opt/conda/lib/python3.10/site-packages (from folium->geeViz) (0.6.0)\n",
      "Requirement already satisfied: jinja2>=2.9 in /opt/conda/lib/python3.10/site-packages (from folium->geeViz) (3.1.2)\n",
      "Requirement already satisfied: numpy in /opt/conda/lib/python3.10/site-packages (from folium->geeViz) (1.23.5)\n",
      "Requirement already satisfied: backcall in /opt/conda/lib/python3.10/site-packages (from IPython->geeViz) (0.2.0)\n",
      "Requirement already satisfied: decorator in /opt/conda/lib/python3.10/site-packages (from IPython->geeViz) (5.1.1)\n",
      "Requirement already satisfied: jedi>=0.16 in /opt/conda/lib/python3.10/site-packages (from IPython->geeViz) (0.18.2)\n",
      "Requirement already satisfied: matplotlib-inline in /opt/conda/lib/python3.10/site-packages (from IPython->geeViz) (0.1.6)\n",
      "Requirement already satisfied: pickleshare in /opt/conda/lib/python3.10/site-packages (from IPython->geeViz) (0.7.5)\n",
      "Requirement already satisfied: prompt-toolkit!=3.0.37,<3.1.0,>=3.0.30 in /opt/conda/lib/python3.10/site-packages (from IPython->geeViz) (3.0.38)\n",
      "Requirement already satisfied: pygments>=2.4.0 in /opt/conda/lib/python3.10/site-packages (from IPython->geeViz) (2.15.1)\n",
      "Requirement already satisfied: stack-data in /opt/conda/lib/python3.10/site-packages (from IPython->geeViz) (0.6.2)\n",
      "Requirement already satisfied: traitlets>=5 in /opt/conda/lib/python3.10/site-packages (from IPython->geeViz) (5.9.0)\n",
      "Requirement already satisfied: pexpect>4.3 in /opt/conda/lib/python3.10/site-packages (from IPython->geeViz) (4.8.0)\n",
      "Requirement already satisfied: contourpy>=1.0.1 in /opt/conda/lib/python3.10/site-packages (from matplotlib->geeViz) (1.1.0)\n",
      "Requirement already satisfied: cycler>=0.10 in /opt/conda/lib/python3.10/site-packages (from matplotlib->geeViz) (0.11.0)\n",
      "Requirement already satisfied: fonttools>=4.22.0 in /opt/conda/lib/python3.10/site-packages (from matplotlib->geeViz) (4.40.0)\n",
      "Requirement already satisfied: kiwisolver>=1.0.1 in /opt/conda/lib/python3.10/site-packages (from matplotlib->geeViz) (1.4.4)\n",
      "Requirement already satisfied: packaging>=20.0 in /opt/conda/lib/python3.10/site-packages (from matplotlib->geeViz) (23.1)\n",
      "Requirement already satisfied: pillow>=6.2.0 in /opt/conda/lib/python3.10/site-packages (from matplotlib->geeViz) (9.5.0)\n",
      "Requirement already satisfied: pyparsing>=2.3.1 in /opt/conda/lib/python3.10/site-packages (from matplotlib->geeViz) (3.0.9)\n",
      "Requirement already satisfied: python-dateutil>=2.7 in /opt/conda/lib/python3.10/site-packages (from matplotlib->geeViz) (2.8.2)\n",
      "Requirement already satisfied: pyasn1>=0.1.7 in /opt/conda/lib/python3.10/site-packages (from oauth2client->geeViz) (0.5.0)\n",
      "Requirement already satisfied: pyasn1-modules>=0.0.5 in /opt/conda/lib/python3.10/site-packages (from oauth2client->geeViz) (0.3.0)\n",
      "Requirement already satisfied: rsa>=3.1.4 in /opt/conda/lib/python3.10/site-packages (from oauth2client->geeViz) (4.9)\n",
      "Requirement already satisfied: six>=1.6.1 in /opt/conda/lib/python3.10/site-packages (from oauth2client->geeViz) (1.16.0)\n",
      "Requirement already satisfied: pytz>=2020.1 in /opt/conda/lib/python3.10/site-packages (from pandas->geeViz) (2023.3)\n",
      "Requirement already satisfied: charset-normalizer<4,>=2 in /opt/conda/lib/python3.10/site-packages (from requests->geeViz) (3.1.0)\n",
      "Requirement already satisfied: idna<4,>=2.5 in /opt/conda/lib/python3.10/site-packages (from requests->geeViz) (3.4)\n",
      "Requirement already satisfied: urllib3<3,>=1.21.1 in /opt/conda/lib/python3.10/site-packages (from requests->geeViz) (1.26.16)\n",
      "Requirement already satisfied: certifi>=2017.4.17 in /opt/conda/lib/python3.10/site-packages (from requests->geeViz) (2023.5.7)\n",
      "Requirement already satisfied: google-api-core!=2.0.*,!=2.1.*,!=2.2.*,!=2.3.0,<3.0.0.dev0,>=1.31.5 in /opt/conda/lib/python3.10/site-packages (from google-api-python-client>=1.12.1->earthengine-api->geeViz) (1.34.0)\n",
      "Requirement already satisfied: uritemplate<5,>=3.0.1 in /opt/conda/lib/python3.10/site-packages (from google-api-python-client>=1.12.1->earthengine-api->geeViz) (3.0.1)\n",
      "Requirement already satisfied: cachetools<6.0,>=2.0.0 in /opt/conda/lib/python3.10/site-packages (from google-auth>=1.4.1->earthengine-api->geeViz) (5.3.1)\n",
      "Requirement already satisfied: parso<0.9.0,>=0.8.0 in /opt/conda/lib/python3.10/site-packages (from jedi>=0.16->IPython->geeViz) (0.8.3)\n",
      "Requirement already satisfied: MarkupSafe>=2.0 in /opt/conda/lib/python3.10/site-packages (from jinja2>=2.9->folium->geeViz) (2.1.3)\n",
      "Requirement already satisfied: ptyprocess>=0.5 in /opt/conda/lib/python3.10/site-packages (from pexpect>4.3->IPython->geeViz) (0.7.0)\n",
      "Requirement already satisfied: wcwidth in /opt/conda/lib/python3.10/site-packages (from prompt-toolkit!=3.0.37,<3.1.0,>=3.0.30->IPython->geeViz) (0.2.6)\n",
      "Requirement already satisfied: google-cloud-core<3.0dev,>=2.3.0 in /opt/conda/lib/python3.10/site-packages (from google-cloud-storage->earthengine-api->geeViz) (2.3.2)\n",
      "Requirement already satisfied: google-resumable-media>=2.3.2 in /opt/conda/lib/python3.10/site-packages (from google-cloud-storage->earthengine-api->geeViz) (2.5.0)\n",
      "Requirement already satisfied: executing>=1.2.0 in /opt/conda/lib/python3.10/site-packages (from stack-data->IPython->geeViz) (1.2.0)\n",
      "Requirement already satisfied: asttokens>=2.1.0 in /opt/conda/lib/python3.10/site-packages (from stack-data->IPython->geeViz) (2.2.1)\n",
      "Requirement already satisfied: pure-eval in /opt/conda/lib/python3.10/site-packages (from stack-data->IPython->geeViz) (0.2.2)\n",
      "Requirement already satisfied: googleapis-common-protos<2.0dev,>=1.56.2 in /opt/conda/lib/python3.10/site-packages (from google-api-core!=2.0.*,!=2.1.*,!=2.2.*,!=2.3.0,<3.0.0.dev0,>=1.31.5->google-api-python-client>=1.12.1->earthengine-api->geeViz) (1.59.1)\n",
      "Requirement already satisfied: protobuf!=3.20.0,!=3.20.1,!=4.21.0,!=4.21.1,!=4.21.2,!=4.21.3,!=4.21.4,!=4.21.5,<4.0.0dev,>=3.19.5 in /opt/conda/lib/python3.10/site-packages (from google-api-core!=2.0.*,!=2.1.*,!=2.2.*,!=2.3.0,<3.0.0.dev0,>=1.31.5->google-api-python-client>=1.12.1->earthengine-api->geeViz) (3.20.3)\n",
      "Requirement already satisfied: google-crc32c<2.0dev,>=1.0 in /opt/conda/lib/python3.10/site-packages (from google-resumable-media>=2.3.2->google-cloud-storage->earthengine-api->geeViz) (1.5.0)\n",
      "Installing collected packages: geeViz\n",
      "  Attempting uninstall: geeViz\n",
      "    Found existing installation: geeViz 2023.7.5\n",
      "    Uninstalling geeViz-2023.7.5:\n",
      "      Successfully uninstalled geeViz-2023.7.5\n",
      "Successfully installed geeViz-2023.8.2\n",
      "Done\n"
     ]
    }
   ],
   "source": [
    "#Module imports\n",
    "#!python -m pip install geeViz --upgrade\n",
    "try:\n",
    "    import geeViz.getImagesLib as getImagesLib\n",
    "except:\n",
    "    !python -m pip install geeViz\n",
    "    import geeViz.getImagesLib as getImagesLib\n",
    "\n",
    "import geeViz.assetManagerLib as aml\n",
    "import geeViz.taskManagerLib as tml\n",
    "# from IPython.display import IFrame,display, HTML\n",
    "ee = getImagesLib.ee\n",
    "Map = getImagesLib.Map\n",
    "\n",
    "print('Done')"
   ]
  },
  {
   "cell_type": "markdown",
   "id": "ef592eb1",
   "metadata": {},
   "source": [
    "## Set up your work environment\n",
    "\n",
    "Create a folder and collection where you will export the results of the compositing lab "
   ]
  },
  {
   "cell_type": "code",
   "execution_count": 33,
   "id": "fe344fb7",
   "metadata": {},
   "outputs": [
    {
     "ename": "AttributeError",
     "evalue": "module 'geeViz.assetManagerLib' has no attribute 'create_asset'",
     "output_type": "error",
     "traceback": [
      "\u001b[0;31m---------------------------------------------------------------------------\u001b[0m",
      "\u001b[0;31mAttributeError\u001b[0m                            Traceback (most recent call last)",
      "Cell \u001b[0;32mIn[38], line 6\u001b[0m\n\u001b[1;32m      1\u001b[0m \u001b[38;5;66;03m# Create folder and a collection and make public\u001b[39;00m\n\u001b[1;32m      3\u001b[0m export_composite_collection \u001b[38;5;241m=\u001b[39m \u001b[38;5;124mf\u001b[39m\u001b[38;5;124m'\u001b[39m\u001b[38;5;132;01m{\u001b[39;00mexport_path_root\u001b[38;5;132;01m}\u001b[39;00m\u001b[38;5;124m/lcms-training_module-2_composites\u001b[39m\u001b[38;5;124m'\u001b[39m\n\u001b[0;32m----> 6\u001b[0m \u001b[43maml\u001b[49m\u001b[38;5;241;43m.\u001b[39;49m\u001b[43mcreate_asset\u001b[49m(export_composite_collection,asset_type \u001b[38;5;241m=\u001b[39m ee\u001b[38;5;241m.\u001b[39mdata\u001b[38;5;241m.\u001b[39mASSET_TYPE_IMAGE_COLL)\n\u001b[1;32m      8\u001b[0m \u001b[38;5;66;03m# Currently geeView within Colab uses a different project to authenticate through, so you may need to make your asset public to view from within Colab\u001b[39;00m\n\u001b[1;32m      9\u001b[0m aml\u001b[38;5;241m.\u001b[39mupdateACL(export_composite_collection,writers \u001b[38;5;241m=\u001b[39m [],all_users_can_read \u001b[38;5;241m=\u001b[39m \u001b[38;5;28;01mTrue\u001b[39;00m,readers \u001b[38;5;241m=\u001b[39m [])\n",
      "\u001b[0;31mAttributeError\u001b[0m: module 'geeViz.assetManagerLib' has no attribute 'create_asset'"
     ]
    }
   ],
   "source": [
    "# Create folder and a collection and make public\n",
    "\n",
    "export_composite_collection = f'{export_path_root}/lcms-training_module-2_composites'\n",
    "\n",
    "\n",
    "aml.create_asset(export_composite_collection,asset_type = ee.data.ASSET_TYPE_IMAGE_COLL)\n",
    "\n",
    "# Currently geeView within Colab uses a different project to authenticate through, so you may need to make your asset public to view from within Colab\n",
    "aml.updateACL(export_composite_collection,writers = [],all_users_can_read = True,readers = [])\n",
    "\n",
    "\n",
    "\n",
    "# aml.batchCopy('projects/rcr-gee/assets/composites-lcms-training-module-1',export_composite_collection,outType = 'imageCollection')\n",
    "# # aml.batchDelete('projects/rcr-gee/assets/composites-lcms-training-module-1')\n",
    "# print('Done')"
   ]
  },
  {
   "cell_type": "markdown",
   "id": "1f7c71d1",
   "metadata": {},
   "source": [
    "## Example 1: Default parameters\n",
    "\n",
    "We'll get to know the parameters in the getImages Lib. \n",
    "\n",
    "For more documentation of the parameters in the getImages Lib, refer to this document: \n",
    " -> link out to wrapper function in geeViz documentation and/or recreate here in Markdown format"
   ]
  },
  {
   "cell_type": "code",
   "execution_count": 34,
   "id": "88165903",
   "metadata": {
    "colab": {
     "base_uri": "https://localhost:8080/",
     "height": 1000
    },
    "executionInfo": {
     "elapsed": 3258,
     "status": "ok",
     "timestamp": 1690298168455,
     "user": {
      "displayName": "Ian Housman",
      "userId": "00382093583884444463"
     },
     "user_tz": 360
    },
    "id": "d4974e71",
    "outputId": "c5b14c5b-c86a-497c-f764-03b8871ef97a"
   },
   "outputs": [],
   "source": [
    "#This example will use all default parameters to demonstrate how to use the basic composite functionality\n",
    "Map.proxy_url = workbench_url\n",
    "\n",
    "#First clear the map in case it has been populated with layers/commands earlier\n",
    "Map.clearMap()"
   ]
  },
  {
   "cell_type": "markdown",
   "id": "c08b9de8",
   "metadata": {},
   "source": [
    "### Define parameters\n",
    "\n",
    "The first parameters we will vary are: \n",
    "* ```studyArea``` - a polygon that defines the area we want to examine\n",
    "* ```startJulian``` - \n",
    "* ```endJulian``` - \n",
    "* ```startYear``` - \n",
    "* ```endYear``` - "
   ]
  },
  {
   "cell_type": "code",
   "execution_count": 35,
   "id": "2d209dc4",
   "metadata": {
    "colab": {
     "base_uri": "https://localhost:8080/",
     "height": 1000
    },
    "executionInfo": {
     "elapsed": 3258,
     "status": "ok",
     "timestamp": 1690298168455,
     "user": {
      "displayName": "Ian Housman",
      "userId": "00382093583884444463"
     },
     "user_tz": 360
    },
    "id": "d4974e71",
    "outputId": "c5b14c5b-c86a-497c-f764-03b8871ef97a"
   },
   "outputs": [],
   "source": [
    "# Define user parameters:\n",
    "\n",
    "# Specify study area: Study area\n",
    "# Can be a featureCollection, feature, or geometry\n",
    "studyArea = ee.FeatureCollection('projects/lcms-292214/assets/R8/PR_USVI/Ancillary/prusvi_boundary_buff2mile')#.geometry().bounds(50,'EPSG:5070')\n",
    "# studyArea = ee.Geometry.Polygon(\n",
    "#         [[[-66.29465453845745, 18.491553939984392],\n",
    "#           [-66.29465453845745, 18.144770192006572],\n",
    "#           [-65.58054321033245, 18.144770192006572],\n",
    "#           [-65.58054321033245, 18.491553939984392]]], None, False)\n",
    "\n",
    "# Update the startJulian and endJulian variables to indicate your seasonal\n",
    "# constraints. This supports wrapping for tropics and southern hemisphere.\n",
    "# If using wrapping and the majority of the days occur in the second year, the system:time_start will default\n",
    "# to June 1 of that year.Otherwise, all system:time_starts will default to June 1 of the given year\n",
    "# startJulian: Starting Julian date\n",
    "# endJulian: Ending Julian date\n",
    "startJulian = 152\n",
    "endJulian = 151\n",
    "\n",
    "# Specify start and end years for all analyses\n",
    "# More than a 3 year span should be provided for time series methods to work\n",
    "# well. If providing pre-computed stats for cloudScore and TDOM, this does not\n",
    "# matter\n",
    "startYear = 2009\n",
    "endYear = 2011"
   ]
  },
  {
   "cell_type": "markdown",
   "id": "5e11ee68",
   "metadata": {},
   "source": [
    "### Call on master wrapper function\n",
    "link out to documentation about master wrapper function. \n",
    "Will print out all parameters below. \n",
    "Set verbose = FALSE (or whatever this is!!!) to make it quieter"
   ]
  },
  {
   "cell_type": "code",
   "execution_count": 36,
   "id": "b1f27054",
   "metadata": {
    "colab": {
     "base_uri": "https://localhost:8080/",
     "height": 1000
    },
    "executionInfo": {
     "elapsed": 3258,
     "status": "ok",
     "timestamp": 1690298168455,
     "user": {
      "displayName": "Ian Housman",
      "userId": "00382093583884444463"
     },
     "user_tz": 360
    },
    "id": "d4974e71",
    "outputId": "c5b14c5b-c86a-497c-f764-03b8871ef97a"
   },
   "outputs": [
    {
     "name": "stdout",
     "output_type": "stream",
     "text": [
      "Get Processed Landsat and Sentinel2 Scenes: \n",
      "Start date: Jun 01 2009 , End date: May 30 2012\n",
      "startYear :  2009\n",
      "endYear :  2011\n",
      "startJulian :  152\n",
      "endJulian :  151\n",
      "toaOrSR :  TOA\n",
      "includeSLCOffL7 :  False\n",
      "defringeL5 :  False\n",
      "applyQABand :  False\n",
      "applyCloudProbability :  True\n",
      "applyShadowShift :  False\n",
      "applyCloudScoreLandsat :  False\n",
      "applyCloudScoreSentinel2 :  False\n",
      "applyTDOMLandsat :  True\n",
      "applyTDOMSentinel2 :  True\n",
      "applyFmaskCloudMask :  True\n",
      "applyFmaskCloudShadowMask :  True\n",
      "applyFmaskSnowMask :  False\n",
      "cloudScoreThresh :  20\n",
      "performCloudScoreOffset :  True\n",
      "cloudScorePctl :  10\n",
      "zScoreThresh :  -1\n",
      "shadowSumBands :  ['nir', 'swir1']\n",
      "landsatResampleMethod :  near\n",
      "sentinel2ResampleMethod :  aggregate\n",
      "convertToDailyMosaics :  True\n",
      "runChastainHarmonization :  True\n",
      "correctIllumination :  False\n",
      "correctScale :  250\n",
      "preComputedLandsatCloudScoreOffset :  None\n",
      "preComputedLandsatTDOMIRMean :  None\n",
      "preComputedLandsatTDOMIRStdDev :  None\n",
      "preComputedSentinel2CloudScoreOffset :  None\n",
      "preComputedSentinel2TDOMIRMean :  None\n",
      "preComputedSentinel2TDOMIRStdDev :  None\n",
      "cloudProbThresh :  40\n",
      "landsatCollectionVersion :  C2\n",
      "origin :  Landsat-Sentinel2-Hybrid\n",
      "wrapOffset :  365\n",
      "Get Processed Landsat: \n",
      "Only including SLC On Landsat 7\n",
      "Applying Fmask Cloud Mask\n",
      "Applying TDOM Shadow Mask\n",
      "Computing irMean for TDOM\n",
      "Computing irStdDev for TDOM\n",
      "Applying Fmask Shadow Mask\n",
      "Get Processed Sentinel2: \n",
      "Start date: Jun 01 2009 , End date: May 30 2012\n",
      "startYear :  2009\n",
      "endYear :  2011\n",
      "startJulian :  152\n",
      "endJulian :  151\n",
      "applyQABand :  False\n",
      "applyCloudScore :  False\n",
      "applyShadowShift :  False\n",
      "applyTDOM :  True\n",
      "performCloudScoreOffset :  True\n",
      "cloudScorePctl :  10\n",
      "zScoreThresh :  -1\n",
      "shadowSumBands :  ['nir', 'swir1']\n",
      "resampleMethod :  aggregate\n",
      "convertToDailyMosaics :  True\n",
      "applyCloudProbability :  True\n",
      "preComputedCloudScoreOffset :  None\n",
      "preComputedTDOMIRMean :  None\n",
      "preComputedTDOMIRStdDev :  None\n",
      "origin :  Sentinel2\n",
      "wrapOffset :  365\n",
      "cloudProbThresh :  40\n",
      "cloudScoreThresh :  20\n",
      "toaOrSR :  TOA\n",
      "Using S2 Collection: COPERNICUS/S2_HARMONIZED\n",
      "Joining pre-computed cloud probabilities from: COPERNICUS/S2_CLOUD_PROBABILITY\n",
      "Setting to aggregate instead of resample \n",
      "Converting S2 data to daily mosaics\n",
      "Apply Cloud Probability\n",
      "Applying TDOM\n",
      "Computing irMean for TDOM\n",
      "Computing irStdDev for TDOM\n",
      "Running Chastain et al 2019 harmonization\n"
     ]
    }
   ],
   "source": [
    "#Call on master wrapper function to get Landat scenes and composites\n",
    "lsAndTs = getImagesLib.getLandsatAndSentinel2HybridWrapper(studyArea.geometry().bounds(50,'EPSG:5070'),\n",
    "                                                           startYear,\n",
    "                                                           endYear,\n",
    "                                                           startJulian,\n",
    "                                                           endJulian)\n",
    "\n",
    "#Separate into scenes and composites for subsequent analysis\n",
    "processedScenes = lsAndTs['processedScenes']\n",
    "processedComposites = lsAndTs['processedComposites']"
   ]
  },
  {
   "cell_type": "markdown",
   "id": "1e3ca955",
   "metadata": {},
   "source": [
    "### Add to Map\n",
    "Describe geeViz map functions - basically, the same as default functions in GEE Playground. \n",
    "\n",
    "The map viewer will appear below."
   ]
  },
  {
   "cell_type": "code",
   "execution_count": 37,
   "id": "0dba5939",
   "metadata": {
    "colab": {
     "base_uri": "https://localhost:8080/",
     "height": 1000
    },
    "executionInfo": {
     "elapsed": 3258,
     "status": "ok",
     "timestamp": 1690298168455,
     "user": {
      "displayName": "Ian Housman",
      "userId": "00382093583884444463"
     },
     "user_tz": 360
    },
    "id": "d4974e71",
    "outputId": "c5b14c5b-c86a-497c-f764-03b8871ef97a"
   },
   "outputs": [
    {
     "name": "stdout",
     "output_type": "stream",
     "text": [
      "Adding layer: Default Params 152-151\n",
      "Adding layer: Study Area\n",
      "Starting webmap\n",
      "Using default refresh token for geeView: /home/jupyter/.config/earthengine/credentials\n",
      "Local web server at: http://localhost:1234/geeView/ already serving.\n",
      "cwd /home/jupyter/lcms-training\n",
      "Workbench Proxy URL: https://3b40cb8a2076f1b6-dot-us-west3.notebooks.googleusercontent.com/proxy/1234/geeView/?accessToken=None\n"
     ]
    },
    {
     "data": {
      "text/html": [
       "\n",
       "        <iframe\n",
       "            width=\"100%\"\n",
       "            height=\"525px\"\n",
       "            src=\"https://3b40cb8a2076f1b6-dot-us-west3.notebooks.googleusercontent.com/proxy/1234/geeView/?accessToken=None\"\n",
       "            frameborder=\"0\"\n",
       "            allowfullscreen\n",
       "            \n",
       "        ></iframe>\n",
       "        "
      ],
      "text/plain": [
       "<IPython.lib.display.IFrame at 0x7fb414625510>"
      ]
     },
     "metadata": {},
     "output_type": "display_data"
    }
   ],
   "source": [
    "Map.clearMap()\n",
    "\n",
    "Map.addTimeLapse(processedComposites,getImagesLib.vizParamsFalse,'Default Params {}-{}'.format(startJulian,endJulian),'True')\n",
    "Map.addLayer(studyArea,{},'Study Area')\n",
    "Map.centerObject(studyArea)\n",
    "Map.turnOnInspector()\n",
    "Map.view()"
   ]
  },
  {
   "cell_type": "markdown",
   "id": "f56329b6",
   "metadata": {},
   "source": [
    "#### Inspect the outputs\n",
    "#It is clear the default parameters do not work very well in this area\n",
    "#There are missing data and cloud artifacts\n",
    "#You can access the parameters that were used through the properties of the returned collection"
   ]
  },
  {
   "cell_type": "code",
   "execution_count": null,
   "id": "03c137bf",
   "metadata": {
    "colab": {
     "base_uri": "https://localhost:8080/"
    },
    "executionInfo": {
     "elapsed": 1505,
     "status": "ok",
     "timestamp": 1690298215913,
     "user": {
      "displayName": "Ian Housman",
      "userId": "00382093583884444463"
     },
     "user_tz": 360
    },
    "id": "48dc6ee9",
    "outputId": "4a71a638-a9dd-45c8-b0e5-8d9ddb253bf7"
   },
   "outputs": [],
   "source": [
    "#It is clear the default parameters do not work very well in this area\n",
    "#There are missing data and cloud artifacts\n",
    "#You can access the parameters that were used through the properties of the returned collection\n",
    "print(processedComposites.toDictionary().getInfo())\n",
    "print(processedScenes.toDictionary().getInfo())\n",
    "\n"
   ]
  },
  {
   "cell_type": "markdown",
   "id": "38d23aa0",
   "metadata": {},
   "source": [
    "## Example 2: Include Landsat 7\n",
    "Since there are not that many images available in this area for these years, let's try adding Landsat .\n",
    "\n",
    "### Add a new parameter\n",
    "\n",
    "We'll do this by adding a new parameter to the getImagesLib wrapper function: \n",
    "``` includeSLCoffL7 ``` "
   ]
  },
  {
   "cell_type": "code",
   "execution_count": 25,
   "id": "4c4e6249",
   "metadata": {
    "colab": {
     "base_uri": "https://localhost:8080/",
     "height": 1000
    },
    "executionInfo": {
     "elapsed": 4407,
     "status": "ok",
     "timestamp": 1690298237041,
     "user": {
      "displayName": "Ian Housman",
      "userId": "00382093583884444463"
     },
     "user_tz": 360
    },
    "id": "704e7fb1",
    "outputId": "1b0f740a-eb14-4911-e2b4-dd596beccc72"
   },
   "outputs": [],
   "source": [
    "#Since there are not that many images available in this area for these years, let's try adding Landsat 7\n",
    "includeSLCOffL7 = True"
   ]
  },
  {
   "cell_type": "markdown",
   "id": "d27bc4f2",
   "metadata": {},
   "source": [
    "### Call on wrapper function again, including new parameter"
   ]
  },
  {
   "cell_type": "code",
   "execution_count": 25,
   "id": "5ad19968",
   "metadata": {
    "colab": {
     "base_uri": "https://localhost:8080/",
     "height": 1000
    },
    "executionInfo": {
     "elapsed": 4407,
     "status": "ok",
     "timestamp": 1690298237041,
     "user": {
      "displayName": "Ian Housman",
      "userId": "00382093583884444463"
     },
     "user_tz": 360
    },
    "id": "704e7fb1",
    "outputId": "1b0f740a-eb14-4911-e2b4-dd596beccc72"
   },
   "outputs": [],
   "source": [
    "#Call on master wrapper function to get Landat scenes and composites\n",
    "lsAndTs = getImagesLib.getLandsatAndSentinel2HybridWrapper(studyArea.geometry().bounds(50,'EPSG:5070'),startYear,endYear,startJulian,endJulian,includeSLCOffL7=includeSLCOffL7)\n",
    "\n",
    "\n",
    "#Separate into scenes and composites for subsequent analysis\n",
    "processedScenes = lsAndTs['processedScenes']\n",
    "processedComposites = lsAndTs['processedComposites']"
   ]
  },
  {
   "cell_type": "markdown",
   "id": "5843b424",
   "metadata": {},
   "source": [
    "### Add to map"
   ]
  },
  {
   "cell_type": "code",
   "execution_count": 25,
   "id": "d46d6765",
   "metadata": {
    "colab": {
     "base_uri": "https://localhost:8080/",
     "height": 1000
    },
    "executionInfo": {
     "elapsed": 4407,
     "status": "ok",
     "timestamp": 1690298237041,
     "user": {
      "displayName": "Ian Housman",
      "userId": "00382093583884444463"
     },
     "user_tz": 360
    },
    "id": "704e7fb1",
    "outputId": "1b0f740a-eb14-4911-e2b4-dd596beccc72"
   },
   "outputs": [],
   "source": [
    "#Turn off layers from previous iteration\n",
    "Map.turnOffAllLayers()\n",
    "\n",
    "# Map.addLayer(processedComposites.select(['NDVI','NBR']),{'addToLegend':'false'},'Time Series (NBR and NDVI)',False)\n",
    "# for year in range(startYear,endYear + 1 ):\n",
    "    #  t = processedComposites.filter(ee.Filter.calendarRange(year,year,'year')).mosaic()\n",
    "Map.addTimeLapse(processedComposites,getImagesLib.vizParamsFalse,'L7 added {}-{}'.format(startJulian,endJulian),True)\n",
    "\n",
    "\n",
    "Map.view()"
   ]
  },
  {
   "cell_type": "markdown",
   "id": "c7c399ab",
   "metadata": {
    "colab": {
     "base_uri": "https://localhost:8080/",
     "height": 1000
    },
    "executionInfo": {
     "elapsed": 4407,
     "status": "ok",
     "timestamp": 1690298237041,
     "user": {
      "displayName": "Ian Housman",
      "userId": "00382093583884444463"
     },
     "user_tz": 360
    },
    "id": "704e7fb1",
    "outputId": "1b0f740a-eb14-4911-e2b4-dd596beccc72"
   },
   "source": [
    "### Inspect the outputs\n",
    "You'll notice this helps fill in the holes, but introduces many cloud-related artifacts"
   ]
  },
  {
   "cell_type": "markdown",
   "id": "99299fc9",
   "metadata": {},
   "source": [
    "## Example 3: Improve Cloud masking \n",
    "Let's try to improve the cloud masking. Fmask is used by default, but misses some clouds\n",
    "We'll try the adding in the cloudScore method\n",
    "We do this by setting the ```applyCloudScore``` parameter\n",
    "To learn more about the cloudScore cloud masking method, visit: \n",
    "\n",
    "### Add cloud masking parameter"
   ]
  },
  {
   "cell_type": "code",
   "execution_count": 26,
   "id": "34db793f",
   "metadata": {
    "colab": {
     "base_uri": "https://localhost:8080/",
     "height": 1000
    },
    "executionInfo": {
     "elapsed": 2691,
     "status": "ok",
     "timestamp": 1690298306083,
     "user": {
      "displayName": "Ian Housman",
      "userId": "00382093583884444463"
     },
     "user_tz": 360
    },
    "id": "6a648400",
    "outputId": "d8befeed-df28-43d3-bffa-24f0e9315887"
   },
   "outputs": [],
   "source": [
    "#Let's try to improve the cloud masking. Fmask is used by default, but misses some clouds\n",
    "#We'll try the adding in the cloudScore method\n",
    "applyCloudScore = True"
   ]
  },
  {
   "cell_type": "markdown",
   "id": "6f1d10ed",
   "metadata": {},
   "source": [
    "### Run master wrapper function\n",
    "Keeping all other parameters the same"
   ]
  },
  {
   "cell_type": "code",
   "execution_count": 26,
   "id": "c62d0224",
   "metadata": {
    "colab": {
     "base_uri": "https://localhost:8080/",
     "height": 1000
    },
    "executionInfo": {
     "elapsed": 2691,
     "status": "ok",
     "timestamp": 1690298306083,
     "user": {
      "displayName": "Ian Housman",
      "userId": "00382093583884444463"
     },
     "user_tz": 360
    },
    "id": "6a648400",
    "outputId": "d8befeed-df28-43d3-bffa-24f0e9315887"
   },
   "outputs": [],
   "source": [
    "#Call on master wrapper function to get Landat scenes and composites\n",
    "lsAndTs = getImagesLib.getLandsatAndSentinel2HybridWrapper(studyArea.geometry().bounds(50,'EPSG:5070'),\n",
    "                                                           startYear,\n",
    "                                                           endYear,\n",
    "                                                           startJulian,\n",
    "                                                           endJulian,\n",
    "                                                           includeSLCOffL7=includeSLCOffL7,\n",
    "                                                           applyCloudScoreLandsat=applyCloudScore)\n",
    "\n",
    "\n",
    "#Separate into scenes and composites for subsequent analysis\n",
    "processedScenes = lsAndTs['processedScenes']\n",
    "processedComposites = lsAndTs['processedComposites']"
   ]
  },
  {
   "cell_type": "markdown",
   "id": "677f2d7d",
   "metadata": {},
   "source": [
    "### Add to Map"
   ]
  },
  {
   "cell_type": "code",
   "execution_count": 26,
   "id": "2eac68b9",
   "metadata": {
    "colab": {
     "base_uri": "https://localhost:8080/",
     "height": 1000
    },
    "executionInfo": {
     "elapsed": 2691,
     "status": "ok",
     "timestamp": 1690298306083,
     "user": {
      "displayName": "Ian Housman",
      "userId": "00382093583884444463"
     },
     "user_tz": 360
    },
    "id": "6a648400",
    "outputId": "d8befeed-df28-43d3-bffa-24f0e9315887"
   },
   "outputs": [],
   "source": [
    "#Turn off layers from previous iteration\n",
    "Map.turnOffAllLayers()\n",
    "\n",
    "\n",
    "Map.addTimeLapse(processedComposites,getImagesLib.vizParamsFalse,'L7 and CloudScore added {}-{}'.format(startJulian,endJulian),True)\n",
    "\n",
    "\n",
    "Map.view()"
   ]
  },
  {
   "cell_type": "markdown",
   "id": "eb220641",
   "metadata": {},
   "source": [
    "### Inspect\n",
    "You'll notice this cleans up the cloud masking a lot\n",
    "You'll still notice there are some dark areas likely due to cloud shadow masking omission\n",
    "Fmasks's cloud shadow mask misses a lot typically. A temporal outlier method called the\n",
    "Temporal Dark Outlier Mask (TDOM) works well with masking cloud shadows. \n",
    "\n"
   ]
  },
  {
   "cell_type": "markdown",
   "id": "646604aa",
   "metadata": {},
   "source": [
    "## Example 4: Use Temporal Dark Outlier Mask (TDOM) to Mask shadows\n",
    "One sentence summary of TDOM + Link to documentation about TDOM\n",
    "\n",
    "### Set TDOM parameter\n",
    "``` applyTDOM ```"
   ]
  },
  {
   "cell_type": "code",
   "execution_count": 27,
   "id": "d82b2330",
   "metadata": {
    "colab": {
     "base_uri": "https://localhost:8080/",
     "height": 1000
    },
    "executionInfo": {
     "elapsed": 2608,
     "status": "ok",
     "timestamp": 1690298428991,
     "user": {
      "displayName": "Ian Housman",
      "userId": "00382093583884444463"
     },
     "user_tz": 360
    },
    "id": "262c5658",
    "outputId": "862b6a1a-52af-4d2e-e248-f1392bf6008a"
   },
   "outputs": [],
   "source": [
    "#We'll try the TDOMe method\n",
    "applyTDOM = True"
   ]
  },
  {
   "cell_type": "markdown",
   "id": "92a809cb",
   "metadata": {},
   "source": [
    "### Run master wrapper function"
   ]
  },
  {
   "cell_type": "code",
   "execution_count": 27,
   "id": "1e4e95e6",
   "metadata": {
    "colab": {
     "base_uri": "https://localhost:8080/",
     "height": 1000
    },
    "executionInfo": {
     "elapsed": 2608,
     "status": "ok",
     "timestamp": 1690298428991,
     "user": {
      "displayName": "Ian Housman",
      "userId": "00382093583884444463"
     },
     "user_tz": 360
    },
    "id": "262c5658",
    "outputId": "862b6a1a-52af-4d2e-e248-f1392bf6008a"
   },
   "outputs": [],
   "source": [
    "#Call on master wrapper function to get Landat scenes and composites\n",
    "#In order to identify dark outliers, we will extend the dates by 6 years to get a larger sample\n",
    "lsAndTs = getImagesLib.getLandsatAndSentinel2HybridWrapper(studyArea.geometry().bounds(50,'EPSG:5070'),\n",
    "                                                           startYear,\n",
    "                                                           endYear,\n",
    "                                                           startJulian,\n",
    "                                                           endJulian,\n",
    "                                                           includeSLCOffL7=includeSLCOffL7,\n",
    "                                                           applyCloudScoreLandsat=applyCloudScore,\n",
    "                                                           applyTDOM = applyTDOM)\n",
    "\n",
    "\n",
    "#Separate into scenes and composites for subsequent analysis\n",
    "processedScenes = lsAndTs['processedScenes']\n",
    "processedComposites = lsAndTs['processedComposites']"
   ]
  },
  {
   "cell_type": "markdown",
   "id": "980cdae9",
   "metadata": {},
   "source": [
    "### Add to map"
   ]
  },
  {
   "cell_type": "code",
   "execution_count": 27,
   "id": "446936b0",
   "metadata": {
    "colab": {
     "base_uri": "https://localhost:8080/",
     "height": 1000
    },
    "executionInfo": {
     "elapsed": 2608,
     "status": "ok",
     "timestamp": 1690298428991,
     "user": {
      "displayName": "Ian Housman",
      "userId": "00382093583884444463"
     },
     "user_tz": 360
    },
    "id": "262c5658",
    "outputId": "862b6a1a-52af-4d2e-e248-f1392bf6008a"
   },
   "outputs": [],
   "source": [
    "#Turn off layers from previous iteration\n",
    "Map.turnOffAllLayers()\n",
    "\n",
    "Map.addTimeLapse(processedComposites,getImagesLib.vizParamsFalse,'CloudScore and TDOM added {}-{}'.format(startJulian,endJulian),True)\n",
    "\n",
    "\n",
    "Map.view()"
   ]
  },
  {
   "cell_type": "markdown",
   "id": "0cba5252",
   "metadata": {
    "colab": {
     "base_uri": "https://localhost:8080/",
     "height": 1000
    },
    "executionInfo": {
     "elapsed": 2608,
     "status": "ok",
     "timestamp": 1690298428991,
     "user": {
      "displayName": "Ian Housman",
      "userId": "00382093583884444463"
     },
     "user_tz": 360
    },
    "id": "262c5658",
    "outputId": "862b6a1a-52af-4d2e-e248-f1392bf6008a"
   },
   "source": [
    "### Inspect\n",
    "You'll notice this cleans up the cloud masking a lot. \n",
    "\n",
    "### TDOM is computationally intensive\n",
    "However, while TDOM is a great cloud shadow masking method, it is a bit computationally intensive since it computes the mean and standard deviation over a large stack of data.\n",
    "\n",
    "In order to avoid re-computing the stats, we store pre-computed stats. For the LCMS project, we have precomputed stats for CONUS, AK, HI, PuertoRico, and the USVI. \n",
    "(do we want to point people to these stats? )\n",
    "\n",
    "It is optional that you use pre-computed stats. If none are provided, TDOM stats will be computed on-the-fly. \n",
    "\n",
    "You can create and store precomputed TDOM stats using the following code chunk: \n",
    "\n",
    "```\n",
    "{\n",
    "  this is an example set of code to show people how to compute TDOM stats\n",
    "  we'll fill this in later!!\n",
    "}\n",
    "```\n",
    "### Inspect TDOM stats\n",
    "\n",
    "We can look at just the raw TDOM stats on the map. "
   ]
  },
  {
   "cell_type": "code",
   "execution_count": 11,
   "id": "de1937e1",
   "metadata": {},
   "outputs": [
    {
     "name": "stdout",
     "output_type": "stream",
     "text": [
      "Adding layer: Landsat TDOM Stats\n",
      "Adding layer: Sentinel 2 TDOM Stats\n",
      "Starting webmap\n",
      "Using default refresh token for geeView: /home/jupyter/.config/earthengine/credentials\n",
      "Local web server at: http://localhost:8001/geeView/ already serving.\n",
      "cwd /home/jupyter/lcms-training\n",
      "Workbench Proxy URL: https://23dcc4ff89e513fb-dot-us-west3.notebooks.googleusercontent.com/proxy/8001/geeView/?accessToken=None\n"
     ]
    },
    {
     "data": {
      "text/html": [
       "\n",
       "        <iframe\n",
       "            width=\"100%\"\n",
       "            height=\"525px\"\n",
       "            src=\"https://23dcc4ff89e513fb-dot-us-west3.notebooks.googleusercontent.com/proxy/8001/geeView/?accessToken=None\"\n",
       "            frameborder=\"0\"\n",
       "            allowfullscreen\n",
       "            \n",
       "        ></iframe>\n",
       "        "
      ],
      "text/plain": [
       "<IPython.lib.display.IFrame at 0x7f56da926470>"
      ]
     },
     "metadata": {},
     "output_type": "display_data"
    },
    {
     "name": "stderr",
     "output_type": "stream",
     "text": [
      "127.0.0.1 - - [03/Aug/2023 21:19:43] \"GET /geeView/?accessToken=None HTTP/1.1\" 200 -\n",
      "127.0.0.1 - - [03/Aug/2023 21:19:43] \"GET /geeView/js/lcms-viewer.min.js HTTP/1.1\" 200 -\n",
      "127.0.0.1 - - [03/Aug/2023 21:19:43] \"GET /geeView/js/load.min.js HTTP/1.1\" 200 -\n",
      "127.0.0.1 - - [03/Aug/2023 21:19:43] \"GET /geeView/js/gena-gee-palettes.js HTTP/1.1\" 200 -\n",
      "127.0.0.1 - - [03/Aug/2023 21:19:43] \"GET /geeView/css/style.min.css HTTP/1.1\" 200 -\n",
      "127.0.0.1 - - [03/Aug/2023 21:19:43] \"GET /geeView/js/runGeeViz.js HTTP/1.1\" 200 -\n",
      "127.0.0.1 - - [03/Aug/2023 21:19:43] \"GET /geeView/images/GEE_logo_transparent.png HTTP/1.1\" 200 -\n",
      "127.0.0.1 - - [03/Aug/2023 21:19:43] \"GET /geeView/images/logos_usda-fs.svg HTTP/1.1\" 200 -\n",
      "127.0.0.1 - - [03/Aug/2023 21:19:43] \"GET /geeView/images/usfslogo.png HTTP/1.1\" 200 -\n",
      "127.0.0.1 - - [03/Aug/2023 21:19:43] \"GET /geeView/images/GEE.png HTTP/1.1\" 200 -\n",
      "127.0.0.1 - - [03/Aug/2023 21:19:43] \"GET /geeView/images/menu-hamburger_ffffff.svg HTTP/1.1\" 200 -\n",
      "127.0.0.1 - - [03/Aug/2023 21:19:43] \"GET /geeView/images/usdalogo.png HTTP/1.1\" 200 -\n",
      "127.0.0.1 - - [03/Aug/2023 21:19:43] \"GET /geeView/images/layer_icon.png HTTP/1.1\" 200 -\n"
     ]
    }
   ],
   "source": [
    "# While TDOM is a great cloud shadow masking method, it is a bit computationally intensive since it computes the mean and standard deviation over a large stack of data\n",
    "# In order to avoid re-computing the stats, we store pre-computed stats. It is optional that you use pre-computed stats. If none are provided, TDOM stats will be computed on-the-fly\n",
    "\n",
    "Map.clearMap()\n",
    "\n",
    "landsat_tdom_stats = ee.Image('projects/lcms-tcc-shared/assets/CS-TDOM-Stats/PR-USVI/TDOM_stats/Landsat_TDOM_Stats_1984_2021')\\\n",
    "                    .select(['Landsat_nir_.*','Landsat_swir1_.*'])\\\n",
    "                    .divide(10000)\n",
    "s2_tdom_stats = ee.Image('projects/lcms-tcc-shared/assets/CS-TDOM-Stats/PR-USVI/TDOM_stats/Sentinel2_TDOM_Stats_2015_2021')\\\n",
    "                    .select(['Sentinel2_nir_.*','Sentinel2_swir1_.*'])\\\n",
    "                    .divide(10000)\n",
    "Map.addLayer(landsat_tdom_stats,{'min':0.15,'max':0.35,'bands':'Landsat_nir_mean','palette':'222,080'},'Landsat TDOM Stats')\n",
    "Map.addLayer(s2_tdom_stats,{'min':0.15,'max':0.35,'bands':'Sentinel2_nir_mean','palette':'222,080'},'Sentinel 2 TDOM Stats')\n",
    "\n",
    "Map.turnOnInspector()\n",
    "Map.view()\n",
    "\n",
    "\n"
   ]
  },
  {
   "cell_type": "markdown",
   "id": "09b99fa1",
   "metadata": {},
   "source": [
    "#Define user parameters:\n",
    "\n",
    "# Specify study area: Study area\n",
    "# Can be a featureCollection, feature, or geometry\n",
    "studyArea = getImagesLib.testAreas['CA']\n",
    "\n",
    "# Update the startJulian and endJulian variables to indicate your seasonal \n",
    "# constraints. This supports wrapping for tropics and southern hemisphere.\n",
    "# If using wrapping and the majority of the days occur in the second year, the system:time_start will default \n",
    "# to June 1 of that year.Otherwise, all system:time_starts will default to June 1 of the given year\n",
    "# startJulian: Starting Julian date \n",
    "# endJulian: Ending Julian date\n",
    "startJulian = 152\n",
    "endJulian = 273\n",
    "\n",
    "# Specify start and end years for all analyses\n",
    "# More than a 3 year span should be provided for time series methods to work \n",
    "# well. If providing pre-computed stats for cloudScore and TDOM, this does not \n",
    "# matter\n",
    "startYear = 2018\n",
    "endYear = 2022\n",
    "\n",
    "# Specify an annual buffer to include imagery from the same season \n",
    "# timeframe from the prior and following year. timeBuffer = 1 will result \n",
    "# in a 3 year moving window. If you want single-year composites, set to 0\n",
    "timebuffer =0\n",
    "\n",
    "# Specify the weights to be used for the moving window created by timeBuffer\n",
    "# For example- if timeBuffer is 1, that is a 3 year moving window\n",
    "# If the center year is 2000, then the years are 1999,2000, and 2001\n",
    "# In order to overweight the center year, you could specify the weights as\n",
    "# [1,5,1] which would duplicate the center year 5 times and increase its weight for\n",
    "# the compositing method. If timeBuffer = 0, set to [1]\n",
    "weights = [1]\n",
    "\n",
    "# Choose medoid or median compositing method. \n",
    "# Median tends to be smoother, while medoid retains \n",
    "# single date of observation across all bands\n",
    "# The date of each pixel is stored if medoid is used. This is not done for median\n",
    "# If not exporting indices with composites to save space, medoid should be used\n",
    "compositingMethod = 'medoid'\n",
    "\n",
    "# Choose which Landsat USGS Collection version to use\n",
    "# Choices are 'C1' for Collection 1 and 'C2' for Collection 2\n",
    "# Only choose 'C1' if working with other Collection 1 data and using\n",
    "# data from before 1/1/2022. Otherwise, choose 'C2'\n",
    "# See: https://www.usgs.gov/landsat-missions/landsat-collection-2 for more information\n",
    "landsatCollectionVersion = 'C2'\n",
    "\n",
    "# Choose Top of Atmospheric (TOA) or Surface Reflectance (SR)\n",
    "# Use caution when combining Landsat and S2 SR data since S2 SR data had terrain correction performed \n",
    "toaOrSR = 'TOA'\n",
    "\n",
    "# Whether to convert S2 images from the military grid reference system(MGRS) tiles to daily mosaics to avoid arbitrary\n",
    "# MGRS tile artifacts or not. In most cases, it is best to set this to true.\n",
    "convertToDailyMosaics = True\n",
    "\n",
    "\n",
    "# Choose whether to include Landat 7\n",
    "# Generally only included when data are limited\n",
    "includeSLCOffL7 = True\n",
    "\n",
    "# Whether to defringe L4 and L5\n",
    "# Landsat 4 and 5 data have fringes on the edges that can introduce anomalies into \n",
    "# the analysis.  This method removes them, but is somewhat computationally expensive\n",
    "defringeL5 = True\n",
    "\n",
    "# Choose cloud/cloud shadow masking method\n",
    "#  Choices are a series of booleans for cloudScore, TDOM, and elements of Fmask\n",
    "# Fmask masking options will run fastest since they're precomputed\n",
    "# Fmask cloud mask is generally very good, while the fMask cloud shadow\n",
    "# mask isn't great. TDOM tends to perform better than the Fmask cloud shadow mask. cloudScore \n",
    "# is usually about as good as the Fmask cloud mask overall, but each failes in different instances.\n",
    "# CloudScore runs pretty quickly, but does look at the time series to find areas that \n",
    "# always have a high cloudScore to reduce commission errors- this takes some time\n",
    "# and needs a longer time series (>5 years or so)\n",
    "# TDOM also looks at the time series and will need a longer time series\n",
    "# If pre-computed cloudScore offsets and/or TDOM stats are provided below, cloudScore\n",
    "# and TDOM will run quite quickly\n",
    "\n",
    "#CloudScore and TDOM switches- for both Sentinel 2 and Landsat separately\n",
    "#We generally use cloudScore for Landsat, but not Sentinel 2\n",
    "applyCloudScoreLandsat = True\n",
    "applyCloudScoreSentinel2 = False\n",
    "\n",
    "applyTDOMLandsat = True\n",
    "applyTDOMSentinel2 = True\n",
    "\n",
    "#S2 only cloud/cloud shadow masking methods switches- generally do not use these\n",
    "#QA band method is fast but is generally awful- don't use if you like good composites\n",
    "#Shadow shift is intended if you don't have a time series to use for TDOM or just want individual images\n",
    "#It will commit any dark area that the cloud mask is cast over (water, hill shadows, etc)\n",
    "applyQABand = False\n",
    "applyShadowShift = False\n",
    "#Height of clouds to use to project cloud shadows\n",
    "cloudHeights = ee.List.sequence(500,10000,500)\n",
    "\n",
    "#Whether to use the pre-computed cloud probabilities to mask\n",
    "#clouds for Sentinel 2\n",
    "#This method works really well\n",
    "applyCloudProbability = True\n",
    "\n",
    "#If cloudProbability is chosen, choose a threshold \n",
    "#(generally somewhere around 40-60 works well)\n",
    "cloudProbThresh = 40\n",
    "\n",
    "#Fmask switches- only for Landsat\n",
    "#Generally we do use these\n",
    "applyFmaskCloudMask = True\n",
    "applyFmaskCloudShadowMask = True\n",
    "applyFmaskSnowMask = False\n",
    "\n",
    "# Cloud and cloud shadow masking parameters.\n",
    "# If cloudScore  is chosen\n",
    "# cloudScoreThresh: If using the cloudScore or cloudProbability method-Threshold for cloud \n",
    "#    masking (lower number masks more clouds.  Between 10 and 30 generally \n",
    "#    works best)\n",
    "cloudScoreThresh = 20\n",
    "\n",
    "#Whether to find if an area typically has a high cloudScore\n",
    "#If an area is always cloudy, this will result in cloud masking omission\n",
    "#For bright areas that may always have a high cloudScore\n",
    "#but not actually be cloudy, this will result in a reduction of commission errors\n",
    "#This procedure needs at least 5 years of data to work well\n",
    "performCloudScoreOffset = True\n",
    "\n",
    "# If performCloudScoreOffset = true:\n",
    "#Percentile of cloud score to pull from time series to represent a minimum for \n",
    "# the cloud score over time for a given pixel. Reduces comission errors over \n",
    "# cool bright surfaces. Generally between 5 and 10 works well. 0 generally is a\n",
    "# bit noisy but may be necessary in persistently cloudy areas\n",
    "cloudScorePctl = 10\n",
    "\n",
    "# zScoreThresh: Threshold for cloud shadow masking- lower number masks out \n",
    "#    less. Between -0.8 and -1.2 generally works well\n",
    "zScoreThresh = -1\n",
    "\n",
    "# shadowSumThresh: Sum of IR bands to include as shadows within TDOM and the \n",
    "#    shadow shift method (lower number masks out less)\n",
    "shadowSumThresh = 0.35\n",
    "\n",
    "# contractPixels: The radius of the number of pixels to contract (negative \n",
    "#    buffer) clouds and cloud shadows by. Intended to eliminate smaller cloud \n",
    "#    patches that are likely errors\n",
    "# (1.5 results in a -1 pixel buffer)(0.5 results in a -0 pixel buffer)\n",
    "# (1.5 or 2.5 generally is sufficient)\n",
    "contractPixels = 1.5\n",
    "\n",
    "# dilatePixels: The radius of the number of pixels to dilate (buffer) clouds \n",
    "#    and cloud shadows by. Intended to include edges of clouds/cloud shadows \n",
    "#    that are often missed\n",
    "# (1.5 results in a 1 pixel buffer)(0.5 results in a 0 pixel buffer)\n",
    "# (2.5 or 3.5 generally is sufficient)\n",
    "dilatePixels = 2.5\n",
    "\n",
    "# Choose the resampling method: 'aggregate','near', 'bilinear', or 'bicubic'\n",
    "# Defaults to 'aggregate' for Sentinel 2 and 'near' for Landsat\n",
    "\n",
    "# Aggregate is generally useful for aggregating pixels when reprojecting instead of resampling\n",
    "# A good example would be reprojecting S2 data to 30 m\n",
    "\n",
    "# If method other than 'near' is chosen, any map drawn on the fly that is not\n",
    "# reprojected, will appear blurred or not really represented properly\n",
    "# Use .reproject to view the actual resulting image (this will slow it down)\n",
    "landsatResampleMethod = 'near'\n",
    "\n",
    "sentinel2ResampleMethod = 'aggregate'\n",
    "\n",
    "# Choose whether to use the Chastain et al 2019(https://www.sciencedirect.com/science/article/pii/S0034425718305212)\n",
    "# harmonization method\n",
    "# All harmonization models apply a rather small correction and are likely not needed\n",
    "#Only runs if toaOrSR = 'TOA'\n",
    "runChastainHarmonization = True\n",
    "\n",
    "# If available, bring in preComputed cloudScore offsets and TDOM stats\n",
    "# Set to null if computing on-the-fly is wanted\n",
    "# These have been pre-computed for all CONUS for Landsat and Setinel 2 (separately)\n",
    "# and are appropriate to use for any time period within the growing season\n",
    "# The cloudScore offset is generally some lower percentile of cloudScores on a pixel-wise basis\n",
    "preComputedCloudScoreOffset = getImagesLib.getPrecomputedCloudScoreOffsets(cloudScorePctl)\n",
    "preComputedLandsatCloudScoreOffset = preComputedCloudScoreOffset['landsat']\n",
    "preComputedSentinel2CloudScoreOffset = preComputedCloudScoreOffset['sentinel2']\n",
    "\n",
    "# The TDOM stats are the mean and standard deviations of the two bands used in TDOM\n",
    "# By default, TDOM uses the nir and swir1 bands\n",
    "preComputedTDOMStats = getImagesLib.getPrecomputedTDOMStats()\n",
    "preComputedLandsatTDOMIRMean = preComputedTDOMStats['landsat']['mean']\n",
    "preComputedLandsatTDOMIRStdDev = preComputedTDOMStats['landsat']['stdDev']\n",
    "\n",
    "preComputedSentinel2TDOMIRMean = preComputedTDOMStats['sentinel2']['mean']\n",
    "preComputedSentinel2TDOMIRStdDev = preComputedTDOMStats['sentinel2']['stdDev']\n",
    "\n",
    "\n",
    "# Export params\n",
    "# Whether to export composites\n",
    "exportComposites = False\n",
    "\n",
    "#Set up Names for the export\n",
    "outputName = 'Landsat_Sentinel2_Hybrid'\n",
    "\n",
    "# Provide location composites will be exported to\n",
    "# This should be an asset folder, or more ideally, an asset imageCollection\n",
    "exportPathRoot = 'users/username/someCollection'\n",
    "\n",
    "\n",
    "\n",
    "# CRS- must be provided.  \n",
    "# Common crs codes: Web mercator is EPSG:4326, USGS Albers is EPSG:5070, \n",
    "# WGS84 UTM N hemisphere is EPSG:326+ zone number (zone 12 N would be EPSG:32612) and S hemisphere is EPSG:327+ zone number\n",
    "crs = 'EPSG:5070'\n",
    "\n",
    "# Specify transform if scale is null and snapping to known grid is needed\n",
    "transform = [10,0,-2361915.0,0,-10,3177735.0]\n",
    "\n",
    "# Specify scale if transform is null\n",
    "scale = None"
   ]
  },
  {
   "cell_type": "markdown",
   "id": "1d4e1339",
   "metadata": {},
   "source": [
    "#### Example 4 - Prepare final composites and export\n",
    "Now that we've gone through some of the parameters that can be changed for Landsat composites, we will use both Landsat and Sentinel2 to get the best possible composites. \n",
    "\n",
    "Here, we're manually setting all parameters. \n",
    "\n",
    "Review the documentation [link] to recall the default values for each of these parameters.\n",
    "\n",
    "We are also using parameters in the function to export our composites to the root path we specified earlier. \n",
    "\n",
    "```\n",
    "    {\n",
    "      exportComposites = True,\n",
    "      outputName = 'Landsat-Sentinel2-Hybrid',\n",
    "      exportPathRoot = export_composite_collection,\n",
    "    }\n",
    "```"
   ]
  },
  {
   "cell_type": "code",
   "execution_count": 12,
   "id": "1476ad47",
   "metadata": {
    "colab": {
     "base_uri": "https://localhost:8080/",
     "height": 1000
    },
    "executionInfo": {
     "elapsed": 21613,
     "status": "ok",
     "timestamp": 1690298478420,
     "user": {
      "displayName": "Ian Housman",
      "userId": "00382093583884444463"
     },
     "user_tz": 360
    },
    "id": "bnuTuFdBaWzw",
    "outputId": "c0605bd6-4f1e-493f-8faf-28c2e65b3efb"
   },
   "outputs": [
    {
     "name": "stdout",
     "output_type": "stream",
     "text": [
      "Get Processed Landsat and Sentinel2 Scenes: \n",
      "Start date: May 31 1984 , End date: May 31 2023\n",
      "Get Processed Landsat: \n",
      "Start date: May 31 1984 , End date: May 31 2023\n",
      "Defringing L4 and L5\n",
      "Including All Landsat 7\n",
      "Setting resample method to  bicubic\n",
      "Applying Cloud Score\n",
      "Not computing cloudScore offset\n",
      "Applying Fmask Cloud Mask\n",
      "Applying TDOM Shadow Mask\n",
      "Using pre-computed irMean for TDOM\n",
      "Using pre-computed irStdDev for TDOM\n",
      "Applying Fmask Shadow Mask\n",
      "Get Processed Sentinel2: \n",
      "Start date: May 31 1984 , End date: May 31 2023\n",
      "Using S2 Collection: COPERNICUS/S2_HARMONIZED\n",
      "Joining pre-computed cloud probabilities from: COPERNICUS/S2_CLOUD_PROBABILITY\n",
      "Setting resample method to  bicubic\n",
      "Converting S2 data to daily mosaics\n",
      "Apply Cloud Probability\n",
      "Applying TDOM\n",
      "Using pre-computed irMean for TDOM\n",
      "Using pre-computed irStdDev for TDOM\n",
      "pyramiding object: {'.default': 'mean'}\n",
      "Exporting: Landsat-Sentinel2-Hybrid_TOA_medoid_1984_1984_152_151\n",
      "<Task EXPORT_IMAGE: Landsat-Sentinel2-Hybrid_TOA_medoid_1984_1984_152_151 (UNSUBMITTED)>\n",
      "pyramiding object: {'.default': 'mean'}\n",
      "Exporting: Landsat-Sentinel2-Hybrid_TOA_medoid_1985_1985_152_151\n",
      "<Task EXPORT_IMAGE: Landsat-Sentinel2-Hybrid_TOA_medoid_1985_1985_152_151 (UNSUBMITTED)>\n",
      "pyramiding object: {'.default': 'mean'}\n",
      "Exporting: Landsat-Sentinel2-Hybrid_TOA_medoid_1986_1986_152_151\n",
      "<Task EXPORT_IMAGE: Landsat-Sentinel2-Hybrid_TOA_medoid_1986_1986_152_151 (UNSUBMITTED)>\n",
      "pyramiding object: {'.default': 'mean'}\n",
      "Exporting: Landsat-Sentinel2-Hybrid_TOA_medoid_1987_1987_152_151\n",
      "<Task EXPORT_IMAGE: Landsat-Sentinel2-Hybrid_TOA_medoid_1987_1987_152_151 (UNSUBMITTED)>\n",
      "pyramiding object: {'.default': 'mean'}\n",
      "Exporting: Landsat-Sentinel2-Hybrid_TOA_medoid_1988_1988_152_151\n",
      "<Task EXPORT_IMAGE: Landsat-Sentinel2-Hybrid_TOA_medoid_1988_1988_152_151 (UNSUBMITTED)>\n",
      "pyramiding object: {'.default': 'mean'}\n",
      "Exporting: Landsat-Sentinel2-Hybrid_TOA_medoid_1989_1989_152_151\n",
      "<Task EXPORT_IMAGE: Landsat-Sentinel2-Hybrid_TOA_medoid_1989_1989_152_151 (UNSUBMITTED)>\n",
      "pyramiding object: {'.default': 'mean'}\n",
      "Exporting: Landsat-Sentinel2-Hybrid_TOA_medoid_1990_1990_152_151\n",
      "<Task EXPORT_IMAGE: Landsat-Sentinel2-Hybrid_TOA_medoid_1990_1990_152_151 (UNSUBMITTED)>\n",
      "pyramiding object: {'.default': 'mean'}\n",
      "Exporting: Landsat-Sentinel2-Hybrid_TOA_medoid_1991_1991_152_151\n",
      "<Task EXPORT_IMAGE: Landsat-Sentinel2-Hybrid_TOA_medoid_1991_1991_152_151 (UNSUBMITTED)>\n",
      "pyramiding object: {'.default': 'mean'}\n",
      "Exporting: Landsat-Sentinel2-Hybrid_TOA_medoid_1992_1992_152_151\n",
      "<Task EXPORT_IMAGE: Landsat-Sentinel2-Hybrid_TOA_medoid_1992_1992_152_151 (UNSUBMITTED)>\n",
      "pyramiding object: {'.default': 'mean'}\n",
      "Exporting: Landsat-Sentinel2-Hybrid_TOA_medoid_1993_1993_152_151\n",
      "<Task EXPORT_IMAGE: Landsat-Sentinel2-Hybrid_TOA_medoid_1993_1993_152_151 (UNSUBMITTED)>\n",
      "pyramiding object: {'.default': 'mean'}\n",
      "Exporting: Landsat-Sentinel2-Hybrid_TOA_medoid_1994_1994_152_151\n",
      "<Task EXPORT_IMAGE: Landsat-Sentinel2-Hybrid_TOA_medoid_1994_1994_152_151 (UNSUBMITTED)>\n",
      "pyramiding object: {'.default': 'mean'}\n",
      "Exporting: Landsat-Sentinel2-Hybrid_TOA_medoid_1995_1995_152_151\n",
      "<Task EXPORT_IMAGE: Landsat-Sentinel2-Hybrid_TOA_medoid_1995_1995_152_151 (UNSUBMITTED)>\n",
      "pyramiding object: {'.default': 'mean'}\n",
      "Exporting: Landsat-Sentinel2-Hybrid_TOA_medoid_1996_1996_152_151\n",
      "<Task EXPORT_IMAGE: Landsat-Sentinel2-Hybrid_TOA_medoid_1996_1996_152_151 (UNSUBMITTED)>\n",
      "pyramiding object: {'.default': 'mean'}\n",
      "Exporting: Landsat-Sentinel2-Hybrid_TOA_medoid_1997_1997_152_151\n",
      "<Task EXPORT_IMAGE: Landsat-Sentinel2-Hybrid_TOA_medoid_1997_1997_152_151 (UNSUBMITTED)>\n",
      "pyramiding object: {'.default': 'mean'}\n",
      "Exporting: Landsat-Sentinel2-Hybrid_TOA_medoid_1998_1998_152_151\n",
      "<Task EXPORT_IMAGE: Landsat-Sentinel2-Hybrid_TOA_medoid_1998_1998_152_151 (UNSUBMITTED)>\n",
      "pyramiding object: {'.default': 'mean'}\n",
      "Exporting: Landsat-Sentinel2-Hybrid_TOA_medoid_1999_1999_152_151\n",
      "<Task EXPORT_IMAGE: Landsat-Sentinel2-Hybrid_TOA_medoid_1999_1999_152_151 (UNSUBMITTED)>\n",
      "pyramiding object: {'.default': 'mean'}\n",
      "Exporting: Landsat-Sentinel2-Hybrid_TOA_medoid_2000_2000_152_151\n",
      "<Task EXPORT_IMAGE: Landsat-Sentinel2-Hybrid_TOA_medoid_2000_2000_152_151 (UNSUBMITTED)>\n",
      "pyramiding object: {'.default': 'mean'}\n",
      "Exporting: Landsat-Sentinel2-Hybrid_TOA_medoid_2001_2001_152_151\n",
      "<Task EXPORT_IMAGE: Landsat-Sentinel2-Hybrid_TOA_medoid_2001_2001_152_151 (UNSUBMITTED)>\n",
      "pyramiding object: {'.default': 'mean'}\n",
      "Exporting: Landsat-Sentinel2-Hybrid_TOA_medoid_2002_2002_152_151\n",
      "<Task EXPORT_IMAGE: Landsat-Sentinel2-Hybrid_TOA_medoid_2002_2002_152_151 (UNSUBMITTED)>\n",
      "pyramiding object: {'.default': 'mean'}\n",
      "Exporting: Landsat-Sentinel2-Hybrid_TOA_medoid_2003_2003_152_151\n",
      "<Task EXPORT_IMAGE: Landsat-Sentinel2-Hybrid_TOA_medoid_2003_2003_152_151 (UNSUBMITTED)>\n",
      "pyramiding object: {'.default': 'mean'}\n",
      "Exporting: Landsat-Sentinel2-Hybrid_TOA_medoid_2004_2004_152_151\n",
      "<Task EXPORT_IMAGE: Landsat-Sentinel2-Hybrid_TOA_medoid_2004_2004_152_151 (UNSUBMITTED)>\n",
      "pyramiding object: {'.default': 'mean'}\n",
      "Exporting: Landsat-Sentinel2-Hybrid_TOA_medoid_2005_2005_152_151\n",
      "<Task EXPORT_IMAGE: Landsat-Sentinel2-Hybrid_TOA_medoid_2005_2005_152_151 (UNSUBMITTED)>\n",
      "pyramiding object: {'.default': 'mean'}\n",
      "Exporting: Landsat-Sentinel2-Hybrid_TOA_medoid_2006_2006_152_151\n",
      "<Task EXPORT_IMAGE: Landsat-Sentinel2-Hybrid_TOA_medoid_2006_2006_152_151 (UNSUBMITTED)>\n",
      "pyramiding object: {'.default': 'mean'}\n",
      "Exporting: Landsat-Sentinel2-Hybrid_TOA_medoid_2007_2007_152_151\n",
      "<Task EXPORT_IMAGE: Landsat-Sentinel2-Hybrid_TOA_medoid_2007_2007_152_151 (UNSUBMITTED)>\n",
      "pyramiding object: {'.default': 'mean'}\n",
      "Exporting: Landsat-Sentinel2-Hybrid_TOA_medoid_2008_2008_152_151\n",
      "<Task EXPORT_IMAGE: Landsat-Sentinel2-Hybrid_TOA_medoid_2008_2008_152_151 (UNSUBMITTED)>\n",
      "pyramiding object: {'.default': 'mean'}\n",
      "Exporting: Landsat-Sentinel2-Hybrid_TOA_medoid_2009_2009_152_151\n",
      "<Task EXPORT_IMAGE: Landsat-Sentinel2-Hybrid_TOA_medoid_2009_2009_152_151 (UNSUBMITTED)>\n",
      "pyramiding object: {'.default': 'mean'}\n",
      "Exporting: Landsat-Sentinel2-Hybrid_TOA_medoid_2010_2010_152_151\n",
      "<Task EXPORT_IMAGE: Landsat-Sentinel2-Hybrid_TOA_medoid_2010_2010_152_151 (UNSUBMITTED)>\n",
      "pyramiding object: {'.default': 'mean'}\n",
      "Exporting: Landsat-Sentinel2-Hybrid_TOA_medoid_2011_2011_152_151\n",
      "<Task EXPORT_IMAGE: Landsat-Sentinel2-Hybrid_TOA_medoid_2011_2011_152_151 (UNSUBMITTED)>\n",
      "pyramiding object: {'.default': 'mean'}\n",
      "Exporting: Landsat-Sentinel2-Hybrid_TOA_medoid_2012_2012_152_151\n",
      "<Task EXPORT_IMAGE: Landsat-Sentinel2-Hybrid_TOA_medoid_2012_2012_152_151 (UNSUBMITTED)>\n",
      "pyramiding object: {'.default': 'mean'}\n",
      "Exporting: Landsat-Sentinel2-Hybrid_TOA_medoid_2013_2013_152_151\n",
      "<Task EXPORT_IMAGE: Landsat-Sentinel2-Hybrid_TOA_medoid_2013_2013_152_151 (UNSUBMITTED)>\n",
      "pyramiding object: {'.default': 'mean'}\n",
      "Exporting: Landsat-Sentinel2-Hybrid_TOA_medoid_2014_2014_152_151\n",
      "<Task EXPORT_IMAGE: Landsat-Sentinel2-Hybrid_TOA_medoid_2014_2014_152_151 (UNSUBMITTED)>\n",
      "pyramiding object: {'.default': 'mean'}\n",
      "Exporting: Landsat-Sentinel2-Hybrid_TOA_medoid_2015_2015_152_151\n",
      "<Task EXPORT_IMAGE: Landsat-Sentinel2-Hybrid_TOA_medoid_2015_2015_152_151 (UNSUBMITTED)>\n",
      "pyramiding object: {'.default': 'mean'}\n",
      "Exporting: Landsat-Sentinel2-Hybrid_TOA_medoid_2016_2016_152_151\n",
      "<Task EXPORT_IMAGE: Landsat-Sentinel2-Hybrid_TOA_medoid_2016_2016_152_151 (UNSUBMITTED)>\n",
      "pyramiding object: {'.default': 'mean'}\n",
      "Exporting: Landsat-Sentinel2-Hybrid_TOA_medoid_2017_2017_152_151\n",
      "<Task EXPORT_IMAGE: Landsat-Sentinel2-Hybrid_TOA_medoid_2017_2017_152_151 (UNSUBMITTED)>\n",
      "pyramiding object: {'.default': 'mean'}\n",
      "Exporting: Landsat-Sentinel2-Hybrid_TOA_medoid_2018_2018_152_151\n",
      "<Task EXPORT_IMAGE: Landsat-Sentinel2-Hybrid_TOA_medoid_2018_2018_152_151 (UNSUBMITTED)>\n",
      "pyramiding object: {'.default': 'mean'}\n",
      "Exporting: Landsat-Sentinel2-Hybrid_TOA_medoid_2019_2019_152_151\n",
      "<Task EXPORT_IMAGE: Landsat-Sentinel2-Hybrid_TOA_medoid_2019_2019_152_151 (UNSUBMITTED)>\n",
      "pyramiding object: {'.default': 'mean'}\n",
      "Exporting: Landsat-Sentinel2-Hybrid_TOA_medoid_2020_2020_152_151\n",
      "<Task EXPORT_IMAGE: Landsat-Sentinel2-Hybrid_TOA_medoid_2020_2020_152_151 (UNSUBMITTED)>\n",
      "pyramiding object: {'.default': 'mean'}\n",
      "Exporting: Landsat-Sentinel2-Hybrid_TOA_medoid_2021_2021_152_151\n",
      "<Task EXPORT_IMAGE: Landsat-Sentinel2-Hybrid_TOA_medoid_2021_2021_152_151 (UNSUBMITTED)>\n",
      "pyramiding object: {'.default': 'mean'}\n",
      "Exporting: Landsat-Sentinel2-Hybrid_TOA_medoid_2022_2022_152_151\n",
      "<Task EXPORT_IMAGE: Landsat-Sentinel2-Hybrid_TOA_medoid_2022_2022_152_151 (UNSUBMITTED)>\n"
     ]
    },
    {
     "name": "stderr",
     "output_type": "stream",
     "text": [
      "127.0.0.1 - - [03/Aug/2023 21:23:36] \"GET /geeView/js/runGeeViz.js HTTP/1.1\" 200 -\n",
      "127.0.0.1 - - [03/Aug/2023 21:23:53] \"GET /geeView/js/runGeeViz.js HTTP/1.1\" 200 -\n",
      "127.0.0.1 - - [03/Aug/2023 21:24:07] \"GET /geeView/js/runGeeViz.js HTTP/1.1\" 200 -\n",
      "127.0.0.1 - - [03/Aug/2023 21:25:21] \"GET /geeView/js/runGeeViz.js HTTP/1.1\" 200 -\n",
      "127.0.0.1 - - [03/Aug/2023 21:25:45] \"GET /geeView/js/runGeeViz.js HTTP/1.1\" 200 -\n",
      "127.0.0.1 - - [03/Aug/2023 21:27:23] \"GET /geeView/js/runGeeViz.js HTTP/1.1\" 200 -\n",
      "127.0.0.1 - - [03/Aug/2023 21:28:00] \"GET /geeView/js/runGeeViz.js HTTP/1.1\" 200 -\n",
      "127.0.0.1 - - [03/Aug/2023 21:28:22] \"GET /geeView/js/runGeeViz.js HTTP/1.1\" 200 -\n",
      "127.0.0.1 - - [03/Aug/2023 21:32:16] \"GET /geeView/?accessToken=None HTTP/1.1\" 200 -\n",
      "127.0.0.1 - - [03/Aug/2023 21:32:16] \"GET /geeView/css/style.min.css HTTP/1.1\" 200 -\n",
      "127.0.0.1 - - [03/Aug/2023 21:32:16] \"GET /geeView/js/lcms-viewer.min.js HTTP/1.1\" 200 -\n",
      "127.0.0.1 - - [03/Aug/2023 21:32:16] \"GET /geeView/js/load.min.js HTTP/1.1\" 200 -\n",
      "127.0.0.1 - - [03/Aug/2023 21:32:16] \"GET /geeView/js/gena-gee-palettes.js HTTP/1.1\" 200 -\n",
      "127.0.0.1 - - [03/Aug/2023 21:32:16] \"GET /geeView/js/runGeeViz.js HTTP/1.1\" 200 -\n",
      "127.0.0.1 - - [03/Aug/2023 21:32:16] \"GET /geeView/images/usfslogo.png HTTP/1.1\" 200 -\n",
      "127.0.0.1 - - [03/Aug/2023 21:32:16] \"GET /geeView/images/menu-hamburger_ffffff.svg HTTP/1.1\" 200 -\n",
      "127.0.0.1 - - [03/Aug/2023 21:32:16] \"GET /geeView/images/layer_icon.png HTTP/1.1\" 200 -\n",
      "127.0.0.1 - - [03/Aug/2023 21:32:16] \"GET /geeView/images/GEE_logo_transparent.png HTTP/1.1\" 200 -\n",
      "127.0.0.1 - - [03/Aug/2023 21:32:16] \"GET /geeView/images/GEE.png HTTP/1.1\" 200 -\n",
      "127.0.0.1 - - [03/Aug/2023 21:32:16] \"GET /geeView/images/logos_usda-fs.svg HTTP/1.1\" 200 -\n",
      "127.0.0.1 - - [03/Aug/2023 21:32:16] \"GET /geeView/images/usdalogo.png HTTP/1.1\" 200 -\n",
      "127.0.0.1 - - [03/Aug/2023 21:34:10] \"GET /geeView/js/runGeeViz.js HTTP/1.1\" 200 -\n",
      "127.0.0.1 - - [03/Aug/2023 21:35:08] \"GET /geeView/js/runGeeViz.js HTTP/1.1\" 200 -\n",
      "127.0.0.1 - - [03/Aug/2023 21:38:44] \"GET /geeView/js/runGeeViz.js HTTP/1.1\" 200 -\n"
     ]
    }
   ],
   "source": [
    "# Run get images, set parameters manually, and export\n",
    "lsAndTs = getImagesLib.getLandsatAndSentinel2HybridWrapper(\\\n",
    "  studyArea = studyArea,\n",
    "  startYear = 1984,\n",
    "  endYear = 2022,\n",
    "  startJulian = 152,\n",
    "  endJulian = 151,\n",
    "  timebuffer =  0,\n",
    "  weights =  [1],\n",
    "  compositingMethod = 'medoid',\n",
    "  toaOrSR = 'TOA',\n",
    "  includeSLCOffL7 = True,\n",
    "  defringeL5 = True,\n",
    "  applyQABand = False,\n",
    "  applyCloudProbability = True,\n",
    "  applyShadowShift = False,\n",
    "  applyCloudScoreLandsat = True,\n",
    "  applyCloudScoreSentinel2 = False,\n",
    "  applyTDOMLandsat = True,\n",
    "  applyTDOMSentinel2 = True,\n",
    "  applyFmaskCloudMask = True,\n",
    "  applyFmaskCloudShadowMask = True,\n",
    "  applyFmaskSnowMask = False,\n",
    "  cloudHeights = ee.List.sequence(500,10000,500),\n",
    "  cloudScoreThresh = 10,\n",
    "  performCloudScoreOffset = False,\n",
    "  cloudScorePctl = 10,\n",
    "  zScoreThresh = -1,\n",
    "  shadowSumThresh = 0.35,\n",
    "  contractPixels = 1.5,\n",
    "  dilatePixels = 3.5,\n",
    "  shadowSumBands = ['nir','swir1'],\n",
    "  landsatResampleMethod = 'bicubic',\n",
    "  sentinel2ResampleMethod = 'bicubic',\n",
    "  convertToDailyMosaics = True,\n",
    "  runChastainHarmonization = False,# Set to True in order to perform regression harmonization between Landsat and Sentinel 2\n",
    "  correctIllumination = False,\n",
    "  correctScale = 250,\n",
    "  exportComposites = True,\n",
    "  outputName = 'Landsat-Sentinel2-Hybrid',\n",
    "  exportPathRoot = export_composite_collection,\n",
    "  crs = getImagesLib.common_projections['NLCD_CONUS']['crs'],\n",
    "  transform = getImagesLib.common_projections['NLCD_CONUS']['transform'],\n",
    "  scale = None,\n",
    "  preComputedLandsatCloudScoreOffset = None,\n",
    "  preComputedLandsatTDOMIRMean = landsat_tdom_stats.select(['.*_mean']),\n",
    "  preComputedLandsatTDOMIRStdDev = landsat_tdom_stats.select(['.*_stdDev']),\n",
    "  preComputedSentinel2CloudScoreOffset = None,\n",
    "  preComputedSentinel2TDOMIRMean = s2_tdom_stats.select(['.*_mean']),\n",
    "  preComputedSentinel2TDOMIRStdDev = s2_tdom_stats.select(['.*_stdDev']),\n",
    "  cloudProbThresh = 40,\n",
    "  landsatCollectionVersion = 'C2',\n",
    "  overwrite = False)\n",
    "\n"
   ]
  },
  {
   "cell_type": "markdown",
   "id": "3a31b69c",
   "metadata": {},
   "source": [
    "### Track export tasks"
   ]
  },
  {
   "cell_type": "code",
   "execution_count": 9,
   "id": "cac9c3ac",
   "metadata": {},
   "outputs": [
    {
     "name": "stdout",
     "output_type": "stream",
     "text": [
      "done\n"
     ]
    }
   ],
   "source": [
    "# If you'd like to track the tasks, use this:\n",
    "# tml.trackTasks2()\n",
    "\n",
    "# If you want to cancel all running tasks, you can use this function\n",
    "# tml.batchCancel()\n",
    "\n",
    "# If you want to empty the collection of all images\n",
    "# aml.batchDelete(export_composite_collection, type = 'imageCollection')\n",
    "\n",
    "print('done')"
   ]
  },
  {
   "cell_type": "markdown",
   "id": "edda8506",
   "metadata": {},
   "source": [
    "### View composites as they are completed"
   ]
  },
  {
   "cell_type": "code",
   "execution_count": 39,
   "id": "ae7fc24e",
   "metadata": {
    "colab": {
     "base_uri": "https://localhost:8080/",
     "height": 685
    },
    "executionInfo": {
     "elapsed": 614,
     "status": "ok",
     "timestamp": 1690298551890,
     "user": {
      "displayName": "Ian Housman",
      "userId": "00382093583884444463"
     },
     "user_tz": 360
    },
    "id": "9YX8XITxpI4Q",
    "outputId": "61bfa47b-9ec2-4c94-e5ab-978a4eff2c42"
   },
   "outputs": [],
   "source": [
    "# View composites as they are completed\n",
    "composites = ee.ImageCollection(export_composite_collection)\n",
    "Map.clearMap()"
   ]
  },
  {
   "cell_type": "markdown",
   "id": "f2085a7e",
   "metadata": {},
   "source": [
    "### Inspect"
   ]
  },
  {
   "cell_type": "code",
   "execution_count": 13,
   "id": "297eb8f6",
   "metadata": {
    "colab": {
     "base_uri": "https://localhost:8080/",
     "height": 685
    },
    "executionInfo": {
     "elapsed": 614,
     "status": "ok",
     "timestamp": 1690298551890,
     "user": {
      "displayName": "Ian Housman",
      "userId": "00382093583884444463"
     },
     "user_tz": 360
    },
    "id": "9YX8XITxpI4Q",
    "outputId": "61bfa47b-9ec2-4c94-e5ab-978a4eff2c42"
   },
   "outputs": [
    {
     "name": "stdout",
     "output_type": "stream",
     "text": [
      "Adding layer: Composites\n",
      "Adding layer: Sensor\n",
      "Adding layer: Composite Observation Counts\n",
      "Starting webmap\n",
      "Using default refresh token for geeView: /home/jupyter/.config/earthengine/credentials\n",
      "Local web server at: http://localhost:8001/geeView/ already serving.\n",
      "cwd /home/jupyter/lcms-training\n",
      "Workbench Proxy URL: https://23dcc4ff89e513fb-dot-us-west3.notebooks.googleusercontent.com/proxy/8001/geeView/?accessToken=None\n"
     ]
    },
    {
     "data": {
      "text/html": [
       "\n",
       "        <iframe\n",
       "            width=\"100%\"\n",
       "            height=\"525px\"\n",
       "            src=\"https://23dcc4ff89e513fb-dot-us-west3.notebooks.googleusercontent.com/proxy/8001/geeView/?accessToken=None\"\n",
       "            frameborder=\"0\"\n",
       "            allowfullscreen\n",
       "            \n",
       "        ></iframe>\n",
       "        "
      ],
      "text/plain": [
       "<IPython.lib.display.IFrame at 0x7f56da64f400>"
      ]
     },
     "metadata": {},
     "output_type": "display_data"
    },
    {
     "name": "stderr",
     "output_type": "stream",
     "text": [
      "127.0.0.1 - - [04/Aug/2023 03:16:41] \"GET /geeView/?accessToken=None HTTP/1.1\" 200 -\n",
      "127.0.0.1 - - [04/Aug/2023 03:16:41] \"GET /geeView/js/lcms-viewer.min.js HTTP/1.1\" 200 -\n",
      "127.0.0.1 - - [04/Aug/2023 03:16:42] \"GET /geeView/css/style.min.css HTTP/1.1\" 200 -\n",
      "127.0.0.1 - - [04/Aug/2023 03:16:42] \"GET /geeView/js/load.min.js HTTP/1.1\" 200 -\n",
      "127.0.0.1 - - [04/Aug/2023 03:16:42] \"GET /geeView/js/runGeeViz.js HTTP/1.1\" 200 -\n",
      "127.0.0.1 - - [04/Aug/2023 03:16:42] \"GET /geeView/js/gena-gee-palettes.js HTTP/1.1\" 200 -\n",
      "127.0.0.1 - - [04/Aug/2023 03:16:42] \"GET /geeView/images/GEE.png HTTP/1.1\" 200 -\n",
      "127.0.0.1 - - [04/Aug/2023 03:16:42] \"GET /geeView/images/GEE_logo_transparent.png HTTP/1.1\" 200 -\n",
      "127.0.0.1 - - [04/Aug/2023 03:16:42] \"GET /geeView/images/logos_usda-fs.svg HTTP/1.1\" 200 -\n",
      "127.0.0.1 - - [04/Aug/2023 03:16:42] \"GET /geeView/images/usfslogo.png HTTP/1.1\" 200 -\n",
      "127.0.0.1 - - [04/Aug/2023 03:16:42] \"GET /geeView/images/usdalogo.png HTTP/1.1\" 200 -\n",
      "127.0.0.1 - - [04/Aug/2023 03:16:42] \"GET /geeView/images/layer_icon.png HTTP/1.1\" 200 -\n",
      "127.0.0.1 - - [04/Aug/2023 03:16:42] \"GET /geeView/images/menu-hamburger_ffffff.svg HTTP/1.1\" 200 -\n",
      "127.0.0.1 - - [04/Aug/2023 03:16:50] \"GET /geeView/images/cumulative_icon.png HTTP/1.1\" 200 -\n",
      "127.0.0.1 - - [04/Aug/2023 03:17:49] \"GET /geeView/js/runGeeViz.js HTTP/1.1\" 200 -\n",
      "127.0.0.1 - - [04/Aug/2023 03:21:05] \"GET /geeView/js/runGeeViz.js HTTP/1.1\" 200 -\n",
      "127.0.0.1 - - [04/Aug/2023 03:25:53] \"GET /geeView/js/runGeeViz.js HTTP/1.1\" 200 -\n",
      "127.0.0.1 - - [04/Aug/2023 03:27:53] \"GET /geeView/js/runGeeViz.js HTTP/1.1\" 200 -\n",
      "127.0.0.1 - - [04/Aug/2023 03:29:24] \"GET /geeView/js/runGeeViz.js HTTP/1.1\" 200 -\n",
      "127.0.0.1 - - [04/Aug/2023 03:33:23] \"GET /geeView/js/runGeeViz.js HTTP/1.1\" 200 -\n",
      "127.0.0.1 - - [04/Aug/2023 03:36:23] \"GET /geeView/js/runGeeViz.js HTTP/1.1\" 200 -\n",
      "127.0.0.1 - - [04/Aug/2023 03:39:01] \"GET /geeView/js/runGeeViz.js HTTP/1.1\" 200 -\n",
      "127.0.0.1 - - [04/Aug/2023 03:40:33] \"GET /geeView/js/runGeeViz.js HTTP/1.1\" 200 -\n",
      "127.0.0.1 - - [04/Aug/2023 03:41:00] \"GET /geeView/js/runGeeViz.js HTTP/1.1\" 200 -\n",
      "127.0.0.1 - - [04/Aug/2023 03:41:00] \"GET /geeView/js/runGeeViz.js HTTP/1.1\" 200 -\n",
      "127.0.0.1 - - [04/Aug/2023 03:41:11] \"GET /geeView/js/runGeeViz.js HTTP/1.1\" 200 -\n",
      "127.0.0.1 - - [04/Aug/2023 03:41:17] \"GET /geeView/js/runGeeViz.js HTTP/1.1\" 200 -\n",
      "127.0.0.1 - - [04/Aug/2023 03:46:16] \"GET /geeView/js/runGeeViz.js HTTP/1.1\" 200 -\n",
      "127.0.0.1 - - [04/Aug/2023 03:47:36] \"GET /geeView/js/runGeeViz.js HTTP/1.1\" 200 -\n",
      "127.0.0.1 - - [04/Aug/2023 03:52:23] \"GET /geeView/js/runGeeViz.js HTTP/1.1\" 200 -\n",
      "127.0.0.1 - - [04/Aug/2023 03:53:15] \"GET /geeView/js/runGeeViz.js HTTP/1.1\" 200 -\n",
      "127.0.0.1 - - [04/Aug/2023 03:54:27] \"GET /geeView/js/runGeeViz.js HTTP/1.1\" 200 -\n",
      "127.0.0.1 - - [04/Aug/2023 04:03:35] \"GET /geeView/js/runGeeViz.js HTTP/1.1\" 200 -\n",
      "127.0.0.1 - - [04/Aug/2023 04:04:10] \"GET /geeView/?accessToken=None HTTP/1.1\" 200 -\n",
      "127.0.0.1 - - [04/Aug/2023 04:04:10] \"GET /geeView/css/style.min.css HTTP/1.1\" 200 -\n",
      "127.0.0.1 - - [04/Aug/2023 04:04:10] \"GET /geeView/js/lcms-viewer.min.js HTTP/1.1\" 200 -\n",
      "127.0.0.1 - - [04/Aug/2023 04:04:10] \"GET /geeView/js/gena-gee-palettes.js HTTP/1.1\" 200 -\n",
      "127.0.0.1 - - [04/Aug/2023 04:04:10] \"GET /geeView/js/load.min.js HTTP/1.1\" 200 -\n",
      "127.0.0.1 - - [04/Aug/2023 04:04:10] \"GET /geeView/js/runGeeViz.js HTTP/1.1\" 200 -\n",
      "127.0.0.1 - - [04/Aug/2023 04:04:10] \"GET /geeView/images/GEE.png HTTP/1.1\" 200 -\n",
      "127.0.0.1 - - [04/Aug/2023 04:04:11] \"GET /geeView/images/logos_usda-fs.svg HTTP/1.1\" 200 -\n",
      "127.0.0.1 - - [04/Aug/2023 04:04:11] \"GET /geeView/images/GEE_logo_transparent.png HTTP/1.1\" 200 -\n",
      "127.0.0.1 - - [04/Aug/2023 04:04:11] \"GET /geeView/images/usfslogo.png HTTP/1.1\" 200 -\n",
      "127.0.0.1 - - [04/Aug/2023 04:04:11] \"GET /geeView/images/menu-hamburger_ffffff.svg HTTP/1.1\" 200 -\n",
      "127.0.0.1 - - [04/Aug/2023 04:04:11] \"GET /geeView/images/layer_icon.png HTTP/1.1\" 200 -\n",
      "127.0.0.1 - - [04/Aug/2023 04:04:11] \"GET /geeView/images/usdalogo.png HTTP/1.1\" 200 -\n",
      "127.0.0.1 - - [04/Aug/2023 04:05:21] \"GET /geeView/js/runGeeViz.js HTTP/1.1\" 200 -\n",
      "127.0.0.1 - - [04/Aug/2023 04:09:12] \"GET /geeView/js/runGeeViz.js HTTP/1.1\" 200 -\n",
      "127.0.0.1 - - [04/Aug/2023 04:09:18] \"GET /geeView/images/cumulative_icon.png HTTP/1.1\" 200 -\n"
     ]
    }
   ],
   "source": [
    "# First let's explore the composites and some attributes that can help understand how well the composites turned out\n",
    "Map.addTimeLapse(composites,getImagesLib.vizParamsFalse10k,'Composites')\n",
    "\n",
    "# By looking at the Sensor that is used, you can see \n",
    "# with the introduction of Landsat 8 in 2013 and then Sentinel 2 in 2016-2017, \n",
    "# composites become much better quality\n",
    "Map.addTimeLapse(composites.select('sensor'),{'min':4,'max':22,'palette':'088,808','classLegendDict':{'Landsat (Landsat 5 = 5, Landsat 7 = 7, etc...)':'088','Sentinel2 (Sentinel 2A = 21, Sentinel 2B = 22, etc....)':'808'}},'Sensor')\n",
    "Map.addTimeLapse(composites.select('compositeObsCount'),{'min':3,'max':10,'palette':'D0D,0D0'},'Composite Observation Counts')\n",
    "Map.turnOnInspector()\n",
    "Map.view()\n",
    "# Now that we have exported composites, we will use them in the LandTrendr temporal segmentation algorithm"
   ]
  }
 ],
 "metadata": {
  "colab": {
   "provenance": []
  },
  "environment": {
   "kernel": "python3",
   "name": "common-cpu.m109",
   "type": "gcloud",
   "uri": "gcr.io/deeplearning-platform-release/base-cpu:m109"
  },
  "kernelspec": {
   "display_name": "Python 3",
   "language": "python",
   "name": "python3"
  },
  "language_info": {
   "codemirror_mode": {
    "name": "ipython",
    "version": 3
   },
   "file_extension": ".py",
   "mimetype": "text/x-python",
   "name": "python",
   "nbconvert_exporter": "python",
   "pygments_lexer": "ipython3",
   "version": "3.10.11"
  }
 },
 "nbformat": 4,
 "nbformat_minor": 5
}
