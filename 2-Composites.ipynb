{
 "cells": [
  {
   "cell_type": "code",
   "execution_count": null,
   "id": "36360716",
   "metadata": {},
   "outputs": [],
   "source": [
    "# Copyright 2023 Google LLC\n",
    "#\n",
    "# Licensed under the Apache License, Version 2.0 (the \"License\");\n",
    "# you may not use this file except in compliance with the License.\n",
    "# You may obtain a copy of the License at\n",
    "#\n",
    "#     https://www.apache.org/licenses/LICENSE-2.0\n",
    "#\n",
    "# Unless required by applicable law or agreed to in writing, software\n",
    "# distributed under the License is distributed on an \"AS IS\" BASIS,\n",
    "# WITHOUT WARRANTIES OR CONDITIONS OF ANY KIND, either express or implied.\n",
    "# See the License for the specific language governing permissions and\n",
    "# limitations under the License.\n",
    "#\n",
    "# Developed for Google LLC by RedCastle Resources Inc\n",
    "# https://www.redcastleresources.com/"
   ]
  },
  {
   "cell_type": "markdown",
   "id": "3c3387cb",
   "metadata": {
    "id": "title:generic,gcp"
   },
   "source": [
    "# <img width=50px  src = 'https://apps.fs.usda.gov/lcms-viewer/src/assets/images/lcms-icon.png'>  Lab 2: Create Landsat and Sentinel-2 Annual Composites\n",
    "\n",
    "<table align=\"left\">\n",
    "  <td>\n",
    "    <a href=\"https://colab.research.google.com/github/redcastle-resources/lcms-training/blob/main/2-Composites.ipynb\">\n",
    "      <img src=\"https://cloud.google.com/ml-engine/images/colab-logo-32px.png\" alt=\"Colab logo\"> Run in Colab\n",
    "    </a>\n",
    "  </td>\n",
    "  <td>\n",
    "    <a href=\"https://github.com/redcastle-resources/lcms-training/blob/main/2-Composites.ipynb\">\n",
    "      <img src=\"https://cloud.google.com/ml-engine/images/github-logo-32px.png\" alt=\"GitHub logo\">\n",
    "      View on GitHub\n",
    "    </a>\n",
    "  </td>\n",
    "  <td>\n",
    "    <a href=\"https://console.cloud.google.com/vertex-ai/workbench/deploy-notebook?download_url=https://github.com/redcastle-resources/lcms-training/blob/main/2-Composites.ipynb\">\n",
    "      <img src=\"https://lh3.googleusercontent.com/UiNooY4LUgW_oTvpsNhPpQzsstV5W8F7rYgxgGBD85cWJoLmrOzhVs_ksK_vgx40SHs7jCqkTkCk=e14-rj-sc0xffffff-h130-w32\" alt=\"Vertex AI logo\">\n",
    "      Open in Vertex AI Workbench\n",
    "    </a>\n",
    "  </td>\n",
    "</table>\n",
    "<br/><br/><br/>"
   ]
  },
  {
   "cell_type": "markdown",
   "id": "a0fcfc34",
   "metadata": {
    "id": "overview:mlops",
    "tags": []
   },
   "source": [
    "## 2.0: Overview and Introduction\n",
    "\n",
    "\n",
    "This notebook introduces the compositing methods used by the USDA Forest Service Landscape Change Monitoring System (LCMS). It then produces composites for a small LCMS study area. The composites will be used to generate time series data that LCMS modeling algorithms will use to predict land use, land cover, and vegetation cover change in the subsequent modules. \n",
    "\n",
    "**Learn more about [LCMS](https://apps.fs.usda.gov/lcms-viewer/home.html).**\n",
    "\n",
    "\n",
    "All composites are created and visualized using the `geeViz` Python package. `geeViz` provides command-line tools for processing, analyzing, and visualizing Google Earth Engine (GEE) objects. For map output visualization, the primary advantage of `geeViz` is that it does not rely on IPython. This is essential, since all operational LCMS processing is typically performed outside Notebooks, but we need to be able to debug outputs and look at them on the map. \n",
    "\n",
    "**Learn more about [geeViz](https://github.com/gee-community/geeViz/tree/master).**\n",
    "\n",
    "\n",
    "### 2.0.1: Objective\n",
    "\n",
    "#### This tutorial uses the following Google Cloud services:\n",
    "\n",
    "- `Google Earth Engine`\n",
    "\n",
    "#### The steps performed include:\n",
    "\n",
    "- Install necessary packages\n",
    "- Test various parameters to create composites\n",
    "    - Run with default parameters\n",
    "    - Include Landsat 7 in image composites\n",
    "    - Set cloud masking settings\n",
    "    - Set cloud shadow masking settings\n",
    "- Create and export composite time series to asset\n",
    "\n",
    "#### Learning objectives: \n",
    "- Users will create cloud and cloud shadow-free composites using Fmask and cloudScore for Landsat, s2Cloudless for Sentinel-2, and temporal dark outlier mask (TDOM).  \n",
    "\n"
   ]
  },
  {
   "cell_type": "markdown",
   "id": "6b8ce60c",
   "metadata": {},
   "source": [
    "### 2.0.2: Before you begin\n",
    "\n",
    "#### If you are working in Workbench: Set your current URL under `workbench_url` \n",
    "This gives the Map Viewer a url in which to host the viewer we will be generating. \n",
    "This gives the Map Viewer a url in which to host the viewer we will be generating. \n",
    "* This will be in your URL/search bar at the top of the browser window you are currently in\n",
    "* It will look something like `https://1234567890122-dot-us-west3.notebooks.googleusercontent.com/` (See the image below). \n",
    "\n",
    "![workspace url](img/workspace-url.png)\n",
    "\n",
    "#### Set a folder to use for all exports under `export_path_root` \n",
    "* This folder should be an assets folder in an existing GEE project.\n",
    "* By default, this folder is the same as the pre-baked folder (where outputs have already been created). \n",
    "* If you would like to create your own outputs, specify a different path for `export_path_root`, but leave the `pre_baked_path_root` as is. This way, the pre-baked outputs can be shown at the end, instead of waiting for all exports to finish.\n",
    "* It will be something like `projects/projectID/assets/someFolder`. Use the projectID associated with your account.\n",
    "* This folder does not have to already exist. If it does not exist, it will be created"
   ]
  },
  {
   "cell_type": "code",
   "execution_count": 1,
   "id": "9f565bd6",
   "metadata": {
    "colab": {
     "base_uri": "https://localhost:8080/"
    },
    "executionInfo": {
     "elapsed": 54452,
     "status": "ok",
     "timestamp": 1690298072312,
     "user": {
      "displayName": "Ian Housman",
      "userId": "00382093583884444463"
     },
     "user_tz": 360
    },
    "id": "ce3c6688",
    "outputId": "060bebcf-6f29-4b32-b739-93ea00af97ff"
   },
   "outputs": [
    {
     "name": "stdout",
     "output_type": "stream",
     "text": [
      "Done\n"
     ]
    }
   ],
   "source": [
    "workbench_url = 'https://1307eb830a12e633-dot-us-central1.notebooks.googleusercontent.com/'\n",
    "pre_baked_path_root  = 'projects/rcr-gee/assets/lcms-training'\n",
    "export_path_root = pre_baked_path_root\n",
    "print('Done')"
   ]
  },
  {
   "cell_type": "markdown",
   "id": "ce2fc211",
   "metadata": {},
   "source": [
    "#### Installation\n",
    "Install necessary Python packages. Uncomment the first line to upgrade geeViz if necessary.\n",
    "\n",
    "Note which python packages and components of geeViz you are importing here. "
   ]
  },
  {
   "cell_type": "code",
   "execution_count": 2,
   "id": "b9604b5f",
   "metadata": {
    "colab": {
     "base_uri": "https://localhost:8080/"
    },
    "executionInfo": {
     "elapsed": 54452,
     "status": "ok",
     "timestamp": 1690298072312,
     "user": {
      "displayName": "Ian Housman",
      "userId": "00382093583884444463"
     },
     "user_tz": 360
    },
    "id": "ce3c6688",
    "outputId": "060bebcf-6f29-4b32-b739-93ea00af97ff",
    "tags": []
   },
   "outputs": [
    {
     "name": "stdout",
     "output_type": "stream",
     "text": [
      "Initializing GEE\n",
      "Cached project id file path: C:\\Users\\ihousman\\.config\\earthengine\\credentials.proj_id\n",
      "Cached project id: lcms-292214\n",
      "Successfully initialized\n",
      "geeViz package folder: c:\\Users\\ihousman\\AppData\\Local\\Programs\\Python\\Python311\\Lib\\site-packages\\geeViz\n",
      "Done\n"
     ]
    }
   ],
   "source": [
    "#Module imports\n",
    "#!python -m pip install geeViz --upgrade\n",
    "try:\n",
    "    import geeViz.getImagesLib as getImagesLib\n",
    "except:\n",
    "    !python -m pip install geeViz \n",
    "    import geeViz.getImagesLib as getImagesLib\n",
    "\n",
    "import geeViz.assetManagerLib as aml\n",
    "import geeViz.taskManagerLib as tml\n",
    "import geeViz.gee2Pandas as g2p\n",
    "\n",
    "import pandas as pd\n",
    "import inspect,os\n",
    "\n",
    "ee = getImagesLib.ee\n",
    "Map = getImagesLib.Map\n",
    "\n",
    "print('Done')"
   ]
  },
  {
   "cell_type": "markdown",
   "id": "7471b64a",
   "metadata": {
    "tags": []
   },
   "source": [
    "#### Set up your work environment\n",
    "\n",
    "Create a folder in your export path where you will export the composites. In addition, create a blank image collection where your composites will live.\n",
    "\n",
    "Currently, when running within Colab or Workbench, geeView uses a different project to authenticate through, so you may need to make your asset public to view from within Colab.\n",
    "\n",
    "**Warning!!**\n",
    "\n",
    "* **Read-only access is provided for all authenticated GEE users for pre-baked outputs**\n",
    "* **If you are using the pre-baked output location (`export_path_root = pre_baked_path_root`), you will see errors for any operation that tries to write, delete, or change access permissions to any asset in the pre-baked output location.**\n",
    "* **This is expected and will not stop you from successfully running this notebook - ignore these error messages should they appear.**\n"
   ]
  },
  {
   "cell_type": "code",
   "execution_count": 3,
   "id": "efd2929b",
   "metadata": {
    "tags": []
   },
   "outputs": [
    {
     "name": "stdout",
     "output_type": "stream",
     "text": [
      "projects/rcr-gee/assets/lcms-training/lcms-training_module-2_composites\n",
      "Found the following sub directories:  ['lcms-training', 'lcms-training_module-2_composites']\n",
      "Will attempt to create them if they do not exist\n",
      "Asset projects/rcr-gee/assets/lcms-training already exists\n",
      "Asset projects/rcr-gee/assets/lcms-training/lcms-training_module-2_composites already exists\n",
      "Updating permissions for:  projects/rcr-gee/assets/lcms-training/lcms-training_module-2_composites\n",
      "Done\n"
     ]
    }
   ],
   "source": [
    "# Create folder \n",
    "export_composite_collection = f'{export_path_root}/lcms-training_module-2_composites'\n",
    "print(export_composite_collection)\n",
    "\n",
    "# Create a collection\n",
    "aml.create_asset(export_composite_collection,asset_type = ee.data.ASSET_TYPE_IMAGE_COLL)\n",
    "\n",
    "# Make it public\n",
    "# This will fail if you are using the pre_baked_path_root output location\n",
    "aml.updateACL(export_composite_collection,writers = [],all_users_can_read = True,readers = [])\n",
    "\n",
    "print('Done')"
   ]
  },
  {
   "cell_type": "markdown",
   "id": "dff48dab-59f6-4687-b49e-d6245ab64e8c",
   "metadata": {},
   "source": [
    "## 2.1: Explore geeViz functions \n",
    "\n",
    "Over the course of the examples in this module, you'll become more familiar with the parameters used to create image composites. The main function you will use is from the geeViz library and is called `getLandsatAndSentinel2HybridWrapper`. \n",
    "\n",
    "For more documentation of the parameters in the function, refer to the [getCombinedLandsatSentinel2Wrapper](https://github.com/gee-community/geeViz/blob/master/examples/getCombinedLandsatSentinel2Wrapper.py) example in the geeViz documentation.\n",
    "\n",
    "You can view the [source code](https://github.com/gee-community/geeViz/blob/bd75d38c2043fc3af795c9c35ae769c71c00f56a/getImagesLib.py#L3280) for this function on the geeViz GitHub.\n",
    "\n",
    "While the `getLandsatAndSentinel2HybridWrapper` will meet the needs of most compositing workflows, sometimes it is necessary to have more control over how composites are created. For these instances, you should use the underlying functions that help with pre-processing both Landsat or Sentinel-2 data:\n",
    "* [getProcessedLandsatScenes](https://github.com/gee-community/geeViz/blob/fdd8f0080301f8d915214b6e2d50af03a0915777/getImagesLib.py#L2678)\n",
    "* [getProcessedSentinel2Scenes](https://github.com/gee-community/geeViz/blob/fdd8f0080301f8d915214b6e2d50af03a0915777/getImagesLib.py#L2799)\n",
    "\n",
    "You can inspect the code for these functions by following the links above to the function or by using the `print(inspect.getsource(LIBRARY_NAME.FUNCTION_NAME))` command. Run the code block below to inspect the function from the geeViz library that you will be using. "
   ]
  },
  {
   "cell_type": "code",
   "execution_count": 4,
   "id": "9f80644b",
   "metadata": {},
   "outputs": [
    {
     "name": "stdout",
     "output_type": "stream",
     "text": [
      "def getLandsatAndSentinel2HybridWrapper(\n",
      "    studyArea,\n",
      "    startYear,\n",
      "    endYear,\n",
      "    startJulian,\n",
      "    endJulian,\n",
      "    timebuffer=0,\n",
      "    weights=[1],\n",
      "    compositingMethod=\"medoid\",\n",
      "    toaOrSR=\"TOA\",\n",
      "    includeSLCOffL7=False,\n",
      "    defringeL5=False,\n",
      "    applyQABand=False,\n",
      "    applyCloudProbability=False,\n",
      "    applyShadowShift=False,\n",
      "    applyCloudScoreLandsat=False,\n",
      "    applyCloudScoreSentinel2=False,\n",
      "    applyTDOMLandsat=True,\n",
      "    applyTDOMSentinel2=False,\n",
      "    applyFmaskCloudMask=True,\n",
      "    applyFmaskCloudShadowMask=True,\n",
      "    applyFmaskSnowMask=False,\n",
      "    cloudHeights=ee.List.sequence(500, 10000, 500),\n",
      "    cloudScoreThresh=20,\n",
      "    performCloudScoreOffset=True,\n",
      "    cloudScorePctl=10,\n",
      "    zScoreThresh=-1,\n",
      "    shadowSumThresh=0.35,\n",
      "    contractPixels=1.5,\n",
      "    dilatePixels=3.5,\n",
      "    shadowSumBands=[\"nir\", \"swir1\"],\n",
      "    landsatResampleMethod=\"near\",\n",
      "    sentinel2ResampleMethod=\"aggregate\",\n",
      "    convertToDailyMosaics=True,\n",
      "    runChastainHarmonization=True,\n",
      "    correctIllumination=False,\n",
      "    correctScale=250,\n",
      "    exportComposites=False,\n",
      "    outputName=\"Landsat-Sentinel2-Hybrid\",\n",
      "    exportPathRoot=None,\n",
      "    crs=\"EPSG:5070\",\n",
      "    transform=[30, 0, -2361915.0, 0, -30, 3177735.0],\n",
      "    scale=None,\n",
      "    preComputedLandsatCloudScoreOffset=None,\n",
      "    preComputedLandsatTDOMIRMean=None,\n",
      "    preComputedLandsatTDOMIRStdDev=None,\n",
      "    preComputedSentinel2CloudScoreOffset=None,\n",
      "    preComputedSentinel2TDOMIRMean=None,\n",
      "    preComputedSentinel2TDOMIRStdDev=None,\n",
      "    cloudProbThresh=40,\n",
      "    landsatCollectionVersion=\"C2\",\n",
      "    overwrite=False,\n",
      "    verbose=False,\n",
      "    applyCloudScorePlusSentinel2=True,\n",
      "    cloudScorePlusThresh=0.6,\n",
      "    cloudScorePlusScore=\"cs\",\n",
      "):\n",
      "\n",
      "    origin = \"Landsat-Sentinel2-Hybrid\"\n",
      "    toaOrSR = toaOrSR.upper()\n",
      "\n",
      "    args = formatArgs(locals())\n",
      "    if \"args\" in args.keys():\n",
      "        del args[\"args\"]\n",
      "\n",
      "    merged = getProcessedLandsatAndSentinel2Scenes(\n",
      "        studyArea=studyArea,\n",
      "        startYear=startYear,\n",
      "        endYear=endYear,\n",
      "        startJulian=startJulian,\n",
      "        endJulian=endJulian,\n",
      "        toaOrSR=toaOrSR,\n",
      "        includeSLCOffL7=includeSLCOffL7,\n",
      "        defringeL5=defringeL5,\n",
      "        applyQABand=applyQABand,\n",
      "        applyCloudProbability=applyCloudProbability,\n",
      "        applyShadowShift=applyShadowShift,\n",
      "        applyCloudScoreLandsat=applyCloudScoreLandsat,\n",
      "        applyCloudScoreSentinel2=applyCloudScoreSentinel2,\n",
      "        applyTDOMLandsat=applyTDOMLandsat,\n",
      "        applyTDOMSentinel2=applyTDOMSentinel2,\n",
      "        applyFmaskCloudMask=applyFmaskCloudMask,\n",
      "        applyFmaskCloudShadowMask=applyFmaskCloudShadowMask,\n",
      "        applyFmaskSnowMask=applyFmaskSnowMask,\n",
      "        cloudHeights=cloudHeights,\n",
      "        cloudScoreThresh=cloudScoreThresh,\n",
      "        performCloudScoreOffset=performCloudScoreOffset,\n",
      "        cloudScorePctl=cloudScorePctl,\n",
      "        zScoreThresh=zScoreThresh,\n",
      "        shadowSumThresh=shadowSumThresh,\n",
      "        contractPixels=contractPixels,\n",
      "        dilatePixels=dilatePixels,\n",
      "        shadowSumBands=shadowSumBands,\n",
      "        landsatResampleMethod=landsatResampleMethod,\n",
      "        sentinel2ResampleMethod=sentinel2ResampleMethod,\n",
      "        convertToDailyMosaics=convertToDailyMosaics,\n",
      "        runChastainHarmonization=runChastainHarmonization,\n",
      "        correctIllumination=correctIllumination,\n",
      "        correctScale=correctScale,\n",
      "        preComputedLandsatCloudScoreOffset=preComputedLandsatCloudScoreOffset,\n",
      "        preComputedLandsatTDOMIRMean=preComputedLandsatTDOMIRMean,\n",
      "        preComputedLandsatTDOMIRStdDev=preComputedLandsatTDOMIRStdDev,\n",
      "        preComputedSentinel2CloudScoreOffset=preComputedSentinel2CloudScoreOffset,\n",
      "        preComputedSentinel2TDOMIRMean=preComputedSentinel2TDOMIRMean,\n",
      "        preComputedSentinel2TDOMIRStdDev=preComputedSentinel2TDOMIRStdDev,\n",
      "        cloudProbThresh=cloudProbThresh,\n",
      "        landsatCollectionVersion=landsatCollectionVersion,\n",
      "        verbose=verbose,\n",
      "        applyCloudScorePlus=applyCloudScorePlusSentinel2,\n",
      "        cloudScorePlusThresh=cloudScorePlusThresh,\n",
      "        cloudScorePlusScore=cloudScorePlusScore,\n",
      "    )\n",
      "\n",
      "    # Create hybrid composites\n",
      "    composites = compositeTimeSeries(\n",
      "        ls=merged,\n",
      "        startYear=startYear,\n",
      "        endYear=endYear,\n",
      "        startJulian=startJulian,\n",
      "        endJulian=endJulian,\n",
      "        timebuffer=timebuffer,\n",
      "        weights=weights,\n",
      "        compositingMethod=compositingMethod,\n",
      "    )\n",
      "\n",
      "    # Export composite collection\n",
      "    if exportComposites:\n",
      "\n",
      "        exportBandDict = {\n",
      "            \"medoid\": [\n",
      "                \"blue\",\n",
      "                \"green\",\n",
      "                \"red\",\n",
      "                \"nir\",\n",
      "                \"swir1\",\n",
      "                \"swir2\",\n",
      "                \"compositeObsCount\",\n",
      "                \"sensor\",\n",
      "                \"year\",\n",
      "                \"julianDay\",\n",
      "            ],\n",
      "            \"median\": [\n",
      "                \"blue\",\n",
      "                \"green\",\n",
      "                \"red\",\n",
      "                \"nir\",\n",
      "                \"swir1\",\n",
      "                \"swir2\",\n",
      "                \"compositeObsCount\",\n",
      "            ],\n",
      "        }\n",
      "        nonDivideBandDict = {\n",
      "            \"medoid\": [\"compositeObsCount\", \"sensor\", \"year\", \"julianDay\"],\n",
      "            \"median\": [\"compositeObsCount\"],\n",
      "        }\n",
      "        exportBands = exportBandDict[compositingMethod]\n",
      "        nonDivideBands = nonDivideBandDict[compositingMethod]\n",
      "\n",
      "        exportCompositeCollection(\n",
      "            collection=composites,\n",
      "            exportPathRoot=exportPathRoot,\n",
      "            outputName=outputName,\n",
      "            origin=origin,\n",
      "            studyArea=studyArea,\n",
      "            crs=crs,\n",
      "            transform=transform,\n",
      "            scale=scale,\n",
      "            startYear=startYear,\n",
      "            endYear=endYear,\n",
      "            startJulian=startJulian,\n",
      "            endJulian=endJulian,\n",
      "            compositingMethod=compositingMethod,\n",
      "            timebuffer=timebuffer,\n",
      "            toaOrSR=toaOrSR,\n",
      "            nonDivideBands=nonDivideBands,\n",
      "            exportBands=exportBands,\n",
      "            additionalPropertyDict=args,\n",
      "            overwrite=overwrite,\n",
      "        )\n",
      "\n",
      "    args[\"processedScenes\"] = merged\n",
      "    args[\"processedComposites\"] = composites\n",
      "\n",
      "    return args\n",
      "\n"
     ]
    }
   ],
   "source": [
    "print(inspect.getsource(getImagesLib.getLandsatAndSentinel2HybridWrapper))"
   ]
  },
  {
   "cell_type": "markdown",
   "id": "40ef1236-6209-4a19-bfa7-175a19f89310",
   "metadata": {},
   "source": [
    "## 2.2: Create Landsat + Sentinel-2 Composites\n",
    "\n",
    "### 2.2.1: Create Composites using basic parameters\n",
    "\n",
    "#### Set up map\n",
    "The first thing you'll do is set up the map viewer where you'll inspect the outputs you generate. You won't view the map until later. "
   ]
  },
  {
   "cell_type": "code",
   "execution_count": 5,
   "id": "f8a75bb1",
   "metadata": {
    "colab": {
     "base_uri": "https://localhost:8080/",
     "height": 1000
    },
    "executionInfo": {
     "elapsed": 3258,
     "status": "ok",
     "timestamp": 1690298168455,
     "user": {
      "displayName": "Ian Housman",
      "userId": "00382093583884444463"
     },
     "user_tz": 360
    },
    "id": "d4974e71",
    "outputId": "c5b14c5b-c86a-497c-f764-03b8871ef97a"
   },
   "outputs": [
    {
     "name": "stdout",
     "output_type": "stream",
     "text": [
      "Done\n"
     ]
    }
   ],
   "source": [
    "# Set proxy url\n",
    "Map.proxy_url = workbench_url\n",
    "\n",
    "#First clear the map in case it has been populated with layers/commands earlier\n",
    "Map.clearMap()\n",
    "\n",
    "# reset port if necessary\n",
    "Map.port = 1232\n",
    "\n",
    "print('Done')"
   ]
  },
  {
   "cell_type": "markdown",
   "id": "c244cb25",
   "metadata": {
    "tags": []
   },
   "source": [
    "#### Define parameters\n",
    "\n",
    "**The first parameters you define will set the **area** and **time range** over which you want to compute annual composites.**\n",
    "\n",
    "* ```studyArea``` - a featureCollection, feature or geometry to specify the bounds of our area of interest\n",
    "\n",
    "* ```startJulian``` - the first julian date to include in annual composites, used to specify a particular season if desired\n",
    "* ```endJulian``` - the last julian date to include in annual composites, used to specify a particular season if desired\n",
    "\n",
    "    This supports wrapping for tropics and southern hemisphere. If you are using wrapping and the majority of the days occur in the second year, the system:time_start will default to June 1 of that year. Otherwise, all system:time_starts will default to June 1 of the given year.\n",
    "\n",
    "* ```startYear``` - the first year for which to compute annual composites\n",
    "* ```endYear``` - the last year for which to compute annual composites\n",
    "\n",
    "You should provide at least 3 year for time series methods to work well. If you are providing pre-computed stats for cloud masking using cloudScore and TDOM, this does not matter. \n",
    "\n",
    "Below, you'll use a 3-year window to explore how composites are made. After you determine which parameters are appropriate, you will create composites for the entire time window for which Landsat data are available. "
   ]
  },
  {
   "cell_type": "code",
   "execution_count": 6,
   "id": "78e5f7cd",
   "metadata": {
    "colab": {
     "base_uri": "https://localhost:8080/",
     "height": 1000
    },
    "executionInfo": {
     "elapsed": 3258,
     "status": "ok",
     "timestamp": 1690298168455,
     "user": {
      "displayName": "Ian Housman",
      "userId": "00382093583884444463"
     },
     "user_tz": 360
    },
    "id": "d4974e71",
    "outputId": "c5b14c5b-c86a-497c-f764-03b8871ef97a"
   },
   "outputs": [
    {
     "name": "stdout",
     "output_type": "stream",
     "text": [
      "Done\n"
     ]
    }
   ],
   "source": [
    "# Define user parameters:\n",
    "\n",
    "# Specify study area\n",
    "studyArea = ee.FeatureCollection('projects/lcms-292214/assets/R8/PR_USVI/Ancillary/prusvi_boundary')\n",
    "\n",
    "# Update the startJulian and endJulian \n",
    "startJulian = 152\n",
    "endJulian = 151\n",
    "\n",
    "# Specify start and end years for all analyses\n",
    "startYear = 2009\n",
    "endYear = 2011\n",
    "\n",
    "# By default do not run the Temporal Dark Outlier Mask (TDOM) cloud shadow masking method\n",
    "# We will come back to this\n",
    "applyTDOMLandsat = False\n",
    "applyTDOMSentinel2 = False\n",
    "print('Done')"
   ]
  },
  {
   "cell_type": "markdown",
   "id": "838bd450",
   "metadata": {},
   "source": [
    "#### Build composites \n",
    "Using the parameters you specified above, you will create a series of image composites. \n",
    "\n",
    "You can review all of the parameters, and their defaults, in the [getCombinedLandsatSentinel2Wrapper](https://github.com/gee-community/geeViz/blob/master/examples/getCombinedLandsatSentinel2Wrapper.py).\n"
   ]
  },
  {
   "cell_type": "code",
   "execution_count": 7,
   "id": "961e3a25",
   "metadata": {
    "colab": {
     "base_uri": "https://localhost:8080/",
     "height": 1000
    },
    "executionInfo": {
     "elapsed": 3258,
     "status": "ok",
     "timestamp": 1690298168455,
     "user": {
      "displayName": "Ian Housman",
      "userId": "00382093583884444463"
     },
     "user_tz": 360
    },
    "id": "d4974e71",
    "outputId": "c5b14c5b-c86a-497c-f764-03b8871ef97a"
   },
   "outputs": [
    {
     "name": "stdout",
     "output_type": "stream",
     "text": [
      "Get Processed Landsat and Sentinel2 Scenes: \n",
      "Start date: Jun 01 2009 , End date: May 30 2012\n",
      "Get Processed Landsat: \n",
      "Start date: Jun 01 2009 , End date: May 30 2012\n",
      "Only including SLC On Landsat 7\n",
      "Applying Fmask Cloud Mask\n",
      "Applying Fmask Shadow Mask\n",
      "Get Processed Sentinel2: \n",
      "Start date: Jun 01 2009 , End date: May 30 2012\n",
      "Using S2 Collection: COPERNICUS/S2_HARMONIZED\n",
      "Joining pre-computed cloudScore+ from: GOOGLE/CLOUD_SCORE_PLUS/V1/S2_HARMONIZED\n",
      "Setting to aggregate instead of resample \n",
      "Converting S2 data to daily mosaics\n",
      "Applying cloudScore+\n",
      "Running Chastain et al 2019 harmonization\n"
     ]
    }
   ],
   "source": [
    "#Call on master wrapper function to get Landat scenes and composites\n",
    "lsAndTs = getImagesLib.getLandsatAndSentinel2HybridWrapper(studyArea.geometry().bounds(50,'EPSG:5070'),\n",
    "                                                           startYear,\n",
    "                                                           endYear,\n",
    "                                                           startJulian,\n",
    "                                                           endJulian,\n",
    "                                                           applyTDOMLandsat = applyTDOMLandsat,\n",
    "                                                           applyTDOMSentinel2 = applyTDOMSentinel2\n",
    "                                                          )\n",
    "\n",
    "#Separate into scenes and composites for subsequent analysis\n",
    "processedScenes = lsAndTs['processedScenes']\n",
    "processedComposites = lsAndTs['processedComposites']"
   ]
  },
  {
   "cell_type": "markdown",
   "id": "af6035ca",
   "metadata": {},
   "source": [
    "Note above that the default settings apply the [Fmask Cloud Mask](https://github.com/gee-community/geeViz/blob/fdd8f0080301f8d915214b6e2d50af03a0915777/getImagesLib.py#L1111) and [Fmask Shadow Mask](https://github.com/gee-community/geeViz/blob/fdd8f0080301f8d915214b6e2d50af03a0915777/getImagesLib.py#L1133) for Landsat, and apply [CloudScore+](https://github.com/gee-community/geeViz/blob/4be1bcdf5c23c8963800f5257add3317414b384e/getImagesLib.py#L2688) for Sentinel-2 imagery. \n",
    "\n",
    "Follow the hyperlinks above to see how these functions are implemented in geeViz.\n",
    "\n",
    "#### Add to Map\n",
    "The `geeView` module of the `geeViz` package provides functions for creating an interactive map viewer outside of the Google Earth Engine Code Editor and Playground. Generally, `Map` functions in `geeView` follow the same syntax as javascript Earth Engine commands in the playground. \n",
    "\n",
    "For more information and examples of geeView capabilities, visit the [geeView example](https://github.com/gee-community/geeViz/blob/master/examples/geeViewExample.py) in the geeViz github. \n",
    "\n",
    "The interactive map viewer will appear below."
   ]
  },
  {
   "cell_type": "code",
   "execution_count": 8,
   "id": "f9cb39f9",
   "metadata": {
    "colab": {
     "base_uri": "https://localhost:8080/",
     "height": 1000
    },
    "executionInfo": {
     "elapsed": 3258,
     "status": "ok",
     "timestamp": 1690298168455,
     "user": {
      "displayName": "Ian Housman",
      "userId": "00382093583884444463"
     },
     "user_tz": 360
    },
    "id": "d4974e71",
    "outputId": "c5b14c5b-c86a-497c-f764-03b8871ef97a"
   },
   "outputs": [
    {
     "name": "stdout",
     "output_type": "stream",
     "text": [
      "Adding layer: Default Params 152-151\n",
      "Adding layer: Study Area\n",
      "Starting webmap\n",
      "Using default refresh token for geeView\n",
      "Starting local web server at: http://localhost:1232/geeView/\n",
      "HTTP server command: \"c:\\Users\\ihousman\\AppData\\Local\\Programs\\Python\\Python311\\python.exe\" -m http.server  1232\n",
      "Done\n",
      "cwd z:\\Projects\\06_LCMS_4_NFS\\Scripts\\lcms-training\n",
      "geeView URL: http://localhost:1232/geeView/?projectID=lcms-292214&accessToken=ya29.a0AeDClZC80Ez4nL5TcDK4_TWv406f8LWQtbk20LhqrfY75iW7MF5zrkpDLMGkYf3pEr4q0afb3b6N1uTLatizkfs6vnGIkD2ZaRnYhGVS4umrkTJo1afuUu_YcHlqU6IED5P3FEeX_pNSIGRFWOcBU7de5ucMqmzM-U6mD9yjM58aCgYKATISARESFQHGX2Mi8jyOSCo_py0EbYrOrozOqA0178\n"
     ]
    },
    {
     "data": {
      "text/html": [
       "\n",
       "        <iframe\n",
       "            width=\"100%\"\n",
       "            height=\"525px\"\n",
       "            src=\"http://localhost:1232/geeView/?projectID=lcms-292214&accessToken=ya29.a0AeDClZC80Ez4nL5TcDK4_TWv406f8LWQtbk20LhqrfY75iW7MF5zrkpDLMGkYf3pEr4q0afb3b6N1uTLatizkfs6vnGIkD2ZaRnYhGVS4umrkTJo1afuUu_YcHlqU6IED5P3FEeX_pNSIGRFWOcBU7de5ucMqmzM-U6mD9yjM58aCgYKATISARESFQHGX2Mi8jyOSCo_py0EbYrOrozOqA0178\"\n",
       "            frameborder=\"0\"\n",
       "            allowfullscreen\n",
       "            \n",
       "        ></iframe>\n",
       "        "
      ],
      "text/plain": [
       "<IPython.lib.display.IFrame at 0x24b7b288bd0>"
      ]
     },
     "metadata": {},
     "output_type": "display_data"
    }
   ],
   "source": [
    "Map.clearMap()\n",
    "\n",
    "Map.addTimeLapse(processedComposites,getImagesLib.vizParamsFalse,'Default Params {}-{}'.format(startJulian,endJulian),'True')\n",
    "Map.addLayer(studyArea,{},'Study Area')\n",
    "Map.centerObject(studyArea,10)\n",
    "Map.turnOnInspector()\n",
    "Map.view()"
   ]
  },
  {
   "cell_type": "markdown",
   "id": "120ad980",
   "metadata": {},
   "source": [
    "#### Inspect the outputs\n",
    "\n",
    "Look at the map that appeared above. You may need to click the button next to the layer titled \"Default Params\" in order to view the layer. Click the play button \n",
    "![play button](img/play-button.png) to show a time lapse of all of the annual composites created.  \n",
    "\n",
    "**It is clear the default parameters do not work very well in this area.**\n",
    "Few, if any of the years displayed have complete images for the annual composite. Data are missing for large swaths of the image.\n",
    "\n",
    "Though the results panel above indicates operations that were applied to create the composites, it doesn't tell you the full list of parameters used to create the composite. You can access the parameters that were used through the properties of the returned collection.\n",
    "\n",
    "Run the code block below to print the parameters used and display them in a table. Uncomment the second line if you want to see what the raw properties attribute looks like."
   ]
  },
  {
   "cell_type": "code",
   "execution_count": 9,
   "id": "e0340487",
   "metadata": {
    "colab": {
     "base_uri": "https://localhost:8080/"
    },
    "executionInfo": {
     "elapsed": 1505,
     "status": "ok",
     "timestamp": 1690298215913,
     "user": {
      "displayName": "Ian Housman",
      "userId": "00382093583884444463"
     },
     "user_tz": 360
    },
    "id": "48dc6ee9",
    "outputId": "4a71a638-a9dd-45c8-b0e5-8d9ddb253bf7"
   },
   "outputs": [
    {
     "data": {
      "text/html": [
       "<div>\n",
       "<style scoped>\n",
       "    .dataframe tbody tr th:only-of-type {\n",
       "        vertical-align: middle;\n",
       "    }\n",
       "\n",
       "    .dataframe tbody tr th {\n",
       "        vertical-align: top;\n",
       "    }\n",
       "\n",
       "    .dataframe thead th {\n",
       "        text-align: right;\n",
       "    }\n",
       "</style>\n",
       "<table border=\"1\" class=\"dataframe\">\n",
       "  <thead>\n",
       "    <tr style=\"text-align: right;\">\n",
       "      <th></th>\n",
       "      <th>Value</th>\n",
       "    </tr>\n",
       "  </thead>\n",
       "  <tbody>\n",
       "    <tr>\n",
       "      <th>applyCloudProbability</th>\n",
       "      <td>False</td>\n",
       "    </tr>\n",
       "    <tr>\n",
       "      <th>applyCloudScoreLandsat</th>\n",
       "      <td>False</td>\n",
       "    </tr>\n",
       "    <tr>\n",
       "      <th>applyCloudScorePlus</th>\n",
       "      <td>True</td>\n",
       "    </tr>\n",
       "    <tr>\n",
       "      <th>applyCloudScoreSentinel2</th>\n",
       "      <td>False</td>\n",
       "    </tr>\n",
       "    <tr>\n",
       "      <th>applyFmaskCloudMask</th>\n",
       "      <td>True</td>\n",
       "    </tr>\n",
       "    <tr>\n",
       "      <th>applyFmaskCloudShadowMask</th>\n",
       "      <td>True</td>\n",
       "    </tr>\n",
       "    <tr>\n",
       "      <th>applyFmaskSnowMask</th>\n",
       "      <td>False</td>\n",
       "    </tr>\n",
       "    <tr>\n",
       "      <th>applyQABand</th>\n",
       "      <td>False</td>\n",
       "    </tr>\n",
       "    <tr>\n",
       "      <th>applyShadowShift</th>\n",
       "      <td>False</td>\n",
       "    </tr>\n",
       "    <tr>\n",
       "      <th>applyTDOMLandsat</th>\n",
       "      <td>False</td>\n",
       "    </tr>\n",
       "    <tr>\n",
       "      <th>applyTDOMSentinel2</th>\n",
       "      <td>False</td>\n",
       "    </tr>\n",
       "    <tr>\n",
       "      <th>cloudProbThresh</th>\n",
       "      <td>40</td>\n",
       "    </tr>\n",
       "    <tr>\n",
       "      <th>cloudScorePctl</th>\n",
       "      <td>10</td>\n",
       "    </tr>\n",
       "    <tr>\n",
       "      <th>cloudScorePlusScore</th>\n",
       "      <td>cs</td>\n",
       "    </tr>\n",
       "    <tr>\n",
       "      <th>cloudScoreThresh</th>\n",
       "      <td>20</td>\n",
       "    </tr>\n",
       "    <tr>\n",
       "      <th>convertToDailyMosaics</th>\n",
       "      <td>True</td>\n",
       "    </tr>\n",
       "    <tr>\n",
       "      <th>correctIllumination</th>\n",
       "      <td>False</td>\n",
       "    </tr>\n",
       "    <tr>\n",
       "      <th>correctScale</th>\n",
       "      <td>250</td>\n",
       "    </tr>\n",
       "    <tr>\n",
       "      <th>defringeL5</th>\n",
       "      <td>False</td>\n",
       "    </tr>\n",
       "    <tr>\n",
       "      <th>endJulian</th>\n",
       "      <td>151</td>\n",
       "    </tr>\n",
       "    <tr>\n",
       "      <th>endYear</th>\n",
       "      <td>2011</td>\n",
       "    </tr>\n",
       "    <tr>\n",
       "      <th>includeSLCOffL7</th>\n",
       "      <td>False</td>\n",
       "    </tr>\n",
       "    <tr>\n",
       "      <th>landsatCollectionVersion</th>\n",
       "      <td>C2</td>\n",
       "    </tr>\n",
       "    <tr>\n",
       "      <th>landsatResampleMethod</th>\n",
       "      <td>near</td>\n",
       "    </tr>\n",
       "    <tr>\n",
       "      <th>origin</th>\n",
       "      <td>Landsat-Sentinel2-Hybrid</td>\n",
       "    </tr>\n",
       "    <tr>\n",
       "      <th>performCloudScoreOffset</th>\n",
       "      <td>True</td>\n",
       "    </tr>\n",
       "    <tr>\n",
       "      <th>preComputedLandsatCloudScoreOffset</th>\n",
       "      <td>None</td>\n",
       "    </tr>\n",
       "    <tr>\n",
       "      <th>preComputedLandsatTDOMIRMean</th>\n",
       "      <td>None</td>\n",
       "    </tr>\n",
       "    <tr>\n",
       "      <th>preComputedLandsatTDOMIRStdDev</th>\n",
       "      <td>None</td>\n",
       "    </tr>\n",
       "    <tr>\n",
       "      <th>preComputedSentinel2CloudScoreOffset</th>\n",
       "      <td>None</td>\n",
       "    </tr>\n",
       "    <tr>\n",
       "      <th>preComputedSentinel2TDOMIRMean</th>\n",
       "      <td>None</td>\n",
       "    </tr>\n",
       "    <tr>\n",
       "      <th>preComputedSentinel2TDOMIRStdDev</th>\n",
       "      <td>None</td>\n",
       "    </tr>\n",
       "    <tr>\n",
       "      <th>runChastainHarmonization</th>\n",
       "      <td>True</td>\n",
       "    </tr>\n",
       "    <tr>\n",
       "      <th>sentinel2ResampleMethod</th>\n",
       "      <td>aggregate</td>\n",
       "    </tr>\n",
       "    <tr>\n",
       "      <th>shadowSumBands</th>\n",
       "      <td>['nir', 'swir1']</td>\n",
       "    </tr>\n",
       "    <tr>\n",
       "      <th>startJulian</th>\n",
       "      <td>152</td>\n",
       "    </tr>\n",
       "    <tr>\n",
       "      <th>startYear</th>\n",
       "      <td>2009</td>\n",
       "    </tr>\n",
       "    <tr>\n",
       "      <th>toaOrSR</th>\n",
       "      <td>TOA</td>\n",
       "    </tr>\n",
       "    <tr>\n",
       "      <th>verbose</th>\n",
       "      <td>False</td>\n",
       "    </tr>\n",
       "    <tr>\n",
       "      <th>wrapOffset</th>\n",
       "      <td>365</td>\n",
       "    </tr>\n",
       "    <tr>\n",
       "      <th>zScoreThresh</th>\n",
       "      <td>-1</td>\n",
       "    </tr>\n",
       "  </tbody>\n",
       "</table>\n",
       "</div>"
      ],
      "text/plain": [
       "                                                         Value\n",
       "applyCloudProbability                                    False\n",
       "applyCloudScoreLandsat                                   False\n",
       "applyCloudScorePlus                                       True\n",
       "applyCloudScoreSentinel2                                 False\n",
       "applyFmaskCloudMask                                       True\n",
       "applyFmaskCloudShadowMask                                 True\n",
       "applyFmaskSnowMask                                       False\n",
       "applyQABand                                              False\n",
       "applyShadowShift                                         False\n",
       "applyTDOMLandsat                                         False\n",
       "applyTDOMSentinel2                                       False\n",
       "cloudProbThresh                                             40\n",
       "cloudScorePctl                                              10\n",
       "cloudScorePlusScore                                         cs\n",
       "cloudScoreThresh                                            20\n",
       "convertToDailyMosaics                                     True\n",
       "correctIllumination                                      False\n",
       "correctScale                                               250\n",
       "defringeL5                                               False\n",
       "endJulian                                                  151\n",
       "endYear                                                   2011\n",
       "includeSLCOffL7                                          False\n",
       "landsatCollectionVersion                                    C2\n",
       "landsatResampleMethod                                     near\n",
       "origin                                Landsat-Sentinel2-Hybrid\n",
       "performCloudScoreOffset                                   True\n",
       "preComputedLandsatCloudScoreOffset                        None\n",
       "preComputedLandsatTDOMIRMean                              None\n",
       "preComputedLandsatTDOMIRStdDev                            None\n",
       "preComputedSentinel2CloudScoreOffset                      None\n",
       "preComputedSentinel2TDOMIRMean                            None\n",
       "preComputedSentinel2TDOMIRStdDev                          None\n",
       "runChastainHarmonization                                  True\n",
       "sentinel2ResampleMethod                              aggregate\n",
       "shadowSumBands                                ['nir', 'swir1']\n",
       "startJulian                                                152\n",
       "startYear                                                 2009\n",
       "toaOrSR                                                    TOA\n",
       "verbose                                                  False\n",
       "wrapOffset                                                 365\n",
       "zScoreThresh                                                -1"
      ]
     },
     "metadata": {},
     "output_type": "display_data"
    },
    {
     "name": "stdout",
     "output_type": "stream",
     "text": [
      "Done\n"
     ]
    }
   ],
   "source": [
    "#Print parameters used\n",
    "#Parameters are stored in properties of returnd collection\n",
    "props = processedScenes.toDictionary().getInfo()\n",
    "display(pd.DataFrame(list(props.values()),index = list(props.keys()),columns = ['Value']))\n",
    "\n",
    "print('Done')"
   ]
  },
  {
   "cell_type": "markdown",
   "id": "1cb4aa34",
   "metadata": {},
   "source": [
    "### 2.2.2: Include Landsat 7\n",
    "Since there are not that many images available in this area for these years, let's try adding Landsat 7. Our default is to exclude Landsat 7 from image composites because of the [Landsat 7 scan line correction failure](https://www.usgs.gov/landsat-missions/landsat-7?qt-science_support_page_related_con=0#qt-science_support_page_related_con).\n",
    "\n",
    "#### Add a new parameter\n",
    "\n",
    "To include Landsat 7, you will add a new parameter to the wrapper function. \n",
    "\n",
    "``` includeSLCoffL7 ``` - default: **False** \n",
    "\n",
    "Run the code block below to add the new parameter."
   ]
  },
  {
   "cell_type": "code",
   "execution_count": 10,
   "id": "7331ba9f",
   "metadata": {
    "colab": {
     "base_uri": "https://localhost:8080/",
     "height": 1000
    },
    "executionInfo": {
     "elapsed": 4407,
     "status": "ok",
     "timestamp": 1690298237041,
     "user": {
      "displayName": "Ian Housman",
      "userId": "00382093583884444463"
     },
     "user_tz": 360
    },
    "id": "704e7fb1",
    "outputId": "1b0f740a-eb14-4911-e2b4-dd596beccc72"
   },
   "outputs": [
    {
     "name": "stdout",
     "output_type": "stream",
     "text": [
      "Done\n"
     ]
    }
   ],
   "source": [
    "#add LS 7 parameter\n",
    "includeSLCOffL7 = True\n",
    "print('Done')"
   ]
  },
  {
   "cell_type": "markdown",
   "id": "0d61b507",
   "metadata": {},
   "source": [
    "#### Call on wrapper function again, including new parameter\n",
    "\n",
    "Now, run the same wrapper function again. Note that all of the parameters are the same, with the addition of your new `includeSLCOffL7` parameter."
   ]
  },
  {
   "cell_type": "code",
   "execution_count": 11,
   "id": "ecdc1fdf",
   "metadata": {
    "colab": {
     "base_uri": "https://localhost:8080/",
     "height": 1000
    },
    "executionInfo": {
     "elapsed": 4407,
     "status": "ok",
     "timestamp": 1690298237041,
     "user": {
      "displayName": "Ian Housman",
      "userId": "00382093583884444463"
     },
     "user_tz": 360
    },
    "id": "704e7fb1",
    "outputId": "1b0f740a-eb14-4911-e2b4-dd596beccc72"
   },
   "outputs": [
    {
     "name": "stdout",
     "output_type": "stream",
     "text": [
      "Get Processed Landsat and Sentinel2 Scenes: \n",
      "Start date: Jun 01 2009 , End date: May 30 2012\n",
      "Get Processed Landsat: \n",
      "Start date: Jun 01 2009 , End date: May 30 2012\n",
      "Including All Landsat 7\n",
      "Applying Fmask Cloud Mask\n",
      "Applying Fmask Shadow Mask\n",
      "Get Processed Sentinel2: \n",
      "Start date: Jun 01 2009 , End date: May 30 2012\n",
      "Using S2 Collection: COPERNICUS/S2_HARMONIZED\n",
      "Joining pre-computed cloudScore+ from: GOOGLE/CLOUD_SCORE_PLUS/V1/S2_HARMONIZED\n",
      "Setting to aggregate instead of resample \n",
      "Converting S2 data to daily mosaics\n",
      "Applying cloudScore+\n",
      "Running Chastain et al 2019 harmonization\n"
     ]
    }
   ],
   "source": [
    "#Call on master wrapper function to get Landsat scenes and composites\n",
    "lsAndTs = getImagesLib.getLandsatAndSentinel2HybridWrapper(studyArea.geometry().bounds(50,'EPSG:5070'),\n",
    "                                                           startYear,\n",
    "                                                           endYear,\n",
    "                                                           startJulian,\n",
    "                                                           endJulian,\n",
    "                                                           includeSLCOffL7=includeSLCOffL7,\n",
    "                                                           applyTDOMLandsat = applyTDOMLandsat,\n",
    "                                                           applyTDOMSentinel2 = applyTDOMSentinel2)\n",
    "\n",
    "\n",
    "#Separate into scenes and composites for subsequent analysis\n",
    "processedScenes = lsAndTs['processedScenes']\n",
    "processedComposites = lsAndTs['processedComposites']"
   ]
  },
  {
   "cell_type": "markdown",
   "id": "b982ad18",
   "metadata": {},
   "source": [
    "#### Add to map\n",
    "\n",
    "Run the codeblock below to add the composites you created to the map again to inspect your results."
   ]
  },
  {
   "cell_type": "code",
   "execution_count": 12,
   "id": "a4ad9b01",
   "metadata": {
    "colab": {
     "base_uri": "https://localhost:8080/",
     "height": 1000
    },
    "executionInfo": {
     "elapsed": 4407,
     "status": "ok",
     "timestamp": 1690298237041,
     "user": {
      "displayName": "Ian Housman",
      "userId": "00382093583884444463"
     },
     "user_tz": 360
    },
    "id": "704e7fb1",
    "outputId": "1b0f740a-eb14-4911-e2b4-dd596beccc72"
   },
   "outputs": [
    {
     "name": "stdout",
     "output_type": "stream",
     "text": [
      "Adding layer: L7 added 152-151\n",
      "Starting webmap\n",
      "Using default refresh token for geeView\n",
      "Local web server at: http://localhost:1232/geeView/ already serving.\n",
      "cwd z:\\Projects\\06_LCMS_4_NFS\\Scripts\\lcms-training\n",
      "geeView URL: http://localhost:1232/geeView/?projectID=lcms-292214&accessToken=ya29.a0AeDClZCYTQ_KG86_yznaEgmIYXnMB-D4qW_KWFJAZWQL3SW6Gb8VZX-a_3HGPkceIX0SNYpJxfq32ZKcnYNzStR9UHx3KD3061QNuLG96DasS6yYLkiguni4Q59f_OSzu782LB2MYKOdbx1ir04RRrXBdyWMNVMPcyNhiE4JzLoaCgYKAbkSARESFQHGX2Miy5OiA-qd3iKlE2GJBDPU2g0178\n"
     ]
    },
    {
     "data": {
      "text/html": [
       "\n",
       "        <iframe\n",
       "            width=\"100%\"\n",
       "            height=\"525px\"\n",
       "            src=\"http://localhost:1232/geeView/?projectID=lcms-292214&accessToken=ya29.a0AeDClZCYTQ_KG86_yznaEgmIYXnMB-D4qW_KWFJAZWQL3SW6Gb8VZX-a_3HGPkceIX0SNYpJxfq32ZKcnYNzStR9UHx3KD3061QNuLG96DasS6yYLkiguni4Q59f_OSzu782LB2MYKOdbx1ir04RRrXBdyWMNVMPcyNhiE4JzLoaCgYKAbkSARESFQHGX2Miy5OiA-qd3iKlE2GJBDPU2g0178\"\n",
       "            frameborder=\"0\"\n",
       "            allowfullscreen\n",
       "            \n",
       "        ></iframe>\n",
       "        "
      ],
      "text/plain": [
       "<IPython.lib.display.IFrame at 0x24b7d7bb250>"
      ]
     },
     "metadata": {},
     "output_type": "display_data"
    }
   ],
   "source": [
    "#Turn off layers from previous iteration\n",
    "Map.turnOffAllLayers()\n",
    "\n",
    "Map.addTimeLapse(processedComposites,getImagesLib.vizParamsFalse,'L7 added {}-{}'.format(startJulian,endJulian),True)\n",
    "\n",
    "\n",
    "# Stop map from centering on the study area\n",
    "Map.mapCommandList = []\n",
    "\n",
    "# Turn on the insepctor\n",
    "Map.turnOnInspector()\n",
    "\n",
    "Map.view()"
   ]
  },
  {
   "cell_type": "markdown",
   "id": "7e59174d",
   "metadata": {
    "colab": {
     "base_uri": "https://localhost:8080/",
     "height": 1000
    },
    "executionInfo": {
     "elapsed": 4407,
     "status": "ok",
     "timestamp": 1690298237041,
     "user": {
      "displayName": "Ian Housman",
      "userId": "00382093583884444463"
     },
     "user_tz": 360
    },
    "id": "704e7fb1",
    "outputId": "1b0f740a-eb14-4911-e2b4-dd596beccc72"
   },
   "source": [
    "#### Inspect the outputs\n",
    "Turn on the layers in the map viewer if necessary. \n",
    "\n",
    "Toggle back and forth between the Default Params and the new composites with Landsat 7 added. Zoom in to view the composites in more detail.\n",
    "\n",
    "You'll notice this helps fill in the holes, but introduces many cloud-related artifacts."
   ]
  },
  {
   "cell_type": "markdown",
   "id": "4218237e",
   "metadata": {},
   "source": [
    "## 2.3: Improve Cloud masking \n",
    "Next you'll improve the cloud masking. [Fmask](https://www.sciencedirect.com/science/article/abs/pii/S0034425714005069) is used by default for Landsat, but this algorithm misses some clouds.\n",
    "\n",
    "We'll try the adding in the [cloudScore](https://developers.google.com/earth-engine/guides/landsat#simple-cloud-score) method to mask clouds in Landsat.\n",
    "\n",
    "We do this by setting the ```applyCloudScoreLandsat``` parameter\n",
    "\n",
    "### 2.3.1: Add cloud masking parameter\n",
    "\n",
    "Run the code block below to add the `applyCloudScoreLandsat` parameter.\n",
    "\n",
    "CloudScore struggles with commission error over bright surfaces (masking out extremely bright cool areas as cloud). The `performCloudScoreOffset` method can reduce this error by finding if a pixel typically has a high cloudScore and adjust the cloudScore threshold for those pixels. This method works well in areas with many observations and potential for bright cool sufaces (cold deserts, snowy areas, etc), but fails in areas with limited data and/or areas that are actually always cloudy. Therefore we will want to set this to `False` over Puerto Rico and the US Virgin Islands"
   ]
  },
  {
   "cell_type": "code",
   "execution_count": 13,
   "id": "d6c49abd",
   "metadata": {
    "colab": {
     "base_uri": "https://localhost:8080/",
     "height": 1000
    },
    "executionInfo": {
     "elapsed": 2691,
     "status": "ok",
     "timestamp": 1690298306083,
     "user": {
      "displayName": "Ian Housman",
      "userId": "00382093583884444463"
     },
     "user_tz": 360
    },
    "id": "6a648400",
    "outputId": "d8befeed-df28-43d3-bffa-24f0e9315887"
   },
   "outputs": [
    {
     "name": "stdout",
     "output_type": "stream",
     "text": [
      "Done\n"
     ]
    }
   ],
   "source": [
    "# Set cloudScore\n",
    "applyCloudScoreLandsat = True\n",
    "\n",
    "# Set performCloudScoreOffset\n",
    "performCloudScoreOffset = False\n",
    "\n",
    "print('Done')"
   ]
  },
  {
   "cell_type": "markdown",
   "id": "8dadbfc8",
   "metadata": {},
   "source": [
    "### Run main wrapper function\n",
    "\n",
    "Keeping all other parameters the same, run the `getLandsatAndSentinel2HybridWrapper` function again. This time, add in the new parameters."
   ]
  },
  {
   "cell_type": "code",
   "execution_count": 14,
   "id": "38fb8f70",
   "metadata": {
    "colab": {
     "base_uri": "https://localhost:8080/",
     "height": 1000
    },
    "executionInfo": {
     "elapsed": 2691,
     "status": "ok",
     "timestamp": 1690298306083,
     "user": {
      "displayName": "Ian Housman",
      "userId": "00382093583884444463"
     },
     "user_tz": 360
    },
    "id": "6a648400",
    "outputId": "d8befeed-df28-43d3-bffa-24f0e9315887"
   },
   "outputs": [
    {
     "name": "stdout",
     "output_type": "stream",
     "text": [
      "Get Processed Landsat and Sentinel2 Scenes: \n",
      "Start date: Jun 01 2009 , End date: May 30 2012\n",
      "Get Processed Landsat: \n",
      "Start date: Jun 01 2009 , End date: May 30 2012\n",
      "Including All Landsat 7\n",
      "Applying Cloud Score\n",
      "Not computing cloudScore offset\n",
      "Applying Fmask Cloud Mask\n",
      "Applying Fmask Shadow Mask\n",
      "Get Processed Sentinel2: \n",
      "Start date: Jun 01 2009 , End date: May 30 2012\n",
      "Using S2 Collection: COPERNICUS/S2_HARMONIZED\n",
      "Joining pre-computed cloudScore+ from: GOOGLE/CLOUD_SCORE_PLUS/V1/S2_HARMONIZED\n",
      "Setting to aggregate instead of resample \n",
      "Converting S2 data to daily mosaics\n",
      "Applying cloudScore+\n",
      "Running Chastain et al 2019 harmonization\n"
     ]
    }
   ],
   "source": [
    "#Call on master wrapper function to get Landsat scenes and composites\n",
    "lsAndTs = getImagesLib.getLandsatAndSentinel2HybridWrapper(studyArea.geometry().bounds(50,'EPSG:5070'),\n",
    "                                                           startYear,\n",
    "                                                           endYear,\n",
    "                                                           startJulian,\n",
    "                                                           endJulian,\n",
    "                                                           includeSLCOffL7=includeSLCOffL7,\n",
    "                                                           applyTDOMLandsat = applyTDOMLandsat,\n",
    "                                                           applyTDOMSentinel2 = applyTDOMSentinel2,\n",
    "                                                           applyCloudScoreLandsat=applyCloudScoreLandsat,\n",
    "                                                            performCloudScoreOffset = performCloudScoreOffset)\n",
    "\n",
    "\n",
    "#Separate into scenes and composites for subsequent analysis\n",
    "processedScenes = lsAndTs['processedScenes']\n",
    "processedComposites = lsAndTs['processedComposites']"
   ]
  },
  {
   "cell_type": "markdown",
   "id": "5e398f16",
   "metadata": {},
   "source": [
    "### Add to Map\n",
    "\n",
    "Run the code block below to add the new layers to the map."
   ]
  },
  {
   "cell_type": "code",
   "execution_count": 15,
   "id": "f80c69ac",
   "metadata": {
    "colab": {
     "base_uri": "https://localhost:8080/",
     "height": 1000
    },
    "executionInfo": {
     "elapsed": 2691,
     "status": "ok",
     "timestamp": 1690298306083,
     "user": {
      "displayName": "Ian Housman",
      "userId": "00382093583884444463"
     },
     "user_tz": 360
    },
    "id": "6a648400",
    "outputId": "d8befeed-df28-43d3-bffa-24f0e9315887"
   },
   "outputs": [
    {
     "name": "stdout",
     "output_type": "stream",
     "text": [
      "Adding layer: L7 and CloudScore added 152-151\n",
      "Starting webmap\n",
      "Using default refresh token for geeView\n",
      "Local web server at: http://localhost:1232/geeView/ already serving.\n",
      "cwd z:\\Projects\\06_LCMS_4_NFS\\Scripts\\lcms-training\n",
      "geeView URL: http://localhost:1232/geeView/?projectID=lcms-292214&accessToken=ya29.a0AeDClZDEjkTIf7_iteQOdmZxhoc9SqGpdZwnvbVWi5fL7Kzn0ZRdm2T3ZYNIgfNzpaXgYwQSROmi0gCq1A7TI9UPwE_yA3tf8V5wde2G92diFsmk3RrpScw61BGsUw530Roh4enftnQidcQbsD9QRrWrb4HYC2_VTRmUeyTTw6IaCgYKAdQSARESFQHGX2Mi-AiAqqVbE7FIB8KSbHRnHw0178\n"
     ]
    },
    {
     "data": {
      "text/html": [
       "\n",
       "        <iframe\n",
       "            width=\"100%\"\n",
       "            height=\"525px\"\n",
       "            src=\"http://localhost:1232/geeView/?projectID=lcms-292214&accessToken=ya29.a0AeDClZDEjkTIf7_iteQOdmZxhoc9SqGpdZwnvbVWi5fL7Kzn0ZRdm2T3ZYNIgfNzpaXgYwQSROmi0gCq1A7TI9UPwE_yA3tf8V5wde2G92diFsmk3RrpScw61BGsUw530Roh4enftnQidcQbsD9QRrWrb4HYC2_VTRmUeyTTw6IaCgYKAdQSARESFQHGX2Mi-AiAqqVbE7FIB8KSbHRnHw0178\"\n",
       "            frameborder=\"0\"\n",
       "            allowfullscreen\n",
       "            \n",
       "        ></iframe>\n",
       "        "
      ],
      "text/plain": [
       "<IPython.lib.display.IFrame at 0x24b535b83d0>"
      ]
     },
     "metadata": {},
     "output_type": "display_data"
    }
   ],
   "source": [
    "#Turn off layers from previous iteration\n",
    "Map.turnOffAllLayers()\n",
    "\n",
    "\n",
    "Map.addTimeLapse(processedComposites,getImagesLib.vizParamsFalse,'L7 and CloudScore added {}-{}'.format(startJulian,endJulian),True)\n",
    "\n",
    "\n",
    "Map.view()"
   ]
  },
  {
   "cell_type": "markdown",
   "id": "a770af6e",
   "metadata": {},
   "source": [
    "### Inspect\n",
    "Toggle on the layers in the viewer above. Inspect the **L7 and cloudScore** output. Notice that these layers look much better and have fewer cloud masking artifacts than the previous layers. \n",
    "\n",
    "However, you can still see some dark ares. These are likely due to cloud shadows that were not masked out-- the Fmask cloud shadow mask typically does not mask out all cloud shadows. \n",
    "\n",
    "To mask cloud shadow, we use a method called the [Temporal Dark Outlier Mask (TDOM)](https://www.mdpi.com/2072-4292/10/8/1184) that works well to mask cloud shadows. \n",
    "\n"
   ]
  },
  {
   "cell_type": "markdown",
   "id": "35609104",
   "metadata": {},
   "source": [
    "### 2.3.2: Use Temporal Dark Outlier Mask (TDOM) to mask cloud shadows\n",
    "The Temporal Dark Outlier Mask (TDOM) method of masking cloud shadows calculates the mean and standard deviation of the NIR and SWIR bands over a pixel in a time series. The algorithm finds dark pixels ((SWIR1 + NIR) < 0.35) that are outliers (< -1 standard devitation) to determine which pixels are likely to be cloud shadows (dark pixels that aren't normally dark).\n",
    "\n",
    "Find [details of the TDOM method](https://github.com/gee-community/geeViz/blob/bd75d38c2043fc3af795c9c35ae769c71c00f56a/getImagesLib.py#L1141) in the geeViz library.\n",
    "\n",
    "#### Set TDOM parameter only for Landsat\n",
    "\n",
    " - ``` applyTDOM ``` - default = **False** \n",
    "\n",
    "Run the code block below to set the TDOM parameter for Landsat. \n",
    "\n",
    "Sentinel-2 typically doesn't need to use TDOM since cloudScore+ has a very good cloud shadow mask included."
   ]
  },
  {
   "cell_type": "code",
   "execution_count": 16,
   "id": "6143f886",
   "metadata": {
    "colab": {
     "base_uri": "https://localhost:8080/",
     "height": 1000
    },
    "executionInfo": {
     "elapsed": 2608,
     "status": "ok",
     "timestamp": 1690298428991,
     "user": {
      "displayName": "Ian Housman",
      "userId": "00382093583884444463"
     },
     "user_tz": 360
    },
    "id": "262c5658",
    "outputId": "862b6a1a-52af-4d2e-e248-f1392bf6008a"
   },
   "outputs": [
    {
     "name": "stdout",
     "output_type": "stream",
     "text": [
      "Done\n"
     ]
    }
   ],
   "source": [
    "#Set TDOM to true\n",
    "applyTDOMLandsat = True\n",
    "applyTDOMSentinel2 = False\n",
    "print('Done')"
   ]
  },
  {
   "cell_type": "markdown",
   "id": "e4cde46c",
   "metadata": {},
   "source": [
    "#### Run master wrapper function\n",
    "\n",
    "Call on master wrapper function to get Landat scenes and composites\n",
    "In order to identify dark outliers, we will extend the dates by 3 years in either direction to get a larger sample"
   ]
  },
  {
   "cell_type": "code",
   "execution_count": 17,
   "id": "f715d3a5",
   "metadata": {
    "colab": {
     "base_uri": "https://localhost:8080/",
     "height": 1000
    },
    "executionInfo": {
     "elapsed": 2608,
     "status": "ok",
     "timestamp": 1690298428991,
     "user": {
      "displayName": "Ian Housman",
      "userId": "00382093583884444463"
     },
     "user_tz": 360
    },
    "id": "262c5658",
    "outputId": "862b6a1a-52af-4d2e-e248-f1392bf6008a"
   },
   "outputs": [
    {
     "name": "stdout",
     "output_type": "stream",
     "text": [
      "Get Processed Landsat and Sentinel2 Scenes: \n",
      "Start date: Jun 01 2006 , End date: May 31 2015\n",
      "Get Processed Landsat: \n",
      "Start date: Jun 01 2006 , End date: May 31 2015\n",
      "Including All Landsat 7\n",
      "Applying Cloud Score\n",
      "Computing cloudScore offset\n",
      "Applying Fmask Cloud Mask\n",
      "Applying TDOM Shadow Mask\n",
      "Computing irMean for TDOM\n",
      "Computing irStdDev for TDOM\n",
      "Applying Fmask Shadow Mask\n",
      "Get Processed Sentinel2: \n",
      "Start date: Jun 01 2006 , End date: May 31 2015\n",
      "Using S2 Collection: COPERNICUS/S2_HARMONIZED\n",
      "Joining pre-computed cloudScore+ from: GOOGLE/CLOUD_SCORE_PLUS/V1/S2_HARMONIZED\n",
      "Setting to aggregate instead of resample \n",
      "Converting S2 data to daily mosaics\n",
      "Applying cloudScore+\n",
      "Running Chastain et al 2019 harmonization\n"
     ]
    }
   ],
   "source": [
    "#Call on master wrapper function to get Landat scenes and composites\n",
    "#In order to identify dark outliers, we will extend the dates by 3 years in either direction to get a larger sample\n",
    "lsAndTs = getImagesLib.getLandsatAndSentinel2HybridWrapper(studyArea.geometry().bounds(50,'EPSG:5070'),\n",
    "                                                           startYear - 3,\n",
    "                                                           endYear + 3,\n",
    "                                                           startJulian,\n",
    "                                                           endJulian,\n",
    "                                                           includeSLCOffL7=includeSLCOffL7,\n",
    "                                                           applyCloudScoreLandsat=applyCloudScoreLandsat,\n",
    "                                                           applyTDOMLandsat = applyTDOMLandsat,\n",
    "                                                           applyTDOMSentinel2 = applyTDOMSentinel2)\n",
    "\n",
    "\n",
    "#Separate into scenes and composites for subsequent analysis\n",
    "processedScenes = lsAndTs['processedScenes']\n",
    "processedComposites = lsAndTs['processedComposites']"
   ]
  },
  {
   "cell_type": "markdown",
   "id": "c77e68c6",
   "metadata": {},
   "source": [
    "### Add to map\n",
    "\n",
    "Run the code block below to add the new layers to the map. This layer may take longer to run and load."
   ]
  },
  {
   "cell_type": "code",
   "execution_count": 18,
   "id": "9f457875",
   "metadata": {
    "colab": {
     "base_uri": "https://localhost:8080/",
     "height": 1000
    },
    "executionInfo": {
     "elapsed": 2608,
     "status": "ok",
     "timestamp": 1690298428991,
     "user": {
      "displayName": "Ian Housman",
      "userId": "00382093583884444463"
     },
     "user_tz": 360
    },
    "id": "262c5658",
    "outputId": "862b6a1a-52af-4d2e-e248-f1392bf6008a",
    "tags": []
   },
   "outputs": [
    {
     "name": "stdout",
     "output_type": "stream",
     "text": [
      "Adding layer: CloudScore and TDOM added 152-151\n",
      "Starting webmap\n",
      "Using default refresh token for geeView\n",
      "Local web server at: http://localhost:1232/geeView/ already serving.\n",
      "cwd z:\\Projects\\06_LCMS_4_NFS\\Scripts\\lcms-training\n",
      "geeView URL: http://localhost:1232/geeView/?projectID=lcms-292214&accessToken=ya29.a0AeDClZCDhhWgMVsyZysAyg4BZ2tVnMFqGOm-SQCciRgbylWW6CHV9nW-kMjyIYlifP2P0CpB6czRzkG9yf9Vjsg90mJvxaLzBTytCd1gaEDuEKNvWcZ2IXfjI4cEdH5-64dVwe2N0GxFk9G4JEkllqzWX-xQIwq3U_hSqG6F7M0aCgYKAWISARESFQHGX2MiZXGky4vcruLX1eL7mU94hw0178\n"
     ]
    },
    {
     "data": {
      "text/html": [
       "\n",
       "        <iframe\n",
       "            width=\"100%\"\n",
       "            height=\"525px\"\n",
       "            src=\"http://localhost:1232/geeView/?projectID=lcms-292214&accessToken=ya29.a0AeDClZCDhhWgMVsyZysAyg4BZ2tVnMFqGOm-SQCciRgbylWW6CHV9nW-kMjyIYlifP2P0CpB6czRzkG9yf9Vjsg90mJvxaLzBTytCd1gaEDuEKNvWcZ2IXfjI4cEdH5-64dVwe2N0GxFk9G4JEkllqzWX-xQIwq3U_hSqG6F7M0aCgYKAWISARESFQHGX2MiZXGky4vcruLX1eL7mU94hw0178\"\n",
       "            frameborder=\"0\"\n",
       "            allowfullscreen\n",
       "            \n",
       "        ></iframe>\n",
       "        "
      ],
      "text/plain": [
       "<IPython.lib.display.IFrame at 0x24b7d5d6090>"
      ]
     },
     "metadata": {},
     "output_type": "display_data"
    }
   ],
   "source": [
    "#Turn off layers from previous iteration\n",
    "Map.turnOffAllLayers()\n",
    "\n",
    "Map.addTimeLapse(processedComposites,getImagesLib.vizParamsFalse,'CloudScore and TDOM added {}-{}'.format(startJulian,endJulian),True)\n",
    "\n",
    "Map.view()"
   ]
  },
  {
   "cell_type": "markdown",
   "id": "8dd1fd15-190a-415b-8c9d-3850b2ca1f90",
   "metadata": {
    "colab": {
     "base_uri": "https://localhost:8080/",
     "height": 1000
    },
    "executionInfo": {
     "elapsed": 2608,
     "status": "ok",
     "timestamp": 1690298428991,
     "user": {
      "displayName": "Ian Housman",
      "userId": "00382093583884444463"
     },
     "user_tz": 360
    },
    "id": "262c5658",
    "outputId": "862b6a1a-52af-4d2e-e248-f1392bf6008a",
    "tags": []
   },
   "source": [
    "#### Inspect\n",
    "Toggle on the new layer. You'll notice this cleans up the cloud masking a lot. \n",
    "\n",
    "#### TDOM is computationally intensive\n",
    "However, while TDOM is a great cloud shadow masking method, it is a bit computationally intensive since it computes the mean and standard deviation over a large stack of data.\n",
    "\n",
    "In order to avoid re-computing the stats, we store pre-computed stats. For the LCMS project, we have precomputed stats for CONUS, AK, HI, Puerto Rico, and the USVI. We will be using these pre-computed stats\n",
    "\n",
    "\n",
    "It is optional that you use pre-computed stats. If none are provided, TDOM stats will be computed on-the-fly. \n",
    "\n",
    "You can create and store precomputed TDOM stats by only applying cloud masking over a period of time and computing the mean and standard deviation of NIR and SWIR1 bands.\n",
    "\n",
    "\n",
    "#### Inspect raw, precomputed TDOM stats\n",
    "\n",
    "Run the chuck of code below to load the precomputed TDOM stats and examine them on the map. "
   ]
  },
  {
   "cell_type": "code",
   "execution_count": 19,
   "id": "76ef8dd8",
   "metadata": {},
   "outputs": [
    {
     "name": "stdout",
     "output_type": "stream",
     "text": [
      "Adding layer: Landsat TDOM Stats\n",
      "Adding layer: Sentinel 2 TDOM Stats\n",
      "Starting webmap\n",
      "Using default refresh token for geeView\n",
      "Local web server at: http://localhost:1232/geeView/ already serving.\n",
      "cwd z:\\Projects\\06_LCMS_4_NFS\\Scripts\\lcms-training\n",
      "geeView URL: http://localhost:1232/geeView/?projectID=lcms-292214&accessToken=ya29.a0AeDClZCqMkqrHx5-jIWxX4LDdyWkwKHx8bc6MonS4q53VYIeePjA3n0USG156mX_ezTx2mfKDOwdRpkQJCuI8N9YoppVyXmb0wdlMs60BeP3ZCArZkXv6uB-x58SvS2QbtMsVs76ZcRrJ_kyeVtUk7IGJHY9kpAoVRqgap7SgqMaCgYKAbISARESFQHGX2Mi8Ha4IgfdgTUOqVm9YEoytA0178\n"
     ]
    },
    {
     "data": {
      "text/html": [
       "\n",
       "        <iframe\n",
       "            width=\"100%\"\n",
       "            height=\"525px\"\n",
       "            src=\"http://localhost:1232/geeView/?projectID=lcms-292214&accessToken=ya29.a0AeDClZCqMkqrHx5-jIWxX4LDdyWkwKHx8bc6MonS4q53VYIeePjA3n0USG156mX_ezTx2mfKDOwdRpkQJCuI8N9YoppVyXmb0wdlMs60BeP3ZCArZkXv6uB-x58SvS2QbtMsVs76ZcRrJ_kyeVtUk7IGJHY9kpAoVRqgap7SgqMaCgYKAbISARESFQHGX2Mi8Ha4IgfdgTUOqVm9YEoytA0178\"\n",
       "            frameborder=\"0\"\n",
       "            allowfullscreen\n",
       "            \n",
       "        ></iframe>\n",
       "        "
      ],
      "text/plain": [
       "<IPython.lib.display.IFrame at 0x24b7b52f890>"
      ]
     },
     "metadata": {},
     "output_type": "display_data"
    }
   ],
   "source": [
    "# clear map\n",
    "Map.clearMap()\n",
    "\n",
    "# load precomputed tdom stats\n",
    "landsat_tdom_stats = ee.Image('projects/lcms-tcc-shared/assets/CS-TDOM-Stats/PR-USVI/TDOM_stats/Landsat_TDOM_Stats_1984_2021')\\\n",
    "                    .select(['Landsat_nir_.*','Landsat_swir1_.*'])\\\n",
    "                    .divide(10000)\n",
    "s2_tdom_stats = ee.Image('projects/lcms-tcc-shared/assets/CS-TDOM-Stats/PR-USVI/TDOM_stats/Sentinel2_TDOM_Stats_2015_2021')\\\n",
    "                    .select(['Sentinel2_nir_.*','Sentinel2_swir1_.*'])\\\n",
    "                    .divide(10000)\n",
    "Map.addLayer(landsat_tdom_stats,{'min':0.15,'max':0.35,'bands':'Landsat_nir_mean','palette':'222,080'},'Landsat TDOM Stats')\n",
    "Map.addLayer(s2_tdom_stats,{'min':0.15,'max':0.35,'bands':'Sentinel2_nir_mean','palette':'222,080'},'Sentinel 2 TDOM Stats')\n",
    "\n",
    "Map.turnOnInspector()\n",
    "Map.view()\n"
   ]
  },
  {
   "cell_type": "markdown",
   "id": "cfc60250",
   "metadata": {},
   "source": [
    "## 2.4: Prepare final composites and export\n",
    "Now that you've gone through some of the parameters that can be changed for the composites, we will use both Landsat and Sentinel2 to get the best possible composites. \n",
    "\n",
    "Here, you will manually set all parameters for the `getLandatAndSentinel2HybridWrapper`. \n",
    "\n",
    "### Projections\n",
    "\n",
    "Some common projections are accessed through `getImagesLib.common_projection` \n",
    "LCMS uses the same snap grid (transform) and projection (crs) as the USGS NLCD. This is often called USGS Albers.\n",
    "You can change this to any projection you'd like based on your study area using EPSG codes or WKT format.\n",
    "\n",
    "\n",
    "### Set parameters and Export\n",
    "\n",
    "Review the [documentation](https://github.com/gee-community/geeViz/blob/bd75d38c2043fc3af795c9c35ae769c71c00f56a/getImagesLib.py#L3280) to recall the default values for each of these parameters.\n",
    "\n",
    "Note in the function below where the parameters are different from the defaults. \n",
    "\n",
    "Run the code block below to prepare and export composites. "
   ]
  },
  {
   "cell_type": "code",
   "execution_count": 20,
   "id": "dd114804",
   "metadata": {
    "colab": {
     "base_uri": "https://localhost:8080/",
     "height": 1000
    },
    "executionInfo": {
     "elapsed": 21613,
     "status": "ok",
     "timestamp": 1690298478420,
     "user": {
      "displayName": "Ian Housman",
      "userId": "00382093583884444463"
     },
     "user_tz": 360
    },
    "id": "bnuTuFdBaWzw",
    "outputId": "c0605bd6-4f1e-493f-8faf-28c2e65b3efb"
   },
   "outputs": [
    {
     "name": "stdout",
     "output_type": "stream",
     "text": [
      "Get Processed Landsat and Sentinel2 Scenes: \n",
      "Start date: May 31 1984 , End date: May 31 2023\n",
      "Get Processed Landsat: \n",
      "Start date: May 31 1984 , End date: May 31 2023\n",
      "Defringing L4 and L5\n",
      "Including All Landsat 7\n",
      "Setting resample method to  bicubic\n",
      "Applying Cloud Score\n",
      "Not computing cloudScore offset\n",
      "Applying Fmask Cloud Mask\n",
      "Applying TDOM Shadow Mask\n",
      "Using pre-computed irMean for TDOM\n",
      "Using pre-computed irStdDev for TDOM\n",
      "Applying Fmask Shadow Mask\n",
      "Get Processed Sentinel2: \n",
      "Start date: May 31 1984 , End date: May 31 2023\n",
      "Using S2 Collection: COPERNICUS/S2_HARMONIZED\n",
      "Joining pre-computed cloud probabilities from: COPERNICUS/S2_CLOUD_PROBABILITY\n",
      "Joining pre-computed cloudScore+ from: GOOGLE/CLOUD_SCORE_PLUS/V1/S2_HARMONIZED\n",
      "Setting resample method to  bicubic\n",
      "Converting S2 data to daily mosaics\n",
      "Applying Cloud Probability\n",
      "Applying cloudScore+\n",
      "Applying TDOM\n",
      "Using pre-computed irMean for TDOM\n",
      "Using pre-computed irStdDev for TDOM\n",
      "Landsat-Sentinel2-Hybrid_TOA_medoid_1984_1984_152_151 currently exists or is being exported and overwrite = False. Set overwite = True if you would like to overwite any existing asset or asset exporting task\n",
      "Landsat-Sentinel2-Hybrid_TOA_medoid_1985_1985_152_151 currently exists or is being exported and overwrite = False. Set overwite = True if you would like to overwite any existing asset or asset exporting task\n",
      "Landsat-Sentinel2-Hybrid_TOA_medoid_1986_1986_152_151 currently exists or is being exported and overwrite = False. Set overwite = True if you would like to overwite any existing asset or asset exporting task\n",
      "Landsat-Sentinel2-Hybrid_TOA_medoid_1987_1987_152_151 currently exists or is being exported and overwrite = False. Set overwite = True if you would like to overwite any existing asset or asset exporting task\n",
      "Landsat-Sentinel2-Hybrid_TOA_medoid_1988_1988_152_151 currently exists or is being exported and overwrite = False. Set overwite = True if you would like to overwite any existing asset or asset exporting task\n",
      "Landsat-Sentinel2-Hybrid_TOA_medoid_1989_1989_152_151 currently exists or is being exported and overwrite = False. Set overwite = True if you would like to overwite any existing asset or asset exporting task\n",
      "Landsat-Sentinel2-Hybrid_TOA_medoid_1990_1990_152_151 currently exists or is being exported and overwrite = False. Set overwite = True if you would like to overwite any existing asset or asset exporting task\n"
     ]
    },
    {
     "ename": "KeyboardInterrupt",
     "evalue": "",
     "output_type": "error",
     "traceback": [
      "\u001b[1;31m---------------------------------------------------------------------------\u001b[0m",
      "\u001b[1;31mKeyboardInterrupt\u001b[0m                         Traceback (most recent call last)",
      "Cell \u001b[1;32mIn[20], line 2\u001b[0m\n\u001b[0;32m      1\u001b[0m \u001b[38;5;66;03m# Run get images, set parameters manually, and export\u001b[39;00m\n\u001b[1;32m----> 2\u001b[0m lsAndTs \u001b[38;5;241m=\u001b[39m \u001b[43mgetImagesLib\u001b[49m\u001b[38;5;241;43m.\u001b[39;49m\u001b[43mgetLandsatAndSentinel2HybridWrapper\u001b[49m\u001b[43m(\u001b[49m\u001b[43m\\\u001b[49m\n\u001b[0;32m      3\u001b[0m \u001b[43m  \u001b[49m\n\u001b[0;32m      4\u001b[0m \u001b[43m    \u001b[49m\u001b[38;5;66;43;03m# Study area and time                                                          \u001b[39;49;00m\n\u001b[0;32m      5\u001b[0m \u001b[43m    \u001b[49m\u001b[43mstudyArea\u001b[49m\u001b[43m \u001b[49m\u001b[38;5;241;43m=\u001b[39;49m\u001b[43m \u001b[49m\u001b[43mstudyArea\u001b[49m\u001b[43m,\u001b[49m\n\u001b[0;32m      6\u001b[0m \u001b[43m    \u001b[49m\u001b[43mstartYear\u001b[49m\u001b[43m \u001b[49m\u001b[38;5;241;43m=\u001b[39;49m\u001b[43m \u001b[49m\u001b[38;5;241;43m1984\u001b[39;49m\u001b[43m,\u001b[49m\n\u001b[0;32m      7\u001b[0m \u001b[43m    \u001b[49m\u001b[43mendYear\u001b[49m\u001b[43m \u001b[49m\u001b[38;5;241;43m=\u001b[39;49m\u001b[43m \u001b[49m\u001b[38;5;241;43m2022\u001b[39;49m\u001b[43m,\u001b[49m\n\u001b[0;32m      8\u001b[0m \u001b[43m    \u001b[49m\u001b[43mstartJulian\u001b[49m\u001b[43m \u001b[49m\u001b[38;5;241;43m=\u001b[39;49m\u001b[43m \u001b[49m\u001b[38;5;241;43m152\u001b[39;49m\u001b[43m,\u001b[49m\n\u001b[0;32m      9\u001b[0m \u001b[43m    \u001b[49m\u001b[43mendJulian\u001b[49m\u001b[43m \u001b[49m\u001b[38;5;241;43m=\u001b[39;49m\u001b[43m \u001b[49m\u001b[38;5;241;43m151\u001b[39;49m\u001b[43m,\u001b[49m\n\u001b[0;32m     10\u001b[0m \n\u001b[0;32m     11\u001b[0m \u001b[43m    \u001b[49m\u001b[38;5;66;43;03m# Moving window options\u001b[39;49;00m\n\u001b[0;32m     12\u001b[0m \u001b[43m    \u001b[49m\u001b[43mtimebuffer\u001b[49m\u001b[43m \u001b[49m\u001b[38;5;241;43m=\u001b[39;49m\u001b[43m  \u001b[49m\u001b[38;5;241;43m0\u001b[39;49m\u001b[43m,\u001b[49m\u001b[38;5;66;43;03m# If multi-year moving window is needed, use timebuffer > 0 (e.g. timebuffer = 1 will result in a 3 year moving window)\u001b[39;49;00m\n\u001b[0;32m     13\u001b[0m \u001b[43m    \u001b[49m\u001b[43mweights\u001b[49m\u001b[43m \u001b[49m\u001b[38;5;241;43m=\u001b[39;49m\u001b[43m  \u001b[49m\u001b[43m[\u001b[49m\u001b[38;5;241;43m1\u001b[39;49m\u001b[43m]\u001b[49m\u001b[43m,\u001b[49m\u001b[38;5;66;43;03m# To compliment the timebuffer, set weights for each year of the moving window. This enables the center year to have more weight (e.g. [1,3,1] would weight the center year if timebuffer = 1 3x over the buffer years)\u001b[39;49;00m\n\u001b[0;32m     14\u001b[0m \n\u001b[0;32m     15\u001b[0m \u001b[43m    \u001b[49m\u001b[38;5;66;43;03m# Composite methods and input imagery\u001b[39;49;00m\n\u001b[0;32m     16\u001b[0m \u001b[43m    \u001b[49m\u001b[43mcompositingMethod\u001b[49m\u001b[43m \u001b[49m\u001b[38;5;241;43m=\u001b[39;49m\u001b[43m \u001b[49m\u001b[38;5;124;43m'\u001b[39;49m\u001b[38;5;124;43mmedoid\u001b[39;49m\u001b[38;5;124;43m'\u001b[39;49m\u001b[43m,\u001b[49m\u001b[43m \u001b[49m\u001b[38;5;66;43;03m# Specify median or medoid. Medoid allows for storing only the spectral and ancillary bands without indices\u001b[39;49;00m\n\u001b[0;32m     17\u001b[0m \u001b[43m    \u001b[49m\u001b[43mtoaOrSR\u001b[49m\u001b[43m \u001b[49m\u001b[38;5;241;43m=\u001b[39;49m\u001b[43m \u001b[49m\u001b[38;5;124;43m'\u001b[39;49m\u001b[38;5;124;43mTOA\u001b[39;49m\u001b[38;5;124;43m'\u001b[39;49m\u001b[43m,\u001b[49m\u001b[43m \u001b[49m\u001b[38;5;66;43;03m# It is advised to only use TOA when combining Landsat and Sentinel-2 since the Sentinel-2 SR data in GEE are terrain-corrected and Landsat are not\u001b[39;49;00m\n\u001b[0;32m     18\u001b[0m \u001b[43m    \u001b[49m\u001b[43mincludeSLCOffL7\u001b[49m\u001b[43m \u001b[49m\u001b[38;5;241;43m=\u001b[39;49m\u001b[43m \u001b[49m\u001b[38;5;28;43;01mTrue\u001b[39;49;00m\u001b[43m,\u001b[49m\u001b[43m \u001b[49m\u001b[38;5;66;43;03m# Whether to include Landsat 7 after May 2003. Scanline artifacts can be found in composites when True\u001b[39;49;00m\n\u001b[0;32m     19\u001b[0m \u001b[43m    \u001b[49m\u001b[43mdefringeL5\u001b[49m\u001b[43m \u001b[49m\u001b[38;5;241;43m=\u001b[39;49m\u001b[43m \u001b[49m\u001b[38;5;28;43;01mTrue\u001b[39;49;00m\u001b[43m,\u001b[49m\u001b[43m \u001b[49m\u001b[38;5;66;43;03m# Whether to get rid of fringe edges found mostly on Landsat 4 and 5\u001b[39;49;00m\n\u001b[0;32m     20\u001b[0m \u001b[43m    \u001b[49m\u001b[43mlandsatCollectionVersion\u001b[49m\u001b[43m \u001b[49m\u001b[38;5;241;43m=\u001b[39;49m\u001b[43m \u001b[49m\u001b[38;5;124;43m'\u001b[39;49m\u001b[38;5;124;43mC2\u001b[39;49m\u001b[38;5;124;43m'\u001b[39;49m\u001b[43m,\u001b[49m\u001b[43m \u001b[49m\u001b[38;5;66;43;03m# To use Collection 1 or 2. Only use C1 if doing legacy work prior to 2022\u001b[39;49;00m\n\u001b[0;32m     21\u001b[0m \n\u001b[0;32m     22\u001b[0m \u001b[43m    \u001b[49m\u001b[38;5;66;43;03m# Cloud and shadow masking\u001b[39;49;00m\n\u001b[0;32m     23\u001b[0m \u001b[43m    \u001b[49m\u001b[38;5;66;43;03m# There will be a parameter for applying CloudScore+ to Sentinel-2 provided once it is available for all S2 data\u001b[39;49;00m\n\u001b[0;32m     24\u001b[0m \u001b[43m    \u001b[49m\u001b[43mapplyQABand\u001b[49m\u001b[43m \u001b[49m\u001b[38;5;241;43m=\u001b[39;49m\u001b[43m \u001b[49m\u001b[38;5;28;43;01mFalse\u001b[39;49;00m\u001b[43m,\u001b[49m\u001b[43m \u001b[49m\u001b[38;5;66;43;03m# Whether to apply the default Sentinel-2 QA mask - this method is terrible and should not be used\u001b[39;49;00m\n\u001b[0;32m     25\u001b[0m \u001b[43m    \u001b[49m\u001b[43mapplyCloudProbability\u001b[49m\u001b[43m \u001b[49m\u001b[38;5;241;43m=\u001b[39;49m\u001b[43m \u001b[49m\u001b[38;5;28;43;01mTrue\u001b[39;49;00m\u001b[43m,\u001b[49m\u001b[38;5;66;43;03m# Whether to apply S2Cloudless to Sentinel-2 data. This method works really well\u001b[39;49;00m\n\u001b[0;32m     26\u001b[0m \u001b[43m    \u001b[49m\u001b[43mapplyShadowShift\u001b[49m\u001b[43m \u001b[49m\u001b[38;5;241;43m=\u001b[39;49m\u001b[43m \u001b[49m\u001b[38;5;28;43;01mFalse\u001b[39;49;00m\u001b[43m,\u001b[49m\u001b[43m \u001b[49m\u001b[38;5;66;43;03m# This method is largely deprecated\u001b[39;49;00m\n\u001b[0;32m     27\u001b[0m \u001b[43m    \u001b[49m\u001b[43mapplyCloudScoreLandsat\u001b[49m\u001b[43m \u001b[49m\u001b[38;5;241;43m=\u001b[39;49m\u001b[43m \u001b[49m\u001b[38;5;28;43;01mTrue\u001b[39;49;00m\u001b[43m,\u001b[49m\u001b[43m \u001b[49m\u001b[38;5;66;43;03m# We use this since fMask struggles for cloud masking\u001b[39;49;00m\n\u001b[0;32m     28\u001b[0m \u001b[43m    \u001b[49m\u001b[43mapplyCloudScoreSentinel2\u001b[49m\u001b[43m \u001b[49m\u001b[38;5;241;43m=\u001b[39;49m\u001b[43m \u001b[49m\u001b[38;5;28;43;01mFalse\u001b[39;49;00m\u001b[43m,\u001b[49m\u001b[43m \u001b[49m\u001b[38;5;66;43;03m# We typically do not use cloudScore for Sentinel-2 since S2Cloudless works so well\u001b[39;49;00m\n\u001b[0;32m     29\u001b[0m \u001b[43m    \u001b[49m\u001b[43mapplyTDOMLandsat\u001b[49m\u001b[43m \u001b[49m\u001b[38;5;241;43m=\u001b[39;49m\u001b[43m \u001b[49m\u001b[38;5;28;43;01mTrue\u001b[39;49;00m\u001b[43m,\u001b[49m\u001b[43m \u001b[49m\u001b[38;5;66;43;03m# We use TDOM for Landsat since the fMask cloud shadow masking method struggles a lot\u001b[39;49;00m\n\u001b[0;32m     30\u001b[0m \u001b[43m    \u001b[49m\u001b[43mapplyTDOMSentinel2\u001b[49m\u001b[43m \u001b[49m\u001b[38;5;241;43m=\u001b[39;49m\u001b[43m \u001b[49m\u001b[38;5;28;43;01mTrue\u001b[39;49;00m\u001b[43m,\u001b[49m\u001b[43m \u001b[49m\u001b[38;5;66;43;03m# This is the only easily available Sentinel-2 cloud shadow masking method (as of Aug 2023)\u001b[39;49;00m\n\u001b[0;32m     31\u001b[0m \u001b[43m    \u001b[49m\u001b[43mapplyFmaskCloudMask\u001b[49m\u001b[43m \u001b[49m\u001b[38;5;241;43m=\u001b[39;49m\u001b[43m \u001b[49m\u001b[38;5;28;43;01mTrue\u001b[39;49;00m\u001b[43m,\u001b[49m\n\u001b[0;32m     32\u001b[0m \u001b[43m    \u001b[49m\u001b[43mapplyFmaskCloudShadowMask\u001b[49m\u001b[43m \u001b[49m\u001b[38;5;241;43m=\u001b[39;49m\u001b[43m \u001b[49m\u001b[38;5;28;43;01mTrue\u001b[39;49;00m\u001b[43m,\u001b[49m\n\u001b[0;32m     33\u001b[0m \u001b[43m    \u001b[49m\u001b[43mapplyFmaskSnowMask\u001b[49m\u001b[43m \u001b[49m\u001b[38;5;241;43m=\u001b[39;49m\u001b[43m \u001b[49m\u001b[38;5;28;43;01mFalse\u001b[39;49;00m\u001b[43m,\u001b[49m\n\u001b[0;32m     34\u001b[0m \u001b[43m    \u001b[49m\u001b[43mcloudHeights\u001b[49m\u001b[43m \u001b[49m\u001b[38;5;241;43m=\u001b[39;49m\u001b[43m \u001b[49m\u001b[43mee\u001b[49m\u001b[38;5;241;43m.\u001b[39;49m\u001b[43mList\u001b[49m\u001b[38;5;241;43m.\u001b[39;49m\u001b[43msequence\u001b[49m\u001b[43m(\u001b[49m\u001b[38;5;241;43m500\u001b[39;49m\u001b[43m,\u001b[49m\u001b[38;5;241;43m10000\u001b[39;49m\u001b[43m,\u001b[49m\u001b[38;5;241;43m500\u001b[39;49m\u001b[43m)\u001b[49m\u001b[43m,\u001b[49m\u001b[43m \u001b[49m\u001b[38;5;66;43;03m# This compliments applyShadowShift and is largely deprecated,\u001b[39;49;00m\n\u001b[0;32m     35\u001b[0m \u001b[43m    \u001b[49m\u001b[43mcloudScoreThresh\u001b[49m\u001b[43m \u001b[49m\u001b[38;5;241;43m=\u001b[39;49m\u001b[43m \u001b[49m\u001b[38;5;241;43m10\u001b[39;49m\u001b[43m,\u001b[49m\u001b[38;5;66;43;03m# The threshold applied to the cloudScore for Landsat and/or Sentinel-2\u001b[39;49;00m\n\u001b[0;32m     36\u001b[0m \u001b[43m    \u001b[49m\u001b[43mperformCloudScoreOffset\u001b[49m\u001b[43m \u001b[49m\u001b[38;5;241;43m=\u001b[39;49m\u001b[43m \u001b[49m\u001b[38;5;28;43;01mFalse\u001b[39;49;00m\u001b[43m,\u001b[49m\u001b[38;5;66;43;03m# Set this to False in areas with limited data and/or limited bright cool surfaces\u001b[39;49;00m\n\u001b[0;32m     37\u001b[0m \u001b[43m    \u001b[49m\u001b[43mcloudScorePctl\u001b[49m\u001b[43m \u001b[49m\u001b[38;5;241;43m=\u001b[39;49m\u001b[43m \u001b[49m\u001b[38;5;241;43m10\u001b[39;49m\u001b[43m,\u001b[49m\u001b[43m \u001b[49m\u001b[38;5;66;43;03m# If performCloudScoreOffset is set to True, this is the percentile of the cloudScores used to see if an area typically has a high cloudScore\u001b[39;49;00m\n\u001b[0;32m     38\u001b[0m \u001b[43m    \u001b[49m\u001b[43mzScoreThresh\u001b[49m\u001b[43m \u001b[49m\u001b[38;5;241;43m=\u001b[39;49m\u001b[43m \u001b[49m\u001b[38;5;241;43m-\u001b[39;49m\u001b[38;5;241;43m1\u001b[39;49m\u001b[43m,\u001b[49m\u001b[43m \u001b[49m\u001b[38;5;66;43;03m# The TDOM Z-score threshold for finding dark outliers\u001b[39;49;00m\n\u001b[0;32m     39\u001b[0m \u001b[43m    \u001b[49m\u001b[43mshadowSumThresh\u001b[49m\u001b[43m \u001b[49m\u001b[38;5;241;43m=\u001b[39;49m\u001b[43m \u001b[49m\u001b[38;5;241;43m0.35\u001b[39;49m\u001b[43m,\u001b[49m\u001b[38;5;66;43;03m# The sum of the shadowSumBands has to be below this to be considered dark\u001b[39;49;00m\n\u001b[0;32m     40\u001b[0m \u001b[43m    \u001b[49m\u001b[43mcontractPixels\u001b[49m\u001b[43m \u001b[49m\u001b[38;5;241;43m=\u001b[39;49m\u001b[43m \u001b[49m\u001b[38;5;241;43m1.5\u001b[39;49m\u001b[43m,\u001b[49m\u001b[38;5;66;43;03m# Inward buffer pixel radius to get rid of salt and pepper\u001b[39;49;00m\n\u001b[0;32m     41\u001b[0m \u001b[43m    \u001b[49m\u001b[43mdilatePixels\u001b[49m\u001b[43m \u001b[49m\u001b[38;5;241;43m=\u001b[39;49m\u001b[43m \u001b[49m\u001b[38;5;241;43m3.5\u001b[39;49m\u001b[43m,\u001b[49m\u001b[43m \u001b[49m\u001b[38;5;66;43;03m# Outwoard buffer pixel radius to dilate the cloud shadow mask by\u001b[39;49;00m\n\u001b[0;32m     42\u001b[0m \u001b[43m    \u001b[49m\u001b[43mshadowSumBands\u001b[49m\u001b[43m \u001b[49m\u001b[38;5;241;43m=\u001b[39;49m\u001b[43m \u001b[49m\u001b[43m[\u001b[49m\u001b[38;5;124;43m'\u001b[39;49m\u001b[38;5;124;43mnir\u001b[39;49m\u001b[38;5;124;43m'\u001b[39;49m\u001b[43m,\u001b[49m\u001b[38;5;124;43m'\u001b[39;49m\u001b[38;5;124;43mswir1\u001b[39;49m\u001b[38;5;124;43m'\u001b[39;49m\u001b[43m]\u001b[49m\u001b[43m,\u001b[49m\u001b[43m \u001b[49m\u001b[38;5;66;43;03m# Bands to use for TDOM to find dark outliers\u001b[39;49;00m\n\u001b[0;32m     43\u001b[0m \u001b[43m    \u001b[49m\u001b[43mcloudProbThresh\u001b[49m\u001b[43m \u001b[49m\u001b[38;5;241;43m=\u001b[39;49m\u001b[43m \u001b[49m\u001b[38;5;241;43m40\u001b[39;49m\u001b[43m,\u001b[49m\u001b[43m \u001b[49m\u001b[38;5;66;43;03m# The S2Cloudless cloud probability threshold\u001b[39;49;00m\n\u001b[0;32m     44\u001b[0m \n\u001b[0;32m     45\u001b[0m \u001b[43m    \u001b[49m\u001b[38;5;66;43;03m# Image processing\u001b[39;49;00m\n\u001b[0;32m     46\u001b[0m \u001b[43m    \u001b[49m\u001b[43mlandsatResampleMethod\u001b[49m\u001b[43m \u001b[49m\u001b[38;5;241;43m=\u001b[39;49m\u001b[43m \u001b[49m\u001b[38;5;124;43m'\u001b[39;49m\u001b[38;5;124;43mbicubic\u001b[39;49m\u001b[38;5;124;43m'\u001b[39;49m\u001b[43m,\u001b[49m\n\u001b[0;32m     47\u001b[0m \u001b[43m    \u001b[49m\u001b[43msentinel2ResampleMethod\u001b[49m\u001b[43m \u001b[49m\u001b[38;5;241;43m=\u001b[39;49m\u001b[43m \u001b[49m\u001b[38;5;124;43m'\u001b[39;49m\u001b[38;5;124;43mbicubic\u001b[39;49m\u001b[38;5;124;43m'\u001b[39;49m\u001b[43m,\u001b[49m\n\u001b[0;32m     48\u001b[0m \u001b[43m    \u001b[49m\u001b[43mconvertToDailyMosaics\u001b[49m\u001b[43m \u001b[49m\u001b[38;5;241;43m=\u001b[39;49m\u001b[43m \u001b[49m\u001b[38;5;28;43;01mTrue\u001b[39;49;00m\u001b[43m,\u001b[49m\u001b[43m \u001b[49m\u001b[38;5;66;43;03m# Important if the composite observation count is important since Sentinel-2 has overlap with its tiled outputs\u001b[39;49;00m\n\u001b[0;32m     49\u001b[0m \u001b[43m    \u001b[49m\u001b[43mrunChastainHarmonization\u001b[49m\u001b[43m \u001b[49m\u001b[38;5;241;43m=\u001b[39;49m\u001b[43m \u001b[49m\u001b[38;5;28;43;01mFalse\u001b[39;49;00m\u001b[43m,\u001b[49m\u001b[43m \u001b[49m\u001b[38;5;66;43;03m# Set to True in order to perform regression harmonization between Landsat and Sentinel 2\u001b[39;49;00m\n\u001b[0;32m     50\u001b[0m \u001b[43m    \u001b[49m\u001b[43mcorrectIllumination\u001b[49m\u001b[43m \u001b[49m\u001b[38;5;241;43m=\u001b[39;49m\u001b[43m \u001b[49m\u001b[38;5;28;43;01mFalse\u001b[39;49;00m\u001b[43m,\u001b[49m\u001b[43m \u001b[49m\u001b[38;5;66;43;03m# Method for illuminating hill shadows. This is largely deprecated and not used\u001b[39;49;00m\n\u001b[0;32m     51\u001b[0m \u001b[43m    \u001b[49m\u001b[43mcorrectScale\u001b[49m\u001b[43m \u001b[49m\u001b[38;5;241;43m=\u001b[39;49m\u001b[43m \u001b[49m\u001b[38;5;241;43m250\u001b[39;49m\u001b[43m,\u001b[49m\n\u001b[0;32m     52\u001b[0m \n\u001b[0;32m     53\u001b[0m \u001b[43m    \u001b[49m\u001b[38;5;66;43;03m# Export parameters\u001b[39;49;00m\n\u001b[0;32m     54\u001b[0m \u001b[43m    \u001b[49m\u001b[43mexportComposites\u001b[49m\u001b[43m \u001b[49m\u001b[38;5;241;43m=\u001b[39;49m\u001b[43m \u001b[49m\u001b[38;5;28;43;01mTrue\u001b[39;49;00m\u001b[43m,\u001b[49m\u001b[38;5;66;43;03m# Whether to export resulting composites\u001b[39;49;00m\n\u001b[0;32m     55\u001b[0m \u001b[43m    \u001b[49m\u001b[43moutputName\u001b[49m\u001b[43m \u001b[49m\u001b[38;5;241;43m=\u001b[39;49m\u001b[43m \u001b[49m\u001b[38;5;124;43m'\u001b[39;49m\u001b[38;5;124;43mLandsat-Sentinel2-Hybrid\u001b[39;49m\u001b[38;5;124;43m'\u001b[39;49m\u001b[43m,\u001b[49m\n\u001b[0;32m     56\u001b[0m \u001b[43m    \u001b[49m\u001b[43mexportPathRoot\u001b[49m\u001b[43m \u001b[49m\u001b[38;5;241;43m=\u001b[39;49m\u001b[43m \u001b[49m\u001b[43mexport_composite_collection\u001b[49m\u001b[43m,\u001b[49m\n\u001b[0;32m     57\u001b[0m \u001b[43m    \u001b[49m\u001b[43mcrs\u001b[49m\u001b[43m \u001b[49m\u001b[38;5;241;43m=\u001b[39;49m\u001b[43m \u001b[49m\u001b[43mgetImagesLib\u001b[49m\u001b[38;5;241;43m.\u001b[39;49m\u001b[43mcommon_projections\u001b[49m\u001b[43m[\u001b[49m\u001b[38;5;124;43m'\u001b[39;49m\u001b[38;5;124;43mNLCD_CONUS\u001b[39;49m\u001b[38;5;124;43m'\u001b[39;49m\u001b[43m]\u001b[49m\u001b[43m[\u001b[49m\u001b[38;5;124;43m'\u001b[39;49m\u001b[38;5;124;43mcrs\u001b[39;49m\u001b[38;5;124;43m'\u001b[39;49m\u001b[43m]\u001b[49m\u001b[43m,\u001b[49m\n\u001b[0;32m     58\u001b[0m \u001b[43m    \u001b[49m\u001b[43mtransform\u001b[49m\u001b[43m \u001b[49m\u001b[38;5;241;43m=\u001b[39;49m\u001b[43m \u001b[49m\u001b[43mgetImagesLib\u001b[49m\u001b[38;5;241;43m.\u001b[39;49m\u001b[43mcommon_projections\u001b[49m\u001b[43m[\u001b[49m\u001b[38;5;124;43m'\u001b[39;49m\u001b[38;5;124;43mNLCD_CONUS\u001b[39;49m\u001b[38;5;124;43m'\u001b[39;49m\u001b[43m]\u001b[49m\u001b[43m[\u001b[49m\u001b[38;5;124;43m'\u001b[39;49m\u001b[38;5;124;43mtransform\u001b[39;49m\u001b[38;5;124;43m'\u001b[39;49m\u001b[43m]\u001b[49m\u001b[43m,\u001b[49m\n\u001b[0;32m     59\u001b[0m \u001b[43m    \u001b[49m\u001b[43mscale\u001b[49m\u001b[43m \u001b[49m\u001b[38;5;241;43m=\u001b[39;49m\u001b[43m \u001b[49m\u001b[38;5;28;43;01mNone\u001b[39;49;00m\u001b[43m,\u001b[49m\n\u001b[0;32m     60\u001b[0m \u001b[43m    \u001b[49m\u001b[43moverwrite\u001b[49m\u001b[43m \u001b[49m\u001b[38;5;241;43m=\u001b[39;49m\u001b[43m \u001b[49m\u001b[38;5;28;43;01mFalse\u001b[39;49;00m\u001b[43m,\u001b[49m\u001b[38;5;66;43;03m# Whether to overwrite existing composites\u001b[39;49;00m\n\u001b[0;32m     61\u001b[0m \n\u001b[0;32m     62\u001b[0m \u001b[43m    \u001b[49m\u001b[38;5;66;43;03m# Precomputed TDOM and cloudscore stats\u001b[39;49;00m\n\u001b[0;32m     63\u001b[0m \u001b[43m    \u001b[49m\u001b[43mpreComputedLandsatCloudScoreOffset\u001b[49m\u001b[43m \u001b[49m\u001b[38;5;241;43m=\u001b[39;49m\u001b[43m \u001b[49m\u001b[38;5;28;43;01mNone\u001b[39;49;00m\u001b[43m,\u001b[49m\n\u001b[0;32m     64\u001b[0m \u001b[43m    \u001b[49m\u001b[43mpreComputedLandsatTDOMIRMean\u001b[49m\u001b[43m \u001b[49m\u001b[38;5;241;43m=\u001b[39;49m\u001b[43m \u001b[49m\u001b[43mlandsat_tdom_stats\u001b[49m\u001b[38;5;241;43m.\u001b[39;49m\u001b[43mselect\u001b[49m\u001b[43m(\u001b[49m\u001b[43m[\u001b[49m\u001b[38;5;124;43m'\u001b[39;49m\u001b[38;5;124;43m.*_mean\u001b[39;49m\u001b[38;5;124;43m'\u001b[39;49m\u001b[43m]\u001b[49m\u001b[43m)\u001b[49m\u001b[43m,\u001b[49m\n\u001b[0;32m     65\u001b[0m \u001b[43m    \u001b[49m\u001b[43mpreComputedLandsatTDOMIRStdDev\u001b[49m\u001b[43m \u001b[49m\u001b[38;5;241;43m=\u001b[39;49m\u001b[43m \u001b[49m\u001b[43mlandsat_tdom_stats\u001b[49m\u001b[38;5;241;43m.\u001b[39;49m\u001b[43mselect\u001b[49m\u001b[43m(\u001b[49m\u001b[43m[\u001b[49m\u001b[38;5;124;43m'\u001b[39;49m\u001b[38;5;124;43m.*_stdDev\u001b[39;49m\u001b[38;5;124;43m'\u001b[39;49m\u001b[43m]\u001b[49m\u001b[43m)\u001b[49m\u001b[43m,\u001b[49m\n\u001b[0;32m     66\u001b[0m \u001b[43m    \u001b[49m\u001b[43mpreComputedSentinel2CloudScoreOffset\u001b[49m\u001b[43m \u001b[49m\u001b[38;5;241;43m=\u001b[39;49m\u001b[43m \u001b[49m\u001b[38;5;28;43;01mNone\u001b[39;49;00m\u001b[43m,\u001b[49m\n\u001b[0;32m     67\u001b[0m \u001b[43m    \u001b[49m\u001b[43mpreComputedSentinel2TDOMIRMean\u001b[49m\u001b[43m \u001b[49m\u001b[38;5;241;43m=\u001b[39;49m\u001b[43m \u001b[49m\u001b[43ms2_tdom_stats\u001b[49m\u001b[38;5;241;43m.\u001b[39;49m\u001b[43mselect\u001b[49m\u001b[43m(\u001b[49m\u001b[43m[\u001b[49m\u001b[38;5;124;43m'\u001b[39;49m\u001b[38;5;124;43m.*_mean\u001b[39;49m\u001b[38;5;124;43m'\u001b[39;49m\u001b[43m]\u001b[49m\u001b[43m)\u001b[49m\u001b[43m,\u001b[49m\n\u001b[0;32m     68\u001b[0m \u001b[43m    \u001b[49m\u001b[43mpreComputedSentinel2TDOMIRStdDev\u001b[49m\u001b[43m \u001b[49m\u001b[38;5;241;43m=\u001b[39;49m\u001b[43m \u001b[49m\u001b[43ms2_tdom_stats\u001b[49m\u001b[38;5;241;43m.\u001b[39;49m\u001b[43mselect\u001b[49m\u001b[43m(\u001b[49m\u001b[43m[\u001b[49m\u001b[38;5;124;43m'\u001b[39;49m\u001b[38;5;124;43m.*_stdDev\u001b[39;49m\u001b[38;5;124;43m'\u001b[39;49m\u001b[43m]\u001b[49m\u001b[43m)\u001b[49m\n\u001b[0;32m     69\u001b[0m \u001b[43m                                                           \u001b[49m\u001b[43m)\u001b[49m\n\u001b[0;32m     72\u001b[0m \u001b[38;5;28mprint\u001b[39m(\u001b[38;5;124m'\u001b[39m\u001b[38;5;124mDone\u001b[39m\u001b[38;5;124m'\u001b[39m)\n",
      "File \u001b[1;32mc:\\Users\\ihousman\\AppData\\Local\\Programs\\Python\\Python311\\Lib\\site-packages\\geeViz\\getImagesLib.py:6686\u001b[0m, in \u001b[0;36mgetLandsatAndSentinel2HybridWrapper\u001b[1;34m(studyArea, startYear, endYear, startJulian, endJulian, timebuffer, weights, compositingMethod, toaOrSR, includeSLCOffL7, defringeL5, applyQABand, applyCloudProbability, applyShadowShift, applyCloudScoreLandsat, applyCloudScoreSentinel2, applyTDOMLandsat, applyTDOMSentinel2, applyFmaskCloudMask, applyFmaskCloudShadowMask, applyFmaskSnowMask, cloudHeights, cloudScoreThresh, performCloudScoreOffset, cloudScorePctl, zScoreThresh, shadowSumThresh, contractPixels, dilatePixels, shadowSumBands, landsatResampleMethod, sentinel2ResampleMethod, convertToDailyMosaics, runChastainHarmonization, correctIllumination, correctScale, exportComposites, outputName, exportPathRoot, crs, transform, scale, preComputedLandsatCloudScoreOffset, preComputedLandsatTDOMIRMean, preComputedLandsatTDOMIRStdDev, preComputedSentinel2CloudScoreOffset, preComputedSentinel2TDOMIRMean, preComputedSentinel2TDOMIRStdDev, cloudProbThresh, landsatCollectionVersion, overwrite, verbose, applyCloudScorePlusSentinel2, cloudScorePlusThresh, cloudScorePlusScore)\u001b[0m\n\u001b[0;32m   6683\u001b[0m     exportBands \u001b[38;5;241m=\u001b[39m exportBandDict[compositingMethod]\n\u001b[0;32m   6684\u001b[0m     nonDivideBands \u001b[38;5;241m=\u001b[39m nonDivideBandDict[compositingMethod]\n\u001b[1;32m-> 6686\u001b[0m     \u001b[43mexportCompositeCollection\u001b[49m\u001b[43m(\u001b[49m\n\u001b[0;32m   6687\u001b[0m \u001b[43m        \u001b[49m\u001b[43mcollection\u001b[49m\u001b[38;5;241;43m=\u001b[39;49m\u001b[43mcomposites\u001b[49m\u001b[43m,\u001b[49m\n\u001b[0;32m   6688\u001b[0m \u001b[43m        \u001b[49m\u001b[43mexportPathRoot\u001b[49m\u001b[38;5;241;43m=\u001b[39;49m\u001b[43mexportPathRoot\u001b[49m\u001b[43m,\u001b[49m\n\u001b[0;32m   6689\u001b[0m \u001b[43m        \u001b[49m\u001b[43moutputName\u001b[49m\u001b[38;5;241;43m=\u001b[39;49m\u001b[43moutputName\u001b[49m\u001b[43m,\u001b[49m\n\u001b[0;32m   6690\u001b[0m \u001b[43m        \u001b[49m\u001b[43morigin\u001b[49m\u001b[38;5;241;43m=\u001b[39;49m\u001b[43morigin\u001b[49m\u001b[43m,\u001b[49m\n\u001b[0;32m   6691\u001b[0m \u001b[43m        \u001b[49m\u001b[43mstudyArea\u001b[49m\u001b[38;5;241;43m=\u001b[39;49m\u001b[43mstudyArea\u001b[49m\u001b[43m,\u001b[49m\n\u001b[0;32m   6692\u001b[0m \u001b[43m        \u001b[49m\u001b[43mcrs\u001b[49m\u001b[38;5;241;43m=\u001b[39;49m\u001b[43mcrs\u001b[49m\u001b[43m,\u001b[49m\n\u001b[0;32m   6693\u001b[0m \u001b[43m        \u001b[49m\u001b[43mtransform\u001b[49m\u001b[38;5;241;43m=\u001b[39;49m\u001b[43mtransform\u001b[49m\u001b[43m,\u001b[49m\n\u001b[0;32m   6694\u001b[0m \u001b[43m        \u001b[49m\u001b[43mscale\u001b[49m\u001b[38;5;241;43m=\u001b[39;49m\u001b[43mscale\u001b[49m\u001b[43m,\u001b[49m\n\u001b[0;32m   6695\u001b[0m \u001b[43m        \u001b[49m\u001b[43mstartYear\u001b[49m\u001b[38;5;241;43m=\u001b[39;49m\u001b[43mstartYear\u001b[49m\u001b[43m,\u001b[49m\n\u001b[0;32m   6696\u001b[0m \u001b[43m        \u001b[49m\u001b[43mendYear\u001b[49m\u001b[38;5;241;43m=\u001b[39;49m\u001b[43mendYear\u001b[49m\u001b[43m,\u001b[49m\n\u001b[0;32m   6697\u001b[0m \u001b[43m        \u001b[49m\u001b[43mstartJulian\u001b[49m\u001b[38;5;241;43m=\u001b[39;49m\u001b[43mstartJulian\u001b[49m\u001b[43m,\u001b[49m\n\u001b[0;32m   6698\u001b[0m \u001b[43m        \u001b[49m\u001b[43mendJulian\u001b[49m\u001b[38;5;241;43m=\u001b[39;49m\u001b[43mendJulian\u001b[49m\u001b[43m,\u001b[49m\n\u001b[0;32m   6699\u001b[0m \u001b[43m        \u001b[49m\u001b[43mcompositingMethod\u001b[49m\u001b[38;5;241;43m=\u001b[39;49m\u001b[43mcompositingMethod\u001b[49m\u001b[43m,\u001b[49m\n\u001b[0;32m   6700\u001b[0m \u001b[43m        \u001b[49m\u001b[43mtimebuffer\u001b[49m\u001b[38;5;241;43m=\u001b[39;49m\u001b[43mtimebuffer\u001b[49m\u001b[43m,\u001b[49m\n\u001b[0;32m   6701\u001b[0m \u001b[43m        \u001b[49m\u001b[43mtoaOrSR\u001b[49m\u001b[38;5;241;43m=\u001b[39;49m\u001b[43mtoaOrSR\u001b[49m\u001b[43m,\u001b[49m\n\u001b[0;32m   6702\u001b[0m \u001b[43m        \u001b[49m\u001b[43mnonDivideBands\u001b[49m\u001b[38;5;241;43m=\u001b[39;49m\u001b[43mnonDivideBands\u001b[49m\u001b[43m,\u001b[49m\n\u001b[0;32m   6703\u001b[0m \u001b[43m        \u001b[49m\u001b[43mexportBands\u001b[49m\u001b[38;5;241;43m=\u001b[39;49m\u001b[43mexportBands\u001b[49m\u001b[43m,\u001b[49m\n\u001b[0;32m   6704\u001b[0m \u001b[43m        \u001b[49m\u001b[43madditionalPropertyDict\u001b[49m\u001b[38;5;241;43m=\u001b[39;49m\u001b[43margs\u001b[49m\u001b[43m,\u001b[49m\n\u001b[0;32m   6705\u001b[0m \u001b[43m        \u001b[49m\u001b[43moverwrite\u001b[49m\u001b[38;5;241;43m=\u001b[39;49m\u001b[43moverwrite\u001b[49m\u001b[43m,\u001b[49m\n\u001b[0;32m   6706\u001b[0m \u001b[43m    \u001b[49m\u001b[43m)\u001b[49m\n\u001b[0;32m   6708\u001b[0m args[\u001b[38;5;124m\"\u001b[39m\u001b[38;5;124mprocessedScenes\u001b[39m\u001b[38;5;124m\"\u001b[39m] \u001b[38;5;241m=\u001b[39m merged\n\u001b[0;32m   6709\u001b[0m args[\u001b[38;5;124m\"\u001b[39m\u001b[38;5;124mprocessedComposites\u001b[39m\u001b[38;5;124m\"\u001b[39m] \u001b[38;5;241m=\u001b[39m composites\n",
      "File \u001b[1;32mc:\\Users\\ihousman\\AppData\\Local\\Programs\\Python\\Python311\\Lib\\site-packages\\geeViz\\getImagesLib.py:5452\u001b[0m, in \u001b[0;36mexportCompositeCollection\u001b[1;34m(collection, exportPathRoot, outputName, origin, studyArea, crs, transform, scale, startYear, endYear, startJulian, endJulian, compositingMethod, timebuffer, toaOrSR, nonDivideBands, exportBands, additionalPropertyDict, overwrite)\u001b[0m\n\u001b[0;32m   5449\u001b[0m exportName \u001b[38;5;241m=\u001b[39m outputName \u001b[38;5;241m+\u001b[39m \u001b[38;5;124m\"\u001b[39m\u001b[38;5;124m_\u001b[39m\u001b[38;5;124m\"\u001b[39m \u001b[38;5;241m+\u001b[39m toaOrSR \u001b[38;5;241m+\u001b[39m \u001b[38;5;124m\"\u001b[39m\u001b[38;5;124m_\u001b[39m\u001b[38;5;124m\"\u001b[39m \u001b[38;5;241m+\u001b[39m compositingMethod \u001b[38;5;241m+\u001b[39m \u001b[38;5;124m\"\u001b[39m\u001b[38;5;124m_\u001b[39m\u001b[38;5;124m\"\u001b[39m \u001b[38;5;241m+\u001b[39m \u001b[38;5;28mstr\u001b[39m(\u001b[38;5;28mint\u001b[39m(startYearT)) \u001b[38;5;241m+\u001b[39m \u001b[38;5;124m\"\u001b[39m\u001b[38;5;124m_\u001b[39m\u001b[38;5;124m\"\u001b[39m \u001b[38;5;241m+\u001b[39m \u001b[38;5;28mstr\u001b[39m(\u001b[38;5;28mint\u001b[39m(endYearT)) \u001b[38;5;241m+\u001b[39m \u001b[38;5;124m\"\u001b[39m\u001b[38;5;124m_\u001b[39m\u001b[38;5;124m\"\u001b[39m \u001b[38;5;241m+\u001b[39m \u001b[38;5;28mstr\u001b[39m(\u001b[38;5;28mint\u001b[39m(startJulian)) \u001b[38;5;241m+\u001b[39m \u001b[38;5;124m\"\u001b[39m\u001b[38;5;124m_\u001b[39m\u001b[38;5;124m\"\u001b[39m \u001b[38;5;241m+\u001b[39m \u001b[38;5;28mstr\u001b[39m(\u001b[38;5;28mint\u001b[39m(endJulian))\n\u001b[0;32m   5450\u001b[0m exportPath \u001b[38;5;241m=\u001b[39m exportPathRoot \u001b[38;5;241m+\u001b[39m \u001b[38;5;124m\"\u001b[39m\u001b[38;5;124m/\u001b[39m\u001b[38;5;124m\"\u001b[39m \u001b[38;5;241m+\u001b[39m exportName\n\u001b[1;32m-> 5452\u001b[0m \u001b[43mexportToAssetWrapper\u001b[49m\u001b[43m(\u001b[49m\n\u001b[0;32m   5453\u001b[0m \u001b[43m    \u001b[49m\u001b[43mimageForExport\u001b[49m\u001b[38;5;241;43m=\u001b[39;49m\u001b[43mcomposite\u001b[49m\u001b[43m,\u001b[49m\n\u001b[0;32m   5454\u001b[0m \u001b[43m    \u001b[49m\u001b[43massetName\u001b[49m\u001b[38;5;241;43m=\u001b[39;49m\u001b[43mexportName\u001b[49m\u001b[43m,\u001b[49m\n\u001b[0;32m   5455\u001b[0m \u001b[43m    \u001b[49m\u001b[43massetPath\u001b[49m\u001b[38;5;241;43m=\u001b[39;49m\u001b[43mexportPath\u001b[49m\u001b[43m,\u001b[49m\n\u001b[0;32m   5456\u001b[0m \u001b[43m    \u001b[49m\u001b[43mpyramidingPolicyObject\u001b[49m\u001b[38;5;241;43m=\u001b[39;49m\u001b[43mpyramidingPolicy\u001b[49m\u001b[43m,\u001b[49m\n\u001b[0;32m   5457\u001b[0m \u001b[43m    \u001b[49m\u001b[43mroi\u001b[49m\u001b[38;5;241;43m=\u001b[39;49m\u001b[43mstudyArea\u001b[49m\u001b[43m,\u001b[49m\n\u001b[0;32m   5458\u001b[0m \u001b[43m    \u001b[49m\u001b[43mscale\u001b[49m\u001b[38;5;241;43m=\u001b[39;49m\u001b[43mscale\u001b[49m\u001b[43m,\u001b[49m\n\u001b[0;32m   5459\u001b[0m \u001b[43m    \u001b[49m\u001b[43mcrs\u001b[49m\u001b[38;5;241;43m=\u001b[39;49m\u001b[43mcrs\u001b[49m\u001b[43m,\u001b[49m\n\u001b[0;32m   5460\u001b[0m \u001b[43m    \u001b[49m\u001b[43mtransform\u001b[49m\u001b[38;5;241;43m=\u001b[39;49m\u001b[43mtransform\u001b[49m\u001b[43m,\u001b[49m\n\u001b[0;32m   5461\u001b[0m \u001b[43m    \u001b[49m\u001b[43moverwrite\u001b[49m\u001b[38;5;241;43m=\u001b[39;49m\u001b[43moverwrite\u001b[49m\u001b[43m,\u001b[49m\n\u001b[0;32m   5462\u001b[0m \u001b[43m\u001b[49m\u001b[43m)\u001b[49m\n",
      "File \u001b[1;32mc:\\Users\\ihousman\\AppData\\Local\\Programs\\Python\\Python311\\Lib\\site-packages\\geeViz\\getImagesLib.py:4071\u001b[0m, in \u001b[0;36mexportToAssetWrapper\u001b[1;34m(imageForExport, assetName, assetPath, pyramidingPolicyObject, roi, scale, crs, transform, overwrite)\u001b[0m\n\u001b[0;32m   4066\u001b[0m     pyramidingPolicyObject \u001b[38;5;241m=\u001b[39m {\u001b[38;5;124m\"\u001b[39m\u001b[38;5;124m.default\u001b[39m\u001b[38;5;124m\"\u001b[39m: pyramidingPolicyObject}\n\u001b[0;32m   4067\u001b[0m \u001b[38;5;66;03m# pyramidingPolicyObject = json.dumps(pyramidingPolicyObject)\u001b[39;00m\n\u001b[0;32m   4068\u001b[0m \u001b[38;5;66;03m# print('pyramiding object:',pyramidingPolicyObject)\u001b[39;00m\n\u001b[0;32m   4069\u001b[0m \n\u001b[0;32m   4070\u001b[0m \u001b[38;5;66;03m# Handle different instances of an asset either already existing or currently being exported and whether it should be overwritten\u001b[39;00m\n\u001b[1;32m-> 4071\u001b[0m currently_exporting \u001b[38;5;241m=\u001b[39m assetName \u001b[38;5;129;01min\u001b[39;00m tml\u001b[38;5;241m.\u001b[39mgetTasks()[\u001b[38;5;124m\"\u001b[39m\u001b[38;5;124mrunning\u001b[39m\u001b[38;5;124m\"\u001b[39m] \u001b[38;5;129;01mor\u001b[39;00m assetName \u001b[38;5;129;01min\u001b[39;00m \u001b[43mtml\u001b[49m\u001b[38;5;241;43m.\u001b[39;49m\u001b[43mgetTasks\u001b[49m\u001b[43m(\u001b[49m\u001b[43m)\u001b[49m[\u001b[38;5;124m\"\u001b[39m\u001b[38;5;124mready\u001b[39m\u001b[38;5;124m\"\u001b[39m]\n\u001b[0;32m   4072\u001b[0m currently_exists \u001b[38;5;241m=\u001b[39m aml\u001b[38;5;241m.\u001b[39mee_asset_exists(assetPath)\n\u001b[0;32m   4074\u001b[0m \u001b[38;5;28;01mif\u001b[39;00m overwrite \u001b[38;5;129;01mand\u001b[39;00m currently_exists:\n",
      "File \u001b[1;32mc:\\Users\\ihousman\\AppData\\Local\\Programs\\Python\\Python311\\Lib\\site-packages\\geeViz\\taskManagerLib.py:107\u001b[0m, in \u001b[0;36mgetTasks\u001b[1;34m(id_list)\u001b[0m\n\u001b[0;32m    106\u001b[0m \u001b[38;5;28;01mdef\u001b[39;00m \u001b[38;5;21mgetTasks\u001b[39m(id_list\u001b[38;5;241m=\u001b[39m\u001b[38;5;28;01mNone\u001b[39;00m):\n\u001b[1;32m--> 107\u001b[0m     tasks \u001b[38;5;241m=\u001b[39m \u001b[43mee\u001b[49m\u001b[38;5;241;43m.\u001b[39;49m\u001b[43mdata\u001b[49m\u001b[38;5;241;43m.\u001b[39;49m\u001b[43mgetTaskList\u001b[49m\u001b[43m(\u001b[49m\u001b[43m)\u001b[49m\n\u001b[0;32m    108\u001b[0m     \u001b[38;5;28;01mif\u001b[39;00m id_list \u001b[38;5;241m!=\u001b[39m \u001b[38;5;28;01mNone\u001b[39;00m:\n\u001b[0;32m    109\u001b[0m         tasks \u001b[38;5;241m=\u001b[39m [i \u001b[38;5;28;01mfor\u001b[39;00m i \u001b[38;5;129;01min\u001b[39;00m tasks \u001b[38;5;28;01mif\u001b[39;00m i[\u001b[38;5;124m\"\u001b[39m\u001b[38;5;124mdescription\u001b[39m\u001b[38;5;124m\"\u001b[39m] \u001b[38;5;129;01min\u001b[39;00m id_list]\n",
      "File \u001b[1;32mc:\\Users\\ihousman\\AppData\\Local\\Programs\\Python\\Python311\\Lib\\site-packages\\ee\\deprecation.py:44\u001b[0m, in \u001b[0;36mDeprecated.<locals>.Decorator.<locals>.Wrapper\u001b[1;34m(*args, **kwargs)\u001b[0m\n\u001b[0;32m     36\u001b[0m \u001b[38;5;129m@functools\u001b[39m\u001b[38;5;241m.\u001b[39mwraps(func)\n\u001b[0;32m     37\u001b[0m \u001b[38;5;28;01mdef\u001b[39;00m \u001b[38;5;21mWrapper\u001b[39m(\u001b[38;5;241m*\u001b[39margs, \u001b[38;5;241m*\u001b[39m\u001b[38;5;241m*\u001b[39mkwargs):\n\u001b[0;32m     38\u001b[0m   warnings\u001b[38;5;241m.\u001b[39mwarn_explicit(\n\u001b[0;32m     39\u001b[0m       \u001b[38;5;124m'\u001b[39m\u001b[38;5;132;01m%s\u001b[39;00m\u001b[38;5;124m() is deprecated: \u001b[39m\u001b[38;5;132;01m%s\u001b[39;00m\u001b[38;5;124m'\u001b[39m \u001b[38;5;241m%\u001b[39m (func\u001b[38;5;241m.\u001b[39m\u001b[38;5;18m__name__\u001b[39m, message),\n\u001b[0;32m     40\u001b[0m       category\u001b[38;5;241m=\u001b[39m\u001b[38;5;167;01mDeprecationWarning\u001b[39;00m,\n\u001b[0;32m     41\u001b[0m       filename\u001b[38;5;241m=\u001b[39mfunc\u001b[38;5;241m.\u001b[39m\u001b[38;5;18m__code__\u001b[39m\u001b[38;5;241m.\u001b[39mco_filename,\n\u001b[0;32m     42\u001b[0m       lineno\u001b[38;5;241m=\u001b[39mfunc\u001b[38;5;241m.\u001b[39m\u001b[38;5;18m__code__\u001b[39m\u001b[38;5;241m.\u001b[39mco_firstlineno \u001b[38;5;241m+\u001b[39m \u001b[38;5;241m1\u001b[39m,\n\u001b[0;32m     43\u001b[0m   )\n\u001b[1;32m---> 44\u001b[0m   \u001b[38;5;28;01mreturn\u001b[39;00m \u001b[43mfunc\u001b[49m\u001b[43m(\u001b[49m\u001b[38;5;241;43m*\u001b[39;49m\u001b[43margs\u001b[49m\u001b[43m,\u001b[49m\u001b[43m \u001b[49m\u001b[38;5;241;43m*\u001b[39;49m\u001b[38;5;241;43m*\u001b[39;49m\u001b[43mkwargs\u001b[49m\u001b[43m)\u001b[49m\n",
      "File \u001b[1;32mc:\\Users\\ihousman\\AppData\\Local\\Programs\\Python\\Python311\\Lib\\site-packages\\ee\\data.py:1647\u001b[0m, in \u001b[0;36mgetTaskList\u001b[1;34m()\u001b[0m\n\u001b[0;32m   1637\u001b[0m \u001b[38;5;129m@deprecation\u001b[39m\u001b[38;5;241m.\u001b[39mDeprecated(\u001b[38;5;124m'\u001b[39m\u001b[38;5;124mUse listOperations\u001b[39m\u001b[38;5;124m'\u001b[39m)\n\u001b[0;32m   1638\u001b[0m \u001b[38;5;28;01mdef\u001b[39;00m \u001b[38;5;21mgetTaskList\u001b[39m() \u001b[38;5;241m-\u001b[39m\u001b[38;5;241m>\u001b[39m List[Any]:\n\u001b[0;32m   1639\u001b[0m \u001b[38;5;250m  \u001b[39m\u001b[38;5;124;03m\"\"\"Retrieves a list of the user's tasks.\u001b[39;00m\n\u001b[0;32m   1640\u001b[0m \n\u001b[0;32m   1641\u001b[0m \u001b[38;5;124;03m  Returns:\u001b[39;00m\n\u001b[1;32m   (...)\u001b[0m\n\u001b[0;32m   1644\u001b[0m \u001b[38;5;124;03m    canceled or failed tasks.\u001b[39;00m\n\u001b[0;32m   1645\u001b[0m \u001b[38;5;124;03m  \"\"\"\u001b[39;00m\n\u001b[0;32m   1646\u001b[0m   \u001b[38;5;28;01mreturn\u001b[39;00m [_cloud_api_utils\u001b[38;5;241m.\u001b[39mconvert_operation_to_task(o)\n\u001b[1;32m-> 1647\u001b[0m           \u001b[38;5;28;01mfor\u001b[39;00m o \u001b[38;5;129;01min\u001b[39;00m \u001b[43mlistOperations\u001b[49m\u001b[43m(\u001b[49m\u001b[43m)\u001b[49m]\n",
      "File \u001b[1;32mc:\\Users\\ihousman\\AppData\\Local\\Programs\\Python\\Python311\\Lib\\site-packages\\ee\\data.py:1670\u001b[0m, in \u001b[0;36mlistOperations\u001b[1;34m(project)\u001b[0m\n\u001b[0;32m   1664\u001b[0m request \u001b[38;5;241m=\u001b[39m (\n\u001b[0;32m   1665\u001b[0m     _get_cloud_projects()\n\u001b[0;32m   1666\u001b[0m     \u001b[38;5;241m.\u001b[39moperations()\n\u001b[0;32m   1667\u001b[0m     \u001b[38;5;241m.\u001b[39mlist(pageSize\u001b[38;5;241m=\u001b[39m_TASKLIST_PAGE_SIZE, name\u001b[38;5;241m=\u001b[39mproject)\n\u001b[0;32m   1668\u001b[0m )\n\u001b[0;32m   1669\u001b[0m \u001b[38;5;28;01mwhile\u001b[39;00m request \u001b[38;5;129;01mis\u001b[39;00m \u001b[38;5;129;01mnot\u001b[39;00m \u001b[38;5;28;01mNone\u001b[39;00m:\n\u001b[1;32m-> 1670\u001b[0m   response \u001b[38;5;241m=\u001b[39m \u001b[43m_execute_cloud_call\u001b[49m\u001b[43m(\u001b[49m\u001b[43mrequest\u001b[49m\u001b[43m)\u001b[49m\n\u001b[0;32m   1671\u001b[0m   operations \u001b[38;5;241m+\u001b[39m\u001b[38;5;241m=\u001b[39m response\u001b[38;5;241m.\u001b[39mget(\u001b[38;5;124m'\u001b[39m\u001b[38;5;124moperations\u001b[39m\u001b[38;5;124m'\u001b[39m, [])\n\u001b[0;32m   1672\u001b[0m   request \u001b[38;5;241m=\u001b[39m _get_cloud_projects()\u001b[38;5;241m.\u001b[39moperations()\u001b[38;5;241m.\u001b[39mlist_next(request, response)\n",
      "File \u001b[1;32mc:\\Users\\ihousman\\AppData\\Local\\Programs\\Python\\Python311\\Lib\\site-packages\\ee\\data.py:406\u001b[0m, in \u001b[0;36m_execute_cloud_call\u001b[1;34m(call, num_retries)\u001b[0m\n\u001b[0;32m    404\u001b[0m num_retries \u001b[38;5;241m=\u001b[39m _max_retries \u001b[38;5;28;01mif\u001b[39;00m num_retries \u001b[38;5;129;01mis\u001b[39;00m \u001b[38;5;28;01mNone\u001b[39;00m \u001b[38;5;28;01melse\u001b[39;00m num_retries\n\u001b[0;32m    405\u001b[0m \u001b[38;5;28;01mtry\u001b[39;00m:\n\u001b[1;32m--> 406\u001b[0m   \u001b[38;5;28;01mreturn\u001b[39;00m \u001b[43mcall\u001b[49m\u001b[38;5;241;43m.\u001b[39;49m\u001b[43mexecute\u001b[49m\u001b[43m(\u001b[49m\u001b[43mnum_retries\u001b[49m\u001b[38;5;241;43m=\u001b[39;49m\u001b[43mnum_retries\u001b[49m\u001b[43m)\u001b[49m\n\u001b[0;32m    407\u001b[0m \u001b[38;5;28;01mexcept\u001b[39;00m googleapiclient\u001b[38;5;241m.\u001b[39merrors\u001b[38;5;241m.\u001b[39mHttpError \u001b[38;5;28;01mas\u001b[39;00m e:\n\u001b[0;32m    408\u001b[0m   \u001b[38;5;28;01mraise\u001b[39;00m _translate_cloud_exception(e)\n",
      "File \u001b[1;32mc:\\Users\\ihousman\\AppData\\Local\\Programs\\Python\\Python311\\Lib\\site-packages\\googleapiclient\\_helpers.py:130\u001b[0m, in \u001b[0;36mpositional.<locals>.positional_decorator.<locals>.positional_wrapper\u001b[1;34m(*args, **kwargs)\u001b[0m\n\u001b[0;32m    128\u001b[0m     \u001b[38;5;28;01melif\u001b[39;00m positional_parameters_enforcement \u001b[38;5;241m==\u001b[39m POSITIONAL_WARNING:\n\u001b[0;32m    129\u001b[0m         logger\u001b[38;5;241m.\u001b[39mwarning(message)\n\u001b[1;32m--> 130\u001b[0m \u001b[38;5;28;01mreturn\u001b[39;00m \u001b[43mwrapped\u001b[49m\u001b[43m(\u001b[49m\u001b[38;5;241;43m*\u001b[39;49m\u001b[43margs\u001b[49m\u001b[43m,\u001b[49m\u001b[43m \u001b[49m\u001b[38;5;241;43m*\u001b[39;49m\u001b[38;5;241;43m*\u001b[39;49m\u001b[43mkwargs\u001b[49m\u001b[43m)\u001b[49m\n",
      "File \u001b[1;32mc:\\Users\\ihousman\\AppData\\Local\\Programs\\Python\\Python311\\Lib\\site-packages\\googleapiclient\\http.py:923\u001b[0m, in \u001b[0;36mHttpRequest.execute\u001b[1;34m(self, http, num_retries)\u001b[0m\n\u001b[0;32m    920\u001b[0m     \u001b[38;5;28mself\u001b[39m\u001b[38;5;241m.\u001b[39mheaders[\u001b[38;5;124m\"\u001b[39m\u001b[38;5;124mcontent-length\u001b[39m\u001b[38;5;124m\"\u001b[39m] \u001b[38;5;241m=\u001b[39m \u001b[38;5;28mstr\u001b[39m(\u001b[38;5;28mlen\u001b[39m(\u001b[38;5;28mself\u001b[39m\u001b[38;5;241m.\u001b[39mbody))\n\u001b[0;32m    922\u001b[0m \u001b[38;5;66;03m# Handle retries for server-side errors.\u001b[39;00m\n\u001b[1;32m--> 923\u001b[0m resp, content \u001b[38;5;241m=\u001b[39m \u001b[43m_retry_request\u001b[49m\u001b[43m(\u001b[49m\n\u001b[0;32m    924\u001b[0m \u001b[43m    \u001b[49m\u001b[43mhttp\u001b[49m\u001b[43m,\u001b[49m\n\u001b[0;32m    925\u001b[0m \u001b[43m    \u001b[49m\u001b[43mnum_retries\u001b[49m\u001b[43m,\u001b[49m\n\u001b[0;32m    926\u001b[0m \u001b[43m    \u001b[49m\u001b[38;5;124;43m\"\u001b[39;49m\u001b[38;5;124;43mrequest\u001b[39;49m\u001b[38;5;124;43m\"\u001b[39;49m\u001b[43m,\u001b[49m\n\u001b[0;32m    927\u001b[0m \u001b[43m    \u001b[49m\u001b[38;5;28;43mself\u001b[39;49m\u001b[38;5;241;43m.\u001b[39;49m\u001b[43m_sleep\u001b[49m\u001b[43m,\u001b[49m\n\u001b[0;32m    928\u001b[0m \u001b[43m    \u001b[49m\u001b[38;5;28;43mself\u001b[39;49m\u001b[38;5;241;43m.\u001b[39;49m\u001b[43m_rand\u001b[49m\u001b[43m,\u001b[49m\n\u001b[0;32m    929\u001b[0m \u001b[43m    \u001b[49m\u001b[38;5;28;43mstr\u001b[39;49m\u001b[43m(\u001b[49m\u001b[38;5;28;43mself\u001b[39;49m\u001b[38;5;241;43m.\u001b[39;49m\u001b[43muri\u001b[49m\u001b[43m)\u001b[49m\u001b[43m,\u001b[49m\n\u001b[0;32m    930\u001b[0m \u001b[43m    \u001b[49m\u001b[43mmethod\u001b[49m\u001b[38;5;241;43m=\u001b[39;49m\u001b[38;5;28;43mstr\u001b[39;49m\u001b[43m(\u001b[49m\u001b[38;5;28;43mself\u001b[39;49m\u001b[38;5;241;43m.\u001b[39;49m\u001b[43mmethod\u001b[49m\u001b[43m)\u001b[49m\u001b[43m,\u001b[49m\n\u001b[0;32m    931\u001b[0m \u001b[43m    \u001b[49m\u001b[43mbody\u001b[49m\u001b[38;5;241;43m=\u001b[39;49m\u001b[38;5;28;43mself\u001b[39;49m\u001b[38;5;241;43m.\u001b[39;49m\u001b[43mbody\u001b[49m\u001b[43m,\u001b[49m\n\u001b[0;32m    932\u001b[0m \u001b[43m    \u001b[49m\u001b[43mheaders\u001b[49m\u001b[38;5;241;43m=\u001b[39;49m\u001b[38;5;28;43mself\u001b[39;49m\u001b[38;5;241;43m.\u001b[39;49m\u001b[43mheaders\u001b[49m\u001b[43m,\u001b[49m\n\u001b[0;32m    933\u001b[0m \u001b[43m\u001b[49m\u001b[43m)\u001b[49m\n\u001b[0;32m    935\u001b[0m \u001b[38;5;28;01mfor\u001b[39;00m callback \u001b[38;5;129;01min\u001b[39;00m \u001b[38;5;28mself\u001b[39m\u001b[38;5;241m.\u001b[39mresponse_callbacks:\n\u001b[0;32m    936\u001b[0m     callback(resp)\n",
      "File \u001b[1;32mc:\\Users\\ihousman\\AppData\\Local\\Programs\\Python\\Python311\\Lib\\site-packages\\googleapiclient\\http.py:191\u001b[0m, in \u001b[0;36m_retry_request\u001b[1;34m(http, num_retries, req_type, sleep, rand, uri, method, *args, **kwargs)\u001b[0m\n\u001b[0;32m    189\u001b[0m \u001b[38;5;28;01mtry\u001b[39;00m:\n\u001b[0;32m    190\u001b[0m     exception \u001b[38;5;241m=\u001b[39m \u001b[38;5;28;01mNone\u001b[39;00m\n\u001b[1;32m--> 191\u001b[0m     resp, content \u001b[38;5;241m=\u001b[39m \u001b[43mhttp\u001b[49m\u001b[38;5;241;43m.\u001b[39;49m\u001b[43mrequest\u001b[49m\u001b[43m(\u001b[49m\u001b[43muri\u001b[49m\u001b[43m,\u001b[49m\u001b[43m \u001b[49m\u001b[43mmethod\u001b[49m\u001b[43m,\u001b[49m\u001b[43m \u001b[49m\u001b[38;5;241;43m*\u001b[39;49m\u001b[43margs\u001b[49m\u001b[43m,\u001b[49m\u001b[43m \u001b[49m\u001b[38;5;241;43m*\u001b[39;49m\u001b[38;5;241;43m*\u001b[39;49m\u001b[43mkwargs\u001b[49m\u001b[43m)\u001b[49m\n\u001b[0;32m    192\u001b[0m \u001b[38;5;66;03m# Retry on SSL errors and socket timeout errors.\u001b[39;00m\n\u001b[0;32m    193\u001b[0m \u001b[38;5;28;01mexcept\u001b[39;00m _ssl_SSLError \u001b[38;5;28;01mas\u001b[39;00m ssl_error:\n",
      "File \u001b[1;32mc:\\Users\\ihousman\\AppData\\Local\\Programs\\Python\\Python311\\Lib\\site-packages\\google_auth_httplib2.py:218\u001b[0m, in \u001b[0;36mAuthorizedHttp.request\u001b[1;34m(self, uri, method, body, headers, redirections, connection_type, **kwargs)\u001b[0m\n\u001b[0;32m    215\u001b[0m     body_stream_position \u001b[38;5;241m=\u001b[39m body\u001b[38;5;241m.\u001b[39mtell()\n\u001b[0;32m    217\u001b[0m \u001b[38;5;66;03m# Make the request.\u001b[39;00m\n\u001b[1;32m--> 218\u001b[0m response, content \u001b[38;5;241m=\u001b[39m \u001b[38;5;28;43mself\u001b[39;49m\u001b[38;5;241;43m.\u001b[39;49m\u001b[43mhttp\u001b[49m\u001b[38;5;241;43m.\u001b[39;49m\u001b[43mrequest\u001b[49m\u001b[43m(\u001b[49m\n\u001b[0;32m    219\u001b[0m \u001b[43m    \u001b[49m\u001b[43muri\u001b[49m\u001b[43m,\u001b[49m\n\u001b[0;32m    220\u001b[0m \u001b[43m    \u001b[49m\u001b[43mmethod\u001b[49m\u001b[43m,\u001b[49m\n\u001b[0;32m    221\u001b[0m \u001b[43m    \u001b[49m\u001b[43mbody\u001b[49m\u001b[38;5;241;43m=\u001b[39;49m\u001b[43mbody\u001b[49m\u001b[43m,\u001b[49m\n\u001b[0;32m    222\u001b[0m \u001b[43m    \u001b[49m\u001b[43mheaders\u001b[49m\u001b[38;5;241;43m=\u001b[39;49m\u001b[43mrequest_headers\u001b[49m\u001b[43m,\u001b[49m\n\u001b[0;32m    223\u001b[0m \u001b[43m    \u001b[49m\u001b[43mredirections\u001b[49m\u001b[38;5;241;43m=\u001b[39;49m\u001b[43mredirections\u001b[49m\u001b[43m,\u001b[49m\n\u001b[0;32m    224\u001b[0m \u001b[43m    \u001b[49m\u001b[43mconnection_type\u001b[49m\u001b[38;5;241;43m=\u001b[39;49m\u001b[43mconnection_type\u001b[49m\u001b[43m,\u001b[49m\n\u001b[0;32m    225\u001b[0m \u001b[43m    \u001b[49m\u001b[38;5;241;43m*\u001b[39;49m\u001b[38;5;241;43m*\u001b[39;49m\u001b[43mkwargs\u001b[49m\n\u001b[0;32m    226\u001b[0m \u001b[43m\u001b[49m\u001b[43m)\u001b[49m\n\u001b[0;32m    228\u001b[0m \u001b[38;5;66;03m# If the response indicated that the credentials needed to be\u001b[39;00m\n\u001b[0;32m    229\u001b[0m \u001b[38;5;66;03m# refreshed, then refresh the credentials and re-attempt the\u001b[39;00m\n\u001b[0;32m    230\u001b[0m \u001b[38;5;66;03m# request.\u001b[39;00m\n\u001b[0;32m    231\u001b[0m \u001b[38;5;66;03m# A stored token may expire between the time it is retrieved and\u001b[39;00m\n\u001b[0;32m    232\u001b[0m \u001b[38;5;66;03m# the time the request is made, so we may need to try twice.\u001b[39;00m\n\u001b[0;32m    233\u001b[0m \u001b[38;5;28;01mif\u001b[39;00m (\n\u001b[0;32m    234\u001b[0m     response\u001b[38;5;241m.\u001b[39mstatus \u001b[38;5;129;01min\u001b[39;00m \u001b[38;5;28mself\u001b[39m\u001b[38;5;241m.\u001b[39m_refresh_status_codes\n\u001b[0;32m    235\u001b[0m     \u001b[38;5;129;01mand\u001b[39;00m _credential_refresh_attempt \u001b[38;5;241m<\u001b[39m \u001b[38;5;28mself\u001b[39m\u001b[38;5;241m.\u001b[39m_max_refresh_attempts\n\u001b[0;32m    236\u001b[0m ):\n",
      "File \u001b[1;32mc:\\Users\\ihousman\\AppData\\Local\\Programs\\Python\\Python311\\Lib\\site-packages\\ee\\_cloud_api_utils.py:70\u001b[0m, in \u001b[0;36m_Http.request\u001b[1;34m(***failed resolving arguments***)\u001b[0m\n\u001b[0;32m     63\u001b[0m \u001b[38;5;28;01mdel\u001b[39;00m redirections  \u001b[38;5;66;03m# Ignored\u001b[39;00m\n\u001b[0;32m     65\u001b[0m \u001b[38;5;28;01mtry\u001b[39;00m:\n\u001b[0;32m     66\u001b[0m   \u001b[38;5;66;03m# googleapiclient is expecting an httplib2 object, and doesn't include\u001b[39;00m\n\u001b[0;32m     67\u001b[0m   \u001b[38;5;66;03m# requests error in the list of transient errors. Therefore, transient\u001b[39;00m\n\u001b[0;32m     68\u001b[0m   \u001b[38;5;66;03m# requests errors should be converted to kinds that googleapiclient\u001b[39;00m\n\u001b[0;32m     69\u001b[0m   \u001b[38;5;66;03m# consider transient.\u001b[39;00m\n\u001b[1;32m---> 70\u001b[0m   response \u001b[38;5;241m=\u001b[39m \u001b[38;5;28;43mself\u001b[39;49m\u001b[38;5;241;43m.\u001b[39;49m\u001b[43m_session\u001b[49m\u001b[38;5;241;43m.\u001b[39;49m\u001b[43mrequest\u001b[49m\u001b[43m(\u001b[49m\n\u001b[0;32m     71\u001b[0m \u001b[43m      \u001b[49m\u001b[43mmethod\u001b[49m\u001b[43m,\u001b[49m\u001b[43m \u001b[49m\u001b[43muri\u001b[49m\u001b[43m,\u001b[49m\u001b[43m \u001b[49m\u001b[43mdata\u001b[49m\u001b[38;5;241;43m=\u001b[39;49m\u001b[43mbody\u001b[49m\u001b[43m,\u001b[49m\u001b[43m \u001b[49m\u001b[43mheaders\u001b[49m\u001b[38;5;241;43m=\u001b[39;49m\u001b[43mheaders\u001b[49m\u001b[43m,\u001b[49m\u001b[43m \u001b[49m\u001b[43mtimeout\u001b[49m\u001b[38;5;241;43m=\u001b[39;49m\u001b[38;5;28;43mself\u001b[39;49m\u001b[38;5;241;43m.\u001b[39;49m\u001b[43m_timeout\u001b[49m\n\u001b[0;32m     72\u001b[0m \u001b[43m  \u001b[49m\u001b[43m)\u001b[49m\n\u001b[0;32m     73\u001b[0m \u001b[38;5;28;01mexcept\u001b[39;00m requests\u001b[38;5;241m.\u001b[39mexceptions\u001b[38;5;241m.\u001b[39mConnectionError \u001b[38;5;28;01mas\u001b[39;00m connection_error:\n\u001b[0;32m     74\u001b[0m   \u001b[38;5;28;01mraise\u001b[39;00m \u001b[38;5;167;01mConnectionError\u001b[39;00m(connection_error) \u001b[38;5;28;01mfrom\u001b[39;00m \u001b[38;5;21;01mconnection_error\u001b[39;00m\n",
      "File \u001b[1;32mc:\\Users\\ihousman\\AppData\\Local\\Programs\\Python\\Python311\\Lib\\site-packages\\requests\\sessions.py:589\u001b[0m, in \u001b[0;36mSession.request\u001b[1;34m(self, method, url, params, data, headers, cookies, files, auth, timeout, allow_redirects, proxies, hooks, stream, verify, cert, json)\u001b[0m\n\u001b[0;32m    584\u001b[0m send_kwargs \u001b[38;5;241m=\u001b[39m {\n\u001b[0;32m    585\u001b[0m     \u001b[38;5;124m\"\u001b[39m\u001b[38;5;124mtimeout\u001b[39m\u001b[38;5;124m\"\u001b[39m: timeout,\n\u001b[0;32m    586\u001b[0m     \u001b[38;5;124m\"\u001b[39m\u001b[38;5;124mallow_redirects\u001b[39m\u001b[38;5;124m\"\u001b[39m: allow_redirects,\n\u001b[0;32m    587\u001b[0m }\n\u001b[0;32m    588\u001b[0m send_kwargs\u001b[38;5;241m.\u001b[39mupdate(settings)\n\u001b[1;32m--> 589\u001b[0m resp \u001b[38;5;241m=\u001b[39m \u001b[38;5;28;43mself\u001b[39;49m\u001b[38;5;241;43m.\u001b[39;49m\u001b[43msend\u001b[49m\u001b[43m(\u001b[49m\u001b[43mprep\u001b[49m\u001b[43m,\u001b[49m\u001b[43m \u001b[49m\u001b[38;5;241;43m*\u001b[39;49m\u001b[38;5;241;43m*\u001b[39;49m\u001b[43msend_kwargs\u001b[49m\u001b[43m)\u001b[49m\n\u001b[0;32m    591\u001b[0m \u001b[38;5;28;01mreturn\u001b[39;00m resp\n",
      "File \u001b[1;32mc:\\Users\\ihousman\\AppData\\Local\\Programs\\Python\\Python311\\Lib\\site-packages\\requests\\sessions.py:703\u001b[0m, in \u001b[0;36mSession.send\u001b[1;34m(self, request, **kwargs)\u001b[0m\n\u001b[0;32m    700\u001b[0m start \u001b[38;5;241m=\u001b[39m preferred_clock()\n\u001b[0;32m    702\u001b[0m \u001b[38;5;66;03m# Send the request\u001b[39;00m\n\u001b[1;32m--> 703\u001b[0m r \u001b[38;5;241m=\u001b[39m \u001b[43madapter\u001b[49m\u001b[38;5;241;43m.\u001b[39;49m\u001b[43msend\u001b[49m\u001b[43m(\u001b[49m\u001b[43mrequest\u001b[49m\u001b[43m,\u001b[49m\u001b[43m \u001b[49m\u001b[38;5;241;43m*\u001b[39;49m\u001b[38;5;241;43m*\u001b[39;49m\u001b[43mkwargs\u001b[49m\u001b[43m)\u001b[49m\n\u001b[0;32m    705\u001b[0m \u001b[38;5;66;03m# Total elapsed time of the request (approximately)\u001b[39;00m\n\u001b[0;32m    706\u001b[0m elapsed \u001b[38;5;241m=\u001b[39m preferred_clock() \u001b[38;5;241m-\u001b[39m start\n",
      "File \u001b[1;32mc:\\Users\\ihousman\\AppData\\Local\\Programs\\Python\\Python311\\Lib\\site-packages\\requests\\adapters.py:486\u001b[0m, in \u001b[0;36mHTTPAdapter.send\u001b[1;34m(self, request, stream, timeout, verify, cert, proxies)\u001b[0m\n\u001b[0;32m    483\u001b[0m     timeout \u001b[38;5;241m=\u001b[39m TimeoutSauce(connect\u001b[38;5;241m=\u001b[39mtimeout, read\u001b[38;5;241m=\u001b[39mtimeout)\n\u001b[0;32m    485\u001b[0m \u001b[38;5;28;01mtry\u001b[39;00m:\n\u001b[1;32m--> 486\u001b[0m     resp \u001b[38;5;241m=\u001b[39m \u001b[43mconn\u001b[49m\u001b[38;5;241;43m.\u001b[39;49m\u001b[43murlopen\u001b[49m\u001b[43m(\u001b[49m\n\u001b[0;32m    487\u001b[0m \u001b[43m        \u001b[49m\u001b[43mmethod\u001b[49m\u001b[38;5;241;43m=\u001b[39;49m\u001b[43mrequest\u001b[49m\u001b[38;5;241;43m.\u001b[39;49m\u001b[43mmethod\u001b[49m\u001b[43m,\u001b[49m\n\u001b[0;32m    488\u001b[0m \u001b[43m        \u001b[49m\u001b[43murl\u001b[49m\u001b[38;5;241;43m=\u001b[39;49m\u001b[43murl\u001b[49m\u001b[43m,\u001b[49m\n\u001b[0;32m    489\u001b[0m \u001b[43m        \u001b[49m\u001b[43mbody\u001b[49m\u001b[38;5;241;43m=\u001b[39;49m\u001b[43mrequest\u001b[49m\u001b[38;5;241;43m.\u001b[39;49m\u001b[43mbody\u001b[49m\u001b[43m,\u001b[49m\n\u001b[0;32m    490\u001b[0m \u001b[43m        \u001b[49m\u001b[43mheaders\u001b[49m\u001b[38;5;241;43m=\u001b[39;49m\u001b[43mrequest\u001b[49m\u001b[38;5;241;43m.\u001b[39;49m\u001b[43mheaders\u001b[49m\u001b[43m,\u001b[49m\n\u001b[0;32m    491\u001b[0m \u001b[43m        \u001b[49m\u001b[43mredirect\u001b[49m\u001b[38;5;241;43m=\u001b[39;49m\u001b[38;5;28;43;01mFalse\u001b[39;49;00m\u001b[43m,\u001b[49m\n\u001b[0;32m    492\u001b[0m \u001b[43m        \u001b[49m\u001b[43massert_same_host\u001b[49m\u001b[38;5;241;43m=\u001b[39;49m\u001b[38;5;28;43;01mFalse\u001b[39;49;00m\u001b[43m,\u001b[49m\n\u001b[0;32m    493\u001b[0m \u001b[43m        \u001b[49m\u001b[43mpreload_content\u001b[49m\u001b[38;5;241;43m=\u001b[39;49m\u001b[38;5;28;43;01mFalse\u001b[39;49;00m\u001b[43m,\u001b[49m\n\u001b[0;32m    494\u001b[0m \u001b[43m        \u001b[49m\u001b[43mdecode_content\u001b[49m\u001b[38;5;241;43m=\u001b[39;49m\u001b[38;5;28;43;01mFalse\u001b[39;49;00m\u001b[43m,\u001b[49m\n\u001b[0;32m    495\u001b[0m \u001b[43m        \u001b[49m\u001b[43mretries\u001b[49m\u001b[38;5;241;43m=\u001b[39;49m\u001b[38;5;28;43mself\u001b[39;49m\u001b[38;5;241;43m.\u001b[39;49m\u001b[43mmax_retries\u001b[49m\u001b[43m,\u001b[49m\n\u001b[0;32m    496\u001b[0m \u001b[43m        \u001b[49m\u001b[43mtimeout\u001b[49m\u001b[38;5;241;43m=\u001b[39;49m\u001b[43mtimeout\u001b[49m\u001b[43m,\u001b[49m\n\u001b[0;32m    497\u001b[0m \u001b[43m        \u001b[49m\u001b[43mchunked\u001b[49m\u001b[38;5;241;43m=\u001b[39;49m\u001b[43mchunked\u001b[49m\u001b[43m,\u001b[49m\n\u001b[0;32m    498\u001b[0m \u001b[43m    \u001b[49m\u001b[43m)\u001b[49m\n\u001b[0;32m    500\u001b[0m \u001b[38;5;28;01mexcept\u001b[39;00m (ProtocolError, \u001b[38;5;167;01mOSError\u001b[39;00m) \u001b[38;5;28;01mas\u001b[39;00m err:\n\u001b[0;32m    501\u001b[0m     \u001b[38;5;28;01mraise\u001b[39;00m \u001b[38;5;167;01mConnectionError\u001b[39;00m(err, request\u001b[38;5;241m=\u001b[39mrequest)\n",
      "File \u001b[1;32mc:\\Users\\ihousman\\AppData\\Local\\Programs\\Python\\Python311\\Lib\\site-packages\\urllib3\\connectionpool.py:714\u001b[0m, in \u001b[0;36mHTTPConnectionPool.urlopen\u001b[1;34m(self, method, url, body, headers, retries, redirect, assert_same_host, timeout, pool_timeout, release_conn, chunked, body_pos, **response_kw)\u001b[0m\n\u001b[0;32m    711\u001b[0m     \u001b[38;5;28mself\u001b[39m\u001b[38;5;241m.\u001b[39m_prepare_proxy(conn)\n\u001b[0;32m    713\u001b[0m \u001b[38;5;66;03m# Make the request on the httplib connection object.\u001b[39;00m\n\u001b[1;32m--> 714\u001b[0m httplib_response \u001b[38;5;241m=\u001b[39m \u001b[38;5;28;43mself\u001b[39;49m\u001b[38;5;241;43m.\u001b[39;49m\u001b[43m_make_request\u001b[49m\u001b[43m(\u001b[49m\n\u001b[0;32m    715\u001b[0m \u001b[43m    \u001b[49m\u001b[43mconn\u001b[49m\u001b[43m,\u001b[49m\n\u001b[0;32m    716\u001b[0m \u001b[43m    \u001b[49m\u001b[43mmethod\u001b[49m\u001b[43m,\u001b[49m\n\u001b[0;32m    717\u001b[0m \u001b[43m    \u001b[49m\u001b[43murl\u001b[49m\u001b[43m,\u001b[49m\n\u001b[0;32m    718\u001b[0m \u001b[43m    \u001b[49m\u001b[43mtimeout\u001b[49m\u001b[38;5;241;43m=\u001b[39;49m\u001b[43mtimeout_obj\u001b[49m\u001b[43m,\u001b[49m\n\u001b[0;32m    719\u001b[0m \u001b[43m    \u001b[49m\u001b[43mbody\u001b[49m\u001b[38;5;241;43m=\u001b[39;49m\u001b[43mbody\u001b[49m\u001b[43m,\u001b[49m\n\u001b[0;32m    720\u001b[0m \u001b[43m    \u001b[49m\u001b[43mheaders\u001b[49m\u001b[38;5;241;43m=\u001b[39;49m\u001b[43mheaders\u001b[49m\u001b[43m,\u001b[49m\n\u001b[0;32m    721\u001b[0m \u001b[43m    \u001b[49m\u001b[43mchunked\u001b[49m\u001b[38;5;241;43m=\u001b[39;49m\u001b[43mchunked\u001b[49m\u001b[43m,\u001b[49m\n\u001b[0;32m    722\u001b[0m \u001b[43m\u001b[49m\u001b[43m)\u001b[49m\n\u001b[0;32m    724\u001b[0m \u001b[38;5;66;03m# If we're going to release the connection in ``finally:``, then\u001b[39;00m\n\u001b[0;32m    725\u001b[0m \u001b[38;5;66;03m# the response doesn't need to know about the connection. Otherwise\u001b[39;00m\n\u001b[0;32m    726\u001b[0m \u001b[38;5;66;03m# it will also try to release it and we'll have a double-release\u001b[39;00m\n\u001b[0;32m    727\u001b[0m \u001b[38;5;66;03m# mess.\u001b[39;00m\n\u001b[0;32m    728\u001b[0m response_conn \u001b[38;5;241m=\u001b[39m conn \u001b[38;5;28;01mif\u001b[39;00m \u001b[38;5;129;01mnot\u001b[39;00m release_conn \u001b[38;5;28;01melse\u001b[39;00m \u001b[38;5;28;01mNone\u001b[39;00m\n",
      "File \u001b[1;32mc:\\Users\\ihousman\\AppData\\Local\\Programs\\Python\\Python311\\Lib\\site-packages\\urllib3\\connectionpool.py:466\u001b[0m, in \u001b[0;36mHTTPConnectionPool._make_request\u001b[1;34m(self, conn, method, url, timeout, chunked, **httplib_request_kw)\u001b[0m\n\u001b[0;32m    461\u001b[0m             httplib_response \u001b[38;5;241m=\u001b[39m conn\u001b[38;5;241m.\u001b[39mgetresponse()\n\u001b[0;32m    462\u001b[0m         \u001b[38;5;28;01mexcept\u001b[39;00m \u001b[38;5;167;01mBaseException\u001b[39;00m \u001b[38;5;28;01mas\u001b[39;00m e:\n\u001b[0;32m    463\u001b[0m             \u001b[38;5;66;03m# Remove the TypeError from the exception chain in\u001b[39;00m\n\u001b[0;32m    464\u001b[0m             \u001b[38;5;66;03m# Python 3 (including for exceptions like SystemExit).\u001b[39;00m\n\u001b[0;32m    465\u001b[0m             \u001b[38;5;66;03m# Otherwise it looks like a bug in the code.\u001b[39;00m\n\u001b[1;32m--> 466\u001b[0m             \u001b[43msix\u001b[49m\u001b[38;5;241;43m.\u001b[39;49m\u001b[43mraise_from\u001b[49m\u001b[43m(\u001b[49m\u001b[43me\u001b[49m\u001b[43m,\u001b[49m\u001b[43m \u001b[49m\u001b[38;5;28;43;01mNone\u001b[39;49;00m\u001b[43m)\u001b[49m\n\u001b[0;32m    467\u001b[0m \u001b[38;5;28;01mexcept\u001b[39;00m (SocketTimeout, BaseSSLError, SocketError) \u001b[38;5;28;01mas\u001b[39;00m e:\n\u001b[0;32m    468\u001b[0m     \u001b[38;5;28mself\u001b[39m\u001b[38;5;241m.\u001b[39m_raise_timeout(err\u001b[38;5;241m=\u001b[39me, url\u001b[38;5;241m=\u001b[39murl, timeout_value\u001b[38;5;241m=\u001b[39mread_timeout)\n",
      "File \u001b[1;32m<string>:3\u001b[0m, in \u001b[0;36mraise_from\u001b[1;34m(value, from_value)\u001b[0m\n",
      "File \u001b[1;32mc:\\Users\\ihousman\\AppData\\Local\\Programs\\Python\\Python311\\Lib\\site-packages\\urllib3\\connectionpool.py:461\u001b[0m, in \u001b[0;36mHTTPConnectionPool._make_request\u001b[1;34m(self, conn, method, url, timeout, chunked, **httplib_request_kw)\u001b[0m\n\u001b[0;32m    458\u001b[0m \u001b[38;5;28;01mexcept\u001b[39;00m \u001b[38;5;167;01mTypeError\u001b[39;00m:\n\u001b[0;32m    459\u001b[0m     \u001b[38;5;66;03m# Python 3\u001b[39;00m\n\u001b[0;32m    460\u001b[0m     \u001b[38;5;28;01mtry\u001b[39;00m:\n\u001b[1;32m--> 461\u001b[0m         httplib_response \u001b[38;5;241m=\u001b[39m \u001b[43mconn\u001b[49m\u001b[38;5;241;43m.\u001b[39;49m\u001b[43mgetresponse\u001b[49m\u001b[43m(\u001b[49m\u001b[43m)\u001b[49m\n\u001b[0;32m    462\u001b[0m     \u001b[38;5;28;01mexcept\u001b[39;00m \u001b[38;5;167;01mBaseException\u001b[39;00m \u001b[38;5;28;01mas\u001b[39;00m e:\n\u001b[0;32m    463\u001b[0m         \u001b[38;5;66;03m# Remove the TypeError from the exception chain in\u001b[39;00m\n\u001b[0;32m    464\u001b[0m         \u001b[38;5;66;03m# Python 3 (including for exceptions like SystemExit).\u001b[39;00m\n\u001b[0;32m    465\u001b[0m         \u001b[38;5;66;03m# Otherwise it looks like a bug in the code.\u001b[39;00m\n\u001b[0;32m    466\u001b[0m         six\u001b[38;5;241m.\u001b[39mraise_from(e, \u001b[38;5;28;01mNone\u001b[39;00m)\n",
      "File \u001b[1;32mc:\\Users\\ihousman\\AppData\\Local\\Programs\\Python\\Python311\\Lib\\http\\client.py:1378\u001b[0m, in \u001b[0;36mHTTPConnection.getresponse\u001b[1;34m(self)\u001b[0m\n\u001b[0;32m   1376\u001b[0m \u001b[38;5;28;01mtry\u001b[39;00m:\n\u001b[0;32m   1377\u001b[0m     \u001b[38;5;28;01mtry\u001b[39;00m:\n\u001b[1;32m-> 1378\u001b[0m         \u001b[43mresponse\u001b[49m\u001b[38;5;241;43m.\u001b[39;49m\u001b[43mbegin\u001b[49m\u001b[43m(\u001b[49m\u001b[43m)\u001b[49m\n\u001b[0;32m   1379\u001b[0m     \u001b[38;5;28;01mexcept\u001b[39;00m \u001b[38;5;167;01mConnectionError\u001b[39;00m:\n\u001b[0;32m   1380\u001b[0m         \u001b[38;5;28mself\u001b[39m\u001b[38;5;241m.\u001b[39mclose()\n",
      "File \u001b[1;32mc:\\Users\\ihousman\\AppData\\Local\\Programs\\Python\\Python311\\Lib\\http\\client.py:318\u001b[0m, in \u001b[0;36mHTTPResponse.begin\u001b[1;34m(self)\u001b[0m\n\u001b[0;32m    316\u001b[0m \u001b[38;5;66;03m# read until we get a non-100 response\u001b[39;00m\n\u001b[0;32m    317\u001b[0m \u001b[38;5;28;01mwhile\u001b[39;00m \u001b[38;5;28;01mTrue\u001b[39;00m:\n\u001b[1;32m--> 318\u001b[0m     version, status, reason \u001b[38;5;241m=\u001b[39m \u001b[38;5;28;43mself\u001b[39;49m\u001b[38;5;241;43m.\u001b[39;49m\u001b[43m_read_status\u001b[49m\u001b[43m(\u001b[49m\u001b[43m)\u001b[49m\n\u001b[0;32m    319\u001b[0m     \u001b[38;5;28;01mif\u001b[39;00m status \u001b[38;5;241m!=\u001b[39m CONTINUE:\n\u001b[0;32m    320\u001b[0m         \u001b[38;5;28;01mbreak\u001b[39;00m\n",
      "File \u001b[1;32mc:\\Users\\ihousman\\AppData\\Local\\Programs\\Python\\Python311\\Lib\\http\\client.py:279\u001b[0m, in \u001b[0;36mHTTPResponse._read_status\u001b[1;34m(self)\u001b[0m\n\u001b[0;32m    278\u001b[0m \u001b[38;5;28;01mdef\u001b[39;00m \u001b[38;5;21m_read_status\u001b[39m(\u001b[38;5;28mself\u001b[39m):\n\u001b[1;32m--> 279\u001b[0m     line \u001b[38;5;241m=\u001b[39m \u001b[38;5;28mstr\u001b[39m(\u001b[38;5;28mself\u001b[39m\u001b[38;5;241m.\u001b[39mfp\u001b[38;5;241m.\u001b[39mreadline(_MAXLINE \u001b[38;5;241m+\u001b[39m \u001b[38;5;241m1\u001b[39m), \u001b[38;5;124m\"\u001b[39m\u001b[38;5;124miso-8859-1\u001b[39m\u001b[38;5;124m\"\u001b[39m)\n\u001b[0;32m    280\u001b[0m     \u001b[38;5;28;01mif\u001b[39;00m \u001b[38;5;28mlen\u001b[39m(line) \u001b[38;5;241m>\u001b[39m _MAXLINE:\n\u001b[0;32m    281\u001b[0m         \u001b[38;5;28;01mraise\u001b[39;00m LineTooLong(\u001b[38;5;124m\"\u001b[39m\u001b[38;5;124mstatus line\u001b[39m\u001b[38;5;124m\"\u001b[39m)\n",
      "File \u001b[1;32mc:\\Users\\ihousman\\AppData\\Local\\Programs\\Python\\Python311\\Lib\\socket.py:706\u001b[0m, in \u001b[0;36mSocketIO.readinto\u001b[1;34m(self, b)\u001b[0m\n\u001b[0;32m    704\u001b[0m \u001b[38;5;28;01mwhile\u001b[39;00m \u001b[38;5;28;01mTrue\u001b[39;00m:\n\u001b[0;32m    705\u001b[0m     \u001b[38;5;28;01mtry\u001b[39;00m:\n\u001b[1;32m--> 706\u001b[0m         \u001b[38;5;28;01mreturn\u001b[39;00m \u001b[38;5;28;43mself\u001b[39;49m\u001b[38;5;241;43m.\u001b[39;49m\u001b[43m_sock\u001b[49m\u001b[38;5;241;43m.\u001b[39;49m\u001b[43mrecv_into\u001b[49m\u001b[43m(\u001b[49m\u001b[43mb\u001b[49m\u001b[43m)\u001b[49m\n\u001b[0;32m    707\u001b[0m     \u001b[38;5;28;01mexcept\u001b[39;00m timeout:\n\u001b[0;32m    708\u001b[0m         \u001b[38;5;28mself\u001b[39m\u001b[38;5;241m.\u001b[39m_timeout_occurred \u001b[38;5;241m=\u001b[39m \u001b[38;5;28;01mTrue\u001b[39;00m\n",
      "File \u001b[1;32mc:\\Users\\ihousman\\AppData\\Local\\Programs\\Python\\Python311\\Lib\\ssl.py:1278\u001b[0m, in \u001b[0;36mSSLSocket.recv_into\u001b[1;34m(self, buffer, nbytes, flags)\u001b[0m\n\u001b[0;32m   1274\u001b[0m     \u001b[38;5;28;01mif\u001b[39;00m flags \u001b[38;5;241m!=\u001b[39m \u001b[38;5;241m0\u001b[39m:\n\u001b[0;32m   1275\u001b[0m         \u001b[38;5;28;01mraise\u001b[39;00m \u001b[38;5;167;01mValueError\u001b[39;00m(\n\u001b[0;32m   1276\u001b[0m           \u001b[38;5;124m\"\u001b[39m\u001b[38;5;124mnon-zero flags not allowed in calls to recv_into() on \u001b[39m\u001b[38;5;132;01m%s\u001b[39;00m\u001b[38;5;124m\"\u001b[39m \u001b[38;5;241m%\u001b[39m\n\u001b[0;32m   1277\u001b[0m           \u001b[38;5;28mself\u001b[39m\u001b[38;5;241m.\u001b[39m\u001b[38;5;18m__class__\u001b[39m)\n\u001b[1;32m-> 1278\u001b[0m     \u001b[38;5;28;01mreturn\u001b[39;00m \u001b[38;5;28;43mself\u001b[39;49m\u001b[38;5;241;43m.\u001b[39;49m\u001b[43mread\u001b[49m\u001b[43m(\u001b[49m\u001b[43mnbytes\u001b[49m\u001b[43m,\u001b[49m\u001b[43m \u001b[49m\u001b[43mbuffer\u001b[49m\u001b[43m)\u001b[49m\n\u001b[0;32m   1279\u001b[0m \u001b[38;5;28;01melse\u001b[39;00m:\n\u001b[0;32m   1280\u001b[0m     \u001b[38;5;28;01mreturn\u001b[39;00m \u001b[38;5;28msuper\u001b[39m()\u001b[38;5;241m.\u001b[39mrecv_into(buffer, nbytes, flags)\n",
      "File \u001b[1;32mc:\\Users\\ihousman\\AppData\\Local\\Programs\\Python\\Python311\\Lib\\ssl.py:1134\u001b[0m, in \u001b[0;36mSSLSocket.read\u001b[1;34m(self, len, buffer)\u001b[0m\n\u001b[0;32m   1132\u001b[0m \u001b[38;5;28;01mtry\u001b[39;00m:\n\u001b[0;32m   1133\u001b[0m     \u001b[38;5;28;01mif\u001b[39;00m buffer \u001b[38;5;129;01mis\u001b[39;00m \u001b[38;5;129;01mnot\u001b[39;00m \u001b[38;5;28;01mNone\u001b[39;00m:\n\u001b[1;32m-> 1134\u001b[0m         \u001b[38;5;28;01mreturn\u001b[39;00m \u001b[38;5;28;43mself\u001b[39;49m\u001b[38;5;241;43m.\u001b[39;49m\u001b[43m_sslobj\u001b[49m\u001b[38;5;241;43m.\u001b[39;49m\u001b[43mread\u001b[49m\u001b[43m(\u001b[49m\u001b[38;5;28;43mlen\u001b[39;49m\u001b[43m,\u001b[49m\u001b[43m \u001b[49m\u001b[43mbuffer\u001b[49m\u001b[43m)\u001b[49m\n\u001b[0;32m   1135\u001b[0m     \u001b[38;5;28;01melse\u001b[39;00m:\n\u001b[0;32m   1136\u001b[0m         \u001b[38;5;28;01mreturn\u001b[39;00m \u001b[38;5;28mself\u001b[39m\u001b[38;5;241m.\u001b[39m_sslobj\u001b[38;5;241m.\u001b[39mread(\u001b[38;5;28mlen\u001b[39m)\n",
      "\u001b[1;31mKeyboardInterrupt\u001b[0m: "
     ]
    }
   ],
   "source": [
    "# Run get images, set parameters manually, and export\n",
    "lsAndTs = getImagesLib.getLandsatAndSentinel2HybridWrapper(\\\n",
    "  \n",
    "    # Study area and time                                                          \n",
    "    studyArea = studyArea,\n",
    "    startYear = 1984,\n",
    "    endYear = 2022,\n",
    "    startJulian = 152,\n",
    "    endJulian = 151,\n",
    "\n",
    "    # Moving window options\n",
    "    timebuffer =  0,# If multi-year moving window is needed, use timebuffer > 0 (e.g. timebuffer = 1 will result in a 3 year moving window)\n",
    "    weights =  [1],# To compliment the timebuffer, set weights for each year of the moving window. This enables the center year to have more weight (e.g. [1,3,1] would weight the center year if timebuffer = 1 3x over the buffer years)\n",
    "\n",
    "    # Composite methods and input imagery\n",
    "    compositingMethod = 'medoid', # Specify median or medoid. Medoid allows for storing only the spectral and ancillary bands without indices\n",
    "    toaOrSR = 'TOA', # It is advised to only use TOA when combining Landsat and Sentinel-2 since the Sentinel-2 SR data in GEE are terrain-corrected and Landsat are not\n",
    "    includeSLCOffL7 = True, # Whether to include Landsat 7 after May 2003. Scanline artifacts can be found in composites when True\n",
    "    defringeL5 = True, # Whether to get rid of fringe edges found mostly on Landsat 4 and 5\n",
    "    landsatCollectionVersion = 'C2', # To use Collection 1 or 2. Only use C1 if doing legacy work prior to 2022\n",
    "\n",
    "    # Cloud and shadow masking\n",
    "    # There will be a parameter for applying CloudScore+ to Sentinel-2 provided once it is available for all S2 data\n",
    "    applyQABand = False, # Whether to apply the default Sentinel-2 QA mask - this method is terrible and should not be used\n",
    "    applyCloudProbability = True,# Whether to apply S2Cloudless to Sentinel-2 data. This method works really well\n",
    "    applyShadowShift = False, # This method is largely deprecated\n",
    "    applyCloudScoreLandsat = True, # We use this since fMask struggles for cloud masking\n",
    "    applyCloudScoreSentinel2 = False, # We typically do not use cloudScore for Sentinel-2 since S2Cloudless works so well\n",
    "    applyTDOMLandsat = True, # We use TDOM for Landsat since the fMask cloud shadow masking method struggles a lot\n",
    "    applyTDOMSentinel2 = True, # This is the only easily available Sentinel-2 cloud shadow masking method (as of Aug 2023)\n",
    "    applyFmaskCloudMask = True,\n",
    "    applyFmaskCloudShadowMask = True,\n",
    "    applyFmaskSnowMask = False,\n",
    "    cloudHeights = ee.List.sequence(500,10000,500), # This compliments applyShadowShift and is largely deprecated,\n",
    "    cloudScoreThresh = 10,# The threshold applied to the cloudScore for Landsat and/or Sentinel-2\n",
    "    performCloudScoreOffset = False,# Set this to False in areas with limited data and/or limited bright cool surfaces\n",
    "    cloudScorePctl = 10, # If performCloudScoreOffset is set to True, this is the percentile of the cloudScores used to see if an area typically has a high cloudScore\n",
    "    zScoreThresh = -1, # The TDOM Z-score threshold for finding dark outliers\n",
    "    shadowSumThresh = 0.35,# The sum of the shadowSumBands has to be below this to be considered dark\n",
    "    contractPixels = 1.5,# Inward buffer pixel radius to get rid of salt and pepper\n",
    "    dilatePixels = 3.5, # Outwoard buffer pixel radius to dilate the cloud shadow mask by\n",
    "    shadowSumBands = ['nir','swir1'], # Bands to use for TDOM to find dark outliers\n",
    "    cloudProbThresh = 40, # The S2Cloudless cloud probability threshold\n",
    "\n",
    "    # Image processing\n",
    "    landsatResampleMethod = 'bicubic',\n",
    "    sentinel2ResampleMethod = 'bicubic',\n",
    "    convertToDailyMosaics = True, # Important if the composite observation count is important since Sentinel-2 has overlap with its tiled outputs\n",
    "    runChastainHarmonization = False, # Set to True in order to perform regression harmonization between Landsat and Sentinel 2\n",
    "    correctIllumination = False, # Method for illuminating hill shadows. This is largely deprecated and not used\n",
    "    correctScale = 250,\n",
    "\n",
    "    # Export parameters\n",
    "    exportComposites = True,# Whether to export resulting composites\n",
    "    outputName = 'Landsat-Sentinel2-Hybrid',\n",
    "    exportPathRoot = export_composite_collection,\n",
    "    crs = getImagesLib.common_projections['NLCD_CONUS']['crs'],\n",
    "    transform = getImagesLib.common_projections['NLCD_CONUS']['transform'],\n",
    "    scale = None,\n",
    "    overwrite = False,# Whether to overwrite existing composites\n",
    "\n",
    "    # Precomputed TDOM and cloudscore stats\n",
    "    preComputedLandsatCloudScoreOffset = None,\n",
    "    preComputedLandsatTDOMIRMean = landsat_tdom_stats.select(['.*_mean']),\n",
    "    preComputedLandsatTDOMIRStdDev = landsat_tdom_stats.select(['.*_stdDev']),\n",
    "    preComputedSentinel2CloudScoreOffset = None,\n",
    "    preComputedSentinel2TDOMIRMean = s2_tdom_stats.select(['.*_mean']),\n",
    "    preComputedSentinel2TDOMIRStdDev = s2_tdom_stats.select(['.*_stdDev'])\n",
    "                                                           )\n",
    "\n",
    "\n",
    "print('Done')"
   ]
  },
  {
   "cell_type": "markdown",
   "id": "40958913",
   "metadata": {},
   "source": [
    "### Manage export tasks\n",
    "These export tasks can take anywhere from a few hours to a few days to run, depending on the size of your study area. It can be helpful to manage and observe the tasks after you've set them running. \n",
    "\n",
    "Below are some code snippets to use to manage and inspect the export tasks.\n",
    "\n",
    "Link to documentation about these code snippets."
   ]
  },
  {
   "cell_type": "code",
   "execution_count": 21,
   "id": "6df6dfcb",
   "metadata": {},
   "outputs": [
    {
     "name": "stdout",
     "output_type": "stream",
     "text": [
      "0 tasks ready 2024-11-04 12:33:42\n",
      "0 tasks running 2024-11-04 12:33:42\n",
      "Running names:\n",
      "\n",
      "\n",
      "Done\n"
     ]
    }
   ],
   "source": [
    "# If you'd like to track the tasks, use this:\n",
    "tml.trackTasks2()\n",
    "\n",
    "# Danger!!! - Only use these methods if needed - they can stop and delete work\n",
    "# If you want to cancel all running tasks, you can use this function\n",
    "# tml.batchCancel()\n",
    "\n",
    "# If you want to empty the collection of all images\n",
    "# aml.batchDelete(export_composite_collection, type = 'imageCollection')\n",
    "\n",
    "print('Done')"
   ]
  },
  {
   "cell_type": "markdown",
   "id": "7384c4f0",
   "metadata": {},
   "source": [
    "### View composites as they are completed\n",
    "After your composites have been exported, you can view the composites in your folder. "
   ]
  },
  {
   "cell_type": "code",
   "execution_count": 22,
   "id": "fe05f2f4",
   "metadata": {
    "colab": {
     "base_uri": "https://localhost:8080/",
     "height": 685
    },
    "executionInfo": {
     "elapsed": 614,
     "status": "ok",
     "timestamp": 1690298551890,
     "user": {
      "displayName": "Ian Housman",
      "userId": "00382093583884444463"
     },
     "user_tz": 360
    },
    "id": "9YX8XITxpI4Q",
    "outputId": "61bfa47b-9ec2-4c94-e5ab-978a4eff2c42"
   },
   "outputs": [
    {
     "name": "stdout",
     "output_type": "stream",
     "text": [
      "Done\n"
     ]
    }
   ],
   "source": [
    "# View composites as they are completed\n",
    "composites = ee.ImageCollection(export_composite_collection)\n",
    "\n",
    "# If your composites have not yet exported, you can use the following line of code to inspect pre-computed composites instead\n",
    "composites = ee.ImageCollection(f'{pre_baked_path_root}/lcms-training_module-2_composites')\n",
    "\n",
    "print('Done')"
   ]
  },
  {
   "cell_type": "markdown",
   "id": "3d40a4c7",
   "metadata": {},
   "source": [
    "### Inspect the outputs\n",
    "\n",
    "Explore the composites and some attributes that describe the quality of the composites.\n",
    "\n",
    "Notice how the number of observations increases and the predominant sensor changes over time"
   ]
  },
  {
   "cell_type": "code",
   "execution_count": 23,
   "id": "9efa279b",
   "metadata": {
    "colab": {
     "base_uri": "https://localhost:8080/",
     "height": 685
    },
    "executionInfo": {
     "elapsed": 614,
     "status": "ok",
     "timestamp": 1690298551890,
     "user": {
      "displayName": "Ian Housman",
      "userId": "00382093583884444463"
     },
     "user_tz": 360
    },
    "id": "9YX8XITxpI4Q",
    "outputId": "61bfa47b-9ec2-4c94-e5ab-978a4eff2c42"
   },
   "outputs": [
    {
     "name": "stdout",
     "output_type": "stream",
     "text": [
      "Adding layer: Composites\n",
      "Adding layer: Sensor\n",
      "Adding layer: Composite Observation Counts\n",
      "Starting webmap\n",
      "Using default refresh token for geeView\n",
      "Local web server at: http://localhost:1232/geeView/ already serving.\n",
      "cwd z:\\Projects\\06_LCMS_4_NFS\\Scripts\\lcms-training\n",
      "geeView URL: http://localhost:1232/geeView/?projectID=lcms-292214&accessToken=ya29.a0AeDClZDVk5QEJ6OkqOSmLopoMH9uzrtyG14-RmucRGJqhF6D79K9SKp7Jnegmc-qBI0vgX52Fd2R-AqjcbsckIsgMimtnKV-f36R-I-B35NCLuFEOC_wc--4TietQjhgstP8kMB467E5pQjSAZhVTsqU81sXLCNCHhrH10KsXnkaCgYKAQcSARESFQHGX2Miru2zfLX2F7gwxbyAadzgWg0178\n"
     ]
    },
    {
     "data": {
      "text/html": [
       "\n",
       "        <iframe\n",
       "            width=\"100%\"\n",
       "            height=\"525px\"\n",
       "            src=\"http://localhost:1232/geeView/?projectID=lcms-292214&accessToken=ya29.a0AeDClZDVk5QEJ6OkqOSmLopoMH9uzrtyG14-RmucRGJqhF6D79K9SKp7Jnegmc-qBI0vgX52Fd2R-AqjcbsckIsgMimtnKV-f36R-I-B35NCLuFEOC_wc--4TietQjhgstP8kMB467E5pQjSAZhVTsqU81sXLCNCHhrH10KsXnkaCgYKAQcSARESFQHGX2Miru2zfLX2F7gwxbyAadzgWg0178\"\n",
       "            frameborder=\"0\"\n",
       "            allowfullscreen\n",
       "            \n",
       "        ></iframe>\n",
       "        "
      ],
      "text/plain": [
       "<IPython.lib.display.IFrame at 0x24b017cf790>"
      ]
     },
     "metadata": {},
     "output_type": "display_data"
    }
   ],
   "source": [
    "# clear the map\n",
    "Map.clearMap()\n",
    "\n",
    "# First let's explore the composites and some attributes that can help understand how well the composites turned out\n",
    "Map.addTimeLapse(composites, getImagesLib.vizParamsFalse10k,'Composites')\n",
    "\n",
    "# By looking at the Sensor that is used, you can see \n",
    "# with the introduction of Landsat 8 in 2013 and then Sentinel 2 in 2016-2017, \n",
    "# composites become much better quality\n",
    "Map.addTimeLapse(composites.select('sensor'),{'min':4,'max':22,'palette':'088,808','classLegendDict':{'Landsat (Landsat 5 = 5, Landsat 7 = 7, etc...)':'088','Sentinel2 (Sentinel 2A = 21, Sentinel 2B = 22, etc....)':'808'},'queryDict':{4:'L4',5:'L5',7:'L7',8:'L8',9:'L9',21:'S2a',22:'S2b'}},'Sensor')\n",
    "Map.addTimeLapse(composites.select('compositeObsCount'),{'min':3,'max':10,'palette':'D0D,0D0'},'Composite Observation Counts')\n",
    "Map.turnOnInspector()\n",
    "Map.view()\n",
    "# Now that we have exported composites, we will use them in the LandTrendr temporal segmentation algorithm"
   ]
  },
  {
   "cell_type": "markdown",
   "id": "b001ba37",
   "metadata": {},
   "source": [
    "## Lab 2 Challenge: \n",
    "\n",
    "**For Qwiklabs users**, this will be assessed for completion in the \"Check My Progress\" portion at the end of Lab 2.\n",
    "\n",
    "1. Create a cloud-free medoid composite time series from 2020-2023 for days 1-150 using the methods we used in this module.\n",
    "\n",
    "    * Use the following as your study area:\n",
    "\n",
    "    ```python\n",
    "          ee.Geometry.Polygon(\n",
    "                [[[-65.91075380517458, 18.265940533464065],\n",
    "                  [-65.91075380517458, 18.236922027462644],\n",
    "                  [-65.87350328637575, 18.236922027462644],\n",
    "                  [-65.87350328637575, 18.265940533464065]]], None, False)\n",
    "      ```\n",
    "      <br>\n",
    "   \n",
    "   * Select the following bands:`[\"green\",\"red\",\"nir\",\"swir1\",\"swir2\",\"NBR\"]`\n",
    "\n",
    "<br>\n",
    "\n",
    "2. Extract the values from the three annual composites for a given point location.\n",
    "\n",
    "    * Use a point with these coordinates: `([-65.88860948754763, 18.249964652264815])`\n",
    "            \n",
    "    * Use the following function: `g2p.extractPointValuesToDataFrame`\n",
    "    <br><br>\n",
    "    Example:\n",
    "    ```python\n",
    "          extracted_values = g2p.extractPointValuesToDataFrame(\n",
    "          composite,\n",
    "          ee.Geometry.Point([-65.88860948754763, 18.249964652264815]),\n",
    "          scale=30,\n",
    "          crs = \"EPSG:5070\", \n",
    "          transform = None,\n",
    "          reducer = ee.Reducer.first(),\n",
    "          includeNonSystemProperties = False,\n",
    "          includeSystemProperties=True\n",
    "          )\n",
    "    ```\n",
    "<br>    \n",
    "\n",
    "3. Save extracted values to a csv file.\n",
    "\n",
    "   * Save csv to this path: `\"/tmp/challenge/module_2_challenge_answer.csv\"`\n",
    "     * **Note: The path to the csv must exactly match the path above.** \n",
    "    <br>\n",
    "    \n",
    "    * Create the `\"/tmp/challenge\"` folder if it does not already exist.\n",
    "      \n",
    "        Example:\n",
    "    ```python\n",
    "        out_csv = \"/tmp/challenge/module_2_challenge_answer.csv\"\n",
    "        if not os.path.exists(os.path.dirname(out_csv)):os.makedirs(os.path.dirname(out_csv))\n",
    "    ```\n",
    "<br>\n",
    "\n",
    "4.  Check that the output csv exists.\n",
    "    \n",
    "    * Example: \n",
    "    ```python\n",
    "        print(os.path.exists(out_csv))\n",
    "    ```\n",
    "<br>"
   ]
  },
  {
   "cell_type": "code",
   "execution_count": 9,
   "id": "00d87fa7",
   "metadata": {},
   "outputs": [],
   "source": [
    "# Put your challenge code here\n"
   ]
  },
  {
   "cell_type": "markdown",
   "id": "e5fc7aca",
   "metadata": {},
   "source": [
    "## Done with Lab 2\n",
    "\n",
    "Now that we have exported composites, we will use them in the LandTrendr temporal segmentation algorithm in module 3. "
   ]
  }
 ],
 "metadata": {
  "colab": {
   "provenance": []
  },
  "environment": {
   "kernel": "python3",
   "name": "tf2-gpu.2-11.m111",
   "type": "gcloud",
   "uri": "gcr.io/deeplearning-platform-release/tf2-gpu.2-11:m111"
  },
  "kernelspec": {
   "display_name": "Python 3",
   "language": "python",
   "name": "python3"
  },
  "language_info": {
   "codemirror_mode": {
    "name": "ipython",
    "version": 3
   },
   "file_extension": ".py",
   "mimetype": "text/x-python",
   "name": "python",
   "nbconvert_exporter": "python",
   "pygments_lexer": "ipython3",
   "version": "3.11.4"
  }
 },
 "nbformat": 4,
 "nbformat_minor": 5
}
