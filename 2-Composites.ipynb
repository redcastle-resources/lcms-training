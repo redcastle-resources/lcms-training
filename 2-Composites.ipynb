{
 "cells": [
  {
   "cell_type": "code",
   "execution_count": 6,
   "id": "ce3c6688",
   "metadata": {
    "colab": {
     "base_uri": "https://localhost:8080/"
    },
    "executionInfo": {
     "elapsed": 54452,
     "status": "ok",
     "timestamp": 1690298072312,
     "user": {
      "displayName": "Ian Housman",
      "userId": "00382093583884444463"
     },
     "user_tz": 360
    },
    "id": "ce3c6688",
    "outputId": "060bebcf-6f29-4b32-b739-93ea00af97ff"
   },
   "outputs": [],
   "source": [
    "#Example of how to get Landsat data using the getImagesLib and view outputs using the Python visualization tools\n",
    "#Acquires Landsat data and then adds them to the viewer\n",
    "####################################################################################################\n",
    "#Module imports\n",
    "# !python -m pip install geeViz --upgrade\n",
    "try:\n",
    "    import geeViz.getImagesLib as getImagesLib\n",
    "except:\n",
    "    !python -m pip install geeViz\n",
    "    import geeViz.getImagesLib as getImagesLib\n",
    "\n",
    "import geeViz.assetManagerLib as aml\n",
    "import geeViz.taskManagerLib as tml\n",
    "# from IPython.display import IFrame,display, HTML\n",
    "ee = getImagesLib.ee\n",
    "Map = getImagesLib.Map\n",
    "Map.port = 1234\n",
    "\n",
    "# Enter proxy url (see in url bar- e.g. https://someCode-dot-someRegion.notebooks.googleusercontent.com/)\n",
    "# If left as None, will prompt user at first Map.view() call \n",
    "Map.proxy_url = 'https://3a96040caeb4cbe7-dot-us-west3.notebooks.googleusercontent.com/'"
   ]
  },
  {
   "cell_type": "code",
   "execution_count": 7,
   "id": "d4974e71",
   "metadata": {
    "colab": {
     "base_uri": "https://localhost:8080/",
     "height": 1000
    },
    "executionInfo": {
     "elapsed": 3258,
     "status": "ok",
     "timestamp": 1690298168455,
     "user": {
      "displayName": "Ian Housman",
      "userId": "00382093583884444463"
     },
     "user_tz": 360
    },
    "id": "d4974e71",
    "outputId": "c5b14c5b-c86a-497c-f764-03b8871ef97a"
   },
   "outputs": [
    {
     "name": "stdout",
     "output_type": "stream",
     "text": [
      "Get Processed Landsat and Sentinel2 Scenes: \n",
      "Start date: Jun 02 2009 , End date: May 31 2012\n",
      "startYear :  2009\n",
      "endYear :  2011\n",
      "startJulian :  153\n",
      "endJulian :  152\n",
      "toaOrSR :  TOA\n",
      "includeSLCOffL7 :  False\n",
      "defringeL5 :  False\n",
      "applyQABand :  False\n",
      "applyCloudProbability :  True\n",
      "applyShadowShift :  False\n",
      "applyCloudScoreLandsat :  False\n",
      "applyCloudScoreSentinel2 :  False\n",
      "applyTDOMLandsat :  True\n",
      "applyTDOMSentinel2 :  True\n",
      "applyFmaskCloudMask :  True\n",
      "applyFmaskCloudShadowMask :  True\n",
      "applyFmaskSnowMask :  False\n",
      "cloudScoreThresh :  20\n",
      "performCloudScoreOffset :  True\n",
      "cloudScorePctl :  10\n",
      "zScoreThresh :  -1\n",
      "shadowSumBands :  ['nir', 'swir1']\n",
      "landsatResampleMethod :  near\n",
      "sentinel2ResampleMethod :  aggregate\n",
      "convertToDailyMosaics :  True\n",
      "runChastainHarmonization :  True\n",
      "correctIllumination :  False\n",
      "correctScale :  250\n",
      "preComputedLandsatCloudScoreOffset :  None\n",
      "preComputedLandsatTDOMIRMean :  None\n",
      "preComputedLandsatTDOMIRStdDev :  None\n",
      "preComputedSentinel2CloudScoreOffset :  None\n",
      "preComputedSentinel2TDOMIRMean :  None\n",
      "preComputedSentinel2TDOMIRStdDev :  None\n",
      "cloudProbThresh :  40\n",
      "landsatCollectionVersion :  C2\n",
      "origin :  Landsat-Sentinel2-Hybrid\n",
      "wrapOffset :  365\n",
      "Get Processed Landsat: \n",
      "Only including SLC On Landsat 7\n",
      "Applying Fmask Cloud Mask\n",
      "Applying TDOM Shadow Mask\n",
      "Computing irMean for TDOM\n",
      "Computing irStdDev for TDOM\n",
      "Applying Fmask Shadow Mask\n",
      "Get Processed Sentinel2: \n",
      "Start date: Jun 02 2009 , End date: May 31 2012\n",
      "startYear :  2009\n",
      "endYear :  2011\n",
      "startJulian :  153\n",
      "endJulian :  152\n",
      "applyQABand :  False\n",
      "applyCloudScore :  False\n",
      "applyShadowShift :  False\n",
      "applyTDOM :  True\n",
      "performCloudScoreOffset :  True\n",
      "cloudScorePctl :  10\n",
      "zScoreThresh :  -1\n",
      "shadowSumBands :  ['nir', 'swir1']\n",
      "resampleMethod :  aggregate\n",
      "convertToDailyMosaics :  True\n",
      "applyCloudProbability :  True\n",
      "preComputedCloudScoreOffset :  None\n",
      "preComputedTDOMIRMean :  None\n",
      "preComputedTDOMIRStdDev :  None\n",
      "origin :  Sentinel2\n",
      "wrapOffset :  365\n",
      "cloudProbThresh :  40\n",
      "cloudScoreThresh :  20\n",
      "toaOrSR :  TOA\n",
      "Using S2 Collection: COPERNICUS/S2_HARMONIZED\n",
      "Joining pre-computed cloud probabilities from: COPERNICUS/S2_CLOUD_PROBABILITY\n",
      "Setting to aggregate instead of resample \n",
      "Converting S2 data to daily mosaics\n",
      "Apply Cloud Probability\n",
      "Applying TDOM\n",
      "Computing irMean for TDOM\n",
      "Computing irStdDev for TDOM\n",
      "Running Chastain et al 2019 harmonization\n",
      "Adding layer: Default Params 153-152\n",
      "Starting webmap\n",
      "Using default refresh token for geeView: /home/jupyter/.config/earthengine/credentials\n",
      "Local web server at: http://localhost:1234/geeView/ already serving.\n",
      "cwd /home/jupyter\n",
      "Workbench Proxy URL: https://3a96040caeb4cbe7-dot-us-west3.notebooks.googleusercontent.com/proxy/1234/geeView/?accessToken=None\n"
     ]
    },
    {
     "data": {
      "text/html": [
       "\n",
       "        <iframe\n",
       "            width=\"100%\"\n",
       "            height=\"525px\"\n",
       "            src=\"https://3a96040caeb4cbe7-dot-us-west3.notebooks.googleusercontent.com/proxy/1234/geeView/?accessToken=None\"\n",
       "            frameborder=\"0\"\n",
       "            allowfullscreen\n",
       "            \n",
       "        ></iframe>\n",
       "        "
      ],
      "text/plain": [
       "<IPython.lib.display.IFrame at 0x7f828a66a080>"
      ]
     },
     "metadata": {},
     "output_type": "display_data"
    },
    {
     "name": "stderr",
     "output_type": "stream",
     "text": [
      "127.0.0.1 - - [28/Jul/2023 17:34:01] \"GET /geeView/js/runGeeViz.js HTTP/1.1\" 200 -\n",
      "127.0.0.1 - - [28/Jul/2023 17:34:10] \"GET /geeView/images/cumulative_icon.png HTTP/1.1\" 200 -\n"
     ]
    }
   ],
   "source": [
    "#This example will use all default parameters to demonstrate how to use the basic composite functionality\n",
    "\n",
    "#First clear the map in case it has been populated with layers/commands earlier\n",
    "Map.clearMap()\n",
    "#Define user parameters:\n",
    "\n",
    "# Specify study area: Study area\n",
    "# Can be a featureCollection, feature, or geometry\n",
    "studyArea = ee.FeatureCollection('projects/lcms-292214/assets/R8/PR_USVI/Ancillary/prusvi_boundary_buff2mile').geometry().bounds()#testAreas['CA']\n",
    "studyArea = ee.Geometry.Polygon(\n",
    "        [[[-66.29465453845745, 18.491553939984392],\n",
    "          [-66.29465453845745, 18.144770192006572],\n",
    "          [-65.58054321033245, 18.144770192006572],\n",
    "          [-65.58054321033245, 18.491553939984392]]], None, False)\n",
    "# Update the startJulian and endJulian variables to indicate your seasonal\n",
    "# constraints. This supports wrapping for tropics and southern hemisphere.\n",
    "# If using wrapping and the majority of the days occur in the second year, the system:time_start will default\n",
    "# to June 1 of that year.Otherwise, all system:time_starts will default to June 1 of the given year\n",
    "# startJulian: Starting Julian date\n",
    "# endJulian: Ending Julian date\n",
    "startJulian = 153\n",
    "endJulian = 152\n",
    "\n",
    "# Specify start and end years for all analyses\n",
    "# More than a 3 year span should be provided for time series methods to work\n",
    "# well. If providing pre-computed stats for cloudScore and TDOM, this does not\n",
    "# matter\n",
    "startYear = 2009\n",
    "endYear = 2011\n",
    "\n",
    "#Call on master wrapper function to get Landat scenes and composites\n",
    "lsAndTs = getImagesLib.getLandsatAndSentinel2HybridWrapper(studyArea,startYear,endYear,startJulian,endJulian)\n",
    "\n",
    "\n",
    "#Separate into scenes and composites for subsequent analysis\n",
    "processedScenes = lsAndTs['processedScenes']\n",
    "processedComposites = lsAndTs['processedComposites']\n",
    "\n",
    "\n",
    "\n",
    "Map.clearMap()\n",
    "# Map.addLayer(processedComposites.select(['NDVI','NBR']),{'addToLegend':'false'},'Time Series (NBR and NDVI)',False)\n",
    "# for year in range(startYear,endYear + 1 ):\n",
    "    #  t = processedComposites.filter(ee.Filter.calendarRange(year,year,'year')).mosaic()\n",
    "Map.addTimeLapse(processedComposites,getImagesLib.vizParamsFalse,'Default Params {}-{}'.format(startJulian,endJulian),'True')\n",
    "\n",
    "Map.centerObject(ee.Geometry.Polygon(\n",
    "        [[[-65.8337045819611, 18.329538797654042],\n",
    "          [-65.8337045819611, 18.235653085671174],\n",
    "          [-65.70461522649235, 18.235653085671174],\n",
    "          [-65.70461522649235, 18.329538797654042]]], None, False))\n",
    "Map.turnOnInspector()\n",
    "Map.view()\n",
    "\n"
   ]
  },
  {
   "cell_type": "code",
   "execution_count": null,
   "id": "48dc6ee9",
   "metadata": {
    "colab": {
     "base_uri": "https://localhost:8080/"
    },
    "executionInfo": {
     "elapsed": 1505,
     "status": "ok",
     "timestamp": 1690298215913,
     "user": {
      "displayName": "Ian Housman",
      "userId": "00382093583884444463"
     },
     "user_tz": 360
    },
    "id": "48dc6ee9",
    "outputId": "4a71a638-a9dd-45c8-b0e5-8d9ddb253bf7"
   },
   "outputs": [],
   "source": [
    "#It is clear the default parameters do not work very well in this area\n",
    "#There are missing data and cloud artifacts\n",
    "#You can access the parameters that were used through the properties of the returned collection\n",
    "print(processedComposites.toDictionary().getInfo())\n",
    "print(processedScenes.toDictionary().getInfo())\n",
    "\n"
   ]
  },
  {
   "cell_type": "code",
   "execution_count": 3,
   "id": "704e7fb1",
   "metadata": {
    "colab": {
     "base_uri": "https://localhost:8080/",
     "height": 1000
    },
    "executionInfo": {
     "elapsed": 4407,
     "status": "ok",
     "timestamp": 1690298237041,
     "user": {
      "displayName": "Ian Housman",
      "userId": "00382093583884444463"
     },
     "user_tz": 360
    },
    "id": "704e7fb1",
    "outputId": "1b0f740a-eb14-4911-e2b4-dd596beccc72"
   },
   "outputs": [
    {
     "name": "stdout",
     "output_type": "stream",
     "text": [
      "Get Processed Landsat and Sentinel2 Scenes: \n",
      "Start date: Jun 02 2009 , End date: May 31 2012\n",
      "startYear :  2009\n",
      "endYear :  2011\n",
      "startJulian :  153\n",
      "endJulian :  152\n",
      "toaOrSR :  TOA\n",
      "includeSLCOffL7 :  True\n",
      "defringeL5 :  False\n",
      "applyQABand :  False\n",
      "applyCloudProbability :  True\n",
      "applyShadowShift :  False\n",
      "applyCloudScoreLandsat :  False\n",
      "applyCloudScoreSentinel2 :  False\n",
      "applyTDOMLandsat :  True\n",
      "applyTDOMSentinel2 :  True\n",
      "applyFmaskCloudMask :  True\n",
      "applyFmaskCloudShadowMask :  True\n",
      "applyFmaskSnowMask :  False\n",
      "cloudScoreThresh :  20\n",
      "performCloudScoreOffset :  True\n",
      "cloudScorePctl :  10\n",
      "zScoreThresh :  -1\n",
      "shadowSumBands :  ['nir', 'swir1']\n",
      "landsatResampleMethod :  near\n",
      "sentinel2ResampleMethod :  aggregate\n",
      "convertToDailyMosaics :  True\n",
      "runChastainHarmonization :  True\n",
      "correctIllumination :  False\n",
      "correctScale :  250\n",
      "preComputedLandsatCloudScoreOffset :  None\n",
      "preComputedLandsatTDOMIRMean :  None\n",
      "preComputedLandsatTDOMIRStdDev :  None\n",
      "preComputedSentinel2CloudScoreOffset :  None\n",
      "preComputedSentinel2TDOMIRMean :  None\n",
      "preComputedSentinel2TDOMIRStdDev :  None\n",
      "cloudProbThresh :  40\n",
      "landsatCollectionVersion :  C2\n",
      "origin :  Landsat-Sentinel2-Hybrid\n",
      "wrapOffset :  365\n",
      "Get Processed Landsat: \n",
      "Including All Landsat 7\n",
      "Applying Fmask Cloud Mask\n",
      "Applying TDOM Shadow Mask\n",
      "Computing irMean for TDOM\n",
      "Computing irStdDev for TDOM\n",
      "Applying Fmask Shadow Mask\n",
      "Get Processed Sentinel2: \n",
      "Start date: Jun 02 2009 , End date: May 31 2012\n",
      "startYear :  2009\n",
      "endYear :  2011\n",
      "startJulian :  153\n",
      "endJulian :  152\n",
      "applyQABand :  False\n",
      "applyCloudScore :  False\n",
      "applyShadowShift :  False\n",
      "applyTDOM :  True\n",
      "performCloudScoreOffset :  True\n",
      "cloudScorePctl :  10\n",
      "zScoreThresh :  -1\n",
      "shadowSumBands :  ['nir', 'swir1']\n",
      "resampleMethod :  aggregate\n",
      "convertToDailyMosaics :  True\n",
      "applyCloudProbability :  True\n",
      "preComputedCloudScoreOffset :  None\n",
      "preComputedTDOMIRMean :  None\n",
      "preComputedTDOMIRStdDev :  None\n",
      "origin :  Sentinel2\n",
      "wrapOffset :  365\n",
      "cloudProbThresh :  40\n",
      "cloudScoreThresh :  20\n",
      "toaOrSR :  TOA\n",
      "Using S2 Collection: COPERNICUS/S2_HARMONIZED\n",
      "Joining pre-computed cloud probabilities from: COPERNICUS/S2_CLOUD_PROBABILITY\n",
      "Setting to aggregate instead of resample \n",
      "Converting S2 data to daily mosaics\n",
      "Apply Cloud Probability\n",
      "Applying TDOM\n",
      "Computing irMean for TDOM\n",
      "Computing irStdDev for TDOM\n",
      "Running Chastain et al 2019 harmonization\n",
      "Adding layer: L7 added 153-152\n",
      "Starting webmap\n",
      "Using default refresh token for geeView: /home/jupyter/.config/earthengine/credentials\n",
      "Local web server at: http://localhost:1234/geeView/ already serving.\n",
      "cwd /home/jupyter\n",
      "Workbench Proxy URL: https://3a96040caeb4cbe7-dot-us-west3.notebooks.googleusercontent.com/proxy/1234/geeView/?accessToken=None\n"
     ]
    },
    {
     "data": {
      "text/html": [
       "\n",
       "        <iframe\n",
       "            width=\"100%\"\n",
       "            height=\"525px\"\n",
       "            src=\"https://3a96040caeb4cbe7-dot-us-west3.notebooks.googleusercontent.com/proxy/1234/geeView/?accessToken=None\"\n",
       "            frameborder=\"0\"\n",
       "            allowfullscreen\n",
       "            \n",
       "        ></iframe>\n",
       "        "
      ],
      "text/plain": [
       "<IPython.lib.display.IFrame at 0x7f82a56bbfa0>"
      ]
     },
     "metadata": {},
     "output_type": "display_data"
    },
    {
     "name": "stderr",
     "output_type": "stream",
     "text": [
      "127.0.0.1 - - [28/Jul/2023 17:30:53] \"GET /geeView/js/runGeeViz.js HTTP/1.1\" 200 -\n",
      "127.0.0.1 - - [28/Jul/2023 17:30:58] \"GET /geeView/images/cumulative_icon.png HTTP/1.1\" 200 -\n"
     ]
    }
   ],
   "source": [
    "#Since there are not that many images available in this area for these years, let's try adding Landsat 7\n",
    "includeSLCOffL7 = True\n",
    "#Call on master wrapper function to get Landat scenes and composites\n",
    "lsAndTs = getImagesLib.getLandsatAndSentinel2HybridWrapper(studyArea,startYear,endYear,startJulian,endJulian,includeSLCOffL7=includeSLCOffL7)\n",
    "\n",
    "\n",
    "#Separate into scenes and composites for subsequent analysis\n",
    "processedScenes = lsAndTs['processedScenes']\n",
    "processedComposites = lsAndTs['processedComposites']\n",
    "\n",
    "#Turn off layers from previous iteration\n",
    "Map.turnOffAllLayers()\n",
    "\n",
    "# Map.addLayer(processedComposites.select(['NDVI','NBR']),{'addToLegend':'false'},'Time Series (NBR and NDVI)',False)\n",
    "# for year in range(startYear,endYear + 1 ):\n",
    "    #  t = processedComposites.filter(ee.Filter.calendarRange(year,year,'year')).mosaic()\n",
    "Map.addTimeLapse(processedComposites,getImagesLib.vizParamsFalse,'L7 added {}-{}'.format(startJulian,endJulian),True)\n",
    "\n",
    "\n",
    "Map.view()\n",
    "\n",
    "#You'll notice this helps fill in the holes, but introduces many cloud-related artifacts"
   ]
  },
  {
   "cell_type": "code",
   "execution_count": null,
   "id": "6a648400",
   "metadata": {
    "colab": {
     "base_uri": "https://localhost:8080/",
     "height": 1000
    },
    "executionInfo": {
     "elapsed": 2691,
     "status": "ok",
     "timestamp": 1690298306083,
     "user": {
      "displayName": "Ian Housman",
      "userId": "00382093583884444463"
     },
     "user_tz": 360
    },
    "id": "6a648400",
    "outputId": "d8befeed-df28-43d3-bffa-24f0e9315887"
   },
   "outputs": [],
   "source": [
    "#Let's try to improve the cloud masking. Fmask is used by default, but misses some clouds\n",
    "#We'll try the adding in the cloudScore method\n",
    "applyCloudScore = True\n",
    "\n",
    "#Call on master wrapper function to get Landat scenes and composites\n",
    "lsAndTs = getImagesLib.getLandsatAndSentinel2HybridWrapper(studyArea,startYear,endYear,startJulian,endJulian,includeSLCOffL7=includeSLCOffL7,applyCloudScoreLandsat=applyCloudScore)\n",
    "\n",
    "\n",
    "#Separate into scenes and composites for subsequent analysis\n",
    "processedScenes = lsAndTs['processedScenes']\n",
    "processedComposites = lsAndTs['processedComposites']\n",
    "\n",
    "#Turn off layers from previous iteration\n",
    "Map.turnOffAllLayers()\n",
    "\n",
    "\n",
    "Map.addTimeLapse(processedComposites,getImagesLib.vizParamsFalse,'L7 and CloudScore added {}-{}'.format(startJulian,endJulian),True)\n",
    "\n",
    "\n",
    "Map.view()\n",
    "\n",
    "#You'll notice this cleans up the cloud masking a lot"
   ]
  },
  {
   "cell_type": "code",
   "execution_count": null,
   "id": "262c5658",
   "metadata": {
    "colab": {
     "base_uri": "https://localhost:8080/",
     "height": 1000
    },
    "executionInfo": {
     "elapsed": 2608,
     "status": "ok",
     "timestamp": 1690298428991,
     "user": {
      "displayName": "Ian Housman",
      "userId": "00382093583884444463"
     },
     "user_tz": 360
    },
    "id": "262c5658",
    "outputId": "862b6a1a-52af-4d2e-e248-f1392bf6008a"
   },
   "outputs": [],
   "source": [
    "#You'll still notice there are some dark areas likely due to cloud shadow masking omission\n",
    "#Fmasks's cloud shadow mask misses a lot typically. A temporal outlier method called the\n",
    "#Temporal Dark Outlier Mask (TDOM) works well with masking cloud shadows\n",
    "\n",
    "#We'll try the cloudScore method\n",
    "applyTDOM = True\n",
    "\n",
    "#Call on master wrapper function to get Landat scenes and composites\n",
    "#In order to identify dark outliers, we will extend the dates by 6 years to get a larger sample\n",
    "lsAndTs = getImagesLib.getLandsatAndSentinel2HybridWrapper(studyArea,startYear,endYear,startJulian,endJulian,includeSLCOffL7=includeSLCOffL7,applyCloudScoreLandsat=applyCloudScore)\n",
    "\n",
    "\n",
    "#Separate into scenes and composites for subsequent analysis\n",
    "processedScenes = lsAndTs['processedScenes']\n",
    "processedComposites = lsAndTs['processedComposites']\n",
    "\n",
    "#Turn off layers from previous iteration\n",
    "Map.turnOffAllLayers()\n",
    "\n",
    "Map.addTimeLapse(processedComposites,getImagesLib.vizParamsFalse,'CloudScore and TDOM added {}-{}'.format(startJulian,endJulian),True)\n",
    "\n",
    "\n",
    "Map.view()\n",
    "\n",
    "#You'll notice this cleans up the cloud masking a lot"
   ]
  },
  {
   "cell_type": "code",
   "execution_count": null,
   "id": "bnuTuFdBaWzw",
   "metadata": {
    "colab": {
     "base_uri": "https://localhost:8080/",
     "height": 1000
    },
    "executionInfo": {
     "elapsed": 21613,
     "status": "ok",
     "timestamp": 1690298478420,
     "user": {
      "displayName": "Ian Housman",
      "userId": "00382093583884444463"
     },
     "user_tz": 360
    },
    "id": "bnuTuFdBaWzw",
    "outputId": "c0605bd6-4f1e-493f-8faf-28c2e65b3efb"
   },
   "outputs": [],
   "source": [
    "# Now that we've gone through some of the parameters that can be changed for Landsat composites, we will use both Landsat and Sentinel2 to get the best possible composites\n",
    "\n",
    "#Provide location composites will be exported to\n",
    "#This should be an asset folder, or more ideally, an asset imageCollection\n",
    "exportPathRoot = 'projects/rcr-gee/assets/composites-lcms-training-module-1'\n",
    "# Make sure collection exists\n",
    "aml.create_image_collection(exportPathRoot)\n",
    "\n",
    "# Currently geeView within Colab uses a different project to authenticate through, so you may need to make your asset public to view from within Colab\n",
    "aml.updateACL(exportPathRoot,writers = [],all_users_can_read = True,readers = [])\n",
    "\n",
    "lsAndTs = getImagesLib.getLandsatAndSentinel2HybridWrapper(\\\n",
    "  studyArea = studyArea,\n",
    "  startYear = 2010,\n",
    "  endYear = 2022,\n",
    "  startJulian = 273,\n",
    "  endJulian = 272,\n",
    "  timebuffer =  0,\n",
    "  weights =  [1],\n",
    "  compositingMethod = 'medoid',\n",
    "  toaOrSR = 'TOA',\n",
    "  includeSLCOffL7 = True,\n",
    "  defringeL5 = True,\n",
    "  applyQABand = False,\n",
    "  applyCloudProbability = True,\n",
    "  applyShadowShift = False,\n",
    "  applyCloudScoreLandsat = True,\n",
    "  applyCloudScoreSentinel2 = False,\n",
    "  applyTDOMLandsat = True,\n",
    "  applyTDOMSentinel2 = True,\n",
    "  applyFmaskCloudMask = True,\n",
    "  applyFmaskCloudShadowMask = True,\n",
    "  applyFmaskSnowMask = False,\n",
    "  cloudHeights = ee.List.sequence(500,10000,500),\n",
    "  cloudScoreThresh = 20,\n",
    "  performCloudScoreOffset = True,\n",
    "  cloudScorePctl = 10,\n",
    "  zScoreThresh = -1,\n",
    "  shadowSumThresh = 0.35,\n",
    "  contractPixels = 1.5,\n",
    "  dilatePixels = 3.5,\n",
    "  shadowSumBands = ['nir','swir1'],\n",
    "  landsatResampleMethod = 'near',\n",
    "  sentinel2ResampleMethod = 'aggregate',\n",
    "  convertToDailyMosaics = True,\n",
    "  runChastainHarmonization = False,# Set to True in order to perform regression harmonization between Landsat and Sentinel 2\n",
    "  correctIllumination = False,\n",
    "  correctScale = 250,\n",
    "  exportComposites = True,\n",
    "  outputName = 'Landsat-Sentinel2-Hybrid',\n",
    "  exportPathRoot = exportPathRoot,\n",
    "  crs = 'EPSG:5070',\n",
    "  transform = [30,0,-2361915.0,0,-30,3177735.0],\n",
    "  scale = None,\n",
    "  preComputedLandsatCloudScoreOffset = None,\n",
    "  preComputedLandsatTDOMIRMean = None,\n",
    "  preComputedLandsatTDOMIRStdDev = None,\n",
    "  preComputedSentinel2CloudScoreOffset = None,\n",
    "  preComputedSentinel2TDOMIRMean = None,\n",
    "  preComputedSentinel2TDOMIRStdDev = None,\n",
    "  cloudProbThresh = 40,\n",
    "  landsatCollectionVersion = 'C2',\n",
    "  overwrite = False)\n",
    "#Call on master wrapper function to get Landat scenes and composites\n",
    "#In order to identify dark outliers, we will extend the dates by 6 years to get a larger sample\n",
    "# lsAndTs = getImagesLib.getLandsatAndSentinel2HybridWrapper(studyArea,startYear-3,endYear+3,startJulian,endJulian,includeSLCOffL7=includeSLCOffL7,applyCloudScoreLandsat=applyCloudScore,applyTDOMLandsat=applyTDOM)\n",
    "# lsAndTs = getImagesLib.getLandsatWrapper(studyArea,startYear-3,endYear+3,startJulian,endJulian,includeSLCOffL7=includeSLCOffL7,applyCloudScore=applyCloudScore,applyTDOM=applyTDOM)\n",
    "\n",
    "\n",
    "#Separate into scenes and composites for subsequent analysis\n",
    "processedScenes = lsAndTs['processedScenes']\n",
    "processedComposites = lsAndTs['processedComposites']\n",
    "\n",
    "#Turn off layers from previous iteration\n",
    "Map.turnOffAllLayers()\n",
    "\n",
    "# Map.addLayer(processedComposites.select(['NDVI','NBR']),{'addToLegend':'false'},'Time Series (NBR and NDVI)',False)\n",
    "# for year in range(startYear,endYear + 1 ):\n",
    "    #  t = processedComposites.filter(ee.Filter.calendarRange(year,year,'year')).mosaic()\n",
    "Map.addTimeLapse(processedComposites,getImagesLib.vizParamsFalse,'Landsat and S2 CloudScore and TDOM added {}-{}'.format(startJulian,endJulian),True)\n",
    "\n",
    "\n",
    "Map.view()\n",
    "\n",
    "tml.trackTasks2()\n",
    "#You'll notice this cleans up the cloud masking a lot"
   ]
  },
  {
   "cell_type": "code",
   "execution_count": null,
   "id": "9YX8XITxpI4Q",
   "metadata": {
    "colab": {
     "base_uri": "https://localhost:8080/",
     "height": 685
    },
    "executionInfo": {
     "elapsed": 614,
     "status": "ok",
     "timestamp": 1690298551890,
     "user": {
      "displayName": "Ian Housman",
      "userId": "00382093583884444463"
     },
     "user_tz": 360
    },
    "id": "9YX8XITxpI4Q",
    "outputId": "61bfa47b-9ec2-4c94-e5ab-978a4eff2c42"
   },
   "outputs": [],
   "source": [
    "# View composites as they are completed\n",
    "composites = ee.ImageCollection(exportPathRoot)\n",
    "Map.clearMap()\n",
    "\n",
    "# First let's explore the composites and some attributes that can help understand how well the composites turned out\n",
    "Map.addTimeLapse(composites,getImagesLib.vizParamsFalse10k,'Composites')\n",
    "\n",
    "# By looking at the Sensor that is used, you can see with the introduction of Landsat 8 in 2013 and then Sentinel 2 in 2016-2017, composites become much better quality\n",
    "Map.addTimeLapse(composites.select('sensor'),{'min':4,'max':22,'palette':'088,808','classLegendDict':{'Landsat (Landsat 5 = 5, Landsat 7 = 7, etc...)':'088','Sentinel2 (Sentinel 2A = 21, Sentinel 2B = 22, etc....)':'808'}},'Sensor')\n",
    "Map.addTimeLapse(composites.select('compositeObsCount'),{'min':3,'max':10,'palette':'D0D,0D0'},'Composite Observation Counts')\n",
    "Map.turnOnInspector()\n",
    "Map.view()\n",
    "# Now that we have exported composites, we will use them in the LandTrendr temporal segmentation algorithm"
   ]
  },
  {
   "cell_type": "markdown",
   "id": "fca2146c",
   "metadata": {
    "id": "fca2146c"
   },
   "source": [
    "> There are many different parameters that can be changed in order to improve composites in different study areas\n",
    "> This is just one example. Other parameters include changing date ranges, and reducers"
   ]
  }
 ],
 "metadata": {
  "colab": {
   "provenance": []
  },
  "environment": {
   "kernel": "python3",
   "name": "tf2-gpu.2-11.m109",
   "type": "gcloud",
   "uri": "gcr.io/deeplearning-platform-release/tf2-gpu.2-11:m109"
  },
  "kernelspec": {
   "display_name": "Python 3",
   "language": "python",
   "name": "python3"
  },
  "language_info": {
   "codemirror_mode": {
    "name": "ipython",
    "version": 3
   },
   "file_extension": ".py",
   "mimetype": "text/x-python",
   "name": "python",
   "nbconvert_exporter": "python",
   "pygments_lexer": "ipython3",
   "version": "3.10.11"
  }
 },
 "nbformat": 4,
 "nbformat_minor": 5
}
