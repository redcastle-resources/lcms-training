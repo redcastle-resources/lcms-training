{
 "cells": [
  {
   "cell_type": "code",
   "execution_count": 12,
   "id": "36360716",
   "metadata": {},
   "outputs": [],
   "source": [
    "# Copyright 2023 Google LLC\n",
    "#\n",
    "# Licensed under the Apache License, Version 2.0 (the \"License\");\n",
    "# you may not use this file except in compliance with the License.\n",
    "# You may obtain a copy of the License at\n",
    "#\n",
    "#     https://www.apache.org/licenses/LICENSE-2.0\n",
    "#\n",
    "# Unless required by applicable law or agreed to in writing, software\n",
    "# distributed under the License is distributed on an \"AS IS\" BASIS,\n",
    "# WITHOUT WARRANTIES OR CONDITIONS OF ANY KIND, either express or implied.\n",
    "# See the License for the specific language governing permissions and\n",
    "# limitations under the License."
   ]
  },
  {
   "cell_type": "markdown",
   "id": "3c3387cb",
   "metadata": {
    "id": "title:generic,gcp"
   },
   "source": [
    "# Lab 2: Create Landsat and Sentinel-2 Annual Composites\n",
    "\n",
    "<table align=\"left\">\n",
    "  <td>\n",
    "    <a href=\"https://colab.research.google.com/github/redcastle-resources/lcms-training/blob/main/2-Composites.ipynb\">\n",
    "      <img src=\"https://cloud.google.com/ml-engine/images/colab-logo-32px.png\" alt=\"Colab logo\"> Run in Colab\n",
    "    </a>\n",
    "  </td>\n",
    "  <td>\n",
    "    <a href=\"https://github.com/redcastle-resources/lcms-training/blob/main/2-Composites.ipynb\">\n",
    "      <img src=\"https://cloud.google.com/ml-engine/images/github-logo-32px.png\" alt=\"GitHub logo\">\n",
    "      View on GitHub\n",
    "    </a>\n",
    "  </td>\n",
    "  <td>\n",
    "    <a href=\"https://console.cloud.google.com/vertex-ai/workbench/deploy-notebook?download_url=https://github.com/redcastle-resources/lcms-training/blob/main/2-Composites.ipynb\">\n",
    "      <img src=\"https://lh3.googleusercontent.com/UiNooY4LUgW_oTvpsNhPpQzsstV5W8F7rYgxgGBD85cWJoLmrOzhVs_ksK_vgx40SHs7jCqkTkCk=e14-rj-sc0xffffff-h130-w32\" alt=\"Vertex AI logo\">\n",
    "      Open in Vertex AI Workbench\n",
    "    </a>\n",
    "  </td>\n",
    "</table>\n",
    "<br/><br/><br/>"
   ]
  },
  {
   "cell_type": "markdown",
   "id": "a0fcfc34",
   "metadata": {
    "id": "overview:mlops",
    "tags": []
   },
   "source": [
    "## 2.0: Overview and Introduction\n",
    "\n",
    "\n",
    "This notebook introduces the compositing methods used by the USDA Forest Service Landscape Change Monitoring System (LCMS). It then produces composites for a small LCMS study area. The composites will be used to generate time series data that LCMS modeling algorithms will use to predict land use, land cover, and vegetation cover change in the subsequent modules. \n",
    "\n",
    "**Learn more about [LCMS](https://apps.fs.usda.gov/lcms-viewer/home.html).**\n",
    "\n",
    "\n",
    "All composites are created and visualized using the `geeViz` Python package. `geeViz` provides command-line tools for processing, analyzing, and visualizing Google Earth Engine (GEE) objects. \n",
    "\n",
    "**Learn more about [geeViz](https://github.com/gee-community/geeViz/tree/master).**\n",
    "\n",
    "\n",
    "### 2.0.1: Objective\n",
    "\n",
    "#### This tutorial uses the following Google Cloud services:\n",
    "\n",
    "- `Google Earth Engine`\n",
    "\n",
    "#### The steps performed include:\n",
    "\n",
    "- Install necessary packages\n",
    "- Test various parameters to create composites\n",
    "    - Run with default parameters\n",
    "    - Include Landsat 7 in image composites\n",
    "    - Set cloud masking settings\n",
    "    - Set cloud shadow masking settings\n",
    "- Create and export composite to asset\n",
    "\n",
    "#### Learning objectives: \n",
    "- Users will create cloud and cloud shadow-free composites using Fmask and cloudScore for Landsat, s2Cloudless for Sentinel-2, and temporal dark outlier mask (TDOM).  \n",
    "\n"
   ]
  },
  {
   "cell_type": "markdown",
   "id": "6b8ce60c",
   "metadata": {},
   "source": [
    "### 2.0.2: Before you begin\n",
    "\n",
    "#### Set your current URL under `workbench_url`\n",
    "This gives the Map Viewer a url in which to host the viewer we will be generating. \n",
    "* This will be in your URL/search bar at the top of the browser window you are currently in\n",
    "* It will look something like `https://1234567890122-dot-us-west3.notebooks.googleusercontent.com/` (See the image below)\n",
    "\n",
    "![workspace url](img/workspace-url.png)\n",
    "\n",
    "#### Set a folder to use for all exports under `export_path_root` \n",
    "* This folder should be an assets folder in an existing GEE project.\n",
    "* By default, this folder is the same as the pre-baked folder (where outputs have already been created). \n",
    "* If you would like to create your own outputs, specify a different path for `export_path_root`, but leave the `pre_baked_path_root` as it was. This way, the pre-baked outputs can be shown at the end, instead of waiting for all exports to finish.\n",
    "* It will be something like `projects/projectID/assets/someFolder`\n",
    "* This folder does not have to already exist. If it does not exist, it will be created"
   ]
  },
  {
   "cell_type": "code",
   "execution_count": 13,
   "id": "9f565bd6",
   "metadata": {
    "colab": {
     "base_uri": "https://localhost:8080/"
    },
    "executionInfo": {
     "elapsed": 54452,
     "status": "ok",
     "timestamp": 1690298072312,
     "user": {
      "displayName": "Ian Housman",
      "userId": "00382093583884444463"
     },
     "user_tz": 360
    },
    "id": "ce3c6688",
    "outputId": "060bebcf-6f29-4b32-b739-93ea00af97ff"
   },
   "outputs": [
    {
     "name": "stdout",
     "output_type": "stream",
     "text": [
      "Done\n"
     ]
    }
   ],
   "source": [
    "workbench_url = 'https://7c39a91cfd2f6ff9-dot-us-central1.notebooks.googleusercontent.com/'\n",
    "pre_baked_path_root  = 'projects/rcr-gee/assets/lcms-training'\n",
    "export_path_root = 'projects/qwiklabs-gcp-02-c518679317e5/assets/train-me'\n",
    "print('Done')"
   ]
  },
  {
   "cell_type": "markdown",
   "id": "ce2fc211",
   "metadata": {},
   "source": [
    "#### Installation\n",
    "Install necessary Python packages. Uncomment the first line to upgrade geeViz if necessary.\n",
    "\n",
    "Note which python packages and components of geeViz you are importing here. "
   ]
  },
  {
   "cell_type": "code",
   "execution_count": 14,
   "id": "b9604b5f",
   "metadata": {
    "colab": {
     "base_uri": "https://localhost:8080/"
    },
    "executionInfo": {
     "elapsed": 54452,
     "status": "ok",
     "timestamp": 1690298072312,
     "user": {
      "displayName": "Ian Housman",
      "userId": "00382093583884444463"
     },
     "user_tz": 360
    },
    "id": "ce3c6688",
    "outputId": "060bebcf-6f29-4b32-b739-93ea00af97ff"
   },
   "outputs": [
    {
     "name": "stdout",
     "output_type": "stream",
     "text": [
      "Done\n"
     ]
    }
   ],
   "source": [
    "#Module imports\n",
    "#!python -m pip install geeViz --upgrade\n",
    "try:\n",
    "    import geeViz.getImagesLib as getImagesLib\n",
    "except:\n",
    "    !python -m pip install geeViz\n",
    "    import geeViz.getImagesLib as getImagesLib\n",
    "\n",
    "import geeViz.assetManagerLib as aml\n",
    "import geeViz.taskManagerLib as tml\n",
    "\n",
    "import pandas as pd\n",
    "import inspect\n",
    "\n",
    "ee = getImagesLib.ee\n",
    "Map = getImagesLib.Map\n",
    "\n",
    "print('Done')"
   ]
  },
  {
   "cell_type": "markdown",
   "id": "7471b64a",
   "metadata": {
    "tags": []
   },
   "source": [
    "#### Set up your work environment\n",
    "\n",
    "Create a folder in your export path where you will export the composites. In addition, create a blank image collection where your composites will live.\n",
    "\n",
    "Currently, when running within Colab or Workbench, geeView uses a different project to authenticate through, so you may need to make your asset public to view from within Colab."
   ]
  },
  {
   "cell_type": "code",
   "execution_count": 15,
   "id": "efd2929b",
   "metadata": {
    "tags": []
   },
   "outputs": [
    {
     "name": "stdout",
     "output_type": "stream",
     "text": [
      "projects/qwiklabs-gcp-02-c518679317e5/assets/train-me/lcms-training_module-2_composites\n",
      "Found the following sub directories:  ['train-me', 'lcms-training_module-2_composites']\n",
      "Will attempt to create them if they do not exist\n",
      "projects/qwiklabs-gcp-02-c518679317e5/assets/train-me\n",
      "Could not create:  projects/qwiklabs-gcp-02-c518679317e5/assets/train-me\n",
      "Permission 'earthengine.assets.create' denied on resource 'projects/qwiklabs-gcp-02-c518679317e5' (or it may not exist).\n",
      "Asset projects/qwiklabs-gcp-02-c518679317e5/assets/train-me/lcms-training_module-2_composites already exists\n",
      "Updating permissions for:  projects/qwiklabs-gcp-02-c518679317e5/assets/train-me/lcms-training_module-2_composites\n",
      "Could not update permissions for:  projects/qwiklabs-gcp-02-c518679317e5/assets/train-me/lcms-training_module-2_composites\n",
      "Asset 'projects/qwiklabs-gcp-02-c518679317e5/assets/train-me/lcms-training_module-2_composites' does not exist or doesn't allow this operation.\n",
      "Done\n"
     ]
    }
   ],
   "source": [
    "# Create folder \n",
    "export_composite_collection = f'{export_path_root}/lcms-training_module-2_composites'\n",
    "print(export_composite_collection)\n",
    "# Create a collection\n",
    "aml.create_asset(export_composite_collection,asset_type = ee.data.ASSET_TYPE_IMAGE_COLL)\n",
    "# ee.data.createAsset({'type': ee.data.ASSET_TYPE_FOLDER}, export_composite_collection)\n",
    "# Make it public\n",
    "aml.updateACL(export_composite_collection,writers = [],all_users_can_read = True,readers = [])\n",
    "\n",
    "\n",
    "print('Done')"
   ]
  },
  {
   "cell_type": "markdown",
   "id": "dff48dab-59f6-4687-b49e-d6245ab64e8c",
   "metadata": {},
   "source": [
    "## 2.2: Explore geeViz functions \n",
    "\n",
    "Over the course of the examples in this module, you'll become more familiar with the parameters used to create image composites. The main function you will use is from the geeViz library and is called `getLandsatAndSentinel2HybridWrapper`. \n",
    "\n",
    "For more documentation of the parameters in the function, refer to the [getCombinedLandsatSentinel2Wrapper](https://github.com/gee-community/geeViz/blob/master/examples/getCombinedLandsatSentinel2Wrapper.py) example in the geeViz documentation.\n",
    "\n",
    "You can view the [source code](https://github.com/gee-community/geeViz/blob/bd75d38c2043fc3af795c9c35ae769c71c00f56a/getImagesLib.py#L3280) for this function on the geeViz GitHub.\n",
    "\n",
    "While the `getLandsatAndSentinel2HybridWrapper` will meet the needs of most compositing workflows, sometimes it is necessary to have more control over how composites are created. For these instances, you should use the underlying functions that help with pre-processing both Landsat or Sentinel-2 data:\n",
    "* [getProcessedLandsatScenes](https://github.com/gee-community/geeViz/blob/fdd8f0080301f8d915214b6e2d50af03a0915777/getImagesLib.py#L2678)\n",
    "* [getProcessedSentinel2Scenes](https://github.com/gee-community/geeViz/blob/fdd8f0080301f8d915214b6e2d50af03a0915777/getImagesLib.py#L2799)\n",
    "\n",
    "You can inspect the code for these functions by following the links above to the function or by using the `print(inspect.getsource(LIBRARY_NAME.FUNCTION_NAME))` command. Run the code block below to inspect the function from the geeViz library that you will be using. "
   ]
  },
  {
   "cell_type": "code",
   "execution_count": 16,
   "id": "7de834b0-40b3-4fee-a7e0-c669ddf94c83",
   "metadata": {},
   "outputs": [
    {
     "name": "stdout",
     "output_type": "stream",
     "text": [
      "def getLandsatAndSentinel2HybridWrapper(\\\n",
      "  studyArea,\n",
      "  startYear,\n",
      "  endYear,\n",
      "  startJulian,\n",
      "  endJulian,\n",
      "  timebuffer =  0,\n",
      "  weights =  [1],\n",
      "  compositingMethod = 'medoid',\n",
      "  toaOrSR = 'TOA',\n",
      "  includeSLCOffL7 = False,\n",
      "  defringeL5 = False,\n",
      "  applyQABand = False,\n",
      "  applyCloudProbability = True,\n",
      "  applyShadowShift = False,\n",
      "  applyCloudScoreLandsat = False,\n",
      "  applyCloudScoreSentinel2 = False,\n",
      "  applyTDOMLandsat = True,\n",
      "  applyTDOMSentinel2 = True,\n",
      "  applyFmaskCloudMask = True,\n",
      "  applyFmaskCloudShadowMask = True,\n",
      "  applyFmaskSnowMask = False,\n",
      "  cloudHeights = ee.List.sequence(500,10000,500),\n",
      "  cloudScoreThresh = 20,\n",
      "  performCloudScoreOffset = True,\n",
      "  cloudScorePctl = 10,\n",
      "  zScoreThresh = -1,\n",
      "  shadowSumThresh = 0.35,\n",
      "  contractPixels = 1.5,\n",
      "  dilatePixels = 3.5,\n",
      "  shadowSumBands = ['nir','swir1'],\n",
      "  landsatResampleMethod = 'near',\n",
      "  sentinel2ResampleMethod = 'aggregate',\n",
      "  convertToDailyMosaics = True,\n",
      "  runChastainHarmonization = True,\n",
      "  correctIllumination = False,\n",
      "  correctScale = 250,\n",
      "  exportComposites = False,\n",
      "  outputName = 'Landsat-Sentinel2-Hybrid',\n",
      "  exportPathRoot = None,\n",
      "  crs = 'EPSG:5070',\n",
      "  transform = [30,0,-2361915.0,0,-30,3177735.0],\n",
      "  scale = None,\n",
      "  preComputedLandsatCloudScoreOffset = None,\n",
      "  preComputedLandsatTDOMIRMean = None,\n",
      "  preComputedLandsatTDOMIRStdDev = None,\n",
      "  preComputedSentinel2CloudScoreOffset = None,\n",
      "  preComputedSentinel2TDOMIRMean = None,\n",
      "  preComputedSentinel2TDOMIRStdDev = None,\n",
      "  cloudProbThresh = 40,\n",
      "  landsatCollectionVersion = 'C2',\n",
      "  overwrite = False,\n",
      "  verbose = False):\n",
      "\n",
      "  origin = 'Landsat-Sentinel2-Hybrid'\n",
      "  toaOrSR = toaOrSR.upper()\n",
      "\n",
      "  args = formatArgs(locals())\n",
      "  if 'args' in args.keys():\n",
      "    del args['args']\n",
      "\n",
      "  merged = getProcessedLandsatAndSentinel2Scenes(\\\n",
      "    studyArea = studyArea,\n",
      "    startYear = startYear,\n",
      "    endYear = endYear,\n",
      "    startJulian = startJulian,\n",
      "    endJulian = endJulian,\n",
      "    toaOrSR = toaOrSR,\n",
      "    includeSLCOffL7 = includeSLCOffL7,\n",
      "    defringeL5 = defringeL5,\n",
      "    applyQABand = applyQABand,\n",
      "    applyCloudProbability = applyCloudProbability,\n",
      "    applyShadowShift = applyShadowShift,\n",
      "    applyCloudScoreLandsat = applyCloudScoreLandsat,\n",
      "    applyCloudScoreSentinel2 = applyCloudScoreSentinel2,\n",
      "    applyTDOMLandsat = applyTDOMLandsat,\n",
      "    applyTDOMSentinel2 = applyTDOMSentinel2,\n",
      "    applyFmaskCloudMask = applyFmaskCloudMask,\n",
      "    applyFmaskCloudShadowMask = applyFmaskCloudShadowMask,\n",
      "    applyFmaskSnowMask = applyFmaskSnowMask,\n",
      "    cloudHeights = cloudHeights,\n",
      "    cloudScoreThresh = cloudScoreThresh,\n",
      "    performCloudScoreOffset = performCloudScoreOffset,\n",
      "    cloudScorePctl = cloudScorePctl,\n",
      "    zScoreThresh = zScoreThresh,\n",
      "    shadowSumThresh = shadowSumThresh,\n",
      "    contractPixels = contractPixels,\n",
      "    dilatePixels = dilatePixels,\n",
      "    shadowSumBands = shadowSumBands,\n",
      "    landsatResampleMethod = landsatResampleMethod,\n",
      "    sentinel2ResampleMethod = sentinel2ResampleMethod,\n",
      "    convertToDailyMosaics = convertToDailyMosaics,\n",
      "    runChastainHarmonization = runChastainHarmonization,\n",
      "    correctIllumination = correctIllumination,\n",
      "    correctScale = correctScale,\n",
      "    preComputedLandsatCloudScoreOffset = preComputedLandsatCloudScoreOffset,\n",
      "    preComputedLandsatTDOMIRMean = preComputedLandsatTDOMIRMean,\n",
      "    preComputedLandsatTDOMIRStdDev = preComputedLandsatTDOMIRStdDev,\n",
      "    preComputedSentinel2CloudScoreOffset = preComputedSentinel2CloudScoreOffset,\n",
      "    preComputedSentinel2TDOMIRMean = preComputedSentinel2TDOMIRMean,\n",
      "    preComputedSentinel2TDOMIRStdDev = preComputedSentinel2TDOMIRStdDev,\n",
      "    cloudProbThresh = cloudProbThresh,\n",
      "    landsatCollectionVersion = landsatCollectionVersion,\n",
      "    verbose = verbose)\n",
      "\n",
      "  #Create hybrid composites\n",
      "  composites = compositeTimeSeries(\\\n",
      "    ls = merged,\n",
      "    startYear = startYear,\n",
      "    endYear = endYear,\n",
      "    startJulian = startJulian,\n",
      "    endJulian = endJulian,\n",
      "    timebuffer = timebuffer,\n",
      "    weights = weights,\n",
      "    compositingMethod = compositingMethod)\n",
      "\n",
      "  # Export composite collection\n",
      "  if exportComposites:\n",
      "\n",
      "    exportBandDict = {\\\n",
      "      'medoid':['blue', 'green', 'red','nir','swir1', 'swir2','compositeObsCount','sensor','year','julianDay'],\n",
      "      'median':['blue', 'green', 'red','nir','swir1', 'swir2','compositeObsCount']\\\n",
      "    };\n",
      "    nonDivideBandDict = {\\\n",
      "      'medoid':['compositeObsCount','sensor','year','julianDay'],\n",
      "      'median':['compositeObsCount']\\\n",
      "    };\n",
      "    exportBands = exportBandDict[compositingMethod]\n",
      "    nonDivideBands = nonDivideBandDict[compositingMethod]\n",
      "\n",
      "    exportCompositeCollection(\\\n",
      "      collection = composites,\n",
      "      exportPathRoot = exportPathRoot,\n",
      "      outputName = outputName,\n",
      "      origin = origin,\n",
      "      studyArea = studyArea,\n",
      "      crs = crs,\n",
      "      transform = transform,\n",
      "      scale = scale,\n",
      "      startYear = startYear,\n",
      "      endYear = endYear,\n",
      "      startJulian = startJulian,\n",
      "      endJulian = endJulian,\n",
      "      compositingMethod = compositingMethod,\n",
      "      timebuffer = timebuffer,\n",
      "      toaOrSR = toaOrSR,\n",
      "      nonDivideBands = nonDivideBands,\n",
      "      exportBands = exportBands,\n",
      "      additionalPropertyDict = args,\n",
      "      overwrite = overwrite)\n",
      "\n",
      "  args['processedScenes'] = merged\n",
      "  args['processedComposites'] = composites\n",
      "\n",
      "  return args\n",
      "\n"
     ]
    }
   ],
   "source": [
    "print(inspect.getsource(getImagesLib.getLandsatAndSentinel2HybridWrapper))"
   ]
  },
  {
   "cell_type": "markdown",
   "id": "40ef1236-6209-4a19-bfa7-175a19f89310",
   "metadata": {},
   "source": [
    "## 2.3: Create Landsat + Sentinel-2 Composites\n",
    "\n",
    "### 2.3.1: Create Composites using basic parameters\n",
    "\n",
    "#### Set up map\n",
    "The first thing you'll do is set up the map viewer where you'll inspect the outputs you generate. You won't view the map until later. "
   ]
  },
  {
   "cell_type": "code",
   "execution_count": 17,
   "id": "f8a75bb1",
   "metadata": {
    "colab": {
     "base_uri": "https://localhost:8080/",
     "height": 1000
    },
    "executionInfo": {
     "elapsed": 3258,
     "status": "ok",
     "timestamp": 1690298168455,
     "user": {
      "displayName": "Ian Housman",
      "userId": "00382093583884444463"
     },
     "user_tz": 360
    },
    "id": "d4974e71",
    "outputId": "c5b14c5b-c86a-497c-f764-03b8871ef97a"
   },
   "outputs": [
    {
     "name": "stdout",
     "output_type": "stream",
     "text": [
      "Done\n"
     ]
    }
   ],
   "source": [
    "# Set proxy url\n",
    "Map.proxy_url = workbench_url\n",
    "\n",
    "#First clear the map in case it has been populated with layers/commands earlier\n",
    "Map.clearMap()\n",
    "\n",
    "# reset port if necessary\n",
    "Map.port = 1237\n",
    "\n",
    "print('Done')"
   ]
  },
  {
   "cell_type": "markdown",
   "id": "c244cb25",
   "metadata": {
    "tags": []
   },
   "source": [
    "#### Define parameters\n",
    "\n",
    "**The first parameters you define will set the **area** and **time range** over which you want to compute annual composites.**\n",
    "\n",
    "* ```studyArea``` - a featureCollection, feature or geometry to specify the bounds of our area of interest\n",
    "\n",
    "* ```startJulian``` - the first julian date to include in annual composites, used to specify a particular season if desired\n",
    "* ```endJulian``` - the last julian date to include in annual composites, used to specify a particular season if desired\n",
    "\n",
    "    This supports wrapping for tropics and southern hemisphere. If you are using wrapping and the majority of the days occur in the second year, the system:time_start will default to June 1 of that year. Otherwise, all system:time_starts will default to June 1 of the given year.\n",
    "\n",
    "* ```startYear``` - the first year for which to compute annual composites\n",
    "* ```endYear``` - the last year for which to compute annual composites\n",
    "\n",
    "You should provide at least 3 year for time series methods to work well. If you are providing pre-computed stats for cloud masking using cloudScore and TDOM, this does not matter. \n",
    "\n",
    "Below, you'll use a 3-year window to explore how composites are made. After you determine which parameters are appropriate, you will create composites for the entire time window for which Landsat data are available. "
   ]
  },
  {
   "cell_type": "code",
   "execution_count": 18,
   "id": "78e5f7cd",
   "metadata": {
    "colab": {
     "base_uri": "https://localhost:8080/",
     "height": 1000
    },
    "executionInfo": {
     "elapsed": 3258,
     "status": "ok",
     "timestamp": 1690298168455,
     "user": {
      "displayName": "Ian Housman",
      "userId": "00382093583884444463"
     },
     "user_tz": 360
    },
    "id": "d4974e71",
    "outputId": "c5b14c5b-c86a-497c-f764-03b8871ef97a"
   },
   "outputs": [
    {
     "name": "stdout",
     "output_type": "stream",
     "text": [
      "Done\n"
     ]
    }
   ],
   "source": [
    "# Define user parameters:\n",
    "\n",
    "# Specify study area\n",
    "studyArea = ee.FeatureCollection('projects/lcms-292214/assets/R8/PR_USVI/Ancillary/prusvi_boundary')\n",
    "\n",
    "# Update the startJulian and endJulian \n",
    "startJulian = 152\n",
    "endJulian = 151\n",
    "\n",
    "# Specify start and end years for all analyses\n",
    "startYear = 2009\n",
    "endYear = 2011\n",
    "\n",
    "# By default do not run the Temporal Dark Outlier Mask (TDOM) cloud shadow masking method\n",
    "# We will come back to this\n",
    "applyTDOMLandsat = False\n",
    "applyTDOMSentinel2 = False\n",
    "print('Done')"
   ]
  },
  {
   "cell_type": "markdown",
   "id": "838bd450",
   "metadata": {},
   "source": [
    "#### Build composites \n",
    "Using the parameters you specified above, you will create a series of image composites. \n",
    "\n",
    "You can review all of the parameters, and their defaults, in the [getCombinedLandsatSentinel2Wrapper](https://github.com/gee-community/geeViz/blob/master/examples/getCombinedLandsatSentinel2Wrapper.py).\n"
   ]
  },
  {
   "cell_type": "code",
   "execution_count": 19,
   "id": "961e3a25",
   "metadata": {
    "colab": {
     "base_uri": "https://localhost:8080/",
     "height": 1000
    },
    "executionInfo": {
     "elapsed": 3258,
     "status": "ok",
     "timestamp": 1690298168455,
     "user": {
      "displayName": "Ian Housman",
      "userId": "00382093583884444463"
     },
     "user_tz": 360
    },
    "id": "d4974e71",
    "outputId": "c5b14c5b-c86a-497c-f764-03b8871ef97a"
   },
   "outputs": [
    {
     "name": "stdout",
     "output_type": "stream",
     "text": [
      "Get Processed Landsat and Sentinel2 Scenes: \n",
      "Start date: Jun 01 2009 , End date: May 30 2012\n",
      "Get Processed Landsat: \n",
      "Start date: Jun 01 2009 , End date: May 30 2012\n",
      "Only including SLC On Landsat 7\n",
      "Applying Fmask Cloud Mask\n",
      "Applying Fmask Shadow Mask\n",
      "Get Processed Sentinel2: \n",
      "Start date: Jun 01 2009 , End date: May 30 2012\n",
      "Using S2 Collection: COPERNICUS/S2_HARMONIZED\n",
      "Joining pre-computed cloud probabilities from: COPERNICUS/S2_CLOUD_PROBABILITY\n",
      "Setting to aggregate instead of resample \n",
      "Converting S2 data to daily mosaics\n",
      "Apply Cloud Probability\n",
      "Running Chastain et al 2019 harmonization\n"
     ]
    }
   ],
   "source": [
    "#Call on master wrapper function to get Landat scenes and composites\n",
    "lsAndTs = getImagesLib.getLandsatAndSentinel2HybridWrapper(studyArea.geometry().bounds(50,'EPSG:5070'),\n",
    "                                                           startYear,\n",
    "                                                           endYear,\n",
    "                                                           startJulian,\n",
    "                                                           endJulian,\n",
    "                                                           applyTDOMLandsat = applyTDOMLandsat,\n",
    "                                                           applyTDOMSentinel2 = applyTDOMSentinel2\n",
    "                                                          )\n",
    "\n",
    "#Separate into scenes and composites for subsequent analysis\n",
    "processedScenes = lsAndTs['processedScenes']\n",
    "processedComposites = lsAndTs['processedComposites']"
   ]
  },
  {
   "cell_type": "markdown",
   "id": "af6035ca",
   "metadata": {},
   "source": [
    "Note above that the default settings apply the [Fmask Cloud Mask](https://github.com/gee-community/geeViz/blob/fdd8f0080301f8d915214b6e2d50af03a0915777/getImagesLib.py#L1111) and [Fmask Shadow Mask](https://github.com/gee-community/geeViz/blob/fdd8f0080301f8d915214b6e2d50af03a0915777/getImagesLib.py#L1133) for Landsat, and apply [Cloud Probability](https://github.com/gee-community/geeViz/blob/fdd8f0080301f8d915214b6e2d50af03a0915777/getImagesLib.py#L668) for Sentinel-2 imagery. \n",
    "\n",
    "Follow the hyperlinks above to see how these functions are implemented in geeViz.\n",
    "\n",
    "#### Add to Map\n",
    "The `geeView` module of the `geeViz` package provides functions for creating an interactive map viewer outside of the Google Earth Engine Code Editor and Playground. Generally, `Map` functions in `geeView` follow the same syntax as javascript Earth Engine commands in the playground. \n",
    "\n",
    "For more information and examples of geeView capabilities, visit the [geeView example](https://github.com/gee-community/geeViz/blob/master/examples/geeViewExample.py) in the geeViz github. \n",
    "\n",
    "The interactive map viewer will appear below."
   ]
  },
  {
   "cell_type": "code",
   "execution_count": 23,
   "id": "f9cb39f9",
   "metadata": {
    "colab": {
     "base_uri": "https://localhost:8080/",
     "height": 1000
    },
    "executionInfo": {
     "elapsed": 3258,
     "status": "ok",
     "timestamp": 1690298168455,
     "user": {
      "displayName": "Ian Housman",
      "userId": "00382093583884444463"
     },
     "user_tz": 360
    },
    "id": "d4974e71",
    "outputId": "c5b14c5b-c86a-497c-f764-03b8871ef97a"
   },
   "outputs": [
    {
     "name": "stdout",
     "output_type": "stream",
     "text": [
      "Adding layer: Default Params 152-151\n",
      "Adding layer: Study Area\n",
      "Starting webmap\n",
      "Using default refresh token for geeView: /home/jupyter/.config/earthengine/credentials\n",
      "Local web server at: http://localhost:1237/geeView/ already serving.\n",
      "cwd /home/jupyter/lcms-training\n",
      "Workbench Proxy URL: https://7c39a91cfd2f6ff9-dot-us-central1.notebooks.googleusercontent.com/proxy/1237/geeView/?accessToken=None\n"
     ]
    },
    {
     "data": {
      "text/html": [
       "\n",
       "        <iframe\n",
       "            width=\"100%\"\n",
       "            height=\"525px\"\n",
       "            src=\"https://7c39a91cfd2f6ff9-dot-us-central1.notebooks.googleusercontent.com/proxy/1237/geeView/?accessToken=None\"\n",
       "            frameborder=\"0\"\n",
       "            allowfullscreen\n",
       "            \n",
       "        ></iframe>\n",
       "        "
      ],
      "text/plain": [
       "<IPython.lib.display.IFrame at 0x7f2728bd8430>"
      ]
     },
     "metadata": {},
     "output_type": "display_data"
    },
    {
     "name": "stderr",
     "output_type": "stream",
     "text": [
      "127.0.0.1 - - [13/Sep/2023 17:25:12] \"GET /geeView/js/runGeeViz.js HTTP/1.1\" 200 -\n"
     ]
    }
   ],
   "source": [
    "Map.clearMap()\n",
    "\n",
    "Map.addTimeLapse(processedComposites,getImagesLib.vizParamsFalse,'Default Params {}-{}'.format(startJulian,endJulian),'True')\n",
    "Map.addLayer(studyArea,{},'Study Area')\n",
    "Map.centerObject(studyArea,10)\n",
    "Map.turnOnInspector()\n",
    "Map.view()"
   ]
  },
  {
   "cell_type": "markdown",
   "id": "120ad980",
   "metadata": {},
   "source": [
    "#### Inspect the outputs\n",
    "\n",
    "Look at the map that appeared above. You may need to click the button next to the layer titled \"Default Params\" in order to view the layer. Click the play button \n",
    "![play button](img/play-button.png) to show a time lapse of all of the annual composites created.  \n",
    "\n",
    "**It is clear the default parameters do not work very well in this area.**\n",
    "Few, if any of the years displayed have complete images for the annual composite. Data are missing for large swaths of the image.\n",
    "\n",
    "Though the results panel above indicates operations that were applied to create the composites, it doesn't tell you the full list of parameters used to create the composite. You can access the parameters that were used through the properties of the returned collection.\n",
    "\n",
    "Run the code block below to print the parameters used and display them in a table. Uncomment the second line if you want to see what the raw properties attribute looks like."
   ]
  },
  {
   "cell_type": "code",
   "execution_count": 24,
   "id": "e0340487",
   "metadata": {
    "colab": {
     "base_uri": "https://localhost:8080/"
    },
    "executionInfo": {
     "elapsed": 1505,
     "status": "ok",
     "timestamp": 1690298215913,
     "user": {
      "displayName": "Ian Housman",
      "userId": "00382093583884444463"
     },
     "user_tz": 360
    },
    "id": "48dc6ee9",
    "outputId": "4a71a638-a9dd-45c8-b0e5-8d9ddb253bf7"
   },
   "outputs": [
    {
     "data": {
      "text/html": [
       "<div>\n",
       "<style scoped>\n",
       "    .dataframe tbody tr th:only-of-type {\n",
       "        vertical-align: middle;\n",
       "    }\n",
       "\n",
       "    .dataframe tbody tr th {\n",
       "        vertical-align: top;\n",
       "    }\n",
       "\n",
       "    .dataframe thead th {\n",
       "        text-align: right;\n",
       "    }\n",
       "</style>\n",
       "<table border=\"1\" class=\"dataframe\">\n",
       "  <thead>\n",
       "    <tr style=\"text-align: right;\">\n",
       "      <th></th>\n",
       "      <th>Value</th>\n",
       "    </tr>\n",
       "  </thead>\n",
       "  <tbody>\n",
       "    <tr>\n",
       "      <th>applyCloudProbability</th>\n",
       "      <td>True</td>\n",
       "    </tr>\n",
       "    <tr>\n",
       "      <th>applyCloudScoreLandsat</th>\n",
       "      <td>False</td>\n",
       "    </tr>\n",
       "    <tr>\n",
       "      <th>applyCloudScoreSentinel2</th>\n",
       "      <td>False</td>\n",
       "    </tr>\n",
       "    <tr>\n",
       "      <th>applyFmaskCloudMask</th>\n",
       "      <td>True</td>\n",
       "    </tr>\n",
       "    <tr>\n",
       "      <th>applyFmaskCloudShadowMask</th>\n",
       "      <td>True</td>\n",
       "    </tr>\n",
       "    <tr>\n",
       "      <th>applyFmaskSnowMask</th>\n",
       "      <td>False</td>\n",
       "    </tr>\n",
       "    <tr>\n",
       "      <th>applyQABand</th>\n",
       "      <td>False</td>\n",
       "    </tr>\n",
       "    <tr>\n",
       "      <th>applyShadowShift</th>\n",
       "      <td>False</td>\n",
       "    </tr>\n",
       "    <tr>\n",
       "      <th>applyTDOMLandsat</th>\n",
       "      <td>False</td>\n",
       "    </tr>\n",
       "    <tr>\n",
       "      <th>applyTDOMSentinel2</th>\n",
       "      <td>False</td>\n",
       "    </tr>\n",
       "    <tr>\n",
       "      <th>cloudProbThresh</th>\n",
       "      <td>40</td>\n",
       "    </tr>\n",
       "    <tr>\n",
       "      <th>cloudScorePctl</th>\n",
       "      <td>10</td>\n",
       "    </tr>\n",
       "    <tr>\n",
       "      <th>cloudScoreThresh</th>\n",
       "      <td>20</td>\n",
       "    </tr>\n",
       "    <tr>\n",
       "      <th>convertToDailyMosaics</th>\n",
       "      <td>True</td>\n",
       "    </tr>\n",
       "    <tr>\n",
       "      <th>correctIllumination</th>\n",
       "      <td>False</td>\n",
       "    </tr>\n",
       "    <tr>\n",
       "      <th>correctScale</th>\n",
       "      <td>250</td>\n",
       "    </tr>\n",
       "    <tr>\n",
       "      <th>defringeL5</th>\n",
       "      <td>False</td>\n",
       "    </tr>\n",
       "    <tr>\n",
       "      <th>endJulian</th>\n",
       "      <td>151</td>\n",
       "    </tr>\n",
       "    <tr>\n",
       "      <th>endYear</th>\n",
       "      <td>2011</td>\n",
       "    </tr>\n",
       "    <tr>\n",
       "      <th>includeSLCOffL7</th>\n",
       "      <td>False</td>\n",
       "    </tr>\n",
       "    <tr>\n",
       "      <th>landsatCollectionVersion</th>\n",
       "      <td>C2</td>\n",
       "    </tr>\n",
       "    <tr>\n",
       "      <th>landsatResampleMethod</th>\n",
       "      <td>near</td>\n",
       "    </tr>\n",
       "    <tr>\n",
       "      <th>origin</th>\n",
       "      <td>Landsat-Sentinel2-Hybrid</td>\n",
       "    </tr>\n",
       "    <tr>\n",
       "      <th>performCloudScoreOffset</th>\n",
       "      <td>True</td>\n",
       "    </tr>\n",
       "    <tr>\n",
       "      <th>preComputedLandsatCloudScoreOffset</th>\n",
       "      <td>None</td>\n",
       "    </tr>\n",
       "    <tr>\n",
       "      <th>preComputedLandsatTDOMIRMean</th>\n",
       "      <td>None</td>\n",
       "    </tr>\n",
       "    <tr>\n",
       "      <th>preComputedLandsatTDOMIRStdDev</th>\n",
       "      <td>None</td>\n",
       "    </tr>\n",
       "    <tr>\n",
       "      <th>preComputedSentinel2CloudScoreOffset</th>\n",
       "      <td>None</td>\n",
       "    </tr>\n",
       "    <tr>\n",
       "      <th>preComputedSentinel2TDOMIRMean</th>\n",
       "      <td>None</td>\n",
       "    </tr>\n",
       "    <tr>\n",
       "      <th>preComputedSentinel2TDOMIRStdDev</th>\n",
       "      <td>None</td>\n",
       "    </tr>\n",
       "    <tr>\n",
       "      <th>runChastainHarmonization</th>\n",
       "      <td>True</td>\n",
       "    </tr>\n",
       "    <tr>\n",
       "      <th>sentinel2ResampleMethod</th>\n",
       "      <td>aggregate</td>\n",
       "    </tr>\n",
       "    <tr>\n",
       "      <th>shadowSumBands</th>\n",
       "      <td>['nir', 'swir1']</td>\n",
       "    </tr>\n",
       "    <tr>\n",
       "      <th>startJulian</th>\n",
       "      <td>152</td>\n",
       "    </tr>\n",
       "    <tr>\n",
       "      <th>startYear</th>\n",
       "      <td>2009</td>\n",
       "    </tr>\n",
       "    <tr>\n",
       "      <th>toaOrSR</th>\n",
       "      <td>TOA</td>\n",
       "    </tr>\n",
       "    <tr>\n",
       "      <th>verbose</th>\n",
       "      <td>False</td>\n",
       "    </tr>\n",
       "    <tr>\n",
       "      <th>wrapOffset</th>\n",
       "      <td>365</td>\n",
       "    </tr>\n",
       "    <tr>\n",
       "      <th>zScoreThresh</th>\n",
       "      <td>-1</td>\n",
       "    </tr>\n",
       "  </tbody>\n",
       "</table>\n",
       "</div>"
      ],
      "text/plain": [
       "                                                         Value\n",
       "applyCloudProbability                                     True\n",
       "applyCloudScoreLandsat                                   False\n",
       "applyCloudScoreSentinel2                                 False\n",
       "applyFmaskCloudMask                                       True\n",
       "applyFmaskCloudShadowMask                                 True\n",
       "applyFmaskSnowMask                                       False\n",
       "applyQABand                                              False\n",
       "applyShadowShift                                         False\n",
       "applyTDOMLandsat                                         False\n",
       "applyTDOMSentinel2                                       False\n",
       "cloudProbThresh                                             40\n",
       "cloudScorePctl                                              10\n",
       "cloudScoreThresh                                            20\n",
       "convertToDailyMosaics                                     True\n",
       "correctIllumination                                      False\n",
       "correctScale                                               250\n",
       "defringeL5                                               False\n",
       "endJulian                                                  151\n",
       "endYear                                                   2011\n",
       "includeSLCOffL7                                          False\n",
       "landsatCollectionVersion                                    C2\n",
       "landsatResampleMethod                                     near\n",
       "origin                                Landsat-Sentinel2-Hybrid\n",
       "performCloudScoreOffset                                   True\n",
       "preComputedLandsatCloudScoreOffset                        None\n",
       "preComputedLandsatTDOMIRMean                              None\n",
       "preComputedLandsatTDOMIRStdDev                            None\n",
       "preComputedSentinel2CloudScoreOffset                      None\n",
       "preComputedSentinel2TDOMIRMean                            None\n",
       "preComputedSentinel2TDOMIRStdDev                          None\n",
       "runChastainHarmonization                                  True\n",
       "sentinel2ResampleMethod                              aggregate\n",
       "shadowSumBands                                ['nir', 'swir1']\n",
       "startJulian                                                152\n",
       "startYear                                                 2009\n",
       "toaOrSR                                                    TOA\n",
       "verbose                                                  False\n",
       "wrapOffset                                                 365\n",
       "zScoreThresh                                                -1"
      ]
     },
     "metadata": {},
     "output_type": "display_data"
    },
    {
     "name": "stdout",
     "output_type": "stream",
     "text": [
      "Done\n"
     ]
    }
   ],
   "source": [
    "#Print parameters used\n",
    "#Parameters are stored in properties of returnd collection\n",
    "props = processedScenes.toDictionary().getInfo()\n",
    "display(pd.DataFrame(list(props.values()),index = list(props.keys()),columns = ['Value']))\n",
    "\n",
    "print('Done')"
   ]
  },
  {
   "cell_type": "markdown",
   "id": "1cb4aa34",
   "metadata": {},
   "source": [
    "### 2.3.2: Include Landsat 7\n",
    "Since there are not that many images available in this area for these years, let's try adding Landsat 7. Our default is to exclude Landsat 7 from image composites because of the [Landsat 7 scan line correction failure](https://www.usgs.gov/landsat-missions/landsat-7?qt-science_support_page_related_con=0#qt-science_support_page_related_con).\n",
    "\n",
    "#### Add a new parameter\n",
    "\n",
    "To include Landsat 7, you will add a new parameter to the wrapper function. \n",
    "\n",
    "``` includeSLCoffL7 ``` - default: **False** \n",
    "\n",
    "Run the code block below to add the new parameter."
   ]
  },
  {
   "cell_type": "code",
   "execution_count": 25,
   "id": "7331ba9f",
   "metadata": {
    "colab": {
     "base_uri": "https://localhost:8080/",
     "height": 1000
    },
    "executionInfo": {
     "elapsed": 4407,
     "status": "ok",
     "timestamp": 1690298237041,
     "user": {
      "displayName": "Ian Housman",
      "userId": "00382093583884444463"
     },
     "user_tz": 360
    },
    "id": "704e7fb1",
    "outputId": "1b0f740a-eb14-4911-e2b4-dd596beccc72"
   },
   "outputs": [],
   "source": [
    "#add LS 7 parameter\n",
    "includeSLCOffL7 = True"
   ]
  },
  {
   "cell_type": "markdown",
   "id": "0d61b507",
   "metadata": {},
   "source": [
    "#### Call on wrapper function again, including new parameter\n",
    "\n",
    "Now, run the same wrapper function again. Note that all of the parameters are the same, with the addition of your new `includeSLCOffL7` parameter."
   ]
  },
  {
   "cell_type": "code",
   "execution_count": 26,
   "id": "ecdc1fdf",
   "metadata": {
    "colab": {
     "base_uri": "https://localhost:8080/",
     "height": 1000
    },
    "executionInfo": {
     "elapsed": 4407,
     "status": "ok",
     "timestamp": 1690298237041,
     "user": {
      "displayName": "Ian Housman",
      "userId": "00382093583884444463"
     },
     "user_tz": 360
    },
    "id": "704e7fb1",
    "outputId": "1b0f740a-eb14-4911-e2b4-dd596beccc72"
   },
   "outputs": [
    {
     "name": "stdout",
     "output_type": "stream",
     "text": [
      "Get Processed Landsat and Sentinel2 Scenes: \n",
      "Start date: Jun 01 2009 , End date: May 30 2012\n",
      "Get Processed Landsat: \n",
      "Start date: Jun 01 2009 , End date: May 30 2012\n",
      "Including All Landsat 7\n",
      "Applying Fmask Cloud Mask\n",
      "Applying Fmask Shadow Mask\n",
      "Get Processed Sentinel2: \n",
      "Start date: Jun 01 2009 , End date: May 30 2012\n",
      "Using S2 Collection: COPERNICUS/S2_HARMONIZED\n",
      "Joining pre-computed cloud probabilities from: COPERNICUS/S2_CLOUD_PROBABILITY\n",
      "Setting to aggregate instead of resample \n",
      "Converting S2 data to daily mosaics\n",
      "Apply Cloud Probability\n",
      "Running Chastain et al 2019 harmonization\n"
     ]
    }
   ],
   "source": [
    "#Call on master wrapper function to get Landsat scenes and composites\n",
    "lsAndTs = getImagesLib.getLandsatAndSentinel2HybridWrapper(studyArea.geometry().bounds(50,'EPSG:5070'),\n",
    "                                                           startYear,\n",
    "                                                           endYear,\n",
    "                                                           startJulian,\n",
    "                                                           endJulian,\n",
    "                                                           includeSLCOffL7=includeSLCOffL7,\n",
    "                                                           applyTDOMLandsat = applyTDOMLandsat,\n",
    "                                                           applyTDOMSentinel2 = applyTDOMSentinel2)\n",
    "\n",
    "\n",
    "#Separate into scenes and composites for subsequent analysis\n",
    "processedScenes = lsAndTs['processedScenes']\n",
    "processedComposites = lsAndTs['processedComposites']"
   ]
  },
  {
   "cell_type": "markdown",
   "id": "b982ad18",
   "metadata": {},
   "source": [
    "#### Add to map\n",
    "\n",
    "Run the codeblock below to add the composites you created to the map again to inspect your results."
   ]
  },
  {
   "cell_type": "code",
   "execution_count": 27,
   "id": "a4ad9b01",
   "metadata": {
    "colab": {
     "base_uri": "https://localhost:8080/",
     "height": 1000
    },
    "executionInfo": {
     "elapsed": 4407,
     "status": "ok",
     "timestamp": 1690298237041,
     "user": {
      "displayName": "Ian Housman",
      "userId": "00382093583884444463"
     },
     "user_tz": 360
    },
    "id": "704e7fb1",
    "outputId": "1b0f740a-eb14-4911-e2b4-dd596beccc72"
   },
   "outputs": [
    {
     "name": "stdout",
     "output_type": "stream",
     "text": [
      "Adding layer: L7 added 152-151\n",
      "Starting webmap\n",
      "Using default refresh token for geeView: /home/jupyter/.config/earthengine/credentials\n",
      "Local web server at: http://localhost:1237/geeView/ already serving.\n",
      "cwd /home/jupyter/lcms-training\n",
      "Workbench Proxy URL: https://7c39a91cfd2f6ff9-dot-us-central1.notebooks.googleusercontent.com/proxy/1237/geeView/?accessToken=None\n"
     ]
    },
    {
     "data": {
      "text/html": [
       "\n",
       "        <iframe\n",
       "            width=\"100%\"\n",
       "            height=\"525px\"\n",
       "            src=\"https://7c39a91cfd2f6ff9-dot-us-central1.notebooks.googleusercontent.com/proxy/1237/geeView/?accessToken=None\"\n",
       "            frameborder=\"0\"\n",
       "            allowfullscreen\n",
       "            \n",
       "        ></iframe>\n",
       "        "
      ],
      "text/plain": [
       "<IPython.lib.display.IFrame at 0x7f2728b32aa0>"
      ]
     },
     "metadata": {},
     "output_type": "display_data"
    },
    {
     "name": "stderr",
     "output_type": "stream",
     "text": [
      "127.0.0.1 - - [13/Sep/2023 17:29:40] \"GET /geeView/js/runGeeViz.js HTTP/1.1\" 200 -\n"
     ]
    }
   ],
   "source": [
    "#Turn off layers from previous iteration\n",
    "Map.turnOffAllLayers()\n",
    "\n",
    "Map.addTimeLapse(processedComposites,getImagesLib.vizParamsFalse,'L7 added {}-{}'.format(startJulian,endJulian),True)\n",
    "\n",
    "\n",
    "# Stop map from centering on the study area\n",
    "Map.mapCommandList = []\n",
    "\n",
    "# Turn on the insepctor\n",
    "Map.turnOnInspector()\n",
    "\n",
    "Map.view()"
   ]
  },
  {
   "cell_type": "markdown",
   "id": "7e59174d",
   "metadata": {
    "colab": {
     "base_uri": "https://localhost:8080/",
     "height": 1000
    },
    "executionInfo": {
     "elapsed": 4407,
     "status": "ok",
     "timestamp": 1690298237041,
     "user": {
      "displayName": "Ian Housman",
      "userId": "00382093583884444463"
     },
     "user_tz": 360
    },
    "id": "704e7fb1",
    "outputId": "1b0f740a-eb14-4911-e2b4-dd596beccc72"
   },
   "source": [
    "#### Inspect the outputs\n",
    "Turn on the layers in the map viewer if necessary. \n",
    "\n",
    "Toggle back and forth between the Default Params and the new composites with Landsat 7 added. Zoom in to view the composites in more detail.\n",
    "\n",
    "You'll notice this helps fill in the holes, but introduces many cloud-related artifacts."
   ]
  },
  {
   "cell_type": "markdown",
   "id": "4218237e",
   "metadata": {},
   "source": [
    "## 2.4: Improve Cloud masking \n",
    "Next you'll improve the cloud masking. [Fmask](https://www.sciencedirect.com/science/article/abs/pii/S0034425714005069) is used by default for Landsat, but this algorithm misses some clouds.\n",
    "\n",
    "We'll try the adding in the [cloudScore](https://developers.google.com/earth-engine/guides/landsat#simple-cloud-score) method to mask clouds in Landsat.\n",
    "\n",
    "We do this by setting the ```applyCloudScoreLandsat``` parameter\n",
    "\n",
    "### 2.4.1: Add cloud masking parameter\n",
    "\n",
    "Run the code block below to add the `applyCloudScoreLandsat` parameter.\n",
    "\n",
    "CloudScore struggles with commission error over bright surfaces (masking out extremely bright cool areas as cloud). The `performCloudScoreOffset` method can reduce this error by finding if a pixel typically has a high cloudScore and adjust the cloudScore threshold for those pixels. This method works well in areas with many observations and potential for bright cool sufaces (cold deserts, snowy areas, etc), but fails in areas with limited data. Therefore we will want to set this to `False` over Puerto Rico and the US Virgin Islands"
   ]
  },
  {
   "cell_type": "code",
   "execution_count": 58,
   "id": "d6c49abd",
   "metadata": {
    "colab": {
     "base_uri": "https://localhost:8080/",
     "height": 1000
    },
    "executionInfo": {
     "elapsed": 2691,
     "status": "ok",
     "timestamp": 1690298306083,
     "user": {
      "displayName": "Ian Housman",
      "userId": "00382093583884444463"
     },
     "user_tz": 360
    },
    "id": "6a648400",
    "outputId": "d8befeed-df28-43d3-bffa-24f0e9315887"
   },
   "outputs": [
    {
     "name": "stdout",
     "output_type": "stream",
     "text": [
      "Done\n"
     ]
    }
   ],
   "source": [
    "# Set cloudScore\n",
    "applyCloudScoreLandsat = True\n",
    "\n",
    "# Set performCloudScoreOffset\n",
    "performCloudScoreOffset = False\n",
    "\n",
    "print('Done')"
   ]
  },
  {
   "cell_type": "markdown",
   "id": "8dadbfc8",
   "metadata": {},
   "source": [
    "### Run master wrapper function\n",
    "\n",
    "Keeping all other parameters the same, run the `getLandsatAndSentinel2HybridWrapper` function again. This time, add in the new parameters."
   ]
  },
  {
   "cell_type": "code",
   "execution_count": 59,
   "id": "38fb8f70",
   "metadata": {
    "colab": {
     "base_uri": "https://localhost:8080/",
     "height": 1000
    },
    "executionInfo": {
     "elapsed": 2691,
     "status": "ok",
     "timestamp": 1690298306083,
     "user": {
      "displayName": "Ian Housman",
      "userId": "00382093583884444463"
     },
     "user_tz": 360
    },
    "id": "6a648400",
    "outputId": "d8befeed-df28-43d3-bffa-24f0e9315887"
   },
   "outputs": [
    {
     "name": "stdout",
     "output_type": "stream",
     "text": [
      "Get Processed Landsat and Sentinel2 Scenes: \n",
      "Start date: Jun 01 2009 , End date: May 30 2012\n",
      "Get Processed Landsat: \n",
      "Start date: Jun 01 2009 , End date: May 30 2012\n",
      "Including All Landsat 7\n",
      "Applying Cloud Score\n",
      "Not computing cloudScore offset\n",
      "Applying Fmask Cloud Mask\n",
      "Applying Fmask Shadow Mask\n",
      "Get Processed Sentinel2: \n",
      "Start date: Jun 01 2009 , End date: May 30 2012\n",
      "Using S2 Collection: COPERNICUS/S2_HARMONIZED\n",
      "Joining pre-computed cloud probabilities from: COPERNICUS/S2_CLOUD_PROBABILITY\n",
      "Setting to aggregate instead of resample \n",
      "Converting S2 data to daily mosaics\n",
      "Apply Cloud Probability\n",
      "Running Chastain et al 2019 harmonization\n"
     ]
    }
   ],
   "source": [
    "#Call on master wrapper function to get Landsat scenes and composites\n",
    "lsAndTs = getImagesLib.getLandsatAndSentinel2HybridWrapper(studyArea.geometry().bounds(50,'EPSG:5070'),\n",
    "                                                           startYear,\n",
    "                                                           endYear,\n",
    "                                                           startJulian,\n",
    "                                                           endJulian,\n",
    "                                                           includeSLCOffL7=includeSLCOffL7,\n",
    "                                                           applyTDOMLandsat = applyTDOMLandsat,\n",
    "                                                           applyTDOMSentinel2 = applyTDOMSentinel2,\n",
    "                                                           applyCloudScoreLandsat=applyCloudScoreLandsat,\n",
    "                                                            performCloudScoreOffset = performCloudScoreOffset)\n",
    "\n",
    "\n",
    "#Separate into scenes and composites for subsequent analysis\n",
    "processedScenes = lsAndTs['processedScenes']\n",
    "processedComposites = lsAndTs['processedComposites']"
   ]
  },
  {
   "cell_type": "markdown",
   "id": "5e398f16",
   "metadata": {},
   "source": [
    "### Add to Map\n",
    "\n",
    "Run the code block below to add the new layers to the map."
   ]
  },
  {
   "cell_type": "code",
   "execution_count": 60,
   "id": "f80c69ac",
   "metadata": {
    "colab": {
     "base_uri": "https://localhost:8080/",
     "height": 1000
    },
    "executionInfo": {
     "elapsed": 2691,
     "status": "ok",
     "timestamp": 1690298306083,
     "user": {
      "displayName": "Ian Housman",
      "userId": "00382093583884444463"
     },
     "user_tz": 360
    },
    "id": "6a648400",
    "outputId": "d8befeed-df28-43d3-bffa-24f0e9315887"
   },
   "outputs": [
    {
     "name": "stdout",
     "output_type": "stream",
     "text": [
      "Adding layer: L7 and CloudScore added 152-151\n",
      "Starting webmap\n",
      "Using default refresh token for geeView: /home/jupyter/.config/earthengine/credentials\n",
      "Local web server at: http://localhost:1237/geeView/ already serving.\n",
      "cwd /home/jupyter/lcms-training\n",
      "Workbench Proxy URL: https://53c21733d8125e22-dot-us-west3.notebooks.googleusercontent.com/proxy/1237/geeView/?accessToken=None\n"
     ]
    },
    {
     "data": {
      "text/html": [
       "\n",
       "        <iframe\n",
       "            width=\"100%\"\n",
       "            height=\"525px\"\n",
       "            src=\"https://53c21733d8125e22-dot-us-west3.notebooks.googleusercontent.com/proxy/1237/geeView/?accessToken=None\"\n",
       "            frameborder=\"0\"\n",
       "            allowfullscreen\n",
       "            \n",
       "        ></iframe>\n",
       "        "
      ],
      "text/plain": [
       "<IPython.lib.display.IFrame at 0x7f4fc9ebcee0>"
      ]
     },
     "metadata": {},
     "output_type": "display_data"
    },
    {
     "name": "stderr",
     "output_type": "stream",
     "text": [
      "127.0.0.1 - - [23/Aug/2023 19:08:08] \"GET /geeView/js/runGeeViz.js HTTP/1.1\" 200 -\n"
     ]
    }
   ],
   "source": [
    "#Turn off layers from previous iteration\n",
    "Map.turnOffAllLayers()\n",
    "\n",
    "\n",
    "Map.addTimeLapse(processedComposites,getImagesLib.vizParamsFalse,'L7 and CloudScore added {}-{}'.format(startJulian,endJulian),True)\n",
    "\n",
    "\n",
    "Map.view()"
   ]
  },
  {
   "cell_type": "markdown",
   "id": "a770af6e",
   "metadata": {},
   "source": [
    "### Inspect\n",
    "Toggle on the layers in the viewer above. Inspect the **L7 and cloudScore** output. Notice that these layers look much better and have fewer cloud masking artifacts than the previous layers. \n",
    "\n",
    "However, you can still see some dark ares. These are likely due to cloud shadows that were not masked out-- the Fmask cloud shadow mask typically does not mask out all cloud shadows. \n",
    "\n",
    "To mask cloud shadow, we use a method called the [Temporal Dark Outlier Mask (TDOM)](https://www.mdpi.com/2072-4292/10/8/1184) that works well to mask cloud shadows. \n",
    "\n"
   ]
  },
  {
   "cell_type": "markdown",
   "id": "35609104",
   "metadata": {},
   "source": [
    "### 2.4.2: Use Temporal Dark Outlier Mask (TDOM) to mask cloud shadows\n",
    "The Temporal Dark Outlier Mask (TDOM) method of masking cloud shadows calculates the mean and standard deviation of the NIR and SWIR bands over a pixel in a time series. The algorithm finds dark pixels that are outliers (> 2 standard devitations) to determine which pixels are likely to be cloud shadows (dark pixels that aren't normally dark).\n",
    "\n",
    "Find [details of the TDOM method](https://github.com/gee-community/geeViz/blob/bd75d38c2043fc3af795c9c35ae769c71c00f56a/getImagesLib.py#L1141) in the geeViz library.\n",
    "\n",
    "#### Set TDOM parameter\n",
    "\n",
    " - ``` applyTDOM ``` - default = **False** \n",
    "\n",
    "Run the code block below to set the TDOM parameter."
   ]
  },
  {
   "cell_type": "code",
   "execution_count": 62,
   "id": "6143f886",
   "metadata": {
    "colab": {
     "base_uri": "https://localhost:8080/",
     "height": 1000
    },
    "executionInfo": {
     "elapsed": 2608,
     "status": "ok",
     "timestamp": 1690298428991,
     "user": {
      "displayName": "Ian Housman",
      "userId": "00382093583884444463"
     },
     "user_tz": 360
    },
    "id": "262c5658",
    "outputId": "862b6a1a-52af-4d2e-e248-f1392bf6008a"
   },
   "outputs": [
    {
     "name": "stdout",
     "output_type": "stream",
     "text": [
      "Done\n"
     ]
    }
   ],
   "source": [
    "#Set TDOM to true\n",
    "applyTDOMLandsat = True\n",
    "applyTDOMSentinel2 = True\n",
    "print('Done')"
   ]
  },
  {
   "cell_type": "markdown",
   "id": "e4cde46c",
   "metadata": {},
   "source": [
    "#### Run master wrapper function\n",
    "\n",
    "Call on master wrapper function to get Landat scenes and composites\n",
    "In order to identify dark outliers, we will extend the dates by 3 years in either direction to get a larger sample"
   ]
  },
  {
   "cell_type": "code",
   "execution_count": 82,
   "id": "f715d3a5",
   "metadata": {
    "colab": {
     "base_uri": "https://localhost:8080/",
     "height": 1000
    },
    "executionInfo": {
     "elapsed": 2608,
     "status": "ok",
     "timestamp": 1690298428991,
     "user": {
      "displayName": "Ian Housman",
      "userId": "00382093583884444463"
     },
     "user_tz": 360
    },
    "id": "262c5658",
    "outputId": "862b6a1a-52af-4d2e-e248-f1392bf6008a"
   },
   "outputs": [
    {
     "name": "stdout",
     "output_type": "stream",
     "text": [
      "Get Processed Landsat and Sentinel2 Scenes: \n",
      "Start date: Jun 01 2006 , End date: May 31 2015\n",
      "Get Processed Landsat: \n",
      "Start date: Jun 01 2006 , End date: May 31 2015\n",
      "Including All Landsat 7\n",
      "Applying Cloud Score\n",
      "Computing cloudScore offset\n",
      "Applying Fmask Cloud Mask\n",
      "Applying Fmask Shadow Mask\n",
      "Get Processed Sentinel2: \n",
      "Start date: Jun 01 2006 , End date: May 31 2015\n",
      "Using S2 Collection: COPERNICUS/S2_HARMONIZED\n",
      "Joining pre-computed cloud probabilities from: COPERNICUS/S2_CLOUD_PROBABILITY\n",
      "Setting to aggregate instead of resample \n",
      "Converting S2 data to daily mosaics\n",
      "Apply Cloud Probability\n",
      "Running Chastain et al 2019 harmonization\n"
     ]
    }
   ],
   "source": [
    "#Call on master wrapper function to get Landat scenes and composites\n",
    "#In order to identify dark outliers, we will extend the dates by 3 years in either direction to get a larger sample\n",
    "lsAndTs = getImagesLib.getLandsatAndSentinel2HybridWrapper(studyArea.geometry().bounds(50,'EPSG:5070'),\n",
    "                                                           startYear - 3,\n",
    "                                                           endYear + 3,\n",
    "                                                           startJulian,\n",
    "                                                           endJulian,\n",
    "                                                           includeSLCOffL7=includeSLCOffL7,\n",
    "                                                           applyCloudScoreLandsat=applyCloudScoreLandsat,\n",
    "                                                           applyTDOMLandsat = applyTDOMLandsat,\n",
    "                                                           applyTDOMSentinel2 = applyTDOMSentinel2)\n",
    "\n",
    "\n",
    "#Separate into scenes and composites for subsequent analysis\n",
    "processedScenes = lsAndTs['processedScenes']\n",
    "processedComposites = lsAndTs['processedComposites']"
   ]
  },
  {
   "cell_type": "markdown",
   "id": "c77e68c6",
   "metadata": {},
   "source": [
    "### Add to map\n",
    "\n",
    "Run the code block below to add the new layers to the map."
   ]
  },
  {
   "cell_type": "code",
   "execution_count": 83,
   "id": "9f457875",
   "metadata": {
    "colab": {
     "base_uri": "https://localhost:8080/",
     "height": 1000
    },
    "executionInfo": {
     "elapsed": 2608,
     "status": "ok",
     "timestamp": 1690298428991,
     "user": {
      "displayName": "Ian Housman",
      "userId": "00382093583884444463"
     },
     "user_tz": 360
    },
    "id": "262c5658",
    "outputId": "862b6a1a-52af-4d2e-e248-f1392bf6008a"
   },
   "outputs": [
    {
     "name": "stdout",
     "output_type": "stream",
     "text": [
      "Adding layer: CloudScore and TDOM added 152-151\n",
      "Starting webmap\n",
      "Using default refresh token for geeView: /home/jupyter/.config/earthengine/credentials\n",
      "Local web server at: http://localhost:1237/geeView/ already serving.\n",
      "cwd /home/jupyter/lcms-training\n",
      "Workbench Proxy URL: https://3b40cb8a2076f1b6-dot-us-west3.notebooks.googleusercontent.com/proxy/1237/geeView/?accessToken=None\n"
     ]
    },
    {
     "data": {
      "text/html": [
       "\n",
       "        <iframe\n",
       "            width=\"100%\"\n",
       "            height=\"525px\"\n",
       "            src=\"https://3b40cb8a2076f1b6-dot-us-west3.notebooks.googleusercontent.com/proxy/1237/geeView/?accessToken=None\"\n",
       "            frameborder=\"0\"\n",
       "            allowfullscreen\n",
       "            \n",
       "        ></iframe>\n",
       "        "
      ],
      "text/plain": [
       "<IPython.lib.display.IFrame at 0x7f29a9fd4670>"
      ]
     },
     "metadata": {},
     "output_type": "display_data"
    },
    {
     "name": "stderr",
     "output_type": "stream",
     "text": [
      "127.0.0.1 - - [23/Aug/2023 20:56:49] \"GET /geeView/js/runGeeViz.js HTTP/1.1\" 200 -\n"
     ]
    }
   ],
   "source": [
    "#Turn off layers from previous iteration\n",
    "Map.turnOffAllLayers()\n",
    "\n",
    "Map.addTimeLapse(processedComposites,getImagesLib.vizParamsFalse,'CloudScore and TDOM added {}-{}'.format(startJulian,endJulian),True)\n",
    "\n",
    "Map.view()"
   ]
  },
  {
   "cell_type": "markdown",
   "id": "dd0b408a",
   "metadata": {
    "colab": {
     "base_uri": "https://localhost:8080/",
     "height": 1000
    },
    "executionInfo": {
     "elapsed": 2608,
     "status": "ok",
     "timestamp": 1690298428991,
     "user": {
      "displayName": "Ian Housman",
      "userId": "00382093583884444463"
     },
     "user_tz": 360
    },
    "id": "262c5658",
    "outputId": "862b6a1a-52af-4d2e-e248-f1392bf6008a"
   },
   "source": [
    "#### Inspect\n",
    "Toggle on the new layer. You'll notice this cleans up the cloud masking a lot. \n",
    "\n",
    "#### TDOM is computationally intensive\n",
    "However, while TDOM is a great cloud shadow masking method, it is a bit computationally intensive since it computes the mean and standard deviation over a large stack of data.\n",
    "\n",
    "In order to avoid re-computing the stats, we store pre-computed stats. For the LCMS project, we have precomputed stats for CONUS, AK, HI, PuertoRico, and the USVI. We will be using these pre-computed stats\n",
    "\n",
    "\n",
    "It is optional that you use pre-computed stats. If none are provided, TDOM stats will be computed on-the-fly. \n",
    "\n",
    "You can create and store precomputed TDOM stats using the following code chunk: \n",
    "\n",
    "```\n",
    "{\n",
    "  this is an example set of code to show people how to compute TDOM stats\n",
    "  we'll fill this in later!!\n",
    "}\n",
    "```\n",
    "#### Inspect raw, precomputed TDOM stats\n",
    "\n",
    "Run the chuck of code below to load the precomputed TDOM stats and examine them on the map. "
   ]
  },
  {
   "cell_type": "code",
   "execution_count": 66,
   "id": "76ef8dd8",
   "metadata": {},
   "outputs": [
    {
     "name": "stdout",
     "output_type": "stream",
     "text": [
      "Adding layer: Landsat TDOM Stats\n",
      "Adding layer: Sentinel 2 TDOM Stats\n",
      "Starting webmap\n",
      "Using default refresh token for geeView: /home/jupyter/.config/earthengine/credentials\n",
      "Local web server at: http://localhost:1237/geeView/ already serving.\n",
      "cwd /home/jupyter/lcms-training\n",
      "Workbench Proxy URL: https://53c21733d8125e22-dot-us-west3.notebooks.googleusercontent.com/proxy/1237/geeView/?accessToken=None\n"
     ]
    },
    {
     "data": {
      "text/html": [
       "\n",
       "        <iframe\n",
       "            width=\"100%\"\n",
       "            height=\"525px\"\n",
       "            src=\"https://53c21733d8125e22-dot-us-west3.notebooks.googleusercontent.com/proxy/1237/geeView/?accessToken=None\"\n",
       "            frameborder=\"0\"\n",
       "            allowfullscreen\n",
       "            \n",
       "        ></iframe>\n",
       "        "
      ],
      "text/plain": [
       "<IPython.lib.display.IFrame at 0x7f4fc90265c0>"
      ]
     },
     "metadata": {},
     "output_type": "display_data"
    },
    {
     "name": "stderr",
     "output_type": "stream",
     "text": [
      "127.0.0.1 - - [23/Aug/2023 19:19:15] \"GET /geeView/?accessToken=None HTTP/1.1\" 200 -\n",
      "127.0.0.1 - - [23/Aug/2023 19:19:15] \"GET /geeView/js/runGeeViz.js HTTP/1.1\" 200 -\n",
      "127.0.0.1 - - [23/Aug/2023 19:19:15] \"GET /geeView/css/style.min.css HTTP/1.1\" 200 -\n",
      "127.0.0.1 - - [23/Aug/2023 19:19:15] \"GET /geeView/js/lcms-viewer.min.js HTTP/1.1\" 200 -\n",
      "127.0.0.1 - - [23/Aug/2023 19:19:15] \"GET /geeView/js/gena-gee-palettes.js HTTP/1.1\" 200 -\n",
      "127.0.0.1 - - [23/Aug/2023 19:19:15] \"GET /geeView/js/load.min.js HTTP/1.1\" 200 -\n",
      "127.0.0.1 - - [23/Aug/2023 19:19:15] \"GET /geeView/images/logos_usda-fs.svg HTTP/1.1\" 200 -\n",
      "127.0.0.1 - - [23/Aug/2023 19:19:16] \"GET /geeView/images/GEE_logo_transparent.png HTTP/1.1\" 200 -\n",
      "127.0.0.1 - - [23/Aug/2023 19:19:16] \"GET /geeView/images/GEE.png HTTP/1.1\" 200 -\n",
      "127.0.0.1 - - [23/Aug/2023 19:19:16] \"GET /geeView/images/usdalogo.png HTTP/1.1\" 200 -\n",
      "127.0.0.1 - - [23/Aug/2023 19:19:16] \"GET /geeView/images/usfslogo.png HTTP/1.1\" 200 -\n",
      "127.0.0.1 - - [23/Aug/2023 19:19:16] \"GET /geeView/images/menu-hamburger_ffffff.svg HTTP/1.1\" 200 -\n",
      "127.0.0.1 - - [23/Aug/2023 19:19:16] \"GET /geeView/images/layer_icon.png HTTP/1.1\" 200 -\n"
     ]
    }
   ],
   "source": [
    "# clear map\n",
    "Map.clearMap()\n",
    "\n",
    "# load precomputed tdom stats\n",
    "landsat_tdom_stats = ee.Image('projects/lcms-tcc-shared/assets/CS-TDOM-Stats/PR-USVI/TDOM_stats/Landsat_TDOM_Stats_1984_2021')\\\n",
    "                    .select(['Landsat_nir_.*','Landsat_swir1_.*'])\\\n",
    "                    .divide(10000)\n",
    "s2_tdom_stats = ee.Image('projects/lcms-tcc-shared/assets/CS-TDOM-Stats/PR-USVI/TDOM_stats/Sentinel2_TDOM_Stats_2015_2021')\\\n",
    "                    .select(['Sentinel2_nir_.*','Sentinel2_swir1_.*'])\\\n",
    "                    .divide(10000)\n",
    "Map.addLayer(landsat_tdom_stats,{'min':0.15,'max':0.35,'bands':'Landsat_nir_mean','palette':'222,080'},'Landsat TDOM Stats')\n",
    "Map.addLayer(s2_tdom_stats,{'min':0.15,'max':0.35,'bands':'Sentinel2_nir_mean','palette':'222,080'},'Sentinel 2 TDOM Stats')\n",
    "\n",
    "Map.turnOnInspector()\n",
    "Map.view()\n"
   ]
  },
  {
   "cell_type": "markdown",
   "id": "cfc60250",
   "metadata": {},
   "source": [
    "## 2.5: Prepare final composites and export\n",
    "Now that you've gone through some of the parameters that can be changed for the composites, we will use both Landsat and Sentinel2 to get the best possible composites. \n",
    "\n",
    "Here, you will manually set all parameters for the `getLandatAndSentinel2HybridWrapper`. \n",
    "\n",
    "### Projections\n",
    "\n",
    "Some common projections are accessed through `getImagesLib.common_projection` \n",
    "LCMS uses the same snap grid (transform) and projection (crs) as the USGS NLCD. This is often called USGS Albers.\n",
    "You can change this to any projection you'd like based on your study area\n",
    "\n",
    "\n",
    "### Set parameters and Export\n",
    "\n",
    "Review the [documentation](https://github.com/redcastle-resources/geeViz/blob/bd75d38c2043fc3af795c9c35ae769c71c00f56a/getImagesLib.py#L3280) to recall the default values for each of these parameters.\n",
    "\n",
    "Note in the function below where the parameters are different from the defaults. \n",
    "\n",
    "Run the code block below to prepare and export composites. "
   ]
  },
  {
   "cell_type": "code",
   "execution_count": 69,
   "id": "dd114804",
   "metadata": {
    "colab": {
     "base_uri": "https://localhost:8080/",
     "height": 1000
    },
    "executionInfo": {
     "elapsed": 21613,
     "status": "ok",
     "timestamp": 1690298478420,
     "user": {
      "displayName": "Ian Housman",
      "userId": "00382093583884444463"
     },
     "user_tz": 360
    },
    "id": "bnuTuFdBaWzw",
    "outputId": "c0605bd6-4f1e-493f-8faf-28c2e65b3efb"
   },
   "outputs": [
    {
     "name": "stdout",
     "output_type": "stream",
     "text": [
      "Get Processed Landsat and Sentinel2 Scenes: \n",
      "Start date: May 31 1984 , End date: May 31 2023\n",
      "Get Processed Landsat: \n",
      "Start date: May 31 1984 , End date: May 31 2023\n",
      "Defringing L4 and L5\n",
      "Including All Landsat 7\n",
      "Setting resample method to  bicubic\n",
      "Applying Cloud Score\n",
      "Not computing cloudScore offset\n",
      "Applying Fmask Cloud Mask\n",
      "Applying TDOM Shadow Mask\n",
      "Using pre-computed irMean for TDOM\n",
      "Using pre-computed irStdDev for TDOM\n",
      "Applying Fmask Shadow Mask\n",
      "Get Processed Sentinel2: \n",
      "Start date: May 31 1984 , End date: May 31 2023\n",
      "Using S2 Collection: COPERNICUS/S2_HARMONIZED\n",
      "Joining pre-computed cloud probabilities from: COPERNICUS/S2_CLOUD_PROBABILITY\n",
      "Setting resample method to  bicubic\n",
      "Converting S2 data to daily mosaics\n",
      "Apply Cloud Probability\n",
      "Applying TDOM\n",
      "Using pre-computed irMean for TDOM\n",
      "Using pre-computed irStdDev for TDOM\n",
      "Exporting: Landsat-Sentinel2-Hybrid_TOA_medoid_1984_1984_152_151\n",
      "Exporting: Landsat-Sentinel2-Hybrid_TOA_medoid_1985_1985_152_151\n",
      "Exporting: Landsat-Sentinel2-Hybrid_TOA_medoid_1986_1986_152_151\n",
      "Exporting: Landsat-Sentinel2-Hybrid_TOA_medoid_1987_1987_152_151\n",
      "Exporting: Landsat-Sentinel2-Hybrid_TOA_medoid_1988_1988_152_151\n",
      "Exporting: Landsat-Sentinel2-Hybrid_TOA_medoid_1989_1989_152_151\n",
      "Exporting: Landsat-Sentinel2-Hybrid_TOA_medoid_1990_1990_152_151\n",
      "Exporting: Landsat-Sentinel2-Hybrid_TOA_medoid_1991_1991_152_151\n",
      "Exporting: Landsat-Sentinel2-Hybrid_TOA_medoid_1992_1992_152_151\n",
      "Exporting: Landsat-Sentinel2-Hybrid_TOA_medoid_1993_1993_152_151\n",
      "Exporting: Landsat-Sentinel2-Hybrid_TOA_medoid_1994_1994_152_151\n",
      "Exporting: Landsat-Sentinel2-Hybrid_TOA_medoid_1995_1995_152_151\n",
      "Exporting: Landsat-Sentinel2-Hybrid_TOA_medoid_1996_1996_152_151\n",
      "Exporting: Landsat-Sentinel2-Hybrid_TOA_medoid_1997_1997_152_151\n",
      "Exporting: Landsat-Sentinel2-Hybrid_TOA_medoid_1998_1998_152_151\n",
      "Exporting: Landsat-Sentinel2-Hybrid_TOA_medoid_1999_1999_152_151\n",
      "Exporting: Landsat-Sentinel2-Hybrid_TOA_medoid_2000_2000_152_151\n",
      "Exporting: Landsat-Sentinel2-Hybrid_TOA_medoid_2001_2001_152_151\n",
      "Exporting: Landsat-Sentinel2-Hybrid_TOA_medoid_2002_2002_152_151\n",
      "Exporting: Landsat-Sentinel2-Hybrid_TOA_medoid_2003_2003_152_151\n",
      "Exporting: Landsat-Sentinel2-Hybrid_TOA_medoid_2004_2004_152_151\n",
      "Exporting: Landsat-Sentinel2-Hybrid_TOA_medoid_2005_2005_152_151\n",
      "Exporting: Landsat-Sentinel2-Hybrid_TOA_medoid_2006_2006_152_151\n",
      "Exporting: Landsat-Sentinel2-Hybrid_TOA_medoid_2007_2007_152_151\n",
      "Exporting: Landsat-Sentinel2-Hybrid_TOA_medoid_2008_2008_152_151\n",
      "Exporting: Landsat-Sentinel2-Hybrid_TOA_medoid_2009_2009_152_151\n",
      "Exporting: Landsat-Sentinel2-Hybrid_TOA_medoid_2010_2010_152_151\n",
      "Exporting: Landsat-Sentinel2-Hybrid_TOA_medoid_2011_2011_152_151\n",
      "Exporting: Landsat-Sentinel2-Hybrid_TOA_medoid_2012_2012_152_151\n",
      "Exporting: Landsat-Sentinel2-Hybrid_TOA_medoid_2013_2013_152_151\n",
      "Exporting: Landsat-Sentinel2-Hybrid_TOA_medoid_2014_2014_152_151\n",
      "Exporting: Landsat-Sentinel2-Hybrid_TOA_medoid_2015_2015_152_151\n",
      "Exporting: Landsat-Sentinel2-Hybrid_TOA_medoid_2016_2016_152_151\n",
      "Exporting: Landsat-Sentinel2-Hybrid_TOA_medoid_2017_2017_152_151\n",
      "Exporting: Landsat-Sentinel2-Hybrid_TOA_medoid_2018_2018_152_151\n",
      "Exporting: Landsat-Sentinel2-Hybrid_TOA_medoid_2019_2019_152_151\n",
      "Exporting: Landsat-Sentinel2-Hybrid_TOA_medoid_2020_2020_152_151\n",
      "Exporting: Landsat-Sentinel2-Hybrid_TOA_medoid_2021_2021_152_151\n",
      "Exporting: Landsat-Sentinel2-Hybrid_TOA_medoid_2022_2022_152_151\n"
     ]
    }
   ],
   "source": [
    "# Run get images, set parameters manually, and export\n",
    "lsAndTs = getImagesLib.getLandsatAndSentinel2HybridWrapper(\\\n",
    "  \n",
    "    # study area and time                                                          \n",
    "    studyArea = studyArea,\n",
    "    startYear = 1984,\n",
    "    endYear = 2022,\n",
    "    startJulian = 152,\n",
    "    endJulian = 151,\n",
    "\n",
    "    # Moving window options\n",
    "    timebuffer =  0,# If multi-year moving window is needed, use timebuffer > 0 (e.g. timebuffer = 1 will result in a 3 year moving window)\n",
    "    weights =  [1],# To compliment the timebuffer, set weights for each year of the moving window. This enables the center year to have more weight (e.g. [1,3,1] would weight the center year if timebuffer = 1 3x over the buffer years)\n",
    "\n",
    "    # composite methods and input imagery\n",
    "    compositingMethod = 'medoid', # Specify median or medoid. Medoid allows for storing only the spectral and ancillary bands without indices\n",
    "    toaOrSR = 'TOA', # It is advised to only use TOA when combining Landsat and Sentinel-2 since the Sentinel-2 SR data in GEE are terrain-corrected and Landsat are not\n",
    "    includeSLCOffL7 = True, # Whether to include Landsat 7 after May 2003. Scanline artifacts can be found in composites when True\n",
    "    defringeL5 = True, # Whether to get rid of fringe edges found mostly on Landsat 4 and 5\n",
    "    landsatCollectionVersion = 'C2', # To use Collection 1 or 2. Only use C1 if doing legacy work prior to 2022\n",
    "\n",
    "    # cloud and shadow masking\n",
    "    applyQABand = False, # Whether to apply the default Sentinel-2 QA mask - this method is terrible and should not be used\n",
    "    applyCloudProbability = True,# Whether to apply S2Cloudless to Sentinel-2 data. This method works really well\n",
    "    applyShadowShift = False, # This method is largely deprecated\n",
    "    applyCloudScoreLandsat = True, # We use this since fMask struggles for cloud masking\n",
    "    applyCloudScoreSentinel2 = False, # We typically do not use cloudScore for Sentinel-2 since S2Cloudless works so well\n",
    "    applyTDOMLandsat = True, # We use TDOM for Landsat since the fMask cloud shadow masking method struggles a lot\n",
    "    applyTDOMSentinel2 = True, # This is the only easily available Sentinel-2 cloud shadow masking method (as of Aug 2023)\n",
    "    applyFmaskCloudMask = True,\n",
    "    applyFmaskCloudShadowMask = True,\n",
    "    applyFmaskSnowMask = False,\n",
    "    cloudHeights = ee.List.sequence(500,10000,500), # This compliments applyShadowShift and is largely deprecated,\n",
    "    cloudScoreThresh = 10,# The threshold applied to the cloudScore for Landsat and/or Sentinel-2\n",
    "    performCloudScoreOffset = False,# Set this to False in areas with limited data and/or limited bright cool surfaces\n",
    "    cloudScorePctl = 10, # If performCloudScoreOffset is set to True, this is the percentile of the cloudScores used to see if an area typically has a high cloudScore\n",
    "    zScoreThresh = -1, # The TDOM Z-score threshold for finding dark outliers\n",
    "    shadowSumThresh = 0.35,# The sum of the shadowSumBands has to be below this to be considered dark\n",
    "    contractPixels = 1.5,# Inward buffer pixel radius to get rid of salt and pepper\n",
    "    dilatePixels = 3.5, # Outwoard buffer pixel radius to dilate the cloud shadow mask by\n",
    "    shadowSumBands = ['nir','swir1'], # Bands to use for TDOM to find dark outliers\n",
    "    cloudProbThresh = 40, # The S2Cloudless cloud probability threshold\n",
    "\n",
    "    # image processing\n",
    "    landsatResampleMethod = 'bicubic',\n",
    "    sentinel2ResampleMethod = 'bicubic',\n",
    "    convertToDailyMosaics = True, # Important if the composite observation count is important since Sentinel-2 has overlap with its tiled outputs\n",
    "    runChastainHarmonization = False, # Set to True in order to perform regression harmonization between Landsat and Sentinel 2\n",
    "    correctIllumination = False, # Method for illuminating hill shadows. This is largely deprecated and not used\n",
    "    correctScale = 250,\n",
    "\n",
    "    # export parameters\n",
    "    exportComposites = True,# Whether to export resulting composites\n",
    "    outputName = 'Landsat-Sentinel2-Hybrid',\n",
    "    exportPathRoot = export_composite_collection,\n",
    "    crs = getImagesLib.common_projections['NLCD_CONUS']['crs'],\n",
    "    transform = getImagesLib.common_projections['NLCD_CONUS']['transform'],\n",
    "    scale = None,\n",
    "    overwrite = False,# Whether to overwrite existing composites\n",
    "\n",
    "    # precomputed TDOM and cloudscore stats\n",
    "    preComputedLandsatCloudScoreOffset = None,\n",
    "    preComputedLandsatTDOMIRMean = landsat_tdom_stats.select(['.*_mean']),\n",
    "    preComputedLandsatTDOMIRStdDev = landsat_tdom_stats.select(['.*_stdDev']),\n",
    "    preComputedSentinel2CloudScoreOffset = None,\n",
    "    preComputedSentinel2TDOMIRMean = s2_tdom_stats.select(['.*_mean']),\n",
    "    preComputedSentinel2TDOMIRStdDev = s2_tdom_stats.select(['.*_stdDev'])\n",
    "                                                           )"
   ]
  },
  {
   "cell_type": "markdown",
   "id": "40958913",
   "metadata": {},
   "source": [
    "### Manage export tasks\n",
    "These export tasks can take anywhere from a few hours to a few days to run, depending on the size of your study area. It can be helpful to manage and observe the tasks after you've set them running. \n",
    "\n",
    "Below are some code snippets to use to manage and inspect the export tasks.\n",
    "\n",
    "Link to documentation about these code snippets."
   ]
  },
  {
   "cell_type": "code",
   "execution_count": null,
   "id": "6df6dfcb",
   "metadata": {},
   "outputs": [],
   "source": [
    "# If you'd like to track the tasks, use this:\n",
    "tml.trackTasks2()\n",
    "\n",
    "# If you want to cancel all running tasks, you can use this function\n",
    "# tml.batchCancel()\n",
    "\n",
    "# If you want to empty the collection of all images\n",
    "# aml.batchDelete(export_composite_collection, type = 'imageCollection')\n",
    "\n",
    "print('done')"
   ]
  },
  {
   "cell_type": "markdown",
   "id": "7384c4f0",
   "metadata": {},
   "source": [
    "### View composites as they are completed\n",
    "After your composites have been exported, you can view the composites in your folder. "
   ]
  },
  {
   "cell_type": "code",
   "execution_count": 13,
   "id": "fe05f2f4",
   "metadata": {
    "colab": {
     "base_uri": "https://localhost:8080/",
     "height": 685
    },
    "executionInfo": {
     "elapsed": 614,
     "status": "ok",
     "timestamp": 1690298551890,
     "user": {
      "displayName": "Ian Housman",
      "userId": "00382093583884444463"
     },
     "user_tz": 360
    },
    "id": "9YX8XITxpI4Q",
    "outputId": "61bfa47b-9ec2-4c94-e5ab-978a4eff2c42"
   },
   "outputs": [],
   "source": [
    "# View composites as they are completed\n",
    "composites = ee.ImageCollection(export_composite_collection)\n",
    "\n",
    "# If your composites have not yet exported, you can use the following line of code to inspect pre-computed composites instead\n",
    "composites = ee.ImageCollection(f'{pre_baked_path_root}/lcms-training_module-2_composites')\n"
   ]
  },
  {
   "cell_type": "markdown",
   "id": "3d40a4c7",
   "metadata": {},
   "source": [
    "### Inspect the outputs\n",
    "\n",
    "Explore the composites and some attributes that describe the quality of the composites."
   ]
  },
  {
   "cell_type": "code",
   "execution_count": 14,
   "id": "9efa279b",
   "metadata": {
    "colab": {
     "base_uri": "https://localhost:8080/",
     "height": 685
    },
    "executionInfo": {
     "elapsed": 614,
     "status": "ok",
     "timestamp": 1690298551890,
     "user": {
      "displayName": "Ian Housman",
      "userId": "00382093583884444463"
     },
     "user_tz": 360
    },
    "id": "9YX8XITxpI4Q",
    "outputId": "61bfa47b-9ec2-4c94-e5ab-978a4eff2c42"
   },
   "outputs": [
    {
     "name": "stdout",
     "output_type": "stream",
     "text": [
      "Adding layer: Composites\n",
      "Adding layer: Sensor\n",
      "Adding layer: Composite Observation Counts\n",
      "Starting webmap\n",
      "Using default refresh token for geeView: /home/jupyter/.config/earthengine/credentials\n",
      "Local web server at: http://localhost:1237/geeView/ already serving.\n",
      "cwd /home/jupyter/lcms-training\n",
      "Workbench Proxy URL: https://3b40cb8a2076f1b6-dot-us-west3.notebooks.googleusercontent.com/proxy/1237/geeView/?accessToken=None\n"
     ]
    },
    {
     "data": {
      "text/html": [
       "\n",
       "        <iframe\n",
       "            width=\"100%\"\n",
       "            height=\"525px\"\n",
       "            src=\"https://3b40cb8a2076f1b6-dot-us-west3.notebooks.googleusercontent.com/proxy/1237/geeView/?accessToken=None\"\n",
       "            frameborder=\"0\"\n",
       "            allowfullscreen\n",
       "            \n",
       "        ></iframe>\n",
       "        "
      ],
      "text/plain": [
       "<IPython.lib.display.IFrame at 0x7ff42b0b5d20>"
      ]
     },
     "metadata": {},
     "output_type": "display_data"
    },
    {
     "name": "stderr",
     "output_type": "stream",
     "text": [
      "127.0.0.1 - - [25/Aug/2023 18:30:23] \"GET /geeView/js/runGeeViz.js HTTP/1.1\" 200 -\n"
     ]
    }
   ],
   "source": [
    "# clear the map\n",
    "Map.clearMap()\n",
    "\n",
    "# First let's explore the composites and some attributes that can help understand how well the composites turned out\n",
    "Map.addTimeLapse(composites, getImagesLib.vizParamsFalse10k,'Composites')\n",
    "\n",
    "# By looking at the Sensor that is used, you can see \n",
    "# with the introduction of Landsat 8 in 2013 and then Sentinel 2 in 2016-2017, \n",
    "# composites become much better quality\n",
    "Map.addTimeLapse(composites.select('sensor'),{'min':4,'max':22,'palette':'088,808','classLegendDict':{'Landsat (Landsat 5 = 5, Landsat 7 = 7, etc...)':'088','Sentinel2 (Sentinel 2A = 21, Sentinel 2B = 22, etc....)':'808'}},'Sensor')\n",
    "Map.addTimeLapse(composites.select('compositeObsCount'),{'min':3,'max':10,'palette':'D0D,0D0'},'Composite Observation Counts')\n",
    "Map.turnOnInspector()\n",
    "Map.view()\n",
    "# Now that we have exported composites, we will use them in the LandTrendr temporal segmentation algorithm"
   ]
  },
  {
   "cell_type": "markdown",
   "id": "b001ba37",
   "metadata": {},
   "source": [
    "## Lab 2 Challenge: \n",
    "\n",
    "**For Qwiklabs users**, this will be assessed for completion in the Activity Tracking portion of Lab 2.\n",
    "\n",
    "Create a cloud-free composite time series for PR from 2020-2023. Add the output to a geeView Map and view it. "
   ]
  },
  {
   "cell_type": "code",
   "execution_count": 75,
   "id": "00d87fa7",
   "metadata": {},
   "outputs": [],
   "source": [
    "# Put your challenge code here"
   ]
  },
  {
   "cell_type": "markdown",
   "id": "e5fc7aca",
   "metadata": {},
   "source": [
    "## Done with Lab 2\n",
    "\n",
    "Now that we have exported composites, we will use them in the LandTrendr temporal segmentation algorithm in module 3.1. "
   ]
  }
 ],
 "metadata": {
  "colab": {
   "provenance": []
  },
  "environment": {
   "kernel": "python3",
   "name": "tf2-gpu.2-11.m110",
   "type": "gcloud",
   "uri": "gcr.io/deeplearning-platform-release/tf2-gpu.2-11:m110"
  },
  "kernelspec": {
   "display_name": "Python 3",
   "language": "python",
   "name": "python3"
  },
  "language_info": {
   "codemirror_mode": {
    "name": "ipython",
    "version": 3
   },
   "file_extension": ".py",
   "mimetype": "text/x-python",
   "name": "python",
   "nbconvert_exporter": "python",
   "pygments_lexer": "ipython3",
   "version": "3.10.12"
  }
 },
 "nbformat": 4,
 "nbformat_minor": 5
}
