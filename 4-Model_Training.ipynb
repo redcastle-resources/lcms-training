{
 "cells": [
  {
   "cell_type": "code",
   "execution_count": null,
   "id": "2eb2fc88-25b8-4d5a-8a2c-b8e40cbe6178",
   "metadata": {},
   "outputs": [],
   "source": [
    "# Copyright 2023 Google LLC\n",
    "#\n",
    "# Licensed under the Apache License, Version 2.0 (the \"License\");\n",
    "# you may not use this file except in compliance with the License.\n",
    "# You may obtain a copy of the License at\n",
    "#\n",
    "#     https://www.apache.org/licenses/LICENSE-2.0\n",
    "#\n",
    "# Unless required by applicable law or agreed to in writing, software\n",
    "# distributed under the License is distributed on an \"AS IS\" BASIS,\n",
    "# WITHOUT WARRANTIES OR CONDITIONS OF ANY KIND, either express or implied.\n",
    "# See the License for the specific language governing permissions and\n",
    "# limitations under the License."
   ]
  },
  {
   "cell_type": "markdown",
   "id": "ae243bdf-1298-4668-a561-3709d7a26995",
   "metadata": {
    "id": "title:generic,gcp"
   },
   "source": [
    "# TimeSync Data Setup\n",
    "\n",
    "<table align=\"left\">\n",
    "  <td>\n",
    "    <a href=\"https://colab.research.google.com/github/redcastle-resources/lcms-training/blob/main/3-CCDC_and_Scaling_Over_Large_Areas\">\n",
    "      <img src=\"https://cloud.google.com/ml-engine/images/colab-logo-32px.png\" alt=\"Colab logo\"> Run in Colab\n",
    "    </a>\n",
    "  </td>\n",
    "  <td>\n",
    "    <a href=\"https://github.com/redcastle-resources/lcms-training/blob/main/3-CCDC_and_Scaling_Over_Large_Areas\">\n",
    "      <img src=\"https://cloud.google.com/ml-engine/images/github-logo-32px.png\" alt=\"GitHub logo\">\n",
    "      View on GitHub\n",
    "    </a>\n",
    "  </td>\n",
    "  <td>\n",
    "    <a href=\"https://console.cloud.google.com/vertex-ai/workbench/deploy-notebook?download_url=https://github.com/redcastle-resources/lcms-training/blob/main/3-CCDC_and_Scaling_Over_Large_Areas\">\n",
    "      <img src=\"https://lh3.googleusercontent.com/UiNooY4LUgW_oTvpsNhPpQzsstV5W8F7rYgxgGBD85cWJoLmrOzhVs_ksK_vgx40SHs7jCqkTkCk=e14-rj-sc0xffffff-h130-w32\" alt=\"Vertex AI logo\">\n",
    "      Open in Vertex AI Workbench\n",
    "    </a>\n",
    "  </td>\n",
    "</table>\n",
    "<br/><br/><br/>"
   ]
  },
  {
   "cell_type": "markdown",
   "id": "4603c77e-11e2-45bc-9ddd-b75c4a170d8b",
   "metadata": {
    "id": "overview:mlops"
   },
   "source": [
    "## Overview\n",
    "\n",
    "\n",
    "This notebook uses Landsat in the Continuous Change Detection and Classification (CCDC) temporal segmentation algorithm over a tiled grid in order to minimize memory errors\n",
    "\n",
    "Learn more about [CCDC](https://www.sciencedirect.com/science/article/abs/pii/S0034425714000248).\n",
    "\n",
    "### Objective\n",
    "\n",
    "In this tutorial, you learn how to create and manipulate CCDC outputs.\n",
    "\n",
    "This tutorial uses the following Google Cloud services:\n",
    "\n",
    "- `Google Earth Engine`\n",
    "\n",
    "The steps performed include:\n",
    "\n",
    "- Create tile mesh grid over a study area\n",
    "- Creating CCDC outputs over the mesh grid\n",
    "- Manipulating EE array image objects to get meaningful data out of CCDC outputs"
   ]
  },
  {
   "cell_type": "code",
   "execution_count": 1,
   "id": "4fae6857-1dfc-448b-b92f-85ec010f8460",
   "metadata": {},
   "outputs": [
    {
     "ename": "SyntaxError",
     "evalue": "unterminated string literal (detected at line 24) (1703860735.py, line 24)",
     "output_type": "error",
     "traceback": [
      "\u001b[0;36m  Cell \u001b[0;32mIn[1], line 24\u001b[0;36m\u001b[0m\n\u001b[0;31m    Map.proxy_url = 'https://23dcc4ff89e513fb-dot-us-west3.notebooks.googleusercontent.com/\u001b[0m\n\u001b[0m                    ^\u001b[0m\n\u001b[0;31mSyntaxError\u001b[0m\u001b[0;31m:\u001b[0m unterminated string literal (detected at line 24)\n"
     ]
    }
   ],
   "source": [
    "# Example of how to fit an LCMS model\n",
    "####################################################################################################\n",
    "\n",
    "try:\n",
    "  import geeViz.getImagesLib as getImagesLib\n",
    "except:\n",
    "  !python -m pip install geeViz\n",
    "  import geeViz.getImagesLib as getImagesLib\n",
    "\n",
    "\n",
    "#Module imports\n",
    "# import geeViz.getImagesLib as getImagesLib\n",
    "import geeViz.changeDetectionLib as changeDetectionLib\n",
    "import geeViz.assetManagerLib as aml\n",
    "import geeViz.taskManagerLib as tml\n",
    "ee = getImagesLib.ee\n",
    "\n",
    "#Set up to mapper objects to use\n",
    "#Can use the default one first\n",
    "Map = getImagesLib.Map\n",
    "\n",
    "# Enter proxy url (see in url bar- e.g. https://someCode-dot-someRegion.notebooks.googleusercontent.com/)\n",
    "# If left as None, will prompt user at first Map.view() call \n",
    "Map.proxy_url = 'https://23dcc4ff89e513fb-dot-us-west3.notebooks.googleusercontent.com/\n",
    "print('done')"
   ]
  },
  {
   "cell_type": "code",
   "execution_count": 121,
   "id": "e5d6f281-1c62-44ca-a56e-00769912a05f",
   "metadata": {},
   "outputs": [
    {
     "name": "stdout",
     "output_type": "stream",
     "text": [
      "Training years: [2000, 2001, 2002, 2003, 2004, 2005, 2006, 2007, 2008, 2009, 2010, 2011, 2012, 2013, 2014, 2015, 2016, 2017, 2018, 2019, 2020]\n",
      "Unique Plot ID Count: 1000\n",
      "Total Training Plots: 20992\n",
      "TimeSync Attributes: ['DOM_LU', 'GRASS-TS', 'latitude', 'JULIANDAY', 'COMMENTS', 'BARREN-IMP', 'SEC_LC', 'SHRUBS-TRE', 'INTERP', 'YEAR', 'SHRUBS', 'X', 'GRASS', 'Y', 'SEC_LU', 'SEC_LU_EL', 'DOM_SEC_LC', 'BARREN-GRA', 'DOM_LU_EL', 'IMPERVIOUS', 'WATER', 'longitude', 'CP_NOTES', 'SNOW', 'BARREN-TS', 'GRASS-TREE', 'PLOTID', 'CP', 'LAST_MODIF', 'BARREN-TRE', 'GRASS-SHRU', 'PACKET_ID', 'BARREN', 'DOM_LC', 'TREES', 'BARREN-SHR', 'CHANGE_DUR', 'SHRUBS-TS', 'system:index', 'TS-TREES', 'TS']\n"
     ]
    }
   ],
   "source": [
    "# projects/lcms-292214/assets/R8/PR_USVI/Training-Tables/Training-Tables_AnnualizedFormat_v2022\n",
    "# projects/lcms-292214/assets/R8/PR_USVI/Training-Tables/Training-Tables_AnnualizedFormat_v2022\n",
    "Map.clearMap()\n",
    "Map.port = 1234\n",
    "\n",
    "# Set the projection\n",
    "crs = getImagesLib.common_projections['NLCD_CONUS']['crs']\n",
    "transform  = getImagesLib.common_projections['NLCD_CONUS']['transform']\n",
    "scale = None\n",
    "\n",
    "# Bring in annualized TimeSync data\n",
    "# Each plot has one feature for each year from 2000 to 2020\n",
    "# This results in over 20k plots\n",
    "timeSyncData = ee.FeatureCollection('projects/lcms-292214/assets/R8/PR_USVI/TimeSync/18_PRVI_AllPlots_TimeSync_Annualized_Table_secLC')\n",
    "training_years = [int(yr) for yr in timeSyncData.aggregate_histogram('YEAR').keys().getInfo()]\n",
    "plot_ids = timeSyncData.aggregate_histogram('PLOTID').keys().getInfo()\n",
    "print('Training years:',training_years)\n",
    "print('Unique Plot ID Count:',len(plot_ids))\n",
    "print('Total Training Plots:', timeSyncData.size().getInfo())\n",
    "print('TimeSync Attributes:',timeSyncData.first().propertyNames().getInfo())\n"
   ]
  },
  {
   "cell_type": "code",
   "execution_count": 82,
   "id": "c0a7eb3f-8178-4efe-8014-3c14178e57d8",
   "metadata": {},
   "outputs": [
    {
     "name": "stdout",
     "output_type": "stream",
     "text": [
      "Adding layer: LCMS PRUSVI TimeSync Training Data\n",
      "Starting webmap\n",
      "Using default refresh token for geeView: /home/jupyter/.config/earthengine/credentials\n",
      "Local web server at: http://localhost:1234/geeView/ already serving.\n",
      "cwd /home/jupyter/lcms-training\n",
      "Workbench Proxy URL: https://3a96040caeb4cbe7-dot-us-west3.notebooks.googleusercontent.com/proxy/1234/geeView/?accessToken=None\n"
     ]
    },
    {
     "data": {
      "text/html": [
       "\n",
       "        <iframe\n",
       "            width=\"100%\"\n",
       "            height=\"525px\"\n",
       "            src=\"https://3a96040caeb4cbe7-dot-us-west3.notebooks.googleusercontent.com/proxy/1234/geeView/?accessToken=None\"\n",
       "            frameborder=\"0\"\n",
       "            allowfullscreen\n",
       "            \n",
       "        ></iframe>\n",
       "        "
      ],
      "text/plain": [
       "<IPython.lib.display.IFrame at 0x7fb4c6c38c10>"
      ]
     },
     "metadata": {},
     "output_type": "display_data"
    },
    {
     "name": "stderr",
     "output_type": "stream",
     "text": [
      "127.0.0.1 - - [31/Jul/2023 21:52:22] \"GET /geeView/js/runGeeViz.js HTTP/1.1\" 200 -\n"
     ]
    }
   ],
   "source": [
    "# Let's view the TimeSync data\n",
    "Map.addLayer(timeSyncData.map(lambda f:f.buffer(15).bounds(5,crs)),{'layerType':'geeVectorImage'},'LCMS PRUSVI TimeSync Training Data')\n",
    "Map.turnOnInspector()\n",
    "Map.view()"
   ]
  },
  {
   "cell_type": "code",
   "execution_count": 94,
   "id": "280d0df3-f357-43d5-9983-f738e7e95ce7",
   "metadata": {},
   "outputs": [
    {
     "name": "stdout",
     "output_type": "stream",
     "text": [
      "Adding layer: LT Fit TS\n",
      "Adding layer: Synthetic LandTrendr Composite Timelapse\n",
      "Starting webmap\n",
      "Using default refresh token for geeView: /home/jupyter/.config/earthengine/credentials\n",
      "Local web server at: http://localhost:1234/geeView/ already serving.\n",
      "cwd /home/jupyter/lcms-training\n",
      "Workbench Proxy URL: https://3a96040caeb4cbe7-dot-us-west3.notebooks.googleusercontent.com/proxy/1234/geeView/?accessToken=None\n"
     ]
    },
    {
     "data": {
      "text/html": [
       "\n",
       "        <iframe\n",
       "            width=\"100%\"\n",
       "            height=\"525px\"\n",
       "            src=\"https://3a96040caeb4cbe7-dot-us-west3.notebooks.googleusercontent.com/proxy/1234/geeView/?accessToken=None\"\n",
       "            frameborder=\"0\"\n",
       "            allowfullscreen\n",
       "            \n",
       "        ></iframe>\n",
       "        "
      ],
      "text/plain": [
       "<IPython.lib.display.IFrame at 0x7fb4c6ba4a90>"
      ]
     },
     "metadata": {},
     "output_type": "display_data"
    },
    {
     "name": "stderr",
     "output_type": "stream",
     "text": [
      "127.0.0.1 - - [02/Aug/2023 16:07:12] \"GET /geeView/js/runGeeViz.js HTTP/1.1\" 200 -\n"
     ]
    }
   ],
   "source": [
    "# Now we will bring in LandTrendr data for each year\n",
    "\n",
    "landTrendrCollection = ee.ImageCollection('projects/rcr-gee/assets/landTrendr-lcms-training-module-2')\n",
    "\n",
    "landTrendrCollectionInfo = landTrendrCollection.first().toDictionary().getInfo()\n",
    "\n",
    "Map.clearMap()\n",
    "\n",
    "# View exported LT output\n",
    "# Convert stacked outputs into collection of fitted, magnitude, slope, duration, etc values for each year\n",
    "lt_fit = changeDetectionLib.batchSimpleLTFit(landTrendrCollection,landTrendrCollectionInfo['startYear'],landTrendrCollectionInfo['endYear'],None,bandPropertyName='band',arrayMode=True)\n",
    "\n",
    "# Vizualize image collection for charting (opacity set to 0 so it will chart but not be visible)\n",
    "Map.addLayer(lt_fit,{'opacity':0},'LT Fit TS')\n",
    "\n",
    "# Visualize fitted landTrendr composites\n",
    "fitted_bns = lt_fit.select(['.*_fitted']).first().bandNames()\n",
    "out_bns = fitted_bns.map(lambda bn: ee.String(bn).split('_').get(0))\n",
    "\n",
    "# Give same names as composites\n",
    "lt_synth = lt_fit.select(fitted_bns,out_bns)\n",
    "\n",
    "# Visualize  LandTrendr fitted \n",
    "Map.addTimeLapse(lt_synth,getImagesLib.vizParamsFalse,'Synthetic LandTrendr Composite Timelapse')\n",
    "\n",
    "\n",
    "# # Join the raw and fited values\n",
    "# ltJoined = getImagesLib.joinCollections(composites.select(bandNames),lt_fit.select(['.*_fitted']))\n",
    "# print(ltJoined.first().bandNames().getInfo())\n",
    "# Map.addLayer(ltJoined,{'min':0.2,'max':1},'Raw and LT Fitted',True)\n",
    "\n",
    "\n",
    "Map.turnOnInspector()\n",
    "Map.view()"
   ]
  },
  {
   "cell_type": "code",
   "execution_count": 92,
   "id": "1d9b99c1-e2dc-4a08-b5cf-9ffcec728b53",
   "metadata": {},
   "outputs": [
    {
     "name": "stdout",
     "output_type": "stream",
     "text": [
      "{'TileID': '90,54', 'TileSize': 60000}\n",
      "Adding layer: time\n",
      "['year', 'blue_CCDC_INTP', 'blue_CCDC_SLP', 'blue_CCDC_COS1', 'blue_CCDC_SIN1', 'blue_CCDC_COS2', 'blue_CCDC_SIN2', 'blue_CCDC_COS3', 'blue_CCDC_SIN3', 'green_CCDC_INTP', 'green_CCDC_SLP', 'green_CCDC_COS1', 'green_CCDC_SIN1', 'green_CCDC_COS2', 'green_CCDC_SIN2', 'green_CCDC_COS3', 'green_CCDC_SIN3', 'red_CCDC_INTP', 'red_CCDC_SLP', 'red_CCDC_COS1', 'red_CCDC_SIN1', 'red_CCDC_COS2', 'red_CCDC_SIN2', 'red_CCDC_COS3', 'red_CCDC_SIN3', 'nir_CCDC_INTP', 'nir_CCDC_SLP', 'nir_CCDC_COS1', 'nir_CCDC_SIN1', 'nir_CCDC_COS2', 'nir_CCDC_SIN2', 'nir_CCDC_COS3', 'nir_CCDC_SIN3', 'swir1_CCDC_INTP', 'swir1_CCDC_SLP', 'swir1_CCDC_COS1', 'swir1_CCDC_SIN1', 'swir1_CCDC_COS2', 'swir1_CCDC_SIN2', 'swir1_CCDC_COS3', 'swir1_CCDC_SIN3', 'swir2_CCDC_INTP', 'swir2_CCDC_SLP', 'swir2_CCDC_COS1', 'swir2_CCDC_SIN1', 'swir2_CCDC_COS2', 'swir2_CCDC_SIN2', 'swir2_CCDC_COS3', 'swir2_CCDC_SIN3', 'NDVI_CCDC_INTP', 'NDVI_CCDC_SLP', 'NDVI_CCDC_COS1', 'NDVI_CCDC_SIN1', 'NDVI_CCDC_COS2', 'NDVI_CCDC_SIN2', 'NDVI_CCDC_COS3', 'NDVI_CCDC_SIN3', 'NDVI_predicted', 'blue_predicted', 'green_predicted', 'nir_predicted', 'red_predicted', 'swir1_predicted', 'swir2_predicted', 'NDVI_fitSlope', 'blue_fitSlope', 'green_fitSlope', 'nir_fitSlope', 'red_fitSlope', 'swir1_fitSlope', 'swir2_fitSlope']\n",
      "Adding layer: Synthetic Composite\n",
      "Starting webmap\n",
      "Using default refresh token for geeView: /home/jupyter/.config/earthengine/credentials\n",
      "Local web server at: http://localhost:1234/geeView/ already serving.\n",
      "cwd /home/jupyter/lcms-training\n",
      "Workbench Proxy URL: https://3a96040caeb4cbe7-dot-us-west3.notebooks.googleusercontent.com/proxy/1234/geeView/?accessToken=None\n"
     ]
    },
    {
     "data": {
      "text/html": [
       "\n",
       "        <iframe\n",
       "            width=\"100%\"\n",
       "            height=\"525px\"\n",
       "            src=\"https://3a96040caeb4cbe7-dot-us-west3.notebooks.googleusercontent.com/proxy/1234/geeView/?accessToken=None\"\n",
       "            frameborder=\"0\"\n",
       "            allowfullscreen\n",
       "            \n",
       "        ></iframe>\n",
       "        "
      ],
      "text/plain": [
       "<IPython.lib.display.IFrame at 0x7fb4c681b2e0>"
      ]
     },
     "metadata": {},
     "output_type": "display_data"
    },
    {
     "name": "stderr",
     "output_type": "stream",
     "text": [
      "127.0.0.1 - - [02/Aug/2023 15:29:00] \"GET /geeView/js/runGeeViz.js HTTP/1.1\" 200 -\n"
     ]
    }
   ],
   "source": [
    "# And then bring in CCDC data for each year\n",
    "Map.clearMap()\n",
    "\n",
    "ccdcTiles = ee.ImageCollection('projects/rcr-gee/assets/tiledOutputs-lcms-training-module-4')\n",
    "composites = ee.ImageCollection('projects/rcr-gee/assets/composites-lcms-training-module-1')\n",
    "ccdcInfo = ccdcTiles.first().toDictionary().getInfo()\n",
    "print(ccdcInfo)\n",
    "startYear = 1984\n",
    "endYear = 2023\n",
    "startJulian = 1\n",
    "endJulian = 365\n",
    "\n",
    "ccdcImg = ccdcTiles.mosaic()\n",
    "#Specify which harmonics to use when predicting the CCDC model\n",
    "#CCDC exports the first 3 harmonics (1 cycle/yr, 2 cycles/yr, and 3 cycles/yr)\n",
    "#If you only want to see yearly patterns, specify [1]\n",
    "#If you would like a tighter fit in the predicted value, include the second or third harmonic as well [1,2,3]\n",
    "whichHarmonics = [1,2,3]\n",
    "\n",
    "#Whether to fill gaps between segments' end year and the subsequent start year to the break date\n",
    "fillGaps = False\n",
    "\n",
    "\n",
    "annualSegCoeffs = changeDetectionLib.annualizeCCDC(ccdcImg, startYear, endYear, startJulian, endJulian, tEndExtrapolationPeriod = 0.3, \n",
    "  yearStartMonth = 4, yearStartDay = 1, annualizeWithCompositeDates = False, compositeCollection = composites)\n",
    "annualCCDC = changeDetectionLib.getFitSlopeCCDC(annualSegCoeffs, startYear, endYear)\n",
    "print(annualCCDC.first().bandNames().getInfo())\n",
    "\n",
    "# Synthetic composites visualizing\n",
    "# Take common false color composite bands and visualize them for the next to the last year\n",
    "\n",
    "# First get the bands of predicted bands and then split off the name\n",
    "fittedBns = annualCCDC.select(['.*_predicted']).first().bandNames()\n",
    "bns = fittedBns.map(lambda bn: ee.String(bn).split('_').get(0))\n",
    "\n",
    "# Filter down to the next to the last year and a summer date range\n",
    "syntheticComposites = annualCCDC.select(fittedBns,bns)\\\n",
    "    .filter(ee.Filter.calendarRange(endYear-1,endYear-1,'year'))\\\n",
    "    .first()\n",
    "\n",
    "# Visualize output as you would a composite\n",
    "Map.addLayer(syntheticComposites,getImagesLib.vizParamsFalse,'Synthetic Composite')\n",
    "\n",
    "Map.turnOnInspector()\n",
    "Map.view()\n"
   ]
  },
  {
   "cell_type": "code",
   "execution_count": 93,
   "id": "771b2fab-929f-4282-8c80-da588311d429",
   "metadata": {},
   "outputs": [
    {
     "name": "stdout",
     "output_type": "stream",
     "text": [
      "Adding layer: Elevation\n",
      "Adding layer: TPI 11\n",
      "Adding layer: TPI 21\n",
      "Available terrain bands: ['elevation', 'slope', 'aspect', 'hillshade', 'TPI_11', 'TPI_21']\n",
      "Starting webmap\n",
      "Using default refresh token for geeView: /home/jupyter/.config/earthengine/credentials\n",
      "Local web server at: http://localhost:1234/geeView/ already serving.\n",
      "cwd /home/jupyter/lcms-training\n",
      "Workbench Proxy URL: https://3a96040caeb4cbe7-dot-us-west3.notebooks.googleusercontent.com/proxy/1234/geeView/?accessToken=None\n"
     ]
    },
    {
     "data": {
      "text/html": [
       "\n",
       "        <iframe\n",
       "            width=\"100%\"\n",
       "            height=\"525px\"\n",
       "            src=\"https://3a96040caeb4cbe7-dot-us-west3.notebooks.googleusercontent.com/proxy/1234/geeView/?accessToken=None\"\n",
       "            frameborder=\"0\"\n",
       "            allowfullscreen\n",
       "            \n",
       "        ></iframe>\n",
       "        "
      ],
      "text/plain": [
       "<IPython.lib.display.IFrame at 0x7fb4c681b2e0>"
      ]
     },
     "metadata": {},
     "output_type": "display_data"
    },
    {
     "name": "stderr",
     "output_type": "stream",
     "text": [
      "127.0.0.1 - - [02/Aug/2023 15:29:12] \"GET /geeView/js/runGeeViz.js HTTP/1.1\" 200 -\n"
     ]
    }
   ],
   "source": [
    "# LCMS also uses various elevation/terrain variables to help our models\n",
    "Map.clearMap()\n",
    "terrainStack = []\n",
    "\n",
    "# Can use any elevation data\n",
    "# Will use SRTM for this example\n",
    "elevation = ee.Image(\"USGS/SRTMGL1_003\").resample('bicubic')\n",
    "terrain = ee.Algorithms.Terrain(elevation)\n",
    "\n",
    "terrainStack.append(terrain)\n",
    "\n",
    "# A very simple algorithm for elevation position\n",
    "# Good at finding ridges and depressions\n",
    "def tpi(elevation,n):\n",
    "    return elevation.subtract(elevation.focalMean(n)).rename([f'TPI_{int(n*2)}'])\n",
    "\n",
    "# A nice palette from: https://github.com/gee-community/ee-palettes\n",
    "# Use cmocean.speed[7]\n",
    "palette = ['fffdcd', 'e1cd73', 'aaac20', '5f920c', '187328', '144b2a', '172313']\n",
    "\n",
    "Map.addLayer(elevation.reproject(crs,transform),{'min':0,'max':250,'palette':palette},'Elevation')\n",
    "\n",
    "# Get TPI for 11 and 21 pixel diameter circular kernels\n",
    "for r in [5.5,10.5]:\n",
    "    tpiR = tpi(elevation,r)\n",
    "    terrainStack.append(tpiR)\n",
    "    Map.addLayer(tpiR.reproject(crs,transform),{'min':-10,'max':10,'palette':palette},f'TPI {int(r*2)}')\n",
    "\n",
    "# Stack all terrain data\n",
    "terrainStack = ee.Image.cat(terrainStack)\n",
    "print('Available terrain bands:',terrainStack.bandNames().getInfo())\n",
    "Map.view()"
   ]
  },
  {
   "cell_type": "code",
   "execution_count": 115,
   "id": "5c135dd2-b85d-4e76-895f-a47ceb033c7d",
   "metadata": {},
   "outputs": [
    {
     "name": "stdout",
     "output_type": "stream",
     "text": [
      "Asset projects/rcr-gee/assets/timeSync-extractions-lcms-training-module-4 already exists\n",
      "Updating permissions for:  projects/rcr-gee/assets/timeSync-extractions-lcms-training-module-4\n",
      "LCMS_Training_TimeSync_yr2000_LandTrendr_CCDC_Terrain_Extraction already exists or is currently being exported\n",
      "LCMS_Training_TimeSync_yr2001_LandTrendr_CCDC_Terrain_Extraction already exists or is currently being exported\n",
      "LCMS_Training_TimeSync_yr2002_LandTrendr_CCDC_Terrain_Extraction already exists or is currently being exported\n",
      "LCMS_Training_TimeSync_yr2003_LandTrendr_CCDC_Terrain_Extraction already exists or is currently being exported\n",
      "LCMS_Training_TimeSync_yr2004_LandTrendr_CCDC_Terrain_Extraction already exists or is currently being exported\n",
      "LCMS_Training_TimeSync_yr2005_LandTrendr_CCDC_Terrain_Extraction already exists or is currently being exported\n",
      "LCMS_Training_TimeSync_yr2006_LandTrendr_CCDC_Terrain_Extraction already exists or is currently being exported\n",
      "LCMS_Training_TimeSync_yr2007_LandTrendr_CCDC_Terrain_Extraction already exists or is currently being exported\n",
      "LCMS_Training_TimeSync_yr2008_LandTrendr_CCDC_Terrain_Extraction already exists or is currently being exported\n",
      "LCMS_Training_TimeSync_yr2009_LandTrendr_CCDC_Terrain_Extraction already exists or is currently being exported\n",
      "LCMS_Training_TimeSync_yr2010_LandTrendr_CCDC_Terrain_Extraction already exists or is currently being exported\n",
      "LCMS_Training_TimeSync_yr2011_LandTrendr_CCDC_Terrain_Extraction already exists or is currently being exported\n",
      "LCMS_Training_TimeSync_yr2012_LandTrendr_CCDC_Terrain_Extraction already exists or is currently being exported\n",
      "LCMS_Training_TimeSync_yr2013_LandTrendr_CCDC_Terrain_Extraction already exists or is currently being exported\n",
      "LCMS_Training_TimeSync_yr2014_LandTrendr_CCDC_Terrain_Extraction already exists or is currently being exported\n",
      "LCMS_Training_TimeSync_yr2015_LandTrendr_CCDC_Terrain_Extraction already exists or is currently being exported\n",
      "LCMS_Training_TimeSync_yr2016_LandTrendr_CCDC_Terrain_Extraction already exists or is currently being exported\n",
      "LCMS_Training_TimeSync_yr2017_LandTrendr_CCDC_Terrain_Extraction already exists or is currently being exported\n",
      "LCMS_Training_TimeSync_yr2018_LandTrendr_CCDC_Terrain_Extraction already exists or is currently being exported\n",
      "LCMS_Training_TimeSync_yr2019_LandTrendr_CCDC_Terrain_Extraction already exists or is currently being exported\n",
      "LCMS_Training_TimeSync_yr2020_LandTrendr_CCDC_Terrain_Extraction already exists or is currently being exported\n"
     ]
    }
   ],
   "source": [
    "# Now extract LandTrendr, CCDC, and terrain values for each TimeSync plot from its respective year\n",
    "\n",
    "#Provide location composites will be exported to\n",
    "#This should be an asset folder, or more ideally, an asset imageCollection\n",
    "exportPathRoot = 'projects/rcr-gee/assets/timeSync-extractions-lcms-training-module-4'\n",
    "# Make sure collection exists\n",
    "# aml.create_image_collection(exportPathRoot)\n",
    "def create_asset(asset_path,asset_type = ee.data.ASSET_TYPE_FOLDER):\n",
    "    if aml.ee_asset_exists(asset_path):\n",
    "        print(\"Asset \"+asset_path+\" already exists\")\n",
    "    else:\n",
    "        ee.data.createAsset({'type': asset_type}, asset_path)\n",
    "        print('New asset '+asset_path+' created')\n",
    "create_asset(exportPathRoot)     \n",
    "# Currently geeView within Colab uses a different project to authenticate through, so you may need to make your asset public to view from within Colab\n",
    "aml.updateACL(exportPathRoot,writers = [],all_users_can_read = True,readers = [])\n",
    "\n",
    "\n",
    "# Extract for each year\n",
    "for training_year in training_years:\n",
    "    \n",
    "    # Filter TimeSync data for the given year\n",
    "    timeSyncData_yr = timeSyncData.filter(ee.Filter.eq('YEAR',training_year))\n",
    "   \n",
    "    # Filter the LandTrendr and CCDC data for the given year\n",
    "    lt_yr = lt_fit.filter(ee.Filter.calendarRange(training_year,training_year,'year')).first()\n",
    "    ccdc_yr = annualCCDC.filter(ee.Filter.calendarRange(training_year,training_year,'year')).first()\n",
    "\n",
    "    # Get a stack of all predictor bands\n",
    "    extractionStack = ee.Image.cat([lt_yr,ccdc_yr,terrainStack])\n",
    "\n",
    "    # Extract the values\n",
    "    extracted_values = extractionStack.reduceRegions(collection=timeSyncData_yr, reducer = ee.Reducer.first(), scale = None, crs = crs, crsTransform = transform, tileScale = 4)\n",
    "    \n",
    "    # Export them as an asset\n",
    "    assetName = f'LCMS_Training_TimeSync_yr{training_year}_LandTrendr_CCDC_Terrain_Extraction'\n",
    "    assetPath = f'{exportPathRoot}/{assetName}'\n",
    "    \n",
    "    \n",
    "    if not aml.ee_asset_exists(assetPath) and assetName not in tml.getTasks()['running']:\n",
    "        t = ee.batch.Export.table.toAsset(collection = extracted_values,\n",
    "                          description = assetName,\n",
    "                          assetId = assetPath)\n",
    "        print('Exporting:',assetName)\n",
    "        print(t)\n",
    "        t.start()\n",
    "    else:\n",
    "        print(f'{assetName} already exists or is currently being exported')\n"
   ]
  },
  {
   "cell_type": "code",
   "execution_count": 150,
   "id": "1db6d039-c276-40be-9060-57f58709bf3b",
   "metadata": {},
   "outputs": [
    {
     "name": "stdout",
     "output_type": "stream",
     "text": [
      "Updating permissions for:  projects/rcr-gee/assets/timeSync-extractions-lcms-training-module-4/LCMS_Training_TimeSync_yr2000_LandTrendr_CCDC_Terrain_Extraction\n",
      "Updating permissions for:  projects/rcr-gee/assets/timeSync-extractions-lcms-training-module-4/LCMS_Training_TimeSync_yr2001_LandTrendr_CCDC_Terrain_Extraction\n",
      "Updating permissions for:  projects/rcr-gee/assets/timeSync-extractions-lcms-training-module-4/LCMS_Training_TimeSync_yr2002_LandTrendr_CCDC_Terrain_Extraction\n",
      "Updating permissions for:  projects/rcr-gee/assets/timeSync-extractions-lcms-training-module-4/LCMS_Training_TimeSync_yr2003_LandTrendr_CCDC_Terrain_Extraction\n",
      "Updating permissions for:  projects/rcr-gee/assets/timeSync-extractions-lcms-training-module-4/LCMS_Training_TimeSync_yr2004_LandTrendr_CCDC_Terrain_Extraction\n",
      "Updating permissions for:  projects/rcr-gee/assets/timeSync-extractions-lcms-training-module-4/LCMS_Training_TimeSync_yr2005_LandTrendr_CCDC_Terrain_Extraction\n",
      "Updating permissions for:  projects/rcr-gee/assets/timeSync-extractions-lcms-training-module-4/LCMS_Training_TimeSync_yr2006_LandTrendr_CCDC_Terrain_Extraction\n",
      "Updating permissions for:  projects/rcr-gee/assets/timeSync-extractions-lcms-training-module-4/LCMS_Training_TimeSync_yr2007_LandTrendr_CCDC_Terrain_Extraction\n",
      "Updating permissions for:  projects/rcr-gee/assets/timeSync-extractions-lcms-training-module-4/LCMS_Training_TimeSync_yr2008_LandTrendr_CCDC_Terrain_Extraction\n",
      "Updating permissions for:  projects/rcr-gee/assets/timeSync-extractions-lcms-training-module-4/LCMS_Training_TimeSync_yr2009_LandTrendr_CCDC_Terrain_Extraction\n",
      "Updating permissions for:  projects/rcr-gee/assets/timeSync-extractions-lcms-training-module-4/LCMS_Training_TimeSync_yr2010_LandTrendr_CCDC_Terrain_Extraction\n",
      "Updating permissions for:  projects/rcr-gee/assets/timeSync-extractions-lcms-training-module-4/LCMS_Training_TimeSync_yr2011_LandTrendr_CCDC_Terrain_Extraction\n",
      "Updating permissions for:  projects/rcr-gee/assets/timeSync-extractions-lcms-training-module-4/LCMS_Training_TimeSync_yr2012_LandTrendr_CCDC_Terrain_Extraction\n",
      "Updating permissions for:  projects/rcr-gee/assets/timeSync-extractions-lcms-training-module-4/LCMS_Training_TimeSync_yr2013_LandTrendr_CCDC_Terrain_Extraction\n",
      "Updating permissions for:  projects/rcr-gee/assets/timeSync-extractions-lcms-training-module-4/LCMS_Training_TimeSync_yr2014_LandTrendr_CCDC_Terrain_Extraction\n",
      "Updating permissions for:  projects/rcr-gee/assets/timeSync-extractions-lcms-training-module-4/LCMS_Training_TimeSync_yr2015_LandTrendr_CCDC_Terrain_Extraction\n",
      "Updating permissions for:  projects/rcr-gee/assets/timeSync-extractions-lcms-training-module-4/LCMS_Training_TimeSync_yr2016_LandTrendr_CCDC_Terrain_Extraction\n",
      "Updating permissions for:  projects/rcr-gee/assets/timeSync-extractions-lcms-training-module-4/LCMS_Training_TimeSync_yr2017_LandTrendr_CCDC_Terrain_Extraction\n",
      "Updating permissions for:  projects/rcr-gee/assets/timeSync-extractions-lcms-training-module-4/LCMS_Training_TimeSync_yr2018_LandTrendr_CCDC_Terrain_Extraction\n",
      "Updating permissions for:  projects/rcr-gee/assets/timeSync-extractions-lcms-training-module-4/LCMS_Training_TimeSync_yr2019_LandTrendr_CCDC_Terrain_Extraction\n",
      "Updating permissions for:  projects/rcr-gee/assets/timeSync-extractions-lcms-training-module-4/LCMS_Training_TimeSync_yr2020_LandTrendr_CCDC_Terrain_Extraction\n",
      "Converted codes: {'DOM_LU': 'Forest', 'DOM_LU_Code': 3, 'DOM_SEC_LC': 'BARREN-TRE', 'DOM_SEC_LC_Code': 5}\n"
     ]
    }
   ],
   "source": [
    "# Now lets bring in all training data and prep it for modeling\n",
    "assets = ee.data.listAssets({'parent': exportPathRoot})['assets']\n",
    "for asset in assets:aml.updateACL(asset['name'],writers = [],all_users_can_read = True,readers = [])\n",
    "\n",
    "training_data = ee.FeatureCollection([ee.FeatureCollection(asset['name']) for asset in assets]).flatten()\n",
    "\n",
    "\n",
    "# print(training_data.size().getInfo())\n",
    "\n",
    "# print(training_data.first().toDictionary().getInfo())\n",
    "\n",
    "# Get the field names for prediction\n",
    "predictor_field_names = extractionStack.bandNames().getInfo()\n",
    "\n",
    "training_data = training_data.filter(ee.Filter.notNull(predictor_field_names))\n",
    "# The TimeSync fields are a string by default\n",
    "# They must be a number for modeling\n",
    "# Set up lookup dictionaries to convert the names to numeric codes\n",
    "land_cover_name_code_dict = ee.Dictionary({'TREES':1,\n",
    "                             'SHRUBS-TRE':3,\n",
    "                             'GRASS-TREE':4,\n",
    "                             'BARREN-TRE':5,\n",
    "                             'SHRUBS':7,\n",
    "                             'GRASS-SHRU':8,\n",
    "                             'BARREN-SHR':9,\n",
    "                             'GRASS':10,\n",
    "                             'BARREN-GRA':11,\n",
    "                             'BARREN-IMP':12,\n",
    "                             'WATER':14\n",
    "                            })\n",
    "land_use_name_code_dict = ee.Dictionary({'Agriculture':1,\n",
    "                           'Developed':2,\n",
    "                           'Forest':3,\n",
    "                           'Non-forest Wetland':4,\n",
    "                           'Other':5,\n",
    "                           'Rangeland':6\n",
    "                          })\n",
    "\n",
    "reference_field_dict = {'Land_Cover':{'field':'DOM_SEC_LC','name_code_dict':land_cover_name_code_dict},\n",
    "                        'Land_Use':{'field':'DOM_LU','name_code_dict':land_use_name_code_dict},\n",
    "                        'Change':'CP'\n",
    "                       }\n",
    "\n",
    "# Make a function that will get the code for a given name and set it\n",
    "def set_class_code(plot,product):\n",
    "    name_fieldName = reference_field_dict[product]['field']\n",
    "    code_fieldName = ee.String(name_fieldName).cat('_Code')\n",
    "    name = ee.String(plot.get(name_fieldName))\n",
    "    code = reference_field_dict[product]['name_code_dict'].get(name)\n",
    "    plot = plot.set(code_fieldName,code)\n",
    "    return plot\n",
    "                    \n",
    "                    \n",
    "    # print(name_fieldName,code_fieldName.getInfo(),name.getInfo(),code.getInfo())\n",
    "            \n",
    "# set_class_code(training_data.first(),'Land_Cover')                   \n",
    "training_data = training_data.map(lambda f:set_class_code(f,'Land_Cover'))\n",
    "training_data = training_data.map(lambda f:set_class_code(f,'Land_Use'))\n",
    "print('Converted codes:',ee.Feature(training_data.first()).select(['DOM_SEC_LC','DOM_LU','.*_Code']).toDictionary().getInfo())\n"
   ]
  },
  {
   "cell_type": "code",
   "execution_count": 153,
   "id": "59e7e34c-c663-4c73-a59e-4a389154bad7",
   "metadata": {},
   "outputs": [
    {
     "name": "stdout",
     "output_type": "stream",
     "text": [
      "['NBR_LT_fitted']\n",
      "['LCMS_Land_Cover']\n",
      "Adding layer: Land Cover\n",
      "Starting webmap\n",
      "Using default refresh token for geeView: /home/jupyter/.config/earthengine/credentials\n",
      "Local web server at: http://localhost:1234/geeView/ already serving.\n",
      "cwd /home/jupyter/lcms-training\n",
      "Workbench Proxy URL: https://3a96040caeb4cbe7-dot-us-west3.notebooks.googleusercontent.com/proxy/1234/geeView/?accessToken=None\n"
     ]
    },
    {
     "data": {
      "text/html": [
       "\n",
       "        <iframe\n",
       "            width=\"100%\"\n",
       "            height=\"525px\"\n",
       "            src=\"https://3a96040caeb4cbe7-dot-us-west3.notebooks.googleusercontent.com/proxy/1234/geeView/?accessToken=None\"\n",
       "            frameborder=\"0\"\n",
       "            allowfullscreen\n",
       "            \n",
       "        ></iframe>\n",
       "        "
      ],
      "text/plain": [
       "<IPython.lib.display.IFrame at 0x7fb4c66c1780>"
      ]
     },
     "metadata": {},
     "output_type": "display_data"
    },
    {
     "name": "stderr",
     "output_type": "stream",
     "text": [
      "127.0.0.1 - - [02/Aug/2023 18:39:56] \"GET /geeView/js/runGeeViz.js HTTP/1.1\" 200 -\n"
     ]
    }
   ],
   "source": [
    "# Not let's train and apply a RandomForest model\n",
    "\n",
    "Map.clearMap()\n",
    "nTrees = 2\n",
    "seed = 999\n",
    "rf_lc = ee.Classifier.smileRandomForest(numberOfTrees = nTrees, variablesPerSplit = None, minLeafPopulation = 1, bagFraction = 0.5, maxNodes = None, seed = seed)\n",
    "rf_lc = rf_lc.train(training_data, reference_field_dict['Land_Cover']['field']+'_Code', ['NBR_LT_fitted'])\n",
    "print(rf_lc.schema().getInfo())\n",
    "\n",
    "lc_predicted = extractionStack.classify(rf_lc,'LCMS_Land_Cover')\n",
    "print(lc_predicted.bandNames().getInfo())\n",
    "Map.addLayer(lc_predicted,{'min':1,'max':15},'Land Cover')\n",
    "Map.turnOnInspector()\n",
    "Map.view()"
   ]
  }
 ],
 "metadata": {
  "environment": {
   "kernel": "python3",
   "name": "common-cpu.m109",
   "type": "gcloud",
   "uri": "gcr.io/deeplearning-platform-release/base-cpu:m109"
  },
  "kernelspec": {
   "display_name": "Python 3",
   "language": "python",
   "name": "python3"
  },
  "language_info": {
   "codemirror_mode": {
    "name": "ipython",
    "version": 3
   },
   "file_extension": ".py",
   "mimetype": "text/x-python",
   "name": "python",
   "nbconvert_exporter": "python",
   "pygments_lexer": "ipython3",
   "version": "3.10.11"
  }
 },
 "nbformat": 4,
 "nbformat_minor": 5
}
