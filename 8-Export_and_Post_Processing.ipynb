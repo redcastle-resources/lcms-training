{
 "cells": [
  {
   "cell_type": "code",
   "execution_count": 85,
   "id": "2eb2fc88-25b8-4d5a-8a2c-b8e40cbe6178",
   "metadata": {},
   "outputs": [],
   "source": [
    "# Copyright 2023 Google LLC\n",
    "#\n",
    "# Licensed under the Apache License, Version 2.0 (the \"License\");\n",
    "# you may not use this file except in compliance with the License.\n",
    "# You may obtain a copy of the License at\n",
    "#\n",
    "#     https://www.apache.org/licenses/LICENSE-2.0\n",
    "#\n",
    "# Unless required by applicable law or agreed to in writing, software\n",
    "# distributed under the License is distributed on an \"AS IS\" BASIS,\n",
    "# WITHOUT WARRANTIES OR CONDITIONS OF ANY KIND, either express or implied.\n",
    "# See the License for the specific language governing permissions and\n",
    "# limitations under the License."
   ]
  },
  {
   "cell_type": "markdown",
   "id": "ae243bdf-1298-4668-a561-3709d7a26995",
   "metadata": {
    "id": "title:generic,gcp"
   },
   "source": [
    "<img width=50px  src = 'https://apps.fs.usda.gov/lcms-viewer/images/lcms-icon.png'>\n",
    "\n",
    "# Lab 8: Export and Post-processing\n",
    "\n",
    "<table align=\"left\">\n",
    "  <td>\n",
    "    <a href=\"https://colab.research.google.com/github/redcastle-resources/lcms-training/blob/main/8-Export_and_Post_Processing.ipynb\">\n",
    "      <img src=\"https://cloud.google.com/ml-engine/images/colab-logo-32px.png\" alt=\"Colab logo\"> Run in Colab\n",
    "    </a>\n",
    "  </td>\n",
    "  <td>\n",
    "    <a href=\"https://github.com/redcastle-resources/lcms-training/blob/main/8-Export_and_Post_Processing.ipynb\">\n",
    "      <img src=\"https://cloud.google.com/ml-engine/images/github-logo-32px.png\" alt=\"GitHub logo\">\n",
    "      View on GitHub\n",
    "    </a>\n",
    "  </td>\n",
    "  <td>\n",
    "    <a href=\"https://console.cloud.google.com/vertex-ai/workbench/deploy-notebook?download_url=https://github.com/redcastle-resources/lcms-training/blob/main/8-Export_and_Post_Processing.ipynb\">\n",
    "      <img src=\"https://lh3.googleusercontent.com/UiNooY4LUgW_oTvpsNhPpQzsstV5W8F7rYgxgGBD85cWJoLmrOzhVs_ksK_vgx40SHs7jCqkTkCk=e14-rj-sc0xffffff-h130-w32\" alt=\"Vertex AI logo\">\n",
    "      Open in Vertex AI Workbench\n",
    "    </a>\n",
    "  </td>\n",
    "</table>\n",
    "<br/><br/><br/>"
   ]
  },
  {
   "cell_type": "markdown",
   "id": "4603c77e-11e2-45bc-9ddd-b75c4a170d8b",
   "metadata": {
    "id": "overview:mlops"
   },
   "source": [
    "\n",
    "## 8.0: Overview and Introduction\n",
    "\n",
    "\n",
    "This notebook teaches how to export data from GEE into a final platform-agnostic format\n",
    "\n",
    "\n",
    "### 8.0.1: Objective\n",
    "\n",
    "In this tutorial, you learn how to export the final thematic LCMS outputs to local CogTiffs, set custom no data values, update the names, and color map.\n",
    "\n",
    "This tutorial uses the following Google Cloud services:\n",
    "\n",
    "- `Google Earth Engine`\n",
    "\n",
    "The steps performed include:\n",
    "\n",
    "- Exporting assets to Google Cloud Storage\n",
    "- Copying from Google Cloud Storage to a local directory\n",
    "- Mosaicking and updating output color map and names\n",
    "- Ensuring final output is a working CogTiff"
   ]
  },
  {
   "cell_type": "markdown",
   "id": "cd4a573f-29c3-483d-9e35-f96910089b67",
   "metadata": {},
   "source": [
    "### 8.0.2: Before you begin\n",
    "\n",
    "#### If you are working in Workbench: Set your current URL under `workbench_url`\n",
    "This gives the Map Viewer a url in which to host the viewer we will be generating. \n",
    "* This will be in your URL/search bar at the top of the browser window you are currently in\n",
    "* It will look something like `https://1234567890122-dot-us-west3.notebooks.googleusercontent.com/` (See the image below)\n",
    "\n",
    "![workspace url](img/workspace-url.png)\n",
    "\n",
    "#### Set a folder to use for all exports under `export_path_root` \n",
    "* This folder should be an assets folder in an existing GEE project.\n",
    "* By default, this folder is the same as the pre-baked folder (where outputs have already been created). \n",
    "* If you would like to create your own outputs, specify a different path for `export_path_root`, but leave the `pre_baked_path_root` as it was. This way, the pre-baked outputs can be shown at the end, instead of waiting for all exports to finish.\n",
    "* It will be something like `projects/projectID/assets/newFolder`\n",
    "* This folder does not have to already exist. If it does not exist, it will be created\n",
    "\n",
    "**If you are working in Qwiklabs and wish to export:** Copy the project ID from the 'Start Lab' screen into the `projectID` field in `export_path_root`."
   ]
  },
  {
   "cell_type": "code",
   "execution_count": 30,
   "id": "a7b2ff50-e53b-4857-989d-c2e75d203f55",
   "metadata": {},
   "outputs": [
    {
     "name": "stdout",
     "output_type": "stream",
     "text": [
      "Done\n"
     ]
    }
   ],
   "source": [
    "workbench_url = 'https://1307eb830a12e633-dot-us-central1.notebooks.googleusercontent.com/'\n",
    "pre_baked_path_root  = 'projects/rcr-gee/assets/lcms-training'\n",
    "export_path_root = pre_baked_path_root\n",
    "\n",
    "print('Done')"
   ]
  },
  {
   "cell_type": "markdown",
   "id": "37c3e1a4-9342-4137-9f03-f17c469568d5",
   "metadata": {},
   "source": [
    "#### Installation\n",
    "First, install necessary Python packages. Uncomment the first line to upgrade geeViz if necessary.\n",
    "\n",
    "Note that for this module, we're also importing many data science packages such as pandas. "
   ]
  },
  {
   "cell_type": "code",
   "execution_count": 38,
   "id": "4fae6857-1dfc-448b-b92f-85ec010f8460",
   "metadata": {},
   "outputs": [
    {
     "name": "stdout",
     "output_type": "stream",
     "text": [
      "Done\n"
     ]
    }
   ],
   "source": [
    "#Module imports\n",
    "#!python -m pip install geeViz --upgrade\n",
    "try:\n",
    "    import geeViz.getImagesLib as getImagesLib\n",
    "except:\n",
    "    !python -m pip install geeViz\n",
    "    import geeViz.getImagesLib as getImagesLib\n",
    "\n",
    "import geeViz.changeDetectionLib as changeDetectionLib\n",
    "import geeViz.assetManagerLib as aml\n",
    "import geeViz.taskManagerLib as tml\n",
    "\n",
    "import os,secrets\n",
    "\n",
    "\n",
    "ee = getImagesLib.ee\n",
    "Map = getImagesLib.Map\n",
    "\n",
    "# Can set the port used for viewing map outputs\n",
    "Map.port = 1235\n",
    "\n",
    "\n",
    "# Set up GDAL\n",
    "try:\n",
    "    import lcms_scripts.raster_processing_lib as rpl\n",
    "except Exception as e:\n",
    "    if getImagesLib.IS_WORKBENCH:\n",
    "        print('GDAL is not installed. Will try to install')\n",
    "        !sudo apt-get -y install libgdal-dev\n",
    "        !gdal-config --version\n",
    "        !pip install pygdal==3.2.2.10\n",
    "        import lcms_scripts.raster_processing_lib as rpl\n",
    "    else:\n",
    "        print('GDAL is not installed and you are not using Workbench.')\n",
    "    \n",
    "print('Done')"
   ]
  },
  {
   "cell_type": "markdown",
   "id": "855641a3-d7c4-431b-a87f-1a8db2727fc4",
   "metadata": {
    "tags": []
   },
   "source": [
    "#### Set up your work environment\n",
    "\n",
    "Create a folder in your export path where you will export the composites. In addition, create a blank image collection where your composites will live.\n",
    "\n",
    "Currently, when running within Colab or Workbench, geeView uses a different project to authenticate through, so you may need to make your asset public to view from within Colab."
   ]
  },
  {
   "cell_type": "code",
   "execution_count": 43,
   "id": "ed03b3ae-31ec-4caf-9add-5d9d1eb1bec7",
   "metadata": {},
   "outputs": [
    {
     "name": "stdout",
     "output_type": "stream",
     "text": [
      "Creating gs://lcms-outputs-temp2/...\n",
      "ServiceException: 409 A Cloud Storage bucket named 'lcms-outputs-temp2' already exists. Try another name. Bucket names must be globally unique across all Google Cloud projects, including those outside of your organization.\n",
      "Done\n"
     ]
    }
   ],
   "source": [
    "# Bring in all folders/collections that are needed\n",
    "# These must already exist as they are created in previous notebooks\n",
    "export_assembledLCMSOutputs_collection = f'{export_path_root}/lcms-training_module-6_assembledLCMSOutputs'\n",
    "\n",
    "token = secrets.token_hex(8)\n",
    "export_bucket = f'gs://lcms-outputs-temp2'\n",
    "!gsutil mb {export_bucket}\n",
    "\n",
    "\n",
    "local_processing_folder = '/tmp/lcms-training/local_processing'\n",
    "if not os.path.exists(local_processing_folder):os.makedirs(local_processing_folder)\n",
    "\n",
    "print('Done')"
   ]
  },
  {
   "cell_type": "code",
   "execution_count": 36,
   "id": "e5f9ff81-93f9-4f9e-a913-5359d56a6666",
   "metadata": {},
   "outputs": [
    {
     "name": "stdout",
     "output_type": "stream",
     "text": [
      "Done\n"
     ]
    }
   ],
   "source": [
    "# set up map\n",
    "Map.clearMap()\n",
    "\n",
    "# reset port if necessary\n",
    "Map.port = 1235\n",
    "Map.proxy_url = workbench_url\n",
    "\n",
    "print('Done')"
   ]
  },
  {
   "cell_type": "markdown",
   "id": "be1a977b-79c1-4bee-895f-75b45e46de0d",
   "metadata": {},
   "source": [
    "## 8.1: Bring in Assembled LCMS Outputs and visualize"
   ]
  },
  {
   "cell_type": "code",
   "execution_count": 57,
   "id": "e5d6f281-1c62-44ca-a56e-00769912a05f",
   "metadata": {},
   "outputs": [
    {
     "name": "stdout",
     "output_type": "stream",
     "text": [
      "Adding layer: Assembled LCMS\n",
      "Starting webmap\n",
      "Using default refresh token for geeView: /home/jupyter/.config/earthengine/credentials\n",
      "Local web server at: http://localhost:1235/geeView/ already serving.\n",
      "cwd /home/jupyter/lcms-training\n",
      "Workbench Proxy URL: https://1307eb830a12e633-dot-us-central1.notebooks.googleusercontent.com/proxy/1235/geeView/?accessToken=None\n"
     ]
    },
    {
     "data": {
      "text/html": [
       "\n",
       "        <iframe\n",
       "            width=\"100%\"\n",
       "            height=\"525px\"\n",
       "            src=\"https://1307eb830a12e633-dot-us-central1.notebooks.googleusercontent.com/proxy/1235/geeView/?accessToken=None\"\n",
       "            frameborder=\"0\"\n",
       "            allowfullscreen\n",
       "            \n",
       "        ></iframe>\n",
       "        "
      ],
      "text/plain": [
       "<IPython.lib.display.IFrame at 0x7fb6eaa99210>"
      ]
     },
     "metadata": {},
     "output_type": "display_data"
    },
    {
     "name": "stderr",
     "output_type": "stream",
     "text": [
      "127.0.0.1 - - [18/Sep/2023 20:08:25] \"GET /geeView/js/runGeeViz.js HTTP/1.1\" 200 -\n"
     ]
    }
   ],
   "source": [
    "Map.clearMap()\n",
    "# Bring in assembled LCMS asset\n",
    "lcms = ee.ImageCollection(export_assembledLCMSOutputs_collection)\n",
    "\n",
    "# Add the assembled outputs to the map and take a look\n",
    "Map.addLayer(lcms,{},'Assembled LCMS')\n",
    "\n",
    "Map.turnOnInspector()\n",
    "Map.view()\n"
   ]
  },
  {
   "cell_type": "markdown",
   "id": "f11f7956-6145-4f2a-89c6-54ef001dd5e5",
   "metadata": {},
   "source": [
    "## 8.2: Export Assembled LCMS Outputs to Google Cloud Storage"
   ]
  },
  {
   "cell_type": "code",
   "execution_count": 29,
   "id": "3f419047-1c4d-4fa8-8af0-e389bb0fb988",
   "metadata": {},
   "outputs": [
    {
     "ename": "NameError",
     "evalue": "name 'lcms' is not defined",
     "output_type": "error",
     "traceback": [
      "\u001b[0;31m---------------------------------------------------------------------------\u001b[0m",
      "\u001b[0;31mNameError\u001b[0m                                 Traceback (most recent call last)",
      "Cell \u001b[0;32mIn[29], line 4\u001b[0m\n\u001b[1;32m      1\u001b[0m Map\u001b[38;5;241m.\u001b[39mclearMap()\n\u001b[1;32m      3\u001b[0m \u001b[38;5;66;03m# Pull the projection info from the assembled asset\u001b[39;00m\n\u001b[0;32m----> 4\u001b[0m projection \u001b[38;5;241m=\u001b[39m \u001b[43mlcms\u001b[49m\u001b[38;5;241m.\u001b[39mfirst()\u001b[38;5;241m.\u001b[39mprojection()\u001b[38;5;241m.\u001b[39mgetInfo()\n\u001b[1;32m      5\u001b[0m \u001b[38;5;28;01mif\u001b[39;00m \u001b[38;5;124m'\u001b[39m\u001b[38;5;124mcrs\u001b[39m\u001b[38;5;124m'\u001b[39m \u001b[38;5;129;01min\u001b[39;00m projection\u001b[38;5;241m.\u001b[39mkeys():\n\u001b[1;32m      6\u001b[0m     crs \u001b[38;5;241m=\u001b[39m projection[\u001b[38;5;124m'\u001b[39m\u001b[38;5;124mcrs\u001b[39m\u001b[38;5;124m'\u001b[39m]\n",
      "\u001b[0;31mNameError\u001b[0m: name 'lcms' is not defined"
     ]
    }
   ],
   "source": [
    "Map.clearMap()\n",
    "\n",
    "# Pull the projection info from the assembled asset\n",
    "projection = lcms.first().projection().getInfo()\n",
    "if 'crs' in projection.keys():\n",
    "    crs = projection['crs']\n",
    "else:\n",
    "    crs = projection['wkt']\n",
    "transform = projection['transform']\n",
    "scale=None\n",
    "\n",
    "\n",
    "# Get studyArea \n",
    "study_area = lcms.first().geometry().bounds(500,crs)\n",
    "\n",
    "# Find the years\n",
    "years = [int(float(yr)) for yr in lcms.aggregate_histogram('year').keys().getInfo()]\n",
    "\n",
    "# Find the products\n",
    "products = lcms.first().bandNames().slice(0,3).getInfo()\n",
    "\n",
    "# Set null value\n",
    "nodata_value = 0\n",
    "\n",
    "# Get the study area name\n",
    "study_area_name = lcms.first().get('study_area').getInfo()\n",
    "\n",
    "# Set version number\n",
    "version = 'vTraining2022-8'\n",
    "\n",
    "# Iterate across each product and year and export to cloud storage\n",
    "for product in products:\n",
    "    lcms_class = lcms.select([product])\n",
    "    \n",
    "    for year in years:\n",
    "        lcms_class_yr = lcms_class.filter(ee.Filter.calendarRange(year,year,'year')).first()\n",
    "        \n",
    "        output_name = f'LCMS_{study_area_name}_{version}_{product}_Annual_{year}'\n",
    "        \n",
    "        # getImagesLib.exportToCloudStorageWrapper(lcms_class_yr,output_name,os.path.basename(export_bucket),study_area,scale,crs,transform,outputNoData = nodata_value)\n"
   ]
  },
  {
   "cell_type": "code",
   "execution_count": 26,
   "id": "8d43a29d-cfd2-44b0-aeb1-193e8fef683a",
   "metadata": {},
   "outputs": [
    {
     "name": "stdout",
     "output_type": "stream",
     "text": [
      "0 tasks ready 2023-09-19 16:05:30\n",
      "0 tasks running 2023-09-19 16:05:30\n",
      "Running names:\n",
      "\n",
      "\n",
      "done\n"
     ]
    }
   ],
   "source": [
    "# Can track tasks here or at https://code.earthengine.google.com/tasks\n",
    "# If you'd like to track the tasks, use this:\n",
    "tml.trackTasks2()\n",
    "\n",
    "# If you want to cancel all running tasks, you can use this function\n",
    "# tml.batchCancel()\n",
    "\n",
    "# If you want to empty the bucket of all images\n",
    "# !gsutil rm {export_bucket}*.tif\n",
    "\n",
    "print('done')"
   ]
  },
  {
   "cell_type": "markdown",
   "id": "1c6545bc-5822-4db9-94e0-fef489fa95f0",
   "metadata": {},
   "source": [
    "## 8.3: Copy to local folder\n",
    "* Look at what is in the bucket\n",
    "* Copy to local folder for post-processing"
   ]
  },
  {
   "cell_type": "code",
   "execution_count": 6,
   "id": "69e0f66d-2aae-4fda-ae06-7e2ebe242cc1",
   "metadata": {},
   "outputs": [
    {
     "name": "stdout",
     "output_type": "stream",
     "text": [
      "https://console.cloud.google.com/storage/browser/lcms-outputs-temp2\n"
     ]
    }
   ],
   "source": [
    "# First open this link to view the outputs\n",
    "print(f'https://console.cloud.google.com/storage/browser/{os.path.basename(export_bucket)}')"
   ]
  },
  {
   "cell_type": "code",
   "execution_count": 27,
   "id": "a56f136e-e66d-4a5b-befc-8ee5f9de76b5",
   "metadata": {},
   "outputs": [
    {
     "name": "stdout",
     "output_type": "stream",
     "text": [
      "Copying gs://lcms-outputs-temp2/LCMS_PRUSVI_vTraining2022-8_Change_Annual_1985.tif...\n",
      "Copying gs://lcms-outputs-temp2/LCMS_PRUSVI_vTraining2022-8_Change_Annual_1988.tif...\n",
      "Copying gs://lcms-outputs-temp2/LCMS_PRUSVI_vTraining2022-8_Change_Annual_1987.tif...\n",
      "Copying gs://lcms-outputs-temp2/LCMS_PRUSVI_vTraining2022-8_Change_Annual_1986.tif...\n",
      "Copying gs://lcms-outputs-temp2/LCMS_PRUSVI_vTraining2022-8_Change_Annual_1989.tif...\n",
      "Copying gs://lcms-outputs-temp2/LCMS_PRUSVI_vTraining2022-8_Change_Annual_1990.tif...\n",
      "Copying gs://lcms-outputs-temp2/LCMS_PRUSVI_vTraining2022-8_Change_Annual_2001.tif...\n",
      "Copying gs://lcms-outputs-temp2/LCMS_PRUSVI_vTraining2022-8_Change_Annual_1991.tif...\n",
      "Copying gs://lcms-outputs-temp2/LCMS_PRUSVI_vTraining2022-8_Change_Annual_1992.tif...\n",
      "Copying gs://lcms-outputs-temp2/LCMS_PRUSVI_vTraining2022-8_Change_Annual_1993.tif...\n",
      "Copying gs://lcms-outputs-temp2/LCMS_PRUSVI_vTraining2022-8_Change_Annual_2000.tif...\n",
      "Copying gs://lcms-outputs-temp2/LCMS_PRUSVI_vTraining2022-8_Change_Annual_1994.tif...\n",
      "Copying gs://lcms-outputs-temp2/LCMS_PRUSVI_vTraining2022-8_Change_Annual_2002.tif...\n",
      "Copying gs://lcms-outputs-temp2/LCMS_PRUSVI_vTraining2022-8_Change_Annual_1995.tif...\n",
      "Copying gs://lcms-outputs-temp2/LCMS_PRUSVI_vTraining2022-8_Change_Annual_1996.tif...\n",
      "Copying gs://lcms-outputs-temp2/LCMS_PRUSVI_vTraining2022-8_Change_Annual_2003.tif...\n",
      "Copying gs://lcms-outputs-temp2/LCMS_PRUSVI_vTraining2022-8_Change_Annual_1998.tif...\n",
      "Copying gs://lcms-outputs-temp2/LCMS_PRUSVI_vTraining2022-8_Change_Annual_1997.tif...\n",
      "Copying gs://lcms-outputs-temp2/LCMS_PRUSVI_vTraining2022-8_Change_Annual_2004.tif...\n",
      "Copying gs://lcms-outputs-temp2/LCMS_PRUSVI_vTraining2022-8_Change_Annual_1999.tif...\n",
      "Copying gs://lcms-outputs-temp2/LCMS_PRUSVI_vTraining2022-8_Change_Annual_2005.tif...\n",
      "Copying gs://lcms-outputs-temp2/LCMS_PRUSVI_vTraining2022-8_Change_Annual_2006.tif...\n",
      "Copying gs://lcms-outputs-temp2/LCMS_PRUSVI_vTraining2022-8_Change_Annual_2007.tif...\n",
      "Copying gs://lcms-outputs-temp2/LCMS_PRUSVI_vTraining2022-8_Change_Annual_2008.tif...\n",
      "Copying gs://lcms-outputs-temp2/LCMS_PRUSVI_vTraining2022-8_Change_Annual_2009.tif...\n",
      "Copying gs://lcms-outputs-temp2/LCMS_PRUSVI_vTraining2022-8_Change_Annual_2010.tif...\n",
      "Copying gs://lcms-outputs-temp2/LCMS_PRUSVI_vTraining2022-8_Change_Annual_2011.tif...\n",
      "Copying gs://lcms-outputs-temp2/LCMS_PRUSVI_vTraining2022-8_Change_Annual_2012.tif...\n",
      "Copying gs://lcms-outputs-temp2/LCMS_PRUSVI_vTraining2022-8_Change_Annual_2013.tif...\n",
      "Copying gs://lcms-outputs-temp2/LCMS_PRUSVI_vTraining2022-8_Change_Annual_2015.tif...\n",
      "Copying gs://lcms-outputs-temp2/LCMS_PRUSVI_vTraining2022-8_Change_Annual_2014.tif...\n",
      "Copying gs://lcms-outputs-temp2/LCMS_PRUSVI_vTraining2022-8_Change_Annual_2017.tif...\n",
      "Copying gs://lcms-outputs-temp2/LCMS_PRUSVI_vTraining2022-8_Change_Annual_2016.tif...\n",
      "Copying gs://lcms-outputs-temp2/LCMS_PRUSVI_vTraining2022-8_Change_Annual_2018.tif...\n",
      "Copying gs://lcms-outputs-temp2/LCMS_PRUSVI_vTraining2022-8_Change_Annual_2019.tif...\n",
      "Copying gs://lcms-outputs-temp2/LCMS_PRUSVI_vTraining2022-8_Change_Annual_2021.tif...\n",
      "Copying gs://lcms-outputs-temp2/LCMS_PRUSVI_vTraining2022-8_Change_Annual_2020.tif...\n",
      "Copying gs://lcms-outputs-temp2/LCMS_PRUSVI_vTraining2022-8_Change_Annual_2022.tif...\n",
      "Copying gs://lcms-outputs-temp2/LCMS_PRUSVI_vTraining2022-8_Land_Cover_Annual_1985.tif...\n",
      "Copying gs://lcms-outputs-temp2/LCMS_PRUSVI_vTraining2022-8_Land_Cover_Annual_1987.tif...\n",
      "Copying gs://lcms-outputs-temp2/LCMS_PRUSVI_vTraining2022-8_Land_Cover_Annual_1988.tif...\n",
      "Copying gs://lcms-outputs-temp2/LCMS_PRUSVI_vTraining2022-8_Land_Cover_Annual_1986.tif...\n",
      "Copying gs://lcms-outputs-temp2/LCMS_PRUSVI_vTraining2022-8_Land_Cover_Annual_1991.tif...\n",
      "Copying gs://lcms-outputs-temp2/LCMS_PRUSVI_vTraining2022-8_Land_Cover_Annual_1993.tif...\n",
      "Copying gs://lcms-outputs-temp2/LCMS_PRUSVI_vTraining2022-8_Land_Cover_Annual_1989.tif...\n",
      "Copying gs://lcms-outputs-temp2/LCMS_PRUSVI_vTraining2022-8_Land_Cover_Annual_1992.tif...\n",
      "Copying gs://lcms-outputs-temp2/LCMS_PRUSVI_vTraining2022-8_Land_Cover_Annual_1994.tif...\n",
      "Copying gs://lcms-outputs-temp2/LCMS_PRUSVI_vTraining2022-8_Land_Cover_Annual_1990.tif...\n",
      "Copying gs://lcms-outputs-temp2/LCMS_PRUSVI_vTraining2022-8_Land_Cover_Annual_1995.tif...\n",
      "Copying gs://lcms-outputs-temp2/LCMS_PRUSVI_vTraining2022-8_Land_Cover_Annual_1996.tif...\n",
      "Copying gs://lcms-outputs-temp2/LCMS_PRUSVI_vTraining2022-8_Land_Cover_Annual_2000.tif...\n",
      "Copying gs://lcms-outputs-temp2/LCMS_PRUSVI_vTraining2022-8_Land_Cover_Annual_1998.tif...\n",
      "Copying gs://lcms-outputs-temp2/LCMS_PRUSVI_vTraining2022-8_Land_Cover_Annual_1999.tif...\n",
      "Copying gs://lcms-outputs-temp2/LCMS_PRUSVI_vTraining2022-8_Land_Cover_Annual_2003.tif...\n",
      "Copying gs://lcms-outputs-temp2/LCMS_PRUSVI_vTraining2022-8_Land_Cover_Annual_1997.tif...\n",
      "Copying gs://lcms-outputs-temp2/LCMS_PRUSVI_vTraining2022-8_Land_Cover_Annual_2002.tif...\n",
      "Copying gs://lcms-outputs-temp2/LCMS_PRUSVI_vTraining2022-8_Land_Cover_Annual_2004.tif...\n",
      "Copying gs://lcms-outputs-temp2/LCMS_PRUSVI_vTraining2022-8_Land_Cover_Annual_2001.tif...\n",
      "Copying gs://lcms-outputs-temp2/LCMS_PRUSVI_vTraining2022-8_Land_Cover_Annual_2005.tif...\n",
      "Copying gs://lcms-outputs-temp2/LCMS_PRUSVI_vTraining2022-8_Land_Cover_Annual_2006.tif...\n",
      "Copying gs://lcms-outputs-temp2/LCMS_PRUSVI_vTraining2022-8_Land_Cover_Annual_2007.tif...\n",
      "Copying gs://lcms-outputs-temp2/LCMS_PRUSVI_vTraining2022-8_Land_Cover_Annual_2008.tif...\n",
      "Copying gs://lcms-outputs-temp2/LCMS_PRUSVI_vTraining2022-8_Land_Cover_Annual_2009.tif...\n",
      "Copying gs://lcms-outputs-temp2/LCMS_PRUSVI_vTraining2022-8_Land_Cover_Annual_2010.tif...\n",
      "Copying gs://lcms-outputs-temp2/LCMS_PRUSVI_vTraining2022-8_Land_Cover_Annual_2011.tif...\n",
      "Copying gs://lcms-outputs-temp2/LCMS_PRUSVI_vTraining2022-8_Land_Cover_Annual_2013.tif...\n",
      "Copying gs://lcms-outputs-temp2/LCMS_PRUSVI_vTraining2022-8_Land_Cover_Annual_2012.tif...\n",
      "Copying gs://lcms-outputs-temp2/LCMS_PRUSVI_vTraining2022-8_Land_Cover_Annual_2014.tif...\n",
      "Copying gs://lcms-outputs-temp2/LCMS_PRUSVI_vTraining2022-8_Land_Cover_Annual_2015.tif...\n",
      "Copying gs://lcms-outputs-temp2/LCMS_PRUSVI_vTraining2022-8_Land_Cover_Annual_2018.tif...\n",
      "Copying gs://lcms-outputs-temp2/LCMS_PRUSVI_vTraining2022-8_Land_Cover_Annual_2017.tif...\n",
      "Copying gs://lcms-outputs-temp2/LCMS_PRUSVI_vTraining2022-8_Land_Cover_Annual_2016.tif...\n",
      "Copying gs://lcms-outputs-temp2/LCMS_PRUSVI_vTraining2022-8_Land_Cover_Annual_2019.tif...\n",
      "Copying gs://lcms-outputs-temp2/LCMS_PRUSVI_vTraining2022-8_Land_Cover_Annual_2020.tif...\n",
      "Copying gs://lcms-outputs-temp2/LCMS_PRUSVI_vTraining2022-8_Land_Cover_Annual_2021.tif...\n",
      "Copying gs://lcms-outputs-temp2/LCMS_PRUSVI_vTraining2022-8_Land_Cover_Annual_2022.tif...\n",
      "Copying gs://lcms-outputs-temp2/LCMS_PRUSVI_vTraining2022-8_Land_Use_Annual_1986.tif...\n",
      "Copying gs://lcms-outputs-temp2/LCMS_PRUSVI_vTraining2022-8_Land_Use_Annual_1985.tif...\n",
      "Copying gs://lcms-outputs-temp2/LCMS_PRUSVI_vTraining2022-8_Land_Use_Annual_1987.tif...\n",
      "Copying gs://lcms-outputs-temp2/LCMS_PRUSVI_vTraining2022-8_Land_Use_Annual_1988.tif...\n",
      "Copying gs://lcms-outputs-temp2/LCMS_PRUSVI_vTraining2022-8_Land_Use_Annual_1989.tif...\n",
      "Copying gs://lcms-outputs-temp2/LCMS_PRUSVI_vTraining2022-8_Land_Use_Annual_1990.tif...\n",
      "Copying gs://lcms-outputs-temp2/LCMS_PRUSVI_vTraining2022-8_Land_Use_Annual_1991.tif...\n",
      "Copying gs://lcms-outputs-temp2/LCMS_PRUSVI_vTraining2022-8_Land_Use_Annual_1992.tif...\n",
      "Copying gs://lcms-outputs-temp2/LCMS_PRUSVI_vTraining2022-8_Land_Use_Annual_1993.tif...\n",
      "Copying gs://lcms-outputs-temp2/LCMS_PRUSVI_vTraining2022-8_Land_Use_Annual_1995.tif...\n",
      "Copying gs://lcms-outputs-temp2/LCMS_PRUSVI_vTraining2022-8_Land_Use_Annual_1994.tif...\n",
      "Copying gs://lcms-outputs-temp2/LCMS_PRUSVI_vTraining2022-8_Land_Use_Annual_1996.tif...\n",
      "Copying gs://lcms-outputs-temp2/LCMS_PRUSVI_vTraining2022-8_Land_Use_Annual_1997.tif...\n",
      "Copying gs://lcms-outputs-temp2/LCMS_PRUSVI_vTraining2022-8_Land_Use_Annual_1998.tif...\n",
      "Copying gs://lcms-outputs-temp2/LCMS_PRUSVI_vTraining2022-8_Land_Use_Annual_2000.tif...\n",
      "Copying gs://lcms-outputs-temp2/LCMS_PRUSVI_vTraining2022-8_Land_Use_Annual_1999.tif...\n",
      "Copying gs://lcms-outputs-temp2/LCMS_PRUSVI_vTraining2022-8_Land_Use_Annual_2002.tif...\n",
      "Copying gs://lcms-outputs-temp2/LCMS_PRUSVI_vTraining2022-8_Land_Use_Annual_2001.tif...\n",
      "Copying gs://lcms-outputs-temp2/LCMS_PRUSVI_vTraining2022-8_Land_Use_Annual_2003.tif...\n",
      "Copying gs://lcms-outputs-temp2/LCMS_PRUSVI_vTraining2022-8_Land_Use_Annual_2006.tif...\n",
      "Copying gs://lcms-outputs-temp2/LCMS_PRUSVI_vTraining2022-8_Land_Use_Annual_2004.tif...\n",
      "Copying gs://lcms-outputs-temp2/LCMS_PRUSVI_vTraining2022-8_Land_Use_Annual_2005.tif...\n",
      "Copying gs://lcms-outputs-temp2/LCMS_PRUSVI_vTraining2022-8_Land_Use_Annual_2007.tif...\n",
      "Copying gs://lcms-outputs-temp2/LCMS_PRUSVI_vTraining2022-8_Land_Use_Annual_2008.tif...\n",
      "Copying gs://lcms-outputs-temp2/LCMS_PRUSVI_vTraining2022-8_Land_Use_Annual_2010.tif...\n",
      "Copying gs://lcms-outputs-temp2/LCMS_PRUSVI_vTraining2022-8_Land_Use_Annual_2009.tif...\n",
      "Copying gs://lcms-outputs-temp2/LCMS_PRUSVI_vTraining2022-8_Land_Use_Annual_2011.tif...\n",
      "Copying gs://lcms-outputs-temp2/LCMS_PRUSVI_vTraining2022-8_Land_Use_Annual_2012.tif...\n",
      "Copying gs://lcms-outputs-temp2/LCMS_PRUSVI_vTraining2022-8_Land_Use_Annual_2013.tif...\n",
      "Copying gs://lcms-outputs-temp2/LCMS_PRUSVI_vTraining2022-8_Land_Use_Annual_2014.tif...\n",
      "Copying gs://lcms-outputs-temp2/LCMS_PRUSVI_vTraining2022-8_Land_Use_Annual_2015.tif...\n",
      "Copying gs://lcms-outputs-temp2/LCMS_PRUSVI_vTraining2022-8_Land_Use_Annual_2016.tif...\n",
      "Copying gs://lcms-outputs-temp2/LCMS_PRUSVI_vTraining2022-8_Land_Use_Annual_2017.tif...\n",
      "Copying gs://lcms-outputs-temp2/LCMS_PRUSVI_vTraining2022-8_Land_Use_Annual_2018.tif...\n",
      "Copying gs://lcms-outputs-temp2/LCMS_PRUSVI_vTraining2022-8_Land_Use_Annual_2019.tif...\n",
      "Copying gs://lcms-outputs-temp2/LCMS_PRUSVI_vTraining2022-8_Land_Use_Annual_2020.tif...\n",
      "Copying gs://lcms-outputs-temp2/LCMS_PRUSVI_vTraining2022-8_Land_Use_Annual_2021.tif...\n",
      "Copying gs://lcms-outputs-temp2/LCMS_PRUSVI_vTraining2022-8_Land_Use_Annual_2022.tif...\n",
      "| [114/114 files][139.8 MiB/139.8 MiB] 100% Done                                \n",
      "Operation completed over 114 objects/139.8 MiB.                                  \n",
      "['LCMS_PRUSVI_vTraining2022-8_Land_Cover_Annual_2002.tif', 'LCMS_PRUSVI_vTraining2022-8_Change_Annual_2013.tif', 'LCMS_PRUSVI_vTraining2022-8_Land_Cover_Annual_2004.tif', 'LCMS_PRUSVI_vTraining2022-8_Change_Annual_2009.tif', 'LCMS_PRUSVI_vTraining2022-8_Change_Annual_2020.tif', 'LCMS_PRUSVI_vTraining2022-8_Land_Use_Annual_2004.tif', 'LCMS_PRUSVI_vTraining2022-8_Change_Annual_2011.tif', 'LCMS_PRUSVI_vTraining2022-8_Land_Use_Annual_2007.tif', 'LCMS_PRUSVI_vTraining2022-8_Change_Annual_1992.tif', 'LCMS_PRUSVI_vTraining2022-8_Change_Annual_2016.tif', 'LCMS_PRUSVI_vTraining2022-8_Land_Cover_Annual_1994.tif', 'LCMS_PRUSVI_vTraining2022-8_Change_Annual_1995.tif', 'LCMS_PRUSVI_vTraining2022-8_Land_Use_Annual_1988.tif', 'LCMS_PRUSVI_vTraining2022-8_Land_Cover_Annual_1988.tif', 'LCMS_PRUSVI_vTraining2022-8_Change_Annual_2014.tif', 'LCMS_PRUSVI_vTraining2022-8_Change_Annual_1991.tif', 'LCMS_PRUSVI_vTraining2022-8_Land_Cover_Annual_2010.tif', 'LCMS_PRUSVI_vTraining2022-8_Land_Cover_Annual_1987.tif', 'LCMS_PRUSVI_vTraining2022-8_Land_Cover_Annual_2005.tif', 'LCMS_PRUSVI_vTraining2022-8_Land_Cover_Annual_2009.tif', 'LCMS_PRUSVI_vTraining2022-8_Land_Use_Annual_1985.tif', 'LCMS_PRUSVI_vTraining2022-8_Change_Annual_2012.tif', 'LCMS_PRUSVI_vTraining2022-8_Change_Annual_2021.tif', 'LCMS_PRUSVI_vTraining2022-8_Land_Cover_Annual_2014.tif', 'LCMS_PRUSVI_vTraining2022-8_Land_Use_Annual_1989.tif', 'LCMS_PRUSVI_vTraining2022-8_Change_Annual_1986.tif', 'LCMS_PRUSVI_vTraining2022-8_Land_Use_Annual_2003.tif', 'LCMS_PRUSVI_vTraining2022-8_Land_Cover_Annual_2003.tif', 'LCMS_PRUSVI_vTraining2022-8_Change_Annual_1994.tif', 'LCMS_PRUSVI_vTraining2022-8_Change_Annual_1997.tif', 'LCMS_PRUSVI_vTraining2022-8_Change_Annual_1998.tif', 'LCMS_PRUSVI_vTraining2022-8_Land_Cover_Annual_1986.tif', 'LCMS_PRUSVI_vTraining2022-8_Land_Use_Annual_2021.tif', 'LCMS_PRUSVI_vTraining2022-8_Land_Cover_Annual_1990.tif', 'LCMS_PRUSVI_vTraining2022-8_Change_Annual_2006.tif', 'LCMS_PRUSVI_vTraining2022-8_Change_Annual_2002.tif', 'LCMS_PRUSVI_vTraining2022-8_Land_Cover_Annual_2020.tif', 'LCMS_PRUSVI_vTraining2022-8_Land_Use_Annual_2006.tif', 'LCMS_PRUSVI_vTraining2022-8_Change_Annual_2010.tif', 'LCMS_PRUSVI_vTraining2022-8_Land_Cover_Annual_1985.tif', 'LCMS_PRUSVI_vTraining2022-8_Change_Annual_2004.tif', 'LCMS_PRUSVI_vTraining2022-8_Land_Use_Annual_2000.tif', 'LCMS_PRUSVI_vTraining2022-8_Change_Annual_1988.tif', 'LCMS_PRUSVI_vTraining2022-8_Land_Use_Annual_2017.tif', 'LCMS_PRUSVI_vTraining2022-8_Change_Annual_2019.tif', 'LCMS_PRUSVI_vTraining2022-8_Change_Annual_2018.tif', 'LCMS_PRUSVI_vTraining2022-8_Land_Use_Annual_2010.tif', 'LCMS_PRUSVI_vTraining2022-8_Land_Use_Annual_2022.tif', 'LCMS_PRUSVI_vTraining2022-8_Land_Use_Annual_1987.tif', 'LCMS_PRUSVI_vTraining2022-8_Change_Annual_1989.tif', 'LCMS_PRUSVI_vTraining2022-8_Land_Cover_Annual_2000.tif', 'LCMS_PRUSVI_vTraining2022-8_Land_Use_Annual_2001.tif', 'LCMS_PRUSVI_vTraining2022-8_Change_Annual_2017.tif', 'LCMS_PRUSVI_vTraining2022-8_Land_Use_Annual_1999.tif', 'LCMS_PRUSVI_vTraining2022-8_Land_Cover_Annual_1991.tif', 'LCMS_PRUSVI_vTraining2022-8_Land_Cover_Annual_1995.tif', 'LCMS_PRUSVI_vTraining2022-8_Land_Use_Annual_2016.tif', 'LCMS_PRUSVI_vTraining2022-8_Land_Cover_Annual_1993.tif', 'LCMS_PRUSVI_vTraining2022-8_Land_Use_Annual_2013.tif', 'LCMS_PRUSVI_vTraining2022-8_Change_Annual_1985.tif', 'LCMS_PRUSVI_vTraining2022-8_Land_Use_Annual_2009.tif', 'LCMS_PRUSVI_vTraining2022-8_Change_Annual_2000.tif', 'LCMS_PRUSVI_vTraining2022-8_Land_Cover_Annual_2001.tif', 'LCMS_PRUSVI_vTraining2022-8_Land_Cover_Annual_1996.tif', 'LCMS_PRUSVI_vTraining2022-8_Land_Use_Annual_2020.tif', 'LCMS_PRUSVI_vTraining2022-8_Land_Cover_Annual_2008.tif', 'LCMS_PRUSVI_vTraining2022-8_Land_Use_Annual_2002.tif', 'LCMS_PRUSVI_vTraining2022-8_Change_Annual_2001.tif', 'LCMS_PRUSVI_vTraining2022-8_Land_Use_Annual_1990.tif', 'LCMS_PRUSVI_vTraining2022-8_Land_Use_Annual_1986.tif', 'LCMS_PRUSVI_vTraining2022-8_Land_Use_Annual_1995.tif', 'LCMS_PRUSVI_vTraining2022-8_Land_Cover_Annual_1999.tif', 'LCMS_PRUSVI_vTraining2022-8_Land_Use_Annual_1998.tif', 'LCMS_PRUSVI_vTraining2022-8_Change_Annual_2022.tif', 'LCMS_PRUSVI_vTraining2022-8_Land_Use_Annual_1993.tif', 'LCMS_PRUSVI_vTraining2022-8_Land_Cover_Annual_1989.tif', 'LCMS_PRUSVI_vTraining2022-8_Land_Cover_Annual_2006.tif', 'LCMS_PRUSVI_vTraining2022-8_Land_Use_Annual_2008.tif', 'LCMS_PRUSVI_vTraining2022-8_Land_Use_Annual_2014.tif', 'LCMS_PRUSVI_vTraining2022-8_Change_Annual_2007.tif', 'LCMS_PRUSVI_vTraining2022-8_Land_Cover_Annual_2016.tif', 'LCMS_PRUSVI_vTraining2022-8_Land_Cover_Annual_1997.tif', 'LCMS_PRUSVI_vTraining2022-8_Land_Use_Annual_2011.tif', 'LCMS_PRUSVI_vTraining2022-8_Change_Annual_2015.tif', 'LCMS_PRUSVI_vTraining2022-8_Land_Cover_Annual_2017.tif', 'LCMS_PRUSVI_vTraining2022-8_Land_Cover_Annual_2013.tif', 'LCMS_PRUSVI_vTraining2022-8_Land_Use_Annual_1997.tif', 'LCMS_PRUSVI_vTraining2022-8_Land_Cover_Annual_1998.tif', 'LCMS_PRUSVI_vTraining2022-8_Change_Annual_1996.tif', 'LCMS_PRUSVI_vTraining2022-8_Change_Annual_2003.tif', 'LCMS_PRUSVI_vTraining2022-8_Land_Cover_Annual_2012.tif', 'LCMS_PRUSVI_vTraining2022-8_Change_Annual_1999.tif', 'LCMS_PRUSVI_vTraining2022-8_Change_Annual_2005.tif', 'LCMS_PRUSVI_vTraining2022-8_Land_Use_Annual_2018.tif', 'LCMS_PRUSVI_vTraining2022-8_Land_Use_Annual_1996.tif', 'LCMS_PRUSVI_vTraining2022-8_Change_Annual_2008.tif', 'LCMS_PRUSVI_vTraining2022-8_Land_Cover_Annual_2019.tif', 'LCMS_PRUSVI_vTraining2022-8_Land_Use_Annual_2015.tif', 'LCMS_PRUSVI_vTraining2022-8_Change_Annual_1987.tif', 'LCMS_PRUSVI_vTraining2022-8_Land_Use_Annual_1994.tif', 'LCMS_PRUSVI_vTraining2022-8_Land_Use_Annual_2005.tif', 'LCMS_PRUSVI_vTraining2022-8_Land_Cover_Annual_2015.tif', 'LCMS_PRUSVI_vTraining2022-8_Land_Use_Annual_1992.tif', 'LCMS_PRUSVI_vTraining2022-8_Land_Cover_Annual_2018.tif', 'LCMS_PRUSVI_vTraining2022-8_Land_Cover_Annual_1992.tif', 'LCMS_PRUSVI_vTraining2022-8_Land_Cover_Annual_2021.tif', 'LCMS_PRUSVI_vTraining2022-8_Land_Use_Annual_1991.tif', 'LCMS_PRUSVI_vTraining2022-8_Land_Cover_Annual_2022.tif', 'LCMS_PRUSVI_vTraining2022-8_Land_Cover_Annual_2011.tif', 'LCMS_PRUSVI_vTraining2022-8_Land_Use_Annual_2012.tif', 'LCMS_PRUSVI_vTraining2022-8_Change_Annual_1993.tif', 'LCMS_PRUSVI_vTraining2022-8_Land_Cover_Annual_2007.tif', 'LCMS_PRUSVI_vTraining2022-8_Land_Use_Annual_2019.tif', 'LCMS_PRUSVI_vTraining2022-8_Change_Annual_1990.tif']\n"
     ]
    }
   ],
   "source": [
    "# Copy to local folder and make sure it worked\n",
    "!gsutil -m cp {export_bucket}/*.tif {local_processing_folder}\n",
    "\n",
    "print(os.listdir(local_processing_folder))"
   ]
  },
  {
   "cell_type": "markdown",
   "id": "37805dbb-7b05-4b0b-8f03-adc4cf388893",
   "metadata": {},
   "source": [
    "## 8.4 Create VRTs\n",
    "\n",
    "* Sometimes if the raster is very large, GEE will break an individual image into tiled outputs\n",
    "* We will need to ensure those get mosaicked back together \n",
    "* We will look for sets of images with the same name\n",
    "* Note that for the default test study area of Puerto Rico and the US Virgin Islands, the outputs are not broken into tiles"
   ]
  },
  {
   "cell_type": "code",
   "execution_count": 28,
   "id": "87b72d9f-5c0d-4bf0-aa92-80f9baa91db8",
   "metadata": {},
   "outputs": [
    {
     "ename": "NameError",
     "evalue": "name 'products' is not defined",
     "output_type": "error",
     "traceback": [
      "\u001b[0;31m---------------------------------------------------------------------------\u001b[0m",
      "\u001b[0;31mNameError\u001b[0m                                 Traceback (most recent call last)",
      "Cell \u001b[0;32mIn[28], line 2\u001b[0m\n\u001b[1;32m      1\u001b[0m \u001b[38;5;66;03m# Find sets of images\u001b[39;00m\n\u001b[0;32m----> 2\u001b[0m \u001b[38;5;28;01mfor\u001b[39;00m product \u001b[38;5;129;01min\u001b[39;00m \u001b[43mproducts\u001b[49m:\n\u001b[1;32m      3\u001b[0m     \u001b[38;5;28;01mfor\u001b[39;00m year \u001b[38;5;129;01min\u001b[39;00m years:\n\u001b[1;32m      4\u001b[0m         \u001b[38;5;28mprint\u001b[39m(product,year)\n",
      "\u001b[0;31mNameError\u001b[0m: name 'products' is not defined"
     ]
    }
   ],
   "source": [
    "# Find sets of images\n",
    "for product in products:\n",
    "    for year in years:\n",
    "        print(product,year)\n"
   ]
  },
  {
   "cell_type": "markdown",
   "id": "3701d064-7a3c-4bec-8b66-b3796ee8148b",
   "metadata": {},
   "source": [
    "### 6.3.1: Set up Random Forest Model for thresholding"
   ]
  },
  {
   "cell_type": "code",
   "execution_count": 25,
   "id": "033c6aba-b3f3-4376-a61b-0cf7a329eee8",
   "metadata": {},
   "outputs": [
    {
     "name": "stdout",
     "output_type": "stream",
     "text": [
      "Fitting models for thresholding\n",
      "Done\n"
     ]
    }
   ],
   "source": [
    "# Split the training data as we did before into dependent (y) and independent (X) variables\n",
    "X = training_df[predictor_variable_names]\n",
    "y = training_df[code_field_name]\n",
    "groups = training_df['PLOTID']\n",
    "# Split them into a test and train set for further model evaluation\n",
    "# X_train, X_test, y_train, y_test = train_test_split(X, y, test_size=0.2)\n",
    "\n",
    "# Ensure all plots are grouped into either test or split so temporally auto-correlated \n",
    "# plots do not get into the training set and inflate accuracy\n",
    "gss = GroupShuffleSplit(n_splits=1, train_size=0.8)\n",
    "for i, (train_index, test_index) in enumerate(gss.split(X, y, groups)):\n",
    "    train_index = train_index\n",
    "    test_index = test_index\n",
    "\n",
    "X_train, X_test, y_train, y_test = X.iloc[train_index],X.iloc[test_index],y.iloc[train_index],y.iloc[test_index]\n",
    "\n",
    "# Set up a random forest model\n",
    "print('Fitting models for thresholding')\n",
    "rf_all = RandomForestClassifier(n_estimators = nTrees, random_state=seed,oob_score=True,)\n",
    "rf_holdout = RandomForestClassifier(n_estimators = nTrees, random_state=seed,oob_score=True,)\n",
    "\n",
    "# Fit using all training as well as the holdout\n",
    "rf_all = rf_all.fit(X,y)\n",
    "rf_holdout = rf_holdout.fit(X_train,y_train)\n",
    "\n",
    "# Apply the model and get the proportion of votes for each class\n",
    "rf_all_probs = rf_all.predict_proba(X)\n",
    "rf_holdout_probs = rf_holdout.predict_proba(X_test)\n",
    "\n",
    "\n",
    "print('Done')"
   ]
  },
  {
   "cell_type": "markdown",
   "id": "9d2bbc52-81f0-4807-b22b-3f7e75eb0e35",
   "metadata": {},
   "source": [
    "### 6.3.2: Compute proportion of votes that balance omission and comission\n",
    "* Next we'll compute the proportion of votes that balances omission and commission"
   ]
  },
  {
   "cell_type": "markdown",
   "id": "faf29b9e-e2ba-4070-a5e6-221c95e0cc3f",
   "metadata": {},
   "source": [
    "\n",
    "* While this assemblage method works well, you can introduce various rules to tailor the final map product to different audiences\n",
    "* In the case of LCMS, there is a focus on forest applications\n",
    "* We know that our models are generally not very confident about classifying change largely due to the limited number of training samples that experience change\n",
    "* We also know our land use classes are not mutually exclusive (e.g. non-forest wetlands can potentially occur in any land use)\n",
    "* Therefore we have a lot of confusion in our land use outputs\n",
    "\n",
    "* Since a pixel may have probabilities above the threshold of more than one class, we choose the class with the model confidence that is the highest probability that is also above its respective threshold. \n",
    "* e.g. if the fast loss probability is 0.5 and the slow loss probability is 0.35, the pixel will be assigned fast loss\n",
    "* We will not include stable since stable will be any pixel that is not already assigned to one of the 3 change classes"
   ]
  },
  {
   "cell_type": "code",
   "execution_count": 13,
   "id": "b08aaf53-e18e-48c7-ab67-f895a4d1732f",
   "metadata": {},
   "outputs": [
    {
     "ename": "NameError",
     "evalue": "name 'np' is not defined",
     "output_type": "error",
     "traceback": [
      "\u001b[0;31m---------------------------------------------------------------------------\u001b[0m",
      "\u001b[0;31mNameError\u001b[0m                                 Traceback (most recent call last)",
      "Cell \u001b[0;32mIn[13], line 8\u001b[0m\n\u001b[1;32m      4\u001b[0m change_class_codes \u001b[38;5;241m=\u001b[39m {\u001b[38;5;124m'\u001b[39m\u001b[38;5;124mStable\u001b[39m\u001b[38;5;124m'\u001b[39m:\u001b[38;5;241m1\u001b[39m,\u001b[38;5;124m'\u001b[39m\u001b[38;5;124mSlow Loss\u001b[39m\u001b[38;5;124m'\u001b[39m:\u001b[38;5;241m2\u001b[39m,\u001b[38;5;124m'\u001b[39m\u001b[38;5;124mFast Loss\u001b[39m\u001b[38;5;124m'\u001b[39m:\u001b[38;5;241m3\u001b[39m,\u001b[38;5;124m'\u001b[39m\u001b[38;5;124mGain\u001b[39m\u001b[38;5;124m'\u001b[39m:\u001b[38;5;241m4\u001b[39m}\n\u001b[1;32m      6\u001b[0m \u001b[38;5;66;03m# Make a function that will take a list of binary reference and probablity (0-1 float) \u001b[39;00m\n\u001b[1;32m      7\u001b[0m \u001b[38;5;66;03m# predicted values and find the optimal threshold to balance omission and commission\u001b[39;00m\n\u001b[0;32m----> 8\u001b[0m \u001b[38;5;28;01mdef\u001b[39;00m \u001b[38;5;21mgetBalancedThreshold\u001b[39m(y_ref_binary,y_pred_probs,title\u001b[38;5;241m=\u001b[39m\u001b[38;5;124m'\u001b[39m\u001b[38;5;124mOmission-Commission Error\u001b[39m\u001b[38;5;124m'\u001b[39m,thresholds \u001b[38;5;241m=\u001b[39m \u001b[38;5;28mlist\u001b[39m(\u001b[43mnp\u001b[49m\u001b[38;5;241m.\u001b[39marange(\u001b[38;5;241m0\u001b[39m,\u001b[38;5;241m1\u001b[39m,\u001b[38;5;241m0.005\u001b[39m))):\n\u001b[1;32m     10\u001b[0m     omission \u001b[38;5;241m=\u001b[39m []\n\u001b[1;32m     11\u001b[0m     commission \u001b[38;5;241m=\u001b[39m []\n",
      "\u001b[0;31mNameError\u001b[0m: name 'np' is not defined"
     ]
    }
   ],
   "source": [
    "# Next we'll compute the proportion of votes that balances omission and commission\n",
    "\n",
    "# Specify individual class names and codes for change\n",
    "change_class_codes = {'Stable':1,'Slow Loss':2,'Fast Loss':3,'Gain':4}\n",
    "\n",
    "# Make a function that will take a list of binary reference and probablity (0-1 float) \n",
    "# predicted values and find the optimal threshold to balance omission and commission\n",
    "def getBalancedThreshold(y_ref_binary,y_pred_probs,title='Omission-Commission Error',thresholds = list(np.arange(0,1,0.005))):\n",
    "    \n",
    "    omission = []\n",
    "    commission = []\n",
    "    \n",
    "    # Iterate across each threshold and compute the omission and commision error rates\n",
    "    for threshold in thresholds:\n",
    "        \n",
    "        y_pred_binary = np.where(y_pred_probs>threshold, 1, 0)\n",
    "        fp = (y_pred_binary == 1) & (y_ref_binary == 0) \n",
    "        pred_positive = y_pred_binary == 1\n",
    "        ref_positive = y_ref_binary == 1\n",
    "        ref_negative = y_ref_binary == 0\n",
    "        fn = (y_pred_binary == 0) & (y_ref_binary == 1) \n",
    "        tp = (y_pred_binary == 1) & (y_ref_binary == 1) \n",
    "        commission.append(sum(fp)/sum(pred_positive))\n",
    "        omission.append(sum(fn)/sum(ref_positive))\n",
    "    \n",
    "    # Find the threshold that corresponds to the smallest difference between omission and commission\n",
    "    diff = np.abs(np.array(omission)-np.array(commission))\n",
    "    diff = np.stack((thresholds,diff,omission,commission),1)\n",
    "    diff = diff[diff[:, 1].argsort()]\n",
    "    crossover = diff[0]\n",
    "    optimal_thresh = crossover[0]\n",
    "    \n",
    "    # Plot the curves\n",
    "    plt.plot(thresholds, commission,label='Commission')\n",
    "    plt.plot(thresholds,omission, '-.',label='Omission')\n",
    "    plt.axvline(x = optimal_thresh, color = 'g', label = f'Optimal Threshold ({optimal_thresh} {crossover[2]} {crossover[3]})')\n",
    "    plt.xlabel(\"Proportion RF Model Votes\")\n",
    "    plt.ylabel(\"Error Rate\")\n",
    "    plt.title(title)\n",
    "    plt.legend()\n",
    "    plt.show()\n",
    "    \n",
    "    \n",
    "    return optimal_thresh\n",
    "\n",
    "# Iterate across each class and find the optimal threshold\n",
    "out_threshold_dict = {}\n",
    "for change_class,change_code in list(change_class_codes.items()):\n",
    "    print(change_class,change_code)\n",
    "    y_pred_prob_rf_all =rf_all_probs[:,change_code-1]\n",
    "    y_pred_prob_rf_holdout =rf_holdout_probs[:,change_code-1]\n",
    "    \n",
    "    y_ref_binary = np.where(y==change_code, 1, 0)\n",
    "    y_test_binary = np.where(y_test==change_code,1,0)\n",
    "    rf_all_thresh = getBalancedThreshold(y_ref_binary,y_pred_prob_rf_all,f'All Training Plots - {change_class}')\n",
    "    rf_holdout_thresh = getBalancedThreshold(y_test_binary,y_pred_prob_rf_holdout,f'Held Out Training Plots - {change_class}')\n",
    "    out_threshold_dict[change_class] = rf_holdout_thresh\n",
    "\n",
    "print(out_threshold_dict)\n",
    "\n",
    "# Save table for use \n",
    "model_options_csv_filename = os.path.join(local_model_data_folder,'LCMS_change_thresholds.csv')\n",
    "o = open(model_options_csv_filename,'w')\n",
    "o.write(json.dumps(out_threshold_dict))\n",
    "o.close()\n",
    "\n",
    "o = open(model_options_csv_filename,'r')\n",
    "threshs = json.load(o)\n",
    "o.close()\n",
    "\n",
    "\n",
    "print('Done')"
   ]
  },
  {
   "cell_type": "markdown",
   "id": "6d602d9d-1f92-4a74-a576-94349354c78b",
   "metadata": {},
   "source": [
    "* Notice if we don't use a holdout, the threshold always hovers near 0.5\n",
    "* This is wrong since the model contains the data being used to derive the threshold\n",
    "* Also notice the slow loss threshold is near zero with an error rate near 1. Recall we have very few slow loss samples. This indicates our models are unlikely to be able to predict slow loss at all.\n",
    "* Note that both fast loss and gain have thresholds far below 0.5 and error rates around 0.7 or so. This indicates our models are rarely confident of classifying these classes, and the omission and commission error rates are high. Simply put, TimeSync is much more sensitive to detecting change than any model is."
   ]
  },
  {
   "cell_type": "markdown",
   "id": "55739ba8-5486-4fdb-84aa-1c88c8d1c876",
   "metadata": {},
   "source": [
    "## 6.3.3: Final Change Layer Assemblage"
   ]
  },
  {
   "cell_type": "code",
   "execution_count": 10,
   "id": "e1fe9433-1971-499a-be67-e00cb484332d",
   "metadata": {},
   "outputs": [
    {
     "name": "stdout",
     "output_type": "stream",
     "text": [
      "Adding layer: Assembled LCMS Change\n",
      "Starting webmap\n",
      "Using default refresh token for geeView: /home/jupyter/.config/earthengine/credentials\n",
      "Local web server at: http://localhost:1235/geeView/ already serving.\n",
      "cwd /home/jupyter/lcms-training\n",
      "Workbench Proxy URL: https://7c39a91cfd2f6ff9-dot-us-central1.notebooks.googleusercontent.com/proxy/1235/geeView/?accessToken=None\n"
     ]
    },
    {
     "data": {
      "text/html": [
       "\n",
       "        <iframe\n",
       "            width=\"100%\"\n",
       "            height=\"525px\"\n",
       "            src=\"https://7c39a91cfd2f6ff9-dot-us-central1.notebooks.googleusercontent.com/proxy/1235/geeView/?accessToken=None\"\n",
       "            frameborder=\"0\"\n",
       "            allowfullscreen\n",
       "            \n",
       "        ></iframe>\n",
       "        "
      ],
      "text/plain": [
       "<IPython.lib.display.IFrame at 0x7f4fd91379d0>"
      ]
     },
     "metadata": {},
     "output_type": "display_data"
    },
    {
     "name": "stderr",
     "output_type": "stream",
     "text": [
      "127.0.0.1 - - [12/Sep/2023 22:56:26] \"GET /geeView/js/runGeeViz.js HTTP/1.1\" 200 -\n"
     ]
    }
   ],
   "source": [
    "\n",
    "Map.clearMap()\n",
    "# For assembling change, we choose thresholds that balance omission and commission\n",
    "# These were computed in module 5.1\n",
    "change_thresholds = { 'Slow Loss': 0.29, 'Fast Loss': 0.28, 'Gain': 0.36}\n",
    "\n",
    "\n",
    "\n",
    "product = 'Change'\n",
    "\n",
    "# Pull the class names\n",
    "class_names = lcms_viz_dict[f'{product}_class_names']\n",
    "class_codes = lcms_viz_dict[f'{product}_class_values']\n",
    "class_dict = dict(zip(class_names,class_codes))\n",
    "\n",
    "# Pull the codes in the correct order\n",
    "class_order_codes = [class_dict[cl] for cl in list(change_thresholds.keys())]\n",
    "\n",
    "# Filter to only include the product of interest\n",
    "raw_lcms_product = raw_lcms.filter(ee.Filter.eq('product',product))\n",
    "    \n",
    "# Function to assemble change for a given year\n",
    "# Uses a specified set of bands and thresholds in order to find the highest probability class above its threshold\n",
    "# It then fills in the stable value as any remaining non null value\n",
    "# Nulls are then recoded to the non processing code\n",
    "def assembleChange(img,product):\n",
    "    # Convert array to multi-band image\n",
    "    img = ee.Image(arrayToImage(img,lcms_viz_dict[f'{product}_class_names'][:-1]))\n",
    "    \n",
    "    # Select only the bands we'd like to assemble\n",
    "    img = img.select(list(change_thresholds.keys()))\n",
    "    \n",
    "    # Find the most confident class\n",
    "    maxConf = img.reduce(ee.Reducer.max())\n",
    "    \n",
    "    # Find pixels that are the most confident and above the threshold\n",
    "    maxConfMask = img.eq(maxConf).And(img.gte(list(change_thresholds.values()))).selfMask()\n",
    "    \n",
    "    # Get class code for any pixel that is above its threshold for the most confident class\n",
    "    maxClass = ee.Image(class_order_codes).updateMask(maxConfMask).reduce(ee.Reducer.first())\n",
    "    \n",
    "    # Fill stable back in\n",
    "    maxClass = maxClass.unmask(1)\n",
    "    \n",
    "    # Burn in non processing where the input was null\n",
    "    maxClass = maxClass.where(img.mask().reduce(ee.Reducer.min()).Not(),class_codes[-1])\n",
    "    \n",
    "    return maxClass.rename([product]).copyProperties(img).copyProperties(img,['system:time_start'])\n",
    "\n",
    "# Iterate across the change probabilities and assemble final change class\n",
    "assembledChange = raw_lcms_product.map(lambda img:assembleChange(img,product).set(lcms_viz_dict))\n",
    "\n",
    "# Explore it on the map\n",
    "Map.addTimeLapse(assembledChange,{'autoViz':True},'Assembled LCMS Change')\n",
    "\n",
    "Map.turnOnInspector()\n",
    "Map.view()"
   ]
  },
  {
   "cell_type": "markdown",
   "id": "4b62d391-f035-4741-9594-f6a24866c32b",
   "metadata": {},
   "source": [
    "#### Inspect"
   ]
  },
  {
   "cell_type": "code",
   "execution_count": 11,
   "id": "51740632-06c2-4acc-ace4-9c36542efee5",
   "metadata": {},
   "outputs": [
    {
     "name": "stdout",
     "output_type": "stream",
     "text": [
      "Adding layer: Most Recent Year of Fast Loss\n",
      "Starting webmap\n",
      "Using default refresh token for geeView: /home/jupyter/.config/earthengine/credentials\n",
      "Local web server at: http://localhost:1235/geeView/ already serving.\n",
      "cwd /home/jupyter/lcms-training\n",
      "Workbench Proxy URL: https://7c39a91cfd2f6ff9-dot-us-central1.notebooks.googleusercontent.com/proxy/1235/geeView/?accessToken=None\n"
     ]
    },
    {
     "data": {
      "text/html": [
       "\n",
       "        <iframe\n",
       "            width=\"100%\"\n",
       "            height=\"525px\"\n",
       "            src=\"https://7c39a91cfd2f6ff9-dot-us-central1.notebooks.googleusercontent.com/proxy/1235/geeView/?accessToken=None\"\n",
       "            frameborder=\"0\"\n",
       "            allowfullscreen\n",
       "            \n",
       "        ></iframe>\n",
       "        "
      ],
      "text/plain": [
       "<IPython.lib.display.IFrame at 0x7f4fd9110cd0>"
      ]
     },
     "metadata": {},
     "output_type": "display_data"
    },
    {
     "name": "stdout",
     "output_type": "stream",
     "text": [
      "['Change', 'year']\n"
     ]
    },
    {
     "name": "stderr",
     "output_type": "stream",
     "text": [
      "127.0.0.1 - - [12/Sep/2023 23:10:44] \"GET /geeView/js/runGeeViz.js HTTP/1.1\" 200 -\n"
     ]
    }
   ],
   "source": [
    "Map.clearMap()\n",
    "# Viewing change outputs can be easier as a composite that shows the most recent year of a single change type\n",
    "# This example will show the most recent year of fast loss\n",
    "\n",
    "# First, add a year constant band\n",
    "assembledChange = assembledChange.map(getImagesLib.addYearBand)\n",
    "\n",
    "# Then mask where change equals fast loss (3)\n",
    "fastLoss = assembledChange.map(lambda img: img.updateMask(img.select([0]).eq(3)))\n",
    "\n",
    "# Find the most recent year\n",
    "mostRecentFastLoss = fastLoss.max().select(['year'])\n",
    "Map.addLayer(mostRecentFastLoss,{'min':1985,'max':2022,'palette':changeDetectionLib.lossYearPalette},'Most Recent Year of Fast Loss')\n",
    "\n",
    "Map.turnOnInspector()\n",
    "Map.view()\n",
    "print(assembledChange.first().bandNames().getInfo())"
   ]
  },
  {
   "cell_type": "markdown",
   "id": "1be599c0-0790-4ca7-bb88-4501542720a1",
   "metadata": {},
   "source": [
    "## 6.4: Export Assembled assets\n",
    "\n",
    "* Now lets export assembled assets\n",
    "\n",
    "* OPTIONAL!!!!\n",
    "* Optionally, we can export using the tile grid approach\n",
    "* For PRUSVI, LCMS does not need to export using this approach, but this is how you would set it up\n",
    "* First, we'll set up the study area and a tile to export across"
   ]
  },
  {
   "cell_type": "code",
   "execution_count": 12,
   "id": "6e65ba06-c1a4-46a3-ab48-c6d6659ea692",
   "metadata": {},
   "outputs": [
    {
     "name": "stdout",
     "output_type": "stream",
     "text": [
      "Adding layer: Tile Grid 240000m\n",
      "Starting webmap\n",
      "Using default refresh token for geeView: /home/jupyter/.config/earthengine/credentials\n",
      "Local web server at: http://localhost:1235/geeView/ already serving.\n",
      "cwd /home/jupyter/lcms-training\n",
      "Workbench Proxy URL: https://7c39a91cfd2f6ff9-dot-us-central1.notebooks.googleusercontent.com/proxy/1235/geeView/?accessToken=None\n"
     ]
    },
    {
     "data": {
      "text/html": [
       "\n",
       "        <iframe\n",
       "            width=\"100%\"\n",
       "            height=\"525px\"\n",
       "            src=\"https://7c39a91cfd2f6ff9-dot-us-central1.notebooks.googleusercontent.com/proxy/1235/geeView/?accessToken=None\"\n",
       "            frameborder=\"0\"\n",
       "            allowfullscreen\n",
       "            \n",
       "        ></iframe>\n",
       "        "
      ],
      "text/plain": [
       "<IPython.lib.display.IFrame at 0x7f4fda3971c0>"
      ]
     },
     "metadata": {},
     "output_type": "display_data"
    },
    {
     "name": "stderr",
     "output_type": "stream",
     "text": [
      "127.0.0.1 - - [12/Sep/2023 23:10:58] \"GET /geeView/js/runGeeViz.js HTTP/1.1\" 200 -\n"
     ]
    }
   ],
   "source": [
    "Map.clearMap()\n",
    "# Now lets export assembled assets\n",
    "\n",
    "# OPTIONAL!!!!\n",
    "# Optionally, we can export using the tile grid approach\n",
    "# For PRUSVI, LCMS does not need to export using this approach, but this is how you would set it up\n",
    "# First, we'll set up the study area and a tile to export across\n",
    "\n",
    "studyArea = ee.FeatureCollection('projects/lcms-292214/assets/R8/PR_USVI/Ancillary/prusvi_boundary')\n",
    "\n",
    "# Set the size (in meters) of the tiles\n",
    "# We can likely use a large tile for this step\n",
    "# If exports fail, reducing the tileSize is likely to help\n",
    "tileSize = 240000\n",
    "\n",
    "\n",
    "# Set the projection\n",
    "crs = getImagesLib.common_projections['NLCD_CONUS']['crs']\n",
    "transform  = getImagesLib.common_projections['NLCD_CONUS']['transform']\n",
    "scale = None\n",
    "projection = ee.Projection(crs,transform)\n",
    "\n",
    "\n",
    "# Get the grid\n",
    "grid = studyArea.geometry().coveringGrid(projection.atScale(tileSize))\n",
    "Map.addLayer(grid,{},'Tile Grid {}m'.format(tileSize))\n",
    "\n",
    "Map.centerObject(grid)\n",
    "Map.view()"
   ]
  },
  {
   "cell_type": "markdown",
   "id": "51edfcba-8f75-4521-9c90-3834aa7a9bab",
   "metadata": {},
   "source": [
    "* Iterate across each year and assemble full stack output\n",
    "* [Example of fully assembed bands](https://developers.google.com/earth-engine/datasets/catalog/USFS_GTAC_LCMS_v2022-8#bands)\n",
    "* We will not be producing the qa-bits bands"
   ]
  },
  {
   "cell_type": "code",
   "execution_count": 41,
   "id": "6782ae1f-f343-4629-be94-2ddca20dd75e",
   "metadata": {},
   "outputs": [
    {
     "name": "stdout",
     "output_type": "stream",
     "text": [
      "Exporting: LCMS_PRUSVI_v2022-Training_1985\n",
      "Exporting: LCMS_PRUSVI_v2022-Training_1986\n",
      "Exporting: LCMS_PRUSVI_v2022-Training_1987\n",
      "Exporting: LCMS_PRUSVI_v2022-Training_1988\n",
      "Exporting: LCMS_PRUSVI_v2022-Training_1989\n",
      "Exporting: LCMS_PRUSVI_v2022-Training_1990\n",
      "Exporting: LCMS_PRUSVI_v2022-Training_1991\n",
      "Exporting: LCMS_PRUSVI_v2022-Training_1992\n",
      "Exporting: LCMS_PRUSVI_v2022-Training_1993\n",
      "Exporting: LCMS_PRUSVI_v2022-Training_1994\n",
      "Exporting: LCMS_PRUSVI_v2022-Training_1995\n",
      "Exporting: LCMS_PRUSVI_v2022-Training_1996\n",
      "Exporting: LCMS_PRUSVI_v2022-Training_1997\n",
      "Exporting: LCMS_PRUSVI_v2022-Training_1998\n",
      "Exporting: LCMS_PRUSVI_v2022-Training_1999\n",
      "Exporting: LCMS_PRUSVI_v2022-Training_2000\n",
      "Exporting: LCMS_PRUSVI_v2022-Training_2001\n",
      "Exporting: LCMS_PRUSVI_v2022-Training_2002\n",
      "Exporting: LCMS_PRUSVI_v2022-Training_2003\n",
      "Exporting: LCMS_PRUSVI_v2022-Training_2004\n",
      "Exporting: LCMS_PRUSVI_v2022-Training_2005\n",
      "Exporting: LCMS_PRUSVI_v2022-Training_2006\n",
      "Exporting: LCMS_PRUSVI_v2022-Training_2007\n",
      "Exporting: LCMS_PRUSVI_v2022-Training_2008\n",
      "Exporting: LCMS_PRUSVI_v2022-Training_2009\n",
      "Exporting: LCMS_PRUSVI_v2022-Training_2010\n",
      "Exporting: LCMS_PRUSVI_v2022-Training_2011\n",
      "Exporting: LCMS_PRUSVI_v2022-Training_2012\n",
      "Exporting: LCMS_PRUSVI_v2022-Training_2013\n",
      "Exporting: LCMS_PRUSVI_v2022-Training_2014\n",
      "Exporting: LCMS_PRUSVI_v2022-Training_2015\n",
      "Exporting: LCMS_PRUSVI_v2022-Training_2016\n",
      "Exporting: LCMS_PRUSVI_v2022-Training_2017\n",
      "Exporting: LCMS_PRUSVI_v2022-Training_2018\n",
      "Exporting: LCMS_PRUSVI_v2022-Training_2019\n",
      "Exporting: LCMS_PRUSVI_v2022-Training_2020\n",
      "Exporting: LCMS_PRUSVI_v2022-Training_2021\n",
      "Exporting: LCMS_PRUSVI_v2022-Training_2022\n",
      "Done\n"
     ]
    }
   ],
   "source": [
    "# Iterate across each year, assemble full stack output \n",
    "# products = ['Land_Cover','Land_Use']\n",
    "Map.clearMap()\n",
    "\n",
    "# Provide a study area name and version\n",
    "study_area_name = 'PRUSVI'\n",
    "version = '2022-Training'\n",
    "\n",
    "# Set up years to apply models across\n",
    "apply_years = list(range(1985,2022+1))\n",
    "\n",
    "\n",
    "# This will be populated on the first iteration\n",
    "pyramidingPolicy = None\n",
    "\n",
    "\n",
    "for apply_year in apply_years:\n",
    "    assembled_list = []\n",
    "    probability_list = []\n",
    "    for product in products:\n",
    "        # Pull the class names\n",
    "        class_names = lcms_viz_dict[f'{product}_class_names'][:-1]\n",
    "        \n",
    "        # Get rid of missing class names\n",
    "        class_names = [nm for nm in class_names if nm not in missing_names[product]]\n",
    "        \n",
    "        # Get rid of any characters that aren't allowed\n",
    "        class_names = [nm.replace(' ','-').replace('/','-').replace('&','and') for nm in class_names]\n",
    "        \n",
    "        probability_names = [f'{product}_Raw_Probability_{class_name}' for class_name in class_names]\n",
    "        \n",
    "        product_title = product.replace('_',' ')\n",
    "\n",
    "        # Filter to only include the product of interest\n",
    "        raw_lcms_product_yr = raw_lcms\\\n",
    "                            .filter(ee.Filter.calendarRange(apply_year,apply_year,'year'))\\\n",
    "                            .filter(ee.Filter.eq('product',product)).first()\n",
    "        \n",
    "        if product in ['Land_Cover','Land_Use']:\n",
    "            # Find the max probability class\n",
    "            maxProb_lcms_product_yr = getMostProbableClass(raw_lcms_product_yr,product)\n",
    "            assembled_list.append(maxProb_lcms_product_yr)\n",
    "        \n",
    "        elif product == 'Change':\n",
    "            change_lcms_product_yr = assembleChange(raw_lcms_product_yr,product)\n",
    "            assembled_list.append(change_lcms_product_yr)\n",
    "            \n",
    "        # Convert raw model probabilities to bands for exploration\n",
    "        prob_lcms_product_yr = arrayToImage(raw_lcms_product_yr,probability_names)\n",
    "        probability_list.append(prob_lcms_product_yr)\n",
    "        \n",
    "    final_stack = ee.Image(ee.Image.cat([ee.Image.cat(assembled_list).byte(),ee.Image.cat(probability_list).multiply(100)]).byte()\\\n",
    "                    .copyProperties(raw_lcms_product_yr,['study_area','year']))\n",
    "\n",
    "    exportName = f'LCMS_{study_area_name}_v{version}_{apply_year}'\n",
    "    exportPath = f'{export_assembledLCMSOutputs_collection}/{exportName}'\n",
    "\n",
    "    # Set up a pyramiding object for each band\n",
    "    # Final output bands are thematic and need a mode resampling method\n",
    "    # Probability bands are continuous, so mean is appropriate\n",
    "    if pyramidingPolicy == None:\n",
    "        bns = final_stack.bandNames().getInfo()\n",
    "        pyramidingPolicy = {}\n",
    "        for bn in bns:\n",
    "            if bn.find('_Probability_') == -1:\n",
    "                pyramidingPolicy[bn] = 'mode'\n",
    "            else:\n",
    "                pyramidingPolicy[bn] = 'mean'\n",
    "   \n",
    "    getImagesLib.exportToAssetWrapper(final_stack,exportName,exportPath,pyramidingPolicy,studyArea,scale,crs,transform,overwrite=True)\n",
    "\n",
    "print('Done')"
   ]
  },
  {
   "cell_type": "code",
   "execution_count": null,
   "id": "a34d3be9-ad5f-452c-ad0a-30bb6fbead40",
   "metadata": {},
   "outputs": [
    {
     "name": "stdout",
     "output_type": "stream",
     "text": [
      "21 tasks ready 2023-08-22 02:57:57\n",
      "4 tasks running 2023-08-22 02:57:57\n",
      "Running names:\n",
      "['LCMS_PRUSVI_v2022-Training_2001', '0:00:44']\n",
      "['LCMS_PRUSVI_v2022-Training_2000', '0:05:39']\n",
      "['LCMS_PRUSVI_v2022-Training_1999', '0:09:12']\n",
      "['LCMS_PRUSVI_v2022-Training_1997', '0:12:41']\n",
      "\n",
      "\n",
      "21 tasks ready 2023-08-22 02:58:02\n",
      "4 tasks running 2023-08-22 02:58:02\n",
      "Running names:\n",
      "['LCMS_PRUSVI_v2022-Training_2001', '0:00:49']\n",
      "['LCMS_PRUSVI_v2022-Training_2000', '0:05:44']\n",
      "['LCMS_PRUSVI_v2022-Training_1999', '0:09:17']\n",
      "['LCMS_PRUSVI_v2022-Training_1997', '0:12:47']\n",
      "\n",
      "\n",
      "Serving HTTP on 0.0.0.0 port 4321 (http://0.0.0.0:4321/) ...\n",
      "\n",
      "Keyboard interrupt received, exiting.\n"
     ]
    }
   ],
   "source": [
    "# Can track tasks here or at https://code.earthengine.google.com/tasks\n",
    "# If you'd like to track the tasks, use this:\n",
    "tml.trackTasks2()\n",
    "\n",
    "# If you want to cancel all running tasks, you can use this function\n",
    "# tml.batchCancel()\n",
    "\n",
    "# If you want to empty the collection of all images\n",
    "# aml.batchDelete(export_rawLCMSOutputs_collection, type = 'imageCollection')\n",
    "\n",
    "print('done')"
   ]
  },
  {
   "cell_type": "markdown",
   "id": "4f146769-6d26-4479-9f90-f98b5a6b6250",
   "metadata": {},
   "source": [
    "### Inspect final outputs"
   ]
  },
  {
   "cell_type": "code",
   "execution_count": 10,
   "id": "dc243533-d2b8-41cd-b85e-6271aa3779c3",
   "metadata": {},
   "outputs": [
    {
     "name": "stdout",
     "output_type": "stream",
     "text": [
      "Adding layer: Full Stack Output\n",
      "Adding layer: LCMS Change\n",
      "Adding layer: LCMS Land_Cover\n",
      "Adding layer: LCMS Land_Use\n",
      "Starting webmap\n",
      "Using default refresh token for geeView: /home/jupyter/.config/earthengine/credentials\n",
      "Local web server at: http://localhost:1235/geeView/ already serving.\n",
      "cwd /home/jupyter/lcms-training\n",
      "Workbench Proxy URL: https://53c21733d8125e22-dot-us-west3.notebooks.googleusercontent.com/proxy/1235/geeView/?accessToken=None\n"
     ]
    },
    {
     "data": {
      "text/html": [
       "\n",
       "        <iframe\n",
       "            width=\"100%\"\n",
       "            height=\"525px\"\n",
       "            src=\"https://53c21733d8125e22-dot-us-west3.notebooks.googleusercontent.com/proxy/1235/geeView/?accessToken=None\"\n",
       "            frameborder=\"0\"\n",
       "            allowfullscreen\n",
       "            \n",
       "        ></iframe>\n",
       "        "
      ],
      "text/plain": [
       "<IPython.lib.display.IFrame at 0x7f04910ff1c0>"
      ]
     },
     "metadata": {},
     "output_type": "display_data"
    },
    {
     "name": "stderr",
     "output_type": "stream",
     "text": [
      "127.0.0.1 - - [22/Aug/2023 03:48:56] \"GET /geeView/js/runGeeViz.js HTTP/1.1\" 200 -\n"
     ]
    }
   ],
   "source": [
    "# View final outputs\n",
    "Map.clearMap()\n",
    "lcms = ee.ImageCollection(export_assembledLCMSOutputs_collection)\n",
    "\n",
    "Map.addLayer(lcms,{'opacity':0},'Full Stack Output')\n",
    "lcms = lcms.map(lambda img:img.set(lcms_viz_dict))\n",
    "for product in products:Map.addTimeLapse(lcms.select([product]),{'autoViz':True},f'LCMS {product}')\n",
    "\n",
    "Map.turnOnInspector()\n",
    "Map.view()"
   ]
  },
  {
   "cell_type": "markdown",
   "id": "d20c5ec5-2c97-4224-88e3-4f1c180ef4fb",
   "metadata": {},
   "source": [
    "## Lab 6 challenge:\n",
    "TBD"
   ]
  },
  {
   "cell_type": "code",
   "execution_count": null,
   "id": "aa7a0dac-c6c3-4934-8fe4-d93e894bf653",
   "metadata": {},
   "outputs": [],
   "source": [
    "# insert challenge code here"
   ]
  },
  {
   "cell_type": "markdown",
   "id": "0a6521c5-e02f-45fe-b3a7-29c4dd44b9e4",
   "metadata": {},
   "source": [
    "## Done with Module 6"
   ]
  }
 ],
 "metadata": {
  "environment": {
   "kernel": "python3",
   "name": "tf2-gpu.2-11.m111",
   "type": "gcloud",
   "uri": "gcr.io/deeplearning-platform-release/tf2-gpu.2-11:m111"
  },
  "kernelspec": {
   "display_name": "Python 3",
   "language": "python",
   "name": "python3"
  },
  "language_info": {
   "codemirror_mode": {
    "name": "ipython",
    "version": 3
   },
   "file_extension": ".py",
   "mimetype": "text/x-python",
   "name": "python",
   "nbconvert_exporter": "python",
   "pygments_lexer": "ipython3",
   "version": "3.10.12"
  }
 },
 "nbformat": 4,
 "nbformat_minor": 5
}
