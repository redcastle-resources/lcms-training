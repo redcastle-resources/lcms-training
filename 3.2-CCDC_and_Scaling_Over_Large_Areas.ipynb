{
 "cells": [
  {
   "cell_type": "code",
   "execution_count": null,
   "id": "28cbf5f4-218f-40d0-bd53-b224bf7a095c",
   "metadata": {},
   "outputs": [],
   "source": [
    "# Copyright 2023 Google LLC\n",
    "#\n",
    "# Licensed under the Apache License, Version 2.0 (the \"License\");\n",
    "# you may not use this file except in compliance with the License.\n",
    "# You may obtain a copy of the License at\n",
    "#\n",
    "#     https://www.apache.org/licenses/LICENSE-2.0\n",
    "#\n",
    "# Unless required by applicable law or agreed to in writing, software\n",
    "# distributed under the License is distributed on an \"AS IS\" BASIS,\n",
    "# WITHOUT WARRANTIES OR CONDITIONS OF ANY KIND, either express or implied.\n",
    "# See the License for the specific language governing permissions and\n",
    "# limitations under the License."
   ]
  },
  {
   "cell_type": "markdown",
   "id": "07b375fb-0b18-47d2-b33d-ca0858cfaf27",
   "metadata": {
    "id": "title:generic,gcp"
   },
   "source": [
    "# Module 3.2 : Run CCDC over a tiled grid\n",
    "\n",
    "<table align=\"left\">\n",
    "  <td>\n",
    "    <a href=\"https://colab.research.google.com/github/redcastle-resources/lcms-training/blob/main/3.2-CCDC_and_Scaling_Over_Large_Areas.ipynb\">\n",
    "      <img src=\"https://cloud.google.com/ml-engine/images/colab-logo-32px.png\" alt=\"Colab logo\"> Run in Colab\n",
    "    </a>\n",
    "  </td>\n",
    "  <td>\n",
    "    <a href=\"https://github.com/redcastle-resources/lcms-training/blob/main/3.2-CCDC_and_Scaling_Over_Large_Areas.ipynb\">\n",
    "      <img src=\"https://cloud.google.com/ml-engine/images/github-logo-32px.png\" alt=\"GitHub logo\">\n",
    "      View on GitHub\n",
    "    </a>\n",
    "  </td>\n",
    "  <td>\n",
    "    <a href=\"https://console.cloud.google.com/vertex-ai/workbench/deploy-notebook?download_url=https://github.com/redcastle-resources/lcms-training/blob/main/3.2-CCDC_and_Scaling_Over_Large_Areas.ipynb\">\n",
    "      <img src=\"https://lh3.googleusercontent.com/UiNooY4LUgW_oTvpsNhPpQzsstV5W8F7rYgxgGBD85cWJoLmrOzhVs_ksK_vgx40SHs7jCqkTkCk=e14-rj-sc0xffffff-h130-w32\" alt=\"Vertex AI logo\">\n",
    "      Open in Vertex AI Workbench\n",
    "    </a>\n",
    "  </td>\n",
    "</table>\n",
    "<br/><br/><br/>"
   ]
  },
  {
   "cell_type": "markdown",
   "id": "c2767893-1df1-44cb-8964-1e6310f04ada",
   "metadata": {
    "id": "overview:mlops"
   },
   "source": [
    "## Overview\n",
    "\n",
    "\n",
    "This notebook uses Landsat in the Continuous Change Detection and Classification (CCDC) temporal segmentation algorithm over a tiled grid in order to minimize memory errors\n",
    "\n",
    "GEE can run out of memory for processes that use a deep stack of data, such as CCDC. Breaking exports into tiles can help avoid memory errors.\n",
    "\n",
    "Learn more about CCDC:\n",
    "- [CCDC Publication](https://www.sciencedirect.com/science/article/abs/pii/S0034425714000248).\n",
    "- [GEE CCDC Documentation](https://developers.google.com/earth-engine/apidocs/ee-algorithms-temporalsegmentation-ccdc)\n",
    "\n",
    "### Objective\n",
    "\n",
    "In this tutorial, you learn how to create and manipulate CCDC outputs.\n",
    "\n",
    "This tutorial uses the following Google Cloud services:\n",
    "\n",
    "- `Google Earth Engine`\n",
    "\n",
    "The steps performed include:\n",
    "\n",
    "\n",
    "\n",
    "**The steps performed include:**\n",
    "\n",
    "- Create tile mesh grid over a study area\n",
    "- Create CCDC outputs over the mesh grid\n",
    "- Manipulate EE array image objects to get meaningful data out of CCDC outputs - change detection\n",
    "\n",
    "**Learning objectives include:**\n",
    "- Users will understand the purpose of temporal segmentation as implemented in CCDC.\n",
    "- Users will understand key parameters in CCDC algorithm. \n",
    "- Users will be able to generate and manipulate array outputs from CCDC. \n"
   ]
  },
  {
   "cell_type": "markdown",
   "id": "83956917-77e5-4475-be3e-be10d719973c",
   "metadata": {
    "tags": []
   },
   "source": [
    "# Before you begin\n",
    "\n",
    "### Set your current URL under `workbench_url`\n",
    "This gives the Map Viewer a url in which to host the viewer we will be generating. \n",
    "* This will be in your URL/search bar at the top of the browser window you are currently in\n",
    "* It will look something like `https://1234567890122-dot-us-west3.notebooks.googleusercontent.com/` (See the image below)\n",
    "\n",
    "![workspace url](img/workspace-url.png)\n",
    "\n",
    "### Set a folder to use for all exports under `export_path_root` \n",
    "* This folder should be an assets folder in an existing GEE project.\n",
    "* By default, this folder is the same as the pre-baked folder (where outputs have already been created). \n",
    "* If you would like to create your own outputs, specify a different path for `export_path_root`, but leave the `pre_baked_path_root` as it was. This way, the pre-baked outputs can be shown at the end, instead of waiting for all exports to finish.\n",
    "* It will be something like `projects/projectID/assets/someFolder`\n",
    "* This folder does not have to already exist. If it does not exist, it will be created"
   ]
  },
  {
   "cell_type": "code",
   "execution_count": 1,
   "id": "1823001d-1f94-452d-a3e4-0967859cf00f",
   "metadata": {},
   "outputs": [
    {
     "name": "stdout",
     "output_type": "stream",
     "text": [
      "Done\n"
     ]
    }
   ],
   "source": [
    "workbench_url = 'https://53c21733d8125e22-dot-us-west3.notebooks.googleusercontent.com'\n",
    "pre_baked_path_root = 'projects/rcr-gee/assets/lcms-training'\n",
    "export_path_root  = pre_baked_path_root\n",
    "\n",
    "print('Done')"
   ]
  },
  {
   "cell_type": "markdown",
   "id": "6a1ec864-64cd-44fa-8512-3356de8b43a3",
   "metadata": {},
   "source": [
    "# Installation\n",
    "First, install necessary Python packages. Uncomment the first line to upgrade geeViz if necessary.\n",
    "\n",
    "Note that for this module, we're also importing the `geeViz.changeDetectionLib as changeDetectionLib`. We will use this library later to "
   ]
  },
  {
   "cell_type": "code",
   "execution_count": 3,
   "id": "e361ce8d",
   "metadata": {
    "colab": {
     "background_save": true,
     "base_uri": "https://localhost:8080/"
    },
    "id": "26c53654",
    "scrolled": true,
    "tags": []
   },
   "outputs": [
    {
     "name": "stdout",
     "output_type": "stream",
     "text": [
      "Done\n"
     ]
    }
   ],
   "source": [
    "#Module imports\n",
    "#!python -m pip install geeViz --upgrade\n",
    "try:\n",
    "    import geeViz.getImagesLib as getImagesLib\n",
    "except:\n",
    "    !python -m pip install geeViz\n",
    "    import geeViz.getImagesLib as getImagesLib\n",
    "\n",
    "import geeViz.changeDetectionLib as changeDetectionLib\n",
    "import geeViz.assetManagerLib as aml\n",
    "import geeViz.taskManagerLib as tml\n",
    "import geeViz.gee2Pandas as g2p\n",
    "import inspect\n",
    "\n",
    "ee = getImagesLib.ee\n",
    "Map = getImagesLib.Map\n",
    "\n",
    "print('Done')"
   ]
  },
  {
   "cell_type": "markdown",
   "id": "a21d4247-dfdf-41d2-a6c6-3b91599c8f62",
   "metadata": {
    "tags": []
   },
   "source": [
    "## Set up your work environment\n",
    "\n",
    "Create a folder in your export path where you will export the composites. In addition, create a blank image collection where your composites will live.\n",
    "\n",
    "Currently, when running within Colab or Workbench, geeView uses a different project to authenticate through, so you may need to make your asset public to view from within Colab."
   ]
  },
  {
   "cell_type": "code",
   "execution_count": 4,
   "id": "44215913-56aa-4700-a050-13bf8ca29169",
   "metadata": {},
   "outputs": [
    {
     "name": "stdout",
     "output_type": "stream",
     "text": [
      "Found the following sub directories:  ['lcms-training', 'lcms-training_module-3_CCDC']\n",
      "Will attempt to create them if they do not exist\n",
      "Asset projects/rcr-gee/assets/lcms-training already exists\n",
      "Asset projects/rcr-gee/assets/lcms-training/lcms-training_module-3_CCDC already exists\n",
      "Updating permissions for:  projects/rcr-gee/assets/lcms-training/lcms-training_module-3_CCDC\n",
      "Done\n"
     ]
    }
   ],
   "source": [
    "# Create folder and a collection and make public\n",
    "\n",
    "export_ccdc_collection = f'{export_path_root}/lcms-training_module-3_CCDC'\n",
    "aml.create_asset(export_ccdc_collection,asset_type = ee.data.ASSET_TYPE_IMAGE_COLL)\n",
    "\n",
    "# Currently geeView within Colab uses a different project to authenticate through, so you may need to make your asset public to view from within Colab\n",
    "aml.updateACL(export_ccdc_collection,writers = [],all_users_can_read = True,readers = [])\n",
    "\n",
    "\n",
    "print('Done')"
   ]
  },
  {
   "cell_type": "code",
   "execution_count": 6,
   "id": "f2b0e457-7a1c-473d-9b71-4172825cdce7",
   "metadata": {},
   "outputs": [
    {
     "name": "stdout",
     "output_type": "stream",
     "text": [
      "Done\n"
     ]
    }
   ],
   "source": [
    "# set up map\n",
    "Map.clearMap()\n",
    "\n",
    "# reset port if necessary\n",
    "Map.port = 1235\n",
    "Map.proxy_url = workbench_url\n",
    "\n",
    "print('Done')"
   ]
  },
  {
   "cell_type": "markdown",
   "id": "47e7d0b7-9e2c-4ea6-a7d9-46a2de4a53d7",
   "metadata": {},
   "source": [
    "## View tiles used in current CONUS LCMS workflow\n",
    "\n",
    "Currently, we run LCMS for the Continental US (CONUS), Coastal Alaska, Hawaii, and Puerto Rico / the US Virgin Islands. \n",
    "\n",
    "For CONUS, we have to divide all processing up in order to avoid running out of memory.\n",
    "\n",
    "This next block of code will show the tiles that our composites use for exporting to asset\n"
   ]
  },
  {
   "cell_type": "code",
   "execution_count": 11,
   "id": "774a6527",
   "metadata": {
    "colab": {
     "base_uri": "https://localhost:8080/",
     "height": 668
    },
    "executionInfo": {
     "elapsed": 654,
     "status": "ok",
     "timestamp": 1690239679889,
     "user": {
      "displayName": "Ian Housman",
      "userId": "00382093583884444463"
     },
     "user_tz": 360
    },
    "id": "NjZBHBs3C1Uy",
    "outputId": "fce5e58c-2ef8-4dd1-8bff-6d94dd48558e"
   },
   "outputs": [
    {
     "name": "stdout",
     "output_type": "stream",
     "text": [
      "Adding layer: Example CONUS 2022 LCMS Composite\n",
      "Adding layer: LCMS Composite Tile Geometry\n",
      "Starting webmap\n",
      "Using default refresh token for geeView: /home/jupyter/.config/earthengine/credentials\n",
      "Local web server at: http://localhost:1235/geeView/ already serving.\n",
      "cwd /home/jupyter/lcms-training\n",
      "Workbench Proxy URL: https://53c21733d8125e22-dot-us-west3.notebooks.googleusercontent.com/proxy/1235/geeView/?accessToken=None\n"
     ]
    },
    {
     "data": {
      "text/html": [
       "\n",
       "        <iframe\n",
       "            width=\"100%\"\n",
       "            height=\"525px\"\n",
       "            src=\"https://53c21733d8125e22-dot-us-west3.notebooks.googleusercontent.com/proxy/1235/geeView/?accessToken=None\"\n",
       "            frameborder=\"0\"\n",
       "            allowfullscreen\n",
       "            \n",
       "        ></iframe>\n",
       "        "
      ],
      "text/plain": [
       "<IPython.lib.display.IFrame at 0x7f0fa1037ee0>"
      ]
     },
     "metadata": {},
     "output_type": "display_data"
    }
   ],
   "source": [
    "# First, we'll view the tiles used in the current CONUS LCMS workflow\n",
    "lcms_CONUS_composites = ee.ImageCollection('projects/lcms-tcc-shared/assets/Composites/Composite-Collection-yesL7-1984-2020')\\\n",
    "                                                .filter(ee.Filter.calendarRange(2022,2022,'year'))\n",
    "\n",
    "# Pull the geometry of each tile in the composites\n",
    "lcms_composites_tile_geo = lcms_CONUS_composites.map(lambda f:ee.Feature(f.geometry()).copyProperties(f,['studyAreaName']))\n",
    "\n",
    "# Add the tiles and a composite for reference\n",
    "Map.addLayer(lcms_CONUS_composites.mosaic(),getImagesLib.vizParamsTrue10k,'Example CONUS 2022 LCMS Composite')\n",
    "Map.addLayer(lcms_composites_tile_geo,{},'LCMS Composite Tile Geometry')\n",
    "\n",
    "Map.centerObject(lcms_composites_tile_geo)\n",
    "Map.turnOnInspector()\n",
    "Map.view()"
   ]
  },
  {
   "cell_type": "markdown",
   "id": "f031c3c1-d292-45cc-9c1a-8b7f891596d0",
   "metadata": {},
   "source": [
    "### When to use tiles \n",
    "* Note that these tiles are much larger than the entire area of our Puerto Rico and US Virgin Islands study area\n",
    "* We generally only use tiles when a process fails due to memory or internal errors\n",
    "* Then we divide the study area up into as large of a tile grid that will allow exports to complete"
   ]
  },
  {
   "cell_type": "markdown",
   "id": "4e8f4c29-3a15-4df2-b7a3-40e205fed306",
   "metadata": {},
   "source": [
    "## Create tiles of various sizes\n",
    "\n",
    "Here is an example of how to create a pyramid of tiles at various scales.\n",
    "Below, a function will generate a grid of a set size in the projection being used \n",
    "\n",
    "## To determine what size tile you would use:\n",
    "* Generally you would start with the biggest tile possible and work your way down till you stop having memory issues\n",
    "* Currently, LCMS uses 480km tiles (with a 900m buffer) for most processing (everything but CCDC)"
   ]
  },
  {
   "cell_type": "code",
   "execution_count": 12,
   "id": "8e0d9547",
   "metadata": {
    "colab": {
     "base_uri": "https://localhost:8080/",
     "height": 720
    },
    "executionInfo": {
     "elapsed": 405,
     "status": "ok",
     "timestamp": 1690241047808,
     "user": {
      "displayName": "Ian Housman",
      "userId": "00382093583884444463"
     },
     "user_tz": 360
    },
    "id": "wstpK3iCGOck",
    "outputId": "de19ecd8-e75d-4038-d57b-314e1012efe1"
   },
   "outputs": [
    {
     "name": "stdout",
     "output_type": "stream",
     "text": [
      "Adding layer: Tile Grid 480000m\n",
      "Adding layer: Tile Grid 240000m\n",
      "Adding layer: Tile Grid 120000m\n",
      "Adding layer: Tile Grid 60000m\n",
      "Adding layer: LCMS CONUS Study Area\n",
      "Starting webmap\n",
      "Using default refresh token for geeView: /home/jupyter/.config/earthengine/credentials\n",
      "Local web server at: http://localhost:1235/geeView/ already serving.\n",
      "cwd /home/jupyter/lcms-training\n",
      "Workbench Proxy URL: https://53c21733d8125e22-dot-us-west3.notebooks.googleusercontent.com/proxy/1235/geeView/?accessToken=None\n"
     ]
    },
    {
     "data": {
      "text/html": [
       "\n",
       "        <iframe\n",
       "            width=\"100%\"\n",
       "            height=\"525px\"\n",
       "            src=\"https://53c21733d8125e22-dot-us-west3.notebooks.googleusercontent.com/proxy/1235/geeView/?accessToken=None\"\n",
       "            frameborder=\"0\"\n",
       "            allowfullscreen\n",
       "            \n",
       "        ></iframe>\n",
       "        "
      ],
      "text/plain": [
       "<IPython.lib.display.IFrame at 0x7f0f9be935e0>"
      ]
     },
     "metadata": {},
     "output_type": "display_data"
    }
   ],
   "source": [
    "Map.clearMap()\n",
    "\n",
    "# set study area and projection\n",
    "lcms_CONUS_studyArea = ee.FeatureCollection('projects/lcms-292214/assets/CONUS-Ancillary-Data/conus')\n",
    "lcms_CONUS_projection = lcms_CONUS_composites.first().projection()\n",
    "\n",
    "def getGrid(studyArea,projection,size):\n",
    "  grid = studyArea.geometry().coveringGrid(projection.atScale(size))\n",
    "  Map.addLayer(grid,{},'Tile Grid {}m'.format(size))\n",
    "  return grid\n",
    "\n",
    "grid480= getGrid(lcms_CONUS_studyArea,lcms_CONUS_projection,480000)\n",
    "getGrid(lcms_CONUS_studyArea,lcms_CONUS_projection,240000)\n",
    "getGrid(lcms_CONUS_studyArea,lcms_CONUS_projection,120000)\n",
    "getGrid(lcms_CONUS_studyArea,lcms_CONUS_projection,60000)\n",
    "Map.addLayer(lcms_CONUS_studyArea,{},'LCMS CONUS Study Area')\n",
    "\n",
    "Map.turnOnInspector()\n",
    "Map.view()\n"
   ]
  },
  {
   "cell_type": "markdown",
   "id": "08a3ce53-9961-49cd-9ea7-de34be097668",
   "metadata": {},
   "source": [
    "### Takeaway from this map\n",
    "We can scale in all different sizes, but generally pyramid the tiles by dividing the size by 2 for each smaller size\n",
    "Tiles might be too large or too small for area of interest depending on the size of the area and the complexity of the process being performed.\n",
    "\n",
    "## Using Tiles\n",
    "As an example of how to use this approach, we first need to get each available tile into a list\n",
    "Then we would iterate across each tile, clip it to the study area, buffer it, get the data, and export, etc...\n",
    "\n",
    "Zoom to the northwestern US to see these tiles"
   ]
  },
  {
   "cell_type": "code",
   "execution_count": 14,
   "id": "ed0de16c",
   "metadata": {
    "colab": {
     "base_uri": "https://localhost:8080/",
     "height": 703
    },
    "executionInfo": {
     "elapsed": 2095,
     "status": "ok",
     "timestamp": 1690241366219,
     "user": {
      "displayName": "Ian Housman",
      "userId": "00382093583884444463"
     },
     "user_tz": 360
    },
    "id": "vDCOJ6KrLtHv",
    "outputId": "004f960e-91e1-4919-ad16-be462fd2978f"
   },
   "outputs": [
    {
     "name": "stdout",
     "output_type": "stream",
     "text": [
      "Adding layer: Tile -3,-6\n",
      "Adding layer: Tile -4,-6\n",
      "Starting webmap\n",
      "Using default refresh token for geeView: /home/jupyter/.config/earthengine/credentials\n",
      "Local web server at: http://localhost:1235/geeView/ already serving.\n",
      "cwd /home/jupyter/lcms-training\n",
      "Workbench Proxy URL: https://53c21733d8125e22-dot-us-west3.notebooks.googleusercontent.com/proxy/1235/geeView/?accessToken=None\n"
     ]
    },
    {
     "data": {
      "text/html": [
       "\n",
       "        <iframe\n",
       "            width=\"100%\"\n",
       "            height=\"525px\"\n",
       "            src=\"https://53c21733d8125e22-dot-us-west3.notebooks.googleusercontent.com/proxy/1235/geeView/?accessToken=None\"\n",
       "            frameborder=\"0\"\n",
       "            allowfullscreen\n",
       "            \n",
       "        ></iframe>\n",
       "        "
      ],
      "text/plain": [
       "<IPython.lib.display.IFrame at 0x7f0f9be928c0>"
      ]
     },
     "metadata": {},
     "output_type": "display_data"
    }
   ],
   "source": [
    "Map.clearMap()\n",
    "\n",
    "ids = grid480.limit(2).aggregate_histogram('system:index').keys().getInfo()\n",
    "for id in ids:\n",
    "  # Get the tile and clip it to the study area and then buffer\n",
    "  tile = grid480.filter(ee.Filter.eq('system:index',id)).geometry().intersection(lcms_CONUS_studyArea,240,lcms_CONUS_projection).buffer(900)\n",
    "  Map.addLayer(tile,{},'Tile {}'.format(id))\n",
    "\n",
    "Map.centerObject(tile)\n",
    "Map.view()"
   ]
  },
  {
   "cell_type": "markdown",
   "id": "032b4b11-0147-4f2e-8ddf-aa5d439cc115",
   "metadata": {},
   "source": [
    "## Example CCDC run\n",
    "\n",
    "### Memory considerations\n",
    "Since CCDC is the most memory intensive algorithm we use, you are the most likely to need to use this approach when running CCDC\n",
    "\n",
    "If you run it from 1984 to 2023, even using just Landsat (rather than Landsat and Sentinel-2), you are much more likely to run out of memory\n",
    "\n",
    "### Set up tiles for example\n",
    "\n",
    "We'll use the full Puerto Rico and US Virgin Islands LCMS study area, and will run our analysis from 1984-2023."
   ]
  },
  {
   "cell_type": "code",
   "execution_count": 11,
   "id": "8bc97294-cdc9-43c6-868b-c9f8e078ecce",
   "metadata": {},
   "outputs": [
    {
     "name": "stdout",
     "output_type": "stream",
     "text": [
      "Adding layer: Tile Grid 60000m\n",
      "Adding layer: Study Area\n",
      "Starting webmap\n",
      "Using default refresh token for geeView: /home/jupyter/.config/earthengine/credentials\n",
      "Local web server at: http://localhost:1235/geeView/ already serving.\n",
      "cwd /home/jupyter/lcms-training\n",
      "Workbench Proxy URL: https://53c21733d8125e22-dot-us-west3.notebooks.googleusercontent.com/proxy/1235/geeView/?accessToken=None\n"
     ]
    },
    {
     "data": {
      "text/html": [
       "\n",
       "        <iframe\n",
       "            width=\"100%\"\n",
       "            height=\"525px\"\n",
       "            src=\"https://53c21733d8125e22-dot-us-west3.notebooks.googleusercontent.com/proxy/1235/geeView/?accessToken=None\"\n",
       "            frameborder=\"0\"\n",
       "            allowfullscreen\n",
       "            \n",
       "        ></iframe>\n",
       "        "
      ],
      "text/plain": [
       "<IPython.lib.display.IFrame at 0x7f259ef039a0>"
      ]
     },
     "metadata": {},
     "output_type": "display_data"
    }
   ],
   "source": [
    "# clear the map\n",
    "Map.clearMap()\n",
    "\n",
    "# Set the size (in meters) of the tiles\n",
    "tileSize = 60000\n",
    "\n",
    "# Specify study area\n",
    "studyArea = ee.FeatureCollection('projects/lcms-292214/assets/R8/PR_USVI/Ancillary/prusvi_boundary')\n",
    "\n",
    "\n",
    "# Set the projection\n",
    "crs = getImagesLib.common_projections['NLCD_CONUS']['crs']\n",
    "transform  = getImagesLib.common_projections['NLCD_CONUS']['transform']\n",
    "scale = None\n",
    "projection = ee.Projection(crs,transform)\n",
    "\n",
    "\n",
    "# Get the grid\n",
    "grid = studyArea.geometry().coveringGrid(projection.atScale(tileSize))\n",
    "Map.addLayer(grid,{},'Tile Grid {}m'.format(tileSize))\n",
    "\n",
    "\n",
    "Map.addLayer(studyArea,{},'Study Area')\n",
    "Map.turnOnInspector()\n",
    "Map.centerObject(studyArea)\n",
    "Map.view()"
   ]
  },
  {
   "cell_type": "markdown",
   "id": "cf04878e-7547-40e6-bac6-f98230738f1e",
   "metadata": {},
   "source": [
    "### Define parameters for Landsat imagery \n",
    "\n",
    "First let's set up some Landsat and CCDC parameters.\n",
    "\n",
    "We'll use the full Puerto Rico and US Virgin Islands LCMS study area, and will run our analysis from 1984-2023.\n",
    "\n",
    "The parameters below you should seem familiar from module 2"
   ]
  },
  {
   "cell_type": "code",
   "execution_count": 8,
   "id": "ec4914a3-0d3d-4fc3-9117-15a88f98bf34",
   "metadata": {},
   "outputs": [
    {
     "name": "stdout",
     "output_type": "stream",
     "text": [
      "Done\n"
     ]
    }
   ],
   "source": [
    "# We'll use the full Puerto Rico and US Virgin Islands LCMS study area\n",
    "studyArea = ee.FeatureCollection('projects/lcms-292214/assets/R8/PR_USVI/Ancillary/prusvi_boundary')\n",
    "\n",
    "#Specify start and end years for all analyses\n",
    "#More than a 3 year span should be provided for time series methods to work\n",
    "#well. If providing pre-computed stats for cloudScore and TDOM, this does not\n",
    "#matter\n",
    "startYear = 1984\n",
    "endYear = 2023\n",
    "\n",
    "#Update the startJulian and endJulian variables to indicate your seasonal\n",
    "#constraints. This supports wrapping for tropics and southern hemisphere.\n",
    "#If using wrapping and the majority of the days occur in the second year, the system:time_start will default\n",
    "#to June 1 of that year.Otherwise, all system:time_starts will default to June 1 of the given year\n",
    "#startJulian: Starting Julian date\n",
    "#endJulian: Ending Julian date\n",
    "startJulian = 1\n",
    "endJulian = 365\n",
    "\n",
    "#Choose whether to include Landat 7\n",
    "#Generally only included when data are limited\n",
    "includeSLCOffL7 = True\n",
    "\n",
    "print('Done')"
   ]
  },
  {
   "cell_type": "markdown",
   "id": "15fe55bc-8b50-487f-8dc3-b77ab4c24f3a",
   "metadata": {},
   "source": [
    "### Set export parameters\n",
    "\n",
    "#### Export bands\n",
    "First, set Which bands/indices to export\n",
    "These will not always be used to find breaks - that is specified below in the ccdcParams\n",
    "\n",
    "Options are: [\"blue\",\"green\",\"red\",\"nir\",\"swir1\",\"swir2\",\"NDVI\",\"NBR\",\"NDMI\",\"NDSI\",\"brightness\",\"greenness\",\"wetness\",\"fourth\",\"fifth\",\"sixth\",\"tcAngleBG\"]\n",
    "\n",
    "Be sure that any bands in `ccdcParams.breakpointBands` parameter, which we'll set next, are in this list\n",
    "\n",
    "#### Export projection and scale\n"
   ]
  },
  {
   "cell_type": "code",
   "execution_count": 33,
   "id": "c28f42c8-487f-4e3c-92dd-44b20db8f252",
   "metadata": {},
   "outputs": [],
   "source": [
    "# set export bands\n",
    "exportBands = [\"blue\",\"green\",\"red\",\"nir\",\"swir1\",\"swir2\",\"NDVI\"]\n"
   ]
  },
  {
   "cell_type": "markdown",
   "id": "2f39340e-ac1f-4d06-8440-cd0a52ec2feb",
   "metadata": {},
   "source": [
    "#### Visualization parameters\n",
    "\n",
    "Adjusting settings for how the visualizer displays false color imagery"
   ]
  },
  {
   "cell_type": "code",
   "execution_count": 34,
   "id": "0cbe73be-b4b8-4a4b-9a41-7e63fcfbf488",
   "metadata": {},
   "outputs": [],
   "source": [
    "# set viz params\n",
    "getImagesLib.vizParamsFalse['min']=0.15\n",
    "getImagesLib.vizParamsFalse['max']=0.8"
   ]
  },
  {
   "cell_type": "markdown",
   "id": "65733586-daf5-4ffa-8707-c536d6445ea7",
   "metadata": {},
   "source": [
    "### Set CCDC parameters\n",
    "\n",
    "* [GEE CCDC Documentation](https://developers.google.com/earth-engine/apidocs/ee-algorithms-temporalsegmentation-ccdc)\n",
    "\n",
    "\n",
    "**CCDC Parameters include:**\n",
    "| Argument             | Type                    | Details                                                                                                                                                                                                                                |\n",
    "|----------------------|-------------------------|----------------------------------------------------------------------------------------------------------------------------------------------------------------------------------------------------------------------------------------|\n",
    "| collection           | ImageCollection         | Collection of images on which to run CCDC.                                                                                                                                                                                             |\n",
    "| breakpointBands      | List, default: None     | The name or index of the bands to use for change detection. If unspecified, all bands are used.                                                                                                                                        |\n",
    "| tmaskBands           | List, default: None     | The name or index of the bands to use for iterative TMask cloud detection. These are typically the green band and the SWIR1 band. If unspecified, TMask is not used. If specified, 'tmaskBands' must be included in 'breakpointBands'. |\n",
    "| minObservations      | Integer, default: 6     | The number of observations required to flag a change.                                                                                                                                                                                  |\n",
    "| chiSquareProbability | Float, default: 0.99    | The chi-square probability threshold for change detection in the range of [0, 1]                                                                                                                                                       |\n",
    "| minNumOfYearsScaler  | Float, default: 1.33    | Factors of minimum number of years to apply new fitting.                                                                                                                                                                               |\n",
    "| dateFormat           | Integer, default: 0     | The time representation to use during fitting: 0 = jDays, 1 = fractional years, 2 = unix time in milliseconds. The start, end and break times for each temporal segment will be encoded this way.                                      |\n",
    "| lambda               | Float, default: 20      | Lambda for LASSO regression fitting. If set to 0, regular OLS is used instead of LASSO. 20 would be if input data was scaled 0-10000. If 0-1 reflectance, 20 would become 0.002                                                                                                                                                |\n",
    "| maxIterations        | Integer, default: 25000 | Maximum number of runs for LASSO regression convergence. If set to 0, regular OLS is used instead of LASSO.                                                                                                                            |\n",
    "* Run the code chunk below to set the parameters that you'll use in the CCDC model.\n"
   ]
  },
  {
   "cell_type": "code",
   "execution_count": 35,
   "id": "72f2f5c3-e66b-4be6-9a02-ee31f2a233f7",
   "metadata": {},
   "outputs": [
    {
     "name": "stdout",
     "output_type": "stream",
     "text": [
      "Done\n"
     ]
    }
   ],
   "source": [
    "ccdcParams ={\n",
    "  'breakpointBands':['green','red','nir','swir1','swir2','NDVI'],\n",
    "  'tmaskBands' : None,\n",
    "  'minObservations': 6,\n",
    "  'chiSquareProbability': 0.99,\n",
    "  'minNumOfYearsScaler': 1.33,\n",
    "  'lambda': 0.002,# Since our reflectance data is 0-1 and not 0-10000, we divide 20 by 10000\n",
    "  'maxIterations' : 25000,\n",
    "  'dateFormat' : 1\n",
    "}\n",
    "\n",
    "print('Done')"
   ]
  },
  {
   "cell_type": "markdown",
   "id": "e0237a49-0126-43b1-a9e6-ebb50453fba0",
   "metadata": {},
   "source": [
    "#### Function to remove any extremely high band / index values\n",
    "\n",
    "That might be artifacts and result in errors"
   ]
  },
  {
   "cell_type": "code",
   "execution_count": 36,
   "id": "13792cfc-64d4-449c-a1f5-c37287594c43",
   "metadata": {},
   "outputs": [],
   "source": [
    "# Write function to Remove any extremely high band/index values\n",
    "def removeGT1(img):\n",
    "  lte1 = img.select(['blue','green','nir','swir1','swir2']).lte(1).reduce(ee.Reducer.min());\n",
    "  return img.updateMask(lte1);"
   ]
  },
  {
   "cell_type": "markdown",
   "id": "48c40720-d699-40d1-9a6e-470b9a97fdea",
   "metadata": {},
   "source": [
    "### Iterate across a tile and run CCDC\n",
    "\n",
    "* Now, we'll iterate across one tile and run CCDC as an example of how to use this approach to create composites. \n",
    "* Double-click on the outputs to see the values of the raw Landsat data and how they relate to the CCDC raw output. \n",
    "* You'll notice the raw CCDC output is even more complex than the LandTrendr output."
   ]
  },
  {
   "cell_type": "code",
   "execution_count": 73,
   "id": "6098382b-c86f-4775-b90c-cea99d38935a",
   "metadata": {},
   "outputs": [
    {
     "name": "stdout",
     "output_type": "stream",
     "text": [
      "Adding layer: Tile 96,53\n",
      "Get Processed Landsat: \n",
      "Start date: Jan 01 1984 , End date: Dec 31 2023\n",
      "Applying scale factors for C2 L4 data\n",
      "Applying scale factors for C2 L5 data\n",
      "Applying scale factors for C2 L8 data\n",
      "Including All Landsat 7\n",
      "Applying scale factors for C2 L7 data\n",
      "Applying scale factors for C2 L9 data\n",
      "Applying Fmask Cloud Mask\n",
      "Applying Fmask Shadow Mask\n",
      "Adding layer: Raw Processed Landsat Input\n",
      "Adding layer: CCDC Output\n",
      "Starting webmap\n",
      "Using default refresh token for geeView: /home/jupyter/.config/earthengine/credentials\n",
      "Local web server at: http://localhost:1235/geeView/ already serving.\n",
      "cwd /home/jupyter/lcms-training\n",
      "Workbench Proxy URL: https://53c21733d8125e22-dot-us-west3.notebooks.googleusercontent.com/proxy/1235/geeView/?accessToken=None\n"
     ]
    },
    {
     "data": {
      "text/html": [
       "\n",
       "        <iframe\n",
       "            width=\"100%\"\n",
       "            height=\"525px\"\n",
       "            src=\"https://53c21733d8125e22-dot-us-west3.notebooks.googleusercontent.com/proxy/1235/geeView/?accessToken=None\"\n",
       "            frameborder=\"0\"\n",
       "            allowfullscreen\n",
       "            \n",
       "        ></iframe>\n",
       "        "
      ],
      "text/plain": [
       "<IPython.lib.display.IFrame at 0x7f259c870880>"
      ]
     },
     "metadata": {},
     "output_type": "display_data"
    }
   ],
   "source": [
    "Map.clearMap()\n",
    "\n",
    "# list ids\n",
    "ids = grid.aggregate_histogram('system:index').keys().getInfo()\n",
    "\n",
    "\n",
    "# Get the tile and buffer it so there are no missing pixels at tile edges\n",
    "# We'll use the tile that falls over El Yunque National Forest\n",
    "# Any smaller subset should work though\n",
    "tile = grid.filter(ee.Filter.eq('system:index',ids[6]))\n",
    "\n",
    "Map.addLayer(tile,{},'Tile {}'.format(id))\n",
    "Map.centerObject(tile)\n",
    "processedScenes = getImagesLib.getProcessedLandsatScenes(studyArea = tile,startYear = startYear, endYear = endYear,\n",
    "                                                    startJulian = startJulian,endJulian = endJulian,\n",
    "                                                    includeSLCOffL7 = includeSLCOffL7).select(exportBands)\n",
    "processedScenes = processedScenes.map(removeGT1)\n",
    "# print(processedScenes.size().getInfo())\n",
    "\n",
    "#Set the scene collection in the ccdcParams\n",
    "ccdcParams['collection'] = processedScenes\n",
    "\n",
    "#Run CCDC\n",
    "ccdc = ee.Image(ee.Algorithms.TemporalSegmentation.Ccdc(**ccdcParams))\n",
    "Map.addLayer(processedScenes,{},'Raw Processed Landsat Input')\n",
    "Map.addLayer(ccdc,{},'CCDC Output')\n",
    "\n",
    "\n",
    "\n",
    "Map.turnOnInspector()\n",
    "Map.view()"
   ]
  },
  {
   "cell_type": "markdown",
   "id": "9b6e533f-81e8-4197-8def-22ce75850d16",
   "metadata": {},
   "source": [
    "* In order to understand how CCDC outputs relate to the original input data, we will join the raw input NDVI values to the predicted NDVI values from CCDC\n",
    "* Extracting the data can take some time. Please be patient."
   ]
  },
  {
   "cell_type": "code",
   "execution_count": 83,
   "id": "0ff6b1ad-8102-44bc-abfc-0aac6be66121",
   "metadata": {},
   "outputs": [
    {
     "name": "stdout",
     "output_type": "stream",
     "text": [
      "Adding layer: Raw Landsat and CCDC Fitted\n",
      "Starting webmap\n",
      "Using default refresh token for geeView: /home/jupyter/.config/earthengine/credentials\n",
      "Local web server at: http://localhost:1235/geeView/ already serving.\n",
      "cwd /home/jupyter/lcms-training\n",
      "Workbench Proxy URL: https://53c21733d8125e22-dot-us-west3.notebooks.googleusercontent.com/proxy/1235/geeView/?accessToken=None\n"
     ]
    },
    {
     "data": {
      "text/html": [
       "\n",
       "        <iframe\n",
       "            width=\"100%\"\n",
       "            height=\"525px\"\n",
       "            src=\"https://53c21733d8125e22-dot-us-west3.notebooks.googleusercontent.com/proxy/1235/geeView/?accessToken=None\"\n",
       "            frameborder=\"0\"\n",
       "            allowfullscreen\n",
       "            \n",
       "        ></iframe>\n",
       "        "
      ],
      "text/plain": [
       "<IPython.lib.display.IFrame at 0x7f259c2f6680>"
      ]
     },
     "metadata": {},
     "output_type": "display_data"
    },
    {
     "name": "stdout",
     "output_type": "stream",
     "text": [
      "Extracting raw Landsat and fitted CCDC values\n",
      "Done\n"
     ]
    },
    {
     "data": {
      "image/png": "[encoded data removed]",
      "text/plain": [
       "<Figure size 640x480 with 1 Axes>"
      ]
     },
     "metadata": {},
     "output_type": "display_data"
    }
   ],
   "source": [
    "Map.clearMap()\n",
    "\n",
    "# Specify which bands to show in the example\n",
    "exampleBandNames = ['NDVI']\n",
    "\n",
    "# Now let's join the raw and predicted CCDC for a small subset of time \n",
    "processedScenes = processedScenes\\\n",
    "                    .filter(ee.Filter.calendarRange(2010,2023,'year'))\\\n",
    "                    .map(getImagesLib.addYearYearFractionBand)\n",
    "#Then predict the CCDC models\n",
    "fitted = changeDetectionLib.predictCCDC(ccdc,processedScenes.select(['year']),fillGaps=False,whichHarmonics=[1,2,3])\n",
    "\n",
    "exampleFittedBandNames = [f'{bn}_CCDC_fitted' for bn in exampleBandNames]\n",
    "\n",
    "ccdcJoined = getImagesLib.joinCollections(processedScenes.select(exampleBandNames),fitted.select(exampleFittedBandNames))\n",
    "ccdcJoinedBns = ccdcJoined.first().bandNames().getInfo()\n",
    "\n",
    "# View the map\n",
    "# Querying this map will often yield errors as this process is quite computationally intensive\n",
    "Map.addLayer(ccdcJoined,{'min':0.2,'max':0.8},'Raw Landsat and CCDC Fitted')\n",
    "Map.turnOnInspector()\n",
    "Map.view()\n",
    "\n"
   ]
  },
  {
   "cell_type": "markdown",
   "id": "2235c491-f2a9-42c0-adaf-b7862252a586",
   "metadata": {},
   "source": [
    "* We'll extract a single pixel of the output to illustrate how the raw inputs relate to the fitted CCDC output"
   ]
  },
  {
   "cell_type": "code",
   "execution_count": 86,
   "id": "fe73c061-e23b-4cee-aea4-f31eec7f8eea",
   "metadata": {},
   "outputs": [
    {
     "name": "stdout",
     "output_type": "stream",
     "text": [
      "Extracting raw Landsat and fitted CCDC values\n",
      "Done\n"
     ]
    },
    {
     "data": {
      "image/png": "[encoded data removed]",
      "text/plain": [
       "<Figure size 640x480 with 1 Axes>"
      ]
     },
     "metadata": {},
     "output_type": "display_data"
    }
   ],
   "source": [
    "# # Provide an example location \n",
    "pt = ee.Geometry.Point([ -65.944 , 18.404])\n",
    "\n",
    "# Extract the values and plot them\n",
    "print('Extracting raw Landsat and fitted CCDC values')\n",
    "timSeries = g2p.extractPointValuesToDataFrame(ccdcJoined,pt,scale=None,crs = crs, transform = transform)\n",
    "timSeries['system:time_start']= g2p.pandas.to_datetime(timSeries['system:time_start'], unit='ms')\n",
    "\n",
    "timSeriesT = timSeries[ccdcJoinedBns]\n",
    "timSeriesT.index = timSeries['system:time_start']\n",
    "timSeriesT.plot.line(title='Raw Landsat and CCDC Fitted',xlabel='Date',ylabel='Value')\n",
    "\n",
    "print('Done')"
   ]
  },
  {
   "cell_type": "markdown",
   "id": "2020e239-9f74-4143-84cf-eb5ad5d538f6",
   "metadata": {},
   "source": [
    "### Iterate across all tiles and export CCDC outputs\n",
    "* Now that we have reviewed how to run CCDC over Landsat data, we will do so over our processing tiles and export it as an asset\n"
   ]
  },
  {
   "cell_type": "code",
   "execution_count": 87,
   "id": "2f9d13ab-6838-4737-8b29-86444951e7b0",
   "metadata": {},
   "outputs": [
    {
     "name": "stdout",
     "output_type": "stream",
     "text": [
      "90,54\n",
      "Get Processed Landsat: \n",
      "Start date: Jan 01 1984 , End date: Dec 31 2023\n",
      "Applying scale factors for C2 L4 data\n",
      "Applying scale factors for C2 L5 data\n",
      "Applying scale factors for C2 L8 data\n",
      "Including All Landsat 7\n",
      "Applying scale factors for C2 L7 data\n",
      "Applying scale factors for C2 L9 data\n",
      "Applying Fmask Cloud Mask\n",
      "Applying Fmask Shadow Mask\n",
      "projects/rcr-gee/assets/lcms-training/lcms-training_module-3_CCDC/CCDC_Tile-60000m_ID90-54_yrs1984-2023_jds1-365\n",
      "CCDC_Tile-60000m_ID90-54_yrs1984-2023_jds1-365 currently exists or is being exported and overwrite = False. Set overwite = True if you would like to overwite any existing asset or asset exporting task\n",
      "91,52\n",
      "Get Processed Landsat: \n",
      "Start date: Jan 01 1984 , End date: Dec 31 2023\n",
      "Applying scale factors for C2 L4 data\n",
      "Applying scale factors for C2 L5 data\n",
      "Applying scale factors for C2 L8 data\n",
      "Including All Landsat 7\n",
      "Applying scale factors for C2 L7 data\n",
      "Applying scale factors for C2 L9 data\n",
      "Applying Fmask Cloud Mask\n",
      "Applying Fmask Shadow Mask\n",
      "projects/rcr-gee/assets/lcms-training/lcms-training_module-3_CCDC/CCDC_Tile-60000m_ID91-52_yrs1984-2023_jds1-365\n",
      "CCDC_Tile-60000m_ID91-52_yrs1984-2023_jds1-365 currently exists or is being exported and overwrite = False. Set overwite = True if you would like to overwite any existing asset or asset exporting task\n",
      "91,53\n",
      "Get Processed Landsat: \n",
      "Start date: Jan 01 1984 , End date: Dec 31 2023\n",
      "Applying scale factors for C2 L4 data\n",
      "Applying scale factors for C2 L5 data\n",
      "Applying scale factors for C2 L8 data\n",
      "Including All Landsat 7\n",
      "Applying scale factors for C2 L7 data\n",
      "Applying scale factors for C2 L9 data\n",
      "Applying Fmask Cloud Mask\n",
      "Applying Fmask Shadow Mask\n",
      "projects/rcr-gee/assets/lcms-training/lcms-training_module-3_CCDC/CCDC_Tile-60000m_ID91-53_yrs1984-2023_jds1-365\n",
      "CCDC_Tile-60000m_ID91-53_yrs1984-2023_jds1-365 currently exists or is being exported and overwrite = False. Set overwite = True if you would like to overwite any existing asset or asset exporting task\n",
      "91,54\n",
      "Get Processed Landsat: \n",
      "Start date: Jan 01 1984 , End date: Dec 31 2023\n",
      "Applying scale factors for C2 L4 data\n",
      "Applying scale factors for C2 L5 data\n",
      "Applying scale factors for C2 L8 data\n",
      "Including All Landsat 7\n",
      "Applying scale factors for C2 L7 data\n",
      "Applying scale factors for C2 L9 data\n",
      "Applying Fmask Cloud Mask\n",
      "Applying Fmask Shadow Mask\n",
      "projects/rcr-gee/assets/lcms-training/lcms-training_module-3_CCDC/CCDC_Tile-60000m_ID91-54_yrs1984-2023_jds1-365\n",
      "CCDC_Tile-60000m_ID91-54_yrs1984-2023_jds1-365 currently exists or is being exported and overwrite = False. Set overwite = True if you would like to overwite any existing asset or asset exporting task\n",
      "92,52\n",
      "Get Processed Landsat: \n",
      "Start date: Jan 01 1984 , End date: Dec 31 2023\n",
      "Applying scale factors for C2 L4 data\n",
      "Applying scale factors for C2 L5 data\n",
      "Applying scale factors for C2 L8 data\n",
      "Including All Landsat 7\n",
      "Applying scale factors for C2 L7 data\n",
      "Applying scale factors for C2 L9 data\n",
      "Applying Fmask Cloud Mask\n",
      "Applying Fmask Shadow Mask\n",
      "projects/rcr-gee/assets/lcms-training/lcms-training_module-3_CCDC/CCDC_Tile-60000m_ID92-52_yrs1984-2023_jds1-365\n",
      "CCDC_Tile-60000m_ID92-52_yrs1984-2023_jds1-365 currently exists or is being exported and overwrite = False. Set overwite = True if you would like to overwite any existing asset or asset exporting task\n",
      "92,53\n",
      "Get Processed Landsat: \n",
      "Start date: Jan 01 1984 , End date: Dec 31 2023\n",
      "Applying scale factors for C2 L4 data\n",
      "Applying scale factors for C2 L5 data\n",
      "Applying scale factors for C2 L8 data\n",
      "Including All Landsat 7\n",
      "Applying scale factors for C2 L7 data\n",
      "Applying scale factors for C2 L9 data\n",
      "Applying Fmask Cloud Mask\n",
      "Applying Fmask Shadow Mask\n",
      "projects/rcr-gee/assets/lcms-training/lcms-training_module-3_CCDC/CCDC_Tile-60000m_ID92-53_yrs1984-2023_jds1-365\n",
      "CCDC_Tile-60000m_ID92-53_yrs1984-2023_jds1-365 currently exists or is being exported and overwrite = False. Set overwite = True if you would like to overwite any existing asset or asset exporting task\n",
      "93,52\n",
      "Get Processed Landsat: \n",
      "Start date: Jan 01 1984 , End date: Dec 31 2023\n",
      "Applying scale factors for C2 L4 data\n",
      "Applying scale factors for C2 L5 data\n",
      "Applying scale factors for C2 L8 data\n",
      "Including All Landsat 7\n",
      "Applying scale factors for C2 L7 data\n",
      "Applying scale factors for C2 L9 data\n",
      "Applying Fmask Cloud Mask\n",
      "Applying Fmask Shadow Mask\n",
      "projects/rcr-gee/assets/lcms-training/lcms-training_module-3_CCDC/CCDC_Tile-60000m_ID93-52_yrs1984-2023_jds1-365\n",
      "CCDC_Tile-60000m_ID93-52_yrs1984-2023_jds1-365 currently exists or is being exported and overwrite = False. Set overwite = True if you would like to overwite any existing asset or asset exporting task\n",
      "93,53\n",
      "Get Processed Landsat: \n",
      "Start date: Jan 01 1984 , End date: Dec 31 2023\n",
      "Applying scale factors for C2 L4 data\n",
      "Applying scale factors for C2 L5 data\n",
      "Applying scale factors for C2 L8 data\n",
      "Including All Landsat 7\n",
      "Applying scale factors for C2 L7 data\n",
      "Applying scale factors for C2 L9 data\n",
      "Applying Fmask Cloud Mask\n",
      "Applying Fmask Shadow Mask\n",
      "projects/rcr-gee/assets/lcms-training/lcms-training_module-3_CCDC/CCDC_Tile-60000m_ID93-53_yrs1984-2023_jds1-365\n",
      "CCDC_Tile-60000m_ID93-53_yrs1984-2023_jds1-365 currently exists or is being exported and overwrite = False. Set overwite = True if you would like to overwite any existing asset or asset exporting task\n",
      "94,52\n",
      "Get Processed Landsat: \n",
      "Start date: Jan 01 1984 , End date: Dec 31 2023\n",
      "Applying scale factors for C2 L4 data\n",
      "Applying scale factors for C2 L5 data\n",
      "Applying scale factors for C2 L8 data\n",
      "Including All Landsat 7\n",
      "Applying scale factors for C2 L7 data\n",
      "Applying scale factors for C2 L9 data\n",
      "Applying Fmask Cloud Mask\n",
      "Applying Fmask Shadow Mask\n",
      "projects/rcr-gee/assets/lcms-training/lcms-training_module-3_CCDC/CCDC_Tile-60000m_ID94-52_yrs1984-2023_jds1-365\n",
      "CCDC_Tile-60000m_ID94-52_yrs1984-2023_jds1-365 currently exists or is being exported and overwrite = False. Set overwite = True if you would like to overwite any existing asset or asset exporting task\n",
      "95,51\n",
      "Get Processed Landsat: \n",
      "Start date: Jan 01 1984 , End date: Dec 31 2023\n",
      "Applying scale factors for C2 L4 data\n",
      "Applying scale factors for C2 L5 data\n",
      "Applying scale factors for C2 L8 data\n",
      "Including All Landsat 7\n",
      "Applying scale factors for C2 L7 data\n",
      "Applying scale factors for C2 L9 data\n",
      "Applying Fmask Cloud Mask\n",
      "Applying Fmask Shadow Mask\n",
      "projects/rcr-gee/assets/lcms-training/lcms-training_module-3_CCDC/CCDC_Tile-60000m_ID95-51_yrs1984-2023_jds1-365\n",
      "CCDC_Tile-60000m_ID95-51_yrs1984-2023_jds1-365 currently exists or is being exported and overwrite = False. Set overwite = True if you would like to overwite any existing asset or asset exporting task\n",
      "95,52\n",
      "Get Processed Landsat: \n",
      "Start date: Jan 01 1984 , End date: Dec 31 2023\n",
      "Applying scale factors for C2 L4 data\n",
      "Applying scale factors for C2 L5 data\n",
      "Applying scale factors for C2 L8 data\n",
      "Including All Landsat 7\n",
      "Applying scale factors for C2 L7 data\n",
      "Applying scale factors for C2 L9 data\n",
      "Applying Fmask Cloud Mask\n",
      "Applying Fmask Shadow Mask\n",
      "projects/rcr-gee/assets/lcms-training/lcms-training_module-3_CCDC/CCDC_Tile-60000m_ID95-52_yrs1984-2023_jds1-365\n",
      "CCDC_Tile-60000m_ID95-52_yrs1984-2023_jds1-365 currently exists or is being exported and overwrite = False. Set overwite = True if you would like to overwite any existing asset or asset exporting task\n",
      "95,53\n",
      "Get Processed Landsat: \n",
      "Start date: Jan 01 1984 , End date: Dec 31 2023\n",
      "Applying scale factors for C2 L4 data\n",
      "Applying scale factors for C2 L5 data\n",
      "Applying scale factors for C2 L8 data\n",
      "Including All Landsat 7\n",
      "Applying scale factors for C2 L7 data\n",
      "Applying scale factors for C2 L9 data\n",
      "Applying Fmask Cloud Mask\n",
      "Applying Fmask Shadow Mask\n",
      "projects/rcr-gee/assets/lcms-training/lcms-training_module-3_CCDC/CCDC_Tile-60000m_ID95-53_yrs1984-2023_jds1-365\n",
      "CCDC_Tile-60000m_ID95-53_yrs1984-2023_jds1-365 currently exists or is being exported and overwrite = False. Set overwite = True if you would like to overwite any existing asset or asset exporting task\n",
      "96,52\n",
      "Get Processed Landsat: \n",
      "Start date: Jan 01 1984 , End date: Dec 31 2023\n",
      "Applying scale factors for C2 L4 data\n",
      "Applying scale factors for C2 L5 data\n",
      "Applying scale factors for C2 L8 data\n",
      "Including All Landsat 7\n",
      "Applying scale factors for C2 L7 data\n",
      "Applying scale factors for C2 L9 data\n",
      "Applying Fmask Cloud Mask\n",
      "Applying Fmask Shadow Mask\n",
      "projects/rcr-gee/assets/lcms-training/lcms-training_module-3_CCDC/CCDC_Tile-60000m_ID96-52_yrs1984-2023_jds1-365\n",
      "CCDC_Tile-60000m_ID96-52_yrs1984-2023_jds1-365 currently exists or is being exported and overwrite = False. Set overwite = True if you would like to overwite any existing asset or asset exporting task\n",
      "96,53\n",
      "Get Processed Landsat: \n",
      "Start date: Jan 01 1984 , End date: Dec 31 2023\n",
      "Applying scale factors for C2 L4 data\n",
      "Applying scale factors for C2 L5 data\n",
      "Applying scale factors for C2 L8 data\n",
      "Including All Landsat 7\n",
      "Applying scale factors for C2 L7 data\n",
      "Applying scale factors for C2 L9 data\n",
      "Applying Fmask Cloud Mask\n",
      "Applying Fmask Shadow Mask\n",
      "projects/rcr-gee/assets/lcms-training/lcms-training_module-3_CCDC/CCDC_Tile-60000m_ID96-53_yrs1984-2023_jds1-365\n",
      "CCDC_Tile-60000m_ID96-53_yrs1984-2023_jds1-365 currently exists or is being exported and overwrite = False. Set overwite = True if you would like to overwite any existing asset or asset exporting task\n",
      "Done\n"
     ]
    }
   ],
   "source": [
    "#iterate over ids\n",
    "for id in ids:\n",
    "    print(id)\n",
    "    # Get the tile and buffer it so there are no missing pixels at tile edges\n",
    "    tile = grid.filter(ee.Filter.eq('system:index',id)).geometry().intersection(studyArea,240,projection).buffer(900)\n",
    "    \n",
    "    # Map.addLayer(tile,{},'Tile {}'.format(id))\n",
    "    \n",
    "    processedScenes = getImagesLib.getProcessedLandsatScenes(studyArea = tile,startYear = startYear, endYear = endYear,\n",
    "                                                        startJulian = startJulian,endJulian = endJulian,\n",
    "                                                        includeSLCOffL7 = includeSLCOffL7).select(exportBands)\n",
    "    processedScenes = processedScenes.map(removeGT1)\n",
    "    # print(processedScenes.size().getInfo())\n",
    "    \n",
    "    #Set the scene collection in the ccdcParams\n",
    "    ccdcParams['collection'] = processedScenes\n",
    "\n",
    "    #Run CCDC\n",
    "    ccdc = ee.Image(ee.Algorithms.TemporalSegmentation.Ccdc(**ccdcParams))\n",
    "    ccdc = ccdc.set({'startYear':startYear,\n",
    "                     'endYear':endYear,\n",
    "                     'startJulian':startJulian,\n",
    "                     'endJulian':endJulian,\n",
    "                     'TileSize':tileSize,\n",
    "                     'TileID':id})\n",
    "    \n",
    "    # Export the output\n",
    "    exportName = 'CCDC_Tile-{}m_ID{}_yrs{}-{}_jds{}-{}'.format(tileSize,id.replace(',','-'),startYear,endYear,startJulian,endJulian)\n",
    "    exportPath = f'{export_ccdc_collection}/{exportName}'\n",
    "    print(exportPath)\n",
    "\n",
    "    getImagesLib.exportToAssetWrapper(ccdc,exportName,exportPath,{'.default':'sample'},tile,scale,crs,transform,overwrite=False)\n",
    "    \n",
    "print('Done')"
   ]
  },
  {
   "cell_type": "markdown",
   "id": "84557356-43b4-4ec3-9972-db0b918e8c56",
   "metadata": {},
   "source": [
    "### Task tracking\n",
    "\n",
    "Can track tasks here or at https://code.earthengine.google.com/tasks\n",
    "If you'd like to track the tasks, use the code below"
   ]
  },
  {
   "cell_type": "code",
   "execution_count": 67,
   "id": "a514d19b-a902-4858-ae7f-424a346a6306",
   "metadata": {},
   "outputs": [
    {
     "name": "stdout",
     "output_type": "stream",
     "text": [
      "done\n"
     ]
    }
   ],
   "source": [
    "# Can track tasks here or at https://code.earthengine.google.com/tasks\n",
    "# If you'd like to track the tasks, use this:\n",
    "# tml.trackTasks2()\n",
    "\n",
    "# If you want to cancel all running tasks, you can use this function\n",
    "# tml.batchCancel()\n",
    "\n",
    "# If you want to empty the collection of all images\n",
    "# aml.batchDelete(exportPathRoot, type = 'imageCollection')\n",
    "\n",
    "print('done')"
   ]
  },
  {
   "cell_type": "markdown",
   "id": "61d8b8a8-022b-49da-9a50-114ec369ac55",
   "metadata": {},
   "source": [
    "### Inspect outputs - whole map \n",
    "\n",
    "Bring in the outputs and mosaic them into a single image. We will use this image later. \n",
    "\n"
   ]
  },
  {
   "cell_type": "code",
   "execution_count": 88,
   "id": "c5b3d5e1-fb4a-474f-8f77-2db3ca052e2c",
   "metadata": {},
   "outputs": [
    {
     "name": "stdout",
     "output_type": "stream",
     "text": [
      "Adding layer: CCDC Raw Image\n",
      "Starting webmap\n",
      "Using default refresh token for geeView: /home/jupyter/.config/earthengine/credentials\n",
      "Local web server at: http://localhost:1235/geeView/ already serving.\n",
      "cwd /home/jupyter/lcms-training\n",
      "Workbench Proxy URL: https://53c21733d8125e22-dot-us-west3.notebooks.googleusercontent.com/proxy/1235/geeView/?accessToken=None\n"
     ]
    },
    {
     "data": {
      "text/html": [
       "\n",
       "        <iframe\n",
       "            width=\"100%\"\n",
       "            height=\"525px\"\n",
       "            src=\"https://53c21733d8125e22-dot-us-west3.notebooks.googleusercontent.com/proxy/1235/geeView/?accessToken=None\"\n",
       "            frameborder=\"0\"\n",
       "            allowfullscreen\n",
       "            \n",
       "        ></iframe>\n",
       "        "
      ],
      "text/plain": [
       "<IPython.lib.display.IFrame at 0x7f2594464790>"
      ]
     },
     "metadata": {},
     "output_type": "display_data"
    }
   ],
   "source": [
    "Map.clearMap()\n",
    "\n",
    "# Bring in the outputs and mosaic them into a single image\n",
    "ccdcImg = ee.ImageCollection(f'{pre_baked_path_root}/lcms-training_module-3_CCDC').mosaic()\n",
    "Map.addLayer(ccdcImg,{'addToLegend':False},'CCDC Raw Image')\n",
    "Map.centerObject(studyArea,10)\n",
    "Map.turnOnInspector()\n",
    "Map.view()"
   ]
  },
  {
   "cell_type": "markdown",
   "id": "51f769f2-a9c2-4e79-87f8-c0799bdf38c1",
   "metadata": {},
   "source": [
    "### Use CCDC to detect change\n",
    "\n",
    "We will need to manipulate the array image to get meaningful data such as synthetic composites and harmonic coefficients\n",
    "\n",
    "CCDC has a fundamentally different definition of what \"change\" is from LandTrendr. LandTrendr defines change as a change in the linear direction of the time series as depicted with a linear regression model, while CCDC defines change as a change in the seasonlity (phenology) as depicted using harmonic regression (linear regression over many different wave forms). \n",
    "\n",
    "As a result, in general, LandTrendr's depiction of change aligns with many forest-related change types such as fire, insects and disease, etc. While these types of changes often change the direction of the trajectory abruptly, they do not always change the seasonlity patterns in an abrupt manner. \n",
    "\n",
    "CCDC can be better at detection detecting changes that merely impact the phenology that LandTrendr can miss though. This can be useful in agricultural and rangeland applications.\n",
    "\n",
    "Below, we'll inspect the `ccdcChangeDetection` function in the `changeDetectionLib` to see what kind of parameters and inputs we'll need. "
   ]
  },
  {
   "cell_type": "code",
   "execution_count": 89,
   "id": "437b2ff2-95a9-4bd1-bca0-6748b9b31c59",
   "metadata": {},
   "outputs": [
    {
     "name": "stdout",
     "output_type": "stream",
     "text": [
      "def ccdcChangeDetection(ccdcImg,bandName):\n",
      "  magKeys = ['.*_magnitude']\n",
      "  tBreakKeys = ['tBreak']\n",
      "  changeProbKeys = ['changeProb']\n",
      "  changeProbThresh = 1\n",
      "\n",
      "  #Pull out pieces from CCDC output\n",
      "  magnitudes = ccdcImg.select(magKeys)\n",
      "  breaks = ccdcImg.select(tBreakKeys)\n",
      "  \n",
      "  #Map.addLayer(breaks.arrayLength(0),{'min':1,'max':10});\n",
      "  changeProbs = ccdcImg.select(changeProbKeys)\n",
      "  changeMask = changeProbs.gte(changeProbThresh)\n",
      "  magnitudes = magnitudes.select(bandName + '.*')\n",
      "\n",
      "  \n",
      "  #Sort by magnitude and years\n",
      "  breaksSortedByMag = breaks.arraySort(magnitudes)\n",
      "  magnitudesSortedByMag = magnitudes.arraySort()\n",
      "  changeMaskSortedByMag = changeMask.arraySort(magnitudes)\n",
      "  \n",
      "  breaksSortedByYear = breaks.arraySort()\n",
      "  magnitudesSortedByYear = magnitudes.arraySort(breaks)\n",
      "  changeMaskSortedByYear = changeMask.arraySort(breaks)\n",
      "  \n",
      "  #Get the loss and gain years and magnitudes for each sorting method\n",
      "  highestMagLossYear = breaksSortedByMag.arraySlice(0,0,1).arrayFlatten([['loss_year']])\n",
      "  highestMagLossMag = magnitudesSortedByMag.arraySlice(0,0,1).arrayFlatten([['loss_mag']])\n",
      "  highestMagLossMask = changeMaskSortedByMag.arraySlice(0,0,1).arrayFlatten([['loss_mask']])\n",
      "  \n",
      "  highestMagLossYear = highestMagLossYear.updateMask(highestMagLossMag.lt(0).And(highestMagLossMask))\n",
      "  highestMagLossMag = highestMagLossMag.updateMask(highestMagLossMag.lt(0).And(highestMagLossMask))\n",
      "  \n",
      "  highestMagGainYear = breaksSortedByMag.arraySlice(0,-1,None).arrayFlatten([['gain_year']])\n",
      "  highestMagGainMag = magnitudesSortedByMag.arraySlice(0,-1,None).arrayFlatten([['gain_mag']])\n",
      "  highestMagGainMask = changeMaskSortedByMag.arraySlice(0,-1,None).arrayFlatten([['gain_mask']]);\n",
      "  \n",
      "  highestMagGainYear = highestMagGainYear.updateMask(highestMagGainMag.gt(0).And(highestMagGainMask));\n",
      "  highestMagGainMag = highestMagGainMag.updateMask(highestMagGainMag.gt(0).And(highestMagGainMask));\n",
      "  \n",
      "\n",
      "\n",
      "\n",
      "  mostRecentLossYear = breaksSortedByYear.arrayMask(magnitudesSortedByYear.lt(0)).arrayPad([1]).arraySlice(0,-1,None).arrayFlatten([['loss_year']]);\n",
      "  mostRecentLossMag = magnitudesSortedByYear.arrayMask(magnitudesSortedByYear.lt(0)).arrayPad([1]).arraySlice(0,-1,None).arrayFlatten([['loss_mag']]);\n",
      "  mostRecentLossMask = changeMaskSortedByYear.arrayMask(magnitudesSortedByYear.lt(0)).arrayPad([1]).arraySlice(0,-1,None).arrayFlatten([['loss_mask']]);\n",
      "  \n",
      "  mostRecentLossYear = mostRecentLossYear.updateMask(mostRecentLossMag.lt(0).And(mostRecentLossMask));\n",
      "  mostRecentLossMag = mostRecentLossMag.updateMask(mostRecentLossMag.lt(0).And(mostRecentLossMask));\n",
      " \n",
      "  mostRecentGainYear = breaksSortedByYear.arrayMask(magnitudesSortedByYear.gt(0)).arrayPad([1]).arraySlice(0,-1,None).arrayFlatten([['gain_year']]);\n",
      "  mostRecentGainMag = magnitudesSortedByYear.arrayMask(magnitudesSortedByYear.gt(0)).arrayPad([1]).arraySlice(0,-1,None).arrayFlatten([['gain_mag']]);\n",
      "  mostRecentGainMask = changeMaskSortedByYear.arrayMask(magnitudesSortedByYear.gt(0)).arrayPad([1]).arraySlice(0,-1,None).arrayFlatten([['gain_mask']]);\n",
      "  \n",
      "  mostRecentGainYear = mostRecentGainYear.updateMask(mostRecentGainMag.gt(0).And(mostRecentGainMask))\n",
      "  mostRecentGainMag = mostRecentGainMag.updateMask(mostRecentGainMag.gt(0).And(mostRecentGainMask))\n",
      "  \n",
      "  return {'mostRecent':{\n",
      "    'loss':{'year':mostRecentLossYear,\n",
      "          'mag': mostRecentLossMag\n",
      "        },\n",
      "    'gain':{'year':mostRecentGainYear,\n",
      "          'mag': mostRecentGainMag\n",
      "        }\n",
      "    },\n",
      "    'highestMag':{\n",
      "    'loss':{'year':highestMagLossYear,\n",
      "          'mag': highestMagLossMag\n",
      "        },\n",
      "    'gain':{'year':highestMagGainYear,\n",
      "          'mag': highestMagGainMag\n",
      "        }\n",
      "    }    \n",
      "  }\n",
      "\n"
     ]
    }
   ],
   "source": [
    "# print option\n",
    "print(inspect.getsource(changeDetectionLib.ccdcChangeDetection))"
   ]
  },
  {
   "cell_type": "markdown",
   "id": "0e848cf8-c86d-469e-b992-2bb90ea4c11d",
   "metadata": {},
   "source": [
    "#### Takeaways from the ccdcChangeDetection function\n",
    "Some notes and highlights with things to pay attention to in the function\n",
    "\n",
    "### Set change detection parameters for CCDC algorithm\n",
    "This function allows us to manipulate CCDC outputs in array format in order to get meaningful information -- that is, information that's more directly useful than a modeled spectral trajectory. \n",
    "\n",
    "#### Specify which band to use for loss and gain.\n",
    "\n",
    "This is most important for the loss and gain magnitude since the year of change will be the same for all years\n",
    "`changeDetectionBandName = 'NDVI'`\n",
    "\n",
    "Choose whether to show the most recent (`'mostRecent'`) or highest magnitude (`'highestMag'`) CCDC break\n",
    "`sortingMethod = 'mostRecent'`"
   ]
  },
  {
   "cell_type": "code",
   "execution_count": 90,
   "id": "68236982-410f-4180-aa79-77e90688fda1",
   "metadata": {},
   "outputs": [],
   "source": [
    "#Specify which band to use for loss and gain.\n",
    "#This is most important for the loss and gain magnitude since the year of change will be the same for all years\n",
    "changeDetectionBandName = 'NDVI'\n",
    "\n",
    "# Choose whether to show the most recent ('mostRecent') or highest magnitude ('highestMag') CCDC break\n",
    "sortingMethod = 'mostRecent'"
   ]
  },
  {
   "cell_type": "markdown",
   "id": "37400a02-8484-4814-b599-5330c42228e8",
   "metadata": {},
   "source": [
    "### Run CCDC change detection and inspect outputs\n",
    "\n",
    "We will not look at more useful ways of visualizing CCDC outputs\n",
    "First, we will extract the change years and magnitude\n",
    "\n",
    "Double click on map to see raw years of loss and gain breaks\n",
    "Notice as you zoom in the layers change since GEE is processing outputs at a given pyramid level"
   ]
  },
  {
   "cell_type": "code",
   "execution_count": 91,
   "id": "d714b823-ef39-4df1-9cb5-22c2cc44b68a",
   "metadata": {},
   "outputs": [
    {
     "name": "stdout",
     "output_type": "stream",
     "text": [
      "Adding layer: Loss Year\n",
      "Adding layer: Loss Mag\n",
      "Adding layer: Gain Year\n",
      "Adding layer: Gain Mag\n",
      "Starting webmap\n",
      "Using default refresh token for geeView: /home/jupyter/.config/earthengine/credentials\n",
      "Local web server at: http://localhost:1235/geeView/ already serving.\n",
      "cwd /home/jupyter/lcms-training\n",
      "Workbench Proxy URL: https://53c21733d8125e22-dot-us-west3.notebooks.googleusercontent.com/proxy/1235/geeView/?accessToken=None\n"
     ]
    },
    {
     "data": {
      "text/html": [
       "\n",
       "        <iframe\n",
       "            width=\"100%\"\n",
       "            height=\"525px\"\n",
       "            src=\"https://53c21733d8125e22-dot-us-west3.notebooks.googleusercontent.com/proxy/1235/geeView/?accessToken=None\"\n",
       "            frameborder=\"0\"\n",
       "            allowfullscreen\n",
       "            \n",
       "        ></iframe>\n",
       "        "
      ],
      "text/plain": [
       "<IPython.lib.display.IFrame at 0x7f25945ebb20>"
      ]
     },
     "metadata": {},
     "output_type": "display_data"
    }
   ],
   "source": [
    "#We will not look at more useful ways of visualizing CCDC outputs\n",
    "#First, we will extract the change years and magnitude\n",
    "changeObj = changeDetectionLib.ccdcChangeDetection(ccdcImg,changeDetectionBandName);\n",
    "\n",
    "# clear map\n",
    "Map.clearMap()\n",
    "\n",
    "# add new layers to map\n",
    "Map.addLayer(changeObj[sortingMethod]['loss']['year'],{'min':startYear,'max':endYear,'palette':changeDetectionLib.lossYearPalette},'Loss Year')\n",
    "Map.addLayer(changeObj[sortingMethod]['loss']['mag'],{'min':-0.5,'max':-0.1,'palette':changeDetectionLib.lossMagPalette},'Loss Mag',False);\n",
    "Map.addLayer(changeObj[sortingMethod]['gain']['year'],{'min':startYear,'max':endYear,'palette':changeDetectionLib.gainYearPalette},'Gain Year');\n",
    "Map.addLayer(changeObj[sortingMethod]['gain']['mag'],{'min':0.05,'max':0.2,'palette':changeDetectionLib.gainMagPalette},'Gain Mag',False);\n",
    "\n",
    "Map.centerObject(studyArea,10)\n",
    "Map.turnOnInspector()\n",
    "Map.view()\n"
   ]
  },
  {
   "cell_type": "markdown",
   "id": "c7cae9d0-22dd-4d97-a61f-c3a85e3f1d29",
   "metadata": {},
   "source": [
    "\n",
    "\n",
    "We will need to manipulate the array image to get meaningful data such as synthetic composites and harmonic coefficients\n",
    "This function is useful to get the **harmonic model coefficient values** for a given date image \n",
    "`changeDetectionLib.getCCDCSegCoeffs`"
   ]
  },
  {
   "cell_type": "code",
   "execution_count": 92,
   "id": "2ed3af68-0b2e-420c-aeea-6abff0cdbbd3",
   "metadata": {},
   "outputs": [
    {
     "name": "stdout",
     "output_type": "stream",
     "text": [
      "def getCCDCSegCoeffs(timeImg,ccdcImg,fillGaps):\n",
      "  coeffKeys = ['.*_coefs']\n",
      "  tStartKeys = ['tStart']\n",
      "  tEndKeys = ['tEnd']\n",
      "  tBreakKeys = ['tBreak']\n",
      "  \n",
      "  #Get coeffs and find how many bands have coeffs\n",
      "  coeffs = ccdcImg.select(coeffKeys)\n",
      "  bns = coeffs.bandNames()\n",
      "  nBns = bns.length()\n",
      "  harmonicTag = ee.List(['INTP','SLP','COS1','SIN1','COS2','SIN2','COS3','SIN3'])\n",
      "\n",
      "   \n",
      "  #Get coeffs, start and end times\n",
      "  coeffs = coeffs.toArray(2)\n",
      "  tStarts = ccdcImg.select(tStartKeys)\n",
      "  tEnds = ccdcImg.select(tEndKeys)\n",
      "  tBreaks = ccdcImg.select(tBreakKeys)\n",
      "  \n",
      "  #If filling to the tBreak, use this\n",
      "  tStarts = ee.Image(ee.Algorithms.If(fillGaps,tStarts.arraySlice(0,0,1).arrayCat(tBreaks.arraySlice(0,0,-1),0),tStarts))\n",
      "  tEnds = ee.Image(ee.Algorithms.If(fillGaps,tBreaks.arraySlice(0,0,-1).arrayCat(tEnds.arraySlice(0,-1,None),0),tEnds))\n",
      "  \n",
      "  \n",
      "  #Set up a mask for segments that the time band intersects\n",
      "  tMask = tStarts.lt(timeImg).And(tEnds.gte(timeImg)).arrayRepeat(1,1).arrayRepeat(2,1)\n",
      "  coeffs = coeffs.arrayMask(tMask).arrayProject([2,1]).arrayTranspose(1,0).arrayFlatten([bns,harmonicTag])\n",
      "  \n",
      "  #If time band doesn't intersect any segments, set it to null\n",
      "  coeffs = coeffs.updateMask(coeffs.reduce(ee.Reducer.max()).neq(0))\n",
      "  \n",
      "  return timeImg.addBands(coeffs)\n",
      "\n",
      "Adding layer: Seg Coeffs\n",
      "Adding layer: Raw Img\n",
      "Starting webmap\n",
      "Using default refresh token for geeView: /home/jupyter/.config/earthengine/credentials\n",
      "Local web server at: http://localhost:1235/geeView/ already serving.\n",
      "cwd /home/jupyter/lcms-training\n",
      "Workbench Proxy URL: https://53c21733d8125e22-dot-us-west3.notebooks.googleusercontent.com/proxy/1235/geeView/?accessToken=None\n"
     ]
    },
    {
     "data": {
      "text/html": [
       "\n",
       "        <iframe\n",
       "            width=\"100%\"\n",
       "            height=\"525px\"\n",
       "            src=\"https://53c21733d8125e22-dot-us-west3.notebooks.googleusercontent.com/proxy/1235/geeView/?accessToken=None\"\n",
       "            frameborder=\"0\"\n",
       "            allowfullscreen\n",
       "            \n",
       "        ></iframe>\n",
       "        "
      ],
      "text/plain": [
       "<IPython.lib.display.IFrame at 0x7f2594467760>"
      ]
     },
     "metadata": {},
     "output_type": "display_data"
    }
   ],
   "source": [
    "# We will need to manipulate the array image to get meaningful data such as synthetic composites and harmonic coefficients\n",
    "# This function is useful to get the harmonic model coefficient values for a given date image \n",
    "print(inspect.getsource(changeDetectionLib.getCCDCSegCoeffs) )\n",
    "Map.clearMap()\n",
    "\n",
    "fillGaps = False\n",
    "segCoeffs = changeDetectionLib.getCCDCSegCoeffs(ee.Image(2015.5), ccdcImg, fillGaps)\n",
    "Map.addLayer(segCoeffs, {}, 'Seg Coeffs')\n",
    "Map.addLayer(ccdcImg, {}, 'Raw Img')\n",
    "\n",
    "Map.turnOnInspector()\n",
    "Map.view()\n",
    "\n",
    "\n"
   ]
  },
  {
   "cell_type": "markdown",
   "id": "bfdda06e-c496-4263-80a7-e655c29a49a8",
   "metadata": {},
   "source": []
  },
  {
   "cell_type": "code",
   "execution_count": 121,
   "id": "b7e4af37-278d-48df-82ea-f97a094e9635",
   "metadata": {},
   "outputs": [
    {
     "name": "stdout",
     "output_type": "stream",
     "text": [
      "Each pixel has any number of segments. For each segment, there is a model for each band.\n",
      "E.g. The intercepts for the first segment are:\n"
     ]
    },
    {
     "data": {
      "text/html": [
       "<style type=\"text/css\">\n",
       "#T_1e057 caption {\n",
       "  text-align: left;\n",
       "  font-size: 150%;\n",
       "  font-weight: bold;\n",
       "}\n",
       "</style>\n",
       "<table id=\"T_1e057\">\n",
       "  <caption>Intercept</caption>\n",
       "  <thead>\n",
       "    <tr>\n",
       "      <th class=\"blank level0\" >&nbsp;</th>\n",
       "      <th id=\"T_1e057_level0_col0\" class=\"col_heading level0 col0\" >blue</th>\n",
       "      <th id=\"T_1e057_level0_col1\" class=\"col_heading level0 col1\" >green</th>\n",
       "      <th id=\"T_1e057_level0_col2\" class=\"col_heading level0 col2\" >red</th>\n",
       "      <th id=\"T_1e057_level0_col3\" class=\"col_heading level0 col3\" >nir</th>\n",
       "      <th id=\"T_1e057_level0_col4\" class=\"col_heading level0 col4\" >swir1</th>\n",
       "      <th id=\"T_1e057_level0_col5\" class=\"col_heading level0 col5\" >swir2</th>\n",
       "      <th id=\"T_1e057_level0_col6\" class=\"col_heading level0 col6\" >NDVI</th>\n",
       "    </tr>\n",
       "  </thead>\n",
       "  <tbody>\n",
       "    <tr>\n",
       "      <th id=\"T_1e057_level0_row0\" class=\"row_heading level0 row0\" >0</th>\n",
       "      <td id=\"T_1e057_row0_col0\" class=\"data row0 col0\" >2.883502</td>\n",
       "      <td id=\"T_1e057_row0_col1\" class=\"data row0 col1\" >3.282841</td>\n",
       "      <td id=\"T_1e057_row0_col2\" class=\"data row0 col2\" >1.889072</td>\n",
       "      <td id=\"T_1e057_row0_col3\" class=\"data row0 col3\" >19.140961</td>\n",
       "      <td id=\"T_1e057_row0_col4\" class=\"data row0 col4\" >5.329586</td>\n",
       "      <td id=\"T_1e057_row0_col5\" class=\"data row0 col5\" >1.267390</td>\n",
       "      <td id=\"T_1e057_row0_col6\" class=\"data row0 col6\" >0.760559</td>\n",
       "    </tr>\n",
       "  </tbody>\n",
       "</table>\n"
      ],
      "text/plain": [
       "<pandas.io.formats.style.Styler at 0x7f2594178250>"
      ]
     },
     "metadata": {},
     "output_type": "display_data"
    },
    {
     "name": "stdout",
     "output_type": "stream",
     "text": [
      "Looking at all coefficients for a given pixel for all bands and all segments, it looks like this:\n"
     ]
    },
    {
     "data": {
      "text/html": [
       "<style type=\"text/css\">\n",
       "#T_da3cd caption {\n",
       "  text-align: left;\n",
       "  font-size: 150%;\n",
       "  font-weight: bold;\n",
       "}\n",
       "</style>\n",
       "<table id=\"T_da3cd\">\n",
       "  <caption>Coeffs</caption>\n",
       "  <thead>\n",
       "    <tr>\n",
       "      <th class=\"blank level0\" >&nbsp;</th>\n",
       "      <th id=\"T_da3cd_level0_col0\" class=\"col_heading level0 col0\" >INTP</th>\n",
       "      <th id=\"T_da3cd_level0_col1\" class=\"col_heading level0 col1\" >SLP</th>\n",
       "      <th id=\"T_da3cd_level0_col2\" class=\"col_heading level0 col2\" >COS1</th>\n",
       "      <th id=\"T_da3cd_level0_col3\" class=\"col_heading level0 col3\" >SIN1</th>\n",
       "      <th id=\"T_da3cd_level0_col4\" class=\"col_heading level0 col4\" >COS2</th>\n",
       "      <th id=\"T_da3cd_level0_col5\" class=\"col_heading level0 col5\" >SIN2</th>\n",
       "      <th id=\"T_da3cd_level0_col6\" class=\"col_heading level0 col6\" >COS3</th>\n",
       "      <th id=\"T_da3cd_level0_col7\" class=\"col_heading level0 col7\" >SIN3</th>\n",
       "    </tr>\n",
       "  </thead>\n",
       "  <tbody>\n",
       "    <tr>\n",
       "      <th id=\"T_da3cd_level0_row0\" class=\"row_heading level0 row0\" >Segment 1</th>\n",
       "      <td id=\"T_da3cd_row0_col0\" class=\"data row0 col0\" >[2.8835019637837616, 3.2828407883810056, 1.8890716245408166, 19.14096117316336, 5.32958581685124, 1.2673900698228309, 0.7605586342114968]</td>\n",
       "      <td id=\"T_da3cd_row0_col1\" class=\"data row0 col1\" >[-0.0014289784894894713, -0.0016160401283955837, -0.000923589550535398, -0.009436630923169133, -0.0025919058730427776, -0.0006002759631661662, 0]</td>\n",
       "      <td id=\"T_da3cd_row0_col2\" class=\"data row0 col2\" >[-0.01186843936476042, -0.02098628819978426, -0.01571539305900891, -0.056630206538701544, -0.020291496499357173, -0.008427349310669975, 0.04611739888770422]</td>\n",
       "      <td id=\"T_da3cd_row0_col3\" class=\"data row0 col3\" >[0, 0, 0, -0.004567996992550899, 0.003230075007047745, 0, 0.009124222149743245]</td>\n",
       "      <td id=\"T_da3cd_row0_col4\" class=\"data row0 col4\" >[0, -0.0016317531211471504, -0.001774852987395223, -0.005093326960209953, -0.02064884629845176, -0.011918990964258388, 0.00213493267705074]</td>\n",
       "      <td id=\"T_da3cd_row0_col5\" class=\"data row0 col5\" >[0, 0, 0, 0, 0, 0, 0.01964705696807787]</td>\n",
       "      <td id=\"T_da3cd_row0_col6\" class=\"data row0 col6\" >[0.002384153070020832, 0.003457602225186136, 0.0025340059036947633, 0, 0, 0.0009508011613858051, -0.025616353056236732]</td>\n",
       "      <td id=\"T_da3cd_row0_col7\" class=\"data row0 col7\" >[0.002910448220751587, 0.005529002494703668, 0.004594814712743522, 0.00042706699447165783, 0.009437693570915878, 0.0030991824168144955, -0.03118448910164181]</td>\n",
       "    </tr>\n",
       "    <tr>\n",
       "      <th id=\"T_da3cd_level0_row1\" class=\"row_heading level0 row1\" >Segment 2</th>\n",
       "      <td id=\"T_da3cd_row1_col0\" class=\"data row1 col0\" >[-8.178675304391675, -8.567455788409305, -8.585631842168647, -10.887516806370494, 0.42282078696136705, 0.28414772604338856, 0.1243622199456729]</td>\n",
       "      <td id=\"T_da3cd_row1_col1\" class=\"data row1 col1\" >[0.004146312252314901, 0.004394562620758038, 0.004441637236630287, 0.00563385399970798, 0, 0, 0]</td>\n",
       "      <td id=\"T_da3cd_row1_col2\" class=\"data row1 col2\" >[-0.015031742753393139, -0.018733700849538595, -0.015736692525579243, -0.017957310568418212, -0.013183662346069571, -0.014953523384902585, 0]</td>\n",
       "      <td id=\"T_da3cd_row1_col3\" class=\"data row1 col3\" >[0.01045798256411022, 0.018567807032632097, 0.021002172225181297, 0.015381522615022576, 0.04884627085686614, 0.05317092519847767, -0.009940719367876655]</td>\n",
       "      <td id=\"T_da3cd_row1_col4\" class=\"data row1 col4\" >[-9.026335174490329e-05, 0, 0, 0, -0.011864347346887232, -0.008475299950807794, 0]</td>\n",
       "      <td id=\"T_da3cd_row1_col5\" class=\"data row1 col5\" >[0.0001973748731300362, 0.00020375191168091125, 0, 0.007281413879694335, 0.033224318510948876, 0.03621641435912726, 0.005348317025927302]</td>\n",
       "      <td id=\"T_da3cd_row1_col6\" class=\"data row1 col6\" >[-0.010136155719827131, -0.017678294046348877, -0.023494124785338872, -0.010202604645432222, -0.028253406666658296, -0.03274715185488118, 0.020911638035406462]</td>\n",
       "      <td id=\"T_da3cd_row1_col7\" class=\"data row1 col7\" >[0.007635588989686705, 0.008221749753545272, 0.007934732692333683, 0.011885234801459157, 0, 0, 0]</td>\n",
       "    </tr>\n",
       "    <tr>\n",
       "      <th id=\"T_da3cd_level0_row2\" class=\"row_heading level0 row2\" >Segment 3</th>\n",
       "      <td id=\"T_da3cd_row2_col0\" class=\"data row2 col0\" >[40.921006545882534, 50.895096297031586, 69.48867809045338, 0.8834294022409347, 76.92873468727524, 59.97626481008383, -183.77273951155982]</td>\n",
       "      <td id=\"T_da3cd_row2_col1\" class=\"data row2 col1\" >[-0.020259890824980097, -0.02518305107288108, -0.03440506306050126, -0.00023969860291634586, -0.03800332636106635, -0.02966235885704887, 0.09142888258873613]</td>\n",
       "      <td id=\"T_da3cd_row2_col2\" class=\"data row2 col2\" >[0, 0, -0.0024225947032943487, -0.0016084047433077091, -0.016494180170297905, -0.013406892788657997, 0.02902326656997849]</td>\n",
       "      <td id=\"T_da3cd_row2_col3\" class=\"data row2 col3\" >[0.005854176136300245, 0.00397697856325619, 0.007443825668502859, -0.0076462463157694425, 0.0021441131566921037, 0.002351250810332423, -0.012174527610339603]</td>\n",
       "      <td id=\"T_da3cd_row2_col4\" class=\"data row2 col4\" >[-0.014370010048930525, -0.013268489602268415, -0.01680896003632936, -0.0036527915819201755, -0.019796965920781923, -0.013964558531023071, 0.03579450237639679]</td>\n",
       "      <td id=\"T_da3cd_row2_col5\" class=\"data row2 col5\" >[0.008811111586499342, 0.012618469843064676, 0.01361870695976215, 0.024766213847678697, 0.021772726540925325, 0.014124435464744166, -0.0065829842625007]</td>\n",
       "      <td id=\"T_da3cd_row2_col6\" class=\"data row2 col6\" >[-0.020052238813802078, -0.015932060670294356, -0.01707310212186034, 0, -0.004396921947604966, -0.0042026664281565864, 0.026255827857797617]</td>\n",
       "      <td id=\"T_da3cd_row2_col7\" class=\"data row2 col7\" >[0, 5.383251312164806e-06, 0, 0, 0, 0, -0.005891841365245101]</td>\n",
       "    </tr>\n",
       "    <tr>\n",
       "      <th id=\"T_da3cd_level0_row3\" class=\"row_heading level0 row3\" >Segment 4</th>\n",
       "      <td id=\"T_da3cd_row3_col0\" class=\"data row3 col0\" >[-81.05418526482875, -118.01267002729952, -158.2880580670942, -30.30693193427896, -196.03929233869582, -162.25359177311236, 315.4606911372531]</td>\n",
       "      <td id=\"T_da3cd_row3_col1\" class=\"data row3 col1\" >[0.040157854624715446, 0.058484343822889764, 0.07842674538386808, 0.015224468791355944, 0.09720045762482044, 0.08041071502669586, -0.15590816344669936]</td>\n",
       "      <td id=\"T_da3cd_row3_col2\" class=\"data row3 col2\" >[0.007472415860416005, 0.014965945315045614, 0.028236782931977088, 0, 0.0456677755800225, 0.04424488962356279, -0.08085708479463748]</td>\n",
       "      <td id=\"T_da3cd_row3_col3\" class=\"data row3 col3\" >[0.0005224995743545358, 0, 0.0019928640089984374, -0.0047594782098874374, 0, 0, -0.005990266176790861]</td>\n",
       "      <td id=\"T_da3cd_row3_col4\" class=\"data row3 col4\" >[-0.007480593138068563, -0.014385875825021191, -0.019532340820599563, -0.02110208150576144, -0.05293998042020171, -0.037081218150552306, 0.00983054564983115]</td>\n",
       "      <td id=\"T_da3cd_row3_col5\" class=\"data row3 col5\" >[-0.0047991985520175195, -0.008273657115843325, -0.013458547981285734, 0.009891817020358322, -0.030958716267587172, -0.026201025320273658, 0.04959555040204003]</td>\n",
       "      <td id=\"T_da3cd_row3_col6\" class=\"data row3 col6\" >[0, -0.0056423797227600535, -0.008934870993549608, 0, -0.016627155899269466, -0.010798922316788476, 0.02686801739118362]</td>\n",
       "      <td id=\"T_da3cd_row3_col7\" class=\"data row3 col7\" >[0.003079286646315475, 0, 0.0007511494489842995, -0.017042479234643342, 0, 0, -0.012503893801963768]</td>\n",
       "    </tr>\n",
       "    <tr>\n",
       "      <th id=\"T_da3cd_level0_row4\" class=\"row_heading level0 row4\" >Segment 5</th>\n",
       "      <td id=\"T_da3cd_row4_col0\" class=\"data row4 col0\" >[41.885228141335816, 57.43865383358764, 65.54305278330101, 59.64304969811471, 54.73021288260908, 30.02758257863741, -112.13243895268677]</td>\n",
       "      <td id=\"T_da3cd_row4_col1\" class=\"data row4 col1\" >[-0.020678688978219652, -0.02834496343482197, -0.03235356893884844, -0.029294008793056853, -0.026917266181773973, -0.014769204854360818, 0.05572799985824385]</td>\n",
       "      <td id=\"T_da3cd_row4_col2\" class=\"data row4 col2\" >[0.0014568721748797065, 0, -0.000910040875040379, 0.00396794467387629, -0.01706631505746973, -0.010674978281224302, 0.03227158638432605]</td>\n",
       "      <td id=\"T_da3cd_row4_col3\" class=\"data row4 col3\" >[0.01539678108322463, 0.014476786766660242, 0.020522206916824024, -0.0020138515483163013, 0.021500981618253596, 0.022670600201643548, -0.06182474293589202]</td>\n",
       "      <td id=\"T_da3cd_row4_col4\" class=\"data row4 col4\" >[0, -0.00043619660784276177, 0, -0.03123203946284454, 0.008954637506860147, 0.004846282570021946, -0.028112712969623973]</td>\n",
       "      <td id=\"T_da3cd_row4_col5\" class=\"data row4 col5\" >[0.01298950492416974, 0.013749896929551416, 0.0108458280080692, 0.021218195129112848, 0, 0, -0.003963876084670455]</td>\n",
       "      <td id=\"T_da3cd_row4_col6\" class=\"data row4 col6\" >[-0.009436322565622709, -0.007888866194235296, -0.008890189927610094, 0.004211367702772063, 0, -0.003320159682206331, 0.033098091683629996]</td>\n",
       "      <td id=\"T_da3cd_row4_col7\" class=\"data row4 col7\" >[0.007869961708377718, 0.0078881638579178, 0.008979925815693755, 0.010855060580760658, 0.018524862469830157, 0.01263173786693248, -0.012032828985316775]</td>\n",
       "    </tr>\n",
       "  </tbody>\n",
       "</table>\n"
      ],
      "text/plain": [
       "<pandas.io.formats.style.Styler at 0x7f259413b610>"
      ]
     },
     "metadata": {},
     "output_type": "display_data"
    }
   ],
   "source": [
    "\n",
    "# Provide an example location \n",
    "pt = ee.Geometry.Point([ -65.944 , 18.404])\n",
    "\n",
    " \n",
    "\n",
    "coeffKeys = ['.*_coefs']\n",
    "tStartKeys = ['tStart']\n",
    "tEndKeys = ['tEnd']\n",
    "tBreakKeys = ['tBreak']\n",
    "\n",
    "#Get coeffs and find how many bands have coeffs\n",
    "coeffs = ccdcImg.select(coeffKeys)\n",
    "bns = coeffs.bandNames().getInfo()\n",
    "input_bns = [bn.split('_')[0] for bn in bns]\n",
    "harmonicTag = ['INTP','SLP','COS1','SIN1','COS2','SIN2','COS3','SIN3']\n",
    "\n",
    "\n",
    "#Get coeffs, start and end times\n",
    "coeffs = coeffs.toArray(2)\n",
    "tStarts = ccdcImg.select(tStartKeys)\n",
    "tEnds = ccdcImg.select(tEndKeys)\n",
    "tBreaks = ccdcImg.select(tBreakKeys)\n",
    "\n",
    "index = [f'Segment {i}' for i in list(range(1,6))]\n",
    "\n",
    "print('Each pixel has any number of segments. For each segment, there is a model for each band.')\n",
    "print('E.g. The intercepts for the first segment are:')\n",
    "display(g2p.imageArrayPixelToDataFrame(coeffs.arraySlice(1,0,1).arraySlice(0,0,1).arrayProject([2,1]), pt,None,crs,transform, 'Intercept',columns =input_bns ))\n",
    "\n",
    "print('Looking at all coefficients for a given pixel for all bands and all segments, it looks like this:')\n",
    "\n",
    "display(g2p.imageArrayPixelToDataFrame(coeffs, pt,None,crs,transform, 'Coeffs',columns = harmonicTag,index=index))\n"
   ]
  },
  {
   "cell_type": "markdown",
   "id": "22fc25dc-6448-48e3-8775-e910a8642b99",
   "metadata": {},
   "source": [
    "* One of the most common uses of CCDC is to find the which model a specified date intersects, and get the predicted values from the model as well as the coefficients from the model itself\n",
    "* In order to do this, the first step is to find which segment a specified date falls within\n",
    "* We will now look at the structure of the date information for each segment"
   ]
  },
  {
   "cell_type": "code",
   "execution_count": 13,
   "id": "e7f9be00-8761-4236-bd95-0a29616bb23c",
   "metadata": {},
   "outputs": [
    {
     "name": "stdout",
     "output_type": "stream",
     "text": [
      "The tStarts are the start and end date of each segment.\n",
      "Notice the tEnd will sometimes be way before the tStart of the next segment.\n",
      "This is because CCDC needs several observations to get the next harmonic model (segment) started.\n"
     ]
    },
    {
     "data": {
      "text/html": [
       "<style type=\"text/css\">\n",
       "#T_b6606 caption {\n",
       "  text-align: left;\n",
       "  font-size: 150%;\n",
       "  font-weight: bold;\n",
       "}\n",
       "</style>\n",
       "<table id=\"T_b6606\">\n",
       "  <caption>Segment Start and End Dates</caption>\n",
       "  <thead>\n",
       "    <tr>\n",
       "      <th class=\"blank level0\" >&nbsp;</th>\n",
       "      <th id=\"T_b6606_level0_col0\" class=\"col_heading level0 col0\" >tStart</th>\n",
       "      <th id=\"T_b6606_level0_col1\" class=\"col_heading level0 col1\" >tEnd</th>\n",
       "    </tr>\n",
       "  </thead>\n",
       "  <tbody>\n",
       "    <tr>\n",
       "      <th id=\"T_b6606_level0_row0\" class=\"row_heading level0 row0\" >Segment 1</th>\n",
       "      <td id=\"T_b6606_row0_col0\" class=\"data row0 col0\" >1984.813408</td>\n",
       "      <td id=\"T_b6606_row0_col1\" class=\"data row0 col1\" >1992.632670</td>\n",
       "    </tr>\n",
       "    <tr>\n",
       "      <th id=\"T_b6606_level0_row1\" class=\"row_heading level0 row1\" >Segment 2</th>\n",
       "      <td id=\"T_b6606_row1_col0\" class=\"data row1 col0\" >1999.729263</td>\n",
       "      <td id=\"T_b6606_row1_col1\" class=\"data row1 col1\" >2013.309009</td>\n",
       "    </tr>\n",
       "    <tr>\n",
       "      <th id=\"T_b6606_level0_row2\" class=\"row_heading level0 row2\" >Segment 3</th>\n",
       "      <td id=\"T_b6606_row2_col0\" class=\"data row2 col0\" >2013.330923</td>\n",
       "      <td id=\"T_b6606_row2_col1\" class=\"data row2 col1\" >2020.145418</td>\n",
       "    </tr>\n",
       "    <tr>\n",
       "      <th id=\"T_b6606_level0_row3\" class=\"row_heading level0 row3\" >Segment 4</th>\n",
       "      <td id=\"T_b6606_row3_col0\" class=\"data row3 col0\" >2020.164595</td>\n",
       "      <td id=\"T_b6606_row3_col1\" class=\"data row3 col1\" >2021.653986</td>\n",
       "    </tr>\n",
       "    <tr>\n",
       "      <th id=\"T_b6606_level0_row4\" class=\"row_heading level0 row4\" >Segment 5</th>\n",
       "      <td id=\"T_b6606_row4_col0\" class=\"data row4 col0\" >2021.766226</td>\n",
       "      <td id=\"T_b6606_row4_col1\" class=\"data row4 col1\" >2023.471917</td>\n",
       "    </tr>\n",
       "  </tbody>\n",
       "</table>\n"
      ],
      "text/plain": [
       "<pandas.io.formats.style.Styler at 0x7f259f2bb940>"
      ]
     },
     "metadata": {},
     "output_type": "display_data"
    },
    {
     "name": "stdout",
     "output_type": "stream",
     "text": [
      "\n",
      "The tBreaks are the date there was a significant departure and the harmonic model stopped.\n",
      "Notice that there is no break for the last segment, since it is ongoing.\n",
      "This is not always the case though. Sometimes there is a break toward the end of the time series and there are not enough observations to start a new segment before the end\n"
     ]
    },
    {
     "data": {
      "text/html": [
       "<style type=\"text/css\">\n",
       "#T_c8b4f caption {\n",
       "  text-align: left;\n",
       "  font-size: 150%;\n",
       "  font-weight: bold;\n",
       "}\n",
       "</style>\n",
       "<table id=\"T_c8b4f\">\n",
       "  <caption>tBreaks</caption>\n",
       "  <thead>\n",
       "    <tr>\n",
       "      <th class=\"blank level0\" >&nbsp;</th>\n",
       "      <th id=\"T_c8b4f_level0_col0\" class=\"col_heading level0 col0\" >tBreaks</th>\n",
       "    </tr>\n",
       "  </thead>\n",
       "  <tbody>\n",
       "    <tr>\n",
       "      <th id=\"T_c8b4f_level0_row0\" class=\"row_heading level0 row0\" >Segment 1</th>\n",
       "      <td id=\"T_c8b4f_row0_col0\" class=\"data row0 col0\" >1999.729263</td>\n",
       "    </tr>\n",
       "    <tr>\n",
       "      <th id=\"T_c8b4f_level0_row1\" class=\"row_heading level0 row1\" >Segment 2</th>\n",
       "      <td id=\"T_c8b4f_row1_col0\" class=\"data row1 col0\" >2013.330923</td>\n",
       "    </tr>\n",
       "    <tr>\n",
       "      <th id=\"T_c8b4f_level0_row2\" class=\"row_heading level0 row2\" >Segment 3</th>\n",
       "      <td id=\"T_c8b4f_row2_col0\" class=\"data row2 col0\" >2020.164595</td>\n",
       "    </tr>\n",
       "    <tr>\n",
       "      <th id=\"T_c8b4f_level0_row3\" class=\"row_heading level0 row3\" >Segment 4</th>\n",
       "      <td id=\"T_c8b4f_row3_col0\" class=\"data row3 col0\" >2021.766226</td>\n",
       "    </tr>\n",
       "    <tr>\n",
       "      <th id=\"T_c8b4f_level0_row4\" class=\"row_heading level0 row4\" >Segment 5</th>\n",
       "      <td id=\"T_c8b4f_row4_col0\" class=\"data row4 col0\" >0.000000</td>\n",
       "    </tr>\n",
       "  </tbody>\n",
       "</table>\n"
      ],
      "text/plain": [
       "<pandas.io.formats.style.Styler at 0x7f259f3957b0>"
      ]
     },
     "metadata": {},
     "output_type": "display_data"
    }
   ],
   "source": [
    "print('The tStarts are the start and end date of each segment.')\n",
    "print('Notice the tEnd will sometimes be way before the tStart of the next segment.')\n",
    "print('This is because CCDC needs several observations to get the next harmonic model (segment) started.')\n",
    "display(g2p.imageArrayPixelToDataFrame(tStarts.arrayCat(tEnds,1),\\\n",
    "                                       pt,None,crs,transform, 'Segment Start and End Dates',index=index,columns = ['tStart','tEnd']))\n",
    "print()\n",
    "\n",
    "print('The tBreaks are the date there was a significant departure and the harmonic model stopped.')\n",
    "print('Notice that there is no break for the last segment, since it is ongoing.')\n",
    "print('This is not always the case though. Sometimes there is a break toward the end \\\n",
    "of the time series and there are not enough observations to start a new segment before the end')\n",
    "display(g2p.imageArrayPixelToDataFrame(tBreaks, pt,None,crs,transform, 'tBreaks',index=index,columns = ['tBreaks']))"
   ]
  },
  {
   "cell_type": "code",
   "execution_count": 14,
   "id": "02e7bc0b-49c8-450f-ad92-31ca7e28ce78",
   "metadata": {},
   "outputs": [
    {
     "name": "stdout",
     "output_type": "stream",
     "text": [
      "First, find the segment the specified date falls within:\n"
     ]
    },
    {
     "data": {
      "text/html": [
       "<style type=\"text/css\">\n",
       "#T_6a5aa caption {\n",
       "  text-align: left;\n",
       "  font-size: 150%;\n",
       "  font-weight: bold;\n",
       "}\n",
       "</style>\n",
       "<table id=\"T_6a5aa\">\n",
       "  <caption>Segment date intrsects</caption>\n",
       "  <thead>\n",
       "    <tr>\n",
       "      <th class=\"blank level0\" >&nbsp;</th>\n",
       "      <th id=\"T_6a5aa_level0_col0\" class=\"col_heading level0 col0\" >0</th>\n",
       "    </tr>\n",
       "  </thead>\n",
       "  <tbody>\n",
       "    <tr>\n",
       "      <th id=\"T_6a5aa_level0_row0\" class=\"row_heading level0 row0\" >Segment 1</th>\n",
       "      <td id=\"T_6a5aa_row0_col0\" class=\"data row0 col0\" >0</td>\n",
       "    </tr>\n",
       "    <tr>\n",
       "      <th id=\"T_6a5aa_level0_row1\" class=\"row_heading level0 row1\" >Segment 2</th>\n",
       "      <td id=\"T_6a5aa_row1_col0\" class=\"data row1 col0\" >0</td>\n",
       "    </tr>\n",
       "    <tr>\n",
       "      <th id=\"T_6a5aa_level0_row2\" class=\"row_heading level0 row2\" >Segment 3</th>\n",
       "      <td id=\"T_6a5aa_row2_col0\" class=\"data row2 col0\" >1</td>\n",
       "    </tr>\n",
       "    <tr>\n",
       "      <th id=\"T_6a5aa_level0_row3\" class=\"row_heading level0 row3\" >Segment 4</th>\n",
       "      <td id=\"T_6a5aa_row3_col0\" class=\"data row3 col0\" >0</td>\n",
       "    </tr>\n",
       "    <tr>\n",
       "      <th id=\"T_6a5aa_level0_row4\" class=\"row_heading level0 row4\" >Segment 5</th>\n",
       "      <td id=\"T_6a5aa_row4_col0\" class=\"data row4 col0\" >0</td>\n",
       "    </tr>\n",
       "  </tbody>\n",
       "</table>\n"
      ],
      "text/plain": [
       "<pandas.io.formats.style.Styler at 0x7f259f19fee0>"
      ]
     },
     "metadata": {},
     "output_type": "display_data"
    },
    {
     "name": "stdout",
     "output_type": "stream",
     "text": [
      "Then reformat it so it can be applied across multiple bands:\n"
     ]
    },
    {
     "data": {
      "text/html": [
       "<style type=\"text/css\">\n",
       "#T_4c686 caption {\n",
       "  text-align: left;\n",
       "  font-size: 150%;\n",
       "  font-weight: bold;\n",
       "}\n",
       "</style>\n",
       "<table id=\"T_4c686\">\n",
       "  <caption>Segment date intersects reformatted</caption>\n",
       "  <thead>\n",
       "    <tr>\n",
       "      <th class=\"blank level0\" >&nbsp;</th>\n",
       "      <th id=\"T_4c686_level0_col0\" class=\"col_heading level0 col0\" >0</th>\n",
       "    </tr>\n",
       "  </thead>\n",
       "  <tbody>\n",
       "    <tr>\n",
       "      <th id=\"T_4c686_level0_row0\" class=\"row_heading level0 row0\" >Segment 1</th>\n",
       "      <td id=\"T_4c686_row0_col0\" class=\"data row0 col0\" >[0]</td>\n",
       "    </tr>\n",
       "    <tr>\n",
       "      <th id=\"T_4c686_level0_row1\" class=\"row_heading level0 row1\" >Segment 2</th>\n",
       "      <td id=\"T_4c686_row1_col0\" class=\"data row1 col0\" >[0]</td>\n",
       "    </tr>\n",
       "    <tr>\n",
       "      <th id=\"T_4c686_level0_row2\" class=\"row_heading level0 row2\" >Segment 3</th>\n",
       "      <td id=\"T_4c686_row2_col0\" class=\"data row2 col0\" >[1]</td>\n",
       "    </tr>\n",
       "    <tr>\n",
       "      <th id=\"T_4c686_level0_row3\" class=\"row_heading level0 row3\" >Segment 4</th>\n",
       "      <td id=\"T_4c686_row3_col0\" class=\"data row3 col0\" >[0]</td>\n",
       "    </tr>\n",
       "    <tr>\n",
       "      <th id=\"T_4c686_level0_row4\" class=\"row_heading level0 row4\" >Segment 5</th>\n",
       "      <td id=\"T_4c686_row4_col0\" class=\"data row4 col0\" >[0]</td>\n",
       "    </tr>\n",
       "  </tbody>\n",
       "</table>\n"
      ],
      "text/plain": [
       "<pandas.io.formats.style.Styler at 0x7f259f044d60>"
      ]
     },
     "metadata": {},
     "output_type": "display_data"
    },
    {
     "name": "stdout",
     "output_type": "stream",
     "text": [
      "Finally, mask so only the segment of interest is left:\n"
     ]
    },
    {
     "data": {
      "text/html": [
       "<style type=\"text/css\">\n",
       "#T_f196f caption {\n",
       "  text-align: left;\n",
       "  font-size: 150%;\n",
       "  font-weight: bold;\n",
       "}\n",
       "</style>\n",
       "<table id=\"T_f196f\">\n",
       "  <caption>Coeffs Masked</caption>\n",
       "  <thead>\n",
       "    <tr>\n",
       "      <th class=\"blank level0\" >&nbsp;</th>\n",
       "      <th id=\"T_f196f_level0_col0\" class=\"col_heading level0 col0\" >INTP</th>\n",
       "      <th id=\"T_f196f_level0_col1\" class=\"col_heading level0 col1\" >SLP</th>\n",
       "      <th id=\"T_f196f_level0_col2\" class=\"col_heading level0 col2\" >COS1</th>\n",
       "      <th id=\"T_f196f_level0_col3\" class=\"col_heading level0 col3\" >SIN1</th>\n",
       "      <th id=\"T_f196f_level0_col4\" class=\"col_heading level0 col4\" >COS2</th>\n",
       "      <th id=\"T_f196f_level0_col5\" class=\"col_heading level0 col5\" >SIN2</th>\n",
       "      <th id=\"T_f196f_level0_col6\" class=\"col_heading level0 col6\" >COS3</th>\n",
       "      <th id=\"T_f196f_level0_col7\" class=\"col_heading level0 col7\" >SIN3</th>\n",
       "    </tr>\n",
       "  </thead>\n",
       "  <tbody>\n",
       "    <tr>\n",
       "      <th id=\"T_f196f_level0_row0\" class=\"row_heading level0 row0\" >Segment 2017.9</th>\n",
       "      <td id=\"T_f196f_row0_col0\" class=\"data row0 col0\" >[40.921006545882534, 50.895096297031586, 69.48867809045338, 0.8834294022409347, 76.92873468727524, 59.97626481008383, -183.77273951155982]</td>\n",
       "      <td id=\"T_f196f_row0_col1\" class=\"data row0 col1\" >[-0.020259890824980097, -0.02518305107288108, -0.03440506306050126, -0.00023969860291634586, -0.03800332636106635, -0.02966235885704887, 0.09142888258873613]</td>\n",
       "      <td id=\"T_f196f_row0_col2\" class=\"data row0 col2\" >[0, 0, -0.0024225947032943487, -0.0016084047433077091, -0.016494180170297905, -0.013406892788657997, 0.02902326656997849]</td>\n",
       "      <td id=\"T_f196f_row0_col3\" class=\"data row0 col3\" >[0.005854176136300245, 0.00397697856325619, 0.007443825668502859, -0.0076462463157694425, 0.0021441131566921037, 0.002351250810332423, -0.012174527610339603]</td>\n",
       "      <td id=\"T_f196f_row0_col4\" class=\"data row0 col4\" >[-0.014370010048930525, -0.013268489602268415, -0.01680896003632936, -0.0036527915819201755, -0.019796965920781923, -0.013964558531023071, 0.03579450237639679]</td>\n",
       "      <td id=\"T_f196f_row0_col5\" class=\"data row0 col5\" >[0.008811111586499342, 0.012618469843064676, 0.01361870695976215, 0.024766213847678697, 0.021772726540925325, 0.014124435464744166, -0.0065829842625007]</td>\n",
       "      <td id=\"T_f196f_row0_col6\" class=\"data row0 col6\" >[-0.020052238813802078, -0.015932060670294356, -0.01707310212186034, 0, -0.004396921947604966, -0.0042026664281565864, 0.026255827857797617]</td>\n",
       "      <td id=\"T_f196f_row0_col7\" class=\"data row0 col7\" >[0, 5.383251312164806e-06, 0, 0, 0, 0, -0.005891841365245101]</td>\n",
       "    </tr>\n",
       "  </tbody>\n",
       "</table>\n"
      ],
      "text/plain": [
       "<pandas.io.formats.style.Styler at 0x7f259f3738e0>"
      ]
     },
     "metadata": {},
     "output_type": "display_data"
    },
    {
     "name": "stdout",
     "output_type": "stream",
     "text": [
      "Done\n"
     ]
    }
   ],
   "source": [
    "# Now, we will find the segment a given date intersects\n",
    "date = 2017.9\n",
    "timeBandName = 'year'\n",
    "timeImg = ee.Image(date).rename([timeBandName])\n",
    "\n",
    "# Find which segment it intersects\n",
    "tMask = tStarts.lt(timeImg).And(tEnds.gte(timeImg))\n",
    "print('First, find the segment the specified date falls within:')\n",
    "display(g2p.imageArrayPixelToDataFrame(tMask,\\\n",
    "                                       pt,None,crs,transform, 'Segment date intrsects',index = index))\n",
    "\n",
    "\n",
    "# Reformat the mask so it can be applied across multiple band models\n",
    "tMask = tMask.arrayRepeat(1,1).arrayRepeat(2,1)\n",
    "print('Then reformat it so it can be applied across multiple bands:')\n",
    "display(g2p.imageArrayPixelToDataFrame(tMask,\\\n",
    "                                     pt,None,crs,transform, 'Segment date intersects reformatted',index=index))\n",
    "\n",
    "# Mask out coeffs for the segment the time intersects\n",
    "coeffsSeg = coeffs.arrayMask(tMask)\n",
    "print('Finally, mask so only the segment of interest is left:')\n",
    "display(g2p.imageArrayPixelToDataFrame(coeffsSeg,\\\n",
    "                                       pt,None,crs,transform, 'Coeffs Masked',index=[f'Segment {date}'],columns = harmonicTag ))\n",
    "\n",
    "\n",
    "print('Done')"
   ]
  },
  {
   "cell_type": "markdown",
   "id": "73db7578-e596-469c-b680-05e95eb60901",
   "metadata": {},
   "source": [
    "* Now that we found which segment the date intersects, we need to reformat the output into a more user-friendly multi-band image"
   ]
  },
  {
   "cell_type": "code",
   "execution_count": 31,
   "id": "a4a3d225-87a8-431a-9495-0b9e32d62546",
   "metadata": {},
   "outputs": [
    {
     "name": "stdout",
     "output_type": "stream",
     "text": [
      "First, we will project the axes so there are only 2 dimensions for a given pixel (instead of 3):\n"
     ]
    },
    {
     "data": {
      "text/html": [
       "<style type=\"text/css\">\n",
       "#T_e72f0 caption {\n",
       "  text-align: left;\n",
       "  font-size: 150%;\n",
       "  font-weight: bold;\n",
       "}\n",
       "</style>\n",
       "<table id=\"T_e72f0\">\n",
       "  <caption>Coeffs Masked Reformatted</caption>\n",
       "  <thead>\n",
       "    <tr>\n",
       "      <th class=\"blank level0\" >&nbsp;</th>\n",
       "      <th id=\"T_e72f0_level0_col0\" class=\"col_heading level0 col0\" >blue_coefs</th>\n",
       "      <th id=\"T_e72f0_level0_col1\" class=\"col_heading level0 col1\" >green_coefs</th>\n",
       "      <th id=\"T_e72f0_level0_col2\" class=\"col_heading level0 col2\" >red_coefs</th>\n",
       "      <th id=\"T_e72f0_level0_col3\" class=\"col_heading level0 col3\" >nir_coefs</th>\n",
       "      <th id=\"T_e72f0_level0_col4\" class=\"col_heading level0 col4\" >swir1_coefs</th>\n",
       "      <th id=\"T_e72f0_level0_col5\" class=\"col_heading level0 col5\" >swir2_coefs</th>\n",
       "      <th id=\"T_e72f0_level0_col6\" class=\"col_heading level0 col6\" >NDVI_coefs</th>\n",
       "    </tr>\n",
       "  </thead>\n",
       "  <tbody>\n",
       "    <tr>\n",
       "      <th id=\"T_e72f0_level0_row0\" class=\"row_heading level0 row0\" >INTP</th>\n",
       "      <td id=\"T_e72f0_row0_col0\" class=\"data row0 col0\" >40.921007</td>\n",
       "      <td id=\"T_e72f0_row0_col1\" class=\"data row0 col1\" >50.895096</td>\n",
       "      <td id=\"T_e72f0_row0_col2\" class=\"data row0 col2\" >69.488678</td>\n",
       "      <td id=\"T_e72f0_row0_col3\" class=\"data row0 col3\" >0.883429</td>\n",
       "      <td id=\"T_e72f0_row0_col4\" class=\"data row0 col4\" >76.928735</td>\n",
       "      <td id=\"T_e72f0_row0_col5\" class=\"data row0 col5\" >59.976265</td>\n",
       "      <td id=\"T_e72f0_row0_col6\" class=\"data row0 col6\" >-183.772740</td>\n",
       "    </tr>\n",
       "    <tr>\n",
       "      <th id=\"T_e72f0_level0_row1\" class=\"row_heading level0 row1\" >SLP</th>\n",
       "      <td id=\"T_e72f0_row1_col0\" class=\"data row1 col0\" >-0.020260</td>\n",
       "      <td id=\"T_e72f0_row1_col1\" class=\"data row1 col1\" >-0.025183</td>\n",
       "      <td id=\"T_e72f0_row1_col2\" class=\"data row1 col2\" >-0.034405</td>\n",
       "      <td id=\"T_e72f0_row1_col3\" class=\"data row1 col3\" >-0.000240</td>\n",
       "      <td id=\"T_e72f0_row1_col4\" class=\"data row1 col4\" >-0.038003</td>\n",
       "      <td id=\"T_e72f0_row1_col5\" class=\"data row1 col5\" >-0.029662</td>\n",
       "      <td id=\"T_e72f0_row1_col6\" class=\"data row1 col6\" >0.091429</td>\n",
       "    </tr>\n",
       "    <tr>\n",
       "      <th id=\"T_e72f0_level0_row2\" class=\"row_heading level0 row2\" >COS1</th>\n",
       "      <td id=\"T_e72f0_row2_col0\" class=\"data row2 col0\" >0.000000</td>\n",
       "      <td id=\"T_e72f0_row2_col1\" class=\"data row2 col1\" >0.000000</td>\n",
       "      <td id=\"T_e72f0_row2_col2\" class=\"data row2 col2\" >-0.002423</td>\n",
       "      <td id=\"T_e72f0_row2_col3\" class=\"data row2 col3\" >-0.001608</td>\n",
       "      <td id=\"T_e72f0_row2_col4\" class=\"data row2 col4\" >-0.016494</td>\n",
       "      <td id=\"T_e72f0_row2_col5\" class=\"data row2 col5\" >-0.013407</td>\n",
       "      <td id=\"T_e72f0_row2_col6\" class=\"data row2 col6\" >0.029023</td>\n",
       "    </tr>\n",
       "    <tr>\n",
       "      <th id=\"T_e72f0_level0_row3\" class=\"row_heading level0 row3\" >SIN1</th>\n",
       "      <td id=\"T_e72f0_row3_col0\" class=\"data row3 col0\" >0.005854</td>\n",
       "      <td id=\"T_e72f0_row3_col1\" class=\"data row3 col1\" >0.003977</td>\n",
       "      <td id=\"T_e72f0_row3_col2\" class=\"data row3 col2\" >0.007444</td>\n",
       "      <td id=\"T_e72f0_row3_col3\" class=\"data row3 col3\" >-0.007646</td>\n",
       "      <td id=\"T_e72f0_row3_col4\" class=\"data row3 col4\" >0.002144</td>\n",
       "      <td id=\"T_e72f0_row3_col5\" class=\"data row3 col5\" >0.002351</td>\n",
       "      <td id=\"T_e72f0_row3_col6\" class=\"data row3 col6\" >-0.012175</td>\n",
       "    </tr>\n",
       "    <tr>\n",
       "      <th id=\"T_e72f0_level0_row4\" class=\"row_heading level0 row4\" >COS2</th>\n",
       "      <td id=\"T_e72f0_row4_col0\" class=\"data row4 col0\" >-0.014370</td>\n",
       "      <td id=\"T_e72f0_row4_col1\" class=\"data row4 col1\" >-0.013268</td>\n",
       "      <td id=\"T_e72f0_row4_col2\" class=\"data row4 col2\" >-0.016809</td>\n",
       "      <td id=\"T_e72f0_row4_col3\" class=\"data row4 col3\" >-0.003653</td>\n",
       "      <td id=\"T_e72f0_row4_col4\" class=\"data row4 col4\" >-0.019797</td>\n",
       "      <td id=\"T_e72f0_row4_col5\" class=\"data row4 col5\" >-0.013965</td>\n",
       "      <td id=\"T_e72f0_row4_col6\" class=\"data row4 col6\" >0.035795</td>\n",
       "    </tr>\n",
       "    <tr>\n",
       "      <th id=\"T_e72f0_level0_row5\" class=\"row_heading level0 row5\" >SIN2</th>\n",
       "      <td id=\"T_e72f0_row5_col0\" class=\"data row5 col0\" >0.008811</td>\n",
       "      <td id=\"T_e72f0_row5_col1\" class=\"data row5 col1\" >0.012618</td>\n",
       "      <td id=\"T_e72f0_row5_col2\" class=\"data row5 col2\" >0.013619</td>\n",
       "      <td id=\"T_e72f0_row5_col3\" class=\"data row5 col3\" >0.024766</td>\n",
       "      <td id=\"T_e72f0_row5_col4\" class=\"data row5 col4\" >0.021773</td>\n",
       "      <td id=\"T_e72f0_row5_col5\" class=\"data row5 col5\" >0.014124</td>\n",
       "      <td id=\"T_e72f0_row5_col6\" class=\"data row5 col6\" >-0.006583</td>\n",
       "    </tr>\n",
       "    <tr>\n",
       "      <th id=\"T_e72f0_level0_row6\" class=\"row_heading level0 row6\" >COS3</th>\n",
       "      <td id=\"T_e72f0_row6_col0\" class=\"data row6 col0\" >-0.020052</td>\n",
       "      <td id=\"T_e72f0_row6_col1\" class=\"data row6 col1\" >-0.015932</td>\n",
       "      <td id=\"T_e72f0_row6_col2\" class=\"data row6 col2\" >-0.017073</td>\n",
       "      <td id=\"T_e72f0_row6_col3\" class=\"data row6 col3\" >0.000000</td>\n",
       "      <td id=\"T_e72f0_row6_col4\" class=\"data row6 col4\" >-0.004397</td>\n",
       "      <td id=\"T_e72f0_row6_col5\" class=\"data row6 col5\" >-0.004203</td>\n",
       "      <td id=\"T_e72f0_row6_col6\" class=\"data row6 col6\" >0.026256</td>\n",
       "    </tr>\n",
       "    <tr>\n",
       "      <th id=\"T_e72f0_level0_row7\" class=\"row_heading level0 row7\" >SIN3</th>\n",
       "      <td id=\"T_e72f0_row7_col0\" class=\"data row7 col0\" >0.000000</td>\n",
       "      <td id=\"T_e72f0_row7_col1\" class=\"data row7 col1\" >0.000005</td>\n",
       "      <td id=\"T_e72f0_row7_col2\" class=\"data row7 col2\" >0.000000</td>\n",
       "      <td id=\"T_e72f0_row7_col3\" class=\"data row7 col3\" >0.000000</td>\n",
       "      <td id=\"T_e72f0_row7_col4\" class=\"data row7 col4\" >0.000000</td>\n",
       "      <td id=\"T_e72f0_row7_col5\" class=\"data row7 col5\" >0.000000</td>\n",
       "      <td id=\"T_e72f0_row7_col6\" class=\"data row7 col6\" >-0.005892</td>\n",
       "    </tr>\n",
       "  </tbody>\n",
       "</table>\n"
      ],
      "text/plain": [
       "<pandas.io.formats.style.Styler at 0x7f259d12afe0>"
      ]
     },
     "metadata": {},
     "output_type": "display_data"
    },
    {
     "name": "stdout",
     "output_type": "stream",
     "text": [
      "Then transpose the array:\n"
     ]
    },
    {
     "data": {
      "text/html": [
       "<style type=\"text/css\">\n",
       "#T_8f6b9 caption {\n",
       "  text-align: left;\n",
       "  font-size: 150%;\n",
       "  font-weight: bold;\n",
       "}\n",
       "</style>\n",
       "<table id=\"T_8f6b9\">\n",
       "  <caption>Coeffs Masked Reformatted Transposed</caption>\n",
       "  <thead>\n",
       "    <tr>\n",
       "      <th class=\"blank level0\" >&nbsp;</th>\n",
       "      <th id=\"T_8f6b9_level0_col0\" class=\"col_heading level0 col0\" >INTP</th>\n",
       "      <th id=\"T_8f6b9_level0_col1\" class=\"col_heading level0 col1\" >SLP</th>\n",
       "      <th id=\"T_8f6b9_level0_col2\" class=\"col_heading level0 col2\" >COS1</th>\n",
       "      <th id=\"T_8f6b9_level0_col3\" class=\"col_heading level0 col3\" >SIN1</th>\n",
       "      <th id=\"T_8f6b9_level0_col4\" class=\"col_heading level0 col4\" >COS2</th>\n",
       "      <th id=\"T_8f6b9_level0_col5\" class=\"col_heading level0 col5\" >SIN2</th>\n",
       "      <th id=\"T_8f6b9_level0_col6\" class=\"col_heading level0 col6\" >COS3</th>\n",
       "      <th id=\"T_8f6b9_level0_col7\" class=\"col_heading level0 col7\" >SIN3</th>\n",
       "    </tr>\n",
       "  </thead>\n",
       "  <tbody>\n",
       "    <tr>\n",
       "      <th id=\"T_8f6b9_level0_row0\" class=\"row_heading level0 row0\" >blue_coefs</th>\n",
       "      <td id=\"T_8f6b9_row0_col0\" class=\"data row0 col0\" >40.921007</td>\n",
       "      <td id=\"T_8f6b9_row0_col1\" class=\"data row0 col1\" >-0.020260</td>\n",
       "      <td id=\"T_8f6b9_row0_col2\" class=\"data row0 col2\" >0.000000</td>\n",
       "      <td id=\"T_8f6b9_row0_col3\" class=\"data row0 col3\" >0.005854</td>\n",
       "      <td id=\"T_8f6b9_row0_col4\" class=\"data row0 col4\" >-0.014370</td>\n",
       "      <td id=\"T_8f6b9_row0_col5\" class=\"data row0 col5\" >0.008811</td>\n",
       "      <td id=\"T_8f6b9_row0_col6\" class=\"data row0 col6\" >-0.020052</td>\n",
       "      <td id=\"T_8f6b9_row0_col7\" class=\"data row0 col7\" >0.000000</td>\n",
       "    </tr>\n",
       "    <tr>\n",
       "      <th id=\"T_8f6b9_level0_row1\" class=\"row_heading level0 row1\" >green_coefs</th>\n",
       "      <td id=\"T_8f6b9_row1_col0\" class=\"data row1 col0\" >50.895096</td>\n",
       "      <td id=\"T_8f6b9_row1_col1\" class=\"data row1 col1\" >-0.025183</td>\n",
       "      <td id=\"T_8f6b9_row1_col2\" class=\"data row1 col2\" >0.000000</td>\n",
       "      <td id=\"T_8f6b9_row1_col3\" class=\"data row1 col3\" >0.003977</td>\n",
       "      <td id=\"T_8f6b9_row1_col4\" class=\"data row1 col4\" >-0.013268</td>\n",
       "      <td id=\"T_8f6b9_row1_col5\" class=\"data row1 col5\" >0.012618</td>\n",
       "      <td id=\"T_8f6b9_row1_col6\" class=\"data row1 col6\" >-0.015932</td>\n",
       "      <td id=\"T_8f6b9_row1_col7\" class=\"data row1 col7\" >0.000005</td>\n",
       "    </tr>\n",
       "    <tr>\n",
       "      <th id=\"T_8f6b9_level0_row2\" class=\"row_heading level0 row2\" >red_coefs</th>\n",
       "      <td id=\"T_8f6b9_row2_col0\" class=\"data row2 col0\" >69.488678</td>\n",
       "      <td id=\"T_8f6b9_row2_col1\" class=\"data row2 col1\" >-0.034405</td>\n",
       "      <td id=\"T_8f6b9_row2_col2\" class=\"data row2 col2\" >-0.002423</td>\n",
       "      <td id=\"T_8f6b9_row2_col3\" class=\"data row2 col3\" >0.007444</td>\n",
       "      <td id=\"T_8f6b9_row2_col4\" class=\"data row2 col4\" >-0.016809</td>\n",
       "      <td id=\"T_8f6b9_row2_col5\" class=\"data row2 col5\" >0.013619</td>\n",
       "      <td id=\"T_8f6b9_row2_col6\" class=\"data row2 col6\" >-0.017073</td>\n",
       "      <td id=\"T_8f6b9_row2_col7\" class=\"data row2 col7\" >0.000000</td>\n",
       "    </tr>\n",
       "    <tr>\n",
       "      <th id=\"T_8f6b9_level0_row3\" class=\"row_heading level0 row3\" >nir_coefs</th>\n",
       "      <td id=\"T_8f6b9_row3_col0\" class=\"data row3 col0\" >0.883429</td>\n",
       "      <td id=\"T_8f6b9_row3_col1\" class=\"data row3 col1\" >-0.000240</td>\n",
       "      <td id=\"T_8f6b9_row3_col2\" class=\"data row3 col2\" >-0.001608</td>\n",
       "      <td id=\"T_8f6b9_row3_col3\" class=\"data row3 col3\" >-0.007646</td>\n",
       "      <td id=\"T_8f6b9_row3_col4\" class=\"data row3 col4\" >-0.003653</td>\n",
       "      <td id=\"T_8f6b9_row3_col5\" class=\"data row3 col5\" >0.024766</td>\n",
       "      <td id=\"T_8f6b9_row3_col6\" class=\"data row3 col6\" >0.000000</td>\n",
       "      <td id=\"T_8f6b9_row3_col7\" class=\"data row3 col7\" >0.000000</td>\n",
       "    </tr>\n",
       "    <tr>\n",
       "      <th id=\"T_8f6b9_level0_row4\" class=\"row_heading level0 row4\" >swir1_coefs</th>\n",
       "      <td id=\"T_8f6b9_row4_col0\" class=\"data row4 col0\" >76.928735</td>\n",
       "      <td id=\"T_8f6b9_row4_col1\" class=\"data row4 col1\" >-0.038003</td>\n",
       "      <td id=\"T_8f6b9_row4_col2\" class=\"data row4 col2\" >-0.016494</td>\n",
       "      <td id=\"T_8f6b9_row4_col3\" class=\"data row4 col3\" >0.002144</td>\n",
       "      <td id=\"T_8f6b9_row4_col4\" class=\"data row4 col4\" >-0.019797</td>\n",
       "      <td id=\"T_8f6b9_row4_col5\" class=\"data row4 col5\" >0.021773</td>\n",
       "      <td id=\"T_8f6b9_row4_col6\" class=\"data row4 col6\" >-0.004397</td>\n",
       "      <td id=\"T_8f6b9_row4_col7\" class=\"data row4 col7\" >0.000000</td>\n",
       "    </tr>\n",
       "    <tr>\n",
       "      <th id=\"T_8f6b9_level0_row5\" class=\"row_heading level0 row5\" >swir2_coefs</th>\n",
       "      <td id=\"T_8f6b9_row5_col0\" class=\"data row5 col0\" >59.976265</td>\n",
       "      <td id=\"T_8f6b9_row5_col1\" class=\"data row5 col1\" >-0.029662</td>\n",
       "      <td id=\"T_8f6b9_row5_col2\" class=\"data row5 col2\" >-0.013407</td>\n",
       "      <td id=\"T_8f6b9_row5_col3\" class=\"data row5 col3\" >0.002351</td>\n",
       "      <td id=\"T_8f6b9_row5_col4\" class=\"data row5 col4\" >-0.013965</td>\n",
       "      <td id=\"T_8f6b9_row5_col5\" class=\"data row5 col5\" >0.014124</td>\n",
       "      <td id=\"T_8f6b9_row5_col6\" class=\"data row5 col6\" >-0.004203</td>\n",
       "      <td id=\"T_8f6b9_row5_col7\" class=\"data row5 col7\" >0.000000</td>\n",
       "    </tr>\n",
       "    <tr>\n",
       "      <th id=\"T_8f6b9_level0_row6\" class=\"row_heading level0 row6\" >NDVI_coefs</th>\n",
       "      <td id=\"T_8f6b9_row6_col0\" class=\"data row6 col0\" >-183.772740</td>\n",
       "      <td id=\"T_8f6b9_row6_col1\" class=\"data row6 col1\" >0.091429</td>\n",
       "      <td id=\"T_8f6b9_row6_col2\" class=\"data row6 col2\" >0.029023</td>\n",
       "      <td id=\"T_8f6b9_row6_col3\" class=\"data row6 col3\" >-0.012175</td>\n",
       "      <td id=\"T_8f6b9_row6_col4\" class=\"data row6 col4\" >0.035795</td>\n",
       "      <td id=\"T_8f6b9_row6_col5\" class=\"data row6 col5\" >-0.006583</td>\n",
       "      <td id=\"T_8f6b9_row6_col6\" class=\"data row6 col6\" >0.026256</td>\n",
       "      <td id=\"T_8f6b9_row6_col7\" class=\"data row6 col7\" >-0.005892</td>\n",
       "    </tr>\n",
       "  </tbody>\n",
       "</table>\n"
      ],
      "text/plain": [
       "<pandas.io.formats.style.Styler at 0x7f259f0892d0>"
      ]
     },
     "metadata": {},
     "output_type": "display_data"
    },
    {
     "name": "stdout",
     "output_type": "stream",
     "text": [
      "Finally, we will convert the array image into a multi-band image for easy use:\n"
     ]
    },
    {
     "data": {
      "text/html": [
       "<div>\n",
       "<style scoped>\n",
       "    .dataframe tbody tr th:only-of-type {\n",
       "        vertical-align: middle;\n",
       "    }\n",
       "\n",
       "    .dataframe tbody tr th {\n",
       "        vertical-align: top;\n",
       "    }\n",
       "\n",
       "    .dataframe thead th {\n",
       "        text-align: right;\n",
       "    }\n",
       "</style>\n",
       "<table border=\"1\" class=\"dataframe\">\n",
       "  <thead>\n",
       "    <tr style=\"text-align: right;\">\n",
       "      <th></th>\n",
       "      <th>Value</th>\n",
       "    </tr>\n",
       "  </thead>\n",
       "  <tbody>\n",
       "    <tr>\n",
       "      <th>NDVI_coefs_COS1</th>\n",
       "      <td>0.029023</td>\n",
       "    </tr>\n",
       "    <tr>\n",
       "      <th>NDVI_coefs_COS2</th>\n",
       "      <td>0.035795</td>\n",
       "    </tr>\n",
       "    <tr>\n",
       "      <th>NDVI_coefs_COS3</th>\n",
       "      <td>0.026256</td>\n",
       "    </tr>\n",
       "    <tr>\n",
       "      <th>NDVI_coefs_INTP</th>\n",
       "      <td>-183.772740</td>\n",
       "    </tr>\n",
       "    <tr>\n",
       "      <th>NDVI_coefs_SIN1</th>\n",
       "      <td>-0.012175</td>\n",
       "    </tr>\n",
       "    <tr>\n",
       "      <th>NDVI_coefs_SIN2</th>\n",
       "      <td>-0.006583</td>\n",
       "    </tr>\n",
       "    <tr>\n",
       "      <th>NDVI_coefs_SIN3</th>\n",
       "      <td>-0.005892</td>\n",
       "    </tr>\n",
       "    <tr>\n",
       "      <th>NDVI_coefs_SLP</th>\n",
       "      <td>0.091429</td>\n",
       "    </tr>\n",
       "    <tr>\n",
       "      <th>blue_coefs_COS1</th>\n",
       "      <td>0.000000</td>\n",
       "    </tr>\n",
       "    <tr>\n",
       "      <th>blue_coefs_COS2</th>\n",
       "      <td>-0.014370</td>\n",
       "    </tr>\n",
       "    <tr>\n",
       "      <th>blue_coefs_COS3</th>\n",
       "      <td>-0.020052</td>\n",
       "    </tr>\n",
       "    <tr>\n",
       "      <th>blue_coefs_INTP</th>\n",
       "      <td>40.921007</td>\n",
       "    </tr>\n",
       "    <tr>\n",
       "      <th>blue_coefs_SIN1</th>\n",
       "      <td>0.005854</td>\n",
       "    </tr>\n",
       "    <tr>\n",
       "      <th>blue_coefs_SIN2</th>\n",
       "      <td>0.008811</td>\n",
       "    </tr>\n",
       "    <tr>\n",
       "      <th>blue_coefs_SIN3</th>\n",
       "      <td>0.000000</td>\n",
       "    </tr>\n",
       "    <tr>\n",
       "      <th>blue_coefs_SLP</th>\n",
       "      <td>-0.020260</td>\n",
       "    </tr>\n",
       "    <tr>\n",
       "      <th>green_coefs_COS1</th>\n",
       "      <td>0.000000</td>\n",
       "    </tr>\n",
       "    <tr>\n",
       "      <th>green_coefs_COS2</th>\n",
       "      <td>-0.013268</td>\n",
       "    </tr>\n",
       "    <tr>\n",
       "      <th>green_coefs_COS3</th>\n",
       "      <td>-0.015932</td>\n",
       "    </tr>\n",
       "    <tr>\n",
       "      <th>green_coefs_INTP</th>\n",
       "      <td>50.895096</td>\n",
       "    </tr>\n",
       "    <tr>\n",
       "      <th>green_coefs_SIN1</th>\n",
       "      <td>0.003977</td>\n",
       "    </tr>\n",
       "    <tr>\n",
       "      <th>green_coefs_SIN2</th>\n",
       "      <td>0.012618</td>\n",
       "    </tr>\n",
       "    <tr>\n",
       "      <th>green_coefs_SIN3</th>\n",
       "      <td>0.000005</td>\n",
       "    </tr>\n",
       "    <tr>\n",
       "      <th>green_coefs_SLP</th>\n",
       "      <td>-0.025183</td>\n",
       "    </tr>\n",
       "    <tr>\n",
       "      <th>nir_coefs_COS1</th>\n",
       "      <td>-0.001608</td>\n",
       "    </tr>\n",
       "    <tr>\n",
       "      <th>nir_coefs_COS2</th>\n",
       "      <td>-0.003653</td>\n",
       "    </tr>\n",
       "    <tr>\n",
       "      <th>nir_coefs_COS3</th>\n",
       "      <td>0.000000</td>\n",
       "    </tr>\n",
       "    <tr>\n",
       "      <th>nir_coefs_INTP</th>\n",
       "      <td>0.883429</td>\n",
       "    </tr>\n",
       "    <tr>\n",
       "      <th>nir_coefs_SIN1</th>\n",
       "      <td>-0.007646</td>\n",
       "    </tr>\n",
       "    <tr>\n",
       "      <th>nir_coefs_SIN2</th>\n",
       "      <td>0.024766</td>\n",
       "    </tr>\n",
       "    <tr>\n",
       "      <th>nir_coefs_SIN3</th>\n",
       "      <td>0.000000</td>\n",
       "    </tr>\n",
       "    <tr>\n",
       "      <th>nir_coefs_SLP</th>\n",
       "      <td>-0.000240</td>\n",
       "    </tr>\n",
       "    <tr>\n",
       "      <th>red_coefs_COS1</th>\n",
       "      <td>-0.002423</td>\n",
       "    </tr>\n",
       "    <tr>\n",
       "      <th>red_coefs_COS2</th>\n",
       "      <td>-0.016809</td>\n",
       "    </tr>\n",
       "    <tr>\n",
       "      <th>red_coefs_COS3</th>\n",
       "      <td>-0.017073</td>\n",
       "    </tr>\n",
       "    <tr>\n",
       "      <th>red_coefs_INTP</th>\n",
       "      <td>69.488678</td>\n",
       "    </tr>\n",
       "    <tr>\n",
       "      <th>red_coefs_SIN1</th>\n",
       "      <td>0.007444</td>\n",
       "    </tr>\n",
       "    <tr>\n",
       "      <th>red_coefs_SIN2</th>\n",
       "      <td>0.013619</td>\n",
       "    </tr>\n",
       "    <tr>\n",
       "      <th>red_coefs_SIN3</th>\n",
       "      <td>0.000000</td>\n",
       "    </tr>\n",
       "    <tr>\n",
       "      <th>red_coefs_SLP</th>\n",
       "      <td>-0.034405</td>\n",
       "    </tr>\n",
       "    <tr>\n",
       "      <th>swir1_coefs_COS1</th>\n",
       "      <td>-0.016494</td>\n",
       "    </tr>\n",
       "    <tr>\n",
       "      <th>swir1_coefs_COS2</th>\n",
       "      <td>-0.019797</td>\n",
       "    </tr>\n",
       "    <tr>\n",
       "      <th>swir1_coefs_COS3</th>\n",
       "      <td>-0.004397</td>\n",
       "    </tr>\n",
       "    <tr>\n",
       "      <th>swir1_coefs_INTP</th>\n",
       "      <td>76.928735</td>\n",
       "    </tr>\n",
       "    <tr>\n",
       "      <th>swir1_coefs_SIN1</th>\n",
       "      <td>0.002144</td>\n",
       "    </tr>\n",
       "    <tr>\n",
       "      <th>swir1_coefs_SIN2</th>\n",
       "      <td>0.021773</td>\n",
       "    </tr>\n",
       "    <tr>\n",
       "      <th>swir1_coefs_SIN3</th>\n",
       "      <td>0.000000</td>\n",
       "    </tr>\n",
       "    <tr>\n",
       "      <th>swir1_coefs_SLP</th>\n",
       "      <td>-0.038003</td>\n",
       "    </tr>\n",
       "    <tr>\n",
       "      <th>swir2_coefs_COS1</th>\n",
       "      <td>-0.013407</td>\n",
       "    </tr>\n",
       "    <tr>\n",
       "      <th>swir2_coefs_COS2</th>\n",
       "      <td>-0.013965</td>\n",
       "    </tr>\n",
       "    <tr>\n",
       "      <th>swir2_coefs_COS3</th>\n",
       "      <td>-0.004203</td>\n",
       "    </tr>\n",
       "    <tr>\n",
       "      <th>swir2_coefs_INTP</th>\n",
       "      <td>59.976265</td>\n",
       "    </tr>\n",
       "    <tr>\n",
       "      <th>swir2_coefs_SIN1</th>\n",
       "      <td>0.002351</td>\n",
       "    </tr>\n",
       "    <tr>\n",
       "      <th>swir2_coefs_SIN2</th>\n",
       "      <td>0.014124</td>\n",
       "    </tr>\n",
       "    <tr>\n",
       "      <th>swir2_coefs_SIN3</th>\n",
       "      <td>0.000000</td>\n",
       "    </tr>\n",
       "    <tr>\n",
       "      <th>swir2_coefs_SLP</th>\n",
       "      <td>-0.029662</td>\n",
       "    </tr>\n",
       "    <tr>\n",
       "      <th>year</th>\n",
       "      <td>2017.900000</td>\n",
       "    </tr>\n",
       "  </tbody>\n",
       "</table>\n",
       "</div>"
      ],
      "text/plain": [
       "                        Value\n",
       "NDVI_coefs_COS1      0.029023\n",
       "NDVI_coefs_COS2      0.035795\n",
       "NDVI_coefs_COS3      0.026256\n",
       "NDVI_coefs_INTP   -183.772740\n",
       "NDVI_coefs_SIN1     -0.012175\n",
       "NDVI_coefs_SIN2     -0.006583\n",
       "NDVI_coefs_SIN3     -0.005892\n",
       "NDVI_coefs_SLP       0.091429\n",
       "blue_coefs_COS1      0.000000\n",
       "blue_coefs_COS2     -0.014370\n",
       "blue_coefs_COS3     -0.020052\n",
       "blue_coefs_INTP     40.921007\n",
       "blue_coefs_SIN1      0.005854\n",
       "blue_coefs_SIN2      0.008811\n",
       "blue_coefs_SIN3      0.000000\n",
       "blue_coefs_SLP      -0.020260\n",
       "green_coefs_COS1     0.000000\n",
       "green_coefs_COS2    -0.013268\n",
       "green_coefs_COS3    -0.015932\n",
       "green_coefs_INTP    50.895096\n",
       "green_coefs_SIN1     0.003977\n",
       "green_coefs_SIN2     0.012618\n",
       "green_coefs_SIN3     0.000005\n",
       "green_coefs_SLP     -0.025183\n",
       "nir_coefs_COS1      -0.001608\n",
       "nir_coefs_COS2      -0.003653\n",
       "nir_coefs_COS3       0.000000\n",
       "nir_coefs_INTP       0.883429\n",
       "nir_coefs_SIN1      -0.007646\n",
       "nir_coefs_SIN2       0.024766\n",
       "nir_coefs_SIN3       0.000000\n",
       "nir_coefs_SLP       -0.000240\n",
       "red_coefs_COS1      -0.002423\n",
       "red_coefs_COS2      -0.016809\n",
       "red_coefs_COS3      -0.017073\n",
       "red_coefs_INTP      69.488678\n",
       "red_coefs_SIN1       0.007444\n",
       "red_coefs_SIN2       0.013619\n",
       "red_coefs_SIN3       0.000000\n",
       "red_coefs_SLP       -0.034405\n",
       "swir1_coefs_COS1    -0.016494\n",
       "swir1_coefs_COS2    -0.019797\n",
       "swir1_coefs_COS3    -0.004397\n",
       "swir1_coefs_INTP    76.928735\n",
       "swir1_coefs_SIN1     0.002144\n",
       "swir1_coefs_SIN2     0.021773\n",
       "swir1_coefs_SIN3     0.000000\n",
       "swir1_coefs_SLP     -0.038003\n",
       "swir2_coefs_COS1    -0.013407\n",
       "swir2_coefs_COS2    -0.013965\n",
       "swir2_coefs_COS3    -0.004203\n",
       "swir2_coefs_INTP    59.976265\n",
       "swir2_coefs_SIN1     0.002351\n",
       "swir2_coefs_SIN2     0.014124\n",
       "swir2_coefs_SIN3     0.000000\n",
       "swir2_coefs_SLP     -0.029662\n",
       "year              2017.900000"
      ]
     },
     "metadata": {},
     "output_type": "display_data"
    },
    {
     "name": "stdout",
     "output_type": "stream",
     "text": [
      "Done\n"
     ]
    }
   ],
   "source": [
    "coeffsSeg = coeffs.arrayMask(tMask)\n",
    "print('First, we will project the axes so there are only 2 dimensions for a given pixel (instead of 3):')\n",
    "# Use arrayProject to take the third dimension and make it the first now\n",
    "coeffsSeg = coeffsSeg.arrayProject([2,1])\n",
    "display(g2p.imageArrayPixelToDataFrame(coeffsSeg,\\\n",
    "                                       pt,None,crs,transform, 'Coeffs Masked Reformatted',index = harmonicTag ,columns = bns))\n",
    "print('Then transpose the array:')\n",
    "# This is done so the final order of the bands is grouped by band and not model coeff name\n",
    "coeffsSeg = coeffsSeg.arrayTranspose(1,0)\n",
    "display(g2p.imageArrayPixelToDataFrame(coeffsSeg,\\\n",
    "                                       pt,None,crs,transform, 'Coeffs Masked Reformatted Transposed',index = bns,columns = harmonicTag))\n",
    "\n",
    "# The arrayFlatten method allows for converting an array image into a multi-band image\n",
    "print('Finally, we will convert the array image into a multi-band image for easy use:')\n",
    "coeffsSeg = coeffsSeg.arrayFlatten([ee.List(bns),ee.List(harmonicTag)])\n",
    "\n",
    "# Format into a dataframe\n",
    "coeffsSeg = timeImg.addBands(coeffsSeg)\n",
    "df = g2p.extractPointValuesToDataFrame(coeffsSeg,pt,scale=None,crs = crs, transform = transform).transpose()\n",
    "df.columns = ['Value']\n",
    "display(df)\n",
    "\n",
    "\n",
    "print('Done')"
   ]
  },
  {
   "cell_type": "markdown",
   "id": "a997f889-4755-4923-97c8-cea3d1f41644",
   "metadata": {},
   "source": [
    "* We have now learned how to extract the harmonic model for a given date \n",
    "* Next, we will learn how to predict values for the model for that given date\n",
    "\n",
    "* First, we will look at the function that is used - `changeDetectionLib.simpleCCDCPrediction`\n",
    "* This function is useful to get the **predicted values** for a given date\n"
   ]
  },
  {
   "cell_type": "code",
   "execution_count": 202,
   "id": "9cd245c7-531b-4a22-99d9-819f2c44a798",
   "metadata": {},
   "outputs": [
    {
     "name": "stdout",
     "output_type": "stream",
     "text": [
      "    analysisImagesZ = ee.ImageCollection(analysisImages.map(lambda img:img.subtract(blMean).divide(blStd)))\\\n",
      "              .reduce(zReducer).rename(outNames).multiply(10)\n",
      "\n"
     ]
    }
   ],
   "source": [
    "# We will need to manipulate the array image to get meaningful data such as synthetic composites and harmonic coefficients\n",
    "# This function is useful to get the predicted values for a given date\n",
    "print(inspect.getsource(changeDetectionLib.simpleCCDCPrediction) )"
   ]
  },
  {
   "cell_type": "markdown",
   "id": "606d2c4e-7ca8-44c5-b245-608caec2eb19",
   "metadata": {},
   "source": [
    "* We will now walk through the steps of applying the harmonic model we extracted in the previous step\n",
    "* This will walk through the simpleCCDCPrediction function one step at a time"
   ]
  },
  {
   "cell_type": "code",
   "execution_count": 209,
   "id": "ce300291-417b-461b-97d2-8074913bd806",
   "metadata": {},
   "outputs": [
    {
     "name": "stdout",
     "output_type": "stream",
     "text": [
      "Adding layer: Predicted CCDC 2017.9\n",
      "Starting webmap\n",
      "Using default refresh token for geeView: /home/jupyter/.config/earthengine/credentials\n",
      "Local web server at: http://localhost:1111/geeView/ already serving.\n",
      "cwd /home/jupyter/lcms-training\n",
      "Workbench Proxy URL: https://53c21733d8125e22-dot-us-west3.notebooks.googleusercontent.com/proxy/1111/geeView/?accessToken=None\n"
     ]
    },
    {
     "data": {
      "text/html": [
       "\n",
       "        <iframe\n",
       "            width=\"100%\"\n",
       "            height=\"525px\"\n",
       "            src=\"https://53c21733d8125e22-dot-us-west3.notebooks.googleusercontent.com/proxy/1111/geeView/?accessToken=None\"\n",
       "            frameborder=\"0\"\n",
       "            allowfullscreen\n",
       "            \n",
       "        ></iframe>\n",
       "        "
      ],
      "text/plain": [
       "<IPython.lib.display.IFrame at 0x7f0f9a099c00>"
      ]
     },
     "metadata": {},
     "output_type": "display_data"
    },
    {
     "name": "stderr",
     "output_type": "stream",
     "text": [
      "127.0.0.1 - - [24/Aug/2023 17:45:32] \"GET /geeView/js/runGeeViz.js HTTP/1.1\" 200 -\n"
     ]
    }
   ],
   "source": [
    "Map.clearMap()\n",
    "Map.port = 1111\n",
    "# Specify which harmonics to apply (1,2,3 are available)\n",
    "whichHarmonics = [1,2,3]\n",
    "\n",
    "# Find which bands are available to predict\n",
    "whichBands = coeffsSeg.select(['.*_INTP']).bandNames().map(lambda bn: ee.String(bn).split('_').get(0))\n",
    "whichBands = ee.Dictionary(whichBands.reduce(ee.Reducer.frequencyHistogram())).keys().getInfo()\n",
    "\n",
    "\n",
    "#Unit of each harmonic (1 cycle)\n",
    "omega = ee.Number(2.0).multiply(changeDetectionLib.math.pi)\n",
    "\n",
    "#Pull out the time band in the yyyy.ff format\n",
    "tBand = img.select([timeBandName])\n",
    "\n",
    "#Pull out the intercepts and slopes\n",
    "intercepts = img.select(['.*_INTP'])\n",
    "slopes = img.select(['.*_SLP']).multiply(tBand)\n",
    "\n",
    "#Set up the omega for each harmonic for the given time band\n",
    "tOmega = ee.Image(whichHarmonics).multiply(omega).multiply(tBand)\n",
    "cosHarm = tOmega.cos()\n",
    "sinHarm = tOmega.sin()\n",
    "\n",
    "#Set up which harmonics to select\n",
    "\n",
    "harmSelect = ee.List(whichHarmonics).map(lambda n: ee.String('.*').cat(ee.Number(n).format()))\n",
    "\n",
    "#Select the harmonics specified\n",
    "sins = img.select(['.*_SIN.*'])\n",
    "sins = sins.select(harmSelect)\n",
    "coss = img.select(['.*_COS.*'])\n",
    "coss = coss.select(harmSelect)\n",
    "\n",
    "#Set up final output band names\n",
    "outBns = ee.List(whichBands).map(lambda bn: ee.String(bn).cat('_CCDC_fitted'))\n",
    "\n",
    "#Iterate across each band and predict value\n",
    "def predHelper(bn):\n",
    "    bn = ee.String(bn);\n",
    "    return ee.Image([intercepts.select(bn.cat('_.*')),\n",
    "                    slopes.select(bn.cat('_.*')),\n",
    "                    sins.select(bn.cat('_.*')).multiply(sinHarm),\n",
    "                    coss.select(bn.cat('_.*')).multiply(cosHarm)\n",
    "                    ]).reduce(ee.Reducer.sum());\n",
    "predicted = ee.ImageCollection(list(map(predHelper,whichBands))).toBands().rename(outBns)\n",
    "\n",
    "\n",
    "# View predicted values on the map\n",
    "Map.addLayer(predicted,{'bands':'swir1_CCDC_fitted,nir_CCDC_fitted,red_CCDC_fitted','min':0.05,'max':[0.5,0.8,0.4]},f'Predicted CCDC {date}')\n",
    "Map.turnOnInspector()\n",
    "Map.view()\n",
    "\n",
    "\n"
   ]
  },
  {
   "cell_type": "markdown",
   "id": "c2dbdcc4-4375-4b5c-8505-5e51853c7eae",
   "metadata": {},
   "source": [
    "### Putting it all together\n",
    "\n",
    "* We will now predict the CCDC output over a full time series of date images from the start to the end every tenth of a year\n",
    "* This will allow us to click on the map and see the seasonlity as depicted by CCDC for several banads/indices\n"
   ]
  },
  {
   "cell_type": "code",
   "execution_count": 212,
   "id": "9d2fbb5c-fad5-427c-9af7-8b10fa1f4ea0",
   "metadata": {},
   "outputs": [
    {
     "name": "stdout",
     "output_type": "stream",
     "text": [
      "Adding layer: Fitted CCDC\n",
      "Adding layer: Synthetic Composite\n",
      "Adding layer: year images\n",
      "Starting webmap\n",
      "Using default refresh token for geeView: /home/jupyter/.config/earthengine/credentials\n",
      "Local web server at: http://localhost:1111/geeView/ already serving.\n",
      "cwd /home/jupyter/lcms-training\n",
      "Workbench Proxy URL: https://53c21733d8125e22-dot-us-west3.notebooks.googleusercontent.com/proxy/1111/geeView/?accessToken=None\n"
     ]
    },
    {
     "data": {
      "text/html": [
       "\n",
       "        <iframe\n",
       "            width=\"100%\"\n",
       "            height=\"525px\"\n",
       "            src=\"https://53c21733d8125e22-dot-us-west3.notebooks.googleusercontent.com/proxy/1111/geeView/?accessToken=None\"\n",
       "            frameborder=\"0\"\n",
       "            allowfullscreen\n",
       "            \n",
       "        ></iframe>\n",
       "        "
      ],
      "text/plain": [
       "<IPython.lib.display.IFrame at 0x7f0f9a099c00>"
      ]
     },
     "metadata": {},
     "output_type": "display_data"
    },
    {
     "name": "stderr",
     "output_type": "stream",
     "text": [
      "127.0.0.1 - - [24/Aug/2023 17:48:20] \"GET /geeView/js/runGeeViz.js HTTP/1.1\" 200 -\n"
     ]
    }
   ],
   "source": [
    "# Same workflow follows as with an untiled CCDC output\n",
    "Map.clearMap()\n",
    "#Specify which harmonics to use when predicting the CCDC model\n",
    "#CCDC exports the first 3 harmonics (1 cycle/yr, 2 cycles/yr, and 3 cycles/yr)\n",
    "#If you only want to see yearly patterns, specify [1]\n",
    "#If you would like a tighter fit in the predicted value, include the second or third harmonic as well [1,2,3]\n",
    "whichHarmonics = [1,2,3]\n",
    "\n",
    "#Whether to fill gaps between segments' end year and the subsequent start year to the break date\n",
    "fillGaps = False\n",
    "\n",
    "#Apply the CCDC harmonic model across a time series\n",
    "#First get a time series of time images with a time step of 0.1 of a year\n",
    "yearImages = changeDetectionLib.getTimeImageCollection(startYear,endYear,startJulian,endJulian,0.1);\n",
    "\n",
    "#Then predict the CCDC models\n",
    "fitted = changeDetectionLib.predictCCDC(ccdcImg,yearImages,fillGaps,whichHarmonics)\n",
    "Map.addLayer(fitted.select(['.*_fitted']),{'bands':'swir1_CCDC_fitted,nir_CCDC_fitted,red_CCDC_fitted','min':0.05,'max':0.6},'Fitted CCDC',True);\n",
    "\n",
    "\n",
    "# Synthetic composites visualizing\n",
    "# Take common false color composite bands and visualize them for the next to the last year\n",
    "\n",
    "# First get the bands of predicted bands and then split off the name\n",
    "fittedBns = fitted.select(['.*_fitted']).first().bandNames()\n",
    "bns = fittedBns.map(lambda bn: ee.String(bn).split('_').get(0))\n",
    "\n",
    "# Filter down to the next to the last year and a summer date range\n",
    "syntheticComposites = fitted.select(fittedBns,bns)\\\n",
    "    .filter(ee.Filter.calendarRange(endYear-1,endYear-1,'year'))\\\n",
    "    .filter(ee.Filter.calendarRange(60,80)).first()\n",
    "\n",
    "# Visualize output as you would a composite\n",
    "Map.addLayer(syntheticComposites,getImagesLib.vizParamsFalse,'Synthetic Composite')\n",
    "\n",
    "\n",
    "#visualize time images\n",
    "Map.addLayer(yearImages, {'opacity':0}, \"year images\")\n",
    "Map.turnOnInspector()\n",
    "Map.view()\n",
    "\n"
   ]
  },
  {
   "cell_type": "markdown",
   "id": "b6bfeea0-6536-46ef-8e07-12e448a4dac4",
   "metadata": {},
   "source": [
    "## Challenge!\n",
    "\n",
    "* Predict CCDC NDVI from 2015.9 and 2017.9 and subtract the two to show change. Add the output to a geeView Map, and view it. "
   ]
  },
  {
   "cell_type": "code",
   "execution_count": 213,
   "id": "53491246-4dd9-4e13-bc09-da8d6c6a148c",
   "metadata": {},
   "outputs": [],
   "source": [
    "# Put challenge code solution here"
   ]
  },
  {
   "cell_type": "markdown",
   "id": "19433a61-2cc3-4214-b298-403f17515e75",
   "metadata": {},
   "source": [
    "#### Done with Module 3.2\n",
    "\n",
    "CCDC exported data will be used as inputs in subsequent modules"
   ]
  }
 ],
 "metadata": {
  "colab": {
   "name": "",
   "version": ""
  },
  "environment": {
   "kernel": "python3",
   "name": "common-cpu.m110",
   "type": "gcloud",
   "uri": "gcr.io/deeplearning-platform-release/base-cpu:m110"
  },
  "kernelspec": {
   "display_name": "Python 3",
   "language": "python",
   "name": "python3"
  },
  "language_info": {
   "codemirror_mode": {
    "name": "ipython",
    "version": 3
   },
   "file_extension": ".py",
   "mimetype": "text/x-python",
   "name": "python",
   "nbconvert_exporter": "python",
   "pygments_lexer": "ipython3",
   "version": "3.10.12"
  },
  "toc-autonumbering": false,
  "toc-showcode": false,
  "toc-showmarkdowntxt": false
 },
 "nbformat": 4,
 "nbformat_minor": 5
}
